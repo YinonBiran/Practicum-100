{
 "cells": [
  {
   "cell_type": "markdown",
   "metadata": {},
   "source": [
    "## The purpose of this report : \n",
    "\n",
    "Is to try to determin if a marital status of a customer, and the number of childrenhe of a customer, have an effect on the default of of the customers loan.This based on the data collected by the credit devision. The report will be considered when building the **credit score** of a potential customer."
   ]
  },
  {
   "cell_type": "markdown",
   "metadata": {},
   "source": [
    "## First thing first:\n",
    "\n",
    "We start by see what we have. What information we got, what its quality.the data lies in the credit_scoring_eng.csv file. We need to read the data to see what we are deeling with. What is in this file and how can it help us in our task of trying to determin if the personal status of the customer has a on it ability to return the loan.\n"
   ]
  },
  {
   "cell_type": "code",
   "execution_count": 1,
   "metadata": {},
   "outputs": [
    {
     "data": {
      "text/html": [
       "<div>\n",
       "<style scoped>\n",
       "    .dataframe tbody tr th:only-of-type {\n",
       "        vertical-align: middle;\n",
       "    }\n",
       "\n",
       "    .dataframe tbody tr th {\n",
       "        vertical-align: top;\n",
       "    }\n",
       "\n",
       "    .dataframe thead th {\n",
       "        text-align: right;\n",
       "    }\n",
       "</style>\n",
       "<table border=\"1\" class=\"dataframe\">\n",
       "  <thead>\n",
       "    <tr style=\"text-align: right;\">\n",
       "      <th></th>\n",
       "      <th>children</th>\n",
       "      <th>days_employed</th>\n",
       "      <th>dob_years</th>\n",
       "      <th>education</th>\n",
       "      <th>education_id</th>\n",
       "      <th>family_status</th>\n",
       "      <th>family_status_id</th>\n",
       "      <th>gender</th>\n",
       "      <th>income_type</th>\n",
       "      <th>debt</th>\n",
       "      <th>total_income</th>\n",
       "      <th>purpose</th>\n",
       "    </tr>\n",
       "  </thead>\n",
       "  <tbody>\n",
       "    <tr>\n",
       "      <th>0</th>\n",
       "      <td>1</td>\n",
       "      <td>-8437.673028</td>\n",
       "      <td>42</td>\n",
       "      <td>bachelor's degree</td>\n",
       "      <td>0</td>\n",
       "      <td>married</td>\n",
       "      <td>0</td>\n",
       "      <td>F</td>\n",
       "      <td>employee</td>\n",
       "      <td>0</td>\n",
       "      <td>40620.102</td>\n",
       "      <td>purchase of the house</td>\n",
       "    </tr>\n",
       "    <tr>\n",
       "      <th>1</th>\n",
       "      <td>1</td>\n",
       "      <td>-4024.803754</td>\n",
       "      <td>36</td>\n",
       "      <td>secondary education</td>\n",
       "      <td>1</td>\n",
       "      <td>married</td>\n",
       "      <td>0</td>\n",
       "      <td>F</td>\n",
       "      <td>employee</td>\n",
       "      <td>0</td>\n",
       "      <td>17932.802</td>\n",
       "      <td>car purchase</td>\n",
       "    </tr>\n",
       "    <tr>\n",
       "      <th>2</th>\n",
       "      <td>0</td>\n",
       "      <td>-5623.422610</td>\n",
       "      <td>33</td>\n",
       "      <td>Secondary Education</td>\n",
       "      <td>1</td>\n",
       "      <td>married</td>\n",
       "      <td>0</td>\n",
       "      <td>M</td>\n",
       "      <td>employee</td>\n",
       "      <td>0</td>\n",
       "      <td>23341.752</td>\n",
       "      <td>purchase of the house</td>\n",
       "    </tr>\n",
       "    <tr>\n",
       "      <th>3</th>\n",
       "      <td>3</td>\n",
       "      <td>-4124.747207</td>\n",
       "      <td>32</td>\n",
       "      <td>secondary education</td>\n",
       "      <td>1</td>\n",
       "      <td>married</td>\n",
       "      <td>0</td>\n",
       "      <td>M</td>\n",
       "      <td>employee</td>\n",
       "      <td>0</td>\n",
       "      <td>42820.568</td>\n",
       "      <td>supplementary education</td>\n",
       "    </tr>\n",
       "    <tr>\n",
       "      <th>4</th>\n",
       "      <td>0</td>\n",
       "      <td>340266.072047</td>\n",
       "      <td>53</td>\n",
       "      <td>secondary education</td>\n",
       "      <td>1</td>\n",
       "      <td>civil partnership</td>\n",
       "      <td>1</td>\n",
       "      <td>F</td>\n",
       "      <td>retiree</td>\n",
       "      <td>0</td>\n",
       "      <td>25378.572</td>\n",
       "      <td>to have a wedding</td>\n",
       "    </tr>\n",
       "  </tbody>\n",
       "</table>\n",
       "</div>"
      ],
      "text/plain": [
       "   children  days_employed  dob_years            education  education_id  \\\n",
       "0         1   -8437.673028         42    bachelor's degree             0   \n",
       "1         1   -4024.803754         36  secondary education             1   \n",
       "2         0   -5623.422610         33  Secondary Education             1   \n",
       "3         3   -4124.747207         32  secondary education             1   \n",
       "4         0  340266.072047         53  secondary education             1   \n",
       "\n",
       "       family_status  family_status_id gender income_type  debt  total_income  \\\n",
       "0            married                 0      F    employee     0     40620.102   \n",
       "1            married                 0      F    employee     0     17932.802   \n",
       "2            married                 0      M    employee     0     23341.752   \n",
       "3            married                 0      M    employee     0     42820.568   \n",
       "4  civil partnership                 1      F     retiree     0     25378.572   \n",
       "\n",
       "                   purpose  \n",
       "0    purchase of the house  \n",
       "1             car purchase  \n",
       "2    purchase of the house  \n",
       "3  supplementary education  \n",
       "4        to have a wedding  "
      ]
     },
     "execution_count": 1,
     "metadata": {},
     "output_type": "execute_result"
    }
   ],
   "source": [
    "# Loading all the libraries\n",
    "import pandas as pd\n",
    "import numpy as np\n",
    "\n",
    "# Load the data\n",
    "#the credit_df veriable, will be used for storing the data from the CSV file we got.\n",
    "#we will use try-except to be able to read the file also if it is localy saved\n",
    "\n",
    "try:\n",
    "    credit_df = pd.read_csv('/datasets/credit_scoring_eng.csv') #platform saved\n",
    "    \n",
    "except:\n",
    "    credit_df = pd.read_csv('credit_scoring_eng.csv') #localy saved\n",
    "\n",
    "credit_df.head() # printing the first 5 rows to see the load went ok and we got the data we were expecting \n",
    "                #This print is without a python print() command due to the nature of the print format, that is\n",
    "                # more readable, then if I used the command - probably due to the nature of the Jupiter notebook\n"
   ]
  },
  {
   "cell_type": "markdown",
   "metadata": {},
   "source": [
    "## Task 1. Data exploration\n",
    "\n",
    "**Description of the data**\n",
    "- `children` - the number of children in the family\n",
    "- `days_employed` - work experience in days\n",
    "- `dob_years` - client's age in years\n",
    "- `education` - client's education\n",
    "- `education_id` - education identifier\n",
    "- `family_status` - marital status\n",
    "- `family_status_id` - marital status identifier\n",
    "- `gender` - gender of the client\n",
    "- `income_type` - type of employment\n",
    "- `debt` - was there any debt on loan repayment\n",
    "- `total_income` - monthly income\n",
    "- `purpose` - the purpose of obtaining a loan\n",
    "\n",
    "\n",
    "    **The data in now loaded and we need to proces it for analyzing. First we will check the structure of the table,then we will need to look on  column lables to see if there are any issues we need to fix. after that we will need to deal with missing and duplicated values - if we will see that tere are any."
   ]
  },
  {
   "cell_type": "code",
   "execution_count": 2,
   "metadata": {},
   "outputs": [
    {
     "data": {
      "text/plain": [
       "(21525, 12)"
      ]
     },
     "execution_count": 2,
     "metadata": {},
     "output_type": "execute_result"
    }
   ],
   "source": [
    "# Let's see how many rows and columns our dataset has\n",
    "#using the shape methode will give us the idea of how much data are we dealing with? Is this database large \n",
    "#enough to get any conclusion from.\n",
    "\n",
    "credit_df.shape"
   ]
  },
  {
   "cell_type": "markdown",
   "metadata": {},
   "source": [
    "We have 21,525 records of raw data. Lets print a sample to have some bettre look on potential issues\n",
    "But there is One thing we must do Before we go on is to look at the column names, to see ant structural issues.\n",
    "just to make sure."
   ]
  },
  {
   "cell_type": "code",
   "execution_count": 3,
   "metadata": {},
   "outputs": [
    {
     "data": {
      "text/plain": [
       "Index(['children', 'days_employed', 'dob_years', 'education', 'education_id',\n",
       "       'family_status', 'family_status_id', 'gender', 'income_type', 'debt',\n",
       "       'total_income', 'purpose'],\n",
       "      dtype='object')"
      ]
     },
     "execution_count": 3,
     "metadata": {},
     "output_type": "execute_result"
    }
   ],
   "source": [
    "credit_df.columns # printing the column header to look for any structural of miss_type errors"
   ]
  },
  {
   "cell_type": "markdown",
   "metadata": {},
   "source": [
    "Examining the header, shows that there are no structural nor spelling or typing errors. So we can proceed to examit the data it self."
   ]
  },
  {
   "cell_type": "code",
   "execution_count": 4,
   "metadata": {
    "scrolled": true
   },
   "outputs": [
    {
     "data": {
      "text/html": [
       "<div>\n",
       "<style scoped>\n",
       "    .dataframe tbody tr th:only-of-type {\n",
       "        vertical-align: middle;\n",
       "    }\n",
       "\n",
       "    .dataframe tbody tr th {\n",
       "        vertical-align: top;\n",
       "    }\n",
       "\n",
       "    .dataframe thead th {\n",
       "        text-align: right;\n",
       "    }\n",
       "</style>\n",
       "<table border=\"1\" class=\"dataframe\">\n",
       "  <thead>\n",
       "    <tr style=\"text-align: right;\">\n",
       "      <th></th>\n",
       "      <th>children</th>\n",
       "      <th>days_employed</th>\n",
       "      <th>dob_years</th>\n",
       "      <th>education</th>\n",
       "      <th>education_id</th>\n",
       "      <th>family_status</th>\n",
       "      <th>family_status_id</th>\n",
       "      <th>gender</th>\n",
       "      <th>income_type</th>\n",
       "      <th>debt</th>\n",
       "      <th>total_income</th>\n",
       "      <th>purpose</th>\n",
       "    </tr>\n",
       "  </thead>\n",
       "  <tbody>\n",
       "    <tr>\n",
       "      <th>0</th>\n",
       "      <td>1</td>\n",
       "      <td>-8437.673028</td>\n",
       "      <td>42</td>\n",
       "      <td>bachelor's degree</td>\n",
       "      <td>0</td>\n",
       "      <td>married</td>\n",
       "      <td>0</td>\n",
       "      <td>F</td>\n",
       "      <td>employee</td>\n",
       "      <td>0</td>\n",
       "      <td>40620.102</td>\n",
       "      <td>purchase of the house</td>\n",
       "    </tr>\n",
       "    <tr>\n",
       "      <th>1</th>\n",
       "      <td>1</td>\n",
       "      <td>-4024.803754</td>\n",
       "      <td>36</td>\n",
       "      <td>secondary education</td>\n",
       "      <td>1</td>\n",
       "      <td>married</td>\n",
       "      <td>0</td>\n",
       "      <td>F</td>\n",
       "      <td>employee</td>\n",
       "      <td>0</td>\n",
       "      <td>17932.802</td>\n",
       "      <td>car purchase</td>\n",
       "    </tr>\n",
       "    <tr>\n",
       "      <th>2</th>\n",
       "      <td>0</td>\n",
       "      <td>-5623.422610</td>\n",
       "      <td>33</td>\n",
       "      <td>Secondary Education</td>\n",
       "      <td>1</td>\n",
       "      <td>married</td>\n",
       "      <td>0</td>\n",
       "      <td>M</td>\n",
       "      <td>employee</td>\n",
       "      <td>0</td>\n",
       "      <td>23341.752</td>\n",
       "      <td>purchase of the house</td>\n",
       "    </tr>\n",
       "    <tr>\n",
       "      <th>3</th>\n",
       "      <td>3</td>\n",
       "      <td>-4124.747207</td>\n",
       "      <td>32</td>\n",
       "      <td>secondary education</td>\n",
       "      <td>1</td>\n",
       "      <td>married</td>\n",
       "      <td>0</td>\n",
       "      <td>M</td>\n",
       "      <td>employee</td>\n",
       "      <td>0</td>\n",
       "      <td>42820.568</td>\n",
       "      <td>supplementary education</td>\n",
       "    </tr>\n",
       "    <tr>\n",
       "      <th>4</th>\n",
       "      <td>0</td>\n",
       "      <td>340266.072047</td>\n",
       "      <td>53</td>\n",
       "      <td>secondary education</td>\n",
       "      <td>1</td>\n",
       "      <td>civil partnership</td>\n",
       "      <td>1</td>\n",
       "      <td>F</td>\n",
       "      <td>retiree</td>\n",
       "      <td>0</td>\n",
       "      <td>25378.572</td>\n",
       "      <td>to have a wedding</td>\n",
       "    </tr>\n",
       "    <tr>\n",
       "      <th>...</th>\n",
       "      <td>...</td>\n",
       "      <td>...</td>\n",
       "      <td>...</td>\n",
       "      <td>...</td>\n",
       "      <td>...</td>\n",
       "      <td>...</td>\n",
       "      <td>...</td>\n",
       "      <td>...</td>\n",
       "      <td>...</td>\n",
       "      <td>...</td>\n",
       "      <td>...</td>\n",
       "      <td>...</td>\n",
       "    </tr>\n",
       "    <tr>\n",
       "      <th>95</th>\n",
       "      <td>0</td>\n",
       "      <td>-541.832241</td>\n",
       "      <td>51</td>\n",
       "      <td>bachelor's degree</td>\n",
       "      <td>0</td>\n",
       "      <td>married</td>\n",
       "      <td>0</td>\n",
       "      <td>F</td>\n",
       "      <td>employee</td>\n",
       "      <td>0</td>\n",
       "      <td>15070.060</td>\n",
       "      <td>car</td>\n",
       "    </tr>\n",
       "    <tr>\n",
       "      <th>96</th>\n",
       "      <td>0</td>\n",
       "      <td>NaN</td>\n",
       "      <td>44</td>\n",
       "      <td>SECONDARY EDUCATION</td>\n",
       "      <td>1</td>\n",
       "      <td>married</td>\n",
       "      <td>0</td>\n",
       "      <td>F</td>\n",
       "      <td>employee</td>\n",
       "      <td>0</td>\n",
       "      <td>NaN</td>\n",
       "      <td>buy residential real estate</td>\n",
       "    </tr>\n",
       "    <tr>\n",
       "      <th>97</th>\n",
       "      <td>0</td>\n",
       "      <td>NaN</td>\n",
       "      <td>47</td>\n",
       "      <td>bachelor's degree</td>\n",
       "      <td>0</td>\n",
       "      <td>married</td>\n",
       "      <td>0</td>\n",
       "      <td>F</td>\n",
       "      <td>employee</td>\n",
       "      <td>0</td>\n",
       "      <td>NaN</td>\n",
       "      <td>profile education</td>\n",
       "    </tr>\n",
       "    <tr>\n",
       "      <th>98</th>\n",
       "      <td>0</td>\n",
       "      <td>364906.205736</td>\n",
       "      <td>54</td>\n",
       "      <td>bachelor's degree</td>\n",
       "      <td>0</td>\n",
       "      <td>married</td>\n",
       "      <td>0</td>\n",
       "      <td>F</td>\n",
       "      <td>retiree</td>\n",
       "      <td>0</td>\n",
       "      <td>31953.168</td>\n",
       "      <td>buying property for renting out</td>\n",
       "    </tr>\n",
       "    <tr>\n",
       "      <th>99</th>\n",
       "      <td>0</td>\n",
       "      <td>346541.618895</td>\n",
       "      <td>0</td>\n",
       "      <td>Secondary Education</td>\n",
       "      <td>1</td>\n",
       "      <td>married</td>\n",
       "      <td>0</td>\n",
       "      <td>F</td>\n",
       "      <td>retiree</td>\n",
       "      <td>0</td>\n",
       "      <td>11406.644</td>\n",
       "      <td>car</td>\n",
       "    </tr>\n",
       "  </tbody>\n",
       "</table>\n",
       "<p>100 rows × 12 columns</p>\n",
       "</div>"
      ],
      "text/plain": [
       "    children  days_employed  dob_years            education  education_id  \\\n",
       "0          1   -8437.673028         42    bachelor's degree             0   \n",
       "1          1   -4024.803754         36  secondary education             1   \n",
       "2          0   -5623.422610         33  Secondary Education             1   \n",
       "3          3   -4124.747207         32  secondary education             1   \n",
       "4          0  340266.072047         53  secondary education             1   \n",
       "..       ...            ...        ...                  ...           ...   \n",
       "95         0    -541.832241         51    bachelor's degree             0   \n",
       "96         0            NaN         44  SECONDARY EDUCATION             1   \n",
       "97         0            NaN         47    bachelor's degree             0   \n",
       "98         0  364906.205736         54    bachelor's degree             0   \n",
       "99         0  346541.618895          0  Secondary Education             1   \n",
       "\n",
       "        family_status  family_status_id gender income_type  debt  \\\n",
       "0             married                 0      F    employee     0   \n",
       "1             married                 0      F    employee     0   \n",
       "2             married                 0      M    employee     0   \n",
       "3             married                 0      M    employee     0   \n",
       "4   civil partnership                 1      F     retiree     0   \n",
       "..                ...               ...    ...         ...   ...   \n",
       "95            married                 0      F    employee     0   \n",
       "96            married                 0      F    employee     0   \n",
       "97            married                 0      F    employee     0   \n",
       "98            married                 0      F     retiree     0   \n",
       "99            married                 0      F     retiree     0   \n",
       "\n",
       "    total_income                          purpose  \n",
       "0      40620.102            purchase of the house  \n",
       "1      17932.802                     car purchase  \n",
       "2      23341.752            purchase of the house  \n",
       "3      42820.568          supplementary education  \n",
       "4      25378.572                to have a wedding  \n",
       "..           ...                              ...  \n",
       "95     15070.060                              car  \n",
       "96           NaN      buy residential real estate  \n",
       "97           NaN                profile education  \n",
       "98     31953.168  buying property for renting out  \n",
       "99     11406.644                              car  \n",
       "\n",
       "[100 rows x 12 columns]"
      ]
     },
     "execution_count": 4,
     "metadata": {},
     "output_type": "execute_result"
    }
   ],
   "source": [
    "# let's print the first 100 rows of the credit_df table\n",
    "\n",
    "credit_df.head(100) #since we have such a large database we nead a wider look - an less then the firs 100 rows will\n",
    "                    #not do, in order to scan for potential issues with the raw data we got.\n",
    "\n"
   ]
  },
  {
   "cell_type": "markdown",
   "metadata": {},
   "source": [
    "The first thing that strikes the eye id, that we have negative values in the 'days_employed' column, where all values should be positive(If a person worked even only one day in its life , the value is at least 1 and if he never worked the value should be 0) \n",
    "This brings me to the second issue, we can detect - missing values in the  'days_employed' and 'total_income' columns represented by NaN values. we will need to get more information, because we will need to prepare the data and \"clean\" it befor we can use it."
   ]
  },
  {
   "cell_type": "code",
   "execution_count": 5,
   "metadata": {
    "scrolled": false
   },
   "outputs": [
    {
     "name": "stdout",
     "output_type": "stream",
     "text": [
      "<class 'pandas.core.frame.DataFrame'>\n",
      "RangeIndex: 21525 entries, 0 to 21524\n",
      "Data columns (total 12 columns):\n",
      " #   Column            Non-Null Count  Dtype  \n",
      "---  ------            --------------  -----  \n",
      " 0   children          21525 non-null  int64  \n",
      " 1   days_employed     19351 non-null  float64\n",
      " 2   dob_years         21525 non-null  int64  \n",
      " 3   education         21525 non-null  object \n",
      " 4   education_id      21525 non-null  int64  \n",
      " 5   family_status     21525 non-null  object \n",
      " 6   family_status_id  21525 non-null  int64  \n",
      " 7   gender            21525 non-null  object \n",
      " 8   income_type       21525 non-null  object \n",
      " 9   debt              21525 non-null  int64  \n",
      " 10  total_income      19351 non-null  float64\n",
      " 11  purpose           21525 non-null  object \n",
      "dtypes: float64(2), int64(5), object(5)\n",
      "memory usage: 2.0+ MB\n"
     ]
    }
   ],
   "source": [
    "# Get info on data using the info() function will give us more detailed information on the distributon of the data,\n",
    "#its data type structure and uniformity  of the values.\n",
    "credit_df.info()\n"
   ]
  },
  {
   "cell_type": "markdown",
   "metadata": {},
   "source": [
    "From a glance in the data we can see that both 'days_employed' column and 'total_income' column , have the same amount of missing values. although it istha same amount we can not draw a conclusion that there is a symmetry in the rows where they appear. we will need to filter the data where there are null values, and see  if they consist with the number of missing values in both columns"
   ]
  },
  {
   "cell_type": "code",
   "execution_count": 6,
   "metadata": {
    "scrolled": true
   },
   "outputs": [
    {
     "name": "stdout",
     "output_type": "stream",
     "text": [
      "children                              0\n",
      "days_employed                       NaN\n",
      "dob_years                            65\n",
      "education           secondary education\n",
      "education_id                          1\n",
      "family_status         civil partnership\n",
      "family_status_id                      1\n",
      "gender                                M\n",
      "income_type                     retiree\n",
      "debt                                  0\n",
      "total_income                        NaN\n",
      "purpose               to have a wedding\n",
      "Name: 12, dtype: object\n",
      "\n",
      "\n",
      "**The number of records in the \"days_employed\" column is: 2174\n"
     ]
    }
   ],
   "source": [
    "# Let's look in the filtered table at the first column with missing data \n",
    "#using isnull() will return all the data that has missing values. \n",
    "#the len_miss_data will save the number of missing values we found. \n",
    "\n",
    "credit_df_days_null = credit_df.loc[(credit_df['days_employed'].isna())] # filterin the data of 'days_employed'\n",
    "                                                                        #with null values to new credit_df_null veriable\n",
    "\n",
    "len_miss_data = len(credit_df_days_null) # the number of records with the null value in 'days_employed' \n",
    "print(credit_df_days_null.iloc[0]) #printing the first row with the missing data\n",
    "print()\n",
    "print('\\n**The number of records in the \"days_employed\" column is: {}'.format(len_miss_data)) #print the number of records that this filtered data has\n"
   ]
  },
  {
   "cell_type": "markdown",
   "metadata": {},
   "source": [
    "when we look on the first row with missing values from 'days_employed' column, we can see tat on the same line the 'total_income' has also a null value so in this case there is symetry between the two columns.\n",
    "If we want to see if all the null values are symetrical, in bothe columns , me must show that the same number of rows is consistent in both columns query snd the single column query ('total_income' and 'days_employed' columns) if we will see that we have the same amount of missing values,then we can conclude that there is a symetry in both columns, with the missing values, meening where there is a missing value in 'total_income' column, we will see in the same row a missing value in the 'days_employed' column, and vers versa."
   ]
  },
  {
   "cell_type": "markdown",
   "metadata": {},
   "source": [
    "**Intermediate conclusion**\n",
    "\n",
    "Our immidiate conclusion is that The numbe of rows is shows that there is a symetry on both \"days_employed\" column and \"total_income\" ,is the same and from that we can conclude that there is a symetry in bothe columns where there are missing values.\n",
    "\n",
    "The total percantage of the missing values in the table is there for 9.97% almst 10% of the data.\n",
    "It is not that considrable part of the data(we have 19,351 records with of data), and if we will make a conclusion that the nature of these rows will not have an impact on our final assesment we can delete them all togather and move on, to check the remaining data.\n",
    "\n",
    "we will need to check now the characteristic of the clients that have no values in these columns.\n",
    "we already mde the 'credit_df_null veriable to obtain all the records with the missing values. let us now check if there is somthing common with the customers' data.\n",
    "\n",
    "if there is somthing incommon we will not be able to delet these rows and will have to fill the missing values. But if we will get to a conclusion that there is no common ground to the records, and there is seems to be a random resone for the missing values, we can then considre deleting the rows and moov on with the data checking.\n",
    "\n",
    "But First - we must print some of the rows with the missing data to see if there is an obvious pattern.\n"
   ]
  },
  {
   "cell_type": "code",
   "execution_count": 7,
   "metadata": {},
   "outputs": [
    {
     "data": {
      "text/html": [
       "<div>\n",
       "<style scoped>\n",
       "    .dataframe tbody tr th:only-of-type {\n",
       "        vertical-align: middle;\n",
       "    }\n",
       "\n",
       "    .dataframe tbody tr th {\n",
       "        vertical-align: top;\n",
       "    }\n",
       "\n",
       "    .dataframe thead th {\n",
       "        text-align: right;\n",
       "    }\n",
       "</style>\n",
       "<table border=\"1\" class=\"dataframe\">\n",
       "  <thead>\n",
       "    <tr style=\"text-align: right;\">\n",
       "      <th></th>\n",
       "      <th>children</th>\n",
       "      <th>days_employed</th>\n",
       "      <th>dob_years</th>\n",
       "      <th>education</th>\n",
       "      <th>education_id</th>\n",
       "      <th>family_status</th>\n",
       "      <th>family_status_id</th>\n",
       "      <th>gender</th>\n",
       "      <th>income_type</th>\n",
       "      <th>debt</th>\n",
       "      <th>total_income</th>\n",
       "      <th>purpose</th>\n",
       "    </tr>\n",
       "  </thead>\n",
       "  <tbody>\n",
       "    <tr>\n",
       "      <th>12</th>\n",
       "      <td>0</td>\n",
       "      <td>NaN</td>\n",
       "      <td>65</td>\n",
       "      <td>secondary education</td>\n",
       "      <td>1</td>\n",
       "      <td>civil partnership</td>\n",
       "      <td>1</td>\n",
       "      <td>M</td>\n",
       "      <td>retiree</td>\n",
       "      <td>0</td>\n",
       "      <td>NaN</td>\n",
       "      <td>to have a wedding</td>\n",
       "    </tr>\n",
       "    <tr>\n",
       "      <th>26</th>\n",
       "      <td>0</td>\n",
       "      <td>NaN</td>\n",
       "      <td>41</td>\n",
       "      <td>secondary education</td>\n",
       "      <td>1</td>\n",
       "      <td>married</td>\n",
       "      <td>0</td>\n",
       "      <td>M</td>\n",
       "      <td>civil servant</td>\n",
       "      <td>0</td>\n",
       "      <td>NaN</td>\n",
       "      <td>education</td>\n",
       "    </tr>\n",
       "    <tr>\n",
       "      <th>29</th>\n",
       "      <td>0</td>\n",
       "      <td>NaN</td>\n",
       "      <td>63</td>\n",
       "      <td>secondary education</td>\n",
       "      <td>1</td>\n",
       "      <td>unmarried</td>\n",
       "      <td>4</td>\n",
       "      <td>F</td>\n",
       "      <td>retiree</td>\n",
       "      <td>0</td>\n",
       "      <td>NaN</td>\n",
       "      <td>building a real estate</td>\n",
       "    </tr>\n",
       "    <tr>\n",
       "      <th>41</th>\n",
       "      <td>0</td>\n",
       "      <td>NaN</td>\n",
       "      <td>50</td>\n",
       "      <td>secondary education</td>\n",
       "      <td>1</td>\n",
       "      <td>married</td>\n",
       "      <td>0</td>\n",
       "      <td>F</td>\n",
       "      <td>civil servant</td>\n",
       "      <td>0</td>\n",
       "      <td>NaN</td>\n",
       "      <td>second-hand car purchase</td>\n",
       "    </tr>\n",
       "    <tr>\n",
       "      <th>55</th>\n",
       "      <td>0</td>\n",
       "      <td>NaN</td>\n",
       "      <td>54</td>\n",
       "      <td>secondary education</td>\n",
       "      <td>1</td>\n",
       "      <td>civil partnership</td>\n",
       "      <td>1</td>\n",
       "      <td>F</td>\n",
       "      <td>retiree</td>\n",
       "      <td>1</td>\n",
       "      <td>NaN</td>\n",
       "      <td>to have a wedding</td>\n",
       "    </tr>\n",
       "    <tr>\n",
       "      <th>65</th>\n",
       "      <td>0</td>\n",
       "      <td>NaN</td>\n",
       "      <td>21</td>\n",
       "      <td>secondary education</td>\n",
       "      <td>1</td>\n",
       "      <td>unmarried</td>\n",
       "      <td>4</td>\n",
       "      <td>M</td>\n",
       "      <td>business</td>\n",
       "      <td>0</td>\n",
       "      <td>NaN</td>\n",
       "      <td>transactions with commercial real estate</td>\n",
       "    </tr>\n",
       "    <tr>\n",
       "      <th>67</th>\n",
       "      <td>0</td>\n",
       "      <td>NaN</td>\n",
       "      <td>52</td>\n",
       "      <td>bachelor's degree</td>\n",
       "      <td>0</td>\n",
       "      <td>married</td>\n",
       "      <td>0</td>\n",
       "      <td>F</td>\n",
       "      <td>retiree</td>\n",
       "      <td>0</td>\n",
       "      <td>NaN</td>\n",
       "      <td>purchase of the house for my family</td>\n",
       "    </tr>\n",
       "    <tr>\n",
       "      <th>72</th>\n",
       "      <td>1</td>\n",
       "      <td>NaN</td>\n",
       "      <td>32</td>\n",
       "      <td>bachelor's degree</td>\n",
       "      <td>0</td>\n",
       "      <td>married</td>\n",
       "      <td>0</td>\n",
       "      <td>M</td>\n",
       "      <td>civil servant</td>\n",
       "      <td>0</td>\n",
       "      <td>NaN</td>\n",
       "      <td>transactions with commercial real estate</td>\n",
       "    </tr>\n",
       "    <tr>\n",
       "      <th>82</th>\n",
       "      <td>2</td>\n",
       "      <td>NaN</td>\n",
       "      <td>50</td>\n",
       "      <td>bachelor's degree</td>\n",
       "      <td>0</td>\n",
       "      <td>married</td>\n",
       "      <td>0</td>\n",
       "      <td>F</td>\n",
       "      <td>employee</td>\n",
       "      <td>0</td>\n",
       "      <td>NaN</td>\n",
       "      <td>housing</td>\n",
       "    </tr>\n",
       "    <tr>\n",
       "      <th>83</th>\n",
       "      <td>0</td>\n",
       "      <td>NaN</td>\n",
       "      <td>52</td>\n",
       "      <td>secondary education</td>\n",
       "      <td>1</td>\n",
       "      <td>married</td>\n",
       "      <td>0</td>\n",
       "      <td>M</td>\n",
       "      <td>employee</td>\n",
       "      <td>0</td>\n",
       "      <td>NaN</td>\n",
       "      <td>housing</td>\n",
       "    </tr>\n",
       "    <tr>\n",
       "      <th>90</th>\n",
       "      <td>2</td>\n",
       "      <td>NaN</td>\n",
       "      <td>35</td>\n",
       "      <td>bachelor's degree</td>\n",
       "      <td>0</td>\n",
       "      <td>married</td>\n",
       "      <td>0</td>\n",
       "      <td>F</td>\n",
       "      <td>employee</td>\n",
       "      <td>0</td>\n",
       "      <td>NaN</td>\n",
       "      <td>housing transactions</td>\n",
       "    </tr>\n",
       "    <tr>\n",
       "      <th>94</th>\n",
       "      <td>1</td>\n",
       "      <td>NaN</td>\n",
       "      <td>34</td>\n",
       "      <td>bachelor's degree</td>\n",
       "      <td>0</td>\n",
       "      <td>civil partnership</td>\n",
       "      <td>1</td>\n",
       "      <td>F</td>\n",
       "      <td>business</td>\n",
       "      <td>0</td>\n",
       "      <td>NaN</td>\n",
       "      <td>having a wedding</td>\n",
       "    </tr>\n",
       "    <tr>\n",
       "      <th>96</th>\n",
       "      <td>0</td>\n",
       "      <td>NaN</td>\n",
       "      <td>44</td>\n",
       "      <td>SECONDARY EDUCATION</td>\n",
       "      <td>1</td>\n",
       "      <td>married</td>\n",
       "      <td>0</td>\n",
       "      <td>F</td>\n",
       "      <td>employee</td>\n",
       "      <td>0</td>\n",
       "      <td>NaN</td>\n",
       "      <td>buy residential real estate</td>\n",
       "    </tr>\n",
       "    <tr>\n",
       "      <th>97</th>\n",
       "      <td>0</td>\n",
       "      <td>NaN</td>\n",
       "      <td>47</td>\n",
       "      <td>bachelor's degree</td>\n",
       "      <td>0</td>\n",
       "      <td>married</td>\n",
       "      <td>0</td>\n",
       "      <td>F</td>\n",
       "      <td>employee</td>\n",
       "      <td>0</td>\n",
       "      <td>NaN</td>\n",
       "      <td>profile education</td>\n",
       "    </tr>\n",
       "    <tr>\n",
       "      <th>120</th>\n",
       "      <td>0</td>\n",
       "      <td>NaN</td>\n",
       "      <td>46</td>\n",
       "      <td>secondary education</td>\n",
       "      <td>1</td>\n",
       "      <td>married</td>\n",
       "      <td>0</td>\n",
       "      <td>F</td>\n",
       "      <td>employee</td>\n",
       "      <td>0</td>\n",
       "      <td>NaN</td>\n",
       "      <td>university education</td>\n",
       "    </tr>\n",
       "    <tr>\n",
       "      <th>121</th>\n",
       "      <td>0</td>\n",
       "      <td>NaN</td>\n",
       "      <td>29</td>\n",
       "      <td>bachelor's degree</td>\n",
       "      <td>0</td>\n",
       "      <td>married</td>\n",
       "      <td>0</td>\n",
       "      <td>F</td>\n",
       "      <td>business</td>\n",
       "      <td>0</td>\n",
       "      <td>NaN</td>\n",
       "      <td>car</td>\n",
       "    </tr>\n",
       "    <tr>\n",
       "      <th>135</th>\n",
       "      <td>0</td>\n",
       "      <td>NaN</td>\n",
       "      <td>27</td>\n",
       "      <td>secondary education</td>\n",
       "      <td>1</td>\n",
       "      <td>married</td>\n",
       "      <td>0</td>\n",
       "      <td>M</td>\n",
       "      <td>business</td>\n",
       "      <td>0</td>\n",
       "      <td>NaN</td>\n",
       "      <td>housing</td>\n",
       "    </tr>\n",
       "    <tr>\n",
       "      <th>141</th>\n",
       "      <td>0</td>\n",
       "      <td>NaN</td>\n",
       "      <td>39</td>\n",
       "      <td>secondary education</td>\n",
       "      <td>1</td>\n",
       "      <td>civil partnership</td>\n",
       "      <td>1</td>\n",
       "      <td>M</td>\n",
       "      <td>employee</td>\n",
       "      <td>0</td>\n",
       "      <td>NaN</td>\n",
       "      <td>wedding ceremony</td>\n",
       "    </tr>\n",
       "    <tr>\n",
       "      <th>145</th>\n",
       "      <td>0</td>\n",
       "      <td>NaN</td>\n",
       "      <td>62</td>\n",
       "      <td>secondary education</td>\n",
       "      <td>1</td>\n",
       "      <td>married</td>\n",
       "      <td>0</td>\n",
       "      <td>M</td>\n",
       "      <td>retiree</td>\n",
       "      <td>0</td>\n",
       "      <td>NaN</td>\n",
       "      <td>building a property</td>\n",
       "    </tr>\n",
       "    <tr>\n",
       "      <th>174</th>\n",
       "      <td>0</td>\n",
       "      <td>NaN</td>\n",
       "      <td>55</td>\n",
       "      <td>bachelor's degree</td>\n",
       "      <td>0</td>\n",
       "      <td>widow / widower</td>\n",
       "      <td>2</td>\n",
       "      <td>F</td>\n",
       "      <td>business</td>\n",
       "      <td>0</td>\n",
       "      <td>NaN</td>\n",
       "      <td>to own a car</td>\n",
       "    </tr>\n",
       "    <tr>\n",
       "      <th>181</th>\n",
       "      <td>0</td>\n",
       "      <td>NaN</td>\n",
       "      <td>26</td>\n",
       "      <td>secondary education</td>\n",
       "      <td>1</td>\n",
       "      <td>civil partnership</td>\n",
       "      <td>1</td>\n",
       "      <td>F</td>\n",
       "      <td>business</td>\n",
       "      <td>1</td>\n",
       "      <td>NaN</td>\n",
       "      <td>purchase of the house for my family</td>\n",
       "    </tr>\n",
       "    <tr>\n",
       "      <th>189</th>\n",
       "      <td>1</td>\n",
       "      <td>NaN</td>\n",
       "      <td>30</td>\n",
       "      <td>secondary education</td>\n",
       "      <td>1</td>\n",
       "      <td>unmarried</td>\n",
       "      <td>4</td>\n",
       "      <td>F</td>\n",
       "      <td>employee</td>\n",
       "      <td>0</td>\n",
       "      <td>NaN</td>\n",
       "      <td>to own a car</td>\n",
       "    </tr>\n",
       "    <tr>\n",
       "      <th>205</th>\n",
       "      <td>1</td>\n",
       "      <td>NaN</td>\n",
       "      <td>31</td>\n",
       "      <td>bachelor's degree</td>\n",
       "      <td>0</td>\n",
       "      <td>married</td>\n",
       "      <td>0</td>\n",
       "      <td>F</td>\n",
       "      <td>employee</td>\n",
       "      <td>0</td>\n",
       "      <td>NaN</td>\n",
       "      <td>buying a second-hand car</td>\n",
       "    </tr>\n",
       "    <tr>\n",
       "      <th>220</th>\n",
       "      <td>1</td>\n",
       "      <td>NaN</td>\n",
       "      <td>23</td>\n",
       "      <td>some college</td>\n",
       "      <td>2</td>\n",
       "      <td>civil partnership</td>\n",
       "      <td>1</td>\n",
       "      <td>F</td>\n",
       "      <td>business</td>\n",
       "      <td>0</td>\n",
       "      <td>NaN</td>\n",
       "      <td>to have a wedding</td>\n",
       "    </tr>\n",
       "    <tr>\n",
       "      <th>241</th>\n",
       "      <td>0</td>\n",
       "      <td>NaN</td>\n",
       "      <td>47</td>\n",
       "      <td>secondary education</td>\n",
       "      <td>1</td>\n",
       "      <td>married</td>\n",
       "      <td>0</td>\n",
       "      <td>M</td>\n",
       "      <td>employee</td>\n",
       "      <td>0</td>\n",
       "      <td>NaN</td>\n",
       "      <td>construction of own property</td>\n",
       "    </tr>\n",
       "    <tr>\n",
       "      <th>242</th>\n",
       "      <td>0</td>\n",
       "      <td>NaN</td>\n",
       "      <td>58</td>\n",
       "      <td>secondary education</td>\n",
       "      <td>1</td>\n",
       "      <td>married</td>\n",
       "      <td>0</td>\n",
       "      <td>F</td>\n",
       "      <td>civil servant</td>\n",
       "      <td>0</td>\n",
       "      <td>NaN</td>\n",
       "      <td>purchase of my own house</td>\n",
       "    </tr>\n",
       "    <tr>\n",
       "      <th>247</th>\n",
       "      <td>1</td>\n",
       "      <td>NaN</td>\n",
       "      <td>60</td>\n",
       "      <td>bachelor's degree</td>\n",
       "      <td>0</td>\n",
       "      <td>married</td>\n",
       "      <td>0</td>\n",
       "      <td>F</td>\n",
       "      <td>retiree</td>\n",
       "      <td>1</td>\n",
       "      <td>NaN</td>\n",
       "      <td>going to university</td>\n",
       "    </tr>\n",
       "    <tr>\n",
       "      <th>250</th>\n",
       "      <td>0</td>\n",
       "      <td>NaN</td>\n",
       "      <td>54</td>\n",
       "      <td>bachelor's degree</td>\n",
       "      <td>0</td>\n",
       "      <td>married</td>\n",
       "      <td>0</td>\n",
       "      <td>F</td>\n",
       "      <td>employee</td>\n",
       "      <td>0</td>\n",
       "      <td>NaN</td>\n",
       "      <td>second-hand car purchase</td>\n",
       "    </tr>\n",
       "    <tr>\n",
       "      <th>264</th>\n",
       "      <td>2</td>\n",
       "      <td>NaN</td>\n",
       "      <td>40</td>\n",
       "      <td>secondary education</td>\n",
       "      <td>1</td>\n",
       "      <td>divorced</td>\n",
       "      <td>3</td>\n",
       "      <td>F</td>\n",
       "      <td>employee</td>\n",
       "      <td>0</td>\n",
       "      <td>NaN</td>\n",
       "      <td>property</td>\n",
       "    </tr>\n",
       "    <tr>\n",
       "      <th>278</th>\n",
       "      <td>1</td>\n",
       "      <td>NaN</td>\n",
       "      <td>23</td>\n",
       "      <td>Secondary Education</td>\n",
       "      <td>1</td>\n",
       "      <td>civil partnership</td>\n",
       "      <td>1</td>\n",
       "      <td>F</td>\n",
       "      <td>employee</td>\n",
       "      <td>1</td>\n",
       "      <td>NaN</td>\n",
       "      <td>car</td>\n",
       "    </tr>\n",
       "    <tr>\n",
       "      <th>279</th>\n",
       "      <td>0</td>\n",
       "      <td>NaN</td>\n",
       "      <td>44</td>\n",
       "      <td>Secondary Education</td>\n",
       "      <td>1</td>\n",
       "      <td>civil partnership</td>\n",
       "      <td>1</td>\n",
       "      <td>F</td>\n",
       "      <td>employee</td>\n",
       "      <td>0</td>\n",
       "      <td>NaN</td>\n",
       "      <td>transactions with my real estate</td>\n",
       "    </tr>\n",
       "    <tr>\n",
       "      <th>280</th>\n",
       "      <td>0</td>\n",
       "      <td>NaN</td>\n",
       "      <td>66</td>\n",
       "      <td>secondary education</td>\n",
       "      <td>1</td>\n",
       "      <td>married</td>\n",
       "      <td>0</td>\n",
       "      <td>F</td>\n",
       "      <td>retiree</td>\n",
       "      <td>0</td>\n",
       "      <td>NaN</td>\n",
       "      <td>housing transactions</td>\n",
       "    </tr>\n",
       "    <tr>\n",
       "      <th>312</th>\n",
       "      <td>1</td>\n",
       "      <td>NaN</td>\n",
       "      <td>33</td>\n",
       "      <td>secondary education</td>\n",
       "      <td>1</td>\n",
       "      <td>civil partnership</td>\n",
       "      <td>1</td>\n",
       "      <td>M</td>\n",
       "      <td>employee</td>\n",
       "      <td>1</td>\n",
       "      <td>NaN</td>\n",
       "      <td>buying property for renting out</td>\n",
       "    </tr>\n",
       "    <tr>\n",
       "      <th>317</th>\n",
       "      <td>0</td>\n",
       "      <td>NaN</td>\n",
       "      <td>21</td>\n",
       "      <td>bachelor's degree</td>\n",
       "      <td>0</td>\n",
       "      <td>unmarried</td>\n",
       "      <td>4</td>\n",
       "      <td>M</td>\n",
       "      <td>employee</td>\n",
       "      <td>0</td>\n",
       "      <td>NaN</td>\n",
       "      <td>purchase of a car</td>\n",
       "    </tr>\n",
       "    <tr>\n",
       "      <th>320</th>\n",
       "      <td>0</td>\n",
       "      <td>NaN</td>\n",
       "      <td>63</td>\n",
       "      <td>secondary education</td>\n",
       "      <td>1</td>\n",
       "      <td>widow / widower</td>\n",
       "      <td>2</td>\n",
       "      <td>F</td>\n",
       "      <td>employee</td>\n",
       "      <td>0</td>\n",
       "      <td>NaN</td>\n",
       "      <td>buying a second-hand car</td>\n",
       "    </tr>\n",
       "    <tr>\n",
       "      <th>321</th>\n",
       "      <td>1</td>\n",
       "      <td>NaN</td>\n",
       "      <td>34</td>\n",
       "      <td>bachelor's degree</td>\n",
       "      <td>0</td>\n",
       "      <td>civil partnership</td>\n",
       "      <td>1</td>\n",
       "      <td>M</td>\n",
       "      <td>business</td>\n",
       "      <td>0</td>\n",
       "      <td>NaN</td>\n",
       "      <td>having a wedding</td>\n",
       "    </tr>\n",
       "    <tr>\n",
       "      <th>322</th>\n",
       "      <td>0</td>\n",
       "      <td>NaN</td>\n",
       "      <td>56</td>\n",
       "      <td>SECONDARY EDUCATION</td>\n",
       "      <td>1</td>\n",
       "      <td>civil partnership</td>\n",
       "      <td>1</td>\n",
       "      <td>F</td>\n",
       "      <td>retiree</td>\n",
       "      <td>1</td>\n",
       "      <td>NaN</td>\n",
       "      <td>to have a wedding</td>\n",
       "    </tr>\n",
       "    <tr>\n",
       "      <th>328</th>\n",
       "      <td>0</td>\n",
       "      <td>NaN</td>\n",
       "      <td>69</td>\n",
       "      <td>secondary education</td>\n",
       "      <td>1</td>\n",
       "      <td>widow / widower</td>\n",
       "      <td>2</td>\n",
       "      <td>F</td>\n",
       "      <td>employee</td>\n",
       "      <td>0</td>\n",
       "      <td>NaN</td>\n",
       "      <td>car purchase</td>\n",
       "    </tr>\n",
       "    <tr>\n",
       "      <th>360</th>\n",
       "      <td>0</td>\n",
       "      <td>NaN</td>\n",
       "      <td>27</td>\n",
       "      <td>secondary education</td>\n",
       "      <td>1</td>\n",
       "      <td>married</td>\n",
       "      <td>0</td>\n",
       "      <td>M</td>\n",
       "      <td>business</td>\n",
       "      <td>0</td>\n",
       "      <td>NaN</td>\n",
       "      <td>buying property for renting out</td>\n",
       "    </tr>\n",
       "    <tr>\n",
       "      <th>361</th>\n",
       "      <td>0</td>\n",
       "      <td>NaN</td>\n",
       "      <td>59</td>\n",
       "      <td>secondary education</td>\n",
       "      <td>1</td>\n",
       "      <td>widow / widower</td>\n",
       "      <td>2</td>\n",
       "      <td>F</td>\n",
       "      <td>retiree</td>\n",
       "      <td>0</td>\n",
       "      <td>NaN</td>\n",
       "      <td>housing</td>\n",
       "    </tr>\n",
       "    <tr>\n",
       "      <th>364</th>\n",
       "      <td>0</td>\n",
       "      <td>NaN</td>\n",
       "      <td>57</td>\n",
       "      <td>secondary education</td>\n",
       "      <td>1</td>\n",
       "      <td>civil partnership</td>\n",
       "      <td>1</td>\n",
       "      <td>F</td>\n",
       "      <td>business</td>\n",
       "      <td>0</td>\n",
       "      <td>NaN</td>\n",
       "      <td>going to university</td>\n",
       "    </tr>\n",
       "    <tr>\n",
       "      <th>376</th>\n",
       "      <td>0</td>\n",
       "      <td>NaN</td>\n",
       "      <td>23</td>\n",
       "      <td>Some College</td>\n",
       "      <td>2</td>\n",
       "      <td>unmarried</td>\n",
       "      <td>4</td>\n",
       "      <td>M</td>\n",
       "      <td>employee</td>\n",
       "      <td>0</td>\n",
       "      <td>NaN</td>\n",
       "      <td>getting higher education</td>\n",
       "    </tr>\n",
       "    <tr>\n",
       "      <th>383</th>\n",
       "      <td>0</td>\n",
       "      <td>NaN</td>\n",
       "      <td>55</td>\n",
       "      <td>bachelor's degree</td>\n",
       "      <td>0</td>\n",
       "      <td>civil partnership</td>\n",
       "      <td>1</td>\n",
       "      <td>F</td>\n",
       "      <td>business</td>\n",
       "      <td>0</td>\n",
       "      <td>NaN</td>\n",
       "      <td>to have a wedding</td>\n",
       "    </tr>\n",
       "    <tr>\n",
       "      <th>389</th>\n",
       "      <td>1</td>\n",
       "      <td>NaN</td>\n",
       "      <td>31</td>\n",
       "      <td>SECONDARY EDUCATION</td>\n",
       "      <td>1</td>\n",
       "      <td>divorced</td>\n",
       "      <td>3</td>\n",
       "      <td>M</td>\n",
       "      <td>civil servant</td>\n",
       "      <td>0</td>\n",
       "      <td>NaN</td>\n",
       "      <td>supplementary education</td>\n",
       "    </tr>\n",
       "    <tr>\n",
       "      <th>415</th>\n",
       "      <td>0</td>\n",
       "      <td>NaN</td>\n",
       "      <td>57</td>\n",
       "      <td>bachelor's degree</td>\n",
       "      <td>0</td>\n",
       "      <td>widow / widower</td>\n",
       "      <td>2</td>\n",
       "      <td>F</td>\n",
       "      <td>retiree</td>\n",
       "      <td>0</td>\n",
       "      <td>NaN</td>\n",
       "      <td>housing</td>\n",
       "    </tr>\n",
       "    <tr>\n",
       "      <th>416</th>\n",
       "      <td>0</td>\n",
       "      <td>NaN</td>\n",
       "      <td>58</td>\n",
       "      <td>secondary education</td>\n",
       "      <td>1</td>\n",
       "      <td>civil partnership</td>\n",
       "      <td>1</td>\n",
       "      <td>F</td>\n",
       "      <td>retiree</td>\n",
       "      <td>0</td>\n",
       "      <td>NaN</td>\n",
       "      <td>profile education</td>\n",
       "    </tr>\n",
       "    <tr>\n",
       "      <th>421</th>\n",
       "      <td>0</td>\n",
       "      <td>NaN</td>\n",
       "      <td>45</td>\n",
       "      <td>secondary education</td>\n",
       "      <td>1</td>\n",
       "      <td>married</td>\n",
       "      <td>0</td>\n",
       "      <td>F</td>\n",
       "      <td>employee</td>\n",
       "      <td>0</td>\n",
       "      <td>NaN</td>\n",
       "      <td>profile education</td>\n",
       "    </tr>\n",
       "    <tr>\n",
       "      <th>444</th>\n",
       "      <td>0</td>\n",
       "      <td>NaN</td>\n",
       "      <td>53</td>\n",
       "      <td>secondary education</td>\n",
       "      <td>1</td>\n",
       "      <td>widow / widower</td>\n",
       "      <td>2</td>\n",
       "      <td>F</td>\n",
       "      <td>employee</td>\n",
       "      <td>1</td>\n",
       "      <td>NaN</td>\n",
       "      <td>to own a car</td>\n",
       "    </tr>\n",
       "    <tr>\n",
       "      <th>458</th>\n",
       "      <td>0</td>\n",
       "      <td>NaN</td>\n",
       "      <td>48</td>\n",
       "      <td>secondary education</td>\n",
       "      <td>1</td>\n",
       "      <td>civil partnership</td>\n",
       "      <td>1</td>\n",
       "      <td>F</td>\n",
       "      <td>business</td>\n",
       "      <td>0</td>\n",
       "      <td>NaN</td>\n",
       "      <td>wedding ceremony</td>\n",
       "    </tr>\n",
       "    <tr>\n",
       "      <th>466</th>\n",
       "      <td>0</td>\n",
       "      <td>NaN</td>\n",
       "      <td>56</td>\n",
       "      <td>secondary education</td>\n",
       "      <td>1</td>\n",
       "      <td>married</td>\n",
       "      <td>0</td>\n",
       "      <td>F</td>\n",
       "      <td>retiree</td>\n",
       "      <td>0</td>\n",
       "      <td>NaN</td>\n",
       "      <td>supplementary education</td>\n",
       "    </tr>\n",
       "  </tbody>\n",
       "</table>\n",
       "</div>"
      ],
      "text/plain": [
       "     children  days_employed  dob_years            education  education_id  \\\n",
       "12          0            NaN         65  secondary education             1   \n",
       "26          0            NaN         41  secondary education             1   \n",
       "29          0            NaN         63  secondary education             1   \n",
       "41          0            NaN         50  secondary education             1   \n",
       "55          0            NaN         54  secondary education             1   \n",
       "65          0            NaN         21  secondary education             1   \n",
       "67          0            NaN         52    bachelor's degree             0   \n",
       "72          1            NaN         32    bachelor's degree             0   \n",
       "82          2            NaN         50    bachelor's degree             0   \n",
       "83          0            NaN         52  secondary education             1   \n",
       "90          2            NaN         35    bachelor's degree             0   \n",
       "94          1            NaN         34    bachelor's degree             0   \n",
       "96          0            NaN         44  SECONDARY EDUCATION             1   \n",
       "97          0            NaN         47    bachelor's degree             0   \n",
       "120         0            NaN         46  secondary education             1   \n",
       "121         0            NaN         29    bachelor's degree             0   \n",
       "135         0            NaN         27  secondary education             1   \n",
       "141         0            NaN         39  secondary education             1   \n",
       "145         0            NaN         62  secondary education             1   \n",
       "174         0            NaN         55    bachelor's degree             0   \n",
       "181         0            NaN         26  secondary education             1   \n",
       "189         1            NaN         30  secondary education             1   \n",
       "205         1            NaN         31    bachelor's degree             0   \n",
       "220         1            NaN         23         some college             2   \n",
       "241         0            NaN         47  secondary education             1   \n",
       "242         0            NaN         58  secondary education             1   \n",
       "247         1            NaN         60    bachelor's degree             0   \n",
       "250         0            NaN         54    bachelor's degree             0   \n",
       "264         2            NaN         40  secondary education             1   \n",
       "278         1            NaN         23  Secondary Education             1   \n",
       "279         0            NaN         44  Secondary Education             1   \n",
       "280         0            NaN         66  secondary education             1   \n",
       "312         1            NaN         33  secondary education             1   \n",
       "317         0            NaN         21    bachelor's degree             0   \n",
       "320         0            NaN         63  secondary education             1   \n",
       "321         1            NaN         34    bachelor's degree             0   \n",
       "322         0            NaN         56  SECONDARY EDUCATION             1   \n",
       "328         0            NaN         69  secondary education             1   \n",
       "360         0            NaN         27  secondary education             1   \n",
       "361         0            NaN         59  secondary education             1   \n",
       "364         0            NaN         57  secondary education             1   \n",
       "376         0            NaN         23         Some College             2   \n",
       "383         0            NaN         55    bachelor's degree             0   \n",
       "389         1            NaN         31  SECONDARY EDUCATION             1   \n",
       "415         0            NaN         57    bachelor's degree             0   \n",
       "416         0            NaN         58  secondary education             1   \n",
       "421         0            NaN         45  secondary education             1   \n",
       "444         0            NaN         53  secondary education             1   \n",
       "458         0            NaN         48  secondary education             1   \n",
       "466         0            NaN         56  secondary education             1   \n",
       "\n",
       "         family_status  family_status_id gender    income_type  debt  \\\n",
       "12   civil partnership                 1      M        retiree     0   \n",
       "26             married                 0      M  civil servant     0   \n",
       "29           unmarried                 4      F        retiree     0   \n",
       "41             married                 0      F  civil servant     0   \n",
       "55   civil partnership                 1      F        retiree     1   \n",
       "65           unmarried                 4      M       business     0   \n",
       "67             married                 0      F        retiree     0   \n",
       "72             married                 0      M  civil servant     0   \n",
       "82             married                 0      F       employee     0   \n",
       "83             married                 0      M       employee     0   \n",
       "90             married                 0      F       employee     0   \n",
       "94   civil partnership                 1      F       business     0   \n",
       "96             married                 0      F       employee     0   \n",
       "97             married                 0      F       employee     0   \n",
       "120            married                 0      F       employee     0   \n",
       "121            married                 0      F       business     0   \n",
       "135            married                 0      M       business     0   \n",
       "141  civil partnership                 1      M       employee     0   \n",
       "145            married                 0      M        retiree     0   \n",
       "174    widow / widower                 2      F       business     0   \n",
       "181  civil partnership                 1      F       business     1   \n",
       "189          unmarried                 4      F       employee     0   \n",
       "205            married                 0      F       employee     0   \n",
       "220  civil partnership                 1      F       business     0   \n",
       "241            married                 0      M       employee     0   \n",
       "242            married                 0      F  civil servant     0   \n",
       "247            married                 0      F        retiree     1   \n",
       "250            married                 0      F       employee     0   \n",
       "264           divorced                 3      F       employee     0   \n",
       "278  civil partnership                 1      F       employee     1   \n",
       "279  civil partnership                 1      F       employee     0   \n",
       "280            married                 0      F        retiree     0   \n",
       "312  civil partnership                 1      M       employee     1   \n",
       "317          unmarried                 4      M       employee     0   \n",
       "320    widow / widower                 2      F       employee     0   \n",
       "321  civil partnership                 1      M       business     0   \n",
       "322  civil partnership                 1      F        retiree     1   \n",
       "328    widow / widower                 2      F       employee     0   \n",
       "360            married                 0      M       business     0   \n",
       "361    widow / widower                 2      F        retiree     0   \n",
       "364  civil partnership                 1      F       business     0   \n",
       "376          unmarried                 4      M       employee     0   \n",
       "383  civil partnership                 1      F       business     0   \n",
       "389           divorced                 3      M  civil servant     0   \n",
       "415    widow / widower                 2      F        retiree     0   \n",
       "416  civil partnership                 1      F        retiree     0   \n",
       "421            married                 0      F       employee     0   \n",
       "444    widow / widower                 2      F       employee     1   \n",
       "458  civil partnership                 1      F       business     0   \n",
       "466            married                 0      F        retiree     0   \n",
       "\n",
       "     total_income                                   purpose  \n",
       "12            NaN                         to have a wedding  \n",
       "26            NaN                                 education  \n",
       "29            NaN                    building a real estate  \n",
       "41            NaN                  second-hand car purchase  \n",
       "55            NaN                         to have a wedding  \n",
       "65            NaN  transactions with commercial real estate  \n",
       "67            NaN       purchase of the house for my family  \n",
       "72            NaN  transactions with commercial real estate  \n",
       "82            NaN                                   housing  \n",
       "83            NaN                                   housing  \n",
       "90            NaN                      housing transactions  \n",
       "94            NaN                          having a wedding  \n",
       "96            NaN               buy residential real estate  \n",
       "97            NaN                         profile education  \n",
       "120           NaN                      university education  \n",
       "121           NaN                                       car  \n",
       "135           NaN                                   housing  \n",
       "141           NaN                          wedding ceremony  \n",
       "145           NaN                       building a property  \n",
       "174           NaN                              to own a car  \n",
       "181           NaN       purchase of the house for my family  \n",
       "189           NaN                              to own a car  \n",
       "205           NaN                  buying a second-hand car  \n",
       "220           NaN                         to have a wedding  \n",
       "241           NaN              construction of own property  \n",
       "242           NaN                  purchase of my own house  \n",
       "247           NaN                       going to university  \n",
       "250           NaN                  second-hand car purchase  \n",
       "264           NaN                                  property  \n",
       "278           NaN                                       car  \n",
       "279           NaN          transactions with my real estate  \n",
       "280           NaN                      housing transactions  \n",
       "312           NaN           buying property for renting out  \n",
       "317           NaN                         purchase of a car  \n",
       "320           NaN                  buying a second-hand car  \n",
       "321           NaN                          having a wedding  \n",
       "322           NaN                         to have a wedding  \n",
       "328           NaN                              car purchase  \n",
       "360           NaN           buying property for renting out  \n",
       "361           NaN                                   housing  \n",
       "364           NaN                       going to university  \n",
       "376           NaN                  getting higher education  \n",
       "383           NaN                         to have a wedding  \n",
       "389           NaN                   supplementary education  \n",
       "415           NaN                                   housing  \n",
       "416           NaN                         profile education  \n",
       "421           NaN                         profile education  \n",
       "444           NaN                              to own a car  \n",
       "458           NaN                          wedding ceremony  \n",
       "466           NaN                   supplementary education  "
      ]
     },
     "execution_count": 7,
     "metadata": {},
     "output_type": "execute_result"
    }
   ],
   "source": [
    "# Let's investigate clients who do not have data on identified characteristic and the column with the missing values\n",
    "credit_df_null = credit_df[credit_df.isna().any(axis = 1)]\n",
    "\n",
    "credit_df_null.head(50) # print the firstb 50 rows\n"
   ]
  },
  {
   "cell_type": "code",
   "execution_count": 8,
   "metadata": {
    "scrolled": false
   },
   "outputs": [
    {
     "data": {
      "text/html": [
       "<div>\n",
       "<style scoped>\n",
       "    .dataframe tbody tr th:only-of-type {\n",
       "        vertical-align: middle;\n",
       "    }\n",
       "\n",
       "    .dataframe tbody tr th {\n",
       "        vertical-align: top;\n",
       "    }\n",
       "\n",
       "    .dataframe thead th {\n",
       "        text-align: right;\n",
       "    }\n",
       "</style>\n",
       "<table border=\"1\" class=\"dataframe\">\n",
       "  <thead>\n",
       "    <tr style=\"text-align: right;\">\n",
       "      <th></th>\n",
       "      <th>children</th>\n",
       "      <th>days_employed</th>\n",
       "      <th>dob_years</th>\n",
       "      <th>education</th>\n",
       "      <th>education_id</th>\n",
       "      <th>family_status</th>\n",
       "      <th>family_status_id</th>\n",
       "      <th>gender</th>\n",
       "      <th>income_type</th>\n",
       "      <th>debt</th>\n",
       "      <th>total_income</th>\n",
       "      <th>purpose</th>\n",
       "    </tr>\n",
       "  </thead>\n",
       "  <tbody>\n",
       "    <tr>\n",
       "      <th>21000</th>\n",
       "      <td>2</td>\n",
       "      <td>NaN</td>\n",
       "      <td>35</td>\n",
       "      <td>secondary education</td>\n",
       "      <td>1</td>\n",
       "      <td>married</td>\n",
       "      <td>0</td>\n",
       "      <td>M</td>\n",
       "      <td>employee</td>\n",
       "      <td>0</td>\n",
       "      <td>NaN</td>\n",
       "      <td>purchase of the house</td>\n",
       "    </tr>\n",
       "    <tr>\n",
       "      <th>21031</th>\n",
       "      <td>0</td>\n",
       "      <td>NaN</td>\n",
       "      <td>56</td>\n",
       "      <td>secondary education</td>\n",
       "      <td>1</td>\n",
       "      <td>civil partnership</td>\n",
       "      <td>1</td>\n",
       "      <td>F</td>\n",
       "      <td>retiree</td>\n",
       "      <td>0</td>\n",
       "      <td>NaN</td>\n",
       "      <td>wedding ceremony</td>\n",
       "    </tr>\n",
       "    <tr>\n",
       "      <th>21032</th>\n",
       "      <td>0</td>\n",
       "      <td>NaN</td>\n",
       "      <td>60</td>\n",
       "      <td>secondary education</td>\n",
       "      <td>1</td>\n",
       "      <td>married</td>\n",
       "      <td>0</td>\n",
       "      <td>F</td>\n",
       "      <td>retiree</td>\n",
       "      <td>0</td>\n",
       "      <td>NaN</td>\n",
       "      <td>to become educated</td>\n",
       "    </tr>\n",
       "    <tr>\n",
       "      <th>21057</th>\n",
       "      <td>0</td>\n",
       "      <td>NaN</td>\n",
       "      <td>62</td>\n",
       "      <td>secondary education</td>\n",
       "      <td>1</td>\n",
       "      <td>civil partnership</td>\n",
       "      <td>1</td>\n",
       "      <td>M</td>\n",
       "      <td>employee</td>\n",
       "      <td>0</td>\n",
       "      <td>NaN</td>\n",
       "      <td>wedding ceremony</td>\n",
       "    </tr>\n",
       "    <tr>\n",
       "      <th>21060</th>\n",
       "      <td>0</td>\n",
       "      <td>NaN</td>\n",
       "      <td>23</td>\n",
       "      <td>secondary education</td>\n",
       "      <td>1</td>\n",
       "      <td>unmarried</td>\n",
       "      <td>4</td>\n",
       "      <td>F</td>\n",
       "      <td>employee</td>\n",
       "      <td>0</td>\n",
       "      <td>NaN</td>\n",
       "      <td>construction of own property</td>\n",
       "    </tr>\n",
       "    <tr>\n",
       "      <th>21070</th>\n",
       "      <td>0</td>\n",
       "      <td>NaN</td>\n",
       "      <td>59</td>\n",
       "      <td>bachelor's degree</td>\n",
       "      <td>0</td>\n",
       "      <td>married</td>\n",
       "      <td>0</td>\n",
       "      <td>F</td>\n",
       "      <td>retiree</td>\n",
       "      <td>0</td>\n",
       "      <td>NaN</td>\n",
       "      <td>to become educated</td>\n",
       "    </tr>\n",
       "    <tr>\n",
       "      <th>21077</th>\n",
       "      <td>1</td>\n",
       "      <td>NaN</td>\n",
       "      <td>41</td>\n",
       "      <td>secondary education</td>\n",
       "      <td>1</td>\n",
       "      <td>married</td>\n",
       "      <td>0</td>\n",
       "      <td>F</td>\n",
       "      <td>business</td>\n",
       "      <td>0</td>\n",
       "      <td>NaN</td>\n",
       "      <td>buy real estate</td>\n",
       "    </tr>\n",
       "    <tr>\n",
       "      <th>21085</th>\n",
       "      <td>0</td>\n",
       "      <td>NaN</td>\n",
       "      <td>48</td>\n",
       "      <td>secondary education</td>\n",
       "      <td>1</td>\n",
       "      <td>civil partnership</td>\n",
       "      <td>1</td>\n",
       "      <td>F</td>\n",
       "      <td>employee</td>\n",
       "      <td>0</td>\n",
       "      <td>NaN</td>\n",
       "      <td>housing transactions</td>\n",
       "    </tr>\n",
       "    <tr>\n",
       "      <th>21090</th>\n",
       "      <td>0</td>\n",
       "      <td>NaN</td>\n",
       "      <td>41</td>\n",
       "      <td>some college</td>\n",
       "      <td>2</td>\n",
       "      <td>married</td>\n",
       "      <td>0</td>\n",
       "      <td>M</td>\n",
       "      <td>business</td>\n",
       "      <td>0</td>\n",
       "      <td>NaN</td>\n",
       "      <td>housing renovation</td>\n",
       "    </tr>\n",
       "    <tr>\n",
       "      <th>21102</th>\n",
       "      <td>0</td>\n",
       "      <td>NaN</td>\n",
       "      <td>60</td>\n",
       "      <td>secondary education</td>\n",
       "      <td>1</td>\n",
       "      <td>married</td>\n",
       "      <td>0</td>\n",
       "      <td>M</td>\n",
       "      <td>employee</td>\n",
       "      <td>0</td>\n",
       "      <td>NaN</td>\n",
       "      <td>building a property</td>\n",
       "    </tr>\n",
       "    <tr>\n",
       "      <th>21118</th>\n",
       "      <td>0</td>\n",
       "      <td>NaN</td>\n",
       "      <td>40</td>\n",
       "      <td>secondary education</td>\n",
       "      <td>1</td>\n",
       "      <td>married</td>\n",
       "      <td>0</td>\n",
       "      <td>F</td>\n",
       "      <td>employee</td>\n",
       "      <td>0</td>\n",
       "      <td>NaN</td>\n",
       "      <td>second-hand car purchase</td>\n",
       "    </tr>\n",
       "    <tr>\n",
       "      <th>21124</th>\n",
       "      <td>0</td>\n",
       "      <td>NaN</td>\n",
       "      <td>66</td>\n",
       "      <td>secondary education</td>\n",
       "      <td>1</td>\n",
       "      <td>civil partnership</td>\n",
       "      <td>1</td>\n",
       "      <td>M</td>\n",
       "      <td>retiree</td>\n",
       "      <td>0</td>\n",
       "      <td>NaN</td>\n",
       "      <td>to have a wedding</td>\n",
       "    </tr>\n",
       "    <tr>\n",
       "      <th>21126</th>\n",
       "      <td>0</td>\n",
       "      <td>NaN</td>\n",
       "      <td>39</td>\n",
       "      <td>secondary education</td>\n",
       "      <td>1</td>\n",
       "      <td>married</td>\n",
       "      <td>0</td>\n",
       "      <td>F</td>\n",
       "      <td>employee</td>\n",
       "      <td>0</td>\n",
       "      <td>NaN</td>\n",
       "      <td>car purchase</td>\n",
       "    </tr>\n",
       "    <tr>\n",
       "      <th>21132</th>\n",
       "      <td>0</td>\n",
       "      <td>NaN</td>\n",
       "      <td>47</td>\n",
       "      <td>secondary education</td>\n",
       "      <td>1</td>\n",
       "      <td>married</td>\n",
       "      <td>0</td>\n",
       "      <td>F</td>\n",
       "      <td>employee</td>\n",
       "      <td>0</td>\n",
       "      <td>NaN</td>\n",
       "      <td>housing renovation</td>\n",
       "    </tr>\n",
       "    <tr>\n",
       "      <th>21146</th>\n",
       "      <td>0</td>\n",
       "      <td>NaN</td>\n",
       "      <td>69</td>\n",
       "      <td>secondary education</td>\n",
       "      <td>1</td>\n",
       "      <td>civil partnership</td>\n",
       "      <td>1</td>\n",
       "      <td>F</td>\n",
       "      <td>retiree</td>\n",
       "      <td>0</td>\n",
       "      <td>NaN</td>\n",
       "      <td>wedding ceremony</td>\n",
       "    </tr>\n",
       "    <tr>\n",
       "      <th>21152</th>\n",
       "      <td>1</td>\n",
       "      <td>NaN</td>\n",
       "      <td>40</td>\n",
       "      <td>secondary education</td>\n",
       "      <td>1</td>\n",
       "      <td>married</td>\n",
       "      <td>0</td>\n",
       "      <td>F</td>\n",
       "      <td>employee</td>\n",
       "      <td>0</td>\n",
       "      <td>NaN</td>\n",
       "      <td>real estate transactions</td>\n",
       "    </tr>\n",
       "    <tr>\n",
       "      <th>21177</th>\n",
       "      <td>0</td>\n",
       "      <td>NaN</td>\n",
       "      <td>27</td>\n",
       "      <td>secondary education</td>\n",
       "      <td>1</td>\n",
       "      <td>unmarried</td>\n",
       "      <td>4</td>\n",
       "      <td>M</td>\n",
       "      <td>business</td>\n",
       "      <td>0</td>\n",
       "      <td>NaN</td>\n",
       "      <td>purchase of a car</td>\n",
       "    </tr>\n",
       "    <tr>\n",
       "      <th>21182</th>\n",
       "      <td>0</td>\n",
       "      <td>NaN</td>\n",
       "      <td>28</td>\n",
       "      <td>bachelor's degree</td>\n",
       "      <td>0</td>\n",
       "      <td>civil partnership</td>\n",
       "      <td>1</td>\n",
       "      <td>F</td>\n",
       "      <td>employee</td>\n",
       "      <td>0</td>\n",
       "      <td>NaN</td>\n",
       "      <td>construction of own property</td>\n",
       "    </tr>\n",
       "    <tr>\n",
       "      <th>21206</th>\n",
       "      <td>1</td>\n",
       "      <td>NaN</td>\n",
       "      <td>34</td>\n",
       "      <td>secondary education</td>\n",
       "      <td>1</td>\n",
       "      <td>married</td>\n",
       "      <td>0</td>\n",
       "      <td>M</td>\n",
       "      <td>business</td>\n",
       "      <td>0</td>\n",
       "      <td>NaN</td>\n",
       "      <td>purchase of my own house</td>\n",
       "    </tr>\n",
       "    <tr>\n",
       "      <th>21211</th>\n",
       "      <td>0</td>\n",
       "      <td>NaN</td>\n",
       "      <td>48</td>\n",
       "      <td>secondary education</td>\n",
       "      <td>1</td>\n",
       "      <td>married</td>\n",
       "      <td>0</td>\n",
       "      <td>F</td>\n",
       "      <td>employee</td>\n",
       "      <td>0</td>\n",
       "      <td>NaN</td>\n",
       "      <td>second-hand car purchase</td>\n",
       "    </tr>\n",
       "    <tr>\n",
       "      <th>21226</th>\n",
       "      <td>3</td>\n",
       "      <td>NaN</td>\n",
       "      <td>38</td>\n",
       "      <td>secondary education</td>\n",
       "      <td>1</td>\n",
       "      <td>civil partnership</td>\n",
       "      <td>1</td>\n",
       "      <td>M</td>\n",
       "      <td>employee</td>\n",
       "      <td>0</td>\n",
       "      <td>NaN</td>\n",
       "      <td>getting an education</td>\n",
       "    </tr>\n",
       "    <tr>\n",
       "      <th>21242</th>\n",
       "      <td>1</td>\n",
       "      <td>NaN</td>\n",
       "      <td>33</td>\n",
       "      <td>bachelor's degree</td>\n",
       "      <td>0</td>\n",
       "      <td>unmarried</td>\n",
       "      <td>4</td>\n",
       "      <td>F</td>\n",
       "      <td>civil servant</td>\n",
       "      <td>0</td>\n",
       "      <td>NaN</td>\n",
       "      <td>construction of own property</td>\n",
       "    </tr>\n",
       "    <tr>\n",
       "      <th>21251</th>\n",
       "      <td>0</td>\n",
       "      <td>NaN</td>\n",
       "      <td>57</td>\n",
       "      <td>some college</td>\n",
       "      <td>2</td>\n",
       "      <td>civil partnership</td>\n",
       "      <td>1</td>\n",
       "      <td>F</td>\n",
       "      <td>employee</td>\n",
       "      <td>0</td>\n",
       "      <td>NaN</td>\n",
       "      <td>wedding ceremony</td>\n",
       "    </tr>\n",
       "    <tr>\n",
       "      <th>21258</th>\n",
       "      <td>1</td>\n",
       "      <td>NaN</td>\n",
       "      <td>40</td>\n",
       "      <td>secondary education</td>\n",
       "      <td>1</td>\n",
       "      <td>unmarried</td>\n",
       "      <td>4</td>\n",
       "      <td>M</td>\n",
       "      <td>employee</td>\n",
       "      <td>0</td>\n",
       "      <td>NaN</td>\n",
       "      <td>housing transactions</td>\n",
       "    </tr>\n",
       "    <tr>\n",
       "      <th>21268</th>\n",
       "      <td>1</td>\n",
       "      <td>NaN</td>\n",
       "      <td>44</td>\n",
       "      <td>bachelor's degree</td>\n",
       "      <td>0</td>\n",
       "      <td>civil partnership</td>\n",
       "      <td>1</td>\n",
       "      <td>F</td>\n",
       "      <td>civil servant</td>\n",
       "      <td>0</td>\n",
       "      <td>NaN</td>\n",
       "      <td>having a wedding</td>\n",
       "    </tr>\n",
       "    <tr>\n",
       "      <th>21271</th>\n",
       "      <td>2</td>\n",
       "      <td>NaN</td>\n",
       "      <td>42</td>\n",
       "      <td>secondary education</td>\n",
       "      <td>1</td>\n",
       "      <td>civil partnership</td>\n",
       "      <td>1</td>\n",
       "      <td>M</td>\n",
       "      <td>employee</td>\n",
       "      <td>1</td>\n",
       "      <td>NaN</td>\n",
       "      <td>transactions with my real estate</td>\n",
       "    </tr>\n",
       "    <tr>\n",
       "      <th>21281</th>\n",
       "      <td>1</td>\n",
       "      <td>NaN</td>\n",
       "      <td>30</td>\n",
       "      <td>bachelor's degree</td>\n",
       "      <td>0</td>\n",
       "      <td>married</td>\n",
       "      <td>0</td>\n",
       "      <td>F</td>\n",
       "      <td>employee</td>\n",
       "      <td>0</td>\n",
       "      <td>NaN</td>\n",
       "      <td>buy commercial real estate</td>\n",
       "    </tr>\n",
       "    <tr>\n",
       "      <th>21294</th>\n",
       "      <td>0</td>\n",
       "      <td>NaN</td>\n",
       "      <td>45</td>\n",
       "      <td>BACHELOR'S DEGREE</td>\n",
       "      <td>0</td>\n",
       "      <td>married</td>\n",
       "      <td>0</td>\n",
       "      <td>F</td>\n",
       "      <td>employee</td>\n",
       "      <td>0</td>\n",
       "      <td>NaN</td>\n",
       "      <td>university education</td>\n",
       "    </tr>\n",
       "    <tr>\n",
       "      <th>21300</th>\n",
       "      <td>2</td>\n",
       "      <td>NaN</td>\n",
       "      <td>45</td>\n",
       "      <td>Secondary Education</td>\n",
       "      <td>1</td>\n",
       "      <td>civil partnership</td>\n",
       "      <td>1</td>\n",
       "      <td>M</td>\n",
       "      <td>business</td>\n",
       "      <td>0</td>\n",
       "      <td>NaN</td>\n",
       "      <td>to get a supplementary education</td>\n",
       "    </tr>\n",
       "    <tr>\n",
       "      <th>21305</th>\n",
       "      <td>0</td>\n",
       "      <td>NaN</td>\n",
       "      <td>59</td>\n",
       "      <td>secondary education</td>\n",
       "      <td>1</td>\n",
       "      <td>unmarried</td>\n",
       "      <td>4</td>\n",
       "      <td>F</td>\n",
       "      <td>retiree</td>\n",
       "      <td>0</td>\n",
       "      <td>NaN</td>\n",
       "      <td>construction of own property</td>\n",
       "    </tr>\n",
       "    <tr>\n",
       "      <th>21308</th>\n",
       "      <td>0</td>\n",
       "      <td>NaN</td>\n",
       "      <td>48</td>\n",
       "      <td>secondary education</td>\n",
       "      <td>1</td>\n",
       "      <td>married</td>\n",
       "      <td>0</td>\n",
       "      <td>F</td>\n",
       "      <td>business</td>\n",
       "      <td>0</td>\n",
       "      <td>NaN</td>\n",
       "      <td>buying property for renting out</td>\n",
       "    </tr>\n",
       "    <tr>\n",
       "      <th>21311</th>\n",
       "      <td>0</td>\n",
       "      <td>NaN</td>\n",
       "      <td>49</td>\n",
       "      <td>secondary education</td>\n",
       "      <td>1</td>\n",
       "      <td>married</td>\n",
       "      <td>0</td>\n",
       "      <td>F</td>\n",
       "      <td>retiree</td>\n",
       "      <td>0</td>\n",
       "      <td>NaN</td>\n",
       "      <td>buying property for renting out</td>\n",
       "    </tr>\n",
       "    <tr>\n",
       "      <th>21321</th>\n",
       "      <td>0</td>\n",
       "      <td>NaN</td>\n",
       "      <td>56</td>\n",
       "      <td>Secondary Education</td>\n",
       "      <td>1</td>\n",
       "      <td>married</td>\n",
       "      <td>0</td>\n",
       "      <td>F</td>\n",
       "      <td>retiree</td>\n",
       "      <td>0</td>\n",
       "      <td>NaN</td>\n",
       "      <td>real estate transactions</td>\n",
       "    </tr>\n",
       "    <tr>\n",
       "      <th>21350</th>\n",
       "      <td>0</td>\n",
       "      <td>NaN</td>\n",
       "      <td>21</td>\n",
       "      <td>secondary education</td>\n",
       "      <td>1</td>\n",
       "      <td>unmarried</td>\n",
       "      <td>4</td>\n",
       "      <td>M</td>\n",
       "      <td>business</td>\n",
       "      <td>0</td>\n",
       "      <td>NaN</td>\n",
       "      <td>to buy a car</td>\n",
       "    </tr>\n",
       "    <tr>\n",
       "      <th>21364</th>\n",
       "      <td>0</td>\n",
       "      <td>NaN</td>\n",
       "      <td>50</td>\n",
       "      <td>secondary education</td>\n",
       "      <td>1</td>\n",
       "      <td>married</td>\n",
       "      <td>0</td>\n",
       "      <td>M</td>\n",
       "      <td>employee</td>\n",
       "      <td>0</td>\n",
       "      <td>NaN</td>\n",
       "      <td>transactions with my real estate</td>\n",
       "    </tr>\n",
       "    <tr>\n",
       "      <th>21369</th>\n",
       "      <td>2</td>\n",
       "      <td>NaN</td>\n",
       "      <td>42</td>\n",
       "      <td>secondary education</td>\n",
       "      <td>1</td>\n",
       "      <td>divorced</td>\n",
       "      <td>3</td>\n",
       "      <td>M</td>\n",
       "      <td>business</td>\n",
       "      <td>0</td>\n",
       "      <td>NaN</td>\n",
       "      <td>buy residential real estate</td>\n",
       "    </tr>\n",
       "    <tr>\n",
       "      <th>21390</th>\n",
       "      <td>20</td>\n",
       "      <td>NaN</td>\n",
       "      <td>53</td>\n",
       "      <td>secondary education</td>\n",
       "      <td>1</td>\n",
       "      <td>married</td>\n",
       "      <td>0</td>\n",
       "      <td>M</td>\n",
       "      <td>business</td>\n",
       "      <td>0</td>\n",
       "      <td>NaN</td>\n",
       "      <td>buy residential real estate</td>\n",
       "    </tr>\n",
       "    <tr>\n",
       "      <th>21391</th>\n",
       "      <td>0</td>\n",
       "      <td>NaN</td>\n",
       "      <td>52</td>\n",
       "      <td>secondary education</td>\n",
       "      <td>1</td>\n",
       "      <td>married</td>\n",
       "      <td>0</td>\n",
       "      <td>F</td>\n",
       "      <td>business</td>\n",
       "      <td>0</td>\n",
       "      <td>NaN</td>\n",
       "      <td>purchase of the house for my family</td>\n",
       "    </tr>\n",
       "    <tr>\n",
       "      <th>21407</th>\n",
       "      <td>1</td>\n",
       "      <td>NaN</td>\n",
       "      <td>36</td>\n",
       "      <td>secondary education</td>\n",
       "      <td>1</td>\n",
       "      <td>married</td>\n",
       "      <td>0</td>\n",
       "      <td>F</td>\n",
       "      <td>business</td>\n",
       "      <td>0</td>\n",
       "      <td>NaN</td>\n",
       "      <td>building a real estate</td>\n",
       "    </tr>\n",
       "    <tr>\n",
       "      <th>21414</th>\n",
       "      <td>0</td>\n",
       "      <td>NaN</td>\n",
       "      <td>65</td>\n",
       "      <td>secondary education</td>\n",
       "      <td>1</td>\n",
       "      <td>married</td>\n",
       "      <td>0</td>\n",
       "      <td>F</td>\n",
       "      <td>retiree</td>\n",
       "      <td>0</td>\n",
       "      <td>NaN</td>\n",
       "      <td>purchase of my own house</td>\n",
       "    </tr>\n",
       "    <tr>\n",
       "      <th>21415</th>\n",
       "      <td>0</td>\n",
       "      <td>NaN</td>\n",
       "      <td>54</td>\n",
       "      <td>secondary education</td>\n",
       "      <td>1</td>\n",
       "      <td>married</td>\n",
       "      <td>0</td>\n",
       "      <td>F</td>\n",
       "      <td>retiree</td>\n",
       "      <td>0</td>\n",
       "      <td>NaN</td>\n",
       "      <td>housing transactions</td>\n",
       "    </tr>\n",
       "    <tr>\n",
       "      <th>21423</th>\n",
       "      <td>0</td>\n",
       "      <td>NaN</td>\n",
       "      <td>63</td>\n",
       "      <td>secondary education</td>\n",
       "      <td>1</td>\n",
       "      <td>married</td>\n",
       "      <td>0</td>\n",
       "      <td>M</td>\n",
       "      <td>retiree</td>\n",
       "      <td>0</td>\n",
       "      <td>NaN</td>\n",
       "      <td>purchase of a car</td>\n",
       "    </tr>\n",
       "    <tr>\n",
       "      <th>21426</th>\n",
       "      <td>0</td>\n",
       "      <td>NaN</td>\n",
       "      <td>49</td>\n",
       "      <td>secondary education</td>\n",
       "      <td>1</td>\n",
       "      <td>married</td>\n",
       "      <td>0</td>\n",
       "      <td>F</td>\n",
       "      <td>employee</td>\n",
       "      <td>1</td>\n",
       "      <td>NaN</td>\n",
       "      <td>property</td>\n",
       "    </tr>\n",
       "    <tr>\n",
       "      <th>21432</th>\n",
       "      <td>1</td>\n",
       "      <td>NaN</td>\n",
       "      <td>38</td>\n",
       "      <td>some college</td>\n",
       "      <td>2</td>\n",
       "      <td>unmarried</td>\n",
       "      <td>4</td>\n",
       "      <td>F</td>\n",
       "      <td>employee</td>\n",
       "      <td>0</td>\n",
       "      <td>NaN</td>\n",
       "      <td>housing transactions</td>\n",
       "    </tr>\n",
       "    <tr>\n",
       "      <th>21463</th>\n",
       "      <td>1</td>\n",
       "      <td>NaN</td>\n",
       "      <td>35</td>\n",
       "      <td>bachelor's degree</td>\n",
       "      <td>0</td>\n",
       "      <td>civil partnership</td>\n",
       "      <td>1</td>\n",
       "      <td>M</td>\n",
       "      <td>employee</td>\n",
       "      <td>0</td>\n",
       "      <td>NaN</td>\n",
       "      <td>having a wedding</td>\n",
       "    </tr>\n",
       "    <tr>\n",
       "      <th>21489</th>\n",
       "      <td>2</td>\n",
       "      <td>NaN</td>\n",
       "      <td>47</td>\n",
       "      <td>Secondary Education</td>\n",
       "      <td>1</td>\n",
       "      <td>married</td>\n",
       "      <td>0</td>\n",
       "      <td>M</td>\n",
       "      <td>business</td>\n",
       "      <td>0</td>\n",
       "      <td>NaN</td>\n",
       "      <td>purchase of a car</td>\n",
       "    </tr>\n",
       "    <tr>\n",
       "      <th>21495</th>\n",
       "      <td>1</td>\n",
       "      <td>NaN</td>\n",
       "      <td>50</td>\n",
       "      <td>secondary education</td>\n",
       "      <td>1</td>\n",
       "      <td>civil partnership</td>\n",
       "      <td>1</td>\n",
       "      <td>F</td>\n",
       "      <td>employee</td>\n",
       "      <td>0</td>\n",
       "      <td>NaN</td>\n",
       "      <td>wedding ceremony</td>\n",
       "    </tr>\n",
       "    <tr>\n",
       "      <th>21497</th>\n",
       "      <td>0</td>\n",
       "      <td>NaN</td>\n",
       "      <td>48</td>\n",
       "      <td>BACHELOR'S DEGREE</td>\n",
       "      <td>0</td>\n",
       "      <td>married</td>\n",
       "      <td>0</td>\n",
       "      <td>F</td>\n",
       "      <td>business</td>\n",
       "      <td>0</td>\n",
       "      <td>NaN</td>\n",
       "      <td>building a property</td>\n",
       "    </tr>\n",
       "    <tr>\n",
       "      <th>21502</th>\n",
       "      <td>1</td>\n",
       "      <td>NaN</td>\n",
       "      <td>42</td>\n",
       "      <td>secondary education</td>\n",
       "      <td>1</td>\n",
       "      <td>married</td>\n",
       "      <td>0</td>\n",
       "      <td>F</td>\n",
       "      <td>employee</td>\n",
       "      <td>0</td>\n",
       "      <td>NaN</td>\n",
       "      <td>building a real estate</td>\n",
       "    </tr>\n",
       "    <tr>\n",
       "      <th>21510</th>\n",
       "      <td>2</td>\n",
       "      <td>NaN</td>\n",
       "      <td>28</td>\n",
       "      <td>secondary education</td>\n",
       "      <td>1</td>\n",
       "      <td>married</td>\n",
       "      <td>0</td>\n",
       "      <td>F</td>\n",
       "      <td>employee</td>\n",
       "      <td>0</td>\n",
       "      <td>NaN</td>\n",
       "      <td>car purchase</td>\n",
       "    </tr>\n",
       "  </tbody>\n",
       "</table>\n",
       "</div>"
      ],
      "text/plain": [
       "       children  days_employed  dob_years            education  education_id  \\\n",
       "21000         2            NaN         35  secondary education             1   \n",
       "21031         0            NaN         56  secondary education             1   \n",
       "21032         0            NaN         60  secondary education             1   \n",
       "21057         0            NaN         62  secondary education             1   \n",
       "21060         0            NaN         23  secondary education             1   \n",
       "21070         0            NaN         59    bachelor's degree             0   \n",
       "21077         1            NaN         41  secondary education             1   \n",
       "21085         0            NaN         48  secondary education             1   \n",
       "21090         0            NaN         41         some college             2   \n",
       "21102         0            NaN         60  secondary education             1   \n",
       "21118         0            NaN         40  secondary education             1   \n",
       "21124         0            NaN         66  secondary education             1   \n",
       "21126         0            NaN         39  secondary education             1   \n",
       "21132         0            NaN         47  secondary education             1   \n",
       "21146         0            NaN         69  secondary education             1   \n",
       "21152         1            NaN         40  secondary education             1   \n",
       "21177         0            NaN         27  secondary education             1   \n",
       "21182         0            NaN         28    bachelor's degree             0   \n",
       "21206         1            NaN         34  secondary education             1   \n",
       "21211         0            NaN         48  secondary education             1   \n",
       "21226         3            NaN         38  secondary education             1   \n",
       "21242         1            NaN         33    bachelor's degree             0   \n",
       "21251         0            NaN         57         some college             2   \n",
       "21258         1            NaN         40  secondary education             1   \n",
       "21268         1            NaN         44    bachelor's degree             0   \n",
       "21271         2            NaN         42  secondary education             1   \n",
       "21281         1            NaN         30    bachelor's degree             0   \n",
       "21294         0            NaN         45    BACHELOR'S DEGREE             0   \n",
       "21300         2            NaN         45  Secondary Education             1   \n",
       "21305         0            NaN         59  secondary education             1   \n",
       "21308         0            NaN         48  secondary education             1   \n",
       "21311         0            NaN         49  secondary education             1   \n",
       "21321         0            NaN         56  Secondary Education             1   \n",
       "21350         0            NaN         21  secondary education             1   \n",
       "21364         0            NaN         50  secondary education             1   \n",
       "21369         2            NaN         42  secondary education             1   \n",
       "21390        20            NaN         53  secondary education             1   \n",
       "21391         0            NaN         52  secondary education             1   \n",
       "21407         1            NaN         36  secondary education             1   \n",
       "21414         0            NaN         65  secondary education             1   \n",
       "21415         0            NaN         54  secondary education             1   \n",
       "21423         0            NaN         63  secondary education             1   \n",
       "21426         0            NaN         49  secondary education             1   \n",
       "21432         1            NaN         38         some college             2   \n",
       "21463         1            NaN         35    bachelor's degree             0   \n",
       "21489         2            NaN         47  Secondary Education             1   \n",
       "21495         1            NaN         50  secondary education             1   \n",
       "21497         0            NaN         48    BACHELOR'S DEGREE             0   \n",
       "21502         1            NaN         42  secondary education             1   \n",
       "21510         2            NaN         28  secondary education             1   \n",
       "\n",
       "           family_status  family_status_id gender    income_type  debt  \\\n",
       "21000            married                 0      M       employee     0   \n",
       "21031  civil partnership                 1      F        retiree     0   \n",
       "21032            married                 0      F        retiree     0   \n",
       "21057  civil partnership                 1      M       employee     0   \n",
       "21060          unmarried                 4      F       employee     0   \n",
       "21070            married                 0      F        retiree     0   \n",
       "21077            married                 0      F       business     0   \n",
       "21085  civil partnership                 1      F       employee     0   \n",
       "21090            married                 0      M       business     0   \n",
       "21102            married                 0      M       employee     0   \n",
       "21118            married                 0      F       employee     0   \n",
       "21124  civil partnership                 1      M        retiree     0   \n",
       "21126            married                 0      F       employee     0   \n",
       "21132            married                 0      F       employee     0   \n",
       "21146  civil partnership                 1      F        retiree     0   \n",
       "21152            married                 0      F       employee     0   \n",
       "21177          unmarried                 4      M       business     0   \n",
       "21182  civil partnership                 1      F       employee     0   \n",
       "21206            married                 0      M       business     0   \n",
       "21211            married                 0      F       employee     0   \n",
       "21226  civil partnership                 1      M       employee     0   \n",
       "21242          unmarried                 4      F  civil servant     0   \n",
       "21251  civil partnership                 1      F       employee     0   \n",
       "21258          unmarried                 4      M       employee     0   \n",
       "21268  civil partnership                 1      F  civil servant     0   \n",
       "21271  civil partnership                 1      M       employee     1   \n",
       "21281            married                 0      F       employee     0   \n",
       "21294            married                 0      F       employee     0   \n",
       "21300  civil partnership                 1      M       business     0   \n",
       "21305          unmarried                 4      F        retiree     0   \n",
       "21308            married                 0      F       business     0   \n",
       "21311            married                 0      F        retiree     0   \n",
       "21321            married                 0      F        retiree     0   \n",
       "21350          unmarried                 4      M       business     0   \n",
       "21364            married                 0      M       employee     0   \n",
       "21369           divorced                 3      M       business     0   \n",
       "21390            married                 0      M       business     0   \n",
       "21391            married                 0      F       business     0   \n",
       "21407            married                 0      F       business     0   \n",
       "21414            married                 0      F        retiree     0   \n",
       "21415            married                 0      F        retiree     0   \n",
       "21423            married                 0      M        retiree     0   \n",
       "21426            married                 0      F       employee     1   \n",
       "21432          unmarried                 4      F       employee     0   \n",
       "21463  civil partnership                 1      M       employee     0   \n",
       "21489            married                 0      M       business     0   \n",
       "21495  civil partnership                 1      F       employee     0   \n",
       "21497            married                 0      F       business     0   \n",
       "21502            married                 0      F       employee     0   \n",
       "21510            married                 0      F       employee     0   \n",
       "\n",
       "       total_income                              purpose  \n",
       "21000           NaN                purchase of the house  \n",
       "21031           NaN                     wedding ceremony  \n",
       "21032           NaN                   to become educated  \n",
       "21057           NaN                     wedding ceremony  \n",
       "21060           NaN         construction of own property  \n",
       "21070           NaN                   to become educated  \n",
       "21077           NaN                      buy real estate  \n",
       "21085           NaN                 housing transactions  \n",
       "21090           NaN                   housing renovation  \n",
       "21102           NaN                  building a property  \n",
       "21118           NaN             second-hand car purchase  \n",
       "21124           NaN                    to have a wedding  \n",
       "21126           NaN                         car purchase  \n",
       "21132           NaN                   housing renovation  \n",
       "21146           NaN                     wedding ceremony  \n",
       "21152           NaN             real estate transactions  \n",
       "21177           NaN                    purchase of a car  \n",
       "21182           NaN         construction of own property  \n",
       "21206           NaN             purchase of my own house  \n",
       "21211           NaN             second-hand car purchase  \n",
       "21226           NaN                 getting an education  \n",
       "21242           NaN         construction of own property  \n",
       "21251           NaN                     wedding ceremony  \n",
       "21258           NaN                 housing transactions  \n",
       "21268           NaN                     having a wedding  \n",
       "21271           NaN     transactions with my real estate  \n",
       "21281           NaN           buy commercial real estate  \n",
       "21294           NaN                 university education  \n",
       "21300           NaN     to get a supplementary education  \n",
       "21305           NaN         construction of own property  \n",
       "21308           NaN      buying property for renting out  \n",
       "21311           NaN      buying property for renting out  \n",
       "21321           NaN             real estate transactions  \n",
       "21350           NaN                         to buy a car  \n",
       "21364           NaN     transactions with my real estate  \n",
       "21369           NaN          buy residential real estate  \n",
       "21390           NaN          buy residential real estate  \n",
       "21391           NaN  purchase of the house for my family  \n",
       "21407           NaN               building a real estate  \n",
       "21414           NaN             purchase of my own house  \n",
       "21415           NaN                 housing transactions  \n",
       "21423           NaN                    purchase of a car  \n",
       "21426           NaN                             property  \n",
       "21432           NaN                 housing transactions  \n",
       "21463           NaN                     having a wedding  \n",
       "21489           NaN                    purchase of a car  \n",
       "21495           NaN                     wedding ceremony  \n",
       "21497           NaN                  building a property  \n",
       "21502           NaN               building a real estate  \n",
       "21510           NaN                         car purchase  "
      ]
     },
     "execution_count": 8,
     "metadata": {},
     "output_type": "execute_result"
    }
   ],
   "source": [
    "credit_df_null.tail(50) # Print the last 50 rows"
   ]
  },
  {
   "cell_type": "markdown",
   "metadata": {},
   "source": [
    "The first thing we can notice that almost all the missing data has a common three values in the 'education' column.The values 'secondary education', 'bachlor's degree' and 'some collage are repeted in the 'education' column where there are missing values. But in all the other columns it seems that there is no common values and is distributed randomly.\n",
    "lets check each column distribution ov values to see if there are repeted values."
   ]
  },
  {
   "cell_type": "code",
   "execution_count": 9,
   "metadata": {},
   "outputs": [
    {
     "name": "stdout",
     "output_type": "stream",
     "text": [
      "\n",
      "education_id column:\n",
      " 1    15233\n",
      "0     5260\n",
      "2      744\n",
      "3      282\n",
      "4        6\n",
      "Name: education_id, dtype: int64\n",
      "\n",
      "education_id missing data column:\n",
      " 1    1540\n",
      "0     544\n",
      "2      69\n",
      "3      21\n",
      "Name: education_id, dtype: int64\n",
      "\n",
      "dob_years column:\n",
      " 35    617\n",
      "40    609\n",
      "41    607\n",
      "34    603\n",
      "38    598\n",
      "42    597\n",
      "33    581\n",
      "39    573\n",
      "31    560\n",
      "36    555\n",
      "44    547\n",
      "29    545\n",
      "30    540\n",
      "48    538\n",
      "37    537\n",
      "50    514\n",
      "43    513\n",
      "32    510\n",
      "49    508\n",
      "28    503\n",
      "45    497\n",
      "27    493\n",
      "56    487\n",
      "52    484\n",
      "47    480\n",
      "54    479\n",
      "46    475\n",
      "58    461\n",
      "57    460\n",
      "53    459\n",
      "51    448\n",
      "59    444\n",
      "55    443\n",
      "26    408\n",
      "60    377\n",
      "25    357\n",
      "61    355\n",
      "62    352\n",
      "63    269\n",
      "64    265\n",
      "24    264\n",
      "23    254\n",
      "65    194\n",
      "66    183\n",
      "22    183\n",
      "67    167\n",
      "21    111\n",
      "0     101\n",
      "68     99\n",
      "69     85\n",
      "70     65\n",
      "71     58\n",
      "20     51\n",
      "72     33\n",
      "19     14\n",
      "73      8\n",
      "74      6\n",
      "75      1\n",
      "Name: dob_years, dtype: int64\n",
      "\n",
      "dob_years missing data column:\n",
      " 34    69\n",
      "40    66\n",
      "31    65\n",
      "42    65\n",
      "35    64\n",
      "36    63\n",
      "47    59\n",
      "41    59\n",
      "30    58\n",
      "28    57\n",
      "57    56\n",
      "58    56\n",
      "54    55\n",
      "38    54\n",
      "56    54\n",
      "37    53\n",
      "52    53\n",
      "39    51\n",
      "33    51\n",
      "50    51\n",
      "51    50\n",
      "45    50\n",
      "49    50\n",
      "29    50\n",
      "43    50\n",
      "46    48\n",
      "55    48\n",
      "48    46\n",
      "53    44\n",
      "44    44\n",
      "60    39\n",
      "61    38\n",
      "62    38\n",
      "64    37\n",
      "32    37\n",
      "27    36\n",
      "23    36\n",
      "26    35\n",
      "59    34\n",
      "63    29\n",
      "25    23\n",
      "24    21\n",
      "66    20\n",
      "65    20\n",
      "21    18\n",
      "22    17\n",
      "67    16\n",
      "0     10\n",
      "68     9\n",
      "69     5\n",
      "20     5\n",
      "71     5\n",
      "70     3\n",
      "72     2\n",
      "19     1\n",
      "73     1\n",
      "Name: dob_years, dtype: int64\n",
      "\n",
      "family_status_id column:\n",
      " 0    12380\n",
      "1     4177\n",
      "4     2813\n",
      "3     1195\n",
      "2      960\n",
      "Name: family_status_id, dtype: int64\n",
      "\n",
      "family_status_id missing data column:\n",
      " 0    1237\n",
      "1     442\n",
      "4     288\n",
      "3     112\n",
      "2      95\n",
      "Name: family_status_id, dtype: int64\n",
      "\n",
      "gender column:\n",
      " F      14236\n",
      "M       7288\n",
      "XNA        1\n",
      "Name: gender, dtype: int64\n",
      "\n",
      "gender missing data column:\n",
      " F    1484\n",
      "M     690\n",
      "Name: gender, dtype: int64\n",
      "\n",
      "income_type column:\n",
      " employee                       11119\n",
      "business                        5085\n",
      "retiree                         3856\n",
      "civil servant                   1459\n",
      "entrepreneur                       2\n",
      "unemployed                         2\n",
      "student                            1\n",
      "paternity / maternity leave        1\n",
      "Name: income_type, dtype: int64\n",
      "\n",
      "income_type missing data column:\n",
      " employee         1105\n",
      "business          508\n",
      "retiree           413\n",
      "civil servant     147\n",
      "entrepreneur        1\n",
      "Name: income_type, dtype: int64\n",
      "\n",
      "purpose column:\n",
      " wedding ceremony                            797\n",
      "having a wedding                            777\n",
      "to have a wedding                           774\n",
      "real estate transactions                    676\n",
      "buy commercial real estate                  664\n",
      "housing transactions                        653\n",
      "buying property for renting out             653\n",
      "transactions with commercial real estate    651\n",
      "housing                                     647\n",
      "purchase of the house                       647\n",
      "purchase of the house for my family         641\n",
      "construction of own property                635\n",
      "property                                    634\n",
      "transactions with my real estate            630\n",
      "building a real estate                      626\n",
      "buy real estate                             624\n",
      "building a property                         620\n",
      "purchase of my own house                    620\n",
      "housing renovation                          612\n",
      "buy residential real estate                 607\n",
      "buying my own car                           505\n",
      "going to university                         496\n",
      "car                                         495\n",
      "second-hand car purchase                    489\n",
      "to own a car                                480\n",
      "buying a second-hand car                    479\n",
      "cars                                        478\n",
      "to buy a car                                472\n",
      "car purchase                                462\n",
      "supplementary education                     462\n",
      "purchase of a car                           455\n",
      "university education                        453\n",
      "education                                   447\n",
      "to get a supplementary education            447\n",
      "getting an education                        443\n",
      "profile education                           436\n",
      "getting higher education                    426\n",
      "to become educated                          412\n",
      "Name: purpose, dtype: int64\n",
      "\n",
      "purpose missing data column:\n",
      " having a wedding                            92\n",
      "to have a wedding                           81\n",
      "wedding ceremony                            76\n",
      "construction of own property                75\n",
      "housing transactions                        74\n",
      "buy real estate                             72\n",
      "transactions with my real estate            71\n",
      "purchase of the house for my family         71\n",
      "housing renovation                          70\n",
      "transactions with commercial real estate    70\n",
      "buy commercial real estate                  67\n",
      "buying property for renting out             65\n",
      "property                                    62\n",
      "real estate transactions                    61\n",
      "buy residential real estate                 61\n",
      "housing                                     60\n",
      "building a property                         59\n",
      "cars                                        57\n",
      "going to university                         56\n",
      "to become educated                          55\n",
      "second-hand car purchase                    54\n",
      "buying my own car                           53\n",
      "purchase of the house                       52\n",
      "to own a car                                52\n",
      "to get a supplementary education            51\n",
      "getting an education                        50\n",
      "supplementary education                     48\n",
      "profile education                           47\n",
      "purchase of a car                           46\n",
      "building a real estate                      46\n",
      "purchase of my own house                    46\n",
      "car purchase                                43\n",
      "buying a second-hand car                    42\n",
      "education                                   42\n",
      "car                                         41\n",
      "university education                        40\n",
      "getting higher education                    36\n",
      "to buy a car                                30\n",
      "Name: purpose, dtype: int64\n"
     ]
    }
   ],
   "source": [
    "# Checking distribution ov values for every column on both general data and missing value data\n",
    "\n",
    "print('\\n{} column:\\n'.format('education_id'), credit_df['education_id'].value_counts()) # column education_id\n",
    "print('\\n{} missing data column:\\n'.format('education_id'), credit_df_null['education_id'].value_counts()) # column education_id \n",
    "\n",
    "print('\\n{} column:\\n'.format('dob_years'), credit_df['dob_years'].value_counts()) # column dob_years\n",
    "print('\\n{} missing data column:\\n'.format('dob_years'), credit_df_null['dob_years'].value_counts()) # column dob_years\n",
    "\n",
    "print('\\n{} column:\\n'.format('family_status_id'), credit_df['family_status_id'].value_counts()) # column family_status_id\n",
    "print('\\n{} missing data column:\\n'.format('family_status_id'), credit_df_null['family_status_id'].value_counts()) # column family_status_id\n",
    "\n",
    "print('\\n{} column:\\n'.format('gender'), credit_df['gender'].value_counts()) # column gender\n",
    "print('\\n{} missing data column:\\n'.format('gender'), credit_df_null['gender'].value_counts()) # column gender\n",
    "\n",
    "print('\\n{} column:\\n'.format('income_type'), credit_df['income_type'].value_counts()) # column income_type\n",
    "print('\\n{} missing data column:\\n'.format('income_type'), credit_df_null['income_type'].value_counts()) # column income_type\n",
    "\n",
    "print('\\n{} column:\\n'.format('purpose'), credit_df['purpose'].value_counts()) # column income_type\n",
    "print('\\n{} missing data column:\\n'.format('purpose'), credit_df_null['purpose'].value_counts()) # column income_type\n",
    "\n"
   ]
  },
  {
   "cell_type": "markdown",
   "metadata": {},
   "source": [
    "**Possible reasons for missing values in data**\n",
    "\n",
    "Looking breifly on the both tables,the reason comes in mind that there is probably a technical problem that caused this values from being missed.The symetry in two colums in the same indexes seems to be randomly picked.  \n",
    "\n",
    "one reason can be missing supporting documents - \n",
    "But the consistency an symentry in both columns is not 'natural'.A customer can have on or two missing documents each for the column with the missing values, But that would have to make a-symetry in missing values. where on customer did not aapliied one document and the other customer did not applied both documents.there for makink an non-symetrical missing values patern. We do not see it here so we can exclude this resone\n",
    "\n",
    "We will try to look on the next steps to see if, we can support this hypotheses, looking if there are other values of the other columns repeting in a patern or not(will we fine one, two or more values repeating where there are missing values) , in the filtered  table.\n",
    "Building a loop that will print the a comperison between the number of unique values that are in every column of both the general data and the filltered data if the give a sense if there is a patern or almost all the values apears in the filtered data.If we sea a major decreas in on of the columns unique values to appear in the filltered data, we will investigate the values that will appear , for further investigation. If there will be a small or non decrese, then we can exclude a patern in the missing data values.\n",
    "\n",
    "Since there are the missing values in the 'days_employed' and the 'total_income' columns, and the 'education_id' and 'family_status_id' are the number-value image of the 'education' and 'family_status' columns values, we will not include them in our check.\n",
    "\n"
   ]
  },
  {
   "cell_type": "code",
   "execution_count": 10,
   "metadata": {},
   "outputs": [
    {
     "data": {
      "text/plain": [
       "Index(['children', 'days_employed', 'dob_years', 'education', 'education_id',\n",
       "       'family_status', 'family_status_id', 'gender', 'income_type', 'debt',\n",
       "       'total_income', 'purpose'],\n",
       "      dtype='object')"
      ]
     },
     "execution_count": 10,
     "metadata": {},
     "output_type": "execute_result"
    }
   ],
   "source": [
    "credit_df.columns # printing the columns names for extracting the relevent ones "
   ]
  },
  {
   "cell_type": "code",
   "execution_count": 11,
   "metadata": {
    "scrolled": true
   },
   "outputs": [
    {
     "name": "stdout",
     "output_type": "stream",
     "text": [
      "\n",
      "unique values in the- children -column:\n",
      "full data unique values shows:  8\n",
      "filtered data unique values shows:  8\n",
      "\n",
      "unique values in the- dob_years -column:\n",
      "full data unique values shows:  58\n",
      "filtered data unique values shows:  56\n",
      "\n",
      "unique values in the- education -column:\n",
      "full data unique values shows:  15\n",
      "filtered data unique values shows:  12\n",
      "\n",
      "unique values in the- family_status -column:\n",
      "full data unique values shows:  5\n",
      "filtered data unique values shows:  5\n",
      "\n",
      "unique values in the- gender -column:\n",
      "full data unique values shows:  3\n",
      "filtered data unique values shows:  2\n",
      "\n",
      "unique values in the- income_type -column:\n",
      "full data unique values shows:  8\n",
      "filtered data unique values shows:  5\n",
      "\n",
      "unique values in the- debt -column:\n",
      "full data unique values shows:  2\n",
      "filtered data unique values shows:  2\n",
      "\n",
      "unique values in the- purpose -column:\n",
      "full data unique values shows:  38\n",
      "filtered data unique values shows:  38\n"
     ]
    }
   ],
   "source": [
    "#verables  for the function\n",
    "#list of the name of columns\n",
    "lst_columns = ['children','dob_years','education','family_status','gender','income_type','debt','purpose'] \n",
    "\n",
    "for clmn in lst_columns:\n",
    "    \n",
    "    print()\n",
    "    print('unique values in the- {} -column:'.format(clmn))\n",
    "    print('full data unique values shows: ',len(credit_df[clmn].unique()))\n",
    "    print('filtered data unique values shows: ',len(credit_df_null[clmn].unique()))\n",
    "    "
   ]
  },
  {
   "cell_type": "markdown",
   "metadata": {},
   "source": [
    "**Final conclusion on the patern question we seeked.**\n",
    "\n",
    "The values that are shown, dissmiss the posibility of a patern.\n",
    "Almost all the values that show in the original data, are also in the filtered data.\n",
    "There for we can derive that there is no obviouse patern where there are missing values.\n",
    "This fact, strengthen the evaluation that these values are due to a technical problem.\n"
   ]
  },
  {
   "cell_type": "markdown",
   "metadata": {},
   "source": [
    "**The missing values effect on the general data**\n",
    "\n",
    "As for these missing values, we will now see how much every education of  its missing 'total_incom' values, effect on the general education_id, 'total_income' missing values(what is the percentaged of missing values on every education_id and its 'total_income' value), on values from the general data. (we will use the 'education_id' column to simplify our search)\n",
    "We will use the calculated effect (prcentage based on the mean of the total incom), to decide on our next step and how we will relate to the missing values.\n",
    "\n",
    "As of the base that we will take as a guide for further actions: \n",
    "-If the effect we calculated is up to 3% of the total income, we can delete the records,since this is a plausable human error efect, that we can take in acount. \n",
    "-Any other effect we will have will make us complete the missing data and moove on to the next step of prepering the data.\n"
   ]
  },
  {
   "cell_type": "code",
   "execution_count": 12,
   "metadata": {
    "scrolled": false
   },
   "outputs": [
    {
     "name": "stdout",
     "output_type": "stream",
     "text": [
      "\n",
      "The precentage of missing values in the bachelors degree in education column is: 10.3%\n",
      "The total of records are :  5260\n",
      "The total of income of nun null records is :  156301456.27899998\n",
      "The total missing records are :  544\n",
      "The total income \"($)\" missing based on mean of bachelors degree is: 18029684.52412553\n",
      "The effect on the Total incom is an increase of : 10%\n",
      "\n",
      "The precentage of missing values in the Secondary Education in education column is: 10.1%\n",
      "The total of records are :  15233\n",
      "The total of income of nun null records is :  336772530.087\n",
      "The total missing records are :  1540\n",
      "The total income \"($)\" missing based on mean of Secondary Education is: 37875534.677132845\n",
      "The effect on the Total incom is an increase of : 10%\n",
      "\n",
      "The precentage of missing values in the some college in education column is: 9.3%\n",
      "The total of records are :  744\n",
      "The total of income of nun null records is :  19605674.46\n",
      "The total missing records are :  69\n",
      "The total income \"($)\" missing based on mean of some college is: 2004135.611466667\n",
      "The effect on the Total incom is an increase of : 9%\n",
      "\n",
      "The precentage of missing values in the primary education in education column is: 7.4%\n",
      "The total of records are :  282\n",
      "The total of income of nun null records is :  5518814.257\n",
      "The total missing records are :  21\n",
      "The total income \"($)\" missing based on mean of primary education is: 444042.52642528736\n",
      "The effect on the Total incom is an increase of : 7%\n",
      "\n",
      "The precentage of missing values in the Graduate Degree in education column is: 0.0%\n",
      "The mean and Total were not calculated\n"
     ]
    }
   ],
   "source": [
    "# Checking the distribution in the whole dataset by calculating the percentage of the missing values in the\n",
    "#education_id column and the total_income column and what is the effect on the mean and median values we get\n",
    "#in the total_income column \n",
    "\n",
    "#veriables for the calculation process\n",
    "edu_total_unique = credit_df['education_id'].unique() #unique values of the columns\n",
    "edu_missing_val_unique = credit_df_null['education_id'].unique()\n",
    "\n",
    "edu_total = credit_df['education_id'].value_counts() #numbe of rows in this column of the full data set\n",
    "edu_missing_val = credit_df_null['education_id'].value_counts()#numbe of rows in this column of the filtered data set\n",
    "\n",
    "incom_total =  credit_df[['education_id','total_income']] \n",
    "\n",
    "#dictionary for translating education_id value to its text actual value - will be used in the print code\n",
    "edu_dict = { 0:'bachelors degree' , 1:'Secondary Education' , 2:'some college' , 3:'primary education' , 4:'Graduate Degree'}\n",
    "                         \n",
    "#calculate the % of each education_id - using a for loop\n",
    "\n",
    "for edu_id in edu_total_unique: # working through the list of unique values in the full data set\n",
    "    if edu_id in edu_missing_val_unique: #checking if this value is also in the filtered data values\n",
    "        \n",
    "        edu_id_missing_percent = edu_missing_val[edu_id] / edu_total[edu_id] #calculating the percentage of \n",
    "                                                                                #each existin value\n",
    "        print('\\nThe precentage of missing values in the {} in education column is: {:.1%}'.format(edu_dict[edu_id],edu_id_missing_percent))\n",
    "    \n",
    "        med_total_income = credit_df['total_income'].loc[(credit_df['education_id'] == edu_id)].median()\n",
    "        mean_total_income = credit_df['total_income'].loc[(credit_df['education_id'] == edu_id)].mean()\n",
    "        \n",
    "        \n",
    "        #calculating the pecentage effect of total missing records on the total income\n",
    "        \n",
    "        total_records = len(credit_df['total_income'].loc[(credit_df['education_id'] == edu_id)]) #total records in the full table\n",
    "        total_incom_of_records = credit_df['total_income'].loc[(credit_df['education_id'] == edu_id)].sum()# total incom in the full table\n",
    "        \n",
    "        number_of_mising_records = len(credit_df_null['total_income'].loc[(credit_df_null['education_id'] == edu_id)]) #number of records of missing records\n",
    "        \n",
    "        based_mean_income_missing = number_of_mising_records * mean_total_income # total income missing based on the mean of total incom\n",
    "        total_income_based_mean =  total_incom_of_records + based_mean_income_missing # the total incom we have had if there were no missing values\n",
    "        print('The total of records are :  {}'.format(total_records))\n",
    "        print('The total of income of nun null records is :  {}'.format(total_incom_of_records)) # the summ of total incom in the full table\n",
    "        print('The total missing records are :  {}'.format(number_of_mising_records)) # number of missing records\n",
    "        print('The total income \"($)\" missing based on mean of {} is: {}'.format(edu_dict[edu_id] , based_mean_income_missing))# the sum of income if no missing values were present\n",
    "        print('The effect on the Total incom is an increase of : {:.0%}'.format((1-(total_incom_of_records/total_income_based_mean)))) #the effect the missing incom has on the calculated total\n",
    "    \n",
    "    else:\n",
    "        edu_id_missing_percent = 0\n",
    "        try: \n",
    "            med_total_income = credit_df['total_income'].loc[(credit_df['education_id'] == edu_id)].median()\n",
    "            mean_total_income = credit_df['total_income'].loc[(credit_df['education_id'] == edu_id)].mean()\n",
    "        except:\n",
    "            med_total_income = -1\n",
    "            mean_total_income = -1\n",
    "        print('\\nThe precentage of missing values in the {} in education column is: {:.1%}'.format(edu_dict[edu_id],0))\n",
    "        print('The mean and Total were not calculated')\n",
    "    \n",
    "    "
   ]
  },
  {
   "cell_type": "markdown",
   "metadata": {},
   "source": [
    "**Intermediate conclusion**\n",
    "\n",
    "After I have made a comparacent between the two tables, the full table and the filterd table , I founf no pattern, that will indicate of an intentional cause for the missing values.\n",
    "There is no patern of other values that are cosistent with the missing values we have.Almost all other values of all other columns, appear in the filtered data, and not with any obvious patern.\n",
    " \n",
    "There for my conclustion is that there is or was, probably a technical problem that caused this values of being missed.\n",
    "The second reason I conclude this is a technical problem ,is due to the nature of the missing values.\n",
    "You would expect that the total income of a customer , and its potential hyring ability (as an effect of his working days represented in 'days_employed' column), would be taken in consideration, when applying a loan. \n",
    " reason is, that \n",
    "**There for the coclusion is that there was a technical problem causing the missing values.\n",
    "\n",
    "**So I sugest thet the system tech personal, will recieved this information for further investigation on theire part.\n",
    "\n",
    "\n",
    "**As for the missing values themselves ** \n",
    "\n",
    "Since the effect maxed the 3% (see above comperison of data) that we have made as an guide for deciding waht our next step , dealing with the missing values, We will need to fill the missing values by the mean or median of each missing row value - and we can use the mean and median we extracted in the previouse check for the effect of the missing values, to use it and add the 'days_employed' column fron this values to be processed.\n",
    "\n",
    "**The next step**\n",
    "\n",
    "After deciding that we need to fill the missing data, we need to determin with what values.\n",
    "Let us get the mean and median values of both 'days_employed' and 'total_income columns.\n",
    "we will do that, based on their education, that is a good referance to go by, to fine in the same educational group the mean and median of their total income.We can assume that the change of the salerries in these groups will not differ much.\n",
    "If the diffrance between median and meen , of the educational group , will be very distinct, we will use the median value.If not, then we can use the mean.\n",
    "\n",
    "**Just on last thing befor we go on**\n",
    "We have a problem in the 'days_employed' column that we detected erlier in our check. \n",
    "The column have *negative values*. \n",
    "we will change the negative values that looks like a human error misstake, back to positive values befor we will calculate the mean and median of this column.\n",
    "\n",
    "\n",
    "\n"
   ]
  },
  {
   "cell_type": "code",
   "execution_count": 13,
   "metadata": {},
   "outputs": [
    {
     "name": "stdout",
     "output_type": "stream",
     "text": [
      "0\n"
     ]
    }
   ],
   "source": [
    "#using abs() function to replace all values in the days_employed to a positive values\n",
    "#and then check if all were chenged - if they were the printed resauls should be 0.\n",
    "\n",
    "credit_df['days_employed'] = abs(credit_df['days_employed']) \n",
    "print(len(credit_df.loc[(credit_df['days_employed'] < 0)]))"
   ]
  },
  {
   "cell_type": "code",
   "execution_count": 14,
   "metadata": {},
   "outputs": [
    {
     "name": "stdout",
     "output_type": "stream",
     "text": [
      "for education Id: 0\n",
      "total_income column median :  28054.531000000003\n",
      "total_income column mean :  33142.80243405428\n",
      "for education Id: 0\n",
      "days_employed column median :  1895.7477953984824\n",
      "days_employed column mean :  42375.40917437274\n",
      "for education Id: 1\n",
      "total_income column median :  21836.583\n",
      "total_income column mean :  24594.50303709925\n",
      "for education Id: 1\n",
      "days_employed column median :  2392.4835002975465\n",
      "days_employed column mean :  76413.82237201057\n",
      "for education Id: 2\n",
      "total_income column median :  25618.464\n",
      "total_income column mean :  29045.443644444447\n",
      "for education Id: 2\n",
      "days_employed column median :  1209.1280832366251\n",
      "days_employed column mean :  20656.63201666237\n",
      "for education Id: 3\n",
      "total_income column median :  18741.976\n",
      "total_income column mean :  21144.88221072797\n",
      "for education Id: 3\n",
      "days_employed column median :  3043.933614681601\n",
      "days_employed column mean :  130340.42634924148\n",
      "for education Id: 4\n",
      "total_income column median :  25161.5835\n",
      "total_income column mean :  27960.024666666664\n",
      "for education Id: 4\n",
      "days_employed column median :  5660.057031852901\n",
      "days_employed column mean :  121323.63020632055\n",
      "\n",
      "\n",
      "{0: 33142.80243405428, 1: 24594.50303709925, 2: 29045.443644444447, 3: 21144.88221072797, 4: 27960.024666666664}\n",
      "{0: 28054.531000000003, 1: 21836.583, 2: 25618.464, 3: 18741.976, 4: 25161.5835}\n"
     ]
    }
   ],
   "source": [
    "#getting the mean and median for each education_id\n",
    "#using dynamic dictionary\n",
    "\n",
    "def mean_median_find(edu_total_unique):\n",
    "\n",
    "    med_mean_dict = {}\n",
    "    \n",
    "    for edu_id in edu_total_unique: # working through the list of unique values in the full data set\n",
    "        #each veriable will return the mean and medin in both total_income and days_employed columns \n",
    "        med_total_income = credit_df['total_income'].loc[(credit_df['education_id'] == edu_id)].median()\n",
    "        mean_total_income = credit_df['total_income'].loc[(credit_df['education_id'] == edu_id)].mean()\n",
    "        med_days_employed = credit_df['days_employed'].loc[(credit_df['education_id'] == edu_id)].median()\n",
    "        mean_days_employed = credit_df['days_employed'].loc[(credit_df['education_id'] == edu_id)].mean()\n",
    "        med_mean_dict[edu_id] = [[med_total_income,mean_total_income],[med_days_employed,mean_days_employed]]\n",
    "    \n",
    "    return(med_mean_dict)\n",
    "\n",
    "edu_unique  = credit_df['education_id'].unique() # list the unique education id values\n",
    "\n",
    "median_mean_dict = mean_median_find(edu_unique) #calling te function to retrieve the mean and median values for each column\n",
    "                                                # based on education_id column\n",
    "\n",
    "#dictionaries that will contain the mean and median for each education id of 'total_income' column\n",
    "#These veriables will be used leter to fill the missing values\n",
    "\n",
    "income_mean_dict = {}\n",
    "income_median_dict = {}\n",
    "\n",
    "for edu_id in credit_df['education_id'].unique():\n",
    "        \n",
    "    print ('for education Id:',edu_id)\n",
    "    print ('total_income column median : ',median_mean_dict[edu_id][0][0])\n",
    "    income_median_dict[edu_id] = median_mean_dict[edu_id][0][0]\n",
    "    print ('total_income column mean : ',median_mean_dict[edu_id][0][1])\n",
    "    income_mean_dict[edu_id] = median_mean_dict[edu_id][0][1]\n",
    "    print ('for education Id:',edu_id)\n",
    "    print ('days_employed column median : ',median_mean_dict[edu_id][1][0])\n",
    "    print ('days_employed column mean : ',median_mean_dict[edu_id][1][1])\n",
    "\n",
    "\n",
    "\n",
    "\n",
    "print('\\n')\n",
    "print(income_mean_dict)\n",
    "print(income_median_dict)\n",
    "\n",
    "    \n",
    "    "
   ]
  },
  {
   "cell_type": "markdown",
   "metadata": {},
   "source": [
    "**Intermediate conclusion**\n",
    "\n",
    "The resaults show two things:\n",
    "\n",
    "1- The mean and median of all the education id groups are almost the same there for we will use in the 'total_income' column the, mean to change the values.\n",
    "\n",
    "2 - In the 'day_employed' there are big differences between the mean and median values.so here we will use the median as our value.\n",
    "\n",
    "We can now use the dictionaries we made in the previouse section to fill in the missing data acording to the values we decided are the most appropriate.\n",
    "For the 'total_income' missing values we will use the income_mean_dict veriable as the referance for the values to change to. And for the 'days_employed' column missing values we will use the median as referance.\n"
   ]
  },
  {
   "cell_type": "markdown",
   "metadata": {},
   "source": [
    "**Conclusions**\n",
    "\n",
    "This Part showed that the missing values have no patteren, that suggest that the values were intentionaly missed, due to some value cretiria. They appeared randomaly but in consistence with each other in both 'days_employed' and 'total_income' columns.\n",
    "The lack of ducumants for each category('dayes employed' and 'total_income' columns), was dissmised due to the full symetry in both columns.\n",
    "After looking at the data, the acumelated evidance suggested a system technical problem.\n",
    "Since this was the case and the check of the missing data showed that the values must be filled, we have made the preparations to fill all missing data according to the education_id a customer have, that will give us a common ground to devide the customers to groups that are most likely to be payed the same amount.\n",
    "\n",
    "**before proceeding filling the missing values we will looke on the other columns to see if there are any issues there to fix ***"
   ]
  },
  {
   "cell_type": "markdown",
   "metadata": {},
   "source": [
    "## Data transformation\n",
    "\n",
    "\n",
    "In this section we will try to address any issues of columns values in terms of wrong values, diffrent data format, spelling problems and so on.\n"
   ]
  },
  {
   "cell_type": "markdown",
   "metadata": {},
   "source": [
    "#### Checking the 'education' column."
   ]
  },
  {
   "cell_type": "code",
   "execution_count": 15,
   "metadata": {},
   "outputs": [
    {
     "data": {
      "text/plain": [
       "array([\"bachelor's degree\", 'secondary education', 'Secondary Education',\n",
       "       'SECONDARY EDUCATION', \"BACHELOR'S DEGREE\", 'some college',\n",
       "       'primary education', \"Bachelor's Degree\", 'SOME COLLEGE',\n",
       "       'Some College', 'PRIMARY EDUCATION', 'Primary Education',\n",
       "       'Graduate Degree', 'GRADUATE DEGREE', 'graduate degree'],\n",
       "      dtype=object)"
      ]
     },
     "execution_count": 15,
     "metadata": {},
     "output_type": "execute_result"
    }
   ],
   "source": [
    "# Let's see all values in education column to check if and what spellings will need to be fixed\n",
    "#w will begin by printing the unique value of the education column, to look for any misstypes or other problems\n",
    "\n",
    "credit_df['education'].unique()"
   ]
  },
  {
   "cell_type": "markdown",
   "metadata": {},
   "source": [
    "There are only five categories of education_id numbers. But much more education types. most ofthem are the duplicates in a diffrent format.\n",
    "We will use the apply method to make the canges, all values will become lower-case format."
   ]
  },
  {
   "cell_type": "code",
   "execution_count": 16,
   "metadata": {
    "scrolled": true
   },
   "outputs": [],
   "source": [
    "# Fix the registers to cahnge all the enteries to one lower case format. \n",
    "#That way making all duplicated other formats disapear.\n",
    "\n",
    "credit_df['education'] = credit_df['education'].str.lower()\n",
    "                                                    "
   ]
  },
  {
   "cell_type": "code",
   "execution_count": 17,
   "metadata": {},
   "outputs": [
    {
     "data": {
      "text/plain": [
       "array([\"bachelor's degree\", 'secondary education', 'some college',\n",
       "       'primary education', 'graduate degree'], dtype=object)"
      ]
     },
     "execution_count": 17,
     "metadata": {},
     "output_type": "execute_result"
    }
   ],
   "source": [
    "# Checking all the values in the column to make sure we fixed them\n",
    "credit_df['education'].unique()\n"
   ]
  },
  {
   "cell_type": "markdown",
   "metadata": {},
   "source": [
    "#### Check the data the `children` column"
   ]
  },
  {
   "cell_type": "code",
   "execution_count": 18,
   "metadata": {},
   "outputs": [
    {
     "data": {
      "text/plain": [
       "array([ 1,  0,  3,  2, -1,  4, 20,  5])"
      ]
     },
     "execution_count": 18,
     "metadata": {},
     "output_type": "execute_result"
    }
   ],
   "source": [
    "# Let's see the distribution of values in the `children` column\n",
    "credit_df['children'].unique()\n"
   ]
  },
  {
   "cell_type": "markdown",
   "metadata": {},
   "source": [
    "We see two unique values that simms out of place:\n",
    "\n",
    "(-1 , 20).\n",
    "\n",
    "The value of 20 is possible though unlikely, and the value of -1 is definatly a miss type error. You can not hav -1 childe. You have children or you do not have children.\n",
    "\n",
    "let see the rows they appear in, to see if we can draw a conclusion on them.\n"
   ]
  },
  {
   "cell_type": "code",
   "execution_count": 19,
   "metadata": {},
   "outputs": [
    {
     "data": {
      "text/html": [
       "<div>\n",
       "<style scoped>\n",
       "    .dataframe tbody tr th:only-of-type {\n",
       "        vertical-align: middle;\n",
       "    }\n",
       "\n",
       "    .dataframe tbody tr th {\n",
       "        vertical-align: top;\n",
       "    }\n",
       "\n",
       "    .dataframe thead th {\n",
       "        text-align: right;\n",
       "    }\n",
       "</style>\n",
       "<table border=\"1\" class=\"dataframe\">\n",
       "  <thead>\n",
       "    <tr style=\"text-align: right;\">\n",
       "      <th></th>\n",
       "      <th>children</th>\n",
       "      <th>days_employed</th>\n",
       "      <th>dob_years</th>\n",
       "      <th>education</th>\n",
       "      <th>education_id</th>\n",
       "      <th>family_status</th>\n",
       "      <th>family_status_id</th>\n",
       "      <th>gender</th>\n",
       "      <th>income_type</th>\n",
       "      <th>debt</th>\n",
       "      <th>total_income</th>\n",
       "      <th>purpose</th>\n",
       "    </tr>\n",
       "  </thead>\n",
       "  <tbody>\n",
       "    <tr>\n",
       "      <th>291</th>\n",
       "      <td>-1</td>\n",
       "      <td>4417.703588</td>\n",
       "      <td>46</td>\n",
       "      <td>secondary education</td>\n",
       "      <td>1</td>\n",
       "      <td>civil partnership</td>\n",
       "      <td>1</td>\n",
       "      <td>F</td>\n",
       "      <td>employee</td>\n",
       "      <td>0</td>\n",
       "      <td>16450.615</td>\n",
       "      <td>profile education</td>\n",
       "    </tr>\n",
       "    <tr>\n",
       "      <th>606</th>\n",
       "      <td>20</td>\n",
       "      <td>880.221113</td>\n",
       "      <td>21</td>\n",
       "      <td>secondary education</td>\n",
       "      <td>1</td>\n",
       "      <td>married</td>\n",
       "      <td>0</td>\n",
       "      <td>M</td>\n",
       "      <td>business</td>\n",
       "      <td>0</td>\n",
       "      <td>23253.578</td>\n",
       "      <td>purchase of the house</td>\n",
       "    </tr>\n",
       "    <tr>\n",
       "      <th>705</th>\n",
       "      <td>-1</td>\n",
       "      <td>902.084528</td>\n",
       "      <td>50</td>\n",
       "      <td>secondary education</td>\n",
       "      <td>1</td>\n",
       "      <td>married</td>\n",
       "      <td>0</td>\n",
       "      <td>F</td>\n",
       "      <td>civil servant</td>\n",
       "      <td>0</td>\n",
       "      <td>22061.264</td>\n",
       "      <td>car purchase</td>\n",
       "    </tr>\n",
       "    <tr>\n",
       "      <th>720</th>\n",
       "      <td>20</td>\n",
       "      <td>855.595512</td>\n",
       "      <td>44</td>\n",
       "      <td>secondary education</td>\n",
       "      <td>1</td>\n",
       "      <td>married</td>\n",
       "      <td>0</td>\n",
       "      <td>F</td>\n",
       "      <td>business</td>\n",
       "      <td>0</td>\n",
       "      <td>18079.798</td>\n",
       "      <td>buy real estate</td>\n",
       "    </tr>\n",
       "    <tr>\n",
       "      <th>742</th>\n",
       "      <td>-1</td>\n",
       "      <td>3174.456205</td>\n",
       "      <td>57</td>\n",
       "      <td>secondary education</td>\n",
       "      <td>1</td>\n",
       "      <td>married</td>\n",
       "      <td>0</td>\n",
       "      <td>F</td>\n",
       "      <td>employee</td>\n",
       "      <td>0</td>\n",
       "      <td>10282.887</td>\n",
       "      <td>supplementary education</td>\n",
       "    </tr>\n",
       "    <tr>\n",
       "      <th>...</th>\n",
       "      <td>...</td>\n",
       "      <td>...</td>\n",
       "      <td>...</td>\n",
       "      <td>...</td>\n",
       "      <td>...</td>\n",
       "      <td>...</td>\n",
       "      <td>...</td>\n",
       "      <td>...</td>\n",
       "      <td>...</td>\n",
       "      <td>...</td>\n",
       "      <td>...</td>\n",
       "      <td>...</td>\n",
       "    </tr>\n",
       "    <tr>\n",
       "      <th>21140</th>\n",
       "      <td>-1</td>\n",
       "      <td>1422.668059</td>\n",
       "      <td>44</td>\n",
       "      <td>secondary education</td>\n",
       "      <td>1</td>\n",
       "      <td>married</td>\n",
       "      <td>0</td>\n",
       "      <td>F</td>\n",
       "      <td>business</td>\n",
       "      <td>0</td>\n",
       "      <td>27129.935</td>\n",
       "      <td>transactions with my real estate</td>\n",
       "    </tr>\n",
       "    <tr>\n",
       "      <th>21325</th>\n",
       "      <td>20</td>\n",
       "      <td>601.174883</td>\n",
       "      <td>37</td>\n",
       "      <td>secondary education</td>\n",
       "      <td>1</td>\n",
       "      <td>married</td>\n",
       "      <td>0</td>\n",
       "      <td>F</td>\n",
       "      <td>business</td>\n",
       "      <td>0</td>\n",
       "      <td>16477.771</td>\n",
       "      <td>profile education</td>\n",
       "    </tr>\n",
       "    <tr>\n",
       "      <th>21390</th>\n",
       "      <td>20</td>\n",
       "      <td>NaN</td>\n",
       "      <td>53</td>\n",
       "      <td>secondary education</td>\n",
       "      <td>1</td>\n",
       "      <td>married</td>\n",
       "      <td>0</td>\n",
       "      <td>M</td>\n",
       "      <td>business</td>\n",
       "      <td>0</td>\n",
       "      <td>NaN</td>\n",
       "      <td>buy residential real estate</td>\n",
       "    </tr>\n",
       "    <tr>\n",
       "      <th>21404</th>\n",
       "      <td>20</td>\n",
       "      <td>494.788448</td>\n",
       "      <td>52</td>\n",
       "      <td>secondary education</td>\n",
       "      <td>1</td>\n",
       "      <td>married</td>\n",
       "      <td>0</td>\n",
       "      <td>M</td>\n",
       "      <td>business</td>\n",
       "      <td>0</td>\n",
       "      <td>25060.749</td>\n",
       "      <td>transactions with my real estate</td>\n",
       "    </tr>\n",
       "    <tr>\n",
       "      <th>21491</th>\n",
       "      <td>20</td>\n",
       "      <td>173.954460</td>\n",
       "      <td>27</td>\n",
       "      <td>secondary education</td>\n",
       "      <td>1</td>\n",
       "      <td>married</td>\n",
       "      <td>0</td>\n",
       "      <td>F</td>\n",
       "      <td>employee</td>\n",
       "      <td>0</td>\n",
       "      <td>24883.344</td>\n",
       "      <td>buying a second-hand car</td>\n",
       "    </tr>\n",
       "  </tbody>\n",
       "</table>\n",
       "<p>123 rows × 12 columns</p>\n",
       "</div>"
      ],
      "text/plain": [
       "       children  days_employed  dob_years            education  education_id  \\\n",
       "291          -1    4417.703588         46  secondary education             1   \n",
       "606          20     880.221113         21  secondary education             1   \n",
       "705          -1     902.084528         50  secondary education             1   \n",
       "720          20     855.595512         44  secondary education             1   \n",
       "742          -1    3174.456205         57  secondary education             1   \n",
       "...         ...            ...        ...                  ...           ...   \n",
       "21140        -1    1422.668059         44  secondary education             1   \n",
       "21325        20     601.174883         37  secondary education             1   \n",
       "21390        20            NaN         53  secondary education             1   \n",
       "21404        20     494.788448         52  secondary education             1   \n",
       "21491        20     173.954460         27  secondary education             1   \n",
       "\n",
       "           family_status  family_status_id gender    income_type  debt  \\\n",
       "291    civil partnership                 1      F       employee     0   \n",
       "606              married                 0      M       business     0   \n",
       "705              married                 0      F  civil servant     0   \n",
       "720              married                 0      F       business     0   \n",
       "742              married                 0      F       employee     0   \n",
       "...                  ...               ...    ...            ...   ...   \n",
       "21140            married                 0      F       business     0   \n",
       "21325            married                 0      F       business     0   \n",
       "21390            married                 0      M       business     0   \n",
       "21404            married                 0      M       business     0   \n",
       "21491            married                 0      F       employee     0   \n",
       "\n",
       "       total_income                           purpose  \n",
       "291       16450.615                 profile education  \n",
       "606       23253.578             purchase of the house  \n",
       "705       22061.264                      car purchase  \n",
       "720       18079.798                   buy real estate  \n",
       "742       10282.887           supplementary education  \n",
       "...             ...                               ...  \n",
       "21140     27129.935  transactions with my real estate  \n",
       "21325     16477.771                 profile education  \n",
       "21390           NaN       buy residential real estate  \n",
       "21404     25060.749  transactions with my real estate  \n",
       "21491     24883.344          buying a second-hand car  \n",
       "\n",
       "[123 rows x 12 columns]"
      ]
     },
     "execution_count": 19,
     "metadata": {},
     "output_type": "execute_result"
    }
   ],
   "source": [
    "#printing the lines with thos values for inspection\n",
    "credit_df.loc[(credit_df['children'] == -1) | (credit_df['children'] == 20)]"
   ]
  },
  {
   "cell_type": "markdown",
   "metadata": {},
   "source": [
    "There are 123 rows that have these problem. \n",
    "The 'dob_years'(age of the customer) value verries.\n",
    "But one age stands : 21. \n",
    "For this customer the number of children value is: 20. Meanning he would have to have his first child when he was 1 year old. not possible.\n",
    "There for the real number of children must be: 2. \n",
    "And the real value for the -1 should be: 1.\n",
    "We will aplly it too the column."
   ]
  },
  {
   "cell_type": "code",
   "execution_count": 20,
   "metadata": {},
   "outputs": [],
   "source": [
    "#changing the values of the children column that have the -1 and 20 values.\n",
    "\n",
    "credit_df['children'].replace(to_replace = -1 ,value = 1 , inplace = True)\n",
    "credit_df['children'].replace(to_replace = 20 ,value = 2 , inplace = True)\n"
   ]
  },
  {
   "cell_type": "code",
   "execution_count": 21,
   "metadata": {},
   "outputs": [
    {
     "data": {
      "text/plain": [
       "array([1, 0, 3, 2, 4, 5])"
      ]
     },
     "execution_count": 21,
     "metadata": {},
     "output_type": "execute_result"
    }
   ],
   "source": [
    "# Checking the `children` column again to make sure it's all fixed\n",
    "credit_df['children'].unique()\n"
   ]
  },
  {
   "cell_type": "markdown",
   "metadata": {},
   "source": [
    "#### Checking 'days_employed' column values\n",
    "\n",
    "The 'days_employed', column we have already saw , that there are missing values in it. And also had a problem with negative values, which we already approched previously.\n",
    "Let see if there are other issues that needsto be addresed.\n",
    "\n"
   ]
  },
  {
   "cell_type": "code",
   "execution_count": 22,
   "metadata": {},
   "outputs": [
    {
     "data": {
      "text/plain": [
       "array([8437.67302776, 4024.80375385, 5623.42261023, ..., 2113.3468877 ,\n",
       "       3112.4817052 , 1984.50758853])"
      ]
     },
     "execution_count": 22,
     "metadata": {},
     "output_type": "execute_result"
    }
   ],
   "source": [
    "# Find problematic data in `days_employed`, if they exist, and calculate the percentag\n",
    "#print(credit_df['days_employed'].unique())\n",
    "\n",
    "credit_df['days_employed'].unique()\n"
   ]
  },
  {
   "cell_type": "markdown",
   "metadata": {},
   "source": [
    "I See no other problems in the 'days_amployed' column, except the missing values that we will address now.\n",
    "We alreaady have decided on the way we will aproch this matter, by using the median to fill each missing value. This is based on the check of the values previously. And will address them further on."
   ]
  },
  {
   "cell_type": "markdown",
   "metadata": {},
   "source": [
    "#### Checking the 'dob_years' column\n",
    "\n",
    "Let's now look at the client's age and whether there are any issues there."
   ]
  },
  {
   "cell_type": "code",
   "execution_count": 23,
   "metadata": {
    "scrolled": true
   },
   "outputs": [
    {
     "name": "stdout",
     "output_type": "stream",
     "text": [
      "[ 0 19 20 21 22 23 24 25 26 27 28 29 30 31 32 33 34 35 36 37 38 39 40 41\n",
      " 42 43 44 45 46 47 48 49 50 51 52 53 54 55 56 57 58 59 60 61 62 63 64 65\n",
      " 66 67 68 69 70 71 72 73 74 75]\n"
     ]
    }
   ],
   "source": [
    "# Check the `dob_years` for suspicious values and count the percentage\n",
    "\n",
    "print(credit_df['dob_years'].sort_values().unique())\n"
   ]
  },
  {
   "cell_type": "markdown",
   "metadata": {},
   "source": [
    "In the values there is 0 y/o person. \n",
    "First let us see the rows it appears. And then decide how to approch thise value."
   ]
  },
  {
   "cell_type": "code",
   "execution_count": 24,
   "metadata": {},
   "outputs": [
    {
     "data": {
      "text/html": [
       "<div>\n",
       "<style scoped>\n",
       "    .dataframe tbody tr th:only-of-type {\n",
       "        vertical-align: middle;\n",
       "    }\n",
       "\n",
       "    .dataframe tbody tr th {\n",
       "        vertical-align: top;\n",
       "    }\n",
       "\n",
       "    .dataframe thead th {\n",
       "        text-align: right;\n",
       "    }\n",
       "</style>\n",
       "<table border=\"1\" class=\"dataframe\">\n",
       "  <thead>\n",
       "    <tr style=\"text-align: right;\">\n",
       "      <th></th>\n",
       "      <th>children</th>\n",
       "      <th>days_employed</th>\n",
       "      <th>dob_years</th>\n",
       "      <th>education</th>\n",
       "      <th>education_id</th>\n",
       "      <th>family_status</th>\n",
       "      <th>family_status_id</th>\n",
       "      <th>gender</th>\n",
       "      <th>income_type</th>\n",
       "      <th>debt</th>\n",
       "      <th>total_income</th>\n",
       "      <th>purpose</th>\n",
       "    </tr>\n",
       "  </thead>\n",
       "  <tbody>\n",
       "    <tr>\n",
       "      <th>99</th>\n",
       "      <td>0</td>\n",
       "      <td>346541.618895</td>\n",
       "      <td>0</td>\n",
       "      <td>secondary education</td>\n",
       "      <td>1</td>\n",
       "      <td>married</td>\n",
       "      <td>0</td>\n",
       "      <td>F</td>\n",
       "      <td>retiree</td>\n",
       "      <td>0</td>\n",
       "      <td>11406.644</td>\n",
       "      <td>car</td>\n",
       "    </tr>\n",
       "    <tr>\n",
       "      <th>149</th>\n",
       "      <td>0</td>\n",
       "      <td>2664.273168</td>\n",
       "      <td>0</td>\n",
       "      <td>secondary education</td>\n",
       "      <td>1</td>\n",
       "      <td>divorced</td>\n",
       "      <td>3</td>\n",
       "      <td>F</td>\n",
       "      <td>employee</td>\n",
       "      <td>0</td>\n",
       "      <td>11228.230</td>\n",
       "      <td>housing transactions</td>\n",
       "    </tr>\n",
       "    <tr>\n",
       "      <th>270</th>\n",
       "      <td>3</td>\n",
       "      <td>1872.663186</td>\n",
       "      <td>0</td>\n",
       "      <td>secondary education</td>\n",
       "      <td>1</td>\n",
       "      <td>married</td>\n",
       "      <td>0</td>\n",
       "      <td>F</td>\n",
       "      <td>employee</td>\n",
       "      <td>0</td>\n",
       "      <td>16346.633</td>\n",
       "      <td>housing renovation</td>\n",
       "    </tr>\n",
       "    <tr>\n",
       "      <th>578</th>\n",
       "      <td>0</td>\n",
       "      <td>397856.565013</td>\n",
       "      <td>0</td>\n",
       "      <td>secondary education</td>\n",
       "      <td>1</td>\n",
       "      <td>married</td>\n",
       "      <td>0</td>\n",
       "      <td>F</td>\n",
       "      <td>retiree</td>\n",
       "      <td>0</td>\n",
       "      <td>15619.310</td>\n",
       "      <td>construction of own property</td>\n",
       "    </tr>\n",
       "    <tr>\n",
       "      <th>1040</th>\n",
       "      <td>0</td>\n",
       "      <td>1158.029561</td>\n",
       "      <td>0</td>\n",
       "      <td>bachelor's degree</td>\n",
       "      <td>0</td>\n",
       "      <td>divorced</td>\n",
       "      <td>3</td>\n",
       "      <td>F</td>\n",
       "      <td>business</td>\n",
       "      <td>0</td>\n",
       "      <td>48639.062</td>\n",
       "      <td>to own a car</td>\n",
       "    </tr>\n",
       "    <tr>\n",
       "      <th>...</th>\n",
       "      <td>...</td>\n",
       "      <td>...</td>\n",
       "      <td>...</td>\n",
       "      <td>...</td>\n",
       "      <td>...</td>\n",
       "      <td>...</td>\n",
       "      <td>...</td>\n",
       "      <td>...</td>\n",
       "      <td>...</td>\n",
       "      <td>...</td>\n",
       "      <td>...</td>\n",
       "      <td>...</td>\n",
       "    </tr>\n",
       "    <tr>\n",
       "      <th>19829</th>\n",
       "      <td>0</td>\n",
       "      <td>NaN</td>\n",
       "      <td>0</td>\n",
       "      <td>secondary education</td>\n",
       "      <td>1</td>\n",
       "      <td>married</td>\n",
       "      <td>0</td>\n",
       "      <td>F</td>\n",
       "      <td>employee</td>\n",
       "      <td>0</td>\n",
       "      <td>NaN</td>\n",
       "      <td>housing</td>\n",
       "    </tr>\n",
       "    <tr>\n",
       "      <th>20462</th>\n",
       "      <td>0</td>\n",
       "      <td>338734.868540</td>\n",
       "      <td>0</td>\n",
       "      <td>secondary education</td>\n",
       "      <td>1</td>\n",
       "      <td>married</td>\n",
       "      <td>0</td>\n",
       "      <td>F</td>\n",
       "      <td>retiree</td>\n",
       "      <td>0</td>\n",
       "      <td>41471.027</td>\n",
       "      <td>purchase of my own house</td>\n",
       "    </tr>\n",
       "    <tr>\n",
       "      <th>20577</th>\n",
       "      <td>0</td>\n",
       "      <td>331741.271455</td>\n",
       "      <td>0</td>\n",
       "      <td>secondary education</td>\n",
       "      <td>1</td>\n",
       "      <td>unmarried</td>\n",
       "      <td>4</td>\n",
       "      <td>F</td>\n",
       "      <td>retiree</td>\n",
       "      <td>0</td>\n",
       "      <td>20766.202</td>\n",
       "      <td>property</td>\n",
       "    </tr>\n",
       "    <tr>\n",
       "      <th>21179</th>\n",
       "      <td>2</td>\n",
       "      <td>108.967042</td>\n",
       "      <td>0</td>\n",
       "      <td>bachelor's degree</td>\n",
       "      <td>0</td>\n",
       "      <td>married</td>\n",
       "      <td>0</td>\n",
       "      <td>M</td>\n",
       "      <td>business</td>\n",
       "      <td>0</td>\n",
       "      <td>38512.321</td>\n",
       "      <td>building a real estate</td>\n",
       "    </tr>\n",
       "    <tr>\n",
       "      <th>21313</th>\n",
       "      <td>0</td>\n",
       "      <td>1268.487728</td>\n",
       "      <td>0</td>\n",
       "      <td>secondary education</td>\n",
       "      <td>1</td>\n",
       "      <td>unmarried</td>\n",
       "      <td>4</td>\n",
       "      <td>M</td>\n",
       "      <td>employee</td>\n",
       "      <td>0</td>\n",
       "      <td>24387.070</td>\n",
       "      <td>housing transactions</td>\n",
       "    </tr>\n",
       "  </tbody>\n",
       "</table>\n",
       "<p>101 rows × 12 columns</p>\n",
       "</div>"
      ],
      "text/plain": [
       "       children  days_employed  dob_years            education  education_id  \\\n",
       "99            0  346541.618895          0  secondary education             1   \n",
       "149           0    2664.273168          0  secondary education             1   \n",
       "270           3    1872.663186          0  secondary education             1   \n",
       "578           0  397856.565013          0  secondary education             1   \n",
       "1040          0    1158.029561          0    bachelor's degree             0   \n",
       "...         ...            ...        ...                  ...           ...   \n",
       "19829         0            NaN          0  secondary education             1   \n",
       "20462         0  338734.868540          0  secondary education             1   \n",
       "20577         0  331741.271455          0  secondary education             1   \n",
       "21179         2     108.967042          0    bachelor's degree             0   \n",
       "21313         0    1268.487728          0  secondary education             1   \n",
       "\n",
       "      family_status  family_status_id gender income_type  debt  total_income  \\\n",
       "99          married                 0      F     retiree     0     11406.644   \n",
       "149        divorced                 3      F    employee     0     11228.230   \n",
       "270         married                 0      F    employee     0     16346.633   \n",
       "578         married                 0      F     retiree     0     15619.310   \n",
       "1040       divorced                 3      F    business     0     48639.062   \n",
       "...             ...               ...    ...         ...   ...           ...   \n",
       "19829       married                 0      F    employee     0           NaN   \n",
       "20462       married                 0      F     retiree     0     41471.027   \n",
       "20577     unmarried                 4      F     retiree     0     20766.202   \n",
       "21179       married                 0      M    business     0     38512.321   \n",
       "21313     unmarried                 4      M    employee     0     24387.070   \n",
       "\n",
       "                            purpose  \n",
       "99                              car  \n",
       "149            housing transactions  \n",
       "270              housing renovation  \n",
       "578    construction of own property  \n",
       "1040                   to own a car  \n",
       "...                             ...  \n",
       "19829                       housing  \n",
       "20462      purchase of my own house  \n",
       "20577                      property  \n",
       "21179        building a real estate  \n",
       "21313          housing transactions  \n",
       "\n",
       "[101 rows x 12 columns]"
      ]
     },
     "execution_count": 24,
     "metadata": {},
     "output_type": "execute_result"
    }
   ],
   "source": [
    "# Address the issues in the `dob_years` column, if they exist\n",
    "#Printing the rows with the value 0\n",
    "credit_df.loc[credit_df['dob_years'] == 0]\n"
   ]
  },
  {
   "cell_type": "markdown",
   "metadata": {},
   "source": [
    "There Are 101 rows with this problem. and there is no way we can now the age of every person. some are retiered meanning their age is over 65 and some are employed or own business.\n",
    "\n",
    "Also, there are only 101 records that coplies 0.4% of the general data. There for we can delete these records,and save time on these issues."
   ]
  },
  {
   "cell_type": "code",
   "execution_count": 25,
   "metadata": {},
   "outputs": [],
   "source": [
    "credit_df.drop(credit_df.index[credit_df['dob_years'] == 0] , inplace = True)"
   ]
  },
  {
   "cell_type": "code",
   "execution_count": 26,
   "metadata": {},
   "outputs": [
    {
     "name": "stdout",
     "output_type": "stream",
     "text": [
      "0\n",
      "[19 20 21 22 23 24 25 26 27 28 29 30 31 32 33 34 35 36 37 38 39 40 41 42\n",
      " 43 44 45 46 47 48 49 50 51 52 53 54 55 56 57 58 59 60 61 62 63 64 65 66\n",
      " 67 68 69 70 71 72 73 74 75]\n"
     ]
    }
   ],
   "source": [
    "# Check the result - make sure it's fixed\n",
    "#The value that should be returned is 0 if we deleted all the rows\n",
    "print(len(credit_df.loc[credit_df['dob_years'] == 0]))\n",
    "#checking the values destribution now\n",
    "print(credit_df['dob_years'].sort_values().unique())"
   ]
  },
  {
   "cell_type": "markdown",
   "metadata": {},
   "source": [
    "#### Checking the 'family_status' column\n",
    "\n",
    "Now let's check the `family_status` column. See what kind of values there are and what problems we may need to address."
   ]
  },
  {
   "cell_type": "code",
   "execution_count": 27,
   "metadata": {},
   "outputs": [
    {
     "data": {
      "text/plain": [
       "array(['married', 'civil partnership', 'widow / widower', 'divorced',\n",
       "       'unmarried'], dtype=object)"
      ]
     },
     "execution_count": 27,
     "metadata": {},
     "output_type": "execute_result"
    }
   ],
   "source": [
    "# Let's see the values for the column\n",
    "credit_df['family_status'].unique()\n"
   ]
  },
  {
   "cell_type": "markdown",
   "metadata": {},
   "source": [
    "There are no apperent issues with the values in the 'family_status' column"
   ]
  },
  {
   "cell_type": "markdown",
   "metadata": {},
   "source": [
    "#### Checking 'gender' column values\n",
    "\n",
    "[Now let's check the `gender` column. See what kind of values there are and what problems you may need to address]"
   ]
  },
  {
   "cell_type": "code",
   "execution_count": 28,
   "metadata": {},
   "outputs": [
    {
     "data": {
      "text/plain": [
       "array(['F', 'M', 'XNA'], dtype=object)"
      ]
     },
     "execution_count": 28,
     "metadata": {},
     "output_type": "execute_result"
    }
   ],
   "source": [
    "# Let's see the values in the column\n",
    "credit_df['gender'].unique()"
   ]
  },
  {
   "cell_type": "markdown",
   "metadata": {},
   "source": [
    "We see an unfemilier value 'XNA'. let us see what records appear with this value."
   ]
  },
  {
   "cell_type": "code",
   "execution_count": 29,
   "metadata": {},
   "outputs": [
    {
     "data": {
      "text/html": [
       "<div>\n",
       "<style scoped>\n",
       "    .dataframe tbody tr th:only-of-type {\n",
       "        vertical-align: middle;\n",
       "    }\n",
       "\n",
       "    .dataframe tbody tr th {\n",
       "        vertical-align: top;\n",
       "    }\n",
       "\n",
       "    .dataframe thead th {\n",
       "        text-align: right;\n",
       "    }\n",
       "</style>\n",
       "<table border=\"1\" class=\"dataframe\">\n",
       "  <thead>\n",
       "    <tr style=\"text-align: right;\">\n",
       "      <th></th>\n",
       "      <th>children</th>\n",
       "      <th>days_employed</th>\n",
       "      <th>dob_years</th>\n",
       "      <th>education</th>\n",
       "      <th>education_id</th>\n",
       "      <th>family_status</th>\n",
       "      <th>family_status_id</th>\n",
       "      <th>gender</th>\n",
       "      <th>income_type</th>\n",
       "      <th>debt</th>\n",
       "      <th>total_income</th>\n",
       "      <th>purpose</th>\n",
       "    </tr>\n",
       "  </thead>\n",
       "  <tbody>\n",
       "    <tr>\n",
       "      <th>10701</th>\n",
       "      <td>0</td>\n",
       "      <td>2358.600502</td>\n",
       "      <td>24</td>\n",
       "      <td>some college</td>\n",
       "      <td>2</td>\n",
       "      <td>civil partnership</td>\n",
       "      <td>1</td>\n",
       "      <td>XNA</td>\n",
       "      <td>business</td>\n",
       "      <td>0</td>\n",
       "      <td>32624.825</td>\n",
       "      <td>buy real estate</td>\n",
       "    </tr>\n",
       "  </tbody>\n",
       "</table>\n",
       "</div>"
      ],
      "text/plain": [
       "       children  days_employed  dob_years     education  education_id  \\\n",
       "10701         0    2358.600502         24  some college             2   \n",
       "\n",
       "           family_status  family_status_id gender income_type  debt  \\\n",
       "10701  civil partnership                 1    XNA    business     0   \n",
       "\n",
       "       total_income          purpose  \n",
       "10701     32624.825  buy real estate  "
      ]
     },
     "execution_count": 29,
     "metadata": {},
     "output_type": "execute_result"
    }
   ],
   "source": [
    "# Address the problematic values, if they exist\n",
    "#printing the records with XNA in them\n",
    "\n",
    "credit_df.loc[credit_df['gender']=='XNA']\n"
   ]
  },
  {
   "cell_type": "markdown",
   "metadata": {},
   "source": [
    "There is only one record and we can delete it this will not effect our furter investigation."
   ]
  },
  {
   "cell_type": "code",
   "execution_count": 30,
   "metadata": {},
   "outputs": [
    {
     "data": {
      "text/plain": [
       "array(['F', 'M'], dtype=object)"
      ]
     },
     "execution_count": 30,
     "metadata": {},
     "output_type": "execute_result"
    }
   ],
   "source": [
    "# Check the result - make sure it's fixed\n",
    "#delete the row\n",
    "credit_df.drop(credit_df.index[credit_df['gender'] == 'XNA'] , inplace = True)\n",
    "#check the result - if deleted - will not apear in the values printed\n",
    "credit_df['gender'].unique()\n"
   ]
  },
  {
   "cell_type": "markdown",
   "metadata": {},
   "source": [
    "#### Checking the 'income_type' column values\n",
    "\n",
    "Now let's check the `income_type` column. See what kind of values there are and what problems need to address"
   ]
  },
  {
   "cell_type": "code",
   "execution_count": 31,
   "metadata": {},
   "outputs": [
    {
     "data": {
      "text/plain": [
       "array(['employee', 'retiree', 'business', 'civil servant', 'unemployed',\n",
       "       'entrepreneur', 'student', 'paternity / maternity leave'],\n",
       "      dtype=object)"
      ]
     },
     "execution_count": 31,
     "metadata": {},
     "output_type": "execute_result"
    }
   ],
   "source": [
    "# Let's see the values in the column\n",
    "credit_df['income_type'].unique()"
   ]
  },
  {
   "cell_type": "markdown",
   "metadata": {},
   "source": [
    "No issues found in this column.\n",
    "\n"
   ]
  },
  {
   "cell_type": "markdown",
   "metadata": {},
   "source": [
    "### Chekcing duplicate rows\n",
    "\n",
    "It is time to check the duplicated data and delete these rows\n"
   ]
  },
  {
   "cell_type": "code",
   "execution_count": 32,
   "metadata": {},
   "outputs": [
    {
     "data": {
      "text/html": [
       "<div>\n",
       "<style scoped>\n",
       "    .dataframe tbody tr th:only-of-type {\n",
       "        vertical-align: middle;\n",
       "    }\n",
       "\n",
       "    .dataframe tbody tr th {\n",
       "        vertical-align: top;\n",
       "    }\n",
       "\n",
       "    .dataframe thead th {\n",
       "        text-align: right;\n",
       "    }\n",
       "</style>\n",
       "<table border=\"1\" class=\"dataframe\">\n",
       "  <thead>\n",
       "    <tr style=\"text-align: right;\">\n",
       "      <th></th>\n",
       "      <th>children</th>\n",
       "      <th>days_employed</th>\n",
       "      <th>dob_years</th>\n",
       "      <th>education</th>\n",
       "      <th>education_id</th>\n",
       "      <th>family_status</th>\n",
       "      <th>family_status_id</th>\n",
       "      <th>gender</th>\n",
       "      <th>income_type</th>\n",
       "      <th>debt</th>\n",
       "      <th>total_income</th>\n",
       "      <th>purpose</th>\n",
       "    </tr>\n",
       "  </thead>\n",
       "  <tbody>\n",
       "    <tr>\n",
       "      <th>2849</th>\n",
       "      <td>0</td>\n",
       "      <td>NaN</td>\n",
       "      <td>41</td>\n",
       "      <td>secondary education</td>\n",
       "      <td>1</td>\n",
       "      <td>married</td>\n",
       "      <td>0</td>\n",
       "      <td>F</td>\n",
       "      <td>employee</td>\n",
       "      <td>0</td>\n",
       "      <td>NaN</td>\n",
       "      <td>purchase of the house for my family</td>\n",
       "    </tr>\n",
       "    <tr>\n",
       "      <th>3290</th>\n",
       "      <td>0</td>\n",
       "      <td>NaN</td>\n",
       "      <td>58</td>\n",
       "      <td>secondary education</td>\n",
       "      <td>1</td>\n",
       "      <td>civil partnership</td>\n",
       "      <td>1</td>\n",
       "      <td>F</td>\n",
       "      <td>retiree</td>\n",
       "      <td>0</td>\n",
       "      <td>NaN</td>\n",
       "      <td>to have a wedding</td>\n",
       "    </tr>\n",
       "    <tr>\n",
       "      <th>4182</th>\n",
       "      <td>1</td>\n",
       "      <td>NaN</td>\n",
       "      <td>34</td>\n",
       "      <td>bachelor's degree</td>\n",
       "      <td>0</td>\n",
       "      <td>civil partnership</td>\n",
       "      <td>1</td>\n",
       "      <td>F</td>\n",
       "      <td>employee</td>\n",
       "      <td>0</td>\n",
       "      <td>NaN</td>\n",
       "      <td>wedding ceremony</td>\n",
       "    </tr>\n",
       "    <tr>\n",
       "      <th>4851</th>\n",
       "      <td>0</td>\n",
       "      <td>NaN</td>\n",
       "      <td>60</td>\n",
       "      <td>secondary education</td>\n",
       "      <td>1</td>\n",
       "      <td>civil partnership</td>\n",
       "      <td>1</td>\n",
       "      <td>F</td>\n",
       "      <td>retiree</td>\n",
       "      <td>0</td>\n",
       "      <td>NaN</td>\n",
       "      <td>wedding ceremony</td>\n",
       "    </tr>\n",
       "    <tr>\n",
       "      <th>5557</th>\n",
       "      <td>0</td>\n",
       "      <td>NaN</td>\n",
       "      <td>58</td>\n",
       "      <td>secondary education</td>\n",
       "      <td>1</td>\n",
       "      <td>civil partnership</td>\n",
       "      <td>1</td>\n",
       "      <td>F</td>\n",
       "      <td>retiree</td>\n",
       "      <td>0</td>\n",
       "      <td>NaN</td>\n",
       "      <td>to have a wedding</td>\n",
       "    </tr>\n",
       "    <tr>\n",
       "      <th>...</th>\n",
       "      <td>...</td>\n",
       "      <td>...</td>\n",
       "      <td>...</td>\n",
       "      <td>...</td>\n",
       "      <td>...</td>\n",
       "      <td>...</td>\n",
       "      <td>...</td>\n",
       "      <td>...</td>\n",
       "      <td>...</td>\n",
       "      <td>...</td>\n",
       "      <td>...</td>\n",
       "      <td>...</td>\n",
       "    </tr>\n",
       "    <tr>\n",
       "      <th>20702</th>\n",
       "      <td>0</td>\n",
       "      <td>NaN</td>\n",
       "      <td>64</td>\n",
       "      <td>secondary education</td>\n",
       "      <td>1</td>\n",
       "      <td>married</td>\n",
       "      <td>0</td>\n",
       "      <td>F</td>\n",
       "      <td>retiree</td>\n",
       "      <td>0</td>\n",
       "      <td>NaN</td>\n",
       "      <td>supplementary education</td>\n",
       "    </tr>\n",
       "    <tr>\n",
       "      <th>21032</th>\n",
       "      <td>0</td>\n",
       "      <td>NaN</td>\n",
       "      <td>60</td>\n",
       "      <td>secondary education</td>\n",
       "      <td>1</td>\n",
       "      <td>married</td>\n",
       "      <td>0</td>\n",
       "      <td>F</td>\n",
       "      <td>retiree</td>\n",
       "      <td>0</td>\n",
       "      <td>NaN</td>\n",
       "      <td>to become educated</td>\n",
       "    </tr>\n",
       "    <tr>\n",
       "      <th>21132</th>\n",
       "      <td>0</td>\n",
       "      <td>NaN</td>\n",
       "      <td>47</td>\n",
       "      <td>secondary education</td>\n",
       "      <td>1</td>\n",
       "      <td>married</td>\n",
       "      <td>0</td>\n",
       "      <td>F</td>\n",
       "      <td>employee</td>\n",
       "      <td>0</td>\n",
       "      <td>NaN</td>\n",
       "      <td>housing renovation</td>\n",
       "    </tr>\n",
       "    <tr>\n",
       "      <th>21281</th>\n",
       "      <td>1</td>\n",
       "      <td>NaN</td>\n",
       "      <td>30</td>\n",
       "      <td>bachelor's degree</td>\n",
       "      <td>0</td>\n",
       "      <td>married</td>\n",
       "      <td>0</td>\n",
       "      <td>F</td>\n",
       "      <td>employee</td>\n",
       "      <td>0</td>\n",
       "      <td>NaN</td>\n",
       "      <td>buy commercial real estate</td>\n",
       "    </tr>\n",
       "    <tr>\n",
       "      <th>21415</th>\n",
       "      <td>0</td>\n",
       "      <td>NaN</td>\n",
       "      <td>54</td>\n",
       "      <td>secondary education</td>\n",
       "      <td>1</td>\n",
       "      <td>married</td>\n",
       "      <td>0</td>\n",
       "      <td>F</td>\n",
       "      <td>retiree</td>\n",
       "      <td>0</td>\n",
       "      <td>NaN</td>\n",
       "      <td>housing transactions</td>\n",
       "    </tr>\n",
       "  </tbody>\n",
       "</table>\n",
       "<p>71 rows × 12 columns</p>\n",
       "</div>"
      ],
      "text/plain": [
       "       children  days_employed  dob_years            education  education_id  \\\n",
       "2849          0            NaN         41  secondary education             1   \n",
       "3290          0            NaN         58  secondary education             1   \n",
       "4182          1            NaN         34    bachelor's degree             0   \n",
       "4851          0            NaN         60  secondary education             1   \n",
       "5557          0            NaN         58  secondary education             1   \n",
       "...         ...            ...        ...                  ...           ...   \n",
       "20702         0            NaN         64  secondary education             1   \n",
       "21032         0            NaN         60  secondary education             1   \n",
       "21132         0            NaN         47  secondary education             1   \n",
       "21281         1            NaN         30    bachelor's degree             0   \n",
       "21415         0            NaN         54  secondary education             1   \n",
       "\n",
       "           family_status  family_status_id gender income_type  debt  \\\n",
       "2849             married                 0      F    employee     0   \n",
       "3290   civil partnership                 1      F     retiree     0   \n",
       "4182   civil partnership                 1      F    employee     0   \n",
       "4851   civil partnership                 1      F     retiree     0   \n",
       "5557   civil partnership                 1      F     retiree     0   \n",
       "...                  ...               ...    ...         ...   ...   \n",
       "20702            married                 0      F     retiree     0   \n",
       "21032            married                 0      F     retiree     0   \n",
       "21132            married                 0      F    employee     0   \n",
       "21281            married                 0      F    employee     0   \n",
       "21415            married                 0      F     retiree     0   \n",
       "\n",
       "       total_income                              purpose  \n",
       "2849            NaN  purchase of the house for my family  \n",
       "3290            NaN                    to have a wedding  \n",
       "4182            NaN                     wedding ceremony  \n",
       "4851            NaN                     wedding ceremony  \n",
       "5557            NaN                    to have a wedding  \n",
       "...             ...                                  ...  \n",
       "20702           NaN              supplementary education  \n",
       "21032           NaN                   to become educated  \n",
       "21132           NaN                   housing renovation  \n",
       "21281           NaN           buy commercial real estate  \n",
       "21415           NaN                 housing transactions  \n",
       "\n",
       "[71 rows x 12 columns]"
      ]
     },
     "execution_count": 32,
     "metadata": {},
     "output_type": "execute_result"
    }
   ],
   "source": [
    "# Checking duplicates\n",
    "credit_df.loc[credit_df.duplicated()]\n"
   ]
  },
  {
   "cell_type": "markdown",
   "metadata": {},
   "source": [
    "There are 71 rows of duplicated data ,so we can delete them"
   ]
  },
  {
   "cell_type": "code",
   "execution_count": 33,
   "metadata": {},
   "outputs": [],
   "source": [
    "# Address the duplicates, if they exist\n",
    "#delete the duplicated rows\n",
    "\n",
    "credit_df.drop_duplicates(keep=False, inplace=True, ignore_index=True)"
   ]
  },
  {
   "cell_type": "code",
   "execution_count": 34,
   "metadata": {},
   "outputs": [
    {
     "data": {
      "text/html": [
       "<div>\n",
       "<style scoped>\n",
       "    .dataframe tbody tr th:only-of-type {\n",
       "        vertical-align: middle;\n",
       "    }\n",
       "\n",
       "    .dataframe tbody tr th {\n",
       "        vertical-align: top;\n",
       "    }\n",
       "\n",
       "    .dataframe thead th {\n",
       "        text-align: right;\n",
       "    }\n",
       "</style>\n",
       "<table border=\"1\" class=\"dataframe\">\n",
       "  <thead>\n",
       "    <tr style=\"text-align: right;\">\n",
       "      <th></th>\n",
       "      <th>children</th>\n",
       "      <th>days_employed</th>\n",
       "      <th>dob_years</th>\n",
       "      <th>education</th>\n",
       "      <th>education_id</th>\n",
       "      <th>family_status</th>\n",
       "      <th>family_status_id</th>\n",
       "      <th>gender</th>\n",
       "      <th>income_type</th>\n",
       "      <th>debt</th>\n",
       "      <th>total_income</th>\n",
       "      <th>purpose</th>\n",
       "    </tr>\n",
       "  </thead>\n",
       "  <tbody>\n",
       "  </tbody>\n",
       "</table>\n",
       "</div>"
      ],
      "text/plain": [
       "Empty DataFrame\n",
       "Columns: [children, days_employed, dob_years, education, education_id, family_status, family_status_id, gender, income_type, debt, total_income, purpose]\n",
       "Index: []"
      ]
     },
     "execution_count": 34,
     "metadata": {},
     "output_type": "execute_result"
    }
   ],
   "source": [
    "# Last check whether we have any duplicates\n",
    "# if we have deleted all duplicates , we will get an empty table\n",
    "credit_df.loc[credit_df.duplicated()]\n"
   ]
  },
  {
   "cell_type": "markdown",
   "metadata": {},
   "source": [
    "We have addresed al structural issues of the columns. and now the size of our data has changed. We will now look at the new dimensions of the data."
   ]
  },
  {
   "cell_type": "code",
   "execution_count": 35,
   "metadata": {},
   "outputs": [
    {
     "data": {
      "text/plain": [
       "(21286, 12)"
      ]
     },
     "execution_count": 35,
     "metadata": {},
     "output_type": "execute_result"
    }
   ],
   "source": [
    "# Check the size of the dataset that you now have after your first manipulations with it\n",
    "credit_df.shape"
   ]
  },
  {
   "cell_type": "markdown",
   "metadata": {},
   "source": [
    "**In conclusion of all the chages we made in all the columns, we see that the number of records droped.\n",
    "The number of the records now is 21286 , and the original number of records was 21525 records.\n",
    "The difference is 239 records wich are only 1.1% of the original data. \n",
    "So we can now proceed to deal with the missin values of the data.**\n"
   ]
  },
  {
   "cell_type": "markdown",
   "metadata": {},
   "source": [
    "# Working with missing values"
   ]
  },
  {
   "cell_type": "markdown",
   "metadata": {},
   "source": [
    "The missing data was already obtained and the decisions of how to approched it was delt and prepared, Earlier.\n",
    "As a reminder, We have constructed for the 'total_income' column a dictionary called 'income_mean_dict', where we have saved the mean of total_income according to the education_id of the customer.Each id has its mean value and with these values we will fill in the missin values, of'total_income' column.\n",
    "\n",
    "As for the 'dayes_employed' column, we can make a new column that will categorize the values by age groups, giving us two advantages:\n",
    "\n",
    "1 - the days_employed median that we will apply , will be more close to the real days , because of the number of working days the customer could have gained based on its age( a 21 y/o customer has less working day then a 45 y/o customer)\n",
    "\n",
    "2- The categories by age can help in our query on the ability to return a loan.\n",
    "\n",
    "To categorize the data by group ages we will devide the ages to 7 groups(19-20,21-30,31-40,41-50,51-60,61-70,70+)\n",
    "\n",
    "we will build a function that will return the age category and apply it to the 'dob_yeas', culomn, creating a new 'age_category' column\n",
    "we will also make a dictionary that will be the interpeter of the age_catecory (marked 1-7).\n",
    "\n"
   ]
  },
  {
   "cell_type": "code",
   "execution_count": 36,
   "metadata": {},
   "outputs": [],
   "source": [
    "# Find the dictionaries\n",
    "# we already have the income_mean_dict - that has the means education based. Now we will build the dictionary \n",
    "#for the age groups\n",
    "\n",
    "age_group_dict = {1:'19-20' , 2:'21-30',3:'31-40',4:'41-50',5:'51-60',6:'61-70',7:'75+'}"
   ]
  },
  {
   "cell_type": "code",
   "execution_count": 37,
   "metadata": {},
   "outputs": [
    {
     "data": {
      "text/html": [
       "<div>\n",
       "<style scoped>\n",
       "    .dataframe tbody tr th:only-of-type {\n",
       "        vertical-align: middle;\n",
       "    }\n",
       "\n",
       "    .dataframe tbody tr th {\n",
       "        vertical-align: top;\n",
       "    }\n",
       "\n",
       "    .dataframe thead th {\n",
       "        text-align: right;\n",
       "    }\n",
       "</style>\n",
       "<table border=\"1\" class=\"dataframe\">\n",
       "  <thead>\n",
       "    <tr style=\"text-align: right;\">\n",
       "      <th></th>\n",
       "      <th>children</th>\n",
       "      <th>days_employed</th>\n",
       "      <th>dob_years</th>\n",
       "      <th>education</th>\n",
       "      <th>education_id</th>\n",
       "      <th>family_status</th>\n",
       "      <th>family_status_id</th>\n",
       "      <th>gender</th>\n",
       "      <th>income_type</th>\n",
       "      <th>debt</th>\n",
       "      <th>total_income</th>\n",
       "      <th>purpose</th>\n",
       "      <th>income_type_grade</th>\n",
       "    </tr>\n",
       "  </thead>\n",
       "  <tbody>\n",
       "    <tr>\n",
       "      <th>0</th>\n",
       "      <td>1</td>\n",
       "      <td>8437.673028</td>\n",
       "      <td>42</td>\n",
       "      <td>bachelor's degree</td>\n",
       "      <td>0</td>\n",
       "      <td>married</td>\n",
       "      <td>0</td>\n",
       "      <td>F</td>\n",
       "      <td>employee</td>\n",
       "      <td>0</td>\n",
       "      <td>40620.102</td>\n",
       "      <td>purchase of the house</td>\n",
       "      <td>3</td>\n",
       "    </tr>\n",
       "    <tr>\n",
       "      <th>1</th>\n",
       "      <td>1</td>\n",
       "      <td>4024.803754</td>\n",
       "      <td>36</td>\n",
       "      <td>secondary education</td>\n",
       "      <td>1</td>\n",
       "      <td>married</td>\n",
       "      <td>0</td>\n",
       "      <td>F</td>\n",
       "      <td>employee</td>\n",
       "      <td>0</td>\n",
       "      <td>17932.802</td>\n",
       "      <td>car purchase</td>\n",
       "      <td>3</td>\n",
       "    </tr>\n",
       "    <tr>\n",
       "      <th>2</th>\n",
       "      <td>0</td>\n",
       "      <td>5623.422610</td>\n",
       "      <td>33</td>\n",
       "      <td>secondary education</td>\n",
       "      <td>1</td>\n",
       "      <td>married</td>\n",
       "      <td>0</td>\n",
       "      <td>M</td>\n",
       "      <td>employee</td>\n",
       "      <td>0</td>\n",
       "      <td>23341.752</td>\n",
       "      <td>purchase of the house</td>\n",
       "      <td>3</td>\n",
       "    </tr>\n",
       "    <tr>\n",
       "      <th>3</th>\n",
       "      <td>3</td>\n",
       "      <td>4124.747207</td>\n",
       "      <td>32</td>\n",
       "      <td>secondary education</td>\n",
       "      <td>1</td>\n",
       "      <td>married</td>\n",
       "      <td>0</td>\n",
       "      <td>M</td>\n",
       "      <td>employee</td>\n",
       "      <td>0</td>\n",
       "      <td>42820.568</td>\n",
       "      <td>supplementary education</td>\n",
       "      <td>3</td>\n",
       "    </tr>\n",
       "    <tr>\n",
       "      <th>4</th>\n",
       "      <td>0</td>\n",
       "      <td>340266.072047</td>\n",
       "      <td>53</td>\n",
       "      <td>secondary education</td>\n",
       "      <td>1</td>\n",
       "      <td>civil partnership</td>\n",
       "      <td>1</td>\n",
       "      <td>F</td>\n",
       "      <td>retiree</td>\n",
       "      <td>0</td>\n",
       "      <td>25378.572</td>\n",
       "      <td>to have a wedding</td>\n",
       "      <td>6</td>\n",
       "    </tr>\n",
       "    <tr>\n",
       "      <th>5</th>\n",
       "      <td>0</td>\n",
       "      <td>926.185831</td>\n",
       "      <td>27</td>\n",
       "      <td>bachelor's degree</td>\n",
       "      <td>0</td>\n",
       "      <td>civil partnership</td>\n",
       "      <td>1</td>\n",
       "      <td>M</td>\n",
       "      <td>business</td>\n",
       "      <td>0</td>\n",
       "      <td>40922.170</td>\n",
       "      <td>purchase of the house</td>\n",
       "      <td>2</td>\n",
       "    </tr>\n",
       "    <tr>\n",
       "      <th>6</th>\n",
       "      <td>0</td>\n",
       "      <td>2879.202052</td>\n",
       "      <td>43</td>\n",
       "      <td>bachelor's degree</td>\n",
       "      <td>0</td>\n",
       "      <td>married</td>\n",
       "      <td>0</td>\n",
       "      <td>F</td>\n",
       "      <td>business</td>\n",
       "      <td>0</td>\n",
       "      <td>38484.156</td>\n",
       "      <td>housing transactions</td>\n",
       "      <td>2</td>\n",
       "    </tr>\n",
       "    <tr>\n",
       "      <th>7</th>\n",
       "      <td>0</td>\n",
       "      <td>152.779569</td>\n",
       "      <td>50</td>\n",
       "      <td>secondary education</td>\n",
       "      <td>1</td>\n",
       "      <td>married</td>\n",
       "      <td>0</td>\n",
       "      <td>M</td>\n",
       "      <td>employee</td>\n",
       "      <td>0</td>\n",
       "      <td>21731.829</td>\n",
       "      <td>education</td>\n",
       "      <td>3</td>\n",
       "    </tr>\n",
       "    <tr>\n",
       "      <th>8</th>\n",
       "      <td>2</td>\n",
       "      <td>6929.865299</td>\n",
       "      <td>35</td>\n",
       "      <td>bachelor's degree</td>\n",
       "      <td>0</td>\n",
       "      <td>civil partnership</td>\n",
       "      <td>1</td>\n",
       "      <td>F</td>\n",
       "      <td>employee</td>\n",
       "      <td>0</td>\n",
       "      <td>15337.093</td>\n",
       "      <td>having a wedding</td>\n",
       "      <td>3</td>\n",
       "    </tr>\n",
       "    <tr>\n",
       "      <th>9</th>\n",
       "      <td>0</td>\n",
       "      <td>2188.756445</td>\n",
       "      <td>41</td>\n",
       "      <td>secondary education</td>\n",
       "      <td>1</td>\n",
       "      <td>married</td>\n",
       "      <td>0</td>\n",
       "      <td>M</td>\n",
       "      <td>employee</td>\n",
       "      <td>0</td>\n",
       "      <td>23108.150</td>\n",
       "      <td>purchase of the house for my family</td>\n",
       "      <td>3</td>\n",
       "    </tr>\n",
       "    <tr>\n",
       "      <th>10</th>\n",
       "      <td>2</td>\n",
       "      <td>4171.483647</td>\n",
       "      <td>36</td>\n",
       "      <td>bachelor's degree</td>\n",
       "      <td>0</td>\n",
       "      <td>married</td>\n",
       "      <td>0</td>\n",
       "      <td>M</td>\n",
       "      <td>business</td>\n",
       "      <td>0</td>\n",
       "      <td>18230.959</td>\n",
       "      <td>buy real estate</td>\n",
       "      <td>2</td>\n",
       "    </tr>\n",
       "    <tr>\n",
       "      <th>11</th>\n",
       "      <td>0</td>\n",
       "      <td>792.701887</td>\n",
       "      <td>40</td>\n",
       "      <td>secondary education</td>\n",
       "      <td>1</td>\n",
       "      <td>married</td>\n",
       "      <td>0</td>\n",
       "      <td>F</td>\n",
       "      <td>employee</td>\n",
       "      <td>0</td>\n",
       "      <td>12331.077</td>\n",
       "      <td>buy commercial real estate</td>\n",
       "      <td>3</td>\n",
       "    </tr>\n",
       "    <tr>\n",
       "      <th>12</th>\n",
       "      <td>0</td>\n",
       "      <td>NaN</td>\n",
       "      <td>65</td>\n",
       "      <td>secondary education</td>\n",
       "      <td>1</td>\n",
       "      <td>civil partnership</td>\n",
       "      <td>1</td>\n",
       "      <td>M</td>\n",
       "      <td>retiree</td>\n",
       "      <td>0</td>\n",
       "      <td>NaN</td>\n",
       "      <td>to have a wedding</td>\n",
       "      <td>6</td>\n",
       "    </tr>\n",
       "    <tr>\n",
       "      <th>13</th>\n",
       "      <td>0</td>\n",
       "      <td>1846.641941</td>\n",
       "      <td>54</td>\n",
       "      <td>some college</td>\n",
       "      <td>2</td>\n",
       "      <td>married</td>\n",
       "      <td>0</td>\n",
       "      <td>F</td>\n",
       "      <td>employee</td>\n",
       "      <td>0</td>\n",
       "      <td>20873.317</td>\n",
       "      <td>car purchase</td>\n",
       "      <td>3</td>\n",
       "    </tr>\n",
       "    <tr>\n",
       "      <th>14</th>\n",
       "      <td>0</td>\n",
       "      <td>1844.956182</td>\n",
       "      <td>56</td>\n",
       "      <td>bachelor's degree</td>\n",
       "      <td>0</td>\n",
       "      <td>civil partnership</td>\n",
       "      <td>1</td>\n",
       "      <td>F</td>\n",
       "      <td>business</td>\n",
       "      <td>1</td>\n",
       "      <td>26420.466</td>\n",
       "      <td>buy residential real estate</td>\n",
       "      <td>2</td>\n",
       "    </tr>\n",
       "    <tr>\n",
       "      <th>15</th>\n",
       "      <td>1</td>\n",
       "      <td>972.364419</td>\n",
       "      <td>26</td>\n",
       "      <td>secondary education</td>\n",
       "      <td>1</td>\n",
       "      <td>married</td>\n",
       "      <td>0</td>\n",
       "      <td>F</td>\n",
       "      <td>employee</td>\n",
       "      <td>0</td>\n",
       "      <td>18691.345</td>\n",
       "      <td>construction of own property</td>\n",
       "      <td>3</td>\n",
       "    </tr>\n",
       "    <tr>\n",
       "      <th>16</th>\n",
       "      <td>0</td>\n",
       "      <td>1719.934226</td>\n",
       "      <td>35</td>\n",
       "      <td>secondary education</td>\n",
       "      <td>1</td>\n",
       "      <td>married</td>\n",
       "      <td>0</td>\n",
       "      <td>F</td>\n",
       "      <td>employee</td>\n",
       "      <td>0</td>\n",
       "      <td>46272.433</td>\n",
       "      <td>property</td>\n",
       "      <td>3</td>\n",
       "    </tr>\n",
       "    <tr>\n",
       "      <th>17</th>\n",
       "      <td>0</td>\n",
       "      <td>2369.999720</td>\n",
       "      <td>33</td>\n",
       "      <td>bachelor's degree</td>\n",
       "      <td>0</td>\n",
       "      <td>civil partnership</td>\n",
       "      <td>1</td>\n",
       "      <td>M</td>\n",
       "      <td>employee</td>\n",
       "      <td>0</td>\n",
       "      <td>14465.694</td>\n",
       "      <td>building a property</td>\n",
       "      <td>3</td>\n",
       "    </tr>\n",
       "    <tr>\n",
       "      <th>18</th>\n",
       "      <td>0</td>\n",
       "      <td>400281.136913</td>\n",
       "      <td>53</td>\n",
       "      <td>secondary education</td>\n",
       "      <td>1</td>\n",
       "      <td>widow / widower</td>\n",
       "      <td>2</td>\n",
       "      <td>F</td>\n",
       "      <td>retiree</td>\n",
       "      <td>0</td>\n",
       "      <td>9091.804</td>\n",
       "      <td>buying a second-hand car</td>\n",
       "      <td>6</td>\n",
       "    </tr>\n",
       "    <tr>\n",
       "      <th>19</th>\n",
       "      <td>0</td>\n",
       "      <td>10038.818549</td>\n",
       "      <td>48</td>\n",
       "      <td>secondary education</td>\n",
       "      <td>1</td>\n",
       "      <td>divorced</td>\n",
       "      <td>3</td>\n",
       "      <td>F</td>\n",
       "      <td>employee</td>\n",
       "      <td>0</td>\n",
       "      <td>38852.977</td>\n",
       "      <td>buying my own car</td>\n",
       "      <td>3</td>\n",
       "    </tr>\n",
       "  </tbody>\n",
       "</table>\n",
       "</div>"
      ],
      "text/plain": [
       "    children  days_employed  dob_years            education  education_id  \\\n",
       "0          1    8437.673028         42    bachelor's degree             0   \n",
       "1          1    4024.803754         36  secondary education             1   \n",
       "2          0    5623.422610         33  secondary education             1   \n",
       "3          3    4124.747207         32  secondary education             1   \n",
       "4          0  340266.072047         53  secondary education             1   \n",
       "5          0     926.185831         27    bachelor's degree             0   \n",
       "6          0    2879.202052         43    bachelor's degree             0   \n",
       "7          0     152.779569         50  secondary education             1   \n",
       "8          2    6929.865299         35    bachelor's degree             0   \n",
       "9          0    2188.756445         41  secondary education             1   \n",
       "10         2    4171.483647         36    bachelor's degree             0   \n",
       "11         0     792.701887         40  secondary education             1   \n",
       "12         0            NaN         65  secondary education             1   \n",
       "13         0    1846.641941         54         some college             2   \n",
       "14         0    1844.956182         56    bachelor's degree             0   \n",
       "15         1     972.364419         26  secondary education             1   \n",
       "16         0    1719.934226         35  secondary education             1   \n",
       "17         0    2369.999720         33    bachelor's degree             0   \n",
       "18         0  400281.136913         53  secondary education             1   \n",
       "19         0   10038.818549         48  secondary education             1   \n",
       "\n",
       "        family_status  family_status_id gender income_type  debt  \\\n",
       "0             married                 0      F    employee     0   \n",
       "1             married                 0      F    employee     0   \n",
       "2             married                 0      M    employee     0   \n",
       "3             married                 0      M    employee     0   \n",
       "4   civil partnership                 1      F     retiree     0   \n",
       "5   civil partnership                 1      M    business     0   \n",
       "6             married                 0      F    business     0   \n",
       "7             married                 0      M    employee     0   \n",
       "8   civil partnership                 1      F    employee     0   \n",
       "9             married                 0      M    employee     0   \n",
       "10            married                 0      M    business     0   \n",
       "11            married                 0      F    employee     0   \n",
       "12  civil partnership                 1      M     retiree     0   \n",
       "13            married                 0      F    employee     0   \n",
       "14  civil partnership                 1      F    business     1   \n",
       "15            married                 0      F    employee     0   \n",
       "16            married                 0      F    employee     0   \n",
       "17  civil partnership                 1      M    employee     0   \n",
       "18    widow / widower                 2      F     retiree     0   \n",
       "19           divorced                 3      F    employee     0   \n",
       "\n",
       "    total_income                              purpose  income_type_grade  \n",
       "0      40620.102                purchase of the house                  3  \n",
       "1      17932.802                         car purchase                  3  \n",
       "2      23341.752                purchase of the house                  3  \n",
       "3      42820.568              supplementary education                  3  \n",
       "4      25378.572                    to have a wedding                  6  \n",
       "5      40922.170                purchase of the house                  2  \n",
       "6      38484.156                 housing transactions                  2  \n",
       "7      21731.829                            education                  3  \n",
       "8      15337.093                     having a wedding                  3  \n",
       "9      23108.150  purchase of the house for my family                  3  \n",
       "10     18230.959                      buy real estate                  2  \n",
       "11     12331.077           buy commercial real estate                  3  \n",
       "12           NaN                    to have a wedding                  6  \n",
       "13     20873.317                         car purchase                  3  \n",
       "14     26420.466          buy residential real estate                  2  \n",
       "15     18691.345         construction of own property                  3  \n",
       "16     46272.433                             property                  3  \n",
       "17     14465.694                  building a property                  3  \n",
       "18      9091.804             buying a second-hand car                  6  \n",
       "19     38852.977                    buying my own car                  3  "
      ]
     },
     "execution_count": 37,
     "metadata": {},
     "output_type": "execute_result"
    }
   ],
   "source": [
    "# Making a function that will halp us with identyng the incoe type of a customer. I will use the unique \n",
    "#to creat the list from whiche i will make a dictionary for the categories I will make for the income type.\n",
    "\n",
    "income_type_lst = list(credit_df['income_type'].unique())\n",
    "\n",
    "#making the dynamic dictionary based on the income type:\n",
    "#'employee', 'retiree', 'business', 'civil servant', 'unemployed', 'entrepreneur', 'student', 'paternity / maternity leave'\n",
    "income_type_dict = {}\n",
    "\n",
    "for income in income_type_lst:\n",
    "    if income == 'entrepreneur':\n",
    "        income_type_dict[income] = 1\n",
    "    elif income == 'business':\n",
    "        income_type_dict[income] = 2\n",
    "    elif income == 'employee':\n",
    "        income_type_dict[income] = 3\n",
    "    elif income == 'civil servant':\n",
    "        income_type_dict[income] = 4\n",
    "    elif income == 'student':\n",
    "        income_type_dict[income] = 5\n",
    "    elif income == 'retiree':\n",
    "        income_type_dict[income] = 6\n",
    "    elif income == 'paternity / maternity leave':\n",
    "        income_type_dict[income] = 7\n",
    "    elif income == 'unemployed':\n",
    "        income_type_dict[income] = 8\n",
    "\n",
    "#a function that will return the numeric value of the category of the \n",
    "def retun_income_grade(income):\n",
    "    return(income_type_dict[income['income_type']])\n",
    "\n",
    "#apply to income type column\n",
    "\n",
    "credit_df['income_type_grade'] = credit_df.apply(retun_income_grade , axis = 1)\n",
    "\n",
    "#checking the values in the new column\n",
    "credit_df.head(20)\n",
    "    \n",
    "    \n"
   ]
  },
  {
   "cell_type": "markdown",
   "metadata": {},
   "source": [
    "### Restoring missing values in `total_income`"
   ]
  },
  {
   "cell_type": "markdown",
   "metadata": {},
   "source": [
    "As stated above the total income will be restored by approaching the education id of the customer.\n",
    "But first let us build the age category that will serve us later on in restoring the days_employed column.\n",
    "\n"
   ]
  },
  {
   "cell_type": "code",
   "execution_count": 38,
   "metadata": {},
   "outputs": [],
   "source": [
    "# Let's write a function that calculates the age category\n",
    "def age_categorize(age_val):\n",
    "    \n",
    "    if age_val<=20:\n",
    "        \n",
    "        return (int(1))\n",
    "    \n",
    "    elif age_val >= 21 and age_val<=30:\n",
    "        \n",
    "        return (int(2))\n",
    "    \n",
    "    elif age_val >= 31 and age_val<=40:\n",
    "        \n",
    "        return (int(3))\n",
    "    \n",
    "    elif age_val >= 41 and age_val <=50:\n",
    "        \n",
    "        return (int(4))\n",
    "    \n",
    "    elif age_val >= 51 and age_val<=60:\n",
    "        \n",
    "        return (int(5))\n",
    "    \n",
    "    elif age_val >=61 and age_val<=70:\n",
    "        \n",
    "        return (int(6))\n",
    "    \n",
    "    elif age_val >= 71 :\n",
    "        \n",
    "        return (int(7))\n",
    "    \n",
    "    \n",
    "    \n",
    "    \n",
    "    "
   ]
  },
  {
   "cell_type": "code",
   "execution_count": 39,
   "metadata": {},
   "outputs": [
    {
     "name": "stdout",
     "output_type": "stream",
     "text": [
      "1\n",
      "3\n",
      "5\n",
      "7\n"
     ]
    }
   ],
   "source": [
    "# Test if the function works\n",
    "print(age_categorize(18))\n",
    "print(age_categorize(33))\n",
    "print(age_categorize(52))\n",
    "print(age_categorize(81))"
   ]
  },
  {
   "cell_type": "code",
   "execution_count": 40,
   "metadata": {},
   "outputs": [],
   "source": [
    "# Creating new column based on function\n",
    "credit_df['age_group'] = credit_df['dob_years'].astype('int').apply(age_categorize)\n",
    "#creating new dataframe containing only the null Values for a comperison resons\n",
    "credit_df_null_new = credit_df[credit_df.isnull().any(axis = 1)]"
   ]
  },
  {
   "cell_type": "code",
   "execution_count": 41,
   "metadata": {},
   "outputs": [
    {
     "data": {
      "text/html": [
       "<div>\n",
       "<style scoped>\n",
       "    .dataframe tbody tr th:only-of-type {\n",
       "        vertical-align: middle;\n",
       "    }\n",
       "\n",
       "    .dataframe tbody tr th {\n",
       "        vertical-align: top;\n",
       "    }\n",
       "\n",
       "    .dataframe thead th {\n",
       "        text-align: right;\n",
       "    }\n",
       "</style>\n",
       "<table border=\"1\" class=\"dataframe\">\n",
       "  <thead>\n",
       "    <tr style=\"text-align: right;\">\n",
       "      <th></th>\n",
       "      <th>children</th>\n",
       "      <th>days_employed</th>\n",
       "      <th>dob_years</th>\n",
       "      <th>education</th>\n",
       "      <th>education_id</th>\n",
       "      <th>family_status</th>\n",
       "      <th>family_status_id</th>\n",
       "      <th>gender</th>\n",
       "      <th>income_type</th>\n",
       "      <th>debt</th>\n",
       "      <th>total_income</th>\n",
       "      <th>purpose</th>\n",
       "      <th>income_type_grade</th>\n",
       "      <th>age_group</th>\n",
       "    </tr>\n",
       "  </thead>\n",
       "  <tbody>\n",
       "    <tr>\n",
       "      <th>0</th>\n",
       "      <td>1</td>\n",
       "      <td>8437.673028</td>\n",
       "      <td>42</td>\n",
       "      <td>bachelor's degree</td>\n",
       "      <td>0</td>\n",
       "      <td>married</td>\n",
       "      <td>0</td>\n",
       "      <td>F</td>\n",
       "      <td>employee</td>\n",
       "      <td>0</td>\n",
       "      <td>40620.102</td>\n",
       "      <td>purchase of the house</td>\n",
       "      <td>3</td>\n",
       "      <td>4</td>\n",
       "    </tr>\n",
       "    <tr>\n",
       "      <th>1</th>\n",
       "      <td>1</td>\n",
       "      <td>4024.803754</td>\n",
       "      <td>36</td>\n",
       "      <td>secondary education</td>\n",
       "      <td>1</td>\n",
       "      <td>married</td>\n",
       "      <td>0</td>\n",
       "      <td>F</td>\n",
       "      <td>employee</td>\n",
       "      <td>0</td>\n",
       "      <td>17932.802</td>\n",
       "      <td>car purchase</td>\n",
       "      <td>3</td>\n",
       "      <td>3</td>\n",
       "    </tr>\n",
       "    <tr>\n",
       "      <th>2</th>\n",
       "      <td>0</td>\n",
       "      <td>5623.422610</td>\n",
       "      <td>33</td>\n",
       "      <td>secondary education</td>\n",
       "      <td>1</td>\n",
       "      <td>married</td>\n",
       "      <td>0</td>\n",
       "      <td>M</td>\n",
       "      <td>employee</td>\n",
       "      <td>0</td>\n",
       "      <td>23341.752</td>\n",
       "      <td>purchase of the house</td>\n",
       "      <td>3</td>\n",
       "      <td>3</td>\n",
       "    </tr>\n",
       "    <tr>\n",
       "      <th>3</th>\n",
       "      <td>3</td>\n",
       "      <td>4124.747207</td>\n",
       "      <td>32</td>\n",
       "      <td>secondary education</td>\n",
       "      <td>1</td>\n",
       "      <td>married</td>\n",
       "      <td>0</td>\n",
       "      <td>M</td>\n",
       "      <td>employee</td>\n",
       "      <td>0</td>\n",
       "      <td>42820.568</td>\n",
       "      <td>supplementary education</td>\n",
       "      <td>3</td>\n",
       "      <td>3</td>\n",
       "    </tr>\n",
       "    <tr>\n",
       "      <th>4</th>\n",
       "      <td>0</td>\n",
       "      <td>340266.072047</td>\n",
       "      <td>53</td>\n",
       "      <td>secondary education</td>\n",
       "      <td>1</td>\n",
       "      <td>civil partnership</td>\n",
       "      <td>1</td>\n",
       "      <td>F</td>\n",
       "      <td>retiree</td>\n",
       "      <td>0</td>\n",
       "      <td>25378.572</td>\n",
       "      <td>to have a wedding</td>\n",
       "      <td>6</td>\n",
       "      <td>5</td>\n",
       "    </tr>\n",
       "    <tr>\n",
       "      <th>5</th>\n",
       "      <td>0</td>\n",
       "      <td>926.185831</td>\n",
       "      <td>27</td>\n",
       "      <td>bachelor's degree</td>\n",
       "      <td>0</td>\n",
       "      <td>civil partnership</td>\n",
       "      <td>1</td>\n",
       "      <td>M</td>\n",
       "      <td>business</td>\n",
       "      <td>0</td>\n",
       "      <td>40922.170</td>\n",
       "      <td>purchase of the house</td>\n",
       "      <td>2</td>\n",
       "      <td>2</td>\n",
       "    </tr>\n",
       "    <tr>\n",
       "      <th>6</th>\n",
       "      <td>0</td>\n",
       "      <td>2879.202052</td>\n",
       "      <td>43</td>\n",
       "      <td>bachelor's degree</td>\n",
       "      <td>0</td>\n",
       "      <td>married</td>\n",
       "      <td>0</td>\n",
       "      <td>F</td>\n",
       "      <td>business</td>\n",
       "      <td>0</td>\n",
       "      <td>38484.156</td>\n",
       "      <td>housing transactions</td>\n",
       "      <td>2</td>\n",
       "      <td>4</td>\n",
       "    </tr>\n",
       "    <tr>\n",
       "      <th>7</th>\n",
       "      <td>0</td>\n",
       "      <td>152.779569</td>\n",
       "      <td>50</td>\n",
       "      <td>secondary education</td>\n",
       "      <td>1</td>\n",
       "      <td>married</td>\n",
       "      <td>0</td>\n",
       "      <td>M</td>\n",
       "      <td>employee</td>\n",
       "      <td>0</td>\n",
       "      <td>21731.829</td>\n",
       "      <td>education</td>\n",
       "      <td>3</td>\n",
       "      <td>4</td>\n",
       "    </tr>\n",
       "    <tr>\n",
       "      <th>8</th>\n",
       "      <td>2</td>\n",
       "      <td>6929.865299</td>\n",
       "      <td>35</td>\n",
       "      <td>bachelor's degree</td>\n",
       "      <td>0</td>\n",
       "      <td>civil partnership</td>\n",
       "      <td>1</td>\n",
       "      <td>F</td>\n",
       "      <td>employee</td>\n",
       "      <td>0</td>\n",
       "      <td>15337.093</td>\n",
       "      <td>having a wedding</td>\n",
       "      <td>3</td>\n",
       "      <td>3</td>\n",
       "    </tr>\n",
       "    <tr>\n",
       "      <th>9</th>\n",
       "      <td>0</td>\n",
       "      <td>2188.756445</td>\n",
       "      <td>41</td>\n",
       "      <td>secondary education</td>\n",
       "      <td>1</td>\n",
       "      <td>married</td>\n",
       "      <td>0</td>\n",
       "      <td>M</td>\n",
       "      <td>employee</td>\n",
       "      <td>0</td>\n",
       "      <td>23108.150</td>\n",
       "      <td>purchase of the house for my family</td>\n",
       "      <td>3</td>\n",
       "      <td>4</td>\n",
       "    </tr>\n",
       "  </tbody>\n",
       "</table>\n",
       "</div>"
      ],
      "text/plain": [
       "   children  days_employed  dob_years            education  education_id  \\\n",
       "0         1    8437.673028         42    bachelor's degree             0   \n",
       "1         1    4024.803754         36  secondary education             1   \n",
       "2         0    5623.422610         33  secondary education             1   \n",
       "3         3    4124.747207         32  secondary education             1   \n",
       "4         0  340266.072047         53  secondary education             1   \n",
       "5         0     926.185831         27    bachelor's degree             0   \n",
       "6         0    2879.202052         43    bachelor's degree             0   \n",
       "7         0     152.779569         50  secondary education             1   \n",
       "8         2    6929.865299         35    bachelor's degree             0   \n",
       "9         0    2188.756445         41  secondary education             1   \n",
       "\n",
       "       family_status  family_status_id gender income_type  debt  total_income  \\\n",
       "0            married                 0      F    employee     0     40620.102   \n",
       "1            married                 0      F    employee     0     17932.802   \n",
       "2            married                 0      M    employee     0     23341.752   \n",
       "3            married                 0      M    employee     0     42820.568   \n",
       "4  civil partnership                 1      F     retiree     0     25378.572   \n",
       "5  civil partnership                 1      M    business     0     40922.170   \n",
       "6            married                 0      F    business     0     38484.156   \n",
       "7            married                 0      M    employee     0     21731.829   \n",
       "8  civil partnership                 1      F    employee     0     15337.093   \n",
       "9            married                 0      M    employee     0     23108.150   \n",
       "\n",
       "                               purpose  income_type_grade  age_group  \n",
       "0                purchase of the house                  3          4  \n",
       "1                         car purchase                  3          3  \n",
       "2                purchase of the house                  3          3  \n",
       "3              supplementary education                  3          3  \n",
       "4                    to have a wedding                  6          5  \n",
       "5                purchase of the house                  2          2  \n",
       "6                 housing transactions                  2          4  \n",
       "7                            education                  3          4  \n",
       "8                     having a wedding                  3          3  \n",
       "9  purchase of the house for my family                  3          4  "
      ]
     },
     "execution_count": 41,
     "metadata": {},
     "output_type": "execute_result"
    }
   ],
   "source": [
    "# Checking how values in the new column\n",
    "credit_df.head(10)\n"
   ]
  },
  {
   "cell_type": "code",
   "execution_count": 42,
   "metadata": {},
   "outputs": [
    {
     "data": {
      "text/html": [
       "<div>\n",
       "<style scoped>\n",
       "    .dataframe tbody tr th:only-of-type {\n",
       "        vertical-align: middle;\n",
       "    }\n",
       "\n",
       "    .dataframe tbody tr th {\n",
       "        vertical-align: top;\n",
       "    }\n",
       "\n",
       "    .dataframe thead th {\n",
       "        text-align: right;\n",
       "    }\n",
       "</style>\n",
       "<table border=\"1\" class=\"dataframe\">\n",
       "  <thead>\n",
       "    <tr style=\"text-align: right;\">\n",
       "      <th></th>\n",
       "      <th>children</th>\n",
       "      <th>days_employed</th>\n",
       "      <th>dob_years</th>\n",
       "      <th>education</th>\n",
       "      <th>education_id</th>\n",
       "      <th>family_status</th>\n",
       "      <th>family_status_id</th>\n",
       "      <th>gender</th>\n",
       "      <th>income_type</th>\n",
       "      <th>debt</th>\n",
       "      <th>total_income</th>\n",
       "      <th>purpose</th>\n",
       "      <th>income_type_grade</th>\n",
       "      <th>age_group</th>\n",
       "    </tr>\n",
       "  </thead>\n",
       "  <tbody>\n",
       "    <tr>\n",
       "      <th>12</th>\n",
       "      <td>0</td>\n",
       "      <td>NaN</td>\n",
       "      <td>65</td>\n",
       "      <td>secondary education</td>\n",
       "      <td>1</td>\n",
       "      <td>civil partnership</td>\n",
       "      <td>1</td>\n",
       "      <td>M</td>\n",
       "      <td>retiree</td>\n",
       "      <td>0</td>\n",
       "      <td>NaN</td>\n",
       "      <td>to have a wedding</td>\n",
       "      <td>6</td>\n",
       "      <td>6</td>\n",
       "    </tr>\n",
       "    <tr>\n",
       "      <th>26</th>\n",
       "      <td>0</td>\n",
       "      <td>NaN</td>\n",
       "      <td>41</td>\n",
       "      <td>secondary education</td>\n",
       "      <td>1</td>\n",
       "      <td>married</td>\n",
       "      <td>0</td>\n",
       "      <td>M</td>\n",
       "      <td>civil servant</td>\n",
       "      <td>0</td>\n",
       "      <td>NaN</td>\n",
       "      <td>education</td>\n",
       "      <td>4</td>\n",
       "      <td>4</td>\n",
       "    </tr>\n",
       "    <tr>\n",
       "      <th>29</th>\n",
       "      <td>0</td>\n",
       "      <td>NaN</td>\n",
       "      <td>63</td>\n",
       "      <td>secondary education</td>\n",
       "      <td>1</td>\n",
       "      <td>unmarried</td>\n",
       "      <td>4</td>\n",
       "      <td>F</td>\n",
       "      <td>retiree</td>\n",
       "      <td>0</td>\n",
       "      <td>NaN</td>\n",
       "      <td>building a real estate</td>\n",
       "      <td>6</td>\n",
       "      <td>6</td>\n",
       "    </tr>\n",
       "    <tr>\n",
       "      <th>41</th>\n",
       "      <td>0</td>\n",
       "      <td>NaN</td>\n",
       "      <td>50</td>\n",
       "      <td>secondary education</td>\n",
       "      <td>1</td>\n",
       "      <td>married</td>\n",
       "      <td>0</td>\n",
       "      <td>F</td>\n",
       "      <td>civil servant</td>\n",
       "      <td>0</td>\n",
       "      <td>NaN</td>\n",
       "      <td>second-hand car purchase</td>\n",
       "      <td>4</td>\n",
       "      <td>4</td>\n",
       "    </tr>\n",
       "    <tr>\n",
       "      <th>55</th>\n",
       "      <td>0</td>\n",
       "      <td>NaN</td>\n",
       "      <td>54</td>\n",
       "      <td>secondary education</td>\n",
       "      <td>1</td>\n",
       "      <td>civil partnership</td>\n",
       "      <td>1</td>\n",
       "      <td>F</td>\n",
       "      <td>retiree</td>\n",
       "      <td>1</td>\n",
       "      <td>NaN</td>\n",
       "      <td>to have a wedding</td>\n",
       "      <td>6</td>\n",
       "      <td>5</td>\n",
       "    </tr>\n",
       "    <tr>\n",
       "      <th>65</th>\n",
       "      <td>0</td>\n",
       "      <td>NaN</td>\n",
       "      <td>21</td>\n",
       "      <td>secondary education</td>\n",
       "      <td>1</td>\n",
       "      <td>unmarried</td>\n",
       "      <td>4</td>\n",
       "      <td>M</td>\n",
       "      <td>business</td>\n",
       "      <td>0</td>\n",
       "      <td>NaN</td>\n",
       "      <td>transactions with commercial real estate</td>\n",
       "      <td>2</td>\n",
       "      <td>2</td>\n",
       "    </tr>\n",
       "    <tr>\n",
       "      <th>67</th>\n",
       "      <td>0</td>\n",
       "      <td>NaN</td>\n",
       "      <td>52</td>\n",
       "      <td>bachelor's degree</td>\n",
       "      <td>0</td>\n",
       "      <td>married</td>\n",
       "      <td>0</td>\n",
       "      <td>F</td>\n",
       "      <td>retiree</td>\n",
       "      <td>0</td>\n",
       "      <td>NaN</td>\n",
       "      <td>purchase of the house for my family</td>\n",
       "      <td>6</td>\n",
       "      <td>5</td>\n",
       "    </tr>\n",
       "    <tr>\n",
       "      <th>72</th>\n",
       "      <td>1</td>\n",
       "      <td>NaN</td>\n",
       "      <td>32</td>\n",
       "      <td>bachelor's degree</td>\n",
       "      <td>0</td>\n",
       "      <td>married</td>\n",
       "      <td>0</td>\n",
       "      <td>M</td>\n",
       "      <td>civil servant</td>\n",
       "      <td>0</td>\n",
       "      <td>NaN</td>\n",
       "      <td>transactions with commercial real estate</td>\n",
       "      <td>4</td>\n",
       "      <td>3</td>\n",
       "    </tr>\n",
       "    <tr>\n",
       "      <th>82</th>\n",
       "      <td>2</td>\n",
       "      <td>NaN</td>\n",
       "      <td>50</td>\n",
       "      <td>bachelor's degree</td>\n",
       "      <td>0</td>\n",
       "      <td>married</td>\n",
       "      <td>0</td>\n",
       "      <td>F</td>\n",
       "      <td>employee</td>\n",
       "      <td>0</td>\n",
       "      <td>NaN</td>\n",
       "      <td>housing</td>\n",
       "      <td>3</td>\n",
       "      <td>4</td>\n",
       "    </tr>\n",
       "    <tr>\n",
       "      <th>83</th>\n",
       "      <td>0</td>\n",
       "      <td>NaN</td>\n",
       "      <td>52</td>\n",
       "      <td>secondary education</td>\n",
       "      <td>1</td>\n",
       "      <td>married</td>\n",
       "      <td>0</td>\n",
       "      <td>M</td>\n",
       "      <td>employee</td>\n",
       "      <td>0</td>\n",
       "      <td>NaN</td>\n",
       "      <td>housing</td>\n",
       "      <td>3</td>\n",
       "      <td>5</td>\n",
       "    </tr>\n",
       "    <tr>\n",
       "      <th>90</th>\n",
       "      <td>2</td>\n",
       "      <td>NaN</td>\n",
       "      <td>35</td>\n",
       "      <td>bachelor's degree</td>\n",
       "      <td>0</td>\n",
       "      <td>married</td>\n",
       "      <td>0</td>\n",
       "      <td>F</td>\n",
       "      <td>employee</td>\n",
       "      <td>0</td>\n",
       "      <td>NaN</td>\n",
       "      <td>housing transactions</td>\n",
       "      <td>3</td>\n",
       "      <td>3</td>\n",
       "    </tr>\n",
       "    <tr>\n",
       "      <th>94</th>\n",
       "      <td>1</td>\n",
       "      <td>NaN</td>\n",
       "      <td>34</td>\n",
       "      <td>bachelor's degree</td>\n",
       "      <td>0</td>\n",
       "      <td>civil partnership</td>\n",
       "      <td>1</td>\n",
       "      <td>F</td>\n",
       "      <td>business</td>\n",
       "      <td>0</td>\n",
       "      <td>NaN</td>\n",
       "      <td>having a wedding</td>\n",
       "      <td>2</td>\n",
       "      <td>3</td>\n",
       "    </tr>\n",
       "    <tr>\n",
       "      <th>96</th>\n",
       "      <td>0</td>\n",
       "      <td>NaN</td>\n",
       "      <td>44</td>\n",
       "      <td>secondary education</td>\n",
       "      <td>1</td>\n",
       "      <td>married</td>\n",
       "      <td>0</td>\n",
       "      <td>F</td>\n",
       "      <td>employee</td>\n",
       "      <td>0</td>\n",
       "      <td>NaN</td>\n",
       "      <td>buy residential real estate</td>\n",
       "      <td>3</td>\n",
       "      <td>4</td>\n",
       "    </tr>\n",
       "    <tr>\n",
       "      <th>97</th>\n",
       "      <td>0</td>\n",
       "      <td>NaN</td>\n",
       "      <td>47</td>\n",
       "      <td>bachelor's degree</td>\n",
       "      <td>0</td>\n",
       "      <td>married</td>\n",
       "      <td>0</td>\n",
       "      <td>F</td>\n",
       "      <td>employee</td>\n",
       "      <td>0</td>\n",
       "      <td>NaN</td>\n",
       "      <td>profile education</td>\n",
       "      <td>3</td>\n",
       "      <td>4</td>\n",
       "    </tr>\n",
       "    <tr>\n",
       "      <th>119</th>\n",
       "      <td>0</td>\n",
       "      <td>NaN</td>\n",
       "      <td>29</td>\n",
       "      <td>bachelor's degree</td>\n",
       "      <td>0</td>\n",
       "      <td>married</td>\n",
       "      <td>0</td>\n",
       "      <td>F</td>\n",
       "      <td>business</td>\n",
       "      <td>0</td>\n",
       "      <td>NaN</td>\n",
       "      <td>car</td>\n",
       "      <td>2</td>\n",
       "      <td>2</td>\n",
       "    </tr>\n",
       "  </tbody>\n",
       "</table>\n",
       "</div>"
      ],
      "text/plain": [
       "     children  days_employed  dob_years            education  education_id  \\\n",
       "12          0            NaN         65  secondary education             1   \n",
       "26          0            NaN         41  secondary education             1   \n",
       "29          0            NaN         63  secondary education             1   \n",
       "41          0            NaN         50  secondary education             1   \n",
       "55          0            NaN         54  secondary education             1   \n",
       "65          0            NaN         21  secondary education             1   \n",
       "67          0            NaN         52    bachelor's degree             0   \n",
       "72          1            NaN         32    bachelor's degree             0   \n",
       "82          2            NaN         50    bachelor's degree             0   \n",
       "83          0            NaN         52  secondary education             1   \n",
       "90          2            NaN         35    bachelor's degree             0   \n",
       "94          1            NaN         34    bachelor's degree             0   \n",
       "96          0            NaN         44  secondary education             1   \n",
       "97          0            NaN         47    bachelor's degree             0   \n",
       "119         0            NaN         29    bachelor's degree             0   \n",
       "\n",
       "         family_status  family_status_id gender    income_type  debt  \\\n",
       "12   civil partnership                 1      M        retiree     0   \n",
       "26             married                 0      M  civil servant     0   \n",
       "29           unmarried                 4      F        retiree     0   \n",
       "41             married                 0      F  civil servant     0   \n",
       "55   civil partnership                 1      F        retiree     1   \n",
       "65           unmarried                 4      M       business     0   \n",
       "67             married                 0      F        retiree     0   \n",
       "72             married                 0      M  civil servant     0   \n",
       "82             married                 0      F       employee     0   \n",
       "83             married                 0      M       employee     0   \n",
       "90             married                 0      F       employee     0   \n",
       "94   civil partnership                 1      F       business     0   \n",
       "96             married                 0      F       employee     0   \n",
       "97             married                 0      F       employee     0   \n",
       "119            married                 0      F       business     0   \n",
       "\n",
       "     total_income                                   purpose  \\\n",
       "12            NaN                         to have a wedding   \n",
       "26            NaN                                 education   \n",
       "29            NaN                    building a real estate   \n",
       "41            NaN                  second-hand car purchase   \n",
       "55            NaN                         to have a wedding   \n",
       "65            NaN  transactions with commercial real estate   \n",
       "67            NaN       purchase of the house for my family   \n",
       "72            NaN  transactions with commercial real estate   \n",
       "82            NaN                                   housing   \n",
       "83            NaN                                   housing   \n",
       "90            NaN                      housing transactions   \n",
       "94            NaN                          having a wedding   \n",
       "96            NaN               buy residential real estate   \n",
       "97            NaN                         profile education   \n",
       "119           NaN                                       car   \n",
       "\n",
       "     income_type_grade  age_group  \n",
       "12                   6          6  \n",
       "26                   4          4  \n",
       "29                   6          6  \n",
       "41                   4          4  \n",
       "55                   6          5  \n",
       "65                   2          2  \n",
       "67                   6          5  \n",
       "72                   4          3  \n",
       "82                   3          4  \n",
       "83                   3          5  \n",
       "90                   3          3  \n",
       "94                   2          3  \n",
       "96                   3          4  \n",
       "97                   3          4  \n",
       "119                  2          2  "
      ]
     },
     "execution_count": 42,
     "metadata": {},
     "output_type": "execute_result"
    }
   ],
   "source": [
    "credit_df_null_new.head(15)"
   ]
  },
  {
   "cell_type": "markdown",
   "metadata": {},
   "source": [
    "\n",
    "\n",
    "Most salaries are based on the way a man earns his leaving(shown by 'income_type'column), and the seniority(days_employed), of that person in the type of income he has.\n",
    "\n",
    "The salleries are also based on the education a man has, but because it can varie in the same income type, we can exclude it as a parameter we will take in considaration, when extracting the total_income and days_employed values, that we will then manipulate to get the values of the missing values.\n",
    "\n",
    "since we have both days_employed and 'total_income' columns, have missing values , I think that categorizing the values of both columns under age category, will give us the details for both columns that we need.\n"
   ]
  },
  {
   "cell_type": "markdown",
   "metadata": {},
   "source": [
    "**But the first step**\n",
    "\n",
    "We will start by extracting the data we already have to a new table.\n",
    "A table without the missing values. so we can get te mst information depending on the full data we have."
   ]
  },
  {
   "cell_type": "code",
   "execution_count": 43,
   "metadata": {},
   "outputs": [
    {
     "data": {
      "text/html": [
       "<div>\n",
       "<style scoped>\n",
       "    .dataframe tbody tr th:only-of-type {\n",
       "        vertical-align: middle;\n",
       "    }\n",
       "\n",
       "    .dataframe tbody tr th {\n",
       "        vertical-align: top;\n",
       "    }\n",
       "\n",
       "    .dataframe thead th {\n",
       "        text-align: right;\n",
       "    }\n",
       "</style>\n",
       "<table border=\"1\" class=\"dataframe\">\n",
       "  <thead>\n",
       "    <tr style=\"text-align: right;\">\n",
       "      <th></th>\n",
       "      <th>children</th>\n",
       "      <th>days_employed</th>\n",
       "      <th>dob_years</th>\n",
       "      <th>education</th>\n",
       "      <th>education_id</th>\n",
       "      <th>family_status</th>\n",
       "      <th>family_status_id</th>\n",
       "      <th>gender</th>\n",
       "      <th>income_type</th>\n",
       "      <th>debt</th>\n",
       "      <th>total_income</th>\n",
       "      <th>purpose</th>\n",
       "      <th>income_type_grade</th>\n",
       "      <th>age_group</th>\n",
       "    </tr>\n",
       "  </thead>\n",
       "  <tbody>\n",
       "    <tr>\n",
       "      <th>0</th>\n",
       "      <td>1</td>\n",
       "      <td>8437.673028</td>\n",
       "      <td>42</td>\n",
       "      <td>bachelor's degree</td>\n",
       "      <td>0</td>\n",
       "      <td>married</td>\n",
       "      <td>0</td>\n",
       "      <td>F</td>\n",
       "      <td>employee</td>\n",
       "      <td>0</td>\n",
       "      <td>40620.102</td>\n",
       "      <td>purchase of the house</td>\n",
       "      <td>3</td>\n",
       "      <td>4</td>\n",
       "    </tr>\n",
       "    <tr>\n",
       "      <th>1</th>\n",
       "      <td>1</td>\n",
       "      <td>4024.803754</td>\n",
       "      <td>36</td>\n",
       "      <td>secondary education</td>\n",
       "      <td>1</td>\n",
       "      <td>married</td>\n",
       "      <td>0</td>\n",
       "      <td>F</td>\n",
       "      <td>employee</td>\n",
       "      <td>0</td>\n",
       "      <td>17932.802</td>\n",
       "      <td>car purchase</td>\n",
       "      <td>3</td>\n",
       "      <td>3</td>\n",
       "    </tr>\n",
       "    <tr>\n",
       "      <th>2</th>\n",
       "      <td>0</td>\n",
       "      <td>5623.422610</td>\n",
       "      <td>33</td>\n",
       "      <td>secondary education</td>\n",
       "      <td>1</td>\n",
       "      <td>married</td>\n",
       "      <td>0</td>\n",
       "      <td>M</td>\n",
       "      <td>employee</td>\n",
       "      <td>0</td>\n",
       "      <td>23341.752</td>\n",
       "      <td>purchase of the house</td>\n",
       "      <td>3</td>\n",
       "      <td>3</td>\n",
       "    </tr>\n",
       "    <tr>\n",
       "      <th>3</th>\n",
       "      <td>3</td>\n",
       "      <td>4124.747207</td>\n",
       "      <td>32</td>\n",
       "      <td>secondary education</td>\n",
       "      <td>1</td>\n",
       "      <td>married</td>\n",
       "      <td>0</td>\n",
       "      <td>M</td>\n",
       "      <td>employee</td>\n",
       "      <td>0</td>\n",
       "      <td>42820.568</td>\n",
       "      <td>supplementary education</td>\n",
       "      <td>3</td>\n",
       "      <td>3</td>\n",
       "    </tr>\n",
       "    <tr>\n",
       "      <th>4</th>\n",
       "      <td>0</td>\n",
       "      <td>340266.072047</td>\n",
       "      <td>53</td>\n",
       "      <td>secondary education</td>\n",
       "      <td>1</td>\n",
       "      <td>civil partnership</td>\n",
       "      <td>1</td>\n",
       "      <td>F</td>\n",
       "      <td>retiree</td>\n",
       "      <td>0</td>\n",
       "      <td>25378.572</td>\n",
       "      <td>to have a wedding</td>\n",
       "      <td>6</td>\n",
       "      <td>5</td>\n",
       "    </tr>\n",
       "    <tr>\n",
       "      <th>5</th>\n",
       "      <td>0</td>\n",
       "      <td>926.185831</td>\n",
       "      <td>27</td>\n",
       "      <td>bachelor's degree</td>\n",
       "      <td>0</td>\n",
       "      <td>civil partnership</td>\n",
       "      <td>1</td>\n",
       "      <td>M</td>\n",
       "      <td>business</td>\n",
       "      <td>0</td>\n",
       "      <td>40922.170</td>\n",
       "      <td>purchase of the house</td>\n",
       "      <td>2</td>\n",
       "      <td>2</td>\n",
       "    </tr>\n",
       "    <tr>\n",
       "      <th>6</th>\n",
       "      <td>0</td>\n",
       "      <td>2879.202052</td>\n",
       "      <td>43</td>\n",
       "      <td>bachelor's degree</td>\n",
       "      <td>0</td>\n",
       "      <td>married</td>\n",
       "      <td>0</td>\n",
       "      <td>F</td>\n",
       "      <td>business</td>\n",
       "      <td>0</td>\n",
       "      <td>38484.156</td>\n",
       "      <td>housing transactions</td>\n",
       "      <td>2</td>\n",
       "      <td>4</td>\n",
       "    </tr>\n",
       "    <tr>\n",
       "      <th>7</th>\n",
       "      <td>0</td>\n",
       "      <td>152.779569</td>\n",
       "      <td>50</td>\n",
       "      <td>secondary education</td>\n",
       "      <td>1</td>\n",
       "      <td>married</td>\n",
       "      <td>0</td>\n",
       "      <td>M</td>\n",
       "      <td>employee</td>\n",
       "      <td>0</td>\n",
       "      <td>21731.829</td>\n",
       "      <td>education</td>\n",
       "      <td>3</td>\n",
       "      <td>4</td>\n",
       "    </tr>\n",
       "    <tr>\n",
       "      <th>8</th>\n",
       "      <td>2</td>\n",
       "      <td>6929.865299</td>\n",
       "      <td>35</td>\n",
       "      <td>bachelor's degree</td>\n",
       "      <td>0</td>\n",
       "      <td>civil partnership</td>\n",
       "      <td>1</td>\n",
       "      <td>F</td>\n",
       "      <td>employee</td>\n",
       "      <td>0</td>\n",
       "      <td>15337.093</td>\n",
       "      <td>having a wedding</td>\n",
       "      <td>3</td>\n",
       "      <td>3</td>\n",
       "    </tr>\n",
       "    <tr>\n",
       "      <th>9</th>\n",
       "      <td>0</td>\n",
       "      <td>2188.756445</td>\n",
       "      <td>41</td>\n",
       "      <td>secondary education</td>\n",
       "      <td>1</td>\n",
       "      <td>married</td>\n",
       "      <td>0</td>\n",
       "      <td>M</td>\n",
       "      <td>employee</td>\n",
       "      <td>0</td>\n",
       "      <td>23108.150</td>\n",
       "      <td>purchase of the house for my family</td>\n",
       "      <td>3</td>\n",
       "      <td>4</td>\n",
       "    </tr>\n",
       "  </tbody>\n",
       "</table>\n",
       "</div>"
      ],
      "text/plain": [
       "   children  days_employed  dob_years            education  education_id  \\\n",
       "0         1    8437.673028         42    bachelor's degree             0   \n",
       "1         1    4024.803754         36  secondary education             1   \n",
       "2         0    5623.422610         33  secondary education             1   \n",
       "3         3    4124.747207         32  secondary education             1   \n",
       "4         0  340266.072047         53  secondary education             1   \n",
       "5         0     926.185831         27    bachelor's degree             0   \n",
       "6         0    2879.202052         43    bachelor's degree             0   \n",
       "7         0     152.779569         50  secondary education             1   \n",
       "8         2    6929.865299         35    bachelor's degree             0   \n",
       "9         0    2188.756445         41  secondary education             1   \n",
       "\n",
       "       family_status  family_status_id gender income_type  debt  total_income  \\\n",
       "0            married                 0      F    employee     0     40620.102   \n",
       "1            married                 0      F    employee     0     17932.802   \n",
       "2            married                 0      M    employee     0     23341.752   \n",
       "3            married                 0      M    employee     0     42820.568   \n",
       "4  civil partnership                 1      F     retiree     0     25378.572   \n",
       "5  civil partnership                 1      M    business     0     40922.170   \n",
       "6            married                 0      F    business     0     38484.156   \n",
       "7            married                 0      M    employee     0     21731.829   \n",
       "8  civil partnership                 1      F    employee     0     15337.093   \n",
       "9            married                 0      M    employee     0     23108.150   \n",
       "\n",
       "                               purpose  income_type_grade  age_group  \n",
       "0                purchase of the house                  3          4  \n",
       "1                         car purchase                  3          3  \n",
       "2                purchase of the house                  3          3  \n",
       "3              supplementary education                  3          3  \n",
       "4                    to have a wedding                  6          5  \n",
       "5                purchase of the house                  2          2  \n",
       "6                 housing transactions                  2          4  \n",
       "7                            education                  3          4  \n",
       "8                     having a wedding                  3          3  \n",
       "9  purchase of the house for my family                  3          4  "
      ]
     },
     "execution_count": 43,
     "metadata": {},
     "output_type": "execute_result"
    }
   ],
   "source": [
    "# Create a table without missing values and print a few of its rows to make sure it looks fine\n",
    "\n",
    "credit_df_nomiss = credit_df.dropna()\n",
    "credit_df_nomiss.head(10)"
   ]
  },
  {
   "cell_type": "markdown",
   "metadata": {},
   "source": [
    "**Next step**\n",
    "\n",
    "aggragate the values of both 'days_employed' and 'total_income' under the 'age_group',and 'income_type_grade' categories , with both means and medians, of these values, for each age group and income type.\n",
    "\n"
   ]
  },
  {
   "cell_type": "code",
   "execution_count": 44,
   "metadata": {},
   "outputs": [
    {
     "data": {
      "text/html": [
       "<div>\n",
       "<style scoped>\n",
       "    .dataframe tbody tr th:only-of-type {\n",
       "        vertical-align: middle;\n",
       "    }\n",
       "\n",
       "    .dataframe tbody tr th {\n",
       "        vertical-align: top;\n",
       "    }\n",
       "\n",
       "    .dataframe thead tr th {\n",
       "        text-align: left;\n",
       "    }\n",
       "\n",
       "    .dataframe thead tr:last-of-type th {\n",
       "        text-align: right;\n",
       "    }\n",
       "</style>\n",
       "<table border=\"1\" class=\"dataframe\">\n",
       "  <thead>\n",
       "    <tr>\n",
       "      <th></th>\n",
       "      <th></th>\n",
       "      <th colspan=\"2\" halign=\"left\">days_employed</th>\n",
       "      <th colspan=\"2\" halign=\"left\">total_income</th>\n",
       "    </tr>\n",
       "    <tr>\n",
       "      <th></th>\n",
       "      <th></th>\n",
       "      <th>mean</th>\n",
       "      <th>median</th>\n",
       "      <th>mean</th>\n",
       "      <th>median</th>\n",
       "    </tr>\n",
       "    <tr>\n",
       "      <th>age_group</th>\n",
       "      <th>income_type_grade</th>\n",
       "      <th></th>\n",
       "      <th></th>\n",
       "      <th></th>\n",
       "      <th></th>\n",
       "    </tr>\n",
       "  </thead>\n",
       "  <tbody>\n",
       "    <tr>\n",
       "      <th rowspan=\"3\" valign=\"top\">1</th>\n",
       "      <th>2</th>\n",
       "      <td>515.985625</td>\n",
       "      <td>542.867211</td>\n",
       "      <td>20223.495136</td>\n",
       "      <td>19648.2745</td>\n",
       "    </tr>\n",
       "    <tr>\n",
       "      <th>3</th>\n",
       "      <td>782.125220</td>\n",
       "      <td>868.770587</td>\n",
       "      <td>19040.474088</td>\n",
       "      <td>16356.9390</td>\n",
       "    </tr>\n",
       "    <tr>\n",
       "      <th>4</th>\n",
       "      <td>600.437357</td>\n",
       "      <td>509.969922</td>\n",
       "      <td>21099.632667</td>\n",
       "      <td>12125.9860</td>\n",
       "    </tr>\n",
       "    <tr>\n",
       "      <th rowspan=\"6\" valign=\"top\">2</th>\n",
       "      <th>1</th>\n",
       "      <td>520.848083</td>\n",
       "      <td>520.848083</td>\n",
       "      <td>79866.103000</td>\n",
       "      <td>79866.1030</td>\n",
       "    </tr>\n",
       "    <tr>\n",
       "      <th>2</th>\n",
       "      <td>1222.256221</td>\n",
       "      <td>982.308535</td>\n",
       "      <td>29547.952832</td>\n",
       "      <td>25777.2835</td>\n",
       "    </tr>\n",
       "    <tr>\n",
       "      <th>3</th>\n",
       "      <td>1271.615129</td>\n",
       "      <td>1059.334917</td>\n",
       "      <td>24299.975239</td>\n",
       "      <td>21916.2890</td>\n",
       "    </tr>\n",
       "    <tr>\n",
       "      <th>4</th>\n",
       "      <td>1709.824672</td>\n",
       "      <td>1492.890520</td>\n",
       "      <td>25218.280307</td>\n",
       "      <td>23300.0970</td>\n",
       "    </tr>\n",
       "    <tr>\n",
       "      <th>5</th>\n",
       "      <td>578.751554</td>\n",
       "      <td>578.751554</td>\n",
       "      <td>15712.260000</td>\n",
       "      <td>15712.2600</td>\n",
       "    </tr>\n",
       "    <tr>\n",
       "      <th>6</th>\n",
       "      <td>360706.968329</td>\n",
       "      <td>364348.197352</td>\n",
       "      <td>14888.651857</td>\n",
       "      <td>12807.0710</td>\n",
       "    </tr>\n",
       "    <tr>\n",
       "      <th rowspan=\"6\" valign=\"top\">3</th>\n",
       "      <th>2</th>\n",
       "      <td>1900.201337</td>\n",
       "      <td>1526.265196</td>\n",
       "      <td>33068.546597</td>\n",
       "      <td>28969.5790</td>\n",
       "    </tr>\n",
       "    <tr>\n",
       "      <th>3</th>\n",
       "      <td>2069.753545</td>\n",
       "      <td>1568.383144</td>\n",
       "      <td>26347.145920</td>\n",
       "      <td>23262.4510</td>\n",
       "    </tr>\n",
       "    <tr>\n",
       "      <th>4</th>\n",
       "      <td>2954.475076</td>\n",
       "      <td>2709.926313</td>\n",
       "      <td>28242.827136</td>\n",
       "      <td>25015.2790</td>\n",
       "    </tr>\n",
       "    <tr>\n",
       "      <th>6</th>\n",
       "      <td>366218.199639</td>\n",
       "      <td>366120.685484</td>\n",
       "      <td>22164.904028</td>\n",
       "      <td>18475.1010</td>\n",
       "    </tr>\n",
       "    <tr>\n",
       "      <th>7</th>\n",
       "      <td>3296.759962</td>\n",
       "      <td>3296.759962</td>\n",
       "      <td>8612.661000</td>\n",
       "      <td>8612.6610</td>\n",
       "    </tr>\n",
       "    <tr>\n",
       "      <th>8</th>\n",
       "      <td>337524.466835</td>\n",
       "      <td>337524.466835</td>\n",
       "      <td>9593.119000</td>\n",
       "      <td>9593.1190</td>\n",
       "    </tr>\n",
       "    <tr>\n",
       "      <th rowspan=\"5\" valign=\"top\">4</th>\n",
       "      <th>2</th>\n",
       "      <td>2506.981092</td>\n",
       "      <td>1944.345291</td>\n",
       "      <td>33982.135797</td>\n",
       "      <td>28352.4130</td>\n",
       "    </tr>\n",
       "    <tr>\n",
       "      <th>3</th>\n",
       "      <td>2778.171800</td>\n",
       "      <td>1977.445600</td>\n",
       "      <td>26052.497606</td>\n",
       "      <td>22952.0400</td>\n",
       "    </tr>\n",
       "    <tr>\n",
       "      <th>4</th>\n",
       "      <td>4030.836455</td>\n",
       "      <td>3434.535923</td>\n",
       "      <td>28037.978307</td>\n",
       "      <td>23847.2850</td>\n",
       "    </tr>\n",
       "    <tr>\n",
       "      <th>6</th>\n",
       "      <td>365482.830195</td>\n",
       "      <td>366524.770381</td>\n",
       "      <td>26492.848641</td>\n",
       "      <td>22740.0690</td>\n",
       "    </tr>\n",
       "    <tr>\n",
       "      <th>8</th>\n",
       "      <td>395302.838654</td>\n",
       "      <td>395302.838654</td>\n",
       "      <td>32435.602000</td>\n",
       "      <td>32435.6020</td>\n",
       "    </tr>\n",
       "    <tr>\n",
       "      <th rowspan=\"4\" valign=\"top\">5</th>\n",
       "      <th>2</th>\n",
       "      <td>2899.605957</td>\n",
       "      <td>2051.793434</td>\n",
       "      <td>32431.747401</td>\n",
       "      <td>27348.5870</td>\n",
       "    </tr>\n",
       "    <tr>\n",
       "      <th>3</th>\n",
       "      <td>3271.309661</td>\n",
       "      <td>2235.163052</td>\n",
       "      <td>26207.542728</td>\n",
       "      <td>22696.3680</td>\n",
       "    </tr>\n",
       "    <tr>\n",
       "      <th>4</th>\n",
       "      <td>4944.394327</td>\n",
       "      <td>4027.073137</td>\n",
       "      <td>26404.586045</td>\n",
       "      <td>23392.7575</td>\n",
       "    </tr>\n",
       "    <tr>\n",
       "      <th>6</th>\n",
       "      <td>364620.538773</td>\n",
       "      <td>364476.428216</td>\n",
       "      <td>21981.722046</td>\n",
       "      <td>19258.8770</td>\n",
       "    </tr>\n",
       "    <tr>\n",
       "      <th rowspan=\"4\" valign=\"top\">6</th>\n",
       "      <th>2</th>\n",
       "      <td>3644.075107</td>\n",
       "      <td>2358.275817</td>\n",
       "      <td>32668.898026</td>\n",
       "      <td>29171.9890</td>\n",
       "    </tr>\n",
       "    <tr>\n",
       "      <th>3</th>\n",
       "      <td>3883.335727</td>\n",
       "      <td>2669.073965</td>\n",
       "      <td>27825.431709</td>\n",
       "      <td>23550.5120</td>\n",
       "    </tr>\n",
       "    <tr>\n",
       "      <th>4</th>\n",
       "      <td>4390.716537</td>\n",
       "      <td>3318.440092</td>\n",
       "      <td>30713.052864</td>\n",
       "      <td>25144.1470</td>\n",
       "    </tr>\n",
       "    <tr>\n",
       "      <th>6</th>\n",
       "      <td>365290.737157</td>\n",
       "      <td>365718.329655</td>\n",
       "      <td>21536.347168</td>\n",
       "      <td>18422.5430</td>\n",
       "    </tr>\n",
       "    <tr>\n",
       "      <th rowspan=\"4\" valign=\"top\">7</th>\n",
       "      <th>2</th>\n",
       "      <td>4622.013775</td>\n",
       "      <td>3095.344969</td>\n",
       "      <td>29211.780833</td>\n",
       "      <td>28138.8950</td>\n",
       "    </tr>\n",
       "    <tr>\n",
       "      <th>3</th>\n",
       "      <td>4266.205758</td>\n",
       "      <td>4093.896003</td>\n",
       "      <td>23320.184000</td>\n",
       "      <td>20246.1230</td>\n",
       "    </tr>\n",
       "    <tr>\n",
       "      <th>4</th>\n",
       "      <td>1204.922098</td>\n",
       "      <td>1204.922098</td>\n",
       "      <td>19530.677500</td>\n",
       "      <td>19530.6775</td>\n",
       "    </tr>\n",
       "    <tr>\n",
       "      <th>6</th>\n",
       "      <td>367015.731064</td>\n",
       "      <td>367877.010970</td>\n",
       "      <td>18730.020326</td>\n",
       "      <td>18146.7015</td>\n",
       "    </tr>\n",
       "  </tbody>\n",
       "</table>\n",
       "</div>"
      ],
      "text/plain": [
       "                             days_employed                 total_income  \\\n",
       "                                      mean         median          mean   \n",
       "age_group income_type_grade                                               \n",
       "1         2                     515.985625     542.867211  20223.495136   \n",
       "          3                     782.125220     868.770587  19040.474088   \n",
       "          4                     600.437357     509.969922  21099.632667   \n",
       "2         1                     520.848083     520.848083  79866.103000   \n",
       "          2                    1222.256221     982.308535  29547.952832   \n",
       "          3                    1271.615129    1059.334917  24299.975239   \n",
       "          4                    1709.824672    1492.890520  25218.280307   \n",
       "          5                     578.751554     578.751554  15712.260000   \n",
       "          6                  360706.968329  364348.197352  14888.651857   \n",
       "3         2                    1900.201337    1526.265196  33068.546597   \n",
       "          3                    2069.753545    1568.383144  26347.145920   \n",
       "          4                    2954.475076    2709.926313  28242.827136   \n",
       "          6                  366218.199639  366120.685484  22164.904028   \n",
       "          7                    3296.759962    3296.759962   8612.661000   \n",
       "          8                  337524.466835  337524.466835   9593.119000   \n",
       "4         2                    2506.981092    1944.345291  33982.135797   \n",
       "          3                    2778.171800    1977.445600  26052.497606   \n",
       "          4                    4030.836455    3434.535923  28037.978307   \n",
       "          6                  365482.830195  366524.770381  26492.848641   \n",
       "          8                  395302.838654  395302.838654  32435.602000   \n",
       "5         2                    2899.605957    2051.793434  32431.747401   \n",
       "          3                    3271.309661    2235.163052  26207.542728   \n",
       "          4                    4944.394327    4027.073137  26404.586045   \n",
       "          6                  364620.538773  364476.428216  21981.722046   \n",
       "6         2                    3644.075107    2358.275817  32668.898026   \n",
       "          3                    3883.335727    2669.073965  27825.431709   \n",
       "          4                    4390.716537    3318.440092  30713.052864   \n",
       "          6                  365290.737157  365718.329655  21536.347168   \n",
       "7         2                    4622.013775    3095.344969  29211.780833   \n",
       "          3                    4266.205758    4093.896003  23320.184000   \n",
       "          4                    1204.922098    1204.922098  19530.677500   \n",
       "          6                  367015.731064  367877.010970  18730.020326   \n",
       "\n",
       "                                         \n",
       "                                 median  \n",
       "age_group income_type_grade              \n",
       "1         2                  19648.2745  \n",
       "          3                  16356.9390  \n",
       "          4                  12125.9860  \n",
       "2         1                  79866.1030  \n",
       "          2                  25777.2835  \n",
       "          3                  21916.2890  \n",
       "          4                  23300.0970  \n",
       "          5                  15712.2600  \n",
       "          6                  12807.0710  \n",
       "3         2                  28969.5790  \n",
       "          3                  23262.4510  \n",
       "          4                  25015.2790  \n",
       "          6                  18475.1010  \n",
       "          7                   8612.6610  \n",
       "          8                   9593.1190  \n",
       "4         2                  28352.4130  \n",
       "          3                  22952.0400  \n",
       "          4                  23847.2850  \n",
       "          6                  22740.0690  \n",
       "          8                  32435.6020  \n",
       "5         2                  27348.5870  \n",
       "          3                  22696.3680  \n",
       "          4                  23392.7575  \n",
       "          6                  19258.8770  \n",
       "6         2                  29171.9890  \n",
       "          3                  23550.5120  \n",
       "          4                  25144.1470  \n",
       "          6                  18422.5430  \n",
       "7         2                  28138.8950  \n",
       "          3                  20246.1230  \n",
       "          4                  19530.6775  \n",
       "          6                  18146.7015  "
      ]
     },
     "execution_count": 44,
     "metadata": {},
     "output_type": "execute_result"
    }
   ],
   "source": [
    "# Look at the mean values for income based on the age_group and income_grade parameters\n",
    "\n",
    "total_incom_mean_age_inc = credit_df_nomiss.groupby(['age_group','income_type_grade']).agg({'days_employed':['mean','median'],'total_income':['mean','median']})\n",
    "\n",
    "total_incom_mean_age_inc"
   ]
  },
  {
   "cell_type": "markdown",
   "metadata": {},
   "source": [
    "**intemediate decission**\n",
    "\n",
    "After I looked at the data fro the aggregation of the data by the two factors of, age group and income grade, I see that the data distributes a bit diferantly between the mean and the median. \n",
    "Because the more accurate destribution of values is considred to be the median, I decided to go with the median values , which I will use to fill the missing values of bothe columns."
   ]
  },
  {
   "cell_type": "markdown",
   "metadata": {},
   "source": [
    "\n",
    "\n",
    "We see from this comperisons of diffrent agegroups and the education id they are in , that there is a constat rise of the income (bothe mean and median), up to age group no. 4 (41-50). and after that there is a decline in these age groups of 5 to 7 (51-75+).\n",
    "\n",
    "let see the age verses gender , to watch the diffrences , maybe we will need to take age and gender as our factors in determaning the value each missing value willget.\n"
   ]
  },
  {
   "cell_type": "markdown",
   "metadata": {},
   "source": [
    "**I want to check befor I will do that if there is an influance on the numbers if we will devide the data gender wise**"
   ]
  },
  {
   "cell_type": "code",
   "execution_count": 45,
   "metadata": {},
   "outputs": [
    {
     "data": {
      "text/html": [
       "<div>\n",
       "<style scoped>\n",
       "    .dataframe tbody tr th:only-of-type {\n",
       "        vertical-align: middle;\n",
       "    }\n",
       "\n",
       "    .dataframe tbody tr th {\n",
       "        vertical-align: top;\n",
       "    }\n",
       "\n",
       "    .dataframe thead tr th {\n",
       "        text-align: left;\n",
       "    }\n",
       "\n",
       "    .dataframe thead tr:last-of-type th {\n",
       "        text-align: right;\n",
       "    }\n",
       "</style>\n",
       "<table border=\"1\" class=\"dataframe\">\n",
       "  <thead>\n",
       "    <tr>\n",
       "      <th></th>\n",
       "      <th></th>\n",
       "      <th></th>\n",
       "      <th colspan=\"2\" halign=\"left\">days_employed</th>\n",
       "      <th colspan=\"2\" halign=\"left\">total_income</th>\n",
       "    </tr>\n",
       "    <tr>\n",
       "      <th></th>\n",
       "      <th></th>\n",
       "      <th></th>\n",
       "      <th>mean</th>\n",
       "      <th>median</th>\n",
       "      <th>mean</th>\n",
       "      <th>median</th>\n",
       "    </tr>\n",
       "    <tr>\n",
       "      <th>age_group</th>\n",
       "      <th>income_type_grade</th>\n",
       "      <th>gender</th>\n",
       "      <th></th>\n",
       "      <th></th>\n",
       "      <th></th>\n",
       "      <th></th>\n",
       "    </tr>\n",
       "  </thead>\n",
       "  <tbody>\n",
       "    <tr>\n",
       "      <th rowspan=\"6\" valign=\"top\">1</th>\n",
       "      <th rowspan=\"2\" valign=\"top\">2</th>\n",
       "      <th>F</th>\n",
       "      <td>452.476523</td>\n",
       "      <td>466.645577</td>\n",
       "      <td>19957.790214</td>\n",
       "      <td>18535.3195</td>\n",
       "    </tr>\n",
       "    <tr>\n",
       "      <th>M</th>\n",
       "      <td>627.126553</td>\n",
       "      <td>589.676848</td>\n",
       "      <td>20688.478750</td>\n",
       "      <td>20725.2015</td>\n",
       "    </tr>\n",
       "    <tr>\n",
       "      <th rowspan=\"2\" valign=\"top\">3</th>\n",
       "      <th>F</th>\n",
       "      <td>742.610885</td>\n",
       "      <td>798.219165</td>\n",
       "      <td>17484.108150</td>\n",
       "      <td>15296.5890</td>\n",
       "    </tr>\n",
       "    <tr>\n",
       "      <th>M</th>\n",
       "      <td>838.574270</td>\n",
       "      <td>885.674587</td>\n",
       "      <td>21263.854000</td>\n",
       "      <td>20418.6045</td>\n",
       "    </tr>\n",
       "    <tr>\n",
       "      <th rowspan=\"2\" valign=\"top\">4</th>\n",
       "      <th>F</th>\n",
       "      <td>509.969922</td>\n",
       "      <td>509.969922</td>\n",
       "      <td>12125.986000</td>\n",
       "      <td>12125.9860</td>\n",
       "    </tr>\n",
       "    <tr>\n",
       "      <th>M</th>\n",
       "      <td>645.671074</td>\n",
       "      <td>645.671074</td>\n",
       "      <td>25586.456000</td>\n",
       "      <td>25586.4560</td>\n",
       "    </tr>\n",
       "    <tr>\n",
       "      <th rowspan=\"10\" valign=\"top\">2</th>\n",
       "      <th>1</th>\n",
       "      <th>F</th>\n",
       "      <td>520.848083</td>\n",
       "      <td>520.848083</td>\n",
       "      <td>79866.103000</td>\n",
       "      <td>79866.1030</td>\n",
       "    </tr>\n",
       "    <tr>\n",
       "      <th rowspan=\"2\" valign=\"top\">2</th>\n",
       "      <th>F</th>\n",
       "      <td>1240.274210</td>\n",
       "      <td>992.785520</td>\n",
       "      <td>26621.295452</td>\n",
       "      <td>23386.2420</td>\n",
       "    </tr>\n",
       "    <tr>\n",
       "      <th>M</th>\n",
       "      <td>1194.342342</td>\n",
       "      <td>942.921242</td>\n",
       "      <td>34081.997168</td>\n",
       "      <td>29493.7470</td>\n",
       "    </tr>\n",
       "    <tr>\n",
       "      <th rowspan=\"2\" valign=\"top\">3</th>\n",
       "      <th>F</th>\n",
       "      <td>1306.053113</td>\n",
       "      <td>1114.868798</td>\n",
       "      <td>22149.194750</td>\n",
       "      <td>19551.4320</td>\n",
       "    </tr>\n",
       "    <tr>\n",
       "      <th>M</th>\n",
       "      <td>1227.441351</td>\n",
       "      <td>975.967849</td>\n",
       "      <td>27058.792341</td>\n",
       "      <td>24734.4750</td>\n",
       "    </tr>\n",
       "    <tr>\n",
       "      <th rowspan=\"2\" valign=\"top\">4</th>\n",
       "      <th>F</th>\n",
       "      <td>1669.439282</td>\n",
       "      <td>1477.522352</td>\n",
       "      <td>22207.466825</td>\n",
       "      <td>20116.2840</td>\n",
       "    </tr>\n",
       "    <tr>\n",
       "      <th>M</th>\n",
       "      <td>1778.565761</td>\n",
       "      <td>1652.793945</td>\n",
       "      <td>30343.069213</td>\n",
       "      <td>28392.0545</td>\n",
       "    </tr>\n",
       "    <tr>\n",
       "      <th>5</th>\n",
       "      <th>M</th>\n",
       "      <td>578.751554</td>\n",
       "      <td>578.751554</td>\n",
       "      <td>15712.260000</td>\n",
       "      <td>15712.2600</td>\n",
       "    </tr>\n",
       "    <tr>\n",
       "      <th rowspan=\"2\" valign=\"top\">6</th>\n",
       "      <th>F</th>\n",
       "      <td>356755.199027</td>\n",
       "      <td>350340.760224</td>\n",
       "      <td>15147.914600</td>\n",
       "      <td>10431.6960</td>\n",
       "    </tr>\n",
       "    <tr>\n",
       "      <th>M</th>\n",
       "      <td>370586.391585</td>\n",
       "      <td>370586.391585</td>\n",
       "      <td>14240.495000</td>\n",
       "      <td>14240.4950</td>\n",
       "    </tr>\n",
       "    <tr>\n",
       "      <th rowspan=\"10\" valign=\"top\">3</th>\n",
       "      <th rowspan=\"2\" valign=\"top\">2</th>\n",
       "      <th>F</th>\n",
       "      <td>1878.660110</td>\n",
       "      <td>1544.319746</td>\n",
       "      <td>29946.581198</td>\n",
       "      <td>26204.9640</td>\n",
       "    </tr>\n",
       "    <tr>\n",
       "      <th>M</th>\n",
       "      <td>1933.822105</td>\n",
       "      <td>1487.808833</td>\n",
       "      <td>37941.197455</td>\n",
       "      <td>32396.9585</td>\n",
       "    </tr>\n",
       "    <tr>\n",
       "      <th rowspan=\"2\" valign=\"top\">3</th>\n",
       "      <th>F</th>\n",
       "      <td>2157.260772</td>\n",
       "      <td>1679.420022</td>\n",
       "      <td>23912.614606</td>\n",
       "      <td>21216.5930</td>\n",
       "    </tr>\n",
       "    <tr>\n",
       "      <th>M</th>\n",
       "      <td>1936.867183</td>\n",
       "      <td>1416.819709</td>\n",
       "      <td>30044.166385</td>\n",
       "      <td>26605.3415</td>\n",
       "    </tr>\n",
       "    <tr>\n",
       "      <th rowspan=\"2\" valign=\"top\">4</th>\n",
       "      <th>F</th>\n",
       "      <td>2805.813669</td>\n",
       "      <td>2516.427214</td>\n",
       "      <td>25291.243106</td>\n",
       "      <td>21595.1930</td>\n",
       "    </tr>\n",
       "    <tr>\n",
       "      <th>M</th>\n",
       "      <td>3305.068227</td>\n",
       "      <td>3098.869195</td>\n",
       "      <td>35203.646142</td>\n",
       "      <td>32121.2060</td>\n",
       "    </tr>\n",
       "    <tr>\n",
       "      <th rowspan=\"2\" valign=\"top\">6</th>\n",
       "      <th>F</th>\n",
       "      <td>365957.980121</td>\n",
       "      <td>364038.971624</td>\n",
       "      <td>24055.654600</td>\n",
       "      <td>18475.1010</td>\n",
       "    </tr>\n",
       "    <tr>\n",
       "      <th>M</th>\n",
       "      <td>366543.474037</td>\n",
       "      <td>369132.299748</td>\n",
       "      <td>19801.465812</td>\n",
       "      <td>18468.6805</td>\n",
       "    </tr>\n",
       "    <tr>\n",
       "      <th>7</th>\n",
       "      <th>F</th>\n",
       "      <td>3296.759962</td>\n",
       "      <td>3296.759962</td>\n",
       "      <td>8612.661000</td>\n",
       "      <td>8612.6610</td>\n",
       "    </tr>\n",
       "    <tr>\n",
       "      <th>8</th>\n",
       "      <th>M</th>\n",
       "      <td>337524.466835</td>\n",
       "      <td>337524.466835</td>\n",
       "      <td>9593.119000</td>\n",
       "      <td>9593.1190</td>\n",
       "    </tr>\n",
       "    <tr>\n",
       "      <th rowspan=\"9\" valign=\"top\">4</th>\n",
       "      <th rowspan=\"2\" valign=\"top\">2</th>\n",
       "      <th>F</th>\n",
       "      <td>2592.359953</td>\n",
       "      <td>1956.697148</td>\n",
       "      <td>30356.441765</td>\n",
       "      <td>26524.0485</td>\n",
       "    </tr>\n",
       "    <tr>\n",
       "      <th>M</th>\n",
       "      <td>2344.665326</td>\n",
       "      <td>1915.961625</td>\n",
       "      <td>40875.028272</td>\n",
       "      <td>33594.3430</td>\n",
       "    </tr>\n",
       "    <tr>\n",
       "      <th rowspan=\"2\" valign=\"top\">3</th>\n",
       "      <th>F</th>\n",
       "      <td>3010.335027</td>\n",
       "      <td>2245.147007</td>\n",
       "      <td>23953.007366</td>\n",
       "      <td>21051.3230</td>\n",
       "    </tr>\n",
       "    <tr>\n",
       "      <th>M</th>\n",
       "      <td>2370.443455</td>\n",
       "      <td>1662.039719</td>\n",
       "      <td>29739.652070</td>\n",
       "      <td>26840.0960</td>\n",
       "    </tr>\n",
       "    <tr>\n",
       "      <th rowspan=\"2\" valign=\"top\">4</th>\n",
       "      <th>F</th>\n",
       "      <td>4116.746508</td>\n",
       "      <td>3479.340229</td>\n",
       "      <td>25513.717023</td>\n",
       "      <td>22402.7125</td>\n",
       "    </tr>\n",
       "    <tr>\n",
       "      <th>M</th>\n",
       "      <td>3728.198769</td>\n",
       "      <td>3324.854938</td>\n",
       "      <td>36930.262375</td>\n",
       "      <td>28726.2650</td>\n",
       "    </tr>\n",
       "    <tr>\n",
       "      <th rowspan=\"2\" valign=\"top\">6</th>\n",
       "      <th>F</th>\n",
       "      <td>365071.941515</td>\n",
       "      <td>366186.875297</td>\n",
       "      <td>24575.004000</td>\n",
       "      <td>21484.4295</td>\n",
       "    </tr>\n",
       "    <tr>\n",
       "      <th>M</th>\n",
       "      <td>366216.108454</td>\n",
       "      <td>366777.226752</td>\n",
       "      <td>29915.463692</td>\n",
       "      <td>25357.2700</td>\n",
       "    </tr>\n",
       "    <tr>\n",
       "      <th>8</th>\n",
       "      <th>F</th>\n",
       "      <td>395302.838654</td>\n",
       "      <td>395302.838654</td>\n",
       "      <td>32435.602000</td>\n",
       "      <td>32435.6020</td>\n",
       "    </tr>\n",
       "    <tr>\n",
       "      <th rowspan=\"8\" valign=\"top\">5</th>\n",
       "      <th rowspan=\"2\" valign=\"top\">2</th>\n",
       "      <th>F</th>\n",
       "      <td>3009.994325</td>\n",
       "      <td>2256.038809</td>\n",
       "      <td>30945.781965</td>\n",
       "      <td>25942.4830</td>\n",
       "    </tr>\n",
       "    <tr>\n",
       "      <th>M</th>\n",
       "      <td>2705.046458</td>\n",
       "      <td>1795.202580</td>\n",
       "      <td>35050.761483</td>\n",
       "      <td>30688.7265</td>\n",
       "    </tr>\n",
       "    <tr>\n",
       "      <th rowspan=\"2\" valign=\"top\">3</th>\n",
       "      <th>F</th>\n",
       "      <td>3551.488259</td>\n",
       "      <td>2479.010604</td>\n",
       "      <td>24987.652741</td>\n",
       "      <td>21682.1510</td>\n",
       "    </tr>\n",
       "    <tr>\n",
       "      <th>M</th>\n",
       "      <td>2782.400560</td>\n",
       "      <td>1912.523146</td>\n",
       "      <td>28336.239645</td>\n",
       "      <td>24415.3100</td>\n",
       "    </tr>\n",
       "    <tr>\n",
       "      <th rowspan=\"2\" valign=\"top\">4</th>\n",
       "      <th>F</th>\n",
       "      <td>5057.398535</td>\n",
       "      <td>4177.774233</td>\n",
       "      <td>24978.501082</td>\n",
       "      <td>22755.6245</td>\n",
       "    </tr>\n",
       "    <tr>\n",
       "      <th>M</th>\n",
       "      <td>4344.059475</td>\n",
       "      <td>3087.712642</td>\n",
       "      <td>33980.662406</td>\n",
       "      <td>29966.6860</td>\n",
       "    </tr>\n",
       "    <tr>\n",
       "      <th rowspan=\"2\" valign=\"top\">6</th>\n",
       "      <th>F</th>\n",
       "      <td>365043.008470</td>\n",
       "      <td>365614.871306</td>\n",
       "      <td>21414.134392</td>\n",
       "      <td>18625.2270</td>\n",
       "    </tr>\n",
       "    <tr>\n",
       "      <th>M</th>\n",
       "      <td>362132.469288</td>\n",
       "      <td>359452.662072</td>\n",
       "      <td>25324.441139</td>\n",
       "      <td>22485.1730</td>\n",
       "    </tr>\n",
       "    <tr>\n",
       "      <th rowspan=\"8\" valign=\"top\">6</th>\n",
       "      <th rowspan=\"2\" valign=\"top\">2</th>\n",
       "      <th>F</th>\n",
       "      <td>4104.128487</td>\n",
       "      <td>2657.348903</td>\n",
       "      <td>30476.862959</td>\n",
       "      <td>27823.4590</td>\n",
       "    </tr>\n",
       "    <tr>\n",
       "      <th>M</th>\n",
       "      <td>2880.804727</td>\n",
       "      <td>1913.690402</td>\n",
       "      <td>36305.683477</td>\n",
       "      <td>30357.9975</td>\n",
       "    </tr>\n",
       "    <tr>\n",
       "      <th rowspan=\"2\" valign=\"top\">3</th>\n",
       "      <th>F</th>\n",
       "      <td>4508.291117</td>\n",
       "      <td>3314.894331</td>\n",
       "      <td>27909.857347</td>\n",
       "      <td>23067.6300</td>\n",
       "    </tr>\n",
       "    <tr>\n",
       "      <th>M</th>\n",
       "      <td>2744.176534</td>\n",
       "      <td>1835.480848</td>\n",
       "      <td>27671.541937</td>\n",
       "      <td>26039.4870</td>\n",
       "    </tr>\n",
       "    <tr>\n",
       "      <th rowspan=\"2\" valign=\"top\">4</th>\n",
       "      <th>F</th>\n",
       "      <td>4909.363706</td>\n",
       "      <td>3886.288012</td>\n",
       "      <td>30396.828065</td>\n",
       "      <td>25565.7630</td>\n",
       "    </tr>\n",
       "    <tr>\n",
       "      <th>M</th>\n",
       "      <td>3153.942517</td>\n",
       "      <td>2876.221697</td>\n",
       "      <td>31467.127385</td>\n",
       "      <td>23390.0570</td>\n",
       "    </tr>\n",
       "    <tr>\n",
       "      <th rowspan=\"2\" valign=\"top\">6</th>\n",
       "      <th>F</th>\n",
       "      <td>365804.028144</td>\n",
       "      <td>366612.864296</td>\n",
       "      <td>21331.705688</td>\n",
       "      <td>18254.7120</td>\n",
       "    </tr>\n",
       "    <tr>\n",
       "      <th>M</th>\n",
       "      <td>363281.519352</td>\n",
       "      <td>362685.727407</td>\n",
       "      <td>22337.392414</td>\n",
       "      <td>19078.3615</td>\n",
       "    </tr>\n",
       "    <tr>\n",
       "      <th rowspan=\"7\" valign=\"top\">7</th>\n",
       "      <th rowspan=\"2\" valign=\"top\">2</th>\n",
       "      <th>F</th>\n",
       "      <td>5810.241416</td>\n",
       "      <td>6022.360770</td>\n",
       "      <td>30702.228500</td>\n",
       "      <td>28138.8950</td>\n",
       "    </tr>\n",
       "    <tr>\n",
       "      <th>M</th>\n",
       "      <td>2245.558492</td>\n",
       "      <td>2245.558492</td>\n",
       "      <td>26230.885500</td>\n",
       "      <td>26230.8855</td>\n",
       "    </tr>\n",
       "    <tr>\n",
       "      <th rowspan=\"2\" valign=\"top\">3</th>\n",
       "      <th>F</th>\n",
       "      <td>3048.246867</td>\n",
       "      <td>1504.924191</td>\n",
       "      <td>18740.868667</td>\n",
       "      <td>15831.3450</td>\n",
       "    </tr>\n",
       "    <tr>\n",
       "      <th>M</th>\n",
       "      <td>7920.082429</td>\n",
       "      <td>7920.082429</td>\n",
       "      <td>37058.130000</td>\n",
       "      <td>37058.1300</td>\n",
       "    </tr>\n",
       "    <tr>\n",
       "      <th>4</th>\n",
       "      <th>F</th>\n",
       "      <td>1204.922098</td>\n",
       "      <td>1204.922098</td>\n",
       "      <td>19530.677500</td>\n",
       "      <td>19530.6775</td>\n",
       "    </tr>\n",
       "    <tr>\n",
       "      <th rowspan=\"2\" valign=\"top\">6</th>\n",
       "      <th>F</th>\n",
       "      <td>367597.610896</td>\n",
       "      <td>369733.465222</td>\n",
       "      <td>18200.875580</td>\n",
       "      <td>17757.6840</td>\n",
       "    </tr>\n",
       "    <tr>\n",
       "      <th>M</th>\n",
       "      <td>364653.983511</td>\n",
       "      <td>359700.938607</td>\n",
       "      <td>20877.725471</td>\n",
       "      <td>19163.3830</td>\n",
       "    </tr>\n",
       "  </tbody>\n",
       "</table>\n",
       "</div>"
      ],
      "text/plain": [
       "                                    days_employed                 \\\n",
       "                                             mean         median   \n",
       "age_group income_type_grade gender                                 \n",
       "1         2                 F          452.476523     466.645577   \n",
       "                            M          627.126553     589.676848   \n",
       "          3                 F          742.610885     798.219165   \n",
       "                            M          838.574270     885.674587   \n",
       "          4                 F          509.969922     509.969922   \n",
       "                            M          645.671074     645.671074   \n",
       "2         1                 F          520.848083     520.848083   \n",
       "          2                 F         1240.274210     992.785520   \n",
       "                            M         1194.342342     942.921242   \n",
       "          3                 F         1306.053113    1114.868798   \n",
       "                            M         1227.441351     975.967849   \n",
       "          4                 F         1669.439282    1477.522352   \n",
       "                            M         1778.565761    1652.793945   \n",
       "          5                 M          578.751554     578.751554   \n",
       "          6                 F       356755.199027  350340.760224   \n",
       "                            M       370586.391585  370586.391585   \n",
       "3         2                 F         1878.660110    1544.319746   \n",
       "                            M         1933.822105    1487.808833   \n",
       "          3                 F         2157.260772    1679.420022   \n",
       "                            M         1936.867183    1416.819709   \n",
       "          4                 F         2805.813669    2516.427214   \n",
       "                            M         3305.068227    3098.869195   \n",
       "          6                 F       365957.980121  364038.971624   \n",
       "                            M       366543.474037  369132.299748   \n",
       "          7                 F         3296.759962    3296.759962   \n",
       "          8                 M       337524.466835  337524.466835   \n",
       "4         2                 F         2592.359953    1956.697148   \n",
       "                            M         2344.665326    1915.961625   \n",
       "          3                 F         3010.335027    2245.147007   \n",
       "                            M         2370.443455    1662.039719   \n",
       "          4                 F         4116.746508    3479.340229   \n",
       "                            M         3728.198769    3324.854938   \n",
       "          6                 F       365071.941515  366186.875297   \n",
       "                            M       366216.108454  366777.226752   \n",
       "          8                 F       395302.838654  395302.838654   \n",
       "5         2                 F         3009.994325    2256.038809   \n",
       "                            M         2705.046458    1795.202580   \n",
       "          3                 F         3551.488259    2479.010604   \n",
       "                            M         2782.400560    1912.523146   \n",
       "          4                 F         5057.398535    4177.774233   \n",
       "                            M         4344.059475    3087.712642   \n",
       "          6                 F       365043.008470  365614.871306   \n",
       "                            M       362132.469288  359452.662072   \n",
       "6         2                 F         4104.128487    2657.348903   \n",
       "                            M         2880.804727    1913.690402   \n",
       "          3                 F         4508.291117    3314.894331   \n",
       "                            M         2744.176534    1835.480848   \n",
       "          4                 F         4909.363706    3886.288012   \n",
       "                            M         3153.942517    2876.221697   \n",
       "          6                 F       365804.028144  366612.864296   \n",
       "                            M       363281.519352  362685.727407   \n",
       "7         2                 F         5810.241416    6022.360770   \n",
       "                            M         2245.558492    2245.558492   \n",
       "          3                 F         3048.246867    1504.924191   \n",
       "                            M         7920.082429    7920.082429   \n",
       "          4                 F         1204.922098    1204.922098   \n",
       "          6                 F       367597.610896  369733.465222   \n",
       "                            M       364653.983511  359700.938607   \n",
       "\n",
       "                                    total_income              \n",
       "                                            mean      median  \n",
       "age_group income_type_grade gender                            \n",
       "1         2                 F       19957.790214  18535.3195  \n",
       "                            M       20688.478750  20725.2015  \n",
       "          3                 F       17484.108150  15296.5890  \n",
       "                            M       21263.854000  20418.6045  \n",
       "          4                 F       12125.986000  12125.9860  \n",
       "                            M       25586.456000  25586.4560  \n",
       "2         1                 F       79866.103000  79866.1030  \n",
       "          2                 F       26621.295452  23386.2420  \n",
       "                            M       34081.997168  29493.7470  \n",
       "          3                 F       22149.194750  19551.4320  \n",
       "                            M       27058.792341  24734.4750  \n",
       "          4                 F       22207.466825  20116.2840  \n",
       "                            M       30343.069213  28392.0545  \n",
       "          5                 M       15712.260000  15712.2600  \n",
       "          6                 F       15147.914600  10431.6960  \n",
       "                            M       14240.495000  14240.4950  \n",
       "3         2                 F       29946.581198  26204.9640  \n",
       "                            M       37941.197455  32396.9585  \n",
       "          3                 F       23912.614606  21216.5930  \n",
       "                            M       30044.166385  26605.3415  \n",
       "          4                 F       25291.243106  21595.1930  \n",
       "                            M       35203.646142  32121.2060  \n",
       "          6                 F       24055.654600  18475.1010  \n",
       "                            M       19801.465812  18468.6805  \n",
       "          7                 F        8612.661000   8612.6610  \n",
       "          8                 M        9593.119000   9593.1190  \n",
       "4         2                 F       30356.441765  26524.0485  \n",
       "                            M       40875.028272  33594.3430  \n",
       "          3                 F       23953.007366  21051.3230  \n",
       "                            M       29739.652070  26840.0960  \n",
       "          4                 F       25513.717023  22402.7125  \n",
       "                            M       36930.262375  28726.2650  \n",
       "          6                 F       24575.004000  21484.4295  \n",
       "                            M       29915.463692  25357.2700  \n",
       "          8                 F       32435.602000  32435.6020  \n",
       "5         2                 F       30945.781965  25942.4830  \n",
       "                            M       35050.761483  30688.7265  \n",
       "          3                 F       24987.652741  21682.1510  \n",
       "                            M       28336.239645  24415.3100  \n",
       "          4                 F       24978.501082  22755.6245  \n",
       "                            M       33980.662406  29966.6860  \n",
       "          6                 F       21414.134392  18625.2270  \n",
       "                            M       25324.441139  22485.1730  \n",
       "6         2                 F       30476.862959  27823.4590  \n",
       "                            M       36305.683477  30357.9975  \n",
       "          3                 F       27909.857347  23067.6300  \n",
       "                            M       27671.541937  26039.4870  \n",
       "          4                 F       30396.828065  25565.7630  \n",
       "                            M       31467.127385  23390.0570  \n",
       "          6                 F       21331.705688  18254.7120  \n",
       "                            M       22337.392414  19078.3615  \n",
       "7         2                 F       30702.228500  28138.8950  \n",
       "                            M       26230.885500  26230.8855  \n",
       "          3                 F       18740.868667  15831.3450  \n",
       "                            M       37058.130000  37058.1300  \n",
       "          4                 F       19530.677500  19530.6775  \n",
       "          6                 F       18200.875580  17757.6840  \n",
       "                            M       20877.725471  19163.3830  "
      ]
     },
     "execution_count": 45,
     "metadata": {},
     "output_type": "execute_result"
    }
   ],
   "source": [
    "\n",
    "total_incom_mean_age_inc_gender = credit_df_nomiss.groupby(['age_group','income_type_grade','gender']).agg({'days_employed':['mean','median'],'total_income':['mean','median']})\n",
    "\n",
    "total_incom_mean_age_inc_gender"
   ]
  },
  {
   "cell_type": "markdown",
   "metadata": {},
   "source": [
    "**Conclusion**\n",
    "\n",
    "We need to give attention also to the 'gender' parameter. There are places where the difference between gender under the same age and income type.\n"
   ]
  },
  {
   "cell_type": "code",
   "execution_count": 46,
   "metadata": {},
   "outputs": [],
   "source": [
    "#Write a function that we will use for filling in missing values\n",
    "\n",
    "#the table with the median\n",
    "total_incom_median_age_inc_gender = credit_df_nomiss.groupby(['age_group','income_type_grade','gender']).agg({'total_income':'median'})\n",
    "\n",
    "        \n",
    "#function returning the positional values of the row in the total_incom_mean_age_inc_gender table\n",
    "def get_pos(row):\n",
    "    \n",
    "    pos1= row['age_group']\n",
    "    pos2= row['income_type_grade']\n",
    "    pos3= row['gender']\n",
    "    pos4= row['total_income']\n",
    "    \n",
    "    return( pos1 , pos2 , pos3 , pos4)\n",
    "\n",
    "#returning the value of the total incom median based on the criteria\n",
    "#values  returned from get_pos function\n",
    "\n",
    "def total_incom_value(row):\n",
    "    \n",
    "   \n",
    "    age_group, income_type_grade , gender , total_income = get_pos(row)\n",
    "        \n",
    "    if str(total_income).lower() == 'nan': #if any record will not be able to change then pass to the next one\n",
    "        try:\n",
    "            return (total_incom_median_age_inc_gender['total_income'].loc[(age_group , income_type_grade , gender)])\n",
    "        except:\n",
    "            pass\n",
    "    else:\n",
    "        return total_income\n",
    "\n"
   ]
  },
  {
   "cell_type": "code",
   "execution_count": 47,
   "metadata": {},
   "outputs": [
    {
     "name": "stdout",
     "output_type": "stream",
     "text": [
      "33528.422999999995\n",
      "17021.747\n",
      "33099.576\n",
      "29493.747000000003\n"
     ]
    }
   ],
   "source": [
    "# Check if it works\n",
    "print(total_incom_value(credit_df.iloc[20]))\n",
    "print(total_incom_value(credit_df.iloc[45]))\n",
    "print(total_incom_value(credit_df.iloc[88]))\n",
    "print(total_incom_value(credit_df.iloc[65]))"
   ]
  },
  {
   "cell_type": "markdown",
   "metadata": {},
   "source": [
    "After We checked that the function workes and returns the values we needed, We can apply it to the missing values of the 'total_income' column.\n",
    "I will pass the function to the df using apply() method combined with lambda expression , that the condition on applyin this function will be : the value in 'total_income' column in this index = Nan (null value).\n",
    "I use it after checkin multiple options to do the same, I found it to be the simpiest."
   ]
  },
  {
   "cell_type": "code",
   "execution_count": 48,
   "metadata": {
    "scrolled": true
   },
   "outputs": [
    {
     "name": "stderr",
     "output_type": "stream",
     "text": [
      "/tmp/ipykernel_160/3916736894.py:5: SettingWithCopyWarning: \n",
      "A value is trying to be set on a copy of a slice from a DataFrame.\n",
      "Try using .loc[row_indexer,col_indexer] = value instead\n",
      "\n",
      "See the caveats in the documentation: https://pandas.pydata.org/pandas-docs/stable/user_guide/indexing.html#returning-a-view-versus-a-copy\n",
      "  credit_df_null_new['total_income'] = credit_df_null_new.apply(total_incom_value , axis = 1)\n"
     ]
    }
   ],
   "source": [
    "# Apply it to every row of the original data.\n",
    "#Using the apply() expression.\n",
    "\n",
    "credit_df['total_income'] = credit_df.apply(total_incom_value , axis = 1)\n",
    "credit_df_null_new['total_income'] = credit_df_null_new.apply(total_incom_value , axis = 1)\n"
   ]
  },
  {
   "cell_type": "markdown",
   "metadata": {},
   "source": [
    "Now let us check if we have more missing values in credit_df"
   ]
  },
  {
   "cell_type": "code",
   "execution_count": 49,
   "metadata": {
    "scrolled": true
   },
   "outputs": [
    {
     "data": {
      "text/html": [
       "<div>\n",
       "<style scoped>\n",
       "    .dataframe tbody tr th:only-of-type {\n",
       "        vertical-align: middle;\n",
       "    }\n",
       "\n",
       "    .dataframe tbody tr th {\n",
       "        vertical-align: top;\n",
       "    }\n",
       "\n",
       "    .dataframe thead th {\n",
       "        text-align: right;\n",
       "    }\n",
       "</style>\n",
       "<table border=\"1\" class=\"dataframe\">\n",
       "  <thead>\n",
       "    <tr style=\"text-align: right;\">\n",
       "      <th></th>\n",
       "      <th>children</th>\n",
       "      <th>days_employed</th>\n",
       "      <th>dob_years</th>\n",
       "      <th>education</th>\n",
       "      <th>education_id</th>\n",
       "      <th>family_status</th>\n",
       "      <th>family_status_id</th>\n",
       "      <th>gender</th>\n",
       "      <th>income_type</th>\n",
       "      <th>debt</th>\n",
       "      <th>total_income</th>\n",
       "      <th>purpose</th>\n",
       "      <th>income_type_grade</th>\n",
       "      <th>age_group</th>\n",
       "    </tr>\n",
       "  </thead>\n",
       "  <tbody>\n",
       "    <tr>\n",
       "      <th>5879</th>\n",
       "      <td>0</td>\n",
       "      <td>NaN</td>\n",
       "      <td>58</td>\n",
       "      <td>bachelor's degree</td>\n",
       "      <td>0</td>\n",
       "      <td>married</td>\n",
       "      <td>0</td>\n",
       "      <td>M</td>\n",
       "      <td>entrepreneur</td>\n",
       "      <td>0</td>\n",
       "      <td>NaN</td>\n",
       "      <td>buy residential real estate</td>\n",
       "      <td>1</td>\n",
       "      <td>5</td>\n",
       "    </tr>\n",
       "  </tbody>\n",
       "</table>\n",
       "</div>"
      ],
      "text/plain": [
       "      children  days_employed  dob_years          education  education_id  \\\n",
       "5879         0            NaN         58  bachelor's degree             0   \n",
       "\n",
       "     family_status  family_status_id gender   income_type  debt  total_income  \\\n",
       "5879       married                 0      M  entrepreneur     0           NaN   \n",
       "\n",
       "                          purpose  income_type_grade  age_group  \n",
       "5879  buy residential real estate                  1          5  "
      ]
     },
     "execution_count": 49,
     "metadata": {},
     "output_type": "execute_result"
    }
   ],
   "source": [
    "credit_df.loc[(credit_df['total_income'].isna())]"
   ]
  },
  {
   "cell_type": "markdown",
   "metadata": {},
   "source": [
    "Found 1 record that could not be applyed the total income median. So I decided to delete it. It will not effect the data in a substantial way."
   ]
  },
  {
   "cell_type": "code",
   "execution_count": 50,
   "metadata": {},
   "outputs": [],
   "source": [
    "credit_df = credit_df.drop(credit_df.loc[(credit_df['total_income'].isna())].index)"
   ]
  },
  {
   "cell_type": "markdown",
   "metadata": {},
   "source": [
    "Chekcing it there are any more null values in the 'total_income' column"
   ]
  },
  {
   "cell_type": "code",
   "execution_count": 51,
   "metadata": {},
   "outputs": [
    {
     "data": {
      "text/html": [
       "<div>\n",
       "<style scoped>\n",
       "    .dataframe tbody tr th:only-of-type {\n",
       "        vertical-align: middle;\n",
       "    }\n",
       "\n",
       "    .dataframe tbody tr th {\n",
       "        vertical-align: top;\n",
       "    }\n",
       "\n",
       "    .dataframe thead th {\n",
       "        text-align: right;\n",
       "    }\n",
       "</style>\n",
       "<table border=\"1\" class=\"dataframe\">\n",
       "  <thead>\n",
       "    <tr style=\"text-align: right;\">\n",
       "      <th></th>\n",
       "      <th>children</th>\n",
       "      <th>days_employed</th>\n",
       "      <th>dob_years</th>\n",
       "      <th>education</th>\n",
       "      <th>education_id</th>\n",
       "      <th>family_status</th>\n",
       "      <th>family_status_id</th>\n",
       "      <th>gender</th>\n",
       "      <th>income_type</th>\n",
       "      <th>debt</th>\n",
       "      <th>total_income</th>\n",
       "      <th>purpose</th>\n",
       "      <th>income_type_grade</th>\n",
       "      <th>age_group</th>\n",
       "    </tr>\n",
       "  </thead>\n",
       "  <tbody>\n",
       "  </tbody>\n",
       "</table>\n",
       "</div>"
      ],
      "text/plain": [
       "Empty DataFrame\n",
       "Columns: [children, days_employed, dob_years, education, education_id, family_status, family_status_id, gender, income_type, debt, total_income, purpose, income_type_grade, age_group]\n",
       "Index: []"
      ]
     },
     "execution_count": 51,
     "metadata": {},
     "output_type": "execute_result"
    }
   ],
   "source": [
    "credit_df.loc[(credit_df['total_income'].isna())]"
   ]
  },
  {
   "cell_type": "markdown",
   "metadata": {},
   "source": [
    "The missing values in the 'total_income have all been filled.\n",
    "Let us moove to the mssing values in tha 'days_employed' column."
   ]
  },
  {
   "cell_type": "markdown",
   "metadata": {},
   "source": [
    "###  Restoring values in `days_employed`"
   ]
  },
  {
   "cell_type": "markdown",
   "metadata": {},
   "source": [
    "We will go through the phases that we made in filling the 'total_income', to fill the missing values in the 'days_employed' column. "
   ]
  },
  {
   "cell_type": "code",
   "execution_count": 52,
   "metadata": {},
   "outputs": [],
   "source": [
    "#Write a function that we will use for filling in missing values\n",
    "\n",
    "#the table with the median of the 'days_employed' \n",
    "days_employed_median_age_inc_gende = credit_df_nomiss.groupby(['age_group','income_type_grade','gender']).agg({'days_employed':'median'})\n",
    "\n",
    "        \n",
    "#function returning the positional values of the row in the total_incom_mean_age_inc_gender table\n",
    "def get_pos(row):\n",
    "    \n",
    "    pos1= row['age_group']\n",
    "    pos2= row['income_type_grade']\n",
    "    pos3= row['gender']\n",
    "    pos4= row['days_employed']\n",
    "    \n",
    "    return( pos1 , pos2 , pos3 , pos4)\n",
    "\n",
    "#returning the value of the total incom median based on the criteria\n",
    "#values  returned from get_pos function\n",
    "\n",
    "def days_employed_value(row):\n",
    "    \n",
    "   \n",
    "    age_group, income_type_grade , gender , days_employed = get_pos(row)\n",
    "        \n",
    "    if str(days_employed).lower() == 'nan': #if any record will not be able to change then pass to the next one\n",
    "        try:\n",
    "            return (days_employed_median_age_inc_gende['days_employed'].loc[(age_group , income_type_grade , gender)])\n",
    "        except:\n",
    "            pass\n",
    "    else:\n",
    "        return days_employed\n",
    "\n"
   ]
  },
  {
   "cell_type": "code",
   "execution_count": 53,
   "metadata": {},
   "outputs": [
    {
     "name": "stdout",
     "output_type": "stream",
     "text": [
      "1311.6041664289485\n",
      "1039.4517405766287\n",
      "373129.7896543124\n",
      "942.9212415042186\n"
     ]
    }
   ],
   "source": [
    "# Check that the function works\n",
    "\n",
    "print(days_employed_value(credit_df.iloc[20]))\n",
    "print(days_employed_value(credit_df.iloc[45]))\n",
    "print(days_employed_value(credit_df.iloc[88]))\n",
    "print(days_employed_value(credit_df.iloc[65]))"
   ]
  },
  {
   "cell_type": "code",
   "execution_count": 54,
   "metadata": {},
   "outputs": [],
   "source": [
    "# Apply function to the days_employed and replacing the missing vlues acording to the age_group, on both full data table\n",
    "#and the filltere one.\n",
    "\n",
    "credit_df['days_employed'] = credit_df.apply(days_employed_value , axis = 1)\n",
    "credit_df_null_new['days_employed'] = credit_df_null_new.apply(days_employed_value , axis = 1)"
   ]
  },
  {
   "cell_type": "code",
   "execution_count": 55,
   "metadata": {},
   "outputs": [
    {
     "data": {
      "text/html": [
       "<div>\n",
       "<style scoped>\n",
       "    .dataframe tbody tr th:only-of-type {\n",
       "        vertical-align: middle;\n",
       "    }\n",
       "\n",
       "    .dataframe tbody tr th {\n",
       "        vertical-align: top;\n",
       "    }\n",
       "\n",
       "    .dataframe thead th {\n",
       "        text-align: right;\n",
       "    }\n",
       "</style>\n",
       "<table border=\"1\" class=\"dataframe\">\n",
       "  <thead>\n",
       "    <tr style=\"text-align: right;\">\n",
       "      <th></th>\n",
       "      <th>children</th>\n",
       "      <th>days_employed</th>\n",
       "      <th>dob_years</th>\n",
       "      <th>education</th>\n",
       "      <th>education_id</th>\n",
       "      <th>family_status</th>\n",
       "      <th>family_status_id</th>\n",
       "      <th>gender</th>\n",
       "      <th>income_type</th>\n",
       "      <th>debt</th>\n",
       "      <th>total_income</th>\n",
       "      <th>purpose</th>\n",
       "      <th>income_type_grade</th>\n",
       "      <th>age_group</th>\n",
       "    </tr>\n",
       "  </thead>\n",
       "  <tbody>\n",
       "  </tbody>\n",
       "</table>\n",
       "</div>"
      ],
      "text/plain": [
       "Empty DataFrame\n",
       "Columns: [children, days_employed, dob_years, education, education_id, family_status, family_status_id, gender, income_type, debt, total_income, purpose, income_type_grade, age_group]\n",
       "Index: []"
      ]
     },
     "execution_count": 55,
     "metadata": {},
     "output_type": "execute_result"
    }
   ],
   "source": [
    "# Check if function worked\n",
    "\n",
    "credit_df.loc[(credit_df['days_employed'].isna())]"
   ]
  },
  {
   "cell_type": "markdown",
   "metadata": {},
   "source": [
    "No Missing values remaind in the the 'days_employed' column.\n",
    "\n",
    "**We have no have atable with no missing values nor duplicates.\n",
    "It is time to check our hypothisys**\n"
   ]
  },
  {
   "cell_type": "markdown",
   "metadata": {},
   "source": [
    "After a check ,we find that the missing vlues have been changed by the criteria, and we can now moove on with the data anlyzing.\n",
    "Let us just check that there are no more missing values."
   ]
  },
  {
   "cell_type": "code",
   "execution_count": 56,
   "metadata": {},
   "outputs": [
    {
     "name": "stdout",
     "output_type": "stream",
     "text": [
      "0\n"
     ]
    }
   ],
   "source": [
    "# Check the entries in all columns - make sure we fixed all missing values\n",
    "print(len(credit_df.loc[credit_df.isna().any(axis=1)])) #looking for any missing values. \n",
    "                                                        #If there are no missing values, the value will return 0"
   ]
  },
  {
   "cell_type": "code",
   "execution_count": 57,
   "metadata": {},
   "outputs": [
    {
     "name": "stdout",
     "output_type": "stream",
     "text": [
      "<class 'pandas.core.frame.DataFrame'>\n",
      "Int64Index: 21285 entries, 0 to 21285\n",
      "Data columns (total 14 columns):\n",
      " #   Column             Non-Null Count  Dtype  \n",
      "---  ------             --------------  -----  \n",
      " 0   children           21285 non-null  int64  \n",
      " 1   days_employed      21285 non-null  float64\n",
      " 2   dob_years          21285 non-null  int64  \n",
      " 3   education          21285 non-null  object \n",
      " 4   education_id       21285 non-null  int64  \n",
      " 5   family_status      21285 non-null  object \n",
      " 6   family_status_id   21285 non-null  int64  \n",
      " 7   gender             21285 non-null  object \n",
      " 8   income_type        21285 non-null  object \n",
      " 9   debt               21285 non-null  int64  \n",
      " 10  total_income       21285 non-null  float64\n",
      " 11  purpose            21285 non-null  object \n",
      " 12  income_type_grade  21285 non-null  int64  \n",
      " 13  age_group          21285 non-null  int64  \n",
      "dtypes: float64(2), int64(7), object(5)\n",
      "memory usage: 2.4+ MB\n"
     ]
    }
   ],
   "source": [
    "credit_df.info()"
   ]
  },
  {
   "cell_type": "code",
   "execution_count": 58,
   "metadata": {},
   "outputs": [],
   "source": [
    "credit_df['days_employed'] = credit_df['days_employed'].astype('int64')\n",
    "credit_df['total_income'] = credit_df['total_income'].astype('int64') "
   ]
  },
  {
   "cell_type": "code",
   "execution_count": 59,
   "metadata": {},
   "outputs": [
    {
     "name": "stdout",
     "output_type": "stream",
     "text": [
      "<class 'pandas.core.frame.DataFrame'>\n",
      "Int64Index: 21285 entries, 0 to 21285\n",
      "Data columns (total 14 columns):\n",
      " #   Column             Non-Null Count  Dtype \n",
      "---  ------             --------------  ----- \n",
      " 0   children           21285 non-null  int64 \n",
      " 1   days_employed      21285 non-null  int64 \n",
      " 2   dob_years          21285 non-null  int64 \n",
      " 3   education          21285 non-null  object\n",
      " 4   education_id       21285 non-null  int64 \n",
      " 5   family_status      21285 non-null  object\n",
      " 6   family_status_id   21285 non-null  int64 \n",
      " 7   gender             21285 non-null  object\n",
      " 8   income_type        21285 non-null  object\n",
      " 9   debt               21285 non-null  int64 \n",
      " 10  total_income       21285 non-null  int64 \n",
      " 11  purpose            21285 non-null  object\n",
      " 12  income_type_grade  21285 non-null  int64 \n",
      " 13  age_group          21285 non-null  int64 \n",
      "dtypes: int64(9), object(5)\n",
      "memory usage: 2.4+ MB\n"
     ]
    }
   ],
   "source": [
    "credit_df.info()"
   ]
  },
  {
   "cell_type": "code",
   "execution_count": 60,
   "metadata": {},
   "outputs": [
    {
     "name": "stdout",
     "output_type": "stream",
     "text": [
      "<class 'pandas.core.frame.DataFrame'>\n",
      "Int64Index: 21285 entries, 0 to 21285\n",
      "Data columns (total 14 columns):\n",
      " #   Column             Non-Null Count  Dtype \n",
      "---  ------             --------------  ----- \n",
      " 0   children           21285 non-null  int64 \n",
      " 1   days_employed      21285 non-null  int64 \n",
      " 2   dob_years          21285 non-null  int64 \n",
      " 3   education          21285 non-null  object\n",
      " 4   education_id       21285 non-null  int64 \n",
      " 5   family_status      21285 non-null  object\n",
      " 6   family_status_id   21285 non-null  int64 \n",
      " 7   gender             21285 non-null  object\n",
      " 8   income_type        21285 non-null  object\n",
      " 9   debt               21285 non-null  int64 \n",
      " 10  total_income       21285 non-null  int64 \n",
      " 11  purpose            21285 non-null  object\n",
      " 12  income_type_grade  21285 non-null  int64 \n",
      " 13  age_group          21285 non-null  int64 \n",
      "dtypes: int64(9), object(5)\n",
      "memory usage: 2.4+ MB\n"
     ]
    }
   ],
   "source": [
    "credit_df.info()"
   ]
  },
  {
   "cell_type": "markdown",
   "metadata": {},
   "source": [
    "# 5  Categorization of data\n",
    "\n",
    "We are now with clean data with no missing or duplicated records.\n",
    "\n",
    "To address the question , if the merital status and having children , influance the abilty of a customer, to return the loan.\n",
    "\n",
    "Because this is the question, we will need the columns : 'children' , 'family_status' ,'family_status_id' and 'debt' .\n",
    "\n",
    "But since this are not the only categories that can influance the default of a loan.\n",
    "The age of the customer when applying for a loan, can influance. \n",
    "The income can also influance it.\n",
    "But the most influancing is the amount you take in the loan.\n",
    "This is a factor of the purpose of taking the loan. \n",
    "\n",
    "If we will see that there is no corrolation between the marital status and having children, to a default of a loan, we will check the loan purpose.\n",
    "For that we will need to categorise the data in the 'purpose' column.\n",
    "\n",
    "We will start by categorizing the 'purpose' column.\n",
    "\n",
    "And then start the investigation of the data and check our hypotheses.\n"
   ]
  },
  {
   "cell_type": "code",
   "execution_count": 61,
   "metadata": {
    "scrolled": true
   },
   "outputs": [
    {
     "data": {
      "text/plain": [
       "['building a property',\n",
       " 'building a real estate',\n",
       " 'buy commercial real estate',\n",
       " 'buy real estate',\n",
       " 'buy residential real estate',\n",
       " 'buying a second-hand car',\n",
       " 'buying my own car',\n",
       " 'buying property for renting out',\n",
       " 'car',\n",
       " 'car purchase',\n",
       " 'cars',\n",
       " 'construction of own property',\n",
       " 'education',\n",
       " 'getting an education',\n",
       " 'getting higher education',\n",
       " 'going to university',\n",
       " 'having a wedding',\n",
       " 'housing',\n",
       " 'housing renovation',\n",
       " 'housing transactions',\n",
       " 'profile education',\n",
       " 'property',\n",
       " 'purchase of a car',\n",
       " 'purchase of my own house',\n",
       " 'purchase of the house',\n",
       " 'purchase of the house for my family',\n",
       " 'real estate transactions',\n",
       " 'second-hand car purchase',\n",
       " 'supplementary education',\n",
       " 'to become educated',\n",
       " 'to buy a car',\n",
       " 'to get a supplementary education',\n",
       " 'to have a wedding',\n",
       " 'to own a car',\n",
       " 'transactions with commercial real estate',\n",
       " 'transactions with my real estate',\n",
       " 'university education',\n",
       " 'wedding ceremony']"
      ]
     },
     "execution_count": 61,
     "metadata": {},
     "output_type": "execute_result"
    }
   ],
   "source": [
    "#let us check the unique values of the 'purpose' column, and see how we can categorize it.\n",
    "lst_purpose = list(credit_df['purpose'].unique())\n",
    "lst_purpose = sorted(lst_purpose)\n",
    "lst_purpose"
   ]
  },
  {
   "cell_type": "markdown",
   "metadata": {},
   "source": [
    "**The main purposes I can identify are:**\n",
    "\n",
    "Buy a house/investing in a property, education , car and wedding.\n",
    "\n",
    "To categorize the column we will build a few lists with few key words, that will give us the base on identifying the category to which this value will be assigned. \n",
    "\n",
    "The four categories in this column will be:\n",
    "\n",
    "property , education ,car , wedding\n",
    "\n"
   ]
  },
  {
   "cell_type": "code",
   "execution_count": 62,
   "metadata": {},
   "outputs": [
    {
     "data": {
      "text/html": [
       "<div>\n",
       "<style scoped>\n",
       "    .dataframe tbody tr th:only-of-type {\n",
       "        vertical-align: middle;\n",
       "    }\n",
       "\n",
       "    .dataframe tbody tr th {\n",
       "        vertical-align: top;\n",
       "    }\n",
       "\n",
       "    .dataframe thead th {\n",
       "        text-align: right;\n",
       "    }\n",
       "</style>\n",
       "<table border=\"1\" class=\"dataframe\">\n",
       "  <thead>\n",
       "    <tr style=\"text-align: right;\">\n",
       "      <th></th>\n",
       "      <th>children</th>\n",
       "      <th>days_employed</th>\n",
       "      <th>dob_years</th>\n",
       "      <th>education</th>\n",
       "      <th>education_id</th>\n",
       "      <th>family_status</th>\n",
       "      <th>family_status_id</th>\n",
       "      <th>gender</th>\n",
       "      <th>income_type</th>\n",
       "      <th>debt</th>\n",
       "      <th>total_income</th>\n",
       "      <th>purpose</th>\n",
       "      <th>income_type_grade</th>\n",
       "      <th>age_group</th>\n",
       "      <th>purpose_category</th>\n",
       "    </tr>\n",
       "  </thead>\n",
       "  <tbody>\n",
       "    <tr>\n",
       "      <th>0</th>\n",
       "      <td>1</td>\n",
       "      <td>8437</td>\n",
       "      <td>42</td>\n",
       "      <td>bachelor's degree</td>\n",
       "      <td>0</td>\n",
       "      <td>married</td>\n",
       "      <td>0</td>\n",
       "      <td>F</td>\n",
       "      <td>employee</td>\n",
       "      <td>0</td>\n",
       "      <td>40620</td>\n",
       "      <td>purchase of the house</td>\n",
       "      <td>3</td>\n",
       "      <td>4</td>\n",
       "      <td>property</td>\n",
       "    </tr>\n",
       "    <tr>\n",
       "      <th>1</th>\n",
       "      <td>1</td>\n",
       "      <td>4024</td>\n",
       "      <td>36</td>\n",
       "      <td>secondary education</td>\n",
       "      <td>1</td>\n",
       "      <td>married</td>\n",
       "      <td>0</td>\n",
       "      <td>F</td>\n",
       "      <td>employee</td>\n",
       "      <td>0</td>\n",
       "      <td>17932</td>\n",
       "      <td>car purchase</td>\n",
       "      <td>3</td>\n",
       "      <td>3</td>\n",
       "      <td>car</td>\n",
       "    </tr>\n",
       "    <tr>\n",
       "      <th>2</th>\n",
       "      <td>0</td>\n",
       "      <td>5623</td>\n",
       "      <td>33</td>\n",
       "      <td>secondary education</td>\n",
       "      <td>1</td>\n",
       "      <td>married</td>\n",
       "      <td>0</td>\n",
       "      <td>M</td>\n",
       "      <td>employee</td>\n",
       "      <td>0</td>\n",
       "      <td>23341</td>\n",
       "      <td>purchase of the house</td>\n",
       "      <td>3</td>\n",
       "      <td>3</td>\n",
       "      <td>property</td>\n",
       "    </tr>\n",
       "    <tr>\n",
       "      <th>3</th>\n",
       "      <td>3</td>\n",
       "      <td>4124</td>\n",
       "      <td>32</td>\n",
       "      <td>secondary education</td>\n",
       "      <td>1</td>\n",
       "      <td>married</td>\n",
       "      <td>0</td>\n",
       "      <td>M</td>\n",
       "      <td>employee</td>\n",
       "      <td>0</td>\n",
       "      <td>42820</td>\n",
       "      <td>supplementary education</td>\n",
       "      <td>3</td>\n",
       "      <td>3</td>\n",
       "      <td>education</td>\n",
       "    </tr>\n",
       "    <tr>\n",
       "      <th>4</th>\n",
       "      <td>0</td>\n",
       "      <td>340266</td>\n",
       "      <td>53</td>\n",
       "      <td>secondary education</td>\n",
       "      <td>1</td>\n",
       "      <td>civil partnership</td>\n",
       "      <td>1</td>\n",
       "      <td>F</td>\n",
       "      <td>retiree</td>\n",
       "      <td>0</td>\n",
       "      <td>25378</td>\n",
       "      <td>to have a wedding</td>\n",
       "      <td>6</td>\n",
       "      <td>5</td>\n",
       "      <td>wedding</td>\n",
       "    </tr>\n",
       "  </tbody>\n",
       "</table>\n",
       "</div>"
      ],
      "text/plain": [
       "   children  days_employed  dob_years            education  education_id  \\\n",
       "0         1           8437         42    bachelor's degree             0   \n",
       "1         1           4024         36  secondary education             1   \n",
       "2         0           5623         33  secondary education             1   \n",
       "3         3           4124         32  secondary education             1   \n",
       "4         0         340266         53  secondary education             1   \n",
       "\n",
       "       family_status  family_status_id gender income_type  debt  total_income  \\\n",
       "0            married                 0      F    employee     0         40620   \n",
       "1            married                 0      F    employee     0         17932   \n",
       "2            married                 0      M    employee     0         23341   \n",
       "3            married                 0      M    employee     0         42820   \n",
       "4  civil partnership                 1      F     retiree     0         25378   \n",
       "\n",
       "                   purpose  income_type_grade  age_group purpose_category  \n",
       "0    purchase of the house                  3          4         property  \n",
       "1             car purchase                  3          3              car  \n",
       "2    purchase of the house                  3          3         property  \n",
       "3  supplementary education                  3          3        education  \n",
       "4        to have a wedding                  6          5          wedding  "
      ]
     },
     "execution_count": 62,
     "metadata": {},
     "output_type": "execute_result"
    }
   ],
   "source": [
    "#Building a set of lists containing key words for each category.\n",
    "lst_property = ['property', 'estate' , 'housing' , 'house']\n",
    "lst_car = ['car', 'cars']\n",
    "lst_education = ['education', 'university' , 'educated']\n",
    "lst_wedding = ['wedding']\n",
    "\n",
    "#define a function that will check each value in purpose and return its category\n",
    "def purpose_category(purpose):\n",
    "    \n",
    "    \n",
    "    lst_purpose = purpose['purpose'].split(\" \")\n",
    "    \n",
    "    for str_purpose in lst_purpose:\n",
    "        \n",
    "        if str_purpose in lst_property:\n",
    "            return ('property')\n",
    "        elif str_purpose in lst_car:\n",
    "            return ('car')\n",
    "        elif str_purpose in lst_education:\n",
    "            return ('education')\n",
    "        elif str_purpose in lst_wedding:\n",
    "            return ('wedding')\n",
    "\n",
    "#applying the function to the 'purpose' column\n",
    "credit_df['purpose_category'] = credit_df.apply(purpose_category , axis = 1)\n",
    "\n",
    "credit_df.head()"
   ]
  },
  {
   "cell_type": "code",
   "execution_count": 63,
   "metadata": {},
   "outputs": [
    {
     "name": "stdout",
     "output_type": "stream",
     "text": [
      "buy real estate\n",
      "property\n",
      "university education\n",
      "education\n",
      "to become educated\n",
      "education\n",
      "second-hand car purchase\n",
      "car\n"
     ]
    }
   ],
   "source": [
    "#check the function\n",
    "print(credit_df['purpose'].iloc[10])\n",
    "print(purpose_category(credit_df.iloc[10]))\n",
    "print(credit_df['purpose'].iloc[85])\n",
    "print(purpose_category(credit_df.iloc[85]))\n",
    "print(credit_df['purpose'].iloc[60])\n",
    "print(purpose_category(credit_df.iloc[60]))\n",
    "print(credit_df['purpose'].iloc[89])\n",
    "print(purpose_category(credit_df.iloc[89]))"
   ]
  },
  {
   "cell_type": "code",
   "execution_count": 64,
   "metadata": {},
   "outputs": [
    {
     "data": {
      "text/html": [
       "<div>\n",
       "<style scoped>\n",
       "    .dataframe tbody tr th:only-of-type {\n",
       "        vertical-align: middle;\n",
       "    }\n",
       "\n",
       "    .dataframe tbody tr th {\n",
       "        vertical-align: top;\n",
       "    }\n",
       "\n",
       "    .dataframe thead th {\n",
       "        text-align: right;\n",
       "    }\n",
       "</style>\n",
       "<table border=\"1\" class=\"dataframe\">\n",
       "  <thead>\n",
       "    <tr style=\"text-align: right;\">\n",
       "      <th></th>\n",
       "      <th>children</th>\n",
       "      <th>days_employed</th>\n",
       "      <th>dob_years</th>\n",
       "      <th>education</th>\n",
       "      <th>education_id</th>\n",
       "      <th>family_status</th>\n",
       "      <th>family_status_id</th>\n",
       "      <th>gender</th>\n",
       "      <th>income_type</th>\n",
       "      <th>debt</th>\n",
       "      <th>total_income</th>\n",
       "      <th>purpose</th>\n",
       "      <th>income_type_grade</th>\n",
       "      <th>age_group</th>\n",
       "      <th>purpose_category</th>\n",
       "    </tr>\n",
       "  </thead>\n",
       "  <tbody>\n",
       "    <tr>\n",
       "      <th>0</th>\n",
       "      <td>1</td>\n",
       "      <td>8437</td>\n",
       "      <td>42</td>\n",
       "      <td>bachelor's degree</td>\n",
       "      <td>0</td>\n",
       "      <td>married</td>\n",
       "      <td>0</td>\n",
       "      <td>F</td>\n",
       "      <td>employee</td>\n",
       "      <td>0</td>\n",
       "      <td>40620</td>\n",
       "      <td>purchase of the house</td>\n",
       "      <td>3</td>\n",
       "      <td>4</td>\n",
       "      <td>property</td>\n",
       "    </tr>\n",
       "    <tr>\n",
       "      <th>1</th>\n",
       "      <td>1</td>\n",
       "      <td>4024</td>\n",
       "      <td>36</td>\n",
       "      <td>secondary education</td>\n",
       "      <td>1</td>\n",
       "      <td>married</td>\n",
       "      <td>0</td>\n",
       "      <td>F</td>\n",
       "      <td>employee</td>\n",
       "      <td>0</td>\n",
       "      <td>17932</td>\n",
       "      <td>car purchase</td>\n",
       "      <td>3</td>\n",
       "      <td>3</td>\n",
       "      <td>car</td>\n",
       "    </tr>\n",
       "    <tr>\n",
       "      <th>2</th>\n",
       "      <td>0</td>\n",
       "      <td>5623</td>\n",
       "      <td>33</td>\n",
       "      <td>secondary education</td>\n",
       "      <td>1</td>\n",
       "      <td>married</td>\n",
       "      <td>0</td>\n",
       "      <td>M</td>\n",
       "      <td>employee</td>\n",
       "      <td>0</td>\n",
       "      <td>23341</td>\n",
       "      <td>purchase of the house</td>\n",
       "      <td>3</td>\n",
       "      <td>3</td>\n",
       "      <td>property</td>\n",
       "    </tr>\n",
       "    <tr>\n",
       "      <th>3</th>\n",
       "      <td>3</td>\n",
       "      <td>4124</td>\n",
       "      <td>32</td>\n",
       "      <td>secondary education</td>\n",
       "      <td>1</td>\n",
       "      <td>married</td>\n",
       "      <td>0</td>\n",
       "      <td>M</td>\n",
       "      <td>employee</td>\n",
       "      <td>0</td>\n",
       "      <td>42820</td>\n",
       "      <td>supplementary education</td>\n",
       "      <td>3</td>\n",
       "      <td>3</td>\n",
       "      <td>education</td>\n",
       "    </tr>\n",
       "    <tr>\n",
       "      <th>4</th>\n",
       "      <td>0</td>\n",
       "      <td>340266</td>\n",
       "      <td>53</td>\n",
       "      <td>secondary education</td>\n",
       "      <td>1</td>\n",
       "      <td>civil partnership</td>\n",
       "      <td>1</td>\n",
       "      <td>F</td>\n",
       "      <td>retiree</td>\n",
       "      <td>0</td>\n",
       "      <td>25378</td>\n",
       "      <td>to have a wedding</td>\n",
       "      <td>6</td>\n",
       "      <td>5</td>\n",
       "      <td>wedding</td>\n",
       "    </tr>\n",
       "  </tbody>\n",
       "</table>\n",
       "</div>"
      ],
      "text/plain": [
       "   children  days_employed  dob_years            education  education_id  \\\n",
       "0         1           8437         42    bachelor's degree             0   \n",
       "1         1           4024         36  secondary education             1   \n",
       "2         0           5623         33  secondary education             1   \n",
       "3         3           4124         32  secondary education             1   \n",
       "4         0         340266         53  secondary education             1   \n",
       "\n",
       "       family_status  family_status_id gender income_type  debt  total_income  \\\n",
       "0            married                 0      F    employee     0         40620   \n",
       "1            married                 0      F    employee     0         17932   \n",
       "2            married                 0      M    employee     0         23341   \n",
       "3            married                 0      M    employee     0         42820   \n",
       "4  civil partnership                 1      F     retiree     0         25378   \n",
       "\n",
       "                   purpose  income_type_grade  age_group purpose_category  \n",
       "0    purchase of the house                  3          4         property  \n",
       "1             car purchase                  3          3              car  \n",
       "2    purchase of the house                  3          3         property  \n",
       "3  supplementary education                  3          3        education  \n",
       "4        to have a wedding                  6          5          wedding  "
      ]
     },
     "execution_count": 64,
     "metadata": {},
     "output_type": "execute_result"
    }
   ],
   "source": [
    "#applying the function to the 'purpose' column\n",
    "credit_df['purpose_category'] = credit_df.apply(purpose_category , axis = 1)\n",
    "\n",
    "credit_df.head()"
   ]
  },
  {
   "cell_type": "markdown",
   "metadata": {},
   "source": [
    "**We need to check for any missing values in the new column - to find out is al values were inserted**"
   ]
  },
  {
   "cell_type": "code",
   "execution_count": 65,
   "metadata": {},
   "outputs": [
    {
     "data": {
      "text/html": [
       "<div>\n",
       "<style scoped>\n",
       "    .dataframe tbody tr th:only-of-type {\n",
       "        vertical-align: middle;\n",
       "    }\n",
       "\n",
       "    .dataframe tbody tr th {\n",
       "        vertical-align: top;\n",
       "    }\n",
       "\n",
       "    .dataframe thead th {\n",
       "        text-align: right;\n",
       "    }\n",
       "</style>\n",
       "<table border=\"1\" class=\"dataframe\">\n",
       "  <thead>\n",
       "    <tr style=\"text-align: right;\">\n",
       "      <th></th>\n",
       "      <th>children</th>\n",
       "      <th>days_employed</th>\n",
       "      <th>dob_years</th>\n",
       "      <th>education</th>\n",
       "      <th>education_id</th>\n",
       "      <th>family_status</th>\n",
       "      <th>family_status_id</th>\n",
       "      <th>gender</th>\n",
       "      <th>income_type</th>\n",
       "      <th>debt</th>\n",
       "      <th>total_income</th>\n",
       "      <th>purpose</th>\n",
       "      <th>income_type_grade</th>\n",
       "      <th>age_group</th>\n",
       "      <th>purpose_category</th>\n",
       "    </tr>\n",
       "  </thead>\n",
       "  <tbody>\n",
       "  </tbody>\n",
       "</table>\n",
       "</div>"
      ],
      "text/plain": [
       "Empty DataFrame\n",
       "Columns: [children, days_employed, dob_years, education, education_id, family_status, family_status_id, gender, income_type, debt, total_income, purpose, income_type_grade, age_group, purpose_category]\n",
       "Index: []"
      ]
     },
     "execution_count": 65,
     "metadata": {},
     "output_type": "execute_result"
    }
   ],
   "source": [
    "#count the number of values with missing values - if 0 , all values were entered to each category.\n",
    "credit_df.loc[(credit_df['purpose_category'].isna())]"
   ]
  },
  {
   "cell_type": "markdown",
   "metadata": {},
   "source": [
    "The 'pupose' column now has its categories. We can moove to the next step."
   ]
  },
  {
   "cell_type": "markdown",
   "metadata": {},
   "source": [
    "Most of the colums are now categorized. Let us group the data by the criteria we wanted to examin."
   ]
  },
  {
   "cell_type": "markdown",
   "metadata": {},
   "source": [
    "We have categorized every column we need to check our hypotheses.\n",
    "Now we need to preper the data for analysis. Building new customized tables based on the criteria we chose before, will make it easy to check the data.\n",
    "\n",
    "The first table will be the one that will combine the columns that have the marital status, number of children and the debt ststus , for each customer in the data set. This table will give me the data I need to check the hypotheses.\n",
    "\n",
    "Then We will group the data of the total income and the loan purpose with the debt status and see the resault we get when manipulatin the data.\n",
    "\n",
    "**Now we start with the first table cobination**"
   ]
  },
  {
   "cell_type": "code",
   "execution_count": 66,
   "metadata": {},
   "outputs": [
    {
     "data": {
      "text/html": [
       "<div>\n",
       "<style scoped>\n",
       "    .dataframe tbody tr th:only-of-type {\n",
       "        vertical-align: middle;\n",
       "    }\n",
       "\n",
       "    .dataframe tbody tr th {\n",
       "        vertical-align: top;\n",
       "    }\n",
       "\n",
       "    .dataframe thead th {\n",
       "        text-align: right;\n",
       "    }\n",
       "</style>\n",
       "<table border=\"1\" class=\"dataframe\">\n",
       "  <thead>\n",
       "    <tr style=\"text-align: right;\">\n",
       "      <th></th>\n",
       "      <th>children</th>\n",
       "      <th>family_status</th>\n",
       "      <th>family_status_id</th>\n",
       "      <th>debt</th>\n",
       "    </tr>\n",
       "  </thead>\n",
       "  <tbody>\n",
       "    <tr>\n",
       "      <th>0</th>\n",
       "      <td>1</td>\n",
       "      <td>married</td>\n",
       "      <td>0</td>\n",
       "      <td>0</td>\n",
       "    </tr>\n",
       "    <tr>\n",
       "      <th>1</th>\n",
       "      <td>1</td>\n",
       "      <td>married</td>\n",
       "      <td>0</td>\n",
       "      <td>0</td>\n",
       "    </tr>\n",
       "    <tr>\n",
       "      <th>2</th>\n",
       "      <td>0</td>\n",
       "      <td>married</td>\n",
       "      <td>0</td>\n",
       "      <td>0</td>\n",
       "    </tr>\n",
       "    <tr>\n",
       "      <th>3</th>\n",
       "      <td>3</td>\n",
       "      <td>married</td>\n",
       "      <td>0</td>\n",
       "      <td>0</td>\n",
       "    </tr>\n",
       "    <tr>\n",
       "      <th>4</th>\n",
       "      <td>0</td>\n",
       "      <td>civil partnership</td>\n",
       "      <td>1</td>\n",
       "      <td>0</td>\n",
       "    </tr>\n",
       "    <tr>\n",
       "      <th>5</th>\n",
       "      <td>0</td>\n",
       "      <td>civil partnership</td>\n",
       "      <td>1</td>\n",
       "      <td>0</td>\n",
       "    </tr>\n",
       "    <tr>\n",
       "      <th>6</th>\n",
       "      <td>0</td>\n",
       "      <td>married</td>\n",
       "      <td>0</td>\n",
       "      <td>0</td>\n",
       "    </tr>\n",
       "    <tr>\n",
       "      <th>7</th>\n",
       "      <td>0</td>\n",
       "      <td>married</td>\n",
       "      <td>0</td>\n",
       "      <td>0</td>\n",
       "    </tr>\n",
       "    <tr>\n",
       "      <th>8</th>\n",
       "      <td>2</td>\n",
       "      <td>civil partnership</td>\n",
       "      <td>1</td>\n",
       "      <td>0</td>\n",
       "    </tr>\n",
       "    <tr>\n",
       "      <th>9</th>\n",
       "      <td>0</td>\n",
       "      <td>married</td>\n",
       "      <td>0</td>\n",
       "      <td>0</td>\n",
       "    </tr>\n",
       "    <tr>\n",
       "      <th>10</th>\n",
       "      <td>2</td>\n",
       "      <td>married</td>\n",
       "      <td>0</td>\n",
       "      <td>0</td>\n",
       "    </tr>\n",
       "    <tr>\n",
       "      <th>11</th>\n",
       "      <td>0</td>\n",
       "      <td>married</td>\n",
       "      <td>0</td>\n",
       "      <td>0</td>\n",
       "    </tr>\n",
       "    <tr>\n",
       "      <th>12</th>\n",
       "      <td>0</td>\n",
       "      <td>civil partnership</td>\n",
       "      <td>1</td>\n",
       "      <td>0</td>\n",
       "    </tr>\n",
       "    <tr>\n",
       "      <th>13</th>\n",
       "      <td>0</td>\n",
       "      <td>married</td>\n",
       "      <td>0</td>\n",
       "      <td>0</td>\n",
       "    </tr>\n",
       "    <tr>\n",
       "      <th>14</th>\n",
       "      <td>0</td>\n",
       "      <td>civil partnership</td>\n",
       "      <td>1</td>\n",
       "      <td>1</td>\n",
       "    </tr>\n",
       "    <tr>\n",
       "      <th>15</th>\n",
       "      <td>1</td>\n",
       "      <td>married</td>\n",
       "      <td>0</td>\n",
       "      <td>0</td>\n",
       "    </tr>\n",
       "    <tr>\n",
       "      <th>16</th>\n",
       "      <td>0</td>\n",
       "      <td>married</td>\n",
       "      <td>0</td>\n",
       "      <td>0</td>\n",
       "    </tr>\n",
       "    <tr>\n",
       "      <th>17</th>\n",
       "      <td>0</td>\n",
       "      <td>civil partnership</td>\n",
       "      <td>1</td>\n",
       "      <td>0</td>\n",
       "    </tr>\n",
       "    <tr>\n",
       "      <th>18</th>\n",
       "      <td>0</td>\n",
       "      <td>widow / widower</td>\n",
       "      <td>2</td>\n",
       "      <td>0</td>\n",
       "    </tr>\n",
       "    <tr>\n",
       "      <th>19</th>\n",
       "      <td>0</td>\n",
       "      <td>divorced</td>\n",
       "      <td>3</td>\n",
       "      <td>0</td>\n",
       "    </tr>\n",
       "  </tbody>\n",
       "</table>\n",
       "</div>"
      ],
      "text/plain": [
       "    children      family_status  family_status_id  debt\n",
       "0          1            married                 0     0\n",
       "1          1            married                 0     0\n",
       "2          0            married                 0     0\n",
       "3          3            married                 0     0\n",
       "4          0  civil partnership                 1     0\n",
       "5          0  civil partnership                 1     0\n",
       "6          0            married                 0     0\n",
       "7          0            married                 0     0\n",
       "8          2  civil partnership                 1     0\n",
       "9          0            married                 0     0\n",
       "10         2            married                 0     0\n",
       "11         0            married                 0     0\n",
       "12         0  civil partnership                 1     0\n",
       "13         0            married                 0     0\n",
       "14         0  civil partnership                 1     1\n",
       "15         1            married                 0     0\n",
       "16         0            married                 0     0\n",
       "17         0  civil partnership                 1     0\n",
       "18         0    widow / widower                 2     0\n",
       "19         0           divorced                 3     0"
      ]
     },
     "execution_count": 66,
     "metadata": {},
     "output_type": "execute_result"
    }
   ],
   "source": [
    "# Print the values for your selected data of the criteria that wil help us check the hypotyses we want to examin.\n",
    "\n",
    "#selecting the relevent columns to a new filtered table\n",
    "\n",
    "credit_df_children_marital_status = credit_df[['children' , 'family_status' , 'family_status_id','debt']]\n",
    "\n",
    "credit_df_children_marital_status.head(20)"
   ]
  },
  {
   "cell_type": "markdown",
   "metadata": {},
   "source": [
    "## Checking the Hypotheses\n"
   ]
  },
  {
   "cell_type": "markdown",
   "metadata": {},
   "source": [
    "We will first filter the data of the categories we want to check first (merital status , no. of children and the debt) , so the the new filltered table will contain only the records of the customers who have debt."
   ]
  },
  {
   "cell_type": "code",
   "execution_count": 67,
   "metadata": {},
   "outputs": [
    {
     "data": {
      "text/html": [
       "<div>\n",
       "<style scoped>\n",
       "    .dataframe tbody tr th:only-of-type {\n",
       "        vertical-align: middle;\n",
       "    }\n",
       "\n",
       "    .dataframe tbody tr th {\n",
       "        vertical-align: top;\n",
       "    }\n",
       "\n",
       "    .dataframe thead th {\n",
       "        text-align: right;\n",
       "    }\n",
       "</style>\n",
       "<table border=\"1\" class=\"dataframe\">\n",
       "  <thead>\n",
       "    <tr style=\"text-align: right;\">\n",
       "      <th></th>\n",
       "      <th>children</th>\n",
       "      <th>family_status</th>\n",
       "      <th>family_status_id</th>\n",
       "      <th>debt</th>\n",
       "    </tr>\n",
       "  </thead>\n",
       "  <tbody>\n",
       "    <tr>\n",
       "      <th>0</th>\n",
       "      <td>0</td>\n",
       "      <td>civil partnership</td>\n",
       "      <td>1</td>\n",
       "      <td>1</td>\n",
       "    </tr>\n",
       "    <tr>\n",
       "      <th>1</th>\n",
       "      <td>0</td>\n",
       "      <td>civil partnership</td>\n",
       "      <td>1</td>\n",
       "      <td>1</td>\n",
       "    </tr>\n",
       "    <tr>\n",
       "      <th>2</th>\n",
       "      <td>0</td>\n",
       "      <td>unmarried</td>\n",
       "      <td>4</td>\n",
       "      <td>1</td>\n",
       "    </tr>\n",
       "    <tr>\n",
       "      <th>3</th>\n",
       "      <td>0</td>\n",
       "      <td>civil partnership</td>\n",
       "      <td>1</td>\n",
       "      <td>1</td>\n",
       "    </tr>\n",
       "    <tr>\n",
       "      <th>4</th>\n",
       "      <td>1</td>\n",
       "      <td>married</td>\n",
       "      <td>0</td>\n",
       "      <td>1</td>\n",
       "    </tr>\n",
       "    <tr>\n",
       "      <th>5</th>\n",
       "      <td>1</td>\n",
       "      <td>married</td>\n",
       "      <td>0</td>\n",
       "      <td>1</td>\n",
       "    </tr>\n",
       "    <tr>\n",
       "      <th>6</th>\n",
       "      <td>0</td>\n",
       "      <td>widow / widower</td>\n",
       "      <td>2</td>\n",
       "      <td>1</td>\n",
       "    </tr>\n",
       "    <tr>\n",
       "      <th>7</th>\n",
       "      <td>0</td>\n",
       "      <td>married</td>\n",
       "      <td>0</td>\n",
       "      <td>1</td>\n",
       "    </tr>\n",
       "    <tr>\n",
       "      <th>8</th>\n",
       "      <td>0</td>\n",
       "      <td>married</td>\n",
       "      <td>0</td>\n",
       "      <td>1</td>\n",
       "    </tr>\n",
       "    <tr>\n",
       "      <th>9</th>\n",
       "      <td>0</td>\n",
       "      <td>married</td>\n",
       "      <td>0</td>\n",
       "      <td>1</td>\n",
       "    </tr>\n",
       "    <tr>\n",
       "      <th>10</th>\n",
       "      <td>1</td>\n",
       "      <td>married</td>\n",
       "      <td>0</td>\n",
       "      <td>1</td>\n",
       "    </tr>\n",
       "    <tr>\n",
       "      <th>11</th>\n",
       "      <td>0</td>\n",
       "      <td>married</td>\n",
       "      <td>0</td>\n",
       "      <td>1</td>\n",
       "    </tr>\n",
       "    <tr>\n",
       "      <th>12</th>\n",
       "      <td>2</td>\n",
       "      <td>married</td>\n",
       "      <td>0</td>\n",
       "      <td>1</td>\n",
       "    </tr>\n",
       "    <tr>\n",
       "      <th>13</th>\n",
       "      <td>0</td>\n",
       "      <td>civil partnership</td>\n",
       "      <td>1</td>\n",
       "      <td>1</td>\n",
       "    </tr>\n",
       "    <tr>\n",
       "      <th>14</th>\n",
       "      <td>1</td>\n",
       "      <td>civil partnership</td>\n",
       "      <td>1</td>\n",
       "      <td>1</td>\n",
       "    </tr>\n",
       "  </tbody>\n",
       "</table>\n",
       "</div>"
      ],
      "text/plain": [
       "    children      family_status  family_status_id  debt\n",
       "0          0  civil partnership                 1     1\n",
       "1          0  civil partnership                 1     1\n",
       "2          0          unmarried                 4     1\n",
       "3          0  civil partnership                 1     1\n",
       "4          1            married                 0     1\n",
       "5          1            married                 0     1\n",
       "6          0    widow / widower                 2     1\n",
       "7          0            married                 0     1\n",
       "8          0            married                 0     1\n",
       "9          0            married                 0     1\n",
       "10         1            married                 0     1\n",
       "11         0            married                 0     1\n",
       "12         2            married                 0     1\n",
       "13         0  civil partnership                 1     1\n",
       "14         1  civil partnership                 1     1"
      ]
     },
     "execution_count": 67,
     "metadata": {},
     "output_type": "execute_result"
    }
   ],
   "source": [
    "#creating a filltered table from credit_df_children_marital_status_filltered table \n",
    "#containing only the customeres that have debt\n",
    "\n",
    "credit_df_children_marital_status_filltered = credit_df_children_marital_status.loc[(credit_df_children_marital_status['debt'] == 1)]\n",
    "\n",
    "#reseting the indexes\n",
    "\n",
    "credit_df_children_marital_status_filltered = credit_df_children_marital_status_filltered.reset_index(drop=True)\n",
    "\n",
    "#print the first 15 rows of the filltered table\n",
    "\n",
    "credit_df_children_marital_status_filltered.head(15)"
   ]
  },
  {
   "cell_type": "markdown",
   "metadata": {},
   "source": [
    "Let us make a table with the calculations of the count of debt by no. of children under each marital status from filltered  data . and see if there is a uniqe distribustion of values where there is a debt."
   ]
  },
  {
   "cell_type": "code",
   "execution_count": 68,
   "metadata": {},
   "outputs": [
    {
     "data": {
      "text/html": [
       "<div>\n",
       "<style scoped>\n",
       "    .dataframe tbody tr th:only-of-type {\n",
       "        vertical-align: middle;\n",
       "    }\n",
       "\n",
       "    .dataframe tbody tr th {\n",
       "        vertical-align: top;\n",
       "    }\n",
       "\n",
       "    .dataframe thead th {\n",
       "        text-align: right;\n",
       "    }\n",
       "</style>\n",
       "<table border=\"1\" class=\"dataframe\">\n",
       "  <thead>\n",
       "    <tr style=\"text-align: right;\">\n",
       "      <th></th>\n",
       "      <th></th>\n",
       "      <th>Count</th>\n",
       "    </tr>\n",
       "    <tr>\n",
       "      <th>family_status</th>\n",
       "      <th>children</th>\n",
       "      <th></th>\n",
       "    </tr>\n",
       "  </thead>\n",
       "  <tbody>\n",
       "    <tr>\n",
       "      <th rowspan=\"4\" valign=\"top\">civil partnership</th>\n",
       "      <th>0</th>\n",
       "      <td>227</td>\n",
       "    </tr>\n",
       "    <tr>\n",
       "      <th>1</th>\n",
       "      <td>118</td>\n",
       "    </tr>\n",
       "    <tr>\n",
       "      <th>2</th>\n",
       "      <td>33</td>\n",
       "    </tr>\n",
       "    <tr>\n",
       "      <th>3</th>\n",
       "      <td>8</td>\n",
       "    </tr>\n",
       "    <tr>\n",
       "      <th rowspan=\"4\" valign=\"top\">divorced</th>\n",
       "      <th>0</th>\n",
       "      <td>55</td>\n",
       "    </tr>\n",
       "    <tr>\n",
       "      <th>1</th>\n",
       "      <td>21</td>\n",
       "    </tr>\n",
       "    <tr>\n",
       "      <th>2</th>\n",
       "      <td>8</td>\n",
       "    </tr>\n",
       "    <tr>\n",
       "      <th>3</th>\n",
       "      <td>1</td>\n",
       "    </tr>\n",
       "    <tr>\n",
       "      <th rowspan=\"5\" valign=\"top\">married</th>\n",
       "      <th>0</th>\n",
       "      <td>514</td>\n",
       "    </tr>\n",
       "    <tr>\n",
       "      <th>1</th>\n",
       "      <td>245</td>\n",
       "    </tr>\n",
       "    <tr>\n",
       "      <th>2</th>\n",
       "      <td>148</td>\n",
       "    </tr>\n",
       "    <tr>\n",
       "      <th>3</th>\n",
       "      <td>17</td>\n",
       "    </tr>\n",
       "    <tr>\n",
       "      <th>4</th>\n",
       "      <td>3</td>\n",
       "    </tr>\n",
       "    <tr>\n",
       "      <th rowspan=\"5\" valign=\"top\">unmarried</th>\n",
       "      <th>0</th>\n",
       "      <td>210</td>\n",
       "    </tr>\n",
       "    <tr>\n",
       "      <th>1</th>\n",
       "      <td>51</td>\n",
       "    </tr>\n",
       "    <tr>\n",
       "      <th>2</th>\n",
       "      <td>10</td>\n",
       "    </tr>\n",
       "    <tr>\n",
       "      <th>3</th>\n",
       "      <td>1</td>\n",
       "    </tr>\n",
       "    <tr>\n",
       "      <th>4</th>\n",
       "      <td>1</td>\n",
       "    </tr>\n",
       "    <tr>\n",
       "      <th rowspan=\"3\" valign=\"top\">widow / widower</th>\n",
       "      <th>0</th>\n",
       "      <td>52</td>\n",
       "    </tr>\n",
       "    <tr>\n",
       "      <th>1</th>\n",
       "      <td>7</td>\n",
       "    </tr>\n",
       "    <tr>\n",
       "      <th>2</th>\n",
       "      <td>3</td>\n",
       "    </tr>\n",
       "  </tbody>\n",
       "</table>\n",
       "</div>"
      ],
      "text/plain": [
       "                            Count\n",
       "family_status     children       \n",
       "civil partnership 0           227\n",
       "                  1           118\n",
       "                  2            33\n",
       "                  3             8\n",
       "divorced          0            55\n",
       "                  1            21\n",
       "                  2             8\n",
       "                  3             1\n",
       "married           0           514\n",
       "                  1           245\n",
       "                  2           148\n",
       "                  3            17\n",
       "                  4             3\n",
       "unmarried         0           210\n",
       "                  1            51\n",
       "                  2            10\n",
       "                  3             1\n",
       "                  4             1\n",
       "widow / widower   0            52\n",
       "                  1             7\n",
       "                  2             3"
      ]
     },
     "execution_count": 68,
     "metadata": {},
     "output_type": "execute_result"
    }
   ],
   "source": [
    "#Grouping the data of the children and marital status where there is debt. \n",
    "#and calculating each the sum of them, the count of records, the mean and media of these vlues.from the majority\n",
    "\n",
    "credit_df_children_marital_status_filltered_grouped  = credit_df_children_marital_status_filltered.groupby(['family_status','children'])['debt'].agg(Count='count')\n",
    "\n",
    "#print the resault\n",
    "credit_df_children_marital_status_filltered_grouped"
   ]
  },
  {
   "cell_type": "markdown",
   "metadata": {},
   "source": [
    "Now let us add the rate of the data for each resault"
   ]
  },
  {
   "cell_type": "code",
   "execution_count": 69,
   "metadata": {},
   "outputs": [
    {
     "data": {
      "text/html": [
       "<div>\n",
       "<style scoped>\n",
       "    .dataframe tbody tr th:only-of-type {\n",
       "        vertical-align: middle;\n",
       "    }\n",
       "\n",
       "    .dataframe tbody tr th {\n",
       "        vertical-align: top;\n",
       "    }\n",
       "\n",
       "    .dataframe thead th {\n",
       "        text-align: right;\n",
       "    }\n",
       "</style>\n",
       "<table border=\"1\" class=\"dataframe\">\n",
       "  <thead>\n",
       "    <tr style=\"text-align: right;\">\n",
       "      <th></th>\n",
       "      <th></th>\n",
       "      <th>Count</th>\n",
       "      <th>rate_of_debt</th>\n",
       "    </tr>\n",
       "    <tr>\n",
       "      <th>family_status</th>\n",
       "      <th>children</th>\n",
       "      <th></th>\n",
       "      <th></th>\n",
       "    </tr>\n",
       "  </thead>\n",
       "  <tbody>\n",
       "    <tr>\n",
       "      <th rowspan=\"4\" valign=\"top\">civil partnership</th>\n",
       "      <th>0</th>\n",
       "      <td>227</td>\n",
       "      <td>13.098673</td>\n",
       "    </tr>\n",
       "    <tr>\n",
       "      <th>1</th>\n",
       "      <td>118</td>\n",
       "      <td>6.809002</td>\n",
       "    </tr>\n",
       "    <tr>\n",
       "      <th>2</th>\n",
       "      <td>33</td>\n",
       "      <td>1.904212</td>\n",
       "    </tr>\n",
       "    <tr>\n",
       "      <th>3</th>\n",
       "      <td>8</td>\n",
       "      <td>0.461627</td>\n",
       "    </tr>\n",
       "    <tr>\n",
       "      <th rowspan=\"4\" valign=\"top\">divorced</th>\n",
       "      <th>0</th>\n",
       "      <td>55</td>\n",
       "      <td>3.173687</td>\n",
       "    </tr>\n",
       "    <tr>\n",
       "      <th>1</th>\n",
       "      <td>21</td>\n",
       "      <td>1.211771</td>\n",
       "    </tr>\n",
       "    <tr>\n",
       "      <th>2</th>\n",
       "      <td>8</td>\n",
       "      <td>0.461627</td>\n",
       "    </tr>\n",
       "    <tr>\n",
       "      <th>3</th>\n",
       "      <td>1</td>\n",
       "      <td>0.057703</td>\n",
       "    </tr>\n",
       "    <tr>\n",
       "      <th rowspan=\"5\" valign=\"top\">married</th>\n",
       "      <th>0</th>\n",
       "      <td>514</td>\n",
       "      <td>29.659550</td>\n",
       "    </tr>\n",
       "    <tr>\n",
       "      <th>1</th>\n",
       "      <td>245</td>\n",
       "      <td>14.137334</td>\n",
       "    </tr>\n",
       "    <tr>\n",
       "      <th>2</th>\n",
       "      <td>148</td>\n",
       "      <td>8.540104</td>\n",
       "    </tr>\n",
       "    <tr>\n",
       "      <th>3</th>\n",
       "      <td>17</td>\n",
       "      <td>0.980958</td>\n",
       "    </tr>\n",
       "    <tr>\n",
       "      <th>4</th>\n",
       "      <td>3</td>\n",
       "      <td>0.173110</td>\n",
       "    </tr>\n",
       "    <tr>\n",
       "      <th rowspan=\"5\" valign=\"top\">unmarried</th>\n",
       "      <th>0</th>\n",
       "      <td>210</td>\n",
       "      <td>12.117715</td>\n",
       "    </tr>\n",
       "    <tr>\n",
       "      <th>1</th>\n",
       "      <td>51</td>\n",
       "      <td>2.942874</td>\n",
       "    </tr>\n",
       "    <tr>\n",
       "      <th>2</th>\n",
       "      <td>10</td>\n",
       "      <td>0.577034</td>\n",
       "    </tr>\n",
       "    <tr>\n",
       "      <th>3</th>\n",
       "      <td>1</td>\n",
       "      <td>0.057703</td>\n",
       "    </tr>\n",
       "    <tr>\n",
       "      <th>4</th>\n",
       "      <td>1</td>\n",
       "      <td>0.057703</td>\n",
       "    </tr>\n",
       "    <tr>\n",
       "      <th rowspan=\"3\" valign=\"top\">widow / widower</th>\n",
       "      <th>0</th>\n",
       "      <td>52</td>\n",
       "      <td>3.000577</td>\n",
       "    </tr>\n",
       "    <tr>\n",
       "      <th>1</th>\n",
       "      <td>7</td>\n",
       "      <td>0.403924</td>\n",
       "    </tr>\n",
       "    <tr>\n",
       "      <th>2</th>\n",
       "      <td>3</td>\n",
       "      <td>0.173110</td>\n",
       "    </tr>\n",
       "  </tbody>\n",
       "</table>\n",
       "</div>"
      ],
      "text/plain": [
       "                            Count  rate_of_debt\n",
       "family_status     children                     \n",
       "civil partnership 0           227     13.098673\n",
       "                  1           118      6.809002\n",
       "                  2            33      1.904212\n",
       "                  3             8      0.461627\n",
       "divorced          0            55      3.173687\n",
       "                  1            21      1.211771\n",
       "                  2             8      0.461627\n",
       "                  3             1      0.057703\n",
       "married           0           514     29.659550\n",
       "                  1           245     14.137334\n",
       "                  2           148      8.540104\n",
       "                  3            17      0.980958\n",
       "                  4             3      0.173110\n",
       "unmarried         0           210     12.117715\n",
       "                  1            51      2.942874\n",
       "                  2            10      0.577034\n",
       "                  3             1      0.057703\n",
       "                  4             1      0.057703\n",
       "widow / widower   0            52      3.000577\n",
       "                  1             7      0.403924\n",
       "                  2             3      0.173110"
      ]
     },
     "execution_count": 69,
     "metadata": {},
     "output_type": "execute_result"
    }
   ],
   "source": [
    "#adding  a new rate column - the percent of values from the whole data.\n",
    "\n",
    "credit_df_children_marital_status_filltered_grouped['rate_of_debt'] = credit_df_children_marital_status_filltered_grouped['Count'] / len(credit_df_children_marital_status_filltered) * 100\n",
    "\n",
    "#print the resaults\n",
    "credit_df_children_marital_status_filltered_grouped\n"
   ]
  },
  {
   "cell_type": "markdown",
   "metadata": {},
   "source": [
    "Let us sea the general data distribution of these indexes"
   ]
  },
  {
   "cell_type": "code",
   "execution_count": 70,
   "metadata": {},
   "outputs": [
    {
     "data": {
      "text/html": [
       "<div>\n",
       "<style scoped>\n",
       "    .dataframe tbody tr th:only-of-type {\n",
       "        vertical-align: middle;\n",
       "    }\n",
       "\n",
       "    .dataframe tbody tr th {\n",
       "        vertical-align: top;\n",
       "    }\n",
       "\n",
       "    .dataframe thead th {\n",
       "        text-align: right;\n",
       "    }\n",
       "</style>\n",
       "<table border=\"1\" class=\"dataframe\">\n",
       "  <thead>\n",
       "    <tr style=\"text-align: right;\">\n",
       "      <th></th>\n",
       "      <th></th>\n",
       "      <th>Count_debt</th>\n",
       "      <th>rate_of_debt_debt</th>\n",
       "      <th>Count_general</th>\n",
       "      <th>rate_of_debt_general</th>\n",
       "    </tr>\n",
       "    <tr>\n",
       "      <th>family_status</th>\n",
       "      <th>children</th>\n",
       "      <th></th>\n",
       "      <th></th>\n",
       "      <th></th>\n",
       "      <th></th>\n",
       "    </tr>\n",
       "  </thead>\n",
       "  <tbody>\n",
       "    <tr>\n",
       "      <th rowspan=\"4\" valign=\"top\">civil partnership</th>\n",
       "      <th>0</th>\n",
       "      <td>227</td>\n",
       "      <td>13.098673</td>\n",
       "      <td>2697</td>\n",
       "      <td>12.670895</td>\n",
       "    </tr>\n",
       "    <tr>\n",
       "      <th>1</th>\n",
       "      <td>118</td>\n",
       "      <td>6.809002</td>\n",
       "      <td>991</td>\n",
       "      <td>4.655861</td>\n",
       "    </tr>\n",
       "    <tr>\n",
       "      <th>2</th>\n",
       "      <td>33</td>\n",
       "      <td>1.904212</td>\n",
       "      <td>352</td>\n",
       "      <td>1.653747</td>\n",
       "    </tr>\n",
       "    <tr>\n",
       "      <th>3</th>\n",
       "      <td>8</td>\n",
       "      <td>0.461627</td>\n",
       "      <td>56</td>\n",
       "      <td>0.263096</td>\n",
       "    </tr>\n",
       "    <tr>\n",
       "      <th rowspan=\"4\" valign=\"top\">divorced</th>\n",
       "      <th>0</th>\n",
       "      <td>55</td>\n",
       "      <td>3.173687</td>\n",
       "      <td>777</td>\n",
       "      <td>3.650458</td>\n",
       "    </tr>\n",
       "    <tr>\n",
       "      <th>1</th>\n",
       "      <td>21</td>\n",
       "      <td>1.211771</td>\n",
       "      <td>315</td>\n",
       "      <td>1.479915</td>\n",
       "    </tr>\n",
       "    <tr>\n",
       "      <th>2</th>\n",
       "      <td>8</td>\n",
       "      <td>0.461627</td>\n",
       "      <td>81</td>\n",
       "      <td>0.380550</td>\n",
       "    </tr>\n",
       "    <tr>\n",
       "      <th>3</th>\n",
       "      <td>1</td>\n",
       "      <td>0.057703</td>\n",
       "      <td>11</td>\n",
       "      <td>0.051680</td>\n",
       "    </tr>\n",
       "    <tr>\n",
       "      <th rowspan=\"5\" valign=\"top\">married</th>\n",
       "      <th>0</th>\n",
       "      <td>514</td>\n",
       "      <td>29.659550</td>\n",
       "      <td>7406</td>\n",
       "      <td>34.794456</td>\n",
       "    </tr>\n",
       "    <tr>\n",
       "      <th>1</th>\n",
       "      <td>245</td>\n",
       "      <td>14.137334</td>\n",
       "      <td>2990</td>\n",
       "      <td>14.047451</td>\n",
       "    </tr>\n",
       "    <tr>\n",
       "      <th>2</th>\n",
       "      <td>148</td>\n",
       "      <td>8.540104</td>\n",
       "      <td>1571</td>\n",
       "      <td>7.380785</td>\n",
       "    </tr>\n",
       "    <tr>\n",
       "      <th>3</th>\n",
       "      <td>17</td>\n",
       "      <td>0.980958</td>\n",
       "      <td>247</td>\n",
       "      <td>1.160442</td>\n",
       "    </tr>\n",
       "    <tr>\n",
       "      <th>4</th>\n",
       "      <td>3</td>\n",
       "      <td>0.173110</td>\n",
       "      <td>29</td>\n",
       "      <td>0.136246</td>\n",
       "    </tr>\n",
       "    <tr>\n",
       "      <th rowspan=\"5\" valign=\"top\">unmarried</th>\n",
       "      <th>0</th>\n",
       "      <td>210</td>\n",
       "      <td>12.117715</td>\n",
       "      <td>2246</td>\n",
       "      <td>10.552032</td>\n",
       "    </tr>\n",
       "    <tr>\n",
       "      <th>1</th>\n",
       "      <td>51</td>\n",
       "      <td>2.942874</td>\n",
       "      <td>452</td>\n",
       "      <td>2.123561</td>\n",
       "    </tr>\n",
       "    <tr>\n",
       "      <th>2</th>\n",
       "      <td>10</td>\n",
       "      <td>0.577034</td>\n",
       "      <td>83</td>\n",
       "      <td>0.389946</td>\n",
       "    </tr>\n",
       "    <tr>\n",
       "      <th>3</th>\n",
       "      <td>1</td>\n",
       "      <td>0.057703</td>\n",
       "      <td>8</td>\n",
       "      <td>0.037585</td>\n",
       "    </tr>\n",
       "    <tr>\n",
       "      <th>4</th>\n",
       "      <td>1</td>\n",
       "      <td>0.057703</td>\n",
       "      <td>2</td>\n",
       "      <td>0.009396</td>\n",
       "    </tr>\n",
       "    <tr>\n",
       "      <th rowspan=\"3\" valign=\"top\">widow / widower</th>\n",
       "      <th>0</th>\n",
       "      <td>52</td>\n",
       "      <td>3.000577</td>\n",
       "      <td>841</td>\n",
       "      <td>3.951139</td>\n",
       "    </tr>\n",
       "    <tr>\n",
       "      <th>1</th>\n",
       "      <td>7</td>\n",
       "      <td>0.403924</td>\n",
       "      <td>81</td>\n",
       "      <td>0.380550</td>\n",
       "    </tr>\n",
       "    <tr>\n",
       "      <th>2</th>\n",
       "      <td>3</td>\n",
       "      <td>0.173110</td>\n",
       "      <td>24</td>\n",
       "      <td>0.112755</td>\n",
       "    </tr>\n",
       "  </tbody>\n",
       "</table>\n",
       "</div>"
      ],
      "text/plain": [
       "                            Count_debt  rate_of_debt_debt  Count_general  \\\n",
       "family_status     children                                                 \n",
       "civil partnership 0                227          13.098673           2697   \n",
       "                  1                118           6.809002            991   \n",
       "                  2                 33           1.904212            352   \n",
       "                  3                  8           0.461627             56   \n",
       "divorced          0                 55           3.173687            777   \n",
       "                  1                 21           1.211771            315   \n",
       "                  2                  8           0.461627             81   \n",
       "                  3                  1           0.057703             11   \n",
       "married           0                514          29.659550           7406   \n",
       "                  1                245          14.137334           2990   \n",
       "                  2                148           8.540104           1571   \n",
       "                  3                 17           0.980958            247   \n",
       "                  4                  3           0.173110             29   \n",
       "unmarried         0                210          12.117715           2246   \n",
       "                  1                 51           2.942874            452   \n",
       "                  2                 10           0.577034             83   \n",
       "                  3                  1           0.057703              8   \n",
       "                  4                  1           0.057703              2   \n",
       "widow / widower   0                 52           3.000577            841   \n",
       "                  1                  7           0.403924             81   \n",
       "                  2                  3           0.173110             24   \n",
       "\n",
       "                            rate_of_debt_general  \n",
       "family_status     children                        \n",
       "civil partnership 0                    12.670895  \n",
       "                  1                     4.655861  \n",
       "                  2                     1.653747  \n",
       "                  3                     0.263096  \n",
       "divorced          0                     3.650458  \n",
       "                  1                     1.479915  \n",
       "                  2                     0.380550  \n",
       "                  3                     0.051680  \n",
       "married           0                    34.794456  \n",
       "                  1                    14.047451  \n",
       "                  2                     7.380785  \n",
       "                  3                     1.160442  \n",
       "                  4                     0.136246  \n",
       "unmarried         0                    10.552032  \n",
       "                  1                     2.123561  \n",
       "                  2                     0.389946  \n",
       "                  3                     0.037585  \n",
       "                  4                     0.009396  \n",
       "widow / widower   0                     3.951139  \n",
       "                  1                     0.380550  \n",
       "                  2                     0.112755  "
      ]
     },
     "execution_count": 70,
     "metadata": {},
     "output_type": "execute_result"
    }
   ],
   "source": [
    "#making a new table for the general data of these columns\n",
    "\n",
    "credit_df_children_marital_status_grouped  = credit_df_children_marital_status.groupby(['family_status','children'])['debt'].agg(Count='count')\n",
    "\n",
    "#calculatin the rate of the general data of these criteria.\n",
    "credit_df_children_marital_status_grouped['rate_of_debt'] = credit_df_children_marital_status_grouped['Count'] / len(credit_df) * 100\n",
    "\n",
    "#Join the resaults to figure out if the hypotheses is correct.\n",
    "credit_df_children_marital_status_general_join = credit_df_children_marital_status_filltered_grouped.join(credit_df_children_marital_status_grouped, lsuffix='_debt', rsuffix='_general')\n",
    "\n",
    "#print the resault\n",
    "credit_df_children_marital_status_general_join\n"
   ]
  },
  {
   "cell_type": "markdown",
   "metadata": {},
   "source": [
    "**Conclusion**\n",
    "\n",
    "Looking at the rates we see the opposit effect that we first hypothesised. \n",
    "We can see that the most records of people that have a debt is cossistent to their percent of the general population.\n",
    "\n",
    "From the numbers we can not conclude that there is a direct corralation between having children to having a debt. There is a consistency of the part of the customers that have or not children to theire general part of the population. And it make sense that there will be a cosistancy of debt based that corralation.\n"
   ]
  },
  {
   "cell_type": "markdown",
   "metadata": {},
   "source": [
    "**The Next step - Checking the other Hypotheses**\n",
    "\n",
    "How the purpose of the loan effects the default of the loan.\n",
    "\n",
    "before we do that , we need to categorize the income column of the filtered table.There are too many salleries with diffrent total sum of them so we can not group the data like that.And if we will need to enter the incom factor the we will need to categorize it any way."
   ]
  },
  {
   "cell_type": "code",
   "execution_count": 71,
   "metadata": {},
   "outputs": [
    {
     "data": {
      "text/html": [
       "<div>\n",
       "<style scoped>\n",
       "    .dataframe tbody tr th:only-of-type {\n",
       "        vertical-align: middle;\n",
       "    }\n",
       "\n",
       "    .dataframe tbody tr th {\n",
       "        vertical-align: top;\n",
       "    }\n",
       "\n",
       "    .dataframe thead th {\n",
       "        text-align: right;\n",
       "    }\n",
       "</style>\n",
       "<table border=\"1\" class=\"dataframe\">\n",
       "  <thead>\n",
       "    <tr style=\"text-align: right;\">\n",
       "      <th></th>\n",
       "      <th>children</th>\n",
       "      <th>days_employed</th>\n",
       "      <th>dob_years</th>\n",
       "      <th>education</th>\n",
       "      <th>education_id</th>\n",
       "      <th>family_status</th>\n",
       "      <th>family_status_id</th>\n",
       "      <th>gender</th>\n",
       "      <th>income_type</th>\n",
       "      <th>debt</th>\n",
       "      <th>total_income</th>\n",
       "      <th>purpose</th>\n",
       "      <th>income_type_grade</th>\n",
       "      <th>age_group</th>\n",
       "      <th>purpose_category</th>\n",
       "    </tr>\n",
       "  </thead>\n",
       "  <tbody>\n",
       "    <tr>\n",
       "      <th>0</th>\n",
       "      <td>0</td>\n",
       "      <td>359219</td>\n",
       "      <td>57</td>\n",
       "      <td>secondary education</td>\n",
       "      <td>1</td>\n",
       "      <td>married</td>\n",
       "      <td>0</td>\n",
       "      <td>F</td>\n",
       "      <td>retiree</td>\n",
       "      <td>1</td>\n",
       "      <td>3306</td>\n",
       "      <td>property</td>\n",
       "      <td>6</td>\n",
       "      <td>5</td>\n",
       "      <td>property</td>\n",
       "    </tr>\n",
       "    <tr>\n",
       "      <th>1</th>\n",
       "      <td>0</td>\n",
       "      <td>369708</td>\n",
       "      <td>37</td>\n",
       "      <td>secondary education</td>\n",
       "      <td>1</td>\n",
       "      <td>civil partnership</td>\n",
       "      <td>1</td>\n",
       "      <td>M</td>\n",
       "      <td>retiree</td>\n",
       "      <td>0</td>\n",
       "      <td>3392</td>\n",
       "      <td>going to university</td>\n",
       "      <td>6</td>\n",
       "      <td>3</td>\n",
       "      <td>education</td>\n",
       "    </tr>\n",
       "    <tr>\n",
       "      <th>2</th>\n",
       "      <td>1</td>\n",
       "      <td>3642</td>\n",
       "      <td>52</td>\n",
       "      <td>secondary education</td>\n",
       "      <td>1</td>\n",
       "      <td>married</td>\n",
       "      <td>0</td>\n",
       "      <td>M</td>\n",
       "      <td>employee</td>\n",
       "      <td>0</td>\n",
       "      <td>3418</td>\n",
       "      <td>car purchase</td>\n",
       "      <td>3</td>\n",
       "      <td>5</td>\n",
       "      <td>car</td>\n",
       "    </tr>\n",
       "    <tr>\n",
       "      <th>3</th>\n",
       "      <td>0</td>\n",
       "      <td>359726</td>\n",
       "      <td>68</td>\n",
       "      <td>secondary education</td>\n",
       "      <td>1</td>\n",
       "      <td>civil partnership</td>\n",
       "      <td>1</td>\n",
       "      <td>M</td>\n",
       "      <td>retiree</td>\n",
       "      <td>0</td>\n",
       "      <td>3471</td>\n",
       "      <td>having a wedding</td>\n",
       "      <td>6</td>\n",
       "      <td>6</td>\n",
       "      <td>wedding</td>\n",
       "    </tr>\n",
       "    <tr>\n",
       "      <th>4</th>\n",
       "      <td>0</td>\n",
       "      <td>346602</td>\n",
       "      <td>61</td>\n",
       "      <td>secondary education</td>\n",
       "      <td>1</td>\n",
       "      <td>married</td>\n",
       "      <td>0</td>\n",
       "      <td>F</td>\n",
       "      <td>retiree</td>\n",
       "      <td>0</td>\n",
       "      <td>3503</td>\n",
       "      <td>property</td>\n",
       "      <td>6</td>\n",
       "      <td>6</td>\n",
       "      <td>property</td>\n",
       "    </tr>\n",
       "  </tbody>\n",
       "</table>\n",
       "</div>"
      ],
      "text/plain": [
       "   children  days_employed  dob_years            education  education_id  \\\n",
       "0         0         359219         57  secondary education             1   \n",
       "1         0         369708         37  secondary education             1   \n",
       "2         1           3642         52  secondary education             1   \n",
       "3         0         359726         68  secondary education             1   \n",
       "4         0         346602         61  secondary education             1   \n",
       "\n",
       "       family_status  family_status_id gender income_type  debt  total_income  \\\n",
       "0            married                 0      F     retiree     1          3306   \n",
       "1  civil partnership                 1      M     retiree     0          3392   \n",
       "2            married                 0      M    employee     0          3418   \n",
       "3  civil partnership                 1      M     retiree     0          3471   \n",
       "4            married                 0      F     retiree     0          3503   \n",
       "\n",
       "               purpose  income_type_grade  age_group purpose_category  \n",
       "0             property                  6          5         property  \n",
       "1  going to university                  6          3        education  \n",
       "2         car purchase                  3          5              car  \n",
       "3     having a wedding                  6          6          wedding  \n",
       "4             property                  6          6         property  "
      ]
     },
     "execution_count": 71,
     "metadata": {},
     "output_type": "execute_result"
    }
   ],
   "source": [
    "#new table sorted by income\n",
    "credit_df_sorted_incom = credit_df.sort_values(by='total_income' , ascending = True , ignore_index = True)\n",
    "#printing the first 15 rows to get the first lowest value in total_income\n",
    "#givving us the low border of the categories we want to apply\n",
    "credit_df_sorted_incom.head()"
   ]
  },
  {
   "cell_type": "code",
   "execution_count": 72,
   "metadata": {},
   "outputs": [
    {
     "data": {
      "text/html": [
       "<div>\n",
       "<style scoped>\n",
       "    .dataframe tbody tr th:only-of-type {\n",
       "        vertical-align: middle;\n",
       "    }\n",
       "\n",
       "    .dataframe tbody tr th {\n",
       "        vertical-align: top;\n",
       "    }\n",
       "\n",
       "    .dataframe thead th {\n",
       "        text-align: right;\n",
       "    }\n",
       "</style>\n",
       "<table border=\"1\" class=\"dataframe\">\n",
       "  <thead>\n",
       "    <tr style=\"text-align: right;\">\n",
       "      <th></th>\n",
       "      <th>children</th>\n",
       "      <th>days_employed</th>\n",
       "      <th>dob_years</th>\n",
       "      <th>education</th>\n",
       "      <th>education_id</th>\n",
       "      <th>family_status</th>\n",
       "      <th>family_status_id</th>\n",
       "      <th>gender</th>\n",
       "      <th>income_type</th>\n",
       "      <th>debt</th>\n",
       "      <th>total_income</th>\n",
       "      <th>purpose</th>\n",
       "      <th>income_type_grade</th>\n",
       "      <th>age_group</th>\n",
       "      <th>purpose_category</th>\n",
       "    </tr>\n",
       "  </thead>\n",
       "  <tbody>\n",
       "    <tr>\n",
       "      <th>1000</th>\n",
       "      <td>0</td>\n",
       "      <td>357</td>\n",
       "      <td>48</td>\n",
       "      <td>secondary education</td>\n",
       "      <td>1</td>\n",
       "      <td>widow / widower</td>\n",
       "      <td>2</td>\n",
       "      <td>F</td>\n",
       "      <td>business</td>\n",
       "      <td>0</td>\n",
       "      <td>10195</td>\n",
       "      <td>purchase of the house for my family</td>\n",
       "      <td>2</td>\n",
       "      <td>4</td>\n",
       "      <td>property</td>\n",
       "    </tr>\n",
       "    <tr>\n",
       "      <th>1001</th>\n",
       "      <td>0</td>\n",
       "      <td>1051</td>\n",
       "      <td>28</td>\n",
       "      <td>secondary education</td>\n",
       "      <td>1</td>\n",
       "      <td>married</td>\n",
       "      <td>0</td>\n",
       "      <td>M</td>\n",
       "      <td>employee</td>\n",
       "      <td>0</td>\n",
       "      <td>10199</td>\n",
       "      <td>purchase of a car</td>\n",
       "      <td>3</td>\n",
       "      <td>2</td>\n",
       "      <td>car</td>\n",
       "    </tr>\n",
       "    <tr>\n",
       "      <th>1002</th>\n",
       "      <td>0</td>\n",
       "      <td>344108</td>\n",
       "      <td>69</td>\n",
       "      <td>secondary education</td>\n",
       "      <td>1</td>\n",
       "      <td>widow / widower</td>\n",
       "      <td>2</td>\n",
       "      <td>M</td>\n",
       "      <td>retiree</td>\n",
       "      <td>0</td>\n",
       "      <td>10200</td>\n",
       "      <td>housing</td>\n",
       "      <td>6</td>\n",
       "      <td>6</td>\n",
       "      <td>property</td>\n",
       "    </tr>\n",
       "    <tr>\n",
       "      <th>1003</th>\n",
       "      <td>0</td>\n",
       "      <td>2351</td>\n",
       "      <td>30</td>\n",
       "      <td>secondary education</td>\n",
       "      <td>1</td>\n",
       "      <td>married</td>\n",
       "      <td>0</td>\n",
       "      <td>M</td>\n",
       "      <td>employee</td>\n",
       "      <td>0</td>\n",
       "      <td>10200</td>\n",
       "      <td>university education</td>\n",
       "      <td>3</td>\n",
       "      <td>2</td>\n",
       "      <td>education</td>\n",
       "    </tr>\n",
       "    <tr>\n",
       "      <th>1004</th>\n",
       "      <td>0</td>\n",
       "      <td>346047</td>\n",
       "      <td>54</td>\n",
       "      <td>secondary education</td>\n",
       "      <td>1</td>\n",
       "      <td>married</td>\n",
       "      <td>0</td>\n",
       "      <td>F</td>\n",
       "      <td>retiree</td>\n",
       "      <td>0</td>\n",
       "      <td>10203</td>\n",
       "      <td>purchase of my own house</td>\n",
       "      <td>6</td>\n",
       "      <td>5</td>\n",
       "      <td>property</td>\n",
       "    </tr>\n",
       "    <tr>\n",
       "      <th>1005</th>\n",
       "      <td>0</td>\n",
       "      <td>8797</td>\n",
       "      <td>46</td>\n",
       "      <td>secondary education</td>\n",
       "      <td>1</td>\n",
       "      <td>married</td>\n",
       "      <td>0</td>\n",
       "      <td>F</td>\n",
       "      <td>employee</td>\n",
       "      <td>0</td>\n",
       "      <td>10205</td>\n",
       "      <td>purchase of the house</td>\n",
       "      <td>3</td>\n",
       "      <td>4</td>\n",
       "      <td>property</td>\n",
       "    </tr>\n",
       "    <tr>\n",
       "      <th>1006</th>\n",
       "      <td>0</td>\n",
       "      <td>3167</td>\n",
       "      <td>41</td>\n",
       "      <td>secondary education</td>\n",
       "      <td>1</td>\n",
       "      <td>married</td>\n",
       "      <td>0</td>\n",
       "      <td>F</td>\n",
       "      <td>employee</td>\n",
       "      <td>0</td>\n",
       "      <td>10205</td>\n",
       "      <td>purchase of the house for my family</td>\n",
       "      <td>3</td>\n",
       "      <td>4</td>\n",
       "      <td>property</td>\n",
       "    </tr>\n",
       "    <tr>\n",
       "      <th>1007</th>\n",
       "      <td>1</td>\n",
       "      <td>247</td>\n",
       "      <td>38</td>\n",
       "      <td>secondary education</td>\n",
       "      <td>1</td>\n",
       "      <td>married</td>\n",
       "      <td>0</td>\n",
       "      <td>F</td>\n",
       "      <td>business</td>\n",
       "      <td>0</td>\n",
       "      <td>10216</td>\n",
       "      <td>purchase of the house</td>\n",
       "      <td>2</td>\n",
       "      <td>3</td>\n",
       "      <td>property</td>\n",
       "    </tr>\n",
       "    <tr>\n",
       "      <th>1008</th>\n",
       "      <td>0</td>\n",
       "      <td>11966</td>\n",
       "      <td>52</td>\n",
       "      <td>secondary education</td>\n",
       "      <td>1</td>\n",
       "      <td>civil partnership</td>\n",
       "      <td>1</td>\n",
       "      <td>F</td>\n",
       "      <td>employee</td>\n",
       "      <td>0</td>\n",
       "      <td>10217</td>\n",
       "      <td>purchase of my own house</td>\n",
       "      <td>3</td>\n",
       "      <td>5</td>\n",
       "      <td>property</td>\n",
       "    </tr>\n",
       "    <tr>\n",
       "      <th>1009</th>\n",
       "      <td>0</td>\n",
       "      <td>3766</td>\n",
       "      <td>30</td>\n",
       "      <td>secondary education</td>\n",
       "      <td>1</td>\n",
       "      <td>married</td>\n",
       "      <td>0</td>\n",
       "      <td>F</td>\n",
       "      <td>business</td>\n",
       "      <td>0</td>\n",
       "      <td>10219</td>\n",
       "      <td>housing transactions</td>\n",
       "      <td>2</td>\n",
       "      <td>2</td>\n",
       "      <td>property</td>\n",
       "    </tr>\n",
       "    <tr>\n",
       "      <th>1010</th>\n",
       "      <td>0</td>\n",
       "      <td>1300</td>\n",
       "      <td>52</td>\n",
       "      <td>secondary education</td>\n",
       "      <td>1</td>\n",
       "      <td>unmarried</td>\n",
       "      <td>4</td>\n",
       "      <td>F</td>\n",
       "      <td>business</td>\n",
       "      <td>0</td>\n",
       "      <td>10224</td>\n",
       "      <td>buy real estate</td>\n",
       "      <td>2</td>\n",
       "      <td>5</td>\n",
       "      <td>property</td>\n",
       "    </tr>\n",
       "    <tr>\n",
       "      <th>1011</th>\n",
       "      <td>1</td>\n",
       "      <td>1219</td>\n",
       "      <td>40</td>\n",
       "      <td>secondary education</td>\n",
       "      <td>1</td>\n",
       "      <td>civil partnership</td>\n",
       "      <td>1</td>\n",
       "      <td>F</td>\n",
       "      <td>employee</td>\n",
       "      <td>0</td>\n",
       "      <td>10224</td>\n",
       "      <td>purchase of a car</td>\n",
       "      <td>3</td>\n",
       "      <td>3</td>\n",
       "      <td>car</td>\n",
       "    </tr>\n",
       "    <tr>\n",
       "      <th>1012</th>\n",
       "      <td>1</td>\n",
       "      <td>5698</td>\n",
       "      <td>45</td>\n",
       "      <td>secondary education</td>\n",
       "      <td>1</td>\n",
       "      <td>civil partnership</td>\n",
       "      <td>1</td>\n",
       "      <td>F</td>\n",
       "      <td>civil servant</td>\n",
       "      <td>0</td>\n",
       "      <td>10224</td>\n",
       "      <td>to buy a car</td>\n",
       "      <td>4</td>\n",
       "      <td>4</td>\n",
       "      <td>car</td>\n",
       "    </tr>\n",
       "    <tr>\n",
       "      <th>1013</th>\n",
       "      <td>0</td>\n",
       "      <td>333288</td>\n",
       "      <td>49</td>\n",
       "      <td>secondary education</td>\n",
       "      <td>1</td>\n",
       "      <td>married</td>\n",
       "      <td>0</td>\n",
       "      <td>F</td>\n",
       "      <td>retiree</td>\n",
       "      <td>0</td>\n",
       "      <td>10227</td>\n",
       "      <td>construction of own property</td>\n",
       "      <td>6</td>\n",
       "      <td>4</td>\n",
       "      <td>property</td>\n",
       "    </tr>\n",
       "    <tr>\n",
       "      <th>1014</th>\n",
       "      <td>1</td>\n",
       "      <td>2245</td>\n",
       "      <td>42</td>\n",
       "      <td>secondary education</td>\n",
       "      <td>1</td>\n",
       "      <td>married</td>\n",
       "      <td>0</td>\n",
       "      <td>F</td>\n",
       "      <td>employee</td>\n",
       "      <td>0</td>\n",
       "      <td>10228</td>\n",
       "      <td>car purchase</td>\n",
       "      <td>3</td>\n",
       "      <td>4</td>\n",
       "      <td>car</td>\n",
       "    </tr>\n",
       "    <tr>\n",
       "      <th>1015</th>\n",
       "      <td>1</td>\n",
       "      <td>259</td>\n",
       "      <td>32</td>\n",
       "      <td>secondary education</td>\n",
       "      <td>1</td>\n",
       "      <td>married</td>\n",
       "      <td>0</td>\n",
       "      <td>F</td>\n",
       "      <td>employee</td>\n",
       "      <td>0</td>\n",
       "      <td>10234</td>\n",
       "      <td>car</td>\n",
       "      <td>3</td>\n",
       "      <td>3</td>\n",
       "      <td>car</td>\n",
       "    </tr>\n",
       "  </tbody>\n",
       "</table>\n",
       "</div>"
      ],
      "text/plain": [
       "      children  days_employed  dob_years            education  education_id  \\\n",
       "1000         0            357         48  secondary education             1   \n",
       "1001         0           1051         28  secondary education             1   \n",
       "1002         0         344108         69  secondary education             1   \n",
       "1003         0           2351         30  secondary education             1   \n",
       "1004         0         346047         54  secondary education             1   \n",
       "1005         0           8797         46  secondary education             1   \n",
       "1006         0           3167         41  secondary education             1   \n",
       "1007         1            247         38  secondary education             1   \n",
       "1008         0          11966         52  secondary education             1   \n",
       "1009         0           3766         30  secondary education             1   \n",
       "1010         0           1300         52  secondary education             1   \n",
       "1011         1           1219         40  secondary education             1   \n",
       "1012         1           5698         45  secondary education             1   \n",
       "1013         0         333288         49  secondary education             1   \n",
       "1014         1           2245         42  secondary education             1   \n",
       "1015         1            259         32  secondary education             1   \n",
       "\n",
       "          family_status  family_status_id gender    income_type  debt  \\\n",
       "1000    widow / widower                 2      F       business     0   \n",
       "1001            married                 0      M       employee     0   \n",
       "1002    widow / widower                 2      M        retiree     0   \n",
       "1003            married                 0      M       employee     0   \n",
       "1004            married                 0      F        retiree     0   \n",
       "1005            married                 0      F       employee     0   \n",
       "1006            married                 0      F       employee     0   \n",
       "1007            married                 0      F       business     0   \n",
       "1008  civil partnership                 1      F       employee     0   \n",
       "1009            married                 0      F       business     0   \n",
       "1010          unmarried                 4      F       business     0   \n",
       "1011  civil partnership                 1      F       employee     0   \n",
       "1012  civil partnership                 1      F  civil servant     0   \n",
       "1013            married                 0      F        retiree     0   \n",
       "1014            married                 0      F       employee     0   \n",
       "1015            married                 0      F       employee     0   \n",
       "\n",
       "      total_income                              purpose  income_type_grade  \\\n",
       "1000         10195  purchase of the house for my family                  2   \n",
       "1001         10199                    purchase of a car                  3   \n",
       "1002         10200                              housing                  6   \n",
       "1003         10200                 university education                  3   \n",
       "1004         10203             purchase of my own house                  6   \n",
       "1005         10205                purchase of the house                  3   \n",
       "1006         10205  purchase of the house for my family                  3   \n",
       "1007         10216                purchase of the house                  2   \n",
       "1008         10217             purchase of my own house                  3   \n",
       "1009         10219                 housing transactions                  2   \n",
       "1010         10224                      buy real estate                  2   \n",
       "1011         10224                    purchase of a car                  3   \n",
       "1012         10224                         to buy a car                  4   \n",
       "1013         10227         construction of own property                  6   \n",
       "1014         10228                         car purchase                  3   \n",
       "1015         10234                                  car                  3   \n",
       "\n",
       "      age_group purpose_category  \n",
       "1000          4         property  \n",
       "1001          2              car  \n",
       "1002          6         property  \n",
       "1003          2        education  \n",
       "1004          5         property  \n",
       "1005          4         property  \n",
       "1006          4         property  \n",
       "1007          3         property  \n",
       "1008          5         property  \n",
       "1009          2         property  \n",
       "1010          5         property  \n",
       "1011          3              car  \n",
       "1012          4              car  \n",
       "1013          4         property  \n",
       "1014          4              car  \n",
       "1015          3              car  "
      ]
     },
     "execution_count": 72,
     "metadata": {},
     "output_type": "execute_result"
    }
   ],
   "source": [
    "#print some middle rows to see the range of values we get there\n",
    "credit_df_sorted_incom.loc[1000:1015]"
   ]
  },
  {
   "cell_type": "code",
   "execution_count": 73,
   "metadata": {},
   "outputs": [
    {
     "data": {
      "text/html": [
       "<div>\n",
       "<style scoped>\n",
       "    .dataframe tbody tr th:only-of-type {\n",
       "        vertical-align: middle;\n",
       "    }\n",
       "\n",
       "    .dataframe tbody tr th {\n",
       "        vertical-align: top;\n",
       "    }\n",
       "\n",
       "    .dataframe thead th {\n",
       "        text-align: right;\n",
       "    }\n",
       "</style>\n",
       "<table border=\"1\" class=\"dataframe\">\n",
       "  <thead>\n",
       "    <tr style=\"text-align: right;\">\n",
       "      <th></th>\n",
       "      <th>children</th>\n",
       "      <th>days_employed</th>\n",
       "      <th>dob_years</th>\n",
       "      <th>education</th>\n",
       "      <th>education_id</th>\n",
       "      <th>family_status</th>\n",
       "      <th>family_status_id</th>\n",
       "      <th>gender</th>\n",
       "      <th>income_type</th>\n",
       "      <th>debt</th>\n",
       "      <th>total_income</th>\n",
       "      <th>purpose</th>\n",
       "      <th>income_type_grade</th>\n",
       "      <th>age_group</th>\n",
       "      <th>purpose_category</th>\n",
       "    </tr>\n",
       "  </thead>\n",
       "  <tbody>\n",
       "    <tr>\n",
       "      <th>21280</th>\n",
       "      <td>0</td>\n",
       "      <td>5734</td>\n",
       "      <td>42</td>\n",
       "      <td>bachelor's degree</td>\n",
       "      <td>0</td>\n",
       "      <td>civil partnership</td>\n",
       "      <td>1</td>\n",
       "      <td>M</td>\n",
       "      <td>business</td>\n",
       "      <td>0</td>\n",
       "      <td>273809</td>\n",
       "      <td>to have a wedding</td>\n",
       "      <td>2</td>\n",
       "      <td>4</td>\n",
       "      <td>wedding</td>\n",
       "    </tr>\n",
       "    <tr>\n",
       "      <th>21281</th>\n",
       "      <td>0</td>\n",
       "      <td>4719</td>\n",
       "      <td>61</td>\n",
       "      <td>secondary education</td>\n",
       "      <td>1</td>\n",
       "      <td>unmarried</td>\n",
       "      <td>4</td>\n",
       "      <td>F</td>\n",
       "      <td>employee</td>\n",
       "      <td>0</td>\n",
       "      <td>274402</td>\n",
       "      <td>purchase of the house for my family</td>\n",
       "      <td>3</td>\n",
       "      <td>6</td>\n",
       "      <td>property</td>\n",
       "    </tr>\n",
       "    <tr>\n",
       "      <th>21282</th>\n",
       "      <td>1</td>\n",
       "      <td>5248</td>\n",
       "      <td>35</td>\n",
       "      <td>secondary education</td>\n",
       "      <td>1</td>\n",
       "      <td>civil partnership</td>\n",
       "      <td>1</td>\n",
       "      <td>M</td>\n",
       "      <td>employee</td>\n",
       "      <td>0</td>\n",
       "      <td>276204</td>\n",
       "      <td>supplementary education</td>\n",
       "      <td>3</td>\n",
       "      <td>3</td>\n",
       "      <td>education</td>\n",
       "    </tr>\n",
       "    <tr>\n",
       "      <th>21283</th>\n",
       "      <td>1</td>\n",
       "      <td>2577</td>\n",
       "      <td>39</td>\n",
       "      <td>bachelor's degree</td>\n",
       "      <td>0</td>\n",
       "      <td>married</td>\n",
       "      <td>0</td>\n",
       "      <td>M</td>\n",
       "      <td>business</td>\n",
       "      <td>1</td>\n",
       "      <td>352136</td>\n",
       "      <td>building a property</td>\n",
       "      <td>2</td>\n",
       "      <td>3</td>\n",
       "      <td>property</td>\n",
       "    </tr>\n",
       "    <tr>\n",
       "      <th>21284</th>\n",
       "      <td>0</td>\n",
       "      <td>1477</td>\n",
       "      <td>44</td>\n",
       "      <td>bachelor's degree</td>\n",
       "      <td>0</td>\n",
       "      <td>married</td>\n",
       "      <td>0</td>\n",
       "      <td>M</td>\n",
       "      <td>business</td>\n",
       "      <td>0</td>\n",
       "      <td>362496</td>\n",
       "      <td>housing renovation</td>\n",
       "      <td>2</td>\n",
       "      <td>4</td>\n",
       "      <td>property</td>\n",
       "    </tr>\n",
       "  </tbody>\n",
       "</table>\n",
       "</div>"
      ],
      "text/plain": [
       "       children  days_employed  dob_years            education  education_id  \\\n",
       "21280         0           5734         42    bachelor's degree             0   \n",
       "21281         0           4719         61  secondary education             1   \n",
       "21282         1           5248         35  secondary education             1   \n",
       "21283         1           2577         39    bachelor's degree             0   \n",
       "21284         0           1477         44    bachelor's degree             0   \n",
       "\n",
       "           family_status  family_status_id gender income_type  debt  \\\n",
       "21280  civil partnership                 1      M    business     0   \n",
       "21281          unmarried                 4      F    employee     0   \n",
       "21282  civil partnership                 1      M    employee     0   \n",
       "21283            married                 0      M    business     1   \n",
       "21284            married                 0      M    business     0   \n",
       "\n",
       "       total_income                              purpose  income_type_grade  \\\n",
       "21280        273809                    to have a wedding                  2   \n",
       "21281        274402  purchase of the house for my family                  3   \n",
       "21282        276204              supplementary education                  3   \n",
       "21283        352136                  building a property                  2   \n",
       "21284        362496                   housing renovation                  2   \n",
       "\n",
       "       age_group purpose_category  \n",
       "21280          4          wedding  \n",
       "21281          6         property  \n",
       "21282          3        education  \n",
       "21283          3         property  \n",
       "21284          4         property  "
      ]
     },
     "execution_count": 73,
     "metadata": {},
     "output_type": "execute_result"
    }
   ],
   "source": [
    "#printing the last rows to see the highest border of the  total income\n",
    "credit_df_sorted_incom.tail()"
   ]
  },
  {
   "cell_type": "markdown",
   "metadata": {},
   "source": [
    "**getting the income values from the filltered table**\n",
    "\n",
    "let us do the same with the filltered table. what incom values do we have there?"
   ]
  },
  {
   "cell_type": "code",
   "execution_count": 74,
   "metadata": {},
   "outputs": [
    {
     "data": {
      "text/html": [
       "<div>\n",
       "<style scoped>\n",
       "    .dataframe tbody tr th:only-of-type {\n",
       "        vertical-align: middle;\n",
       "    }\n",
       "\n",
       "    .dataframe tbody tr th {\n",
       "        vertical-align: top;\n",
       "    }\n",
       "\n",
       "    .dataframe thead th {\n",
       "        text-align: right;\n",
       "    }\n",
       "</style>\n",
       "<table border=\"1\" class=\"dataframe\">\n",
       "  <thead>\n",
       "    <tr style=\"text-align: right;\">\n",
       "      <th></th>\n",
       "      <th>children</th>\n",
       "      <th>days_employed</th>\n",
       "      <th>dob_years</th>\n",
       "      <th>education</th>\n",
       "      <th>education_id</th>\n",
       "      <th>family_status</th>\n",
       "      <th>family_status_id</th>\n",
       "      <th>gender</th>\n",
       "      <th>income_type</th>\n",
       "      <th>debt</th>\n",
       "      <th>total_income</th>\n",
       "      <th>purpose</th>\n",
       "      <th>income_type_grade</th>\n",
       "      <th>age_group</th>\n",
       "    </tr>\n",
       "  </thead>\n",
       "  <tbody>\n",
       "    <tr>\n",
       "      <th>329</th>\n",
       "      <td>0</td>\n",
       "      <td>350340.760224</td>\n",
       "      <td>24</td>\n",
       "      <td>secondary education</td>\n",
       "      <td>1</td>\n",
       "      <td>married</td>\n",
       "      <td>0</td>\n",
       "      <td>F</td>\n",
       "      <td>retiree</td>\n",
       "      <td>0</td>\n",
       "      <td>10431.696</td>\n",
       "      <td>purchase of my own house</td>\n",
       "      <td>6</td>\n",
       "      <td>2</td>\n",
       "    </tr>\n",
       "    <tr>\n",
       "      <th>1578</th>\n",
       "      <td>0</td>\n",
       "      <td>798.219165</td>\n",
       "      <td>20</td>\n",
       "      <td>secondary education</td>\n",
       "      <td>1</td>\n",
       "      <td>civil partnership</td>\n",
       "      <td>1</td>\n",
       "      <td>F</td>\n",
       "      <td>employee</td>\n",
       "      <td>0</td>\n",
       "      <td>15296.589</td>\n",
       "      <td>housing</td>\n",
       "      <td>3</td>\n",
       "      <td>1</td>\n",
       "    </tr>\n",
       "    <tr>\n",
       "      <th>937</th>\n",
       "      <td>1</td>\n",
       "      <td>798.219165</td>\n",
       "      <td>20</td>\n",
       "      <td>secondary education</td>\n",
       "      <td>1</td>\n",
       "      <td>civil partnership</td>\n",
       "      <td>1</td>\n",
       "      <td>F</td>\n",
       "      <td>employee</td>\n",
       "      <td>0</td>\n",
       "      <td>15296.589</td>\n",
       "      <td>buying a second-hand car</td>\n",
       "      <td>3</td>\n",
       "      <td>1</td>\n",
       "    </tr>\n",
       "    <tr>\n",
       "      <th>1743</th>\n",
       "      <td>1</td>\n",
       "      <td>369733.465222</td>\n",
       "      <td>73</td>\n",
       "      <td>secondary education</td>\n",
       "      <td>1</td>\n",
       "      <td>married</td>\n",
       "      <td>0</td>\n",
       "      <td>F</td>\n",
       "      <td>retiree</td>\n",
       "      <td>0</td>\n",
       "      <td>17757.684</td>\n",
       "      <td>supplementary education</td>\n",
       "      <td>6</td>\n",
       "      <td>7</td>\n",
       "    </tr>\n",
       "    <tr>\n",
       "      <th>951</th>\n",
       "      <td>0</td>\n",
       "      <td>369733.465222</td>\n",
       "      <td>72</td>\n",
       "      <td>secondary education</td>\n",
       "      <td>1</td>\n",
       "      <td>unmarried</td>\n",
       "      <td>4</td>\n",
       "      <td>F</td>\n",
       "      <td>retiree</td>\n",
       "      <td>1</td>\n",
       "      <td>17757.684</td>\n",
       "      <td>car purchase</td>\n",
       "      <td>6</td>\n",
       "      <td>7</td>\n",
       "    </tr>\n",
       "  </tbody>\n",
       "</table>\n",
       "</div>"
      ],
      "text/plain": [
       "      children  days_employed  dob_years            education  education_id  \\\n",
       "329          0  350340.760224         24  secondary education             1   \n",
       "1578         0     798.219165         20  secondary education             1   \n",
       "937          1     798.219165         20  secondary education             1   \n",
       "1743         1  369733.465222         73  secondary education             1   \n",
       "951          0  369733.465222         72  secondary education             1   \n",
       "\n",
       "          family_status  family_status_id gender income_type  debt  \\\n",
       "329             married                 0      F     retiree     0   \n",
       "1578  civil partnership                 1      F    employee     0   \n",
       "937   civil partnership                 1      F    employee     0   \n",
       "1743            married                 0      F     retiree     0   \n",
       "951           unmarried                 4      F     retiree     1   \n",
       "\n",
       "      total_income                   purpose  income_type_grade  age_group  \n",
       "329      10431.696  purchase of my own house                  6          2  \n",
       "1578     15296.589                   housing                  3          1  \n",
       "937      15296.589  buying a second-hand car                  3          1  \n",
       "1743     17757.684   supplementary education                  6          7  \n",
       "951      17757.684              car purchase                  6          7  "
      ]
     },
     "execution_count": 74,
     "metadata": {},
     "output_type": "execute_result"
    }
   ],
   "source": [
    "credit_df_null_new = credit_df_null_new.reset_index(drop=True)\n",
    "credit_df_null_new.sort_values(by='total_income', ascending=True).head()"
   ]
  },
  {
   "cell_type": "code",
   "execution_count": 75,
   "metadata": {},
   "outputs": [
    {
     "data": {
      "text/html": [
       "<div>\n",
       "<style scoped>\n",
       "    .dataframe tbody tr th:only-of-type {\n",
       "        vertical-align: middle;\n",
       "    }\n",
       "\n",
       "    .dataframe tbody tr th {\n",
       "        vertical-align: top;\n",
       "    }\n",
       "\n",
       "    .dataframe thead th {\n",
       "        text-align: right;\n",
       "    }\n",
       "</style>\n",
       "<table border=\"1\" class=\"dataframe\">\n",
       "  <thead>\n",
       "    <tr style=\"text-align: right;\">\n",
       "      <th></th>\n",
       "      <th>children</th>\n",
       "      <th>days_employed</th>\n",
       "      <th>dob_years</th>\n",
       "      <th>education</th>\n",
       "      <th>education_id</th>\n",
       "      <th>family_status</th>\n",
       "      <th>family_status_id</th>\n",
       "      <th>gender</th>\n",
       "      <th>income_type</th>\n",
       "      <th>debt</th>\n",
       "      <th>total_income</th>\n",
       "      <th>purpose</th>\n",
       "      <th>income_type_grade</th>\n",
       "      <th>age_group</th>\n",
       "    </tr>\n",
       "  </thead>\n",
       "  <tbody>\n",
       "    <tr>\n",
       "      <th>1643</th>\n",
       "      <td>0</td>\n",
       "      <td>1915.961625</td>\n",
       "      <td>41</td>\n",
       "      <td>bachelor's degree</td>\n",
       "      <td>0</td>\n",
       "      <td>civil partnership</td>\n",
       "      <td>1</td>\n",
       "      <td>M</td>\n",
       "      <td>business</td>\n",
       "      <td>0</td>\n",
       "      <td>33594.343</td>\n",
       "      <td>wedding ceremony</td>\n",
       "      <td>2</td>\n",
       "      <td>4</td>\n",
       "    </tr>\n",
       "    <tr>\n",
       "      <th>1044</th>\n",
       "      <td>1</td>\n",
       "      <td>1915.961625</td>\n",
       "      <td>45</td>\n",
       "      <td>bachelor's degree</td>\n",
       "      <td>0</td>\n",
       "      <td>married</td>\n",
       "      <td>0</td>\n",
       "      <td>M</td>\n",
       "      <td>business</td>\n",
       "      <td>0</td>\n",
       "      <td>33594.343</td>\n",
       "      <td>getting higher education</td>\n",
       "      <td>2</td>\n",
       "      <td>4</td>\n",
       "    </tr>\n",
       "    <tr>\n",
       "      <th>1107</th>\n",
       "      <td>1</td>\n",
       "      <td>1915.961625</td>\n",
       "      <td>46</td>\n",
       "      <td>secondary education</td>\n",
       "      <td>1</td>\n",
       "      <td>married</td>\n",
       "      <td>0</td>\n",
       "      <td>M</td>\n",
       "      <td>business</td>\n",
       "      <td>0</td>\n",
       "      <td>33594.343</td>\n",
       "      <td>construction of own property</td>\n",
       "      <td>2</td>\n",
       "      <td>4</td>\n",
       "    </tr>\n",
       "    <tr>\n",
       "      <th>1645</th>\n",
       "      <td>0</td>\n",
       "      <td>1915.961625</td>\n",
       "      <td>49</td>\n",
       "      <td>some college</td>\n",
       "      <td>2</td>\n",
       "      <td>married</td>\n",
       "      <td>0</td>\n",
       "      <td>M</td>\n",
       "      <td>business</td>\n",
       "      <td>0</td>\n",
       "      <td>33594.343</td>\n",
       "      <td>getting an education</td>\n",
       "      <td>2</td>\n",
       "      <td>4</td>\n",
       "    </tr>\n",
       "    <tr>\n",
       "      <th>532</th>\n",
       "      <td>0</td>\n",
       "      <td>NaN</td>\n",
       "      <td>58</td>\n",
       "      <td>bachelor's degree</td>\n",
       "      <td>0</td>\n",
       "      <td>married</td>\n",
       "      <td>0</td>\n",
       "      <td>M</td>\n",
       "      <td>entrepreneur</td>\n",
       "      <td>0</td>\n",
       "      <td>NaN</td>\n",
       "      <td>buy residential real estate</td>\n",
       "      <td>1</td>\n",
       "      <td>5</td>\n",
       "    </tr>\n",
       "  </tbody>\n",
       "</table>\n",
       "</div>"
      ],
      "text/plain": [
       "      children  days_employed  dob_years            education  education_id  \\\n",
       "1643         0    1915.961625         41    bachelor's degree             0   \n",
       "1044         1    1915.961625         45    bachelor's degree             0   \n",
       "1107         1    1915.961625         46  secondary education             1   \n",
       "1645         0    1915.961625         49         some college             2   \n",
       "532          0            NaN         58    bachelor's degree             0   \n",
       "\n",
       "          family_status  family_status_id gender   income_type  debt  \\\n",
       "1643  civil partnership                 1      M      business     0   \n",
       "1044            married                 0      M      business     0   \n",
       "1107            married                 0      M      business     0   \n",
       "1645            married                 0      M      business     0   \n",
       "532             married                 0      M  entrepreneur     0   \n",
       "\n",
       "      total_income                       purpose  income_type_grade  age_group  \n",
       "1643     33594.343              wedding ceremony                  2          4  \n",
       "1044     33594.343      getting higher education                  2          4  \n",
       "1107     33594.343  construction of own property                  2          4  \n",
       "1645     33594.343          getting an education                  2          4  \n",
       "532            NaN   buy residential real estate                  1          5  "
      ]
     },
     "execution_count": 75,
     "metadata": {},
     "output_type": "execute_result"
    }
   ],
   "source": [
    "credit_df_null_new.sort_values(by='total_income', ascending=True).tail()"
   ]
  },
  {
   "cell_type": "markdown",
   "metadata": {},
   "source": [
    "**Categorizing the total_income values**\n",
    "\n",
    "By categorizing the total_income column , we can make groups that are  enabling investigation by income ratings , that gives us a good assesment on the customer income status.\n",
    "we will categorize to 10 catecorizations:\n",
    "\n",
    "1 : 3000 - 15000\n",
    "\n",
    "2 : 15000 - 30000\n",
    "\n",
    "3 : 30000 - 45000\n",
    "\n",
    "4 : 45000 - 80000\n",
    "\n",
    "5 : 80000 - 150000\n",
    "\n",
    "6 : 150000 - 250000\n",
    "\n",
    "7 : 250000+\n",
    "\n",
    "this ia an arbituary divission basd on the borders of the total_income column in the filltered table."
   ]
  },
  {
   "cell_type": "code",
   "execution_count": 76,
   "metadata": {},
   "outputs": [
    {
     "data": {
      "text/html": [
       "<div>\n",
       "<style scoped>\n",
       "    .dataframe tbody tr th:only-of-type {\n",
       "        vertical-align: middle;\n",
       "    }\n",
       "\n",
       "    .dataframe tbody tr th {\n",
       "        vertical-align: top;\n",
       "    }\n",
       "\n",
       "    .dataframe thead th {\n",
       "        text-align: right;\n",
       "    }\n",
       "</style>\n",
       "<table border=\"1\" class=\"dataframe\">\n",
       "  <thead>\n",
       "    <tr style=\"text-align: right;\">\n",
       "      <th></th>\n",
       "      <th>children</th>\n",
       "      <th>days_employed</th>\n",
       "      <th>dob_years</th>\n",
       "      <th>education</th>\n",
       "      <th>education_id</th>\n",
       "      <th>family_status</th>\n",
       "      <th>family_status_id</th>\n",
       "      <th>gender</th>\n",
       "      <th>income_type</th>\n",
       "      <th>debt</th>\n",
       "      <th>total_income</th>\n",
       "      <th>purpose</th>\n",
       "      <th>income_type_grade</th>\n",
       "      <th>age_group</th>\n",
       "      <th>purpose_category</th>\n",
       "      <th>income_category</th>\n",
       "    </tr>\n",
       "  </thead>\n",
       "  <tbody>\n",
       "    <tr>\n",
       "      <th>0</th>\n",
       "      <td>1</td>\n",
       "      <td>8437</td>\n",
       "      <td>42</td>\n",
       "      <td>bachelor's degree</td>\n",
       "      <td>0</td>\n",
       "      <td>married</td>\n",
       "      <td>0</td>\n",
       "      <td>F</td>\n",
       "      <td>employee</td>\n",
       "      <td>0</td>\n",
       "      <td>40620</td>\n",
       "      <td>purchase of the house</td>\n",
       "      <td>3</td>\n",
       "      <td>4</td>\n",
       "      <td>property</td>\n",
       "      <td>3</td>\n",
       "    </tr>\n",
       "    <tr>\n",
       "      <th>1</th>\n",
       "      <td>1</td>\n",
       "      <td>4024</td>\n",
       "      <td>36</td>\n",
       "      <td>secondary education</td>\n",
       "      <td>1</td>\n",
       "      <td>married</td>\n",
       "      <td>0</td>\n",
       "      <td>F</td>\n",
       "      <td>employee</td>\n",
       "      <td>0</td>\n",
       "      <td>17932</td>\n",
       "      <td>car purchase</td>\n",
       "      <td>3</td>\n",
       "      <td>3</td>\n",
       "      <td>car</td>\n",
       "      <td>2</td>\n",
       "    </tr>\n",
       "    <tr>\n",
       "      <th>2</th>\n",
       "      <td>0</td>\n",
       "      <td>5623</td>\n",
       "      <td>33</td>\n",
       "      <td>secondary education</td>\n",
       "      <td>1</td>\n",
       "      <td>married</td>\n",
       "      <td>0</td>\n",
       "      <td>M</td>\n",
       "      <td>employee</td>\n",
       "      <td>0</td>\n",
       "      <td>23341</td>\n",
       "      <td>purchase of the house</td>\n",
       "      <td>3</td>\n",
       "      <td>3</td>\n",
       "      <td>property</td>\n",
       "      <td>2</td>\n",
       "    </tr>\n",
       "    <tr>\n",
       "      <th>3</th>\n",
       "      <td>3</td>\n",
       "      <td>4124</td>\n",
       "      <td>32</td>\n",
       "      <td>secondary education</td>\n",
       "      <td>1</td>\n",
       "      <td>married</td>\n",
       "      <td>0</td>\n",
       "      <td>M</td>\n",
       "      <td>employee</td>\n",
       "      <td>0</td>\n",
       "      <td>42820</td>\n",
       "      <td>supplementary education</td>\n",
       "      <td>3</td>\n",
       "      <td>3</td>\n",
       "      <td>education</td>\n",
       "      <td>3</td>\n",
       "    </tr>\n",
       "    <tr>\n",
       "      <th>4</th>\n",
       "      <td>0</td>\n",
       "      <td>340266</td>\n",
       "      <td>53</td>\n",
       "      <td>secondary education</td>\n",
       "      <td>1</td>\n",
       "      <td>civil partnership</td>\n",
       "      <td>1</td>\n",
       "      <td>F</td>\n",
       "      <td>retiree</td>\n",
       "      <td>0</td>\n",
       "      <td>25378</td>\n",
       "      <td>to have a wedding</td>\n",
       "      <td>6</td>\n",
       "      <td>5</td>\n",
       "      <td>wedding</td>\n",
       "      <td>2</td>\n",
       "    </tr>\n",
       "    <tr>\n",
       "      <th>5</th>\n",
       "      <td>0</td>\n",
       "      <td>926</td>\n",
       "      <td>27</td>\n",
       "      <td>bachelor's degree</td>\n",
       "      <td>0</td>\n",
       "      <td>civil partnership</td>\n",
       "      <td>1</td>\n",
       "      <td>M</td>\n",
       "      <td>business</td>\n",
       "      <td>0</td>\n",
       "      <td>40922</td>\n",
       "      <td>purchase of the house</td>\n",
       "      <td>2</td>\n",
       "      <td>2</td>\n",
       "      <td>property</td>\n",
       "      <td>3</td>\n",
       "    </tr>\n",
       "    <tr>\n",
       "      <th>6</th>\n",
       "      <td>0</td>\n",
       "      <td>2879</td>\n",
       "      <td>43</td>\n",
       "      <td>bachelor's degree</td>\n",
       "      <td>0</td>\n",
       "      <td>married</td>\n",
       "      <td>0</td>\n",
       "      <td>F</td>\n",
       "      <td>business</td>\n",
       "      <td>0</td>\n",
       "      <td>38484</td>\n",
       "      <td>housing transactions</td>\n",
       "      <td>2</td>\n",
       "      <td>4</td>\n",
       "      <td>property</td>\n",
       "      <td>3</td>\n",
       "    </tr>\n",
       "    <tr>\n",
       "      <th>7</th>\n",
       "      <td>0</td>\n",
       "      <td>152</td>\n",
       "      <td>50</td>\n",
       "      <td>secondary education</td>\n",
       "      <td>1</td>\n",
       "      <td>married</td>\n",
       "      <td>0</td>\n",
       "      <td>M</td>\n",
       "      <td>employee</td>\n",
       "      <td>0</td>\n",
       "      <td>21731</td>\n",
       "      <td>education</td>\n",
       "      <td>3</td>\n",
       "      <td>4</td>\n",
       "      <td>education</td>\n",
       "      <td>2</td>\n",
       "    </tr>\n",
       "    <tr>\n",
       "      <th>8</th>\n",
       "      <td>2</td>\n",
       "      <td>6929</td>\n",
       "      <td>35</td>\n",
       "      <td>bachelor's degree</td>\n",
       "      <td>0</td>\n",
       "      <td>civil partnership</td>\n",
       "      <td>1</td>\n",
       "      <td>F</td>\n",
       "      <td>employee</td>\n",
       "      <td>0</td>\n",
       "      <td>15337</td>\n",
       "      <td>having a wedding</td>\n",
       "      <td>3</td>\n",
       "      <td>3</td>\n",
       "      <td>wedding</td>\n",
       "      <td>2</td>\n",
       "    </tr>\n",
       "    <tr>\n",
       "      <th>9</th>\n",
       "      <td>0</td>\n",
       "      <td>2188</td>\n",
       "      <td>41</td>\n",
       "      <td>secondary education</td>\n",
       "      <td>1</td>\n",
       "      <td>married</td>\n",
       "      <td>0</td>\n",
       "      <td>M</td>\n",
       "      <td>employee</td>\n",
       "      <td>0</td>\n",
       "      <td>23108</td>\n",
       "      <td>purchase of the house for my family</td>\n",
       "      <td>3</td>\n",
       "      <td>4</td>\n",
       "      <td>property</td>\n",
       "      <td>2</td>\n",
       "    </tr>\n",
       "    <tr>\n",
       "      <th>10</th>\n",
       "      <td>2</td>\n",
       "      <td>4171</td>\n",
       "      <td>36</td>\n",
       "      <td>bachelor's degree</td>\n",
       "      <td>0</td>\n",
       "      <td>married</td>\n",
       "      <td>0</td>\n",
       "      <td>M</td>\n",
       "      <td>business</td>\n",
       "      <td>0</td>\n",
       "      <td>18230</td>\n",
       "      <td>buy real estate</td>\n",
       "      <td>2</td>\n",
       "      <td>3</td>\n",
       "      <td>property</td>\n",
       "      <td>2</td>\n",
       "    </tr>\n",
       "    <tr>\n",
       "      <th>11</th>\n",
       "      <td>0</td>\n",
       "      <td>792</td>\n",
       "      <td>40</td>\n",
       "      <td>secondary education</td>\n",
       "      <td>1</td>\n",
       "      <td>married</td>\n",
       "      <td>0</td>\n",
       "      <td>F</td>\n",
       "      <td>employee</td>\n",
       "      <td>0</td>\n",
       "      <td>12331</td>\n",
       "      <td>buy commercial real estate</td>\n",
       "      <td>3</td>\n",
       "      <td>3</td>\n",
       "      <td>property</td>\n",
       "      <td>1</td>\n",
       "    </tr>\n",
       "    <tr>\n",
       "      <th>12</th>\n",
       "      <td>0</td>\n",
       "      <td>362685</td>\n",
       "      <td>65</td>\n",
       "      <td>secondary education</td>\n",
       "      <td>1</td>\n",
       "      <td>civil partnership</td>\n",
       "      <td>1</td>\n",
       "      <td>M</td>\n",
       "      <td>retiree</td>\n",
       "      <td>0</td>\n",
       "      <td>19078</td>\n",
       "      <td>to have a wedding</td>\n",
       "      <td>6</td>\n",
       "      <td>6</td>\n",
       "      <td>wedding</td>\n",
       "      <td>2</td>\n",
       "    </tr>\n",
       "    <tr>\n",
       "      <th>13</th>\n",
       "      <td>0</td>\n",
       "      <td>1846</td>\n",
       "      <td>54</td>\n",
       "      <td>some college</td>\n",
       "      <td>2</td>\n",
       "      <td>married</td>\n",
       "      <td>0</td>\n",
       "      <td>F</td>\n",
       "      <td>employee</td>\n",
       "      <td>0</td>\n",
       "      <td>20873</td>\n",
       "      <td>car purchase</td>\n",
       "      <td>3</td>\n",
       "      <td>5</td>\n",
       "      <td>car</td>\n",
       "      <td>2</td>\n",
       "    </tr>\n",
       "    <tr>\n",
       "      <th>14</th>\n",
       "      <td>0</td>\n",
       "      <td>1844</td>\n",
       "      <td>56</td>\n",
       "      <td>bachelor's degree</td>\n",
       "      <td>0</td>\n",
       "      <td>civil partnership</td>\n",
       "      <td>1</td>\n",
       "      <td>F</td>\n",
       "      <td>business</td>\n",
       "      <td>1</td>\n",
       "      <td>26420</td>\n",
       "      <td>buy residential real estate</td>\n",
       "      <td>2</td>\n",
       "      <td>5</td>\n",
       "      <td>property</td>\n",
       "      <td>2</td>\n",
       "    </tr>\n",
       "  </tbody>\n",
       "</table>\n",
       "</div>"
      ],
      "text/plain": [
       "    children  days_employed  dob_years            education  education_id  \\\n",
       "0          1           8437         42    bachelor's degree             0   \n",
       "1          1           4024         36  secondary education             1   \n",
       "2          0           5623         33  secondary education             1   \n",
       "3          3           4124         32  secondary education             1   \n",
       "4          0         340266         53  secondary education             1   \n",
       "5          0            926         27    bachelor's degree             0   \n",
       "6          0           2879         43    bachelor's degree             0   \n",
       "7          0            152         50  secondary education             1   \n",
       "8          2           6929         35    bachelor's degree             0   \n",
       "9          0           2188         41  secondary education             1   \n",
       "10         2           4171         36    bachelor's degree             0   \n",
       "11         0            792         40  secondary education             1   \n",
       "12         0         362685         65  secondary education             1   \n",
       "13         0           1846         54         some college             2   \n",
       "14         0           1844         56    bachelor's degree             0   \n",
       "\n",
       "        family_status  family_status_id gender income_type  debt  \\\n",
       "0             married                 0      F    employee     0   \n",
       "1             married                 0      F    employee     0   \n",
       "2             married                 0      M    employee     0   \n",
       "3             married                 0      M    employee     0   \n",
       "4   civil partnership                 1      F     retiree     0   \n",
       "5   civil partnership                 1      M    business     0   \n",
       "6             married                 0      F    business     0   \n",
       "7             married                 0      M    employee     0   \n",
       "8   civil partnership                 1      F    employee     0   \n",
       "9             married                 0      M    employee     0   \n",
       "10            married                 0      M    business     0   \n",
       "11            married                 0      F    employee     0   \n",
       "12  civil partnership                 1      M     retiree     0   \n",
       "13            married                 0      F    employee     0   \n",
       "14  civil partnership                 1      F    business     1   \n",
       "\n",
       "    total_income                              purpose  income_type_grade  \\\n",
       "0          40620                purchase of the house                  3   \n",
       "1          17932                         car purchase                  3   \n",
       "2          23341                purchase of the house                  3   \n",
       "3          42820              supplementary education                  3   \n",
       "4          25378                    to have a wedding                  6   \n",
       "5          40922                purchase of the house                  2   \n",
       "6          38484                 housing transactions                  2   \n",
       "7          21731                            education                  3   \n",
       "8          15337                     having a wedding                  3   \n",
       "9          23108  purchase of the house for my family                  3   \n",
       "10         18230                      buy real estate                  2   \n",
       "11         12331           buy commercial real estate                  3   \n",
       "12         19078                    to have a wedding                  6   \n",
       "13         20873                         car purchase                  3   \n",
       "14         26420          buy residential real estate                  2   \n",
       "\n",
       "    age_group purpose_category  income_category  \n",
       "0           4         property                3  \n",
       "1           3              car                2  \n",
       "2           3         property                2  \n",
       "3           3        education                3  \n",
       "4           5          wedding                2  \n",
       "5           2         property                3  \n",
       "6           4         property                3  \n",
       "7           4        education                2  \n",
       "8           3          wedding                2  \n",
       "9           4         property                2  \n",
       "10          3         property                2  \n",
       "11          3         property                1  \n",
       "12          6          wedding                2  \n",
       "13          5              car                2  \n",
       "14          5         property                2  "
      ]
     },
     "execution_count": 76,
     "metadata": {},
     "output_type": "execute_result"
    }
   ],
   "source": [
    "#creatin a categirizin function\n",
    "\n",
    "def get_income_category(row):\n",
    "    \n",
    "    income = row['total_income']\n",
    "    \n",
    "    \n",
    "    if income >=3000 and income <15000:\n",
    "        return 1\n",
    "    elif income >=15000 and income <30000:\n",
    "        return 2\n",
    "    elif income >=30000 and income <45000:\n",
    "        return 3\n",
    "    elif income >=45000 and income <80000:\n",
    "        return 4\n",
    "    elif income >=80000 and income <150000:\n",
    "        return 5\n",
    "    elif income >=150000 and income <250000:\n",
    "        return 6\n",
    "    elif income >=250000:\n",
    "        return 7\n",
    "    \n",
    "# apply the function to the 'total_income' column creating a nre category column\n",
    "credit_df['income_category'] = credit_df.apply( get_income_category , axis =1 )\n",
    "\n",
    "#printing the firs 15 rows \n",
    "credit_df.head(15)\n",
    "\n"
   ]
  },
  {
   "cell_type": "markdown",
   "metadata": {},
   "source": [
    "**We  can now check the next hypotheses**\n",
    "\n",
    "**Does the puprpose of the loan effects its default**\n",
    "\n",
    "we will check it with cobining the income category we made."
   ]
  },
  {
   "cell_type": "code",
   "execution_count": 77,
   "metadata": {},
   "outputs": [
    {
     "data": {
      "text/html": [
       "<div>\n",
       "<style scoped>\n",
       "    .dataframe tbody tr th:only-of-type {\n",
       "        vertical-align: middle;\n",
       "    }\n",
       "\n",
       "    .dataframe tbody tr th {\n",
       "        vertical-align: top;\n",
       "    }\n",
       "\n",
       "    .dataframe thead th {\n",
       "        text-align: right;\n",
       "    }\n",
       "</style>\n",
       "<table border=\"1\" class=\"dataframe\">\n",
       "  <thead>\n",
       "    <tr style=\"text-align: right;\">\n",
       "      <th></th>\n",
       "      <th>purpose_category</th>\n",
       "      <th>debt</th>\n",
       "    </tr>\n",
       "  </thead>\n",
       "  <tbody>\n",
       "    <tr>\n",
       "      <th>0</th>\n",
       "      <td>property</td>\n",
       "      <td>1</td>\n",
       "    </tr>\n",
       "    <tr>\n",
       "      <th>1</th>\n",
       "      <td>wedding</td>\n",
       "      <td>1</td>\n",
       "    </tr>\n",
       "    <tr>\n",
       "      <th>2</th>\n",
       "      <td>education</td>\n",
       "      <td>1</td>\n",
       "    </tr>\n",
       "    <tr>\n",
       "      <th>3</th>\n",
       "      <td>wedding</td>\n",
       "      <td>1</td>\n",
       "    </tr>\n",
       "    <tr>\n",
       "      <th>4</th>\n",
       "      <td>property</td>\n",
       "      <td>1</td>\n",
       "    </tr>\n",
       "    <tr>\n",
       "      <th>5</th>\n",
       "      <td>car</td>\n",
       "      <td>1</td>\n",
       "    </tr>\n",
       "    <tr>\n",
       "      <th>6</th>\n",
       "      <td>property</td>\n",
       "      <td>1</td>\n",
       "    </tr>\n",
       "    <tr>\n",
       "      <th>7</th>\n",
       "      <td>property</td>\n",
       "      <td>1</td>\n",
       "    </tr>\n",
       "    <tr>\n",
       "      <th>8</th>\n",
       "      <td>property</td>\n",
       "      <td>1</td>\n",
       "    </tr>\n",
       "    <tr>\n",
       "      <th>9</th>\n",
       "      <td>property</td>\n",
       "      <td>1</td>\n",
       "    </tr>\n",
       "    <tr>\n",
       "      <th>10</th>\n",
       "      <td>property</td>\n",
       "      <td>1</td>\n",
       "    </tr>\n",
       "    <tr>\n",
       "      <th>11</th>\n",
       "      <td>car</td>\n",
       "      <td>1</td>\n",
       "    </tr>\n",
       "    <tr>\n",
       "      <th>12</th>\n",
       "      <td>car</td>\n",
       "      <td>1</td>\n",
       "    </tr>\n",
       "    <tr>\n",
       "      <th>13</th>\n",
       "      <td>property</td>\n",
       "      <td>1</td>\n",
       "    </tr>\n",
       "    <tr>\n",
       "      <th>14</th>\n",
       "      <td>education</td>\n",
       "      <td>1</td>\n",
       "    </tr>\n",
       "  </tbody>\n",
       "</table>\n",
       "</div>"
      ],
      "text/plain": [
       "   purpose_category  debt\n",
       "0          property     1\n",
       "1           wedding     1\n",
       "2         education     1\n",
       "3           wedding     1\n",
       "4          property     1\n",
       "5               car     1\n",
       "6          property     1\n",
       "7          property     1\n",
       "8          property     1\n",
       "9          property     1\n",
       "10         property     1\n",
       "11              car     1\n",
       "12              car     1\n",
       "13         property     1\n",
       "14        education     1"
      ]
     },
     "execution_count": 77,
     "metadata": {},
     "output_type": "execute_result"
    }
   ],
   "source": [
    "#creating a table with the columns we wanted\n",
    "credit_df_income_purpose = credit_df[['purpose_category','debt']]\n",
    "\n",
    "#creating a filltered table from credit_df_children_marital_status_filltered table \n",
    "#containing only the customeres that have debt\n",
    "\n",
    "credit_df_income_purpose_filltered = credit_df_income_purpose.loc[(credit_df_children_marital_status['debt'] == 1)]\n",
    "\n",
    "#reseting the indexes\n",
    "\n",
    "credit_df_income_purpose_filltered = credit_df_income_purpose_filltered.reset_index(drop=True)\n",
    "\n",
    "#print the first 15 rows of the filltered table\n",
    "\n",
    "credit_df_income_purpose_filltered.head(15)"
   ]
  },
  {
   "cell_type": "code",
   "execution_count": 78,
   "metadata": {},
   "outputs": [
    {
     "data": {
      "text/html": [
       "<div>\n",
       "<style scoped>\n",
       "    .dataframe tbody tr th:only-of-type {\n",
       "        vertical-align: middle;\n",
       "    }\n",
       "\n",
       "    .dataframe tbody tr th {\n",
       "        vertical-align: top;\n",
       "    }\n",
       "\n",
       "    .dataframe thead th {\n",
       "        text-align: right;\n",
       "    }\n",
       "</style>\n",
       "<table border=\"1\" class=\"dataframe\">\n",
       "  <thead>\n",
       "    <tr style=\"text-align: right;\">\n",
       "      <th></th>\n",
       "      <th>Count_debt</th>\n",
       "      <th>rate_of_debt_debt</th>\n",
       "      <th>Count_general</th>\n",
       "      <th>rate_of_debt_general</th>\n",
       "    </tr>\n",
       "    <tr>\n",
       "      <th>purpose_category</th>\n",
       "      <th></th>\n",
       "      <th></th>\n",
       "      <th></th>\n",
       "      <th></th>\n",
       "    </tr>\n",
       "  </thead>\n",
       "  <tbody>\n",
       "    <tr>\n",
       "      <th>car</th>\n",
       "      <td>400</td>\n",
       "      <td>23.081362</td>\n",
       "      <td>4275</td>\n",
       "      <td>20.084567</td>\n",
       "    </tr>\n",
       "    <tr>\n",
       "      <th>education</th>\n",
       "      <td>370</td>\n",
       "      <td>21.350260</td>\n",
       "      <td>3986</td>\n",
       "      <td>18.726803</td>\n",
       "    </tr>\n",
       "    <tr>\n",
       "      <th>property</th>\n",
       "      <td>779</td>\n",
       "      <td>44.950952</td>\n",
       "      <td>10735</td>\n",
       "      <td>50.434578</td>\n",
       "    </tr>\n",
       "    <tr>\n",
       "      <th>wedding</th>\n",
       "      <td>184</td>\n",
       "      <td>10.617426</td>\n",
       "      <td>2289</td>\n",
       "      <td>10.754052</td>\n",
       "    </tr>\n",
       "  </tbody>\n",
       "</table>\n",
       "</div>"
      ],
      "text/plain": [
       "                  Count_debt  rate_of_debt_debt  Count_general  \\\n",
       "purpose_category                                                 \n",
       "car                      400          23.081362           4275   \n",
       "education                370          21.350260           3986   \n",
       "property                 779          44.950952          10735   \n",
       "wedding                  184          10.617426           2289   \n",
       "\n",
       "                  rate_of_debt_general  \n",
       "purpose_category                        \n",
       "car                          20.084567  \n",
       "education                    18.726803  \n",
       "property                     50.434578  \n",
       "wedding                      10.754052  "
      ]
     },
     "execution_count": 78,
     "metadata": {},
     "output_type": "execute_result"
    }
   ],
   "source": [
    "#Grouping the data of the purpose where there is debt. \n",
    "#and count of records\n",
    "credit_df_filltered = credit_df.loc[credit_df['debt'] == 1]\n",
    "\n",
    "credit_df_income_purpose_filltered_grouped  = credit_df_filltered.groupby(['purpose_category'])['debt'].agg(Count='count')\n",
    "\n",
    "#adding  a new rate column - the percent of values from the whole data.\n",
    "\n",
    "credit_df_income_purpose_filltered_grouped['rate_of_debt'] = credit_df_income_purpose_filltered_grouped['Count'] / len(credit_df_income_purpose_filltered) * 100\n",
    "\n",
    "#making a new table for the general data of these columns\n",
    "\n",
    "credit_df_income_purpose_general_grouped  = credit_df_income_purpose.groupby(['purpose_category'])['debt'].agg(Count='count')\n",
    "\n",
    "#calculatin the rate of the general data of these criteria.\n",
    "credit_df_income_purpose_general_grouped['rate_of_debt'] = credit_df_income_purpose_general_grouped['Count'] / len(credit_df) * 100\n",
    "\n",
    "#Join the resaults to figure out if the hypotheses is correct.\n",
    "credit_df_income_purpose_joined = credit_df_income_purpose_filltered_grouped.join(credit_df_income_purpose_general_grouped, lsuffix='_debt', rsuffix='_general')\n",
    "\n",
    "#print the resault\n",
    "credit_df_income_purpose_joined\n",
    "\n"
   ]
  },
  {
   "cell_type": "markdown",
   "metadata": {},
   "source": [
    "**Intermediate Conclusion**\n",
    "\n",
    "we have a stagaring number of 50% of the customers who applied for a loan to buy a hous/ renovate one/ invest in a property , are in debt. This is a very high rate for the default of a loan.But when we look at the numbers of loan, we see that it is only in a rate of 7% approx.\n",
    "\n",
    "further investigation is needed."
   ]
  },
  {
   "cell_type": "code",
   "execution_count": 80,
   "metadata": {
    "scrolled": true
   },
   "outputs": [
    {
     "data": {
      "text/html": [
       "<div>\n",
       "<style scoped>\n",
       "    .dataframe tbody tr th:only-of-type {\n",
       "        vertical-align: middle;\n",
       "    }\n",
       "\n",
       "    .dataframe tbody tr th {\n",
       "        vertical-align: top;\n",
       "    }\n",
       "\n",
       "    .dataframe thead th {\n",
       "        text-align: right;\n",
       "    }\n",
       "</style>\n",
       "<table border=\"1\" class=\"dataframe\">\n",
       "  <thead>\n",
       "    <tr style=\"text-align: right;\">\n",
       "      <th></th>\n",
       "      <th>Count</th>\n",
       "      <th>Sum</th>\n",
       "      <th>Mean</th>\n",
       "    </tr>\n",
       "    <tr>\n",
       "      <th>purpose_category</th>\n",
       "      <th></th>\n",
       "      <th></th>\n",
       "      <th></th>\n",
       "    </tr>\n",
       "  </thead>\n",
       "  <tbody>\n",
       "    <tr>\n",
       "      <th>car</th>\n",
       "      <td>4275</td>\n",
       "      <td>400</td>\n",
       "      <td>0.093567</td>\n",
       "    </tr>\n",
       "    <tr>\n",
       "      <th>education</th>\n",
       "      <td>3986</td>\n",
       "      <td>370</td>\n",
       "      <td>0.092825</td>\n",
       "    </tr>\n",
       "    <tr>\n",
       "      <th>property</th>\n",
       "      <td>10735</td>\n",
       "      <td>779</td>\n",
       "      <td>0.072566</td>\n",
       "    </tr>\n",
       "    <tr>\n",
       "      <th>wedding</th>\n",
       "      <td>2289</td>\n",
       "      <td>184</td>\n",
       "      <td>0.080384</td>\n",
       "    </tr>\n",
       "  </tbody>\n",
       "</table>\n",
       "</div>"
      ],
      "text/plain": [
       "                  Count  Sum      Mean\n",
       "purpose_category                      \n",
       "car                4275  400  0.093567\n",
       "education          3986  370  0.092825\n",
       "property          10735  779  0.072566\n",
       "wedding            2289  184  0.080384"
      ]
     },
     "execution_count": 80,
     "metadata": {},
     "output_type": "execute_result"
    }
   ],
   "source": [
    "#checking the purpose category\n",
    "credit_df.groupby('purpose_category')['debt'].agg(Count='count', Sum='sum', Mean = 'mean')"
   ]
  },
  {
   "cell_type": "markdown",
   "metadata": {},
   "source": [
    "    **The most percent of people that have debt are the one from the car purchases and second are the education loans.**"
   ]
  },
  {
   "cell_type": "code",
   "execution_count": 81,
   "metadata": {
    "scrolled": true
   },
   "outputs": [
    {
     "data": {
      "text/html": [
       "<div>\n",
       "<style scoped>\n",
       "    .dataframe tbody tr th:only-of-type {\n",
       "        vertical-align: middle;\n",
       "    }\n",
       "\n",
       "    .dataframe tbody tr th {\n",
       "        vertical-align: top;\n",
       "    }\n",
       "\n",
       "    .dataframe thead th {\n",
       "        text-align: right;\n",
       "    }\n",
       "</style>\n",
       "<table border=\"1\" class=\"dataframe\">\n",
       "  <thead>\n",
       "    <tr style=\"text-align: right;\">\n",
       "      <th></th>\n",
       "      <th>Count</th>\n",
       "      <th>Sum</th>\n",
       "      <th>Mean</th>\n",
       "    </tr>\n",
       "    <tr>\n",
       "      <th>age_group</th>\n",
       "      <th></th>\n",
       "      <th></th>\n",
       "      <th></th>\n",
       "    </tr>\n",
       "  </thead>\n",
       "  <tbody>\n",
       "    <tr>\n",
       "      <th>1</th>\n",
       "      <td>65</td>\n",
       "      <td>5</td>\n",
       "      <td>0.076923</td>\n",
       "    </tr>\n",
       "    <tr>\n",
       "      <th>2</th>\n",
       "      <td>3645</td>\n",
       "      <td>398</td>\n",
       "      <td>0.109191</td>\n",
       "    </tr>\n",
       "    <tr>\n",
       "      <th>3</th>\n",
       "      <td>5721</td>\n",
       "      <td>546</td>\n",
       "      <td>0.095438</td>\n",
       "    </tr>\n",
       "    <tr>\n",
       "      <th>4</th>\n",
       "      <td>5245</td>\n",
       "      <td>403</td>\n",
       "      <td>0.076835</td>\n",
       "    </tr>\n",
       "    <tr>\n",
       "      <th>5</th>\n",
       "      <td>4495</td>\n",
       "      <td>280</td>\n",
       "      <td>0.062291</td>\n",
       "    </tr>\n",
       "    <tr>\n",
       "      <th>6</th>\n",
       "      <td>2011</td>\n",
       "      <td>98</td>\n",
       "      <td>0.048732</td>\n",
       "    </tr>\n",
       "    <tr>\n",
       "      <th>7</th>\n",
       "      <td>103</td>\n",
       "      <td>3</td>\n",
       "      <td>0.029126</td>\n",
       "    </tr>\n",
       "  </tbody>\n",
       "</table>\n",
       "</div>"
      ],
      "text/plain": [
       "           Count  Sum      Mean\n",
       "age_group                      \n",
       "1             65    5  0.076923\n",
       "2           3645  398  0.109191\n",
       "3           5721  546  0.095438\n",
       "4           5245  403  0.076835\n",
       "5           4495  280  0.062291\n",
       "6           2011   98  0.048732\n",
       "7            103    3  0.029126"
      ]
     },
     "execution_count": 81,
     "metadata": {},
     "output_type": "execute_result"
    }
   ],
   "source": [
    "#checking the age category\n",
    "credit_df.groupby('age_group')['debt'].agg(Count='count', Sum='sum', Mean = 'mean')"
   ]
  },
  {
   "cell_type": "markdown",
   "metadata": {},
   "source": [
    "    **The most percent of people that have debt are the ones who are in age group 2 - 20-30 yo.\n",
    "    behind them in a very close proximity is the 30-40 age group.**"
   ]
  },
  {
   "cell_type": "code",
   "execution_count": 82,
   "metadata": {},
   "outputs": [
    {
     "data": {
      "text/html": [
       "<div>\n",
       "<style scoped>\n",
       "    .dataframe tbody tr th:only-of-type {\n",
       "        vertical-align: middle;\n",
       "    }\n",
       "\n",
       "    .dataframe tbody tr th {\n",
       "        vertical-align: top;\n",
       "    }\n",
       "\n",
       "    .dataframe thead th {\n",
       "        text-align: right;\n",
       "    }\n",
       "</style>\n",
       "<table border=\"1\" class=\"dataframe\">\n",
       "  <thead>\n",
       "    <tr style=\"text-align: right;\">\n",
       "      <th></th>\n",
       "      <th>Count</th>\n",
       "      <th>Sum</th>\n",
       "      <th>Mean</th>\n",
       "    </tr>\n",
       "    <tr>\n",
       "      <th>gender</th>\n",
       "      <th></th>\n",
       "      <th></th>\n",
       "      <th></th>\n",
       "    </tr>\n",
       "  </thead>\n",
       "  <tbody>\n",
       "    <tr>\n",
       "      <th>F</th>\n",
       "      <td>14044</td>\n",
       "      <td>989</td>\n",
       "      <td>0.070422</td>\n",
       "    </tr>\n",
       "    <tr>\n",
       "      <th>M</th>\n",
       "      <td>7241</td>\n",
       "      <td>744</td>\n",
       "      <td>0.102748</td>\n",
       "    </tr>\n",
       "  </tbody>\n",
       "</table>\n",
       "</div>"
      ],
      "text/plain": [
       "        Count  Sum      Mean\n",
       "gender                      \n",
       "F       14044  989  0.070422\n",
       "M        7241  744  0.102748"
      ]
     },
     "execution_count": 82,
     "metadata": {},
     "output_type": "execute_result"
    }
   ],
   "source": [
    "#checking the age category\n",
    "credit_df.groupby('gender')['debt'].agg(Count='count', Sum='sum', Mean = 'mean')"
   ]
  },
  {
   "cell_type": "markdown",
   "metadata": {},
   "source": [
    "    **The most percent of people that have debt are the ones who are male group **"
   ]
  },
  {
   "cell_type": "code",
   "execution_count": 83,
   "metadata": {},
   "outputs": [
    {
     "data": {
      "text/html": [
       "<div>\n",
       "<style scoped>\n",
       "    .dataframe tbody tr th:only-of-type {\n",
       "        vertical-align: middle;\n",
       "    }\n",
       "\n",
       "    .dataframe tbody tr th {\n",
       "        vertical-align: top;\n",
       "    }\n",
       "\n",
       "    .dataframe thead th {\n",
       "        text-align: right;\n",
       "    }\n",
       "</style>\n",
       "<table border=\"1\" class=\"dataframe\">\n",
       "  <thead>\n",
       "    <tr style=\"text-align: right;\">\n",
       "      <th></th>\n",
       "      <th>Count</th>\n",
       "      <th>Sum</th>\n",
       "      <th>Mean</th>\n",
       "    </tr>\n",
       "    <tr>\n",
       "      <th>income_category</th>\n",
       "      <th></th>\n",
       "      <th></th>\n",
       "      <th></th>\n",
       "    </tr>\n",
       "  </thead>\n",
       "  <tbody>\n",
       "    <tr>\n",
       "      <th>1</th>\n",
       "      <td>3724</td>\n",
       "      <td>297</td>\n",
       "      <td>0.079753</td>\n",
       "    </tr>\n",
       "    <tr>\n",
       "      <th>2</th>\n",
       "      <td>11521</td>\n",
       "      <td>990</td>\n",
       "      <td>0.085930</td>\n",
       "    </tr>\n",
       "    <tr>\n",
       "      <th>3</th>\n",
       "      <td>4188</td>\n",
       "      <td>314</td>\n",
       "      <td>0.074976</td>\n",
       "    </tr>\n",
       "    <tr>\n",
       "      <th>4</th>\n",
       "      <td>1630</td>\n",
       "      <td>118</td>\n",
       "      <td>0.072393</td>\n",
       "    </tr>\n",
       "    <tr>\n",
       "      <th>5</th>\n",
       "      <td>194</td>\n",
       "      <td>12</td>\n",
       "      <td>0.061856</td>\n",
       "    </tr>\n",
       "    <tr>\n",
       "      <th>6</th>\n",
       "      <td>22</td>\n",
       "      <td>1</td>\n",
       "      <td>0.045455</td>\n",
       "    </tr>\n",
       "    <tr>\n",
       "      <th>7</th>\n",
       "      <td>6</td>\n",
       "      <td>1</td>\n",
       "      <td>0.166667</td>\n",
       "    </tr>\n",
       "  </tbody>\n",
       "</table>\n",
       "</div>"
      ],
      "text/plain": [
       "                 Count  Sum      Mean\n",
       "income_category                      \n",
       "1                 3724  297  0.079753\n",
       "2                11521  990  0.085930\n",
       "3                 4188  314  0.074976\n",
       "4                 1630  118  0.072393\n",
       "5                  194   12  0.061856\n",
       "6                   22    1  0.045455\n",
       "7                    6    1  0.166667"
      ]
     },
     "execution_count": 83,
     "metadata": {},
     "output_type": "execute_result"
    }
   ],
   "source": [
    "#checking the income category\n",
    "credit_df.groupby('income_category')['debt'].agg(Count='count', Sum='sum', Mean = 'mean')"
   ]
  },
  {
   "cell_type": "markdown",
   "metadata": {},
   "source": [
    "    **The most percent of people that have debt are the one from the 7 income group. meaning over 250000 a year\n",
    "     But the count of these people that took a loan are 6 so we can not include it as a valid statement.\n",
    "     The Second income grade that is with the higher percent is no. 2 income category - 15000-30000 anualy income. **"
   ]
  },
  {
   "cell_type": "markdown",
   "metadata": {},
   "source": [
    "**Now we should try to waht happans when we combine 2 categories**"
   ]
  },
  {
   "cell_type": "code",
   "execution_count": 84,
   "metadata": {},
   "outputs": [
    {
     "data": {
      "text/html": [
       "<div>\n",
       "<style scoped>\n",
       "    .dataframe tbody tr th:only-of-type {\n",
       "        vertical-align: middle;\n",
       "    }\n",
       "\n",
       "    .dataframe tbody tr th {\n",
       "        vertical-align: top;\n",
       "    }\n",
       "\n",
       "    .dataframe thead th {\n",
       "        text-align: right;\n",
       "    }\n",
       "</style>\n",
       "<table border=\"1\" class=\"dataframe\">\n",
       "  <thead>\n",
       "    <tr style=\"text-align: right;\">\n",
       "      <th></th>\n",
       "      <th></th>\n",
       "      <th>Count</th>\n",
       "      <th>Sum</th>\n",
       "      <th>Mean</th>\n",
       "    </tr>\n",
       "    <tr>\n",
       "      <th>purpose_category</th>\n",
       "      <th>age_group</th>\n",
       "      <th></th>\n",
       "      <th></th>\n",
       "      <th></th>\n",
       "    </tr>\n",
       "  </thead>\n",
       "  <tbody>\n",
       "    <tr>\n",
       "      <th rowspan=\"7\" valign=\"top\">car</th>\n",
       "      <th>1</th>\n",
       "      <td>15</td>\n",
       "      <td>1</td>\n",
       "      <td>0.066667</td>\n",
       "    </tr>\n",
       "    <tr>\n",
       "      <th>2</th>\n",
       "      <td>670</td>\n",
       "      <td>83</td>\n",
       "      <td>0.123881</td>\n",
       "    </tr>\n",
       "    <tr>\n",
       "      <th>3</th>\n",
       "      <td>1164</td>\n",
       "      <td>138</td>\n",
       "      <td>0.118557</td>\n",
       "    </tr>\n",
       "    <tr>\n",
       "      <th>4</th>\n",
       "      <td>1069</td>\n",
       "      <td>91</td>\n",
       "      <td>0.085126</td>\n",
       "    </tr>\n",
       "    <tr>\n",
       "      <th>5</th>\n",
       "      <td>918</td>\n",
       "      <td>62</td>\n",
       "      <td>0.067538</td>\n",
       "    </tr>\n",
       "    <tr>\n",
       "      <th>6</th>\n",
       "      <td>423</td>\n",
       "      <td>23</td>\n",
       "      <td>0.054374</td>\n",
       "    </tr>\n",
       "    <tr>\n",
       "      <th>7</th>\n",
       "      <td>16</td>\n",
       "      <td>2</td>\n",
       "      <td>0.125000</td>\n",
       "    </tr>\n",
       "    <tr>\n",
       "      <th rowspan=\"7\" valign=\"top\">education</th>\n",
       "      <th>1</th>\n",
       "      <td>9</td>\n",
       "      <td>0</td>\n",
       "      <td>0.000000</td>\n",
       "    </tr>\n",
       "    <tr>\n",
       "      <th>2</th>\n",
       "      <td>710</td>\n",
       "      <td>93</td>\n",
       "      <td>0.130986</td>\n",
       "    </tr>\n",
       "    <tr>\n",
       "      <th>3</th>\n",
       "      <td>1055</td>\n",
       "      <td>112</td>\n",
       "      <td>0.106161</td>\n",
       "    </tr>\n",
       "    <tr>\n",
       "      <th>4</th>\n",
       "      <td>950</td>\n",
       "      <td>82</td>\n",
       "      <td>0.086316</td>\n",
       "    </tr>\n",
       "    <tr>\n",
       "      <th>5</th>\n",
       "      <td>848</td>\n",
       "      <td>62</td>\n",
       "      <td>0.073113</td>\n",
       "    </tr>\n",
       "    <tr>\n",
       "      <th>6</th>\n",
       "      <td>395</td>\n",
       "      <td>21</td>\n",
       "      <td>0.053165</td>\n",
       "    </tr>\n",
       "    <tr>\n",
       "      <th>7</th>\n",
       "      <td>19</td>\n",
       "      <td>0</td>\n",
       "      <td>0.000000</td>\n",
       "    </tr>\n",
       "    <tr>\n",
       "      <th rowspan=\"7\" valign=\"top\">property</th>\n",
       "      <th>1</th>\n",
       "      <td>35</td>\n",
       "      <td>4</td>\n",
       "      <td>0.114286</td>\n",
       "    </tr>\n",
       "    <tr>\n",
       "      <th>2</th>\n",
       "      <td>1880</td>\n",
       "      <td>184</td>\n",
       "      <td>0.097872</td>\n",
       "    </tr>\n",
       "    <tr>\n",
       "      <th>3</th>\n",
       "      <td>2868</td>\n",
       "      <td>240</td>\n",
       "      <td>0.083682</td>\n",
       "    </tr>\n",
       "    <tr>\n",
       "      <th>4</th>\n",
       "      <td>2669</td>\n",
       "      <td>182</td>\n",
       "      <td>0.068190</td>\n",
       "    </tr>\n",
       "    <tr>\n",
       "      <th>5</th>\n",
       "      <td>2243</td>\n",
       "      <td>124</td>\n",
       "      <td>0.055283</td>\n",
       "    </tr>\n",
       "    <tr>\n",
       "      <th>6</th>\n",
       "      <td>983</td>\n",
       "      <td>44</td>\n",
       "      <td>0.044761</td>\n",
       "    </tr>\n",
       "    <tr>\n",
       "      <th>7</th>\n",
       "      <td>57</td>\n",
       "      <td>1</td>\n",
       "      <td>0.017544</td>\n",
       "    </tr>\n",
       "    <tr>\n",
       "      <th rowspan=\"7\" valign=\"top\">wedding</th>\n",
       "      <th>1</th>\n",
       "      <td>6</td>\n",
       "      <td>0</td>\n",
       "      <td>0.000000</td>\n",
       "    </tr>\n",
       "    <tr>\n",
       "      <th>2</th>\n",
       "      <td>385</td>\n",
       "      <td>38</td>\n",
       "      <td>0.098701</td>\n",
       "    </tr>\n",
       "    <tr>\n",
       "      <th>3</th>\n",
       "      <td>634</td>\n",
       "      <td>56</td>\n",
       "      <td>0.088328</td>\n",
       "    </tr>\n",
       "    <tr>\n",
       "      <th>4</th>\n",
       "      <td>557</td>\n",
       "      <td>48</td>\n",
       "      <td>0.086176</td>\n",
       "    </tr>\n",
       "    <tr>\n",
       "      <th>5</th>\n",
       "      <td>486</td>\n",
       "      <td>32</td>\n",
       "      <td>0.065844</td>\n",
       "    </tr>\n",
       "    <tr>\n",
       "      <th>6</th>\n",
       "      <td>210</td>\n",
       "      <td>10</td>\n",
       "      <td>0.047619</td>\n",
       "    </tr>\n",
       "    <tr>\n",
       "      <th>7</th>\n",
       "      <td>11</td>\n",
       "      <td>0</td>\n",
       "      <td>0.000000</td>\n",
       "    </tr>\n",
       "  </tbody>\n",
       "</table>\n",
       "</div>"
      ],
      "text/plain": [
       "                            Count  Sum      Mean\n",
       "purpose_category age_group                      \n",
       "car              1             15    1  0.066667\n",
       "                 2            670   83  0.123881\n",
       "                 3           1164  138  0.118557\n",
       "                 4           1069   91  0.085126\n",
       "                 5            918   62  0.067538\n",
       "                 6            423   23  0.054374\n",
       "                 7             16    2  0.125000\n",
       "education        1              9    0  0.000000\n",
       "                 2            710   93  0.130986\n",
       "                 3           1055  112  0.106161\n",
       "                 4            950   82  0.086316\n",
       "                 5            848   62  0.073113\n",
       "                 6            395   21  0.053165\n",
       "                 7             19    0  0.000000\n",
       "property         1             35    4  0.114286\n",
       "                 2           1880  184  0.097872\n",
       "                 3           2868  240  0.083682\n",
       "                 4           2669  182  0.068190\n",
       "                 5           2243  124  0.055283\n",
       "                 6            983   44  0.044761\n",
       "                 7             57    1  0.017544\n",
       "wedding          1              6    0  0.000000\n",
       "                 2            385   38  0.098701\n",
       "                 3            634   56  0.088328\n",
       "                 4            557   48  0.086176\n",
       "                 5            486   32  0.065844\n",
       "                 6            210   10  0.047619\n",
       "                 7             11    0  0.000000"
      ]
     },
     "execution_count": 84,
     "metadata": {},
     "output_type": "execute_result"
    }
   ],
   "source": [
    "#purpose combine with age\n",
    "credit_df.groupby(['purpose_category','age_group'])['debt'].agg(Count='count', Sum='sum', Mean = 'mean')"
   ]
  },
  {
   "cell_type": "markdown",
   "metadata": {},
   "source": [
    "**the consistancy is the same when checking age and purpose**"
   ]
  },
  {
   "cell_type": "code",
   "execution_count": 85,
   "metadata": {
    "scrolled": false
   },
   "outputs": [
    {
     "data": {
      "text/html": [
       "<div>\n",
       "<style scoped>\n",
       "    .dataframe tbody tr th:only-of-type {\n",
       "        vertical-align: middle;\n",
       "    }\n",
       "\n",
       "    .dataframe tbody tr th {\n",
       "        vertical-align: top;\n",
       "    }\n",
       "\n",
       "    .dataframe thead th {\n",
       "        text-align: right;\n",
       "    }\n",
       "</style>\n",
       "<table border=\"1\" class=\"dataframe\">\n",
       "  <thead>\n",
       "    <tr style=\"text-align: right;\">\n",
       "      <th></th>\n",
       "      <th></th>\n",
       "      <th>Count</th>\n",
       "      <th>Sum</th>\n",
       "      <th>Mean</th>\n",
       "    </tr>\n",
       "    <tr>\n",
       "      <th>purpose_category</th>\n",
       "      <th>gender</th>\n",
       "      <th></th>\n",
       "      <th></th>\n",
       "      <th></th>\n",
       "    </tr>\n",
       "  </thead>\n",
       "  <tbody>\n",
       "    <tr>\n",
       "      <th rowspan=\"2\" valign=\"top\">car</th>\n",
       "      <th>F</th>\n",
       "      <td>2833</td>\n",
       "      <td>232</td>\n",
       "      <td>0.081892</td>\n",
       "    </tr>\n",
       "    <tr>\n",
       "      <th>M</th>\n",
       "      <td>1442</td>\n",
       "      <td>168</td>\n",
       "      <td>0.116505</td>\n",
       "    </tr>\n",
       "    <tr>\n",
       "      <th rowspan=\"2\" valign=\"top\">education</th>\n",
       "      <th>F</th>\n",
       "      <td>2644</td>\n",
       "      <td>207</td>\n",
       "      <td>0.078290</td>\n",
       "    </tr>\n",
       "    <tr>\n",
       "      <th>M</th>\n",
       "      <td>1342</td>\n",
       "      <td>163</td>\n",
       "      <td>0.121461</td>\n",
       "    </tr>\n",
       "    <tr>\n",
       "      <th rowspan=\"2\" valign=\"top\">property</th>\n",
       "      <th>F</th>\n",
       "      <td>7034</td>\n",
       "      <td>443</td>\n",
       "      <td>0.062980</td>\n",
       "    </tr>\n",
       "    <tr>\n",
       "      <th>M</th>\n",
       "      <td>3701</td>\n",
       "      <td>336</td>\n",
       "      <td>0.090786</td>\n",
       "    </tr>\n",
       "    <tr>\n",
       "      <th rowspan=\"2\" valign=\"top\">wedding</th>\n",
       "      <th>F</th>\n",
       "      <td>1533</td>\n",
       "      <td>107</td>\n",
       "      <td>0.069798</td>\n",
       "    </tr>\n",
       "    <tr>\n",
       "      <th>M</th>\n",
       "      <td>756</td>\n",
       "      <td>77</td>\n",
       "      <td>0.101852</td>\n",
       "    </tr>\n",
       "  </tbody>\n",
       "</table>\n",
       "</div>"
      ],
      "text/plain": [
       "                         Count  Sum      Mean\n",
       "purpose_category gender                      \n",
       "car              F        2833  232  0.081892\n",
       "                 M        1442  168  0.116505\n",
       "education        F        2644  207  0.078290\n",
       "                 M        1342  163  0.121461\n",
       "property         F        7034  443  0.062980\n",
       "                 M        3701  336  0.090786\n",
       "wedding          F        1533  107  0.069798\n",
       "                 M         756   77  0.101852"
      ]
     },
     "execution_count": 85,
     "metadata": {},
     "output_type": "execute_result"
    }
   ],
   "source": [
    "#purpose combine with gender\n",
    "credit_df.groupby(['purpose_category','gender'])['debt'].agg(Count='count', Sum='sum', Mean = 'mean')"
   ]
  },
  {
   "cell_type": "markdown",
   "metadata": {},
   "source": [
    "**the consistancy is the same when checking age and purpose**"
   ]
  },
  {
   "cell_type": "code",
   "execution_count": 86,
   "metadata": {
    "scrolled": true
   },
   "outputs": [
    {
     "data": {
      "text/html": [
       "<div>\n",
       "<style scoped>\n",
       "    .dataframe tbody tr th:only-of-type {\n",
       "        vertical-align: middle;\n",
       "    }\n",
       "\n",
       "    .dataframe tbody tr th {\n",
       "        vertical-align: top;\n",
       "    }\n",
       "\n",
       "    .dataframe thead th {\n",
       "        text-align: right;\n",
       "    }\n",
       "</style>\n",
       "<table border=\"1\" class=\"dataframe\">\n",
       "  <thead>\n",
       "    <tr style=\"text-align: right;\">\n",
       "      <th></th>\n",
       "      <th></th>\n",
       "      <th>Count</th>\n",
       "      <th>Sum</th>\n",
       "      <th>Mean</th>\n",
       "    </tr>\n",
       "    <tr>\n",
       "      <th>purpose_category</th>\n",
       "      <th>income_category</th>\n",
       "      <th></th>\n",
       "      <th></th>\n",
       "      <th></th>\n",
       "    </tr>\n",
       "  </thead>\n",
       "  <tbody>\n",
       "    <tr>\n",
       "      <th rowspan=\"6\" valign=\"top\">car</th>\n",
       "      <th>1</th>\n",
       "      <td>736</td>\n",
       "      <td>62</td>\n",
       "      <td>0.084239</td>\n",
       "    </tr>\n",
       "    <tr>\n",
       "      <th>2</th>\n",
       "      <td>2316</td>\n",
       "      <td>231</td>\n",
       "      <td>0.099741</td>\n",
       "    </tr>\n",
       "    <tr>\n",
       "      <th>3</th>\n",
       "      <td>848</td>\n",
       "      <td>78</td>\n",
       "      <td>0.091981</td>\n",
       "    </tr>\n",
       "    <tr>\n",
       "      <th>4</th>\n",
       "      <td>335</td>\n",
       "      <td>26</td>\n",
       "      <td>0.077612</td>\n",
       "    </tr>\n",
       "    <tr>\n",
       "      <th>5</th>\n",
       "      <td>37</td>\n",
       "      <td>3</td>\n",
       "      <td>0.081081</td>\n",
       "    </tr>\n",
       "    <tr>\n",
       "      <th>6</th>\n",
       "      <td>3</td>\n",
       "      <td>0</td>\n",
       "      <td>0.000000</td>\n",
       "    </tr>\n",
       "    <tr>\n",
       "      <th rowspan=\"7\" valign=\"top\">education</th>\n",
       "      <th>1</th>\n",
       "      <td>718</td>\n",
       "      <td>61</td>\n",
       "      <td>0.084958</td>\n",
       "    </tr>\n",
       "    <tr>\n",
       "      <th>2</th>\n",
       "      <td>2195</td>\n",
       "      <td>220</td>\n",
       "      <td>0.100228</td>\n",
       "    </tr>\n",
       "    <tr>\n",
       "      <th>3</th>\n",
       "      <td>744</td>\n",
       "      <td>64</td>\n",
       "      <td>0.086022</td>\n",
       "    </tr>\n",
       "    <tr>\n",
       "      <th>4</th>\n",
       "      <td>295</td>\n",
       "      <td>21</td>\n",
       "      <td>0.071186</td>\n",
       "    </tr>\n",
       "    <tr>\n",
       "      <th>5</th>\n",
       "      <td>30</td>\n",
       "      <td>3</td>\n",
       "      <td>0.100000</td>\n",
       "    </tr>\n",
       "    <tr>\n",
       "      <th>6</th>\n",
       "      <td>3</td>\n",
       "      <td>1</td>\n",
       "      <td>0.333333</td>\n",
       "    </tr>\n",
       "    <tr>\n",
       "      <th>7</th>\n",
       "      <td>1</td>\n",
       "      <td>0</td>\n",
       "      <td>0.000000</td>\n",
       "    </tr>\n",
       "    <tr>\n",
       "      <th rowspan=\"7\" valign=\"top\">property</th>\n",
       "      <th>1</th>\n",
       "      <td>1873</td>\n",
       "      <td>136</td>\n",
       "      <td>0.072611</td>\n",
       "    </tr>\n",
       "    <tr>\n",
       "      <th>2</th>\n",
       "      <td>5765</td>\n",
       "      <td>431</td>\n",
       "      <td>0.074761</td>\n",
       "    </tr>\n",
       "    <tr>\n",
       "      <th>3</th>\n",
       "      <td>2142</td>\n",
       "      <td>146</td>\n",
       "      <td>0.068161</td>\n",
       "    </tr>\n",
       "    <tr>\n",
       "      <th>4</th>\n",
       "      <td>828</td>\n",
       "      <td>60</td>\n",
       "      <td>0.072464</td>\n",
       "    </tr>\n",
       "    <tr>\n",
       "      <th>5</th>\n",
       "      <td>108</td>\n",
       "      <td>5</td>\n",
       "      <td>0.046296</td>\n",
       "    </tr>\n",
       "    <tr>\n",
       "      <th>6</th>\n",
       "      <td>15</td>\n",
       "      <td>0</td>\n",
       "      <td>0.000000</td>\n",
       "    </tr>\n",
       "    <tr>\n",
       "      <th>7</th>\n",
       "      <td>4</td>\n",
       "      <td>1</td>\n",
       "      <td>0.250000</td>\n",
       "    </tr>\n",
       "    <tr>\n",
       "      <th rowspan=\"7\" valign=\"top\">wedding</th>\n",
       "      <th>1</th>\n",
       "      <td>397</td>\n",
       "      <td>38</td>\n",
       "      <td>0.095718</td>\n",
       "    </tr>\n",
       "    <tr>\n",
       "      <th>2</th>\n",
       "      <td>1245</td>\n",
       "      <td>108</td>\n",
       "      <td>0.086747</td>\n",
       "    </tr>\n",
       "    <tr>\n",
       "      <th>3</th>\n",
       "      <td>454</td>\n",
       "      <td>26</td>\n",
       "      <td>0.057269</td>\n",
       "    </tr>\n",
       "    <tr>\n",
       "      <th>4</th>\n",
       "      <td>172</td>\n",
       "      <td>11</td>\n",
       "      <td>0.063953</td>\n",
       "    </tr>\n",
       "    <tr>\n",
       "      <th>5</th>\n",
       "      <td>19</td>\n",
       "      <td>1</td>\n",
       "      <td>0.052632</td>\n",
       "    </tr>\n",
       "    <tr>\n",
       "      <th>6</th>\n",
       "      <td>1</td>\n",
       "      <td>0</td>\n",
       "      <td>0.000000</td>\n",
       "    </tr>\n",
       "    <tr>\n",
       "      <th>7</th>\n",
       "      <td>1</td>\n",
       "      <td>0</td>\n",
       "      <td>0.000000</td>\n",
       "    </tr>\n",
       "  </tbody>\n",
       "</table>\n",
       "</div>"
      ],
      "text/plain": [
       "                                  Count  Sum      Mean\n",
       "purpose_category income_category                      \n",
       "car              1                  736   62  0.084239\n",
       "                 2                 2316  231  0.099741\n",
       "                 3                  848   78  0.091981\n",
       "                 4                  335   26  0.077612\n",
       "                 5                   37    3  0.081081\n",
       "                 6                    3    0  0.000000\n",
       "education        1                  718   61  0.084958\n",
       "                 2                 2195  220  0.100228\n",
       "                 3                  744   64  0.086022\n",
       "                 4                  295   21  0.071186\n",
       "                 5                   30    3  0.100000\n",
       "                 6                    3    1  0.333333\n",
       "                 7                    1    0  0.000000\n",
       "property         1                 1873  136  0.072611\n",
       "                 2                 5765  431  0.074761\n",
       "                 3                 2142  146  0.068161\n",
       "                 4                  828   60  0.072464\n",
       "                 5                  108    5  0.046296\n",
       "                 6                   15    0  0.000000\n",
       "                 7                    4    1  0.250000\n",
       "wedding          1                  397   38  0.095718\n",
       "                 2                 1245  108  0.086747\n",
       "                 3                  454   26  0.057269\n",
       "                 4                  172   11  0.063953\n",
       "                 5                   19    1  0.052632\n",
       "                 6                    1    0  0.000000\n",
       "                 7                    1    0  0.000000"
      ]
     },
     "execution_count": 86,
     "metadata": {},
     "output_type": "execute_result"
    }
   ],
   "source": [
    "#purpose combine with income\n",
    "credit_df.groupby(['purpose_category','income_category'])['debt'].agg(Count='count', Sum='sum', Mean = 'mean')"
   ]
  },
  {
   "cell_type": "code",
   "execution_count": null,
   "metadata": {},
   "outputs": [],
   "source": []
  },
  {
   "cell_type": "markdown",
   "metadata": {},
   "source": [
    "# General Conclusion \n",
    "\n",
    "The question that was laid to our hands was , if a merital and having children, can be considered a a default of a loan reason more then other reasons.\n",
    "\n",
    "When put to the test, with both of these criteria, we have not found any diviation of the general population of both having a child, nor the merital status of a customer, in records of customers who have debt.\n",
    "\n",
    "There for we could get to the conclusion tha the merital status and/or having children, have an effect on default a loan, at least no a profaund efect that shows in the data.\n",
    "\n",
    "But when looking at other possible reasons, one criteria has stood up showing that there are categories from it that are shown in a very concentrated way in the group of customers who have debt. This criteria was the 'purpose' category of 'car' loan application.\n",
    "\n",
    "Also , It seems that when the total income of a customer is less then 30,000 anualy and he is applying for loan, has more chance to default.\n",
    "\n",
    "In conclusion*\n",
    "\n",
    "we did not find any connectio between tha merital status and having children , direct effect on a loan default. Instead, we sugest that the criteria to be taken is the one of purpose of a loan that is intended to be use for a car , and to look at the total income of a customer that earns less then 30,000 anualy."
   ]
  }
 ],
 "metadata": {
  "ExecuteTimeLog": [
   {
    "duration": 2741,
    "start_time": "2021-10-21T01:08:49.480Z"
   },
   {
    "duration": 52,
    "start_time": "2021-10-21T01:08:53.315Z"
   },
   {
    "duration": 49,
    "start_time": "2021-10-21T01:08:57.432Z"
   },
   {
    "duration": 70,
    "start_time": "2021-10-21T01:09:07.706Z"
   },
   {
    "duration": 438,
    "start_time": "2022-07-28T19:31:10.653Z"
   },
   {
    "duration": 180,
    "start_time": "2022-07-28T19:32:16.869Z"
   },
   {
    "duration": 70,
    "start_time": "2022-07-28T19:32:48.809Z"
   },
   {
    "duration": 12,
    "start_time": "2022-07-28T20:06:08.611Z"
   },
   {
    "duration": 7,
    "start_time": "2022-07-28T20:06:17.954Z"
   },
   {
    "duration": 9,
    "start_time": "2022-07-28T20:06:45.866Z"
   },
   {
    "duration": 4,
    "start_time": "2022-07-28T20:07:07.715Z"
   },
   {
    "duration": 7,
    "start_time": "2022-07-28T20:12:05.577Z"
   },
   {
    "duration": 29,
    "start_time": "2022-07-28T20:16:27.316Z"
   },
   {
    "duration": 5,
    "start_time": "2022-07-28T20:50:39.251Z"
   },
   {
    "duration": 4,
    "start_time": "2022-07-28T20:57:49.355Z"
   },
   {
    "duration": 4,
    "start_time": "2022-07-28T20:57:53.546Z"
   },
   {
    "duration": 24,
    "start_time": "2022-07-28T20:58:04.302Z"
   },
   {
    "duration": 23,
    "start_time": "2022-07-28T20:58:17.403Z"
   },
   {
    "duration": 1088,
    "start_time": "2022-07-28T22:09:04.708Z"
   },
   {
    "duration": 13,
    "start_time": "2022-07-28T22:09:59.638Z"
   },
   {
    "duration": 9,
    "start_time": "2022-07-28T22:10:20.329Z"
   },
   {
    "duration": 13,
    "start_time": "2022-07-28T22:10:47.837Z"
   },
   {
    "duration": 9,
    "start_time": "2022-07-28T22:13:25.850Z"
   },
   {
    "duration": 33,
    "start_time": "2022-07-28T22:13:46.263Z"
   },
   {
    "duration": 849,
    "start_time": "2022-07-28T22:17:29.450Z"
   },
   {
    "duration": 19,
    "start_time": "2022-07-28T22:19:44.554Z"
   },
   {
    "duration": 15,
    "start_time": "2022-07-28T22:21:00.840Z"
   },
   {
    "duration": 7,
    "start_time": "2022-07-28T22:22:25.476Z"
   },
   {
    "duration": 13,
    "start_time": "2022-07-28T22:27:36.828Z"
   },
   {
    "duration": 58,
    "start_time": "2022-07-28T22:30:21.604Z"
   },
   {
    "duration": 7,
    "start_time": "2022-07-28T22:30:29.648Z"
   },
   {
    "duration": 580,
    "start_time": "2022-07-29T06:54:20.522Z"
   },
   {
    "duration": 3,
    "start_time": "2022-07-29T06:54:21.104Z"
   },
   {
    "duration": 7,
    "start_time": "2022-07-29T06:54:21.108Z"
   },
   {
    "duration": 22,
    "start_time": "2022-07-29T06:54:21.116Z"
   },
   {
    "duration": 13,
    "start_time": "2022-07-29T06:54:21.140Z"
   },
   {
    "duration": 6,
    "start_time": "2022-07-29T06:54:21.155Z"
   },
   {
    "duration": 4,
    "start_time": "2022-07-29T06:54:33.078Z"
   },
   {
    "duration": 63,
    "start_time": "2022-07-29T07:03:31.073Z"
   },
   {
    "duration": 6,
    "start_time": "2022-07-29T07:03:58.592Z"
   },
   {
    "duration": 6,
    "start_time": "2022-07-29T07:04:19.714Z"
   },
   {
    "duration": 6,
    "start_time": "2022-07-29T07:05:03.891Z"
   },
   {
    "duration": 6,
    "start_time": "2022-07-29T07:05:51.054Z"
   },
   {
    "duration": 7,
    "start_time": "2022-07-29T07:06:15.468Z"
   },
   {
    "duration": 7,
    "start_time": "2022-07-29T07:06:37.927Z"
   },
   {
    "duration": 7,
    "start_time": "2022-07-29T07:06:48.118Z"
   },
   {
    "duration": 7,
    "start_time": "2022-07-29T07:06:58.090Z"
   },
   {
    "duration": 7,
    "start_time": "2022-07-29T07:07:08.752Z"
   },
   {
    "duration": 7,
    "start_time": "2022-07-29T07:09:02.892Z"
   },
   {
    "duration": 7,
    "start_time": "2022-07-29T07:09:11.814Z"
   },
   {
    "duration": 8,
    "start_time": "2022-07-29T07:09:45.304Z"
   },
   {
    "duration": 6,
    "start_time": "2022-07-29T07:09:47.128Z"
   },
   {
    "duration": 7,
    "start_time": "2022-07-29T07:10:11.636Z"
   },
   {
    "duration": 8,
    "start_time": "2022-07-29T07:10:17.424Z"
   },
   {
    "duration": 7,
    "start_time": "2022-07-29T07:10:27.911Z"
   },
   {
    "duration": 6,
    "start_time": "2022-07-29T07:10:36.904Z"
   },
   {
    "duration": 105,
    "start_time": "2022-07-29T07:10:48.435Z"
   },
   {
    "duration": 113,
    "start_time": "2022-07-29T07:10:58.364Z"
   },
   {
    "duration": 7,
    "start_time": "2022-07-29T07:11:11.555Z"
   },
   {
    "duration": 8,
    "start_time": "2022-07-29T07:11:43.765Z"
   },
   {
    "duration": 7,
    "start_time": "2022-07-29T07:30:31.909Z"
   },
   {
    "duration": 20,
    "start_time": "2022-07-29T07:31:45.096Z"
   },
   {
    "duration": 30,
    "start_time": "2022-07-29T07:47:37.555Z"
   },
   {
    "duration": 32,
    "start_time": "2022-07-29T07:48:07.236Z"
   },
   {
    "duration": 19,
    "start_time": "2022-07-29T07:49:20.162Z"
   },
   {
    "duration": 21,
    "start_time": "2022-07-29T07:49:26.832Z"
   },
   {
    "duration": 11,
    "start_time": "2022-07-29T07:58:11.853Z"
   },
   {
    "duration": 24,
    "start_time": "2022-07-29T08:13:32.891Z"
   },
   {
    "duration": 26,
    "start_time": "2022-07-29T08:14:40.340Z"
   },
   {
    "duration": 35,
    "start_time": "2022-07-29T08:16:44.004Z"
   },
   {
    "duration": 23,
    "start_time": "2022-07-29T08:19:01.134Z"
   },
   {
    "duration": 21,
    "start_time": "2022-07-29T08:19:01.582Z"
   },
   {
    "duration": 39,
    "start_time": "2022-07-29T08:19:03.000Z"
   },
   {
    "duration": 988,
    "start_time": "2022-07-29T08:58:56.929Z"
   },
   {
    "duration": 13,
    "start_time": "2022-07-29T08:59:19.200Z"
   },
   {
    "duration": 28,
    "start_time": "2022-07-29T08:59:51.514Z"
   },
   {
    "duration": 17,
    "start_time": "2022-07-29T09:00:30.567Z"
   },
   {
    "duration": 17,
    "start_time": "2022-07-29T09:00:42.271Z"
   },
   {
    "duration": 24,
    "start_time": "2022-07-29T09:03:13.007Z"
   },
   {
    "duration": 13,
    "start_time": "2022-07-29T09:06:42.994Z"
   },
   {
    "duration": 74,
    "start_time": "2022-07-29T09:07:42.352Z"
   },
   {
    "duration": 52,
    "start_time": "2022-07-29T09:08:09.736Z"
   },
   {
    "duration": 1125,
    "start_time": "2022-07-29T09:08:29.693Z"
   },
   {
    "duration": 16,
    "start_time": "2022-07-29T09:08:43.947Z"
   },
   {
    "duration": 10,
    "start_time": "2022-07-29T09:09:21.564Z"
   },
   {
    "duration": 12,
    "start_time": "2022-07-29T09:11:14.643Z"
   },
   {
    "duration": 7,
    "start_time": "2022-07-29T09:11:40.660Z"
   },
   {
    "duration": 62,
    "start_time": "2022-07-29T10:27:57.421Z"
   },
   {
    "duration": 13,
    "start_time": "2022-07-29T10:28:43.593Z"
   },
   {
    "duration": 10,
    "start_time": "2022-07-29T10:29:02.219Z"
   },
   {
    "duration": 5,
    "start_time": "2022-07-29T10:29:55.403Z"
   },
   {
    "duration": 13,
    "start_time": "2022-07-29T10:30:46.296Z"
   },
   {
    "duration": 7,
    "start_time": "2022-07-29T10:31:54.054Z"
   },
   {
    "duration": 10,
    "start_time": "2022-07-29T10:34:43.443Z"
   },
   {
    "duration": 20,
    "start_time": "2022-07-29T10:37:36.397Z"
   },
   {
    "duration": 21,
    "start_time": "2022-07-29T10:37:38.206Z"
   },
   {
    "duration": 19,
    "start_time": "2022-07-29T10:37:39.447Z"
   },
   {
    "duration": 27,
    "start_time": "2022-07-29T10:38:20.545Z"
   },
   {
    "duration": 21,
    "start_time": "2022-07-29T10:38:21.537Z"
   },
   {
    "duration": 124,
    "start_time": "2022-07-29T10:38:44.118Z"
   },
   {
    "duration": 3,
    "start_time": "2022-07-29T10:38:44.245Z"
   },
   {
    "duration": 9,
    "start_time": "2022-07-29T10:38:44.250Z"
   },
   {
    "duration": 22,
    "start_time": "2022-07-29T10:38:44.261Z"
   },
   {
    "duration": 18,
    "start_time": "2022-07-29T10:38:44.285Z"
   },
   {
    "duration": 21,
    "start_time": "2022-07-29T10:38:44.304Z"
   },
   {
    "duration": 8,
    "start_time": "2022-07-29T10:38:44.336Z"
   },
   {
    "duration": 25,
    "start_time": "2022-07-29T10:38:44.346Z"
   },
   {
    "duration": 23,
    "start_time": "2022-07-29T10:38:44.373Z"
   },
   {
    "duration": 45,
    "start_time": "2022-07-29T10:38:44.398Z"
   },
   {
    "duration": 61,
    "start_time": "2022-07-30T11:02:13.757Z"
   },
   {
    "duration": 604,
    "start_time": "2022-07-30T11:02:43.464Z"
   },
   {
    "duration": 4,
    "start_time": "2022-07-30T11:02:44.070Z"
   },
   {
    "duration": 6,
    "start_time": "2022-07-30T11:02:44.075Z"
   },
   {
    "duration": 22,
    "start_time": "2022-07-30T11:02:44.083Z"
   },
   {
    "duration": 25,
    "start_time": "2022-07-30T11:02:44.107Z"
   },
   {
    "duration": 7,
    "start_time": "2022-07-30T11:02:44.134Z"
   },
   {
    "duration": 8,
    "start_time": "2022-07-30T11:02:44.142Z"
   },
   {
    "duration": 22,
    "start_time": "2022-07-30T11:02:44.151Z"
   },
   {
    "duration": 50,
    "start_time": "2022-07-30T11:02:44.174Z"
   },
   {
    "duration": 27,
    "start_time": "2022-07-30T11:02:44.227Z"
   },
   {
    "duration": 43,
    "start_time": "2022-07-30T11:03:39.193Z"
   },
   {
    "duration": 19,
    "start_time": "2022-07-30T11:08:43.551Z"
   },
   {
    "duration": 7,
    "start_time": "2022-07-30T11:13:03.175Z"
   },
   {
    "duration": 798,
    "start_time": "2022-07-30T11:13:32.722Z"
   },
   {
    "duration": 15,
    "start_time": "2022-07-30T11:14:41.474Z"
   },
   {
    "duration": 14,
    "start_time": "2022-07-30T11:14:58.077Z"
   },
   {
    "duration": 17,
    "start_time": "2022-07-30T11:15:07.197Z"
   },
   {
    "duration": 13,
    "start_time": "2022-07-30T11:15:18.772Z"
   },
   {
    "duration": 14,
    "start_time": "2022-07-30T11:15:29.691Z"
   },
   {
    "duration": 9,
    "start_time": "2022-07-30T11:16:10.360Z"
   },
   {
    "duration": 791,
    "start_time": "2022-07-30T11:17:25.692Z"
   },
   {
    "duration": 732,
    "start_time": "2022-07-30T11:28:13.020Z"
   },
   {
    "duration": 749,
    "start_time": "2022-07-30T11:38:07.601Z"
   },
   {
    "duration": 29,
    "start_time": "2022-07-30T11:39:38.839Z"
   },
   {
    "duration": 775,
    "start_time": "2022-07-30T11:39:40.545Z"
   },
   {
    "duration": 19,
    "start_time": "2022-07-30T11:40:55.339Z"
   },
   {
    "duration": 20,
    "start_time": "2022-07-30T11:41:28.597Z"
   },
   {
    "duration": 18,
    "start_time": "2022-07-30T11:42:53.577Z"
   },
   {
    "duration": 52,
    "start_time": "2022-07-30T11:59:28.714Z"
   },
   {
    "duration": 21,
    "start_time": "2022-07-30T12:00:37.903Z"
   },
   {
    "duration": 28,
    "start_time": "2022-07-30T12:08:25.120Z"
   },
   {
    "duration": 37,
    "start_time": "2022-07-30T12:17:53.080Z"
   },
   {
    "duration": 62,
    "start_time": "2022-07-30T12:20:47.909Z"
   },
   {
    "duration": 20,
    "start_time": "2022-07-30T12:21:05.700Z"
   },
   {
    "duration": 9,
    "start_time": "2022-07-30T12:21:53.617Z"
   },
   {
    "duration": 27,
    "start_time": "2022-07-30T12:23:09.940Z"
   },
   {
    "duration": 11,
    "start_time": "2022-07-30T12:32:05.730Z"
   },
   {
    "duration": 47,
    "start_time": "2022-07-30T12:40:32.006Z"
   },
   {
    "duration": 12,
    "start_time": "2022-07-30T12:40:52.445Z"
   },
   {
    "duration": 12,
    "start_time": "2022-07-30T12:41:38.260Z"
   },
   {
    "duration": 49,
    "start_time": "2022-07-30T12:43:16.565Z"
   },
   {
    "duration": 33,
    "start_time": "2022-07-30T12:44:36.171Z"
   },
   {
    "duration": 29,
    "start_time": "2022-07-30T12:46:47.871Z"
   },
   {
    "duration": 27,
    "start_time": "2022-07-30T13:03:17.637Z"
   },
   {
    "duration": 28,
    "start_time": "2022-07-30T13:04:39.921Z"
   },
   {
    "duration": 30,
    "start_time": "2022-07-30T13:05:49.159Z"
   },
   {
    "duration": 4,
    "start_time": "2022-07-30T14:52:27.009Z"
   },
   {
    "duration": 5,
    "start_time": "2022-07-30T15:01:19.272Z"
   },
   {
    "duration": 9,
    "start_time": "2022-07-30T15:16:29.278Z"
   },
   {
    "duration": 20,
    "start_time": "2022-07-30T15:16:39.068Z"
   },
   {
    "duration": 17,
    "start_time": "2022-07-30T15:16:58.436Z"
   },
   {
    "duration": 15,
    "start_time": "2022-07-30T15:17:14.853Z"
   },
   {
    "duration": 17,
    "start_time": "2022-07-30T15:17:47.889Z"
   },
   {
    "duration": 26,
    "start_time": "2022-07-30T15:18:10.706Z"
   },
   {
    "duration": 16,
    "start_time": "2022-07-30T15:18:22.548Z"
   },
   {
    "duration": 4,
    "start_time": "2022-07-30T15:27:39.109Z"
   },
   {
    "duration": 14,
    "start_time": "2022-07-30T15:27:39.696Z"
   },
   {
    "duration": 27,
    "start_time": "2022-07-30T15:27:42.079Z"
   },
   {
    "duration": 17,
    "start_time": "2022-07-30T16:22:22.210Z"
   },
   {
    "duration": 26,
    "start_time": "2022-07-30T16:27:07.843Z"
   },
   {
    "duration": 7,
    "start_time": "2022-07-30T16:35:26.892Z"
   },
   {
    "duration": 26,
    "start_time": "2022-07-30T16:35:50.157Z"
   },
   {
    "duration": 20,
    "start_time": "2022-07-30T16:36:02.442Z"
   },
   {
    "duration": 22,
    "start_time": "2022-07-30T16:36:02.983Z"
   },
   {
    "duration": 6,
    "start_time": "2022-07-30T16:55:33.501Z"
   },
   {
    "duration": 6,
    "start_time": "2022-07-30T16:57:38.550Z"
   },
   {
    "duration": 25,
    "start_time": "2022-07-30T16:57:43.326Z"
   },
   {
    "duration": 31,
    "start_time": "2022-07-30T16:57:56.093Z"
   },
   {
    "duration": 6,
    "start_time": "2022-07-30T16:58:03.971Z"
   },
   {
    "duration": 30,
    "start_time": "2022-07-30T17:11:21.758Z"
   },
   {
    "duration": 30,
    "start_time": "2022-07-30T17:12:26.662Z"
   },
   {
    "duration": 7,
    "start_time": "2022-07-30T17:46:34.735Z"
   },
   {
    "duration": 8,
    "start_time": "2022-07-30T18:02:08.235Z"
   },
   {
    "duration": 8,
    "start_time": "2022-07-30T18:05:06.734Z"
   },
   {
    "duration": 291,
    "start_time": "2022-07-30T18:05:15.079Z"
   },
   {
    "duration": 11,
    "start_time": "2022-07-30T18:05:30.929Z"
   },
   {
    "duration": 11,
    "start_time": "2022-07-30T18:06:05.265Z"
   },
   {
    "duration": 8,
    "start_time": "2022-07-30T18:08:16.363Z"
   },
   {
    "duration": 11,
    "start_time": "2022-07-30T18:14:51.424Z"
   },
   {
    "duration": 5,
    "start_time": "2022-07-30T18:14:57.022Z"
   },
   {
    "duration": 14,
    "start_time": "2022-07-30T18:15:48.465Z"
   },
   {
    "duration": 5,
    "start_time": "2022-07-30T18:15:51.463Z"
   },
   {
    "duration": 4,
    "start_time": "2022-07-30T18:16:23.957Z"
   },
   {
    "duration": 24,
    "start_time": "2022-07-30T18:21:42.494Z"
   },
   {
    "duration": 11,
    "start_time": "2022-07-30T18:22:18.438Z"
   },
   {
    "duration": 23,
    "start_time": "2022-07-30T18:22:38.785Z"
   },
   {
    "duration": 7,
    "start_time": "2022-07-30T18:38:02.259Z"
   },
   {
    "duration": 4,
    "start_time": "2022-07-30T18:38:39.627Z"
   },
   {
    "duration": 5,
    "start_time": "2022-07-30T18:39:44.370Z"
   },
   {
    "duration": 5,
    "start_time": "2022-07-30T18:39:49.551Z"
   },
   {
    "duration": 7,
    "start_time": "2022-07-30T18:42:15.963Z"
   },
   {
    "duration": 6,
    "start_time": "2022-07-30T18:42:38.817Z"
   },
   {
    "duration": 5,
    "start_time": "2022-07-30T19:14:30.541Z"
   },
   {
    "duration": 27,
    "start_time": "2022-07-30T19:14:32.687Z"
   },
   {
    "duration": 29,
    "start_time": "2022-07-30T19:14:42.737Z"
   },
   {
    "duration": 14,
    "start_time": "2022-07-30T19:41:02.920Z"
   },
   {
    "duration": 71,
    "start_time": "2022-07-30T19:41:19.953Z"
   },
   {
    "duration": 11,
    "start_time": "2022-07-30T19:41:20.026Z"
   },
   {
    "duration": 22,
    "start_time": "2022-07-30T19:41:20.039Z"
   },
   {
    "duration": 26,
    "start_time": "2022-07-30T19:41:20.063Z"
   },
   {
    "duration": 25,
    "start_time": "2022-07-30T19:41:20.091Z"
   },
   {
    "duration": 18,
    "start_time": "2022-07-30T19:41:20.118Z"
   },
   {
    "duration": 39,
    "start_time": "2022-07-30T19:41:20.138Z"
   },
   {
    "duration": 23,
    "start_time": "2022-07-30T19:41:20.179Z"
   },
   {
    "duration": 49,
    "start_time": "2022-07-30T19:41:20.204Z"
   },
   {
    "duration": 4,
    "start_time": "2022-07-30T19:41:20.256Z"
   },
   {
    "duration": 20,
    "start_time": "2022-07-30T19:41:20.262Z"
   },
   {
    "duration": 27,
    "start_time": "2022-07-30T19:41:20.284Z"
   },
   {
    "duration": 6,
    "start_time": "2022-07-30T19:41:20.324Z"
   },
   {
    "duration": 43,
    "start_time": "2022-07-30T19:41:20.332Z"
   },
   {
    "duration": 5,
    "start_time": "2022-07-30T19:41:20.377Z"
   },
   {
    "duration": 12,
    "start_time": "2022-07-30T19:41:38.743Z"
   },
   {
    "duration": 7,
    "start_time": "2022-07-30T19:41:41.923Z"
   },
   {
    "duration": 22,
    "start_time": "2022-07-30T19:44:10.498Z"
   },
   {
    "duration": 5,
    "start_time": "2022-07-30T19:46:56.591Z"
   },
   {
    "duration": 7,
    "start_time": "2022-07-30T19:46:58.749Z"
   },
   {
    "duration": 4,
    "start_time": "2022-07-30T19:47:14.099Z"
   },
   {
    "duration": 5,
    "start_time": "2022-07-30T19:47:26.595Z"
   },
   {
    "duration": 4,
    "start_time": "2022-07-30T19:50:31.902Z"
   },
   {
    "duration": 4,
    "start_time": "2022-07-30T19:51:18.417Z"
   },
   {
    "duration": 5,
    "start_time": "2022-07-30T19:51:33.648Z"
   },
   {
    "duration": 14,
    "start_time": "2022-07-30T19:51:46.320Z"
   },
   {
    "duration": 8,
    "start_time": "2022-07-30T19:52:28.114Z"
   },
   {
    "duration": 8,
    "start_time": "2022-07-30T19:53:45.422Z"
   },
   {
    "duration": 9,
    "start_time": "2022-07-30T19:54:14.953Z"
   },
   {
    "duration": 7,
    "start_time": "2022-07-30T19:55:33.312Z"
   },
   {
    "duration": 10,
    "start_time": "2022-07-30T19:59:25.849Z"
   },
   {
    "duration": 23,
    "start_time": "2022-07-30T19:59:49.582Z"
   },
   {
    "duration": 14,
    "start_time": "2022-07-30T20:16:26.422Z"
   },
   {
    "duration": 10,
    "start_time": "2022-07-30T20:16:44.129Z"
   },
   {
    "duration": 5,
    "start_time": "2022-07-30T20:17:24.976Z"
   },
   {
    "duration": 7,
    "start_time": "2022-07-30T20:19:12.621Z"
   },
   {
    "duration": 8,
    "start_time": "2022-07-30T20:19:33.035Z"
   },
   {
    "duration": 740,
    "start_time": "2022-07-30T20:21:05.925Z"
   },
   {
    "duration": 5,
    "start_time": "2022-07-30T20:21:14.538Z"
   },
   {
    "duration": 6,
    "start_time": "2022-07-30T20:24:08.455Z"
   },
   {
    "duration": 12,
    "start_time": "2022-07-30T20:28:01.871Z"
   },
   {
    "duration": 13,
    "start_time": "2022-07-30T20:32:00.724Z"
   },
   {
    "duration": 5,
    "start_time": "2022-07-30T20:33:05.193Z"
   },
   {
    "duration": 20,
    "start_time": "2022-07-30T20:36:12.999Z"
   },
   {
    "duration": 16,
    "start_time": "2022-07-30T20:36:32.169Z"
   },
   {
    "duration": 18,
    "start_time": "2022-07-30T20:36:43.902Z"
   },
   {
    "duration": 17,
    "start_time": "2022-07-30T20:37:12.494Z"
   },
   {
    "duration": 27,
    "start_time": "2022-07-30T20:40:53.201Z"
   },
   {
    "duration": 31,
    "start_time": "2022-07-30T20:41:06.890Z"
   },
   {
    "duration": 17,
    "start_time": "2022-07-30T20:47:44.361Z"
   },
   {
    "duration": 22,
    "start_time": "2022-07-30T20:48:05.535Z"
   },
   {
    "duration": 19,
    "start_time": "2022-07-30T20:48:50.682Z"
   },
   {
    "duration": 7,
    "start_time": "2022-07-30T20:55:10.927Z"
   },
   {
    "duration": 23,
    "start_time": "2022-07-30T21:15:02.362Z"
   },
   {
    "duration": 189,
    "start_time": "2022-07-30T21:15:02.836Z"
   },
   {
    "duration": 25,
    "start_time": "2022-07-30T21:15:03.276Z"
   },
   {
    "duration": 21,
    "start_time": "2022-07-30T21:15:03.496Z"
   },
   {
    "duration": 17,
    "start_time": "2022-07-30T21:15:24.686Z"
   },
   {
    "duration": 25,
    "start_time": "2022-07-30T21:15:25.129Z"
   },
   {
    "duration": 5,
    "start_time": "2022-07-30T21:15:25.435Z"
   },
   {
    "duration": 60,
    "start_time": "2022-07-30T21:53:35.023Z"
   },
   {
    "duration": 4,
    "start_time": "2022-07-30T21:55:08.365Z"
   },
   {
    "duration": 10,
    "start_time": "2022-07-30T21:56:51.635Z"
   },
   {
    "duration": 5,
    "start_time": "2022-07-30T21:57:47.734Z"
   },
   {
    "duration": 4,
    "start_time": "2022-07-30T21:57:48.539Z"
   },
   {
    "duration": 13,
    "start_time": "2022-07-30T21:59:37.235Z"
   },
   {
    "duration": 8,
    "start_time": "2022-07-30T22:00:03.339Z"
   },
   {
    "duration": 205,
    "start_time": "2022-07-30T22:00:48.062Z"
   },
   {
    "duration": 262,
    "start_time": "2022-07-30T22:01:45.311Z"
   },
   {
    "duration": 11,
    "start_time": "2022-07-30T22:07:25.086Z"
   },
   {
    "duration": 15,
    "start_time": "2022-07-30T22:07:56.840Z"
   },
   {
    "duration": 77,
    "start_time": "2022-07-30T22:10:26.674Z"
   },
   {
    "duration": 4,
    "start_time": "2022-07-30T22:10:26.754Z"
   },
   {
    "duration": 4,
    "start_time": "2022-07-30T22:10:26.773Z"
   },
   {
    "duration": 21,
    "start_time": "2022-07-30T22:10:26.780Z"
   },
   {
    "duration": 44,
    "start_time": "2022-07-30T22:10:26.803Z"
   },
   {
    "duration": 7,
    "start_time": "2022-07-30T22:10:26.874Z"
   },
   {
    "duration": 22,
    "start_time": "2022-07-30T22:10:26.884Z"
   },
   {
    "duration": 35,
    "start_time": "2022-07-30T22:10:26.907Z"
   },
   {
    "duration": 45,
    "start_time": "2022-07-30T22:10:26.944Z"
   },
   {
    "duration": 4,
    "start_time": "2022-07-30T22:10:26.991Z"
   },
   {
    "duration": 19,
    "start_time": "2022-07-30T22:10:26.996Z"
   },
   {
    "duration": 35,
    "start_time": "2022-07-30T22:10:27.016Z"
   },
   {
    "duration": 7,
    "start_time": "2022-07-30T22:10:27.053Z"
   },
   {
    "duration": 29,
    "start_time": "2022-07-30T22:10:27.066Z"
   },
   {
    "duration": 5,
    "start_time": "2022-07-30T22:10:27.097Z"
   },
   {
    "duration": 17,
    "start_time": "2022-07-30T22:10:27.135Z"
   },
   {
    "duration": 6,
    "start_time": "2022-07-30T22:10:27.154Z"
   },
   {
    "duration": 4,
    "start_time": "2022-07-30T22:10:27.163Z"
   },
   {
    "duration": 21,
    "start_time": "2022-07-30T22:10:27.169Z"
   },
   {
    "duration": 4,
    "start_time": "2022-07-30T22:10:27.192Z"
   },
   {
    "duration": 6,
    "start_time": "2022-07-30T22:10:27.197Z"
   },
   {
    "duration": 38,
    "start_time": "2022-07-30T22:10:27.204Z"
   },
   {
    "duration": 17,
    "start_time": "2022-07-30T22:10:27.244Z"
   },
   {
    "duration": 20,
    "start_time": "2022-07-30T22:10:27.264Z"
   },
   {
    "duration": 9,
    "start_time": "2022-07-30T22:10:27.286Z"
   },
   {
    "duration": 7,
    "start_time": "2022-07-30T22:10:27.296Z"
   },
   {
    "duration": 40,
    "start_time": "2022-07-30T22:10:27.305Z"
   },
   {
    "duration": 6,
    "start_time": "2022-07-30T22:10:27.348Z"
   },
   {
    "duration": 15,
    "start_time": "2022-07-30T22:10:27.357Z"
   },
   {
    "duration": 16,
    "start_time": "2022-07-30T22:10:27.373Z"
   },
   {
    "duration": 5,
    "start_time": "2022-07-30T22:10:27.391Z"
   },
   {
    "duration": 48,
    "start_time": "2022-07-30T22:10:27.398Z"
   },
   {
    "duration": 19,
    "start_time": "2022-07-30T22:10:27.448Z"
   },
   {
    "duration": 21,
    "start_time": "2022-07-30T22:10:27.469Z"
   },
   {
    "duration": 4,
    "start_time": "2022-07-30T22:10:27.492Z"
   },
   {
    "duration": 4,
    "start_time": "2022-07-30T22:10:27.498Z"
   },
   {
    "duration": 6,
    "start_time": "2022-07-30T22:10:38.728Z"
   },
   {
    "duration": 4,
    "start_time": "2022-07-30T22:10:40.284Z"
   },
   {
    "duration": 14,
    "start_time": "2022-07-30T22:10:42.640Z"
   },
   {
    "duration": 15,
    "start_time": "2022-07-30T22:10:43.675Z"
   },
   {
    "duration": 11,
    "start_time": "2022-07-30T22:13:56.896Z"
   },
   {
    "duration": 14,
    "start_time": "2022-07-30T22:13:59.853Z"
   },
   {
    "duration": 21,
    "start_time": "2022-07-30T22:14:38.134Z"
   },
   {
    "duration": 76,
    "start_time": "2022-07-30T22:15:04.378Z"
   },
   {
    "duration": 3,
    "start_time": "2022-07-30T22:15:04.456Z"
   },
   {
    "duration": 4,
    "start_time": "2022-07-30T22:15:04.487Z"
   },
   {
    "duration": 26,
    "start_time": "2022-07-30T22:15:04.493Z"
   },
   {
    "duration": 40,
    "start_time": "2022-07-30T22:15:04.521Z"
   },
   {
    "duration": 7,
    "start_time": "2022-07-30T22:15:04.562Z"
   },
   {
    "duration": 28,
    "start_time": "2022-07-30T22:15:04.571Z"
   },
   {
    "duration": 27,
    "start_time": "2022-07-30T22:15:04.601Z"
   },
   {
    "duration": 27,
    "start_time": "2022-07-30T22:15:04.634Z"
   },
   {
    "duration": 4,
    "start_time": "2022-07-30T22:15:04.662Z"
   },
   {
    "duration": 19,
    "start_time": "2022-07-30T22:15:04.667Z"
   },
   {
    "duration": 56,
    "start_time": "2022-07-30T22:15:04.688Z"
   },
   {
    "duration": 6,
    "start_time": "2022-07-30T22:15:04.745Z"
   },
   {
    "duration": 27,
    "start_time": "2022-07-30T22:15:04.784Z"
   },
   {
    "duration": 4,
    "start_time": "2022-07-30T22:15:04.813Z"
   },
   {
    "duration": 10,
    "start_time": "2022-07-30T22:15:04.835Z"
   },
   {
    "duration": 8,
    "start_time": "2022-07-30T22:15:04.847Z"
   },
   {
    "duration": 4,
    "start_time": "2022-07-30T22:15:04.884Z"
   },
   {
    "duration": 23,
    "start_time": "2022-07-30T22:15:04.891Z"
   },
   {
    "duration": 25,
    "start_time": "2022-07-30T22:15:04.916Z"
   },
   {
    "duration": 7,
    "start_time": "2022-07-30T22:15:04.943Z"
   },
   {
    "duration": 6,
    "start_time": "2022-07-30T22:15:04.952Z"
   },
   {
    "duration": 6,
    "start_time": "2022-07-30T22:15:04.960Z"
   },
   {
    "duration": 27,
    "start_time": "2022-07-30T22:15:04.968Z"
   },
   {
    "duration": 13,
    "start_time": "2022-07-30T22:15:04.997Z"
   },
   {
    "duration": 25,
    "start_time": "2022-07-30T22:15:05.011Z"
   },
   {
    "duration": 15,
    "start_time": "2022-07-30T22:15:05.037Z"
   },
   {
    "duration": 6,
    "start_time": "2022-07-30T22:15:05.054Z"
   },
   {
    "duration": 14,
    "start_time": "2022-07-30T22:15:05.061Z"
   },
   {
    "duration": 11,
    "start_time": "2022-07-30T22:15:05.077Z"
   },
   {
    "duration": 4,
    "start_time": "2022-07-30T22:15:05.091Z"
   },
   {
    "duration": 52,
    "start_time": "2022-07-30T22:15:05.097Z"
   },
   {
    "duration": 16,
    "start_time": "2022-07-30T22:15:05.151Z"
   },
   {
    "duration": 18,
    "start_time": "2022-07-30T22:15:05.168Z"
   },
   {
    "duration": 4,
    "start_time": "2022-07-30T22:15:05.188Z"
   },
   {
    "duration": 6,
    "start_time": "2022-07-30T22:15:05.193Z"
   },
   {
    "duration": 24,
    "start_time": "2022-07-30T22:15:05.200Z"
   },
   {
    "duration": 8,
    "start_time": "2022-07-30T22:15:05.237Z"
   },
   {
    "duration": 4,
    "start_time": "2022-07-30T22:15:11.195Z"
   },
   {
    "duration": 21,
    "start_time": "2022-07-30T22:15:12.750Z"
   },
   {
    "duration": 20,
    "start_time": "2022-07-30T22:15:47.435Z"
   },
   {
    "duration": 12,
    "start_time": "2022-07-30T22:16:36.329Z"
   },
   {
    "duration": 27,
    "start_time": "2022-07-30T22:16:40.420Z"
   },
   {
    "duration": 11,
    "start_time": "2022-07-30T22:20:21.338Z"
   },
   {
    "duration": 22,
    "start_time": "2022-07-30T22:26:36.367Z"
   },
   {
    "duration": 23,
    "start_time": "2022-07-30T22:28:08.359Z"
   },
   {
    "duration": 9,
    "start_time": "2022-07-30T22:36:44.839Z"
   },
   {
    "duration": 10,
    "start_time": "2022-07-30T22:37:57.279Z"
   },
   {
    "duration": 8,
    "start_time": "2022-07-30T22:38:12.850Z"
   },
   {
    "duration": 10,
    "start_time": "2022-07-30T22:39:48.335Z"
   },
   {
    "duration": 12,
    "start_time": "2022-07-30T22:40:05.326Z"
   },
   {
    "duration": 8,
    "start_time": "2022-07-30T22:42:51.860Z"
   },
   {
    "duration": 9,
    "start_time": "2022-07-30T22:45:48.990Z"
   },
   {
    "duration": 10,
    "start_time": "2022-07-30T22:45:55.018Z"
   },
   {
    "duration": 545,
    "start_time": "2022-07-31T11:14:50.167Z"
   },
   {
    "duration": 4,
    "start_time": "2022-07-31T11:14:50.714Z"
   },
   {
    "duration": 8,
    "start_time": "2022-07-31T11:14:50.719Z"
   },
   {
    "duration": 25,
    "start_time": "2022-07-31T11:14:50.728Z"
   },
   {
    "duration": 16,
    "start_time": "2022-07-31T11:14:50.755Z"
   },
   {
    "duration": 6,
    "start_time": "2022-07-31T11:14:50.773Z"
   },
   {
    "duration": 80,
    "start_time": "2022-07-31T11:14:50.781Z"
   },
   {
    "duration": 0,
    "start_time": "2022-07-31T11:14:50.864Z"
   },
   {
    "duration": 0,
    "start_time": "2022-07-31T11:14:50.866Z"
   },
   {
    "duration": 0,
    "start_time": "2022-07-31T11:14:50.867Z"
   },
   {
    "duration": 0,
    "start_time": "2022-07-31T11:14:50.868Z"
   },
   {
    "duration": 0,
    "start_time": "2022-07-31T11:14:50.869Z"
   },
   {
    "duration": 0,
    "start_time": "2022-07-31T11:14:50.870Z"
   },
   {
    "duration": 0,
    "start_time": "2022-07-31T11:14:50.871Z"
   },
   {
    "duration": 0,
    "start_time": "2022-07-31T11:14:50.872Z"
   },
   {
    "duration": 0,
    "start_time": "2022-07-31T11:14:50.873Z"
   },
   {
    "duration": 0,
    "start_time": "2022-07-31T11:14:50.874Z"
   },
   {
    "duration": 0,
    "start_time": "2022-07-31T11:14:50.875Z"
   },
   {
    "duration": 0,
    "start_time": "2022-07-31T11:14:50.876Z"
   },
   {
    "duration": 0,
    "start_time": "2022-07-31T11:14:50.877Z"
   },
   {
    "duration": 0,
    "start_time": "2022-07-31T11:14:50.878Z"
   },
   {
    "duration": 0,
    "start_time": "2022-07-31T11:14:50.879Z"
   },
   {
    "duration": 0,
    "start_time": "2022-07-31T11:14:50.880Z"
   },
   {
    "duration": 0,
    "start_time": "2022-07-31T11:14:50.881Z"
   },
   {
    "duration": 0,
    "start_time": "2022-07-31T11:14:50.882Z"
   },
   {
    "duration": 0,
    "start_time": "2022-07-31T11:14:50.884Z"
   },
   {
    "duration": 0,
    "start_time": "2022-07-31T11:14:50.884Z"
   },
   {
    "duration": 0,
    "start_time": "2022-07-31T11:14:50.924Z"
   },
   {
    "duration": 0,
    "start_time": "2022-07-31T11:14:50.925Z"
   },
   {
    "duration": 0,
    "start_time": "2022-07-31T11:14:50.926Z"
   },
   {
    "duration": 0,
    "start_time": "2022-07-31T11:14:50.928Z"
   },
   {
    "duration": 0,
    "start_time": "2022-07-31T11:14:50.928Z"
   },
   {
    "duration": 0,
    "start_time": "2022-07-31T11:14:50.929Z"
   },
   {
    "duration": 0,
    "start_time": "2022-07-31T11:14:50.931Z"
   },
   {
    "duration": 0,
    "start_time": "2022-07-31T11:14:50.932Z"
   },
   {
    "duration": 0,
    "start_time": "2022-07-31T11:14:50.933Z"
   },
   {
    "duration": 0,
    "start_time": "2022-07-31T11:14:50.935Z"
   },
   {
    "duration": 0,
    "start_time": "2022-07-31T11:14:50.936Z"
   },
   {
    "duration": 0,
    "start_time": "2022-07-31T11:14:50.938Z"
   },
   {
    "duration": 0,
    "start_time": "2022-07-31T11:14:50.939Z"
   },
   {
    "duration": 0,
    "start_time": "2022-07-31T11:14:50.940Z"
   },
   {
    "duration": 0,
    "start_time": "2022-07-31T11:14:50.941Z"
   },
   {
    "duration": 74,
    "start_time": "2022-07-31T11:15:57.450Z"
   },
   {
    "duration": 4,
    "start_time": "2022-07-31T11:15:57.526Z"
   },
   {
    "duration": 9,
    "start_time": "2022-07-31T11:15:57.532Z"
   },
   {
    "duration": 33,
    "start_time": "2022-07-31T11:15:57.543Z"
   },
   {
    "duration": 22,
    "start_time": "2022-07-31T11:15:57.578Z"
   },
   {
    "duration": 24,
    "start_time": "2022-07-31T11:15:57.601Z"
   },
   {
    "duration": 8,
    "start_time": "2022-07-31T11:15:57.627Z"
   },
   {
    "duration": 0,
    "start_time": "2022-07-31T11:15:57.637Z"
   },
   {
    "duration": 0,
    "start_time": "2022-07-31T11:15:57.638Z"
   },
   {
    "duration": 4,
    "start_time": "2022-07-31T11:15:57.717Z"
   },
   {
    "duration": 17,
    "start_time": "2022-07-31T11:15:57.723Z"
   },
   {
    "duration": 0,
    "start_time": "2022-07-31T11:15:57.743Z"
   },
   {
    "duration": 0,
    "start_time": "2022-07-31T11:15:57.744Z"
   },
   {
    "duration": 0,
    "start_time": "2022-07-31T11:15:57.745Z"
   },
   {
    "duration": 0,
    "start_time": "2022-07-31T11:15:57.747Z"
   },
   {
    "duration": 0,
    "start_time": "2022-07-31T11:15:57.748Z"
   },
   {
    "duration": 0,
    "start_time": "2022-07-31T11:15:57.749Z"
   },
   {
    "duration": 0,
    "start_time": "2022-07-31T11:15:57.749Z"
   },
   {
    "duration": 0,
    "start_time": "2022-07-31T11:15:57.750Z"
   },
   {
    "duration": 0,
    "start_time": "2022-07-31T11:15:57.752Z"
   },
   {
    "duration": 0,
    "start_time": "2022-07-31T11:15:57.752Z"
   },
   {
    "duration": 0,
    "start_time": "2022-07-31T11:15:57.753Z"
   },
   {
    "duration": 0,
    "start_time": "2022-07-31T11:15:57.754Z"
   },
   {
    "duration": 0,
    "start_time": "2022-07-31T11:15:57.757Z"
   },
   {
    "duration": 0,
    "start_time": "2022-07-31T11:15:57.758Z"
   },
   {
    "duration": 0,
    "start_time": "2022-07-31T11:15:57.759Z"
   },
   {
    "duration": 0,
    "start_time": "2022-07-31T11:15:57.759Z"
   },
   {
    "duration": 0,
    "start_time": "2022-07-31T11:15:57.760Z"
   },
   {
    "duration": 0,
    "start_time": "2022-07-31T11:15:57.761Z"
   },
   {
    "duration": 0,
    "start_time": "2022-07-31T11:15:57.762Z"
   },
   {
    "duration": 0,
    "start_time": "2022-07-31T11:15:57.763Z"
   },
   {
    "duration": 0,
    "start_time": "2022-07-31T11:15:57.765Z"
   },
   {
    "duration": 0,
    "start_time": "2022-07-31T11:15:57.766Z"
   },
   {
    "duration": 0,
    "start_time": "2022-07-31T11:15:57.766Z"
   },
   {
    "duration": 0,
    "start_time": "2022-07-31T11:15:57.767Z"
   },
   {
    "duration": 0,
    "start_time": "2022-07-31T11:15:57.768Z"
   },
   {
    "duration": 0,
    "start_time": "2022-07-31T11:15:57.769Z"
   },
   {
    "duration": 0,
    "start_time": "2022-07-31T11:15:57.770Z"
   },
   {
    "duration": 0,
    "start_time": "2022-07-31T11:15:57.771Z"
   },
   {
    "duration": 0,
    "start_time": "2022-07-31T11:15:57.772Z"
   },
   {
    "duration": 0,
    "start_time": "2022-07-31T11:15:57.824Z"
   },
   {
    "duration": 0,
    "start_time": "2022-07-31T11:15:57.825Z"
   },
   {
    "duration": 7,
    "start_time": "2022-07-31T11:17:45.747Z"
   },
   {
    "duration": 20,
    "start_time": "2022-07-31T11:21:56.405Z"
   },
   {
    "duration": 27,
    "start_time": "2022-07-31T11:22:35.049Z"
   },
   {
    "duration": 15,
    "start_time": "2022-07-31T11:23:22.160Z"
   },
   {
    "duration": 13,
    "start_time": "2022-07-31T11:24:42.147Z"
   },
   {
    "duration": 23,
    "start_time": "2022-07-31T11:26:12.135Z"
   },
   {
    "duration": 20,
    "start_time": "2022-07-31T11:26:19.051Z"
   },
   {
    "duration": 14,
    "start_time": "2022-07-31T11:26:43.453Z"
   },
   {
    "duration": 224,
    "start_time": "2022-07-31T11:27:39.217Z"
   },
   {
    "duration": 287,
    "start_time": "2022-07-31T11:28:06.173Z"
   },
   {
    "duration": 28,
    "start_time": "2022-07-31T11:34:34.860Z"
   },
   {
    "duration": 25,
    "start_time": "2022-07-31T11:35:00.308Z"
   },
   {
    "duration": 27,
    "start_time": "2022-07-31T11:35:09.883Z"
   },
   {
    "duration": 4,
    "start_time": "2022-07-31T11:35:12.942Z"
   },
   {
    "duration": 15,
    "start_time": "2022-07-31T11:35:15.763Z"
   },
   {
    "duration": 30,
    "start_time": "2022-07-31T11:35:20.069Z"
   },
   {
    "duration": 7,
    "start_time": "2022-07-31T11:35:22.079Z"
   },
   {
    "duration": 34,
    "start_time": "2022-07-31T11:35:23.245Z"
   },
   {
    "duration": 6,
    "start_time": "2022-07-31T11:35:27.841Z"
   },
   {
    "duration": 20,
    "start_time": "2022-07-31T11:35:29.711Z"
   },
   {
    "duration": 7,
    "start_time": "2022-07-31T11:35:33.159Z"
   },
   {
    "duration": 4,
    "start_time": "2022-07-31T11:35:36.102Z"
   },
   {
    "duration": 27,
    "start_time": "2022-07-31T11:35:37.279Z"
   },
   {
    "duration": 4,
    "start_time": "2022-07-31T11:35:39.510Z"
   },
   {
    "duration": 6,
    "start_time": "2022-07-31T11:35:39.516Z"
   },
   {
    "duration": 4,
    "start_time": "2022-07-31T11:35:40.658Z"
   },
   {
    "duration": 5,
    "start_time": "2022-07-31T11:35:42.957Z"
   },
   {
    "duration": 30,
    "start_time": "2022-07-31T11:35:44.207Z"
   },
   {
    "duration": 6,
    "start_time": "2022-07-31T11:35:45.268Z"
   },
   {
    "duration": 8,
    "start_time": "2022-07-31T11:35:45.843Z"
   },
   {
    "duration": 4,
    "start_time": "2022-07-31T11:35:46.963Z"
   },
   {
    "duration": 5,
    "start_time": "2022-07-31T11:35:50.180Z"
   },
   {
    "duration": 13,
    "start_time": "2022-07-31T11:35:52.598Z"
   },
   {
    "duration": 15,
    "start_time": "2022-07-31T11:35:55.515Z"
   },
   {
    "duration": 7,
    "start_time": "2022-07-31T11:35:58.287Z"
   },
   {
    "duration": 30,
    "start_time": "2022-07-31T11:36:11.051Z"
   },
   {
    "duration": 17,
    "start_time": "2022-07-31T11:36:12.970Z"
   },
   {
    "duration": 21,
    "start_time": "2022-07-31T11:36:13.480Z"
   },
   {
    "duration": 4,
    "start_time": "2022-07-31T11:36:15.190Z"
   },
   {
    "duration": 4,
    "start_time": "2022-07-31T11:36:18.770Z"
   },
   {
    "duration": 6,
    "start_time": "2022-07-31T11:36:22.151Z"
   },
   {
    "duration": 4,
    "start_time": "2022-07-31T11:36:24.043Z"
   },
   {
    "duration": 13,
    "start_time": "2022-07-31T11:36:24.049Z"
   },
   {
    "duration": 14,
    "start_time": "2022-07-31T11:36:24.064Z"
   },
   {
    "duration": 24,
    "start_time": "2022-07-31T11:36:27.839Z"
   },
   {
    "duration": 7,
    "start_time": "2022-07-31T11:36:27.866Z"
   },
   {
    "duration": 9,
    "start_time": "2022-07-31T11:36:29.391Z"
   },
   {
    "duration": 9,
    "start_time": "2022-07-31T11:37:11.843Z"
   },
   {
    "duration": 12,
    "start_time": "2022-07-31T11:37:23.048Z"
   },
   {
    "duration": 12,
    "start_time": "2022-07-31T11:47:36.007Z"
   },
   {
    "duration": 8,
    "start_time": "2022-07-31T11:48:35.700Z"
   },
   {
    "duration": 23,
    "start_time": "2022-07-31T11:55:22.328Z"
   },
   {
    "duration": 11,
    "start_time": "2022-07-31T11:55:52.453Z"
   },
   {
    "duration": 14,
    "start_time": "2022-07-31T11:55:56.559Z"
   },
   {
    "duration": 13,
    "start_time": "2022-07-31T11:56:38.668Z"
   },
   {
    "duration": 10,
    "start_time": "2022-07-31T11:56:41.312Z"
   },
   {
    "duration": 46,
    "start_time": "2022-07-31T12:12:49.958Z"
   },
   {
    "duration": 66,
    "start_time": "2022-07-31T12:13:10.278Z"
   },
   {
    "duration": 5,
    "start_time": "2022-07-31T12:13:24.436Z"
   },
   {
    "duration": 7,
    "start_time": "2022-07-31T12:16:03.095Z"
   },
   {
    "duration": 6,
    "start_time": "2022-07-31T12:16:15.764Z"
   },
   {
    "duration": 4,
    "start_time": "2022-07-31T12:16:33.543Z"
   },
   {
    "duration": 10,
    "start_time": "2022-07-31T12:21:16.317Z"
   },
   {
    "duration": 3,
    "start_time": "2022-07-31T12:21:26.077Z"
   },
   {
    "duration": 7,
    "start_time": "2022-07-31T12:21:26.820Z"
   },
   {
    "duration": 5,
    "start_time": "2022-07-31T12:21:46.845Z"
   },
   {
    "duration": 6,
    "start_time": "2022-07-31T12:22:36.645Z"
   },
   {
    "duration": 6,
    "start_time": "2022-07-31T12:23:12.217Z"
   },
   {
    "duration": 14,
    "start_time": "2022-07-31T12:31:37.314Z"
   },
   {
    "duration": 59,
    "start_time": "2022-07-31T12:32:19.814Z"
   },
   {
    "duration": 12,
    "start_time": "2022-07-31T12:33:08.041Z"
   },
   {
    "duration": 562,
    "start_time": "2022-07-31T15:41:25.371Z"
   },
   {
    "duration": 4,
    "start_time": "2022-07-31T15:41:25.934Z"
   },
   {
    "duration": 17,
    "start_time": "2022-07-31T15:41:25.940Z"
   },
   {
    "duration": 26,
    "start_time": "2022-07-31T15:41:25.958Z"
   },
   {
    "duration": 21,
    "start_time": "2022-07-31T15:41:25.986Z"
   },
   {
    "duration": 8,
    "start_time": "2022-07-31T15:41:26.009Z"
   },
   {
    "duration": 61,
    "start_time": "2022-07-31T15:41:26.018Z"
   },
   {
    "duration": 25,
    "start_time": "2022-07-31T15:41:26.081Z"
   },
   {
    "duration": 38,
    "start_time": "2022-07-31T15:41:26.108Z"
   },
   {
    "duration": 17,
    "start_time": "2022-07-31T15:41:26.152Z"
   },
   {
    "duration": 25,
    "start_time": "2022-07-31T15:41:26.171Z"
   },
   {
    "duration": 31,
    "start_time": "2022-07-31T15:41:26.198Z"
   },
   {
    "duration": 22,
    "start_time": "2022-07-31T15:41:26.231Z"
   },
   {
    "duration": 40,
    "start_time": "2022-07-31T15:41:26.257Z"
   },
   {
    "duration": 6,
    "start_time": "2022-07-31T15:41:26.298Z"
   },
   {
    "duration": 15,
    "start_time": "2022-07-31T15:41:26.305Z"
   },
   {
    "duration": 12,
    "start_time": "2022-07-31T15:41:26.322Z"
   },
   {
    "duration": 8,
    "start_time": "2022-07-31T15:41:26.335Z"
   },
   {
    "duration": 27,
    "start_time": "2022-07-31T15:41:26.352Z"
   },
   {
    "duration": 4,
    "start_time": "2022-07-31T15:41:26.380Z"
   },
   {
    "duration": 7,
    "start_time": "2022-07-31T15:41:26.385Z"
   },
   {
    "duration": 7,
    "start_time": "2022-07-31T15:41:26.394Z"
   },
   {
    "duration": 7,
    "start_time": "2022-07-31T15:41:26.402Z"
   },
   {
    "duration": 19,
    "start_time": "2022-07-31T15:41:26.410Z"
   },
   {
    "duration": 22,
    "start_time": "2022-07-31T15:41:26.430Z"
   },
   {
    "duration": 6,
    "start_time": "2022-07-31T15:41:26.454Z"
   },
   {
    "duration": 6,
    "start_time": "2022-07-31T15:41:26.461Z"
   },
   {
    "duration": 5,
    "start_time": "2022-07-31T15:41:26.469Z"
   },
   {
    "duration": 12,
    "start_time": "2022-07-31T15:41:26.475Z"
   },
   {
    "duration": 11,
    "start_time": "2022-07-31T15:41:26.489Z"
   },
   {
    "duration": 5,
    "start_time": "2022-07-31T15:41:26.501Z"
   },
   {
    "duration": 58,
    "start_time": "2022-07-31T15:41:26.507Z"
   },
   {
    "duration": 14,
    "start_time": "2022-07-31T15:41:26.567Z"
   },
   {
    "duration": 21,
    "start_time": "2022-07-31T15:41:26.583Z"
   },
   {
    "duration": 3,
    "start_time": "2022-07-31T15:41:26.606Z"
   },
   {
    "duration": 8,
    "start_time": "2022-07-31T15:41:26.610Z"
   },
   {
    "duration": 10,
    "start_time": "2022-07-31T15:41:26.619Z"
   },
   {
    "duration": 6,
    "start_time": "2022-07-31T15:41:26.652Z"
   },
   {
    "duration": 13,
    "start_time": "2022-07-31T15:41:26.659Z"
   },
   {
    "duration": 15,
    "start_time": "2022-07-31T15:41:26.674Z"
   },
   {
    "duration": 35,
    "start_time": "2022-07-31T15:41:26.693Z"
   },
   {
    "duration": 27,
    "start_time": "2022-07-31T15:41:26.730Z"
   },
   {
    "duration": 9,
    "start_time": "2022-07-31T15:41:26.759Z"
   },
   {
    "duration": 8,
    "start_time": "2022-07-31T15:41:26.769Z"
   },
   {
    "duration": 8,
    "start_time": "2022-07-31T15:41:26.779Z"
   },
   {
    "duration": 9,
    "start_time": "2022-07-31T15:41:26.788Z"
   },
   {
    "duration": 11,
    "start_time": "2022-07-31T15:41:26.798Z"
   },
   {
    "duration": 4,
    "start_time": "2022-07-31T15:41:26.810Z"
   },
   {
    "duration": 1188,
    "start_time": "2022-07-31T16:27:09.281Z"
   },
   {
    "duration": 19,
    "start_time": "2022-07-31T16:27:37.667Z"
   },
   {
    "duration": 60,
    "start_time": "2022-07-31T16:28:25.924Z"
   },
   {
    "duration": 3,
    "start_time": "2022-07-31T16:28:25.986Z"
   },
   {
    "duration": 9,
    "start_time": "2022-07-31T16:28:25.990Z"
   },
   {
    "duration": 31,
    "start_time": "2022-07-31T16:28:26.003Z"
   },
   {
    "duration": 30,
    "start_time": "2022-07-31T16:28:26.036Z"
   },
   {
    "duration": 11,
    "start_time": "2022-07-31T16:28:26.068Z"
   },
   {
    "duration": 35,
    "start_time": "2022-07-31T16:28:26.081Z"
   },
   {
    "duration": 46,
    "start_time": "2022-07-31T16:28:26.118Z"
   },
   {
    "duration": 36,
    "start_time": "2022-07-31T16:28:26.166Z"
   },
   {
    "duration": 5,
    "start_time": "2022-07-31T16:28:26.206Z"
   },
   {
    "duration": 45,
    "start_time": "2022-07-31T16:28:26.213Z"
   },
   {
    "duration": 36,
    "start_time": "2022-07-31T16:28:26.260Z"
   },
   {
    "duration": 6,
    "start_time": "2022-07-31T16:28:26.298Z"
   },
   {
    "duration": 53,
    "start_time": "2022-07-31T16:28:26.306Z"
   },
   {
    "duration": 6,
    "start_time": "2022-07-31T16:28:26.362Z"
   },
   {
    "duration": 12,
    "start_time": "2022-07-31T16:28:26.370Z"
   },
   {
    "duration": 5,
    "start_time": "2022-07-31T16:28:26.384Z"
   },
   {
    "duration": 8,
    "start_time": "2022-07-31T16:28:26.390Z"
   },
   {
    "duration": 20,
    "start_time": "2022-07-31T16:28:26.399Z"
   },
   {
    "duration": 4,
    "start_time": "2022-07-31T16:28:26.420Z"
   },
   {
    "duration": 30,
    "start_time": "2022-07-31T16:28:26.425Z"
   },
   {
    "duration": 7,
    "start_time": "2022-07-31T16:28:26.456Z"
   },
   {
    "duration": 5,
    "start_time": "2022-07-31T16:28:26.464Z"
   },
   {
    "duration": 19,
    "start_time": "2022-07-31T16:28:26.471Z"
   },
   {
    "duration": 10,
    "start_time": "2022-07-31T16:28:26.491Z"
   },
   {
    "duration": 5,
    "start_time": "2022-07-31T16:28:26.504Z"
   },
   {
    "duration": 4,
    "start_time": "2022-07-31T16:28:26.511Z"
   },
   {
    "duration": 37,
    "start_time": "2022-07-31T16:28:26.516Z"
   },
   {
    "duration": 12,
    "start_time": "2022-07-31T16:28:26.554Z"
   },
   {
    "duration": 12,
    "start_time": "2022-07-31T16:28:26.567Z"
   },
   {
    "duration": 6,
    "start_time": "2022-07-31T16:28:26.580Z"
   },
   {
    "duration": 71,
    "start_time": "2022-07-31T16:28:26.588Z"
   },
   {
    "duration": 17,
    "start_time": "2022-07-31T16:28:26.661Z"
   },
   {
    "duration": 30,
    "start_time": "2022-07-31T16:28:26.680Z"
   },
   {
    "duration": 4,
    "start_time": "2022-07-31T16:28:26.712Z"
   },
   {
    "duration": 4,
    "start_time": "2022-07-31T16:28:26.717Z"
   },
   {
    "duration": 5,
    "start_time": "2022-07-31T16:28:26.752Z"
   },
   {
    "duration": 7,
    "start_time": "2022-07-31T16:28:26.759Z"
   },
   {
    "duration": 16,
    "start_time": "2022-07-31T16:28:26.767Z"
   },
   {
    "duration": 15,
    "start_time": "2022-07-31T16:28:26.784Z"
   },
   {
    "duration": 23,
    "start_time": "2022-07-31T16:28:26.801Z"
   },
   {
    "duration": 36,
    "start_time": "2022-07-31T16:28:26.826Z"
   },
   {
    "duration": 10,
    "start_time": "2022-07-31T16:28:26.864Z"
   },
   {
    "duration": 9,
    "start_time": "2022-07-31T16:28:26.876Z"
   },
   {
    "duration": 8,
    "start_time": "2022-07-31T16:28:26.887Z"
   },
   {
    "duration": 8,
    "start_time": "2022-07-31T16:28:26.897Z"
   },
   {
    "duration": 52,
    "start_time": "2022-07-31T16:28:26.907Z"
   },
   {
    "duration": 3,
    "start_time": "2022-07-31T16:28:26.961Z"
   },
   {
    "duration": 4,
    "start_time": "2022-07-31T16:28:26.966Z"
   },
   {
    "duration": 7,
    "start_time": "2022-07-31T16:28:26.972Z"
   },
   {
    "duration": 5,
    "start_time": "2022-07-31T16:28:31.303Z"
   },
   {
    "duration": 1009,
    "start_time": "2022-07-31T16:28:32.650Z"
   },
   {
    "duration": 1046,
    "start_time": "2022-07-31T16:29:56.837Z"
   },
   {
    "duration": 6,
    "start_time": "2022-07-31T16:30:57.943Z"
   },
   {
    "duration": 15,
    "start_time": "2022-07-31T16:32:28.578Z"
   },
   {
    "duration": 87,
    "start_time": "2022-07-31T16:42:49.322Z"
   },
   {
    "duration": 5,
    "start_time": "2022-07-31T16:42:49.411Z"
   },
   {
    "duration": 12,
    "start_time": "2022-07-31T16:42:49.419Z"
   },
   {
    "duration": 48,
    "start_time": "2022-07-31T16:42:49.434Z"
   },
   {
    "duration": 24,
    "start_time": "2022-07-31T16:42:49.484Z"
   },
   {
    "duration": 8,
    "start_time": "2022-07-31T16:42:49.511Z"
   },
   {
    "duration": 81,
    "start_time": "2022-07-31T16:42:49.521Z"
   },
   {
    "duration": 51,
    "start_time": "2022-07-31T16:42:49.604Z"
   },
   {
    "duration": 40,
    "start_time": "2022-07-31T16:42:49.658Z"
   },
   {
    "duration": 6,
    "start_time": "2022-07-31T16:42:49.701Z"
   },
   {
    "duration": 56,
    "start_time": "2022-07-31T16:42:49.708Z"
   },
   {
    "duration": 41,
    "start_time": "2022-07-31T16:42:49.767Z"
   },
   {
    "duration": 7,
    "start_time": "2022-07-31T16:42:49.810Z"
   },
   {
    "duration": 67,
    "start_time": "2022-07-31T16:42:49.819Z"
   },
   {
    "duration": 8,
    "start_time": "2022-07-31T16:42:49.892Z"
   },
   {
    "duration": 21,
    "start_time": "2022-07-31T16:42:49.902Z"
   },
   {
    "duration": 28,
    "start_time": "2022-07-31T16:42:49.926Z"
   },
   {
    "duration": 6,
    "start_time": "2022-07-31T16:42:49.956Z"
   },
   {
    "duration": 35,
    "start_time": "2022-07-31T16:42:49.964Z"
   },
   {
    "duration": 6,
    "start_time": "2022-07-31T16:42:50.002Z"
   },
   {
    "duration": 9,
    "start_time": "2022-07-31T16:42:50.010Z"
   },
   {
    "duration": 6,
    "start_time": "2022-07-31T16:42:50.053Z"
   },
   {
    "duration": 11,
    "start_time": "2022-07-31T16:42:50.062Z"
   },
   {
    "duration": 48,
    "start_time": "2022-07-31T16:42:50.092Z"
   },
   {
    "duration": 7,
    "start_time": "2022-07-31T16:42:50.143Z"
   },
   {
    "duration": 16,
    "start_time": "2022-07-31T16:42:50.152Z"
   },
   {
    "duration": 7,
    "start_time": "2022-07-31T16:42:50.170Z"
   },
   {
    "duration": 9,
    "start_time": "2022-07-31T16:42:50.181Z"
   },
   {
    "duration": 21,
    "start_time": "2022-07-31T16:42:50.192Z"
   },
   {
    "duration": 40,
    "start_time": "2022-07-31T16:42:50.215Z"
   },
   {
    "duration": 7,
    "start_time": "2022-07-31T16:42:50.258Z"
   },
   {
    "duration": 50,
    "start_time": "2022-07-31T16:42:50.267Z"
   },
   {
    "duration": 49,
    "start_time": "2022-07-31T16:42:50.320Z"
   },
   {
    "duration": 31,
    "start_time": "2022-07-31T16:42:50.371Z"
   },
   {
    "duration": 5,
    "start_time": "2022-07-31T16:42:50.405Z"
   },
   {
    "duration": 19,
    "start_time": "2022-07-31T16:42:50.412Z"
   },
   {
    "duration": 21,
    "start_time": "2022-07-31T16:42:50.433Z"
   },
   {
    "duration": 15,
    "start_time": "2022-07-31T16:42:50.457Z"
   },
   {
    "duration": 25,
    "start_time": "2022-07-31T16:42:50.475Z"
   },
   {
    "duration": 23,
    "start_time": "2022-07-31T16:42:50.502Z"
   },
   {
    "duration": 57,
    "start_time": "2022-07-31T16:42:50.528Z"
   },
   {
    "duration": 13,
    "start_time": "2022-07-31T16:42:50.587Z"
   },
   {
    "duration": 27,
    "start_time": "2022-07-31T16:42:50.603Z"
   },
   {
    "duration": 26,
    "start_time": "2022-07-31T16:42:50.633Z"
   },
   {
    "duration": 25,
    "start_time": "2022-07-31T16:42:50.661Z"
   },
   {
    "duration": 14,
    "start_time": "2022-07-31T16:42:50.688Z"
   },
   {
    "duration": 14,
    "start_time": "2022-07-31T16:42:50.704Z"
   },
   {
    "duration": 5,
    "start_time": "2022-07-31T16:42:50.720Z"
   },
   {
    "duration": 6,
    "start_time": "2022-07-31T16:42:50.753Z"
   },
   {
    "duration": 12,
    "start_time": "2022-07-31T16:42:50.761Z"
   },
   {
    "duration": 10,
    "start_time": "2022-07-31T16:42:56.265Z"
   },
   {
    "duration": 292,
    "start_time": "2022-07-31T16:43:00.784Z"
   },
   {
    "duration": 1189,
    "start_time": "2022-07-31T16:45:22.074Z"
   },
   {
    "duration": 12,
    "start_time": "2022-07-31T16:45:27.258Z"
   },
   {
    "duration": 11,
    "start_time": "2022-07-31T16:45:59.234Z"
   },
   {
    "duration": 21,
    "start_time": "2022-07-31T16:46:34.193Z"
   },
   {
    "duration": 1107,
    "start_time": "2022-07-31T16:51:17.191Z"
   },
   {
    "duration": 281,
    "start_time": "2022-07-31T16:51:26.693Z"
   },
   {
    "duration": 443,
    "start_time": "2022-07-31T16:59:32.679Z"
   },
   {
    "duration": 344,
    "start_time": "2022-07-31T17:02:06.272Z"
   },
   {
    "duration": 17,
    "start_time": "2022-07-31T17:02:55.312Z"
   },
   {
    "duration": 306,
    "start_time": "2022-07-31T17:05:21.374Z"
   },
   {
    "duration": 444,
    "start_time": "2022-07-31T17:05:44.392Z"
   },
   {
    "duration": 114,
    "start_time": "2022-07-31T17:08:39.035Z"
   },
   {
    "duration": 12,
    "start_time": "2022-07-31T17:08:39.151Z"
   },
   {
    "duration": 8,
    "start_time": "2022-07-31T17:08:39.164Z"
   },
   {
    "duration": 105,
    "start_time": "2022-07-31T17:08:39.174Z"
   },
   {
    "duration": 78,
    "start_time": "2022-07-31T17:08:39.284Z"
   },
   {
    "duration": 36,
    "start_time": "2022-07-31T17:08:39.373Z"
   },
   {
    "duration": 69,
    "start_time": "2022-07-31T17:08:39.413Z"
   },
   {
    "duration": 58,
    "start_time": "2022-07-31T17:08:39.486Z"
   },
   {
    "duration": 43,
    "start_time": "2022-07-31T17:08:39.546Z"
   },
   {
    "duration": 6,
    "start_time": "2022-07-31T17:08:39.595Z"
   },
   {
    "duration": 53,
    "start_time": "2022-07-31T17:08:39.603Z"
   },
   {
    "duration": 52,
    "start_time": "2022-07-31T17:08:39.660Z"
   },
   {
    "duration": 23,
    "start_time": "2022-07-31T17:08:39.715Z"
   },
   {
    "duration": 38,
    "start_time": "2022-07-31T17:08:39.741Z"
   },
   {
    "duration": 45,
    "start_time": "2022-07-31T17:08:39.784Z"
   },
   {
    "duration": 19,
    "start_time": "2022-07-31T17:08:39.831Z"
   },
   {
    "duration": 39,
    "start_time": "2022-07-31T17:08:39.852Z"
   },
   {
    "duration": 34,
    "start_time": "2022-07-31T17:08:39.893Z"
   },
   {
    "duration": 24,
    "start_time": "2022-07-31T17:08:39.929Z"
   },
   {
    "duration": 71,
    "start_time": "2022-07-31T17:08:39.954Z"
   },
   {
    "duration": 8,
    "start_time": "2022-07-31T17:08:40.027Z"
   },
   {
    "duration": 6,
    "start_time": "2022-07-31T17:08:40.037Z"
   },
   {
    "duration": 8,
    "start_time": "2022-07-31T17:08:40.044Z"
   },
   {
    "duration": 83,
    "start_time": "2022-07-31T17:08:40.060Z"
   },
   {
    "duration": 17,
    "start_time": "2022-07-31T17:08:40.145Z"
   },
   {
    "duration": 47,
    "start_time": "2022-07-31T17:08:40.169Z"
   },
   {
    "duration": 16,
    "start_time": "2022-07-31T17:08:40.217Z"
   },
   {
    "duration": 6,
    "start_time": "2022-07-31T17:08:40.235Z"
   },
   {
    "duration": 23,
    "start_time": "2022-07-31T17:08:40.243Z"
   },
   {
    "duration": 66,
    "start_time": "2022-07-31T17:08:40.270Z"
   },
   {
    "duration": 4,
    "start_time": "2022-07-31T17:08:40.338Z"
   },
   {
    "duration": 50,
    "start_time": "2022-07-31T17:08:40.344Z"
   },
   {
    "duration": 41,
    "start_time": "2022-07-31T17:08:40.398Z"
   },
   {
    "duration": 40,
    "start_time": "2022-07-31T17:08:40.441Z"
   },
   {
    "duration": 24,
    "start_time": "2022-07-31T17:08:40.490Z"
   },
   {
    "duration": 11,
    "start_time": "2022-07-31T17:08:40.526Z"
   },
   {
    "duration": 8,
    "start_time": "2022-07-31T17:08:40.539Z"
   },
   {
    "duration": 79,
    "start_time": "2022-07-31T17:08:40.549Z"
   },
   {
    "duration": 13,
    "start_time": "2022-07-31T17:08:40.630Z"
   },
   {
    "duration": 47,
    "start_time": "2022-07-31T17:08:40.645Z"
   },
   {
    "duration": 58,
    "start_time": "2022-07-31T17:08:40.707Z"
   },
   {
    "duration": 21,
    "start_time": "2022-07-31T17:08:40.766Z"
   },
   {
    "duration": 44,
    "start_time": "2022-07-31T17:08:40.789Z"
   },
   {
    "duration": 9,
    "start_time": "2022-07-31T17:08:40.835Z"
   },
   {
    "duration": 13,
    "start_time": "2022-07-31T17:08:40.846Z"
   },
   {
    "duration": 70,
    "start_time": "2022-07-31T17:08:40.860Z"
   },
   {
    "duration": 9,
    "start_time": "2022-07-31T17:08:40.932Z"
   },
   {
    "duration": 4,
    "start_time": "2022-07-31T17:08:40.943Z"
   },
   {
    "duration": 10,
    "start_time": "2022-07-31T17:08:44.947Z"
   },
   {
    "duration": 3,
    "start_time": "2022-07-31T17:08:48.479Z"
   },
   {
    "duration": 9,
    "start_time": "2022-07-31T17:08:50.304Z"
   },
   {
    "duration": 70,
    "start_time": "2022-07-31T17:09:33.472Z"
   },
   {
    "duration": 4,
    "start_time": "2022-07-31T17:10:33.815Z"
   },
   {
    "duration": 2115,
    "start_time": "2022-07-31T17:10:37.279Z"
   },
   {
    "duration": 11,
    "start_time": "2022-07-31T17:11:09.976Z"
   },
   {
    "duration": 6,
    "start_time": "2022-07-31T17:11:11.225Z"
   },
   {
    "duration": 101,
    "start_time": "2022-07-31T17:12:32.323Z"
   },
   {
    "duration": 390,
    "start_time": "2022-07-31T17:13:40.034Z"
   },
   {
    "duration": 233,
    "start_time": "2022-07-31T17:14:27.380Z"
   },
   {
    "duration": 8,
    "start_time": "2022-07-31T17:14:34.436Z"
   },
   {
    "duration": 28,
    "start_time": "2022-07-31T17:14:38.367Z"
   },
   {
    "duration": 96,
    "start_time": "2022-07-31T17:26:52.343Z"
   },
   {
    "duration": 285,
    "start_time": "2022-07-31T17:27:15.541Z"
   },
   {
    "duration": 206,
    "start_time": "2022-07-31T17:29:03.891Z"
   },
   {
    "duration": 8,
    "start_time": "2022-07-31T17:29:08.307Z"
   },
   {
    "duration": 24,
    "start_time": "2022-07-31T17:29:15.481Z"
   },
   {
    "duration": 3,
    "start_time": "2022-07-31T17:32:42.547Z"
   },
   {
    "duration": 9,
    "start_time": "2022-07-31T17:32:43.586Z"
   },
   {
    "duration": 1416,
    "start_time": "2022-07-31T17:33:54.035Z"
   },
   {
    "duration": 946,
    "start_time": "2022-07-31T17:35:10.877Z"
   },
   {
    "duration": 8,
    "start_time": "2022-07-31T17:35:25.429Z"
   },
   {
    "duration": 3,
    "start_time": "2022-07-31T17:35:31.423Z"
   },
   {
    "duration": 6,
    "start_time": "2022-07-31T17:35:31.982Z"
   },
   {
    "duration": 214,
    "start_time": "2022-07-31T17:36:39.732Z"
   },
   {
    "duration": 8,
    "start_time": "2022-07-31T17:36:44.034Z"
   },
   {
    "duration": 27,
    "start_time": "2022-07-31T17:36:47.334Z"
   },
   {
    "duration": 225,
    "start_time": "2022-07-31T17:38:52.592Z"
   },
   {
    "duration": 8,
    "start_time": "2022-07-31T17:38:53.832Z"
   },
   {
    "duration": 22,
    "start_time": "2022-07-31T17:38:59.979Z"
   },
   {
    "duration": 7,
    "start_time": "2022-07-31T17:43:36.910Z"
   },
   {
    "duration": 1511,
    "start_time": "2022-07-31T17:43:54.132Z"
   },
   {
    "duration": 7,
    "start_time": "2022-07-31T17:44:17.707Z"
   },
   {
    "duration": 144,
    "start_time": "2022-07-31T17:44:52.636Z"
   },
   {
    "duration": 8,
    "start_time": "2022-07-31T17:51:59.824Z"
   },
   {
    "duration": 15,
    "start_time": "2022-07-31T17:54:58.763Z"
   },
   {
    "duration": 14,
    "start_time": "2022-07-31T17:55:10.415Z"
   },
   {
    "duration": 8,
    "start_time": "2022-07-31T17:55:54.381Z"
   },
   {
    "duration": 8,
    "start_time": "2022-07-31T17:56:55.303Z"
   },
   {
    "duration": 18,
    "start_time": "2022-07-31T17:57:21.180Z"
   },
   {
    "duration": 10,
    "start_time": "2022-07-31T17:57:50.104Z"
   },
   {
    "duration": 84,
    "start_time": "2022-07-31T18:01:38.232Z"
   },
   {
    "duration": 4,
    "start_time": "2022-07-31T18:01:38.319Z"
   },
   {
    "duration": 5,
    "start_time": "2022-07-31T18:01:38.324Z"
   },
   {
    "duration": 50,
    "start_time": "2022-07-31T18:01:38.331Z"
   },
   {
    "duration": 38,
    "start_time": "2022-07-31T18:01:38.384Z"
   },
   {
    "duration": 10,
    "start_time": "2022-07-31T18:01:38.423Z"
   },
   {
    "duration": 46,
    "start_time": "2022-07-31T18:01:38.435Z"
   },
   {
    "duration": 25,
    "start_time": "2022-07-31T18:01:38.483Z"
   },
   {
    "duration": 25,
    "start_time": "2022-07-31T18:01:38.509Z"
   },
   {
    "duration": 4,
    "start_time": "2022-07-31T18:01:38.537Z"
   },
   {
    "duration": 32,
    "start_time": "2022-07-31T18:01:38.542Z"
   },
   {
    "duration": 42,
    "start_time": "2022-07-31T18:01:38.576Z"
   },
   {
    "duration": 6,
    "start_time": "2022-07-31T18:01:38.620Z"
   },
   {
    "duration": 44,
    "start_time": "2022-07-31T18:01:38.628Z"
   },
   {
    "duration": 16,
    "start_time": "2022-07-31T18:01:38.673Z"
   },
   {
    "duration": 13,
    "start_time": "2022-07-31T18:01:38.692Z"
   },
   {
    "duration": 6,
    "start_time": "2022-07-31T18:01:38.707Z"
   },
   {
    "duration": 5,
    "start_time": "2022-07-31T18:01:38.715Z"
   },
   {
    "duration": 40,
    "start_time": "2022-07-31T18:01:38.721Z"
   },
   {
    "duration": 11,
    "start_time": "2022-07-31T18:01:38.764Z"
   },
   {
    "duration": 31,
    "start_time": "2022-07-31T18:01:38.777Z"
   },
   {
    "duration": 8,
    "start_time": "2022-07-31T18:01:38.811Z"
   },
   {
    "duration": 7,
    "start_time": "2022-07-31T18:01:38.821Z"
   },
   {
    "duration": 36,
    "start_time": "2022-07-31T18:01:38.830Z"
   },
   {
    "duration": 41,
    "start_time": "2022-07-31T18:01:38.873Z"
   },
   {
    "duration": 26,
    "start_time": "2022-07-31T18:01:38.916Z"
   },
   {
    "duration": 52,
    "start_time": "2022-07-31T18:01:38.946Z"
   },
   {
    "duration": 21,
    "start_time": "2022-07-31T18:01:39.000Z"
   },
   {
    "duration": 31,
    "start_time": "2022-07-31T18:01:39.023Z"
   },
   {
    "duration": 55,
    "start_time": "2022-07-31T18:01:39.063Z"
   },
   {
    "duration": 11,
    "start_time": "2022-07-31T18:01:39.120Z"
   },
   {
    "duration": 74,
    "start_time": "2022-07-31T18:01:39.133Z"
   },
   {
    "duration": 17,
    "start_time": "2022-07-31T18:01:39.209Z"
   },
   {
    "duration": 43,
    "start_time": "2022-07-31T18:01:39.227Z"
   },
   {
    "duration": 12,
    "start_time": "2022-07-31T18:01:39.278Z"
   },
   {
    "duration": 5,
    "start_time": "2022-07-31T18:01:39.293Z"
   },
   {
    "duration": 6,
    "start_time": "2022-07-31T18:01:39.300Z"
   },
   {
    "duration": 8,
    "start_time": "2022-07-31T18:01:39.307Z"
   },
   {
    "duration": 14,
    "start_time": "2022-07-31T18:01:39.317Z"
   },
   {
    "duration": 13,
    "start_time": "2022-07-31T18:01:39.333Z"
   },
   {
    "duration": 39,
    "start_time": "2022-07-31T18:01:39.348Z"
   },
   {
    "duration": 11,
    "start_time": "2022-07-31T18:01:39.390Z"
   },
   {
    "duration": 11,
    "start_time": "2022-07-31T18:01:39.402Z"
   },
   {
    "duration": 10,
    "start_time": "2022-07-31T18:01:39.414Z"
   },
   {
    "duration": 20,
    "start_time": "2022-07-31T18:01:39.426Z"
   },
   {
    "duration": 55,
    "start_time": "2022-07-31T18:01:39.456Z"
   },
   {
    "duration": 12,
    "start_time": "2022-07-31T18:01:39.513Z"
   },
   {
    "duration": 4,
    "start_time": "2022-07-31T18:01:50.128Z"
   },
   {
    "duration": 19,
    "start_time": "2022-07-31T18:01:57.936Z"
   },
   {
    "duration": 7,
    "start_time": "2022-07-31T18:04:10.605Z"
   },
   {
    "duration": 7,
    "start_time": "2022-07-31T18:04:55.134Z"
   },
   {
    "duration": 24,
    "start_time": "2022-07-31T18:04:56.474Z"
   },
   {
    "duration": 6,
    "start_time": "2022-07-31T18:07:22.841Z"
   },
   {
    "duration": 1494,
    "start_time": "2022-07-31T18:08:49.449Z"
   },
   {
    "duration": 5,
    "start_time": "2022-07-31T18:09:14.420Z"
   },
   {
    "duration": 9,
    "start_time": "2022-07-31T18:09:15.416Z"
   },
   {
    "duration": 78,
    "start_time": "2022-07-31T18:44:31.419Z"
   },
   {
    "duration": 4,
    "start_time": "2022-07-31T18:44:31.498Z"
   },
   {
    "duration": 33,
    "start_time": "2022-07-31T18:44:31.504Z"
   },
   {
    "duration": 84,
    "start_time": "2022-07-31T18:44:31.538Z"
   },
   {
    "duration": 19,
    "start_time": "2022-07-31T18:44:31.624Z"
   },
   {
    "duration": 61,
    "start_time": "2022-07-31T18:44:31.644Z"
   },
   {
    "duration": 40,
    "start_time": "2022-07-31T18:44:31.707Z"
   },
   {
    "duration": 36,
    "start_time": "2022-07-31T18:44:31.748Z"
   },
   {
    "duration": 45,
    "start_time": "2022-07-31T18:44:31.787Z"
   },
   {
    "duration": 4,
    "start_time": "2022-07-31T18:44:31.833Z"
   },
   {
    "duration": 23,
    "start_time": "2022-07-31T18:44:31.839Z"
   },
   {
    "duration": 47,
    "start_time": "2022-07-31T18:44:31.870Z"
   },
   {
    "duration": 6,
    "start_time": "2022-07-31T18:44:31.919Z"
   },
   {
    "duration": 38,
    "start_time": "2022-07-31T18:44:31.927Z"
   },
   {
    "duration": 40,
    "start_time": "2022-07-31T18:44:31.967Z"
   },
   {
    "duration": 18,
    "start_time": "2022-07-31T18:44:32.008Z"
   },
   {
    "duration": 7,
    "start_time": "2022-07-31T18:44:32.028Z"
   },
   {
    "duration": 17,
    "start_time": "2022-07-31T18:44:32.037Z"
   },
   {
    "duration": 63,
    "start_time": "2022-07-31T18:44:32.055Z"
   },
   {
    "duration": 4,
    "start_time": "2022-07-31T18:44:32.120Z"
   },
   {
    "duration": 10,
    "start_time": "2022-07-31T18:44:32.125Z"
   },
   {
    "duration": 31,
    "start_time": "2022-07-31T18:44:32.136Z"
   },
   {
    "duration": 41,
    "start_time": "2022-07-31T18:44:32.168Z"
   },
   {
    "duration": 21,
    "start_time": "2022-07-31T18:44:32.211Z"
   },
   {
    "duration": 46,
    "start_time": "2022-07-31T18:44:32.234Z"
   },
   {
    "duration": 37,
    "start_time": "2022-07-31T18:44:32.281Z"
   },
   {
    "duration": 16,
    "start_time": "2022-07-31T18:44:32.319Z"
   },
   {
    "duration": 64,
    "start_time": "2022-07-31T18:44:32.336Z"
   },
   {
    "duration": 18,
    "start_time": "2022-07-31T18:44:32.401Z"
   },
   {
    "duration": 21,
    "start_time": "2022-07-31T18:44:32.421Z"
   },
   {
    "duration": 15,
    "start_time": "2022-07-31T18:44:32.444Z"
   },
   {
    "duration": 86,
    "start_time": "2022-07-31T18:44:32.461Z"
   },
   {
    "duration": 19,
    "start_time": "2022-07-31T18:44:32.548Z"
   },
   {
    "duration": 49,
    "start_time": "2022-07-31T18:44:32.570Z"
   },
   {
    "duration": 5,
    "start_time": "2022-07-31T18:44:32.620Z"
   },
   {
    "duration": 13,
    "start_time": "2022-07-31T18:44:32.626Z"
   },
   {
    "duration": 25,
    "start_time": "2022-07-31T18:44:32.641Z"
   },
   {
    "duration": 36,
    "start_time": "2022-07-31T18:44:32.668Z"
   },
   {
    "duration": 15,
    "start_time": "2022-07-31T18:44:32.706Z"
   },
   {
    "duration": 19,
    "start_time": "2022-07-31T18:44:32.722Z"
   },
   {
    "duration": 72,
    "start_time": "2022-07-31T18:44:32.745Z"
   },
   {
    "duration": 14,
    "start_time": "2022-07-31T18:44:32.819Z"
   },
   {
    "duration": 14,
    "start_time": "2022-07-31T18:44:32.835Z"
   },
   {
    "duration": 53,
    "start_time": "2022-07-31T18:44:32.851Z"
   },
   {
    "duration": 16,
    "start_time": "2022-07-31T18:44:32.905Z"
   },
   {
    "duration": 8,
    "start_time": "2022-07-31T18:44:32.922Z"
   },
   {
    "duration": 15,
    "start_time": "2022-07-31T18:44:32.932Z"
   },
   {
    "duration": 7,
    "start_time": "2022-07-31T18:44:42.296Z"
   },
   {
    "duration": 6,
    "start_time": "2022-07-31T18:45:00.394Z"
   },
   {
    "duration": 7,
    "start_time": "2022-07-31T18:47:56.978Z"
   },
   {
    "duration": 6,
    "start_time": "2022-07-31T18:47:57.766Z"
   },
   {
    "duration": 6,
    "start_time": "2022-07-31T18:48:56.945Z"
   },
   {
    "duration": 8,
    "start_time": "2022-07-31T18:48:58.718Z"
   },
   {
    "duration": 6,
    "start_time": "2022-07-31T18:49:17.206Z"
   },
   {
    "duration": 8,
    "start_time": "2022-07-31T18:49:19.650Z"
   },
   {
    "duration": 7,
    "start_time": "2022-07-31T18:49:34.528Z"
   },
   {
    "duration": 15,
    "start_time": "2022-07-31T18:49:35.294Z"
   },
   {
    "duration": 7,
    "start_time": "2022-07-31T18:49:50.624Z"
   },
   {
    "duration": 6,
    "start_time": "2022-07-31T18:50:17.039Z"
   },
   {
    "duration": 15,
    "start_time": "2022-07-31T18:50:18.420Z"
   },
   {
    "duration": 11,
    "start_time": "2022-07-31T18:51:14.578Z"
   },
   {
    "duration": 6,
    "start_time": "2022-07-31T18:51:15.886Z"
   },
   {
    "duration": 7,
    "start_time": "2022-07-31T18:52:11.715Z"
   },
   {
    "duration": 7,
    "start_time": "2022-07-31T18:52:16.897Z"
   },
   {
    "duration": 3437,
    "start_time": "2022-07-31T19:01:17.269Z"
   },
   {
    "duration": 69,
    "start_time": "2022-07-31T19:02:48.700Z"
   },
   {
    "duration": 4,
    "start_time": "2022-07-31T19:02:48.772Z"
   },
   {
    "duration": 8,
    "start_time": "2022-07-31T19:02:48.778Z"
   },
   {
    "duration": 35,
    "start_time": "2022-07-31T19:02:48.788Z"
   },
   {
    "duration": 30,
    "start_time": "2022-07-31T19:02:48.826Z"
   },
   {
    "duration": 7,
    "start_time": "2022-07-31T19:02:48.858Z"
   },
   {
    "duration": 35,
    "start_time": "2022-07-31T19:02:48.868Z"
   },
   {
    "duration": 21,
    "start_time": "2022-07-31T19:02:48.905Z"
   },
   {
    "duration": 55,
    "start_time": "2022-07-31T19:02:48.928Z"
   },
   {
    "duration": 4,
    "start_time": "2022-07-31T19:02:48.985Z"
   },
   {
    "duration": 20,
    "start_time": "2022-07-31T19:02:48.991Z"
   },
   {
    "duration": 62,
    "start_time": "2022-07-31T19:02:49.015Z"
   },
   {
    "duration": 6,
    "start_time": "2022-07-31T19:02:49.079Z"
   },
   {
    "duration": 27,
    "start_time": "2022-07-31T19:02:49.087Z"
   },
   {
    "duration": 4,
    "start_time": "2022-07-31T19:02:49.116Z"
   },
   {
    "duration": 20,
    "start_time": "2022-07-31T19:02:49.153Z"
   },
   {
    "duration": 9,
    "start_time": "2022-07-31T19:02:49.175Z"
   },
   {
    "duration": 4,
    "start_time": "2022-07-31T19:02:49.185Z"
   },
   {
    "duration": 30,
    "start_time": "2022-07-31T19:02:49.191Z"
   },
   {
    "duration": 34,
    "start_time": "2022-07-31T19:02:49.223Z"
   },
   {
    "duration": 9,
    "start_time": "2022-07-31T19:02:49.269Z"
   },
   {
    "duration": 6,
    "start_time": "2022-07-31T19:02:49.280Z"
   },
   {
    "duration": 7,
    "start_time": "2022-07-31T19:02:49.288Z"
   },
   {
    "duration": 23,
    "start_time": "2022-07-31T19:02:49.296Z"
   },
   {
    "duration": 6,
    "start_time": "2022-07-31T19:02:49.321Z"
   },
   {
    "duration": 34,
    "start_time": "2022-07-31T19:02:49.330Z"
   },
   {
    "duration": 12,
    "start_time": "2022-07-31T19:02:49.368Z"
   },
   {
    "duration": 6,
    "start_time": "2022-07-31T19:02:49.382Z"
   },
   {
    "duration": 14,
    "start_time": "2022-07-31T19:02:49.391Z"
   },
   {
    "duration": 12,
    "start_time": "2022-07-31T19:02:49.407Z"
   },
   {
    "duration": 5,
    "start_time": "2022-07-31T19:02:49.420Z"
   },
   {
    "duration": 35,
    "start_time": "2022-07-31T19:02:49.454Z"
   },
   {
    "duration": 16,
    "start_time": "2022-07-31T19:02:49.491Z"
   },
   {
    "duration": 18,
    "start_time": "2022-07-31T19:02:49.509Z"
   },
   {
    "duration": 25,
    "start_time": "2022-07-31T19:02:49.529Z"
   },
   {
    "duration": 3,
    "start_time": "2022-07-31T19:02:49.556Z"
   },
   {
    "duration": 19,
    "start_time": "2022-07-31T19:02:49.561Z"
   },
   {
    "duration": 7,
    "start_time": "2022-07-31T19:02:49.582Z"
   },
   {
    "duration": 13,
    "start_time": "2022-07-31T19:02:49.591Z"
   },
   {
    "duration": 14,
    "start_time": "2022-07-31T19:02:49.605Z"
   },
   {
    "duration": 56,
    "start_time": "2022-07-31T19:02:49.621Z"
   },
   {
    "duration": 12,
    "start_time": "2022-07-31T19:02:49.679Z"
   },
   {
    "duration": 11,
    "start_time": "2022-07-31T19:02:49.693Z"
   },
   {
    "duration": 9,
    "start_time": "2022-07-31T19:02:49.706Z"
   },
   {
    "duration": 8,
    "start_time": "2022-07-31T19:02:49.717Z"
   },
   {
    "duration": 33,
    "start_time": "2022-07-31T19:02:49.726Z"
   },
   {
    "duration": 26,
    "start_time": "2022-07-31T19:02:49.761Z"
   },
   {
    "duration": 12,
    "start_time": "2022-07-31T19:02:58.746Z"
   },
   {
    "duration": 9,
    "start_time": "2022-07-31T19:03:09.081Z"
   },
   {
    "duration": 5,
    "start_time": "2022-07-31T19:08:45.172Z"
   },
   {
    "duration": 8,
    "start_time": "2022-07-31T19:08:46.747Z"
   },
   {
    "duration": 5,
    "start_time": "2022-07-31T19:10:05.338Z"
   },
   {
    "duration": 11,
    "start_time": "2022-07-31T19:10:06.068Z"
   },
   {
    "duration": 9857,
    "start_time": "2022-07-31T19:10:19.734Z"
   },
   {
    "duration": 11,
    "start_time": "2022-07-31T19:10:38.952Z"
   },
   {
    "duration": 19,
    "start_time": "2022-07-31T19:10:40.686Z"
   },
   {
    "duration": 3860,
    "start_time": "2022-07-31T19:10:44.944Z"
   },
   {
    "duration": 12,
    "start_time": "2022-07-31T19:12:17.682Z"
   },
   {
    "duration": 7,
    "start_time": "2022-07-31T19:12:18.977Z"
   },
   {
    "duration": 3762,
    "start_time": "2022-07-31T19:12:24.369Z"
   },
   {
    "duration": 6,
    "start_time": "2022-07-31T19:14:23.915Z"
   },
   {
    "duration": 11,
    "start_time": "2022-07-31T19:14:24.964Z"
   },
   {
    "duration": 10332,
    "start_time": "2022-07-31T19:14:31.683Z"
   },
   {
    "duration": 30,
    "start_time": "2022-07-31T19:22:43.781Z"
   },
   {
    "duration": 124,
    "start_time": "2022-07-31T19:25:37.280Z"
   },
   {
    "duration": 5,
    "start_time": "2022-07-31T19:25:37.406Z"
   },
   {
    "duration": 13,
    "start_time": "2022-07-31T19:25:37.413Z"
   },
   {
    "duration": 43,
    "start_time": "2022-07-31T19:25:37.428Z"
   },
   {
    "duration": 61,
    "start_time": "2022-07-31T19:25:37.474Z"
   },
   {
    "duration": 8,
    "start_time": "2022-07-31T19:25:37.537Z"
   },
   {
    "duration": 97,
    "start_time": "2022-07-31T19:25:37.547Z"
   },
   {
    "duration": 35,
    "start_time": "2022-07-31T19:25:37.646Z"
   },
   {
    "duration": 63,
    "start_time": "2022-07-31T19:25:37.687Z"
   },
   {
    "duration": 5,
    "start_time": "2022-07-31T19:25:37.758Z"
   },
   {
    "duration": 68,
    "start_time": "2022-07-31T19:25:37.765Z"
   },
   {
    "duration": 43,
    "start_time": "2022-07-31T19:25:37.835Z"
   },
   {
    "duration": 57,
    "start_time": "2022-07-31T19:25:37.880Z"
   },
   {
    "duration": 136,
    "start_time": "2022-07-31T19:25:37.941Z"
   },
   {
    "duration": 11,
    "start_time": "2022-07-31T19:25:38.083Z"
   },
   {
    "duration": 43,
    "start_time": "2022-07-31T19:25:38.096Z"
   },
   {
    "duration": 71,
    "start_time": "2022-07-31T19:25:38.141Z"
   },
   {
    "duration": 14,
    "start_time": "2022-07-31T19:25:38.214Z"
   },
   {
    "duration": 113,
    "start_time": "2022-07-31T19:25:38.230Z"
   },
   {
    "duration": 5,
    "start_time": "2022-07-31T19:25:38.345Z"
   },
   {
    "duration": 61,
    "start_time": "2022-07-31T19:25:38.352Z"
   },
   {
    "duration": 15,
    "start_time": "2022-07-31T19:25:38.415Z"
   },
   {
    "duration": 13,
    "start_time": "2022-07-31T19:25:38.432Z"
   },
   {
    "duration": 34,
    "start_time": "2022-07-31T19:25:38.447Z"
   },
   {
    "duration": 29,
    "start_time": "2022-07-31T19:25:38.483Z"
   },
   {
    "duration": 8,
    "start_time": "2022-07-31T19:25:38.514Z"
   },
   {
    "duration": 7,
    "start_time": "2022-07-31T19:25:38.524Z"
   },
   {
    "duration": 7,
    "start_time": "2022-07-31T19:25:38.533Z"
   },
   {
    "duration": 34,
    "start_time": "2022-07-31T19:25:38.541Z"
   },
   {
    "duration": 41,
    "start_time": "2022-07-31T19:25:38.578Z"
   },
   {
    "duration": 6,
    "start_time": "2022-07-31T19:25:38.623Z"
   },
   {
    "duration": 75,
    "start_time": "2022-07-31T19:25:38.631Z"
   },
   {
    "duration": 25,
    "start_time": "2022-07-31T19:25:38.709Z"
   },
   {
    "duration": 30,
    "start_time": "2022-07-31T19:25:38.736Z"
   },
   {
    "duration": 46,
    "start_time": "2022-07-31T19:25:38.768Z"
   },
   {
    "duration": 6,
    "start_time": "2022-07-31T19:25:38.818Z"
   },
   {
    "duration": 5,
    "start_time": "2022-07-31T19:26:13.539Z"
   },
   {
    "duration": 4,
    "start_time": "2022-07-31T19:26:14.880Z"
   },
   {
    "duration": 27,
    "start_time": "2022-07-31T19:26:17.134Z"
   },
   {
    "duration": 19,
    "start_time": "2022-07-31T19:26:18.926Z"
   },
   {
    "duration": 92,
    "start_time": "2022-07-31T19:26:41.423Z"
   },
   {
    "duration": 5,
    "start_time": "2022-07-31T19:26:41.517Z"
   },
   {
    "duration": 23,
    "start_time": "2022-07-31T19:26:41.524Z"
   },
   {
    "duration": 81,
    "start_time": "2022-07-31T19:26:41.550Z"
   },
   {
    "duration": 14,
    "start_time": "2022-07-31T19:26:41.633Z"
   },
   {
    "duration": 14,
    "start_time": "2022-07-31T19:26:41.649Z"
   },
   {
    "duration": 78,
    "start_time": "2022-07-31T19:26:41.664Z"
   },
   {
    "duration": 30,
    "start_time": "2022-07-31T19:26:41.744Z"
   },
   {
    "duration": 50,
    "start_time": "2022-07-31T19:26:41.776Z"
   },
   {
    "duration": 4,
    "start_time": "2022-07-31T19:26:41.829Z"
   },
   {
    "duration": 33,
    "start_time": "2022-07-31T19:26:41.835Z"
   },
   {
    "duration": 57,
    "start_time": "2022-07-31T19:26:41.870Z"
   },
   {
    "duration": 6,
    "start_time": "2022-07-31T19:26:41.929Z"
   },
   {
    "duration": 43,
    "start_time": "2022-07-31T19:26:41.937Z"
   },
   {
    "duration": 17,
    "start_time": "2022-07-31T19:26:41.981Z"
   },
   {
    "duration": 14,
    "start_time": "2022-07-31T19:26:42.001Z"
   },
   {
    "duration": 10,
    "start_time": "2022-07-31T19:26:42.017Z"
   },
   {
    "duration": 5,
    "start_time": "2022-07-31T19:26:42.029Z"
   },
   {
    "duration": 54,
    "start_time": "2022-07-31T19:26:42.051Z"
   },
   {
    "duration": 5,
    "start_time": "2022-07-31T19:26:42.107Z"
   },
   {
    "duration": 7,
    "start_time": "2022-07-31T19:26:42.114Z"
   },
   {
    "duration": 7,
    "start_time": "2022-07-31T19:26:42.123Z"
   },
   {
    "duration": 6,
    "start_time": "2022-07-31T19:26:42.132Z"
   },
   {
    "duration": 27,
    "start_time": "2022-07-31T19:26:42.152Z"
   },
   {
    "duration": 18,
    "start_time": "2022-07-31T19:26:42.181Z"
   },
   {
    "duration": 9,
    "start_time": "2022-07-31T19:26:42.201Z"
   },
   {
    "duration": 11,
    "start_time": "2022-07-31T19:26:42.212Z"
   },
   {
    "duration": 7,
    "start_time": "2022-07-31T19:26:42.228Z"
   },
   {
    "duration": 61,
    "start_time": "2022-07-31T19:26:42.236Z"
   },
   {
    "duration": 14,
    "start_time": "2022-07-31T19:26:42.299Z"
   },
   {
    "duration": 7,
    "start_time": "2022-07-31T19:26:42.315Z"
   },
   {
    "duration": 45,
    "start_time": "2022-07-31T19:26:42.324Z"
   },
   {
    "duration": 19,
    "start_time": "2022-07-31T19:26:42.371Z"
   },
   {
    "duration": 20,
    "start_time": "2022-07-31T19:26:42.392Z"
   },
   {
    "duration": 4,
    "start_time": "2022-07-31T19:26:42.414Z"
   },
   {
    "duration": 6,
    "start_time": "2022-07-31T19:26:42.420Z"
   },
   {
    "duration": 24,
    "start_time": "2022-07-31T19:26:42.428Z"
   },
   {
    "duration": 30,
    "start_time": "2022-07-31T19:26:42.461Z"
   },
   {
    "duration": 19,
    "start_time": "2022-07-31T19:26:42.493Z"
   },
   {
    "duration": 18,
    "start_time": "2022-07-31T19:26:42.514Z"
   },
   {
    "duration": 28,
    "start_time": "2022-07-31T19:26:42.534Z"
   },
   {
    "duration": 9,
    "start_time": "2022-07-31T19:26:42.564Z"
   },
   {
    "duration": 22,
    "start_time": "2022-07-31T19:26:42.575Z"
   },
   {
    "duration": 11,
    "start_time": "2022-07-31T19:26:42.599Z"
   },
   {
    "duration": 30,
    "start_time": "2022-07-31T19:26:42.612Z"
   },
   {
    "duration": 13,
    "start_time": "2022-07-31T19:26:42.644Z"
   },
   {
    "duration": 40,
    "start_time": "2022-07-31T19:26:42.659Z"
   },
   {
    "duration": 8,
    "start_time": "2022-07-31T19:26:42.702Z"
   },
   {
    "duration": 12,
    "start_time": "2022-07-31T19:26:42.712Z"
   },
   {
    "duration": 10,
    "start_time": "2022-07-31T19:27:01.602Z"
   },
   {
    "duration": 8,
    "start_time": "2022-07-31T19:27:44.893Z"
   },
   {
    "duration": 10,
    "start_time": "2022-07-31T19:27:46.581Z"
   },
   {
    "duration": 453,
    "start_time": "2022-07-31T19:27:51.405Z"
   },
   {
    "duration": 8,
    "start_time": "2022-07-31T19:28:18.816Z"
   },
   {
    "duration": 11,
    "start_time": "2022-07-31T19:28:39.878Z"
   },
   {
    "duration": 8,
    "start_time": "2022-07-31T19:28:54.009Z"
   },
   {
    "duration": 33,
    "start_time": "2022-07-31T19:28:56.385Z"
   },
   {
    "duration": 1792,
    "start_time": "2022-07-31T19:30:56.477Z"
   },
   {
    "duration": 22,
    "start_time": "2022-07-31T19:34:47.373Z"
   },
   {
    "duration": 14,
    "start_time": "2022-07-31T19:34:49.322Z"
   },
   {
    "duration": 20,
    "start_time": "2022-07-31T19:36:38.111Z"
   },
   {
    "duration": 18,
    "start_time": "2022-07-31T19:36:45.394Z"
   },
   {
    "duration": 7,
    "start_time": "2022-07-31T19:37:17.118Z"
   },
   {
    "duration": 22,
    "start_time": "2022-07-31T19:37:54.625Z"
   },
   {
    "duration": 28,
    "start_time": "2022-07-31T19:37:56.544Z"
   },
   {
    "duration": 10,
    "start_time": "2022-07-31T19:37:58.845Z"
   },
   {
    "duration": 32,
    "start_time": "2022-07-31T19:38:27.749Z"
   },
   {
    "duration": 21,
    "start_time": "2022-07-31T19:38:28.483Z"
   },
   {
    "duration": 18,
    "start_time": "2022-07-31T19:38:29.953Z"
   },
   {
    "duration": 17,
    "start_time": "2022-07-31T19:44:26.581Z"
   },
   {
    "duration": 34,
    "start_time": "2022-07-31T19:46:19.143Z"
   },
   {
    "duration": 29,
    "start_time": "2022-07-31T19:46:38.136Z"
   },
   {
    "duration": 19,
    "start_time": "2022-07-31T19:46:44.971Z"
   },
   {
    "duration": 16,
    "start_time": "2022-07-31T19:46:47.959Z"
   },
   {
    "duration": 13,
    "start_time": "2022-07-31T19:47:06.631Z"
   },
   {
    "duration": 30,
    "start_time": "2022-07-31T19:48:32.710Z"
   },
   {
    "duration": 21,
    "start_time": "2022-07-31T19:49:04.527Z"
   },
   {
    "duration": 33,
    "start_time": "2022-07-31T19:58:59.183Z"
   },
   {
    "duration": 18,
    "start_time": "2022-07-31T19:59:10.887Z"
   },
   {
    "duration": 14,
    "start_time": "2022-07-31T19:59:12.810Z"
   },
   {
    "duration": 61,
    "start_time": "2022-07-31T19:59:41.086Z"
   },
   {
    "duration": 14,
    "start_time": "2022-07-31T19:59:41.149Z"
   },
   {
    "duration": 21,
    "start_time": "2022-07-31T19:59:41.174Z"
   },
   {
    "duration": 24,
    "start_time": "2022-07-31T19:59:41.196Z"
   },
   {
    "duration": 15,
    "start_time": "2022-07-31T19:59:41.223Z"
   },
   {
    "duration": 6,
    "start_time": "2022-07-31T19:59:41.240Z"
   },
   {
    "duration": 77,
    "start_time": "2022-07-31T19:59:41.248Z"
   },
   {
    "duration": 19,
    "start_time": "2022-07-31T19:59:41.327Z"
   },
   {
    "duration": 64,
    "start_time": "2022-07-31T19:59:41.348Z"
   },
   {
    "duration": 5,
    "start_time": "2022-07-31T19:59:41.414Z"
   },
   {
    "duration": 23,
    "start_time": "2022-07-31T19:59:41.421Z"
   },
   {
    "duration": 43,
    "start_time": "2022-07-31T19:59:41.447Z"
   },
   {
    "duration": 16,
    "start_time": "2022-07-31T19:59:41.493Z"
   },
   {
    "duration": 32,
    "start_time": "2022-07-31T19:59:41.513Z"
   },
   {
    "duration": 9,
    "start_time": "2022-07-31T19:59:41.547Z"
   },
   {
    "duration": 43,
    "start_time": "2022-07-31T19:59:41.558Z"
   },
   {
    "duration": 8,
    "start_time": "2022-07-31T19:59:41.604Z"
   },
   {
    "duration": 5,
    "start_time": "2022-07-31T19:59:41.614Z"
   },
   {
    "duration": 23,
    "start_time": "2022-07-31T19:59:41.621Z"
   },
   {
    "duration": 5,
    "start_time": "2022-07-31T19:59:41.645Z"
   },
   {
    "duration": 45,
    "start_time": "2022-07-31T19:59:41.654Z"
   },
   {
    "duration": 6,
    "start_time": "2022-07-31T19:59:41.701Z"
   },
   {
    "duration": 7,
    "start_time": "2022-07-31T19:59:41.709Z"
   },
   {
    "duration": 21,
    "start_time": "2022-07-31T19:59:41.718Z"
   },
   {
    "duration": 6,
    "start_time": "2022-07-31T19:59:41.741Z"
   },
   {
    "duration": 25,
    "start_time": "2022-07-31T19:59:41.748Z"
   },
   {
    "duration": 11,
    "start_time": "2022-07-31T19:59:41.781Z"
   },
   {
    "duration": 7,
    "start_time": "2022-07-31T19:59:41.794Z"
   },
   {
    "duration": 14,
    "start_time": "2022-07-31T19:59:41.803Z"
   },
   {
    "duration": 16,
    "start_time": "2022-07-31T19:59:41.818Z"
   },
   {
    "duration": 7,
    "start_time": "2022-07-31T19:59:41.835Z"
   },
   {
    "duration": 42,
    "start_time": "2022-07-31T19:59:41.862Z"
   },
   {
    "duration": 21,
    "start_time": "2022-07-31T19:59:41.907Z"
   },
   {
    "duration": 55,
    "start_time": "2022-07-31T19:59:41.930Z"
   },
   {
    "duration": 4,
    "start_time": "2022-07-31T19:59:41.990Z"
   },
   {
    "duration": 5,
    "start_time": "2022-07-31T19:59:41.995Z"
   },
   {
    "duration": 4,
    "start_time": "2022-07-31T19:59:42.002Z"
   },
   {
    "duration": 7,
    "start_time": "2022-07-31T19:59:42.008Z"
   },
   {
    "duration": 18,
    "start_time": "2022-07-31T19:59:42.017Z"
   },
   {
    "duration": 17,
    "start_time": "2022-07-31T19:59:53.295Z"
   },
   {
    "duration": 16,
    "start_time": "2022-07-31T19:59:54.194Z"
   },
   {
    "duration": 21,
    "start_time": "2022-07-31T20:00:01.488Z"
   },
   {
    "duration": 37,
    "start_time": "2022-07-31T20:00:14.149Z"
   },
   {
    "duration": 9,
    "start_time": "2022-07-31T20:00:17.987Z"
   },
   {
    "duration": 8,
    "start_time": "2022-07-31T20:00:30.418Z"
   },
   {
    "duration": 9,
    "start_time": "2022-07-31T20:00:31.409Z"
   },
   {
    "duration": 18,
    "start_time": "2022-07-31T20:00:32.173Z"
   },
   {
    "duration": 11,
    "start_time": "2022-07-31T20:00:33.786Z"
   },
   {
    "duration": 8,
    "start_time": "2022-07-31T20:00:34.717Z"
   },
   {
    "duration": 9,
    "start_time": "2022-07-31T20:00:38.784Z"
   },
   {
    "duration": 7,
    "start_time": "2022-07-31T20:00:40.412Z"
   },
   {
    "duration": 18,
    "start_time": "2022-07-31T20:05:20.423Z"
   },
   {
    "duration": 12,
    "start_time": "2022-07-31T20:05:22.119Z"
   },
   {
    "duration": 19,
    "start_time": "2022-07-31T20:05:37.307Z"
   },
   {
    "duration": 29,
    "start_time": "2022-07-31T20:05:59.095Z"
   },
   {
    "duration": 8,
    "start_time": "2022-07-31T20:06:04.229Z"
   },
   {
    "duration": 13,
    "start_time": "2022-07-31T20:06:04.774Z"
   },
   {
    "duration": 14,
    "start_time": "2022-07-31T20:06:09.377Z"
   },
   {
    "duration": 9,
    "start_time": "2022-07-31T20:06:11.012Z"
   },
   {
    "duration": 20,
    "start_time": "2022-07-31T20:06:15.348Z"
   },
   {
    "duration": 8,
    "start_time": "2022-07-31T20:06:16.724Z"
   },
   {
    "duration": 11,
    "start_time": "2022-07-31T20:06:32.779Z"
   },
   {
    "duration": 11,
    "start_time": "2022-07-31T20:06:34.630Z"
   },
   {
    "duration": 7,
    "start_time": "2022-07-31T20:06:47.237Z"
   },
   {
    "duration": 6,
    "start_time": "2022-07-31T20:06:49.314Z"
   },
   {
    "duration": 492,
    "start_time": "2022-07-31T20:06:51.939Z"
   },
   {
    "duration": 356,
    "start_time": "2022-07-31T20:08:15.837Z"
   },
   {
    "duration": 8,
    "start_time": "2022-07-31T20:08:18.223Z"
   },
   {
    "duration": 28,
    "start_time": "2022-07-31T20:10:25.662Z"
   },
   {
    "duration": 10,
    "start_time": "2022-07-31T20:13:02.895Z"
   },
   {
    "duration": 19,
    "start_time": "2022-07-31T20:25:10.295Z"
   },
   {
    "duration": 22,
    "start_time": "2022-07-31T20:29:05.048Z"
   },
   {
    "duration": 10,
    "start_time": "2022-07-31T20:38:37.768Z"
   },
   {
    "duration": 6,
    "start_time": "2022-07-31T20:39:27.294Z"
   },
   {
    "duration": 38,
    "start_time": "2022-07-31T20:39:28.578Z"
   },
   {
    "duration": 9,
    "start_time": "2022-07-31T21:25:15.644Z"
   },
   {
    "duration": 7,
    "start_time": "2022-07-31T21:29:43.286Z"
   },
   {
    "duration": 4,
    "start_time": "2022-07-31T21:45:55.491Z"
   },
   {
    "duration": 4,
    "start_time": "2022-07-31T21:47:10.912Z"
   },
   {
    "duration": 7,
    "start_time": "2022-07-31T21:48:07.898Z"
   },
   {
    "duration": 8,
    "start_time": "2022-07-31T21:48:08.795Z"
   },
   {
    "duration": 3,
    "start_time": "2022-07-31T22:06:01.134Z"
   },
   {
    "duration": 4,
    "start_time": "2022-07-31T22:06:45.968Z"
   },
   {
    "duration": 4,
    "start_time": "2022-07-31T22:07:37.708Z"
   },
   {
    "duration": 18,
    "start_time": "2022-07-31T22:17:08.389Z"
   },
   {
    "duration": 653,
    "start_time": "2022-08-01T18:56:51.164Z"
   },
   {
    "duration": 3,
    "start_time": "2022-08-01T18:56:51.819Z"
   },
   {
    "duration": 10,
    "start_time": "2022-08-01T18:56:51.823Z"
   },
   {
    "duration": 20,
    "start_time": "2022-08-01T18:56:51.835Z"
   },
   {
    "duration": 17,
    "start_time": "2022-08-01T18:56:51.857Z"
   },
   {
    "duration": 9,
    "start_time": "2022-08-01T18:56:51.876Z"
   },
   {
    "duration": 25,
    "start_time": "2022-08-01T18:56:51.887Z"
   },
   {
    "duration": 43,
    "start_time": "2022-08-01T18:56:51.914Z"
   },
   {
    "duration": 28,
    "start_time": "2022-08-01T18:56:51.958Z"
   },
   {
    "duration": 4,
    "start_time": "2022-08-01T18:56:51.988Z"
   },
   {
    "duration": 19,
    "start_time": "2022-08-01T18:56:51.993Z"
   },
   {
    "duration": 46,
    "start_time": "2022-08-01T18:56:52.014Z"
   },
   {
    "duration": 5,
    "start_time": "2022-08-01T18:56:52.062Z"
   },
   {
    "duration": 28,
    "start_time": "2022-08-01T18:56:52.069Z"
   },
   {
    "duration": 5,
    "start_time": "2022-08-01T18:56:52.098Z"
   },
   {
    "duration": 12,
    "start_time": "2022-08-01T18:56:52.105Z"
   },
   {
    "duration": 33,
    "start_time": "2022-08-01T18:56:52.119Z"
   },
   {
    "duration": 7,
    "start_time": "2022-08-01T18:56:52.154Z"
   },
   {
    "duration": 26,
    "start_time": "2022-08-01T18:56:52.163Z"
   },
   {
    "duration": 4,
    "start_time": "2022-08-01T18:56:52.191Z"
   },
   {
    "duration": 5,
    "start_time": "2022-08-01T18:56:52.196Z"
   },
   {
    "duration": 5,
    "start_time": "2022-08-01T18:56:52.203Z"
   },
   {
    "duration": 6,
    "start_time": "2022-08-01T18:56:52.209Z"
   },
   {
    "duration": 44,
    "start_time": "2022-08-01T18:56:52.216Z"
   },
   {
    "duration": 8,
    "start_time": "2022-08-01T18:56:52.262Z"
   },
   {
    "duration": 8,
    "start_time": "2022-08-01T18:56:52.272Z"
   },
   {
    "duration": 13,
    "start_time": "2022-08-01T18:56:52.282Z"
   },
   {
    "duration": 5,
    "start_time": "2022-08-01T18:56:52.298Z"
   },
   {
    "duration": 14,
    "start_time": "2022-08-01T18:56:52.304Z"
   },
   {
    "duration": 32,
    "start_time": "2022-08-01T18:56:52.320Z"
   },
   {
    "duration": 6,
    "start_time": "2022-08-01T18:56:52.354Z"
   },
   {
    "duration": 41,
    "start_time": "2022-08-01T18:56:52.361Z"
   },
   {
    "duration": 16,
    "start_time": "2022-08-01T18:56:52.404Z"
   },
   {
    "duration": 35,
    "start_time": "2022-08-01T18:56:52.421Z"
   },
   {
    "duration": 3,
    "start_time": "2022-08-01T18:56:52.458Z"
   },
   {
    "duration": 4,
    "start_time": "2022-08-01T18:56:52.463Z"
   },
   {
    "duration": 23,
    "start_time": "2022-08-01T18:56:52.469Z"
   },
   {
    "duration": 14,
    "start_time": "2022-08-01T18:56:52.494Z"
   },
   {
    "duration": 22,
    "start_time": "2022-08-01T18:56:52.509Z"
   },
   {
    "duration": 13,
    "start_time": "2022-08-01T18:56:52.532Z"
   },
   {
    "duration": 15,
    "start_time": "2022-08-01T18:56:52.557Z"
   },
   {
    "duration": 21,
    "start_time": "2022-08-01T18:56:52.573Z"
   },
   {
    "duration": 17,
    "start_time": "2022-08-01T18:56:52.597Z"
   },
   {
    "duration": 11,
    "start_time": "2022-08-01T18:56:52.616Z"
   },
   {
    "duration": 24,
    "start_time": "2022-08-01T18:56:52.629Z"
   },
   {
    "duration": 10,
    "start_time": "2022-08-01T18:56:52.655Z"
   },
   {
    "duration": 10,
    "start_time": "2022-08-01T18:56:52.667Z"
   },
   {
    "duration": 10,
    "start_time": "2022-08-01T18:56:52.678Z"
   },
   {
    "duration": 14,
    "start_time": "2022-08-01T18:56:52.690Z"
   },
   {
    "duration": 8,
    "start_time": "2022-08-01T18:56:52.706Z"
   },
   {
    "duration": 406,
    "start_time": "2022-08-01T18:56:52.715Z"
   },
   {
    "duration": 10,
    "start_time": "2022-08-01T18:56:53.122Z"
   },
   {
    "duration": 4,
    "start_time": "2022-08-01T18:56:53.134Z"
   },
   {
    "duration": 21,
    "start_time": "2022-08-01T18:56:53.152Z"
   },
   {
    "duration": 5,
    "start_time": "2022-08-01T18:56:53.175Z"
   },
   {
    "duration": 7,
    "start_time": "2022-08-01T18:56:53.182Z"
   },
   {
    "duration": 8,
    "start_time": "2022-08-01T18:56:53.191Z"
   },
   {
    "duration": 4,
    "start_time": "2022-08-01T18:56:53.200Z"
   },
   {
    "duration": 8,
    "start_time": "2022-08-01T18:56:53.205Z"
   },
   {
    "duration": 5,
    "start_time": "2022-08-01T18:57:19.396Z"
   },
   {
    "duration": 79,
    "start_time": "2022-08-01T18:57:21.019Z"
   },
   {
    "duration": 4,
    "start_time": "2022-08-01T18:58:28.143Z"
   },
   {
    "duration": 9,
    "start_time": "2022-08-01T18:58:32.364Z"
   },
   {
    "duration": 25,
    "start_time": "2022-08-01T18:58:33.544Z"
   },
   {
    "duration": 5,
    "start_time": "2022-08-01T18:59:16.458Z"
   },
   {
    "duration": 5,
    "start_time": "2022-08-01T18:59:17.544Z"
   },
   {
    "duration": 307,
    "start_time": "2022-08-01T18:59:18.998Z"
   },
   {
    "duration": 15,
    "start_time": "2022-08-01T18:59:44.074Z"
   },
   {
    "duration": 16,
    "start_time": "2022-08-01T19:02:31.469Z"
   },
   {
    "duration": 70,
    "start_time": "2022-08-01T19:03:39.072Z"
   },
   {
    "duration": 4,
    "start_time": "2022-08-01T19:03:39.144Z"
   },
   {
    "duration": 19,
    "start_time": "2022-08-01T19:03:39.150Z"
   },
   {
    "duration": 38,
    "start_time": "2022-08-01T19:03:39.171Z"
   },
   {
    "duration": 25,
    "start_time": "2022-08-01T19:03:39.211Z"
   },
   {
    "duration": 7,
    "start_time": "2022-08-01T19:03:39.237Z"
   },
   {
    "duration": 45,
    "start_time": "2022-08-01T19:03:39.247Z"
   },
   {
    "duration": 21,
    "start_time": "2022-08-01T19:03:39.295Z"
   },
   {
    "duration": 49,
    "start_time": "2022-08-01T19:03:39.318Z"
   },
   {
    "duration": 4,
    "start_time": "2022-08-01T19:03:39.369Z"
   },
   {
    "duration": 26,
    "start_time": "2022-08-01T19:03:39.375Z"
   },
   {
    "duration": 27,
    "start_time": "2022-08-01T19:03:39.403Z"
   },
   {
    "duration": 7,
    "start_time": "2022-08-01T19:03:39.452Z"
   },
   {
    "duration": 39,
    "start_time": "2022-08-01T19:03:39.461Z"
   },
   {
    "duration": 12,
    "start_time": "2022-08-01T19:03:39.501Z"
   },
   {
    "duration": 30,
    "start_time": "2022-08-01T19:03:39.515Z"
   },
   {
    "duration": 17,
    "start_time": "2022-08-01T19:03:39.547Z"
   },
   {
    "duration": 5,
    "start_time": "2022-08-01T19:03:39.566Z"
   },
   {
    "duration": 36,
    "start_time": "2022-08-01T19:03:39.573Z"
   },
   {
    "duration": 4,
    "start_time": "2022-08-01T19:03:39.611Z"
   },
   {
    "duration": 23,
    "start_time": "2022-08-01T19:03:39.616Z"
   },
   {
    "duration": 16,
    "start_time": "2022-08-01T19:03:39.641Z"
   },
   {
    "duration": 14,
    "start_time": "2022-08-01T19:03:39.658Z"
   },
   {
    "duration": 39,
    "start_time": "2022-08-01T19:03:39.673Z"
   },
   {
    "duration": 19,
    "start_time": "2022-08-01T19:03:39.713Z"
   },
   {
    "duration": 18,
    "start_time": "2022-08-01T19:03:39.733Z"
   },
   {
    "duration": 18,
    "start_time": "2022-08-01T19:03:39.753Z"
   },
   {
    "duration": 26,
    "start_time": "2022-08-01T19:03:39.773Z"
   },
   {
    "duration": 17,
    "start_time": "2022-08-01T19:03:39.800Z"
   },
   {
    "duration": 23,
    "start_time": "2022-08-01T19:03:39.819Z"
   },
   {
    "duration": 14,
    "start_time": "2022-08-01T19:03:39.843Z"
   },
   {
    "duration": 37,
    "start_time": "2022-08-01T19:03:39.859Z"
   },
   {
    "duration": 16,
    "start_time": "2022-08-01T19:03:39.898Z"
   },
   {
    "duration": 19,
    "start_time": "2022-08-01T19:03:39.916Z"
   },
   {
    "duration": 3,
    "start_time": "2022-08-01T19:03:39.955Z"
   },
   {
    "duration": 8,
    "start_time": "2022-08-01T19:03:39.960Z"
   },
   {
    "duration": 13,
    "start_time": "2022-08-01T19:03:39.970Z"
   },
   {
    "duration": 16,
    "start_time": "2022-08-01T19:03:39.985Z"
   },
   {
    "duration": 31,
    "start_time": "2022-08-01T19:03:40.002Z"
   },
   {
    "duration": 18,
    "start_time": "2022-08-01T19:03:40.035Z"
   },
   {
    "duration": 15,
    "start_time": "2022-08-01T19:03:40.057Z"
   },
   {
    "duration": 37,
    "start_time": "2022-08-01T19:03:40.073Z"
   },
   {
    "duration": 8,
    "start_time": "2022-08-01T19:03:40.112Z"
   },
   {
    "duration": 34,
    "start_time": "2022-08-01T19:03:40.122Z"
   },
   {
    "duration": 11,
    "start_time": "2022-08-01T19:03:40.157Z"
   },
   {
    "duration": 17,
    "start_time": "2022-08-01T19:03:40.169Z"
   },
   {
    "duration": 17,
    "start_time": "2022-08-01T19:03:40.188Z"
   },
   {
    "duration": 16,
    "start_time": "2022-08-01T19:03:40.206Z"
   },
   {
    "duration": 7,
    "start_time": "2022-08-01T19:03:40.223Z"
   },
   {
    "duration": 26,
    "start_time": "2022-08-01T19:03:40.231Z"
   },
   {
    "duration": 432,
    "start_time": "2022-08-01T19:03:40.259Z"
   },
   {
    "duration": 12,
    "start_time": "2022-08-01T19:03:40.693Z"
   },
   {
    "duration": 29,
    "start_time": "2022-08-01T19:03:40.706Z"
   },
   {
    "duration": 39,
    "start_time": "2022-08-01T19:03:40.737Z"
   },
   {
    "duration": 21,
    "start_time": "2022-08-01T19:03:40.778Z"
   },
   {
    "duration": 26,
    "start_time": "2022-08-01T19:03:40.801Z"
   },
   {
    "duration": 11,
    "start_time": "2022-08-01T19:03:40.828Z"
   },
   {
    "duration": 3,
    "start_time": "2022-08-01T19:05:21.731Z"
   },
   {
    "duration": 5,
    "start_time": "2022-08-01T19:05:22.681Z"
   },
   {
    "duration": 280,
    "start_time": "2022-08-01T19:05:28.729Z"
   },
   {
    "duration": 15,
    "start_time": "2022-08-01T19:05:31.077Z"
   },
   {
    "duration": 16,
    "start_time": "2022-08-01T19:05:32.448Z"
   },
   {
    "duration": 4,
    "start_time": "2022-08-01T19:15:55.909Z"
   },
   {
    "duration": 6,
    "start_time": "2022-08-01T19:15:57.174Z"
   },
   {
    "duration": 336,
    "start_time": "2022-08-01T19:15:58.999Z"
   },
   {
    "duration": 13,
    "start_time": "2022-08-01T19:15:59.642Z"
   },
   {
    "duration": 26,
    "start_time": "2022-08-01T19:16:01.713Z"
   },
   {
    "duration": 67,
    "start_time": "2022-08-01T19:19:15.217Z"
   },
   {
    "duration": 3,
    "start_time": "2022-08-01T19:19:15.286Z"
   },
   {
    "duration": 8,
    "start_time": "2022-08-01T19:19:15.290Z"
   },
   {
    "duration": 26,
    "start_time": "2022-08-01T19:19:15.299Z"
   },
   {
    "duration": 31,
    "start_time": "2022-08-01T19:19:15.326Z"
   },
   {
    "duration": 7,
    "start_time": "2022-08-01T19:19:15.358Z"
   },
   {
    "duration": 27,
    "start_time": "2022-08-01T19:19:15.366Z"
   },
   {
    "duration": 22,
    "start_time": "2022-08-01T19:19:15.394Z"
   },
   {
    "duration": 27,
    "start_time": "2022-08-01T19:19:15.452Z"
   },
   {
    "duration": 4,
    "start_time": "2022-08-01T19:19:15.482Z"
   },
   {
    "duration": 17,
    "start_time": "2022-08-01T19:19:15.488Z"
   },
   {
    "duration": 72,
    "start_time": "2022-08-01T19:19:15.507Z"
   },
   {
    "duration": 4,
    "start_time": "2022-08-01T19:19:15.581Z"
   },
   {
    "duration": 25,
    "start_time": "2022-08-01T19:19:15.587Z"
   },
   {
    "duration": 5,
    "start_time": "2022-08-01T19:19:15.614Z"
   },
   {
    "duration": 39,
    "start_time": "2022-08-01T19:19:15.620Z"
   },
   {
    "duration": 6,
    "start_time": "2022-08-01T19:19:15.661Z"
   },
   {
    "duration": 5,
    "start_time": "2022-08-01T19:19:15.669Z"
   },
   {
    "duration": 22,
    "start_time": "2022-08-01T19:19:15.676Z"
   },
   {
    "duration": 5,
    "start_time": "2022-08-01T19:19:15.700Z"
   },
   {
    "duration": 6,
    "start_time": "2022-08-01T19:19:15.706Z"
   },
   {
    "duration": 6,
    "start_time": "2022-08-01T19:19:15.713Z"
   },
   {
    "duration": 5,
    "start_time": "2022-08-01T19:19:15.753Z"
   },
   {
    "duration": 22,
    "start_time": "2022-08-01T19:19:15.759Z"
   },
   {
    "duration": 6,
    "start_time": "2022-08-01T19:19:15.782Z"
   },
   {
    "duration": 17,
    "start_time": "2022-08-01T19:19:15.791Z"
   },
   {
    "duration": 10,
    "start_time": "2022-08-01T19:19:15.809Z"
   },
   {
    "duration": 22,
    "start_time": "2022-08-01T19:19:15.820Z"
   },
   {
    "duration": 20,
    "start_time": "2022-08-01T19:19:15.844Z"
   },
   {
    "duration": 22,
    "start_time": "2022-08-01T19:19:15.865Z"
   },
   {
    "duration": 7,
    "start_time": "2022-08-01T19:19:15.889Z"
   },
   {
    "duration": 42,
    "start_time": "2022-08-01T19:19:15.897Z"
   },
   {
    "duration": 19,
    "start_time": "2022-08-01T19:19:15.940Z"
   },
   {
    "duration": 22,
    "start_time": "2022-08-01T19:19:15.960Z"
   },
   {
    "duration": 4,
    "start_time": "2022-08-01T19:19:15.984Z"
   },
   {
    "duration": 31,
    "start_time": "2022-08-01T19:19:15.990Z"
   },
   {
    "duration": 20,
    "start_time": "2022-08-01T19:19:16.023Z"
   },
   {
    "duration": 24,
    "start_time": "2022-08-01T19:19:16.045Z"
   },
   {
    "duration": 36,
    "start_time": "2022-08-01T19:19:16.071Z"
   },
   {
    "duration": 19,
    "start_time": "2022-08-01T19:19:16.109Z"
   },
   {
    "duration": 31,
    "start_time": "2022-08-01T19:19:16.131Z"
   },
   {
    "duration": 39,
    "start_time": "2022-08-01T19:19:16.164Z"
   },
   {
    "duration": 10,
    "start_time": "2022-08-01T19:19:16.205Z"
   },
   {
    "duration": 11,
    "start_time": "2022-08-01T19:19:16.217Z"
   },
   {
    "duration": 26,
    "start_time": "2022-08-01T19:19:16.230Z"
   },
   {
    "duration": 11,
    "start_time": "2022-08-01T19:19:16.258Z"
   },
   {
    "duration": 13,
    "start_time": "2022-08-01T19:19:16.271Z"
   },
   {
    "duration": 9,
    "start_time": "2022-08-01T19:19:16.285Z"
   },
   {
    "duration": 7,
    "start_time": "2022-08-01T19:19:16.295Z"
   },
   {
    "duration": 8,
    "start_time": "2022-08-01T19:19:16.303Z"
   },
   {
    "duration": 399,
    "start_time": "2022-08-01T19:19:16.313Z"
   },
   {
    "duration": 11,
    "start_time": "2022-08-01T19:19:16.713Z"
   },
   {
    "duration": 6,
    "start_time": "2022-08-01T19:19:16.725Z"
   },
   {
    "duration": 41,
    "start_time": "2022-08-01T19:19:16.732Z"
   },
   {
    "duration": 6,
    "start_time": "2022-08-01T19:19:16.775Z"
   },
   {
    "duration": 10,
    "start_time": "2022-08-01T19:19:16.782Z"
   },
   {
    "duration": 8,
    "start_time": "2022-08-01T19:19:16.793Z"
   },
   {
    "duration": 3,
    "start_time": "2022-08-01T19:19:16.803Z"
   },
   {
    "duration": 5,
    "start_time": "2022-08-01T19:19:22.578Z"
   },
   {
    "duration": 11,
    "start_time": "2022-08-01T19:19:23.254Z"
   },
   {
    "duration": 3,
    "start_time": "2022-08-01T19:20:13.105Z"
   },
   {
    "duration": 16,
    "start_time": "2022-08-01T19:20:13.874Z"
   },
   {
    "duration": 4,
    "start_time": "2022-08-01T19:29:04.594Z"
   },
   {
    "duration": 15,
    "start_time": "2022-08-01T19:29:05.827Z"
   },
   {
    "duration": 4,
    "start_time": "2022-08-01T19:30:14.151Z"
   },
   {
    "duration": 15,
    "start_time": "2022-08-01T19:30:14.998Z"
   },
   {
    "duration": 6,
    "start_time": "2022-08-01T19:31:22.760Z"
   },
   {
    "duration": 15,
    "start_time": "2022-08-01T19:31:24.014Z"
   },
   {
    "duration": 10,
    "start_time": "2022-08-01T19:34:25.019Z"
   },
   {
    "duration": 3,
    "start_time": "2022-08-01T19:35:14.702Z"
   },
   {
    "duration": 4,
    "start_time": "2022-08-01T19:35:31.681Z"
   },
   {
    "duration": 3,
    "start_time": "2022-08-01T19:35:59.166Z"
   },
   {
    "duration": 8,
    "start_time": "2022-08-01T19:37:06.668Z"
   },
   {
    "duration": 12,
    "start_time": "2022-08-01T19:38:46.363Z"
   },
   {
    "duration": 5,
    "start_time": "2022-08-01T19:39:06.721Z"
   },
   {
    "duration": 3,
    "start_time": "2022-08-01T19:39:56.546Z"
   },
   {
    "duration": 7,
    "start_time": "2022-08-01T19:42:20.578Z"
   },
   {
    "duration": 20,
    "start_time": "2022-08-01T19:42:21.653Z"
   },
   {
    "duration": 5,
    "start_time": "2022-08-01T19:42:45.577Z"
   },
   {
    "duration": 14,
    "start_time": "2022-08-01T19:42:46.116Z"
   },
   {
    "duration": 6,
    "start_time": "2022-08-01T19:43:26.499Z"
   },
   {
    "duration": 13,
    "start_time": "2022-08-01T19:43:27.903Z"
   },
   {
    "duration": 18,
    "start_time": "2022-08-01T19:43:31.897Z"
   },
   {
    "duration": 3,
    "start_time": "2022-08-01T19:44:54.881Z"
   },
   {
    "duration": 4,
    "start_time": "2022-08-01T19:45:00.244Z"
   },
   {
    "duration": 11,
    "start_time": "2022-08-01T19:45:02.465Z"
   },
   {
    "duration": 23,
    "start_time": "2022-08-01T19:45:02.532Z"
   },
   {
    "duration": 4,
    "start_time": "2022-08-01T19:48:49.001Z"
   },
   {
    "duration": 4,
    "start_time": "2022-08-01T19:48:51.814Z"
   },
   {
    "duration": 10,
    "start_time": "2022-08-01T19:48:52.788Z"
   },
   {
    "duration": 4,
    "start_time": "2022-08-01T19:53:10.367Z"
   },
   {
    "duration": 11,
    "start_time": "2022-08-01T19:53:11.077Z"
   },
   {
    "duration": 3,
    "start_time": "2022-08-01T19:55:14.423Z"
   },
   {
    "duration": 5,
    "start_time": "2022-08-01T19:55:17.837Z"
   },
   {
    "duration": 4,
    "start_time": "2022-08-01T19:57:30.628Z"
   },
   {
    "duration": 5,
    "start_time": "2022-08-01T19:57:31.832Z"
   },
   {
    "duration": 4,
    "start_time": "2022-08-01T19:58:47.018Z"
   },
   {
    "duration": 8,
    "start_time": "2022-08-01T19:58:47.740Z"
   },
   {
    "duration": 239,
    "start_time": "2022-08-01T19:58:53.423Z"
   },
   {
    "duration": 11,
    "start_time": "2022-08-01T19:58:56.548Z"
   },
   {
    "duration": 15,
    "start_time": "2022-08-01T19:58:57.455Z"
   },
   {
    "duration": 5,
    "start_time": "2022-08-01T20:03:41.781Z"
   },
   {
    "duration": 6,
    "start_time": "2022-08-01T20:03:44.352Z"
   },
   {
    "duration": 8,
    "start_time": "2022-08-01T20:03:45.086Z"
   },
   {
    "duration": 254,
    "start_time": "2022-08-01T20:03:48.615Z"
   },
   {
    "duration": 11,
    "start_time": "2022-08-01T20:03:49.870Z"
   },
   {
    "duration": 17,
    "start_time": "2022-08-01T20:03:50.436Z"
   },
   {
    "duration": 82,
    "start_time": "2022-08-01T20:04:10.349Z"
   },
   {
    "duration": 4,
    "start_time": "2022-08-01T20:04:10.432Z"
   },
   {
    "duration": 6,
    "start_time": "2022-08-01T20:04:10.437Z"
   },
   {
    "duration": 38,
    "start_time": "2022-08-01T20:04:10.445Z"
   },
   {
    "duration": 15,
    "start_time": "2022-08-01T20:04:10.485Z"
   },
   {
    "duration": 7,
    "start_time": "2022-08-01T20:04:10.502Z"
   },
   {
    "duration": 71,
    "start_time": "2022-08-01T20:04:10.511Z"
   },
   {
    "duration": 22,
    "start_time": "2022-08-01T20:04:10.584Z"
   },
   {
    "duration": 51,
    "start_time": "2022-08-01T20:04:10.607Z"
   },
   {
    "duration": 5,
    "start_time": "2022-08-01T20:04:10.661Z"
   },
   {
    "duration": 29,
    "start_time": "2022-08-01T20:04:10.668Z"
   },
   {
    "duration": 25,
    "start_time": "2022-08-01T20:04:10.699Z"
   },
   {
    "duration": 5,
    "start_time": "2022-08-01T20:04:10.726Z"
   },
   {
    "duration": 68,
    "start_time": "2022-08-01T20:04:10.732Z"
   },
   {
    "duration": 5,
    "start_time": "2022-08-01T20:04:10.802Z"
   },
   {
    "duration": 12,
    "start_time": "2022-08-01T20:04:10.808Z"
   },
   {
    "duration": 6,
    "start_time": "2022-08-01T20:04:10.821Z"
   },
   {
    "duration": 4,
    "start_time": "2022-08-01T20:04:10.828Z"
   },
   {
    "duration": 27,
    "start_time": "2022-08-01T20:04:10.833Z"
   },
   {
    "duration": 5,
    "start_time": "2022-08-01T20:04:10.862Z"
   },
   {
    "duration": 19,
    "start_time": "2022-08-01T20:04:10.868Z"
   },
   {
    "duration": 6,
    "start_time": "2022-08-01T20:04:10.889Z"
   },
   {
    "duration": 6,
    "start_time": "2022-08-01T20:04:10.897Z"
   },
   {
    "duration": 22,
    "start_time": "2022-08-01T20:04:10.905Z"
   },
   {
    "duration": 27,
    "start_time": "2022-08-01T20:04:10.928Z"
   },
   {
    "duration": 9,
    "start_time": "2022-08-01T20:04:10.958Z"
   },
   {
    "duration": 16,
    "start_time": "2022-08-01T20:04:10.973Z"
   },
   {
    "duration": 5,
    "start_time": "2022-08-01T20:04:10.990Z"
   },
   {
    "duration": 16,
    "start_time": "2022-08-01T20:04:10.997Z"
   },
   {
    "duration": 12,
    "start_time": "2022-08-01T20:04:11.015Z"
   },
   {
    "duration": 27,
    "start_time": "2022-08-01T20:04:11.029Z"
   },
   {
    "duration": 53,
    "start_time": "2022-08-01T20:04:11.058Z"
   },
   {
    "duration": 16,
    "start_time": "2022-08-01T20:04:11.113Z"
   },
   {
    "duration": 25,
    "start_time": "2022-08-01T20:04:11.131Z"
   },
   {
    "duration": 4,
    "start_time": "2022-08-01T20:04:11.158Z"
   },
   {
    "duration": 22,
    "start_time": "2022-08-01T20:04:11.164Z"
   },
   {
    "duration": 5,
    "start_time": "2022-08-01T20:04:11.188Z"
   },
   {
    "duration": 7,
    "start_time": "2022-08-01T20:04:11.195Z"
   },
   {
    "duration": 22,
    "start_time": "2022-08-01T20:04:11.204Z"
   },
   {
    "duration": 13,
    "start_time": "2022-08-01T20:04:11.228Z"
   },
   {
    "duration": 50,
    "start_time": "2022-08-01T20:04:11.243Z"
   },
   {
    "duration": 24,
    "start_time": "2022-08-01T20:04:11.295Z"
   },
   {
    "duration": 8,
    "start_time": "2022-08-01T20:04:11.321Z"
   },
   {
    "duration": 8,
    "start_time": "2022-08-01T20:04:11.331Z"
   },
   {
    "duration": 9,
    "start_time": "2022-08-01T20:04:11.340Z"
   },
   {
    "duration": 17,
    "start_time": "2022-08-01T20:04:11.350Z"
   },
   {
    "duration": 27,
    "start_time": "2022-08-01T20:04:11.369Z"
   },
   {
    "duration": 12,
    "start_time": "2022-08-01T20:04:11.399Z"
   },
   {
    "duration": 7,
    "start_time": "2022-08-01T20:04:11.413Z"
   },
   {
    "duration": 10,
    "start_time": "2022-08-01T20:04:11.422Z"
   },
   {
    "duration": 459,
    "start_time": "2022-08-01T20:04:11.434Z"
   },
   {
    "duration": 10,
    "start_time": "2022-08-01T20:04:11.894Z"
   },
   {
    "duration": 7,
    "start_time": "2022-08-01T20:04:11.906Z"
   },
   {
    "duration": 24,
    "start_time": "2022-08-01T20:04:11.915Z"
   },
   {
    "duration": 7,
    "start_time": "2022-08-01T20:04:11.940Z"
   },
   {
    "duration": 12,
    "start_time": "2022-08-01T20:04:11.948Z"
   },
   {
    "duration": 26,
    "start_time": "2022-08-01T20:04:11.963Z"
   },
   {
    "duration": 1527,
    "start_time": "2022-08-01T20:04:11.990Z"
   },
   {
    "duration": 0,
    "start_time": "2022-08-01T20:04:13.518Z"
   },
   {
    "duration": 4,
    "start_time": "2022-08-01T20:04:45.234Z"
   },
   {
    "duration": 4,
    "start_time": "2022-08-01T20:04:49.348Z"
   },
   {
    "duration": 6,
    "start_time": "2022-08-01T20:04:50.415Z"
   },
   {
    "duration": 311,
    "start_time": "2022-08-01T20:04:54.589Z"
   },
   {
    "duration": 13,
    "start_time": "2022-08-01T20:05:00.618Z"
   },
   {
    "duration": 16,
    "start_time": "2022-08-01T20:05:01.264Z"
   },
   {
    "duration": 10,
    "start_time": "2022-08-01T20:09:26.786Z"
   },
   {
    "duration": 15,
    "start_time": "2022-08-01T20:09:51.167Z"
   },
   {
    "duration": 10,
    "start_time": "2022-08-01T20:10:13.591Z"
   },
   {
    "duration": 9,
    "start_time": "2022-08-01T20:11:38.550Z"
   },
   {
    "duration": 9,
    "start_time": "2022-08-01T20:12:28.224Z"
   },
   {
    "duration": 11,
    "start_time": "2022-08-01T20:50:25.258Z"
   },
   {
    "duration": 15,
    "start_time": "2022-08-01T20:54:56.050Z"
   },
   {
    "duration": 11,
    "start_time": "2022-08-01T20:55:26.418Z"
   },
   {
    "duration": 5,
    "start_time": "2022-08-01T21:03:41.879Z"
   },
   {
    "duration": 4,
    "start_time": "2022-08-01T21:07:03.441Z"
   },
   {
    "duration": 7,
    "start_time": "2022-08-01T21:07:04.923Z"
   },
   {
    "duration": 7,
    "start_time": "2022-08-01T21:09:52.425Z"
   },
   {
    "duration": 7,
    "start_time": "2022-08-01T21:10:38.493Z"
   },
   {
    "duration": 8,
    "start_time": "2022-08-01T21:12:46.393Z"
   },
   {
    "duration": 5,
    "start_time": "2022-08-01T21:13:42.094Z"
   },
   {
    "duration": 7,
    "start_time": "2022-08-01T21:13:47.773Z"
   },
   {
    "duration": 4,
    "start_time": "2022-08-01T21:22:38.762Z"
   },
   {
    "duration": 10,
    "start_time": "2022-08-01T21:23:02.143Z"
   },
   {
    "duration": 7,
    "start_time": "2022-08-01T21:28:49.050Z"
   },
   {
    "duration": 4,
    "start_time": "2022-08-01T21:29:21.767Z"
   },
   {
    "duration": 9,
    "start_time": "2022-08-01T21:41:28.581Z"
   },
   {
    "duration": 9,
    "start_time": "2022-08-01T21:42:20.946Z"
   },
   {
    "duration": 12,
    "start_time": "2022-08-01T21:43:21.882Z"
   },
   {
    "duration": 9,
    "start_time": "2022-08-01T21:43:40.023Z"
   },
   {
    "duration": 5,
    "start_time": "2022-08-01T21:44:48.662Z"
   },
   {
    "duration": 9,
    "start_time": "2022-08-01T21:44:56.570Z"
   },
   {
    "duration": 8,
    "start_time": "2022-08-01T21:45:55.520Z"
   },
   {
    "duration": 9,
    "start_time": "2022-08-01T21:49:19.836Z"
   },
   {
    "duration": 69,
    "start_time": "2022-08-01T22:06:02.246Z"
   },
   {
    "duration": 3,
    "start_time": "2022-08-01T22:06:02.317Z"
   },
   {
    "duration": 9,
    "start_time": "2022-08-01T22:06:02.322Z"
   },
   {
    "duration": 27,
    "start_time": "2022-08-01T22:06:02.333Z"
   },
   {
    "duration": 14,
    "start_time": "2022-08-01T22:06:02.362Z"
   },
   {
    "duration": 7,
    "start_time": "2022-08-01T22:06:02.378Z"
   },
   {
    "duration": 31,
    "start_time": "2022-08-01T22:06:02.386Z"
   },
   {
    "duration": 48,
    "start_time": "2022-08-01T22:06:02.418Z"
   },
   {
    "duration": 25,
    "start_time": "2022-08-01T22:06:02.468Z"
   },
   {
    "duration": 4,
    "start_time": "2022-08-01T22:06:02.496Z"
   },
   {
    "duration": 59,
    "start_time": "2022-08-01T22:06:02.502Z"
   },
   {
    "duration": 94,
    "start_time": "2022-08-01T22:06:02.563Z"
   },
   {
    "duration": 5,
    "start_time": "2022-08-01T22:06:02.659Z"
   },
   {
    "duration": 27,
    "start_time": "2022-08-01T22:06:02.666Z"
   },
   {
    "duration": 6,
    "start_time": "2022-08-01T22:06:02.694Z"
   },
   {
    "duration": 12,
    "start_time": "2022-08-01T22:06:02.701Z"
   },
   {
    "duration": 38,
    "start_time": "2022-08-01T22:06:02.715Z"
   },
   {
    "duration": 6,
    "start_time": "2022-08-01T22:06:02.755Z"
   },
   {
    "duration": 28,
    "start_time": "2022-08-01T22:06:02.763Z"
   },
   {
    "duration": 4,
    "start_time": "2022-08-01T22:06:02.794Z"
   },
   {
    "duration": 8,
    "start_time": "2022-08-01T22:06:02.800Z"
   },
   {
    "duration": 6,
    "start_time": "2022-08-01T22:06:02.810Z"
   },
   {
    "duration": 35,
    "start_time": "2022-08-01T22:06:02.817Z"
   },
   {
    "duration": 23,
    "start_time": "2022-08-01T22:06:02.854Z"
   },
   {
    "duration": 5,
    "start_time": "2022-08-01T22:06:02.879Z"
   },
   {
    "duration": 8,
    "start_time": "2022-08-01T22:06:02.885Z"
   },
   {
    "duration": 4,
    "start_time": "2022-08-01T22:06:02.897Z"
   },
   {
    "duration": 5,
    "start_time": "2022-08-01T22:06:02.903Z"
   },
   {
    "duration": 50,
    "start_time": "2022-08-01T22:06:02.910Z"
   },
   {
    "duration": 14,
    "start_time": "2022-08-01T22:06:02.962Z"
   },
   {
    "duration": 11,
    "start_time": "2022-08-01T22:06:02.978Z"
   },
   {
    "duration": 33,
    "start_time": "2022-08-01T22:06:02.990Z"
   },
   {
    "duration": 37,
    "start_time": "2022-08-01T22:06:03.025Z"
   },
   {
    "duration": 20,
    "start_time": "2022-08-01T22:06:03.064Z"
   },
   {
    "duration": 4,
    "start_time": "2022-08-01T22:06:03.086Z"
   },
   {
    "duration": 4,
    "start_time": "2022-08-01T22:06:03.091Z"
   },
   {
    "duration": 6,
    "start_time": "2022-08-01T22:06:03.097Z"
   },
   {
    "duration": 10,
    "start_time": "2022-08-01T22:06:03.105Z"
   },
   {
    "duration": 43,
    "start_time": "2022-08-01T22:06:03.117Z"
   },
   {
    "duration": 15,
    "start_time": "2022-08-01T22:06:03.161Z"
   },
   {
    "duration": 21,
    "start_time": "2022-08-01T22:06:03.177Z"
   },
   {
    "duration": 23,
    "start_time": "2022-08-01T22:06:03.199Z"
   },
   {
    "duration": 32,
    "start_time": "2022-08-01T22:06:03.225Z"
   },
   {
    "duration": 10,
    "start_time": "2022-08-01T22:06:03.259Z"
   },
   {
    "duration": 10,
    "start_time": "2022-08-01T22:06:03.271Z"
   },
   {
    "duration": 10,
    "start_time": "2022-08-01T22:06:03.283Z"
   },
   {
    "duration": 10,
    "start_time": "2022-08-01T22:06:03.295Z"
   },
   {
    "duration": 47,
    "start_time": "2022-08-01T22:06:03.307Z"
   },
   {
    "duration": 5,
    "start_time": "2022-08-01T22:06:03.356Z"
   },
   {
    "duration": 9,
    "start_time": "2022-08-01T22:06:03.363Z"
   },
   {
    "duration": 405,
    "start_time": "2022-08-01T22:06:03.374Z"
   },
   {
    "duration": 10,
    "start_time": "2022-08-01T22:06:03.781Z"
   },
   {
    "duration": 5,
    "start_time": "2022-08-01T22:06:03.793Z"
   },
   {
    "duration": 22,
    "start_time": "2022-08-01T22:06:03.799Z"
   },
   {
    "duration": 30,
    "start_time": "2022-08-01T22:06:03.823Z"
   },
   {
    "duration": 7,
    "start_time": "2022-08-01T22:06:03.855Z"
   },
   {
    "duration": 6,
    "start_time": "2022-08-01T22:06:03.864Z"
   },
   {
    "duration": 5,
    "start_time": "2022-08-01T22:06:03.871Z"
   },
   {
    "duration": 7,
    "start_time": "2022-08-01T22:06:03.878Z"
   },
   {
    "duration": 10,
    "start_time": "2022-08-01T22:06:03.886Z"
   },
   {
    "duration": 252,
    "start_time": "2022-08-01T22:06:03.897Z"
   },
   {
    "duration": 11,
    "start_time": "2022-08-01T22:06:04.152Z"
   },
   {
    "duration": 14,
    "start_time": "2022-08-01T22:06:04.164Z"
   },
   {
    "duration": 12,
    "start_time": "2022-08-01T22:06:04.179Z"
   },
   {
    "duration": 11,
    "start_time": "2022-08-01T22:06:04.192Z"
   },
   {
    "duration": 7,
    "start_time": "2022-08-01T22:06:04.204Z"
   },
   {
    "duration": 9,
    "start_time": "2022-08-01T22:06:04.212Z"
   },
   {
    "duration": 30,
    "start_time": "2022-08-01T22:06:04.223Z"
   },
   {
    "duration": 9,
    "start_time": "2022-08-01T22:06:04.254Z"
   },
   {
    "duration": 14,
    "start_time": "2022-08-01T22:06:47.567Z"
   },
   {
    "duration": 16,
    "start_time": "2022-08-01T22:08:29.565Z"
   },
   {
    "duration": 4,
    "start_time": "2022-08-01T22:15:39.188Z"
   },
   {
    "duration": 4,
    "start_time": "2022-08-01T22:30:45.845Z"
   },
   {
    "duration": 62,
    "start_time": "2022-08-02T09:52:22.392Z"
   },
   {
    "duration": 929,
    "start_time": "2022-08-02T09:52:36.035Z"
   },
   {
    "duration": 13,
    "start_time": "2022-08-02T09:52:36.975Z"
   },
   {
    "duration": 37,
    "start_time": "2022-08-02T09:52:36.997Z"
   },
   {
    "duration": 134,
    "start_time": "2022-08-02T09:52:37.036Z"
   },
   {
    "duration": 55,
    "start_time": "2022-08-02T09:52:37.176Z"
   },
   {
    "duration": 57,
    "start_time": "2022-08-02T09:52:37.233Z"
   },
   {
    "duration": 61,
    "start_time": "2022-08-02T09:52:37.291Z"
   },
   {
    "duration": 64,
    "start_time": "2022-08-02T09:52:37.356Z"
   },
   {
    "duration": 104,
    "start_time": "2022-08-02T09:52:37.422Z"
   },
   {
    "duration": 5,
    "start_time": "2022-08-02T09:52:37.529Z"
   },
   {
    "duration": 74,
    "start_time": "2022-08-02T09:52:37.535Z"
   },
   {
    "duration": 41,
    "start_time": "2022-08-02T09:52:37.611Z"
   },
   {
    "duration": 50,
    "start_time": "2022-08-02T09:52:37.661Z"
   },
   {
    "duration": 98,
    "start_time": "2022-08-02T09:52:37.713Z"
   },
   {
    "duration": 5,
    "start_time": "2022-08-02T09:52:37.812Z"
   },
   {
    "duration": 16,
    "start_time": "2022-08-02T09:52:37.819Z"
   },
   {
    "duration": 60,
    "start_time": "2022-08-02T09:52:37.837Z"
   },
   {
    "duration": 21,
    "start_time": "2022-08-02T09:52:37.899Z"
   },
   {
    "duration": 79,
    "start_time": "2022-08-02T09:52:37.922Z"
   },
   {
    "duration": 31,
    "start_time": "2022-08-02T09:52:38.002Z"
   },
   {
    "duration": 61,
    "start_time": "2022-08-02T09:52:38.034Z"
   },
   {
    "duration": 34,
    "start_time": "2022-08-02T09:52:38.096Z"
   },
   {
    "duration": 62,
    "start_time": "2022-08-02T09:52:38.132Z"
   },
   {
    "duration": 37,
    "start_time": "2022-08-02T09:52:38.195Z"
   },
   {
    "duration": 75,
    "start_time": "2022-08-02T09:52:38.234Z"
   },
   {
    "duration": 17,
    "start_time": "2022-08-02T09:52:38.311Z"
   },
   {
    "duration": 66,
    "start_time": "2022-08-02T09:52:38.329Z"
   },
   {
    "duration": 7,
    "start_time": "2022-08-02T09:52:38.398Z"
   },
   {
    "duration": 102,
    "start_time": "2022-08-02T09:52:38.407Z"
   },
   {
    "duration": 44,
    "start_time": "2022-08-02T09:52:38.511Z"
   },
   {
    "duration": 42,
    "start_time": "2022-08-02T09:52:38.557Z"
   },
   {
    "duration": 96,
    "start_time": "2022-08-02T09:52:38.601Z"
   },
   {
    "duration": 28,
    "start_time": "2022-08-02T09:52:38.701Z"
   },
   {
    "duration": 127,
    "start_time": "2022-08-02T09:52:38.730Z"
   },
   {
    "duration": 51,
    "start_time": "2022-08-02T09:52:38.863Z"
   },
   {
    "duration": 52,
    "start_time": "2022-08-02T09:52:38.917Z"
   },
   {
    "duration": 58,
    "start_time": "2022-08-02T09:52:38.970Z"
   },
   {
    "duration": 92,
    "start_time": "2022-08-02T09:52:39.030Z"
   },
   {
    "duration": 104,
    "start_time": "2022-08-02T09:52:39.124Z"
   },
   {
    "duration": 36,
    "start_time": "2022-08-02T09:52:39.231Z"
   },
   {
    "duration": 102,
    "start_time": "2022-08-02T09:52:39.271Z"
   },
   {
    "duration": 119,
    "start_time": "2022-08-02T09:52:39.378Z"
   },
   {
    "duration": 24,
    "start_time": "2022-08-02T09:52:39.508Z"
   },
   {
    "duration": 59,
    "start_time": "2022-08-02T09:52:39.535Z"
   },
   {
    "duration": 65,
    "start_time": "2022-08-02T09:52:39.596Z"
   },
   {
    "duration": 39,
    "start_time": "2022-08-02T09:52:39.672Z"
   },
   {
    "duration": 21,
    "start_time": "2022-08-02T09:52:39.713Z"
   },
   {
    "duration": 61,
    "start_time": "2022-08-02T09:52:39.736Z"
   },
   {
    "duration": 17,
    "start_time": "2022-08-02T09:52:39.799Z"
   },
   {
    "duration": 32,
    "start_time": "2022-08-02T09:52:39.817Z"
   },
   {
    "duration": 625,
    "start_time": "2022-08-02T09:52:39.853Z"
   },
   {
    "duration": 17,
    "start_time": "2022-08-02T09:52:40.487Z"
   },
   {
    "duration": 39,
    "start_time": "2022-08-02T09:52:40.506Z"
   },
   {
    "duration": 47,
    "start_time": "2022-08-02T09:52:40.547Z"
   },
   {
    "duration": 7,
    "start_time": "2022-08-02T09:52:40.595Z"
   },
   {
    "duration": 25,
    "start_time": "2022-08-02T09:52:40.603Z"
   },
   {
    "duration": 52,
    "start_time": "2022-08-02T09:52:40.629Z"
   },
   {
    "duration": 5,
    "start_time": "2022-08-02T09:52:40.688Z"
   },
   {
    "duration": 20,
    "start_time": "2022-08-02T09:52:40.695Z"
   },
   {
    "duration": 19,
    "start_time": "2022-08-02T09:52:40.716Z"
   },
   {
    "duration": 387,
    "start_time": "2022-08-02T09:52:40.743Z"
   },
   {
    "duration": 30,
    "start_time": "2022-08-02T09:52:41.133Z"
   },
   {
    "duration": 41,
    "start_time": "2022-08-02T09:52:41.165Z"
   },
   {
    "duration": 23,
    "start_time": "2022-08-02T09:52:41.207Z"
   },
   {
    "duration": 56,
    "start_time": "2022-08-02T09:52:41.232Z"
   },
   {
    "duration": 13,
    "start_time": "2022-08-02T09:52:41.290Z"
   },
   {
    "duration": 23,
    "start_time": "2022-08-02T09:52:41.306Z"
   },
   {
    "duration": 52,
    "start_time": "2022-08-02T09:52:41.331Z"
   },
   {
    "duration": 24,
    "start_time": "2022-08-02T09:52:41.385Z"
   },
   {
    "duration": 45,
    "start_time": "2022-08-02T09:52:41.410Z"
   },
   {
    "duration": 44,
    "start_time": "2022-08-02T09:52:41.457Z"
   },
   {
    "duration": 17,
    "start_time": "2022-08-02T09:52:41.503Z"
   },
   {
    "duration": 5,
    "start_time": "2022-08-02T09:52:48.787Z"
   },
   {
    "duration": 13,
    "start_time": "2022-08-02T09:54:30.869Z"
   },
   {
    "duration": 10,
    "start_time": "2022-08-02T09:54:47.981Z"
   },
   {
    "duration": 8,
    "start_time": "2022-08-02T10:03:21.023Z"
   },
   {
    "duration": 125,
    "start_time": "2022-08-02T10:05:35.605Z"
   },
   {
    "duration": 19,
    "start_time": "2022-08-02T10:05:43.566Z"
   },
   {
    "duration": 18,
    "start_time": "2022-08-02T10:06:08.466Z"
   },
   {
    "duration": 14,
    "start_time": "2022-08-02T10:06:41.496Z"
   },
   {
    "duration": 148,
    "start_time": "2022-08-02T10:23:58.556Z"
   },
   {
    "duration": 21,
    "start_time": "2022-08-02T10:24:06.631Z"
   },
   {
    "duration": 15,
    "start_time": "2022-08-02T10:29:03.803Z"
   },
   {
    "duration": 16,
    "start_time": "2022-08-02T10:30:32.930Z"
   },
   {
    "duration": 28,
    "start_time": "2022-08-02T10:33:37.386Z"
   },
   {
    "duration": 32,
    "start_time": "2022-08-02T10:36:46.136Z"
   },
   {
    "duration": 64,
    "start_time": "2022-08-02T10:41:46.833Z"
   },
   {
    "duration": 17,
    "start_time": "2022-08-02T10:42:18.772Z"
   },
   {
    "duration": 18,
    "start_time": "2022-08-02T10:43:19.981Z"
   },
   {
    "duration": 29,
    "start_time": "2022-08-02T10:44:08.965Z"
   },
   {
    "duration": 18,
    "start_time": "2022-08-02T10:44:43.985Z"
   },
   {
    "duration": 1240,
    "start_time": "2022-08-02T10:45:23.273Z"
   },
   {
    "duration": 1611,
    "start_time": "2022-08-02T10:46:01.120Z"
   },
   {
    "duration": 21,
    "start_time": "2022-08-02T10:47:36.423Z"
   },
   {
    "duration": 19,
    "start_time": "2022-08-02T10:47:56.778Z"
   },
   {
    "duration": 19,
    "start_time": "2022-08-02T10:58:20.338Z"
   },
   {
    "duration": 13,
    "start_time": "2022-08-02T11:08:17.085Z"
   },
   {
    "duration": 15,
    "start_time": "2022-08-02T11:11:01.516Z"
   },
   {
    "duration": 17,
    "start_time": "2022-08-02T11:11:15.840Z"
   },
   {
    "duration": 15,
    "start_time": "2022-08-02T11:11:50.550Z"
   },
   {
    "duration": 16,
    "start_time": "2022-08-02T11:12:01.149Z"
   },
   {
    "duration": 16,
    "start_time": "2022-08-02T11:22:32.298Z"
   },
   {
    "duration": 15,
    "start_time": "2022-08-02T11:30:30.791Z"
   },
   {
    "duration": 26,
    "start_time": "2022-08-02T11:31:50.930Z"
   },
   {
    "duration": 25,
    "start_time": "2022-08-02T11:35:08.638Z"
   },
   {
    "duration": 21,
    "start_time": "2022-08-02T12:04:56.241Z"
   },
   {
    "duration": 67,
    "start_time": "2022-08-02T12:05:43.624Z"
   },
   {
    "duration": 19,
    "start_time": "2022-08-02T12:06:19.762Z"
   },
   {
    "duration": 23,
    "start_time": "2022-08-02T12:14:08.858Z"
   },
   {
    "duration": 25,
    "start_time": "2022-08-02T12:14:47.227Z"
   },
   {
    "duration": 19,
    "start_time": "2022-08-02T12:15:10.576Z"
   },
   {
    "duration": 26,
    "start_time": "2022-08-02T12:16:30.227Z"
   },
   {
    "duration": 12,
    "start_time": "2022-08-02T14:49:27.893Z"
   },
   {
    "duration": 835,
    "start_time": "2022-08-02T21:11:05.735Z"
   },
   {
    "duration": 6,
    "start_time": "2022-08-02T21:11:06.573Z"
   },
   {
    "duration": 17,
    "start_time": "2022-08-02T21:11:06.581Z"
   },
   {
    "duration": 47,
    "start_time": "2022-08-02T21:11:06.602Z"
   },
   {
    "duration": 34,
    "start_time": "2022-08-02T21:11:06.652Z"
   },
   {
    "duration": 23,
    "start_time": "2022-08-02T21:11:06.688Z"
   },
   {
    "duration": 48,
    "start_time": "2022-08-02T21:11:06.716Z"
   },
   {
    "duration": 56,
    "start_time": "2022-08-02T21:11:06.767Z"
   },
   {
    "duration": 32,
    "start_time": "2022-08-02T21:11:06.825Z"
   },
   {
    "duration": 7,
    "start_time": "2022-08-02T21:11:06.861Z"
   },
   {
    "duration": 59,
    "start_time": "2022-08-02T21:11:06.870Z"
   },
   {
    "duration": 48,
    "start_time": "2022-08-02T21:11:06.931Z"
   },
   {
    "duration": 27,
    "start_time": "2022-08-02T21:11:06.984Z"
   },
   {
    "duration": 45,
    "start_time": "2022-08-02T21:11:07.014Z"
   },
   {
    "duration": 9,
    "start_time": "2022-08-02T21:11:07.062Z"
   },
   {
    "duration": 48,
    "start_time": "2022-08-02T21:11:07.074Z"
   },
   {
    "duration": 17,
    "start_time": "2022-08-02T21:11:07.125Z"
   },
   {
    "duration": 13,
    "start_time": "2022-08-02T21:11:07.143Z"
   },
   {
    "duration": 58,
    "start_time": "2022-08-02T21:11:07.159Z"
   },
   {
    "duration": 7,
    "start_time": "2022-08-02T21:11:07.219Z"
   },
   {
    "duration": 12,
    "start_time": "2022-08-02T21:11:07.229Z"
   },
   {
    "duration": 7,
    "start_time": "2022-08-02T21:11:07.243Z"
   },
   {
    "duration": 14,
    "start_time": "2022-08-02T21:11:07.252Z"
   },
   {
    "duration": 74,
    "start_time": "2022-08-02T21:11:07.267Z"
   },
   {
    "duration": 15,
    "start_time": "2022-08-02T21:11:07.344Z"
   },
   {
    "duration": 10,
    "start_time": "2022-08-02T21:11:07.362Z"
   },
   {
    "duration": 37,
    "start_time": "2022-08-02T21:11:07.375Z"
   },
   {
    "duration": 8,
    "start_time": "2022-08-02T21:11:07.419Z"
   },
   {
    "duration": 25,
    "start_time": "2022-08-02T21:11:07.429Z"
   },
   {
    "duration": 21,
    "start_time": "2022-08-02T21:11:07.457Z"
   },
   {
    "duration": 31,
    "start_time": "2022-08-02T21:11:07.480Z"
   },
   {
    "duration": 51,
    "start_time": "2022-08-02T21:11:07.514Z"
   },
   {
    "duration": 49,
    "start_time": "2022-08-02T21:11:07.568Z"
   },
   {
    "duration": 23,
    "start_time": "2022-08-02T21:11:07.619Z"
   },
   {
    "duration": 6,
    "start_time": "2022-08-02T21:11:07.645Z"
   },
   {
    "duration": 13,
    "start_time": "2022-08-02T21:11:07.653Z"
   },
   {
    "duration": 12,
    "start_time": "2022-08-02T21:11:07.668Z"
   },
   {
    "duration": 9,
    "start_time": "2022-08-02T21:11:07.683Z"
   },
   {
    "duration": 26,
    "start_time": "2022-08-02T21:11:07.711Z"
   },
   {
    "duration": 25,
    "start_time": "2022-08-02T21:11:07.739Z"
   },
   {
    "duration": 41,
    "start_time": "2022-08-02T21:11:07.766Z"
   },
   {
    "duration": 76,
    "start_time": "2022-08-02T21:11:07.814Z"
   },
   {
    "duration": 14,
    "start_time": "2022-08-02T21:11:07.892Z"
   },
   {
    "duration": 43,
    "start_time": "2022-08-02T21:11:07.908Z"
   },
   {
    "duration": 13,
    "start_time": "2022-08-02T21:11:07.953Z"
   },
   {
    "duration": 13,
    "start_time": "2022-08-02T21:11:07.969Z"
   },
   {
    "duration": 23,
    "start_time": "2022-08-02T21:11:07.984Z"
   },
   {
    "duration": 22,
    "start_time": "2022-08-02T21:11:08.009Z"
   },
   {
    "duration": 22,
    "start_time": "2022-08-02T21:11:08.036Z"
   },
   {
    "duration": 14,
    "start_time": "2022-08-02T21:11:08.061Z"
   },
   {
    "duration": 545,
    "start_time": "2022-08-02T21:11:08.077Z"
   },
   {
    "duration": 12,
    "start_time": "2022-08-02T21:11:08.625Z"
   },
   {
    "duration": 17,
    "start_time": "2022-08-02T21:11:08.639Z"
   },
   {
    "duration": 33,
    "start_time": "2022-08-02T21:11:08.658Z"
   },
   {
    "duration": 16,
    "start_time": "2022-08-02T21:11:08.710Z"
   },
   {
    "duration": 36,
    "start_time": "2022-08-02T21:11:08.729Z"
   },
   {
    "duration": 15,
    "start_time": "2022-08-02T21:11:08.768Z"
   },
   {
    "duration": 20,
    "start_time": "2022-08-02T21:11:08.786Z"
   },
   {
    "duration": 6,
    "start_time": "2022-08-02T21:11:08.809Z"
   },
   {
    "duration": 21,
    "start_time": "2022-08-02T21:11:08.818Z"
   },
   {
    "duration": 330,
    "start_time": "2022-08-02T21:11:08.842Z"
   },
   {
    "duration": 13,
    "start_time": "2022-08-02T21:11:09.174Z"
   },
   {
    "duration": 32,
    "start_time": "2022-08-02T21:11:09.189Z"
   },
   {
    "duration": 16,
    "start_time": "2022-08-02T21:11:09.223Z"
   },
   {
    "duration": 14,
    "start_time": "2022-08-02T21:11:09.241Z"
   },
   {
    "duration": 14,
    "start_time": "2022-08-02T21:11:09.257Z"
   },
   {
    "duration": 48,
    "start_time": "2022-08-02T21:11:09.274Z"
   },
   {
    "duration": 9,
    "start_time": "2022-08-02T21:11:09.325Z"
   },
   {
    "duration": 13,
    "start_time": "2022-08-02T21:11:09.336Z"
   },
   {
    "duration": 28,
    "start_time": "2022-08-02T21:11:09.352Z"
   },
   {
    "duration": 29,
    "start_time": "2022-08-02T21:11:09.382Z"
   },
   {
    "duration": 7,
    "start_time": "2022-08-02T21:11:09.413Z"
   },
   {
    "duration": 32,
    "start_time": "2022-08-02T21:11:09.422Z"
   },
   {
    "duration": 69,
    "start_time": "2022-08-02T21:11:09.456Z"
   },
   {
    "duration": 86,
    "start_time": "2022-08-02T21:28:53.174Z"
   },
   {
    "duration": 18,
    "start_time": "2022-08-02T21:29:26.582Z"
   },
   {
    "duration": 20,
    "start_time": "2022-08-02T21:30:01.161Z"
   },
   {
    "duration": 28,
    "start_time": "2022-08-02T21:36:50.082Z"
   },
   {
    "duration": 125,
    "start_time": "2022-08-02T21:37:20.107Z"
   },
   {
    "duration": 8,
    "start_time": "2022-08-02T21:43:57.594Z"
   },
   {
    "duration": 8,
    "start_time": "2022-08-02T21:45:51.053Z"
   },
   {
    "duration": 16,
    "start_time": "2022-08-02T21:46:19.403Z"
   },
   {
    "duration": 14,
    "start_time": "2022-08-02T21:53:38.640Z"
   },
   {
    "duration": 13,
    "start_time": "2022-08-02T22:44:54.150Z"
   },
   {
    "duration": 9,
    "start_time": "2022-08-02T22:45:44.852Z"
   },
   {
    "duration": 7,
    "start_time": "2022-08-02T22:45:54.887Z"
   },
   {
    "duration": 16,
    "start_time": "2022-08-02T22:46:05.670Z"
   },
   {
    "duration": 14,
    "start_time": "2022-08-02T22:46:31.743Z"
   },
   {
    "duration": 8,
    "start_time": "2022-08-02T22:47:57.734Z"
   },
   {
    "duration": 79,
    "start_time": "2022-08-02T22:48:13.548Z"
   },
   {
    "duration": 3,
    "start_time": "2022-08-02T22:48:13.629Z"
   },
   {
    "duration": 5,
    "start_time": "2022-08-02T22:48:13.657Z"
   },
   {
    "duration": 20,
    "start_time": "2022-08-02T22:48:13.758Z"
   },
   {
    "duration": 15,
    "start_time": "2022-08-02T22:48:13.807Z"
   },
   {
    "duration": 7,
    "start_time": "2022-08-02T22:48:13.907Z"
   },
   {
    "duration": 33,
    "start_time": "2022-08-02T22:48:13.991Z"
   },
   {
    "duration": 25,
    "start_time": "2022-08-02T22:48:14.039Z"
   },
   {
    "duration": 27,
    "start_time": "2022-08-02T22:48:14.236Z"
   },
   {
    "duration": 11,
    "start_time": "2022-08-02T22:48:14.387Z"
   },
   {
    "duration": 22,
    "start_time": "2022-08-02T22:48:14.400Z"
   },
   {
    "duration": 27,
    "start_time": "2022-08-02T22:48:14.908Z"
   },
   {
    "duration": 5,
    "start_time": "2022-08-02T22:48:14.937Z"
   },
   {
    "duration": 29,
    "start_time": "2022-08-02T22:48:15.167Z"
   },
   {
    "duration": 5,
    "start_time": "2022-08-02T22:48:15.198Z"
   },
   {
    "duration": 11,
    "start_time": "2022-08-02T22:48:15.258Z"
   },
   {
    "duration": 9,
    "start_time": "2022-08-02T22:48:15.271Z"
   },
   {
    "duration": 8,
    "start_time": "2022-08-02T22:48:15.282Z"
   },
   {
    "duration": 23,
    "start_time": "2022-08-02T22:48:15.378Z"
   },
   {
    "duration": 5,
    "start_time": "2022-08-02T22:48:15.403Z"
   },
   {
    "duration": 5,
    "start_time": "2022-08-02T22:48:15.537Z"
   },
   {
    "duration": 5,
    "start_time": "2022-08-02T22:48:15.544Z"
   },
   {
    "duration": 11,
    "start_time": "2022-08-02T22:48:15.551Z"
   },
   {
    "duration": 27,
    "start_time": "2022-08-02T22:48:15.564Z"
   },
   {
    "duration": 6,
    "start_time": "2022-08-02T22:48:15.778Z"
   },
   {
    "duration": 7,
    "start_time": "2022-08-02T22:48:15.787Z"
   },
   {
    "duration": 6,
    "start_time": "2022-08-02T22:48:15.940Z"
   },
   {
    "duration": 6,
    "start_time": "2022-08-02T22:48:15.948Z"
   },
   {
    "duration": 15,
    "start_time": "2022-08-02T22:48:15.955Z"
   },
   {
    "duration": 11,
    "start_time": "2022-08-02T22:48:16.098Z"
   },
   {
    "duration": 20,
    "start_time": "2022-08-02T22:48:16.112Z"
   },
   {
    "duration": 30,
    "start_time": "2022-08-02T22:48:16.134Z"
   },
   {
    "duration": 20,
    "start_time": "2022-08-02T22:48:16.247Z"
   },
   {
    "duration": 22,
    "start_time": "2022-08-02T22:48:16.269Z"
   },
   {
    "duration": 4,
    "start_time": "2022-08-02T22:48:16.358Z"
   },
   {
    "duration": 54,
    "start_time": "2022-08-02T22:48:16.364Z"
   },
   {
    "duration": 5,
    "start_time": "2022-08-02T22:48:16.508Z"
   },
   {
    "duration": 14,
    "start_time": "2022-08-02T22:48:16.516Z"
   },
   {
    "duration": 23,
    "start_time": "2022-08-02T22:48:16.598Z"
   },
   {
    "duration": 14,
    "start_time": "2022-08-02T22:48:16.623Z"
   },
   {
    "duration": 18,
    "start_time": "2022-08-02T22:48:16.639Z"
   },
   {
    "duration": 24,
    "start_time": "2022-08-02T22:48:16.707Z"
   },
   {
    "duration": 10,
    "start_time": "2022-08-02T22:48:16.733Z"
   },
   {
    "duration": 13,
    "start_time": "2022-08-02T22:48:16.745Z"
   },
   {
    "duration": 10,
    "start_time": "2022-08-02T22:48:16.808Z"
   },
   {
    "duration": 9,
    "start_time": "2022-08-02T22:48:16.820Z"
   },
   {
    "duration": 9,
    "start_time": "2022-08-02T22:48:16.937Z"
   },
   {
    "duration": 10,
    "start_time": "2022-08-02T22:48:16.948Z"
   },
   {
    "duration": 45,
    "start_time": "2022-08-02T22:48:17.047Z"
   },
   {
    "duration": 8,
    "start_time": "2022-08-02T22:48:17.094Z"
   },
   {
    "duration": 382,
    "start_time": "2022-08-02T22:48:17.168Z"
   },
   {
    "duration": 10,
    "start_time": "2022-08-02T22:48:17.552Z"
   },
   {
    "duration": 10,
    "start_time": "2022-08-02T22:48:17.564Z"
   },
   {
    "duration": 40,
    "start_time": "2022-08-02T22:48:17.575Z"
   },
   {
    "duration": 6,
    "start_time": "2022-08-02T22:48:17.617Z"
   },
   {
    "duration": 9,
    "start_time": "2022-08-02T22:48:17.624Z"
   },
   {
    "duration": 10,
    "start_time": "2022-08-02T22:48:17.635Z"
   },
   {
    "duration": 6,
    "start_time": "2022-08-02T22:48:17.647Z"
   },
   {
    "duration": 8,
    "start_time": "2022-08-02T22:48:17.655Z"
   },
   {
    "duration": 10,
    "start_time": "2022-08-02T22:48:17.665Z"
   },
   {
    "duration": 275,
    "start_time": "2022-08-02T22:48:17.732Z"
   },
   {
    "duration": 11,
    "start_time": "2022-08-02T22:48:18.010Z"
   },
   {
    "duration": 21,
    "start_time": "2022-08-02T22:48:18.022Z"
   },
   {
    "duration": 12,
    "start_time": "2022-08-02T22:48:18.045Z"
   },
   {
    "duration": 13,
    "start_time": "2022-08-02T22:48:18.060Z"
   },
   {
    "duration": 35,
    "start_time": "2022-08-02T22:48:18.075Z"
   },
   {
    "duration": 10,
    "start_time": "2022-08-02T22:48:18.237Z"
   },
   {
    "duration": 9,
    "start_time": "2022-08-02T22:48:18.250Z"
   },
   {
    "duration": 8,
    "start_time": "2022-08-02T22:48:18.368Z"
   },
   {
    "duration": 19,
    "start_time": "2022-08-02T22:48:18.379Z"
   },
   {
    "duration": 5,
    "start_time": "2022-08-02T22:48:18.498Z"
   },
   {
    "duration": 18,
    "start_time": "2022-08-02T22:48:18.505Z"
   },
   {
    "duration": 18,
    "start_time": "2022-08-02T22:48:18.747Z"
   },
   {
    "duration": 20,
    "start_time": "2022-08-02T22:48:18.938Z"
   },
   {
    "duration": 19,
    "start_time": "2022-08-02T22:48:19.047Z"
   },
   {
    "duration": 15,
    "start_time": "2022-08-02T22:48:19.068Z"
   },
   {
    "duration": 16,
    "start_time": "2022-08-02T22:48:19.085Z"
   },
   {
    "duration": 8,
    "start_time": "2022-08-02T22:48:37.343Z"
   },
   {
    "duration": 15,
    "start_time": "2022-08-02T22:49:16.642Z"
   },
   {
    "duration": 14,
    "start_time": "2022-08-02T22:50:35.068Z"
   },
   {
    "duration": 76,
    "start_time": "2022-08-02T23:11:39.237Z"
   },
   {
    "duration": 78,
    "start_time": "2022-08-02T23:13:09.263Z"
   },
   {
    "duration": 321,
    "start_time": "2022-08-02T23:13:32.137Z"
   },
   {
    "duration": 300,
    "start_time": "2022-08-02T23:31:23.804Z"
   },
   {
    "duration": 17,
    "start_time": "2022-08-02T23:31:24.669Z"
   },
   {
    "duration": 167,
    "start_time": "2022-08-02T23:38:00.482Z"
   },
   {
    "duration": 21,
    "start_time": "2022-08-03T00:00:26.707Z"
   },
   {
    "duration": 25,
    "start_time": "2022-08-03T00:04:21.771Z"
   },
   {
    "duration": 20,
    "start_time": "2022-08-03T00:07:33.757Z"
   },
   {
    "duration": 12,
    "start_time": "2022-08-03T00:38:18.534Z"
   },
   {
    "duration": 11,
    "start_time": "2022-08-03T00:39:00.052Z"
   },
   {
    "duration": 13,
    "start_time": "2022-08-03T00:51:04.777Z"
   },
   {
    "duration": 14,
    "start_time": "2022-08-03T00:51:37.929Z"
   },
   {
    "duration": 16,
    "start_time": "2022-08-03T00:52:01.029Z"
   },
   {
    "duration": 17,
    "start_time": "2022-08-03T00:52:24.596Z"
   },
   {
    "duration": 14,
    "start_time": "2022-08-03T00:53:46.989Z"
   },
   {
    "duration": 14,
    "start_time": "2022-08-03T00:54:01.204Z"
   },
   {
    "duration": 70,
    "start_time": "2022-08-03T01:25:27.185Z"
   },
   {
    "duration": 4,
    "start_time": "2022-08-03T01:25:27.257Z"
   },
   {
    "duration": 6,
    "start_time": "2022-08-03T01:25:27.264Z"
   },
   {
    "duration": 38,
    "start_time": "2022-08-03T01:25:27.272Z"
   },
   {
    "duration": 15,
    "start_time": "2022-08-03T01:25:27.312Z"
   },
   {
    "duration": 7,
    "start_time": "2022-08-03T01:25:27.329Z"
   },
   {
    "duration": 29,
    "start_time": "2022-08-03T01:25:27.345Z"
   },
   {
    "duration": 43,
    "start_time": "2022-08-03T01:25:27.376Z"
   },
   {
    "duration": 51,
    "start_time": "2022-08-03T01:25:27.421Z"
   },
   {
    "duration": 5,
    "start_time": "2022-08-03T01:25:27.474Z"
   },
   {
    "duration": 30,
    "start_time": "2022-08-03T01:25:27.480Z"
   },
   {
    "duration": 30,
    "start_time": "2022-08-03T01:25:27.512Z"
   },
   {
    "duration": 11,
    "start_time": "2022-08-03T01:25:27.543Z"
   },
   {
    "duration": 49,
    "start_time": "2022-08-03T01:25:27.555Z"
   },
   {
    "duration": 7,
    "start_time": "2022-08-03T01:25:27.733Z"
   },
   {
    "duration": 14,
    "start_time": "2022-08-03T01:25:27.826Z"
   },
   {
    "duration": 8,
    "start_time": "2022-08-03T01:25:27.842Z"
   },
   {
    "duration": 5,
    "start_time": "2022-08-03T01:25:27.851Z"
   },
   {
    "duration": 24,
    "start_time": "2022-08-03T01:25:27.889Z"
   },
   {
    "duration": 4,
    "start_time": "2022-08-03T01:25:27.914Z"
   },
   {
    "duration": 9,
    "start_time": "2022-08-03T01:25:27.920Z"
   },
   {
    "duration": 13,
    "start_time": "2022-08-03T01:25:27.931Z"
   },
   {
    "duration": 5,
    "start_time": "2022-08-03T01:25:27.968Z"
   },
   {
    "duration": 22,
    "start_time": "2022-08-03T01:25:27.975Z"
   },
   {
    "duration": 5,
    "start_time": "2022-08-03T01:25:27.999Z"
   },
   {
    "duration": 8,
    "start_time": "2022-08-03T01:25:28.006Z"
   },
   {
    "duration": 7,
    "start_time": "2022-08-03T01:25:28.015Z"
   },
   {
    "duration": 5,
    "start_time": "2022-08-03T01:25:28.024Z"
   },
   {
    "duration": 15,
    "start_time": "2022-08-03T01:25:28.031Z"
   },
   {
    "duration": 11,
    "start_time": "2022-08-03T01:25:28.048Z"
   },
   {
    "duration": 5,
    "start_time": "2022-08-03T01:25:28.061Z"
   },
   {
    "duration": 73,
    "start_time": "2022-08-03T01:25:28.067Z"
   },
   {
    "duration": 18,
    "start_time": "2022-08-03T01:25:28.142Z"
   },
   {
    "duration": 21,
    "start_time": "2022-08-03T01:25:28.162Z"
   },
   {
    "duration": 26,
    "start_time": "2022-08-03T01:25:28.184Z"
   },
   {
    "duration": 3,
    "start_time": "2022-08-03T01:25:28.212Z"
   },
   {
    "duration": 9,
    "start_time": "2022-08-03T01:25:28.217Z"
   },
   {
    "duration": 13,
    "start_time": "2022-08-03T01:25:28.227Z"
   },
   {
    "duration": 24,
    "start_time": "2022-08-03T01:25:28.242Z"
   },
   {
    "duration": 14,
    "start_time": "2022-08-03T01:25:28.268Z"
   },
   {
    "duration": 36,
    "start_time": "2022-08-03T01:25:28.284Z"
   },
   {
    "duration": 23,
    "start_time": "2022-08-03T01:25:28.345Z"
   },
   {
    "duration": 12,
    "start_time": "2022-08-03T01:25:28.370Z"
   },
   {
    "duration": 11,
    "start_time": "2022-08-03T01:25:28.384Z"
   },
   {
    "duration": 10,
    "start_time": "2022-08-03T01:25:28.430Z"
   },
   {
    "duration": 10,
    "start_time": "2022-08-03T01:25:28.442Z"
   },
   {
    "duration": 9,
    "start_time": "2022-08-03T01:25:28.520Z"
   },
   {
    "duration": 10,
    "start_time": "2022-08-03T01:25:28.530Z"
   },
   {
    "duration": 7,
    "start_time": "2022-08-03T01:25:28.624Z"
   },
   {
    "duration": 11,
    "start_time": "2022-08-03T01:25:28.633Z"
   },
   {
    "duration": 381,
    "start_time": "2022-08-03T01:25:28.688Z"
   },
   {
    "duration": 11,
    "start_time": "2022-08-03T01:25:29.072Z"
   },
   {
    "duration": 10,
    "start_time": "2022-08-03T01:25:29.084Z"
   },
   {
    "duration": 21,
    "start_time": "2022-08-03T01:25:29.111Z"
   },
   {
    "duration": 7,
    "start_time": "2022-08-03T01:25:29.134Z"
   },
   {
    "duration": 10,
    "start_time": "2022-08-03T01:25:29.143Z"
   },
   {
    "duration": 6,
    "start_time": "2022-08-03T01:25:29.155Z"
   },
   {
    "duration": 4,
    "start_time": "2022-08-03T01:25:29.163Z"
   },
   {
    "duration": 5,
    "start_time": "2022-08-03T01:25:29.209Z"
   },
   {
    "duration": 9,
    "start_time": "2022-08-03T01:25:29.217Z"
   },
   {
    "duration": 265,
    "start_time": "2022-08-03T01:25:29.228Z"
   },
   {
    "duration": 22,
    "start_time": "2022-08-03T01:25:29.495Z"
   },
   {
    "duration": 16,
    "start_time": "2022-08-03T01:25:29.518Z"
   },
   {
    "duration": 11,
    "start_time": "2022-08-03T01:25:29.535Z"
   },
   {
    "duration": 12,
    "start_time": "2022-08-03T01:25:29.548Z"
   },
   {
    "duration": 14,
    "start_time": "2022-08-03T01:25:29.562Z"
   },
   {
    "duration": 36,
    "start_time": "2022-08-03T01:25:29.578Z"
   },
   {
    "duration": 6,
    "start_time": "2022-08-03T01:25:29.616Z"
   },
   {
    "duration": 10,
    "start_time": "2022-08-03T01:25:29.624Z"
   },
   {
    "duration": 16,
    "start_time": "2022-08-03T01:25:29.636Z"
   },
   {
    "duration": 11,
    "start_time": "2022-08-03T01:25:29.654Z"
   },
   {
    "duration": 7,
    "start_time": "2022-08-03T01:25:29.667Z"
   },
   {
    "duration": 50,
    "start_time": "2022-08-03T01:25:29.676Z"
   },
   {
    "duration": 20,
    "start_time": "2022-08-03T01:25:29.728Z"
   },
   {
    "duration": 19,
    "start_time": "2022-08-03T01:25:29.750Z"
   },
   {
    "duration": 40,
    "start_time": "2022-08-03T01:25:29.771Z"
   },
   {
    "duration": 13,
    "start_time": "2022-08-03T01:25:29.813Z"
   },
   {
    "duration": 20,
    "start_time": "2022-08-03T01:25:29.828Z"
   },
   {
    "duration": 14,
    "start_time": "2022-08-03T01:25:29.850Z"
   },
   {
    "duration": 187,
    "start_time": "2022-08-03T01:25:29.865Z"
   },
   {
    "duration": 18,
    "start_time": "2022-08-03T01:25:30.054Z"
   },
   {
    "duration": 14,
    "start_time": "2022-08-03T01:25:30.074Z"
   },
   {
    "duration": 636,
    "start_time": "2022-08-04T19:05:10.368Z"
   },
   {
    "duration": 4,
    "start_time": "2022-08-04T19:05:11.006Z"
   },
   {
    "duration": 27,
    "start_time": "2022-08-04T19:05:11.012Z"
   },
   {
    "duration": 36,
    "start_time": "2022-08-04T19:05:11.042Z"
   },
   {
    "duration": 30,
    "start_time": "2022-08-04T19:05:11.080Z"
   },
   {
    "duration": 7,
    "start_time": "2022-08-04T19:05:11.112Z"
   },
   {
    "duration": 74,
    "start_time": "2022-08-04T19:05:11.120Z"
   },
   {
    "duration": 27,
    "start_time": "2022-08-04T19:05:11.196Z"
   },
   {
    "duration": 55,
    "start_time": "2022-08-04T19:05:11.226Z"
   },
   {
    "duration": 19,
    "start_time": "2022-08-04T19:05:11.284Z"
   },
   {
    "duration": 52,
    "start_time": "2022-08-04T19:05:11.305Z"
   },
   {
    "duration": 42,
    "start_time": "2022-08-04T19:05:11.358Z"
   },
   {
    "duration": 7,
    "start_time": "2022-08-04T19:05:11.402Z"
   },
   {
    "duration": 55,
    "start_time": "2022-08-04T19:05:11.411Z"
   },
   {
    "duration": 15,
    "start_time": "2022-08-04T19:05:11.468Z"
   },
   {
    "duration": 35,
    "start_time": "2022-08-04T19:05:11.485Z"
   },
   {
    "duration": 26,
    "start_time": "2022-08-04T19:05:11.522Z"
   },
   {
    "duration": 26,
    "start_time": "2022-08-04T19:05:11.550Z"
   },
   {
    "duration": 56,
    "start_time": "2022-08-04T19:05:11.577Z"
   },
   {
    "duration": 25,
    "start_time": "2022-08-04T19:05:11.634Z"
   },
   {
    "duration": 22,
    "start_time": "2022-08-04T19:05:11.661Z"
   },
   {
    "duration": 11,
    "start_time": "2022-08-04T19:05:11.684Z"
   },
   {
    "duration": 24,
    "start_time": "2022-08-04T19:05:11.696Z"
   },
   {
    "duration": 38,
    "start_time": "2022-08-04T19:05:11.722Z"
   },
   {
    "duration": 7,
    "start_time": "2022-08-04T19:05:11.762Z"
   },
   {
    "duration": 34,
    "start_time": "2022-08-04T19:05:11.771Z"
   },
   {
    "duration": 26,
    "start_time": "2022-08-04T19:05:11.806Z"
   },
   {
    "duration": 30,
    "start_time": "2022-08-04T19:05:11.837Z"
   },
   {
    "duration": 44,
    "start_time": "2022-08-04T19:05:11.869Z"
   },
   {
    "duration": 40,
    "start_time": "2022-08-04T19:05:11.916Z"
   },
   {
    "duration": 13,
    "start_time": "2022-08-04T19:05:11.957Z"
   },
   {
    "duration": 61,
    "start_time": "2022-08-04T19:05:11.971Z"
   },
   {
    "duration": 19,
    "start_time": "2022-08-04T19:05:12.034Z"
   },
   {
    "duration": 32,
    "start_time": "2022-08-04T19:05:12.055Z"
   },
   {
    "duration": 23,
    "start_time": "2022-08-04T19:05:12.089Z"
   },
   {
    "duration": 28,
    "start_time": "2022-08-04T19:05:12.113Z"
   },
   {
    "duration": 20,
    "start_time": "2022-08-04T19:05:12.143Z"
   },
   {
    "duration": 37,
    "start_time": "2022-08-04T19:05:12.165Z"
   },
   {
    "duration": 32,
    "start_time": "2022-08-04T19:05:12.204Z"
   },
   {
    "duration": 16,
    "start_time": "2022-08-04T19:05:12.237Z"
   },
   {
    "duration": 38,
    "start_time": "2022-08-04T19:05:12.255Z"
   },
   {
    "duration": 27,
    "start_time": "2022-08-04T19:05:12.296Z"
   },
   {
    "duration": 9,
    "start_time": "2022-08-04T19:05:12.325Z"
   },
   {
    "duration": 14,
    "start_time": "2022-08-04T19:05:12.336Z"
   },
   {
    "duration": 20,
    "start_time": "2022-08-04T19:05:12.352Z"
   },
   {
    "duration": 14,
    "start_time": "2022-08-04T19:05:12.374Z"
   },
   {
    "duration": 40,
    "start_time": "2022-08-04T19:05:12.389Z"
   },
   {
    "duration": 38,
    "start_time": "2022-08-04T19:05:12.432Z"
   },
   {
    "duration": 14,
    "start_time": "2022-08-04T19:05:12.472Z"
   },
   {
    "duration": 23,
    "start_time": "2022-08-04T19:05:12.487Z"
   },
   {
    "duration": 423,
    "start_time": "2022-08-04T19:05:12.512Z"
   },
   {
    "duration": 11,
    "start_time": "2022-08-04T19:05:12.937Z"
   },
   {
    "duration": 9,
    "start_time": "2022-08-04T19:05:12.950Z"
   },
   {
    "duration": 43,
    "start_time": "2022-08-04T19:05:12.961Z"
   },
   {
    "duration": 7,
    "start_time": "2022-08-04T19:05:13.006Z"
   },
   {
    "duration": 12,
    "start_time": "2022-08-04T19:05:13.014Z"
   },
   {
    "duration": 17,
    "start_time": "2022-08-04T19:05:13.028Z"
   },
   {
    "duration": 5,
    "start_time": "2022-08-04T19:05:13.047Z"
   },
   {
    "duration": 5,
    "start_time": "2022-08-04T19:05:13.055Z"
   },
   {
    "duration": 11,
    "start_time": "2022-08-04T19:05:13.062Z"
   },
   {
    "duration": 303,
    "start_time": "2022-08-04T19:05:13.074Z"
   },
   {
    "duration": 13,
    "start_time": "2022-08-04T19:05:13.378Z"
   },
   {
    "duration": 16,
    "start_time": "2022-08-04T19:05:13.402Z"
   },
   {
    "duration": 17,
    "start_time": "2022-08-04T19:05:13.420Z"
   },
   {
    "duration": 13,
    "start_time": "2022-08-04T19:05:13.439Z"
   },
   {
    "duration": 10,
    "start_time": "2022-08-04T19:05:13.454Z"
   },
   {
    "duration": 38,
    "start_time": "2022-08-04T19:05:13.465Z"
   },
   {
    "duration": 6,
    "start_time": "2022-08-04T19:05:13.505Z"
   },
   {
    "duration": 11,
    "start_time": "2022-08-04T19:05:13.513Z"
   },
   {
    "duration": 21,
    "start_time": "2022-08-04T19:05:13.526Z"
   },
   {
    "duration": 12,
    "start_time": "2022-08-04T19:05:13.549Z"
   },
   {
    "duration": 8,
    "start_time": "2022-08-04T19:05:13.563Z"
   },
   {
    "duration": 48,
    "start_time": "2022-08-04T19:05:13.573Z"
   },
   {
    "duration": 24,
    "start_time": "2022-08-04T19:05:13.623Z"
   },
   {
    "duration": 25,
    "start_time": "2022-08-04T19:05:13.649Z"
   },
   {
    "duration": 15,
    "start_time": "2022-08-04T19:05:13.704Z"
   },
   {
    "duration": 26,
    "start_time": "2022-08-04T19:05:13.721Z"
   },
   {
    "duration": 21,
    "start_time": "2022-08-04T19:05:13.748Z"
   },
   {
    "duration": 14,
    "start_time": "2022-08-04T19:05:13.771Z"
   },
   {
    "duration": 185,
    "start_time": "2022-08-04T19:05:13.787Z"
   },
   {
    "duration": 32,
    "start_time": "2022-08-04T19:05:13.974Z"
   },
   {
    "duration": 14,
    "start_time": "2022-08-04T19:05:14.011Z"
   },
   {
    "duration": 23,
    "start_time": "2022-08-04T19:08:37.985Z"
   },
   {
    "duration": 16,
    "start_time": "2022-08-04T19:08:45.345Z"
   },
   {
    "duration": 13,
    "start_time": "2022-08-04T19:13:17.077Z"
   },
   {
    "duration": 28,
    "start_time": "2022-08-04T19:13:41.226Z"
   },
   {
    "duration": 23,
    "start_time": "2022-08-04T19:18:12.824Z"
   },
   {
    "duration": 682,
    "start_time": "2022-08-08T11:36:17.658Z"
   },
   {
    "duration": 3,
    "start_time": "2022-08-08T11:36:18.341Z"
   },
   {
    "duration": 7,
    "start_time": "2022-08-08T11:36:18.345Z"
   },
   {
    "duration": 18,
    "start_time": "2022-08-08T11:36:18.354Z"
   },
   {
    "duration": 15,
    "start_time": "2022-08-08T11:36:18.374Z"
   },
   {
    "duration": 6,
    "start_time": "2022-08-08T11:36:18.391Z"
   },
   {
    "duration": 46,
    "start_time": "2022-08-08T11:36:18.398Z"
   },
   {
    "duration": 18,
    "start_time": "2022-08-08T11:36:18.446Z"
   },
   {
    "duration": 21,
    "start_time": "2022-08-08T11:36:18.466Z"
   },
   {
    "duration": 3,
    "start_time": "2022-08-08T11:36:18.490Z"
   },
   {
    "duration": 48,
    "start_time": "2022-08-08T11:36:18.495Z"
   },
   {
    "duration": 23,
    "start_time": "2022-08-08T11:36:18.545Z"
   },
   {
    "duration": 4,
    "start_time": "2022-08-08T11:36:18.569Z"
   },
   {
    "duration": 38,
    "start_time": "2022-08-08T11:36:18.574Z"
   },
   {
    "duration": 11,
    "start_time": "2022-08-08T11:36:18.614Z"
   },
   {
    "duration": 12,
    "start_time": "2022-08-08T11:36:18.626Z"
   },
   {
    "duration": 9,
    "start_time": "2022-08-08T11:36:18.639Z"
   },
   {
    "duration": 13,
    "start_time": "2022-08-08T11:36:18.649Z"
   },
   {
    "duration": 36,
    "start_time": "2022-08-08T11:36:18.664Z"
   },
   {
    "duration": 6,
    "start_time": "2022-08-08T11:36:18.701Z"
   },
   {
    "duration": 17,
    "start_time": "2022-08-08T11:36:18.708Z"
   },
   {
    "duration": 22,
    "start_time": "2022-08-08T11:36:18.726Z"
   },
   {
    "duration": 19,
    "start_time": "2022-08-08T11:36:18.749Z"
   },
   {
    "duration": 39,
    "start_time": "2022-08-08T11:36:18.769Z"
   },
   {
    "duration": 9,
    "start_time": "2022-08-08T11:36:18.809Z"
   },
   {
    "duration": 20,
    "start_time": "2022-08-08T11:36:18.819Z"
   },
   {
    "duration": 17,
    "start_time": "2022-08-08T11:36:18.840Z"
   },
   {
    "duration": 7,
    "start_time": "2022-08-08T11:36:18.862Z"
   },
   {
    "duration": 46,
    "start_time": "2022-08-08T11:36:18.871Z"
   },
   {
    "duration": 23,
    "start_time": "2022-08-08T11:36:18.919Z"
   },
   {
    "duration": 18,
    "start_time": "2022-08-08T11:36:18.944Z"
   },
   {
    "duration": 47,
    "start_time": "2022-08-08T11:36:18.964Z"
   },
   {
    "duration": 18,
    "start_time": "2022-08-08T11:36:19.013Z"
   },
   {
    "duration": 21,
    "start_time": "2022-08-08T11:36:19.033Z"
   },
   {
    "duration": 4,
    "start_time": "2022-08-08T11:36:19.056Z"
   },
   {
    "duration": 10,
    "start_time": "2022-08-08T11:36:19.062Z"
   },
   {
    "duration": 14,
    "start_time": "2022-08-08T11:36:19.073Z"
   },
   {
    "duration": 10,
    "start_time": "2022-08-08T11:36:19.088Z"
   },
   {
    "duration": 18,
    "start_time": "2022-08-08T11:36:19.100Z"
   },
   {
    "duration": 11,
    "start_time": "2022-08-08T11:36:19.120Z"
   },
   {
    "duration": 12,
    "start_time": "2022-08-08T11:36:19.138Z"
   },
   {
    "duration": 18,
    "start_time": "2022-08-08T11:36:19.152Z"
   },
   {
    "duration": 7,
    "start_time": "2022-08-08T11:36:19.172Z"
   },
   {
    "duration": 6,
    "start_time": "2022-08-08T11:36:19.181Z"
   },
   {
    "duration": 7,
    "start_time": "2022-08-08T11:36:19.188Z"
   },
   {
    "duration": 8,
    "start_time": "2022-08-08T11:36:19.196Z"
   },
   {
    "duration": 39,
    "start_time": "2022-08-08T11:36:19.205Z"
   },
   {
    "duration": 8,
    "start_time": "2022-08-08T11:36:19.245Z"
   },
   {
    "duration": 5,
    "start_time": "2022-08-08T11:36:19.254Z"
   },
   {
    "duration": 13,
    "start_time": "2022-08-08T11:36:19.261Z"
   },
   {
    "duration": 345,
    "start_time": "2022-08-08T11:36:19.275Z"
   },
   {
    "duration": 20,
    "start_time": "2022-08-08T11:36:19.622Z"
   },
   {
    "duration": 4,
    "start_time": "2022-08-08T11:36:19.644Z"
   },
   {
    "duration": 17,
    "start_time": "2022-08-08T11:36:19.650Z"
   },
   {
    "duration": 5,
    "start_time": "2022-08-08T11:36:19.669Z"
   },
   {
    "duration": 8,
    "start_time": "2022-08-08T11:36:19.676Z"
   },
   {
    "duration": 8,
    "start_time": "2022-08-08T11:36:19.685Z"
   },
   {
    "duration": 5,
    "start_time": "2022-08-08T11:36:19.694Z"
   },
   {
    "duration": 10,
    "start_time": "2022-08-08T11:36:19.700Z"
   },
   {
    "duration": 5,
    "start_time": "2022-08-08T11:36:19.738Z"
   },
   {
    "duration": 222,
    "start_time": "2022-08-08T11:36:19.744Z"
   },
   {
    "duration": 12,
    "start_time": "2022-08-08T11:36:19.967Z"
   },
   {
    "duration": 14,
    "start_time": "2022-08-08T11:36:19.980Z"
   },
   {
    "duration": 16,
    "start_time": "2022-08-08T11:36:19.996Z"
   },
   {
    "duration": 22,
    "start_time": "2022-08-08T11:36:20.013Z"
   },
   {
    "duration": 12,
    "start_time": "2022-08-08T11:36:20.036Z"
   },
   {
    "duration": 13,
    "start_time": "2022-08-08T11:36:20.049Z"
   },
   {
    "duration": 9,
    "start_time": "2022-08-08T11:36:20.064Z"
   },
   {
    "duration": 13,
    "start_time": "2022-08-08T11:36:20.075Z"
   },
   {
    "duration": 15,
    "start_time": "2022-08-08T11:36:20.089Z"
   },
   {
    "duration": 8,
    "start_time": "2022-08-08T11:36:20.105Z"
   },
   {
    "duration": 5,
    "start_time": "2022-08-08T11:36:20.115Z"
   },
   {
    "duration": 19,
    "start_time": "2022-08-08T11:36:20.121Z"
   },
   {
    "duration": 17,
    "start_time": "2022-08-08T11:36:20.141Z"
   },
   {
    "duration": 16,
    "start_time": "2022-08-08T11:36:20.159Z"
   },
   {
    "duration": 12,
    "start_time": "2022-08-08T11:36:20.176Z"
   },
   {
    "duration": 14,
    "start_time": "2022-08-08T11:36:20.189Z"
   },
   {
    "duration": 34,
    "start_time": "2022-08-08T11:36:20.205Z"
   },
   {
    "duration": 11,
    "start_time": "2022-08-08T11:36:20.240Z"
   },
   {
    "duration": 156,
    "start_time": "2022-08-08T11:36:20.253Z"
   },
   {
    "duration": 16,
    "start_time": "2022-08-08T11:36:20.410Z"
   },
   {
    "duration": 10,
    "start_time": "2022-08-08T11:36:20.440Z"
   },
   {
    "duration": 4,
    "start_time": "2022-08-08T11:57:50.221Z"
   },
   {
    "duration": 4,
    "start_time": "2022-08-08T11:58:04.880Z"
   },
   {
    "duration": 59,
    "start_time": "2022-08-10T13:53:26.234Z"
   },
   {
    "duration": 44,
    "start_time": "2022-08-10T13:54:13.753Z"
   },
   {
    "duration": 552,
    "start_time": "2022-08-10T13:54:32.332Z"
   },
   {
    "duration": 4,
    "start_time": "2022-08-10T13:54:32.886Z"
   },
   {
    "duration": 11,
    "start_time": "2022-08-10T13:54:32.891Z"
   },
   {
    "duration": 26,
    "start_time": "2022-08-10T13:54:32.903Z"
   },
   {
    "duration": 17,
    "start_time": "2022-08-10T13:54:32.930Z"
   },
   {
    "duration": 10,
    "start_time": "2022-08-10T13:54:32.948Z"
   },
   {
    "duration": 27,
    "start_time": "2022-08-10T13:54:32.959Z"
   },
   {
    "duration": 30,
    "start_time": "2022-08-10T13:54:32.988Z"
   },
   {
    "duration": 23,
    "start_time": "2022-08-10T13:54:33.020Z"
   },
   {
    "duration": 3,
    "start_time": "2022-08-10T13:54:33.046Z"
   },
   {
    "duration": 21,
    "start_time": "2022-08-10T13:54:33.051Z"
   },
   {
    "duration": 53,
    "start_time": "2022-08-10T13:54:33.073Z"
   },
   {
    "duration": 5,
    "start_time": "2022-08-10T13:54:33.127Z"
   },
   {
    "duration": 28,
    "start_time": "2022-08-10T13:54:33.133Z"
   },
   {
    "duration": 6,
    "start_time": "2022-08-10T13:54:33.162Z"
   },
   {
    "duration": 39,
    "start_time": "2022-08-10T13:54:33.170Z"
   },
   {
    "duration": 5,
    "start_time": "2022-08-10T13:54:33.211Z"
   },
   {
    "duration": 6,
    "start_time": "2022-08-10T13:54:33.218Z"
   },
   {
    "duration": 22,
    "start_time": "2022-08-10T13:54:33.226Z"
   },
   {
    "duration": 4,
    "start_time": "2022-08-10T13:54:33.249Z"
   },
   {
    "duration": 7,
    "start_time": "2022-08-10T13:54:33.254Z"
   },
   {
    "duration": 8,
    "start_time": "2022-08-10T13:54:33.262Z"
   },
   {
    "duration": 6,
    "start_time": "2022-08-10T13:54:33.271Z"
   },
   {
    "duration": 48,
    "start_time": "2022-08-10T13:54:33.278Z"
   },
   {
    "duration": 7,
    "start_time": "2022-08-10T13:54:33.327Z"
   },
   {
    "duration": 6,
    "start_time": "2022-08-10T13:54:33.335Z"
   },
   {
    "duration": 5,
    "start_time": "2022-08-10T13:54:33.343Z"
   },
   {
    "duration": 7,
    "start_time": "2022-08-10T13:54:33.351Z"
   },
   {
    "duration": 15,
    "start_time": "2022-08-10T13:54:33.359Z"
   },
   {
    "duration": 35,
    "start_time": "2022-08-10T13:54:33.375Z"
   },
   {
    "duration": 4,
    "start_time": "2022-08-10T13:54:33.412Z"
   },
   {
    "duration": 34,
    "start_time": "2022-08-10T13:54:33.418Z"
   },
   {
    "duration": 15,
    "start_time": "2022-08-10T13:54:33.453Z"
   },
   {
    "duration": 40,
    "start_time": "2022-08-10T13:54:33.470Z"
   },
   {
    "duration": 3,
    "start_time": "2022-08-10T13:54:33.511Z"
   },
   {
    "duration": 6,
    "start_time": "2022-08-10T13:54:33.516Z"
   },
   {
    "duration": 262,
    "start_time": "2022-08-10T13:54:42.898Z"
   },
   {
    "duration": 125,
    "start_time": "2022-08-10T14:00:34.504Z"
   },
   {
    "duration": 124,
    "start_time": "2022-08-10T14:01:23.694Z"
   },
   {
    "duration": 122,
    "start_time": "2022-08-10T14:05:07.088Z"
   },
   {
    "duration": 137,
    "start_time": "2022-08-10T14:06:01.026Z"
   },
   {
    "duration": 139,
    "start_time": "2022-08-10T14:07:57.757Z"
   },
   {
    "duration": 4,
    "start_time": "2022-08-10T14:08:07.345Z"
   },
   {
    "duration": 3,
    "start_time": "2022-08-10T14:08:20.616Z"
   },
   {
    "duration": 19,
    "start_time": "2022-08-10T14:08:24.509Z"
   },
   {
    "duration": 12,
    "start_time": "2022-08-10T14:08:25.420Z"
   },
   {
    "duration": 14,
    "start_time": "2022-08-10T14:08:30.104Z"
   },
   {
    "duration": 21,
    "start_time": "2022-08-10T16:16:10.229Z"
   },
   {
    "duration": 12,
    "start_time": "2022-08-10T16:24:25.374Z"
   },
   {
    "duration": 18,
    "start_time": "2022-08-10T16:28:15.336Z"
   },
   {
    "duration": 15,
    "start_time": "2022-08-10T16:44:03.807Z"
   },
   {
    "duration": 15,
    "start_time": "2022-08-10T16:45:15.504Z"
   },
   {
    "duration": 29,
    "start_time": "2022-08-10T16:59:03.436Z"
   },
   {
    "duration": 8,
    "start_time": "2022-08-10T17:07:06.087Z"
   },
   {
    "duration": 26,
    "start_time": "2022-08-10T18:58:43.154Z"
   },
   {
    "duration": 64,
    "start_time": "2022-08-10T19:12:43.003Z"
   },
   {
    "duration": 60,
    "start_time": "2022-08-10T19:12:51.926Z"
   },
   {
    "duration": 69,
    "start_time": "2022-08-10T19:13:15.492Z"
   },
   {
    "duration": 72,
    "start_time": "2022-08-10T19:13:24.584Z"
   },
   {
    "duration": 71,
    "start_time": "2022-08-10T19:14:43.752Z"
   },
   {
    "duration": 48,
    "start_time": "2022-08-10T19:14:57.192Z"
   },
   {
    "duration": 19,
    "start_time": "2022-08-10T19:17:59.538Z"
   },
   {
    "duration": 24,
    "start_time": "2022-08-10T19:21:32.771Z"
   },
   {
    "duration": 45,
    "start_time": "2022-08-10T19:21:51.021Z"
   },
   {
    "duration": 27,
    "start_time": "2022-08-10T19:25:24.436Z"
   },
   {
    "duration": 26,
    "start_time": "2022-08-10T19:39:19.526Z"
   },
   {
    "duration": 4,
    "start_time": "2022-08-10T19:46:40.513Z"
   },
   {
    "duration": 14,
    "start_time": "2022-08-10T19:46:45.748Z"
   },
   {
    "duration": 4,
    "start_time": "2022-08-10T19:50:24.333Z"
   },
   {
    "duration": 915,
    "start_time": "2022-08-10T19:50:26.180Z"
   },
   {
    "duration": 800,
    "start_time": "2022-08-10T19:54:45.575Z"
   },
   {
    "duration": 4,
    "start_time": "2022-08-10T20:00:41.377Z"
   },
   {
    "duration": 4,
    "start_time": "2022-08-10T20:13:00.112Z"
   },
   {
    "duration": 6,
    "start_time": "2022-08-10T20:13:50.254Z"
   },
   {
    "duration": 16,
    "start_time": "2022-08-10T20:13:50.977Z"
   },
   {
    "duration": 4,
    "start_time": "2022-08-10T20:15:02.316Z"
   },
   {
    "duration": 3,
    "start_time": "2022-08-10T20:21:41.277Z"
   },
   {
    "duration": 8,
    "start_time": "2022-08-10T20:22:09.514Z"
   },
   {
    "duration": 7,
    "start_time": "2022-08-10T20:23:33.842Z"
   },
   {
    "duration": 962,
    "start_time": "2022-08-10T20:23:45.070Z"
   },
   {
    "duration": 8,
    "start_time": "2022-08-10T20:28:48.270Z"
   },
   {
    "duration": 11,
    "start_time": "2022-08-10T20:36:33.283Z"
   },
   {
    "duration": 1242,
    "start_time": "2022-08-10T20:38:07.317Z"
   },
   {
    "duration": 16,
    "start_time": "2022-08-10T20:39:26.208Z"
   },
   {
    "duration": 15,
    "start_time": "2022-08-10T20:40:05.857Z"
   },
   {
    "duration": 4,
    "start_time": "2022-08-10T20:50:56.608Z"
   },
   {
    "duration": 18,
    "start_time": "2022-08-10T20:52:12.247Z"
   },
   {
    "duration": 10,
    "start_time": "2022-08-10T20:55:14.934Z"
   },
   {
    "duration": 14,
    "start_time": "2022-08-10T20:55:53.676Z"
   },
   {
    "duration": 11,
    "start_time": "2022-08-10T20:55:55.061Z"
   },
   {
    "duration": 5,
    "start_time": "2022-08-10T20:57:51.666Z"
   },
   {
    "duration": 1110,
    "start_time": "2022-08-10T20:59:10.418Z"
   },
   {
    "duration": 27,
    "start_time": "2022-08-10T21:05:14.443Z"
   },
   {
    "duration": 740,
    "start_time": "2022-08-10T21:27:46.947Z"
   },
   {
    "duration": 11,
    "start_time": "2022-08-10T21:28:05.887Z"
   },
   {
    "duration": 7,
    "start_time": "2022-08-10T21:28:26.963Z"
   },
   {
    "duration": 14,
    "start_time": "2022-08-10T21:28:41.754Z"
   },
   {
    "duration": 13,
    "start_time": "2022-08-10T21:30:25.177Z"
   },
   {
    "duration": 592,
    "start_time": "2022-08-11T14:44:03.425Z"
   },
   {
    "duration": 3,
    "start_time": "2022-08-11T14:44:04.019Z"
   },
   {
    "duration": 9,
    "start_time": "2022-08-11T14:44:04.024Z"
   },
   {
    "duration": 22,
    "start_time": "2022-08-11T14:44:04.034Z"
   },
   {
    "duration": 14,
    "start_time": "2022-08-11T14:44:04.058Z"
   },
   {
    "duration": 5,
    "start_time": "2022-08-11T14:44:04.073Z"
   },
   {
    "duration": 35,
    "start_time": "2022-08-11T14:44:04.079Z"
   },
   {
    "duration": 18,
    "start_time": "2022-08-11T14:44:04.116Z"
   },
   {
    "duration": 23,
    "start_time": "2022-08-11T14:44:04.135Z"
   },
   {
    "duration": 3,
    "start_time": "2022-08-11T14:44:04.161Z"
   },
   {
    "duration": 22,
    "start_time": "2022-08-11T14:44:04.165Z"
   },
   {
    "duration": 22,
    "start_time": "2022-08-11T14:44:04.189Z"
   },
   {
    "duration": 27,
    "start_time": "2022-08-11T14:44:04.213Z"
   },
   {
    "duration": 22,
    "start_time": "2022-08-11T14:44:04.241Z"
   },
   {
    "duration": 9,
    "start_time": "2022-08-11T14:44:04.265Z"
   },
   {
    "duration": 11,
    "start_time": "2022-08-11T14:44:04.275Z"
   },
   {
    "duration": 10,
    "start_time": "2022-08-11T14:44:04.287Z"
   },
   {
    "duration": 4,
    "start_time": "2022-08-11T14:44:04.298Z"
   },
   {
    "duration": 45,
    "start_time": "2022-08-11T14:44:04.303Z"
   },
   {
    "duration": 3,
    "start_time": "2022-08-11T14:44:04.350Z"
   },
   {
    "duration": 15,
    "start_time": "2022-08-11T14:44:04.354Z"
   },
   {
    "duration": 13,
    "start_time": "2022-08-11T14:44:04.370Z"
   },
   {
    "duration": 21,
    "start_time": "2022-08-11T14:44:04.385Z"
   },
   {
    "duration": 23,
    "start_time": "2022-08-11T14:44:04.407Z"
   },
   {
    "duration": 6,
    "start_time": "2022-08-11T14:44:04.431Z"
   },
   {
    "duration": 8,
    "start_time": "2022-08-11T14:44:04.438Z"
   },
   {
    "duration": 8,
    "start_time": "2022-08-11T14:44:04.447Z"
   },
   {
    "duration": 15,
    "start_time": "2022-08-11T14:44:04.458Z"
   },
   {
    "duration": 15,
    "start_time": "2022-08-11T14:44:04.474Z"
   },
   {
    "duration": 16,
    "start_time": "2022-08-11T14:44:04.490Z"
   },
   {
    "duration": 6,
    "start_time": "2022-08-11T14:44:04.507Z"
   },
   {
    "duration": 31,
    "start_time": "2022-08-11T14:44:04.514Z"
   },
   {
    "duration": 14,
    "start_time": "2022-08-11T14:44:04.546Z"
   },
   {
    "duration": 16,
    "start_time": "2022-08-11T14:44:04.561Z"
   },
   {
    "duration": 4,
    "start_time": "2022-08-11T14:44:04.578Z"
   },
   {
    "duration": 6,
    "start_time": "2022-08-11T14:44:04.583Z"
   },
   {
    "duration": 149,
    "start_time": "2022-08-11T14:44:04.590Z"
   },
   {
    "duration": 4,
    "start_time": "2022-08-11T14:44:04.740Z"
   },
   {
    "duration": 21,
    "start_time": "2022-08-11T14:44:04.745Z"
   },
   {
    "duration": 24,
    "start_time": "2022-08-11T14:44:04.767Z"
   },
   {
    "duration": 31,
    "start_time": "2022-08-11T14:44:04.792Z"
   },
   {
    "duration": 29,
    "start_time": "2022-08-11T14:44:04.824Z"
   },
   {
    "duration": 25,
    "start_time": "2022-08-11T14:44:04.854Z"
   },
   {
    "duration": 34,
    "start_time": "2022-08-11T14:44:04.880Z"
   },
   {
    "duration": 27,
    "start_time": "2022-08-11T14:44:04.916Z"
   },
   {
    "duration": 65,
    "start_time": "2022-08-11T14:44:51.982Z"
   },
   {
    "duration": 3,
    "start_time": "2022-08-11T14:44:52.049Z"
   },
   {
    "duration": 8,
    "start_time": "2022-08-11T14:44:52.053Z"
   },
   {
    "duration": 24,
    "start_time": "2022-08-11T14:44:52.062Z"
   },
   {
    "duration": 17,
    "start_time": "2022-08-11T14:44:52.088Z"
   },
   {
    "duration": 7,
    "start_time": "2022-08-11T14:44:52.106Z"
   },
   {
    "duration": 42,
    "start_time": "2022-08-11T14:44:52.114Z"
   },
   {
    "duration": 17,
    "start_time": "2022-08-11T14:44:52.158Z"
   },
   {
    "duration": 25,
    "start_time": "2022-08-11T14:44:52.176Z"
   },
   {
    "duration": 4,
    "start_time": "2022-08-11T14:44:52.203Z"
   },
   {
    "duration": 40,
    "start_time": "2022-08-11T14:44:52.209Z"
   },
   {
    "duration": 21,
    "start_time": "2022-08-11T14:44:52.251Z"
   },
   {
    "duration": 4,
    "start_time": "2022-08-11T14:44:52.274Z"
   },
   {
    "duration": 25,
    "start_time": "2022-08-11T14:44:52.280Z"
   },
   {
    "duration": 32,
    "start_time": "2022-08-11T14:44:52.307Z"
   },
   {
    "duration": 8,
    "start_time": "2022-08-11T14:44:52.340Z"
   },
   {
    "duration": 10,
    "start_time": "2022-08-11T14:44:52.350Z"
   },
   {
    "duration": 8,
    "start_time": "2022-08-11T14:44:52.361Z"
   },
   {
    "duration": 20,
    "start_time": "2022-08-11T14:44:52.370Z"
   },
   {
    "duration": 3,
    "start_time": "2022-08-11T14:44:52.391Z"
   },
   {
    "duration": 11,
    "start_time": "2022-08-11T14:44:52.395Z"
   },
   {
    "duration": 12,
    "start_time": "2022-08-11T14:44:52.407Z"
   },
   {
    "duration": 21,
    "start_time": "2022-08-11T14:44:52.420Z"
   },
   {
    "duration": 25,
    "start_time": "2022-08-11T14:44:52.442Z"
   },
   {
    "duration": 5,
    "start_time": "2022-08-11T14:44:52.468Z"
   },
   {
    "duration": 6,
    "start_time": "2022-08-11T14:44:52.476Z"
   },
   {
    "duration": 5,
    "start_time": "2022-08-11T14:44:52.484Z"
   },
   {
    "duration": 5,
    "start_time": "2022-08-11T14:44:52.490Z"
   },
   {
    "duration": 22,
    "start_time": "2022-08-11T14:44:52.497Z"
   },
   {
    "duration": 9,
    "start_time": "2022-08-11T14:44:52.538Z"
   },
   {
    "duration": 4,
    "start_time": "2022-08-11T14:44:52.548Z"
   },
   {
    "duration": 28,
    "start_time": "2022-08-11T14:44:52.553Z"
   },
   {
    "duration": 13,
    "start_time": "2022-08-11T14:44:52.583Z"
   },
   {
    "duration": 15,
    "start_time": "2022-08-11T14:44:52.598Z"
   },
   {
    "duration": 26,
    "start_time": "2022-08-11T14:44:52.614Z"
   },
   {
    "duration": 6,
    "start_time": "2022-08-11T14:44:52.641Z"
   },
   {
    "duration": 136,
    "start_time": "2022-08-11T14:44:52.649Z"
   },
   {
    "duration": 4,
    "start_time": "2022-08-11T14:44:52.786Z"
   },
   {
    "duration": 8,
    "start_time": "2022-08-11T14:44:52.791Z"
   },
   {
    "duration": 20,
    "start_time": "2022-08-11T14:44:52.800Z"
   },
   {
    "duration": 22,
    "start_time": "2022-08-11T14:44:52.821Z"
   },
   {
    "duration": 15,
    "start_time": "2022-08-11T14:44:52.844Z"
   },
   {
    "duration": 21,
    "start_time": "2022-08-11T14:44:52.860Z"
   },
   {
    "duration": 20,
    "start_time": "2022-08-11T14:44:52.882Z"
   },
   {
    "duration": 47,
    "start_time": "2022-08-11T14:44:52.904Z"
   },
   {
    "duration": 64,
    "start_time": "2022-08-11T14:46:03.875Z"
   },
   {
    "duration": 3,
    "start_time": "2022-08-11T14:46:03.941Z"
   },
   {
    "duration": 8,
    "start_time": "2022-08-11T14:46:03.946Z"
   },
   {
    "duration": 21,
    "start_time": "2022-08-11T14:46:03.956Z"
   },
   {
    "duration": 15,
    "start_time": "2022-08-11T14:46:03.978Z"
   },
   {
    "duration": 5,
    "start_time": "2022-08-11T14:46:03.995Z"
   },
   {
    "duration": 49,
    "start_time": "2022-08-11T14:46:04.001Z"
   },
   {
    "duration": 18,
    "start_time": "2022-08-11T14:46:04.051Z"
   },
   {
    "duration": 26,
    "start_time": "2022-08-11T14:46:04.070Z"
   },
   {
    "duration": 3,
    "start_time": "2022-08-11T14:46:04.099Z"
   },
   {
    "duration": 43,
    "start_time": "2022-08-11T14:46:04.104Z"
   },
   {
    "duration": 23,
    "start_time": "2022-08-11T14:46:04.149Z"
   },
   {
    "duration": 4,
    "start_time": "2022-08-11T14:46:04.175Z"
   },
   {
    "duration": 58,
    "start_time": "2022-08-11T14:46:04.181Z"
   },
   {
    "duration": 5,
    "start_time": "2022-08-11T14:46:04.240Z"
   },
   {
    "duration": 22,
    "start_time": "2022-08-11T14:46:04.246Z"
   },
   {
    "duration": 12,
    "start_time": "2022-08-11T14:46:04.270Z"
   },
   {
    "duration": 7,
    "start_time": "2022-08-11T14:46:04.283Z"
   },
   {
    "duration": 23,
    "start_time": "2022-08-11T14:46:04.292Z"
   },
   {
    "duration": 5,
    "start_time": "2022-08-11T14:46:04.316Z"
   },
   {
    "duration": 19,
    "start_time": "2022-08-11T14:46:04.322Z"
   },
   {
    "duration": 9,
    "start_time": "2022-08-11T14:46:04.342Z"
   },
   {
    "duration": 8,
    "start_time": "2022-08-11T14:46:04.353Z"
   },
   {
    "duration": 20,
    "start_time": "2022-08-11T14:46:04.362Z"
   },
   {
    "duration": 5,
    "start_time": "2022-08-11T14:46:04.384Z"
   },
   {
    "duration": 9,
    "start_time": "2022-08-11T14:46:04.391Z"
   },
   {
    "duration": 9,
    "start_time": "2022-08-11T14:46:04.402Z"
   },
   {
    "duration": 5,
    "start_time": "2022-08-11T14:46:04.438Z"
   },
   {
    "duration": 13,
    "start_time": "2022-08-11T14:46:04.445Z"
   },
   {
    "duration": 12,
    "start_time": "2022-08-11T14:46:04.460Z"
   },
   {
    "duration": 4,
    "start_time": "2022-08-11T14:46:04.473Z"
   },
   {
    "duration": 81,
    "start_time": "2022-08-11T14:46:04.479Z"
   },
   {
    "duration": 14,
    "start_time": "2022-08-11T14:46:04.562Z"
   },
   {
    "duration": 17,
    "start_time": "2022-08-11T14:46:04.577Z"
   },
   {
    "duration": 2,
    "start_time": "2022-08-11T14:46:04.596Z"
   },
   {
    "duration": 10,
    "start_time": "2022-08-11T14:46:04.600Z"
   },
   {
    "duration": 149,
    "start_time": "2022-08-11T14:46:04.612Z"
   },
   {
    "duration": 3,
    "start_time": "2022-08-11T14:46:04.763Z"
   },
   {
    "duration": 9,
    "start_time": "2022-08-11T14:46:04.768Z"
   },
   {
    "duration": 26,
    "start_time": "2022-08-11T14:46:04.778Z"
   },
   {
    "duration": 12,
    "start_time": "2022-08-11T14:46:04.805Z"
   },
   {
    "duration": 31,
    "start_time": "2022-08-11T14:46:04.818Z"
   },
   {
    "duration": 21,
    "start_time": "2022-08-11T14:46:04.851Z"
   },
   {
    "duration": 26,
    "start_time": "2022-08-11T14:46:04.874Z"
   },
   {
    "duration": 52,
    "start_time": "2022-08-11T14:46:04.902Z"
   },
   {
    "duration": 74,
    "start_time": "2022-08-11T14:46:49.406Z"
   },
   {
    "duration": 3,
    "start_time": "2022-08-11T14:46:49.482Z"
   },
   {
    "duration": 6,
    "start_time": "2022-08-11T14:46:49.487Z"
   },
   {
    "duration": 19,
    "start_time": "2022-08-11T14:46:49.495Z"
   },
   {
    "duration": 31,
    "start_time": "2022-08-11T14:46:49.515Z"
   },
   {
    "duration": 7,
    "start_time": "2022-08-11T14:46:49.547Z"
   },
   {
    "duration": 27,
    "start_time": "2022-08-11T14:46:49.556Z"
   },
   {
    "duration": 19,
    "start_time": "2022-08-11T14:46:49.585Z"
   },
   {
    "duration": 57,
    "start_time": "2022-08-11T14:46:49.606Z"
   },
   {
    "duration": 4,
    "start_time": "2022-08-11T14:46:49.666Z"
   },
   {
    "duration": 25,
    "start_time": "2022-08-11T14:46:49.671Z"
   },
   {
    "duration": 57,
    "start_time": "2022-08-11T14:46:49.698Z"
   },
   {
    "duration": 4,
    "start_time": "2022-08-11T14:46:49.757Z"
   },
   {
    "duration": 28,
    "start_time": "2022-08-11T14:46:49.763Z"
   },
   {
    "duration": 5,
    "start_time": "2022-08-11T14:46:49.792Z"
   },
   {
    "duration": 40,
    "start_time": "2022-08-11T14:46:49.798Z"
   },
   {
    "duration": 5,
    "start_time": "2022-08-11T14:46:49.840Z"
   },
   {
    "duration": 6,
    "start_time": "2022-08-11T14:46:49.847Z"
   },
   {
    "duration": 22,
    "start_time": "2022-08-11T14:46:49.854Z"
   },
   {
    "duration": 4,
    "start_time": "2022-08-11T14:46:49.877Z"
   },
   {
    "duration": 6,
    "start_time": "2022-08-11T14:46:49.882Z"
   },
   {
    "duration": 5,
    "start_time": "2022-08-11T14:46:49.890Z"
   },
   {
    "duration": 6,
    "start_time": "2022-08-11T14:46:49.897Z"
   },
   {
    "duration": 46,
    "start_time": "2022-08-11T14:46:49.904Z"
   },
   {
    "duration": 8,
    "start_time": "2022-08-11T14:46:49.951Z"
   },
   {
    "duration": 8,
    "start_time": "2022-08-11T14:46:49.961Z"
   },
   {
    "duration": 5,
    "start_time": "2022-08-11T14:46:49.972Z"
   },
   {
    "duration": 6,
    "start_time": "2022-08-11T14:46:49.979Z"
   },
   {
    "duration": 12,
    "start_time": "2022-08-11T14:46:49.986Z"
   },
   {
    "duration": 13,
    "start_time": "2022-08-11T14:46:50.000Z"
   },
   {
    "duration": 27,
    "start_time": "2022-08-11T14:46:50.015Z"
   },
   {
    "duration": 41,
    "start_time": "2022-08-11T14:46:50.044Z"
   },
   {
    "duration": 14,
    "start_time": "2022-08-11T14:46:50.087Z"
   },
   {
    "duration": 20,
    "start_time": "2022-08-11T14:46:50.102Z"
   },
   {
    "duration": 16,
    "start_time": "2022-08-11T14:46:50.123Z"
   },
   {
    "duration": 8,
    "start_time": "2022-08-11T14:46:50.140Z"
   },
   {
    "duration": 142,
    "start_time": "2022-08-11T14:46:50.150Z"
   },
   {
    "duration": 5,
    "start_time": "2022-08-11T14:46:50.294Z"
   },
   {
    "duration": 9,
    "start_time": "2022-08-11T14:46:50.300Z"
   },
   {
    "duration": 31,
    "start_time": "2022-08-11T14:46:50.311Z"
   },
   {
    "duration": 12,
    "start_time": "2022-08-11T14:46:50.343Z"
   },
   {
    "duration": 17,
    "start_time": "2022-08-11T14:46:50.357Z"
   },
   {
    "duration": 24,
    "start_time": "2022-08-11T14:46:50.376Z"
   },
   {
    "duration": 19,
    "start_time": "2022-08-11T14:46:50.401Z"
   },
   {
    "duration": 23,
    "start_time": "2022-08-11T14:46:50.439Z"
   },
   {
    "duration": 17,
    "start_time": "2022-08-11T14:47:01.625Z"
   },
   {
    "duration": 12,
    "start_time": "2022-08-11T14:47:38.397Z"
   },
   {
    "duration": 12,
    "start_time": "2022-08-11T14:48:43.313Z"
   },
   {
    "duration": 59,
    "start_time": "2022-08-11T14:52:44.720Z"
   },
   {
    "duration": 10,
    "start_time": "2022-08-11T14:54:01.956Z"
   },
   {
    "duration": 9,
    "start_time": "2022-08-11T14:58:14.430Z"
   },
   {
    "duration": 19,
    "start_time": "2022-08-11T15:01:41.407Z"
   },
   {
    "duration": 10,
    "start_time": "2022-08-11T15:03:16.807Z"
   },
   {
    "duration": 5,
    "start_time": "2022-08-11T15:03:18.777Z"
   },
   {
    "duration": 537,
    "start_time": "2022-08-11T15:03:28.720Z"
   },
   {
    "duration": 5,
    "start_time": "2022-08-11T15:05:47.071Z"
   },
   {
    "duration": 11,
    "start_time": "2022-08-11T15:06:25.248Z"
   },
   {
    "duration": 16,
    "start_time": "2022-08-11T15:13:10.935Z"
   },
   {
    "duration": 10,
    "start_time": "2022-08-11T15:13:55.354Z"
   },
   {
    "duration": 9,
    "start_time": "2022-08-11T15:20:34.133Z"
   },
   {
    "duration": 9,
    "start_time": "2022-08-11T15:20:58.497Z"
   },
   {
    "duration": 8,
    "start_time": "2022-08-11T15:21:07.129Z"
   },
   {
    "duration": 11,
    "start_time": "2022-08-11T15:30:03.018Z"
   },
   {
    "duration": 6,
    "start_time": "2022-08-11T15:30:22.580Z"
   },
   {
    "duration": 7,
    "start_time": "2022-08-11T15:32:17.839Z"
   },
   {
    "duration": 11,
    "start_time": "2022-08-11T17:12:02.927Z"
   },
   {
    "duration": 65,
    "start_time": "2022-08-11T17:12:29.446Z"
   },
   {
    "duration": 3,
    "start_time": "2022-08-11T17:12:29.513Z"
   },
   {
    "duration": 11,
    "start_time": "2022-08-11T17:12:29.518Z"
   },
   {
    "duration": 20,
    "start_time": "2022-08-11T17:12:29.531Z"
   },
   {
    "duration": 21,
    "start_time": "2022-08-11T17:12:29.552Z"
   },
   {
    "duration": 8,
    "start_time": "2022-08-11T17:12:29.575Z"
   },
   {
    "duration": 28,
    "start_time": "2022-08-11T17:12:29.584Z"
   },
   {
    "duration": 41,
    "start_time": "2022-08-11T17:12:29.613Z"
   },
   {
    "duration": 26,
    "start_time": "2022-08-11T17:12:29.656Z"
   },
   {
    "duration": 4,
    "start_time": "2022-08-11T17:12:29.683Z"
   },
   {
    "duration": 17,
    "start_time": "2022-08-11T17:12:29.688Z"
   },
   {
    "duration": 61,
    "start_time": "2022-08-11T17:12:29.707Z"
   },
   {
    "duration": 4,
    "start_time": "2022-08-11T17:12:29.770Z"
   },
   {
    "duration": 27,
    "start_time": "2022-08-11T17:12:29.776Z"
   },
   {
    "duration": 35,
    "start_time": "2022-08-11T17:12:29.804Z"
   },
   {
    "duration": 9,
    "start_time": "2022-08-11T17:12:29.840Z"
   },
   {
    "duration": 15,
    "start_time": "2022-08-11T17:12:29.850Z"
   },
   {
    "duration": 5,
    "start_time": "2022-08-11T17:12:29.866Z"
   },
   {
    "duration": 19,
    "start_time": "2022-08-11T17:12:29.873Z"
   },
   {
    "duration": 4,
    "start_time": "2022-08-11T17:12:29.894Z"
   },
   {
    "duration": 4,
    "start_time": "2022-08-11T17:12:29.900Z"
   },
   {
    "duration": 32,
    "start_time": "2022-08-11T17:12:29.906Z"
   },
   {
    "duration": 6,
    "start_time": "2022-08-11T17:12:29.942Z"
   },
   {
    "duration": 19,
    "start_time": "2022-08-11T17:12:29.949Z"
   },
   {
    "duration": 6,
    "start_time": "2022-08-11T17:12:29.970Z"
   },
   {
    "duration": 7,
    "start_time": "2022-08-11T17:12:29.977Z"
   },
   {
    "duration": 5,
    "start_time": "2022-08-11T17:12:29.986Z"
   },
   {
    "duration": 6,
    "start_time": "2022-08-11T17:12:29.993Z"
   },
   {
    "duration": 11,
    "start_time": "2022-08-11T17:12:30.039Z"
   },
   {
    "duration": 12,
    "start_time": "2022-08-11T17:12:30.052Z"
   },
   {
    "duration": 5,
    "start_time": "2022-08-11T17:12:30.066Z"
   },
   {
    "duration": 34,
    "start_time": "2022-08-11T17:12:30.073Z"
   },
   {
    "duration": 33,
    "start_time": "2022-08-11T17:12:30.109Z"
   },
   {
    "duration": 24,
    "start_time": "2022-08-11T17:12:30.144Z"
   },
   {
    "duration": 4,
    "start_time": "2022-08-11T17:12:30.170Z"
   },
   {
    "duration": 21,
    "start_time": "2022-08-11T17:12:30.176Z"
   },
   {
    "duration": 160,
    "start_time": "2022-08-11T17:12:30.198Z"
   },
   {
    "duration": 4,
    "start_time": "2022-08-11T17:12:30.360Z"
   },
   {
    "duration": 28,
    "start_time": "2022-08-11T17:12:30.366Z"
   },
   {
    "duration": 45,
    "start_time": "2022-08-11T17:12:30.396Z"
   },
   {
    "duration": 12,
    "start_time": "2022-08-11T17:12:30.443Z"
   },
   {
    "duration": 24,
    "start_time": "2022-08-11T17:12:30.457Z"
   },
   {
    "duration": 45,
    "start_time": "2022-08-11T17:12:30.483Z"
   },
   {
    "duration": 24,
    "start_time": "2022-08-11T17:12:30.530Z"
   },
   {
    "duration": 28,
    "start_time": "2022-08-11T17:12:30.555Z"
   },
   {
    "duration": 10,
    "start_time": "2022-08-11T17:12:30.585Z"
   },
   {
    "duration": 69,
    "start_time": "2022-08-11T17:12:30.596Z"
   },
   {
    "duration": 464,
    "start_time": "2022-08-11T17:12:30.666Z"
   },
   {
    "duration": 14,
    "start_time": "2022-08-11T17:12:31.131Z"
   },
   {
    "duration": 9,
    "start_time": "2022-08-11T17:12:31.147Z"
   },
   {
    "duration": 32,
    "start_time": "2022-08-11T17:12:31.157Z"
   },
   {
    "duration": 27,
    "start_time": "2022-08-11T17:12:31.190Z"
   },
   {
    "duration": 11,
    "start_time": "2022-08-11T17:16:35.985Z"
   },
   {
    "duration": 10,
    "start_time": "2022-08-11T17:16:42.468Z"
   },
   {
    "duration": 9,
    "start_time": "2022-08-11T17:18:43.337Z"
   },
   {
    "duration": 9,
    "start_time": "2022-08-11T17:18:44.125Z"
   },
   {
    "duration": 10,
    "start_time": "2022-08-11T17:19:45.130Z"
   },
   {
    "duration": 5,
    "start_time": "2022-08-11T17:19:45.859Z"
   },
   {
    "duration": 482,
    "start_time": "2022-08-11T17:21:15.784Z"
   },
   {
    "duration": 12,
    "start_time": "2022-08-11T17:21:26.830Z"
   },
   {
    "duration": 8,
    "start_time": "2022-08-11T17:22:45.933Z"
   },
   {
    "duration": 8,
    "start_time": "2022-08-11T17:33:36.585Z"
   },
   {
    "duration": 11,
    "start_time": "2022-08-11T19:02:16.299Z"
   },
   {
    "duration": 6,
    "start_time": "2022-08-11T19:07:27.572Z"
   },
   {
    "duration": 5,
    "start_time": "2022-08-11T19:07:38.780Z"
   },
   {
    "duration": 5,
    "start_time": "2022-08-11T19:08:55.090Z"
   },
   {
    "duration": 7,
    "start_time": "2022-08-11T19:10:00.059Z"
   },
   {
    "duration": 7,
    "start_time": "2022-08-11T19:18:38.888Z"
   },
   {
    "duration": 253,
    "start_time": "2022-08-11T20:17:13.828Z"
   },
   {
    "duration": 143,
    "start_time": "2022-08-11T20:19:23.846Z"
   },
   {
    "duration": 5,
    "start_time": "2022-08-11T20:31:46.451Z"
   },
   {
    "duration": 12,
    "start_time": "2022-08-11T20:35:42.077Z"
   },
   {
    "duration": 66,
    "start_time": "2022-08-11T20:36:23.569Z"
   },
   {
    "duration": 4,
    "start_time": "2022-08-11T20:36:23.637Z"
   },
   {
    "duration": 8,
    "start_time": "2022-08-11T20:36:23.643Z"
   },
   {
    "duration": 32,
    "start_time": "2022-08-11T20:36:23.654Z"
   },
   {
    "duration": 30,
    "start_time": "2022-08-11T20:36:23.688Z"
   },
   {
    "duration": 8,
    "start_time": "2022-08-11T20:36:23.720Z"
   },
   {
    "duration": 26,
    "start_time": "2022-08-11T20:36:23.738Z"
   },
   {
    "duration": 18,
    "start_time": "2022-08-11T20:36:23.766Z"
   },
   {
    "duration": 22,
    "start_time": "2022-08-11T20:36:23.786Z"
   },
   {
    "duration": 29,
    "start_time": "2022-08-11T20:36:23.810Z"
   },
   {
    "duration": 14,
    "start_time": "2022-08-11T20:36:23.840Z"
   },
   {
    "duration": 22,
    "start_time": "2022-08-11T20:36:23.855Z"
   },
   {
    "duration": 4,
    "start_time": "2022-08-11T20:36:23.878Z"
   },
   {
    "duration": 57,
    "start_time": "2022-08-11T20:36:23.884Z"
   },
   {
    "duration": 5,
    "start_time": "2022-08-11T20:36:23.943Z"
   },
   {
    "duration": 10,
    "start_time": "2022-08-11T20:36:23.950Z"
   },
   {
    "duration": 5,
    "start_time": "2022-08-11T20:36:23.961Z"
   },
   {
    "duration": 7,
    "start_time": "2022-08-11T20:36:23.967Z"
   },
   {
    "duration": 19,
    "start_time": "2022-08-11T20:36:23.975Z"
   },
   {
    "duration": 4,
    "start_time": "2022-08-11T20:36:23.995Z"
   },
   {
    "duration": 41,
    "start_time": "2022-08-11T20:36:24.000Z"
   },
   {
    "duration": 11,
    "start_time": "2022-08-11T20:36:24.042Z"
   },
   {
    "duration": 13,
    "start_time": "2022-08-11T20:36:24.055Z"
   },
   {
    "duration": 23,
    "start_time": "2022-08-11T20:36:24.070Z"
   },
   {
    "duration": 9,
    "start_time": "2022-08-11T20:36:24.095Z"
   },
   {
    "duration": 15,
    "start_time": "2022-08-11T20:36:24.106Z"
   },
   {
    "duration": 12,
    "start_time": "2022-08-11T20:36:24.125Z"
   },
   {
    "duration": 6,
    "start_time": "2022-08-11T20:36:24.138Z"
   },
   {
    "duration": 17,
    "start_time": "2022-08-11T20:36:24.146Z"
   },
   {
    "duration": 20,
    "start_time": "2022-08-11T20:36:24.165Z"
   },
   {
    "duration": 5,
    "start_time": "2022-08-11T20:36:24.187Z"
   },
   {
    "duration": 41,
    "start_time": "2022-08-11T20:36:24.193Z"
   },
   {
    "duration": 15,
    "start_time": "2022-08-11T20:36:24.237Z"
   },
   {
    "duration": 19,
    "start_time": "2022-08-11T20:36:24.254Z"
   },
   {
    "duration": 10,
    "start_time": "2022-08-11T20:36:24.275Z"
   },
   {
    "duration": 18,
    "start_time": "2022-08-11T20:36:24.286Z"
   },
   {
    "duration": 146,
    "start_time": "2022-08-11T20:36:24.306Z"
   },
   {
    "duration": 4,
    "start_time": "2022-08-11T20:36:24.453Z"
   },
   {
    "duration": 8,
    "start_time": "2022-08-11T20:36:24.458Z"
   },
   {
    "duration": 21,
    "start_time": "2022-08-11T20:36:24.468Z"
   },
   {
    "duration": 12,
    "start_time": "2022-08-11T20:36:24.490Z"
   },
   {
    "duration": 14,
    "start_time": "2022-08-11T20:36:24.503Z"
   },
   {
    "duration": 36,
    "start_time": "2022-08-11T20:36:24.518Z"
   },
   {
    "duration": 19,
    "start_time": "2022-08-11T20:36:24.556Z"
   },
   {
    "duration": 23,
    "start_time": "2022-08-11T20:36:24.576Z"
   },
   {
    "duration": 13,
    "start_time": "2022-08-11T20:36:24.601Z"
   },
   {
    "duration": 29,
    "start_time": "2022-08-11T20:36:24.615Z"
   },
   {
    "duration": 480,
    "start_time": "2022-08-11T20:36:24.646Z"
   },
   {
    "duration": 13,
    "start_time": "2022-08-11T20:36:25.128Z"
   },
   {
    "duration": 9,
    "start_time": "2022-08-11T20:36:25.142Z"
   },
   {
    "duration": 7,
    "start_time": "2022-08-11T20:36:25.153Z"
   },
   {
    "duration": 10,
    "start_time": "2022-08-11T20:36:25.161Z"
   },
   {
    "duration": 5,
    "start_time": "2022-08-11T20:36:25.172Z"
   },
   {
    "duration": 491,
    "start_time": "2022-08-11T20:36:25.179Z"
   },
   {
    "duration": 8,
    "start_time": "2022-08-11T20:36:25.671Z"
   },
   {
    "duration": 13,
    "start_time": "2022-08-11T20:36:25.682Z"
   },
   {
    "duration": 12,
    "start_time": "2022-08-11T20:36:25.697Z"
   },
   {
    "duration": 159,
    "start_time": "2022-08-11T20:36:25.711Z"
   },
   {
    "duration": 14,
    "start_time": "2022-08-11T20:36:36.558Z"
   },
   {
    "duration": 22,
    "start_time": "2022-08-11T20:36:50.113Z"
   },
   {
    "duration": 154,
    "start_time": "2022-08-11T20:37:18.224Z"
   },
   {
    "duration": 21,
    "start_time": "2022-08-11T20:37:32.301Z"
   },
   {
    "duration": 25,
    "start_time": "2022-08-11T20:38:33.062Z"
   },
   {
    "duration": 6,
    "start_time": "2022-08-11T20:49:58.883Z"
   },
   {
    "duration": 5,
    "start_time": "2022-08-11T20:50:23.842Z"
   },
   {
    "duration": 8,
    "start_time": "2022-08-11T20:52:15.126Z"
   },
   {
    "duration": 6,
    "start_time": "2022-08-11T20:53:28.069Z"
   },
   {
    "duration": 140,
    "start_time": "2022-08-11T20:56:30.708Z"
   },
   {
    "duration": 6,
    "start_time": "2022-08-11T20:56:33.584Z"
   },
   {
    "duration": 143,
    "start_time": "2022-08-11T20:56:46.705Z"
   },
   {
    "duration": 8,
    "start_time": "2022-08-11T20:57:00.616Z"
   },
   {
    "duration": 11,
    "start_time": "2022-08-11T23:19:53.544Z"
   },
   {
    "duration": 597,
    "start_time": "2022-08-12T15:14:22.732Z"
   },
   {
    "duration": 4,
    "start_time": "2022-08-12T15:14:23.330Z"
   },
   {
    "duration": 7,
    "start_time": "2022-08-12T15:14:23.335Z"
   },
   {
    "duration": 23,
    "start_time": "2022-08-12T15:14:23.343Z"
   },
   {
    "duration": 16,
    "start_time": "2022-08-12T15:14:23.368Z"
   },
   {
    "duration": 20,
    "start_time": "2022-08-12T15:14:23.386Z"
   },
   {
    "duration": 26,
    "start_time": "2022-08-12T15:14:23.408Z"
   },
   {
    "duration": 20,
    "start_time": "2022-08-12T15:14:23.436Z"
   },
   {
    "duration": 48,
    "start_time": "2022-08-12T15:14:23.458Z"
   },
   {
    "duration": 4,
    "start_time": "2022-08-12T15:14:23.508Z"
   },
   {
    "duration": 17,
    "start_time": "2022-08-12T15:14:23.514Z"
   },
   {
    "duration": 26,
    "start_time": "2022-08-12T15:14:23.533Z"
   },
   {
    "duration": 5,
    "start_time": "2022-08-12T15:14:23.560Z"
   },
   {
    "duration": 55,
    "start_time": "2022-08-12T15:14:23.568Z"
   },
   {
    "duration": 5,
    "start_time": "2022-08-12T15:14:23.625Z"
   },
   {
    "duration": 16,
    "start_time": "2022-08-12T15:14:23.633Z"
   },
   {
    "duration": 8,
    "start_time": "2022-08-12T15:14:23.651Z"
   },
   {
    "duration": 8,
    "start_time": "2022-08-12T15:14:23.660Z"
   },
   {
    "duration": 42,
    "start_time": "2022-08-12T15:14:23.670Z"
   },
   {
    "duration": 4,
    "start_time": "2022-08-12T15:14:23.714Z"
   },
   {
    "duration": 8,
    "start_time": "2022-08-12T15:14:23.720Z"
   },
   {
    "duration": 6,
    "start_time": "2022-08-12T15:14:23.730Z"
   },
   {
    "duration": 6,
    "start_time": "2022-08-12T15:14:23.737Z"
   },
   {
    "duration": 23,
    "start_time": "2022-08-12T15:14:23.744Z"
   },
   {
    "duration": 16,
    "start_time": "2022-08-12T15:14:23.769Z"
   },
   {
    "duration": 7,
    "start_time": "2022-08-12T15:14:23.806Z"
   },
   {
    "duration": 25,
    "start_time": "2022-08-12T15:14:23.814Z"
   },
   {
    "duration": 36,
    "start_time": "2022-08-12T15:14:23.840Z"
   },
   {
    "duration": 28,
    "start_time": "2022-08-12T15:14:23.878Z"
   },
   {
    "duration": 33,
    "start_time": "2022-08-12T15:14:23.908Z"
   },
   {
    "duration": 22,
    "start_time": "2022-08-12T15:14:23.942Z"
   },
   {
    "duration": 59,
    "start_time": "2022-08-12T15:14:23.965Z"
   },
   {
    "duration": 17,
    "start_time": "2022-08-12T15:14:24.026Z"
   },
   {
    "duration": 31,
    "start_time": "2022-08-12T15:14:24.045Z"
   },
   {
    "duration": 4,
    "start_time": "2022-08-12T15:14:24.078Z"
   },
   {
    "duration": 25,
    "start_time": "2022-08-12T15:14:24.084Z"
   },
   {
    "duration": 178,
    "start_time": "2022-08-12T15:14:24.111Z"
   },
   {
    "duration": 4,
    "start_time": "2022-08-12T15:14:24.291Z"
   },
   {
    "duration": 37,
    "start_time": "2022-08-12T15:14:24.296Z"
   },
   {
    "duration": 31,
    "start_time": "2022-08-12T15:14:24.334Z"
   },
   {
    "duration": 11,
    "start_time": "2022-08-12T15:14:24.369Z"
   },
   {
    "duration": 25,
    "start_time": "2022-08-12T15:14:24.382Z"
   },
   {
    "duration": 38,
    "start_time": "2022-08-12T15:14:24.408Z"
   },
   {
    "duration": 21,
    "start_time": "2022-08-12T15:14:24.448Z"
   },
   {
    "duration": 25,
    "start_time": "2022-08-12T15:14:24.471Z"
   },
   {
    "duration": 12,
    "start_time": "2022-08-12T15:14:24.498Z"
   },
   {
    "duration": 19,
    "start_time": "2022-08-12T15:14:24.511Z"
   },
   {
    "duration": 478,
    "start_time": "2022-08-12T15:14:24.532Z"
   },
   {
    "duration": 10,
    "start_time": "2022-08-12T15:14:25.011Z"
   },
   {
    "duration": 19,
    "start_time": "2022-08-12T15:14:25.023Z"
   },
   {
    "duration": 17,
    "start_time": "2022-08-12T15:14:25.044Z"
   },
   {
    "duration": 14,
    "start_time": "2022-08-12T15:14:25.062Z"
   },
   {
    "duration": 22,
    "start_time": "2022-08-12T15:14:25.077Z"
   },
   {
    "duration": 500,
    "start_time": "2022-08-12T15:14:25.100Z"
   },
   {
    "duration": 8,
    "start_time": "2022-08-12T15:14:25.601Z"
   },
   {
    "duration": 33,
    "start_time": "2022-08-12T15:14:25.610Z"
   },
   {
    "duration": 22,
    "start_time": "2022-08-12T15:14:25.644Z"
   },
   {
    "duration": 175,
    "start_time": "2022-08-12T15:14:25.668Z"
   },
   {
    "duration": 4,
    "start_time": "2022-08-12T15:14:25.845Z"
   },
   {
    "duration": 178,
    "start_time": "2022-08-12T15:14:25.851Z"
   },
   {
    "duration": 10,
    "start_time": "2022-08-12T15:14:26.031Z"
   },
   {
    "duration": 12,
    "start_time": "2022-08-12T15:16:50.910Z"
   },
   {
    "duration": 10,
    "start_time": "2022-08-12T15:17:08.635Z"
   },
   {
    "duration": 78,
    "start_time": "2022-08-12T16:25:48.118Z"
   },
   {
    "duration": 115,
    "start_time": "2022-08-12T16:26:55.446Z"
   },
   {
    "duration": 74,
    "start_time": "2022-08-12T16:27:29.886Z"
   },
   {
    "duration": 64,
    "start_time": "2022-08-12T16:32:52.874Z"
   },
   {
    "duration": 65,
    "start_time": "2022-08-12T16:33:40.274Z"
   },
   {
    "duration": 3,
    "start_time": "2022-08-12T16:33:40.341Z"
   },
   {
    "duration": 7,
    "start_time": "2022-08-12T16:33:40.346Z"
   },
   {
    "duration": 20,
    "start_time": "2022-08-12T16:33:40.355Z"
   },
   {
    "duration": 57,
    "start_time": "2022-08-12T16:33:40.376Z"
   },
   {
    "duration": 6,
    "start_time": "2022-08-12T16:33:40.435Z"
   },
   {
    "duration": 32,
    "start_time": "2022-08-12T16:33:40.442Z"
   },
   {
    "duration": 33,
    "start_time": "2022-08-12T16:33:40.476Z"
   },
   {
    "duration": 35,
    "start_time": "2022-08-12T16:33:40.510Z"
   },
   {
    "duration": 4,
    "start_time": "2022-08-12T16:33:40.547Z"
   },
   {
    "duration": 20,
    "start_time": "2022-08-12T16:33:40.553Z"
   },
   {
    "duration": 43,
    "start_time": "2022-08-12T16:33:40.574Z"
   },
   {
    "duration": 5,
    "start_time": "2022-08-12T16:33:40.618Z"
   },
   {
    "duration": 26,
    "start_time": "2022-08-12T16:33:40.624Z"
   },
   {
    "duration": 5,
    "start_time": "2022-08-12T16:33:40.651Z"
   },
   {
    "duration": 13,
    "start_time": "2022-08-12T16:33:40.657Z"
   },
   {
    "duration": 4,
    "start_time": "2022-08-12T16:33:40.671Z"
   },
   {
    "duration": 4,
    "start_time": "2022-08-12T16:33:40.706Z"
   },
   {
    "duration": 28,
    "start_time": "2022-08-12T16:33:40.712Z"
   },
   {
    "duration": 4,
    "start_time": "2022-08-12T16:33:40.741Z"
   },
   {
    "duration": 16,
    "start_time": "2022-08-12T16:33:40.746Z"
   },
   {
    "duration": 8,
    "start_time": "2022-08-12T16:33:40.763Z"
   },
   {
    "duration": 23,
    "start_time": "2022-08-12T16:33:40.772Z"
   },
   {
    "duration": 25,
    "start_time": "2022-08-12T16:33:40.797Z"
   },
   {
    "duration": 7,
    "start_time": "2022-08-12T16:33:40.824Z"
   },
   {
    "duration": 23,
    "start_time": "2022-08-12T16:33:40.835Z"
   },
   {
    "duration": 8,
    "start_time": "2022-08-12T16:33:40.859Z"
   },
   {
    "duration": 13,
    "start_time": "2022-08-12T16:33:40.868Z"
   },
   {
    "duration": 27,
    "start_time": "2022-08-12T16:33:40.883Z"
   },
   {
    "duration": 16,
    "start_time": "2022-08-12T16:33:40.912Z"
   },
   {
    "duration": 5,
    "start_time": "2022-08-12T16:33:40.930Z"
   },
   {
    "duration": 45,
    "start_time": "2022-08-12T16:33:40.937Z"
   },
   {
    "duration": 17,
    "start_time": "2022-08-12T16:33:40.984Z"
   },
   {
    "duration": 19,
    "start_time": "2022-08-12T16:33:41.005Z"
   },
   {
    "duration": 3,
    "start_time": "2022-08-12T16:33:41.025Z"
   },
   {
    "duration": 8,
    "start_time": "2022-08-12T16:33:41.030Z"
   },
   {
    "duration": 158,
    "start_time": "2022-08-12T16:33:41.039Z"
   },
   {
    "duration": 8,
    "start_time": "2022-08-12T16:33:41.198Z"
   },
   {
    "duration": 5,
    "start_time": "2022-08-12T16:33:41.207Z"
   },
   {
    "duration": 20,
    "start_time": "2022-08-12T16:33:41.214Z"
   },
   {
    "duration": 16,
    "start_time": "2022-08-12T16:33:41.235Z"
   },
   {
    "duration": 16,
    "start_time": "2022-08-12T16:33:41.252Z"
   },
   {
    "duration": 37,
    "start_time": "2022-08-12T16:33:41.270Z"
   },
   {
    "duration": 21,
    "start_time": "2022-08-12T16:33:41.309Z"
   },
   {
    "duration": 26,
    "start_time": "2022-08-12T16:33:41.332Z"
   },
   {
    "duration": 9,
    "start_time": "2022-08-12T16:33:41.360Z"
   },
   {
    "duration": 7,
    "start_time": "2022-08-12T16:33:41.370Z"
   },
   {
    "duration": 467,
    "start_time": "2022-08-12T16:33:41.405Z"
   },
   {
    "duration": 14,
    "start_time": "2022-08-12T16:33:41.874Z"
   },
   {
    "duration": 16,
    "start_time": "2022-08-12T16:33:41.890Z"
   },
   {
    "duration": 11,
    "start_time": "2022-08-12T16:33:41.908Z"
   },
   {
    "duration": 9,
    "start_time": "2022-08-12T16:33:41.920Z"
   },
   {
    "duration": 4,
    "start_time": "2022-08-12T16:33:41.932Z"
   },
   {
    "duration": 483,
    "start_time": "2022-08-12T16:33:41.938Z"
   },
   {
    "duration": 8,
    "start_time": "2022-08-12T16:33:42.422Z"
   },
   {
    "duration": 12,
    "start_time": "2022-08-12T16:33:42.431Z"
   },
   {
    "duration": 9,
    "start_time": "2022-08-12T16:33:42.444Z"
   },
   {
    "duration": 145,
    "start_time": "2022-08-12T16:33:42.454Z"
   },
   {
    "duration": 9,
    "start_time": "2022-08-12T16:33:42.600Z"
   },
   {
    "duration": 148,
    "start_time": "2022-08-12T16:33:42.610Z"
   },
   {
    "duration": 7,
    "start_time": "2022-08-12T16:33:42.760Z"
   },
   {
    "duration": 12,
    "start_time": "2022-08-12T16:33:42.769Z"
   },
   {
    "duration": 7,
    "start_time": "2022-08-12T16:34:06.891Z"
   },
   {
    "duration": 7,
    "start_time": "2022-08-12T16:37:35.804Z"
   },
   {
    "duration": 4,
    "start_time": "2022-08-12T16:38:21.484Z"
   },
   {
    "duration": 9,
    "start_time": "2022-08-12T16:40:09.254Z"
   },
   {
    "duration": 11,
    "start_time": "2022-08-12T16:45:21.327Z"
   },
   {
    "duration": 10,
    "start_time": "2022-08-12T16:47:10.007Z"
   },
   {
    "duration": 8,
    "start_time": "2022-08-12T16:48:20.015Z"
   },
   {
    "duration": 15,
    "start_time": "2022-08-12T16:51:02.807Z"
   },
   {
    "duration": 10,
    "start_time": "2022-08-12T16:54:38.250Z"
   },
   {
    "duration": 1277,
    "start_time": "2022-08-12T16:58:37.479Z"
   },
   {
    "duration": 1137,
    "start_time": "2022-08-12T16:59:25.184Z"
   },
   {
    "duration": 1369,
    "start_time": "2022-08-12T17:04:27.619Z"
   },
   {
    "duration": 4,
    "start_time": "2022-08-12T17:09:24.245Z"
   },
   {
    "duration": 1474,
    "start_time": "2022-08-12T17:10:56.891Z"
   },
   {
    "duration": 10,
    "start_time": "2022-08-12T17:11:27.443Z"
   },
   {
    "duration": 9,
    "start_time": "2022-08-12T17:12:14.238Z"
   },
   {
    "duration": 609,
    "start_time": "2022-08-13T17:41:18.311Z"
   },
   {
    "duration": 3,
    "start_time": "2022-08-13T17:41:18.922Z"
   },
   {
    "duration": 7,
    "start_time": "2022-08-13T17:41:18.927Z"
   },
   {
    "duration": 19,
    "start_time": "2022-08-13T17:41:18.936Z"
   },
   {
    "duration": 13,
    "start_time": "2022-08-13T17:41:18.956Z"
   },
   {
    "duration": 5,
    "start_time": "2022-08-13T17:41:18.971Z"
   },
   {
    "duration": 46,
    "start_time": "2022-08-13T17:41:18.977Z"
   },
   {
    "duration": 19,
    "start_time": "2022-08-13T17:41:19.024Z"
   },
   {
    "duration": 22,
    "start_time": "2022-08-13T17:41:19.044Z"
   },
   {
    "duration": 4,
    "start_time": "2022-08-13T17:41:19.068Z"
   },
   {
    "duration": 44,
    "start_time": "2022-08-13T17:41:19.074Z"
   },
   {
    "duration": 22,
    "start_time": "2022-08-13T17:41:19.120Z"
   },
   {
    "duration": 4,
    "start_time": "2022-08-13T17:41:19.143Z"
   },
   {
    "duration": 26,
    "start_time": "2022-08-13T17:41:19.148Z"
   },
   {
    "duration": 31,
    "start_time": "2022-08-13T17:41:19.176Z"
   },
   {
    "duration": 9,
    "start_time": "2022-08-13T17:41:19.209Z"
   },
   {
    "duration": 6,
    "start_time": "2022-08-13T17:41:19.220Z"
   },
   {
    "duration": 4,
    "start_time": "2022-08-13T17:41:19.227Z"
   },
   {
    "duration": 18,
    "start_time": "2022-08-13T17:41:19.233Z"
   },
   {
    "duration": 3,
    "start_time": "2022-08-13T17:41:19.253Z"
   },
   {
    "duration": 5,
    "start_time": "2022-08-13T17:41:19.258Z"
   },
   {
    "duration": 6,
    "start_time": "2022-08-13T17:41:19.264Z"
   },
   {
    "duration": 38,
    "start_time": "2022-08-13T17:41:19.271Z"
   },
   {
    "duration": 21,
    "start_time": "2022-08-13T17:41:19.311Z"
   },
   {
    "duration": 6,
    "start_time": "2022-08-13T17:41:19.333Z"
   },
   {
    "duration": 6,
    "start_time": "2022-08-13T17:41:19.341Z"
   },
   {
    "duration": 7,
    "start_time": "2022-08-13T17:41:19.349Z"
   },
   {
    "duration": 5,
    "start_time": "2022-08-13T17:41:19.360Z"
   },
   {
    "duration": 41,
    "start_time": "2022-08-13T17:41:19.366Z"
   },
   {
    "duration": 11,
    "start_time": "2022-08-13T17:41:19.408Z"
   },
   {
    "duration": 4,
    "start_time": "2022-08-13T17:41:19.420Z"
   },
   {
    "duration": 27,
    "start_time": "2022-08-13T17:41:19.426Z"
   },
   {
    "duration": 14,
    "start_time": "2022-08-13T17:41:19.454Z"
   },
   {
    "duration": 45,
    "start_time": "2022-08-13T17:41:19.469Z"
   },
   {
    "duration": 3,
    "start_time": "2022-08-13T17:41:19.515Z"
   },
   {
    "duration": 5,
    "start_time": "2022-08-13T17:41:19.520Z"
   },
   {
    "duration": 149,
    "start_time": "2022-08-13T17:41:19.526Z"
   },
   {
    "duration": 4,
    "start_time": "2022-08-13T17:41:19.677Z"
   },
   {
    "duration": 9,
    "start_time": "2022-08-13T17:41:19.682Z"
   },
   {
    "duration": 26,
    "start_time": "2022-08-13T17:41:19.693Z"
   },
   {
    "duration": 14,
    "start_time": "2022-08-13T17:41:19.720Z"
   },
   {
    "duration": 16,
    "start_time": "2022-08-13T17:41:19.735Z"
   },
   {
    "duration": 31,
    "start_time": "2022-08-13T17:41:19.752Z"
   },
   {
    "duration": 22,
    "start_time": "2022-08-13T17:41:19.805Z"
   },
   {
    "duration": 26,
    "start_time": "2022-08-13T17:41:19.829Z"
   },
   {
    "duration": 9,
    "start_time": "2022-08-13T17:41:19.856Z"
   },
   {
    "duration": 40,
    "start_time": "2022-08-13T17:41:19.866Z"
   },
   {
    "duration": 486,
    "start_time": "2022-08-13T17:41:19.908Z"
   },
   {
    "duration": 13,
    "start_time": "2022-08-13T17:41:20.396Z"
   },
   {
    "duration": 8,
    "start_time": "2022-08-13T17:41:20.410Z"
   },
   {
    "duration": 8,
    "start_time": "2022-08-13T17:41:20.419Z"
   },
   {
    "duration": 10,
    "start_time": "2022-08-13T17:41:20.428Z"
   },
   {
    "duration": 6,
    "start_time": "2022-08-13T17:41:20.439Z"
   },
   {
    "duration": 505,
    "start_time": "2022-08-13T17:41:20.446Z"
   },
   {
    "duration": 7,
    "start_time": "2022-08-13T17:41:20.953Z"
   },
   {
    "duration": 16,
    "start_time": "2022-08-13T17:41:20.962Z"
   },
   {
    "duration": 6,
    "start_time": "2022-08-13T17:41:20.979Z"
   },
   {
    "duration": 154,
    "start_time": "2022-08-13T17:41:20.987Z"
   },
   {
    "duration": 6,
    "start_time": "2022-08-13T17:41:21.142Z"
   },
   {
    "duration": 155,
    "start_time": "2022-08-13T17:41:21.150Z"
   },
   {
    "duration": 8,
    "start_time": "2022-08-13T17:41:21.306Z"
   },
   {
    "duration": 10,
    "start_time": "2022-08-13T17:41:21.315Z"
   },
   {
    "duration": 11,
    "start_time": "2022-08-13T17:41:21.326Z"
   },
   {
    "duration": 40,
    "start_time": "2022-08-13T17:41:21.339Z"
   },
   {
    "duration": 11,
    "start_time": "2022-08-13T17:41:21.405Z"
   },
   {
    "duration": 11,
    "start_time": "2022-08-13T17:41:48.872Z"
   },
   {
    "duration": 11,
    "start_time": "2022-08-13T17:42:55.230Z"
   },
   {
    "duration": 11,
    "start_time": "2022-08-13T17:50:03.749Z"
   },
   {
    "duration": 66,
    "start_time": "2022-08-13T17:50:21.488Z"
   },
   {
    "duration": 4,
    "start_time": "2022-08-13T17:50:21.556Z"
   },
   {
    "duration": 4,
    "start_time": "2022-08-13T17:50:21.562Z"
   },
   {
    "duration": 22,
    "start_time": "2022-08-13T17:50:21.568Z"
   },
   {
    "duration": 23,
    "start_time": "2022-08-13T17:50:21.592Z"
   },
   {
    "duration": 5,
    "start_time": "2022-08-13T17:50:21.617Z"
   },
   {
    "duration": 22,
    "start_time": "2022-08-13T17:50:21.623Z"
   },
   {
    "duration": 17,
    "start_time": "2022-08-13T17:50:21.647Z"
   },
   {
    "duration": 53,
    "start_time": "2022-08-13T17:50:21.665Z"
   },
   {
    "duration": 4,
    "start_time": "2022-08-13T17:50:21.720Z"
   },
   {
    "duration": 15,
    "start_time": "2022-08-13T17:50:21.725Z"
   },
   {
    "duration": 23,
    "start_time": "2022-08-13T17:50:21.741Z"
   },
   {
    "duration": 4,
    "start_time": "2022-08-13T17:50:21.767Z"
   },
   {
    "duration": 55,
    "start_time": "2022-08-13T17:50:21.773Z"
   },
   {
    "duration": 5,
    "start_time": "2022-08-13T17:50:21.830Z"
   },
   {
    "duration": 9,
    "start_time": "2022-08-13T17:50:21.836Z"
   },
   {
    "duration": 4,
    "start_time": "2022-08-13T17:50:21.847Z"
   },
   {
    "duration": 5,
    "start_time": "2022-08-13T17:50:21.853Z"
   },
   {
    "duration": 50,
    "start_time": "2022-08-13T17:50:21.859Z"
   },
   {
    "duration": 4,
    "start_time": "2022-08-13T17:50:21.910Z"
   },
   {
    "duration": 8,
    "start_time": "2022-08-13T17:50:21.915Z"
   },
   {
    "duration": 7,
    "start_time": "2022-08-13T17:50:21.924Z"
   },
   {
    "duration": 6,
    "start_time": "2022-08-13T17:50:21.932Z"
   },
   {
    "duration": 18,
    "start_time": "2022-08-13T17:50:21.939Z"
   },
   {
    "duration": 5,
    "start_time": "2022-08-13T17:50:21.960Z"
   },
   {
    "duration": 8,
    "start_time": "2022-08-13T17:50:21.966Z"
   },
   {
    "duration": 32,
    "start_time": "2022-08-13T17:50:21.975Z"
   },
   {
    "duration": 4,
    "start_time": "2022-08-13T17:50:22.009Z"
   },
   {
    "duration": 18,
    "start_time": "2022-08-13T17:50:22.014Z"
   },
   {
    "duration": 15,
    "start_time": "2022-08-13T17:50:22.034Z"
   },
   {
    "duration": 5,
    "start_time": "2022-08-13T17:50:22.051Z"
   },
   {
    "duration": 52,
    "start_time": "2022-08-13T17:50:22.058Z"
   },
   {
    "duration": 13,
    "start_time": "2022-08-13T17:50:22.112Z"
   },
   {
    "duration": 17,
    "start_time": "2022-08-13T17:50:22.127Z"
   },
   {
    "duration": 4,
    "start_time": "2022-08-13T17:50:22.145Z"
   },
   {
    "duration": 5,
    "start_time": "2022-08-13T17:50:22.150Z"
   },
   {
    "duration": 162,
    "start_time": "2022-08-13T17:50:22.157Z"
   },
   {
    "duration": 4,
    "start_time": "2022-08-13T17:50:22.321Z"
   },
   {
    "duration": 8,
    "start_time": "2022-08-13T17:50:22.327Z"
   },
   {
    "duration": 18,
    "start_time": "2022-08-13T17:50:22.337Z"
   },
   {
    "duration": 12,
    "start_time": "2022-08-13T17:50:22.356Z"
   },
   {
    "duration": 15,
    "start_time": "2022-08-13T17:50:22.369Z"
   },
   {
    "duration": 36,
    "start_time": "2022-08-13T17:50:22.385Z"
   },
   {
    "duration": 19,
    "start_time": "2022-08-13T17:50:22.422Z"
   },
   {
    "duration": 29,
    "start_time": "2022-08-13T17:50:22.443Z"
   },
   {
    "duration": 8,
    "start_time": "2022-08-13T17:50:22.473Z"
   },
   {
    "duration": 26,
    "start_time": "2022-08-13T17:50:22.483Z"
   },
   {
    "duration": 493,
    "start_time": "2022-08-13T17:50:22.510Z"
   },
   {
    "duration": 11,
    "start_time": "2022-08-13T17:50:23.005Z"
   },
   {
    "duration": 6,
    "start_time": "2022-08-13T17:50:23.017Z"
   },
   {
    "duration": 8,
    "start_time": "2022-08-13T17:50:23.026Z"
   },
   {
    "duration": 9,
    "start_time": "2022-08-13T17:50:23.035Z"
   },
   {
    "duration": 6,
    "start_time": "2022-08-13T17:50:23.045Z"
   },
   {
    "duration": 495,
    "start_time": "2022-08-13T17:50:23.052Z"
   },
   {
    "duration": 8,
    "start_time": "2022-08-13T17:50:23.548Z"
   },
   {
    "duration": 9,
    "start_time": "2022-08-13T17:50:23.557Z"
   },
   {
    "duration": 9,
    "start_time": "2022-08-13T17:50:23.567Z"
   },
   {
    "duration": 161,
    "start_time": "2022-08-13T17:50:23.577Z"
   },
   {
    "duration": 7,
    "start_time": "2022-08-13T17:50:23.739Z"
   },
   {
    "duration": 165,
    "start_time": "2022-08-13T17:50:23.747Z"
   },
   {
    "duration": 8,
    "start_time": "2022-08-13T17:50:23.913Z"
   },
   {
    "duration": 12,
    "start_time": "2022-08-13T17:50:23.923Z"
   },
   {
    "duration": 24,
    "start_time": "2022-08-13T17:50:23.936Z"
   },
   {
    "duration": 12,
    "start_time": "2022-08-13T17:50:23.962Z"
   },
   {
    "duration": 14,
    "start_time": "2022-08-13T17:51:04.338Z"
   },
   {
    "duration": 14,
    "start_time": "2022-08-13T17:52:53.904Z"
   },
   {
    "duration": 14,
    "start_time": "2022-08-13T18:05:28.787Z"
   },
   {
    "duration": 15,
    "start_time": "2022-08-13T18:07:15.052Z"
   },
   {
    "duration": 15,
    "start_time": "2022-08-13T18:29:33.728Z"
   },
   {
    "duration": 23,
    "start_time": "2022-08-13T19:26:06.191Z"
   },
   {
    "duration": 21,
    "start_time": "2022-08-13T19:40:31.858Z"
   },
   {
    "duration": 63,
    "start_time": "2022-08-13T21:19:17.500Z"
   },
   {
    "duration": 4,
    "start_time": "2022-08-13T21:19:17.564Z"
   },
   {
    "duration": 8,
    "start_time": "2022-08-13T21:19:17.569Z"
   },
   {
    "duration": 20,
    "start_time": "2022-08-13T21:19:17.579Z"
   },
   {
    "duration": 12,
    "start_time": "2022-08-13T21:19:17.601Z"
   },
   {
    "duration": 6,
    "start_time": "2022-08-13T21:19:17.614Z"
   },
   {
    "duration": 26,
    "start_time": "2022-08-13T21:19:17.621Z"
   },
   {
    "duration": 20,
    "start_time": "2022-08-13T21:19:17.649Z"
   },
   {
    "duration": 54,
    "start_time": "2022-08-13T21:19:17.671Z"
   },
   {
    "duration": 3,
    "start_time": "2022-08-13T21:19:17.728Z"
   },
   {
    "duration": 14,
    "start_time": "2022-08-13T21:19:17.733Z"
   },
   {
    "duration": 60,
    "start_time": "2022-08-13T21:19:17.749Z"
   },
   {
    "duration": 5,
    "start_time": "2022-08-13T21:19:17.811Z"
   },
   {
    "duration": 24,
    "start_time": "2022-08-13T21:19:17.818Z"
   },
   {
    "duration": 5,
    "start_time": "2022-08-13T21:19:17.844Z"
   },
   {
    "duration": 9,
    "start_time": "2022-08-13T21:19:17.850Z"
   },
   {
    "duration": 47,
    "start_time": "2022-08-13T21:19:17.860Z"
   },
   {
    "duration": 5,
    "start_time": "2022-08-13T21:19:17.908Z"
   },
   {
    "duration": 20,
    "start_time": "2022-08-13T21:19:17.915Z"
   },
   {
    "duration": 3,
    "start_time": "2022-08-13T21:19:17.937Z"
   },
   {
    "duration": 5,
    "start_time": "2022-08-13T21:19:17.941Z"
   },
   {
    "duration": 5,
    "start_time": "2022-08-13T21:19:17.948Z"
   },
   {
    "duration": 6,
    "start_time": "2022-08-13T21:19:17.954Z"
   },
   {
    "duration": 54,
    "start_time": "2022-08-13T21:19:17.961Z"
   },
   {
    "duration": 5,
    "start_time": "2022-08-13T21:19:18.016Z"
   },
   {
    "duration": 6,
    "start_time": "2022-08-13T21:19:18.024Z"
   },
   {
    "duration": 11,
    "start_time": "2022-08-13T21:19:18.031Z"
   },
   {
    "duration": 11,
    "start_time": "2022-08-13T21:19:18.043Z"
   },
   {
    "duration": 14,
    "start_time": "2022-08-13T21:19:18.056Z"
   },
   {
    "duration": 14,
    "start_time": "2022-08-13T21:19:18.072Z"
   },
   {
    "duration": 22,
    "start_time": "2022-08-13T21:19:18.087Z"
   },
   {
    "duration": 30,
    "start_time": "2022-08-13T21:19:18.110Z"
   },
   {
    "duration": 15,
    "start_time": "2022-08-13T21:19:18.141Z"
   },
   {
    "duration": 17,
    "start_time": "2022-08-13T21:19:18.157Z"
   },
   {
    "duration": 3,
    "start_time": "2022-08-13T21:19:18.175Z"
   },
   {
    "duration": 4,
    "start_time": "2022-08-13T21:19:18.179Z"
   },
   {
    "duration": 138,
    "start_time": "2022-08-13T21:19:18.206Z"
   },
   {
    "duration": 3,
    "start_time": "2022-08-13T21:19:18.346Z"
   },
   {
    "duration": 8,
    "start_time": "2022-08-13T21:19:18.351Z"
   },
   {
    "duration": 17,
    "start_time": "2022-08-13T21:19:18.360Z"
   },
   {
    "duration": 12,
    "start_time": "2022-08-13T21:19:18.378Z"
   },
   {
    "duration": 17,
    "start_time": "2022-08-13T21:19:18.406Z"
   },
   {
    "duration": 20,
    "start_time": "2022-08-13T21:19:18.425Z"
   },
   {
    "duration": 19,
    "start_time": "2022-08-13T21:19:18.447Z"
   },
   {
    "duration": 48,
    "start_time": "2022-08-13T21:19:18.467Z"
   },
   {
    "duration": 8,
    "start_time": "2022-08-13T21:19:18.517Z"
   },
   {
    "duration": 8,
    "start_time": "2022-08-13T21:19:18.527Z"
   },
   {
    "duration": 470,
    "start_time": "2022-08-13T21:19:18.536Z"
   },
   {
    "duration": 11,
    "start_time": "2022-08-13T21:19:19.008Z"
   },
   {
    "duration": 7,
    "start_time": "2022-08-13T21:19:19.020Z"
   },
   {
    "duration": 7,
    "start_time": "2022-08-13T21:19:19.029Z"
   },
   {
    "duration": 12,
    "start_time": "2022-08-13T21:19:19.037Z"
   },
   {
    "duration": 5,
    "start_time": "2022-08-13T21:19:19.051Z"
   },
   {
    "duration": 483,
    "start_time": "2022-08-13T21:19:19.057Z"
   },
   {
    "duration": 7,
    "start_time": "2022-08-13T21:19:19.541Z"
   },
   {
    "duration": 10,
    "start_time": "2022-08-13T21:19:19.550Z"
   },
   {
    "duration": 6,
    "start_time": "2022-08-13T21:19:19.561Z"
   },
   {
    "duration": 162,
    "start_time": "2022-08-13T21:19:19.568Z"
   },
   {
    "duration": 6,
    "start_time": "2022-08-13T21:19:19.734Z"
   },
   {
    "duration": 150,
    "start_time": "2022-08-13T21:19:19.741Z"
   },
   {
    "duration": 14,
    "start_time": "2022-08-13T21:19:19.892Z"
   },
   {
    "duration": 10,
    "start_time": "2022-08-13T21:19:19.908Z"
   },
   {
    "duration": 11,
    "start_time": "2022-08-13T21:19:19.919Z"
   },
   {
    "duration": 10,
    "start_time": "2022-08-13T21:19:19.932Z"
   },
   {
    "duration": 9,
    "start_time": "2022-08-13T21:19:19.944Z"
   },
   {
    "duration": 17,
    "start_time": "2022-08-13T21:19:19.955Z"
   },
   {
    "duration": 18,
    "start_time": "2022-08-13T21:19:20.006Z"
   },
   {
    "duration": 15,
    "start_time": "2022-08-13T21:19:20.026Z"
   },
   {
    "duration": 27,
    "start_time": "2022-08-13T21:19:20.043Z"
   },
   {
    "duration": 23,
    "start_time": "2022-08-13T21:19:20.072Z"
   },
   {
    "duration": 18,
    "start_time": "2022-08-13T21:19:20.097Z"
   },
   {
    "duration": 148,
    "start_time": "2022-08-13T21:19:20.116Z"
   },
   {
    "duration": 11,
    "start_time": "2022-08-13T22:28:17.198Z"
   },
   {
    "duration": 10,
    "start_time": "2022-08-13T22:29:16.188Z"
   },
   {
    "duration": 55,
    "start_time": "2022-08-13T22:53:52.403Z"
   },
   {
    "duration": 12,
    "start_time": "2022-08-13T22:55:29.582Z"
   },
   {
    "duration": 12,
    "start_time": "2022-08-13T22:55:52.613Z"
   },
   {
    "duration": 15,
    "start_time": "2022-08-13T23:02:11.036Z"
   },
   {
    "duration": 21,
    "start_time": "2022-08-13T23:02:51.054Z"
   },
   {
    "duration": 19,
    "start_time": "2022-08-13T23:09:32.310Z"
   },
   {
    "duration": 16,
    "start_time": "2022-08-13T23:09:32.573Z"
   },
   {
    "duration": 18,
    "start_time": "2022-08-13T23:09:32.756Z"
   },
   {
    "duration": 14,
    "start_time": "2022-08-13T23:09:33.119Z"
   },
   {
    "duration": 13,
    "start_time": "2022-08-13T23:09:33.333Z"
   },
   {
    "duration": 150,
    "start_time": "2022-08-13T23:09:33.741Z"
   },
   {
    "duration": 9,
    "start_time": "2022-08-13T23:10:14.733Z"
   },
   {
    "duration": 18,
    "start_time": "2022-08-13T23:11:24.636Z"
   },
   {
    "duration": 10,
    "start_time": "2022-08-13T23:24:06.851Z"
   },
   {
    "duration": 13,
    "start_time": "2022-08-13T23:37:56.992Z"
   },
   {
    "duration": 13,
    "start_time": "2022-08-13T23:47:29.588Z"
   },
   {
    "duration": 9,
    "start_time": "2022-08-13T23:58:16.572Z"
   },
   {
    "duration": 8,
    "start_time": "2022-08-13T23:58:48.654Z"
   },
   {
    "duration": 63,
    "start_time": "2022-08-14T00:02:28.654Z"
   },
   {
    "duration": 4,
    "start_time": "2022-08-14T00:02:28.718Z"
   },
   {
    "duration": 6,
    "start_time": "2022-08-14T00:02:28.723Z"
   },
   {
    "duration": 21,
    "start_time": "2022-08-14T00:02:28.731Z"
   },
   {
    "duration": 15,
    "start_time": "2022-08-14T00:02:28.753Z"
   },
   {
    "duration": 5,
    "start_time": "2022-08-14T00:02:28.769Z"
   },
   {
    "duration": 42,
    "start_time": "2022-08-14T00:02:28.776Z"
   },
   {
    "duration": 19,
    "start_time": "2022-08-14T00:02:28.819Z"
   },
   {
    "duration": 29,
    "start_time": "2022-08-14T00:02:28.840Z"
   },
   {
    "duration": 3,
    "start_time": "2022-08-14T00:02:28.871Z"
   },
   {
    "duration": 14,
    "start_time": "2022-08-14T00:02:28.906Z"
   },
   {
    "duration": 24,
    "start_time": "2022-08-14T00:02:28.921Z"
   },
   {
    "duration": 5,
    "start_time": "2022-08-14T00:02:28.946Z"
   },
   {
    "duration": 56,
    "start_time": "2022-08-14T00:02:28.952Z"
   },
   {
    "duration": 5,
    "start_time": "2022-08-14T00:02:29.010Z"
   },
   {
    "duration": 9,
    "start_time": "2022-08-14T00:02:29.016Z"
   },
   {
    "duration": 5,
    "start_time": "2022-08-14T00:02:29.026Z"
   },
   {
    "duration": 5,
    "start_time": "2022-08-14T00:02:29.032Z"
   },
   {
    "duration": 19,
    "start_time": "2022-08-14T00:02:29.038Z"
   },
   {
    "duration": 4,
    "start_time": "2022-08-14T00:02:29.059Z"
   },
   {
    "duration": 9,
    "start_time": "2022-08-14T00:02:29.064Z"
   },
   {
    "duration": 41,
    "start_time": "2022-08-14T00:02:29.075Z"
   },
   {
    "duration": 15,
    "start_time": "2022-08-14T00:02:29.117Z"
   },
   {
    "duration": 17,
    "start_time": "2022-08-14T00:02:29.134Z"
   },
   {
    "duration": 8,
    "start_time": "2022-08-14T00:02:29.153Z"
   },
   {
    "duration": 6,
    "start_time": "2022-08-14T00:02:29.163Z"
   },
   {
    "duration": 9,
    "start_time": "2022-08-14T00:02:29.170Z"
   },
   {
    "duration": 7,
    "start_time": "2022-08-14T00:02:29.180Z"
   },
   {
    "duration": 20,
    "start_time": "2022-08-14T00:02:29.188Z"
   },
   {
    "duration": 9,
    "start_time": "2022-08-14T00:02:29.209Z"
   },
   {
    "duration": 5,
    "start_time": "2022-08-14T00:02:29.219Z"
   },
   {
    "duration": 27,
    "start_time": "2022-08-14T00:02:29.225Z"
   },
   {
    "duration": 14,
    "start_time": "2022-08-14T00:02:29.254Z"
   },
   {
    "duration": 38,
    "start_time": "2022-08-14T00:02:29.269Z"
   },
   {
    "duration": 4,
    "start_time": "2022-08-14T00:02:29.308Z"
   },
   {
    "duration": 5,
    "start_time": "2022-08-14T00:02:29.313Z"
   },
   {
    "duration": 151,
    "start_time": "2022-08-14T00:02:29.319Z"
   },
   {
    "duration": 3,
    "start_time": "2022-08-14T00:02:29.472Z"
   },
   {
    "duration": 8,
    "start_time": "2022-08-14T00:02:29.477Z"
   },
   {
    "duration": 26,
    "start_time": "2022-08-14T00:02:29.486Z"
   },
   {
    "duration": 12,
    "start_time": "2022-08-14T00:02:29.514Z"
   },
   {
    "duration": 16,
    "start_time": "2022-08-14T00:02:29.527Z"
   },
   {
    "duration": 21,
    "start_time": "2022-08-14T00:02:29.544Z"
   },
   {
    "duration": 42,
    "start_time": "2022-08-14T00:02:29.566Z"
   },
   {
    "duration": 24,
    "start_time": "2022-08-14T00:02:29.609Z"
   },
   {
    "duration": 9,
    "start_time": "2022-08-14T00:02:29.634Z"
   },
   {
    "duration": 6,
    "start_time": "2022-08-14T00:02:29.644Z"
   },
   {
    "duration": 502,
    "start_time": "2022-08-14T00:02:29.651Z"
   },
   {
    "duration": 10,
    "start_time": "2022-08-14T00:02:30.155Z"
   },
   {
    "duration": 18,
    "start_time": "2022-08-14T00:02:30.167Z"
   },
   {
    "duration": 10,
    "start_time": "2022-08-14T00:02:30.186Z"
   },
   {
    "duration": 11,
    "start_time": "2022-08-14T00:02:30.199Z"
   },
   {
    "duration": 7,
    "start_time": "2022-08-14T00:02:30.212Z"
   },
   {
    "duration": 466,
    "start_time": "2022-08-14T00:02:30.220Z"
   },
   {
    "duration": 7,
    "start_time": "2022-08-14T00:02:30.687Z"
   },
   {
    "duration": 19,
    "start_time": "2022-08-14T00:02:30.696Z"
   },
   {
    "duration": 22,
    "start_time": "2022-08-14T00:02:30.717Z"
   },
   {
    "duration": 151,
    "start_time": "2022-08-14T00:02:30.740Z"
   },
   {
    "duration": 6,
    "start_time": "2022-08-14T00:02:30.892Z"
   },
   {
    "duration": 174,
    "start_time": "2022-08-14T00:02:30.900Z"
   },
   {
    "duration": 8,
    "start_time": "2022-08-14T00:02:31.075Z"
   },
   {
    "duration": 17,
    "start_time": "2022-08-14T00:02:31.085Z"
   },
   {
    "duration": 16,
    "start_time": "2022-08-14T00:02:31.106Z"
   },
   {
    "duration": 13,
    "start_time": "2022-08-14T00:02:31.124Z"
   },
   {
    "duration": 14,
    "start_time": "2022-08-14T00:02:31.139Z"
   },
   {
    "duration": 37,
    "start_time": "2022-08-14T00:02:31.155Z"
   },
   {
    "duration": 26,
    "start_time": "2022-08-14T00:02:31.194Z"
   },
   {
    "duration": 16,
    "start_time": "2022-08-14T00:02:31.222Z"
   },
   {
    "duration": 26,
    "start_time": "2022-08-14T00:02:31.240Z"
   },
   {
    "duration": 21,
    "start_time": "2022-08-14T00:02:31.268Z"
   },
   {
    "duration": 24,
    "start_time": "2022-08-14T00:02:31.291Z"
   },
   {
    "duration": 156,
    "start_time": "2022-08-14T00:02:31.317Z"
   },
   {
    "duration": 11,
    "start_time": "2022-08-14T00:02:31.474Z"
   },
   {
    "duration": 20,
    "start_time": "2022-08-14T00:02:31.487Z"
   },
   {
    "duration": 0,
    "start_time": "2022-08-14T00:02:31.509Z"
   },
   {
    "duration": 0,
    "start_time": "2022-08-14T00:02:31.510Z"
   },
   {
    "duration": 20,
    "start_time": "2022-08-14T00:07:24.394Z"
   },
   {
    "duration": 13,
    "start_time": "2022-08-14T00:07:51.578Z"
   },
   {
    "duration": 9,
    "start_time": "2022-08-14T00:07:53.466Z"
   },
   {
    "duration": 924,
    "start_time": "2022-08-17T08:11:42.119Z"
   },
   {
    "duration": 5,
    "start_time": "2022-08-17T08:11:43.044Z"
   },
   {
    "duration": 18,
    "start_time": "2022-08-17T08:11:43.050Z"
   },
   {
    "duration": 39,
    "start_time": "2022-08-17T08:11:43.070Z"
   },
   {
    "duration": 19,
    "start_time": "2022-08-17T08:11:43.111Z"
   },
   {
    "duration": 8,
    "start_time": "2022-08-17T08:11:43.131Z"
   },
   {
    "duration": 52,
    "start_time": "2022-08-17T08:11:43.141Z"
   },
   {
    "duration": 27,
    "start_time": "2022-08-17T08:11:43.195Z"
   },
   {
    "duration": 33,
    "start_time": "2022-08-17T08:11:43.224Z"
   },
   {
    "duration": 3,
    "start_time": "2022-08-17T08:11:43.260Z"
   },
   {
    "duration": 54,
    "start_time": "2022-08-17T08:11:43.265Z"
   },
   {
    "duration": 29,
    "start_time": "2022-08-17T08:11:43.321Z"
   },
   {
    "duration": 5,
    "start_time": "2022-08-17T08:11:43.352Z"
   },
   {
    "duration": 48,
    "start_time": "2022-08-17T08:11:43.359Z"
   },
   {
    "duration": 5,
    "start_time": "2022-08-17T08:11:43.409Z"
   },
   {
    "duration": 19,
    "start_time": "2022-08-17T08:11:43.415Z"
   },
   {
    "duration": 13,
    "start_time": "2022-08-17T08:11:43.436Z"
   },
   {
    "duration": 9,
    "start_time": "2022-08-17T08:11:43.450Z"
   },
   {
    "duration": 41,
    "start_time": "2022-08-17T08:11:43.461Z"
   },
   {
    "duration": 5,
    "start_time": "2022-08-17T08:11:43.503Z"
   },
   {
    "duration": 23,
    "start_time": "2022-08-17T08:11:43.510Z"
   },
   {
    "duration": 18,
    "start_time": "2022-08-17T08:11:43.534Z"
   },
   {
    "duration": 15,
    "start_time": "2022-08-17T08:11:43.554Z"
   },
   {
    "duration": 40,
    "start_time": "2022-08-17T08:11:43.571Z"
   },
   {
    "duration": 20,
    "start_time": "2022-08-17T08:11:43.612Z"
   },
   {
    "duration": 18,
    "start_time": "2022-08-17T08:11:43.634Z"
   },
   {
    "duration": 12,
    "start_time": "2022-08-17T08:11:43.653Z"
   },
   {
    "duration": 31,
    "start_time": "2022-08-17T08:11:43.669Z"
   },
   {
    "duration": 19,
    "start_time": "2022-08-17T08:11:43.702Z"
   },
   {
    "duration": 22,
    "start_time": "2022-08-17T08:11:43.723Z"
   },
   {
    "duration": 10,
    "start_time": "2022-08-17T08:11:43.746Z"
   },
   {
    "duration": 37,
    "start_time": "2022-08-17T08:11:43.758Z"
   },
   {
    "duration": 17,
    "start_time": "2022-08-17T08:11:43.797Z"
   },
   {
    "duration": 22,
    "start_time": "2022-08-17T08:11:43.816Z"
   },
   {
    "duration": 4,
    "start_time": "2022-08-17T08:11:43.839Z"
   },
   {
    "duration": 12,
    "start_time": "2022-08-17T08:11:43.844Z"
   },
   {
    "duration": 204,
    "start_time": "2022-08-17T08:11:43.858Z"
   },
   {
    "duration": 4,
    "start_time": "2022-08-17T08:11:44.064Z"
   },
   {
    "duration": 21,
    "start_time": "2022-08-17T08:11:44.070Z"
   },
   {
    "duration": 27,
    "start_time": "2022-08-17T08:11:44.094Z"
   },
   {
    "duration": 16,
    "start_time": "2022-08-17T08:11:44.123Z"
   },
   {
    "duration": 20,
    "start_time": "2022-08-17T08:11:44.141Z"
   },
   {
    "duration": 45,
    "start_time": "2022-08-17T08:11:44.163Z"
   },
   {
    "duration": 25,
    "start_time": "2022-08-17T08:11:44.210Z"
   },
   {
    "duration": 32,
    "start_time": "2022-08-17T08:11:44.238Z"
   },
   {
    "duration": 13,
    "start_time": "2022-08-17T08:11:44.734Z"
   },
   {
    "duration": 16,
    "start_time": "2022-08-17T08:11:44.749Z"
   },
   {
    "duration": 621,
    "start_time": "2022-08-17T08:11:44.767Z"
   },
   {
    "duration": 13,
    "start_time": "2022-08-17T08:11:45.391Z"
   },
   {
    "duration": 10,
    "start_time": "2022-08-17T08:11:45.405Z"
   },
   {
    "duration": 15,
    "start_time": "2022-08-17T08:11:45.417Z"
   },
   {
    "duration": 19,
    "start_time": "2022-08-17T08:11:45.434Z"
   },
   {
    "duration": 10,
    "start_time": "2022-08-17T08:11:45.455Z"
   },
   {
    "duration": 620,
    "start_time": "2022-08-17T08:11:45.467Z"
   },
   {
    "duration": 9,
    "start_time": "2022-08-17T08:11:46.089Z"
   },
   {
    "duration": 11,
    "start_time": "2022-08-17T08:11:46.100Z"
   },
   {
    "duration": 8,
    "start_time": "2022-08-17T08:11:46.112Z"
   },
   {
    "duration": 205,
    "start_time": "2022-08-17T08:11:46.122Z"
   },
   {
    "duration": 7,
    "start_time": "2022-08-17T08:11:46.328Z"
   },
   {
    "duration": 188,
    "start_time": "2022-08-17T08:11:46.336Z"
   },
   {
    "duration": 10,
    "start_time": "2022-08-17T08:11:46.526Z"
   },
   {
    "duration": 11,
    "start_time": "2022-08-17T08:11:46.538Z"
   },
   {
    "duration": 11,
    "start_time": "2022-08-17T08:11:47.206Z"
   },
   {
    "duration": 12,
    "start_time": "2022-08-17T08:11:47.219Z"
   },
   {
    "duration": 16,
    "start_time": "2022-08-17T08:11:47.233Z"
   },
   {
    "duration": 35,
    "start_time": "2022-08-17T08:11:47.250Z"
   },
   {
    "duration": 21,
    "start_time": "2022-08-17T08:11:47.922Z"
   },
   {
    "duration": 18,
    "start_time": "2022-08-17T08:11:47.945Z"
   },
   {
    "duration": 23,
    "start_time": "2022-08-17T08:11:47.965Z"
   },
   {
    "duration": 23,
    "start_time": "2022-08-17T08:11:47.991Z"
   },
   {
    "duration": 23,
    "start_time": "2022-08-17T08:11:48.016Z"
   },
   {
    "duration": 176,
    "start_time": "2022-08-17T08:11:48.041Z"
   },
   {
    "duration": 10,
    "start_time": "2022-08-17T08:11:48.341Z"
   },
   {
    "duration": 21,
    "start_time": "2022-08-17T08:11:48.353Z"
   },
   {
    "duration": 17,
    "start_time": "2022-08-17T08:11:48.375Z"
   },
   {
    "duration": 10,
    "start_time": "2022-08-17T08:11:48.394Z"
   },
   {
    "duration": 748,
    "start_time": "2022-08-18T06:50:32.475Z"
   },
   {
    "duration": 3,
    "start_time": "2022-08-18T06:50:33.225Z"
   },
   {
    "duration": 7,
    "start_time": "2022-08-18T06:50:33.229Z"
   },
   {
    "duration": 19,
    "start_time": "2022-08-18T06:50:33.237Z"
   },
   {
    "duration": 20,
    "start_time": "2022-08-18T06:50:33.257Z"
   },
   {
    "duration": 7,
    "start_time": "2022-08-18T06:50:33.278Z"
   },
   {
    "duration": 69,
    "start_time": "2022-08-18T06:50:33.287Z"
   },
   {
    "duration": 19,
    "start_time": "2022-08-18T06:50:33.357Z"
   },
   {
    "duration": 67,
    "start_time": "2022-08-18T06:50:33.377Z"
   },
   {
    "duration": 3,
    "start_time": "2022-08-18T06:50:33.447Z"
   },
   {
    "duration": 20,
    "start_time": "2022-08-18T06:50:33.451Z"
   },
   {
    "duration": 24,
    "start_time": "2022-08-18T06:50:33.472Z"
   },
   {
    "duration": 41,
    "start_time": "2022-08-18T06:50:33.497Z"
   },
   {
    "duration": 23,
    "start_time": "2022-08-18T06:50:33.540Z"
   },
   {
    "duration": 5,
    "start_time": "2022-08-18T06:50:33.564Z"
   },
   {
    "duration": 10,
    "start_time": "2022-08-18T06:50:33.570Z"
   },
   {
    "duration": 4,
    "start_time": "2022-08-18T06:50:33.582Z"
   },
   {
    "duration": 7,
    "start_time": "2022-08-18T06:50:33.587Z"
   },
   {
    "duration": 54,
    "start_time": "2022-08-18T06:50:33.595Z"
   },
   {
    "duration": 4,
    "start_time": "2022-08-18T06:50:33.650Z"
   },
   {
    "duration": 8,
    "start_time": "2022-08-18T06:50:33.655Z"
   },
   {
    "duration": 8,
    "start_time": "2022-08-18T06:50:33.664Z"
   },
   {
    "duration": 10,
    "start_time": "2022-08-18T06:50:33.673Z"
   },
   {
    "duration": 33,
    "start_time": "2022-08-18T06:50:33.684Z"
   },
   {
    "duration": 21,
    "start_time": "2022-08-18T06:50:33.718Z"
   },
   {
    "duration": 25,
    "start_time": "2022-08-18T06:50:33.740Z"
   },
   {
    "duration": 7,
    "start_time": "2022-08-18T06:50:33.766Z"
   },
   {
    "duration": 15,
    "start_time": "2022-08-18T06:50:33.777Z"
   },
   {
    "duration": 14,
    "start_time": "2022-08-18T06:50:33.794Z"
   },
   {
    "duration": 22,
    "start_time": "2022-08-18T06:50:33.809Z"
   },
   {
    "duration": 15,
    "start_time": "2022-08-18T06:50:33.833Z"
   },
   {
    "duration": 40,
    "start_time": "2022-08-18T06:50:33.850Z"
   },
   {
    "duration": 15,
    "start_time": "2022-08-18T06:50:33.892Z"
   },
   {
    "duration": 18,
    "start_time": "2022-08-18T06:50:33.909Z"
   },
   {
    "duration": 7,
    "start_time": "2022-08-18T06:50:33.929Z"
   },
   {
    "duration": 6,
    "start_time": "2022-08-18T06:50:33.937Z"
   },
   {
    "duration": 145,
    "start_time": "2022-08-18T06:50:33.944Z"
   },
   {
    "duration": 4,
    "start_time": "2022-08-18T06:50:34.090Z"
   },
   {
    "duration": 15,
    "start_time": "2022-08-18T06:50:34.095Z"
   },
   {
    "duration": 28,
    "start_time": "2022-08-18T06:50:34.112Z"
   },
   {
    "duration": 12,
    "start_time": "2022-08-18T06:50:34.141Z"
   },
   {
    "duration": 15,
    "start_time": "2022-08-18T06:50:34.154Z"
   },
   {
    "duration": 22,
    "start_time": "2022-08-18T06:50:34.170Z"
   },
   {
    "duration": 28,
    "start_time": "2022-08-18T06:50:34.193Z"
   },
   {
    "duration": 34,
    "start_time": "2022-08-18T06:50:34.222Z"
   },
   {
    "duration": 10,
    "start_time": "2022-08-18T06:50:34.257Z"
   },
   {
    "duration": 15,
    "start_time": "2022-08-18T06:50:34.268Z"
   },
   {
    "duration": 471,
    "start_time": "2022-08-18T06:50:34.285Z"
   },
   {
    "duration": 11,
    "start_time": "2022-08-18T06:50:34.757Z"
   },
   {
    "duration": 7,
    "start_time": "2022-08-18T06:50:34.769Z"
   },
   {
    "duration": 7,
    "start_time": "2022-08-18T06:50:34.777Z"
   },
   {
    "duration": 10,
    "start_time": "2022-08-18T06:50:34.786Z"
   },
   {
    "duration": 7,
    "start_time": "2022-08-18T06:50:34.797Z"
   },
   {
    "duration": 484,
    "start_time": "2022-08-18T06:50:34.805Z"
   },
   {
    "duration": 8,
    "start_time": "2022-08-18T06:50:35.291Z"
   },
   {
    "duration": 33,
    "start_time": "2022-08-18T06:50:35.301Z"
   },
   {
    "duration": 19,
    "start_time": "2022-08-18T06:50:35.336Z"
   },
   {
    "duration": 146,
    "start_time": "2022-08-18T06:50:35.356Z"
   },
   {
    "duration": 6,
    "start_time": "2022-08-18T06:50:35.504Z"
   },
   {
    "duration": 153,
    "start_time": "2022-08-18T06:50:35.511Z"
   },
   {
    "duration": 10,
    "start_time": "2022-08-18T06:50:35.665Z"
   },
   {
    "duration": 15,
    "start_time": "2022-08-18T06:50:35.676Z"
   },
   {
    "duration": 23,
    "start_time": "2022-08-18T06:50:35.692Z"
   },
   {
    "duration": 46,
    "start_time": "2022-08-18T06:50:35.716Z"
   },
   {
    "duration": 9,
    "start_time": "2022-08-18T06:50:35.763Z"
   },
   {
    "duration": 46,
    "start_time": "2022-08-18T06:50:35.773Z"
   },
   {
    "duration": 17,
    "start_time": "2022-08-18T06:50:35.820Z"
   },
   {
    "duration": 14,
    "start_time": "2022-08-18T06:50:35.838Z"
   },
   {
    "duration": 13,
    "start_time": "2022-08-18T06:50:35.853Z"
   },
   {
    "duration": 13,
    "start_time": "2022-08-18T06:50:35.868Z"
   },
   {
    "duration": 11,
    "start_time": "2022-08-18T06:50:35.883Z"
   },
   {
    "duration": 157,
    "start_time": "2022-08-18T06:50:35.895Z"
   },
   {
    "duration": 8,
    "start_time": "2022-08-18T06:50:36.054Z"
   },
   {
    "duration": 27,
    "start_time": "2022-08-18T06:50:36.063Z"
   },
   {
    "duration": 15,
    "start_time": "2022-08-18T06:50:36.092Z"
   },
   {
    "duration": 7,
    "start_time": "2022-08-18T06:50:36.109Z"
   },
   {
    "duration": 15,
    "start_time": "2022-08-18T06:55:37.426Z"
   },
   {
    "duration": 12,
    "start_time": "2022-08-18T07:00:28.100Z"
   },
   {
    "duration": 11,
    "start_time": "2022-08-18T07:00:39.315Z"
   },
   {
    "duration": 11,
    "start_time": "2022-08-18T07:04:15.274Z"
   },
   {
    "duration": 73,
    "start_time": "2022-08-20T18:49:04.716Z"
   },
   {
    "duration": 9,
    "start_time": "2022-08-20T18:49:10.493Z"
   },
   {
    "duration": 688,
    "start_time": "2022-08-20T18:49:30.710Z"
   },
   {
    "duration": 5,
    "start_time": "2022-08-20T18:49:31.401Z"
   },
   {
    "duration": 59,
    "start_time": "2022-08-20T18:49:31.407Z"
   },
   {
    "duration": 82,
    "start_time": "2022-08-20T18:49:31.469Z"
   },
   {
    "duration": 54,
    "start_time": "2022-08-20T18:49:31.555Z"
   },
   {
    "duration": 38,
    "start_time": "2022-08-20T18:49:31.611Z"
   },
   {
    "duration": 106,
    "start_time": "2022-08-20T18:49:31.651Z"
   },
   {
    "duration": 46,
    "start_time": "2022-08-20T18:49:31.760Z"
   },
   {
    "duration": 65,
    "start_time": "2022-08-20T18:49:31.808Z"
   },
   {
    "duration": 17,
    "start_time": "2022-08-20T18:49:31.874Z"
   },
   {
    "duration": 69,
    "start_time": "2022-08-20T18:49:31.893Z"
   },
   {
    "duration": 44,
    "start_time": "2022-08-20T18:49:31.966Z"
   },
   {
    "duration": 36,
    "start_time": "2022-08-20T18:49:32.013Z"
   },
   {
    "duration": 72,
    "start_time": "2022-08-20T18:49:32.054Z"
   },
   {
    "duration": 8,
    "start_time": "2022-08-20T18:49:32.128Z"
   },
   {
    "duration": 37,
    "start_time": "2022-08-20T18:49:32.138Z"
   },
   {
    "duration": 19,
    "start_time": "2022-08-20T18:49:32.184Z"
   },
   {
    "duration": 17,
    "start_time": "2022-08-20T18:49:32.205Z"
   },
   {
    "duration": 41,
    "start_time": "2022-08-20T18:49:32.224Z"
   },
   {
    "duration": 11,
    "start_time": "2022-08-20T18:49:32.274Z"
   },
   {
    "duration": 43,
    "start_time": "2022-08-20T18:49:32.292Z"
   },
   {
    "duration": 22,
    "start_time": "2022-08-20T18:49:32.337Z"
   },
   {
    "duration": 41,
    "start_time": "2022-08-20T18:49:32.361Z"
   },
   {
    "duration": 31,
    "start_time": "2022-08-20T18:49:32.404Z"
   },
   {
    "duration": 21,
    "start_time": "2022-08-20T18:49:32.437Z"
   },
   {
    "duration": 21,
    "start_time": "2022-08-20T18:49:32.461Z"
   },
   {
    "duration": 6,
    "start_time": "2022-08-20T18:49:32.490Z"
   },
   {
    "duration": 10,
    "start_time": "2022-08-20T18:49:32.498Z"
   },
   {
    "duration": 22,
    "start_time": "2022-08-20T18:49:32.510Z"
   },
   {
    "duration": 20,
    "start_time": "2022-08-20T18:49:32.534Z"
   },
   {
    "duration": 15,
    "start_time": "2022-08-20T18:49:32.556Z"
   },
   {
    "duration": 58,
    "start_time": "2022-08-20T18:49:32.573Z"
   },
   {
    "duration": 21,
    "start_time": "2022-08-20T18:49:32.633Z"
   },
   {
    "duration": 44,
    "start_time": "2022-08-20T18:49:32.656Z"
   },
   {
    "duration": 18,
    "start_time": "2022-08-20T18:49:32.702Z"
   },
   {
    "duration": 14,
    "start_time": "2022-08-20T18:49:32.722Z"
   },
   {
    "duration": 260,
    "start_time": "2022-08-20T18:49:32.739Z"
   },
   {
    "duration": 4,
    "start_time": "2022-08-20T18:49:33.001Z"
   },
   {
    "duration": 21,
    "start_time": "2022-08-20T18:49:33.007Z"
   },
   {
    "duration": 50,
    "start_time": "2022-08-20T18:49:33.030Z"
   },
   {
    "duration": 21,
    "start_time": "2022-08-20T18:49:33.086Z"
   },
   {
    "duration": 25,
    "start_time": "2022-08-20T18:49:33.109Z"
   },
   {
    "duration": 46,
    "start_time": "2022-08-20T18:49:33.136Z"
   },
   {
    "duration": 24,
    "start_time": "2022-08-20T18:49:33.184Z"
   },
   {
    "duration": 43,
    "start_time": "2022-08-20T18:49:33.210Z"
   },
   {
    "duration": 21,
    "start_time": "2022-08-20T18:49:33.267Z"
   },
   {
    "duration": 28,
    "start_time": "2022-08-20T18:49:33.289Z"
   },
   {
    "duration": 651,
    "start_time": "2022-08-20T18:49:33.319Z"
   },
   {
    "duration": 22,
    "start_time": "2022-08-20T18:49:33.979Z"
   },
   {
    "duration": 10,
    "start_time": "2022-08-20T18:49:34.003Z"
   },
   {
    "duration": 12,
    "start_time": "2022-08-20T18:49:34.016Z"
   },
   {
    "duration": 78,
    "start_time": "2022-08-20T18:49:34.030Z"
   },
   {
    "duration": 18,
    "start_time": "2022-08-20T18:49:34.110Z"
   },
   {
    "duration": 631,
    "start_time": "2022-08-20T18:49:34.130Z"
   },
   {
    "duration": 20,
    "start_time": "2022-08-20T18:49:34.763Z"
   },
   {
    "duration": 19,
    "start_time": "2022-08-20T18:49:34.786Z"
   },
   {
    "duration": 17,
    "start_time": "2022-08-20T18:49:34.807Z"
   },
   {
    "duration": 7,
    "start_time": "2022-08-20T18:49:34.826Z"
   },
   {
    "duration": 204,
    "start_time": "2022-08-20T18:49:34.834Z"
   },
   {
    "duration": 7,
    "start_time": "2022-08-20T18:49:35.040Z"
   },
   {
    "duration": 198,
    "start_time": "2022-08-20T18:49:35.048Z"
   },
   {
    "duration": 11,
    "start_time": "2022-08-20T18:49:35.248Z"
   },
   {
    "duration": 30,
    "start_time": "2022-08-20T18:49:35.267Z"
   },
   {
    "duration": 76,
    "start_time": "2022-08-20T18:49:35.299Z"
   },
   {
    "duration": 38,
    "start_time": "2022-08-20T18:49:35.377Z"
   },
   {
    "duration": 12,
    "start_time": "2022-08-20T18:49:35.417Z"
   },
   {
    "duration": 23,
    "start_time": "2022-08-20T18:49:35.431Z"
   },
   {
    "duration": 39,
    "start_time": "2022-08-20T18:49:35.456Z"
   },
   {
    "duration": 19,
    "start_time": "2022-08-20T18:49:35.497Z"
   },
   {
    "duration": 46,
    "start_time": "2022-08-20T18:49:35.518Z"
   },
   {
    "duration": 34,
    "start_time": "2022-08-20T18:49:35.566Z"
   },
   {
    "duration": 16,
    "start_time": "2022-08-20T18:49:35.602Z"
   },
   {
    "duration": 221,
    "start_time": "2022-08-20T18:49:35.620Z"
   },
   {
    "duration": 13,
    "start_time": "2022-08-20T18:49:35.843Z"
   },
   {
    "duration": 34,
    "start_time": "2022-08-20T18:49:35.867Z"
   },
   {
    "duration": 22,
    "start_time": "2022-08-20T18:49:35.903Z"
   },
   {
    "duration": 12,
    "start_time": "2022-08-20T18:49:35.926Z"
   },
   {
    "duration": 93,
    "start_time": "2022-08-20T18:54:10.313Z"
   },
   {
    "duration": 5,
    "start_time": "2022-08-20T18:54:48.940Z"
   },
   {
    "duration": 6,
    "start_time": "2022-08-20T18:54:51.408Z"
   },
   {
    "duration": 36,
    "start_time": "2022-08-20T18:54:52.621Z"
   },
   {
    "duration": 16,
    "start_time": "2022-08-20T18:54:55.584Z"
   },
   {
    "duration": 10,
    "start_time": "2022-08-20T18:54:57.110Z"
   },
   {
    "duration": 44,
    "start_time": "2022-08-20T18:54:58.950Z"
   },
   {
    "duration": 26,
    "start_time": "2022-08-20T18:54:59.511Z"
   },
   {
    "duration": 45,
    "start_time": "2022-08-20T18:55:02.008Z"
   },
   {
    "duration": 8,
    "start_time": "2022-08-20T18:55:08.296Z"
   },
   {
    "duration": 21,
    "start_time": "2022-08-20T18:55:08.807Z"
   },
   {
    "duration": 48,
    "start_time": "2022-08-20T18:55:10.635Z"
   },
   {
    "duration": 6,
    "start_time": "2022-08-20T18:55:15.792Z"
   },
   {
    "duration": 33,
    "start_time": "2022-08-20T18:55:18.630Z"
   },
   {
    "duration": 6,
    "start_time": "2022-08-20T18:55:34.428Z"
   },
   {
    "duration": 16,
    "start_time": "2022-08-20T18:55:35.697Z"
   },
   {
    "duration": 10,
    "start_time": "2022-08-20T18:55:37.023Z"
   },
   {
    "duration": 5,
    "start_time": "2022-08-20T18:55:38.009Z"
   },
   {
    "duration": 35,
    "start_time": "2022-08-20T18:55:38.808Z"
   },
   {
    "duration": 5,
    "start_time": "2022-08-20T18:55:39.658Z"
   },
   {
    "duration": 6,
    "start_time": "2022-08-20T18:55:40.594Z"
   },
   {
    "duration": 8,
    "start_time": "2022-08-20T18:55:41.597Z"
   },
   {
    "duration": 6,
    "start_time": "2022-08-20T18:56:14.046Z"
   },
   {
    "duration": 28,
    "start_time": "2022-08-20T18:56:15.056Z"
   },
   {
    "duration": 7,
    "start_time": "2022-08-20T18:56:15.441Z"
   },
   {
    "duration": 9,
    "start_time": "2022-08-20T18:56:16.019Z"
   },
   {
    "duration": 10,
    "start_time": "2022-08-20T18:56:16.667Z"
   },
   {
    "duration": 6,
    "start_time": "2022-08-20T18:56:17.486Z"
   },
   {
    "duration": 13,
    "start_time": "2022-08-20T18:56:18.202Z"
   },
   {
    "duration": 14,
    "start_time": "2022-08-20T18:56:18.728Z"
   },
   {
    "duration": 7,
    "start_time": "2022-08-20T18:56:19.296Z"
   },
   {
    "duration": 38,
    "start_time": "2022-08-20T18:56:21.252Z"
   },
   {
    "duration": 24,
    "start_time": "2022-08-20T18:56:22.387Z"
   },
   {
    "duration": 23,
    "start_time": "2022-08-20T18:56:22.928Z"
   },
   {
    "duration": 5,
    "start_time": "2022-08-20T18:56:24.194Z"
   },
   {
    "duration": 5,
    "start_time": "2022-08-20T18:56:27.656Z"
   },
   {
    "duration": 182,
    "start_time": "2022-08-20T18:56:32.122Z"
   },
   {
    "duration": 7,
    "start_time": "2022-08-20T18:56:33.829Z"
   },
   {
    "duration": 6,
    "start_time": "2022-08-20T18:56:34.815Z"
   },
   {
    "duration": 22,
    "start_time": "2022-08-20T18:56:35.087Z"
   },
   {
    "duration": 16,
    "start_time": "2022-08-20T18:56:35.586Z"
   },
   {
    "duration": 19,
    "start_time": "2022-08-20T18:56:35.995Z"
   },
   {
    "duration": 31,
    "start_time": "2022-08-20T18:56:40.558Z"
   },
   {
    "duration": 26,
    "start_time": "2022-08-20T18:56:42.516Z"
   },
   {
    "duration": 38,
    "start_time": "2022-08-20T18:56:49.554Z"
   },
   {
    "duration": 18,
    "start_time": "2022-08-20T18:57:02.387Z"
   },
   {
    "duration": 8,
    "start_time": "2022-08-20T18:57:02.744Z"
   },
   {
    "duration": 574,
    "start_time": "2022-08-20T18:57:04.285Z"
   },
   {
    "duration": 13,
    "start_time": "2022-08-20T18:57:17.249Z"
   },
   {
    "duration": 8,
    "start_time": "2022-08-20T18:57:19.502Z"
   },
   {
    "duration": 9,
    "start_time": "2022-08-20T18:57:20.733Z"
   },
   {
    "duration": 18,
    "start_time": "2022-08-20T18:57:27.315Z"
   },
   {
    "duration": 8,
    "start_time": "2022-08-20T18:57:27.913Z"
   },
   {
    "duration": 602,
    "start_time": "2022-08-20T18:57:28.397Z"
   },
   {
    "duration": 11,
    "start_time": "2022-08-20T18:57:29.001Z"
   },
   {
    "duration": 12,
    "start_time": "2022-08-20T18:57:38.996Z"
   },
   {
    "duration": 16,
    "start_time": "2022-08-20T19:10:51.705Z"
   },
   {
    "duration": 20,
    "start_time": "2022-08-20T19:12:56.610Z"
   },
   {
    "duration": 5,
    "start_time": "2022-08-20T19:12:59.513Z"
   },
   {
    "duration": 17,
    "start_time": "2022-08-20T19:13:27.198Z"
   },
   {
    "duration": 15,
    "start_time": "2022-08-20T19:14:17.224Z"
   },
   {
    "duration": 10,
    "start_time": "2022-08-20T19:14:17.962Z"
   },
   {
    "duration": 395,
    "start_time": "2022-08-20T19:14:18.492Z"
   },
   {
    "duration": 8,
    "start_time": "2022-08-20T19:14:19.043Z"
   },
   {
    "duration": 10,
    "start_time": "2022-08-20T19:14:22.300Z"
   },
   {
    "duration": 25,
    "start_time": "2022-08-20T19:14:30.089Z"
   },
   {
    "duration": 6,
    "start_time": "2022-08-20T19:14:30.718Z"
   },
   {
    "duration": 22,
    "start_time": "2022-08-20T19:14:31.242Z"
   },
   {
    "duration": 26,
    "start_time": "2022-08-20T19:16:20.020Z"
   },
   {
    "duration": 9,
    "start_time": "2022-08-20T19:16:20.651Z"
   },
   {
    "duration": 211,
    "start_time": "2022-08-20T19:16:21.096Z"
   },
   {
    "duration": 10,
    "start_time": "2022-08-20T19:16:21.309Z"
   },
   {
    "duration": 213,
    "start_time": "2022-08-20T19:16:21.396Z"
   },
   {
    "duration": 27,
    "start_time": "2022-08-20T19:16:21.757Z"
   },
   {
    "duration": 14,
    "start_time": "2022-08-20T19:16:23.949Z"
   },
   {
    "duration": 12,
    "start_time": "2022-08-20T19:16:34.354Z"
   },
   {
    "duration": 14,
    "start_time": "2022-08-20T19:16:35.050Z"
   },
   {
    "duration": 14,
    "start_time": "2022-08-20T19:16:36.013Z"
   },
   {
    "duration": 38,
    "start_time": "2022-08-20T19:16:37.815Z"
   },
   {
    "duration": 22,
    "start_time": "2022-08-20T19:17:00.142Z"
   },
   {
    "duration": 31,
    "start_time": "2022-08-20T19:17:01.277Z"
   },
   {
    "duration": 17,
    "start_time": "2022-08-20T19:17:02.614Z"
   },
   {
    "duration": 27,
    "start_time": "2022-08-20T19:17:06.657Z"
   },
   {
    "duration": 16,
    "start_time": "2022-08-20T19:17:07.103Z"
   },
   {
    "duration": 203,
    "start_time": "2022-08-20T19:17:07.953Z"
   },
   {
    "duration": 83,
    "start_time": "2022-08-20T19:21:38.508Z"
   },
   {
    "duration": 20,
    "start_time": "2022-08-20T19:26:06.725Z"
   },
   {
    "duration": 19,
    "start_time": "2022-08-20T19:29:50.944Z"
   },
   {
    "duration": 14,
    "start_time": "2022-08-20T19:31:10.305Z"
   },
   {
    "duration": 17,
    "start_time": "2022-08-20T19:31:38.002Z"
   },
   {
    "duration": 29,
    "start_time": "2022-08-20T19:40:40.666Z"
   },
   {
    "duration": 17,
    "start_time": "2022-08-20T19:42:21.360Z"
   },
   {
    "duration": 13,
    "start_time": "2022-08-20T19:44:00.603Z"
   },
   {
    "duration": 14,
    "start_time": "2022-08-20T19:45:40.163Z"
   },
   {
    "duration": 16,
    "start_time": "2022-08-20T19:51:57.694Z"
   },
   {
    "duration": 16,
    "start_time": "2022-08-20T19:52:15.426Z"
   },
   {
    "duration": 82,
    "start_time": "2022-08-20T20:14:19.573Z"
   },
   {
    "duration": 37,
    "start_time": "2022-08-20T20:28:09.099Z"
   },
   {
    "duration": 18,
    "start_time": "2022-08-20T20:28:44.610Z"
   },
   {
    "duration": 26,
    "start_time": "2022-08-20T20:32:48.962Z"
   },
   {
    "duration": 34,
    "start_time": "2022-08-20T20:36:12.654Z"
   },
   {
    "duration": 17,
    "start_time": "2022-08-20T20:36:13.993Z"
   },
   {
    "duration": 17,
    "start_time": "2022-08-20T20:41:44.620Z"
   },
   {
    "duration": 19,
    "start_time": "2022-08-20T20:42:59.744Z"
   },
   {
    "duration": 18,
    "start_time": "2022-08-20T21:02:58.915Z"
   },
   {
    "duration": 27,
    "start_time": "2022-08-20T21:08:36.221Z"
   },
   {
    "duration": 17,
    "start_time": "2022-08-20T21:09:14.230Z"
   },
   {
    "duration": 17,
    "start_time": "2022-08-20T21:15:58.975Z"
   },
   {
    "duration": 18,
    "start_time": "2022-08-20T21:16:04.684Z"
   },
   {
    "duration": 18,
    "start_time": "2022-08-20T21:21:38.587Z"
   },
   {
    "duration": 72,
    "start_time": "2022-08-20T21:49:11.281Z"
   },
   {
    "duration": 5,
    "start_time": "2022-08-20T21:49:11.354Z"
   },
   {
    "duration": 6,
    "start_time": "2022-08-20T21:49:11.361Z"
   },
   {
    "duration": 24,
    "start_time": "2022-08-20T21:49:11.369Z"
   },
   {
    "duration": 18,
    "start_time": "2022-08-20T21:49:11.395Z"
   },
   {
    "duration": 8,
    "start_time": "2022-08-20T21:49:11.415Z"
   },
   {
    "duration": 59,
    "start_time": "2022-08-20T21:49:11.425Z"
   },
   {
    "duration": 30,
    "start_time": "2022-08-20T21:49:11.486Z"
   },
   {
    "duration": 60,
    "start_time": "2022-08-20T21:49:11.517Z"
   },
   {
    "duration": 5,
    "start_time": "2022-08-20T21:49:11.581Z"
   },
   {
    "duration": 21,
    "start_time": "2022-08-20T21:49:11.588Z"
   },
   {
    "duration": 68,
    "start_time": "2022-08-20T21:49:11.611Z"
   },
   {
    "duration": 6,
    "start_time": "2022-08-20T21:49:11.682Z"
   },
   {
    "duration": 30,
    "start_time": "2022-08-20T21:49:11.690Z"
   },
   {
    "duration": 46,
    "start_time": "2022-08-20T21:49:11.722Z"
   },
   {
    "duration": 11,
    "start_time": "2022-08-20T21:49:11.770Z"
   },
   {
    "duration": 9,
    "start_time": "2022-08-20T21:49:11.783Z"
   },
   {
    "duration": 9,
    "start_time": "2022-08-20T21:49:11.794Z"
   },
   {
    "duration": 30,
    "start_time": "2022-08-20T21:49:11.805Z"
   },
   {
    "duration": 34,
    "start_time": "2022-08-20T21:49:11.837Z"
   },
   {
    "duration": 6,
    "start_time": "2022-08-20T21:49:11.874Z"
   },
   {
    "duration": 8,
    "start_time": "2022-08-20T21:49:11.882Z"
   },
   {
    "duration": 6,
    "start_time": "2022-08-20T21:49:11.893Z"
   },
   {
    "duration": 24,
    "start_time": "2022-08-20T21:49:11.900Z"
   },
   {
    "duration": 7,
    "start_time": "2022-08-20T21:49:11.968Z"
   },
   {
    "duration": 8,
    "start_time": "2022-08-20T21:49:11.977Z"
   },
   {
    "duration": 5,
    "start_time": "2022-08-20T21:49:11.989Z"
   },
   {
    "duration": 8,
    "start_time": "2022-08-20T21:49:11.996Z"
   },
   {
    "duration": 15,
    "start_time": "2022-08-20T21:49:12.006Z"
   },
   {
    "duration": 54,
    "start_time": "2022-08-20T21:49:12.022Z"
   },
   {
    "duration": 6,
    "start_time": "2022-08-20T21:49:12.078Z"
   },
   {
    "duration": 34,
    "start_time": "2022-08-20T21:49:12.086Z"
   },
   {
    "duration": 18,
    "start_time": "2022-08-20T21:49:12.122Z"
   },
   {
    "duration": 48,
    "start_time": "2022-08-20T21:49:12.141Z"
   },
   {
    "duration": 5,
    "start_time": "2022-08-20T21:49:12.191Z"
   },
   {
    "duration": 12,
    "start_time": "2022-08-20T21:49:12.198Z"
   },
   {
    "duration": 205,
    "start_time": "2022-08-20T21:49:12.213Z"
   },
   {
    "duration": 5,
    "start_time": "2022-08-20T21:49:12.420Z"
   },
   {
    "duration": 11,
    "start_time": "2022-08-20T21:49:12.426Z"
   },
   {
    "duration": 29,
    "start_time": "2022-08-20T21:49:12.439Z"
   },
   {
    "duration": 16,
    "start_time": "2022-08-20T21:49:12.470Z"
   },
   {
    "duration": 17,
    "start_time": "2022-08-20T21:49:12.488Z"
   },
   {
    "duration": 24,
    "start_time": "2022-08-20T21:49:12.507Z"
   },
   {
    "duration": 58,
    "start_time": "2022-08-20T21:49:12.533Z"
   },
   {
    "duration": 32,
    "start_time": "2022-08-20T21:49:12.594Z"
   },
   {
    "duration": 40,
    "start_time": "2022-08-20T21:49:12.628Z"
   },
   {
    "duration": 6,
    "start_time": "2022-08-20T21:49:12.670Z"
   },
   {
    "duration": 578,
    "start_time": "2022-08-20T21:49:12.677Z"
   },
   {
    "duration": 16,
    "start_time": "2022-08-20T21:49:13.257Z"
   },
   {
    "duration": 8,
    "start_time": "2022-08-20T21:49:13.275Z"
   },
   {
    "duration": 10,
    "start_time": "2022-08-20T21:49:13.284Z"
   },
   {
    "duration": 12,
    "start_time": "2022-08-20T21:49:13.295Z"
   },
   {
    "duration": 7,
    "start_time": "2022-08-20T21:49:13.308Z"
   },
   {
    "duration": 598,
    "start_time": "2022-08-20T21:49:13.317Z"
   },
   {
    "duration": 9,
    "start_time": "2022-08-20T21:49:13.917Z"
   },
   {
    "duration": 11,
    "start_time": "2022-08-20T21:49:13.927Z"
   },
   {
    "duration": 34,
    "start_time": "2022-08-20T21:49:13.940Z"
   },
   {
    "duration": 10,
    "start_time": "2022-08-20T21:49:13.976Z"
   },
   {
    "duration": 22,
    "start_time": "2022-08-20T21:49:13.987Z"
   },
   {
    "duration": 35,
    "start_time": "2022-08-20T21:49:14.011Z"
   },
   {
    "duration": 24,
    "start_time": "2022-08-20T21:49:14.051Z"
   },
   {
    "duration": 218,
    "start_time": "2022-08-20T21:49:14.077Z"
   },
   {
    "duration": 6,
    "start_time": "2022-08-20T21:49:14.297Z"
   },
   {
    "duration": 214,
    "start_time": "2022-08-20T21:49:14.305Z"
   },
   {
    "duration": 9,
    "start_time": "2022-08-20T21:49:14.521Z"
   },
   {
    "duration": 34,
    "start_time": "2022-08-20T21:49:14.532Z"
   },
   {
    "duration": 20,
    "start_time": "2022-08-20T21:49:14.567Z"
   },
   {
    "duration": 14,
    "start_time": "2022-08-20T21:49:14.589Z"
   },
   {
    "duration": 35,
    "start_time": "2022-08-20T21:49:14.605Z"
   },
   {
    "duration": 41,
    "start_time": "2022-08-20T21:49:14.642Z"
   },
   {
    "duration": 26,
    "start_time": "2022-08-20T21:49:14.686Z"
   },
   {
    "duration": 16,
    "start_time": "2022-08-20T21:49:14.714Z"
   },
   {
    "duration": 37,
    "start_time": "2022-08-20T21:49:14.732Z"
   },
   {
    "duration": 20,
    "start_time": "2022-08-20T21:49:14.771Z"
   },
   {
    "duration": 15,
    "start_time": "2022-08-20T21:49:14.793Z"
   },
   {
    "duration": 197,
    "start_time": "2022-08-20T21:49:14.810Z"
   },
   {
    "duration": 15,
    "start_time": "2022-08-20T21:49:15.009Z"
   },
   {
    "duration": 47,
    "start_time": "2022-08-20T21:49:15.026Z"
   },
   {
    "duration": 72,
    "start_time": "2022-08-20T21:49:15.075Z"
   },
   {
    "duration": 0,
    "start_time": "2022-08-20T21:49:15.149Z"
   },
   {
    "duration": 0,
    "start_time": "2022-08-20T21:49:15.150Z"
   },
   {
    "duration": 0,
    "start_time": "2022-08-20T21:49:15.152Z"
   },
   {
    "duration": 0,
    "start_time": "2022-08-20T21:49:15.154Z"
   },
   {
    "duration": 0,
    "start_time": "2022-08-20T21:49:15.155Z"
   },
   {
    "duration": 17,
    "start_time": "2022-08-20T21:49:15.258Z"
   },
   {
    "duration": 18,
    "start_time": "2022-08-20T21:49:15.466Z"
   },
   {
    "duration": 530,
    "start_time": "2022-08-23T08:32:55.698Z"
   },
   {
    "duration": 4,
    "start_time": "2022-08-23T08:32:56.229Z"
   },
   {
    "duration": 22,
    "start_time": "2022-08-23T08:32:56.234Z"
   },
   {
    "duration": 24,
    "start_time": "2022-08-23T08:32:56.258Z"
   },
   {
    "duration": 17,
    "start_time": "2022-08-23T08:32:56.284Z"
   },
   {
    "duration": 7,
    "start_time": "2022-08-23T08:32:56.303Z"
   },
   {
    "duration": 48,
    "start_time": "2022-08-23T08:32:56.311Z"
   },
   {
    "duration": 22,
    "start_time": "2022-08-23T08:32:56.361Z"
   },
   {
    "duration": 22,
    "start_time": "2022-08-23T08:32:56.385Z"
   },
   {
    "duration": 4,
    "start_time": "2022-08-23T08:32:56.409Z"
   },
   {
    "duration": 45,
    "start_time": "2022-08-23T08:32:56.414Z"
   },
   {
    "duration": 25,
    "start_time": "2022-08-23T08:32:56.460Z"
   },
   {
    "duration": 4,
    "start_time": "2022-08-23T08:32:56.486Z"
   },
   {
    "duration": 37,
    "start_time": "2022-08-23T08:32:56.492Z"
   },
   {
    "duration": 4,
    "start_time": "2022-08-23T08:32:56.531Z"
   },
   {
    "duration": 30,
    "start_time": "2022-08-23T08:32:56.536Z"
   },
   {
    "duration": 14,
    "start_time": "2022-08-23T08:32:56.568Z"
   },
   {
    "duration": 6,
    "start_time": "2022-08-23T08:32:56.584Z"
   },
   {
    "duration": 20,
    "start_time": "2022-08-23T08:32:56.591Z"
   },
   {
    "duration": 4,
    "start_time": "2022-08-23T08:32:56.612Z"
   },
   {
    "duration": 17,
    "start_time": "2022-08-23T08:32:56.617Z"
   },
   {
    "duration": 14,
    "start_time": "2022-08-23T08:32:56.635Z"
   },
   {
    "duration": 14,
    "start_time": "2022-08-23T08:32:56.650Z"
   },
   {
    "duration": 22,
    "start_time": "2022-08-23T08:32:56.665Z"
   },
   {
    "duration": 6,
    "start_time": "2022-08-23T08:32:56.688Z"
   },
   {
    "duration": 12,
    "start_time": "2022-08-23T08:32:56.695Z"
   },
   {
    "duration": 7,
    "start_time": "2022-08-23T08:32:56.708Z"
   },
   {
    "duration": 10,
    "start_time": "2022-08-23T08:32:56.719Z"
   },
   {
    "duration": 15,
    "start_time": "2022-08-23T08:32:56.730Z"
   },
   {
    "duration": 18,
    "start_time": "2022-08-23T08:32:56.747Z"
   },
   {
    "duration": 7,
    "start_time": "2022-08-23T08:32:56.766Z"
   },
   {
    "duration": 34,
    "start_time": "2022-08-23T08:32:56.774Z"
   },
   {
    "duration": 16,
    "start_time": "2022-08-23T08:32:56.809Z"
   },
   {
    "duration": 36,
    "start_time": "2022-08-23T08:32:56.826Z"
   },
   {
    "duration": 3,
    "start_time": "2022-08-23T08:32:56.863Z"
   },
   {
    "duration": 6,
    "start_time": "2022-08-23T08:32:56.868Z"
   },
   {
    "duration": 149,
    "start_time": "2022-08-23T08:32:56.875Z"
   },
   {
    "duration": 4,
    "start_time": "2022-08-23T08:32:57.026Z"
   },
   {
    "duration": 9,
    "start_time": "2022-08-23T08:32:57.031Z"
   },
   {
    "duration": 30,
    "start_time": "2022-08-23T08:32:57.041Z"
   },
   {
    "duration": 20,
    "start_time": "2022-08-23T08:32:57.073Z"
   },
   {
    "duration": 18,
    "start_time": "2022-08-23T08:32:57.094Z"
   },
   {
    "duration": 31,
    "start_time": "2022-08-23T08:32:57.114Z"
   },
   {
    "duration": 21,
    "start_time": "2022-08-23T08:32:57.147Z"
   },
   {
    "duration": 25,
    "start_time": "2022-08-23T08:32:57.170Z"
   },
   {
    "duration": 9,
    "start_time": "2022-08-23T08:32:57.196Z"
   },
   {
    "duration": 8,
    "start_time": "2022-08-23T08:32:57.207Z"
   },
   {
    "duration": 503,
    "start_time": "2022-08-23T08:32:57.217Z"
   },
   {
    "duration": 12,
    "start_time": "2022-08-23T08:32:57.722Z"
   },
   {
    "duration": 26,
    "start_time": "2022-08-23T08:32:57.736Z"
   },
   {
    "duration": 17,
    "start_time": "2022-08-23T08:32:57.764Z"
   },
   {
    "duration": 38,
    "start_time": "2022-08-23T08:32:57.782Z"
   },
   {
    "duration": 13,
    "start_time": "2022-08-23T08:32:57.821Z"
   },
   {
    "duration": 500,
    "start_time": "2022-08-23T08:32:57.835Z"
   },
   {
    "duration": 8,
    "start_time": "2022-08-23T08:32:58.336Z"
   },
   {
    "duration": 17,
    "start_time": "2022-08-23T08:32:58.346Z"
   },
   {
    "duration": 14,
    "start_time": "2022-08-23T08:32:58.365Z"
   },
   {
    "duration": 12,
    "start_time": "2022-08-23T08:32:58.381Z"
   },
   {
    "duration": 28,
    "start_time": "2022-08-23T08:32:58.394Z"
   },
   {
    "duration": 12,
    "start_time": "2022-08-23T08:32:58.424Z"
   },
   {
    "duration": 8,
    "start_time": "2022-08-23T08:32:58.437Z"
   },
   {
    "duration": 150,
    "start_time": "2022-08-23T08:32:58.446Z"
   },
   {
    "duration": 5,
    "start_time": "2022-08-23T08:32:58.598Z"
   },
   {
    "duration": 163,
    "start_time": "2022-08-23T08:32:58.604Z"
   },
   {
    "duration": 7,
    "start_time": "2022-08-23T08:32:58.769Z"
   },
   {
    "duration": 16,
    "start_time": "2022-08-23T08:32:58.778Z"
   },
   {
    "duration": 18,
    "start_time": "2022-08-23T08:32:58.796Z"
   },
   {
    "duration": 16,
    "start_time": "2022-08-23T08:32:58.815Z"
   },
   {
    "duration": 9,
    "start_time": "2022-08-23T08:32:58.832Z"
   },
   {
    "duration": 23,
    "start_time": "2022-08-23T08:32:58.843Z"
   },
   {
    "duration": 15,
    "start_time": "2022-08-23T08:32:58.868Z"
   },
   {
    "duration": 13,
    "start_time": "2022-08-23T08:32:58.884Z"
   },
   {
    "duration": 12,
    "start_time": "2022-08-23T08:32:58.898Z"
   },
   {
    "duration": 20,
    "start_time": "2022-08-23T08:32:58.912Z"
   },
   {
    "duration": 35,
    "start_time": "2022-08-23T08:32:58.933Z"
   },
   {
    "duration": 149,
    "start_time": "2022-08-23T08:32:58.969Z"
   },
   {
    "duration": 10,
    "start_time": "2022-08-23T08:32:59.120Z"
   },
   {
    "duration": 34,
    "start_time": "2022-08-23T08:32:59.132Z"
   },
   {
    "duration": 64,
    "start_time": "2022-08-23T08:32:59.168Z"
   },
   {
    "duration": 0,
    "start_time": "2022-08-23T08:32:59.234Z"
   },
   {
    "duration": 0,
    "start_time": "2022-08-23T08:32:59.235Z"
   },
   {
    "duration": 0,
    "start_time": "2022-08-23T08:32:59.236Z"
   },
   {
    "duration": 0,
    "start_time": "2022-08-23T08:32:59.237Z"
   },
   {
    "duration": 0,
    "start_time": "2022-08-23T08:32:59.238Z"
   },
   {
    "duration": 0,
    "start_time": "2022-08-23T08:32:59.239Z"
   },
   {
    "duration": 0,
    "start_time": "2022-08-23T08:32:59.240Z"
   },
   {
    "duration": 662,
    "start_time": "2022-08-23T16:17:21.209Z"
   },
   {
    "duration": 3,
    "start_time": "2022-08-23T16:17:21.873Z"
   },
   {
    "duration": 9,
    "start_time": "2022-08-23T16:17:21.878Z"
   },
   {
    "duration": 25,
    "start_time": "2022-08-23T16:17:21.889Z"
   },
   {
    "duration": 20,
    "start_time": "2022-08-23T16:17:21.916Z"
   },
   {
    "duration": 7,
    "start_time": "2022-08-23T16:17:21.938Z"
   },
   {
    "duration": 46,
    "start_time": "2022-08-23T16:17:21.947Z"
   },
   {
    "duration": 30,
    "start_time": "2022-08-23T16:17:21.994Z"
   },
   {
    "duration": 50,
    "start_time": "2022-08-23T16:17:22.026Z"
   },
   {
    "duration": 4,
    "start_time": "2022-08-23T16:17:22.079Z"
   },
   {
    "duration": 20,
    "start_time": "2022-08-23T16:17:22.084Z"
   },
   {
    "duration": 38,
    "start_time": "2022-08-23T16:17:22.106Z"
   },
   {
    "duration": 7,
    "start_time": "2022-08-23T16:17:22.168Z"
   },
   {
    "duration": 61,
    "start_time": "2022-08-23T16:17:22.177Z"
   },
   {
    "duration": 14,
    "start_time": "2022-08-23T16:17:22.240Z"
   },
   {
    "duration": 11,
    "start_time": "2022-08-23T16:17:22.255Z"
   },
   {
    "duration": 9,
    "start_time": "2022-08-23T16:17:22.267Z"
   },
   {
    "duration": 6,
    "start_time": "2022-08-23T16:17:22.277Z"
   },
   {
    "duration": 23,
    "start_time": "2022-08-23T16:17:22.285Z"
   },
   {
    "duration": 5,
    "start_time": "2022-08-23T16:17:22.309Z"
   },
   {
    "duration": 8,
    "start_time": "2022-08-23T16:17:22.315Z"
   },
   {
    "duration": 16,
    "start_time": "2022-08-23T16:17:22.324Z"
   },
   {
    "duration": 27,
    "start_time": "2022-08-23T16:17:22.341Z"
   },
   {
    "duration": 24,
    "start_time": "2022-08-23T16:17:22.370Z"
   },
   {
    "duration": 10,
    "start_time": "2022-08-23T16:17:22.396Z"
   },
   {
    "duration": 11,
    "start_time": "2022-08-23T16:17:22.408Z"
   },
   {
    "duration": 5,
    "start_time": "2022-08-23T16:17:22.420Z"
   },
   {
    "duration": 5,
    "start_time": "2022-08-23T16:17:22.430Z"
   },
   {
    "duration": 40,
    "start_time": "2022-08-23T16:17:22.437Z"
   },
   {
    "duration": 13,
    "start_time": "2022-08-23T16:17:22.479Z"
   },
   {
    "duration": 6,
    "start_time": "2022-08-23T16:17:22.493Z"
   },
   {
    "duration": 41,
    "start_time": "2022-08-23T16:17:22.500Z"
   },
   {
    "duration": 37,
    "start_time": "2022-08-23T16:17:22.542Z"
   },
   {
    "duration": 21,
    "start_time": "2022-08-23T16:17:22.581Z"
   },
   {
    "duration": 3,
    "start_time": "2022-08-23T16:17:22.605Z"
   },
   {
    "duration": 16,
    "start_time": "2022-08-23T16:17:22.610Z"
   },
   {
    "duration": 172,
    "start_time": "2022-08-23T16:17:22.628Z"
   },
   {
    "duration": 4,
    "start_time": "2022-08-23T16:17:22.802Z"
   },
   {
    "duration": 10,
    "start_time": "2022-08-23T16:17:22.808Z"
   },
   {
    "duration": 27,
    "start_time": "2022-08-23T16:17:22.819Z"
   },
   {
    "duration": 22,
    "start_time": "2022-08-23T16:17:22.848Z"
   },
   {
    "duration": 15,
    "start_time": "2022-08-23T16:17:22.871Z"
   },
   {
    "duration": 27,
    "start_time": "2022-08-23T16:17:22.888Z"
   },
   {
    "duration": 23,
    "start_time": "2022-08-23T16:17:22.917Z"
   },
   {
    "duration": 55,
    "start_time": "2022-08-23T16:17:22.942Z"
   },
   {
    "duration": 10,
    "start_time": "2022-08-23T16:17:22.999Z"
   },
   {
    "duration": 7,
    "start_time": "2022-08-23T16:17:23.011Z"
   },
   {
    "duration": 588,
    "start_time": "2022-08-23T16:17:23.019Z"
   },
   {
    "duration": 13,
    "start_time": "2022-08-23T16:17:23.609Z"
   },
   {
    "duration": 31,
    "start_time": "2022-08-23T16:17:23.624Z"
   },
   {
    "duration": 19,
    "start_time": "2022-08-23T16:17:23.657Z"
   },
   {
    "duration": 52,
    "start_time": "2022-08-23T16:17:23.678Z"
   },
   {
    "duration": 48,
    "start_time": "2022-08-23T16:17:23.732Z"
   },
   {
    "duration": 585,
    "start_time": "2022-08-23T16:17:23.782Z"
   },
   {
    "duration": 10,
    "start_time": "2022-08-23T16:17:24.369Z"
   },
   {
    "duration": 36,
    "start_time": "2022-08-23T16:17:24.380Z"
   },
   {
    "duration": 17,
    "start_time": "2022-08-23T16:17:24.418Z"
   },
   {
    "duration": 4,
    "start_time": "2022-08-23T16:17:24.437Z"
   },
   {
    "duration": 40,
    "start_time": "2022-08-23T16:17:24.443Z"
   },
   {
    "duration": 14,
    "start_time": "2022-08-23T16:17:24.485Z"
   },
   {
    "duration": 10,
    "start_time": "2022-08-23T16:17:24.500Z"
   },
   {
    "duration": 174,
    "start_time": "2022-08-23T16:17:24.512Z"
   },
   {
    "duration": 7,
    "start_time": "2022-08-23T16:17:24.688Z"
   },
   {
    "duration": 180,
    "start_time": "2022-08-23T16:17:24.697Z"
   },
   {
    "duration": 9,
    "start_time": "2022-08-23T16:17:24.879Z"
   },
   {
    "duration": 15,
    "start_time": "2022-08-23T16:17:24.890Z"
   },
   {
    "duration": 14,
    "start_time": "2022-08-23T16:17:24.907Z"
   },
   {
    "duration": 14,
    "start_time": "2022-08-23T16:17:24.923Z"
   },
   {
    "duration": 36,
    "start_time": "2022-08-23T16:17:24.939Z"
   },
   {
    "duration": 22,
    "start_time": "2022-08-23T16:17:24.976Z"
   },
   {
    "duration": 17,
    "start_time": "2022-08-23T16:17:25.000Z"
   },
   {
    "duration": 48,
    "start_time": "2022-08-23T16:17:25.019Z"
   },
   {
    "duration": 14,
    "start_time": "2022-08-23T16:17:25.069Z"
   },
   {
    "duration": 26,
    "start_time": "2022-08-23T16:17:25.085Z"
   },
   {
    "duration": 20,
    "start_time": "2022-08-23T16:17:25.112Z"
   },
   {
    "duration": 172,
    "start_time": "2022-08-23T16:17:25.134Z"
   },
   {
    "duration": 13,
    "start_time": "2022-08-23T16:17:25.308Z"
   },
   {
    "duration": 21,
    "start_time": "2022-08-23T16:17:25.323Z"
   },
   {
    "duration": 112,
    "start_time": "2022-08-23T16:17:25.346Z"
   },
   {
    "duration": 0,
    "start_time": "2022-08-23T16:17:25.460Z"
   },
   {
    "duration": 0,
    "start_time": "2022-08-23T16:17:25.461Z"
   },
   {
    "duration": 0,
    "start_time": "2022-08-23T16:17:25.462Z"
   },
   {
    "duration": 0,
    "start_time": "2022-08-23T16:17:25.463Z"
   },
   {
    "duration": 0,
    "start_time": "2022-08-23T16:17:25.464Z"
   },
   {
    "duration": 0,
    "start_time": "2022-08-23T16:17:25.465Z"
   },
   {
    "duration": 0,
    "start_time": "2022-08-23T16:17:25.466Z"
   },
   {
    "duration": 14,
    "start_time": "2022-08-23T16:17:38.104Z"
   },
   {
    "duration": 13,
    "start_time": "2022-08-23T16:17:38.416Z"
   },
   {
    "duration": 13,
    "start_time": "2022-08-23T16:17:39.547Z"
   },
   {
    "duration": 12,
    "start_time": "2022-08-23T16:17:39.987Z"
   },
   {
    "duration": 19,
    "start_time": "2022-08-23T16:17:40.816Z"
   },
   {
    "duration": 18,
    "start_time": "2022-08-23T16:17:41.181Z"
   },
   {
    "duration": 21,
    "start_time": "2022-08-23T16:17:41.587Z"
   }
  ],
  "kernelspec": {
   "display_name": "Python 3 (ipykernel)",
   "language": "python",
   "name": "python3"
  },
  "language_info": {
   "codemirror_mode": {
    "name": "ipython",
    "version": 3
   },
   "file_extension": ".py",
   "mimetype": "text/x-python",
   "name": "python",
   "nbconvert_exporter": "python",
   "pygments_lexer": "ipython3",
   "version": "3.9.5"
  },
  "toc": {
   "base_numbering": 1,
   "nav_menu": {},
   "number_sections": true,
   "sideBar": true,
   "skip_h1_title": true,
   "title_cell": "Table of Contents",
   "title_sidebar": "Contents",
   "toc_cell": false,
   "toc_position": {},
   "toc_section_display": true,
   "toc_window_display": false
  }
 },
 "nbformat": 4,
 "nbformat_minor": 2
}
