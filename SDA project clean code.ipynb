{
 "cells": [
  {
   "cell_type": "markdown",
   "metadata": {},
   "source": [
    "## The Goal of this project\n",
    "\n",
    "The goal of this report is to search the data we have inorder to get a possible answere for the Marketing department, on which of the two givven plans : 'Surf' and 'Ultimate' brings mor revanue. The purpose of this report will giv the marketing personal another tool to decide on where to invest more on edvertisment."
   ]
  },
  {
   "cell_type": "markdown",
   "metadata": {},
   "source": [
    "## The Hypotheses\n",
    "Since we were asked to check which program made the more revanue , we should check the two populations that are in both programs, for the differance in the mean of the revenue of these two distinct groups."
   ]
  },
  {
   "cell_type": "markdown",
   "metadata": {},
   "source": [
    "## Import the relevent libreries\n",
    "The libreries that we will need are bothe statistical and mathematical"
   ]
  },
  {
   "cell_type": "code",
   "execution_count": 1,
   "metadata": {},
   "outputs": [],
   "source": [
    "import pandas as pd # this will have the tools of handaling data sets\n",
    "import numpy as np  # this we will need to handal numpy series in pandas enviroment\n",
    "from matplotlib import pyplot as plt # this we will need for plot display\n",
    "from math import factorial # this we will need for distribution and probability of large data\n",
    "from scipy.stats import norm # this we will need for sample data analysys\n",
    "from scipy import stats   \n",
    "from IPython.display import display_html #handaling display html style\n",
    "from itertools import chain,cycle #display tools\n",
    "import seaborn as sns"
   ]
  },
  {
   "cell_type": "code",
   "execution_count": 2,
   "metadata": {},
   "outputs": [],
   "source": [
    "sns.set_theme(style=\"whitegrid\") # setting a grid to boxplot"
   ]
  },
  {
   "cell_type": "code",
   "execution_count": 3,
   "metadata": {},
   "outputs": [],
   "source": [
    "##New - ver 2 ##\n",
    "pd.set_option ('display.max_columns', None)"
   ]
  },
  {
   "cell_type": "code",
   "execution_count": 4,
   "metadata": {},
   "outputs": [],
   "source": [
    "#display class in html format.\n",
    "\n",
    "class display(object):\n",
    "    \"\"\"Display HTML representation of multiple objects\"\"\"\n",
    "    template = \"\"\"<div style=\"float: left; padding: 10px;\">\n",
    "    <p style='font-family:\"Courier New\", Courier, monospace'>{0}</p>{1}\n",
    "    </div>\"\"\"\n",
    "    def __init__(self, *args):\n",
    "        self.args = args\n",
    "        \n",
    "    def _repr_html_(self):\n",
    "        return '\\n'.join(self.template.format(a, eval(a)._repr_html_())\n",
    "                         for a in self.args)\n",
    "    \n",
    "    def __repr__(self):\n",
    "        return '\\n\\n'.join(a + '\\n' + repr(eval(a))\n",
    "                           for a in self.args)\n",
    "    \n",
    "\n",
    "def display_side_by_side(*args,titles=cycle([''])):\n",
    "    html_str=''\n",
    "    for df,title in zip(args, chain(titles,cycle(['</br>'])) ):\n",
    "        html_str+='<th style=\"text-align:center\"><td style=\"vertical-align:top\">'\n",
    "        html_str+=f'<h2 style=\"text-align: center;\">{title}</h2>'\n",
    "        html_str+=df.to_html().replace('table','table style=\"display:inline\"')\n",
    "        html_str+='</td></th>'\n",
    "    display_html(html_str,raw=True)"
   ]
  },
  {
   "cell_type": "markdown",
   "metadata": {},
   "source": [
    "## Uploading the data.\n",
    "\n",
    "The Data that was passed to us was divided into 5 diffrent data sets.\n",
    "Our first goal is to look at the data and decide the right way we should merge the data so it will make it easier on us analaying the data .\n",
    "First let us upload the data sets."
   ]
  },
  {
   "cell_type": "code",
   "execution_count": 5,
   "metadata": {},
   "outputs": [],
   "source": [
    "#uploading the data sets\n",
    "megaline_calls_ds    = pd.read_csv('/datasets/megaline_calls.csv')\n",
    "megaline_internet_ds = pd.read_csv('/datasets/megaline_internet.csv')\n",
    "megaline_messages_ds = pd.read_csv('/datasets/megaline_messages.csv')\n",
    "megaline_plans_ds    = pd.read_csv('/datasets/megaline_plans.csv')\n",
    "megaline_users_ds    = pd.read_csv('/datasets/megaline_users.csv')\n"
   ]
  },
  {
   "cell_type": "markdown",
   "metadata": {},
   "source": [
    "**Let us see the data each contains and see the filds that are incomone with each dataset**"
   ]
  },
  {
   "cell_type": "code",
   "execution_count": 6,
   "metadata": {},
   "outputs": [
    {
     "name": "stdout",
     "output_type": "stream",
     "text": [
      "<class 'pandas.core.frame.DataFrame'>\n",
      "RangeIndex: 137735 entries, 0 to 137734\n",
      "Data columns (total 4 columns):\n",
      " #   Column     Non-Null Count   Dtype  \n",
      "---  ------     --------------   -----  \n",
      " 0   id         137735 non-null  object \n",
      " 1   user_id    137735 non-null  int64  \n",
      " 2   call_date  137735 non-null  object \n",
      " 3   duration   137735 non-null  float64\n",
      "dtypes: float64(1), int64(1), object(2)\n",
      "memory usage: 4.2+ MB\n",
      "None\n"
     ]
    },
    {
     "data": {
      "text/html": [
       "<div>\n",
       "<style scoped>\n",
       "    .dataframe tbody tr th:only-of-type {\n",
       "        vertical-align: middle;\n",
       "    }\n",
       "\n",
       "    .dataframe tbody tr th {\n",
       "        vertical-align: top;\n",
       "    }\n",
       "\n",
       "    .dataframe thead th {\n",
       "        text-align: right;\n",
       "    }\n",
       "</style>\n",
       "<table border=\"1\" class=\"dataframe\">\n",
       "  <thead>\n",
       "    <tr style=\"text-align: right;\">\n",
       "      <th></th>\n",
       "      <th>id</th>\n",
       "      <th>user_id</th>\n",
       "      <th>call_date</th>\n",
       "      <th>duration</th>\n",
       "    </tr>\n",
       "  </thead>\n",
       "  <tbody>\n",
       "    <tr>\n",
       "      <th>0</th>\n",
       "      <td>1000_93</td>\n",
       "      <td>1000</td>\n",
       "      <td>2018-12-27</td>\n",
       "      <td>8.52</td>\n",
       "    </tr>\n",
       "    <tr>\n",
       "      <th>1</th>\n",
       "      <td>1000_145</td>\n",
       "      <td>1000</td>\n",
       "      <td>2018-12-27</td>\n",
       "      <td>13.66</td>\n",
       "    </tr>\n",
       "    <tr>\n",
       "      <th>2</th>\n",
       "      <td>1000_247</td>\n",
       "      <td>1000</td>\n",
       "      <td>2018-12-27</td>\n",
       "      <td>14.48</td>\n",
       "    </tr>\n",
       "    <tr>\n",
       "      <th>3</th>\n",
       "      <td>1000_309</td>\n",
       "      <td>1000</td>\n",
       "      <td>2018-12-28</td>\n",
       "      <td>5.76</td>\n",
       "    </tr>\n",
       "    <tr>\n",
       "      <th>4</th>\n",
       "      <td>1000_380</td>\n",
       "      <td>1000</td>\n",
       "      <td>2018-12-30</td>\n",
       "      <td>4.22</td>\n",
       "    </tr>\n",
       "  </tbody>\n",
       "</table>\n",
       "</div>"
      ],
      "text/plain": [
       "         id  user_id   call_date  duration\n",
       "0   1000_93     1000  2018-12-27      8.52\n",
       "1  1000_145     1000  2018-12-27     13.66\n",
       "2  1000_247     1000  2018-12-27     14.48\n",
       "3  1000_309     1000  2018-12-28      5.76\n",
       "4  1000_380     1000  2018-12-30      4.22"
      ]
     },
     "execution_count": 6,
     "metadata": {},
     "output_type": "execute_result"
    }
   ],
   "source": [
    "#print the head of the megaline_calls_ds data set and its info\n",
    "print(megaline_calls_ds.info())\n",
    "megaline_calls_ds.head()"
   ]
  },
  {
   "cell_type": "code",
   "execution_count": 7,
   "metadata": {},
   "outputs": [
    {
     "name": "stdout",
     "output_type": "stream",
     "text": [
      "<class 'pandas.core.frame.DataFrame'>\n",
      "RangeIndex: 76051 entries, 0 to 76050\n",
      "Data columns (total 3 columns):\n",
      " #   Column        Non-Null Count  Dtype \n",
      "---  ------        --------------  ----- \n",
      " 0   id            76051 non-null  object\n",
      " 1   user_id       76051 non-null  int64 \n",
      " 2   message_date  76051 non-null  object\n",
      "dtypes: int64(1), object(2)\n",
      "memory usage: 1.7+ MB\n",
      "None\n"
     ]
    },
    {
     "data": {
      "text/html": [
       "<div>\n",
       "<style scoped>\n",
       "    .dataframe tbody tr th:only-of-type {\n",
       "        vertical-align: middle;\n",
       "    }\n",
       "\n",
       "    .dataframe tbody tr th {\n",
       "        vertical-align: top;\n",
       "    }\n",
       "\n",
       "    .dataframe thead th {\n",
       "        text-align: right;\n",
       "    }\n",
       "</style>\n",
       "<table border=\"1\" class=\"dataframe\">\n",
       "  <thead>\n",
       "    <tr style=\"text-align: right;\">\n",
       "      <th></th>\n",
       "      <th>id</th>\n",
       "      <th>user_id</th>\n",
       "      <th>message_date</th>\n",
       "    </tr>\n",
       "  </thead>\n",
       "  <tbody>\n",
       "    <tr>\n",
       "      <th>0</th>\n",
       "      <td>1000_125</td>\n",
       "      <td>1000</td>\n",
       "      <td>2018-12-27</td>\n",
       "    </tr>\n",
       "    <tr>\n",
       "      <th>1</th>\n",
       "      <td>1000_160</td>\n",
       "      <td>1000</td>\n",
       "      <td>2018-12-31</td>\n",
       "    </tr>\n",
       "    <tr>\n",
       "      <th>2</th>\n",
       "      <td>1000_223</td>\n",
       "      <td>1000</td>\n",
       "      <td>2018-12-31</td>\n",
       "    </tr>\n",
       "    <tr>\n",
       "      <th>3</th>\n",
       "      <td>1000_251</td>\n",
       "      <td>1000</td>\n",
       "      <td>2018-12-27</td>\n",
       "    </tr>\n",
       "    <tr>\n",
       "      <th>4</th>\n",
       "      <td>1000_255</td>\n",
       "      <td>1000</td>\n",
       "      <td>2018-12-26</td>\n",
       "    </tr>\n",
       "  </tbody>\n",
       "</table>\n",
       "</div>"
      ],
      "text/plain": [
       "         id  user_id message_date\n",
       "0  1000_125     1000   2018-12-27\n",
       "1  1000_160     1000   2018-12-31\n",
       "2  1000_223     1000   2018-12-31\n",
       "3  1000_251     1000   2018-12-27\n",
       "4  1000_255     1000   2018-12-26"
      ]
     },
     "execution_count": 7,
     "metadata": {},
     "output_type": "execute_result"
    }
   ],
   "source": [
    "#print the head of the megaline_messages_ds data set and its info\n",
    "print(megaline_messages_ds.info())\n",
    "megaline_messages_ds.head()"
   ]
  },
  {
   "cell_type": "code",
   "execution_count": 8,
   "metadata": {},
   "outputs": [
    {
     "name": "stdout",
     "output_type": "stream",
     "text": [
      "<class 'pandas.core.frame.DataFrame'>\n",
      "RangeIndex: 104825 entries, 0 to 104824\n",
      "Data columns (total 4 columns):\n",
      " #   Column        Non-Null Count   Dtype  \n",
      "---  ------        --------------   -----  \n",
      " 0   id            104825 non-null  object \n",
      " 1   user_id       104825 non-null  int64  \n",
      " 2   session_date  104825 non-null  object \n",
      " 3   mb_used       104825 non-null  float64\n",
      "dtypes: float64(1), int64(1), object(2)\n",
      "memory usage: 3.2+ MB\n",
      "None\n"
     ]
    },
    {
     "data": {
      "text/html": [
       "<div>\n",
       "<style scoped>\n",
       "    .dataframe tbody tr th:only-of-type {\n",
       "        vertical-align: middle;\n",
       "    }\n",
       "\n",
       "    .dataframe tbody tr th {\n",
       "        vertical-align: top;\n",
       "    }\n",
       "\n",
       "    .dataframe thead th {\n",
       "        text-align: right;\n",
       "    }\n",
       "</style>\n",
       "<table border=\"1\" class=\"dataframe\">\n",
       "  <thead>\n",
       "    <tr style=\"text-align: right;\">\n",
       "      <th></th>\n",
       "      <th>id</th>\n",
       "      <th>user_id</th>\n",
       "      <th>session_date</th>\n",
       "      <th>mb_used</th>\n",
       "    </tr>\n",
       "  </thead>\n",
       "  <tbody>\n",
       "    <tr>\n",
       "      <th>0</th>\n",
       "      <td>1000_13</td>\n",
       "      <td>1000</td>\n",
       "      <td>2018-12-29</td>\n",
       "      <td>89.86</td>\n",
       "    </tr>\n",
       "    <tr>\n",
       "      <th>1</th>\n",
       "      <td>1000_204</td>\n",
       "      <td>1000</td>\n",
       "      <td>2018-12-31</td>\n",
       "      <td>0.00</td>\n",
       "    </tr>\n",
       "    <tr>\n",
       "      <th>2</th>\n",
       "      <td>1000_379</td>\n",
       "      <td>1000</td>\n",
       "      <td>2018-12-28</td>\n",
       "      <td>660.40</td>\n",
       "    </tr>\n",
       "    <tr>\n",
       "      <th>3</th>\n",
       "      <td>1000_413</td>\n",
       "      <td>1000</td>\n",
       "      <td>2018-12-26</td>\n",
       "      <td>270.99</td>\n",
       "    </tr>\n",
       "    <tr>\n",
       "      <th>4</th>\n",
       "      <td>1000_442</td>\n",
       "      <td>1000</td>\n",
       "      <td>2018-12-27</td>\n",
       "      <td>880.22</td>\n",
       "    </tr>\n",
       "  </tbody>\n",
       "</table>\n",
       "</div>"
      ],
      "text/plain": [
       "         id  user_id session_date  mb_used\n",
       "0   1000_13     1000   2018-12-29    89.86\n",
       "1  1000_204     1000   2018-12-31     0.00\n",
       "2  1000_379     1000   2018-12-28   660.40\n",
       "3  1000_413     1000   2018-12-26   270.99\n",
       "4  1000_442     1000   2018-12-27   880.22"
      ]
     },
     "execution_count": 8,
     "metadata": {},
     "output_type": "execute_result"
    }
   ],
   "source": [
    "#print the head of the megaline_internet_ds data set and its info\n",
    "print(megaline_internet_ds.info())\n",
    "megaline_internet_ds.head()\n"
   ]
  },
  {
   "cell_type": "markdown",
   "metadata": {},
   "source": [
    "**All the above datasets do not have missing values**"
   ]
  },
  {
   "cell_type": "code",
   "execution_count": 9,
   "metadata": {},
   "outputs": [
    {
     "name": "stdout",
     "output_type": "stream",
     "text": [
      "<class 'pandas.core.frame.DataFrame'>\n",
      "RangeIndex: 2 entries, 0 to 1\n",
      "Data columns (total 8 columns):\n",
      " #   Column                 Non-Null Count  Dtype  \n",
      "---  ------                 --------------  -----  \n",
      " 0   messages_included      2 non-null      int64  \n",
      " 1   mb_per_month_included  2 non-null      int64  \n",
      " 2   minutes_included       2 non-null      int64  \n",
      " 3   usd_monthly_pay        2 non-null      int64  \n",
      " 4   usd_per_gb             2 non-null      int64  \n",
      " 5   usd_per_message        2 non-null      float64\n",
      " 6   usd_per_minute         2 non-null      float64\n",
      " 7   plan_name              2 non-null      object \n",
      "dtypes: float64(2), int64(5), object(1)\n",
      "memory usage: 256.0+ bytes\n",
      "None\n"
     ]
    },
    {
     "data": {
      "text/html": [
       "<div>\n",
       "<style scoped>\n",
       "    .dataframe tbody tr th:only-of-type {\n",
       "        vertical-align: middle;\n",
       "    }\n",
       "\n",
       "    .dataframe tbody tr th {\n",
       "        vertical-align: top;\n",
       "    }\n",
       "\n",
       "    .dataframe thead th {\n",
       "        text-align: right;\n",
       "    }\n",
       "</style>\n",
       "<table border=\"1\" class=\"dataframe\">\n",
       "  <thead>\n",
       "    <tr style=\"text-align: right;\">\n",
       "      <th></th>\n",
       "      <th>messages_included</th>\n",
       "      <th>mb_per_month_included</th>\n",
       "      <th>minutes_included</th>\n",
       "      <th>usd_monthly_pay</th>\n",
       "      <th>usd_per_gb</th>\n",
       "      <th>usd_per_message</th>\n",
       "      <th>usd_per_minute</th>\n",
       "      <th>plan_name</th>\n",
       "    </tr>\n",
       "  </thead>\n",
       "  <tbody>\n",
       "    <tr>\n",
       "      <th>0</th>\n",
       "      <td>50</td>\n",
       "      <td>15360</td>\n",
       "      <td>500</td>\n",
       "      <td>20</td>\n",
       "      <td>10</td>\n",
       "      <td>0.03</td>\n",
       "      <td>0.03</td>\n",
       "      <td>surf</td>\n",
       "    </tr>\n",
       "    <tr>\n",
       "      <th>1</th>\n",
       "      <td>1000</td>\n",
       "      <td>30720</td>\n",
       "      <td>3000</td>\n",
       "      <td>70</td>\n",
       "      <td>7</td>\n",
       "      <td>0.01</td>\n",
       "      <td>0.01</td>\n",
       "      <td>ultimate</td>\n",
       "    </tr>\n",
       "  </tbody>\n",
       "</table>\n",
       "</div>"
      ],
      "text/plain": [
       "   messages_included  mb_per_month_included  minutes_included  \\\n",
       "0                 50                  15360               500   \n",
       "1               1000                  30720              3000   \n",
       "\n",
       "   usd_monthly_pay  usd_per_gb  usd_per_message  usd_per_minute plan_name  \n",
       "0               20          10             0.03            0.03      surf  \n",
       "1               70           7             0.01            0.01  ultimate  "
      ]
     },
     "execution_count": 9,
     "metadata": {},
     "output_type": "execute_result"
    }
   ],
   "source": [
    "#print the head of the megaline_plans_ds data set\n",
    "print(megaline_plans_ds.info())\n",
    "megaline_plans_ds.head()"
   ]
  },
  {
   "cell_type": "code",
   "execution_count": 10,
   "metadata": {
    "scrolled": true
   },
   "outputs": [
    {
     "name": "stdout",
     "output_type": "stream",
     "text": [
      "<class 'pandas.core.frame.DataFrame'>\n",
      "RangeIndex: 500 entries, 0 to 499\n",
      "Data columns (total 8 columns):\n",
      " #   Column      Non-Null Count  Dtype \n",
      "---  ------      --------------  ----- \n",
      " 0   user_id     500 non-null    int64 \n",
      " 1   first_name  500 non-null    object\n",
      " 2   last_name   500 non-null    object\n",
      " 3   age         500 non-null    int64 \n",
      " 4   city        500 non-null    object\n",
      " 5   reg_date    500 non-null    object\n",
      " 6   plan        500 non-null    object\n",
      " 7   churn_date  34 non-null     object\n",
      "dtypes: int64(2), object(6)\n",
      "memory usage: 31.4+ KB\n",
      "None\n"
     ]
    },
    {
     "data": {
      "text/html": [
       "<div>\n",
       "<style scoped>\n",
       "    .dataframe tbody tr th:only-of-type {\n",
       "        vertical-align: middle;\n",
       "    }\n",
       "\n",
       "    .dataframe tbody tr th {\n",
       "        vertical-align: top;\n",
       "    }\n",
       "\n",
       "    .dataframe thead th {\n",
       "        text-align: right;\n",
       "    }\n",
       "</style>\n",
       "<table border=\"1\" class=\"dataframe\">\n",
       "  <thead>\n",
       "    <tr style=\"text-align: right;\">\n",
       "      <th></th>\n",
       "      <th>user_id</th>\n",
       "      <th>first_name</th>\n",
       "      <th>last_name</th>\n",
       "      <th>age</th>\n",
       "      <th>city</th>\n",
       "      <th>reg_date</th>\n",
       "      <th>plan</th>\n",
       "      <th>churn_date</th>\n",
       "    </tr>\n",
       "  </thead>\n",
       "  <tbody>\n",
       "    <tr>\n",
       "      <th>0</th>\n",
       "      <td>1000</td>\n",
       "      <td>Anamaria</td>\n",
       "      <td>Bauer</td>\n",
       "      <td>45</td>\n",
       "      <td>Atlanta-Sandy Springs-Roswell, GA MSA</td>\n",
       "      <td>2018-12-24</td>\n",
       "      <td>ultimate</td>\n",
       "      <td>NaN</td>\n",
       "    </tr>\n",
       "    <tr>\n",
       "      <th>1</th>\n",
       "      <td>1001</td>\n",
       "      <td>Mickey</td>\n",
       "      <td>Wilkerson</td>\n",
       "      <td>28</td>\n",
       "      <td>Seattle-Tacoma-Bellevue, WA MSA</td>\n",
       "      <td>2018-08-13</td>\n",
       "      <td>surf</td>\n",
       "      <td>NaN</td>\n",
       "    </tr>\n",
       "    <tr>\n",
       "      <th>2</th>\n",
       "      <td>1002</td>\n",
       "      <td>Carlee</td>\n",
       "      <td>Hoffman</td>\n",
       "      <td>36</td>\n",
       "      <td>Las Vegas-Henderson-Paradise, NV MSA</td>\n",
       "      <td>2018-10-21</td>\n",
       "      <td>surf</td>\n",
       "      <td>NaN</td>\n",
       "    </tr>\n",
       "    <tr>\n",
       "      <th>3</th>\n",
       "      <td>1003</td>\n",
       "      <td>Reynaldo</td>\n",
       "      <td>Jenkins</td>\n",
       "      <td>52</td>\n",
       "      <td>Tulsa, OK MSA</td>\n",
       "      <td>2018-01-28</td>\n",
       "      <td>surf</td>\n",
       "      <td>NaN</td>\n",
       "    </tr>\n",
       "    <tr>\n",
       "      <th>4</th>\n",
       "      <td>1004</td>\n",
       "      <td>Leonila</td>\n",
       "      <td>Thompson</td>\n",
       "      <td>40</td>\n",
       "      <td>Seattle-Tacoma-Bellevue, WA MSA</td>\n",
       "      <td>2018-05-23</td>\n",
       "      <td>surf</td>\n",
       "      <td>NaN</td>\n",
       "    </tr>\n",
       "  </tbody>\n",
       "</table>\n",
       "</div>"
      ],
      "text/plain": [
       "   user_id first_name  last_name  age                                   city  \\\n",
       "0     1000   Anamaria      Bauer   45  Atlanta-Sandy Springs-Roswell, GA MSA   \n",
       "1     1001     Mickey  Wilkerson   28        Seattle-Tacoma-Bellevue, WA MSA   \n",
       "2     1002     Carlee    Hoffman   36   Las Vegas-Henderson-Paradise, NV MSA   \n",
       "3     1003   Reynaldo    Jenkins   52                          Tulsa, OK MSA   \n",
       "4     1004    Leonila   Thompson   40        Seattle-Tacoma-Bellevue, WA MSA   \n",
       "\n",
       "     reg_date      plan churn_date  \n",
       "0  2018-12-24  ultimate        NaN  \n",
       "1  2018-08-13      surf        NaN  \n",
       "2  2018-10-21      surf        NaN  \n",
       "3  2018-01-28      surf        NaN  \n",
       "4  2018-05-23      surf        NaN  "
      ]
     },
     "execution_count": 10,
     "metadata": {},
     "output_type": "execute_result"
    }
   ],
   "source": [
    "#print the head of the megaline_users_ds data set\n",
    "print(megaline_users_ds.info())\n",
    "megaline_users_ds.head()"
   ]
  },
  {
   "cell_type": "markdown",
   "metadata": {},
   "source": [
    "**The megaline_plans_ds seems that has no more then 2 rows that sums up data on the two plans This will probably be relevent to us further on and will give us the data when we would like to calculate the plans for each user profits. so will leave it as is and not use it, with another table only as a genarating values to add the merged tables.**"
   ]
  },
  {
   "cell_type": "markdown",
   "metadata": {},
   "source": [
    "## The data preperation for analyses\n",
    "\n",
    "We see we have a lot of scattered information. We eill nead two data sets for comparison of the hypotheses.\n",
    "\n",
    "**first we need to merge all tha data into one homogenic data , that we can use for our investigation**\n",
    "\n",
    "**We already stated that the megaline_plans_ds dataset will be a table to be used to calculate the revenues based by each program terms.**\n",
    "\n",
    "**To the othe data sets we will need to establish a merge point to gether all the data from all the data sets.**\n",
    "\n",
    "Let us find the common columns that are in all data sets and make a list of all of them.\n",
    "Then using this list we should see what methode will be the best to merge the data."
   ]
  },
  {
   "cell_type": "markdown",
   "metadata": {},
   "source": [
    "### Change Name and Data types\n",
    "\n",
    "We will change the name, data type and date format.\n",
    "The date will be now a monthly date (no days of the month).This gives us a unified date structure by which we can group all the dates to values per a month."
   ]
  },
  {
   "cell_type": "markdown",
   "metadata": {},
   "source": [
    "#### Rename and data type columns adjust"
   ]
  },
  {
   "cell_type": "code",
   "execution_count": 11,
   "metadata": {},
   "outputs": [
    {
     "name": "stdout",
     "output_type": "stream",
     "text": [
      "<class 'pandas.core.frame.DataFrame'>\n",
      "RangeIndex: 137735 entries, 0 to 137734\n",
      "Data columns (total 4 columns):\n",
      " #   Column            Non-Null Count   Dtype         \n",
      "---  ------            --------------   -----         \n",
      " 0   call_id           137735 non-null  object        \n",
      " 1   user_id           137735 non-null  int64         \n",
      " 2   monthly_log_date  137735 non-null  datetime64[ns]\n",
      " 3   duration          137735 non-null  float64       \n",
      "dtypes: datetime64[ns](1), float64(1), int64(1), object(1)\n",
      "memory usage: 4.2+ MB\n",
      "None\n",
      "\n",
      "<class 'pandas.core.frame.DataFrame'>\n",
      "RangeIndex: 76051 entries, 0 to 76050\n",
      "Data columns (total 3 columns):\n",
      " #   Column            Non-Null Count  Dtype         \n",
      "---  ------            --------------  -----         \n",
      " 0   sms_id            76051 non-null  object        \n",
      " 1   user_id           76051 non-null  int64         \n",
      " 2   monthly_log_date  76051 non-null  datetime64[ns]\n",
      "dtypes: datetime64[ns](1), int64(1), object(1)\n",
      "memory usage: 1.7+ MB\n",
      "None\n",
      "\n",
      "<class 'pandas.core.frame.DataFrame'>\n",
      "RangeIndex: 104825 entries, 0 to 104824\n",
      "Data columns (total 4 columns):\n",
      " #   Column            Non-Null Count   Dtype         \n",
      "---  ------            --------------   -----         \n",
      " 0   con_id            104825 non-null  object        \n",
      " 1   user_id           104825 non-null  int64         \n",
      " 2   monthly_log_date  104825 non-null  datetime64[ns]\n",
      " 3   mb_used           104825 non-null  float64       \n",
      "dtypes: datetime64[ns](1), float64(1), int64(1), object(1)\n",
      "memory usage: 3.2+ MB\n",
      "None\n",
      "\n"
     ]
    }
   ],
   "source": [
    "#change the names of the columns\n",
    "megaline_calls_ds.rename(columns={'id':'call_id','call_date':'monthly_log_date'}, inplace=True)\n",
    "megaline_messages_ds.rename(columns={'id':'sms_id','message_date':'monthly_log_date'},inplace=True)\n",
    "megaline_internet_ds.rename(columns={'id':'con_id','session_date':'monthly_log_date'},inplace=True)\n",
    "\n",
    "#change the datatypes\n",
    "megaline_calls_ds['monthly_log_date']= pd.to_datetime(megaline_calls_ds['monthly_log_date'])\n",
    "megaline_messages_ds['monthly_log_date']= pd.to_datetime(megaline_messages_ds['monthly_log_date'])\n",
    "megaline_internet_ds['monthly_log_date']= pd.to_datetime(megaline_internet_ds['monthly_log_date'])\n",
    "\n",
    "print(megaline_calls_ds.info())\n",
    "print()\n",
    "\n",
    "print(megaline_messages_ds.info())\n",
    "print()\n",
    "\n",
    "print(megaline_internet_ds.info())\n",
    "print()"
   ]
  },
  {
   "cell_type": "markdown",
   "metadata": {},
   "source": [
    "#### Changing the date format from daily to a moth based date"
   ]
  },
  {
   "cell_type": "code",
   "execution_count": 12,
   "metadata": {},
   "outputs": [],
   "source": [
    "#using the date time we ectract only the monthe and year of every record \n",
    "megaline_calls_ds['monthly_log_date'] = megaline_calls_ds['monthly_log_date'].dt.to_period('M')\n",
    "megaline_messages_ds['monthly_log_date'] = megaline_messages_ds['monthly_log_date'].dt.to_period('M')\n",
    "megaline_internet_ds['monthly_log_date'] = megaline_internet_ds['monthly_log_date'].dt.to_period('M')\n",
    "\n"
   ]
  },
  {
   "cell_type": "markdown",
   "metadata": {},
   "source": [
    "### Grouping the data Before merging"
   ]
  },
  {
   "cell_type": "markdown",
   "metadata": {},
   "source": [
    "**The megaline_users_ds has the users details.** \n",
    "\n",
    "**The megaline_plans_ds has the information on the plane itself- we will use it in the final stage of preparation. To calculate the revanue of each user per month**\n",
    "\n",
    "**We will start by grouping and merging the first three datasets : megaline_calls_ds,megaline_internet_ds,megaline_messages_ds.**\n",
    "\n",
    "we will merge it using the outer layer of the megaline_calls_ds dataset which is the largest one"
   ]
  },
  {
   "cell_type": "markdown",
   "metadata": {},
   "source": [
    "#### Grouping the tables\n",
    "**Before grouping the data - we need to change the dates to periods of monthes. That because the values we will calculate will be mothly calculations**"
   ]
  },
  {
   "cell_type": "code",
   "execution_count": 13,
   "metadata": {},
   "outputs": [],
   "source": [
    "\n",
    "##Adding a round factor to the duration column of the calls. \n",
    "## all part of a minute (evan a second) should be round up to the neerest minute\n",
    "megaline_calls_ds['duration'] = megaline_calls_ds['duration'].apply(np.ceil)"
   ]
  },
  {
   "cell_type": "code",
   "execution_count": 14,
   "metadata": {},
   "outputs": [
    {
     "name": "stdout",
     "output_type": "stream",
     "text": [
      "   user_id monthly_log_date  duration\n",
      "0     1000          2018-12     124.0\n",
      "1     1001          2018-08     182.0\n",
      "2     1001          2018-09     315.0\n",
      "3     1001          2018-10     393.0\n",
      "4     1001          2018-11     426.0\n",
      "   user_id monthly_log_date  sms_id\n",
      "0     1000          2018-12      11\n",
      "1     1001          2018-08      30\n",
      "2     1001          2018-09      44\n",
      "3     1001          2018-10      53\n",
      "4     1001          2018-11      36\n"
     ]
    },
    {
     "data": {
      "text/html": [
       "<div>\n",
       "<style scoped>\n",
       "    .dataframe tbody tr th:only-of-type {\n",
       "        vertical-align: middle;\n",
       "    }\n",
       "\n",
       "    .dataframe tbody tr th {\n",
       "        vertical-align: top;\n",
       "    }\n",
       "\n",
       "    .dataframe thead th {\n",
       "        text-align: right;\n",
       "    }\n",
       "</style>\n",
       "<table border=\"1\" class=\"dataframe\">\n",
       "  <thead>\n",
       "    <tr style=\"text-align: right;\">\n",
       "      <th></th>\n",
       "      <th>user_id</th>\n",
       "      <th>monthly_log_date</th>\n",
       "      <th>mb_used</th>\n",
       "    </tr>\n",
       "  </thead>\n",
       "  <tbody>\n",
       "    <tr>\n",
       "      <th>0</th>\n",
       "      <td>1000</td>\n",
       "      <td>2018-12</td>\n",
       "      <td>1901.47</td>\n",
       "    </tr>\n",
       "    <tr>\n",
       "      <th>1</th>\n",
       "      <td>1001</td>\n",
       "      <td>2018-08</td>\n",
       "      <td>6919.15</td>\n",
       "    </tr>\n",
       "    <tr>\n",
       "      <th>2</th>\n",
       "      <td>1001</td>\n",
       "      <td>2018-09</td>\n",
       "      <td>13314.82</td>\n",
       "    </tr>\n",
       "    <tr>\n",
       "      <th>3</th>\n",
       "      <td>1001</td>\n",
       "      <td>2018-10</td>\n",
       "      <td>22330.49</td>\n",
       "    </tr>\n",
       "    <tr>\n",
       "      <th>4</th>\n",
       "      <td>1001</td>\n",
       "      <td>2018-11</td>\n",
       "      <td>18504.30</td>\n",
       "    </tr>\n",
       "  </tbody>\n",
       "</table>\n",
       "</div>"
      ],
      "text/plain": [
       "   user_id monthly_log_date   mb_used\n",
       "0     1000          2018-12   1901.47\n",
       "1     1001          2018-08   6919.15\n",
       "2     1001          2018-09  13314.82\n",
       "3     1001          2018-10  22330.49\n",
       "4     1001          2018-11  18504.30"
      ]
     },
     "execution_count": 14,
     "metadata": {},
     "output_type": "execute_result"
    }
   ],
   "source": [
    "#group all datasets that have the user time of usage by the user- and month\n",
    "\n",
    "megaline_calls_ds_grouped = megaline_calls_ds.groupby(by=['user_id','monthly_log_date']).agg({'duration':'sum'}).reset_index()\n",
    "megaline_messages_ds_grouped = megaline_messages_ds.groupby(by=['user_id','monthly_log_date']).agg({'sms_id':'count'}).reset_index()\n",
    "megaline_internet_ds_grouped = megaline_internet_ds.groupby(by=['user_id','monthly_log_date']).agg({'mb_used':'sum'}).reset_index()\n",
    "\n",
    "print(megaline_calls_ds_grouped.head())\n",
    "print(megaline_messages_ds_grouped.head())\n",
    "megaline_internet_ds_grouped.head()"
   ]
  },
  {
   "cell_type": "markdown",
   "metadata": {},
   "source": [
    "#### Merging the first two datasets"
   ]
  },
  {
   "cell_type": "code",
   "execution_count": 15,
   "metadata": {
    "scrolled": true
   },
   "outputs": [
    {
     "data": {
      "text/html": [
       "<div>\n",
       "<style scoped>\n",
       "    .dataframe tbody tr th:only-of-type {\n",
       "        vertical-align: middle;\n",
       "    }\n",
       "\n",
       "    .dataframe tbody tr th {\n",
       "        vertical-align: top;\n",
       "    }\n",
       "\n",
       "    .dataframe thead th {\n",
       "        text-align: right;\n",
       "    }\n",
       "</style>\n",
       "<table border=\"1\" class=\"dataframe\">\n",
       "  <thead>\n",
       "    <tr style=\"text-align: right;\">\n",
       "      <th></th>\n",
       "      <th>user_id</th>\n",
       "      <th>monthly_log_date</th>\n",
       "      <th>duration</th>\n",
       "      <th>sms_id</th>\n",
       "    </tr>\n",
       "  </thead>\n",
       "  <tbody>\n",
       "    <tr>\n",
       "      <th>0</th>\n",
       "      <td>1000</td>\n",
       "      <td>2018-12</td>\n",
       "      <td>124.0</td>\n",
       "      <td>11.0</td>\n",
       "    </tr>\n",
       "    <tr>\n",
       "      <th>1</th>\n",
       "      <td>1001</td>\n",
       "      <td>2018-08</td>\n",
       "      <td>182.0</td>\n",
       "      <td>30.0</td>\n",
       "    </tr>\n",
       "    <tr>\n",
       "      <th>2</th>\n",
       "      <td>1001</td>\n",
       "      <td>2018-09</td>\n",
       "      <td>315.0</td>\n",
       "      <td>44.0</td>\n",
       "    </tr>\n",
       "    <tr>\n",
       "      <th>3</th>\n",
       "      <td>1001</td>\n",
       "      <td>2018-10</td>\n",
       "      <td>393.0</td>\n",
       "      <td>53.0</td>\n",
       "    </tr>\n",
       "    <tr>\n",
       "      <th>4</th>\n",
       "      <td>1001</td>\n",
       "      <td>2018-11</td>\n",
       "      <td>426.0</td>\n",
       "      <td>36.0</td>\n",
       "    </tr>\n",
       "  </tbody>\n",
       "</table>\n",
       "</div>"
      ],
      "text/plain": [
       "   user_id monthly_log_date  duration  sms_id\n",
       "0     1000          2018-12     124.0    11.0\n",
       "1     1001          2018-08     182.0    30.0\n",
       "2     1001          2018-09     315.0    44.0\n",
       "3     1001          2018-10     393.0    53.0\n",
       "4     1001          2018-11     426.0    36.0"
      ]
     },
     "execution_count": 15,
     "metadata": {},
     "output_type": "execute_result"
    }
   ],
   "source": [
    "#Merge the two tables of calls and massages by user_id\n",
    "merge_calls_massages = pd.merge(left = megaline_calls_ds_grouped,\n",
    "                                right=megaline_messages_ds_grouped, \n",
    "                                how = 'outer', on=['user_id','monthly_log_date']).fillna(0).reset_index(drop=True)\n",
    "\n",
    "merge_calls_massages.head()"
   ]
  },
  {
   "cell_type": "markdown",
   "metadata": {},
   "source": [
    "#### Merge the new merged Dataframe with the third grouped dataframe"
   ]
  },
  {
   "cell_type": "markdown",
   "metadata": {},
   "source": [
    "**Merge the new table with the internet table**"
   ]
  },
  {
   "cell_type": "code",
   "execution_count": 16,
   "metadata": {
    "scrolled": false
   },
   "outputs": [
    {
     "data": {
      "text/html": [
       "<div>\n",
       "<style scoped>\n",
       "    .dataframe tbody tr th:only-of-type {\n",
       "        vertical-align: middle;\n",
       "    }\n",
       "\n",
       "    .dataframe tbody tr th {\n",
       "        vertical-align: top;\n",
       "    }\n",
       "\n",
       "    .dataframe thead th {\n",
       "        text-align: right;\n",
       "    }\n",
       "</style>\n",
       "<table border=\"1\" class=\"dataframe\">\n",
       "  <thead>\n",
       "    <tr style=\"text-align: right;\">\n",
       "      <th></th>\n",
       "      <th>user_id</th>\n",
       "      <th>monthly_log_date</th>\n",
       "      <th>duration</th>\n",
       "      <th>sms_id</th>\n",
       "      <th>mb_used</th>\n",
       "    </tr>\n",
       "  </thead>\n",
       "  <tbody>\n",
       "    <tr>\n",
       "      <th>0</th>\n",
       "      <td>1000</td>\n",
       "      <td>2018-12</td>\n",
       "      <td>124.0</td>\n",
       "      <td>11.0</td>\n",
       "      <td>1901.47</td>\n",
       "    </tr>\n",
       "    <tr>\n",
       "      <th>1</th>\n",
       "      <td>1001</td>\n",
       "      <td>2018-08</td>\n",
       "      <td>182.0</td>\n",
       "      <td>30.0</td>\n",
       "      <td>6919.15</td>\n",
       "    </tr>\n",
       "    <tr>\n",
       "      <th>2</th>\n",
       "      <td>1001</td>\n",
       "      <td>2018-09</td>\n",
       "      <td>315.0</td>\n",
       "      <td>44.0</td>\n",
       "      <td>13314.82</td>\n",
       "    </tr>\n",
       "    <tr>\n",
       "      <th>3</th>\n",
       "      <td>1001</td>\n",
       "      <td>2018-10</td>\n",
       "      <td>393.0</td>\n",
       "      <td>53.0</td>\n",
       "      <td>22330.49</td>\n",
       "    </tr>\n",
       "    <tr>\n",
       "      <th>4</th>\n",
       "      <td>1001</td>\n",
       "      <td>2018-11</td>\n",
       "      <td>426.0</td>\n",
       "      <td>36.0</td>\n",
       "      <td>18504.30</td>\n",
       "    </tr>\n",
       "  </tbody>\n",
       "</table>\n",
       "</div>"
      ],
      "text/plain": [
       "   user_id monthly_log_date  duration  sms_id   mb_used\n",
       "0     1000          2018-12     124.0    11.0   1901.47\n",
       "1     1001          2018-08     182.0    30.0   6919.15\n",
       "2     1001          2018-09     315.0    44.0  13314.82\n",
       "3     1001          2018-10     393.0    53.0  22330.49\n",
       "4     1001          2018-11     426.0    36.0  18504.30"
      ]
     },
     "execution_count": 16,
     "metadata": {},
     "output_type": "execute_result"
    }
   ],
   "source": [
    "#Merge the merge_calls_massages with the internet table by user_id and month\n",
    "merge_calls_massages_internet = pd.merge(left = merge_calls_massages,\n",
    "                                right=megaline_internet_ds_grouped, \n",
    "                                how = 'outer', on=['user_id','monthly_log_date']).fillna(0).reset_index(drop=True)\n",
    "\n",
    "merge_calls_massages_internet.head()"
   ]
  },
  {
   "cell_type": "markdown",
   "metadata": {},
   "source": [
    "#### Prepare the last table we merge - changing the data types of the columns"
   ]
  },
  {
   "cell_type": "markdown",
   "metadata": {},
   "source": [
    "**After merging the data of the three tables that holds the information for each user calls , massages and internet surf. We need to add the values from the user data table**\n",
    "\n",
    "First - the 'churn_date' and 'reg_date' are has the wrong DataType.\n",
    "\n",
    "Second - we should fill the missing data in 'churn_date' to the current date so we could have an ability to create a period of eferance time to sea revenues along a time line"
   ]
  },
  {
   "cell_type": "code",
   "execution_count": 17,
   "metadata": {},
   "outputs": [
    {
     "name": "stdout",
     "output_type": "stream",
     "text": [
      "<class 'pandas.core.frame.DataFrame'>\n",
      "RangeIndex: 500 entries, 0 to 499\n",
      "Data columns (total 8 columns):\n",
      " #   Column      Non-Null Count  Dtype         \n",
      "---  ------      --------------  -----         \n",
      " 0   user_id     500 non-null    int64         \n",
      " 1   first_name  500 non-null    object        \n",
      " 2   last_name   500 non-null    object        \n",
      " 3   age         500 non-null    int64         \n",
      " 4   city        500 non-null    object        \n",
      " 5   reg_date    500 non-null    datetime64[ns]\n",
      " 6   plan        500 non-null    object        \n",
      " 7   churn_date  34 non-null     datetime64[ns]\n",
      "dtypes: datetime64[ns](2), int64(2), object(4)\n",
      "memory usage: 31.4+ KB\n"
     ]
    }
   ],
   "source": [
    "#change reg_date, churn_date datatypes\n",
    "megaline_users_ds['reg_date']= pd.to_datetime(megaline_users_ds['reg_date'])\n",
    "megaline_users_ds['churn_date']= pd.to_datetime(megaline_users_ds['churn_date'])\n",
    "\n",
    "megaline_users_ds.info()"
   ]
  },
  {
   "cell_type": "markdown",
   "metadata": {},
   "source": [
    "#### Merge the merge_calls_massages_internet , and the megaline_users_ds"
   ]
  },
  {
   "cell_type": "code",
   "execution_count": 18,
   "metadata": {},
   "outputs": [
    {
     "name": "stdout",
     "output_type": "stream",
     "text": [
      "<class 'pandas.core.frame.DataFrame'>\n",
      "RangeIndex: 2303 entries, 0 to 2302\n",
      "Data columns (total 12 columns):\n",
      " #   Column            Non-Null Count  Dtype         \n",
      "---  ------            --------------  -----         \n",
      " 0   user_id           2303 non-null   int64         \n",
      " 1   monthly_log_date  2293 non-null   period[M]     \n",
      " 2   duration          2293 non-null   float64       \n",
      " 3   sms_id            2293 non-null   float64       \n",
      " 4   mb_used           2293 non-null   float64       \n",
      " 5   first_name        2303 non-null   object        \n",
      " 6   last_name         2303 non-null   object        \n",
      " 7   age               2303 non-null   int64         \n",
      " 8   city              2303 non-null   object        \n",
      " 9   reg_date          2303 non-null   datetime64[ns]\n",
      " 10  plan              2303 non-null   object        \n",
      " 11  churn_date        160 non-null    datetime64[ns]\n",
      "dtypes: datetime64[ns](2), float64(3), int64(2), object(4), period[M](1)\n",
      "memory usage: 216.0+ KB\n",
      "None\n"
     ]
    },
    {
     "data": {
      "text/html": [
       "<div>\n",
       "<style scoped>\n",
       "    .dataframe tbody tr th:only-of-type {\n",
       "        vertical-align: middle;\n",
       "    }\n",
       "\n",
       "    .dataframe tbody tr th {\n",
       "        vertical-align: top;\n",
       "    }\n",
       "\n",
       "    .dataframe thead th {\n",
       "        text-align: right;\n",
       "    }\n",
       "</style>\n",
       "<table border=\"1\" class=\"dataframe\">\n",
       "  <thead>\n",
       "    <tr style=\"text-align: right;\">\n",
       "      <th></th>\n",
       "      <th>user_id</th>\n",
       "      <th>monthly_log_date</th>\n",
       "      <th>duration</th>\n",
       "      <th>sms_id</th>\n",
       "      <th>mb_used</th>\n",
       "      <th>first_name</th>\n",
       "      <th>last_name</th>\n",
       "      <th>age</th>\n",
       "      <th>city</th>\n",
       "      <th>reg_date</th>\n",
       "      <th>plan</th>\n",
       "      <th>churn_date</th>\n",
       "    </tr>\n",
       "  </thead>\n",
       "  <tbody>\n",
       "    <tr>\n",
       "      <th>2185</th>\n",
       "      <td>1483</td>\n",
       "      <td>2018-06</td>\n",
       "      <td>491.0</td>\n",
       "      <td>5.0</td>\n",
       "      <td>12991.18</td>\n",
       "      <td>Miguel</td>\n",
       "      <td>Farrell</td>\n",
       "      <td>35</td>\n",
       "      <td>Chicago-Naperville-Elgin, IL-IN-WI MSA</td>\n",
       "      <td>2018-04-25</td>\n",
       "      <td>surf</td>\n",
       "      <td>NaT</td>\n",
       "    </tr>\n",
       "    <tr>\n",
       "      <th>102</th>\n",
       "      <td>1028</td>\n",
       "      <td>2018-11</td>\n",
       "      <td>69.0</td>\n",
       "      <td>77.0</td>\n",
       "      <td>42952.59</td>\n",
       "      <td>Jefferey</td>\n",
       "      <td>Rasmussen</td>\n",
       "      <td>57</td>\n",
       "      <td>Philadelphia-Camden-Wilmington, PA-NJ-DE-MD MSA</td>\n",
       "      <td>2018-02-21</td>\n",
       "      <td>ultimate</td>\n",
       "      <td>NaT</td>\n",
       "    </tr>\n",
       "    <tr>\n",
       "      <th>455</th>\n",
       "      <td>1098</td>\n",
       "      <td>2018-12</td>\n",
       "      <td>445.0</td>\n",
       "      <td>98.0</td>\n",
       "      <td>28876.32</td>\n",
       "      <td>Collin</td>\n",
       "      <td>Sims</td>\n",
       "      <td>33</td>\n",
       "      <td>Albany-Schenectady-Troy, NY MSA</td>\n",
       "      <td>2018-08-14</td>\n",
       "      <td>surf</td>\n",
       "      <td>NaT</td>\n",
       "    </tr>\n",
       "    <tr>\n",
       "      <th>1651</th>\n",
       "      <td>1362</td>\n",
       "      <td>2018-06</td>\n",
       "      <td>503.0</td>\n",
       "      <td>62.0</td>\n",
       "      <td>18594.87</td>\n",
       "      <td>Kenyetta</td>\n",
       "      <td>Mcknight</td>\n",
       "      <td>65</td>\n",
       "      <td>Denver-Aurora-Lakewood, CO MSA</td>\n",
       "      <td>2018-01-18</td>\n",
       "      <td>surf</td>\n",
       "      <td>NaT</td>\n",
       "    </tr>\n",
       "    <tr>\n",
       "      <th>543</th>\n",
       "      <td>1117</td>\n",
       "      <td>2018-07</td>\n",
       "      <td>446.0</td>\n",
       "      <td>0.0</td>\n",
       "      <td>17769.81</td>\n",
       "      <td>Hank</td>\n",
       "      <td>Taylor</td>\n",
       "      <td>49</td>\n",
       "      <td>Dallas-Fort Worth-Arlington, TX MSA</td>\n",
       "      <td>2018-01-24</td>\n",
       "      <td>surf</td>\n",
       "      <td>NaT</td>\n",
       "    </tr>\n",
       "    <tr>\n",
       "      <th>606</th>\n",
       "      <td>1132</td>\n",
       "      <td>2018-04</td>\n",
       "      <td>358.0</td>\n",
       "      <td>72.0</td>\n",
       "      <td>15651.16</td>\n",
       "      <td>Edward</td>\n",
       "      <td>Roberts</td>\n",
       "      <td>39</td>\n",
       "      <td>San Francisco-Oakland-Berkeley, CA MSA</td>\n",
       "      <td>2018-04-14</td>\n",
       "      <td>ultimate</td>\n",
       "      <td>NaT</td>\n",
       "    </tr>\n",
       "    <tr>\n",
       "      <th>1109</th>\n",
       "      <td>1241</td>\n",
       "      <td>2018-12</td>\n",
       "      <td>582.0</td>\n",
       "      <td>45.0</td>\n",
       "      <td>14071.01</td>\n",
       "      <td>Lala</td>\n",
       "      <td>Walls</td>\n",
       "      <td>24</td>\n",
       "      <td>Richmond, VA MSA</td>\n",
       "      <td>2018-08-27</td>\n",
       "      <td>surf</td>\n",
       "      <td>NaT</td>\n",
       "    </tr>\n",
       "    <tr>\n",
       "      <th>1855</th>\n",
       "      <td>1404</td>\n",
       "      <td>2018-08</td>\n",
       "      <td>473.0</td>\n",
       "      <td>8.0</td>\n",
       "      <td>21217.65</td>\n",
       "      <td>Paulita</td>\n",
       "      <td>Conley</td>\n",
       "      <td>33</td>\n",
       "      <td>New York-Newark-Jersey City, NY-NJ-PA MSA</td>\n",
       "      <td>2018-04-16</td>\n",
       "      <td>surf</td>\n",
       "      <td>NaT</td>\n",
       "    </tr>\n",
       "    <tr>\n",
       "      <th>381</th>\n",
       "      <td>1081</td>\n",
       "      <td>2018-04</td>\n",
       "      <td>16.0</td>\n",
       "      <td>3.0</td>\n",
       "      <td>92.31</td>\n",
       "      <td>Grayce</td>\n",
       "      <td>Sears</td>\n",
       "      <td>44</td>\n",
       "      <td>Dallas-Fort Worth-Arlington, TX MSA</td>\n",
       "      <td>2018-04-27</td>\n",
       "      <td>surf</td>\n",
       "      <td>NaT</td>\n",
       "    </tr>\n",
       "    <tr>\n",
       "      <th>268</th>\n",
       "      <td>1061</td>\n",
       "      <td>2018-05</td>\n",
       "      <td>728.0</td>\n",
       "      <td>61.0</td>\n",
       "      <td>20773.12</td>\n",
       "      <td>Maryam</td>\n",
       "      <td>Valencia</td>\n",
       "      <td>38</td>\n",
       "      <td>Columbia, SC MSA</td>\n",
       "      <td>2018-03-08</td>\n",
       "      <td>ultimate</td>\n",
       "      <td>NaT</td>\n",
       "    </tr>\n",
       "  </tbody>\n",
       "</table>\n",
       "</div>"
      ],
      "text/plain": [
       "      user_id monthly_log_date  duration  sms_id   mb_used first_name  \\\n",
       "2185     1483          2018-06     491.0     5.0  12991.18     Miguel   \n",
       "102      1028          2018-11      69.0    77.0  42952.59   Jefferey   \n",
       "455      1098          2018-12     445.0    98.0  28876.32     Collin   \n",
       "1651     1362          2018-06     503.0    62.0  18594.87   Kenyetta   \n",
       "543      1117          2018-07     446.0     0.0  17769.81       Hank   \n",
       "606      1132          2018-04     358.0    72.0  15651.16     Edward   \n",
       "1109     1241          2018-12     582.0    45.0  14071.01       Lala   \n",
       "1855     1404          2018-08     473.0     8.0  21217.65    Paulita   \n",
       "381      1081          2018-04      16.0     3.0     92.31     Grayce   \n",
       "268      1061          2018-05     728.0    61.0  20773.12     Maryam   \n",
       "\n",
       "      last_name  age                                             city  \\\n",
       "2185    Farrell   35           Chicago-Naperville-Elgin, IL-IN-WI MSA   \n",
       "102   Rasmussen   57  Philadelphia-Camden-Wilmington, PA-NJ-DE-MD MSA   \n",
       "455        Sims   33                  Albany-Schenectady-Troy, NY MSA   \n",
       "1651   Mcknight   65                   Denver-Aurora-Lakewood, CO MSA   \n",
       "543      Taylor   49              Dallas-Fort Worth-Arlington, TX MSA   \n",
       "606     Roberts   39           San Francisco-Oakland-Berkeley, CA MSA   \n",
       "1109      Walls   24                                 Richmond, VA MSA   \n",
       "1855     Conley   33        New York-Newark-Jersey City, NY-NJ-PA MSA   \n",
       "381       Sears   44              Dallas-Fort Worth-Arlington, TX MSA   \n",
       "268    Valencia   38                                 Columbia, SC MSA   \n",
       "\n",
       "       reg_date      plan churn_date  \n",
       "2185 2018-04-25      surf        NaT  \n",
       "102  2018-02-21  ultimate        NaT  \n",
       "455  2018-08-14      surf        NaT  \n",
       "1651 2018-01-18      surf        NaT  \n",
       "543  2018-01-24      surf        NaT  \n",
       "606  2018-04-14  ultimate        NaT  \n",
       "1109 2018-08-27      surf        NaT  \n",
       "1855 2018-04-16      surf        NaT  \n",
       "381  2018-04-27      surf        NaT  \n",
       "268  2018-03-08  ultimate        NaT  "
      ]
     },
     "execution_count": 18,
     "metadata": {},
     "output_type": "execute_result"
    }
   ],
   "source": [
    "#merging both tables to one that holds the key data for the revenue calculations.\n",
    "merged_full_plan = pd.merge(left = merge_calls_massages_internet,\n",
    "                                right=megaline_users_ds, \n",
    "                                how = 'outer', on=['user_id']).reset_index(drop=True)\n",
    "\n",
    "#print the output\n",
    "print(merged_full_plan.info())\n",
    "merged_full_plan.sample(10)\n"
   ]
  },
  {
   "cell_type": "code",
   "execution_count": 19,
   "metadata": {},
   "outputs": [
    {
     "name": "stdout",
     "output_type": "stream",
     "text": [
      "<class 'pandas.core.frame.DataFrame'>\n",
      "Int64Index: 2303 entries, 0 to 2302\n",
      "Data columns (total 12 columns):\n",
      " #   Column            Non-Null Count  Dtype         \n",
      "---  ------            --------------  -----         \n",
      " 0   user_id           2303 non-null   int64         \n",
      " 1   monthly_log_date  2293 non-null   period[M]     \n",
      " 2   duration          2293 non-null   float64       \n",
      " 3   sms_id            2293 non-null   float64       \n",
      " 4   mb_used           2293 non-null   float64       \n",
      " 5   first_name        2303 non-null   object        \n",
      " 6   last_name         2303 non-null   object        \n",
      " 7   age               2303 non-null   int64         \n",
      " 8   city              2303 non-null   object        \n",
      " 9   reg_date          2303 non-null   datetime64[ns]\n",
      " 10  plan              2303 non-null   object        \n",
      " 11  churn_date        160 non-null    datetime64[ns]\n",
      "dtypes: datetime64[ns](2), float64(3), int64(2), object(4), period[M](1)\n",
      "memory usage: 233.9+ KB\n"
     ]
    }
   ],
   "source": [
    "#Dropping duplicats if any\n",
    "merged_full_plan.drop_duplicates(inplace=True)\n",
    "merged_full_plan.info()"
   ]
  },
  {
   "cell_type": "code",
   "execution_count": 20,
   "metadata": {},
   "outputs": [
    {
     "name": "stdout",
     "output_type": "stream",
     "text": [
      "10\n",
      "10\n",
      "10\n",
      "10\n"
     ]
    },
    {
     "data": {
      "text/html": [
       "<div>\n",
       "<style scoped>\n",
       "    .dataframe tbody tr th:only-of-type {\n",
       "        vertical-align: middle;\n",
       "    }\n",
       "\n",
       "    .dataframe tbody tr th {\n",
       "        vertical-align: top;\n",
       "    }\n",
       "\n",
       "    .dataframe thead th {\n",
       "        text-align: right;\n",
       "    }\n",
       "</style>\n",
       "<table border=\"1\" class=\"dataframe\">\n",
       "  <thead>\n",
       "    <tr style=\"text-align: right;\">\n",
       "      <th></th>\n",
       "      <th>user_id</th>\n",
       "      <th>monthly_log_date</th>\n",
       "      <th>duration</th>\n",
       "      <th>sms_id</th>\n",
       "      <th>mb_used</th>\n",
       "      <th>first_name</th>\n",
       "      <th>last_name</th>\n",
       "      <th>age</th>\n",
       "      <th>city</th>\n",
       "      <th>reg_date</th>\n",
       "      <th>plan</th>\n",
       "      <th>churn_date</th>\n",
       "    </tr>\n",
       "  </thead>\n",
       "  <tbody>\n",
       "    <tr>\n",
       "      <th>2293</th>\n",
       "      <td>1025</td>\n",
       "      <td>NaT</td>\n",
       "      <td>NaN</td>\n",
       "      <td>NaN</td>\n",
       "      <td>NaN</td>\n",
       "      <td>Jess</td>\n",
       "      <td>Wilkinson</td>\n",
       "      <td>64</td>\n",
       "      <td>Atlanta-Sandy Springs-Roswell, GA MSA</td>\n",
       "      <td>2018-10-28</td>\n",
       "      <td>ultimate</td>\n",
       "      <td>NaT</td>\n",
       "    </tr>\n",
       "    <tr>\n",
       "      <th>2294</th>\n",
       "      <td>1129</td>\n",
       "      <td>NaT</td>\n",
       "      <td>NaN</td>\n",
       "      <td>NaN</td>\n",
       "      <td>NaN</td>\n",
       "      <td>Marin</td>\n",
       "      <td>Bolton</td>\n",
       "      <td>70</td>\n",
       "      <td>Baton Rouge, LA MSA</td>\n",
       "      <td>2018-11-10</td>\n",
       "      <td>surf</td>\n",
       "      <td>2018-12-27</td>\n",
       "    </tr>\n",
       "    <tr>\n",
       "      <th>2295</th>\n",
       "      <td>1143</td>\n",
       "      <td>NaT</td>\n",
       "      <td>NaN</td>\n",
       "      <td>NaN</td>\n",
       "      <td>NaN</td>\n",
       "      <td>Lorina</td>\n",
       "      <td>Stevens</td>\n",
       "      <td>69</td>\n",
       "      <td>Cincinnati, OH-KY-IN MSA</td>\n",
       "      <td>2018-10-26</td>\n",
       "      <td>surf</td>\n",
       "      <td>NaT</td>\n",
       "    </tr>\n",
       "    <tr>\n",
       "      <th>2296</th>\n",
       "      <td>1269</td>\n",
       "      <td>NaT</td>\n",
       "      <td>NaN</td>\n",
       "      <td>NaN</td>\n",
       "      <td>NaN</td>\n",
       "      <td>Irving</td>\n",
       "      <td>Thompson</td>\n",
       "      <td>39</td>\n",
       "      <td>Dallas-Fort Worth-Arlington, TX MSA</td>\n",
       "      <td>2018-09-13</td>\n",
       "      <td>ultimate</td>\n",
       "      <td>2018-12-15</td>\n",
       "    </tr>\n",
       "    <tr>\n",
       "      <th>2297</th>\n",
       "      <td>1275</td>\n",
       "      <td>NaT</td>\n",
       "      <td>NaN</td>\n",
       "      <td>NaN</td>\n",
       "      <td>NaN</td>\n",
       "      <td>Elvie</td>\n",
       "      <td>Velazquez</td>\n",
       "      <td>33</td>\n",
       "      <td>New York-Newark-Jersey City, NY-NJ-PA MSA</td>\n",
       "      <td>2018-11-29</td>\n",
       "      <td>ultimate</td>\n",
       "      <td>NaT</td>\n",
       "    </tr>\n",
       "    <tr>\n",
       "      <th>2298</th>\n",
       "      <td>1307</td>\n",
       "      <td>NaT</td>\n",
       "      <td>NaN</td>\n",
       "      <td>NaN</td>\n",
       "      <td>NaN</td>\n",
       "      <td>Kristopher</td>\n",
       "      <td>Lang</td>\n",
       "      <td>28</td>\n",
       "      <td>Boston-Cambridge-Newton, MA-NH MSA</td>\n",
       "      <td>2018-12-31</td>\n",
       "      <td>surf</td>\n",
       "      <td>NaT</td>\n",
       "    </tr>\n",
       "    <tr>\n",
       "      <th>2299</th>\n",
       "      <td>1319</td>\n",
       "      <td>NaT</td>\n",
       "      <td>NaN</td>\n",
       "      <td>NaN</td>\n",
       "      <td>NaN</td>\n",
       "      <td>Eliseo</td>\n",
       "      <td>Carson</td>\n",
       "      <td>21</td>\n",
       "      <td>Colorado Springs, CO MSA</td>\n",
       "      <td>2018-06-17</td>\n",
       "      <td>surf</td>\n",
       "      <td>NaT</td>\n",
       "    </tr>\n",
       "    <tr>\n",
       "      <th>2300</th>\n",
       "      <td>1378</td>\n",
       "      <td>NaT</td>\n",
       "      <td>NaN</td>\n",
       "      <td>NaN</td>\n",
       "      <td>NaN</td>\n",
       "      <td>Mckinley</td>\n",
       "      <td>Clayton</td>\n",
       "      <td>22</td>\n",
       "      <td>Denver-Aurora-Lakewood, CO MSA</td>\n",
       "      <td>2018-12-17</td>\n",
       "      <td>surf</td>\n",
       "      <td>NaT</td>\n",
       "    </tr>\n",
       "    <tr>\n",
       "      <th>2301</th>\n",
       "      <td>1463</td>\n",
       "      <td>NaT</td>\n",
       "      <td>NaN</td>\n",
       "      <td>NaN</td>\n",
       "      <td>NaN</td>\n",
       "      <td>Dinorah</td>\n",
       "      <td>Simmons</td>\n",
       "      <td>30</td>\n",
       "      <td>Atlanta-Sandy Springs-Roswell, GA MSA</td>\n",
       "      <td>2018-11-27</td>\n",
       "      <td>ultimate</td>\n",
       "      <td>NaT</td>\n",
       "    </tr>\n",
       "    <tr>\n",
       "      <th>2302</th>\n",
       "      <td>1473</td>\n",
       "      <td>NaT</td>\n",
       "      <td>NaN</td>\n",
       "      <td>NaN</td>\n",
       "      <td>NaN</td>\n",
       "      <td>Kirk</td>\n",
       "      <td>Velez</td>\n",
       "      <td>61</td>\n",
       "      <td>Louisville/Jefferson County, KY-IN MSA</td>\n",
       "      <td>2018-12-31</td>\n",
       "      <td>surf</td>\n",
       "      <td>NaT</td>\n",
       "    </tr>\n",
       "  </tbody>\n",
       "</table>\n",
       "</div>"
      ],
      "text/plain": [
       "      user_id monthly_log_date  duration  sms_id  mb_used  first_name  \\\n",
       "2293     1025              NaT       NaN     NaN      NaN        Jess   \n",
       "2294     1129              NaT       NaN     NaN      NaN       Marin   \n",
       "2295     1143              NaT       NaN     NaN      NaN      Lorina   \n",
       "2296     1269              NaT       NaN     NaN      NaN      Irving   \n",
       "2297     1275              NaT       NaN     NaN      NaN       Elvie   \n",
       "2298     1307              NaT       NaN     NaN      NaN  Kristopher   \n",
       "2299     1319              NaT       NaN     NaN      NaN      Eliseo   \n",
       "2300     1378              NaT       NaN     NaN      NaN    Mckinley   \n",
       "2301     1463              NaT       NaN     NaN      NaN     Dinorah   \n",
       "2302     1473              NaT       NaN     NaN      NaN        Kirk   \n",
       "\n",
       "      last_name  age                                       city   reg_date  \\\n",
       "2293  Wilkinson   64      Atlanta-Sandy Springs-Roswell, GA MSA 2018-10-28   \n",
       "2294     Bolton   70                        Baton Rouge, LA MSA 2018-11-10   \n",
       "2295    Stevens   69                   Cincinnati, OH-KY-IN MSA 2018-10-26   \n",
       "2296   Thompson   39        Dallas-Fort Worth-Arlington, TX MSA 2018-09-13   \n",
       "2297  Velazquez   33  New York-Newark-Jersey City, NY-NJ-PA MSA 2018-11-29   \n",
       "2298       Lang   28         Boston-Cambridge-Newton, MA-NH MSA 2018-12-31   \n",
       "2299     Carson   21                   Colorado Springs, CO MSA 2018-06-17   \n",
       "2300    Clayton   22             Denver-Aurora-Lakewood, CO MSA 2018-12-17   \n",
       "2301    Simmons   30      Atlanta-Sandy Springs-Roswell, GA MSA 2018-11-27   \n",
       "2302      Velez   61     Louisville/Jefferson County, KY-IN MSA 2018-12-31   \n",
       "\n",
       "          plan churn_date  \n",
       "2293  ultimate        NaT  \n",
       "2294      surf 2018-12-27  \n",
       "2295      surf        NaT  \n",
       "2296  ultimate 2018-12-15  \n",
       "2297  ultimate        NaT  \n",
       "2298      surf        NaT  \n",
       "2299      surf        NaT  \n",
       "2300      surf        NaT  \n",
       "2301  ultimate        NaT  \n",
       "2302      surf        NaT  "
      ]
     },
     "execution_count": 20,
     "metadata": {},
     "output_type": "execute_result"
    }
   ],
   "source": [
    "#checking for missing Values\n",
    "print(len(merged_full_plan.loc[merged_full_plan['mb_used'].isnull()]))\n",
    "print(len(merged_full_plan.loc[merged_full_plan['sms_id'].isnull()]))\n",
    "print(len(merged_full_plan.loc[merged_full_plan['duration'].isnull()]))\n",
    "print(len(merged_full_plan.loc[merged_full_plan['monthly_log_date'].isnull()]))\n",
    "merged_full_plan.loc[merged_full_plan['monthly_log_date'].isnull()]\n"
   ]
  },
  {
   "cell_type": "markdown",
   "metadata": {},
   "source": [
    "**There are only 10 rows for all the missing data. It might be new users that did no have the chance to make a use of theire plan or a glitch in the data due to technical\\human error.**\n",
    "\n",
    "**Any way we can discared them and moove on with our analyses they consist less than 1%, so tis will probably will  not have a significate change** "
   ]
  },
  {
   "cell_type": "code",
   "execution_count": 21,
   "metadata": {},
   "outputs": [
    {
     "data": {
      "text/html": [
       "<div>\n",
       "<style scoped>\n",
       "    .dataframe tbody tr th:only-of-type {\n",
       "        vertical-align: middle;\n",
       "    }\n",
       "\n",
       "    .dataframe tbody tr th {\n",
       "        vertical-align: top;\n",
       "    }\n",
       "\n",
       "    .dataframe thead th {\n",
       "        text-align: right;\n",
       "    }\n",
       "</style>\n",
       "<table border=\"1\" class=\"dataframe\">\n",
       "  <thead>\n",
       "    <tr style=\"text-align: right;\">\n",
       "      <th></th>\n",
       "      <th>user_id</th>\n",
       "      <th>monthly_log_date</th>\n",
       "      <th>duration</th>\n",
       "      <th>sms_id</th>\n",
       "      <th>mb_used</th>\n",
       "      <th>first_name</th>\n",
       "      <th>last_name</th>\n",
       "      <th>age</th>\n",
       "      <th>city</th>\n",
       "      <th>reg_date</th>\n",
       "      <th>plan</th>\n",
       "      <th>churn_date</th>\n",
       "    </tr>\n",
       "  </thead>\n",
       "  <tbody>\n",
       "    <tr>\n",
       "      <th>0</th>\n",
       "      <td>1000</td>\n",
       "      <td>2018-12</td>\n",
       "      <td>124.0</td>\n",
       "      <td>11.0</td>\n",
       "      <td>1901.47</td>\n",
       "      <td>Anamaria</td>\n",
       "      <td>Bauer</td>\n",
       "      <td>45</td>\n",
       "      <td>Atlanta-Sandy Springs-Roswell, GA MSA</td>\n",
       "      <td>2018-12-24</td>\n",
       "      <td>ultimate</td>\n",
       "      <td>NaT</td>\n",
       "    </tr>\n",
       "    <tr>\n",
       "      <th>1</th>\n",
       "      <td>1001</td>\n",
       "      <td>2018-08</td>\n",
       "      <td>182.0</td>\n",
       "      <td>30.0</td>\n",
       "      <td>6919.15</td>\n",
       "      <td>Mickey</td>\n",
       "      <td>Wilkerson</td>\n",
       "      <td>28</td>\n",
       "      <td>Seattle-Tacoma-Bellevue, WA MSA</td>\n",
       "      <td>2018-08-13</td>\n",
       "      <td>surf</td>\n",
       "      <td>NaT</td>\n",
       "    </tr>\n",
       "    <tr>\n",
       "      <th>2</th>\n",
       "      <td>1001</td>\n",
       "      <td>2018-09</td>\n",
       "      <td>315.0</td>\n",
       "      <td>44.0</td>\n",
       "      <td>13314.82</td>\n",
       "      <td>Mickey</td>\n",
       "      <td>Wilkerson</td>\n",
       "      <td>28</td>\n",
       "      <td>Seattle-Tacoma-Bellevue, WA MSA</td>\n",
       "      <td>2018-08-13</td>\n",
       "      <td>surf</td>\n",
       "      <td>NaT</td>\n",
       "    </tr>\n",
       "    <tr>\n",
       "      <th>3</th>\n",
       "      <td>1001</td>\n",
       "      <td>2018-10</td>\n",
       "      <td>393.0</td>\n",
       "      <td>53.0</td>\n",
       "      <td>22330.49</td>\n",
       "      <td>Mickey</td>\n",
       "      <td>Wilkerson</td>\n",
       "      <td>28</td>\n",
       "      <td>Seattle-Tacoma-Bellevue, WA MSA</td>\n",
       "      <td>2018-08-13</td>\n",
       "      <td>surf</td>\n",
       "      <td>NaT</td>\n",
       "    </tr>\n",
       "    <tr>\n",
       "      <th>4</th>\n",
       "      <td>1001</td>\n",
       "      <td>2018-11</td>\n",
       "      <td>426.0</td>\n",
       "      <td>36.0</td>\n",
       "      <td>18504.30</td>\n",
       "      <td>Mickey</td>\n",
       "      <td>Wilkerson</td>\n",
       "      <td>28</td>\n",
       "      <td>Seattle-Tacoma-Bellevue, WA MSA</td>\n",
       "      <td>2018-08-13</td>\n",
       "      <td>surf</td>\n",
       "      <td>NaT</td>\n",
       "    </tr>\n",
       "    <tr>\n",
       "      <th>...</th>\n",
       "      <td>...</td>\n",
       "      <td>...</td>\n",
       "      <td>...</td>\n",
       "      <td>...</td>\n",
       "      <td>...</td>\n",
       "      <td>...</td>\n",
       "      <td>...</td>\n",
       "      <td>...</td>\n",
       "      <td>...</td>\n",
       "      <td>...</td>\n",
       "      <td>...</td>\n",
       "      <td>...</td>\n",
       "    </tr>\n",
       "    <tr>\n",
       "      <th>2288</th>\n",
       "      <td>1204</td>\n",
       "      <td>2018-12</td>\n",
       "      <td>0.0</td>\n",
       "      <td>78.0</td>\n",
       "      <td>36730.05</td>\n",
       "      <td>Sherly</td>\n",
       "      <td>Levy</td>\n",
       "      <td>44</td>\n",
       "      <td>Chicago-Naperville-Elgin, IL-IN-WI MSA</td>\n",
       "      <td>2018-08-20</td>\n",
       "      <td>ultimate</td>\n",
       "      <td>NaT</td>\n",
       "    </tr>\n",
       "    <tr>\n",
       "      <th>2289</th>\n",
       "      <td>1349</td>\n",
       "      <td>2018-10</td>\n",
       "      <td>0.0</td>\n",
       "      <td>76.0</td>\n",
       "      <td>13093.55</td>\n",
       "      <td>Florentina</td>\n",
       "      <td>Diaz</td>\n",
       "      <td>69</td>\n",
       "      <td>Boston-Cambridge-Newton, MA-NH MSA</td>\n",
       "      <td>2018-10-01</td>\n",
       "      <td>surf</td>\n",
       "      <td>NaT</td>\n",
       "    </tr>\n",
       "    <tr>\n",
       "      <th>2290</th>\n",
       "      <td>1349</td>\n",
       "      <td>2018-11</td>\n",
       "      <td>0.0</td>\n",
       "      <td>72.0</td>\n",
       "      <td>17128.26</td>\n",
       "      <td>Florentina</td>\n",
       "      <td>Diaz</td>\n",
       "      <td>69</td>\n",
       "      <td>Boston-Cambridge-Newton, MA-NH MSA</td>\n",
       "      <td>2018-10-01</td>\n",
       "      <td>surf</td>\n",
       "      <td>NaT</td>\n",
       "    </tr>\n",
       "    <tr>\n",
       "      <th>2291</th>\n",
       "      <td>1349</td>\n",
       "      <td>2018-12</td>\n",
       "      <td>0.0</td>\n",
       "      <td>61.0</td>\n",
       "      <td>13039.91</td>\n",
       "      <td>Florentina</td>\n",
       "      <td>Diaz</td>\n",
       "      <td>69</td>\n",
       "      <td>Boston-Cambridge-Newton, MA-NH MSA</td>\n",
       "      <td>2018-10-01</td>\n",
       "      <td>surf</td>\n",
       "      <td>NaT</td>\n",
       "    </tr>\n",
       "    <tr>\n",
       "      <th>2292</th>\n",
       "      <td>1108</td>\n",
       "      <td>2018-12</td>\n",
       "      <td>0.0</td>\n",
       "      <td>0.0</td>\n",
       "      <td>233.17</td>\n",
       "      <td>Porfirio</td>\n",
       "      <td>Kane</td>\n",
       "      <td>45</td>\n",
       "      <td>Salt Lake City, UT MSA</td>\n",
       "      <td>2018-12-30</td>\n",
       "      <td>ultimate</td>\n",
       "      <td>NaT</td>\n",
       "    </tr>\n",
       "  </tbody>\n",
       "</table>\n",
       "<p>2293 rows × 12 columns</p>\n",
       "</div>"
      ],
      "text/plain": [
       "      user_id monthly_log_date  duration  sms_id   mb_used  first_name  \\\n",
       "0        1000          2018-12     124.0    11.0   1901.47    Anamaria   \n",
       "1        1001          2018-08     182.0    30.0   6919.15      Mickey   \n",
       "2        1001          2018-09     315.0    44.0  13314.82      Mickey   \n",
       "3        1001          2018-10     393.0    53.0  22330.49      Mickey   \n",
       "4        1001          2018-11     426.0    36.0  18504.30      Mickey   \n",
       "...       ...              ...       ...     ...       ...         ...   \n",
       "2288     1204          2018-12       0.0    78.0  36730.05      Sherly   \n",
       "2289     1349          2018-10       0.0    76.0  13093.55  Florentina   \n",
       "2290     1349          2018-11       0.0    72.0  17128.26  Florentina   \n",
       "2291     1349          2018-12       0.0    61.0  13039.91  Florentina   \n",
       "2292     1108          2018-12       0.0     0.0    233.17    Porfirio   \n",
       "\n",
       "      last_name  age                                    city   reg_date  \\\n",
       "0         Bauer   45   Atlanta-Sandy Springs-Roswell, GA MSA 2018-12-24   \n",
       "1     Wilkerson   28         Seattle-Tacoma-Bellevue, WA MSA 2018-08-13   \n",
       "2     Wilkerson   28         Seattle-Tacoma-Bellevue, WA MSA 2018-08-13   \n",
       "3     Wilkerson   28         Seattle-Tacoma-Bellevue, WA MSA 2018-08-13   \n",
       "4     Wilkerson   28         Seattle-Tacoma-Bellevue, WA MSA 2018-08-13   \n",
       "...         ...  ...                                     ...        ...   \n",
       "2288       Levy   44  Chicago-Naperville-Elgin, IL-IN-WI MSA 2018-08-20   \n",
       "2289       Diaz   69      Boston-Cambridge-Newton, MA-NH MSA 2018-10-01   \n",
       "2290       Diaz   69      Boston-Cambridge-Newton, MA-NH MSA 2018-10-01   \n",
       "2291       Diaz   69      Boston-Cambridge-Newton, MA-NH MSA 2018-10-01   \n",
       "2292       Kane   45                  Salt Lake City, UT MSA 2018-12-30   \n",
       "\n",
       "          plan churn_date  \n",
       "0     ultimate        NaT  \n",
       "1         surf        NaT  \n",
       "2         surf        NaT  \n",
       "3         surf        NaT  \n",
       "4         surf        NaT  \n",
       "...        ...        ...  \n",
       "2288  ultimate        NaT  \n",
       "2289      surf        NaT  \n",
       "2290      surf        NaT  \n",
       "2291      surf        NaT  \n",
       "2292  ultimate        NaT  \n",
       "\n",
       "[2293 rows x 12 columns]"
      ]
     },
     "execution_count": 21,
     "metadata": {},
     "output_type": "execute_result"
    }
   ],
   "source": [
    "#the issing values are on the same rows for all the 4 columns missing data\n",
    "merged_full_plan.dropna(axis=0, subset=['monthly_log_date','duration','sms_id','mb_used'],inplace=True)\n",
    "\n",
    "merged_full_plan.reset_index(drop=True)"
   ]
  },
  {
   "cell_type": "markdown",
   "metadata": {},
   "source": [
    "### Adding New Columns for the calculation of the revanue of each plan"
   ]
  },
  {
   "cell_type": "markdown",
   "metadata": {},
   "source": [
    "**Now that we have a full data for each user and its plans we can go on and start checkin each monthe what did each customer payed**\n",
    "\n",
    "**The firs thing we have to do is calculate for the plan of the user, is what part does he diviate from the plan he has for each category (calls, messages, internet) and for each user create the part of data that he does not have to pay, it is part of the data that he is entitale to, and the part that is the subtraction from the sum of this category and the plan part of the category.**\n"
   ]
  },
  {
   "cell_type": "markdown",
   "metadata": {},
   "source": [
    "#### Edding the plane objective and plan diviation columns for each category"
   ]
  },
  {
   "cell_type": "code",
   "execution_count": 22,
   "metadata": {},
   "outputs": [
    {
     "data": {
      "text/plain": [
       "Index(['messages_included', 'mb_per_month_included', 'minutes_included',\n",
       "       'usd_monthly_pay', 'usd_per_gb', 'usd_per_message', 'usd_per_minute',\n",
       "       'plan_name'],\n",
       "      dtype='object')"
      ]
     },
     "execution_count": 22,
     "metadata": {},
     "output_type": "execute_result"
    }
   ],
   "source": [
    "megaline_plans_ds.columns"
   ]
  },
  {
   "cell_type": "markdown",
   "metadata": {},
   "source": [
    "#define a function that will retrieve the filed in the megaline_plans_ds that holds the plan objective\n",
    "#and derive from it the diviation for each category, , the payment for each diviation, \n",
    "#the total payment for this month(excluded the regular monthly payment) for each category, \n",
    "#and the total revenue for a month for each user.\n",
    "\n",
    "-Surf plan:\n",
    "  - mothly payment - 20\n",
    "  - 500 monthly minutes, 50 texts, and 15 GB of data\n",
    "  - payment if diviate - 1 minute =0.03  , 1 text = 0.03 , 1 GB of data= $10\n",
    "\n",
    "-Ultimate plan:\n",
    "  - Monthly charge: 70\n",
    "  - 3000 monthly minutes, 1000 text messages, and 30 GB of data\n",
    "  - pyment if diviate - 1 minute = 0.01  , 1 text message = 0.01 , 1 GB of data = $7\n",
    "\n",
    "-If someone uses 1025 megabytes a month, they will be charged for 2 gigabytes.\n"
   ]
  },
  {
   "cell_type": "code",
   "execution_count": 23,
   "metadata": {},
   "outputs": [],
   "source": [
    "def call_diff(row):\n",
    "    \n",
    "    plan = str(row['plan']).lower()\n",
    "   \n",
    "    #call diff in minuts\n",
    "    call_plan_dur = int(megaline_plans_ds['minutes_included'].loc[(megaline_plans_ds['plan_name'] == plan)])\n",
    "    call_diff = int(abs((call_plan_dur - int(row['duration']))))\n",
    "    \n",
    "    return(call_diff)\n",
    "\n",
    "def messege_diff(row):\n",
    "    \n",
    "    plan = str(row['plan']).lower()\n",
    "    #number of messege diviations\n",
    "    messege_plan_num = int(megaline_plans_ds['messages_included'].loc[(megaline_plans_ds['plan_name'] == plan)])\n",
    "    messege_diff = abs(messege_plan_num - int(row['sms_id']))\n",
    "    return(messege_diff)\n",
    "\n",
    "def web_gb(row):\n",
    "    \n",
    "    plan = str(row['plan']).lower()\n",
    "    #number GB to be charged\n",
    "    web_plan_mb = int(megaline_plans_ds['mb_per_month_included'].loc[(megaline_plans_ds['plan_name'] == plan)])\n",
    "    web_diff = abs(web_plan_mb - int(row['mb_used']))\n",
    "    return(web_diff)\n",
    "\n",
    "def call_rev(row):\n",
    "    \n",
    "    plan = str(row['plan']).lower()\n",
    "    #number GB to be charged\n",
    "    call_rev = round(float(row['call_diff']) * float(megaline_plans_ds['usd_per_minute'].loc[(megaline_plans_ds['plan_name'] == plan)]))\n",
    "    return(call_rev)\n",
    "\n",
    "def msg_rev(row):\n",
    "    \n",
    "    plan = str(row['plan']).lower()\n",
    "    #number GB to be charged\n",
    "    msg_rev = round(float(row['messege_diff']) * float(megaline_plans_ds['usd_per_message'].loc[(megaline_plans_ds['plan_name'] == plan)]))\n",
    "    return(msg_rev)\n",
    "\n",
    "def web_rev(row):\n",
    "    \n",
    "    \n",
    "    plan = str(row['plan']).lower()\n",
    "    web_plan_mb = int(megaline_plans_ds['mb_per_month_included'].loc[(megaline_plans_ds['plan_name'] == plan)])\n",
    "    #number GB to be charged\n",
    "    if (row['web_gb'] % 1024) !=0 and  int(row['mb_used']) > web_plan_mb:\n",
    "        web_gb = (row['web_gb'] // 1024) + 1\n",
    "    elif (row['web_gb'] % 1024) !=0 and  int(row['mb_used']) < web_plan_mb:\n",
    "        web_gb = (row['web_gb'] // 1024) + 1\n",
    "    elif (row['web_gb'] % 1024) ==0 :\n",
    "        web_gb = (row['web_gb'] // 1024)\n",
    "    \n",
    "    web_rev = int(web_gb) * int(megaline_plans_ds['usd_per_gb'].loc[(megaline_plans_ds['plan_name'] == plan)])\n",
    "\n",
    "    return(web_rev)\n",
    "\n",
    "def plan_mothly(row):\n",
    "    \n",
    "    plan = str(row['plan']).lower()\n",
    "    #number GB to be charged\n",
    "    plan_mothly_pay = int(megaline_plans_ds['usd_monthly_pay'].loc[(megaline_plans_ds['plan_name'] == plan)]) \n",
    "    \n",
    "    return(plan_mothly_pay)\n",
    "\n",
    "def total_dif_rev(row):\n",
    "    \n",
    "    #total_dif_rev\n",
    "    call_rev =int(float(str(row['call_rev'])))\n",
    "    msg_rev =int(float(str(row['msg_rev'])))\n",
    "    web_rev =row['web_rev']\n",
    "    web_rev =int(web_rev)\n",
    "    \n",
    "\n",
    "    total_dif_rev = call_rev + msg_rev+ web_rev\n",
    "    \n",
    "    return(total_dif_rev)\n",
    "\n",
    "def total_payment(row):\n",
    "    \n",
    "    plan = str(row['plan']).lower()\n",
    "    #total_payment to be charged\n",
    "    total_payment = round(row['total_dif_rev'] + row['msg_rev'] + float(row['web_rev']))\n",
    "    total_payment = int(total_payment)\n",
    "    return(total_payment)\n",
    "    \n"
   ]
  },
  {
   "cell_type": "code",
   "execution_count": 25,
   "metadata": {
    "scrolled": true
   },
   "outputs": [],
   "source": [
    "#Edding the columns we need for the investigation\n",
    "merged_full_plan['call_diff'] = merged_full_plan.apply(call_diff , axis=1)\n",
    "merged_full_plan['messege_diff']= merged_full_plan.apply(messege_diff, axis=1)\n",
    "merged_full_plan['web_gb'] = merged_full_plan.apply(web_gb , axis=1)\n",
    "merged_full_plan['call_rev'] = merged_full_plan.apply(call_rev , axis=1)\n",
    "merged_full_plan['msg_rev'] = merged_full_plan.apply(msg_rev , axis=1)\n",
    "merged_full_plan['web_rev'] = merged_full_plan.apply(web_rev , axis=1)\n",
    "merged_full_plan['plan_mothly'] = merged_full_plan.apply(plan_mothly , axis=1)\n",
    "merged_full_plan['total_dif_rev'] = merged_full_plan.apply(total_dif_rev , axis=1)\n",
    "merged_full_plan['total_payment'] = merged_full_plan.apply(total_payment , axis=1)\n"
   ]
  },
  {
   "cell_type": "code",
   "execution_count": 26,
   "metadata": {},
   "outputs": [
    {
     "data": {
      "text/html": [
       "<div>\n",
       "<style scoped>\n",
       "    .dataframe tbody tr th:only-of-type {\n",
       "        vertical-align: middle;\n",
       "    }\n",
       "\n",
       "    .dataframe tbody tr th {\n",
       "        vertical-align: top;\n",
       "    }\n",
       "\n",
       "    .dataframe thead th {\n",
       "        text-align: right;\n",
       "    }\n",
       "</style>\n",
       "<table border=\"1\" class=\"dataframe\">\n",
       "  <thead>\n",
       "    <tr style=\"text-align: right;\">\n",
       "      <th></th>\n",
       "      <th>user_id</th>\n",
       "      <th>monthly_log_date</th>\n",
       "      <th>duration</th>\n",
       "      <th>sms_id</th>\n",
       "      <th>mb_used</th>\n",
       "      <th>first_name</th>\n",
       "      <th>last_name</th>\n",
       "      <th>age</th>\n",
       "      <th>city</th>\n",
       "      <th>reg_date</th>\n",
       "      <th>plan</th>\n",
       "      <th>churn_date</th>\n",
       "      <th>call_diff</th>\n",
       "      <th>messege_diff</th>\n",
       "      <th>web_gb</th>\n",
       "      <th>call_rev</th>\n",
       "      <th>msg_rev</th>\n",
       "      <th>web_rev</th>\n",
       "      <th>plan_mothly</th>\n",
       "      <th>total_dif_rev</th>\n",
       "      <th>total_payment</th>\n",
       "    </tr>\n",
       "  </thead>\n",
       "  <tbody>\n",
       "    <tr>\n",
       "      <th>0</th>\n",
       "      <td>1000</td>\n",
       "      <td>2018-12</td>\n",
       "      <td>124.0</td>\n",
       "      <td>11.0</td>\n",
       "      <td>1901.47</td>\n",
       "      <td>Anamaria</td>\n",
       "      <td>Bauer</td>\n",
       "      <td>45</td>\n",
       "      <td>Atlanta-Sandy Springs-Roswell, GA MSA</td>\n",
       "      <td>2018-12-24</td>\n",
       "      <td>ultimate</td>\n",
       "      <td>NaT</td>\n",
       "      <td>2876</td>\n",
       "      <td>989</td>\n",
       "      <td>28819</td>\n",
       "      <td>29</td>\n",
       "      <td>10</td>\n",
       "      <td>203</td>\n",
       "      <td>70</td>\n",
       "      <td>242</td>\n",
       "      <td>455</td>\n",
       "    </tr>\n",
       "    <tr>\n",
       "      <th>1</th>\n",
       "      <td>1001</td>\n",
       "      <td>2018-08</td>\n",
       "      <td>182.0</td>\n",
       "      <td>30.0</td>\n",
       "      <td>6919.15</td>\n",
       "      <td>Mickey</td>\n",
       "      <td>Wilkerson</td>\n",
       "      <td>28</td>\n",
       "      <td>Seattle-Tacoma-Bellevue, WA MSA</td>\n",
       "      <td>2018-08-13</td>\n",
       "      <td>surf</td>\n",
       "      <td>NaT</td>\n",
       "      <td>318</td>\n",
       "      <td>20</td>\n",
       "      <td>8441</td>\n",
       "      <td>10</td>\n",
       "      <td>1</td>\n",
       "      <td>90</td>\n",
       "      <td>20</td>\n",
       "      <td>101</td>\n",
       "      <td>192</td>\n",
       "    </tr>\n",
       "    <tr>\n",
       "      <th>2</th>\n",
       "      <td>1001</td>\n",
       "      <td>2018-09</td>\n",
       "      <td>315.0</td>\n",
       "      <td>44.0</td>\n",
       "      <td>13314.82</td>\n",
       "      <td>Mickey</td>\n",
       "      <td>Wilkerson</td>\n",
       "      <td>28</td>\n",
       "      <td>Seattle-Tacoma-Bellevue, WA MSA</td>\n",
       "      <td>2018-08-13</td>\n",
       "      <td>surf</td>\n",
       "      <td>NaT</td>\n",
       "      <td>185</td>\n",
       "      <td>6</td>\n",
       "      <td>2046</td>\n",
       "      <td>6</td>\n",
       "      <td>0</td>\n",
       "      <td>20</td>\n",
       "      <td>20</td>\n",
       "      <td>26</td>\n",
       "      <td>46</td>\n",
       "    </tr>\n",
       "    <tr>\n",
       "      <th>3</th>\n",
       "      <td>1001</td>\n",
       "      <td>2018-10</td>\n",
       "      <td>393.0</td>\n",
       "      <td>53.0</td>\n",
       "      <td>22330.49</td>\n",
       "      <td>Mickey</td>\n",
       "      <td>Wilkerson</td>\n",
       "      <td>28</td>\n",
       "      <td>Seattle-Tacoma-Bellevue, WA MSA</td>\n",
       "      <td>2018-08-13</td>\n",
       "      <td>surf</td>\n",
       "      <td>NaT</td>\n",
       "      <td>107</td>\n",
       "      <td>3</td>\n",
       "      <td>6970</td>\n",
       "      <td>3</td>\n",
       "      <td>0</td>\n",
       "      <td>70</td>\n",
       "      <td>20</td>\n",
       "      <td>73</td>\n",
       "      <td>143</td>\n",
       "    </tr>\n",
       "    <tr>\n",
       "      <th>4</th>\n",
       "      <td>1001</td>\n",
       "      <td>2018-11</td>\n",
       "      <td>426.0</td>\n",
       "      <td>36.0</td>\n",
       "      <td>18504.30</td>\n",
       "      <td>Mickey</td>\n",
       "      <td>Wilkerson</td>\n",
       "      <td>28</td>\n",
       "      <td>Seattle-Tacoma-Bellevue, WA MSA</td>\n",
       "      <td>2018-08-13</td>\n",
       "      <td>surf</td>\n",
       "      <td>NaT</td>\n",
       "      <td>74</td>\n",
       "      <td>14</td>\n",
       "      <td>3144</td>\n",
       "      <td>2</td>\n",
       "      <td>0</td>\n",
       "      <td>40</td>\n",
       "      <td>20</td>\n",
       "      <td>42</td>\n",
       "      <td>82</td>\n",
       "    </tr>\n",
       "  </tbody>\n",
       "</table>\n",
       "</div>"
      ],
      "text/plain": [
       "   user_id monthly_log_date  duration  sms_id   mb_used first_name  last_name  \\\n",
       "0     1000          2018-12     124.0    11.0   1901.47   Anamaria      Bauer   \n",
       "1     1001          2018-08     182.0    30.0   6919.15     Mickey  Wilkerson   \n",
       "2     1001          2018-09     315.0    44.0  13314.82     Mickey  Wilkerson   \n",
       "3     1001          2018-10     393.0    53.0  22330.49     Mickey  Wilkerson   \n",
       "4     1001          2018-11     426.0    36.0  18504.30     Mickey  Wilkerson   \n",
       "\n",
       "   age                                   city   reg_date      plan churn_date  \\\n",
       "0   45  Atlanta-Sandy Springs-Roswell, GA MSA 2018-12-24  ultimate        NaT   \n",
       "1   28        Seattle-Tacoma-Bellevue, WA MSA 2018-08-13      surf        NaT   \n",
       "2   28        Seattle-Tacoma-Bellevue, WA MSA 2018-08-13      surf        NaT   \n",
       "3   28        Seattle-Tacoma-Bellevue, WA MSA 2018-08-13      surf        NaT   \n",
       "4   28        Seattle-Tacoma-Bellevue, WA MSA 2018-08-13      surf        NaT   \n",
       "\n",
       "   call_diff  messege_diff  web_gb  call_rev  msg_rev  web_rev  plan_mothly  \\\n",
       "0       2876           989   28819        29       10      203           70   \n",
       "1        318            20    8441        10        1       90           20   \n",
       "2        185             6    2046         6        0       20           20   \n",
       "3        107             3    6970         3        0       70           20   \n",
       "4         74            14    3144         2        0       40           20   \n",
       "\n",
       "   total_dif_rev  total_payment  \n",
       "0            242            455  \n",
       "1            101            192  \n",
       "2             26             46  \n",
       "3             73            143  \n",
       "4             42             82  "
      ]
     },
     "execution_count": 26,
     "metadata": {},
     "output_type": "execute_result"
    }
   ],
   "source": [
    "#with a sample we will chack the new values\n",
    "merged_full_plan.head()"
   ]
  },
  {
   "cell_type": "markdown",
   "metadata": {},
   "source": [
    "### Devide the dataset to two population dataset \n",
    "\n",
    "**devide the populstions to two groups by theire comunication plan**"
   ]
  },
  {
   "cell_type": "code",
   "execution_count": 27,
   "metadata": {},
   "outputs": [],
   "source": [
    "#New dta set for the Surf plan population\n",
    "surf_plan = merged_full_plan[merged_full_plan['plan']=='surf']\n",
    "\n",
    "#new data set for the Ultimate population\n",
    "ultimate_plan = merged_full_plan[merged_full_plan['plan']=='ultimate']"
   ]
  },
  {
   "cell_type": "code",
   "execution_count": 28,
   "metadata": {
    "scrolled": true
   },
   "outputs": [
    {
     "data": {
      "text/html": [
       "<th style=\"text-align:center\"><td style=\"vertical-align:top\"><h2 style=\"text-align: center;\">Surf</h2><table style=\"display:inline\" border=\"1\" class=\"dataframe\">\n",
       "  <thead>\n",
       "    <tr style=\"text-align: right;\">\n",
       "      <th></th>\n",
       "      <th>user_id</th>\n",
       "      <th>monthly_log_date</th>\n",
       "      <th>duration</th>\n",
       "      <th>sms_id</th>\n",
       "      <th>mb_used</th>\n",
       "      <th>first_name</th>\n",
       "      <th>last_name</th>\n",
       "      <th>age</th>\n",
       "      <th>city</th>\n",
       "      <th>reg_date</th>\n",
       "      <th>plan</th>\n",
       "      <th>churn_date</th>\n",
       "      <th>call_diff</th>\n",
       "      <th>messege_diff</th>\n",
       "      <th>web_gb</th>\n",
       "      <th>call_rev</th>\n",
       "      <th>msg_rev</th>\n",
       "      <th>web_rev</th>\n",
       "      <th>plan_mothly</th>\n",
       "      <th>total_dif_rev</th>\n",
       "      <th>total_payment</th>\n",
       "    </tr>\n",
       "  </thead>\n",
       "  <tbody>\n",
       "    <tr>\n",
       "      <th>1</th>\n",
       "      <td>1001</td>\n",
       "      <td>2018-08</td>\n",
       "      <td>182.0</td>\n",
       "      <td>30.0</td>\n",
       "      <td>6919.15</td>\n",
       "      <td>Mickey</td>\n",
       "      <td>Wilkerson</td>\n",
       "      <td>28</td>\n",
       "      <td>Seattle-Tacoma-Bellevue, WA MSA</td>\n",
       "      <td>2018-08-13</td>\n",
       "      <td>surf</td>\n",
       "      <td>NaT</td>\n",
       "      <td>318</td>\n",
       "      <td>20</td>\n",
       "      <td>8441</td>\n",
       "      <td>10</td>\n",
       "      <td>1</td>\n",
       "      <td>90</td>\n",
       "      <td>20</td>\n",
       "      <td>101</td>\n",
       "      <td>192</td>\n",
       "    </tr>\n",
       "    <tr>\n",
       "      <th>2</th>\n",
       "      <td>1001</td>\n",
       "      <td>2018-09</td>\n",
       "      <td>315.0</td>\n",
       "      <td>44.0</td>\n",
       "      <td>13314.82</td>\n",
       "      <td>Mickey</td>\n",
       "      <td>Wilkerson</td>\n",
       "      <td>28</td>\n",
       "      <td>Seattle-Tacoma-Bellevue, WA MSA</td>\n",
       "      <td>2018-08-13</td>\n",
       "      <td>surf</td>\n",
       "      <td>NaT</td>\n",
       "      <td>185</td>\n",
       "      <td>6</td>\n",
       "      <td>2046</td>\n",
       "      <td>6</td>\n",
       "      <td>0</td>\n",
       "      <td>20</td>\n",
       "      <td>20</td>\n",
       "      <td>26</td>\n",
       "      <td>46</td>\n",
       "    </tr>\n",
       "    <tr>\n",
       "      <th>3</th>\n",
       "      <td>1001</td>\n",
       "      <td>2018-10</td>\n",
       "      <td>393.0</td>\n",
       "      <td>53.0</td>\n",
       "      <td>22330.49</td>\n",
       "      <td>Mickey</td>\n",
       "      <td>Wilkerson</td>\n",
       "      <td>28</td>\n",
       "      <td>Seattle-Tacoma-Bellevue, WA MSA</td>\n",
       "      <td>2018-08-13</td>\n",
       "      <td>surf</td>\n",
       "      <td>NaT</td>\n",
       "      <td>107</td>\n",
       "      <td>3</td>\n",
       "      <td>6970</td>\n",
       "      <td>3</td>\n",
       "      <td>0</td>\n",
       "      <td>70</td>\n",
       "      <td>20</td>\n",
       "      <td>73</td>\n",
       "      <td>143</td>\n",
       "    </tr>\n",
       "    <tr>\n",
       "      <th>4</th>\n",
       "      <td>1001</td>\n",
       "      <td>2018-11</td>\n",
       "      <td>426.0</td>\n",
       "      <td>36.0</td>\n",
       "      <td>18504.30</td>\n",
       "      <td>Mickey</td>\n",
       "      <td>Wilkerson</td>\n",
       "      <td>28</td>\n",
       "      <td>Seattle-Tacoma-Bellevue, WA MSA</td>\n",
       "      <td>2018-08-13</td>\n",
       "      <td>surf</td>\n",
       "      <td>NaT</td>\n",
       "      <td>74</td>\n",
       "      <td>14</td>\n",
       "      <td>3144</td>\n",
       "      <td>2</td>\n",
       "      <td>0</td>\n",
       "      <td>40</td>\n",
       "      <td>20</td>\n",
       "      <td>42</td>\n",
       "      <td>82</td>\n",
       "    </tr>\n",
       "    <tr>\n",
       "      <th>5</th>\n",
       "      <td>1001</td>\n",
       "      <td>2018-12</td>\n",
       "      <td>412.0</td>\n",
       "      <td>44.0</td>\n",
       "      <td>19369.18</td>\n",
       "      <td>Mickey</td>\n",
       "      <td>Wilkerson</td>\n",
       "      <td>28</td>\n",
       "      <td>Seattle-Tacoma-Bellevue, WA MSA</td>\n",
       "      <td>2018-08-13</td>\n",
       "      <td>surf</td>\n",
       "      <td>NaT</td>\n",
       "      <td>88</td>\n",
       "      <td>6</td>\n",
       "      <td>4009</td>\n",
       "      <td>3</td>\n",
       "      <td>0</td>\n",
       "      <td>40</td>\n",
       "      <td>20</td>\n",
       "      <td>43</td>\n",
       "      <td>83</td>\n",
       "    </tr>\n",
       "  </tbody>\n",
       "</table style=\"display:inline\"></td></th><th style=\"text-align:center\"><td style=\"vertical-align:top\"><h2 style=\"text-align: center;\">Ultimate</h2><table style=\"display:inline\" border=\"1\" class=\"dataframe\">\n",
       "  <thead>\n",
       "    <tr style=\"text-align: right;\">\n",
       "      <th></th>\n",
       "      <th>user_id</th>\n",
       "      <th>monthly_log_date</th>\n",
       "      <th>duration</th>\n",
       "      <th>sms_id</th>\n",
       "      <th>mb_used</th>\n",
       "      <th>first_name</th>\n",
       "      <th>last_name</th>\n",
       "      <th>age</th>\n",
       "      <th>city</th>\n",
       "      <th>reg_date</th>\n",
       "      <th>plan</th>\n",
       "      <th>churn_date</th>\n",
       "      <th>call_diff</th>\n",
       "      <th>messege_diff</th>\n",
       "      <th>web_gb</th>\n",
       "      <th>call_rev</th>\n",
       "      <th>msg_rev</th>\n",
       "      <th>web_rev</th>\n",
       "      <th>plan_mothly</th>\n",
       "      <th>total_dif_rev</th>\n",
       "      <th>total_payment</th>\n",
       "    </tr>\n",
       "  </thead>\n",
       "  <tbody>\n",
       "    <tr>\n",
       "      <th>0</th>\n",
       "      <td>1000</td>\n",
       "      <td>2018-12</td>\n",
       "      <td>124.0</td>\n",
       "      <td>11.0</td>\n",
       "      <td>1901.47</td>\n",
       "      <td>Anamaria</td>\n",
       "      <td>Bauer</td>\n",
       "      <td>45</td>\n",
       "      <td>Atlanta-Sandy Springs-Roswell, GA MSA</td>\n",
       "      <td>2018-12-24</td>\n",
       "      <td>ultimate</td>\n",
       "      <td>NaT</td>\n",
       "      <td>2876</td>\n",
       "      <td>989</td>\n",
       "      <td>28819</td>\n",
       "      <td>29</td>\n",
       "      <td>10</td>\n",
       "      <td>203</td>\n",
       "      <td>70</td>\n",
       "      <td>242</td>\n",
       "      <td>455</td>\n",
       "    </tr>\n",
       "    <tr>\n",
       "      <th>19</th>\n",
       "      <td>1006</td>\n",
       "      <td>2018-11</td>\n",
       "      <td>10.0</td>\n",
       "      <td>15.0</td>\n",
       "      <td>2068.37</td>\n",
       "      <td>Jesusa</td>\n",
       "      <td>Bradford</td>\n",
       "      <td>73</td>\n",
       "      <td>San Francisco-Oakland-Berkeley, CA MSA</td>\n",
       "      <td>2018-11-27</td>\n",
       "      <td>ultimate</td>\n",
       "      <td>2018-12-18</td>\n",
       "      <td>2990</td>\n",
       "      <td>985</td>\n",
       "      <td>28652</td>\n",
       "      <td>30</td>\n",
       "      <td>10</td>\n",
       "      <td>196</td>\n",
       "      <td>70</td>\n",
       "      <td>236</td>\n",
       "      <td>442</td>\n",
       "    </tr>\n",
       "    <tr>\n",
       "      <th>20</th>\n",
       "      <td>1006</td>\n",
       "      <td>2018-12</td>\n",
       "      <td>59.0</td>\n",
       "      <td>139.0</td>\n",
       "      <td>32118.82</td>\n",
       "      <td>Jesusa</td>\n",
       "      <td>Bradford</td>\n",
       "      <td>73</td>\n",
       "      <td>San Francisco-Oakland-Berkeley, CA MSA</td>\n",
       "      <td>2018-11-27</td>\n",
       "      <td>ultimate</td>\n",
       "      <td>2018-12-18</td>\n",
       "      <td>2941</td>\n",
       "      <td>861</td>\n",
       "      <td>1398</td>\n",
       "      <td>29</td>\n",
       "      <td>9</td>\n",
       "      <td>14</td>\n",
       "      <td>70</td>\n",
       "      <td>52</td>\n",
       "      <td>75</td>\n",
       "    </tr>\n",
       "    <tr>\n",
       "      <th>26</th>\n",
       "      <td>1008</td>\n",
       "      <td>2018-10</td>\n",
       "      <td>476.0</td>\n",
       "      <td>21.0</td>\n",
       "      <td>17106.99</td>\n",
       "      <td>Emely</td>\n",
       "      <td>Hoffman</td>\n",
       "      <td>53</td>\n",
       "      <td>Orlando-Kissimmee-Sanford, FL MSA</td>\n",
       "      <td>2018-08-03</td>\n",
       "      <td>ultimate</td>\n",
       "      <td>NaT</td>\n",
       "      <td>2524</td>\n",
       "      <td>979</td>\n",
       "      <td>13614</td>\n",
       "      <td>25</td>\n",
       "      <td>10</td>\n",
       "      <td>98</td>\n",
       "      <td>70</td>\n",
       "      <td>133</td>\n",
       "      <td>241</td>\n",
       "    </tr>\n",
       "    <tr>\n",
       "      <th>27</th>\n",
       "      <td>1008</td>\n",
       "      <td>2018-11</td>\n",
       "      <td>446.0</td>\n",
       "      <td>37.0</td>\n",
       "      <td>23676.72</td>\n",
       "      <td>Emely</td>\n",
       "      <td>Hoffman</td>\n",
       "      <td>53</td>\n",
       "      <td>Orlando-Kissimmee-Sanford, FL MSA</td>\n",
       "      <td>2018-08-03</td>\n",
       "      <td>ultimate</td>\n",
       "      <td>NaT</td>\n",
       "      <td>2554</td>\n",
       "      <td>963</td>\n",
       "      <td>7044</td>\n",
       "      <td>26</td>\n",
       "      <td>10</td>\n",
       "      <td>49</td>\n",
       "      <td>70</td>\n",
       "      <td>85</td>\n",
       "      <td>144</td>\n",
       "    </tr>\n",
       "  </tbody>\n",
       "</table style=\"display:inline\"></td></th>"
      ]
     },
     "metadata": {},
     "output_type": "display_data"
    }
   ],
   "source": [
    "display_side_by_side(surf_plan.head(),ultimate_plan.head(),titles=['Surf','Ultimate'])\n"
   ]
  },
  {
   "cell_type": "markdown",
   "metadata": {},
   "source": [
    "## Start Our Mnipulation and analyses of the data\n",
    "\n",
    "**The data is a sample of the vast data that we were givven so we will treat it as one**\n"
   ]
  },
  {
   "cell_type": "markdown",
   "metadata": {},
   "source": [
    "### Find the mean and median for each user in the generagl dara nad in the unique plan data"
   ]
  },
  {
   "cell_type": "code",
   "execution_count": 29,
   "metadata": {
    "scrolled": true
   },
   "outputs": [
    {
     "data": {
      "text/html": [
       "<th style=\"text-align:center\"><td style=\"vertical-align:top\"><h2 style=\"text-align: center;\">Surf</h2><table style=\"display:inline\" border=\"1\" class=\"dataframe\">\n",
       "  <thead>\n",
       "    <tr style=\"text-align: right;\">\n",
       "      <th></th>\n",
       "      <th>count</th>\n",
       "      <th>mean</th>\n",
       "      <th>std</th>\n",
       "      <th>min</th>\n",
       "      <th>25%</th>\n",
       "      <th>50%</th>\n",
       "      <th>75%</th>\n",
       "      <th>max</th>\n",
       "    </tr>\n",
       "  </thead>\n",
       "  <tbody>\n",
       "    <tr>\n",
       "      <th>user_id</th>\n",
       "      <td>1573</td>\n",
       "      <td>1242</td>\n",
       "      <td>139</td>\n",
       "      <td>1001</td>\n",
       "      <td>1120</td>\n",
       "      <td>1245</td>\n",
       "      <td>1358</td>\n",
       "      <td>1499</td>\n",
       "    </tr>\n",
       "    <tr>\n",
       "      <th>duration</th>\n",
       "      <td>1573</td>\n",
       "      <td>428</td>\n",
       "      <td>234</td>\n",
       "      <td>0</td>\n",
       "      <td>272</td>\n",
       "      <td>425</td>\n",
       "      <td>576</td>\n",
       "      <td>1510</td>\n",
       "    </tr>\n",
       "    <tr>\n",
       "      <th>sms_id</th>\n",
       "      <td>1573</td>\n",
       "      <td>31</td>\n",
       "      <td>33</td>\n",
       "      <td>0</td>\n",
       "      <td>3</td>\n",
       "      <td>24</td>\n",
       "      <td>47</td>\n",
       "      <td>266</td>\n",
       "    </tr>\n",
       "    <tr>\n",
       "      <th>mb_used</th>\n",
       "      <td>1573</td>\n",
       "      <td>16558</td>\n",
       "      <td>8013</td>\n",
       "      <td>0</td>\n",
       "      <td>11986</td>\n",
       "      <td>16829</td>\n",
       "      <td>20999</td>\n",
       "      <td>70931</td>\n",
       "    </tr>\n",
       "    <tr>\n",
       "      <th>age</th>\n",
       "      <td>1573</td>\n",
       "      <td>44</td>\n",
       "      <td>16</td>\n",
       "      <td>18</td>\n",
       "      <td>29</td>\n",
       "      <td>45</td>\n",
       "      <td>59</td>\n",
       "      <td>75</td>\n",
       "    </tr>\n",
       "    <tr>\n",
       "      <th>call_diff</th>\n",
       "      <td>1573</td>\n",
       "      <td>194</td>\n",
       "      <td>149</td>\n",
       "      <td>0</td>\n",
       "      <td>76</td>\n",
       "      <td>158</td>\n",
       "      <td>288</td>\n",
       "      <td>1010</td>\n",
       "    </tr>\n",
       "    <tr>\n",
       "      <th>messege_diff</th>\n",
       "      <td>1573</td>\n",
       "      <td>32</td>\n",
       "      <td>20</td>\n",
       "      <td>0</td>\n",
       "      <td>17</td>\n",
       "      <td>33</td>\n",
       "      <td>50</td>\n",
       "      <td>216</td>\n",
       "    </tr>\n",
       "    <tr>\n",
       "      <th>web_gb</th>\n",
       "      <td>1573</td>\n",
       "      <td>6096</td>\n",
       "      <td>5335</td>\n",
       "      <td>31</td>\n",
       "      <td>2162</td>\n",
       "      <td>4829</td>\n",
       "      <td>8601</td>\n",
       "      <td>55571</td>\n",
       "    </tr>\n",
       "    <tr>\n",
       "      <th>call_rev</th>\n",
       "      <td>1573</td>\n",
       "      <td>5</td>\n",
       "      <td>4</td>\n",
       "      <td>0</td>\n",
       "      <td>2</td>\n",
       "      <td>5</td>\n",
       "      <td>9</td>\n",
       "      <td>30</td>\n",
       "    </tr>\n",
       "    <tr>\n",
       "      <th>msg_rev</th>\n",
       "      <td>1573</td>\n",
       "      <td>1</td>\n",
       "      <td>0</td>\n",
       "      <td>0</td>\n",
       "      <td>1</td>\n",
       "      <td>1</td>\n",
       "      <td>2</td>\n",
       "      <td>6</td>\n",
       "    </tr>\n",
       "    <tr>\n",
       "      <th>web_rev</th>\n",
       "      <td>1573</td>\n",
       "      <td>64</td>\n",
       "      <td>51</td>\n",
       "      <td>10</td>\n",
       "      <td>30</td>\n",
       "      <td>50</td>\n",
       "      <td>90</td>\n",
       "      <td>550</td>\n",
       "    </tr>\n",
       "    <tr>\n",
       "      <th>plan_mothly</th>\n",
       "      <td>1573</td>\n",
       "      <td>20</td>\n",
       "      <td>0</td>\n",
       "      <td>20</td>\n",
       "      <td>20</td>\n",
       "      <td>20</td>\n",
       "      <td>20</td>\n",
       "      <td>20</td>\n",
       "    </tr>\n",
       "    <tr>\n",
       "      <th>total_dif_rev</th>\n",
       "      <td>1573</td>\n",
       "      <td>71</td>\n",
       "      <td>53</td>\n",
       "      <td>10</td>\n",
       "      <td>32</td>\n",
       "      <td>58</td>\n",
       "      <td>98</td>\n",
       "      <td>570</td>\n",
       "    </tr>\n",
       "    <tr>\n",
       "      <th>total_payment</th>\n",
       "      <td>1573</td>\n",
       "      <td>137</td>\n",
       "      <td>105</td>\n",
       "      <td>20</td>\n",
       "      <td>63</td>\n",
       "      <td>109</td>\n",
       "      <td>189</td>\n",
       "      <td>1122</td>\n",
       "    </tr>\n",
       "  </tbody>\n",
       "</table style=\"display:inline\"></td></th><th style=\"text-align:center\"><td style=\"vertical-align:top\"><h2 style=\"text-align: center;\">Ultimate</h2><table style=\"display:inline\" border=\"1\" class=\"dataframe\">\n",
       "  <thead>\n",
       "    <tr style=\"text-align: right;\">\n",
       "      <th></th>\n",
       "      <th>count</th>\n",
       "      <th>mean</th>\n",
       "      <th>std</th>\n",
       "      <th>min</th>\n",
       "      <th>25%</th>\n",
       "      <th>50%</th>\n",
       "      <th>75%</th>\n",
       "      <th>max</th>\n",
       "    </tr>\n",
       "  </thead>\n",
       "  <tbody>\n",
       "    <tr>\n",
       "      <th>user_id</th>\n",
       "      <td>720</td>\n",
       "      <td>1253</td>\n",
       "      <td>150</td>\n",
       "      <td>1000</td>\n",
       "      <td>1126</td>\n",
       "      <td>1241</td>\n",
       "      <td>1401</td>\n",
       "      <td>1497</td>\n",
       "    </tr>\n",
       "    <tr>\n",
       "      <th>duration</th>\n",
       "      <td>720</td>\n",
       "      <td>430</td>\n",
       "      <td>240</td>\n",
       "      <td>0</td>\n",
       "      <td>260</td>\n",
       "      <td>424</td>\n",
       "      <td>565</td>\n",
       "      <td>1369</td>\n",
       "    </tr>\n",
       "    <tr>\n",
       "      <th>sms_id</th>\n",
       "      <td>720</td>\n",
       "      <td>37</td>\n",
       "      <td>34</td>\n",
       "      <td>0</td>\n",
       "      <td>7</td>\n",
       "      <td>30</td>\n",
       "      <td>61</td>\n",
       "      <td>166</td>\n",
       "    </tr>\n",
       "    <tr>\n",
       "      <th>mb_used</th>\n",
       "      <td>720</td>\n",
       "      <td>17214</td>\n",
       "      <td>7851</td>\n",
       "      <td>0</td>\n",
       "      <td>12666</td>\n",
       "      <td>16858</td>\n",
       "      <td>21014</td>\n",
       "      <td>46595</td>\n",
       "    </tr>\n",
       "    <tr>\n",
       "      <th>age</th>\n",
       "      <td>720</td>\n",
       "      <td>47</td>\n",
       "      <td>16</td>\n",
       "      <td>18</td>\n",
       "      <td>34</td>\n",
       "      <td>48</td>\n",
       "      <td>64</td>\n",
       "      <td>75</td>\n",
       "    </tr>\n",
       "    <tr>\n",
       "      <th>call_diff</th>\n",
       "      <td>720</td>\n",
       "      <td>2569</td>\n",
       "      <td>240</td>\n",
       "      <td>1631</td>\n",
       "      <td>2434</td>\n",
       "      <td>2576</td>\n",
       "      <td>2740</td>\n",
       "      <td>3000</td>\n",
       "    </tr>\n",
       "    <tr>\n",
       "      <th>messege_diff</th>\n",
       "      <td>720</td>\n",
       "      <td>962</td>\n",
       "      <td>34</td>\n",
       "      <td>834</td>\n",
       "      <td>939</td>\n",
       "      <td>970</td>\n",
       "      <td>993</td>\n",
       "      <td>1000</td>\n",
       "    </tr>\n",
       "    <tr>\n",
       "      <th>web_gb</th>\n",
       "      <td>720</td>\n",
       "      <td>14124</td>\n",
       "      <td>6672</td>\n",
       "      <td>116</td>\n",
       "      <td>9804</td>\n",
       "      <td>13938</td>\n",
       "      <td>18053</td>\n",
       "      <td>30720</td>\n",
       "    </tr>\n",
       "    <tr>\n",
       "      <th>call_rev</th>\n",
       "      <td>720</td>\n",
       "      <td>25</td>\n",
       "      <td>2</td>\n",
       "      <td>16</td>\n",
       "      <td>24</td>\n",
       "      <td>26</td>\n",
       "      <td>27</td>\n",
       "      <td>30</td>\n",
       "    </tr>\n",
       "    <tr>\n",
       "      <th>msg_rev</th>\n",
       "      <td>720</td>\n",
       "      <td>9</td>\n",
       "      <td>0</td>\n",
       "      <td>8</td>\n",
       "      <td>9</td>\n",
       "      <td>10</td>\n",
       "      <td>10</td>\n",
       "      <td>10</td>\n",
       "    </tr>\n",
       "    <tr>\n",
       "      <th>web_rev</th>\n",
       "      <td>720</td>\n",
       "      <td>100</td>\n",
       "      <td>45</td>\n",
       "      <td>7</td>\n",
       "      <td>70</td>\n",
       "      <td>98</td>\n",
       "      <td>126</td>\n",
       "      <td>210</td>\n",
       "    </tr>\n",
       "    <tr>\n",
       "      <th>plan_mothly</th>\n",
       "      <td>720</td>\n",
       "      <td>70</td>\n",
       "      <td>0</td>\n",
       "      <td>70</td>\n",
       "      <td>70</td>\n",
       "      <td>70</td>\n",
       "      <td>70</td>\n",
       "      <td>70</td>\n",
       "    </tr>\n",
       "    <tr>\n",
       "      <th>total_dif_rev</th>\n",
       "      <td>720</td>\n",
       "      <td>135</td>\n",
       "      <td>46</td>\n",
       "      <td>38</td>\n",
       "      <td>105</td>\n",
       "      <td>134</td>\n",
       "      <td>162</td>\n",
       "      <td>250</td>\n",
       "    </tr>\n",
       "    <tr>\n",
       "      <th>total_payment</th>\n",
       "      <td>720</td>\n",
       "      <td>245</td>\n",
       "      <td>92</td>\n",
       "      <td>54</td>\n",
       "      <td>185</td>\n",
       "      <td>242</td>\n",
       "      <td>298</td>\n",
       "      <td>470</td>\n",
       "    </tr>\n",
       "  </tbody>\n",
       "</table style=\"display:inline\"></td></th><th style=\"text-align:center\"><td style=\"vertical-align:top\"><h2 style=\"text-align: center;\">General</h2><table style=\"display:inline\" border=\"1\" class=\"dataframe\">\n",
       "  <thead>\n",
       "    <tr style=\"text-align: right;\">\n",
       "      <th></th>\n",
       "      <th>count</th>\n",
       "      <th>mean</th>\n",
       "      <th>std</th>\n",
       "      <th>min</th>\n",
       "      <th>25%</th>\n",
       "      <th>50%</th>\n",
       "      <th>75%</th>\n",
       "      <th>max</th>\n",
       "    </tr>\n",
       "  </thead>\n",
       "  <tbody>\n",
       "    <tr>\n",
       "      <th>user_id</th>\n",
       "      <td>2293</td>\n",
       "      <td>1246</td>\n",
       "      <td>143</td>\n",
       "      <td>1000</td>\n",
       "      <td>1122</td>\n",
       "      <td>1245</td>\n",
       "      <td>1368</td>\n",
       "      <td>1499</td>\n",
       "    </tr>\n",
       "    <tr>\n",
       "      <th>duration</th>\n",
       "      <td>2293</td>\n",
       "      <td>429</td>\n",
       "      <td>236</td>\n",
       "      <td>0</td>\n",
       "      <td>265</td>\n",
       "      <td>425</td>\n",
       "      <td>572</td>\n",
       "      <td>1510</td>\n",
       "    </tr>\n",
       "    <tr>\n",
       "      <th>sms_id</th>\n",
       "      <td>2293</td>\n",
       "      <td>33</td>\n",
       "      <td>34</td>\n",
       "      <td>0</td>\n",
       "      <td>3</td>\n",
       "      <td>26</td>\n",
       "      <td>51</td>\n",
       "      <td>266</td>\n",
       "    </tr>\n",
       "    <tr>\n",
       "      <th>mb_used</th>\n",
       "      <td>2293</td>\n",
       "      <td>16764</td>\n",
       "      <td>7967</td>\n",
       "      <td>0</td>\n",
       "      <td>12235</td>\n",
       "      <td>16830</td>\n",
       "      <td>20999</td>\n",
       "      <td>70931</td>\n",
       "    </tr>\n",
       "    <tr>\n",
       "      <th>age</th>\n",
       "      <td>2293</td>\n",
       "      <td>45</td>\n",
       "      <td>16</td>\n",
       "      <td>18</td>\n",
       "      <td>30</td>\n",
       "      <td>46</td>\n",
       "      <td>61</td>\n",
       "      <td>75</td>\n",
       "    </tr>\n",
       "    <tr>\n",
       "      <th>call_diff</th>\n",
       "      <td>2293</td>\n",
       "      <td>940</td>\n",
       "      <td>1117</td>\n",
       "      <td>0</td>\n",
       "      <td>114</td>\n",
       "      <td>269</td>\n",
       "      <td>2403</td>\n",
       "      <td>3000</td>\n",
       "    </tr>\n",
       "    <tr>\n",
       "      <th>messege_diff</th>\n",
       "      <td>2293</td>\n",
       "      <td>324</td>\n",
       "      <td>432</td>\n",
       "      <td>0</td>\n",
       "      <td>24</td>\n",
       "      <td>49</td>\n",
       "      <td>934</td>\n",
       "      <td>1000</td>\n",
       "    </tr>\n",
       "    <tr>\n",
       "      <th>web_gb</th>\n",
       "      <td>2293</td>\n",
       "      <td>8617</td>\n",
       "      <td>6883</td>\n",
       "      <td>31</td>\n",
       "      <td>2951</td>\n",
       "      <td>7018</td>\n",
       "      <td>13156</td>\n",
       "      <td>55571</td>\n",
       "    </tr>\n",
       "    <tr>\n",
       "      <th>call_rev</th>\n",
       "      <td>2293</td>\n",
       "      <td>12</td>\n",
       "      <td>10</td>\n",
       "      <td>0</td>\n",
       "      <td>3</td>\n",
       "      <td>8</td>\n",
       "      <td>24</td>\n",
       "      <td>30</td>\n",
       "    </tr>\n",
       "    <tr>\n",
       "      <th>msg_rev</th>\n",
       "      <td>2293</td>\n",
       "      <td>3</td>\n",
       "      <td>4</td>\n",
       "      <td>0</td>\n",
       "      <td>1</td>\n",
       "      <td>1</td>\n",
       "      <td>9</td>\n",
       "      <td>10</td>\n",
       "    </tr>\n",
       "    <tr>\n",
       "      <th>web_rev</th>\n",
       "      <td>2293</td>\n",
       "      <td>75</td>\n",
       "      <td>52</td>\n",
       "      <td>7</td>\n",
       "      <td>30</td>\n",
       "      <td>70</td>\n",
       "      <td>105</td>\n",
       "      <td>550</td>\n",
       "    </tr>\n",
       "    <tr>\n",
       "      <th>plan_mothly</th>\n",
       "      <td>2293</td>\n",
       "      <td>35</td>\n",
       "      <td>23</td>\n",
       "      <td>20</td>\n",
       "      <td>20</td>\n",
       "      <td>20</td>\n",
       "      <td>70</td>\n",
       "      <td>70</td>\n",
       "    </tr>\n",
       "    <tr>\n",
       "      <th>total_dif_rev</th>\n",
       "      <td>2293</td>\n",
       "      <td>91</td>\n",
       "      <td>59</td>\n",
       "      <td>10</td>\n",
       "      <td>43</td>\n",
       "      <td>82</td>\n",
       "      <td>134</td>\n",
       "      <td>570</td>\n",
       "    </tr>\n",
       "    <tr>\n",
       "      <th>total_payment</th>\n",
       "      <td>2293</td>\n",
       "      <td>171</td>\n",
       "      <td>113</td>\n",
       "      <td>20</td>\n",
       "      <td>80</td>\n",
       "      <td>151</td>\n",
       "      <td>246</td>\n",
       "      <td>1122</td>\n",
       "    </tr>\n",
       "  </tbody>\n",
       "</table style=\"display:inline\"></td></th>"
      ]
     },
     "metadata": {},
     "output_type": "display_data"
    }
   ],
   "source": [
    "surf_plan_describe = surf_plan.describe().T.astype(int)\n",
    "ultimate_plan_describe = ultimate_plan.describe().T.astype(int)\n",
    "merged_full_plan_describe = merged_full_plan.describe().T.astype(int)\n",
    "display_side_by_side(surf_plan_describe,ultimate_plan_describe,merged_full_plan_describe,titles=['Surf','Ultimate','General'])"
   ]
  },
  {
   "cell_type": "markdown",
   "metadata": {},
   "source": [
    "### Ploting a Histogram for the populations"
   ]
  },
  {
   "cell_type": "markdown",
   "metadata": {},
   "source": [
    "#### The General population Behaviour\n",
    "\n",
    "**Let us look how it is destributed amoung the whole population for looking at the mean and median of our general public tendancies**\n",
    "\n",
    "**That from each of the plans categories usage(calls,massegese,web)**"
   ]
  },
  {
   "cell_type": "code",
   "execution_count": 30,
   "metadata": {},
   "outputs": [
    {
     "data": {
      "text/html": [
       "<th style=\"text-align:center\"><td style=\"vertical-align:top\"><h2 style=\"text-align: center;\">calls</h2><table style=\"display:inline\" border=\"1\" class=\"dataframe\">\n",
       "  <thead>\n",
       "    <tr style=\"text-align: right;\">\n",
       "      <th></th>\n",
       "      <th>user_id</th>\n",
       "      <th>Mean_call</th>\n",
       "    </tr>\n",
       "  </thead>\n",
       "  <tbody>\n",
       "    <tr>\n",
       "      <th>0</th>\n",
       "      <td>1108</td>\n",
       "      <td>0.000000</td>\n",
       "    </tr>\n",
       "    <tr>\n",
       "      <th>1</th>\n",
       "      <td>1089</td>\n",
       "      <td>0.000000</td>\n",
       "    </tr>\n",
       "    <tr>\n",
       "      <th>2</th>\n",
       "      <td>1121</td>\n",
       "      <td>0.000000</td>\n",
       "    </tr>\n",
       "    <tr>\n",
       "      <th>3</th>\n",
       "      <td>1131</td>\n",
       "      <td>0.000000</td>\n",
       "    </tr>\n",
       "    <tr>\n",
       "      <th>4</th>\n",
       "      <td>1080</td>\n",
       "      <td>0.000000</td>\n",
       "    </tr>\n",
       "    <tr>\n",
       "      <th>5</th>\n",
       "      <td>1137</td>\n",
       "      <td>0.000000</td>\n",
       "    </tr>\n",
       "    <tr>\n",
       "      <th>6</th>\n",
       "      <td>1349</td>\n",
       "      <td>0.000000</td>\n",
       "    </tr>\n",
       "    <tr>\n",
       "      <th>7</th>\n",
       "      <td>1194</td>\n",
       "      <td>0.000000</td>\n",
       "    </tr>\n",
       "    <tr>\n",
       "      <th>8</th>\n",
       "      <td>1204</td>\n",
       "      <td>0.000000</td>\n",
       "    </tr>\n",
       "    <tr>\n",
       "      <th>9</th>\n",
       "      <td>1306</td>\n",
       "      <td>6.000000</td>\n",
       "    </tr>\n",
       "    <tr>\n",
       "      <th>10</th>\n",
       "      <td>1034</td>\n",
       "      <td>7.000000</td>\n",
       "    </tr>\n",
       "    <tr>\n",
       "      <th>11</th>\n",
       "      <td>1104</td>\n",
       "      <td>11.000000</td>\n",
       "    </tr>\n",
       "    <tr>\n",
       "      <th>12</th>\n",
       "      <td>1339</td>\n",
       "      <td>23.750000</td>\n",
       "    </tr>\n",
       "    <tr>\n",
       "      <th>13</th>\n",
       "      <td>1323</td>\n",
       "      <td>28.000000</td>\n",
       "    </tr>\n",
       "    <tr>\n",
       "      <th>14</th>\n",
       "      <td>1006</td>\n",
       "      <td>34.500000</td>\n",
       "    </tr>\n",
       "    <tr>\n",
       "      <th>15</th>\n",
       "      <td>1452</td>\n",
       "      <td>36.000000</td>\n",
       "    </tr>\n",
       "    <tr>\n",
       "      <th>16</th>\n",
       "      <td>1481</td>\n",
       "      <td>36.000000</td>\n",
       "    </tr>\n",
       "    <tr>\n",
       "      <th>17</th>\n",
       "      <td>1344</td>\n",
       "      <td>42.000000</td>\n",
       "    </tr>\n",
       "    <tr>\n",
       "      <th>18</th>\n",
       "      <td>1028</td>\n",
       "      <td>47.727273</td>\n",
       "    </tr>\n",
       "    <tr>\n",
       "      <th>19</th>\n",
       "      <td>1128</td>\n",
       "      <td>54.000000</td>\n",
       "    </tr>\n",
       "    <tr>\n",
       "      <th>20</th>\n",
       "      <td>1023</td>\n",
       "      <td>57.500000</td>\n",
       "    </tr>\n",
       "    <tr>\n",
       "      <th>21</th>\n",
       "      <td>1258</td>\n",
       "      <td>64.166667</td>\n",
       "    </tr>\n",
       "    <tr>\n",
       "      <th>22</th>\n",
       "      <td>1310</td>\n",
       "      <td>70.000000</td>\n",
       "    </tr>\n",
       "    <tr>\n",
       "      <th>23</th>\n",
       "      <td>1012</td>\n",
       "      <td>76.500000</td>\n",
       "    </tr>\n",
       "    <tr>\n",
       "      <th>24</th>\n",
       "      <td>1290</td>\n",
       "      <td>78.000000</td>\n",
       "    </tr>\n",
       "    <tr>\n",
       "      <th>25</th>\n",
       "      <td>1063</td>\n",
       "      <td>83.500000</td>\n",
       "    </tr>\n",
       "    <tr>\n",
       "      <th>26</th>\n",
       "      <td>1457</td>\n",
       "      <td>85.000000</td>\n",
       "    </tr>\n",
       "    <tr>\n",
       "      <th>27</th>\n",
       "      <td>1471</td>\n",
       "      <td>87.000000</td>\n",
       "    </tr>\n",
       "    <tr>\n",
       "      <th>28</th>\n",
       "      <td>1078</td>\n",
       "      <td>90.000000</td>\n",
       "    </tr>\n",
       "    <tr>\n",
       "      <th>29</th>\n",
       "      <td>1186</td>\n",
       "      <td>91.000000</td>\n",
       "    </tr>\n",
       "    <tr>\n",
       "      <th>30</th>\n",
       "      <td>1015</td>\n",
       "      <td>96.000000</td>\n",
       "    </tr>\n",
       "    <tr>\n",
       "      <th>31</th>\n",
       "      <td>1297</td>\n",
       "      <td>98.500000</td>\n",
       "    </tr>\n",
       "    <tr>\n",
       "      <th>32</th>\n",
       "      <td>1407</td>\n",
       "      <td>100.000000</td>\n",
       "    </tr>\n",
       "    <tr>\n",
       "      <th>33</th>\n",
       "      <td>1351</td>\n",
       "      <td>102.333333</td>\n",
       "    </tr>\n",
       "    <tr>\n",
       "      <th>34</th>\n",
       "      <td>1165</td>\n",
       "      <td>105.666667</td>\n",
       "    </tr>\n",
       "    <tr>\n",
       "      <th>35</th>\n",
       "      <td>1229</td>\n",
       "      <td>107.000000</td>\n",
       "    </tr>\n",
       "    <tr>\n",
       "      <th>36</th>\n",
       "      <td>1221</td>\n",
       "      <td>108.000000</td>\n",
       "    </tr>\n",
       "    <tr>\n",
       "      <th>37</th>\n",
       "      <td>1322</td>\n",
       "      <td>109.000000</td>\n",
       "    </tr>\n",
       "    <tr>\n",
       "      <th>38</th>\n",
       "      <td>1303</td>\n",
       "      <td>118.000000</td>\n",
       "    </tr>\n",
       "    <tr>\n",
       "      <th>39</th>\n",
       "      <td>1423</td>\n",
       "      <td>120.000000</td>\n",
       "    </tr>\n",
       "    <tr>\n",
       "      <th>40</th>\n",
       "      <td>1095</td>\n",
       "      <td>121.666667</td>\n",
       "    </tr>\n",
       "    <tr>\n",
       "      <th>41</th>\n",
       "      <td>1000</td>\n",
       "      <td>124.000000</td>\n",
       "    </tr>\n",
       "    <tr>\n",
       "      <th>42</th>\n",
       "      <td>1429</td>\n",
       "      <td>130.000000</td>\n",
       "    </tr>\n",
       "    <tr>\n",
       "      <th>43</th>\n",
       "      <td>1253</td>\n",
       "      <td>131.000000</td>\n",
       "    </tr>\n",
       "    <tr>\n",
       "      <th>44</th>\n",
       "      <td>1367</td>\n",
       "      <td>131.166667</td>\n",
       "    </tr>\n",
       "    <tr>\n",
       "      <th>45</th>\n",
       "      <td>1096</td>\n",
       "      <td>141.000000</td>\n",
       "    </tr>\n",
       "    <tr>\n",
       "      <th>46</th>\n",
       "      <td>1135</td>\n",
       "      <td>142.000000</td>\n",
       "    </tr>\n",
       "    <tr>\n",
       "      <th>47</th>\n",
       "      <td>1259</td>\n",
       "      <td>149.200000</td>\n",
       "    </tr>\n",
       "    <tr>\n",
       "      <th>48</th>\n",
       "      <td>1244</td>\n",
       "      <td>151.000000</td>\n",
       "    </tr>\n",
       "    <tr>\n",
       "      <th>49</th>\n",
       "      <td>1405</td>\n",
       "      <td>152.000000</td>\n",
       "    </tr>\n",
       "    <tr>\n",
       "      <th>50</th>\n",
       "      <td>1458</td>\n",
       "      <td>153.166667</td>\n",
       "    </tr>\n",
       "    <tr>\n",
       "      <th>51</th>\n",
       "      <td>1469</td>\n",
       "      <td>155.000000</td>\n",
       "    </tr>\n",
       "    <tr>\n",
       "      <th>52</th>\n",
       "      <td>1265</td>\n",
       "      <td>155.000000</td>\n",
       "    </tr>\n",
       "    <tr>\n",
       "      <th>53</th>\n",
       "      <td>1356</td>\n",
       "      <td>164.000000</td>\n",
       "    </tr>\n",
       "    <tr>\n",
       "      <th>54</th>\n",
       "      <td>1075</td>\n",
       "      <td>172.000000</td>\n",
       "    </tr>\n",
       "    <tr>\n",
       "      <th>55</th>\n",
       "      <td>1051</td>\n",
       "      <td>173.000000</td>\n",
       "    </tr>\n",
       "    <tr>\n",
       "      <th>56</th>\n",
       "      <td>1444</td>\n",
       "      <td>174.200000</td>\n",
       "    </tr>\n",
       "    <tr>\n",
       "      <th>57</th>\n",
       "      <td>1207</td>\n",
       "      <td>176.000000</td>\n",
       "    </tr>\n",
       "    <tr>\n",
       "      <th>58</th>\n",
       "      <td>1026</td>\n",
       "      <td>178.500000</td>\n",
       "    </tr>\n",
       "    <tr>\n",
       "      <th>59</th>\n",
       "      <td>1224</td>\n",
       "      <td>180.000000</td>\n",
       "    </tr>\n",
       "    <tr>\n",
       "      <th>60</th>\n",
       "      <td>1466</td>\n",
       "      <td>180.375000</td>\n",
       "    </tr>\n",
       "    <tr>\n",
       "      <th>61</th>\n",
       "      <td>1043</td>\n",
       "      <td>188.142857</td>\n",
       "    </tr>\n",
       "    <tr>\n",
       "      <th>62</th>\n",
       "      <td>1107</td>\n",
       "      <td>189.500000</td>\n",
       "    </tr>\n",
       "    <tr>\n",
       "      <th>63</th>\n",
       "      <td>1166</td>\n",
       "      <td>189.500000</td>\n",
       "    </tr>\n",
       "    <tr>\n",
       "      <th>64</th>\n",
       "      <td>1048</td>\n",
       "      <td>190.400000</td>\n",
       "    </tr>\n",
       "    <tr>\n",
       "      <th>65</th>\n",
       "      <td>1316</td>\n",
       "      <td>193.875000</td>\n",
       "    </tr>\n",
       "    <tr>\n",
       "      <th>66</th>\n",
       "      <td>1425</td>\n",
       "      <td>195.000000</td>\n",
       "    </tr>\n",
       "    <tr>\n",
       "      <th>67</th>\n",
       "      <td>1190</td>\n",
       "      <td>198.000000</td>\n",
       "    </tr>\n",
       "    <tr>\n",
       "      <th>68</th>\n",
       "      <td>1311</td>\n",
       "      <td>199.857143</td>\n",
       "    </tr>\n",
       "    <tr>\n",
       "      <th>69</th>\n",
       "      <td>1403</td>\n",
       "      <td>201.800000</td>\n",
       "    </tr>\n",
       "    <tr>\n",
       "      <th>70</th>\n",
       "      <td>1448</td>\n",
       "      <td>202.333333</td>\n",
       "    </tr>\n",
       "    <tr>\n",
       "      <th>71</th>\n",
       "      <td>1088</td>\n",
       "      <td>202.625000</td>\n",
       "    </tr>\n",
       "    <tr>\n",
       "      <th>72</th>\n",
       "      <td>1182</td>\n",
       "      <td>203.250000</td>\n",
       "    </tr>\n",
       "    <tr>\n",
       "      <th>73</th>\n",
       "      <td>1081</td>\n",
       "      <td>208.333333</td>\n",
       "    </tr>\n",
       "    <tr>\n",
       "      <th>74</th>\n",
       "      <td>1484</td>\n",
       "      <td>211.000000</td>\n",
       "    </tr>\n",
       "    <tr>\n",
       "      <th>75</th>\n",
       "      <td>1127</td>\n",
       "      <td>211.857143</td>\n",
       "    </tr>\n",
       "    <tr>\n",
       "      <th>76</th>\n",
       "      <td>1193</td>\n",
       "      <td>214.666667</td>\n",
       "    </tr>\n",
       "    <tr>\n",
       "      <th>77</th>\n",
       "      <td>1013</td>\n",
       "      <td>219.000000</td>\n",
       "    </tr>\n",
       "    <tr>\n",
       "      <th>78</th>\n",
       "      <td>1435</td>\n",
       "      <td>219.000000</td>\n",
       "    </tr>\n",
       "    <tr>\n",
       "      <th>79</th>\n",
       "      <td>1454</td>\n",
       "      <td>220.166667</td>\n",
       "    </tr>\n",
       "    <tr>\n",
       "      <th>80</th>\n",
       "      <td>1155</td>\n",
       "      <td>223.818182</td>\n",
       "    </tr>\n",
       "    <tr>\n",
       "      <th>81</th>\n",
       "      <td>1477</td>\n",
       "      <td>225.666667</td>\n",
       "    </tr>\n",
       "    <tr>\n",
       "      <th>82</th>\n",
       "      <td>1418</td>\n",
       "      <td>226.600000</td>\n",
       "    </tr>\n",
       "    <tr>\n",
       "      <th>83</th>\n",
       "      <td>1068</td>\n",
       "      <td>227.250000</td>\n",
       "    </tr>\n",
       "    <tr>\n",
       "      <th>84</th>\n",
       "      <td>1474</td>\n",
       "      <td>230.600000</td>\n",
       "    </tr>\n",
       "    <tr>\n",
       "      <th>85</th>\n",
       "      <td>1044</td>\n",
       "      <td>232.000000</td>\n",
       "    </tr>\n",
       "    <tr>\n",
       "      <th>86</th>\n",
       "      <td>1442</td>\n",
       "      <td>236.000000</td>\n",
       "    </tr>\n",
       "    <tr>\n",
       "      <th>87</th>\n",
       "      <td>1384</td>\n",
       "      <td>238.571429</td>\n",
       "    </tr>\n",
       "    <tr>\n",
       "      <th>88</th>\n",
       "      <td>1292</td>\n",
       "      <td>238.833333</td>\n",
       "    </tr>\n",
       "    <tr>\n",
       "      <th>89</th>\n",
       "      <td>1055</td>\n",
       "      <td>239.625000</td>\n",
       "    </tr>\n",
       "    <tr>\n",
       "      <th>90</th>\n",
       "      <td>1235</td>\n",
       "      <td>240.500000</td>\n",
       "    </tr>\n",
       "    <tr>\n",
       "      <th>91</th>\n",
       "      <td>1133</td>\n",
       "      <td>240.666667</td>\n",
       "    </tr>\n",
       "    <tr>\n",
       "      <th>92</th>\n",
       "      <td>1333</td>\n",
       "      <td>243.000000</td>\n",
       "    </tr>\n",
       "    <tr>\n",
       "      <th>93</th>\n",
       "      <td>1139</td>\n",
       "      <td>244.500000</td>\n",
       "    </tr>\n",
       "    <tr>\n",
       "      <th>94</th>\n",
       "      <td>1134</td>\n",
       "      <td>246.500000</td>\n",
       "    </tr>\n",
       "    <tr>\n",
       "      <th>95</th>\n",
       "      <td>1308</td>\n",
       "      <td>247.500000</td>\n",
       "    </tr>\n",
       "    <tr>\n",
       "      <th>96</th>\n",
       "      <td>1054</td>\n",
       "      <td>247.888889</td>\n",
       "    </tr>\n",
       "    <tr>\n",
       "      <th>97</th>\n",
       "      <td>1093</td>\n",
       "      <td>248.000000</td>\n",
       "    </tr>\n",
       "    <tr>\n",
       "      <th>98</th>\n",
       "      <td>1062</td>\n",
       "      <td>248.500000</td>\n",
       "    </tr>\n",
       "    <tr>\n",
       "      <th>99</th>\n",
       "      <td>1242</td>\n",
       "      <td>251.000000</td>\n",
       "    </tr>\n",
       "    <tr>\n",
       "      <th>100</th>\n",
       "      <td>1233</td>\n",
       "      <td>252.333333</td>\n",
       "    </tr>\n",
       "    <tr>\n",
       "      <th>101</th>\n",
       "      <td>1386</td>\n",
       "      <td>253.500000</td>\n",
       "    </tr>\n",
       "    <tr>\n",
       "      <th>102</th>\n",
       "      <td>1019</td>\n",
       "      <td>255.500000</td>\n",
       "    </tr>\n",
       "    <tr>\n",
       "      <th>103</th>\n",
       "      <td>1212</td>\n",
       "      <td>256.000000</td>\n",
       "    </tr>\n",
       "    <tr>\n",
       "      <th>104</th>\n",
       "      <td>1245</td>\n",
       "      <td>258.000000</td>\n",
       "    </tr>\n",
       "    <tr>\n",
       "      <th>105</th>\n",
       "      <td>1188</td>\n",
       "      <td>261.000000</td>\n",
       "    </tr>\n",
       "    <tr>\n",
       "      <th>106</th>\n",
       "      <td>1395</td>\n",
       "      <td>263.000000</td>\n",
       "    </tr>\n",
       "    <tr>\n",
       "      <th>107</th>\n",
       "      <td>1492</td>\n",
       "      <td>268.500000</td>\n",
       "    </tr>\n",
       "    <tr>\n",
       "      <th>108</th>\n",
       "      <td>1369</td>\n",
       "      <td>271.000000</td>\n",
       "    </tr>\n",
       "    <tr>\n",
       "      <th>109</th>\n",
       "      <td>1296</td>\n",
       "      <td>271.333333</td>\n",
       "    </tr>\n",
       "    <tr>\n",
       "      <th>110</th>\n",
       "      <td>1228</td>\n",
       "      <td>273.666667</td>\n",
       "    </tr>\n",
       "    <tr>\n",
       "      <th>111</th>\n",
       "      <td>1375</td>\n",
       "      <td>276.000000</td>\n",
       "    </tr>\n",
       "    <tr>\n",
       "      <th>112</th>\n",
       "      <td>1002</td>\n",
       "      <td>276.333333</td>\n",
       "    </tr>\n",
       "    <tr>\n",
       "      <th>113</th>\n",
       "      <td>1475</td>\n",
       "      <td>279.500000</td>\n",
       "    </tr>\n",
       "    <tr>\n",
       "      <th>114</th>\n",
       "      <td>1482</td>\n",
       "      <td>280.333333</td>\n",
       "    </tr>\n",
       "    <tr>\n",
       "      <th>115</th>\n",
       "      <td>1288</td>\n",
       "      <td>282.000000</td>\n",
       "    </tr>\n",
       "    <tr>\n",
       "      <th>116</th>\n",
       "      <td>1398</td>\n",
       "      <td>283.333333</td>\n",
       "    </tr>\n",
       "    <tr>\n",
       "      <th>117</th>\n",
       "      <td>1453</td>\n",
       "      <td>284.000000</td>\n",
       "    </tr>\n",
       "    <tr>\n",
       "      <th>118</th>\n",
       "      <td>1111</td>\n",
       "      <td>284.000000</td>\n",
       "    </tr>\n",
       "    <tr>\n",
       "      <th>119</th>\n",
       "      <td>1396</td>\n",
       "      <td>284.250000</td>\n",
       "    </tr>\n",
       "    <tr>\n",
       "      <th>120</th>\n",
       "      <td>1216</td>\n",
       "      <td>285.000000</td>\n",
       "    </tr>\n",
       "    <tr>\n",
       "      <th>121</th>\n",
       "      <td>1318</td>\n",
       "      <td>285.500000</td>\n",
       "    </tr>\n",
       "    <tr>\n",
       "      <th>122</th>\n",
       "      <td>1211</td>\n",
       "      <td>286.666667</td>\n",
       "    </tr>\n",
       "    <tr>\n",
       "      <th>123</th>\n",
       "      <td>1300</td>\n",
       "      <td>287.000000</td>\n",
       "    </tr>\n",
       "    <tr>\n",
       "      <th>124</th>\n",
       "      <td>1420</td>\n",
       "      <td>289.000000</td>\n",
       "    </tr>\n",
       "    <tr>\n",
       "      <th>125</th>\n",
       "      <td>1332</td>\n",
       "      <td>289.400000</td>\n",
       "    </tr>\n",
       "    <tr>\n",
       "      <th>126</th>\n",
       "      <td>1449</td>\n",
       "      <td>289.666667</td>\n",
       "    </tr>\n",
       "    <tr>\n",
       "      <th>127</th>\n",
       "      <td>1374</td>\n",
       "      <td>289.777778</td>\n",
       "    </tr>\n",
       "    <tr>\n",
       "      <th>128</th>\n",
       "      <td>1496</td>\n",
       "      <td>291.000000</td>\n",
       "    </tr>\n",
       "    <tr>\n",
       "      <th>129</th>\n",
       "      <td>1461</td>\n",
       "      <td>291.000000</td>\n",
       "    </tr>\n",
       "    <tr>\n",
       "      <th>130</th>\n",
       "      <td>1392</td>\n",
       "      <td>291.000000</td>\n",
       "    </tr>\n",
       "    <tr>\n",
       "      <th>131</th>\n",
       "      <td>1262</td>\n",
       "      <td>291.000000</td>\n",
       "    </tr>\n",
       "    <tr>\n",
       "      <th>132</th>\n",
       "      <td>1087</td>\n",
       "      <td>291.000000</td>\n",
       "    </tr>\n",
       "    <tr>\n",
       "      <th>133</th>\n",
       "      <td>1171</td>\n",
       "      <td>291.181818</td>\n",
       "    </tr>\n",
       "    <tr>\n",
       "      <th>134</th>\n",
       "      <td>1394</td>\n",
       "      <td>291.250000</td>\n",
       "    </tr>\n",
       "    <tr>\n",
       "      <th>135</th>\n",
       "      <td>1073</td>\n",
       "      <td>291.555556</td>\n",
       "    </tr>\n",
       "    <tr>\n",
       "      <th>136</th>\n",
       "      <td>1498</td>\n",
       "      <td>291.909091</td>\n",
       "    </tr>\n",
       "    <tr>\n",
       "      <th>137</th>\n",
       "      <td>1422</td>\n",
       "      <td>292.000000</td>\n",
       "    </tr>\n",
       "    <tr>\n",
       "      <th>138</th>\n",
       "      <td>1040</td>\n",
       "      <td>294.000000</td>\n",
       "    </tr>\n",
       "    <tr>\n",
       "      <th>139</th>\n",
       "      <td>1325</td>\n",
       "      <td>294.000000</td>\n",
       "    </tr>\n",
       "    <tr>\n",
       "      <th>140</th>\n",
       "      <td>1168</td>\n",
       "      <td>294.000000</td>\n",
       "    </tr>\n",
       "    <tr>\n",
       "      <th>141</th>\n",
       "      <td>1402</td>\n",
       "      <td>295.500000</td>\n",
       "    </tr>\n",
       "    <tr>\n",
       "      <th>142</th>\n",
       "      <td>1399</td>\n",
       "      <td>295.714286</td>\n",
       "    </tr>\n",
       "    <tr>\n",
       "      <th>143</th>\n",
       "      <td>1371</td>\n",
       "      <td>296.333333</td>\n",
       "    </tr>\n",
       "    <tr>\n",
       "      <th>144</th>\n",
       "      <td>1455</td>\n",
       "      <td>297.000000</td>\n",
       "    </tr>\n",
       "    <tr>\n",
       "      <th>145</th>\n",
       "      <td>1409</td>\n",
       "      <td>299.000000</td>\n",
       "    </tr>\n",
       "    <tr>\n",
       "      <th>146</th>\n",
       "      <td>1154</td>\n",
       "      <td>299.333333</td>\n",
       "    </tr>\n",
       "    <tr>\n",
       "      <th>147</th>\n",
       "      <td>1497</td>\n",
       "      <td>300.000000</td>\n",
       "    </tr>\n",
       "    <tr>\n",
       "      <th>148</th>\n",
       "      <td>1363</td>\n",
       "      <td>301.500000</td>\n",
       "    </tr>\n",
       "    <tr>\n",
       "      <th>149</th>\n",
       "      <td>1388</td>\n",
       "      <td>302.000000</td>\n",
       "    </tr>\n",
       "    <tr>\n",
       "      <th>150</th>\n",
       "      <td>1438</td>\n",
       "      <td>302.500000</td>\n",
       "    </tr>\n",
       "    <tr>\n",
       "      <th>151</th>\n",
       "      <td>1042</td>\n",
       "      <td>303.916667</td>\n",
       "    </tr>\n",
       "    <tr>\n",
       "      <th>152</th>\n",
       "      <td>1213</td>\n",
       "      <td>304.000000</td>\n",
       "    </tr>\n",
       "    <tr>\n",
       "      <th>153</th>\n",
       "      <td>1083</td>\n",
       "      <td>310.666667</td>\n",
       "    </tr>\n",
       "    <tr>\n",
       "      <th>154</th>\n",
       "      <td>1189</td>\n",
       "      <td>313.000000</td>\n",
       "    </tr>\n",
       "    <tr>\n",
       "      <th>155</th>\n",
       "      <td>1076</td>\n",
       "      <td>313.500000</td>\n",
       "    </tr>\n",
       "    <tr>\n",
       "      <th>156</th>\n",
       "      <td>1270</td>\n",
       "      <td>314.250000</td>\n",
       "    </tr>\n",
       "    <tr>\n",
       "      <th>157</th>\n",
       "      <td>1049</td>\n",
       "      <td>315.000000</td>\n",
       "    </tr>\n",
       "    <tr>\n",
       "      <th>158</th>\n",
       "      <td>1315</td>\n",
       "      <td>316.000000</td>\n",
       "    </tr>\n",
       "    <tr>\n",
       "      <th>159</th>\n",
       "      <td>1218</td>\n",
       "      <td>318.000000</td>\n",
       "    </tr>\n",
       "    <tr>\n",
       "      <th>160</th>\n",
       "      <td>1070</td>\n",
       "      <td>318.000000</td>\n",
       "    </tr>\n",
       "    <tr>\n",
       "      <th>161</th>\n",
       "      <td>1309</td>\n",
       "      <td>318.500000</td>\n",
       "    </tr>\n",
       "    <tr>\n",
       "      <th>162</th>\n",
       "      <td>1427</td>\n",
       "      <td>318.500000</td>\n",
       "    </tr>\n",
       "    <tr>\n",
       "      <th>163</th>\n",
       "      <td>1439</td>\n",
       "      <td>318.500000</td>\n",
       "    </tr>\n",
       "    <tr>\n",
       "      <th>164</th>\n",
       "      <td>1200</td>\n",
       "      <td>321.000000</td>\n",
       "    </tr>\n",
       "    <tr>\n",
       "      <th>165</th>\n",
       "      <td>1346</td>\n",
       "      <td>321.333333</td>\n",
       "    </tr>\n",
       "    <tr>\n",
       "      <th>166</th>\n",
       "      <td>1136</td>\n",
       "      <td>323.000000</td>\n",
       "    </tr>\n",
       "    <tr>\n",
       "      <th>167</th>\n",
       "      <td>1266</td>\n",
       "      <td>323.000000</td>\n",
       "    </tr>\n",
       "    <tr>\n",
       "      <th>168</th>\n",
       "      <td>1243</td>\n",
       "      <td>323.333333</td>\n",
       "    </tr>\n",
       "    <tr>\n",
       "      <th>169</th>\n",
       "      <td>1206</td>\n",
       "      <td>323.333333</td>\n",
       "    </tr>\n",
       "    <tr>\n",
       "      <th>170</th>\n",
       "      <td>1067</td>\n",
       "      <td>324.250000</td>\n",
       "    </tr>\n",
       "    <tr>\n",
       "      <th>171</th>\n",
       "      <td>1056</td>\n",
       "      <td>325.000000</td>\n",
       "    </tr>\n",
       "    <tr>\n",
       "      <th>172</th>\n",
       "      <td>1294</td>\n",
       "      <td>325.666667</td>\n",
       "    </tr>\n",
       "    <tr>\n",
       "      <th>173</th>\n",
       "      <td>1273</td>\n",
       "      <td>328.333333</td>\n",
       "    </tr>\n",
       "    <tr>\n",
       "      <th>174</th>\n",
       "      <td>1421</td>\n",
       "      <td>329.000000</td>\n",
       "    </tr>\n",
       "    <tr>\n",
       "      <th>175</th>\n",
       "      <td>1485</td>\n",
       "      <td>329.000000</td>\n",
       "    </tr>\n",
       "    <tr>\n",
       "      <th>176</th>\n",
       "      <td>1272</td>\n",
       "      <td>329.500000</td>\n",
       "    </tr>\n",
       "    <tr>\n",
       "      <th>177</th>\n",
       "      <td>1100</td>\n",
       "      <td>330.200000</td>\n",
       "    </tr>\n",
       "    <tr>\n",
       "      <th>178</th>\n",
       "      <td>1413</td>\n",
       "      <td>335.000000</td>\n",
       "    </tr>\n",
       "    <tr>\n",
       "      <th>179</th>\n",
       "      <td>1278</td>\n",
       "      <td>335.500000</td>\n",
       "    </tr>\n",
       "    <tr>\n",
       "      <th>180</th>\n",
       "      <td>1017</td>\n",
       "      <td>336.200000</td>\n",
       "    </tr>\n",
       "    <tr>\n",
       "      <th>181</th>\n",
       "      <td>1086</td>\n",
       "      <td>337.000000</td>\n",
       "    </tr>\n",
       "    <tr>\n",
       "      <th>182</th>\n",
       "      <td>1103</td>\n",
       "      <td>339.400000</td>\n",
       "    </tr>\n",
       "    <tr>\n",
       "      <th>183</th>\n",
       "      <td>1276</td>\n",
       "      <td>339.750000</td>\n",
       "    </tr>\n",
       "    <tr>\n",
       "      <th>184</th>\n",
       "      <td>1302</td>\n",
       "      <td>341.500000</td>\n",
       "    </tr>\n",
       "    <tr>\n",
       "      <th>185</th>\n",
       "      <td>1142</td>\n",
       "      <td>342.400000</td>\n",
       "    </tr>\n",
       "    <tr>\n",
       "      <th>186</th>\n",
       "      <td>1090</td>\n",
       "      <td>343.625000</td>\n",
       "    </tr>\n",
       "    <tr>\n",
       "      <th>187</th>\n",
       "      <td>1117</td>\n",
       "      <td>344.875000</td>\n",
       "    </tr>\n",
       "    <tr>\n",
       "      <th>188</th>\n",
       "      <td>1001</td>\n",
       "      <td>345.600000</td>\n",
       "    </tr>\n",
       "    <tr>\n",
       "      <th>189</th>\n",
       "      <td>1004</td>\n",
       "      <td>346.500000</td>\n",
       "    </tr>\n",
       "    <tr>\n",
       "      <th>190</th>\n",
       "      <td>1486</td>\n",
       "      <td>347.000000</td>\n",
       "    </tr>\n",
       "    <tr>\n",
       "      <th>191</th>\n",
       "      <td>1364</td>\n",
       "      <td>348.600000</td>\n",
       "    </tr>\n",
       "    <tr>\n",
       "      <th>192</th>\n",
       "      <td>1361</td>\n",
       "      <td>348.625000</td>\n",
       "    </tr>\n",
       "    <tr>\n",
       "      <th>193</th>\n",
       "      <td>1414</td>\n",
       "      <td>349.400000</td>\n",
       "    </tr>\n",
       "    <tr>\n",
       "      <th>194</th>\n",
       "      <td>1205</td>\n",
       "      <td>350.000000</td>\n",
       "    </tr>\n",
       "    <tr>\n",
       "      <th>195</th>\n",
       "      <td>1460</td>\n",
       "      <td>354.875000</td>\n",
       "    </tr>\n",
       "    <tr>\n",
       "      <th>196</th>\n",
       "      <td>1177</td>\n",
       "      <td>355.000000</td>\n",
       "    </tr>\n",
       "    <tr>\n",
       "      <th>197</th>\n",
       "      <td>1331</td>\n",
       "      <td>355.200000</td>\n",
       "    </tr>\n",
       "    <tr>\n",
       "      <th>198</th>\n",
       "      <td>1050</td>\n",
       "      <td>355.500000</td>\n",
       "    </tr>\n",
       "    <tr>\n",
       "      <th>199</th>\n",
       "      <td>1446</td>\n",
       "      <td>355.500000</td>\n",
       "    </tr>\n",
       "    <tr>\n",
       "      <th>200</th>\n",
       "      <td>1145</td>\n",
       "      <td>356.285714</td>\n",
       "    </tr>\n",
       "    <tr>\n",
       "      <th>201</th>\n",
       "      <td>1038</td>\n",
       "      <td>356.666667</td>\n",
       "    </tr>\n",
       "    <tr>\n",
       "      <th>202</th>\n",
       "      <td>1264</td>\n",
       "      <td>356.750000</td>\n",
       "    </tr>\n",
       "    <tr>\n",
       "      <th>203</th>\n",
       "      <td>1274</td>\n",
       "      <td>357.000000</td>\n",
       "    </tr>\n",
       "    <tr>\n",
       "      <th>204</th>\n",
       "      <td>1027</td>\n",
       "      <td>357.166667</td>\n",
       "    </tr>\n",
       "    <tr>\n",
       "      <th>205</th>\n",
       "      <td>1353</td>\n",
       "      <td>357.500000</td>\n",
       "    </tr>\n",
       "    <tr>\n",
       "      <th>206</th>\n",
       "      <td>1358</td>\n",
       "      <td>359.222222</td>\n",
       "    </tr>\n",
       "    <tr>\n",
       "      <th>207</th>\n",
       "      <td>1162</td>\n",
       "      <td>360.000000</td>\n",
       "    </tr>\n",
       "    <tr>\n",
       "      <th>208</th>\n",
       "      <td>1227</td>\n",
       "      <td>360.000000</td>\n",
       "    </tr>\n",
       "    <tr>\n",
       "      <th>209</th>\n",
       "      <td>1478</td>\n",
       "      <td>360.200000</td>\n",
       "    </tr>\n",
       "    <tr>\n",
       "      <th>210</th>\n",
       "      <td>1445</td>\n",
       "      <td>360.285714</td>\n",
       "    </tr>\n",
       "    <tr>\n",
       "      <th>211</th>\n",
       "      <td>1053</td>\n",
       "      <td>360.833333</td>\n",
       "    </tr>\n",
       "    <tr>\n",
       "      <th>212</th>\n",
       "      <td>1074</td>\n",
       "      <td>361.500000</td>\n",
       "    </tr>\n",
       "    <tr>\n",
       "      <th>213</th>\n",
       "      <td>1116</td>\n",
       "      <td>366.000000</td>\n",
       "    </tr>\n",
       "    <tr>\n",
       "      <th>214</th>\n",
       "      <td>1304</td>\n",
       "      <td>367.333333</td>\n",
       "    </tr>\n",
       "    <tr>\n",
       "      <th>215</th>\n",
       "      <td>1041</td>\n",
       "      <td>368.200000</td>\n",
       "    </tr>\n",
       "    <tr>\n",
       "      <th>216</th>\n",
       "      <td>1462</td>\n",
       "      <td>368.333333</td>\n",
       "    </tr>\n",
       "    <tr>\n",
       "      <th>217</th>\n",
       "      <td>1047</td>\n",
       "      <td>369.000000</td>\n",
       "    </tr>\n",
       "    <tr>\n",
       "      <th>218</th>\n",
       "      <td>1490</td>\n",
       "      <td>373.000000</td>\n",
       "    </tr>\n",
       "    <tr>\n",
       "      <th>219</th>\n",
       "      <td>1431</td>\n",
       "      <td>374.000000</td>\n",
       "    </tr>\n",
       "    <tr>\n",
       "      <th>220</th>\n",
       "      <td>1164</td>\n",
       "      <td>374.222222</td>\n",
       "    </tr>\n",
       "    <tr>\n",
       "      <th>221</th>\n",
       "      <td>1287</td>\n",
       "      <td>374.500000</td>\n",
       "    </tr>\n",
       "    <tr>\n",
       "      <th>222</th>\n",
       "      <td>1406</td>\n",
       "      <td>375.100000</td>\n",
       "    </tr>\n",
       "    <tr>\n",
       "      <th>223</th>\n",
       "      <td>1146</td>\n",
       "      <td>377.666667</td>\n",
       "    </tr>\n",
       "    <tr>\n",
       "      <th>224</th>\n",
       "      <td>1110</td>\n",
       "      <td>378.000000</td>\n",
       "    </tr>\n",
       "    <tr>\n",
       "      <th>225</th>\n",
       "      <td>1198</td>\n",
       "      <td>378.250000</td>\n",
       "    </tr>\n",
       "    <tr>\n",
       "      <th>226</th>\n",
       "      <td>1176</td>\n",
       "      <td>379.000000</td>\n",
       "    </tr>\n",
       "    <tr>\n",
       "      <th>227</th>\n",
       "      <td>1343</td>\n",
       "      <td>380.800000</td>\n",
       "    </tr>\n",
       "    <tr>\n",
       "      <th>228</th>\n",
       "      <td>1347</td>\n",
       "      <td>382.833333</td>\n",
       "    </tr>\n",
       "    <tr>\n",
       "      <th>229</th>\n",
       "      <td>1476</td>\n",
       "      <td>383.000000</td>\n",
       "    </tr>\n",
       "    <tr>\n",
       "      <th>230</th>\n",
       "      <td>1416</td>\n",
       "      <td>383.666667</td>\n",
       "    </tr>\n",
       "    <tr>\n",
       "      <th>231</th>\n",
       "      <td>1499</td>\n",
       "      <td>383.750000</td>\n",
       "    </tr>\n",
       "    <tr>\n",
       "      <th>232</th>\n",
       "      <td>1357</td>\n",
       "      <td>385.333333</td>\n",
       "    </tr>\n",
       "    <tr>\n",
       "      <th>233</th>\n",
       "      <td>1138</td>\n",
       "      <td>385.909091</td>\n",
       "    </tr>\n",
       "    <tr>\n",
       "      <th>234</th>\n",
       "      <td>1101</td>\n",
       "      <td>388.333333</td>\n",
       "    </tr>\n",
       "    <tr>\n",
       "      <th>235</th>\n",
       "      <td>1120</td>\n",
       "      <td>389.555556</td>\n",
       "    </tr>\n",
       "    <tr>\n",
       "      <th>236</th>\n",
       "      <td>1491</td>\n",
       "      <td>391.000000</td>\n",
       "    </tr>\n",
       "    <tr>\n",
       "      <th>237</th>\n",
       "      <td>1312</td>\n",
       "      <td>391.000000</td>\n",
       "    </tr>\n",
       "    <tr>\n",
       "      <th>238</th>\n",
       "      <td>1285</td>\n",
       "      <td>392.000000</td>\n",
       "    </tr>\n",
       "    <tr>\n",
       "      <th>239</th>\n",
       "      <td>1377</td>\n",
       "      <td>394.166667</td>\n",
       "    </tr>\n",
       "    <tr>\n",
       "      <th>240</th>\n",
       "      <td>1214</td>\n",
       "      <td>399.750000</td>\n",
       "    </tr>\n",
       "    <tr>\n",
       "      <th>241</th>\n",
       "      <td>1173</td>\n",
       "      <td>400.000000</td>\n",
       "    </tr>\n",
       "    <tr>\n",
       "      <th>242</th>\n",
       "      <td>1021</td>\n",
       "      <td>401.000000</td>\n",
       "    </tr>\n",
       "    <tr>\n",
       "      <th>243</th>\n",
       "      <td>1036</td>\n",
       "      <td>402.142857</td>\n",
       "    </tr>\n",
       "    <tr>\n",
       "      <th>244</th>\n",
       "      <td>1372</td>\n",
       "      <td>405.000000</td>\n",
       "    </tr>\n",
       "    <tr>\n",
       "      <th>245</th>\n",
       "      <td>1467</td>\n",
       "      <td>405.555556</td>\n",
       "    </tr>\n",
       "    <tr>\n",
       "      <th>246</th>\n",
       "      <td>1424</td>\n",
       "      <td>406.000000</td>\n",
       "    </tr>\n",
       "    <tr>\n",
       "      <th>247</th>\n",
       "      <td>1119</td>\n",
       "      <td>409.666667</td>\n",
       "    </tr>\n",
       "    <tr>\n",
       "      <th>248</th>\n",
       "      <td>1383</td>\n",
       "      <td>414.000000</td>\n",
       "    </tr>\n",
       "    <tr>\n",
       "      <th>249</th>\n",
       "      <td>1489</td>\n",
       "      <td>414.750000</td>\n",
       "    </tr>\n",
       "    <tr>\n",
       "      <th>250</th>\n",
       "      <td>1011</td>\n",
       "      <td>415.285714</td>\n",
       "    </tr>\n",
       "    <tr>\n",
       "      <th>251</th>\n",
       "      <td>1487</td>\n",
       "      <td>416.000000</td>\n",
       "    </tr>\n",
       "    <tr>\n",
       "      <th>252</th>\n",
       "      <td>1447</td>\n",
       "      <td>416.000000</td>\n",
       "    </tr>\n",
       "    <tr>\n",
       "      <th>253</th>\n",
       "      <td>1178</td>\n",
       "      <td>416.666667</td>\n",
       "    </tr>\n",
       "    <tr>\n",
       "      <th>254</th>\n",
       "      <td>1381</td>\n",
       "      <td>416.750000</td>\n",
       "    </tr>\n",
       "    <tr>\n",
       "      <th>255</th>\n",
       "      <td>1122</td>\n",
       "      <td>417.500000</td>\n",
       "    </tr>\n",
       "    <tr>\n",
       "      <th>256</th>\n",
       "      <td>1124</td>\n",
       "      <td>418.000000</td>\n",
       "    </tr>\n",
       "    <tr>\n",
       "      <th>257</th>\n",
       "      <td>1161</td>\n",
       "      <td>420.000000</td>\n",
       "    </tr>\n",
       "    <tr>\n",
       "      <th>258</th>\n",
       "      <td>1252</td>\n",
       "      <td>420.285714</td>\n",
       "    </tr>\n",
       "    <tr>\n",
       "      <th>259</th>\n",
       "      <td>1091</td>\n",
       "      <td>421.500000</td>\n",
       "    </tr>\n",
       "    <tr>\n",
       "      <th>260</th>\n",
       "      <td>1345</td>\n",
       "      <td>425.666667</td>\n",
       "    </tr>\n",
       "    <tr>\n",
       "      <th>261</th>\n",
       "      <td>1280</td>\n",
       "      <td>426.285714</td>\n",
       "    </tr>\n",
       "    <tr>\n",
       "      <th>262</th>\n",
       "      <td>1066</td>\n",
       "      <td>428.000000</td>\n",
       "    </tr>\n",
       "    <tr>\n",
       "      <th>263</th>\n",
       "      <td>1411</td>\n",
       "      <td>428.000000</td>\n",
       "    </tr>\n",
       "    <tr>\n",
       "      <th>264</th>\n",
       "      <td>1085</td>\n",
       "      <td>428.400000</td>\n",
       "    </tr>\n",
       "    <tr>\n",
       "      <th>265</th>\n",
       "      <td>1102</td>\n",
       "      <td>430.000000</td>\n",
       "    </tr>\n",
       "    <tr>\n",
       "      <th>266</th>\n",
       "      <td>1335</td>\n",
       "      <td>430.428571</td>\n",
       "    </tr>\n",
       "    <tr>\n",
       "      <th>267</th>\n",
       "      <td>1327</td>\n",
       "      <td>430.600000</td>\n",
       "    </tr>\n",
       "    <tr>\n",
       "      <th>268</th>\n",
       "      <td>1157</td>\n",
       "      <td>430.666667</td>\n",
       "    </tr>\n",
       "    <tr>\n",
       "      <th>269</th>\n",
       "      <td>1018</td>\n",
       "      <td>432.000000</td>\n",
       "    </tr>\n",
       "    <tr>\n",
       "      <th>270</th>\n",
       "      <td>1150</td>\n",
       "      <td>432.000000</td>\n",
       "    </tr>\n",
       "    <tr>\n",
       "      <th>271</th>\n",
       "      <td>1483</td>\n",
       "      <td>437.250000</td>\n",
       "    </tr>\n",
       "    <tr>\n",
       "      <th>272</th>\n",
       "      <td>1340</td>\n",
       "      <td>438.000000</td>\n",
       "    </tr>\n",
       "    <tr>\n",
       "      <th>273</th>\n",
       "      <td>1359</td>\n",
       "      <td>438.181818</td>\n",
       "    </tr>\n",
       "    <tr>\n",
       "      <th>274</th>\n",
       "      <td>1385</td>\n",
       "      <td>438.700000</td>\n",
       "    </tr>\n",
       "    <tr>\n",
       "      <th>275</th>\n",
       "      <td>1354</td>\n",
       "      <td>439.600000</td>\n",
       "    </tr>\n",
       "    <tr>\n",
       "      <th>276</th>\n",
       "      <td>1179</td>\n",
       "      <td>440.166667</td>\n",
       "    </tr>\n",
       "    <tr>\n",
       "      <th>277</th>\n",
       "      <td>1350</td>\n",
       "      <td>441.000000</td>\n",
       "    </tr>\n",
       "    <tr>\n",
       "      <th>278</th>\n",
       "      <td>1495</td>\n",
       "      <td>441.250000</td>\n",
       "    </tr>\n",
       "    <tr>\n",
       "      <th>279</th>\n",
       "      <td>1468</td>\n",
       "      <td>442.250000</td>\n",
       "    </tr>\n",
       "    <tr>\n",
       "      <th>280</th>\n",
       "      <td>1299</td>\n",
       "      <td>443.400000</td>\n",
       "    </tr>\n",
       "    <tr>\n",
       "      <th>281</th>\n",
       "      <td>1071</td>\n",
       "      <td>443.625000</td>\n",
       "    </tr>\n",
       "    <tr>\n",
       "      <th>282</th>\n",
       "      <td>1434</td>\n",
       "      <td>443.700000</td>\n",
       "    </tr>\n",
       "    <tr>\n",
       "      <th>283</th>\n",
       "      <td>1201</td>\n",
       "      <td>445.428571</td>\n",
       "    </tr>\n",
       "    <tr>\n",
       "      <th>284</th>\n",
       "      <td>1149</td>\n",
       "      <td>446.750000</td>\n",
       "    </tr>\n",
       "    <tr>\n",
       "      <th>285</th>\n",
       "      <td>1282</td>\n",
       "      <td>448.500000</td>\n",
       "    </tr>\n",
       "    <tr>\n",
       "      <th>286</th>\n",
       "      <td>1030</td>\n",
       "      <td>452.666667</td>\n",
       "    </tr>\n",
       "    <tr>\n",
       "      <th>287</th>\n",
       "      <td>1286</td>\n",
       "      <td>453.000000</td>\n",
       "    </tr>\n",
       "    <tr>\n",
       "      <th>288</th>\n",
       "      <td>1230</td>\n",
       "      <td>453.000000</td>\n",
       "    </tr>\n",
       "    <tr>\n",
       "      <th>289</th>\n",
       "      <td>1156</td>\n",
       "      <td>453.111111</td>\n",
       "    </tr>\n",
       "    <tr>\n",
       "      <th>290</th>\n",
       "      <td>1436</td>\n",
       "      <td>453.400000</td>\n",
       "    </tr>\n",
       "    <tr>\n",
       "      <th>291</th>\n",
       "      <td>1130</td>\n",
       "      <td>455.750000</td>\n",
       "    </tr>\n",
       "    <tr>\n",
       "      <th>292</th>\n",
       "      <td>1456</td>\n",
       "      <td>456.428571</td>\n",
       "    </tr>\n",
       "    <tr>\n",
       "      <th>293</th>\n",
       "      <td>1408</td>\n",
       "      <td>457.727273</td>\n",
       "    </tr>\n",
       "    <tr>\n",
       "      <th>294</th>\n",
       "      <td>1039</td>\n",
       "      <td>459.142857</td>\n",
       "    </tr>\n",
       "    <tr>\n",
       "      <th>295</th>\n",
       "      <td>1426</td>\n",
       "      <td>460.000000</td>\n",
       "    </tr>\n",
       "    <tr>\n",
       "      <th>296</th>\n",
       "      <td>1203</td>\n",
       "      <td>461.100000</td>\n",
       "    </tr>\n",
       "    <tr>\n",
       "      <th>297</th>\n",
       "      <td>1037</td>\n",
       "      <td>463.000000</td>\n",
       "    </tr>\n",
       "    <tr>\n",
       "      <th>298</th>\n",
       "      <td>1305</td>\n",
       "      <td>464.125000</td>\n",
       "    </tr>\n",
       "    <tr>\n",
       "      <th>299</th>\n",
       "      <td>1493</td>\n",
       "      <td>465.000000</td>\n",
       "    </tr>\n",
       "    <tr>\n",
       "      <th>300</th>\n",
       "      <td>1020</td>\n",
       "      <td>465.000000</td>\n",
       "    </tr>\n",
       "    <tr>\n",
       "      <th>301</th>\n",
       "      <td>1238</td>\n",
       "      <td>466.500000</td>\n",
       "    </tr>\n",
       "    <tr>\n",
       "      <th>302</th>\n",
       "      <td>1109</td>\n",
       "      <td>466.666667</td>\n",
       "    </tr>\n",
       "    <tr>\n",
       "      <th>303</th>\n",
       "      <td>1191</td>\n",
       "      <td>468.250000</td>\n",
       "    </tr>\n",
       "    <tr>\n",
       "      <th>304</th>\n",
       "      <td>1261</td>\n",
       "      <td>472.454545</td>\n",
       "    </tr>\n",
       "    <tr>\n",
       "      <th>305</th>\n",
       "      <td>1247</td>\n",
       "      <td>473.500000</td>\n",
       "    </tr>\n",
       "    <tr>\n",
       "      <th>306</th>\n",
       "      <td>1494</td>\n",
       "      <td>473.500000</td>\n",
       "    </tr>\n",
       "    <tr>\n",
       "      <th>307</th>\n",
       "      <td>1210</td>\n",
       "      <td>475.000000</td>\n",
       "    </tr>\n",
       "    <tr>\n",
       "      <th>308</th>\n",
       "      <td>1158</td>\n",
       "      <td>476.000000</td>\n",
       "    </tr>\n",
       "    <tr>\n",
       "      <th>309</th>\n",
       "      <td>1389</td>\n",
       "      <td>477.750000</td>\n",
       "    </tr>\n",
       "    <tr>\n",
       "      <th>310</th>\n",
       "      <td>1226</td>\n",
       "      <td>478.333333</td>\n",
       "    </tr>\n",
       "    <tr>\n",
       "      <th>311</th>\n",
       "      <td>1443</td>\n",
       "      <td>479.500000</td>\n",
       "    </tr>\n",
       "    <tr>\n",
       "      <th>312</th>\n",
       "      <td>1451</td>\n",
       "      <td>480.000000</td>\n",
       "    </tr>\n",
       "    <tr>\n",
       "      <th>313</th>\n",
       "      <td>1314</td>\n",
       "      <td>480.500000</td>\n",
       "    </tr>\n",
       "    <tr>\n",
       "      <th>314</th>\n",
       "      <td>1279</td>\n",
       "      <td>480.666667</td>\n",
       "    </tr>\n",
       "    <tr>\n",
       "      <th>315</th>\n",
       "      <td>1410</td>\n",
       "      <td>481.666667</td>\n",
       "    </tr>\n",
       "    <tr>\n",
       "      <th>316</th>\n",
       "      <td>1380</td>\n",
       "      <td>482.750000</td>\n",
       "    </tr>\n",
       "    <tr>\n",
       "      <th>317</th>\n",
       "      <td>1199</td>\n",
       "      <td>483.000000</td>\n",
       "    </tr>\n",
       "    <tr>\n",
       "      <th>318</th>\n",
       "      <td>1183</td>\n",
       "      <td>483.333333</td>\n",
       "    </tr>\n",
       "    <tr>\n",
       "      <th>319</th>\n",
       "      <td>1330</td>\n",
       "      <td>484.000000</td>\n",
       "    </tr>\n",
       "    <tr>\n",
       "      <th>320</th>\n",
       "      <td>1123</td>\n",
       "      <td>484.714286</td>\n",
       "    </tr>\n",
       "    <tr>\n",
       "      <th>321</th>\n",
       "      <td>1098</td>\n",
       "      <td>485.400000</td>\n",
       "    </tr>\n",
       "    <tr>\n",
       "      <th>322</th>\n",
       "      <td>1185</td>\n",
       "      <td>487.166667</td>\n",
       "    </tr>\n",
       "    <tr>\n",
       "      <th>323</th>\n",
       "      <td>1099</td>\n",
       "      <td>489.454545</td>\n",
       "    </tr>\n",
       "    <tr>\n",
       "      <th>324</th>\n",
       "      <td>1064</td>\n",
       "      <td>490.285714</td>\n",
       "    </tr>\n",
       "    <tr>\n",
       "      <th>325</th>\n",
       "      <td>1031</td>\n",
       "      <td>491.166667</td>\n",
       "    </tr>\n",
       "    <tr>\n",
       "      <th>326</th>\n",
       "      <td>1225</td>\n",
       "      <td>495.000000</td>\n",
       "    </tr>\n",
       "    <tr>\n",
       "      <th>327</th>\n",
       "      <td>1113</td>\n",
       "      <td>495.142857</td>\n",
       "    </tr>\n",
       "    <tr>\n",
       "      <th>328</th>\n",
       "      <td>1005</td>\n",
       "      <td>496.000000</td>\n",
       "    </tr>\n",
       "    <tr>\n",
       "      <th>329</th>\n",
       "      <td>1428</td>\n",
       "      <td>498.333333</td>\n",
       "    </tr>\n",
       "    <tr>\n",
       "      <th>330</th>\n",
       "      <td>1106</td>\n",
       "      <td>499.250000</td>\n",
       "    </tr>\n",
       "    <tr>\n",
       "      <th>331</th>\n",
       "      <td>1256</td>\n",
       "      <td>499.250000</td>\n",
       "    </tr>\n",
       "    <tr>\n",
       "      <th>332</th>\n",
       "      <td>1045</td>\n",
       "      <td>499.666667</td>\n",
       "    </tr>\n",
       "    <tr>\n",
       "      <th>333</th>\n",
       "      <td>1400</td>\n",
       "      <td>501.200000</td>\n",
       "    </tr>\n",
       "    <tr>\n",
       "      <th>334</th>\n",
       "      <td>1401</td>\n",
       "      <td>502.000000</td>\n",
       "    </tr>\n",
       "    <tr>\n",
       "      <th>335</th>\n",
       "      <td>1234</td>\n",
       "      <td>502.000000</td>\n",
       "    </tr>\n",
       "    <tr>\n",
       "      <th>336</th>\n",
       "      <td>1321</td>\n",
       "      <td>502.142857</td>\n",
       "    </tr>\n",
       "    <tr>\n",
       "      <th>337</th>\n",
       "      <td>1236</td>\n",
       "      <td>502.444444</td>\n",
       "    </tr>\n",
       "    <tr>\n",
       "      <th>338</th>\n",
       "      <td>1415</td>\n",
       "      <td>503.166667</td>\n",
       "    </tr>\n",
       "    <tr>\n",
       "      <th>339</th>\n",
       "      <td>1260</td>\n",
       "      <td>504.000000</td>\n",
       "    </tr>\n",
       "    <tr>\n",
       "      <th>340</th>\n",
       "      <td>1046</td>\n",
       "      <td>504.142857</td>\n",
       "    </tr>\n",
       "    <tr>\n",
       "      <th>341</th>\n",
       "      <td>1250</td>\n",
       "      <td>504.333333</td>\n",
       "    </tr>\n",
       "    <tr>\n",
       "      <th>342</th>\n",
       "      <td>1151</td>\n",
       "      <td>504.400000</td>\n",
       "    </tr>\n",
       "    <tr>\n",
       "      <th>343</th>\n",
       "      <td>1254</td>\n",
       "      <td>504.600000</td>\n",
       "    </tr>\n",
       "    <tr>\n",
       "      <th>344</th>\n",
       "      <td>1208</td>\n",
       "      <td>505.000000</td>\n",
       "    </tr>\n",
       "    <tr>\n",
       "      <th>345</th>\n",
       "      <td>1387</td>\n",
       "      <td>505.200000</td>\n",
       "    </tr>\n",
       "    <tr>\n",
       "      <th>346</th>\n",
       "      <td>1065</td>\n",
       "      <td>507.250000</td>\n",
       "    </tr>\n",
       "    <tr>\n",
       "      <th>347</th>\n",
       "      <td>1268</td>\n",
       "      <td>507.400000</td>\n",
       "    </tr>\n",
       "    <tr>\n",
       "      <th>348</th>\n",
       "      <td>1470</td>\n",
       "      <td>507.875000</td>\n",
       "    </tr>\n",
       "    <tr>\n",
       "      <th>349</th>\n",
       "      <td>1022</td>\n",
       "      <td>508.125000</td>\n",
       "    </tr>\n",
       "    <tr>\n",
       "      <th>350</th>\n",
       "      <td>1433</td>\n",
       "      <td>508.750000</td>\n",
       "    </tr>\n",
       "    <tr>\n",
       "      <th>351</th>\n",
       "      <td>1283</td>\n",
       "      <td>509.500000</td>\n",
       "    </tr>\n",
       "    <tr>\n",
       "      <th>352</th>\n",
       "      <td>1295</td>\n",
       "      <td>510.400000</td>\n",
       "    </tr>\n",
       "    <tr>\n",
       "      <th>353</th>\n",
       "      <td>1368</td>\n",
       "      <td>511.500000</td>\n",
       "    </tr>\n",
       "    <tr>\n",
       "      <th>354</th>\n",
       "      <td>1231</td>\n",
       "      <td>511.857143</td>\n",
       "    </tr>\n",
       "    <tr>\n",
       "      <th>355</th>\n",
       "      <td>1072</td>\n",
       "      <td>512.666667</td>\n",
       "    </tr>\n",
       "    <tr>\n",
       "      <th>356</th>\n",
       "      <td>1376</td>\n",
       "      <td>514.000000</td>\n",
       "    </tr>\n",
       "    <tr>\n",
       "      <th>357</th>\n",
       "      <td>1144</td>\n",
       "      <td>516.000000</td>\n",
       "    </tr>\n",
       "    <tr>\n",
       "      <th>358</th>\n",
       "      <td>1125</td>\n",
       "      <td>517.000000</td>\n",
       "    </tr>\n",
       "    <tr>\n",
       "      <th>359</th>\n",
       "      <td>1008</td>\n",
       "      <td>518.666667</td>\n",
       "    </tr>\n",
       "    <tr>\n",
       "      <th>360</th>\n",
       "      <td>1342</td>\n",
       "      <td>519.000000</td>\n",
       "    </tr>\n",
       "    <tr>\n",
       "      <th>361</th>\n",
       "      <td>1419</td>\n",
       "      <td>519.500000</td>\n",
       "    </tr>\n",
       "    <tr>\n",
       "      <th>362</th>\n",
       "      <td>1391</td>\n",
       "      <td>527.000000</td>\n",
       "    </tr>\n",
       "    <tr>\n",
       "      <th>363</th>\n",
       "      <td>1148</td>\n",
       "      <td>528.000000</td>\n",
       "    </tr>\n",
       "    <tr>\n",
       "      <th>364</th>\n",
       "      <td>1220</td>\n",
       "      <td>528.000000</td>\n",
       "    </tr>\n",
       "    <tr>\n",
       "      <th>365</th>\n",
       "      <td>1007</td>\n",
       "      <td>528.200000</td>\n",
       "    </tr>\n",
       "    <tr>\n",
       "      <th>366</th>\n",
       "      <td>1163</td>\n",
       "      <td>529.000000</td>\n",
       "    </tr>\n",
       "    <tr>\n",
       "      <th>367</th>\n",
       "      <td>1069</td>\n",
       "      <td>529.250000</td>\n",
       "    </tr>\n",
       "    <tr>\n",
       "      <th>368</th>\n",
       "      <td>1271</td>\n",
       "      <td>531.000000</td>\n",
       "    </tr>\n",
       "    <tr>\n",
       "      <th>369</th>\n",
       "      <td>1251</td>\n",
       "      <td>532.100000</td>\n",
       "    </tr>\n",
       "    <tr>\n",
       "      <th>370</th>\n",
       "      <td>1248</td>\n",
       "      <td>532.500000</td>\n",
       "    </tr>\n",
       "    <tr>\n",
       "      <th>371</th>\n",
       "      <td>1222</td>\n",
       "      <td>533.000000</td>\n",
       "    </tr>\n",
       "    <tr>\n",
       "      <th>372</th>\n",
       "      <td>1181</td>\n",
       "      <td>533.333333</td>\n",
       "    </tr>\n",
       "    <tr>\n",
       "      <th>373</th>\n",
       "      <td>1337</td>\n",
       "      <td>535.000000</td>\n",
       "    </tr>\n",
       "    <tr>\n",
       "      <th>374</th>\n",
       "      <td>1032</td>\n",
       "      <td>536.000000</td>\n",
       "    </tr>\n",
       "    <tr>\n",
       "      <th>375</th>\n",
       "      <td>1472</td>\n",
       "      <td>536.714286</td>\n",
       "    </tr>\n",
       "    <tr>\n",
       "      <th>376</th>\n",
       "      <td>1239</td>\n",
       "      <td>539.666667</td>\n",
       "    </tr>\n",
       "    <tr>\n",
       "      <th>377</th>\n",
       "      <td>1291</td>\n",
       "      <td>540.000000</td>\n",
       "    </tr>\n",
       "    <tr>\n",
       "      <th>378</th>\n",
       "      <td>1167</td>\n",
       "      <td>540.750000</td>\n",
       "    </tr>\n",
       "    <tr>\n",
       "      <th>379</th>\n",
       "      <td>1195</td>\n",
       "      <td>541.000000</td>\n",
       "    </tr>\n",
       "    <tr>\n",
       "      <th>380</th>\n",
       "      <td>1480</td>\n",
       "      <td>541.000000</td>\n",
       "    </tr>\n",
       "    <tr>\n",
       "      <th>381</th>\n",
       "      <td>1293</td>\n",
       "      <td>541.400000</td>\n",
       "    </tr>\n",
       "    <tr>\n",
       "      <th>382</th>\n",
       "      <td>1281</td>\n",
       "      <td>541.500000</td>\n",
       "    </tr>\n",
       "    <tr>\n",
       "      <th>383</th>\n",
       "      <td>1192</td>\n",
       "      <td>542.666667</td>\n",
       "    </tr>\n",
       "    <tr>\n",
       "      <th>384</th>\n",
       "      <td>1196</td>\n",
       "      <td>545.166667</td>\n",
       "    </tr>\n",
       "    <tr>\n",
       "      <th>385</th>\n",
       "      <td>1061</td>\n",
       "      <td>547.555556</td>\n",
       "    </tr>\n",
       "    <tr>\n",
       "      <th>386</th>\n",
       "      <td>1301</td>\n",
       "      <td>550.000000</td>\n",
       "    </tr>\n",
       "    <tr>\n",
       "      <th>387</th>\n",
       "      <td>1174</td>\n",
       "      <td>550.875000</td>\n",
       "    </tr>\n",
       "    <tr>\n",
       "      <th>388</th>\n",
       "      <td>1016</td>\n",
       "      <td>553.000000</td>\n",
       "    </tr>\n",
       "    <tr>\n",
       "      <th>389</th>\n",
       "      <td>1029</td>\n",
       "      <td>553.600000</td>\n",
       "    </tr>\n",
       "    <tr>\n",
       "      <th>390</th>\n",
       "      <td>1355</td>\n",
       "      <td>556.000000</td>\n",
       "    </tr>\n",
       "    <tr>\n",
       "      <th>391</th>\n",
       "      <td>1249</td>\n",
       "      <td>556.500000</td>\n",
       "    </tr>\n",
       "    <tr>\n",
       "      <th>392</th>\n",
       "      <td>1263</td>\n",
       "      <td>558.100000</td>\n",
       "    </tr>\n",
       "    <tr>\n",
       "      <th>393</th>\n",
       "      <td>1172</td>\n",
       "      <td>558.800000</td>\n",
       "    </tr>\n",
       "    <tr>\n",
       "      <th>394</th>\n",
       "      <td>1313</td>\n",
       "      <td>560.285714</td>\n",
       "    </tr>\n",
       "    <tr>\n",
       "      <th>395</th>\n",
       "      <td>1289</td>\n",
       "      <td>560.500000</td>\n",
       "    </tr>\n",
       "    <tr>\n",
       "      <th>396</th>\n",
       "      <td>1232</td>\n",
       "      <td>562.222222</td>\n",
       "    </tr>\n",
       "    <tr>\n",
       "      <th>397</th>\n",
       "      <td>1010</td>\n",
       "      <td>563.888889</td>\n",
       "    </tr>\n",
       "    <tr>\n",
       "      <th>398</th>\n",
       "      <td>1024</td>\n",
       "      <td>564.000000</td>\n",
       "    </tr>\n",
       "    <tr>\n",
       "      <th>399</th>\n",
       "      <td>1202</td>\n",
       "      <td>566.666667</td>\n",
       "    </tr>\n",
       "    <tr>\n",
       "      <th>400</th>\n",
       "      <td>1094</td>\n",
       "      <td>567.000000</td>\n",
       "    </tr>\n",
       "    <tr>\n",
       "      <th>401</th>\n",
       "      <td>1257</td>\n",
       "      <td>570.888889</td>\n",
       "    </tr>\n",
       "    <tr>\n",
       "      <th>402</th>\n",
       "      <td>1160</td>\n",
       "      <td>572.333333</td>\n",
       "    </tr>\n",
       "    <tr>\n",
       "      <th>403</th>\n",
       "      <td>1366</td>\n",
       "      <td>574.600000</td>\n",
       "    </tr>\n",
       "    <tr>\n",
       "      <th>404</th>\n",
       "      <td>1338</td>\n",
       "      <td>576.000000</td>\n",
       "    </tr>\n",
       "    <tr>\n",
       "      <th>405</th>\n",
       "      <td>1430</td>\n",
       "      <td>576.000000</td>\n",
       "    </tr>\n",
       "    <tr>\n",
       "      <th>406</th>\n",
       "      <td>1464</td>\n",
       "      <td>580.000000</td>\n",
       "    </tr>\n",
       "    <tr>\n",
       "      <th>407</th>\n",
       "      <td>1140</td>\n",
       "      <td>581.166667</td>\n",
       "    </tr>\n",
       "    <tr>\n",
       "      <th>408</th>\n",
       "      <td>1404</td>\n",
       "      <td>582.000000</td>\n",
       "    </tr>\n",
       "    <tr>\n",
       "      <th>409</th>\n",
       "      <td>1217</td>\n",
       "      <td>585.000000</td>\n",
       "    </tr>\n",
       "    <tr>\n",
       "      <th>410</th>\n",
       "      <td>1317</td>\n",
       "      <td>585.000000</td>\n",
       "    </tr>\n",
       "    <tr>\n",
       "      <th>411</th>\n",
       "      <td>1298</td>\n",
       "      <td>590.000000</td>\n",
       "    </tr>\n",
       "    <tr>\n",
       "      <th>412</th>\n",
       "      <td>1255</td>\n",
       "      <td>591.800000</td>\n",
       "    </tr>\n",
       "    <tr>\n",
       "      <th>413</th>\n",
       "      <td>1187</td>\n",
       "      <td>592.000000</td>\n",
       "    </tr>\n",
       "    <tr>\n",
       "      <th>414</th>\n",
       "      <td>1370</td>\n",
       "      <td>593.750000</td>\n",
       "    </tr>\n",
       "    <tr>\n",
       "      <th>415</th>\n",
       "      <td>1440</td>\n",
       "      <td>596.625000</td>\n",
       "    </tr>\n",
       "    <tr>\n",
       "      <th>416</th>\n",
       "      <td>1082</td>\n",
       "      <td>598.777778</td>\n",
       "    </tr>\n",
       "    <tr>\n",
       "      <th>417</th>\n",
       "      <td>1390</td>\n",
       "      <td>602.111111</td>\n",
       "    </tr>\n",
       "    <tr>\n",
       "      <th>418</th>\n",
       "      <td>1241</td>\n",
       "      <td>603.000000</td>\n",
       "    </tr>\n",
       "    <tr>\n",
       "      <th>419</th>\n",
       "      <td>1153</td>\n",
       "      <td>603.428571</td>\n",
       "    </tr>\n",
       "    <tr>\n",
       "      <th>420</th>\n",
       "      <td>1459</td>\n",
       "      <td>603.500000</td>\n",
       "    </tr>\n",
       "    <tr>\n",
       "      <th>421</th>\n",
       "      <td>1417</td>\n",
       "      <td>604.857143</td>\n",
       "    </tr>\n",
       "    <tr>\n",
       "      <th>422</th>\n",
       "      <td>1209</td>\n",
       "      <td>605.000000</td>\n",
       "    </tr>\n",
       "    <tr>\n",
       "      <th>423</th>\n",
       "      <td>1097</td>\n",
       "      <td>605.400000</td>\n",
       "    </tr>\n",
       "    <tr>\n",
       "      <th>424</th>\n",
       "      <td>1437</td>\n",
       "      <td>605.500000</td>\n",
       "    </tr>\n",
       "    <tr>\n",
       "      <th>425</th>\n",
       "      <td>1058</td>\n",
       "      <td>606.000000</td>\n",
       "    </tr>\n",
       "    <tr>\n",
       "      <th>426</th>\n",
       "      <td>1393</td>\n",
       "      <td>606.333333</td>\n",
       "    </tr>\n",
       "    <tr>\n",
       "      <th>427</th>\n",
       "      <td>1115</td>\n",
       "      <td>612.500000</td>\n",
       "    </tr>\n",
       "    <tr>\n",
       "      <th>428</th>\n",
       "      <td>1092</td>\n",
       "      <td>614.000000</td>\n",
       "    </tr>\n",
       "    <tr>\n",
       "      <th>429</th>\n",
       "      <td>1180</td>\n",
       "      <td>615.000000</td>\n",
       "    </tr>\n",
       "    <tr>\n",
       "      <th>430</th>\n",
       "      <td>1084</td>\n",
       "      <td>615.666667</td>\n",
       "    </tr>\n",
       "    <tr>\n",
       "      <th>431</th>\n",
       "      <td>1341</td>\n",
       "      <td>617.333333</td>\n",
       "    </tr>\n",
       "    <tr>\n",
       "      <th>432</th>\n",
       "      <td>1246</td>\n",
       "      <td>618.125000</td>\n",
       "    </tr>\n",
       "    <tr>\n",
       "      <th>433</th>\n",
       "      <td>1035</td>\n",
       "      <td>627.000000</td>\n",
       "    </tr>\n",
       "    <tr>\n",
       "      <th>434</th>\n",
       "      <td>1432</td>\n",
       "      <td>627.666667</td>\n",
       "    </tr>\n",
       "    <tr>\n",
       "      <th>435</th>\n",
       "      <td>1114</td>\n",
       "      <td>628.166667</td>\n",
       "    </tr>\n",
       "    <tr>\n",
       "      <th>436</th>\n",
       "      <td>1079</td>\n",
       "      <td>629.333333</td>\n",
       "    </tr>\n",
       "    <tr>\n",
       "      <th>437</th>\n",
       "      <td>1033</td>\n",
       "      <td>636.750000</td>\n",
       "    </tr>\n",
       "    <tr>\n",
       "      <th>438</th>\n",
       "      <td>1223</td>\n",
       "      <td>637.000000</td>\n",
       "    </tr>\n",
       "    <tr>\n",
       "      <th>439</th>\n",
       "      <td>1060</td>\n",
       "      <td>638.200000</td>\n",
       "    </tr>\n",
       "    <tr>\n",
       "      <th>440</th>\n",
       "      <td>1014</td>\n",
       "      <td>638.500000</td>\n",
       "    </tr>\n",
       "    <tr>\n",
       "      <th>441</th>\n",
       "      <td>1170</td>\n",
       "      <td>643.250000</td>\n",
       "    </tr>\n",
       "    <tr>\n",
       "      <th>442</th>\n",
       "      <td>1352</td>\n",
       "      <td>647.750000</td>\n",
       "    </tr>\n",
       "    <tr>\n",
       "      <th>443</th>\n",
       "      <td>1132</td>\n",
       "      <td>652.111111</td>\n",
       "    </tr>\n",
       "    <tr>\n",
       "      <th>444</th>\n",
       "      <td>1488</td>\n",
       "      <td>652.250000</td>\n",
       "    </tr>\n",
       "    <tr>\n",
       "      <th>445</th>\n",
       "      <td>1362</td>\n",
       "      <td>658.250000</td>\n",
       "    </tr>\n",
       "    <tr>\n",
       "      <th>446</th>\n",
       "      <td>1219</td>\n",
       "      <td>663.500000</td>\n",
       "    </tr>\n",
       "    <tr>\n",
       "      <th>447</th>\n",
       "      <td>1441</td>\n",
       "      <td>666.000000</td>\n",
       "    </tr>\n",
       "    <tr>\n",
       "      <th>448</th>\n",
       "      <td>1184</td>\n",
       "      <td>666.000000</td>\n",
       "    </tr>\n",
       "    <tr>\n",
       "      <th>449</th>\n",
       "      <td>1465</td>\n",
       "      <td>674.142857</td>\n",
       "    </tr>\n",
       "    <tr>\n",
       "      <th>450</th>\n",
       "      <td>1175</td>\n",
       "      <td>676.666667</td>\n",
       "    </tr>\n",
       "    <tr>\n",
       "      <th>451</th>\n",
       "      <td>1379</td>\n",
       "      <td>681.000000</td>\n",
       "    </tr>\n",
       "    <tr>\n",
       "      <th>452</th>\n",
       "      <td>1373</td>\n",
       "      <td>683.750000</td>\n",
       "    </tr>\n",
       "    <tr>\n",
       "      <th>453</th>\n",
       "      <td>1277</td>\n",
       "      <td>685.222222</td>\n",
       "    </tr>\n",
       "    <tr>\n",
       "      <th>454</th>\n",
       "      <td>1450</td>\n",
       "      <td>688.000000</td>\n",
       "    </tr>\n",
       "    <tr>\n",
       "      <th>455</th>\n",
       "      <td>1348</td>\n",
       "      <td>688.666667</td>\n",
       "    </tr>\n",
       "    <tr>\n",
       "      <th>456</th>\n",
       "      <td>1152</td>\n",
       "      <td>690.000000</td>\n",
       "    </tr>\n",
       "    <tr>\n",
       "      <th>457</th>\n",
       "      <td>1197</td>\n",
       "      <td>695.000000</td>\n",
       "    </tr>\n",
       "    <tr>\n",
       "      <th>458</th>\n",
       "      <td>1336</td>\n",
       "      <td>696.555556</td>\n",
       "    </tr>\n",
       "    <tr>\n",
       "      <th>459</th>\n",
       "      <td>1052</td>\n",
       "      <td>703.500000</td>\n",
       "    </tr>\n",
       "    <tr>\n",
       "      <th>460</th>\n",
       "      <td>1059</td>\n",
       "      <td>705.444444</td>\n",
       "    </tr>\n",
       "    <tr>\n",
       "      <th>461</th>\n",
       "      <td>1077</td>\n",
       "      <td>709.750000</td>\n",
       "    </tr>\n",
       "    <tr>\n",
       "      <th>462</th>\n",
       "      <td>1105</td>\n",
       "      <td>716.333333</td>\n",
       "    </tr>\n",
       "    <tr>\n",
       "      <th>463</th>\n",
       "      <td>1328</td>\n",
       "      <td>718.222222</td>\n",
       "    </tr>\n",
       "    <tr>\n",
       "      <th>464</th>\n",
       "      <td>1237</td>\n",
       "      <td>718.500000</td>\n",
       "    </tr>\n",
       "    <tr>\n",
       "      <th>465</th>\n",
       "      <td>1141</td>\n",
       "      <td>740.714286</td>\n",
       "    </tr>\n",
       "    <tr>\n",
       "      <th>466</th>\n",
       "      <td>1009</td>\n",
       "      <td>744.250000</td>\n",
       "    </tr>\n",
       "    <tr>\n",
       "      <th>467</th>\n",
       "      <td>1284</td>\n",
       "      <td>752.750000</td>\n",
       "    </tr>\n",
       "    <tr>\n",
       "      <th>468</th>\n",
       "      <td>1215</td>\n",
       "      <td>767.250000</td>\n",
       "    </tr>\n",
       "    <tr>\n",
       "      <th>469</th>\n",
       "      <td>1147</td>\n",
       "      <td>770.125000</td>\n",
       "    </tr>\n",
       "    <tr>\n",
       "      <th>470</th>\n",
       "      <td>1112</td>\n",
       "      <td>797.000000</td>\n",
       "    </tr>\n",
       "    <tr>\n",
       "      <th>471</th>\n",
       "      <td>1334</td>\n",
       "      <td>812.000000</td>\n",
       "    </tr>\n",
       "    <tr>\n",
       "      <th>472</th>\n",
       "      <td>1360</td>\n",
       "      <td>814.000000</td>\n",
       "    </tr>\n",
       "    <tr>\n",
       "      <th>473</th>\n",
       "      <td>1397</td>\n",
       "      <td>821.857143</td>\n",
       "    </tr>\n",
       "    <tr>\n",
       "      <th>474</th>\n",
       "      <td>1267</td>\n",
       "      <td>826.500000</td>\n",
       "    </tr>\n",
       "    <tr>\n",
       "      <th>475</th>\n",
       "      <td>1479</td>\n",
       "      <td>835.000000</td>\n",
       "    </tr>\n",
       "    <tr>\n",
       "      <th>476</th>\n",
       "      <td>1169</td>\n",
       "      <td>835.000000</td>\n",
       "    </tr>\n",
       "    <tr>\n",
       "      <th>477</th>\n",
       "      <td>1320</td>\n",
       "      <td>850.777778</td>\n",
       "    </tr>\n",
       "    <tr>\n",
       "      <th>478</th>\n",
       "      <td>1159</td>\n",
       "      <td>864.600000</td>\n",
       "    </tr>\n",
       "    <tr>\n",
       "      <th>479</th>\n",
       "      <td>1057</td>\n",
       "      <td>869.750000</td>\n",
       "    </tr>\n",
       "    <tr>\n",
       "      <th>480</th>\n",
       "      <td>1126</td>\n",
       "      <td>878.857143</td>\n",
       "    </tr>\n",
       "    <tr>\n",
       "      <th>481</th>\n",
       "      <td>1326</td>\n",
       "      <td>889.833333</td>\n",
       "    </tr>\n",
       "    <tr>\n",
       "      <th>482</th>\n",
       "      <td>1118</td>\n",
       "      <td>909.000000</td>\n",
       "    </tr>\n",
       "    <tr>\n",
       "      <th>483</th>\n",
       "      <td>1412</td>\n",
       "      <td>947.000000</td>\n",
       "    </tr>\n",
       "    <tr>\n",
       "      <th>484</th>\n",
       "      <td>1240</td>\n",
       "      <td>999.857143</td>\n",
       "    </tr>\n",
       "    <tr>\n",
       "      <th>485</th>\n",
       "      <td>1329</td>\n",
       "      <td>1030.800000</td>\n",
       "    </tr>\n",
       "    <tr>\n",
       "      <th>486</th>\n",
       "      <td>1365</td>\n",
       "      <td>1040.428571</td>\n",
       "    </tr>\n",
       "    <tr>\n",
       "      <th>487</th>\n",
       "      <td>1382</td>\n",
       "      <td>1054.571429</td>\n",
       "    </tr>\n",
       "    <tr>\n",
       "      <th>488</th>\n",
       "      <td>1324</td>\n",
       "      <td>1055.000000</td>\n",
       "    </tr>\n",
       "    <tr>\n",
       "      <th>489</th>\n",
       "      <td>1003</td>\n",
       "      <td>1104.000000</td>\n",
       "    </tr>\n",
       "  </tbody>\n",
       "</table style=\"display:inline\"></td></th><th style=\"text-align:center\"><td style=\"vertical-align:top\"><h2 style=\"text-align: center;\">sms</h2><table style=\"display:inline\" border=\"1\" class=\"dataframe\">\n",
       "  <thead>\n",
       "    <tr style=\"text-align: right;\">\n",
       "      <th></th>\n",
       "      <th>user_id</th>\n",
       "      <th>Mean_msg</th>\n",
       "    </tr>\n",
       "  </thead>\n",
       "  <tbody>\n",
       "    <tr>\n",
       "      <th>0</th>\n",
       "      <td>1499</td>\n",
       "      <td>0.000000</td>\n",
       "    </tr>\n",
       "    <tr>\n",
       "      <th>1</th>\n",
       "      <td>1282</td>\n",
       "      <td>0.000000</td>\n",
       "    </tr>\n",
       "    <tr>\n",
       "      <th>2</th>\n",
       "      <td>1284</td>\n",
       "      <td>0.000000</td>\n",
       "    </tr>\n",
       "    <tr>\n",
       "      <th>3</th>\n",
       "      <td>1288</td>\n",
       "      <td>0.000000</td>\n",
       "    </tr>\n",
       "    <tr>\n",
       "      <th>4</th>\n",
       "      <td>1292</td>\n",
       "      <td>0.000000</td>\n",
       "    </tr>\n",
       "    <tr>\n",
       "      <th>5</th>\n",
       "      <td>1297</td>\n",
       "      <td>0.000000</td>\n",
       "    </tr>\n",
       "    <tr>\n",
       "      <th>6</th>\n",
       "      <td>1085</td>\n",
       "      <td>0.000000</td>\n",
       "    </tr>\n",
       "    <tr>\n",
       "      <th>7</th>\n",
       "      <td>1300</td>\n",
       "      <td>0.000000</td>\n",
       "    </tr>\n",
       "    <tr>\n",
       "      <th>8</th>\n",
       "      <td>1306</td>\n",
       "      <td>0.000000</td>\n",
       "    </tr>\n",
       "    <tr>\n",
       "      <th>9</th>\n",
       "      <td>1310</td>\n",
       "      <td>0.000000</td>\n",
       "    </tr>\n",
       "    <tr>\n",
       "      <th>10</th>\n",
       "      <td>1311</td>\n",
       "      <td>0.000000</td>\n",
       "    </tr>\n",
       "    <tr>\n",
       "      <th>11</th>\n",
       "      <td>1317</td>\n",
       "      <td>0.000000</td>\n",
       "    </tr>\n",
       "    <tr>\n",
       "      <th>12</th>\n",
       "      <td>1321</td>\n",
       "      <td>0.000000</td>\n",
       "    </tr>\n",
       "    <tr>\n",
       "      <th>13</th>\n",
       "      <td>1322</td>\n",
       "      <td>0.000000</td>\n",
       "    </tr>\n",
       "    <tr>\n",
       "      <th>14</th>\n",
       "      <td>1074</td>\n",
       "      <td>0.000000</td>\n",
       "    </tr>\n",
       "    <tr>\n",
       "      <th>15</th>\n",
       "      <td>1073</td>\n",
       "      <td>0.000000</td>\n",
       "    </tr>\n",
       "    <tr>\n",
       "      <th>16</th>\n",
       "      <td>1150</td>\n",
       "      <td>0.000000</td>\n",
       "    </tr>\n",
       "    <tr>\n",
       "      <th>17</th>\n",
       "      <td>1325</td>\n",
       "      <td>0.000000</td>\n",
       "    </tr>\n",
       "    <tr>\n",
       "      <th>18</th>\n",
       "      <td>1068</td>\n",
       "      <td>0.000000</td>\n",
       "    </tr>\n",
       "    <tr>\n",
       "      <th>19</th>\n",
       "      <td>1338</td>\n",
       "      <td>0.000000</td>\n",
       "    </tr>\n",
       "    <tr>\n",
       "      <th>20</th>\n",
       "      <td>1063</td>\n",
       "      <td>0.000000</td>\n",
       "    </tr>\n",
       "    <tr>\n",
       "      <th>21</th>\n",
       "      <td>1353</td>\n",
       "      <td>0.000000</td>\n",
       "    </tr>\n",
       "    <tr>\n",
       "      <th>22</th>\n",
       "      <td>1359</td>\n",
       "      <td>0.000000</td>\n",
       "    </tr>\n",
       "    <tr>\n",
       "      <th>23</th>\n",
       "      <td>1360</td>\n",
       "      <td>0.000000</td>\n",
       "    </tr>\n",
       "    <tr>\n",
       "      <th>24</th>\n",
       "      <td>1277</td>\n",
       "      <td>0.000000</td>\n",
       "    </tr>\n",
       "    <tr>\n",
       "      <th>25</th>\n",
       "      <td>1367</td>\n",
       "      <td>0.000000</td>\n",
       "    </tr>\n",
       "    <tr>\n",
       "      <th>26</th>\n",
       "      <td>1265</td>\n",
       "      <td>0.000000</td>\n",
       "    </tr>\n",
       "    <tr>\n",
       "      <th>27</th>\n",
       "      <td>1498</td>\n",
       "      <td>0.000000</td>\n",
       "    </tr>\n",
       "    <tr>\n",
       "      <th>28</th>\n",
       "      <td>1152</td>\n",
       "      <td>0.000000</td>\n",
       "    </tr>\n",
       "    <tr>\n",
       "      <th>29</th>\n",
       "      <td>1153</td>\n",
       "      <td>0.000000</td>\n",
       "    </tr>\n",
       "    <tr>\n",
       "      <th>30</th>\n",
       "      <td>1156</td>\n",
       "      <td>0.000000</td>\n",
       "    </tr>\n",
       "    <tr>\n",
       "      <th>31</th>\n",
       "      <td>1157</td>\n",
       "      <td>0.000000</td>\n",
       "    </tr>\n",
       "    <tr>\n",
       "      <th>32</th>\n",
       "      <td>1135</td>\n",
       "      <td>0.000000</td>\n",
       "    </tr>\n",
       "    <tr>\n",
       "      <th>33</th>\n",
       "      <td>1158</td>\n",
       "      <td>0.000000</td>\n",
       "    </tr>\n",
       "    <tr>\n",
       "      <th>34</th>\n",
       "      <td>1166</td>\n",
       "      <td>0.000000</td>\n",
       "    </tr>\n",
       "    <tr>\n",
       "      <th>35</th>\n",
       "      <td>1171</td>\n",
       "      <td>0.000000</td>\n",
       "    </tr>\n",
       "    <tr>\n",
       "      <th>36</th>\n",
       "      <td>1185</td>\n",
       "      <td>0.000000</td>\n",
       "    </tr>\n",
       "    <tr>\n",
       "      <th>37</th>\n",
       "      <td>1202</td>\n",
       "      <td>0.000000</td>\n",
       "    </tr>\n",
       "    <tr>\n",
       "      <th>38</th>\n",
       "      <td>1117</td>\n",
       "      <td>0.000000</td>\n",
       "    </tr>\n",
       "    <tr>\n",
       "      <th>39</th>\n",
       "      <td>1208</td>\n",
       "      <td>0.000000</td>\n",
       "    </tr>\n",
       "    <tr>\n",
       "      <th>40</th>\n",
       "      <td>1210</td>\n",
       "      <td>0.000000</td>\n",
       "    </tr>\n",
       "    <tr>\n",
       "      <th>41</th>\n",
       "      <td>1216</td>\n",
       "      <td>0.000000</td>\n",
       "    </tr>\n",
       "    <tr>\n",
       "      <th>42</th>\n",
       "      <td>1217</td>\n",
       "      <td>0.000000</td>\n",
       "    </tr>\n",
       "    <tr>\n",
       "      <th>43</th>\n",
       "      <td>1225</td>\n",
       "      <td>0.000000</td>\n",
       "    </tr>\n",
       "    <tr>\n",
       "      <th>44</th>\n",
       "      <td>1226</td>\n",
       "      <td>0.000000</td>\n",
       "    </tr>\n",
       "    <tr>\n",
       "      <th>45</th>\n",
       "      <td>1109</td>\n",
       "      <td>0.000000</td>\n",
       "    </tr>\n",
       "    <tr>\n",
       "      <th>46</th>\n",
       "      <td>1108</td>\n",
       "      <td>0.000000</td>\n",
       "    </tr>\n",
       "    <tr>\n",
       "      <th>47</th>\n",
       "      <td>1106</td>\n",
       "      <td>0.000000</td>\n",
       "    </tr>\n",
       "    <tr>\n",
       "      <th>48</th>\n",
       "      <td>1233</td>\n",
       "      <td>0.000000</td>\n",
       "    </tr>\n",
       "    <tr>\n",
       "      <th>49</th>\n",
       "      <td>1238</td>\n",
       "      <td>0.000000</td>\n",
       "    </tr>\n",
       "    <tr>\n",
       "      <th>50</th>\n",
       "      <td>1239</td>\n",
       "      <td>0.000000</td>\n",
       "    </tr>\n",
       "    <tr>\n",
       "      <th>51</th>\n",
       "      <td>1097</td>\n",
       "      <td>0.000000</td>\n",
       "    </tr>\n",
       "    <tr>\n",
       "      <th>52</th>\n",
       "      <td>1368</td>\n",
       "      <td>0.000000</td>\n",
       "    </tr>\n",
       "    <tr>\n",
       "      <th>53</th>\n",
       "      <td>1071</td>\n",
       "      <td>0.000000</td>\n",
       "    </tr>\n",
       "    <tr>\n",
       "      <th>54</th>\n",
       "      <td>1024</td>\n",
       "      <td>0.000000</td>\n",
       "    </tr>\n",
       "    <tr>\n",
       "      <th>55</th>\n",
       "      <td>1415</td>\n",
       "      <td>0.000000</td>\n",
       "    </tr>\n",
       "    <tr>\n",
       "      <th>56</th>\n",
       "      <td>1418</td>\n",
       "      <td>0.000000</td>\n",
       "    </tr>\n",
       "    <tr>\n",
       "      <th>57</th>\n",
       "      <td>1426</td>\n",
       "      <td>0.000000</td>\n",
       "    </tr>\n",
       "    <tr>\n",
       "      <th>58</th>\n",
       "      <td>1427</td>\n",
       "      <td>0.000000</td>\n",
       "    </tr>\n",
       "    <tr>\n",
       "      <th>59</th>\n",
       "      <td>1436</td>\n",
       "      <td>0.000000</td>\n",
       "    </tr>\n",
       "    <tr>\n",
       "      <th>60</th>\n",
       "      <td>1437</td>\n",
       "      <td>0.000000</td>\n",
       "    </tr>\n",
       "    <tr>\n",
       "      <th>61</th>\n",
       "      <td>1022</td>\n",
       "      <td>0.000000</td>\n",
       "    </tr>\n",
       "    <tr>\n",
       "      <th>62</th>\n",
       "      <td>1021</td>\n",
       "      <td>0.000000</td>\n",
       "    </tr>\n",
       "    <tr>\n",
       "      <th>63</th>\n",
       "      <td>1411</td>\n",
       "      <td>0.000000</td>\n",
       "    </tr>\n",
       "    <tr>\n",
       "      <th>64</th>\n",
       "      <td>1449</td>\n",
       "      <td>0.000000</td>\n",
       "    </tr>\n",
       "    <tr>\n",
       "      <th>65</th>\n",
       "      <td>1461</td>\n",
       "      <td>0.000000</td>\n",
       "    </tr>\n",
       "    <tr>\n",
       "      <th>66</th>\n",
       "      <td>1012</td>\n",
       "      <td>0.000000</td>\n",
       "    </tr>\n",
       "    <tr>\n",
       "      <th>67</th>\n",
       "      <td>1010</td>\n",
       "      <td>0.000000</td>\n",
       "    </tr>\n",
       "    <tr>\n",
       "      <th>68</th>\n",
       "      <td>1009</td>\n",
       "      <td>0.000000</td>\n",
       "    </tr>\n",
       "    <tr>\n",
       "      <th>69</th>\n",
       "      <td>1488</td>\n",
       "      <td>0.000000</td>\n",
       "    </tr>\n",
       "    <tr>\n",
       "      <th>70</th>\n",
       "      <td>1490</td>\n",
       "      <td>0.000000</td>\n",
       "    </tr>\n",
       "    <tr>\n",
       "      <th>71</th>\n",
       "      <td>1493</td>\n",
       "      <td>0.000000</td>\n",
       "    </tr>\n",
       "    <tr>\n",
       "      <th>72</th>\n",
       "      <td>1495</td>\n",
       "      <td>0.000000</td>\n",
       "    </tr>\n",
       "    <tr>\n",
       "      <th>73</th>\n",
       "      <td>1459</td>\n",
       "      <td>0.000000</td>\n",
       "    </tr>\n",
       "    <tr>\n",
       "      <th>74</th>\n",
       "      <td>1040</td>\n",
       "      <td>0.000000</td>\n",
       "    </tr>\n",
       "    <tr>\n",
       "      <th>75</th>\n",
       "      <td>1149</td>\n",
       "      <td>0.000000</td>\n",
       "    </tr>\n",
       "    <tr>\n",
       "      <th>76</th>\n",
       "      <td>1042</td>\n",
       "      <td>0.000000</td>\n",
       "    </tr>\n",
       "    <tr>\n",
       "      <th>77</th>\n",
       "      <td>1048</td>\n",
       "      <td>0.000000</td>\n",
       "    </tr>\n",
       "    <tr>\n",
       "      <th>78</th>\n",
       "      <td>1050</td>\n",
       "      <td>0.000000</td>\n",
       "    </tr>\n",
       "    <tr>\n",
       "      <th>79</th>\n",
       "      <td>1402</td>\n",
       "      <td>0.000000</td>\n",
       "    </tr>\n",
       "    <tr>\n",
       "      <th>80</th>\n",
       "      <td>1049</td>\n",
       "      <td>0.000000</td>\n",
       "    </tr>\n",
       "    <tr>\n",
       "      <th>81</th>\n",
       "      <td>1397</td>\n",
       "      <td>0.000000</td>\n",
       "    </tr>\n",
       "    <tr>\n",
       "      <th>82</th>\n",
       "      <td>1403</td>\n",
       "      <td>0.000000</td>\n",
       "    </tr>\n",
       "    <tr>\n",
       "      <th>83</th>\n",
       "      <td>1041</td>\n",
       "      <td>0.000000</td>\n",
       "    </tr>\n",
       "    <tr>\n",
       "      <th>84</th>\n",
       "      <td>1389</td>\n",
       "      <td>0.000000</td>\n",
       "    </tr>\n",
       "    <tr>\n",
       "      <th>85</th>\n",
       "      <td>1406</td>\n",
       "      <td>0.000000</td>\n",
       "    </tr>\n",
       "    <tr>\n",
       "      <th>86</th>\n",
       "      <td>1390</td>\n",
       "      <td>0.000000</td>\n",
       "    </tr>\n",
       "    <tr>\n",
       "      <th>87</th>\n",
       "      <td>1400</td>\n",
       "      <td>0.000000</td>\n",
       "    </tr>\n",
       "    <tr>\n",
       "      <th>88</th>\n",
       "      <td>1479</td>\n",
       "      <td>0.500000</td>\n",
       "    </tr>\n",
       "    <tr>\n",
       "      <th>89</th>\n",
       "      <td>1323</td>\n",
       "      <td>1.000000</td>\n",
       "    </tr>\n",
       "    <tr>\n",
       "      <th>90</th>\n",
       "      <td>1161</td>\n",
       "      <td>1.000000</td>\n",
       "    </tr>\n",
       "    <tr>\n",
       "      <th>91</th>\n",
       "      <td>1477</td>\n",
       "      <td>1.000000</td>\n",
       "    </tr>\n",
       "    <tr>\n",
       "      <th>92</th>\n",
       "      <td>1182</td>\n",
       "      <td>1.750000</td>\n",
       "    </tr>\n",
       "    <tr>\n",
       "      <th>93</th>\n",
       "      <td>1228</td>\n",
       "      <td>2.000000</td>\n",
       "    </tr>\n",
       "    <tr>\n",
       "      <th>94</th>\n",
       "      <td>1020</td>\n",
       "      <td>2.000000</td>\n",
       "    </tr>\n",
       "    <tr>\n",
       "      <th>95</th>\n",
       "      <td>1332</td>\n",
       "      <td>2.000000</td>\n",
       "    </tr>\n",
       "    <tr>\n",
       "      <th>96</th>\n",
       "      <td>1420</td>\n",
       "      <td>2.000000</td>\n",
       "    </tr>\n",
       "    <tr>\n",
       "      <th>97</th>\n",
       "      <td>1232</td>\n",
       "      <td>2.111111</td>\n",
       "    </tr>\n",
       "    <tr>\n",
       "      <th>98</th>\n",
       "      <td>1031</td>\n",
       "      <td>2.333333</td>\n",
       "    </tr>\n",
       "    <tr>\n",
       "      <th>99</th>\n",
       "      <td>1377</td>\n",
       "      <td>3.000000</td>\n",
       "    </tr>\n",
       "    <tr>\n",
       "      <th>100</th>\n",
       "      <td>1190</td>\n",
       "      <td>3.000000</td>\n",
       "    </tr>\n",
       "    <tr>\n",
       "      <th>101</th>\n",
       "      <td>1481</td>\n",
       "      <td>3.000000</td>\n",
       "    </tr>\n",
       "    <tr>\n",
       "      <th>102</th>\n",
       "      <td>1231</td>\n",
       "      <td>3.000000</td>\n",
       "    </tr>\n",
       "    <tr>\n",
       "      <th>103</th>\n",
       "      <td>1263</td>\n",
       "      <td>3.000000</td>\n",
       "    </tr>\n",
       "    <tr>\n",
       "      <th>104</th>\n",
       "      <td>1305</td>\n",
       "      <td>3.250000</td>\n",
       "    </tr>\n",
       "    <tr>\n",
       "      <th>105</th>\n",
       "      <td>1358</td>\n",
       "      <td>3.333333</td>\n",
       "    </tr>\n",
       "    <tr>\n",
       "      <th>106</th>\n",
       "      <td>1333</td>\n",
       "      <td>3.500000</td>\n",
       "    </tr>\n",
       "    <tr>\n",
       "      <th>107</th>\n",
       "      <td>1457</td>\n",
       "      <td>4.000000</td>\n",
       "    </tr>\n",
       "    <tr>\n",
       "      <th>108</th>\n",
       "      <td>1034</td>\n",
       "      <td>4.000000</td>\n",
       "    </tr>\n",
       "    <tr>\n",
       "      <th>109</th>\n",
       "      <td>1452</td>\n",
       "      <td>4.000000</td>\n",
       "    </tr>\n",
       "    <tr>\n",
       "      <th>110</th>\n",
       "      <td>1350</td>\n",
       "      <td>5.000000</td>\n",
       "    </tr>\n",
       "    <tr>\n",
       "      <th>111</th>\n",
       "      <td>1018</td>\n",
       "      <td>5.333333</td>\n",
       "    </tr>\n",
       "    <tr>\n",
       "      <th>112</th>\n",
       "      <td>1023</td>\n",
       "      <td>5.500000</td>\n",
       "    </tr>\n",
       "    <tr>\n",
       "      <th>113</th>\n",
       "      <td>1163</td>\n",
       "      <td>6.000000</td>\n",
       "    </tr>\n",
       "    <tr>\n",
       "      <th>114</th>\n",
       "      <td>1201</td>\n",
       "      <td>6.714286</td>\n",
       "    </tr>\n",
       "    <tr>\n",
       "      <th>115</th>\n",
       "      <td>1342</td>\n",
       "      <td>7.000000</td>\n",
       "    </tr>\n",
       "    <tr>\n",
       "      <th>116</th>\n",
       "      <td>1047</td>\n",
       "      <td>7.000000</td>\n",
       "    </tr>\n",
       "    <tr>\n",
       "      <th>117</th>\n",
       "      <td>1483</td>\n",
       "      <td>7.500000</td>\n",
       "    </tr>\n",
       "    <tr>\n",
       "      <th>118</th>\n",
       "      <td>1083</td>\n",
       "      <td>8.000000</td>\n",
       "    </tr>\n",
       "    <tr>\n",
       "      <th>119</th>\n",
       "      <td>1170</td>\n",
       "      <td>8.000000</td>\n",
       "    </tr>\n",
       "    <tr>\n",
       "      <th>120</th>\n",
       "      <td>1062</td>\n",
       "      <td>8.000000</td>\n",
       "    </tr>\n",
       "    <tr>\n",
       "      <th>121</th>\n",
       "      <td>1417</td>\n",
       "      <td>8.285714</td>\n",
       "    </tr>\n",
       "    <tr>\n",
       "      <th>122</th>\n",
       "      <td>1245</td>\n",
       "      <td>9.000000</td>\n",
       "    </tr>\n",
       "    <tr>\n",
       "      <th>123</th>\n",
       "      <td>1432</td>\n",
       "      <td>9.000000</td>\n",
       "    </tr>\n",
       "    <tr>\n",
       "      <th>124</th>\n",
       "      <td>1299</td>\n",
       "      <td>9.000000</td>\n",
       "    </tr>\n",
       "    <tr>\n",
       "      <th>125</th>\n",
       "      <td>1207</td>\n",
       "      <td>9.000000</td>\n",
       "    </tr>\n",
       "    <tr>\n",
       "      <th>126</th>\n",
       "      <td>1198</td>\n",
       "      <td>9.000000</td>\n",
       "    </tr>\n",
       "    <tr>\n",
       "      <th>127</th>\n",
       "      <td>1030</td>\n",
       "      <td>10.000000</td>\n",
       "    </tr>\n",
       "    <tr>\n",
       "      <th>128</th>\n",
       "      <td>1286</td>\n",
       "      <td>10.000000</td>\n",
       "    </tr>\n",
       "    <tr>\n",
       "      <th>129</th>\n",
       "      <td>1187</td>\n",
       "      <td>10.000000</td>\n",
       "    </tr>\n",
       "    <tr>\n",
       "      <th>130</th>\n",
       "      <td>1486</td>\n",
       "      <td>10.000000</td>\n",
       "    </tr>\n",
       "    <tr>\n",
       "      <th>131</th>\n",
       "      <td>1029</td>\n",
       "      <td>10.000000</td>\n",
       "    </tr>\n",
       "    <tr>\n",
       "      <th>132</th>\n",
       "      <td>1291</td>\n",
       "      <td>10.000000</td>\n",
       "    </tr>\n",
       "    <tr>\n",
       "      <th>133</th>\n",
       "      <td>1095</td>\n",
       "      <td>10.555556</td>\n",
       "    </tr>\n",
       "    <tr>\n",
       "      <th>134</th>\n",
       "      <td>1140</td>\n",
       "      <td>10.833333</td>\n",
       "    </tr>\n",
       "    <tr>\n",
       "      <th>135</th>\n",
       "      <td>1127</td>\n",
       "      <td>10.857143</td>\n",
       "    </tr>\n",
       "    <tr>\n",
       "      <th>136</th>\n",
       "      <td>1138</td>\n",
       "      <td>10.909091</td>\n",
       "    </tr>\n",
       "    <tr>\n",
       "      <th>137</th>\n",
       "      <td>1197</td>\n",
       "      <td>11.000000</td>\n",
       "    </tr>\n",
       "    <tr>\n",
       "      <th>138</th>\n",
       "      <td>1240</td>\n",
       "      <td>11.000000</td>\n",
       "    </tr>\n",
       "    <tr>\n",
       "      <th>139</th>\n",
       "      <td>1441</td>\n",
       "      <td>11.000000</td>\n",
       "    </tr>\n",
       "    <tr>\n",
       "      <th>140</th>\n",
       "      <td>1221</td>\n",
       "      <td>11.000000</td>\n",
       "    </tr>\n",
       "    <tr>\n",
       "      <th>141</th>\n",
       "      <td>1376</td>\n",
       "      <td>11.000000</td>\n",
       "    </tr>\n",
       "    <tr>\n",
       "      <th>142</th>\n",
       "      <td>1000</td>\n",
       "      <td>11.000000</td>\n",
       "    </tr>\n",
       "    <tr>\n",
       "      <th>143</th>\n",
       "      <td>1005</td>\n",
       "      <td>11.000000</td>\n",
       "    </tr>\n",
       "    <tr>\n",
       "      <th>144</th>\n",
       "      <td>1026</td>\n",
       "      <td>11.000000</td>\n",
       "    </tr>\n",
       "    <tr>\n",
       "      <th>145</th>\n",
       "      <td>1404</td>\n",
       "      <td>12.000000</td>\n",
       "    </tr>\n",
       "    <tr>\n",
       "      <th>146</th>\n",
       "      <td>1478</td>\n",
       "      <td>12.000000</td>\n",
       "    </tr>\n",
       "    <tr>\n",
       "      <th>147</th>\n",
       "      <td>1345</td>\n",
       "      <td>12.000000</td>\n",
       "    </tr>\n",
       "    <tr>\n",
       "      <th>148</th>\n",
       "      <td>1445</td>\n",
       "      <td>12.000000</td>\n",
       "    </tr>\n",
       "    <tr>\n",
       "      <th>149</th>\n",
       "      <td>1443</td>\n",
       "      <td>12.000000</td>\n",
       "    </tr>\n",
       "    <tr>\n",
       "      <th>150</th>\n",
       "      <td>1410</td>\n",
       "      <td>12.333333</td>\n",
       "    </tr>\n",
       "    <tr>\n",
       "      <th>151</th>\n",
       "      <td>1053</td>\n",
       "      <td>12.500000</td>\n",
       "    </tr>\n",
       "    <tr>\n",
       "      <th>152</th>\n",
       "      <td>1351</td>\n",
       "      <td>13.000000</td>\n",
       "    </tr>\n",
       "    <tr>\n",
       "      <th>153</th>\n",
       "      <td>1423</td>\n",
       "      <td>13.000000</td>\n",
       "    </tr>\n",
       "    <tr>\n",
       "      <th>154</th>\n",
       "      <td>1496</td>\n",
       "      <td>13.000000</td>\n",
       "    </tr>\n",
       "    <tr>\n",
       "      <th>155</th>\n",
       "      <td>1186</td>\n",
       "      <td>13.000000</td>\n",
       "    </tr>\n",
       "    <tr>\n",
       "      <th>156</th>\n",
       "      <td>1334</td>\n",
       "      <td>13.000000</td>\n",
       "    </tr>\n",
       "    <tr>\n",
       "      <th>157</th>\n",
       "      <td>1027</td>\n",
       "      <td>13.000000</td>\n",
       "    </tr>\n",
       "    <tr>\n",
       "      <th>158</th>\n",
       "      <td>1191</td>\n",
       "      <td>13.000000</td>\n",
       "    </tr>\n",
       "    <tr>\n",
       "      <th>159</th>\n",
       "      <td>1168</td>\n",
       "      <td>14.000000</td>\n",
       "    </tr>\n",
       "    <tr>\n",
       "      <th>160</th>\n",
       "      <td>1344</td>\n",
       "      <td>14.000000</td>\n",
       "    </tr>\n",
       "    <tr>\n",
       "      <th>161</th>\n",
       "      <td>1096</td>\n",
       "      <td>14.000000</td>\n",
       "    </tr>\n",
       "    <tr>\n",
       "      <th>162</th>\n",
       "      <td>1425</td>\n",
       "      <td>14.500000</td>\n",
       "    </tr>\n",
       "    <tr>\n",
       "      <th>163</th>\n",
       "      <td>1179</td>\n",
       "      <td>15.000000</td>\n",
       "    </tr>\n",
       "    <tr>\n",
       "      <th>164</th>\n",
       "      <td>1160</td>\n",
       "      <td>15.000000</td>\n",
       "    </tr>\n",
       "    <tr>\n",
       "      <th>165</th>\n",
       "      <td>1296</td>\n",
       "      <td>15.000000</td>\n",
       "    </tr>\n",
       "    <tr>\n",
       "      <th>166</th>\n",
       "      <td>1214</td>\n",
       "      <td>15.000000</td>\n",
       "    </tr>\n",
       "    <tr>\n",
       "      <th>167</th>\n",
       "      <td>1469</td>\n",
       "      <td>15.000000</td>\n",
       "    </tr>\n",
       "    <tr>\n",
       "      <th>168</th>\n",
       "      <td>1366</td>\n",
       "      <td>15.000000</td>\n",
       "    </tr>\n",
       "    <tr>\n",
       "      <th>169</th>\n",
       "      <td>1134</td>\n",
       "      <td>15.250000</td>\n",
       "    </tr>\n",
       "    <tr>\n",
       "      <th>170</th>\n",
       "      <td>1072</td>\n",
       "      <td>15.666667</td>\n",
       "    </tr>\n",
       "    <tr>\n",
       "      <th>171</th>\n",
       "      <td>1243</td>\n",
       "      <td>16.000000</td>\n",
       "    </tr>\n",
       "    <tr>\n",
       "      <th>172</th>\n",
       "      <td>1013</td>\n",
       "      <td>16.000000</td>\n",
       "    </tr>\n",
       "    <tr>\n",
       "      <th>173</th>\n",
       "      <td>1387</td>\n",
       "      <td>16.000000</td>\n",
       "    </tr>\n",
       "    <tr>\n",
       "      <th>174</th>\n",
       "      <td>1429</td>\n",
       "      <td>17.000000</td>\n",
       "    </tr>\n",
       "    <tr>\n",
       "      <th>175</th>\n",
       "      <td>1070</td>\n",
       "      <td>17.000000</td>\n",
       "    </tr>\n",
       "    <tr>\n",
       "      <th>176</th>\n",
       "      <td>1093</td>\n",
       "      <td>17.000000</td>\n",
       "    </tr>\n",
       "    <tr>\n",
       "      <th>177</th>\n",
       "      <td>1118</td>\n",
       "      <td>17.000000</td>\n",
       "    </tr>\n",
       "    <tr>\n",
       "      <th>178</th>\n",
       "      <td>1274</td>\n",
       "      <td>17.000000</td>\n",
       "    </tr>\n",
       "    <tr>\n",
       "      <th>179</th>\n",
       "      <td>1141</td>\n",
       "      <td>17.142857</td>\n",
       "    </tr>\n",
       "    <tr>\n",
       "      <th>180</th>\n",
       "      <td>1246</td>\n",
       "      <td>17.500000</td>\n",
       "    </tr>\n",
       "    <tr>\n",
       "      <th>181</th>\n",
       "      <td>1222</td>\n",
       "      <td>18.000000</td>\n",
       "    </tr>\n",
       "    <tr>\n",
       "      <th>182</th>\n",
       "      <td>1364</td>\n",
       "      <td>18.400000</td>\n",
       "    </tr>\n",
       "    <tr>\n",
       "      <th>183</th>\n",
       "      <td>1200</td>\n",
       "      <td>18.500000</td>\n",
       "    </tr>\n",
       "    <tr>\n",
       "      <th>184</th>\n",
       "      <td>1276</td>\n",
       "      <td>19.000000</td>\n",
       "    </tr>\n",
       "    <tr>\n",
       "      <th>185</th>\n",
       "      <td>1446</td>\n",
       "      <td>19.000000</td>\n",
       "    </tr>\n",
       "    <tr>\n",
       "      <th>186</th>\n",
       "      <td>1064</td>\n",
       "      <td>19.000000</td>\n",
       "    </tr>\n",
       "    <tr>\n",
       "      <th>187</th>\n",
       "      <td>1092</td>\n",
       "      <td>19.000000</td>\n",
       "    </tr>\n",
       "    <tr>\n",
       "      <th>188</th>\n",
       "      <td>1116</td>\n",
       "      <td>19.000000</td>\n",
       "    </tr>\n",
       "    <tr>\n",
       "      <th>189</th>\n",
       "      <td>1122</td>\n",
       "      <td>20.000000</td>\n",
       "    </tr>\n",
       "    <tr>\n",
       "      <th>190</th>\n",
       "      <td>1386</td>\n",
       "      <td>20.000000</td>\n",
       "    </tr>\n",
       "    <tr>\n",
       "      <th>191</th>\n",
       "      <td>1314</td>\n",
       "      <td>20.000000</td>\n",
       "    </tr>\n",
       "    <tr>\n",
       "      <th>192</th>\n",
       "      <td>1394</td>\n",
       "      <td>20.000000</td>\n",
       "    </tr>\n",
       "    <tr>\n",
       "      <th>193</th>\n",
       "      <td>1428</td>\n",
       "      <td>21.000000</td>\n",
       "    </tr>\n",
       "    <tr>\n",
       "      <th>194</th>\n",
       "      <td>1039</td>\n",
       "      <td>21.000000</td>\n",
       "    </tr>\n",
       "    <tr>\n",
       "      <th>195</th>\n",
       "      <td>1279</td>\n",
       "      <td>21.000000</td>\n",
       "    </tr>\n",
       "    <tr>\n",
       "      <th>196</th>\n",
       "      <td>1032</td>\n",
       "      <td>21.000000</td>\n",
       "    </tr>\n",
       "    <tr>\n",
       "      <th>197</th>\n",
       "      <td>1219</td>\n",
       "      <td>21.000000</td>\n",
       "    </tr>\n",
       "    <tr>\n",
       "      <th>198</th>\n",
       "      <td>1295</td>\n",
       "      <td>21.600000</td>\n",
       "    </tr>\n",
       "    <tr>\n",
       "      <th>199</th>\n",
       "      <td>1099</td>\n",
       "      <td>21.727273</td>\n",
       "    </tr>\n",
       "    <tr>\n",
       "      <th>200</th>\n",
       "      <td>1422</td>\n",
       "      <td>22.000000</td>\n",
       "    </tr>\n",
       "    <tr>\n",
       "      <th>201</th>\n",
       "      <td>1177</td>\n",
       "      <td>22.000000</td>\n",
       "    </tr>\n",
       "    <tr>\n",
       "      <th>202</th>\n",
       "      <td>1004</td>\n",
       "      <td>22.125000</td>\n",
       "    </tr>\n",
       "    <tr>\n",
       "      <th>203</th>\n",
       "      <td>1165</td>\n",
       "      <td>22.666667</td>\n",
       "    </tr>\n",
       "    <tr>\n",
       "      <th>204</th>\n",
       "      <td>1393</td>\n",
       "      <td>22.666667</td>\n",
       "    </tr>\n",
       "    <tr>\n",
       "      <th>205</th>\n",
       "      <td>1399</td>\n",
       "      <td>23.000000</td>\n",
       "    </tr>\n",
       "    <tr>\n",
       "      <th>206</th>\n",
       "      <td>1253</td>\n",
       "      <td>23.000000</td>\n",
       "    </tr>\n",
       "    <tr>\n",
       "      <th>207</th>\n",
       "      <td>1370</td>\n",
       "      <td>23.250000</td>\n",
       "    </tr>\n",
       "    <tr>\n",
       "      <th>208</th>\n",
       "      <td>1090</td>\n",
       "      <td>23.625000</td>\n",
       "    </tr>\n",
       "    <tr>\n",
       "      <th>209</th>\n",
       "      <td>1270</td>\n",
       "      <td>23.750000</td>\n",
       "    </tr>\n",
       "    <tr>\n",
       "      <th>210</th>\n",
       "      <td>1485</td>\n",
       "      <td>24.000000</td>\n",
       "    </tr>\n",
       "    <tr>\n",
       "      <th>211</th>\n",
       "      <td>1266</td>\n",
       "      <td>24.000000</td>\n",
       "    </tr>\n",
       "    <tr>\n",
       "      <th>212</th>\n",
       "      <td>1431</td>\n",
       "      <td>24.000000</td>\n",
       "    </tr>\n",
       "    <tr>\n",
       "      <th>213</th>\n",
       "      <td>1256</td>\n",
       "      <td>24.250000</td>\n",
       "    </tr>\n",
       "    <tr>\n",
       "      <th>214</th>\n",
       "      <td>1181</td>\n",
       "      <td>24.555556</td>\n",
       "    </tr>\n",
       "    <tr>\n",
       "      <th>215</th>\n",
       "      <td>1067</td>\n",
       "      <td>24.750000</td>\n",
       "    </tr>\n",
       "    <tr>\n",
       "      <th>216</th>\n",
       "      <td>1164</td>\n",
       "      <td>25.000000</td>\n",
       "    </tr>\n",
       "    <tr>\n",
       "      <th>217</th>\n",
       "      <td>1471</td>\n",
       "      <td>25.000000</td>\n",
       "    </tr>\n",
       "    <tr>\n",
       "      <th>218</th>\n",
       "      <td>1209</td>\n",
       "      <td>25.000000</td>\n",
       "    </tr>\n",
       "    <tr>\n",
       "      <th>219</th>\n",
       "      <td>1395</td>\n",
       "      <td>25.000000</td>\n",
       "    </tr>\n",
       "    <tr>\n",
       "      <th>220</th>\n",
       "      <td>1104</td>\n",
       "      <td>25.000000</td>\n",
       "    </tr>\n",
       "    <tr>\n",
       "      <th>221</th>\n",
       "      <td>1065</td>\n",
       "      <td>25.000000</td>\n",
       "    </tr>\n",
       "    <tr>\n",
       "      <th>222</th>\n",
       "      <td>1147</td>\n",
       "      <td>25.375000</td>\n",
       "    </tr>\n",
       "    <tr>\n",
       "      <th>223</th>\n",
       "      <td>1285</td>\n",
       "      <td>25.400000</td>\n",
       "    </tr>\n",
       "    <tr>\n",
       "      <th>224</th>\n",
       "      <td>1081</td>\n",
       "      <td>25.666667</td>\n",
       "    </tr>\n",
       "    <tr>\n",
       "      <th>225</th>\n",
       "      <td>1409</td>\n",
       "      <td>25.666667</td>\n",
       "    </tr>\n",
       "    <tr>\n",
       "      <th>226</th>\n",
       "      <td>1223</td>\n",
       "      <td>25.666667</td>\n",
       "    </tr>\n",
       "    <tr>\n",
       "      <th>227</th>\n",
       "      <td>1407</td>\n",
       "      <td>26.000000</td>\n",
       "    </tr>\n",
       "    <tr>\n",
       "      <th>228</th>\n",
       "      <td>1123</td>\n",
       "      <td>26.000000</td>\n",
       "    </tr>\n",
       "    <tr>\n",
       "      <th>229</th>\n",
       "      <td>1206</td>\n",
       "      <td>26.500000</td>\n",
       "    </tr>\n",
       "    <tr>\n",
       "      <th>230</th>\n",
       "      <td>1033</td>\n",
       "      <td>27.000000</td>\n",
       "    </tr>\n",
       "    <tr>\n",
       "      <th>231</th>\n",
       "      <td>1227</td>\n",
       "      <td>27.000000</td>\n",
       "    </tr>\n",
       "    <tr>\n",
       "      <th>232</th>\n",
       "      <td>1327</td>\n",
       "      <td>27.000000</td>\n",
       "    </tr>\n",
       "    <tr>\n",
       "      <th>233</th>\n",
       "      <td>1131</td>\n",
       "      <td>27.000000</td>\n",
       "    </tr>\n",
       "    <tr>\n",
       "      <th>234</th>\n",
       "      <td>1082</td>\n",
       "      <td>27.000000</td>\n",
       "    </tr>\n",
       "    <tr>\n",
       "      <th>235</th>\n",
       "      <td>1492</td>\n",
       "      <td>27.000000</td>\n",
       "    </tr>\n",
       "    <tr>\n",
       "      <th>236</th>\n",
       "      <td>1089</td>\n",
       "      <td>27.000000</td>\n",
       "    </tr>\n",
       "    <tr>\n",
       "      <th>237</th>\n",
       "      <td>1236</td>\n",
       "      <td>27.111111</td>\n",
       "    </tr>\n",
       "    <tr>\n",
       "      <th>238</th>\n",
       "      <td>1054</td>\n",
       "      <td>27.333333</td>\n",
       "    </tr>\n",
       "    <tr>\n",
       "      <th>239</th>\n",
       "      <td>1058</td>\n",
       "      <td>27.500000</td>\n",
       "    </tr>\n",
       "    <tr>\n",
       "      <th>240</th>\n",
       "      <td>1465</td>\n",
       "      <td>27.714286</td>\n",
       "    </tr>\n",
       "    <tr>\n",
       "      <th>241</th>\n",
       "      <td>1278</td>\n",
       "      <td>28.000000</td>\n",
       "    </tr>\n",
       "    <tr>\n",
       "      <th>242</th>\n",
       "      <td>1103</td>\n",
       "      <td>28.000000</td>\n",
       "    </tr>\n",
       "    <tr>\n",
       "      <th>243</th>\n",
       "      <td>1192</td>\n",
       "      <td>28.000000</td>\n",
       "    </tr>\n",
       "    <tr>\n",
       "      <th>244</th>\n",
       "      <td>1008</td>\n",
       "      <td>28.000000</td>\n",
       "    </tr>\n",
       "    <tr>\n",
       "      <th>245</th>\n",
       "      <td>1212</td>\n",
       "      <td>28.000000</td>\n",
       "    </tr>\n",
       "    <tr>\n",
       "      <th>246</th>\n",
       "      <td>1315</td>\n",
       "      <td>28.000000</td>\n",
       "    </tr>\n",
       "    <tr>\n",
       "      <th>247</th>\n",
       "      <td>1371</td>\n",
       "      <td>28.000000</td>\n",
       "    </tr>\n",
       "    <tr>\n",
       "      <th>248</th>\n",
       "      <td>1356</td>\n",
       "      <td>28.000000</td>\n",
       "    </tr>\n",
       "    <tr>\n",
       "      <th>249</th>\n",
       "      <td>1474</td>\n",
       "      <td>28.200000</td>\n",
       "    </tr>\n",
       "    <tr>\n",
       "      <th>250</th>\n",
       "      <td>1196</td>\n",
       "      <td>28.416667</td>\n",
       "    </tr>\n",
       "    <tr>\n",
       "      <th>251</th>\n",
       "      <td>1318</td>\n",
       "      <td>28.750000</td>\n",
       "    </tr>\n",
       "    <tr>\n",
       "      <th>252</th>\n",
       "      <td>1458</td>\n",
       "      <td>29.000000</td>\n",
       "    </tr>\n",
       "    <tr>\n",
       "      <th>253</th>\n",
       "      <td>1464</td>\n",
       "      <td>29.000000</td>\n",
       "    </tr>\n",
       "    <tr>\n",
       "      <th>254</th>\n",
       "      <td>1494</td>\n",
       "      <td>29.000000</td>\n",
       "    </tr>\n",
       "    <tr>\n",
       "      <th>255</th>\n",
       "      <td>1002</td>\n",
       "      <td>29.333333</td>\n",
       "    </tr>\n",
       "    <tr>\n",
       "      <th>256</th>\n",
       "      <td>1357</td>\n",
       "      <td>29.500000</td>\n",
       "    </tr>\n",
       "    <tr>\n",
       "      <th>257</th>\n",
       "      <td>1252</td>\n",
       "      <td>29.714286</td>\n",
       "    </tr>\n",
       "    <tr>\n",
       "      <th>258</th>\n",
       "      <td>1308</td>\n",
       "      <td>30.000000</td>\n",
       "    </tr>\n",
       "    <tr>\n",
       "      <th>259</th>\n",
       "      <td>1257</td>\n",
       "      <td>30.000000</td>\n",
       "    </tr>\n",
       "    <tr>\n",
       "      <th>260</th>\n",
       "      <td>1268</td>\n",
       "      <td>30.000000</td>\n",
       "    </tr>\n",
       "    <tr>\n",
       "      <th>261</th>\n",
       "      <td>1413</td>\n",
       "      <td>30.000000</td>\n",
       "    </tr>\n",
       "    <tr>\n",
       "      <th>262</th>\n",
       "      <td>1259</td>\n",
       "      <td>30.100000</td>\n",
       "    </tr>\n",
       "    <tr>\n",
       "      <th>263</th>\n",
       "      <td>1391</td>\n",
       "      <td>30.250000</td>\n",
       "    </tr>\n",
       "    <tr>\n",
       "      <th>264</th>\n",
       "      <td>1017</td>\n",
       "      <td>30.400000</td>\n",
       "    </tr>\n",
       "    <tr>\n",
       "      <th>265</th>\n",
       "      <td>1235</td>\n",
       "      <td>30.500000</td>\n",
       "    </tr>\n",
       "    <tr>\n",
       "      <th>266</th>\n",
       "      <td>1220</td>\n",
       "      <td>30.666667</td>\n",
       "    </tr>\n",
       "    <tr>\n",
       "      <th>267</th>\n",
       "      <td>1396</td>\n",
       "      <td>30.750000</td>\n",
       "    </tr>\n",
       "    <tr>\n",
       "      <th>268</th>\n",
       "      <td>1272</td>\n",
       "      <td>31.000000</td>\n",
       "    </tr>\n",
       "    <tr>\n",
       "      <th>269</th>\n",
       "      <td>1251</td>\n",
       "      <td>31.000000</td>\n",
       "    </tr>\n",
       "    <tr>\n",
       "      <th>270</th>\n",
       "      <td>1354</td>\n",
       "      <td>31.000000</td>\n",
       "    </tr>\n",
       "    <tr>\n",
       "      <th>271</th>\n",
       "      <td>1056</td>\n",
       "      <td>31.000000</td>\n",
       "    </tr>\n",
       "    <tr>\n",
       "      <th>272</th>\n",
       "      <td>1482</td>\n",
       "      <td>31.333333</td>\n",
       "    </tr>\n",
       "    <tr>\n",
       "      <th>273</th>\n",
       "      <td>1016</td>\n",
       "      <td>31.666667</td>\n",
       "    </tr>\n",
       "    <tr>\n",
       "      <th>274</th>\n",
       "      <td>1218</td>\n",
       "      <td>32.000000</td>\n",
       "    </tr>\n",
       "    <tr>\n",
       "      <th>275</th>\n",
       "      <td>1312</td>\n",
       "      <td>32.000000</td>\n",
       "    </tr>\n",
       "    <tr>\n",
       "      <th>276</th>\n",
       "      <td>1162</td>\n",
       "      <td>32.000000</td>\n",
       "    </tr>\n",
       "    <tr>\n",
       "      <th>277</th>\n",
       "      <td>1430</td>\n",
       "      <td>32.000000</td>\n",
       "    </tr>\n",
       "    <tr>\n",
       "      <th>278</th>\n",
       "      <td>1044</td>\n",
       "      <td>32.000000</td>\n",
       "    </tr>\n",
       "    <tr>\n",
       "      <th>279</th>\n",
       "      <td>1398</td>\n",
       "      <td>32.000000</td>\n",
       "    </tr>\n",
       "    <tr>\n",
       "      <th>280</th>\n",
       "      <td>1476</td>\n",
       "      <td>32.142857</td>\n",
       "    </tr>\n",
       "    <tr>\n",
       "      <th>281</th>\n",
       "      <td>1155</td>\n",
       "      <td>32.272727</td>\n",
       "    </tr>\n",
       "    <tr>\n",
       "      <th>282</th>\n",
       "      <td>1175</td>\n",
       "      <td>32.333333</td>\n",
       "    </tr>\n",
       "    <tr>\n",
       "      <th>283</th>\n",
       "      <td>1087</td>\n",
       "      <td>32.500000</td>\n",
       "    </tr>\n",
       "    <tr>\n",
       "      <th>284</th>\n",
       "      <td>1107</td>\n",
       "      <td>32.500000</td>\n",
       "    </tr>\n",
       "    <tr>\n",
       "      <th>285</th>\n",
       "      <td>1241</td>\n",
       "      <td>33.000000</td>\n",
       "    </tr>\n",
       "    <tr>\n",
       "      <th>286</th>\n",
       "      <td>1094</td>\n",
       "      <td>33.000000</td>\n",
       "    </tr>\n",
       "    <tr>\n",
       "      <th>287</th>\n",
       "      <td>1249</td>\n",
       "      <td>33.166667</td>\n",
       "    </tr>\n",
       "    <tr>\n",
       "      <th>288</th>\n",
       "      <td>1456</td>\n",
       "      <td>33.428571</td>\n",
       "    </tr>\n",
       "    <tr>\n",
       "      <th>289</th>\n",
       "      <td>1189</td>\n",
       "      <td>33.500000</td>\n",
       "    </tr>\n",
       "    <tr>\n",
       "      <th>290</th>\n",
       "      <td>1066</td>\n",
       "      <td>33.600000</td>\n",
       "    </tr>\n",
       "    <tr>\n",
       "      <th>291</th>\n",
       "      <td>1440</td>\n",
       "      <td>34.000000</td>\n",
       "    </tr>\n",
       "    <tr>\n",
       "      <th>292</th>\n",
       "      <td>1046</td>\n",
       "      <td>34.000000</td>\n",
       "    </tr>\n",
       "    <tr>\n",
       "      <th>293</th>\n",
       "      <td>1078</td>\n",
       "      <td>34.000000</td>\n",
       "    </tr>\n",
       "    <tr>\n",
       "      <th>294</th>\n",
       "      <td>1290</td>\n",
       "      <td>34.500000</td>\n",
       "    </tr>\n",
       "    <tr>\n",
       "      <th>295</th>\n",
       "      <td>1385</td>\n",
       "      <td>35.000000</td>\n",
       "    </tr>\n",
       "    <tr>\n",
       "      <th>296</th>\n",
       "      <td>1237</td>\n",
       "      <td>35.000000</td>\n",
       "    </tr>\n",
       "    <tr>\n",
       "      <th>297</th>\n",
       "      <td>1309</td>\n",
       "      <td>35.000000</td>\n",
       "    </tr>\n",
       "    <tr>\n",
       "      <th>298</th>\n",
       "      <td>1472</td>\n",
       "      <td>35.285714</td>\n",
       "    </tr>\n",
       "    <tr>\n",
       "      <th>299</th>\n",
       "      <td>1468</td>\n",
       "      <td>35.750000</td>\n",
       "    </tr>\n",
       "    <tr>\n",
       "      <th>300</th>\n",
       "      <td>1361</td>\n",
       "      <td>36.000000</td>\n",
       "    </tr>\n",
       "    <tr>\n",
       "      <th>301</th>\n",
       "      <td>1363</td>\n",
       "      <td>36.000000</td>\n",
       "    </tr>\n",
       "    <tr>\n",
       "      <th>302</th>\n",
       "      <td>1142</td>\n",
       "      <td>36.200000</td>\n",
       "    </tr>\n",
       "    <tr>\n",
       "      <th>303</th>\n",
       "      <td>1014</td>\n",
       "      <td>36.500000</td>\n",
       "    </tr>\n",
       "    <tr>\n",
       "      <th>304</th>\n",
       "      <td>1244</td>\n",
       "      <td>37.000000</td>\n",
       "    </tr>\n",
       "    <tr>\n",
       "      <th>305</th>\n",
       "      <td>1184</td>\n",
       "      <td>37.000000</td>\n",
       "    </tr>\n",
       "    <tr>\n",
       "      <th>306</th>\n",
       "      <td>1281</td>\n",
       "      <td>37.833333</td>\n",
       "    </tr>\n",
       "    <tr>\n",
       "      <th>307</th>\n",
       "      <td>1112</td>\n",
       "      <td>38.000000</td>\n",
       "    </tr>\n",
       "    <tr>\n",
       "      <th>308</th>\n",
       "      <td>1455</td>\n",
       "      <td>38.500000</td>\n",
       "    </tr>\n",
       "    <tr>\n",
       "      <th>309</th>\n",
       "      <td>1408</td>\n",
       "      <td>39.000000</td>\n",
       "    </tr>\n",
       "    <tr>\n",
       "      <th>310</th>\n",
       "      <td>1352</td>\n",
       "      <td>39.250000</td>\n",
       "    </tr>\n",
       "    <tr>\n",
       "      <th>311</th>\n",
       "      <td>1113</td>\n",
       "      <td>39.571429</td>\n",
       "    </tr>\n",
       "    <tr>\n",
       "      <th>312</th>\n",
       "      <td>1383</td>\n",
       "      <td>39.666667</td>\n",
       "    </tr>\n",
       "    <tr>\n",
       "      <th>313</th>\n",
       "      <td>1365</td>\n",
       "      <td>40.000000</td>\n",
       "    </tr>\n",
       "    <tr>\n",
       "      <th>314</th>\n",
       "      <td>1466</td>\n",
       "      <td>40.000000</td>\n",
       "    </tr>\n",
       "    <tr>\n",
       "      <th>315</th>\n",
       "      <td>1139</td>\n",
       "      <td>41.000000</td>\n",
       "    </tr>\n",
       "    <tr>\n",
       "      <th>316</th>\n",
       "      <td>1416</td>\n",
       "      <td>41.333333</td>\n",
       "    </tr>\n",
       "    <tr>\n",
       "      <th>317</th>\n",
       "      <td>1001</td>\n",
       "      <td>41.400000</td>\n",
       "    </tr>\n",
       "    <tr>\n",
       "      <th>318</th>\n",
       "      <td>1484</td>\n",
       "      <td>42.000000</td>\n",
       "    </tr>\n",
       "    <tr>\n",
       "      <th>319</th>\n",
       "      <td>1128</td>\n",
       "      <td>42.000000</td>\n",
       "    </tr>\n",
       "    <tr>\n",
       "      <th>320</th>\n",
       "      <td>1136</td>\n",
       "      <td>42.333333</td>\n",
       "    </tr>\n",
       "    <tr>\n",
       "      <th>321</th>\n",
       "      <td>1460</td>\n",
       "      <td>42.375000</td>\n",
       "    </tr>\n",
       "    <tr>\n",
       "      <th>322</th>\n",
       "      <td>1167</td>\n",
       "      <td>43.000000</td>\n",
       "    </tr>\n",
       "    <tr>\n",
       "      <th>323</th>\n",
       "      <td>1453</td>\n",
       "      <td>43.000000</td>\n",
       "    </tr>\n",
       "    <tr>\n",
       "      <th>324</th>\n",
       "      <td>1091</td>\n",
       "      <td>43.000000</td>\n",
       "    </tr>\n",
       "    <tr>\n",
       "      <th>325</th>\n",
       "      <td>1438</td>\n",
       "      <td>43.000000</td>\n",
       "    </tr>\n",
       "    <tr>\n",
       "      <th>326</th>\n",
       "      <td>1045</td>\n",
       "      <td>43.333333</td>\n",
       "    </tr>\n",
       "    <tr>\n",
       "      <th>327</th>\n",
       "      <td>1280</td>\n",
       "      <td>43.428571</td>\n",
       "    </tr>\n",
       "    <tr>\n",
       "      <th>328</th>\n",
       "      <td>1304</td>\n",
       "      <td>43.666667</td>\n",
       "    </tr>\n",
       "    <tr>\n",
       "      <th>329</th>\n",
       "      <td>1037</td>\n",
       "      <td>44.000000</td>\n",
       "    </tr>\n",
       "    <tr>\n",
       "      <th>330</th>\n",
       "      <td>1188</td>\n",
       "      <td>44.000000</td>\n",
       "    </tr>\n",
       "    <tr>\n",
       "      <th>331</th>\n",
       "      <td>1313</td>\n",
       "      <td>44.000000</td>\n",
       "    </tr>\n",
       "    <tr>\n",
       "      <th>332</th>\n",
       "      <td>1448</td>\n",
       "      <td>44.333333</td>\n",
       "    </tr>\n",
       "    <tr>\n",
       "      <th>333</th>\n",
       "      <td>1088</td>\n",
       "      <td>44.750000</td>\n",
       "    </tr>\n",
       "    <tr>\n",
       "      <th>334</th>\n",
       "      <td>1289</td>\n",
       "      <td>45.000000</td>\n",
       "    </tr>\n",
       "    <tr>\n",
       "      <th>335</th>\n",
       "      <td>1102</td>\n",
       "      <td>45.000000</td>\n",
       "    </tr>\n",
       "    <tr>\n",
       "      <th>336</th>\n",
       "      <td>1203</td>\n",
       "      <td>45.000000</td>\n",
       "    </tr>\n",
       "    <tr>\n",
       "      <th>337</th>\n",
       "      <td>1414</td>\n",
       "      <td>45.000000</td>\n",
       "    </tr>\n",
       "    <tr>\n",
       "      <th>338</th>\n",
       "      <td>1178</td>\n",
       "      <td>45.333333</td>\n",
       "    </tr>\n",
       "    <tr>\n",
       "      <th>339</th>\n",
       "      <td>1491</td>\n",
       "      <td>45.444444</td>\n",
       "    </tr>\n",
       "    <tr>\n",
       "      <th>340</th>\n",
       "      <td>1261</td>\n",
       "      <td>45.727273</td>\n",
       "    </tr>\n",
       "    <tr>\n",
       "      <th>341</th>\n",
       "      <td>1224</td>\n",
       "      <td>46.000000</td>\n",
       "    </tr>\n",
       "    <tr>\n",
       "      <th>342</th>\n",
       "      <td>1258</td>\n",
       "      <td>46.166667</td>\n",
       "    </tr>\n",
       "    <tr>\n",
       "      <th>343</th>\n",
       "      <td>1120</td>\n",
       "      <td>46.333333</td>\n",
       "    </tr>\n",
       "    <tr>\n",
       "      <th>344</th>\n",
       "      <td>1302</td>\n",
       "      <td>46.500000</td>\n",
       "    </tr>\n",
       "    <tr>\n",
       "      <th>345</th>\n",
       "      <td>1401</td>\n",
       "      <td>46.600000</td>\n",
       "    </tr>\n",
       "    <tr>\n",
       "      <th>346</th>\n",
       "      <td>1348</td>\n",
       "      <td>47.333333</td>\n",
       "    </tr>\n",
       "    <tr>\n",
       "      <th>347</th>\n",
       "      <td>1173</td>\n",
       "      <td>48.000000</td>\n",
       "    </tr>\n",
       "    <tr>\n",
       "      <th>348</th>\n",
       "      <td>1412</td>\n",
       "      <td>48.000000</td>\n",
       "    </tr>\n",
       "    <tr>\n",
       "      <th>349</th>\n",
       "      <td>1213</td>\n",
       "      <td>48.000000</td>\n",
       "    </tr>\n",
       "    <tr>\n",
       "      <th>350</th>\n",
       "      <td>1382</td>\n",
       "      <td>48.000000</td>\n",
       "    </tr>\n",
       "    <tr>\n",
       "      <th>351</th>\n",
       "      <td>1434</td>\n",
       "      <td>48.200000</td>\n",
       "    </tr>\n",
       "    <tr>\n",
       "      <th>352</th>\n",
       "      <td>1451</td>\n",
       "      <td>49.000000</td>\n",
       "    </tr>\n",
       "    <tr>\n",
       "      <th>353</th>\n",
       "      <td>1121</td>\n",
       "      <td>49.000000</td>\n",
       "    </tr>\n",
       "    <tr>\n",
       "      <th>354</th>\n",
       "      <td>1003</td>\n",
       "      <td>50.000000</td>\n",
       "    </tr>\n",
       "    <tr>\n",
       "      <th>355</th>\n",
       "      <td>1340</td>\n",
       "      <td>50.000000</td>\n",
       "    </tr>\n",
       "    <tr>\n",
       "      <th>356</th>\n",
       "      <td>1497</td>\n",
       "      <td>50.000000</td>\n",
       "    </tr>\n",
       "    <tr>\n",
       "      <th>357</th>\n",
       "      <td>1273</td>\n",
       "      <td>50.333333</td>\n",
       "    </tr>\n",
       "    <tr>\n",
       "      <th>358</th>\n",
       "      <td>1007</td>\n",
       "      <td>51.000000</td>\n",
       "    </tr>\n",
       "    <tr>\n",
       "      <th>359</th>\n",
       "      <td>1444</td>\n",
       "      <td>51.000000</td>\n",
       "    </tr>\n",
       "    <tr>\n",
       "      <th>360</th>\n",
       "      <td>1480</td>\n",
       "      <td>51.000000</td>\n",
       "    </tr>\n",
       "    <tr>\n",
       "      <th>361</th>\n",
       "      <td>1346</td>\n",
       "      <td>51.666667</td>\n",
       "    </tr>\n",
       "    <tr>\n",
       "      <th>362</th>\n",
       "      <td>1151</td>\n",
       "      <td>52.000000</td>\n",
       "    </tr>\n",
       "    <tr>\n",
       "      <th>363</th>\n",
       "      <td>1110</td>\n",
       "      <td>52.000000</td>\n",
       "    </tr>\n",
       "    <tr>\n",
       "      <th>364</th>\n",
       "      <td>1447</td>\n",
       "      <td>52.000000</td>\n",
       "    </tr>\n",
       "    <tr>\n",
       "      <th>365</th>\n",
       "      <td>1424</td>\n",
       "      <td>52.000000</td>\n",
       "    </tr>\n",
       "    <tr>\n",
       "      <th>366</th>\n",
       "      <td>1380</td>\n",
       "      <td>52.500000</td>\n",
       "    </tr>\n",
       "    <tr>\n",
       "      <th>367</th>\n",
       "      <td>1100</td>\n",
       "      <td>53.000000</td>\n",
       "    </tr>\n",
       "    <tr>\n",
       "      <th>368</th>\n",
       "      <td>1234</td>\n",
       "      <td>53.000000</td>\n",
       "    </tr>\n",
       "    <tr>\n",
       "      <th>369</th>\n",
       "      <td>1392</td>\n",
       "      <td>53.000000</td>\n",
       "    </tr>\n",
       "    <tr>\n",
       "      <th>370</th>\n",
       "      <td>1080</td>\n",
       "      <td>53.000000</td>\n",
       "    </tr>\n",
       "    <tr>\n",
       "      <th>371</th>\n",
       "      <td>1205</td>\n",
       "      <td>53.000000</td>\n",
       "    </tr>\n",
       "    <tr>\n",
       "      <th>372</th>\n",
       "      <td>1011</td>\n",
       "      <td>53.000000</td>\n",
       "    </tr>\n",
       "    <tr>\n",
       "      <th>373</th>\n",
       "      <td>1211</td>\n",
       "      <td>53.000000</td>\n",
       "    </tr>\n",
       "    <tr>\n",
       "      <th>374</th>\n",
       "      <td>1255</td>\n",
       "      <td>53.400000</td>\n",
       "    </tr>\n",
       "    <tr>\n",
       "      <th>375</th>\n",
       "      <td>1372</td>\n",
       "      <td>54.000000</td>\n",
       "    </tr>\n",
       "    <tr>\n",
       "      <th>376</th>\n",
       "      <td>1125</td>\n",
       "      <td>54.000000</td>\n",
       "    </tr>\n",
       "    <tr>\n",
       "      <th>377</th>\n",
       "      <td>1316</td>\n",
       "      <td>54.125000</td>\n",
       "    </tr>\n",
       "    <tr>\n",
       "      <th>378</th>\n",
       "      <td>1337</td>\n",
       "      <td>55.000000</td>\n",
       "    </tr>\n",
       "    <tr>\n",
       "      <th>379</th>\n",
       "      <td>1176</td>\n",
       "      <td>55.000000</td>\n",
       "    </tr>\n",
       "    <tr>\n",
       "      <th>380</th>\n",
       "      <td>1362</td>\n",
       "      <td>56.000000</td>\n",
       "    </tr>\n",
       "    <tr>\n",
       "      <th>381</th>\n",
       "      <td>1137</td>\n",
       "      <td>56.000000</td>\n",
       "    </tr>\n",
       "    <tr>\n",
       "      <th>382</th>\n",
       "      <td>1248</td>\n",
       "      <td>56.000000</td>\n",
       "    </tr>\n",
       "    <tr>\n",
       "      <th>383</th>\n",
       "      <td>1262</td>\n",
       "      <td>57.000000</td>\n",
       "    </tr>\n",
       "    <tr>\n",
       "      <th>384</th>\n",
       "      <td>1294</td>\n",
       "      <td>57.333333</td>\n",
       "    </tr>\n",
       "    <tr>\n",
       "      <th>385</th>\n",
       "      <td>1061</td>\n",
       "      <td>58.000000</td>\n",
       "    </tr>\n",
       "    <tr>\n",
       "      <th>386</th>\n",
       "      <td>1194</td>\n",
       "      <td>58.400000</td>\n",
       "    </tr>\n",
       "    <tr>\n",
       "      <th>387</th>\n",
       "      <td>1467</td>\n",
       "      <td>59.000000</td>\n",
       "    </tr>\n",
       "    <tr>\n",
       "      <th>388</th>\n",
       "      <td>1320</td>\n",
       "      <td>59.000000</td>\n",
       "    </tr>\n",
       "    <tr>\n",
       "      <th>389</th>\n",
       "      <td>1059</td>\n",
       "      <td>59.222222</td>\n",
       "    </tr>\n",
       "    <tr>\n",
       "      <th>390</th>\n",
       "      <td>1193</td>\n",
       "      <td>59.666667</td>\n",
       "    </tr>\n",
       "    <tr>\n",
       "      <th>391</th>\n",
       "      <td>1051</td>\n",
       "      <td>60.000000</td>\n",
       "    </tr>\n",
       "    <tr>\n",
       "      <th>392</th>\n",
       "      <td>1421</td>\n",
       "      <td>60.000000</td>\n",
       "    </tr>\n",
       "    <tr>\n",
       "      <th>393</th>\n",
       "      <td>1204</td>\n",
       "      <td>60.000000</td>\n",
       "    </tr>\n",
       "    <tr>\n",
       "      <th>394</th>\n",
       "      <td>1075</td>\n",
       "      <td>61.000000</td>\n",
       "    </tr>\n",
       "    <tr>\n",
       "      <th>395</th>\n",
       "      <td>1373</td>\n",
       "      <td>61.000000</td>\n",
       "    </tr>\n",
       "    <tr>\n",
       "      <th>396</th>\n",
       "      <td>1148</td>\n",
       "      <td>61.500000</td>\n",
       "    </tr>\n",
       "    <tr>\n",
       "      <th>397</th>\n",
       "      <td>1405</td>\n",
       "      <td>62.000000</td>\n",
       "    </tr>\n",
       "    <tr>\n",
       "      <th>398</th>\n",
       "      <td>1347</td>\n",
       "      <td>62.000000</td>\n",
       "    </tr>\n",
       "    <tr>\n",
       "      <th>399</th>\n",
       "      <td>1264</td>\n",
       "      <td>62.500000</td>\n",
       "    </tr>\n",
       "    <tr>\n",
       "      <th>400</th>\n",
       "      <td>1036</td>\n",
       "      <td>62.571429</td>\n",
       "    </tr>\n",
       "    <tr>\n",
       "      <th>401</th>\n",
       "      <td>1475</td>\n",
       "      <td>63.000000</td>\n",
       "    </tr>\n",
       "    <tr>\n",
       "      <th>402</th>\n",
       "      <td>1341</td>\n",
       "      <td>63.000000</td>\n",
       "    </tr>\n",
       "    <tr>\n",
       "      <th>403</th>\n",
       "      <td>1374</td>\n",
       "      <td>64.000000</td>\n",
       "    </tr>\n",
       "    <tr>\n",
       "      <th>404</th>\n",
       "      <td>1283</td>\n",
       "      <td>64.000000</td>\n",
       "    </tr>\n",
       "    <tr>\n",
       "      <th>405</th>\n",
       "      <td>1145</td>\n",
       "      <td>64.000000</td>\n",
       "    </tr>\n",
       "    <tr>\n",
       "      <th>406</th>\n",
       "      <td>1242</td>\n",
       "      <td>64.000000</td>\n",
       "    </tr>\n",
       "    <tr>\n",
       "      <th>407</th>\n",
       "      <td>1442</td>\n",
       "      <td>65.000000</td>\n",
       "    </tr>\n",
       "    <tr>\n",
       "      <th>408</th>\n",
       "      <td>1035</td>\n",
       "      <td>66.000000</td>\n",
       "    </tr>\n",
       "    <tr>\n",
       "      <th>409</th>\n",
       "      <td>1439</td>\n",
       "      <td>66.000000</td>\n",
       "    </tr>\n",
       "    <tr>\n",
       "      <th>410</th>\n",
       "      <td>1060</td>\n",
       "      <td>66.000000</td>\n",
       "    </tr>\n",
       "    <tr>\n",
       "      <th>411</th>\n",
       "      <td>1487</td>\n",
       "      <td>66.000000</td>\n",
       "    </tr>\n",
       "    <tr>\n",
       "      <th>412</th>\n",
       "      <td>1079</td>\n",
       "      <td>66.000000</td>\n",
       "    </tr>\n",
       "    <tr>\n",
       "      <th>413</th>\n",
       "      <td>1144</td>\n",
       "      <td>66.777778</td>\n",
       "    </tr>\n",
       "    <tr>\n",
       "      <th>414</th>\n",
       "      <td>1250</td>\n",
       "      <td>67.000000</td>\n",
       "    </tr>\n",
       "    <tr>\n",
       "      <th>415</th>\n",
       "      <td>1077</td>\n",
       "      <td>67.000000</td>\n",
       "    </tr>\n",
       "    <tr>\n",
       "      <th>416</th>\n",
       "      <td>1015</td>\n",
       "      <td>68.000000</td>\n",
       "    </tr>\n",
       "    <tr>\n",
       "      <th>417</th>\n",
       "      <td>1462</td>\n",
       "      <td>68.000000</td>\n",
       "    </tr>\n",
       "    <tr>\n",
       "      <th>418</th>\n",
       "      <td>1028</td>\n",
       "      <td>68.727273</td>\n",
       "    </tr>\n",
       "    <tr>\n",
       "      <th>419</th>\n",
       "      <td>1267</td>\n",
       "      <td>69.000000</td>\n",
       "    </tr>\n",
       "    <tr>\n",
       "      <th>420</th>\n",
       "      <td>1174</td>\n",
       "      <td>69.000000</td>\n",
       "    </tr>\n",
       "    <tr>\n",
       "      <th>421</th>\n",
       "      <td>1349</td>\n",
       "      <td>69.666667</td>\n",
       "    </tr>\n",
       "    <tr>\n",
       "      <th>422</th>\n",
       "      <td>1084</td>\n",
       "      <td>70.000000</td>\n",
       "    </tr>\n",
       "    <tr>\n",
       "      <th>423</th>\n",
       "      <td>1199</td>\n",
       "      <td>70.200000</td>\n",
       "    </tr>\n",
       "    <tr>\n",
       "      <th>424</th>\n",
       "      <td>1454</td>\n",
       "      <td>71.000000</td>\n",
       "    </tr>\n",
       "    <tr>\n",
       "      <th>425</th>\n",
       "      <td>1101</td>\n",
       "      <td>72.000000</td>\n",
       "    </tr>\n",
       "    <tr>\n",
       "      <th>426</th>\n",
       "      <td>1124</td>\n",
       "      <td>73.000000</td>\n",
       "    </tr>\n",
       "    <tr>\n",
       "      <th>427</th>\n",
       "      <td>1326</td>\n",
       "      <td>74.000000</td>\n",
       "    </tr>\n",
       "    <tr>\n",
       "      <th>428</th>\n",
       "      <td>1086</td>\n",
       "      <td>74.000000</td>\n",
       "    </tr>\n",
       "    <tr>\n",
       "      <th>429</th>\n",
       "      <td>1154</td>\n",
       "      <td>75.000000</td>\n",
       "    </tr>\n",
       "    <tr>\n",
       "      <th>430</th>\n",
       "      <td>1133</td>\n",
       "      <td>75.833333</td>\n",
       "    </tr>\n",
       "    <tr>\n",
       "      <th>431</th>\n",
       "      <td>1369</td>\n",
       "      <td>76.000000</td>\n",
       "    </tr>\n",
       "    <tr>\n",
       "      <th>432</th>\n",
       "      <td>1339</td>\n",
       "      <td>76.000000</td>\n",
       "    </tr>\n",
       "    <tr>\n",
       "      <th>433</th>\n",
       "      <td>1055</td>\n",
       "      <td>76.000000</td>\n",
       "    </tr>\n",
       "    <tr>\n",
       "      <th>434</th>\n",
       "      <td>1115</td>\n",
       "      <td>76.000000</td>\n",
       "    </tr>\n",
       "    <tr>\n",
       "      <th>435</th>\n",
       "      <td>1019</td>\n",
       "      <td>76.000000</td>\n",
       "    </tr>\n",
       "    <tr>\n",
       "      <th>436</th>\n",
       "      <td>1180</td>\n",
       "      <td>76.000000</td>\n",
       "    </tr>\n",
       "    <tr>\n",
       "      <th>437</th>\n",
       "      <td>1330</td>\n",
       "      <td>76.500000</td>\n",
       "    </tr>\n",
       "    <tr>\n",
       "      <th>438</th>\n",
       "      <td>1336</td>\n",
       "      <td>76.666667</td>\n",
       "    </tr>\n",
       "    <tr>\n",
       "      <th>439</th>\n",
       "      <td>1379</td>\n",
       "      <td>77.000000</td>\n",
       "    </tr>\n",
       "    <tr>\n",
       "      <th>440</th>\n",
       "      <td>1006</td>\n",
       "      <td>77.000000</td>\n",
       "    </tr>\n",
       "    <tr>\n",
       "      <th>441</th>\n",
       "      <td>1114</td>\n",
       "      <td>77.333333</td>\n",
       "    </tr>\n",
       "    <tr>\n",
       "      <th>442</th>\n",
       "      <td>1183</td>\n",
       "      <td>79.000000</td>\n",
       "    </tr>\n",
       "    <tr>\n",
       "      <th>443</th>\n",
       "      <td>1301</td>\n",
       "      <td>79.000000</td>\n",
       "    </tr>\n",
       "    <tr>\n",
       "      <th>444</th>\n",
       "      <td>1146</td>\n",
       "      <td>79.333333</td>\n",
       "    </tr>\n",
       "    <tr>\n",
       "      <th>445</th>\n",
       "      <td>1329</td>\n",
       "      <td>79.400000</td>\n",
       "    </tr>\n",
       "    <tr>\n",
       "      <th>446</th>\n",
       "      <td>1489</td>\n",
       "      <td>80.000000</td>\n",
       "    </tr>\n",
       "    <tr>\n",
       "      <th>447</th>\n",
       "      <td>1260</td>\n",
       "      <td>80.000000</td>\n",
       "    </tr>\n",
       "    <tr>\n",
       "      <th>448</th>\n",
       "      <td>1111</td>\n",
       "      <td>80.500000</td>\n",
       "    </tr>\n",
       "    <tr>\n",
       "      <th>449</th>\n",
       "      <td>1105</td>\n",
       "      <td>81.000000</td>\n",
       "    </tr>\n",
       "    <tr>\n",
       "      <th>450</th>\n",
       "      <td>1375</td>\n",
       "      <td>81.000000</td>\n",
       "    </tr>\n",
       "    <tr>\n",
       "      <th>451</th>\n",
       "      <td>1126</td>\n",
       "      <td>81.285714</td>\n",
       "    </tr>\n",
       "    <tr>\n",
       "      <th>452</th>\n",
       "      <td>1384</td>\n",
       "      <td>81.428571</td>\n",
       "    </tr>\n",
       "    <tr>\n",
       "      <th>453</th>\n",
       "      <td>1450</td>\n",
       "      <td>82.000000</td>\n",
       "    </tr>\n",
       "    <tr>\n",
       "      <th>454</th>\n",
       "      <td>1271</td>\n",
       "      <td>83.000000</td>\n",
       "    </tr>\n",
       "    <tr>\n",
       "      <th>455</th>\n",
       "      <td>1130</td>\n",
       "      <td>84.000000</td>\n",
       "    </tr>\n",
       "    <tr>\n",
       "      <th>456</th>\n",
       "      <td>1038</td>\n",
       "      <td>85.000000</td>\n",
       "    </tr>\n",
       "    <tr>\n",
       "      <th>457</th>\n",
       "      <td>1215</td>\n",
       "      <td>85.000000</td>\n",
       "    </tr>\n",
       "    <tr>\n",
       "      <th>458</th>\n",
       "      <td>1098</td>\n",
       "      <td>85.200000</td>\n",
       "    </tr>\n",
       "    <tr>\n",
       "      <th>459</th>\n",
       "      <td>1043</td>\n",
       "      <td>85.571429</td>\n",
       "    </tr>\n",
       "    <tr>\n",
       "      <th>460</th>\n",
       "      <td>1293</td>\n",
       "      <td>86.400000</td>\n",
       "    </tr>\n",
       "    <tr>\n",
       "      <th>461</th>\n",
       "      <td>1331</td>\n",
       "      <td>88.000000</td>\n",
       "    </tr>\n",
       "    <tr>\n",
       "      <th>462</th>\n",
       "      <td>1069</td>\n",
       "      <td>92.500000</td>\n",
       "    </tr>\n",
       "    <tr>\n",
       "      <th>463</th>\n",
       "      <td>1335</td>\n",
       "      <td>93.428571</td>\n",
       "    </tr>\n",
       "    <tr>\n",
       "      <th>464</th>\n",
       "      <td>1355</td>\n",
       "      <td>94.000000</td>\n",
       "    </tr>\n",
       "    <tr>\n",
       "      <th>465</th>\n",
       "      <td>1172</td>\n",
       "      <td>95.000000</td>\n",
       "    </tr>\n",
       "    <tr>\n",
       "      <th>466</th>\n",
       "      <td>1195</td>\n",
       "      <td>97.000000</td>\n",
       "    </tr>\n",
       "    <tr>\n",
       "      <th>467</th>\n",
       "      <td>1388</td>\n",
       "      <td>98.000000</td>\n",
       "    </tr>\n",
       "    <tr>\n",
       "      <th>468</th>\n",
       "      <td>1159</td>\n",
       "      <td>98.000000</td>\n",
       "    </tr>\n",
       "    <tr>\n",
       "      <th>469</th>\n",
       "      <td>1057</td>\n",
       "      <td>100.000000</td>\n",
       "    </tr>\n",
       "    <tr>\n",
       "      <th>470</th>\n",
       "      <td>1247</td>\n",
       "      <td>100.000000</td>\n",
       "    </tr>\n",
       "    <tr>\n",
       "      <th>471</th>\n",
       "      <td>1298</td>\n",
       "      <td>103.000000</td>\n",
       "    </tr>\n",
       "    <tr>\n",
       "      <th>472</th>\n",
       "      <td>1254</td>\n",
       "      <td>105.000000</td>\n",
       "    </tr>\n",
       "    <tr>\n",
       "      <th>473</th>\n",
       "      <td>1433</td>\n",
       "      <td>105.000000</td>\n",
       "    </tr>\n",
       "    <tr>\n",
       "      <th>474</th>\n",
       "      <td>1343</td>\n",
       "      <td>105.600000</td>\n",
       "    </tr>\n",
       "    <tr>\n",
       "      <th>475</th>\n",
       "      <td>1419</td>\n",
       "      <td>106.000000</td>\n",
       "    </tr>\n",
       "    <tr>\n",
       "      <th>476</th>\n",
       "      <td>1287</td>\n",
       "      <td>106.000000</td>\n",
       "    </tr>\n",
       "    <tr>\n",
       "      <th>477</th>\n",
       "      <td>1169</td>\n",
       "      <td>110.000000</td>\n",
       "    </tr>\n",
       "    <tr>\n",
       "      <th>478</th>\n",
       "      <td>1435</td>\n",
       "      <td>118.000000</td>\n",
       "    </tr>\n",
       "    <tr>\n",
       "      <th>479</th>\n",
       "      <td>1119</td>\n",
       "      <td>122.000000</td>\n",
       "    </tr>\n",
       "    <tr>\n",
       "      <th>480</th>\n",
       "      <td>1076</td>\n",
       "      <td>123.333333</td>\n",
       "    </tr>\n",
       "    <tr>\n",
       "      <th>481</th>\n",
       "      <td>1229</td>\n",
       "      <td>125.000000</td>\n",
       "    </tr>\n",
       "    <tr>\n",
       "      <th>482</th>\n",
       "      <td>1230</td>\n",
       "      <td>126.000000</td>\n",
       "    </tr>\n",
       "    <tr>\n",
       "      <th>483</th>\n",
       "      <td>1324</td>\n",
       "      <td>130.555556</td>\n",
       "    </tr>\n",
       "    <tr>\n",
       "      <th>484</th>\n",
       "      <td>1470</td>\n",
       "      <td>132.000000</td>\n",
       "    </tr>\n",
       "    <tr>\n",
       "      <th>485</th>\n",
       "      <td>1328</td>\n",
       "      <td>137.000000</td>\n",
       "    </tr>\n",
       "    <tr>\n",
       "      <th>486</th>\n",
       "      <td>1132</td>\n",
       "      <td>143.111111</td>\n",
       "    </tr>\n",
       "    <tr>\n",
       "      <th>487</th>\n",
       "      <td>1303</td>\n",
       "      <td>148.000000</td>\n",
       "    </tr>\n",
       "    <tr>\n",
       "      <th>488</th>\n",
       "      <td>1381</td>\n",
       "      <td>156.000000</td>\n",
       "    </tr>\n",
       "    <tr>\n",
       "      <th>489</th>\n",
       "      <td>1052</td>\n",
       "      <td>159.000000</td>\n",
       "    </tr>\n",
       "  </tbody>\n",
       "</table style=\"display:inline\"></td></th><th style=\"text-align:center\"><td style=\"vertical-align:top\"><h2 style=\"text-align: center;\">web</h2><table style=\"display:inline\" border=\"1\" class=\"dataframe\">\n",
       "  <thead>\n",
       "    <tr style=\"text-align: right;\">\n",
       "      <th></th>\n",
       "      <th>user_id</th>\n",
       "      <th>Mean_mb</th>\n",
       "    </tr>\n",
       "  </thead>\n",
       "  <tbody>\n",
       "    <tr>\n",
       "      <th>0</th>\n",
       "      <td>1070</td>\n",
       "      <td>41.000000</td>\n",
       "    </tr>\n",
       "    <tr>\n",
       "      <th>1</th>\n",
       "      <td>1035</td>\n",
       "      <td>140.000000</td>\n",
       "    </tr>\n",
       "    <tr>\n",
       "      <th>2</th>\n",
       "      <td>1116</td>\n",
       "      <td>292.000000</td>\n",
       "    </tr>\n",
       "    <tr>\n",
       "      <th>3</th>\n",
       "      <td>1118</td>\n",
       "      <td>603.000000</td>\n",
       "    </tr>\n",
       "    <tr>\n",
       "      <th>4</th>\n",
       "      <td>1262</td>\n",
       "      <td>654.000000</td>\n",
       "    </tr>\n",
       "    <tr>\n",
       "      <th>5</th>\n",
       "      <td>1208</td>\n",
       "      <td>794.000000</td>\n",
       "    </tr>\n",
       "    <tr>\n",
       "      <th>6</th>\n",
       "      <td>1152</td>\n",
       "      <td>987.500000</td>\n",
       "    </tr>\n",
       "    <tr>\n",
       "      <th>7</th>\n",
       "      <td>1413</td>\n",
       "      <td>990.000000</td>\n",
       "    </tr>\n",
       "    <tr>\n",
       "      <th>8</th>\n",
       "      <td>1225</td>\n",
       "      <td>1056.000000</td>\n",
       "    </tr>\n",
       "    <tr>\n",
       "      <th>9</th>\n",
       "      <td>1089</td>\n",
       "      <td>1237.000000</td>\n",
       "    </tr>\n",
       "    <tr>\n",
       "      <th>10</th>\n",
       "      <td>1348</td>\n",
       "      <td>1500.333333</td>\n",
       "    </tr>\n",
       "    <tr>\n",
       "      <th>11</th>\n",
       "      <td>1489</td>\n",
       "      <td>1564.250000</td>\n",
       "    </tr>\n",
       "    <tr>\n",
       "      <th>12</th>\n",
       "      <td>1239</td>\n",
       "      <td>1601.000000</td>\n",
       "    </tr>\n",
       "    <tr>\n",
       "      <th>13</th>\n",
       "      <td>1040</td>\n",
       "      <td>1601.000000</td>\n",
       "    </tr>\n",
       "    <tr>\n",
       "      <th>14</th>\n",
       "      <td>1288</td>\n",
       "      <td>1606.333333</td>\n",
       "    </tr>\n",
       "    <tr>\n",
       "      <th>15</th>\n",
       "      <td>1305</td>\n",
       "      <td>1617.125000</td>\n",
       "    </tr>\n",
       "    <tr>\n",
       "      <th>16</th>\n",
       "      <td>1073</td>\n",
       "      <td>1638.888889</td>\n",
       "    </tr>\n",
       "    <tr>\n",
       "      <th>17</th>\n",
       "      <td>1331</td>\n",
       "      <td>1651.200000</td>\n",
       "    </tr>\n",
       "    <tr>\n",
       "      <th>18</th>\n",
       "      <td>1408</td>\n",
       "      <td>1698.545455</td>\n",
       "    </tr>\n",
       "    <tr>\n",
       "      <th>19</th>\n",
       "      <td>1375</td>\n",
       "      <td>1737.000000</td>\n",
       "    </tr>\n",
       "    <tr>\n",
       "      <th>20</th>\n",
       "      <td>1218</td>\n",
       "      <td>1766.000000</td>\n",
       "    </tr>\n",
       "    <tr>\n",
       "      <th>21</th>\n",
       "      <td>1005</td>\n",
       "      <td>1780.000000</td>\n",
       "    </tr>\n",
       "    <tr>\n",
       "      <th>22</th>\n",
       "      <td>1494</td>\n",
       "      <td>1794.833333</td>\n",
       "    </tr>\n",
       "    <tr>\n",
       "      <th>23</th>\n",
       "      <td>1337</td>\n",
       "      <td>1838.000000</td>\n",
       "    </tr>\n",
       "    <tr>\n",
       "      <th>24</th>\n",
       "      <td>1434</td>\n",
       "      <td>1985.900000</td>\n",
       "    </tr>\n",
       "    <tr>\n",
       "      <th>25</th>\n",
       "      <td>1364</td>\n",
       "      <td>2048.200000</td>\n",
       "    </tr>\n",
       "    <tr>\n",
       "      <th>26</th>\n",
       "      <td>1148</td>\n",
       "      <td>2055.000000</td>\n",
       "    </tr>\n",
       "    <tr>\n",
       "      <th>27</th>\n",
       "      <td>1169</td>\n",
       "      <td>2071.000000</td>\n",
       "    </tr>\n",
       "    <tr>\n",
       "      <th>28</th>\n",
       "      <td>1349</td>\n",
       "      <td>2118.666667</td>\n",
       "    </tr>\n",
       "    <tr>\n",
       "      <th>29</th>\n",
       "      <td>1232</td>\n",
       "      <td>2133.444444</td>\n",
       "    </tr>\n",
       "    <tr>\n",
       "      <th>30</th>\n",
       "      <td>1015</td>\n",
       "      <td>2135.000000</td>\n",
       "    </tr>\n",
       "    <tr>\n",
       "      <th>31</th>\n",
       "      <td>1457</td>\n",
       "      <td>2212.000000</td>\n",
       "    </tr>\n",
       "    <tr>\n",
       "      <th>32</th>\n",
       "      <td>1355</td>\n",
       "      <td>2269.666667</td>\n",
       "    </tr>\n",
       "    <tr>\n",
       "      <th>33</th>\n",
       "      <td>1437</td>\n",
       "      <td>2300.000000</td>\n",
       "    </tr>\n",
       "    <tr>\n",
       "      <th>34</th>\n",
       "      <td>1287</td>\n",
       "      <td>2311.000000</td>\n",
       "    </tr>\n",
       "    <tr>\n",
       "      <th>35</th>\n",
       "      <td>1055</td>\n",
       "      <td>2360.375000</td>\n",
       "    </tr>\n",
       "    <tr>\n",
       "      <th>36</th>\n",
       "      <td>1027</td>\n",
       "      <td>2406.166667</td>\n",
       "    </tr>\n",
       "    <tr>\n",
       "      <th>37</th>\n",
       "      <td>1252</td>\n",
       "      <td>2423.714286</td>\n",
       "    </tr>\n",
       "    <tr>\n",
       "      <th>38</th>\n",
       "      <td>1362</td>\n",
       "      <td>2426.000000</td>\n",
       "    </tr>\n",
       "    <tr>\n",
       "      <th>39</th>\n",
       "      <td>1012</td>\n",
       "      <td>2454.500000</td>\n",
       "    </tr>\n",
       "    <tr>\n",
       "      <th>40</th>\n",
       "      <td>1193</td>\n",
       "      <td>2478.000000</td>\n",
       "    </tr>\n",
       "    <tr>\n",
       "      <th>41</th>\n",
       "      <td>1298</td>\n",
       "      <td>2522.000000</td>\n",
       "    </tr>\n",
       "    <tr>\n",
       "      <th>42</th>\n",
       "      <td>1181</td>\n",
       "      <td>2585.777778</td>\n",
       "    </tr>\n",
       "    <tr>\n",
       "      <th>43</th>\n",
       "      <td>1335</td>\n",
       "      <td>2595.285714</td>\n",
       "    </tr>\n",
       "    <tr>\n",
       "      <th>44</th>\n",
       "      <td>1271</td>\n",
       "      <td>2602.000000</td>\n",
       "    </tr>\n",
       "    <tr>\n",
       "      <th>45</th>\n",
       "      <td>1402</td>\n",
       "      <td>2623.250000</td>\n",
       "    </tr>\n",
       "    <tr>\n",
       "      <th>46</th>\n",
       "      <td>1336</td>\n",
       "      <td>2661.000000</td>\n",
       "    </tr>\n",
       "    <tr>\n",
       "      <th>47</th>\n",
       "      <td>1095</td>\n",
       "      <td>2666.222222</td>\n",
       "    </tr>\n",
       "    <tr>\n",
       "      <th>48</th>\n",
       "      <td>1068</td>\n",
       "      <td>2684.000000</td>\n",
       "    </tr>\n",
       "    <tr>\n",
       "      <th>49</th>\n",
       "      <td>1464</td>\n",
       "      <td>2692.000000</td>\n",
       "    </tr>\n",
       "    <tr>\n",
       "      <th>50</th>\n",
       "      <td>1131</td>\n",
       "      <td>2735.625000</td>\n",
       "    </tr>\n",
       "    <tr>\n",
       "      <th>51</th>\n",
       "      <td>1410</td>\n",
       "      <td>2750.333333</td>\n",
       "    </tr>\n",
       "    <tr>\n",
       "      <th>52</th>\n",
       "      <td>1472</td>\n",
       "      <td>2838.714286</td>\n",
       "    </tr>\n",
       "    <tr>\n",
       "      <th>53</th>\n",
       "      <td>1400</td>\n",
       "      <td>2840.500000</td>\n",
       "    </tr>\n",
       "    <tr>\n",
       "      <th>54</th>\n",
       "      <td>1338</td>\n",
       "      <td>2893.400000</td>\n",
       "    </tr>\n",
       "    <tr>\n",
       "      <th>55</th>\n",
       "      <td>1018</td>\n",
       "      <td>2920.666667</td>\n",
       "    </tr>\n",
       "    <tr>\n",
       "      <th>56</th>\n",
       "      <td>1081</td>\n",
       "      <td>2968.888889</td>\n",
       "    </tr>\n",
       "    <tr>\n",
       "      <th>57</th>\n",
       "      <td>1130</td>\n",
       "      <td>3009.750000</td>\n",
       "    </tr>\n",
       "    <tr>\n",
       "      <th>58</th>\n",
       "      <td>1263</td>\n",
       "      <td>3043.400000</td>\n",
       "    </tr>\n",
       "    <tr>\n",
       "      <th>59</th>\n",
       "      <td>1385</td>\n",
       "      <td>3134.700000</td>\n",
       "    </tr>\n",
       "    <tr>\n",
       "      <th>60</th>\n",
       "      <td>1210</td>\n",
       "      <td>3137.250000</td>\n",
       "    </tr>\n",
       "    <tr>\n",
       "      <th>61</th>\n",
       "      <td>1439</td>\n",
       "      <td>3150.375000</td>\n",
       "    </tr>\n",
       "    <tr>\n",
       "      <th>62</th>\n",
       "      <td>1299</td>\n",
       "      <td>3172.600000</td>\n",
       "    </tr>\n",
       "    <tr>\n",
       "      <th>63</th>\n",
       "      <td>1010</td>\n",
       "      <td>3175.777778</td>\n",
       "    </tr>\n",
       "    <tr>\n",
       "      <th>64</th>\n",
       "      <td>1141</td>\n",
       "      <td>3208.714286</td>\n",
       "    </tr>\n",
       "    <tr>\n",
       "      <th>65</th>\n",
       "      <td>1466</td>\n",
       "      <td>3213.625000</td>\n",
       "    </tr>\n",
       "    <tr>\n",
       "      <th>66</th>\n",
       "      <td>1197</td>\n",
       "      <td>3214.000000</td>\n",
       "    </tr>\n",
       "    <tr>\n",
       "      <th>67</th>\n",
       "      <td>1227</td>\n",
       "      <td>3291.000000</td>\n",
       "    </tr>\n",
       "    <tr>\n",
       "      <th>68</th>\n",
       "      <td>1324</td>\n",
       "      <td>3316.777778</td>\n",
       "    </tr>\n",
       "    <tr>\n",
       "      <th>69</th>\n",
       "      <td>1064</td>\n",
       "      <td>3337.000000</td>\n",
       "    </tr>\n",
       "    <tr>\n",
       "      <th>70</th>\n",
       "      <td>1101</td>\n",
       "      <td>3345.333333</td>\n",
       "    </tr>\n",
       "    <tr>\n",
       "      <th>71</th>\n",
       "      <td>1496</td>\n",
       "      <td>3349.600000</td>\n",
       "    </tr>\n",
       "    <tr>\n",
       "      <th>72</th>\n",
       "      <td>1111</td>\n",
       "      <td>3396.000000</td>\n",
       "    </tr>\n",
       "    <tr>\n",
       "      <th>73</th>\n",
       "      <td>1216</td>\n",
       "      <td>3439.500000</td>\n",
       "    </tr>\n",
       "    <tr>\n",
       "      <th>74</th>\n",
       "      <td>1175</td>\n",
       "      <td>3455.666667</td>\n",
       "    </tr>\n",
       "    <tr>\n",
       "      <th>75</th>\n",
       "      <td>1099</td>\n",
       "      <td>3505.727273</td>\n",
       "    </tr>\n",
       "    <tr>\n",
       "      <th>76</th>\n",
       "      <td>1180</td>\n",
       "      <td>3531.000000</td>\n",
       "    </tr>\n",
       "    <tr>\n",
       "      <th>77</th>\n",
       "      <td>1372</td>\n",
       "      <td>3536.000000</td>\n",
       "    </tr>\n",
       "    <tr>\n",
       "      <th>78</th>\n",
       "      <td>1468</td>\n",
       "      <td>3554.750000</td>\n",
       "    </tr>\n",
       "    <tr>\n",
       "      <th>79</th>\n",
       "      <td>1242</td>\n",
       "      <td>3557.000000</td>\n",
       "    </tr>\n",
       "    <tr>\n",
       "      <th>80</th>\n",
       "      <td>1103</td>\n",
       "      <td>3564.400000</td>\n",
       "    </tr>\n",
       "    <tr>\n",
       "      <th>81</th>\n",
       "      <td>1334</td>\n",
       "      <td>3568.900000</td>\n",
       "    </tr>\n",
       "    <tr>\n",
       "      <th>82</th>\n",
       "      <td>1146</td>\n",
       "      <td>3575.666667</td>\n",
       "    </tr>\n",
       "    <tr>\n",
       "      <th>83</th>\n",
       "      <td>1179</td>\n",
       "      <td>3602.833333</td>\n",
       "    </tr>\n",
       "    <tr>\n",
       "      <th>84</th>\n",
       "      <td>1071</td>\n",
       "      <td>3637.250000</td>\n",
       "    </tr>\n",
       "    <tr>\n",
       "      <th>85</th>\n",
       "      <td>1167</td>\n",
       "      <td>3651.250000</td>\n",
       "    </tr>\n",
       "    <tr>\n",
       "      <th>86</th>\n",
       "      <td>1187</td>\n",
       "      <td>3662.111111</td>\n",
       "    </tr>\n",
       "    <tr>\n",
       "      <th>87</th>\n",
       "      <td>1499</td>\n",
       "      <td>3665.000000</td>\n",
       "    </tr>\n",
       "    <tr>\n",
       "      <th>88</th>\n",
       "      <td>1082</td>\n",
       "      <td>3676.888889</td>\n",
       "    </tr>\n",
       "    <tr>\n",
       "      <th>89</th>\n",
       "      <td>1257</td>\n",
       "      <td>3717.000000</td>\n",
       "    </tr>\n",
       "    <tr>\n",
       "      <th>90</th>\n",
       "      <td>1266</td>\n",
       "      <td>3730.000000</td>\n",
       "    </tr>\n",
       "    <tr>\n",
       "      <th>91</th>\n",
       "      <td>1065</td>\n",
       "      <td>3799.250000</td>\n",
       "    </tr>\n",
       "    <tr>\n",
       "      <th>92</th>\n",
       "      <td>1280</td>\n",
       "      <td>3839.428571</td>\n",
       "    </tr>\n",
       "    <tr>\n",
       "      <th>93</th>\n",
       "      <td>1396</td>\n",
       "      <td>3856.250000</td>\n",
       "    </tr>\n",
       "    <tr>\n",
       "      <th>94</th>\n",
       "      <td>1020</td>\n",
       "      <td>3874.500000</td>\n",
       "    </tr>\n",
       "    <tr>\n",
       "      <th>95</th>\n",
       "      <td>1075</td>\n",
       "      <td>3949.750000</td>\n",
       "    </tr>\n",
       "    <tr>\n",
       "      <th>96</th>\n",
       "      <td>1261</td>\n",
       "      <td>3958.909091</td>\n",
       "    </tr>\n",
       "    <tr>\n",
       "      <th>97</th>\n",
       "      <td>1198</td>\n",
       "      <td>3970.250000</td>\n",
       "    </tr>\n",
       "    <tr>\n",
       "      <th>98</th>\n",
       "      <td>1286</td>\n",
       "      <td>4009.000000</td>\n",
       "    </tr>\n",
       "    <tr>\n",
       "      <th>99</th>\n",
       "      <td>1276</td>\n",
       "      <td>4019.750000</td>\n",
       "    </tr>\n",
       "    <tr>\n",
       "      <th>100</th>\n",
       "      <td>1295</td>\n",
       "      <td>4036.600000</td>\n",
       "    </tr>\n",
       "    <tr>\n",
       "      <th>101</th>\n",
       "      <td>1313</td>\n",
       "      <td>4051.714286</td>\n",
       "    </tr>\n",
       "    <tr>\n",
       "      <th>102</th>\n",
       "      <td>1151</td>\n",
       "      <td>4054.000000</td>\n",
       "    </tr>\n",
       "    <tr>\n",
       "      <th>103</th>\n",
       "      <td>1145</td>\n",
       "      <td>4066.000000</td>\n",
       "    </tr>\n",
       "    <tr>\n",
       "      <th>104</th>\n",
       "      <td>1254</td>\n",
       "      <td>4066.400000</td>\n",
       "    </tr>\n",
       "    <tr>\n",
       "      <th>105</th>\n",
       "      <td>1178</td>\n",
       "      <td>4091.666667</td>\n",
       "    </tr>\n",
       "    <tr>\n",
       "      <th>106</th>\n",
       "      <td>1291</td>\n",
       "      <td>4120.666667</td>\n",
       "    </tr>\n",
       "    <tr>\n",
       "      <th>107</th>\n",
       "      <td>1485</td>\n",
       "      <td>4124.000000</td>\n",
       "    </tr>\n",
       "    <tr>\n",
       "      <th>108</th>\n",
       "      <td>1367</td>\n",
       "      <td>4141.500000</td>\n",
       "    </tr>\n",
       "    <tr>\n",
       "      <th>109</th>\n",
       "      <td>1212</td>\n",
       "      <td>4194.166667</td>\n",
       "    </tr>\n",
       "    <tr>\n",
       "      <th>110</th>\n",
       "      <td>1109</td>\n",
       "      <td>4199.333333</td>\n",
       "    </tr>\n",
       "    <tr>\n",
       "      <th>111</th>\n",
       "      <td>1361</td>\n",
       "      <td>4206.250000</td>\n",
       "    </tr>\n",
       "    <tr>\n",
       "      <th>112</th>\n",
       "      <td>1100</td>\n",
       "      <td>4216.800000</td>\n",
       "    </tr>\n",
       "    <tr>\n",
       "      <th>113</th>\n",
       "      <td>1278</td>\n",
       "      <td>4219.500000</td>\n",
       "    </tr>\n",
       "    <tr>\n",
       "      <th>114</th>\n",
       "      <td>1203</td>\n",
       "      <td>4238.000000</td>\n",
       "    </tr>\n",
       "    <tr>\n",
       "      <th>115</th>\n",
       "      <td>1205</td>\n",
       "      <td>4251.000000</td>\n",
       "    </tr>\n",
       "    <tr>\n",
       "      <th>116</th>\n",
       "      <td>1448</td>\n",
       "      <td>4271.666667</td>\n",
       "    </tr>\n",
       "    <tr>\n",
       "      <th>117</th>\n",
       "      <td>1326</td>\n",
       "      <td>4296.166667</td>\n",
       "    </tr>\n",
       "    <tr>\n",
       "      <th>118</th>\n",
       "      <td>1421</td>\n",
       "      <td>4307.000000</td>\n",
       "    </tr>\n",
       "    <tr>\n",
       "      <th>119</th>\n",
       "      <td>1449</td>\n",
       "      <td>4319.333333</td>\n",
       "    </tr>\n",
       "    <tr>\n",
       "      <th>120</th>\n",
       "      <td>1411</td>\n",
       "      <td>4344.200000</td>\n",
       "    </tr>\n",
       "    <tr>\n",
       "      <th>121</th>\n",
       "      <td>1387</td>\n",
       "      <td>4349.200000</td>\n",
       "    </tr>\n",
       "    <tr>\n",
       "      <th>122</th>\n",
       "      <td>1258</td>\n",
       "      <td>4357.000000</td>\n",
       "    </tr>\n",
       "    <tr>\n",
       "      <th>123</th>\n",
       "      <td>1342</td>\n",
       "      <td>4362.000000</td>\n",
       "    </tr>\n",
       "    <tr>\n",
       "      <th>124</th>\n",
       "      <td>1483</td>\n",
       "      <td>4363.875000</td>\n",
       "    </tr>\n",
       "    <tr>\n",
       "      <th>125</th>\n",
       "      <td>1398</td>\n",
       "      <td>4369.333333</td>\n",
       "    </tr>\n",
       "    <tr>\n",
       "      <th>126</th>\n",
       "      <td>1142</td>\n",
       "      <td>4384.000000</td>\n",
       "    </tr>\n",
       "    <tr>\n",
       "      <th>127</th>\n",
       "      <td>1260</td>\n",
       "      <td>4406.000000</td>\n",
       "    </tr>\n",
       "    <tr>\n",
       "      <th>128</th>\n",
       "      <td>1353</td>\n",
       "      <td>4421.125000</td>\n",
       "    </tr>\n",
       "    <tr>\n",
       "      <th>129</th>\n",
       "      <td>1066</td>\n",
       "      <td>4421.300000</td>\n",
       "    </tr>\n",
       "    <tr>\n",
       "      <th>130</th>\n",
       "      <td>1153</td>\n",
       "      <td>4470.714286</td>\n",
       "    </tr>\n",
       "    <tr>\n",
       "      <th>131</th>\n",
       "      <td>1105</td>\n",
       "      <td>4497.333333</td>\n",
       "    </tr>\n",
       "    <tr>\n",
       "      <th>132</th>\n",
       "      <td>1139</td>\n",
       "      <td>4501.000000</td>\n",
       "    </tr>\n",
       "    <tr>\n",
       "      <th>133</th>\n",
       "      <td>1244</td>\n",
       "      <td>4507.000000</td>\n",
       "    </tr>\n",
       "    <tr>\n",
       "      <th>134</th>\n",
       "      <td>1356</td>\n",
       "      <td>4540.500000</td>\n",
       "    </tr>\n",
       "    <tr>\n",
       "      <th>135</th>\n",
       "      <td>1394</td>\n",
       "      <td>4546.000000</td>\n",
       "    </tr>\n",
       "    <tr>\n",
       "      <th>136</th>\n",
       "      <td>1024</td>\n",
       "      <td>4553.000000</td>\n",
       "    </tr>\n",
       "    <tr>\n",
       "      <th>137</th>\n",
       "      <td>1090</td>\n",
       "      <td>4564.500000</td>\n",
       "    </tr>\n",
       "    <tr>\n",
       "      <th>138</th>\n",
       "      <td>1079</td>\n",
       "      <td>4583.666667</td>\n",
       "    </tr>\n",
       "    <tr>\n",
       "      <th>139</th>\n",
       "      <td>1002</td>\n",
       "      <td>4585.666667</td>\n",
       "    </tr>\n",
       "    <tr>\n",
       "      <th>140</th>\n",
       "      <td>1461</td>\n",
       "      <td>4596.500000</td>\n",
       "    </tr>\n",
       "    <tr>\n",
       "      <th>141</th>\n",
       "      <td>1256</td>\n",
       "      <td>4604.750000</td>\n",
       "    </tr>\n",
       "    <tr>\n",
       "      <th>142</th>\n",
       "      <td>1358</td>\n",
       "      <td>4626.666667</td>\n",
       "    </tr>\n",
       "    <tr>\n",
       "      <th>143</th>\n",
       "      <td>1415</td>\n",
       "      <td>4672.833333</td>\n",
       "    </tr>\n",
       "    <tr>\n",
       "      <th>144</th>\n",
       "      <td>1440</td>\n",
       "      <td>4696.875000</td>\n",
       "    </tr>\n",
       "    <tr>\n",
       "      <th>145</th>\n",
       "      <td>1322</td>\n",
       "      <td>4750.000000</td>\n",
       "    </tr>\n",
       "    <tr>\n",
       "      <th>146</th>\n",
       "      <td>1122</td>\n",
       "      <td>4768.250000</td>\n",
       "    </tr>\n",
       "    <tr>\n",
       "      <th>147</th>\n",
       "      <td>1404</td>\n",
       "      <td>4796.200000</td>\n",
       "    </tr>\n",
       "    <tr>\n",
       "      <th>148</th>\n",
       "      <td>1138</td>\n",
       "      <td>4801.545455</td>\n",
       "    </tr>\n",
       "    <tr>\n",
       "      <th>149</th>\n",
       "      <td>1366</td>\n",
       "      <td>4816.400000</td>\n",
       "    </tr>\n",
       "    <tr>\n",
       "      <th>150</th>\n",
       "      <td>1195</td>\n",
       "      <td>4849.000000</td>\n",
       "    </tr>\n",
       "    <tr>\n",
       "      <th>151</th>\n",
       "      <td>1446</td>\n",
       "      <td>4859.250000</td>\n",
       "    </tr>\n",
       "    <tr>\n",
       "      <th>152</th>\n",
       "      <td>1001</td>\n",
       "      <td>4922.000000</td>\n",
       "    </tr>\n",
       "    <tr>\n",
       "      <th>153</th>\n",
       "      <td>1486</td>\n",
       "      <td>4952.000000</td>\n",
       "    </tr>\n",
       "    <tr>\n",
       "      <th>154</th>\n",
       "      <td>1220</td>\n",
       "      <td>4963.444444</td>\n",
       "    </tr>\n",
       "    <tr>\n",
       "      <th>155</th>\n",
       "      <td>1320</td>\n",
       "      <td>4970.111111</td>\n",
       "    </tr>\n",
       "    <tr>\n",
       "      <th>156</th>\n",
       "      <td>1134</td>\n",
       "      <td>4973.500000</td>\n",
       "    </tr>\n",
       "    <tr>\n",
       "      <th>157</th>\n",
       "      <td>1222</td>\n",
       "      <td>4983.714286</td>\n",
       "    </tr>\n",
       "    <tr>\n",
       "      <th>158</th>\n",
       "      <td>1051</td>\n",
       "      <td>4991.000000</td>\n",
       "    </tr>\n",
       "    <tr>\n",
       "      <th>159</th>\n",
       "      <td>1438</td>\n",
       "      <td>4999.500000</td>\n",
       "    </tr>\n",
       "    <tr>\n",
       "      <th>160</th>\n",
       "      <td>1444</td>\n",
       "      <td>5001.400000</td>\n",
       "    </tr>\n",
       "    <tr>\n",
       "      <th>161</th>\n",
       "      <td>1078</td>\n",
       "      <td>5021.000000</td>\n",
       "    </tr>\n",
       "    <tr>\n",
       "      <th>162</th>\n",
       "      <td>1343</td>\n",
       "      <td>5038.000000</td>\n",
       "    </tr>\n",
       "    <tr>\n",
       "      <th>163</th>\n",
       "      <td>1097</td>\n",
       "      <td>5079.400000</td>\n",
       "    </tr>\n",
       "    <tr>\n",
       "      <th>164</th>\n",
       "      <td>1029</td>\n",
       "      <td>5092.800000</td>\n",
       "    </tr>\n",
       "    <tr>\n",
       "      <th>165</th>\n",
       "      <td>1235</td>\n",
       "      <td>5115.000000</td>\n",
       "    </tr>\n",
       "    <tr>\n",
       "      <th>166</th>\n",
       "      <td>1228</td>\n",
       "      <td>5151.333333</td>\n",
       "    </tr>\n",
       "    <tr>\n",
       "      <th>167</th>\n",
       "      <td>1156</td>\n",
       "      <td>5164.000000</td>\n",
       "    </tr>\n",
       "    <tr>\n",
       "      <th>168</th>\n",
       "      <td>1114</td>\n",
       "      <td>5186.833333</td>\n",
       "    </tr>\n",
       "    <tr>\n",
       "      <th>169</th>\n",
       "      <td>1160</td>\n",
       "      <td>5204.666667</td>\n",
       "    </tr>\n",
       "    <tr>\n",
       "      <th>170</th>\n",
       "      <td>1171</td>\n",
       "      <td>5207.727273</td>\n",
       "    </tr>\n",
       "    <tr>\n",
       "      <th>171</th>\n",
       "      <td>1425</td>\n",
       "      <td>5221.500000</td>\n",
       "    </tr>\n",
       "    <tr>\n",
       "      <th>172</th>\n",
       "      <td>1297</td>\n",
       "      <td>5256.500000</td>\n",
       "    </tr>\n",
       "    <tr>\n",
       "      <th>173</th>\n",
       "      <td>1321</td>\n",
       "      <td>5272.285714</td>\n",
       "    </tr>\n",
       "    <tr>\n",
       "      <th>174</th>\n",
       "      <td>1459</td>\n",
       "      <td>5280.500000</td>\n",
       "    </tr>\n",
       "    <tr>\n",
       "      <th>175</th>\n",
       "      <td>1043</td>\n",
       "      <td>5287.142857</td>\n",
       "    </tr>\n",
       "    <tr>\n",
       "      <th>176</th>\n",
       "      <td>1054</td>\n",
       "      <td>5295.777778</td>\n",
       "    </tr>\n",
       "    <tr>\n",
       "      <th>177</th>\n",
       "      <td>1217</td>\n",
       "      <td>5362.000000</td>\n",
       "    </tr>\n",
       "    <tr>\n",
       "      <th>178</th>\n",
       "      <td>1241</td>\n",
       "      <td>5399.000000</td>\n",
       "    </tr>\n",
       "    <tr>\n",
       "      <th>179</th>\n",
       "      <td>1165</td>\n",
       "      <td>5417.000000</td>\n",
       "    </tr>\n",
       "    <tr>\n",
       "      <th>180</th>\n",
       "      <td>1498</td>\n",
       "      <td>5424.181818</td>\n",
       "    </tr>\n",
       "    <tr>\n",
       "      <th>181</th>\n",
       "      <td>1157</td>\n",
       "      <td>5443.166667</td>\n",
       "    </tr>\n",
       "    <tr>\n",
       "      <th>182</th>\n",
       "      <td>1300</td>\n",
       "      <td>5492.000000</td>\n",
       "    </tr>\n",
       "    <tr>\n",
       "      <th>183</th>\n",
       "      <td>1126</td>\n",
       "      <td>5498.285714</td>\n",
       "    </tr>\n",
       "    <tr>\n",
       "      <th>184</th>\n",
       "      <td>1182</td>\n",
       "      <td>5510.875000</td>\n",
       "    </tr>\n",
       "    <tr>\n",
       "      <th>185</th>\n",
       "      <td>1136</td>\n",
       "      <td>5528.000000</td>\n",
       "    </tr>\n",
       "    <tr>\n",
       "      <th>186</th>\n",
       "      <td>1460</td>\n",
       "      <td>5535.500000</td>\n",
       "    </tr>\n",
       "    <tr>\n",
       "      <th>187</th>\n",
       "      <td>1183</td>\n",
       "      <td>5555.666667</td>\n",
       "    </tr>\n",
       "    <tr>\n",
       "      <th>188</th>\n",
       "      <td>1022</td>\n",
       "      <td>5566.250000</td>\n",
       "    </tr>\n",
       "    <tr>\n",
       "      <th>189</th>\n",
       "      <td>1435</td>\n",
       "      <td>5602.000000</td>\n",
       "    </tr>\n",
       "    <tr>\n",
       "      <th>190</th>\n",
       "      <td>1474</td>\n",
       "      <td>5603.000000</td>\n",
       "    </tr>\n",
       "    <tr>\n",
       "      <th>191</th>\n",
       "      <td>1067</td>\n",
       "      <td>5608.250000</td>\n",
       "    </tr>\n",
       "    <tr>\n",
       "      <th>192</th>\n",
       "      <td>1140</td>\n",
       "      <td>5632.166667</td>\n",
       "    </tr>\n",
       "    <tr>\n",
       "      <th>193</th>\n",
       "      <td>1200</td>\n",
       "      <td>5651.500000</td>\n",
       "    </tr>\n",
       "    <tr>\n",
       "      <th>194</th>\n",
       "      <td>1053</td>\n",
       "      <td>5663.166667</td>\n",
       "    </tr>\n",
       "    <tr>\n",
       "      <th>195</th>\n",
       "      <td>1406</td>\n",
       "      <td>5669.300000</td>\n",
       "    </tr>\n",
       "    <tr>\n",
       "      <th>196</th>\n",
       "      <td>1303</td>\n",
       "      <td>5678.000000</td>\n",
       "    </tr>\n",
       "    <tr>\n",
       "      <th>197</th>\n",
       "      <td>1166</td>\n",
       "      <td>5725.250000</td>\n",
       "    </tr>\n",
       "    <tr>\n",
       "      <th>198</th>\n",
       "      <td>1087</td>\n",
       "      <td>5754.000000</td>\n",
       "    </tr>\n",
       "    <tr>\n",
       "      <th>199</th>\n",
       "      <td>1233</td>\n",
       "      <td>5755.666667</td>\n",
       "    </tr>\n",
       "    <tr>\n",
       "      <th>200</th>\n",
       "      <td>1117</td>\n",
       "      <td>5757.875000</td>\n",
       "    </tr>\n",
       "    <tr>\n",
       "      <th>201</th>\n",
       "      <td>1488</td>\n",
       "      <td>5758.625000</td>\n",
       "    </tr>\n",
       "    <tr>\n",
       "      <th>202</th>\n",
       "      <td>1045</td>\n",
       "      <td>5781.666667</td>\n",
       "    </tr>\n",
       "    <tr>\n",
       "      <th>203</th>\n",
       "      <td>1023</td>\n",
       "      <td>5816.500000</td>\n",
       "    </tr>\n",
       "    <tr>\n",
       "      <th>204</th>\n",
       "      <td>1174</td>\n",
       "      <td>5838.125000</td>\n",
       "    </tr>\n",
       "    <tr>\n",
       "      <th>205</th>\n",
       "      <td>1056</td>\n",
       "      <td>5936.333333</td>\n",
       "    </tr>\n",
       "    <tr>\n",
       "      <th>206</th>\n",
       "      <td>1086</td>\n",
       "      <td>5945.000000</td>\n",
       "    </tr>\n",
       "    <tr>\n",
       "      <th>207</th>\n",
       "      <td>1492</td>\n",
       "      <td>5959.000000</td>\n",
       "    </tr>\n",
       "    <tr>\n",
       "      <th>208</th>\n",
       "      <td>1392</td>\n",
       "      <td>6018.000000</td>\n",
       "    </tr>\n",
       "    <tr>\n",
       "      <th>209</th>\n",
       "      <td>1316</td>\n",
       "      <td>6044.250000</td>\n",
       "    </tr>\n",
       "    <tr>\n",
       "      <th>210</th>\n",
       "      <td>1397</td>\n",
       "      <td>6063.428571</td>\n",
       "    </tr>\n",
       "    <tr>\n",
       "      <th>211</th>\n",
       "      <td>1189</td>\n",
       "      <td>6145.500000</td>\n",
       "    </tr>\n",
       "    <tr>\n",
       "      <th>212</th>\n",
       "      <td>1120</td>\n",
       "      <td>6285.444444</td>\n",
       "    </tr>\n",
       "    <tr>\n",
       "      <th>213</th>\n",
       "      <td>1106</td>\n",
       "      <td>6285.875000</td>\n",
       "    </tr>\n",
       "    <tr>\n",
       "      <th>214</th>\n",
       "      <td>1428</td>\n",
       "      <td>6335.000000</td>\n",
       "    </tr>\n",
       "    <tr>\n",
       "      <th>215</th>\n",
       "      <td>1345</td>\n",
       "      <td>6383.333333</td>\n",
       "    </tr>\n",
       "    <tr>\n",
       "      <th>216</th>\n",
       "      <td>1312</td>\n",
       "      <td>6483.666667</td>\n",
       "    </tr>\n",
       "    <tr>\n",
       "      <th>217</th>\n",
       "      <td>1480</td>\n",
       "      <td>6555.000000</td>\n",
       "    </tr>\n",
       "    <tr>\n",
       "      <th>218</th>\n",
       "      <td>1004</td>\n",
       "      <td>6591.500000</td>\n",
       "    </tr>\n",
       "    <tr>\n",
       "      <th>219</th>\n",
       "      <td>1430</td>\n",
       "      <td>6595.000000</td>\n",
       "    </tr>\n",
       "    <tr>\n",
       "      <th>220</th>\n",
       "      <td>1149</td>\n",
       "      <td>6601.000000</td>\n",
       "    </tr>\n",
       "    <tr>\n",
       "      <th>221</th>\n",
       "      <td>1277</td>\n",
       "      <td>6669.555556</td>\n",
       "    </tr>\n",
       "    <tr>\n",
       "      <th>222</th>\n",
       "      <td>1115</td>\n",
       "      <td>6675.500000</td>\n",
       "    </tr>\n",
       "    <tr>\n",
       "      <th>223</th>\n",
       "      <td>1399</td>\n",
       "      <td>6688.857143</td>\n",
       "    </tr>\n",
       "    <tr>\n",
       "      <th>224</th>\n",
       "      <td>1048</td>\n",
       "      <td>6700.000000</td>\n",
       "    </tr>\n",
       "    <tr>\n",
       "      <th>225</th>\n",
       "      <td>1185</td>\n",
       "      <td>6838.250000</td>\n",
       "    </tr>\n",
       "    <tr>\n",
       "      <th>226</th>\n",
       "      <td>1083</td>\n",
       "      <td>6845.666667</td>\n",
       "    </tr>\n",
       "    <tr>\n",
       "      <th>227</th>\n",
       "      <td>1058</td>\n",
       "      <td>6851.000000</td>\n",
       "    </tr>\n",
       "    <tr>\n",
       "      <th>228</th>\n",
       "      <td>1419</td>\n",
       "      <td>6868.500000</td>\n",
       "    </tr>\n",
       "    <tr>\n",
       "      <th>229</th>\n",
       "      <td>1332</td>\n",
       "      <td>6934.800000</td>\n",
       "    </tr>\n",
       "    <tr>\n",
       "      <th>230</th>\n",
       "      <td>1381</td>\n",
       "      <td>6936.750000</td>\n",
       "    </tr>\n",
       "    <tr>\n",
       "      <th>231</th>\n",
       "      <td>1132</td>\n",
       "      <td>6966.222222</td>\n",
       "    </tr>\n",
       "    <tr>\n",
       "      <th>232</th>\n",
       "      <td>1341</td>\n",
       "      <td>6972.666667</td>\n",
       "    </tr>\n",
       "    <tr>\n",
       "      <th>233</th>\n",
       "      <td>1144</td>\n",
       "      <td>7004.444444</td>\n",
       "    </tr>\n",
       "    <tr>\n",
       "      <th>234</th>\n",
       "      <td>1223</td>\n",
       "      <td>7009.000000</td>\n",
       "    </tr>\n",
       "    <tr>\n",
       "      <th>235</th>\n",
       "      <td>1377</td>\n",
       "      <td>7039.000000</td>\n",
       "    </tr>\n",
       "    <tr>\n",
       "      <th>236</th>\n",
       "      <td>1173</td>\n",
       "      <td>7058.750000</td>\n",
       "    </tr>\n",
       "    <tr>\n",
       "      <th>237</th>\n",
       "      <td>1092</td>\n",
       "      <td>7059.000000</td>\n",
       "    </tr>\n",
       "    <tr>\n",
       "      <th>238</th>\n",
       "      <td>1207</td>\n",
       "      <td>7082.000000</td>\n",
       "    </tr>\n",
       "    <tr>\n",
       "      <th>239</th>\n",
       "      <td>1177</td>\n",
       "      <td>7121.000000</td>\n",
       "    </tr>\n",
       "    <tr>\n",
       "      <th>240</th>\n",
       "      <td>1110</td>\n",
       "      <td>7128.750000</td>\n",
       "    </tr>\n",
       "    <tr>\n",
       "      <th>241</th>\n",
       "      <td>1049</td>\n",
       "      <td>7134.777778</td>\n",
       "    </tr>\n",
       "    <tr>\n",
       "      <th>242</th>\n",
       "      <td>1238</td>\n",
       "      <td>7204.000000</td>\n",
       "    </tr>\n",
       "    <tr>\n",
       "      <th>243</th>\n",
       "      <td>1060</td>\n",
       "      <td>7243.800000</td>\n",
       "    </tr>\n",
       "    <tr>\n",
       "      <th>244</th>\n",
       "      <td>1416</td>\n",
       "      <td>7273.333333</td>\n",
       "    </tr>\n",
       "    <tr>\n",
       "      <th>245</th>\n",
       "      <td>1371</td>\n",
       "      <td>7274.000000</td>\n",
       "    </tr>\n",
       "    <tr>\n",
       "      <th>246</th>\n",
       "      <td>1393</td>\n",
       "      <td>7288.666667</td>\n",
       "    </tr>\n",
       "    <tr>\n",
       "      <th>247</th>\n",
       "      <td>1125</td>\n",
       "      <td>7337.000000</td>\n",
       "    </tr>\n",
       "    <tr>\n",
       "      <th>248</th>\n",
       "      <td>1192</td>\n",
       "      <td>7362.666667</td>\n",
       "    </tr>\n",
       "    <tr>\n",
       "      <th>249</th>\n",
       "      <td>1308</td>\n",
       "      <td>7368.500000</td>\n",
       "    </tr>\n",
       "    <tr>\n",
       "      <th>250</th>\n",
       "      <td>1044</td>\n",
       "      <td>7405.000000</td>\n",
       "    </tr>\n",
       "    <tr>\n",
       "      <th>251</th>\n",
       "      <td>1221</td>\n",
       "      <td>7456.000000</td>\n",
       "    </tr>\n",
       "    <tr>\n",
       "      <th>252</th>\n",
       "      <td>1443</td>\n",
       "      <td>7458.500000</td>\n",
       "    </tr>\n",
       "    <tr>\n",
       "      <th>253</th>\n",
       "      <td>1046</td>\n",
       "      <td>7516.571429</td>\n",
       "    </tr>\n",
       "    <tr>\n",
       "      <th>254</th>\n",
       "      <td>1076</td>\n",
       "      <td>7527.666667</td>\n",
       "    </tr>\n",
       "    <tr>\n",
       "      <th>255</th>\n",
       "      <td>1281</td>\n",
       "      <td>7637.000000</td>\n",
       "    </tr>\n",
       "    <tr>\n",
       "      <th>256</th>\n",
       "      <td>1386</td>\n",
       "      <td>7690.500000</td>\n",
       "    </tr>\n",
       "    <tr>\n",
       "      <th>257</th>\n",
       "      <td>1204</td>\n",
       "      <td>7692.000000</td>\n",
       "    </tr>\n",
       "    <tr>\n",
       "      <th>258</th>\n",
       "      <td>1248</td>\n",
       "      <td>7730.500000</td>\n",
       "    </tr>\n",
       "    <tr>\n",
       "      <th>259</th>\n",
       "      <td>1357</td>\n",
       "      <td>7768.333333</td>\n",
       "    </tr>\n",
       "    <tr>\n",
       "      <th>260</th>\n",
       "      <td>1245</td>\n",
       "      <td>7796.166667</td>\n",
       "    </tr>\n",
       "    <tr>\n",
       "      <th>261</th>\n",
       "      <td>1302</td>\n",
       "      <td>7820.250000</td>\n",
       "    </tr>\n",
       "    <tr>\n",
       "      <th>262</th>\n",
       "      <td>1318</td>\n",
       "      <td>7842.250000</td>\n",
       "    </tr>\n",
       "    <tr>\n",
       "      <th>263</th>\n",
       "      <td>1042</td>\n",
       "      <td>7877.500000</td>\n",
       "    </tr>\n",
       "    <tr>\n",
       "      <th>264</th>\n",
       "      <td>1403</td>\n",
       "      <td>7906.400000</td>\n",
       "    </tr>\n",
       "    <tr>\n",
       "      <th>265</th>\n",
       "      <td>1243</td>\n",
       "      <td>7933.666667</td>\n",
       "    </tr>\n",
       "    <tr>\n",
       "      <th>266</th>\n",
       "      <td>1309</td>\n",
       "      <td>7996.500000</td>\n",
       "    </tr>\n",
       "    <tr>\n",
       "      <th>267</th>\n",
       "      <td>1209</td>\n",
       "      <td>8002.600000</td>\n",
       "    </tr>\n",
       "    <tr>\n",
       "      <th>268</th>\n",
       "      <td>1327</td>\n",
       "      <td>8008.200000</td>\n",
       "    </tr>\n",
       "    <tr>\n",
       "      <th>269</th>\n",
       "      <td>1168</td>\n",
       "      <td>8038.000000</td>\n",
       "    </tr>\n",
       "    <tr>\n",
       "      <th>270</th>\n",
       "      <td>1009</td>\n",
       "      <td>8044.125000</td>\n",
       "    </tr>\n",
       "    <tr>\n",
       "      <th>271</th>\n",
       "      <td>1325</td>\n",
       "      <td>8193.000000</td>\n",
       "    </tr>\n",
       "    <tr>\n",
       "      <th>272</th>\n",
       "      <td>1373</td>\n",
       "      <td>8219.250000</td>\n",
       "    </tr>\n",
       "    <tr>\n",
       "      <th>273</th>\n",
       "      <td>1294</td>\n",
       "      <td>8242.333333</td>\n",
       "    </tr>\n",
       "    <tr>\n",
       "      <th>274</th>\n",
       "      <td>1251</td>\n",
       "      <td>8306.600000</td>\n",
       "    </tr>\n",
       "    <tr>\n",
       "      <th>275</th>\n",
       "      <td>1491</td>\n",
       "      <td>8354.777778</td>\n",
       "    </tr>\n",
       "    <tr>\n",
       "      <th>276</th>\n",
       "      <td>1479</td>\n",
       "      <td>8409.000000</td>\n",
       "    </tr>\n",
       "    <tr>\n",
       "      <th>277</th>\n",
       "      <td>1084</td>\n",
       "      <td>8417.666667</td>\n",
       "    </tr>\n",
       "    <tr>\n",
       "      <th>278</th>\n",
       "      <td>1123</td>\n",
       "      <td>8495.285714</td>\n",
       "    </tr>\n",
       "    <tr>\n",
       "      <th>279</th>\n",
       "      <td>1127</td>\n",
       "      <td>8514.714286</td>\n",
       "    </tr>\n",
       "    <tr>\n",
       "      <th>280</th>\n",
       "      <td>1290</td>\n",
       "      <td>8517.000000</td>\n",
       "    </tr>\n",
       "    <tr>\n",
       "      <th>281</th>\n",
       "      <td>1429</td>\n",
       "      <td>8590.000000</td>\n",
       "    </tr>\n",
       "    <tr>\n",
       "      <th>282</th>\n",
       "      <td>1196</td>\n",
       "      <td>8615.083333</td>\n",
       "    </tr>\n",
       "    <tr>\n",
       "      <th>283</th>\n",
       "      <td>1315</td>\n",
       "      <td>8654.500000</td>\n",
       "    </tr>\n",
       "    <tr>\n",
       "      <th>284</th>\n",
       "      <td>1360</td>\n",
       "      <td>8693.000000</td>\n",
       "    </tr>\n",
       "    <tr>\n",
       "      <th>285</th>\n",
       "      <td>1433</td>\n",
       "      <td>8798.750000</td>\n",
       "    </tr>\n",
       "    <tr>\n",
       "      <th>286</th>\n",
       "      <td>1028</td>\n",
       "      <td>8800.545455</td>\n",
       "    </tr>\n",
       "    <tr>\n",
       "      <th>287</th>\n",
       "      <td>1176</td>\n",
       "      <td>8841.000000</td>\n",
       "    </tr>\n",
       "    <tr>\n",
       "      <th>288</th>\n",
       "      <td>1211</td>\n",
       "      <td>8975.000000</td>\n",
       "    </tr>\n",
       "    <tr>\n",
       "      <th>289</th>\n",
       "      <td>1017</td>\n",
       "      <td>8995.400000</td>\n",
       "    </tr>\n",
       "    <tr>\n",
       "      <th>290</th>\n",
       "      <td>1230</td>\n",
       "      <td>9083.000000</td>\n",
       "    </tr>\n",
       "    <tr>\n",
       "      <th>291</th>\n",
       "      <td>1365</td>\n",
       "      <td>9150.714286</td>\n",
       "    </tr>\n",
       "    <tr>\n",
       "      <th>292</th>\n",
       "      <td>1021</td>\n",
       "      <td>9276.000000</td>\n",
       "    </tr>\n",
       "    <tr>\n",
       "      <th>293</th>\n",
       "      <td>1329</td>\n",
       "      <td>9335.800000</td>\n",
       "    </tr>\n",
       "    <tr>\n",
       "      <th>294</th>\n",
       "      <td>1495</td>\n",
       "      <td>9362.250000</td>\n",
       "    </tr>\n",
       "    <tr>\n",
       "      <th>295</th>\n",
       "      <td>1219</td>\n",
       "      <td>9434.500000</td>\n",
       "    </tr>\n",
       "    <tr>\n",
       "      <th>296</th>\n",
       "      <td>1158</td>\n",
       "      <td>9476.000000</td>\n",
       "    </tr>\n",
       "    <tr>\n",
       "      <th>297</th>\n",
       "      <td>1423</td>\n",
       "      <td>9497.500000</td>\n",
       "    </tr>\n",
       "    <tr>\n",
       "      <th>298</th>\n",
       "      <td>1350</td>\n",
       "      <td>9582.000000</td>\n",
       "    </tr>\n",
       "    <tr>\n",
       "      <th>299</th>\n",
       "      <td>1471</td>\n",
       "      <td>9602.500000</td>\n",
       "    </tr>\n",
       "    <tr>\n",
       "      <th>300</th>\n",
       "      <td>1170</td>\n",
       "      <td>9702.000000</td>\n",
       "    </tr>\n",
       "    <tr>\n",
       "      <th>301</th>\n",
       "      <td>1137</td>\n",
       "      <td>9749.666667</td>\n",
       "    </tr>\n",
       "    <tr>\n",
       "      <th>302</th>\n",
       "      <td>1284</td>\n",
       "      <td>9794.750000</td>\n",
       "    </tr>\n",
       "    <tr>\n",
       "      <th>303</th>\n",
       "      <td>1431</td>\n",
       "      <td>9827.000000</td>\n",
       "    </tr>\n",
       "    <tr>\n",
       "      <th>304</th>\n",
       "      <td>1282</td>\n",
       "      <td>9829.000000</td>\n",
       "    </tr>\n",
       "    <tr>\n",
       "      <th>305</th>\n",
       "      <td>1057</td>\n",
       "      <td>9947.000000</td>\n",
       "    </tr>\n",
       "    <tr>\n",
       "      <th>306</th>\n",
       "      <td>1038</td>\n",
       "      <td>9982.333333</td>\n",
       "    </tr>\n",
       "    <tr>\n",
       "      <th>307</th>\n",
       "      <td>1310</td>\n",
       "      <td>10001.000000</td>\n",
       "    </tr>\n",
       "    <tr>\n",
       "      <th>308</th>\n",
       "      <td>1426</td>\n",
       "      <td>10017.000000</td>\n",
       "    </tr>\n",
       "    <tr>\n",
       "      <th>309</th>\n",
       "      <td>1206</td>\n",
       "      <td>10096.833333</td>\n",
       "    </tr>\n",
       "    <tr>\n",
       "      <th>310</th>\n",
       "      <td>1384</td>\n",
       "      <td>10110.000000</td>\n",
       "    </tr>\n",
       "    <tr>\n",
       "      <th>311</th>\n",
       "      <td>1155</td>\n",
       "      <td>10135.181818</td>\n",
       "    </tr>\n",
       "    <tr>\n",
       "      <th>312</th>\n",
       "      <td>1229</td>\n",
       "      <td>10169.000000</td>\n",
       "    </tr>\n",
       "    <tr>\n",
       "      <th>313</th>\n",
       "      <td>1033</td>\n",
       "      <td>10241.750000</td>\n",
       "    </tr>\n",
       "    <tr>\n",
       "      <th>314</th>\n",
       "      <td>1093</td>\n",
       "      <td>10523.000000</td>\n",
       "    </tr>\n",
       "    <tr>\n",
       "      <th>315</th>\n",
       "      <td>1455</td>\n",
       "      <td>10532.000000</td>\n",
       "    </tr>\n",
       "    <tr>\n",
       "      <th>316</th>\n",
       "      <td>1013</td>\n",
       "      <td>10607.000000</td>\n",
       "    </tr>\n",
       "    <tr>\n",
       "      <th>317</th>\n",
       "      <td>1490</td>\n",
       "      <td>10834.500000</td>\n",
       "    </tr>\n",
       "    <tr>\n",
       "      <th>318</th>\n",
       "      <td>1014</td>\n",
       "      <td>10876.500000</td>\n",
       "    </tr>\n",
       "    <tr>\n",
       "      <th>319</th>\n",
       "      <td>1052</td>\n",
       "      <td>10991.500000</td>\n",
       "    </tr>\n",
       "    <tr>\n",
       "      <th>320</th>\n",
       "      <td>1246</td>\n",
       "      <td>11021.875000</td>\n",
       "    </tr>\n",
       "    <tr>\n",
       "      <th>321</th>\n",
       "      <td>1085</td>\n",
       "      <td>11258.600000</td>\n",
       "    </tr>\n",
       "    <tr>\n",
       "      <th>322</th>\n",
       "      <td>1369</td>\n",
       "      <td>11305.000000</td>\n",
       "    </tr>\n",
       "    <tr>\n",
       "      <th>323</th>\n",
       "      <td>1344</td>\n",
       "      <td>11306.000000</td>\n",
       "    </tr>\n",
       "    <tr>\n",
       "      <th>324</th>\n",
       "      <td>1328</td>\n",
       "      <td>11410.000000</td>\n",
       "    </tr>\n",
       "    <tr>\n",
       "      <th>325</th>\n",
       "      <td>1380</td>\n",
       "      <td>11424.250000</td>\n",
       "    </tr>\n",
       "    <tr>\n",
       "      <th>326</th>\n",
       "      <td>1080</td>\n",
       "      <td>11496.200000</td>\n",
       "    </tr>\n",
       "    <tr>\n",
       "      <th>327</th>\n",
       "      <td>1041</td>\n",
       "      <td>11560.500000</td>\n",
       "    </tr>\n",
       "    <tr>\n",
       "      <th>328</th>\n",
       "      <td>1163</td>\n",
       "      <td>11617.400000</td>\n",
       "    </tr>\n",
       "    <tr>\n",
       "      <th>329</th>\n",
       "      <td>1061</td>\n",
       "      <td>11644.000000</td>\n",
       "    </tr>\n",
       "    <tr>\n",
       "      <th>330</th>\n",
       "      <td>1077</td>\n",
       "      <td>11656.250000</td>\n",
       "    </tr>\n",
       "    <tr>\n",
       "      <th>331</th>\n",
       "      <td>1389</td>\n",
       "      <td>11672.375000</td>\n",
       "    </tr>\n",
       "    <tr>\n",
       "      <th>332</th>\n",
       "      <td>1003</td>\n",
       "      <td>11684.000000</td>\n",
       "    </tr>\n",
       "    <tr>\n",
       "      <th>333</th>\n",
       "      <td>1484</td>\n",
       "      <td>11713.000000</td>\n",
       "    </tr>\n",
       "    <tr>\n",
       "      <th>334</th>\n",
       "      <td>1172</td>\n",
       "      <td>11722.200000</td>\n",
       "    </tr>\n",
       "    <tr>\n",
       "      <th>335</th>\n",
       "      <td>1285</td>\n",
       "      <td>11751.000000</td>\n",
       "    </tr>\n",
       "    <tr>\n",
       "      <th>336</th>\n",
       "      <td>1094</td>\n",
       "      <td>11772.333333</td>\n",
       "    </tr>\n",
       "    <tr>\n",
       "      <th>337</th>\n",
       "      <td>1339</td>\n",
       "      <td>11841.250000</td>\n",
       "    </tr>\n",
       "    <tr>\n",
       "      <th>338</th>\n",
       "      <td>1383</td>\n",
       "      <td>11852.000000</td>\n",
       "    </tr>\n",
       "    <tr>\n",
       "      <th>339</th>\n",
       "      <td>1011</td>\n",
       "      <td>11895.000000</td>\n",
       "    </tr>\n",
       "    <tr>\n",
       "      <th>340</th>\n",
       "      <td>1265</td>\n",
       "      <td>11935.000000</td>\n",
       "    </tr>\n",
       "    <tr>\n",
       "      <th>341</th>\n",
       "      <td>1417</td>\n",
       "      <td>11936.000000</td>\n",
       "    </tr>\n",
       "    <tr>\n",
       "      <th>342</th>\n",
       "      <td>1414</td>\n",
       "      <td>12038.800000</td>\n",
       "    </tr>\n",
       "    <tr>\n",
       "      <th>343</th>\n",
       "      <td>1072</td>\n",
       "      <td>12040.833333</td>\n",
       "    </tr>\n",
       "    <tr>\n",
       "      <th>344</th>\n",
       "      <td>1441</td>\n",
       "      <td>12095.000000</td>\n",
       "    </tr>\n",
       "    <tr>\n",
       "      <th>345</th>\n",
       "      <td>1477</td>\n",
       "      <td>12183.666667</td>\n",
       "    </tr>\n",
       "    <tr>\n",
       "      <th>346</th>\n",
       "      <td>1188</td>\n",
       "      <td>12188.000000</td>\n",
       "    </tr>\n",
       "    <tr>\n",
       "      <th>347</th>\n",
       "      <td>1098</td>\n",
       "      <td>12190.800000</td>\n",
       "    </tr>\n",
       "    <tr>\n",
       "      <th>348</th>\n",
       "      <td>1454</td>\n",
       "      <td>12210.166667</td>\n",
       "    </tr>\n",
       "    <tr>\n",
       "      <th>349</th>\n",
       "      <td>1016</td>\n",
       "      <td>12220.000000</td>\n",
       "    </tr>\n",
       "    <tr>\n",
       "      <th>350</th>\n",
       "      <td>1008</td>\n",
       "      <td>12229.666667</td>\n",
       "    </tr>\n",
       "    <tr>\n",
       "      <th>351</th>\n",
       "      <td>1039</td>\n",
       "      <td>12460.000000</td>\n",
       "    </tr>\n",
       "    <tr>\n",
       "      <th>352</th>\n",
       "      <td>1359</td>\n",
       "      <td>12503.363636</td>\n",
       "    </tr>\n",
       "    <tr>\n",
       "      <th>353</th>\n",
       "      <td>1019</td>\n",
       "      <td>12557.500000</td>\n",
       "    </tr>\n",
       "    <tr>\n",
       "      <th>354</th>\n",
       "      <td>1376</td>\n",
       "      <td>12706.000000</td>\n",
       "    </tr>\n",
       "    <tr>\n",
       "      <th>355</th>\n",
       "      <td>1469</td>\n",
       "      <td>12773.500000</td>\n",
       "    </tr>\n",
       "    <tr>\n",
       "      <th>356</th>\n",
       "      <td>1351</td>\n",
       "      <td>12831.666667</td>\n",
       "    </tr>\n",
       "    <tr>\n",
       "      <th>357</th>\n",
       "      <td>1128</td>\n",
       "      <td>12897.714286</td>\n",
       "    </tr>\n",
       "    <tr>\n",
       "      <th>358</th>\n",
       "      <td>1270</td>\n",
       "      <td>12956.750000</td>\n",
       "    </tr>\n",
       "    <tr>\n",
       "      <th>359</th>\n",
       "      <td>1259</td>\n",
       "      <td>12993.400000</td>\n",
       "    </tr>\n",
       "    <tr>\n",
       "      <th>360</th>\n",
       "      <td>1301</td>\n",
       "      <td>13031.500000</td>\n",
       "    </tr>\n",
       "    <tr>\n",
       "      <th>361</th>\n",
       "      <td>1409</td>\n",
       "      <td>13086.666667</td>\n",
       "    </tr>\n",
       "    <tr>\n",
       "      <th>362</th>\n",
       "      <td>1450</td>\n",
       "      <td>13228.000000</td>\n",
       "    </tr>\n",
       "    <tr>\n",
       "      <th>363</th>\n",
       "      <td>1199</td>\n",
       "      <td>13255.800000</td>\n",
       "    </tr>\n",
       "    <tr>\n",
       "      <th>364</th>\n",
       "      <td>1226</td>\n",
       "      <td>13307.000000</td>\n",
       "    </tr>\n",
       "    <tr>\n",
       "      <th>365</th>\n",
       "      <td>1274</td>\n",
       "      <td>13374.000000</td>\n",
       "    </tr>\n",
       "    <tr>\n",
       "      <th>366</th>\n",
       "      <td>1214</td>\n",
       "      <td>13393.833333</td>\n",
       "    </tr>\n",
       "    <tr>\n",
       "      <th>367</th>\n",
       "      <td>1007</td>\n",
       "      <td>13409.800000</td>\n",
       "    </tr>\n",
       "    <tr>\n",
       "      <th>368</th>\n",
       "      <td>1424</td>\n",
       "      <td>13564.500000</td>\n",
       "    </tr>\n",
       "    <tr>\n",
       "      <th>369</th>\n",
       "      <td>1047</td>\n",
       "      <td>13574.000000</td>\n",
       "    </tr>\n",
       "    <tr>\n",
       "      <th>370</th>\n",
       "      <td>1453</td>\n",
       "      <td>13652.000000</td>\n",
       "    </tr>\n",
       "    <tr>\n",
       "      <th>371</th>\n",
       "      <td>1346</td>\n",
       "      <td>13775.000000</td>\n",
       "    </tr>\n",
       "    <tr>\n",
       "      <th>372</th>\n",
       "      <td>1467</td>\n",
       "      <td>13812.666667</td>\n",
       "    </tr>\n",
       "    <tr>\n",
       "      <th>373</th>\n",
       "      <td>1236</td>\n",
       "      <td>13983.666667</td>\n",
       "    </tr>\n",
       "    <tr>\n",
       "      <th>374</th>\n",
       "      <td>1231</td>\n",
       "      <td>13995.285714</td>\n",
       "    </tr>\n",
       "    <tr>\n",
       "      <th>375</th>\n",
       "      <td>1247</td>\n",
       "      <td>14007.500000</td>\n",
       "    </tr>\n",
       "    <tr>\n",
       "      <th>376</th>\n",
       "      <td>1201</td>\n",
       "      <td>14017.285714</td>\n",
       "    </tr>\n",
       "    <tr>\n",
       "      <th>377</th>\n",
       "      <td>1481</td>\n",
       "      <td>14095.000000</td>\n",
       "    </tr>\n",
       "    <tr>\n",
       "      <th>378</th>\n",
       "      <td>1478</td>\n",
       "      <td>14182.400000</td>\n",
       "    </tr>\n",
       "    <tr>\n",
       "      <th>379</th>\n",
       "      <td>1119</td>\n",
       "      <td>14256.000000</td>\n",
       "    </tr>\n",
       "    <tr>\n",
       "      <th>380</th>\n",
       "      <td>1323</td>\n",
       "      <td>14336.000000</td>\n",
       "    </tr>\n",
       "    <tr>\n",
       "      <th>381</th>\n",
       "      <td>1034</td>\n",
       "      <td>14363.000000</td>\n",
       "    </tr>\n",
       "    <tr>\n",
       "      <th>382</th>\n",
       "      <td>1405</td>\n",
       "      <td>14372.285714</td>\n",
       "    </tr>\n",
       "    <tr>\n",
       "      <th>383</th>\n",
       "      <td>1224</td>\n",
       "      <td>14413.600000</td>\n",
       "    </tr>\n",
       "    <tr>\n",
       "      <th>384</th>\n",
       "      <td>1347</td>\n",
       "      <td>14428.166667</td>\n",
       "    </tr>\n",
       "    <tr>\n",
       "      <th>385</th>\n",
       "      <td>1215</td>\n",
       "      <td>14440.500000</td>\n",
       "    </tr>\n",
       "    <tr>\n",
       "      <th>386</th>\n",
       "      <td>1368</td>\n",
       "      <td>14479.875000</td>\n",
       "    </tr>\n",
       "    <tr>\n",
       "      <th>387</th>\n",
       "      <td>1340</td>\n",
       "      <td>14589.000000</td>\n",
       "    </tr>\n",
       "    <tr>\n",
       "      <th>388</th>\n",
       "      <td>1293</td>\n",
       "      <td>14616.000000</td>\n",
       "    </tr>\n",
       "    <tr>\n",
       "      <th>389</th>\n",
       "      <td>1162</td>\n",
       "      <td>14759.333333</td>\n",
       "    </tr>\n",
       "    <tr>\n",
       "      <th>390</th>\n",
       "      <td>1283</td>\n",
       "      <td>14786.500000</td>\n",
       "    </tr>\n",
       "    <tr>\n",
       "      <th>391</th>\n",
       "      <td>1374</td>\n",
       "      <td>14805.000000</td>\n",
       "    </tr>\n",
       "    <tr>\n",
       "      <th>392</th>\n",
       "      <td>1006</td>\n",
       "      <td>15025.000000</td>\n",
       "    </tr>\n",
       "    <tr>\n",
       "      <th>393</th>\n",
       "      <td>1289</td>\n",
       "      <td>15042.000000</td>\n",
       "    </tr>\n",
       "    <tr>\n",
       "      <th>394</th>\n",
       "      <td>1154</td>\n",
       "      <td>15103.666667</td>\n",
       "    </tr>\n",
       "    <tr>\n",
       "      <th>395</th>\n",
       "      <td>1306</td>\n",
       "      <td>15114.000000</td>\n",
       "    </tr>\n",
       "    <tr>\n",
       "      <th>396</th>\n",
       "      <td>1050</td>\n",
       "      <td>15121.400000</td>\n",
       "    </tr>\n",
       "    <tr>\n",
       "      <th>397</th>\n",
       "      <td>1264</td>\n",
       "      <td>15125.000000</td>\n",
       "    </tr>\n",
       "    <tr>\n",
       "      <th>398</th>\n",
       "      <td>1304</td>\n",
       "      <td>15146.333333</td>\n",
       "    </tr>\n",
       "    <tr>\n",
       "      <th>399</th>\n",
       "      <td>1363</td>\n",
       "      <td>15175.250000</td>\n",
       "    </tr>\n",
       "    <tr>\n",
       "      <th>400</th>\n",
       "      <td>1031</td>\n",
       "      <td>15242.000000</td>\n",
       "    </tr>\n",
       "    <tr>\n",
       "      <th>401</th>\n",
       "      <td>1452</td>\n",
       "      <td>15268.000000</td>\n",
       "    </tr>\n",
       "    <tr>\n",
       "      <th>402</th>\n",
       "      <td>1470</td>\n",
       "      <td>15360.000000</td>\n",
       "    </tr>\n",
       "    <tr>\n",
       "      <th>403</th>\n",
       "      <td>1458</td>\n",
       "      <td>15372.666667</td>\n",
       "    </tr>\n",
       "    <tr>\n",
       "      <th>404</th>\n",
       "      <td>1493</td>\n",
       "      <td>15444.800000</td>\n",
       "    </tr>\n",
       "    <tr>\n",
       "      <th>405</th>\n",
       "      <td>1311</td>\n",
       "      <td>15459.571429</td>\n",
       "    </tr>\n",
       "    <tr>\n",
       "      <th>406</th>\n",
       "      <td>1391</td>\n",
       "      <td>15460.000000</td>\n",
       "    </tr>\n",
       "    <tr>\n",
       "      <th>407</th>\n",
       "      <td>1296</td>\n",
       "      <td>15498.666667</td>\n",
       "    </tr>\n",
       "    <tr>\n",
       "      <th>408</th>\n",
       "      <td>1475</td>\n",
       "      <td>15571.500000</td>\n",
       "    </tr>\n",
       "    <tr>\n",
       "      <th>409</th>\n",
       "      <td>1412</td>\n",
       "      <td>15786.571429</td>\n",
       "    </tr>\n",
       "    <tr>\n",
       "      <th>410</th>\n",
       "      <td>1253</td>\n",
       "      <td>15865.750000</td>\n",
       "    </tr>\n",
       "    <tr>\n",
       "      <th>411</th>\n",
       "      <td>1268</td>\n",
       "      <td>15891.500000</td>\n",
       "    </tr>\n",
       "    <tr>\n",
       "      <th>412</th>\n",
       "      <td>1062</td>\n",
       "      <td>15896.800000</td>\n",
       "    </tr>\n",
       "    <tr>\n",
       "      <th>413</th>\n",
       "      <td>1465</td>\n",
       "      <td>15924.142857</td>\n",
       "    </tr>\n",
       "    <tr>\n",
       "      <th>414</th>\n",
       "      <td>1191</td>\n",
       "      <td>15978.000000</td>\n",
       "    </tr>\n",
       "    <tr>\n",
       "      <th>415</th>\n",
       "      <td>1314</td>\n",
       "      <td>16020.000000</td>\n",
       "    </tr>\n",
       "    <tr>\n",
       "      <th>416</th>\n",
       "      <td>1432</td>\n",
       "      <td>16023.000000</td>\n",
       "    </tr>\n",
       "    <tr>\n",
       "      <th>417</th>\n",
       "      <td>1352</td>\n",
       "      <td>16074.750000</td>\n",
       "    </tr>\n",
       "    <tr>\n",
       "      <th>418</th>\n",
       "      <td>1249</td>\n",
       "      <td>16111.000000</td>\n",
       "    </tr>\n",
       "    <tr>\n",
       "      <th>419</th>\n",
       "      <td>1088</td>\n",
       "      <td>16148.625000</td>\n",
       "    </tr>\n",
       "    <tr>\n",
       "      <th>420</th>\n",
       "      <td>1420</td>\n",
       "      <td>16176.166667</td>\n",
       "    </tr>\n",
       "    <tr>\n",
       "      <th>421</th>\n",
       "      <td>1030</td>\n",
       "      <td>16215.000000</td>\n",
       "    </tr>\n",
       "    <tr>\n",
       "      <th>422</th>\n",
       "      <td>1442</td>\n",
       "      <td>16272.000000</td>\n",
       "    </tr>\n",
       "    <tr>\n",
       "      <th>423</th>\n",
       "      <td>1436</td>\n",
       "      <td>16330.800000</td>\n",
       "    </tr>\n",
       "    <tr>\n",
       "      <th>424</th>\n",
       "      <td>1032</td>\n",
       "      <td>16340.500000</td>\n",
       "    </tr>\n",
       "    <tr>\n",
       "      <th>425</th>\n",
       "      <td>1037</td>\n",
       "      <td>16350.000000</td>\n",
       "    </tr>\n",
       "    <tr>\n",
       "      <th>426</th>\n",
       "      <td>1354</td>\n",
       "      <td>16490.200000</td>\n",
       "    </tr>\n",
       "    <tr>\n",
       "      <th>427</th>\n",
       "      <td>1190</td>\n",
       "      <td>16529.000000</td>\n",
       "    </tr>\n",
       "    <tr>\n",
       "      <th>428</th>\n",
       "      <td>1273</td>\n",
       "      <td>16578.333333</td>\n",
       "    </tr>\n",
       "    <tr>\n",
       "      <th>429</th>\n",
       "      <td>1279</td>\n",
       "      <td>16716.666667</td>\n",
       "    </tr>\n",
       "    <tr>\n",
       "      <th>430</th>\n",
       "      <td>1487</td>\n",
       "      <td>16728.000000</td>\n",
       "    </tr>\n",
       "    <tr>\n",
       "      <th>431</th>\n",
       "      <td>1147</td>\n",
       "      <td>16811.250000</td>\n",
       "    </tr>\n",
       "    <tr>\n",
       "      <th>432</th>\n",
       "      <td>1390</td>\n",
       "      <td>16819.444444</td>\n",
       "    </tr>\n",
       "    <tr>\n",
       "      <th>433</th>\n",
       "      <td>1133</td>\n",
       "      <td>16854.833333</td>\n",
       "    </tr>\n",
       "    <tr>\n",
       "      <th>434</th>\n",
       "      <td>1164</td>\n",
       "      <td>16897.333333</td>\n",
       "    </tr>\n",
       "    <tr>\n",
       "      <th>435</th>\n",
       "      <td>1370</td>\n",
       "      <td>16924.500000</td>\n",
       "    </tr>\n",
       "    <tr>\n",
       "      <th>436</th>\n",
       "      <td>1113</td>\n",
       "      <td>17040.000000</td>\n",
       "    </tr>\n",
       "    <tr>\n",
       "      <th>437</th>\n",
       "      <td>1059</td>\n",
       "      <td>17295.777778</td>\n",
       "    </tr>\n",
       "    <tr>\n",
       "      <th>438</th>\n",
       "      <td>1159</td>\n",
       "      <td>17304.200000</td>\n",
       "    </tr>\n",
       "    <tr>\n",
       "      <th>439</th>\n",
       "      <td>1388</td>\n",
       "      <td>17458.000000</td>\n",
       "    </tr>\n",
       "    <tr>\n",
       "      <th>440</th>\n",
       "      <td>1267</td>\n",
       "      <td>18038.000000</td>\n",
       "    </tr>\n",
       "    <tr>\n",
       "      <th>441</th>\n",
       "      <td>1418</td>\n",
       "      <td>18052.000000</td>\n",
       "    </tr>\n",
       "    <tr>\n",
       "      <th>442</th>\n",
       "      <td>1317</td>\n",
       "      <td>18064.000000</td>\n",
       "    </tr>\n",
       "    <tr>\n",
       "      <th>443</th>\n",
       "      <td>1150</td>\n",
       "      <td>18139.250000</td>\n",
       "    </tr>\n",
       "    <tr>\n",
       "      <th>444</th>\n",
       "      <td>1194</td>\n",
       "      <td>18201.200000</td>\n",
       "    </tr>\n",
       "    <tr>\n",
       "      <th>445</th>\n",
       "      <td>1422</td>\n",
       "      <td>18547.000000</td>\n",
       "    </tr>\n",
       "    <tr>\n",
       "      <th>446</th>\n",
       "      <td>1447</td>\n",
       "      <td>18759.333333</td>\n",
       "    </tr>\n",
       "    <tr>\n",
       "      <th>447</th>\n",
       "      <td>1112</td>\n",
       "      <td>18877.333333</td>\n",
       "    </tr>\n",
       "    <tr>\n",
       "      <th>448</th>\n",
       "      <td>1237</td>\n",
       "      <td>18896.750000</td>\n",
       "    </tr>\n",
       "    <tr>\n",
       "      <th>449</th>\n",
       "      <td>1107</td>\n",
       "      <td>18904.500000</td>\n",
       "    </tr>\n",
       "    <tr>\n",
       "      <th>450</th>\n",
       "      <td>1451</td>\n",
       "      <td>18908.600000</td>\n",
       "    </tr>\n",
       "    <tr>\n",
       "      <th>451</th>\n",
       "      <td>1456</td>\n",
       "      <td>18932.142857</td>\n",
       "    </tr>\n",
       "    <tr>\n",
       "      <th>452</th>\n",
       "      <td>1202</td>\n",
       "      <td>19002.333333</td>\n",
       "    </tr>\n",
       "    <tr>\n",
       "      <th>453</th>\n",
       "      <td>1333</td>\n",
       "      <td>19132.500000</td>\n",
       "    </tr>\n",
       "    <tr>\n",
       "      <th>454</th>\n",
       "      <td>1069</td>\n",
       "      <td>19182.750000</td>\n",
       "    </tr>\n",
       "    <tr>\n",
       "      <th>455</th>\n",
       "      <td>1330</td>\n",
       "      <td>19216.000000</td>\n",
       "    </tr>\n",
       "    <tr>\n",
       "      <th>456</th>\n",
       "      <td>1382</td>\n",
       "      <td>19292.142857</td>\n",
       "    </tr>\n",
       "    <tr>\n",
       "      <th>457</th>\n",
       "      <td>1272</td>\n",
       "      <td>19295.500000</td>\n",
       "    </tr>\n",
       "    <tr>\n",
       "      <th>458</th>\n",
       "      <td>1445</td>\n",
       "      <td>19327.285714</td>\n",
       "    </tr>\n",
       "    <tr>\n",
       "      <th>459</th>\n",
       "      <td>1036</td>\n",
       "      <td>19563.571429</td>\n",
       "    </tr>\n",
       "    <tr>\n",
       "      <th>460</th>\n",
       "      <td>1395</td>\n",
       "      <td>19576.000000</td>\n",
       "    </tr>\n",
       "    <tr>\n",
       "      <th>461</th>\n",
       "      <td>1497</td>\n",
       "      <td>19614.000000</td>\n",
       "    </tr>\n",
       "    <tr>\n",
       "      <th>462</th>\n",
       "      <td>1063</td>\n",
       "      <td>20255.000000</td>\n",
       "    </tr>\n",
       "    <tr>\n",
       "      <th>463</th>\n",
       "      <td>1462</td>\n",
       "      <td>20410.333333</td>\n",
       "    </tr>\n",
       "    <tr>\n",
       "      <th>464</th>\n",
       "      <td>1184</td>\n",
       "      <td>20466.000000</td>\n",
       "    </tr>\n",
       "    <tr>\n",
       "      <th>465</th>\n",
       "      <td>1213</td>\n",
       "      <td>20737.000000</td>\n",
       "    </tr>\n",
       "    <tr>\n",
       "      <th>466</th>\n",
       "      <td>1255</td>\n",
       "      <td>20972.400000</td>\n",
       "    </tr>\n",
       "    <tr>\n",
       "      <th>467</th>\n",
       "      <td>1407</td>\n",
       "      <td>20991.000000</td>\n",
       "    </tr>\n",
       "    <tr>\n",
       "      <th>468</th>\n",
       "      <td>1250</td>\n",
       "      <td>21078.666667</td>\n",
       "    </tr>\n",
       "    <tr>\n",
       "      <th>469</th>\n",
       "      <td>1240</td>\n",
       "      <td>21114.000000</td>\n",
       "    </tr>\n",
       "    <tr>\n",
       "      <th>470</th>\n",
       "      <td>1104</td>\n",
       "      <td>21360.000000</td>\n",
       "    </tr>\n",
       "    <tr>\n",
       "      <th>471</th>\n",
       "      <td>1234</td>\n",
       "      <td>21421.000000</td>\n",
       "    </tr>\n",
       "    <tr>\n",
       "      <th>472</th>\n",
       "      <td>1427</td>\n",
       "      <td>21614.250000</td>\n",
       "    </tr>\n",
       "    <tr>\n",
       "      <th>473</th>\n",
       "      <td>1476</td>\n",
       "      <td>21812.571429</td>\n",
       "    </tr>\n",
       "    <tr>\n",
       "      <th>474</th>\n",
       "      <td>1161</td>\n",
       "      <td>23392.500000</td>\n",
       "    </tr>\n",
       "    <tr>\n",
       "      <th>475</th>\n",
       "      <td>1401</td>\n",
       "      <td>23472.200000</td>\n",
       "    </tr>\n",
       "    <tr>\n",
       "      <th>476</th>\n",
       "      <td>1096</td>\n",
       "      <td>23561.000000</td>\n",
       "    </tr>\n",
       "    <tr>\n",
       "      <th>477</th>\n",
       "      <td>1482</td>\n",
       "      <td>23785.000000</td>\n",
       "    </tr>\n",
       "    <tr>\n",
       "      <th>478</th>\n",
       "      <td>1135</td>\n",
       "      <td>23799.000000</td>\n",
       "    </tr>\n",
       "    <tr>\n",
       "      <th>479</th>\n",
       "      <td>1026</td>\n",
       "      <td>24108.000000</td>\n",
       "    </tr>\n",
       "    <tr>\n",
       "      <th>480</th>\n",
       "      <td>1102</td>\n",
       "      <td>24229.000000</td>\n",
       "    </tr>\n",
       "    <tr>\n",
       "      <th>481</th>\n",
       "      <td>1292</td>\n",
       "      <td>24405.666667</td>\n",
       "    </tr>\n",
       "    <tr>\n",
       "      <th>482</th>\n",
       "      <td>1074</td>\n",
       "      <td>24886.000000</td>\n",
       "    </tr>\n",
       "    <tr>\n",
       "      <th>483</th>\n",
       "      <td>1124</td>\n",
       "      <td>25360.333333</td>\n",
       "    </tr>\n",
       "    <tr>\n",
       "      <th>484</th>\n",
       "      <td>1091</td>\n",
       "      <td>25703.000000</td>\n",
       "    </tr>\n",
       "    <tr>\n",
       "      <th>485</th>\n",
       "      <td>1186</td>\n",
       "      <td>28772.000000</td>\n",
       "    </tr>\n",
       "    <tr>\n",
       "      <th>486</th>\n",
       "      <td>1000</td>\n",
       "      <td>28819.000000</td>\n",
       "    </tr>\n",
       "    <tr>\n",
       "      <th>487</th>\n",
       "      <td>1379</td>\n",
       "      <td>28991.500000</td>\n",
       "    </tr>\n",
       "    <tr>\n",
       "      <th>488</th>\n",
       "      <td>1108</td>\n",
       "      <td>30487.000000</td>\n",
       "    </tr>\n",
       "    <tr>\n",
       "      <th>489</th>\n",
       "      <td>1121</td>\n",
       "      <td>32813.500000</td>\n",
       "    </tr>\n",
       "  </tbody>\n",
       "</table style=\"display:inline\"></td></th>"
      ]
     },
     "metadata": {},
     "output_type": "display_data"
    }
   ],
   "source": [
    "#Extracting the general data for the three plans parameters\n",
    "general_temp_calls = merged_full_plan.groupby('user_id')['duration'].agg(Mean_call='mean').sort_values(by='Mean_call').reset_index()\n",
    "general_temp_sms = merged_full_plan.groupby('user_id')['sms_id'].agg(Mean_msg='mean').sort_values(by='Mean_msg').reset_index()\n",
    "general_temp_web = merged_full_plan.groupby('user_id')['web_gb'].agg(Mean_mb='mean').sort_values(by='Mean_mb').reset_index()\n",
    "\n",
    "display_side_by_side(general_temp_calls,general_temp_sms,general_temp_web,titles=['calls','sms','web'])\n"
   ]
  },
  {
   "cell_type": "code",
   "execution_count": 31,
   "metadata": {},
   "outputs": [
    {
     "data": {
      "image/png": "[encoded data removed]",
      "text/plain": [
       "<Figure size 432x288 with 1 Axes>"
      ]
     },
     "metadata": {},
     "output_type": "display_data"
    }
   ],
   "source": [
    "\n",
    "general_temp_calls['Mean_call'].plot(kind='hist',subplots=True,sharex=True,sharey=True,title='Avarage users call Duration')\n",
    "plt.show()"
   ]
  },
  {
   "cell_type": "code",
   "execution_count": 33,
   "metadata": {},
   "outputs": [
    {
     "data": {
      "image/png": "[encoded data removed]",
      "text/plain": [
       "<Figure size 432x288 with 1 Axes>"
      ]
     },
     "metadata": {},
     "output_type": "display_data"
    }
   ],
   "source": [
    "\n",
    "general_temp_sms['Mean_msg'].plot(kind='hist',subplots=True,sharex=True,sharey=True,title='Avarage users Masseges')\n",
    "plt.show()"
   ]
  },
  {
   "cell_type": "code",
   "execution_count": 35,
   "metadata": {},
   "outputs": [
    {
     "data": {
      "image/png": "[encoded data removed]",
      "text/plain": [
       "<Figure size 432x288 with 1 Axes>"
      ]
     },
     "metadata": {},
     "output_type": "display_data"
    }
   ],
   "source": [
    "\n",
    "general_temp_web['Mean_mb'].plot(kind='hist',subplots=True,sharex=True,sharey=True,title='Avarage users Web usage')\n",
    "plt.show()"
   ]
  },
  {
   "cell_type": "markdown",
   "metadata": {},
   "source": [
    "##### Intermediate conclusion for the general public\n",
    "Frome the graphes it seems that we have the sms and web data, heavely skwed positevly to the right.\n",
    "While most users in the general population , as far as phonecals are very close to being in a normal distribution,(ranging from 200 to about 400 minutes a month), yet there are some users that speeks more then others significly which give us a littele skew to the right where most outlires probably.(over 700-1000 minutes per user).\n",
    "\n",
    "On the massages side we can see taht there are definatly oultliers and most of the users are not tendind to use this servise much in the general data(from 0 to 60 masages per month). But there are those that take it as a tool and use it more, a fact that gives us a positive skewed graph.(up to almost 160 massages per month)\n",
    "\n",
    "On the wed services we can see that there are definatly oultliers , those that take a use of it with much higher frequancy then the rest of the general public, a fact that gives us a positive skewed graph.(between 17000 MB and up to almos 36000 MB per month). Yet we can see that even with thes outlieres , most of the general users tendind to use this servise frequantly (where most use 2500 MB to 15000 MB per month).\n",
    "\n",
    "**Let us explore thes factores in each separate plan per user.**"
   ]
  },
  {
   "cell_type": "markdown",
   "metadata": {},
   "source": [
    "#### The distribution of the data in the Surf plan users"
   ]
  },
  {
   "cell_type": "markdown",
   "metadata": {},
   "source": [
    "##### The part of the Surf plan Population from the General Population"
   ]
  },
  {
   "cell_type": "code",
   "execution_count": 37,
   "metadata": {
    "scrolled": true
   },
   "outputs": [
    {
     "name": "stdout",
     "output_type": "stream",
     "text": [
      "The part of the Surf Plan population from  the general is :68.60%\n",
      "The part of the Surf Plan population Call revenu from  the general is :33.10%\n",
      "The part of the Surf Plan population SMS revenue from  the general is :19.17%\n",
      "The part of the Surf Plan population WEB revenue from  the general is :58.55%\n",
      "The part of the Surf Plan population Total Diff revenue from  the general is :53.58%\n",
      "The part of the Surf Plan population Total revenue from  the general is :55.03%\n"
     ]
    }
   ],
   "source": [
    "#The part of the surf paln from the gerneralpopulatio\n",
    "print ('The part of the Surf Plan population from  the general is :{:.2%}'.format(len(surf_plan)/len(merged_full_plan)))\n",
    "print ('The part of the Surf Plan population Call revenu from  the general is :{:.2%}'.format((surf_plan['call_rev'].sum())/(merged_full_plan['call_rev'].sum())))\n",
    "print ('The part of the Surf Plan population SMS revenue from  the general is :{:.2%}'.format((surf_plan['msg_rev'].sum())/(merged_full_plan['msg_rev'].sum())))\n",
    "print ('The part of the Surf Plan population WEB revenue from  the general is :{:.2%}'.format((surf_plan['web_rev'].sum())/(merged_full_plan['web_rev'].sum())))\n",
    "print ('The part of the Surf Plan population Total Diff revenue from  the general is :{:.2%}'.format((surf_plan['total_dif_rev'].sum())/(merged_full_plan['total_dif_rev'].sum())))\n",
    "print ('The part of the Surf Plan population Total revenue from  the general is :{:.2%}'.format((surf_plan['total_payment'].sum())/(merged_full_plan['total_payment'].sum())))"
   ]
  },
  {
   "cell_type": "code",
   "execution_count": 38,
   "metadata": {
    "scrolled": false
   },
   "outputs": [
    {
     "data": {
      "text/html": [
       "<th style=\"text-align:center\"><td style=\"vertical-align:top\"><h2 style=\"text-align: center;\">calls</h2><table style=\"display:inline\" border=\"1\" class=\"dataframe\">\n",
       "  <thead>\n",
       "    <tr style=\"text-align: right;\">\n",
       "      <th></th>\n",
       "      <th>user_id</th>\n",
       "      <th>Mean_call</th>\n",
       "    </tr>\n",
       "  </thead>\n",
       "  <tbody>\n",
       "    <tr>\n",
       "      <th>0</th>\n",
       "      <td>1194</td>\n",
       "      <td>0.000000</td>\n",
       "    </tr>\n",
       "    <tr>\n",
       "      <th>1</th>\n",
       "      <td>1080</td>\n",
       "      <td>0.000000</td>\n",
       "    </tr>\n",
       "    <tr>\n",
       "      <th>2</th>\n",
       "      <td>1089</td>\n",
       "      <td>0.000000</td>\n",
       "    </tr>\n",
       "    <tr>\n",
       "      <th>3</th>\n",
       "      <td>1349</td>\n",
       "      <td>0.000000</td>\n",
       "    </tr>\n",
       "    <tr>\n",
       "      <th>4</th>\n",
       "      <td>1131</td>\n",
       "      <td>0.000000</td>\n",
       "    </tr>\n",
       "    <tr>\n",
       "      <th>5</th>\n",
       "      <td>1137</td>\n",
       "      <td>0.000000</td>\n",
       "    </tr>\n",
       "    <tr>\n",
       "      <th>6</th>\n",
       "      <td>1121</td>\n",
       "      <td>0.000000</td>\n",
       "    </tr>\n",
       "    <tr>\n",
       "      <th>7</th>\n",
       "      <td>1306</td>\n",
       "      <td>6.000000</td>\n",
       "    </tr>\n",
       "    <tr>\n",
       "      <th>8</th>\n",
       "      <td>1034</td>\n",
       "      <td>7.000000</td>\n",
       "    </tr>\n",
       "    <tr>\n",
       "      <th>9</th>\n",
       "      <td>1339</td>\n",
       "      <td>23.750000</td>\n",
       "    </tr>\n",
       "    <tr>\n",
       "      <th>10</th>\n",
       "      <td>1323</td>\n",
       "      <td>28.000000</td>\n",
       "    </tr>\n",
       "    <tr>\n",
       "      <th>11</th>\n",
       "      <td>1452</td>\n",
       "      <td>36.000000</td>\n",
       "    </tr>\n",
       "    <tr>\n",
       "      <th>12</th>\n",
       "      <td>1481</td>\n",
       "      <td>36.000000</td>\n",
       "    </tr>\n",
       "    <tr>\n",
       "      <th>13</th>\n",
       "      <td>1344</td>\n",
       "      <td>42.000000</td>\n",
       "    </tr>\n",
       "    <tr>\n",
       "      <th>14</th>\n",
       "      <td>1023</td>\n",
       "      <td>57.500000</td>\n",
       "    </tr>\n",
       "    <tr>\n",
       "      <th>15</th>\n",
       "      <td>1258</td>\n",
       "      <td>64.166667</td>\n",
       "    </tr>\n",
       "    <tr>\n",
       "      <th>16</th>\n",
       "      <td>1310</td>\n",
       "      <td>70.000000</td>\n",
       "    </tr>\n",
       "    <tr>\n",
       "      <th>17</th>\n",
       "      <td>1012</td>\n",
       "      <td>76.500000</td>\n",
       "    </tr>\n",
       "    <tr>\n",
       "      <th>18</th>\n",
       "      <td>1290</td>\n",
       "      <td>78.000000</td>\n",
       "    </tr>\n",
       "    <tr>\n",
       "      <th>19</th>\n",
       "      <td>1457</td>\n",
       "      <td>85.000000</td>\n",
       "    </tr>\n",
       "    <tr>\n",
       "      <th>20</th>\n",
       "      <td>1471</td>\n",
       "      <td>87.000000</td>\n",
       "    </tr>\n",
       "    <tr>\n",
       "      <th>21</th>\n",
       "      <td>1078</td>\n",
       "      <td>90.000000</td>\n",
       "    </tr>\n",
       "    <tr>\n",
       "      <th>22</th>\n",
       "      <td>1015</td>\n",
       "      <td>96.000000</td>\n",
       "    </tr>\n",
       "    <tr>\n",
       "      <th>23</th>\n",
       "      <td>1297</td>\n",
       "      <td>98.500000</td>\n",
       "    </tr>\n",
       "    <tr>\n",
       "      <th>24</th>\n",
       "      <td>1165</td>\n",
       "      <td>105.666667</td>\n",
       "    </tr>\n",
       "    <tr>\n",
       "      <th>25</th>\n",
       "      <td>1221</td>\n",
       "      <td>108.000000</td>\n",
       "    </tr>\n",
       "    <tr>\n",
       "      <th>26</th>\n",
       "      <td>1322</td>\n",
       "      <td>109.000000</td>\n",
       "    </tr>\n",
       "    <tr>\n",
       "      <th>27</th>\n",
       "      <td>1423</td>\n",
       "      <td>120.000000</td>\n",
       "    </tr>\n",
       "    <tr>\n",
       "      <th>28</th>\n",
       "      <td>1095</td>\n",
       "      <td>121.666667</td>\n",
       "    </tr>\n",
       "    <tr>\n",
       "      <th>29</th>\n",
       "      <td>1429</td>\n",
       "      <td>130.000000</td>\n",
       "    </tr>\n",
       "    <tr>\n",
       "      <th>30</th>\n",
       "      <td>1367</td>\n",
       "      <td>131.166667</td>\n",
       "    </tr>\n",
       "    <tr>\n",
       "      <th>31</th>\n",
       "      <td>1259</td>\n",
       "      <td>149.200000</td>\n",
       "    </tr>\n",
       "    <tr>\n",
       "      <th>32</th>\n",
       "      <td>1244</td>\n",
       "      <td>151.000000</td>\n",
       "    </tr>\n",
       "    <tr>\n",
       "      <th>33</th>\n",
       "      <td>1469</td>\n",
       "      <td>155.000000</td>\n",
       "    </tr>\n",
       "    <tr>\n",
       "      <th>34</th>\n",
       "      <td>1265</td>\n",
       "      <td>155.000000</td>\n",
       "    </tr>\n",
       "    <tr>\n",
       "      <th>35</th>\n",
       "      <td>1356</td>\n",
       "      <td>164.000000</td>\n",
       "    </tr>\n",
       "    <tr>\n",
       "      <th>36</th>\n",
       "      <td>1075</td>\n",
       "      <td>172.000000</td>\n",
       "    </tr>\n",
       "    <tr>\n",
       "      <th>37</th>\n",
       "      <td>1051</td>\n",
       "      <td>173.000000</td>\n",
       "    </tr>\n",
       "    <tr>\n",
       "      <th>38</th>\n",
       "      <td>1444</td>\n",
       "      <td>174.200000</td>\n",
       "    </tr>\n",
       "    <tr>\n",
       "      <th>39</th>\n",
       "      <td>1207</td>\n",
       "      <td>176.000000</td>\n",
       "    </tr>\n",
       "    <tr>\n",
       "      <th>40</th>\n",
       "      <td>1466</td>\n",
       "      <td>180.375000</td>\n",
       "    </tr>\n",
       "    <tr>\n",
       "      <th>41</th>\n",
       "      <td>1166</td>\n",
       "      <td>189.500000</td>\n",
       "    </tr>\n",
       "    <tr>\n",
       "      <th>42</th>\n",
       "      <td>1048</td>\n",
       "      <td>190.400000</td>\n",
       "    </tr>\n",
       "    <tr>\n",
       "      <th>43</th>\n",
       "      <td>1316</td>\n",
       "      <td>193.875000</td>\n",
       "    </tr>\n",
       "    <tr>\n",
       "      <th>44</th>\n",
       "      <td>1425</td>\n",
       "      <td>195.000000</td>\n",
       "    </tr>\n",
       "    <tr>\n",
       "      <th>45</th>\n",
       "      <td>1448</td>\n",
       "      <td>202.333333</td>\n",
       "    </tr>\n",
       "    <tr>\n",
       "      <th>46</th>\n",
       "      <td>1182</td>\n",
       "      <td>203.250000</td>\n",
       "    </tr>\n",
       "    <tr>\n",
       "      <th>47</th>\n",
       "      <td>1081</td>\n",
       "      <td>208.333333</td>\n",
       "    </tr>\n",
       "    <tr>\n",
       "      <th>48</th>\n",
       "      <td>1484</td>\n",
       "      <td>211.000000</td>\n",
       "    </tr>\n",
       "    <tr>\n",
       "      <th>49</th>\n",
       "      <td>1127</td>\n",
       "      <td>211.857143</td>\n",
       "    </tr>\n",
       "  </tbody>\n",
       "</table style=\"display:inline\"></td></th><th style=\"text-align:center\"><td style=\"vertical-align:top\"><h2 style=\"text-align: center;\">sms</h2><table style=\"display:inline\" border=\"1\" class=\"dataframe\">\n",
       "  <thead>\n",
       "    <tr style=\"text-align: right;\">\n",
       "      <th></th>\n",
       "      <th>user_id</th>\n",
       "      <th>Mean_msg</th>\n",
       "    </tr>\n",
       "  </thead>\n",
       "  <tbody>\n",
       "    <tr>\n",
       "      <th>0</th>\n",
       "      <td>1499</td>\n",
       "      <td>0.0</td>\n",
       "    </tr>\n",
       "    <tr>\n",
       "      <th>1</th>\n",
       "      <td>1208</td>\n",
       "      <td>0.0</td>\n",
       "    </tr>\n",
       "    <tr>\n",
       "      <th>2</th>\n",
       "      <td>1397</td>\n",
       "      <td>0.0</td>\n",
       "    </tr>\n",
       "    <tr>\n",
       "      <th>3</th>\n",
       "      <td>1400</td>\n",
       "      <td>0.0</td>\n",
       "    </tr>\n",
       "    <tr>\n",
       "      <th>4</th>\n",
       "      <td>1402</td>\n",
       "      <td>0.0</td>\n",
       "    </tr>\n",
       "    <tr>\n",
       "      <th>5</th>\n",
       "      <td>1171</td>\n",
       "      <td>0.0</td>\n",
       "    </tr>\n",
       "    <tr>\n",
       "      <th>6</th>\n",
       "      <td>1322</td>\n",
       "      <td>0.0</td>\n",
       "    </tr>\n",
       "    <tr>\n",
       "      <th>7</th>\n",
       "      <td>1166</td>\n",
       "      <td>0.0</td>\n",
       "    </tr>\n",
       "    <tr>\n",
       "      <th>8</th>\n",
       "      <td>1157</td>\n",
       "      <td>0.0</td>\n",
       "    </tr>\n",
       "    <tr>\n",
       "      <th>9</th>\n",
       "      <td>1156</td>\n",
       "      <td>0.0</td>\n",
       "    </tr>\n",
       "    <tr>\n",
       "      <th>10</th>\n",
       "      <td>1210</td>\n",
       "      <td>0.0</td>\n",
       "    </tr>\n",
       "    <tr>\n",
       "      <th>11</th>\n",
       "      <td>1153</td>\n",
       "      <td>0.0</td>\n",
       "    </tr>\n",
       "    <tr>\n",
       "      <th>12</th>\n",
       "      <td>1149</td>\n",
       "      <td>0.0</td>\n",
       "    </tr>\n",
       "    <tr>\n",
       "      <th>13</th>\n",
       "      <td>1411</td>\n",
       "      <td>0.0</td>\n",
       "    </tr>\n",
       "    <tr>\n",
       "      <th>14</th>\n",
       "      <td>1415</td>\n",
       "      <td>0.0</td>\n",
       "    </tr>\n",
       "    <tr>\n",
       "      <th>15</th>\n",
       "      <td>1418</td>\n",
       "      <td>0.0</td>\n",
       "    </tr>\n",
       "    <tr>\n",
       "      <th>16</th>\n",
       "      <td>1437</td>\n",
       "      <td>0.0</td>\n",
       "    </tr>\n",
       "    <tr>\n",
       "      <th>17</th>\n",
       "      <td>1117</td>\n",
       "      <td>0.0</td>\n",
       "    </tr>\n",
       "    <tr>\n",
       "      <th>18</th>\n",
       "      <td>1449</td>\n",
       "      <td>0.0</td>\n",
       "    </tr>\n",
       "    <tr>\n",
       "      <th>19</th>\n",
       "      <td>1109</td>\n",
       "      <td>0.0</td>\n",
       "    </tr>\n",
       "    <tr>\n",
       "      <th>20</th>\n",
       "      <td>1106</td>\n",
       "      <td>0.0</td>\n",
       "    </tr>\n",
       "    <tr>\n",
       "      <th>21</th>\n",
       "      <td>1152</td>\n",
       "      <td>0.0</td>\n",
       "    </tr>\n",
       "    <tr>\n",
       "      <th>22</th>\n",
       "      <td>1461</td>\n",
       "      <td>0.0</td>\n",
       "    </tr>\n",
       "    <tr>\n",
       "      <th>23</th>\n",
       "      <td>1216</td>\n",
       "      <td>0.0</td>\n",
       "    </tr>\n",
       "    <tr>\n",
       "      <th>24</th>\n",
       "      <td>1225</td>\n",
       "      <td>0.0</td>\n",
       "    </tr>\n",
       "    <tr>\n",
       "      <th>25</th>\n",
       "      <td>1321</td>\n",
       "      <td>0.0</td>\n",
       "    </tr>\n",
       "    <tr>\n",
       "      <th>26</th>\n",
       "      <td>1325</td>\n",
       "      <td>0.0</td>\n",
       "    </tr>\n",
       "    <tr>\n",
       "      <th>27</th>\n",
       "      <td>1310</td>\n",
       "      <td>0.0</td>\n",
       "    </tr>\n",
       "    <tr>\n",
       "      <th>28</th>\n",
       "      <td>1306</td>\n",
       "      <td>0.0</td>\n",
       "    </tr>\n",
       "    <tr>\n",
       "      <th>29</th>\n",
       "      <td>1300</td>\n",
       "      <td>0.0</td>\n",
       "    </tr>\n",
       "    <tr>\n",
       "      <th>30</th>\n",
       "      <td>1338</td>\n",
       "      <td>0.0</td>\n",
       "    </tr>\n",
       "    <tr>\n",
       "      <th>31</th>\n",
       "      <td>1297</td>\n",
       "      <td>0.0</td>\n",
       "    </tr>\n",
       "    <tr>\n",
       "      <th>32</th>\n",
       "      <td>1292</td>\n",
       "      <td>0.0</td>\n",
       "    </tr>\n",
       "    <tr>\n",
       "      <th>33</th>\n",
       "      <td>1288</td>\n",
       "      <td>0.0</td>\n",
       "    </tr>\n",
       "    <tr>\n",
       "      <th>34</th>\n",
       "      <td>1217</td>\n",
       "      <td>0.0</td>\n",
       "    </tr>\n",
       "    <tr>\n",
       "      <th>35</th>\n",
       "      <td>1284</td>\n",
       "      <td>0.0</td>\n",
       "    </tr>\n",
       "    <tr>\n",
       "      <th>36</th>\n",
       "      <td>1277</td>\n",
       "      <td>0.0</td>\n",
       "    </tr>\n",
       "    <tr>\n",
       "      <th>37</th>\n",
       "      <td>1265</td>\n",
       "      <td>0.0</td>\n",
       "    </tr>\n",
       "    <tr>\n",
       "      <th>38</th>\n",
       "      <td>1359</td>\n",
       "      <td>0.0</td>\n",
       "    </tr>\n",
       "    <tr>\n",
       "      <th>39</th>\n",
       "      <td>1360</td>\n",
       "      <td>0.0</td>\n",
       "    </tr>\n",
       "    <tr>\n",
       "      <th>40</th>\n",
       "      <td>1498</td>\n",
       "      <td>0.0</td>\n",
       "    </tr>\n",
       "    <tr>\n",
       "      <th>41</th>\n",
       "      <td>1367</td>\n",
       "      <td>0.0</td>\n",
       "    </tr>\n",
       "    <tr>\n",
       "      <th>42</th>\n",
       "      <td>1239</td>\n",
       "      <td>0.0</td>\n",
       "    </tr>\n",
       "    <tr>\n",
       "      <th>43</th>\n",
       "      <td>1238</td>\n",
       "      <td>0.0</td>\n",
       "    </tr>\n",
       "    <tr>\n",
       "      <th>44</th>\n",
       "      <td>1233</td>\n",
       "      <td>0.0</td>\n",
       "    </tr>\n",
       "    <tr>\n",
       "      <th>45</th>\n",
       "      <td>1353</td>\n",
       "      <td>0.0</td>\n",
       "    </tr>\n",
       "    <tr>\n",
       "      <th>46</th>\n",
       "      <td>1097</td>\n",
       "      <td>0.0</td>\n",
       "    </tr>\n",
       "    <tr>\n",
       "      <th>47</th>\n",
       "      <td>1406</td>\n",
       "      <td>0.0</td>\n",
       "    </tr>\n",
       "    <tr>\n",
       "      <th>48</th>\n",
       "      <td>1049</td>\n",
       "      <td>0.0</td>\n",
       "    </tr>\n",
       "    <tr>\n",
       "      <th>49</th>\n",
       "      <td>1048</td>\n",
       "      <td>0.0</td>\n",
       "    </tr>\n",
       "  </tbody>\n",
       "</table style=\"display:inline\"></td></th><th style=\"text-align:center\"><td style=\"vertical-align:top\"><h2 style=\"text-align: center;\">web</h2><table style=\"display:inline\" border=\"1\" class=\"dataframe\">\n",
       "  <thead>\n",
       "    <tr style=\"text-align: right;\">\n",
       "      <th></th>\n",
       "      <th>user_id</th>\n",
       "      <th>Mean_mb</th>\n",
       "    </tr>\n",
       "  </thead>\n",
       "  <tbody>\n",
       "    <tr>\n",
       "      <th>0</th>\n",
       "      <td>1070</td>\n",
       "      <td>41.000000</td>\n",
       "    </tr>\n",
       "    <tr>\n",
       "      <th>1</th>\n",
       "      <td>1035</td>\n",
       "      <td>140.000000</td>\n",
       "    </tr>\n",
       "    <tr>\n",
       "      <th>2</th>\n",
       "      <td>1116</td>\n",
       "      <td>292.000000</td>\n",
       "    </tr>\n",
       "    <tr>\n",
       "      <th>3</th>\n",
       "      <td>1118</td>\n",
       "      <td>603.000000</td>\n",
       "    </tr>\n",
       "    <tr>\n",
       "      <th>4</th>\n",
       "      <td>1262</td>\n",
       "      <td>654.000000</td>\n",
       "    </tr>\n",
       "    <tr>\n",
       "      <th>5</th>\n",
       "      <td>1208</td>\n",
       "      <td>794.000000</td>\n",
       "    </tr>\n",
       "    <tr>\n",
       "      <th>6</th>\n",
       "      <td>1152</td>\n",
       "      <td>987.500000</td>\n",
       "    </tr>\n",
       "    <tr>\n",
       "      <th>7</th>\n",
       "      <td>1413</td>\n",
       "      <td>990.000000</td>\n",
       "    </tr>\n",
       "    <tr>\n",
       "      <th>8</th>\n",
       "      <td>1225</td>\n",
       "      <td>1056.000000</td>\n",
       "    </tr>\n",
       "    <tr>\n",
       "      <th>9</th>\n",
       "      <td>1089</td>\n",
       "      <td>1237.000000</td>\n",
       "    </tr>\n",
       "    <tr>\n",
       "      <th>10</th>\n",
       "      <td>1348</td>\n",
       "      <td>1500.333333</td>\n",
       "    </tr>\n",
       "    <tr>\n",
       "      <th>11</th>\n",
       "      <td>1489</td>\n",
       "      <td>1564.250000</td>\n",
       "    </tr>\n",
       "    <tr>\n",
       "      <th>12</th>\n",
       "      <td>1239</td>\n",
       "      <td>1601.000000</td>\n",
       "    </tr>\n",
       "    <tr>\n",
       "      <th>13</th>\n",
       "      <td>1040</td>\n",
       "      <td>1601.000000</td>\n",
       "    </tr>\n",
       "    <tr>\n",
       "      <th>14</th>\n",
       "      <td>1288</td>\n",
       "      <td>1606.333333</td>\n",
       "    </tr>\n",
       "    <tr>\n",
       "      <th>15</th>\n",
       "      <td>1305</td>\n",
       "      <td>1617.125000</td>\n",
       "    </tr>\n",
       "    <tr>\n",
       "      <th>16</th>\n",
       "      <td>1073</td>\n",
       "      <td>1638.888889</td>\n",
       "    </tr>\n",
       "    <tr>\n",
       "      <th>17</th>\n",
       "      <td>1331</td>\n",
       "      <td>1651.200000</td>\n",
       "    </tr>\n",
       "    <tr>\n",
       "      <th>18</th>\n",
       "      <td>1408</td>\n",
       "      <td>1698.545455</td>\n",
       "    </tr>\n",
       "    <tr>\n",
       "      <th>19</th>\n",
       "      <td>1375</td>\n",
       "      <td>1737.000000</td>\n",
       "    </tr>\n",
       "    <tr>\n",
       "      <th>20</th>\n",
       "      <td>1218</td>\n",
       "      <td>1766.000000</td>\n",
       "    </tr>\n",
       "    <tr>\n",
       "      <th>21</th>\n",
       "      <td>1005</td>\n",
       "      <td>1780.000000</td>\n",
       "    </tr>\n",
       "    <tr>\n",
       "      <th>22</th>\n",
       "      <td>1494</td>\n",
       "      <td>1794.833333</td>\n",
       "    </tr>\n",
       "    <tr>\n",
       "      <th>23</th>\n",
       "      <td>1337</td>\n",
       "      <td>1838.000000</td>\n",
       "    </tr>\n",
       "    <tr>\n",
       "      <th>24</th>\n",
       "      <td>1434</td>\n",
       "      <td>1985.900000</td>\n",
       "    </tr>\n",
       "    <tr>\n",
       "      <th>25</th>\n",
       "      <td>1364</td>\n",
       "      <td>2048.200000</td>\n",
       "    </tr>\n",
       "    <tr>\n",
       "      <th>26</th>\n",
       "      <td>1148</td>\n",
       "      <td>2055.000000</td>\n",
       "    </tr>\n",
       "    <tr>\n",
       "      <th>27</th>\n",
       "      <td>1169</td>\n",
       "      <td>2071.000000</td>\n",
       "    </tr>\n",
       "    <tr>\n",
       "      <th>28</th>\n",
       "      <td>1349</td>\n",
       "      <td>2118.666667</td>\n",
       "    </tr>\n",
       "    <tr>\n",
       "      <th>29</th>\n",
       "      <td>1232</td>\n",
       "      <td>2133.444444</td>\n",
       "    </tr>\n",
       "    <tr>\n",
       "      <th>30</th>\n",
       "      <td>1015</td>\n",
       "      <td>2135.000000</td>\n",
       "    </tr>\n",
       "    <tr>\n",
       "      <th>31</th>\n",
       "      <td>1457</td>\n",
       "      <td>2212.000000</td>\n",
       "    </tr>\n",
       "    <tr>\n",
       "      <th>32</th>\n",
       "      <td>1355</td>\n",
       "      <td>2269.666667</td>\n",
       "    </tr>\n",
       "    <tr>\n",
       "      <th>33</th>\n",
       "      <td>1437</td>\n",
       "      <td>2300.000000</td>\n",
       "    </tr>\n",
       "    <tr>\n",
       "      <th>34</th>\n",
       "      <td>1287</td>\n",
       "      <td>2311.000000</td>\n",
       "    </tr>\n",
       "    <tr>\n",
       "      <th>35</th>\n",
       "      <td>1055</td>\n",
       "      <td>2360.375000</td>\n",
       "    </tr>\n",
       "    <tr>\n",
       "      <th>36</th>\n",
       "      <td>1027</td>\n",
       "      <td>2406.166667</td>\n",
       "    </tr>\n",
       "    <tr>\n",
       "      <th>37</th>\n",
       "      <td>1252</td>\n",
       "      <td>2423.714286</td>\n",
       "    </tr>\n",
       "    <tr>\n",
       "      <th>38</th>\n",
       "      <td>1362</td>\n",
       "      <td>2426.000000</td>\n",
       "    </tr>\n",
       "    <tr>\n",
       "      <th>39</th>\n",
       "      <td>1012</td>\n",
       "      <td>2454.500000</td>\n",
       "    </tr>\n",
       "    <tr>\n",
       "      <th>40</th>\n",
       "      <td>1193</td>\n",
       "      <td>2478.000000</td>\n",
       "    </tr>\n",
       "    <tr>\n",
       "      <th>41</th>\n",
       "      <td>1298</td>\n",
       "      <td>2522.000000</td>\n",
       "    </tr>\n",
       "    <tr>\n",
       "      <th>42</th>\n",
       "      <td>1181</td>\n",
       "      <td>2585.777778</td>\n",
       "    </tr>\n",
       "    <tr>\n",
       "      <th>43</th>\n",
       "      <td>1335</td>\n",
       "      <td>2595.285714</td>\n",
       "    </tr>\n",
       "    <tr>\n",
       "      <th>44</th>\n",
       "      <td>1271</td>\n",
       "      <td>2602.000000</td>\n",
       "    </tr>\n",
       "    <tr>\n",
       "      <th>45</th>\n",
       "      <td>1402</td>\n",
       "      <td>2623.250000</td>\n",
       "    </tr>\n",
       "    <tr>\n",
       "      <th>46</th>\n",
       "      <td>1336</td>\n",
       "      <td>2661.000000</td>\n",
       "    </tr>\n",
       "    <tr>\n",
       "      <th>47</th>\n",
       "      <td>1095</td>\n",
       "      <td>2666.222222</td>\n",
       "    </tr>\n",
       "    <tr>\n",
       "      <th>48</th>\n",
       "      <td>1068</td>\n",
       "      <td>2684.000000</td>\n",
       "    </tr>\n",
       "    <tr>\n",
       "      <th>49</th>\n",
       "      <td>1464</td>\n",
       "      <td>2692.000000</td>\n",
       "    </tr>\n",
       "  </tbody>\n",
       "</table style=\"display:inline\"></td></th>"
      ]
     },
     "metadata": {},
     "output_type": "display_data"
    }
   ],
   "source": [
    "#extracting the data per user from the Surf plan\n",
    "surf_plan_temp_calls = surf_plan.groupby('user_id')['duration'].agg(Mean_call='mean').sort_values(by='Mean_call').reset_index()\n",
    "surf_plan_sms = surf_plan.groupby('user_id')['sms_id'].agg(Mean_msg='mean').sort_values(by='Mean_msg').reset_index()\n",
    "surf_plan_web = surf_plan.groupby('user_id')['web_gb'].agg(Mean_mb='mean').sort_values(by='Mean_mb').reset_index()\n",
    "\n",
    "display_side_by_side(surf_plan_temp_calls.head(50),surf_plan_sms.head(50),surf_plan_web.head(50),titles=['calls','sms','web'])\n"
   ]
  },
  {
   "cell_type": "markdown",
   "metadata": {},
   "source": [
    "#### Ploting Histogram per category by user"
   ]
  },
  {
   "cell_type": "code",
   "execution_count": 39,
   "metadata": {},
   "outputs": [
    {
     "data": {
      "image/png": "[encoded data removed]",
      "text/plain": [
       "<Figure size 432x288 with 1 Axes>"
      ]
     },
     "metadata": {},
     "output_type": "display_data"
    }
   ],
   "source": [
    "\n",
    "\n",
    "surf_plan_temp_calls['Mean_call'].plot(kind='hist',subplots=True,sharex=True,sharey=True,title='Avarage users call duration in Surf plan')\n",
    "plt.show()"
   ]
  },
  {
   "cell_type": "code",
   "execution_count": 41,
   "metadata": {},
   "outputs": [
    {
     "data": {
      "image/png": "[encoded data removed]",
      "text/plain": [
       "<Figure size 432x288 with 1 Axes>"
      ]
     },
     "metadata": {},
     "output_type": "display_data"
    }
   ],
   "source": [
    "\n",
    "\n",
    "surf_plan_sms['Mean_msg'].plot(kind='hist',subplots=True,sharex=True,sharey=True,title='Avarage users no. of masseges in Surf plan')\n",
    "plt.show()"
   ]
  },
  {
   "cell_type": "code",
   "execution_count": 43,
   "metadata": {},
   "outputs": [
    {
     "data": {
      "image/png": "[encoded data removed]",
      "text/plain": [
       "<Figure size 432x288 with 1 Axes>"
      ]
     },
     "metadata": {},
     "output_type": "display_data"
    }
   ],
   "source": [
    "\n",
    "\n",
    "surf_plan_web['Mean_mb'].plot(kind='hist',subplots=True,sharex=True,sharey=True,title='Avarage users Web usage in Surf plan')\n",
    "plt.show()"
   ]
  },
  {
   "cell_type": "markdown",
   "metadata": {},
   "source": [
    "##### Intermidiate conclusion for the Surf Plan population\n",
    "\n",
    "Frome the graphes it seems that we have the same sms and web data, skwed positevly to the right. That would be considred logical since this population consst 68% of the population we are chcking there for its influance on the dat is significant.\n",
    "like in the general population most users in the Surf plan population ,the phone calls users tnd to spread very close to normal distribution,(ranging from 200 to about 600 minutes a month), yet there are some users that speeks more then others significly which give us a littele skew to the right where most outlires probably.(over 700-1000 minutes per user).\n",
    "\n",
    "On the massages side we can see taht there are definatly oultliers and most of the users are not tending to use this servise much like in the general data(from 0 to 60 masages per month). and there are those that take it as a tool and use it more, a fact that gives us a positive skewed graph.(up to almost 160 massages per month)\n",
    "\n",
    "On the wed services we can see that there are definatly oultliers , those that take a use of it with much higher frequancy then the rest of the Surf public, a fact that gives us a positive skewed graph.(between 15000 MB and up to almos 36000 MB per month). Yet we can see that even with thes outlieres , most of the Surf plan users tendind to use this servise frequantly (where most use 2500 MB to 10000 MB per month).\n"
   ]
  },
  {
   "cell_type": "markdown",
   "metadata": {},
   "source": [
    "#### The distribution of the data in the Ultimate Plan users"
   ]
  },
  {
   "cell_type": "code",
   "execution_count": 45,
   "metadata": {},
   "outputs": [
    {
     "name": "stdout",
     "output_type": "stream",
     "text": [
      "The part of the Ultimate Plan population from  the general is :31.40%\n",
      "The part of the Ultimate Plan population Call revenu from  the general is :66.90%\n",
      "The part of the Ultimate Plan population SMS revenue from  the general is :80.83%\n",
      "The part of the Ultimate Plan population WEB revenue from  the general is :41.45%\n",
      "The part of the Surf Plan population Total diff revenue from  the general is :46.42%\n",
      "The part of the Surf Plan population Total revenue from  the general is :44.97%\n"
     ]
    }
   ],
   "source": [
    "#The part of the surf paln from the gerneralpopulatio\n",
    "print ('The part of the Ultimate Plan population from  the general is :{:.2%}'.format(len(ultimate_plan)/len(merged_full_plan)))\n",
    "print ('The part of the Ultimate Plan population Call revenu from  the general is :{:.2%}'.format((ultimate_plan['call_rev'].sum())/(merged_full_plan['call_rev'].sum())))\n",
    "print ('The part of the Ultimate Plan population SMS revenue from  the general is :{:.2%}'.format((ultimate_plan['msg_rev'].sum())/(merged_full_plan['msg_rev'].sum())))\n",
    "print ('The part of the Ultimate Plan population WEB revenue from  the general is :{:.2%}'.format((ultimate_plan['web_rev'].sum())/(merged_full_plan['web_rev'].sum())))\n",
    "print ('The part of the Surf Plan population Total diff revenue from  the general is :{:.2%}'.format((ultimate_plan['total_dif_rev'].sum())/(merged_full_plan['total_dif_rev'].sum())))\n",
    "print ('The part of the Surf Plan population Total revenue from  the general is :{:.2%}'.format((ultimate_plan['total_payment'].sum())/(merged_full_plan['total_payment'].sum())))"
   ]
  },
  {
   "cell_type": "code",
   "execution_count": 46,
   "metadata": {},
   "outputs": [
    {
     "data": {
      "text/html": [
       "<th style=\"text-align:center\"><td style=\"vertical-align:top\"><h2 style=\"text-align: center;\">calls</h2><table style=\"display:inline\" border=\"1\" class=\"dataframe\">\n",
       "  <thead>\n",
       "    <tr style=\"text-align: right;\">\n",
       "      <th></th>\n",
       "      <th>user_id</th>\n",
       "      <th>Mean_call</th>\n",
       "    </tr>\n",
       "  </thead>\n",
       "  <tbody>\n",
       "    <tr>\n",
       "      <th>0</th>\n",
       "      <td>1204</td>\n",
       "      <td>0.000000</td>\n",
       "    </tr>\n",
       "    <tr>\n",
       "      <th>1</th>\n",
       "      <td>1108</td>\n",
       "      <td>0.000000</td>\n",
       "    </tr>\n",
       "    <tr>\n",
       "      <th>2</th>\n",
       "      <td>1104</td>\n",
       "      <td>11.000000</td>\n",
       "    </tr>\n",
       "    <tr>\n",
       "      <th>3</th>\n",
       "      <td>1006</td>\n",
       "      <td>34.500000</td>\n",
       "    </tr>\n",
       "    <tr>\n",
       "      <th>4</th>\n",
       "      <td>1028</td>\n",
       "      <td>47.727273</td>\n",
       "    </tr>\n",
       "    <tr>\n",
       "      <th>5</th>\n",
       "      <td>1128</td>\n",
       "      <td>54.000000</td>\n",
       "    </tr>\n",
       "    <tr>\n",
       "      <th>6</th>\n",
       "      <td>1063</td>\n",
       "      <td>83.500000</td>\n",
       "    </tr>\n",
       "    <tr>\n",
       "      <th>7</th>\n",
       "      <td>1186</td>\n",
       "      <td>91.000000</td>\n",
       "    </tr>\n",
       "    <tr>\n",
       "      <th>8</th>\n",
       "      <td>1407</td>\n",
       "      <td>100.000000</td>\n",
       "    </tr>\n",
       "    <tr>\n",
       "      <th>9</th>\n",
       "      <td>1351</td>\n",
       "      <td>102.333333</td>\n",
       "    </tr>\n",
       "    <tr>\n",
       "      <th>10</th>\n",
       "      <td>1229</td>\n",
       "      <td>107.000000</td>\n",
       "    </tr>\n",
       "    <tr>\n",
       "      <th>11</th>\n",
       "      <td>1303</td>\n",
       "      <td>118.000000</td>\n",
       "    </tr>\n",
       "    <tr>\n",
       "      <th>12</th>\n",
       "      <td>1000</td>\n",
       "      <td>124.000000</td>\n",
       "    </tr>\n",
       "    <tr>\n",
       "      <th>13</th>\n",
       "      <td>1253</td>\n",
       "      <td>131.000000</td>\n",
       "    </tr>\n",
       "    <tr>\n",
       "      <th>14</th>\n",
       "      <td>1096</td>\n",
       "      <td>141.000000</td>\n",
       "    </tr>\n",
       "    <tr>\n",
       "      <th>15</th>\n",
       "      <td>1135</td>\n",
       "      <td>142.000000</td>\n",
       "    </tr>\n",
       "    <tr>\n",
       "      <th>16</th>\n",
       "      <td>1405</td>\n",
       "      <td>152.000000</td>\n",
       "    </tr>\n",
       "    <tr>\n",
       "      <th>17</th>\n",
       "      <td>1458</td>\n",
       "      <td>153.166667</td>\n",
       "    </tr>\n",
       "    <tr>\n",
       "      <th>18</th>\n",
       "      <td>1026</td>\n",
       "      <td>178.500000</td>\n",
       "    </tr>\n",
       "    <tr>\n",
       "      <th>19</th>\n",
       "      <td>1224</td>\n",
       "      <td>180.000000</td>\n",
       "    </tr>\n",
       "    <tr>\n",
       "      <th>20</th>\n",
       "      <td>1043</td>\n",
       "      <td>188.142857</td>\n",
       "    </tr>\n",
       "    <tr>\n",
       "      <th>21</th>\n",
       "      <td>1107</td>\n",
       "      <td>189.500000</td>\n",
       "    </tr>\n",
       "    <tr>\n",
       "      <th>22</th>\n",
       "      <td>1190</td>\n",
       "      <td>198.000000</td>\n",
       "    </tr>\n",
       "    <tr>\n",
       "      <th>23</th>\n",
       "      <td>1311</td>\n",
       "      <td>199.857143</td>\n",
       "    </tr>\n",
       "    <tr>\n",
       "      <th>24</th>\n",
       "      <td>1403</td>\n",
       "      <td>201.800000</td>\n",
       "    </tr>\n",
       "    <tr>\n",
       "      <th>25</th>\n",
       "      <td>1088</td>\n",
       "      <td>202.625000</td>\n",
       "    </tr>\n",
       "    <tr>\n",
       "      <th>26</th>\n",
       "      <td>1435</td>\n",
       "      <td>219.000000</td>\n",
       "    </tr>\n",
       "    <tr>\n",
       "      <th>27</th>\n",
       "      <td>1013</td>\n",
       "      <td>219.000000</td>\n",
       "    </tr>\n",
       "    <tr>\n",
       "      <th>28</th>\n",
       "      <td>1454</td>\n",
       "      <td>220.166667</td>\n",
       "    </tr>\n",
       "    <tr>\n",
       "      <th>29</th>\n",
       "      <td>1155</td>\n",
       "      <td>223.818182</td>\n",
       "    </tr>\n",
       "    <tr>\n",
       "      <th>30</th>\n",
       "      <td>1477</td>\n",
       "      <td>225.666667</td>\n",
       "    </tr>\n",
       "    <tr>\n",
       "      <th>31</th>\n",
       "      <td>1442</td>\n",
       "      <td>236.000000</td>\n",
       "    </tr>\n",
       "    <tr>\n",
       "      <th>32</th>\n",
       "      <td>1384</td>\n",
       "      <td>238.571429</td>\n",
       "    </tr>\n",
       "    <tr>\n",
       "      <th>33</th>\n",
       "      <td>1133</td>\n",
       "      <td>240.666667</td>\n",
       "    </tr>\n",
       "    <tr>\n",
       "      <th>34</th>\n",
       "      <td>1333</td>\n",
       "      <td>243.000000</td>\n",
       "    </tr>\n",
       "    <tr>\n",
       "      <th>35</th>\n",
       "      <td>1062</td>\n",
       "      <td>248.500000</td>\n",
       "    </tr>\n",
       "    <tr>\n",
       "      <th>36</th>\n",
       "      <td>1188</td>\n",
       "      <td>261.000000</td>\n",
       "    </tr>\n",
       "    <tr>\n",
       "      <th>37</th>\n",
       "      <td>1395</td>\n",
       "      <td>263.000000</td>\n",
       "    </tr>\n",
       "    <tr>\n",
       "      <th>38</th>\n",
       "      <td>1296</td>\n",
       "      <td>271.333333</td>\n",
       "    </tr>\n",
       "    <tr>\n",
       "      <th>39</th>\n",
       "      <td>1475</td>\n",
       "      <td>279.500000</td>\n",
       "    </tr>\n",
       "    <tr>\n",
       "      <th>40</th>\n",
       "      <td>1482</td>\n",
       "      <td>280.333333</td>\n",
       "    </tr>\n",
       "    <tr>\n",
       "      <th>41</th>\n",
       "      <td>1453</td>\n",
       "      <td>284.000000</td>\n",
       "    </tr>\n",
       "    <tr>\n",
       "      <th>42</th>\n",
       "      <td>1211</td>\n",
       "      <td>286.666667</td>\n",
       "    </tr>\n",
       "    <tr>\n",
       "      <th>43</th>\n",
       "      <td>1420</td>\n",
       "      <td>289.000000</td>\n",
       "    </tr>\n",
       "    <tr>\n",
       "      <th>44</th>\n",
       "      <td>1422</td>\n",
       "      <td>292.000000</td>\n",
       "    </tr>\n",
       "    <tr>\n",
       "      <th>45</th>\n",
       "      <td>1409</td>\n",
       "      <td>299.000000</td>\n",
       "    </tr>\n",
       "    <tr>\n",
       "      <th>46</th>\n",
       "      <td>1154</td>\n",
       "      <td>299.333333</td>\n",
       "    </tr>\n",
       "    <tr>\n",
       "      <th>47</th>\n",
       "      <td>1497</td>\n",
       "      <td>300.000000</td>\n",
       "    </tr>\n",
       "    <tr>\n",
       "      <th>48</th>\n",
       "      <td>1363</td>\n",
       "      <td>301.500000</td>\n",
       "    </tr>\n",
       "    <tr>\n",
       "      <th>49</th>\n",
       "      <td>1388</td>\n",
       "      <td>302.000000</td>\n",
       "    </tr>\n",
       "  </tbody>\n",
       "</table style=\"display:inline\"></td></th><th style=\"text-align:center\"><td style=\"vertical-align:top\"><h2 style=\"text-align: center;\">sms</h2><table style=\"display:inline\" border=\"1\" class=\"dataframe\">\n",
       "  <thead>\n",
       "    <tr style=\"text-align: right;\">\n",
       "      <th></th>\n",
       "      <th>user_id</th>\n",
       "      <th>Mean_msg</th>\n",
       "    </tr>\n",
       "  </thead>\n",
       "  <tbody>\n",
       "    <tr>\n",
       "      <th>0</th>\n",
       "      <td>1403</td>\n",
       "      <td>0.000000</td>\n",
       "    </tr>\n",
       "    <tr>\n",
       "      <th>1</th>\n",
       "      <td>1459</td>\n",
       "      <td>0.000000</td>\n",
       "    </tr>\n",
       "    <tr>\n",
       "      <th>2</th>\n",
       "      <td>1426</td>\n",
       "      <td>0.000000</td>\n",
       "    </tr>\n",
       "    <tr>\n",
       "      <th>3</th>\n",
       "      <td>1063</td>\n",
       "      <td>0.000000</td>\n",
       "    </tr>\n",
       "    <tr>\n",
       "      <th>4</th>\n",
       "      <td>1150</td>\n",
       "      <td>0.000000</td>\n",
       "    </tr>\n",
       "    <tr>\n",
       "      <th>5</th>\n",
       "      <td>1074</td>\n",
       "      <td>0.000000</td>\n",
       "    </tr>\n",
       "    <tr>\n",
       "      <th>6</th>\n",
       "      <td>1317</td>\n",
       "      <td>0.000000</td>\n",
       "    </tr>\n",
       "    <tr>\n",
       "      <th>7</th>\n",
       "      <td>1390</td>\n",
       "      <td>0.000000</td>\n",
       "    </tr>\n",
       "    <tr>\n",
       "      <th>8</th>\n",
       "      <td>1085</td>\n",
       "      <td>0.000000</td>\n",
       "    </tr>\n",
       "    <tr>\n",
       "      <th>9</th>\n",
       "      <td>1311</td>\n",
       "      <td>0.000000</td>\n",
       "    </tr>\n",
       "    <tr>\n",
       "      <th>10</th>\n",
       "      <td>1135</td>\n",
       "      <td>0.000000</td>\n",
       "    </tr>\n",
       "    <tr>\n",
       "      <th>11</th>\n",
       "      <td>1389</td>\n",
       "      <td>0.000000</td>\n",
       "    </tr>\n",
       "    <tr>\n",
       "      <th>12</th>\n",
       "      <td>1436</td>\n",
       "      <td>0.000000</td>\n",
       "    </tr>\n",
       "    <tr>\n",
       "      <th>13</th>\n",
       "      <td>1282</td>\n",
       "      <td>0.000000</td>\n",
       "    </tr>\n",
       "    <tr>\n",
       "      <th>14</th>\n",
       "      <td>1108</td>\n",
       "      <td>0.000000</td>\n",
       "    </tr>\n",
       "    <tr>\n",
       "      <th>15</th>\n",
       "      <td>1427</td>\n",
       "      <td>0.000000</td>\n",
       "    </tr>\n",
       "    <tr>\n",
       "      <th>16</th>\n",
       "      <td>1050</td>\n",
       "      <td>0.000000</td>\n",
       "    </tr>\n",
       "    <tr>\n",
       "      <th>17</th>\n",
       "      <td>1158</td>\n",
       "      <td>0.000000</td>\n",
       "    </tr>\n",
       "    <tr>\n",
       "      <th>18</th>\n",
       "      <td>1041</td>\n",
       "      <td>0.000000</td>\n",
       "    </tr>\n",
       "    <tr>\n",
       "      <th>19</th>\n",
       "      <td>1226</td>\n",
       "      <td>0.000000</td>\n",
       "    </tr>\n",
       "    <tr>\n",
       "      <th>20</th>\n",
       "      <td>1493</td>\n",
       "      <td>0.000000</td>\n",
       "    </tr>\n",
       "    <tr>\n",
       "      <th>21</th>\n",
       "      <td>1202</td>\n",
       "      <td>0.000000</td>\n",
       "    </tr>\n",
       "    <tr>\n",
       "      <th>22</th>\n",
       "      <td>1368</td>\n",
       "      <td>0.000000</td>\n",
       "    </tr>\n",
       "    <tr>\n",
       "      <th>23</th>\n",
       "      <td>1185</td>\n",
       "      <td>0.000000</td>\n",
       "    </tr>\n",
       "    <tr>\n",
       "      <th>24</th>\n",
       "      <td>1490</td>\n",
       "      <td>0.000000</td>\n",
       "    </tr>\n",
       "    <tr>\n",
       "      <th>25</th>\n",
       "      <td>1161</td>\n",
       "      <td>1.000000</td>\n",
       "    </tr>\n",
       "    <tr>\n",
       "      <th>26</th>\n",
       "      <td>1477</td>\n",
       "      <td>1.000000</td>\n",
       "    </tr>\n",
       "    <tr>\n",
       "      <th>27</th>\n",
       "      <td>1420</td>\n",
       "      <td>2.000000</td>\n",
       "    </tr>\n",
       "    <tr>\n",
       "      <th>28</th>\n",
       "      <td>1031</td>\n",
       "      <td>2.333333</td>\n",
       "    </tr>\n",
       "    <tr>\n",
       "      <th>29</th>\n",
       "      <td>1190</td>\n",
       "      <td>3.000000</td>\n",
       "    </tr>\n",
       "    <tr>\n",
       "      <th>30</th>\n",
       "      <td>1231</td>\n",
       "      <td>3.000000</td>\n",
       "    </tr>\n",
       "    <tr>\n",
       "      <th>31</th>\n",
       "      <td>1333</td>\n",
       "      <td>3.500000</td>\n",
       "    </tr>\n",
       "    <tr>\n",
       "      <th>32</th>\n",
       "      <td>1163</td>\n",
       "      <td>6.000000</td>\n",
       "    </tr>\n",
       "    <tr>\n",
       "      <th>33</th>\n",
       "      <td>1047</td>\n",
       "      <td>7.000000</td>\n",
       "    </tr>\n",
       "    <tr>\n",
       "      <th>34</th>\n",
       "      <td>1062</td>\n",
       "      <td>8.000000</td>\n",
       "    </tr>\n",
       "    <tr>\n",
       "      <th>35</th>\n",
       "      <td>1417</td>\n",
       "      <td>8.285714</td>\n",
       "    </tr>\n",
       "    <tr>\n",
       "      <th>36</th>\n",
       "      <td>1432</td>\n",
       "      <td>9.000000</td>\n",
       "    </tr>\n",
       "    <tr>\n",
       "      <th>37</th>\n",
       "      <td>1030</td>\n",
       "      <td>10.000000</td>\n",
       "    </tr>\n",
       "    <tr>\n",
       "      <th>38</th>\n",
       "      <td>1441</td>\n",
       "      <td>11.000000</td>\n",
       "    </tr>\n",
       "    <tr>\n",
       "      <th>39</th>\n",
       "      <td>1000</td>\n",
       "      <td>11.000000</td>\n",
       "    </tr>\n",
       "    <tr>\n",
       "      <th>40</th>\n",
       "      <td>1376</td>\n",
       "      <td>11.000000</td>\n",
       "    </tr>\n",
       "    <tr>\n",
       "      <th>41</th>\n",
       "      <td>1026</td>\n",
       "      <td>11.000000</td>\n",
       "    </tr>\n",
       "    <tr>\n",
       "      <th>42</th>\n",
       "      <td>1478</td>\n",
       "      <td>12.000000</td>\n",
       "    </tr>\n",
       "    <tr>\n",
       "      <th>43</th>\n",
       "      <td>1445</td>\n",
       "      <td>12.000000</td>\n",
       "    </tr>\n",
       "    <tr>\n",
       "      <th>44</th>\n",
       "      <td>1186</td>\n",
       "      <td>13.000000</td>\n",
       "    </tr>\n",
       "    <tr>\n",
       "      <th>45</th>\n",
       "      <td>1351</td>\n",
       "      <td>13.000000</td>\n",
       "    </tr>\n",
       "    <tr>\n",
       "      <th>46</th>\n",
       "      <td>1191</td>\n",
       "      <td>13.000000</td>\n",
       "    </tr>\n",
       "    <tr>\n",
       "      <th>47</th>\n",
       "      <td>1096</td>\n",
       "      <td>14.000000</td>\n",
       "    </tr>\n",
       "    <tr>\n",
       "      <th>48</th>\n",
       "      <td>1214</td>\n",
       "      <td>15.000000</td>\n",
       "    </tr>\n",
       "    <tr>\n",
       "      <th>49</th>\n",
       "      <td>1296</td>\n",
       "      <td>15.000000</td>\n",
       "    </tr>\n",
       "  </tbody>\n",
       "</table style=\"display:inline\"></td></th><th style=\"text-align:center\"><td style=\"vertical-align:top\"><h2 style=\"text-align: center;\">web</h2><table style=\"display:inline\" border=\"1\" class=\"dataframe\">\n",
       "  <thead>\n",
       "    <tr style=\"text-align: right;\">\n",
       "      <th></th>\n",
       "      <th>user_id</th>\n",
       "      <th>Mean_mb</th>\n",
       "    </tr>\n",
       "  </thead>\n",
       "  <tbody>\n",
       "    <tr>\n",
       "      <th>0</th>\n",
       "      <td>1459</td>\n",
       "      <td>5280.500000</td>\n",
       "    </tr>\n",
       "    <tr>\n",
       "      <th>1</th>\n",
       "      <td>1043</td>\n",
       "      <td>5287.142857</td>\n",
       "    </tr>\n",
       "    <tr>\n",
       "      <th>2</th>\n",
       "      <td>1126</td>\n",
       "      <td>5498.285714</td>\n",
       "    </tr>\n",
       "    <tr>\n",
       "      <th>3</th>\n",
       "      <td>1460</td>\n",
       "      <td>5535.500000</td>\n",
       "    </tr>\n",
       "    <tr>\n",
       "      <th>4</th>\n",
       "      <td>1435</td>\n",
       "      <td>5602.000000</td>\n",
       "    </tr>\n",
       "    <tr>\n",
       "      <th>5</th>\n",
       "      <td>1303</td>\n",
       "      <td>5678.000000</td>\n",
       "    </tr>\n",
       "    <tr>\n",
       "      <th>6</th>\n",
       "      <td>1086</td>\n",
       "      <td>5945.000000</td>\n",
       "    </tr>\n",
       "    <tr>\n",
       "      <th>7</th>\n",
       "      <td>1185</td>\n",
       "      <td>6838.250000</td>\n",
       "    </tr>\n",
       "    <tr>\n",
       "      <th>8</th>\n",
       "      <td>1132</td>\n",
       "      <td>6966.222222</td>\n",
       "    </tr>\n",
       "    <tr>\n",
       "      <th>9</th>\n",
       "      <td>1144</td>\n",
       "      <td>7004.444444</td>\n",
       "    </tr>\n",
       "    <tr>\n",
       "      <th>10</th>\n",
       "      <td>1204</td>\n",
       "      <td>7692.000000</td>\n",
       "    </tr>\n",
       "    <tr>\n",
       "      <th>11</th>\n",
       "      <td>1403</td>\n",
       "      <td>7906.400000</td>\n",
       "    </tr>\n",
       "    <tr>\n",
       "      <th>12</th>\n",
       "      <td>1373</td>\n",
       "      <td>8219.250000</td>\n",
       "    </tr>\n",
       "    <tr>\n",
       "      <th>13</th>\n",
       "      <td>1196</td>\n",
       "      <td>8615.083333</td>\n",
       "    </tr>\n",
       "    <tr>\n",
       "      <th>14</th>\n",
       "      <td>1433</td>\n",
       "      <td>8798.750000</td>\n",
       "    </tr>\n",
       "    <tr>\n",
       "      <th>15</th>\n",
       "      <td>1028</td>\n",
       "      <td>8800.545455</td>\n",
       "    </tr>\n",
       "    <tr>\n",
       "      <th>16</th>\n",
       "      <td>1211</td>\n",
       "      <td>8975.000000</td>\n",
       "    </tr>\n",
       "    <tr>\n",
       "      <th>17</th>\n",
       "      <td>1230</td>\n",
       "      <td>9083.000000</td>\n",
       "    </tr>\n",
       "    <tr>\n",
       "      <th>18</th>\n",
       "      <td>1329</td>\n",
       "      <td>9335.800000</td>\n",
       "    </tr>\n",
       "    <tr>\n",
       "      <th>19</th>\n",
       "      <td>1158</td>\n",
       "      <td>9476.000000</td>\n",
       "    </tr>\n",
       "    <tr>\n",
       "      <th>20</th>\n",
       "      <td>1282</td>\n",
       "      <td>9829.000000</td>\n",
       "    </tr>\n",
       "    <tr>\n",
       "      <th>21</th>\n",
       "      <td>1057</td>\n",
       "      <td>9947.000000</td>\n",
       "    </tr>\n",
       "    <tr>\n",
       "      <th>22</th>\n",
       "      <td>1038</td>\n",
       "      <td>9982.333333</td>\n",
       "    </tr>\n",
       "    <tr>\n",
       "      <th>23</th>\n",
       "      <td>1426</td>\n",
       "      <td>10017.000000</td>\n",
       "    </tr>\n",
       "    <tr>\n",
       "      <th>24</th>\n",
       "      <td>1384</td>\n",
       "      <td>10110.000000</td>\n",
       "    </tr>\n",
       "    <tr>\n",
       "      <th>25</th>\n",
       "      <td>1155</td>\n",
       "      <td>10135.181818</td>\n",
       "    </tr>\n",
       "    <tr>\n",
       "      <th>26</th>\n",
       "      <td>1229</td>\n",
       "      <td>10169.000000</td>\n",
       "    </tr>\n",
       "    <tr>\n",
       "      <th>27</th>\n",
       "      <td>1033</td>\n",
       "      <td>10241.750000</td>\n",
       "    </tr>\n",
       "    <tr>\n",
       "      <th>28</th>\n",
       "      <td>1013</td>\n",
       "      <td>10607.000000</td>\n",
       "    </tr>\n",
       "    <tr>\n",
       "      <th>29</th>\n",
       "      <td>1490</td>\n",
       "      <td>10834.500000</td>\n",
       "    </tr>\n",
       "    <tr>\n",
       "      <th>30</th>\n",
       "      <td>1246</td>\n",
       "      <td>11021.875000</td>\n",
       "    </tr>\n",
       "    <tr>\n",
       "      <th>31</th>\n",
       "      <td>1085</td>\n",
       "      <td>11258.600000</td>\n",
       "    </tr>\n",
       "    <tr>\n",
       "      <th>32</th>\n",
       "      <td>1380</td>\n",
       "      <td>11424.250000</td>\n",
       "    </tr>\n",
       "    <tr>\n",
       "      <th>33</th>\n",
       "      <td>1041</td>\n",
       "      <td>11560.500000</td>\n",
       "    </tr>\n",
       "    <tr>\n",
       "      <th>34</th>\n",
       "      <td>1163</td>\n",
       "      <td>11617.400000</td>\n",
       "    </tr>\n",
       "    <tr>\n",
       "      <th>35</th>\n",
       "      <td>1061</td>\n",
       "      <td>11644.000000</td>\n",
       "    </tr>\n",
       "    <tr>\n",
       "      <th>36</th>\n",
       "      <td>1077</td>\n",
       "      <td>11656.250000</td>\n",
       "    </tr>\n",
       "    <tr>\n",
       "      <th>37</th>\n",
       "      <td>1389</td>\n",
       "      <td>11672.375000</td>\n",
       "    </tr>\n",
       "    <tr>\n",
       "      <th>38</th>\n",
       "      <td>1383</td>\n",
       "      <td>11852.000000</td>\n",
       "    </tr>\n",
       "    <tr>\n",
       "      <th>39</th>\n",
       "      <td>1011</td>\n",
       "      <td>11895.000000</td>\n",
       "    </tr>\n",
       "    <tr>\n",
       "      <th>40</th>\n",
       "      <td>1417</td>\n",
       "      <td>11936.000000</td>\n",
       "    </tr>\n",
       "    <tr>\n",
       "      <th>41</th>\n",
       "      <td>1441</td>\n",
       "      <td>12095.000000</td>\n",
       "    </tr>\n",
       "    <tr>\n",
       "      <th>42</th>\n",
       "      <td>1477</td>\n",
       "      <td>12183.666667</td>\n",
       "    </tr>\n",
       "    <tr>\n",
       "      <th>43</th>\n",
       "      <td>1188</td>\n",
       "      <td>12188.000000</td>\n",
       "    </tr>\n",
       "    <tr>\n",
       "      <th>44</th>\n",
       "      <td>1454</td>\n",
       "      <td>12210.166667</td>\n",
       "    </tr>\n",
       "    <tr>\n",
       "      <th>45</th>\n",
       "      <td>1008</td>\n",
       "      <td>12229.666667</td>\n",
       "    </tr>\n",
       "    <tr>\n",
       "      <th>46</th>\n",
       "      <td>1039</td>\n",
       "      <td>12460.000000</td>\n",
       "    </tr>\n",
       "    <tr>\n",
       "      <th>47</th>\n",
       "      <td>1376</td>\n",
       "      <td>12706.000000</td>\n",
       "    </tr>\n",
       "    <tr>\n",
       "      <th>48</th>\n",
       "      <td>1351</td>\n",
       "      <td>12831.666667</td>\n",
       "    </tr>\n",
       "    <tr>\n",
       "      <th>49</th>\n",
       "      <td>1128</td>\n",
       "      <td>12897.714286</td>\n",
       "    </tr>\n",
       "  </tbody>\n",
       "</table style=\"display:inline\"></td></th>"
      ]
     },
     "metadata": {},
     "output_type": "display_data"
    }
   ],
   "source": [
    "#extracting the data per user from the ultimate plan\n",
    "ultimate_plan_calls = ultimate_plan.groupby('user_id')['duration'].agg(Mean_call='mean').sort_values(by='Mean_call').reset_index()\n",
    "ultimate_plan_sms = ultimate_plan.groupby('user_id')['sms_id'].agg(Mean_msg='mean').sort_values(by='Mean_msg').reset_index()\n",
    "ultimate_plan_web = ultimate_plan.groupby('user_id')['web_gb'].agg(Mean_mb='mean').sort_values(by='Mean_mb').reset_index()\n",
    "\n",
    "display_side_by_side(ultimate_plan_calls.head(50),ultimate_plan_sms.head(50),ultimate_plan_web.head(50),titles=['calls','sms','web'])\n"
   ]
  },
  {
   "cell_type": "markdown",
   "metadata": {},
   "source": [
    "#### Ploting Histogram per category by user"
   ]
  },
  {
   "cell_type": "code",
   "execution_count": 47,
   "metadata": {
    "scrolled": true
   },
   "outputs": [
    {
     "data": {
      "image/png": "[encoded data removed]",
      "text/plain": [
       "<Figure size 432x288 with 1 Axes>"
      ]
     },
     "metadata": {},
     "output_type": "display_data"
    }
   ],
   "source": [
    "\n",
    "\n",
    "ultimate_plan_calls['Mean_call'].plot(kind='hist',subplots=True,sharex=True,sharey=True,title='Avarage users Call Duration  in Ultimate plan')\n",
    "plt.show()"
   ]
  },
  {
   "cell_type": "code",
   "execution_count": 49,
   "metadata": {},
   "outputs": [
    {
     "data": {
      "image/png": "[encoded data removed]",
      "text/plain": [
       "<Figure size 432x288 with 1 Axes>"
      ]
     },
     "metadata": {},
     "output_type": "display_data"
    }
   ],
   "source": [
    "\n",
    "ultimate_plan_sms['Mean_msg'].plot(kind='hist',subplots=True,sharex=True,sharey=True,title='Avarage users Masseges  in Ultimate plan')\n",
    "plt.show()"
   ]
  },
  {
   "cell_type": "code",
   "execution_count": 51,
   "metadata": {},
   "outputs": [
    {
     "data": {
      "image/png": "[encoded data removed]",
      "text/plain": [
       "<Figure size 432x288 with 1 Axes>"
      ]
     },
     "metadata": {},
     "output_type": "display_data"
    }
   ],
   "source": [
    "\n",
    "ultimate_plan_web['Mean_mb'].plot(kind='hist',subplots=True,sharex=True,sharey=True,title='Avarage users Web usage in Ultimate plan')\n",
    "plt.show()"
   ]
  },
  {
   "cell_type": "markdown",
   "metadata": {},
   "source": [
    "##### Intermidiate conclusion for the Ultimate Plan population\n",
    "\n",
    "Frome the graphes it seems that we have a change in the web usage of the population in contrast to the surf plan users.\n",
    "like in the surf plan population most users in the Ultimate plan population ,the phone calls users tend to spread very close to normal distribution,(ranging from 200 to about 600 minutes a month), yet there are some users that speeks more then others significly which give us a littele skew to the right where most outlires probably.(over 700-1000 minutes per user).\n",
    "\n",
    "On the massages side we can see taht there are definatly oultliers and most of the users are not tending to use this servise much like in the general data(from 0 to 60 masages per month). and there are those that take it as a tool and use it more, a fact that gives us a positive skewed graph.(up to almost 160 massages per month)\n",
    "\n",
    "On the wed services we can see that there no negative outlieres . and mean of the distribution is about 15000 MB with the Max of over 30,000 MB ,unlike the Surf population, here the distribution is almis normal though the edges are thin on the right side, a fact that gives us a positive skewed graph.\n",
    "\n",
    "But, even with the similarities between this group and the surfe group , this groupp is responsible to most of the revenue from calls and masseges. "
   ]
  },
  {
   "cell_type": "markdown",
   "metadata": {},
   "source": [
    "#### Deferencess of  bothe groups  - general revanue including the Base payment of the program. "
   ]
  },
  {
   "cell_type": "code",
   "execution_count": 53,
   "metadata": {
    "scrolled": true
   },
   "outputs": [
    {
     "data": {
      "image/png": "[encoded data removed]",
      "text/plain": [
       "<Figure size 432x288 with 1 Axes>"
      ]
     },
     "metadata": {},
     "output_type": "display_data"
    }
   ],
   "source": [
    "\n",
    "\n",
    "sns.histplot(merged_full_plan,x='total_payment',hue='plan').set(title='Ultimate Vs Surf revenue distribution')\n",
    "plt.show()"
   ]
  },
  {
   "cell_type": "markdown",
   "metadata": {},
   "source": [
    "##### The diferences between the two groups reveue - without the Base paymant, only the diverstion payment"
   ]
  },
  {
   "cell_type": "code",
   "execution_count": 55,
   "metadata": {},
   "outputs": [
    {
     "data": {
      "image/png": "[encoded data removed]",
      "text/plain": [
       "<Figure size 432x288 with 1 Axes>"
      ]
     },
     "metadata": {},
     "output_type": "display_data"
    }
   ],
   "source": [
    "\n",
    "sns.histplot(merged_full_plan,x='total_dif_rev',hue='plan').set(title='Ultimate Vs Surf revenue minus base plan payments distribution')\n",
    "plt.show()"
   ]
  },
  {
   "cell_type": "markdown",
   "metadata": {},
   "source": [
    "**We see that with or without the basic payment of the program ,the Ultimate plan revenue is much higher then this of the Surf plan.\n",
    "The mean of the Ultimate is much more centered around the 150 per user(without calculating the base payment) , and the Surf mean is around the 20 (without calculating the base payment).**\n",
    "\n",
    "**When we calculate both revenues with the base payment, Ultimate mean is at almost 250 , and the Surf is around 50-75.**"
   ]
  },
  {
   "cell_type": "markdown",
   "metadata": {},
   "source": [
    "#### The data variance of the profit \n",
    "\n",
    "**we saw that with or without the base payment the revenue from the Ultimate plan is the highest.Further more, The distribution of the revenue is closer to standart then that of the Surf plan users.**\n",
    "\n",
    "**The co-variance will give us a mesure of how the profit veries in each group. That will get us more closer to answere , which prepaid program brings more profit.**"
   ]
  },
  {
   "cell_type": "code",
   "execution_count": 57,
   "metadata": {},
   "outputs": [
    {
     "data": {
      "text/plain": [
       "0.6607383104197263"
      ]
     },
     "execution_count": 57,
     "metadata": {},
     "output_type": "execute_result"
    }
   ],
   "source": [
    "#co-variance of the profit in the general data\n",
    "merged_full_plan['total_payment'].std()/merged_full_plan['total_payment'].mean()"
   ]
  },
  {
   "cell_type": "code",
   "execution_count": 58,
   "metadata": {
    "scrolled": true
   },
   "outputs": [
    {
     "data": {
      "text/plain": [
       "113.10295366167723"
      ]
     },
     "execution_count": 58,
     "metadata": {},
     "output_type": "execute_result"
    }
   ],
   "source": [
    "#standard deviation of profit in the general population\n",
    "merged_full_plan['total_payment'].std()"
   ]
  },
  {
   "cell_type": "code",
   "execution_count": 59,
   "metadata": {},
   "outputs": [
    {
     "data": {
      "text/plain": [
       "171.17662450937635"
      ]
     },
     "execution_count": 59,
     "metadata": {},
     "output_type": "execute_result"
    }
   ],
   "source": [
    "#Mean of profit in the general population\n",
    "merged_full_plan['total_payment'].mean()"
   ]
  },
  {
   "cell_type": "markdown",
   "metadata": {},
   "source": [
    "**The Mean for the general population anf co variance are with small difference in change between the general population, But we know the the Surf group has positive skew, that take thes values and place them closer to the general mean**\n",
    "\n",
    "**Let us see the covariance of bothe groups together**"
   ]
  },
  {
   "cell_type": "code",
   "execution_count": 60,
   "metadata": {},
   "outputs": [
    {
     "data": {
      "text/plain": [
       "plan\n",
       "surf        0.767425\n",
       "ultimate    0.376253\n",
       "Name: total_payment, dtype: float64"
      ]
     },
     "execution_count": 60,
     "metadata": {},
     "output_type": "execute_result"
    }
   ],
   "source": [
    "#finding the co-variance of bothe plans\n",
    "merged_full_plan.groupby(['plan'])['total_payment'].std()/merged_full_plan.groupby(['plan'])['total_payment'].mean()"
   ]
  },
  {
   "cell_type": "markdown",
   "metadata": {},
   "source": [
    "##### The variance of the total profit\n",
    "\n",
    "**When checking the co-variance of both groupse (compared to the general population), we see that the profit veries little , but with the Ultimate groupe it is much closer to the Mean for each user , where as for the Surf group , it veries more, but yet it is not a wide veriation.**\n",
    "\n",
    "**This is another point that support the data we have that the Ultimate group generates more profit then the Surf group.**"
   ]
  },
  {
   "cell_type": "markdown",
   "metadata": {},
   "source": [
    "### Box ploting for both groups , as another measure of profit distreburtion\n",
    "\n",
    "**Lets see all the above in a box plote graph**"
   ]
  },
  {
   "cell_type": "code",
   "execution_count": 61,
   "metadata": {},
   "outputs": [
    {
     "data": {
      "image/png": "[encoded data removed]",
      "text/plain": [
       "<Figure size 720x576 with 1 Axes>"
      ]
     },
     "metadata": {},
     "output_type": "display_data"
    }
   ],
   "source": [
    "#Box plot for the general data\n",
    "fig, ax = plt.subplots(figsize=(10,8))\n",
    "\n",
    "## New Ver 2 ##\n",
    "sns.boxplot(x='plan',  y='total_payment',\n",
    "                 data=merged_full_plan ,width = 0.7 ,\n",
    "           ).set_title('Surf Vs Ultimate plans based on total revanue')\n",
    "plt.show()\n",
    "\n",
    "##Old ver 1##\n",
    "#sns.boxplot(x='plan',  y='total_payment',\n",
    "#                 data=merged_full_plan ,width = 0.7 ,\n",
    "#           )"
   ]
  },
  {
   "cell_type": "markdown",
   "metadata": {},
   "source": [
    "#### Intermediate conclusion based on our data ploting\n",
    "\n",
    "**We see that the plots shows a significant diffrance in the total revanue of bothe groups.**\n",
    "\n",
    "**in the boxplot we can clearly see that the distribution of the Ultimate plan group , pays in avarage more then 200, and the avarage of the Surf plan is about 100. both are very close to a normal distribution and the avarage from Surf group can be very close to reality, even with the outliers**"
   ]
  },
  {
   "cell_type": "markdown",
   "metadata": {},
   "source": [
    "### Ploting an avarage revenue for NY and NJ areas\n",
    "\n",
    "**That part is to see if there are different usege for differend areas**"
   ]
  },
  {
   "cell_type": "markdown",
   "metadata": {},
   "source": [
    "#### Grouping users with from both of thease areas to one table"
   ]
  },
  {
   "cell_type": "code",
   "execution_count": 62,
   "metadata": {},
   "outputs": [],
   "source": [
    "#define a func to extract the area from the address we have \n",
    "def cov_to_str(str_cov):\n",
    "    \n",
    "    pos = str(str_cov)\n",
    "    return(pos)\n",
    "\n",
    "def return_area(row):\n",
    "    \n",
    "    st_lst = cov_to_str(row['city'])\n",
    "    lst_st = st_lst.split()\n",
    "    lst1 = ''.join(lst_st[-2:][0]) #return the 2 letter area\n",
    "    if ('NY'in lst1) or ('NJ' in lst1):\n",
    "        return('NY-NJ')\n",
    "    else:\n",
    "        return('other')\n",
    "    \n",
    "#creating the region column\n",
    "merged_full_plan['region']= merged_full_plan.apply(return_area , axis=1)"
   ]
  },
  {
   "cell_type": "markdown",
   "metadata": {},
   "source": [
    "#### The Ploting of the two groups"
   ]
  },
  {
   "cell_type": "code",
   "execution_count": 63,
   "metadata": {},
   "outputs": [
    {
     "data": {
      "text/html": [
       "<div>\n",
       "<style scoped>\n",
       "    .dataframe tbody tr th:only-of-type {\n",
       "        vertical-align: middle;\n",
       "    }\n",
       "\n",
       "    .dataframe tbody tr th {\n",
       "        vertical-align: top;\n",
       "    }\n",
       "\n",
       "    .dataframe thead th {\n",
       "        text-align: right;\n",
       "    }\n",
       "</style>\n",
       "<table border=\"1\" class=\"dataframe\">\n",
       "  <thead>\n",
       "    <tr style=\"text-align: right;\">\n",
       "      <th></th>\n",
       "      <th>count</th>\n",
       "      <th>mean</th>\n",
       "      <th>std</th>\n",
       "      <th>min</th>\n",
       "      <th>25%</th>\n",
       "      <th>50%</th>\n",
       "      <th>75%</th>\n",
       "      <th>max</th>\n",
       "    </tr>\n",
       "    <tr>\n",
       "      <th>region</th>\n",
       "      <th></th>\n",
       "      <th></th>\n",
       "      <th></th>\n",
       "      <th></th>\n",
       "      <th></th>\n",
       "      <th></th>\n",
       "      <th></th>\n",
       "      <th></th>\n",
       "    </tr>\n",
       "  </thead>\n",
       "  <tbody>\n",
       "    <tr>\n",
       "      <th>NY-NJ</th>\n",
       "      <td>488.0</td>\n",
       "      <td>153.456967</td>\n",
       "      <td>102.745245</td>\n",
       "      <td>20.0</td>\n",
       "      <td>66.0</td>\n",
       "      <td>130.0</td>\n",
       "      <td>223.0</td>\n",
       "      <td>529.0</td>\n",
       "    </tr>\n",
       "    <tr>\n",
       "      <th>other</th>\n",
       "      <td>1805.0</td>\n",
       "      <td>175.967313</td>\n",
       "      <td>115.303978</td>\n",
       "      <td>21.0</td>\n",
       "      <td>83.0</td>\n",
       "      <td>161.0</td>\n",
       "      <td>253.0</td>\n",
       "      <td>1122.0</td>\n",
       "    </tr>\n",
       "  </tbody>\n",
       "</table>\n",
       "</div>"
      ],
      "text/plain": [
       "         count        mean         std   min   25%    50%    75%     max\n",
       "region                                                                  \n",
       "NY-NJ    488.0  153.456967  102.745245  20.0  66.0  130.0  223.0   529.0\n",
       "other   1805.0  175.967313  115.303978  21.0  83.0  161.0  253.0  1122.0"
      ]
     },
     "execution_count": 63,
     "metadata": {},
     "output_type": "execute_result"
    }
   ],
   "source": [
    "merged_full_plan.groupby('region')['total_payment'].describe()"
   ]
  },
  {
   "cell_type": "markdown",
   "metadata": {},
   "source": [
    "#### Ploting the values"
   ]
  },
  {
   "cell_type": "code",
   "execution_count": 64,
   "metadata": {},
   "outputs": [
    {
     "data": {
      "image/png": "[encoded data removed]",
      "text/plain": [
       "<Figure size 432x288 with 1 Axes>"
      ]
     },
     "metadata": {},
     "output_type": "display_data"
    }
   ],
   "source": [
    "## New ver 2 ##\n",
    "\n",
    "sns.histplot(merged_full_plan,x='total_payment',hue='region').set(title='NY-NJ region Vs All other regions based on Total revenues distribution')\n",
    "plt.show()"
   ]
  },
  {
   "cell_type": "code",
   "execution_count": 66,
   "metadata": {},
   "outputs": [
    {
     "data": {
      "image/png": "[encoded data removed]",
      "text/plain": [
       "<Figure size 720x576 with 1 Axes>"
      ]
     },
     "metadata": {},
     "output_type": "display_data"
    }
   ],
   "source": [
    "#Box plot for both groups of region\n",
    "fig, ax = plt.subplots(figsize=(10,8))\n",
    "\n",
    "\n",
    "sns.boxplot(x='region',  y='total_payment', hue ='plan',\n",
    "                 data = merged_full_plan ,width = 0.7 ,\n",
    "           ).set_title('Surf Vs Ultimate plans based on total revanue in NY-NJ region and the other regions')\n",
    "plt.show()\n"
   ]
  },
  {
   "cell_type": "code",
   "execution_count": 67,
   "metadata": {
    "scrolled": true
   },
   "outputs": [
    {
     "data": {
      "text/plain": [
       "region  plan    \n",
       "NY-NJ   surf        0.698669\n",
       "        ultimate    0.439310\n",
       "other   surf        0.787708\n",
       "        ultimate    0.366282\n",
       "Name: total_payment, dtype: float64"
      ]
     },
     "execution_count": 67,
     "metadata": {},
     "output_type": "execute_result"
    }
   ],
   "source": [
    "#finding the co-variance of bothe plans\n",
    "merged_full_plan.groupby(['region','plan'])['total_payment'].std()/merged_full_plan.groupby(['region','plan'])['total_payment'].mean()"
   ]
  },
  {
   "cell_type": "markdown",
   "metadata": {},
   "source": [
    "#### Intermediate conclusion\n",
    "**By Looking at the diffrent area groups, I can se consistancy with what we already whitnest and it is that there is no significant change between the area, the means are quit the same for both plans and the behaviuor of the population in both regions resamble.**\n",
    "\n",
    "**The co-variance of the regions did not show apparent change in there is not much varience change and in both groups , thoghe we see outliers that skews the data, theire influance on the variace is minor.**"
   ]
  },
  {
   "cell_type": "markdown",
   "metadata": {},
   "source": [
    "## The hypotheses"
   ]
  },
  {
   "cell_type": "markdown",
   "metadata": {},
   "source": [
    "**### New Ver 2**\n",
    "\n",
    "### Does the cahnge of a plane changes the mean of the total payment?\n",
    "**The Data directs us to the Ultimate plan as the favorit one for being the most profitable of both plans.**\n",
    "\n",
    "**H0 Hypotheses states :**\n",
    "\n",
    "**The reigon will not effect the mean - The mean of revenue in NY-NJ will differ a little from all other regions**\n",
    "\n",
    "**H1 Hypotheses states :** \n",
    "\n",
    "**There is an effect of the region on the avarage revenue - The mean in NY-NJ will differ significally from the mean of the other regions.**"
   ]
  },
  {
   "cell_type": "markdown",
   "metadata": {},
   "source": [
    "### Gether the relevent data from the general data"
   ]
  },
  {
   "cell_type": "code",
   "execution_count": 68,
   "metadata": {},
   "outputs": [],
   "source": [
    "Hyp_data_plan = merged_full_plan[['user_id','monthly_log_date','plan','total_dif_rev','total_payment']]"
   ]
  },
  {
   "cell_type": "markdown",
   "metadata": {},
   "source": [
    "#### Plot the data by plans and total pay for a user\n",
    "\n",
    "**The question is if there is an extra profit in one plane against the other. For this we will need the difference between the total payment , and the base price of the plan**\n",
    "\n"
   ]
  },
  {
   "cell_type": "code",
   "execution_count": 69,
   "metadata": {},
   "outputs": [
    {
     "data": {
      "image/png": "[encoded data removed]",
      "text/plain": [
       "<Figure size 576x504 with 1 Axes>"
      ]
     },
     "metadata": {},
     "output_type": "display_data"
    }
   ],
   "source": [
    "\n",
    "\n",
    "fig, ax = plt.subplots(figsize=(8,7))\n",
    "ax = sns.histplot(Hyp_data_plan, x='total_dif_rev', hue='plan').set_title('Surf Vs Ultimate pland based on revenue of the payments outside the base payments')\n",
    "plt.show()"
   ]
  },
  {
   "cell_type": "markdown",
   "metadata": {},
   "source": [
    "#### Prepare the data sets\n",
    "\n",
    "1- separate the two plans into different datasets\n",
    "\n",
    "2 - we need two samples that are the same size for our check bsed on the \"exrta-money\" each plane brings.\n",
    "rhat mean we need to \n",
    "\n",
    "3 - The skew of the Surf plan will not let us do the comparison fairly , we will need to get rid of the tail we have in the Surf population befor comtinue.\n",
    "\n",
    "4 - put the hypotheses to the test"
   ]
  },
  {
   "cell_type": "code",
   "execution_count": 71,
   "metadata": {},
   "outputs": [],
   "source": [
    "#splitting the data\n",
    "Hyp_data_plan_ultimate = Hyp_data_plan[Hyp_data_plan['plan']=='ultimate']\n",
    "Hyp_data_plan_Surf = Hyp_data_plan[Hyp_data_plan['plan']=='surf']"
   ]
  },
  {
   "cell_type": "code",
   "execution_count": 72,
   "metadata": {},
   "outputs": [
    {
     "data": {
      "text/plain": [
       "0       455\n",
       "19      442\n",
       "20       75\n",
       "26      241\n",
       "27      144\n",
       "       ... \n",
       "2231    269\n",
       "2247    327\n",
       "2287    190\n",
       "2288    132\n",
       "2292    470\n",
       "Name: total_payment, Length: 720, dtype: int64"
      ]
     },
     "execution_count": 72,
     "metadata": {},
     "output_type": "execute_result"
    }
   ],
   "source": [
    "Hyp_data_plan_ultimate['total_payment']"
   ]
  },
  {
   "cell_type": "code",
   "execution_count": 73,
   "metadata": {},
   "outputs": [],
   "source": [
    "#getting rid of the tail in Surf plan\n",
    "Hyp_data_plan_Surf = Hyp_data_plan_Surf.loc[(Hyp_data_plan_Surf['total_payment'] < 200)]"
   ]
  },
  {
   "cell_type": "code",
   "execution_count": 74,
   "metadata": {},
   "outputs": [
    {
     "name": "stdout",
     "output_type": "stream",
     "text": [
      "720\n",
      "1229\n"
     ]
    }
   ],
   "source": [
    "#Preparing the samples\n",
    "print(len(Hyp_data_plan_ultimate))\n",
    "print(len(Hyp_data_plan_Surf))"
   ]
  },
  {
   "cell_type": "code",
   "execution_count": 75,
   "metadata": {},
   "outputs": [],
   "source": [
    "#preparing a sample that will represnt the data\n",
    "Hyp_data_plan_ultimate_sample = Hyp_data_plan_ultimate['total_payment'].sample(500)\n",
    "Hyp_data_plan_Surf_sample = Hyp_data_plan_Surf['total_payment'].sample(500)"
   ]
  },
  {
   "cell_type": "markdown",
   "metadata": {},
   "source": [
    "### Check the statistics\n",
    "**Since we have indipendent values , and since the data we checked earliere have a low variance for both, the alpha we are checking for the Null hypotheses will be alpha = 0.05 **\n",
    "\n",
    "**Both of the values are related because the chack is what will happan to the total_dif_rev if we move from surf plan to ultimate and vers versa**\n",
    "\n",
    "**anything less then that will debunk the theory**\n"
   ]
  },
  {
   "cell_type": "markdown",
   "metadata": {},
   "source": [
    "**New Ver 3**\n",
    "#### Prepare datasets for the Tests( general data and separated data)\n"
   ]
  },
  {
   "cell_type": "code",
   "execution_count": 77,
   "metadata": {},
   "outputs": [],
   "source": [
    "\n",
    "#deviding the full data btween NY area and all others\n",
    "merged_full_plan_NY = merged_full_plan[merged_full_plan['city'].str.contains(\"NY-NJ\")]['total_payment']\n",
    "merged_full_plan_Others = merged_full_plan[~merged_full_plan['city'].str.contains(\"NY-NJ\")]['total_payment']\n",
    "\n",
    "#two separate datasets for the hypotheses full check withe regional divission between NY and all other region\n",
    "\n",
    "Hyp_data_plan_ultimate_test = merged_full_plan[merged_full_plan['plan']=='ultimate']\n",
    "Hyp_data_plan_ultimate_NY_NJ_test = Hyp_data_plan_ultimate_test[(Hyp_data_plan_ultimate_test['region']) =='NY-NJ']\n",
    "Hyp_data_plan_ultimate_Other_test = Hyp_data_plan_ultimate_test[(Hyp_data_plan_ultimate_test['region'])!='NY-NJ']\n",
    "\n",
    "Hyp_data_plan_Surf_test = merged_full_plan[merged_full_plan['plan']=='surf']\n",
    "Hyp_data_plan_Surf_NY_NJ_test = Hyp_data_plan_Surf_test[(Hyp_data_plan_Surf_test['region'])=='NY-NJ']\n",
    "Hyp_data_plan_Surf_Other_test = Hyp_data_plan_Surf_test[(Hyp_data_plan_Surf_test['region'])!='NY-NJ']"
   ]
  },
  {
   "cell_type": "markdown",
   "metadata": {},
   "source": [
    "#### Test The influance of the plan in the general data without regional divission\n",
    "\n",
    "That test is to see if there is any influance of the plan it self , before lookin on the diffrences between the seperated groups"
   ]
  },
  {
   "cell_type": "code",
   "execution_count": 78,
   "metadata": {},
   "outputs": [
    {
     "name": "stdout",
     "output_type": "stream",
     "text": [
      "The pvalue of total_payment vs total_payment datasets is :2.594841327071118e-160 \n",
      "Reject H0:The posibility of average diferance of sample 1 is not equal to average difference of sample 2 is less then 5%\n"
     ]
    }
   ],
   "source": [
    "\n",
    "#T-test for the two samples of the surf plan vs the ultimate one \n",
    "#Is there is a conecction less then 0.05 then the H0 can be disproofed \n",
    "#\n",
    "alpha = 0.05\n",
    "\n",
    "p_value = stats.ttest_ind(Hyp_data_plan_Surf_sample,Hyp_data_plan_ultimate_sample)\n",
    "print('The pvalue of {} vs {} datasets is :{} '.format(Hyp_data_plan_Surf_sample.name ,Hyp_data_plan_ultimate_sample.name ,p_value.pvalue))\n",
    "\n",
    "if p_value.pvalue < alpha:\n",
    "    print('Reject H0:The posibility of average diferance of sample 1 is not equal to average difference of sample 2 is less then 5%' )\n",
    "else:\n",
    "    print( \"Fail to Reject H0: We don't have enough evidence to say The posibility of average diferance of sample 1 is not equal to average difference of sample 2\") "
   ]
  },
  {
   "cell_type": "markdown",
   "metadata": {},
   "source": [
    "\n",
    "***The conclusion from this test is that there is a veriation in the average of total payents Between the two plans***\n",
    "\n",
    "**There for we should see differences between all groups.**"
   ]
  },
  {
   "cell_type": "markdown",
   "metadata": {},
   "source": [
    "#### Test The influance of the Region in the general data without plan divission\n",
    "\n",
    "That test is to see if there is any influance of the region where the customer lives, on the total payment , before lookin on the diffrences between the seperated groups by region and plan"
   ]
  },
  {
   "cell_type": "code",
   "execution_count": 79,
   "metadata": {},
   "outputs": [],
   "source": [
    "#define a function to do the ttest automaticaly\n",
    "#normaly we will use alpha=0.05, but here we wanted to be more sure of the outcome.\n",
    "\n",
    "def t_test(sample1,sample2,alpha=0.05):\n",
    "    \n",
    "   \n",
    "    p_value=stats.ttest_ind(sample1,sample2)\n",
    "    print('The pvalue of {} vs {} datasets is :{} '.format(sample1.name ,sample2.name ,p_value.pvalue))\n",
    "    \n",
    "    if p_value.pvalue<alpha:\n",
    "        print('Reject H0:The posibility of average diferance of sample 1 is not equal to average difference of sample 2 is less then 5%' )\n",
    "    else:\n",
    "        print( \"Fail to Reject H0: We don't have enough evidence to say The posibility of average diferance of sample 1 is not equal to average difference of sample 2\") "
   ]
  },
  {
   "cell_type": "code",
   "execution_count": 80,
   "metadata": {
    "scrolled": true
   },
   "outputs": [
    {
     "name": "stdout",
     "output_type": "stream",
     "text": [
      "resault for General data NY vs Others\n",
      "The pvalue of total_payment vs total_payment datasets is :2.648422882585058e-07 \n",
      "Reject H0:The posibility of average diferance of sample 1 is not equal to average difference of sample 2 is less then 5%\n"
     ]
    }
   ],
   "source": [
    "\n",
    "print('resault for General data NY vs Others')\n",
    "t_test(merged_full_plan_NY, merged_full_plan_Others ,alpha=0.05)\n"
   ]
  },
  {
   "cell_type": "markdown",
   "metadata": {},
   "source": [
    "\n",
    "**There is a differance between the total payment in one region to the total paymrnt in another region ,That meens that there might be an effect on the total payment acording to the place where the customer lives.**"
   ]
  },
  {
   "cell_type": "markdown",
   "metadata": {},
   "source": [
    "### Test all other parameters for the H0 hypotheses\n",
    "\n",
    "**It simes hat there is a regional connection between the revanue and the total revanue. \n",
    "We should see it in all parameter (including the STD and the mean and median wheech we saw in a table earlier)\n",
    "of this relationship between region and total_Value .\n",
    "If we genarate a comparison between the two programs in NY region and the other regions we should be able to see it**"
   ]
  },
  {
   "cell_type": "code",
   "execution_count": 81,
   "metadata": {},
   "outputs": [
    {
     "name": "stdout",
     "output_type": "stream",
     "text": [
      "Result for : duration\n",
      "resault for ULTIMATE plan NY vs Others\n",
      "The pvalue of duration vs duration datasets is :0.00018390255828303287 \n",
      "Reject H0:The posibility of average diferance of sample 1 is not equal to average difference of sample 2 is less then 5%\n",
      "resault for SURF plan NY vs Others\n",
      "The pvalue of duration vs duration datasets is :0.29795751476674154 \n",
      "Fail to Reject H0: We don't have enough evidence to say The posibility of average diferance of sample 1 is not equal to average difference of sample 2\n",
      "----------------------------\n",
      "\n",
      "Result for : sms_id\n",
      "resault for ULTIMATE plan NY vs Others\n",
      "The pvalue of sms_id vs sms_id datasets is :0.0008901395287702769 \n",
      "Reject H0:The posibility of average diferance of sample 1 is not equal to average difference of sample 2 is less then 5%\n",
      "resault for SURF plan NY vs Others\n",
      "The pvalue of sms_id vs sms_id datasets is :0.001702375426120914 \n",
      "Reject H0:The posibility of average diferance of sample 1 is not equal to average difference of sample 2 is less then 5%\n",
      "----------------------------\n",
      "\n",
      "Result for : mb_used\n",
      "resault for ULTIMATE plan NY vs Others\n",
      "The pvalue of mb_used vs mb_used datasets is :8.031160265038696e-05 \n",
      "Reject H0:The posibility of average diferance of sample 1 is not equal to average difference of sample 2 is less then 5%\n",
      "resault for SURF plan NY vs Others\n",
      "The pvalue of mb_used vs mb_used datasets is :0.19175976553385493 \n",
      "Fail to Reject H0: We don't have enough evidence to say The posibility of average diferance of sample 1 is not equal to average difference of sample 2\n",
      "----------------------------\n",
      "\n",
      "Result for : age\n",
      "resault for ULTIMATE plan NY vs Others\n",
      "The pvalue of age vs age datasets is :0.0748631974141579 \n",
      "Fail to Reject H0: We don't have enough evidence to say The posibility of average diferance of sample 1 is not equal to average difference of sample 2\n",
      "resault for SURF plan NY vs Others\n",
      "The pvalue of age vs age datasets is :0.4610771784911982 \n",
      "Fail to Reject H0: We don't have enough evidence to say The posibility of average diferance of sample 1 is not equal to average difference of sample 2\n",
      "----------------------------\n",
      "\n",
      "Result for : call_diff\n",
      "resault for ULTIMATE plan NY vs Others\n",
      "The pvalue of call_diff vs call_diff datasets is :0.00018390255828303287 \n",
      "Reject H0:The posibility of average diferance of sample 1 is not equal to average difference of sample 2 is less then 5%\n",
      "resault for SURF plan NY vs Others\n",
      "The pvalue of call_diff vs call_diff datasets is :0.0048696982318264925 \n",
      "Reject H0:The posibility of average diferance of sample 1 is not equal to average difference of sample 2 is less then 5%\n",
      "----------------------------\n",
      "\n",
      "Result for : messege_diff\n",
      "resault for ULTIMATE plan NY vs Others\n",
      "The pvalue of messege_diff vs messege_diff datasets is :0.0008901395287702769 \n",
      "Reject H0:The posibility of average diferance of sample 1 is not equal to average difference of sample 2 is less then 5%\n",
      "resault for SURF plan NY vs Others\n",
      "The pvalue of messege_diff vs messege_diff datasets is :0.16970425725186217 \n",
      "Fail to Reject H0: We don't have enough evidence to say The posibility of average diferance of sample 1 is not equal to average difference of sample 2\n",
      "----------------------------\n",
      "\n",
      "Result for : web_gb\n",
      "resault for ULTIMATE plan NY vs Others\n",
      "The pvalue of web_gb vs web_gb datasets is :0.08397607362614373 \n",
      "Fail to Reject H0: We don't have enough evidence to say The posibility of average diferance of sample 1 is not equal to average difference of sample 2\n",
      "resault for SURF plan NY vs Others\n",
      "The pvalue of web_gb vs web_gb datasets is :0.5471904631190438 \n",
      "Fail to Reject H0: We don't have enough evidence to say The posibility of average diferance of sample 1 is not equal to average difference of sample 2\n",
      "----------------------------\n",
      "\n",
      "Result for : call_rev\n",
      "resault for ULTIMATE plan NY vs Others\n",
      "The pvalue of call_rev vs call_rev datasets is :0.0003628822248556932 \n",
      "Reject H0:The posibility of average diferance of sample 1 is not equal to average difference of sample 2 is less then 5%\n",
      "resault for SURF plan NY vs Others\n",
      "The pvalue of call_rev vs call_rev datasets is :0.0036846397841957027 \n",
      "Reject H0:The posibility of average diferance of sample 1 is not equal to average difference of sample 2 is less then 5%\n",
      "----------------------------\n",
      "\n",
      "Result for : msg_rev\n",
      "resault for ULTIMATE plan NY vs Others\n",
      "The pvalue of msg_rev vs msg_rev datasets is :0.014513345626895373 \n",
      "Reject H0:The posibility of average diferance of sample 1 is not equal to average difference of sample 2 is less then 5%\n",
      "resault for SURF plan NY vs Others\n",
      "The pvalue of msg_rev vs msg_rev datasets is :0.12935254749580752 \n",
      "Fail to Reject H0: We don't have enough evidence to say The posibility of average diferance of sample 1 is not equal to average difference of sample 2\n",
      "----------------------------\n",
      "\n",
      "Result for : web_rev\n",
      "resault for ULTIMATE plan NY vs Others\n",
      "The pvalue of web_rev vs web_rev datasets is :0.07944594326694444 \n",
      "Fail to Reject H0: We don't have enough evidence to say The posibility of average diferance of sample 1 is not equal to average difference of sample 2\n",
      "resault for SURF plan NY vs Others\n",
      "The pvalue of web_rev vs web_rev datasets is :0.5788801213064989 \n",
      "Fail to Reject H0: We don't have enough evidence to say The posibility of average diferance of sample 1 is not equal to average difference of sample 2\n",
      "----------------------------\n",
      "\n",
      "Result for : plan_mothly\n",
      "resault for ULTIMATE plan NY vs Others\n",
      "The pvalue of plan_mothly vs plan_mothly datasets is :nan \n",
      "Fail to Reject H0: We don't have enough evidence to say The posibility of average diferance of sample 1 is not equal to average difference of sample 2\n",
      "resault for SURF plan NY vs Others\n",
      "The pvalue of plan_mothly vs plan_mothly datasets is :nan \n",
      "Fail to Reject H0: We don't have enough evidence to say The posibility of average diferance of sample 1 is not equal to average difference of sample 2\n",
      "----------------------------\n",
      "\n",
      "Result for : total_payment\n",
      "resault for ULTIMATE plan NY vs Others\n",
      "The pvalue of total_payment vs total_payment datasets is :0.09550305972897177 \n",
      "Fail to Reject H0: We don't have enough evidence to say The posibility of average diferance of sample 1 is not equal to average difference of sample 2\n",
      "resault for SURF plan NY vs Others\n",
      "The pvalue of total_payment vs total_payment datasets is :0.5163817099825619 \n",
      "Fail to Reject H0: We don't have enough evidence to say The posibility of average diferance of sample 1 is not equal to average difference of sample 2\n",
      "----------------------------\n",
      "\n"
     ]
    }
   ],
   "source": [
    "#loop throgh all relevent columns opf the general data\n",
    "irel_col=['user_id','plan','region','monthly_log_date','first_name','last_name','city','reg_date','churn_date','total_dif_rev']#lost of irelevent data\n",
    "for col in merged_full_plan.columns:\n",
    "    if col in irel_col:\n",
    "        continue\n",
    "    else:\n",
    "        print('Result for :',col)\n",
    "        \n",
    "        print('resault for ULTIMATE plan NY vs Others')\n",
    "        t_test(Hyp_data_plan_ultimate_NY_NJ_test[col], Hyp_data_plan_ultimate_Other_test[col] ,alpha=0.05)\n",
    "        \n",
    "        print('resault for SURF plan NY vs Others')\n",
    "        t_test(Hyp_data_plan_Surf_NY_NJ_test[col], Hyp_data_plan_Surf_Other_test[col],alpha=0.05)\n",
    "        print('----------------------------\\n')\n",
    "   "
   ]
  },
  {
   "cell_type": "markdown",
   "metadata": {},
   "source": [
    "when we look in general perspective we can see that ther are som differances, between the Ultimate and Surf plans. Especialy if we divide these plans to regions.\n",
    "But , In the overall revenue the groups of the two plans ,simes to behave very closely to one another. There for we do not see such great differance in the movement of the graphes just the hight of them(Ultimate giving more revenue more due its opening poit, of being with higher basic payment value)."
   ]
  },
  {
   "cell_type": "markdown",
   "metadata": {},
   "source": [
    "## Overall conclusion"
   ]
  },
  {
   "cell_type": "markdown",
   "metadata": {},
   "source": [
    "We have received the question, which plan gives the more revenue?\n",
    "\n",
    "The data we got was separated and we had to merge it to one dataset.\n",
    "when we completed the merge we addad more information that will give us more parameters for this check.\n",
    "\n",
    "By checking the total payment each plan made and we compared it to the the part of each plan ,from the total payment of the users, We found that the Ultimate plan gives more revanue then the Surf plan. It is responsible for almost 45% of the total revenue. and they consist 31% of the general population.\n",
    "\n",
    "But when we have checked the data, we relized that there is almost cosistancy in the distribution of the data between the Surf and Ultimate plans.\n",
    "\n",
    "The co-variance, plots and the ttest we made had all shown ,that the revenues that the 'Ultimate', does not come from different behavior alone, of the user, due to this plan , Nor there was a diffrence in the overall change in the 'Surf' plan users.(there are differances if we will focus on eache category, but in the overall, these differences are not the ones that have influanced the mean )\n",
    "\n",
    "It seems that the larger revenue that the 'ultimate' plan generates it values due to the already high monthly payment ,that is 3.5 times higher than that of the Surf plan .\n"
   ]
  },
  {
   "cell_type": "markdown",
   "metadata": {},
   "source": [
    "### The ovrall recomendations\n",
    "\n",
    "It will be wise to maybe increase the share of those who are joined to the 'Ultimate' plan. Though they will not produce more extra revanue out of the differencess of the plan base and actual payment, they still have a higher start payment that will increase the revenue in total. \n",
    "\n",
    "\n",
    "Another recommendation is for the markating department , to give attention to the regions like NY where the total revenue can be increased by pushing more on the sales n the NY-NJ , that is now , falling a bit behind in the overall avrage revenue.\n",
    "The rest of the  regions should be checked to see the diffrances from the avarage revenue, and take it in consideration when going on a campaign."
   ]
  },
  {
   "cell_type": "code",
   "execution_count": null,
   "metadata": {},
   "outputs": [],
   "source": []
  }
 ],
 "metadata": {
  "ExecuteTimeLog": [
   {
    "duration": 46,
    "start_time": "2022-09-07T13:44:58.880Z"
   },
   {
    "duration": 1509,
    "start_time": "2022-09-07T13:45:09.876Z"
   },
   {
    "duration": 970,
    "start_time": "2022-09-07T13:45:11.659Z"
   },
   {
    "duration": 390,
    "start_time": "2022-09-07T13:46:36.758Z"
   },
   {
    "duration": 13,
    "start_time": "2022-09-07T13:50:35.522Z"
   },
   {
    "duration": 8,
    "start_time": "2022-09-07T13:50:40.648Z"
   },
   {
    "duration": 9,
    "start_time": "2022-09-07T13:50:45.254Z"
   },
   {
    "duration": 9,
    "start_time": "2022-09-07T13:50:48.502Z"
   },
   {
    "duration": 11,
    "start_time": "2022-09-07T13:51:38.532Z"
   },
   {
    "duration": 4,
    "start_time": "2022-09-07T15:12:02.471Z"
   },
   {
    "duration": 364,
    "start_time": "2022-09-07T15:12:06.372Z"
   },
   {
    "duration": 8,
    "start_time": "2022-09-07T15:12:07.631Z"
   },
   {
    "duration": 9,
    "start_time": "2022-09-07T15:12:08.071Z"
   },
   {
    "duration": 8,
    "start_time": "2022-09-07T15:12:08.880Z"
   },
   {
    "duration": 9,
    "start_time": "2022-09-07T15:12:09.421Z"
   },
   {
    "duration": 14,
    "start_time": "2022-09-07T15:12:11.571Z"
   },
   {
    "duration": 10,
    "start_time": "2022-09-07T15:53:56.133Z"
   },
   {
    "duration": 12,
    "start_time": "2022-09-07T15:55:56.474Z"
   },
   {
    "duration": 11,
    "start_time": "2022-09-07T16:02:53.884Z"
   },
   {
    "duration": 10,
    "start_time": "2022-09-07T16:04:37.006Z"
   },
   {
    "duration": 14,
    "start_time": "2022-09-07T16:12:42.939Z"
   },
   {
    "duration": 9,
    "start_time": "2022-09-07T16:14:30.825Z"
   },
   {
    "duration": 10,
    "start_time": "2022-09-07T16:14:48.596Z"
   },
   {
    "duration": 4,
    "start_time": "2022-09-07T16:15:03.738Z"
   },
   {
    "duration": 5,
    "start_time": "2022-09-07T16:15:54.543Z"
   },
   {
    "duration": 5,
    "start_time": "2022-09-07T16:16:11.411Z"
   },
   {
    "duration": 6,
    "start_time": "2022-09-07T16:17:07.912Z"
   },
   {
    "duration": 4,
    "start_time": "2022-09-07T16:17:49.953Z"
   },
   {
    "duration": 5,
    "start_time": "2022-09-07T16:22:17.288Z"
   },
   {
    "duration": 6,
    "start_time": "2022-09-07T16:24:37.403Z"
   },
   {
    "duration": 4,
    "start_time": "2022-09-07T16:41:50.831Z"
   },
   {
    "duration": 15,
    "start_time": "2022-09-07T16:44:06.365Z"
   },
   {
    "duration": 15,
    "start_time": "2022-09-07T16:44:09.824Z"
   },
   {
    "duration": 46,
    "start_time": "2022-09-07T19:19:25.547Z"
   },
   {
    "duration": 1226,
    "start_time": "2022-09-07T19:19:38.818Z"
   },
   {
    "duration": 1033,
    "start_time": "2022-09-07T19:19:40.046Z"
   },
   {
    "duration": 11,
    "start_time": "2022-09-07T19:19:41.081Z"
   },
   {
    "duration": 7,
    "start_time": "2022-09-07T19:19:41.093Z"
   },
   {
    "duration": 9,
    "start_time": "2022-09-07T19:19:41.101Z"
   },
   {
    "duration": 10,
    "start_time": "2022-09-07T19:19:41.111Z"
   },
   {
    "duration": 12,
    "start_time": "2022-09-07T19:19:41.122Z"
   },
   {
    "duration": 8,
    "start_time": "2022-09-07T19:19:41.135Z"
   },
   {
    "duration": 64,
    "start_time": "2022-09-07T19:20:04.968Z"
   },
   {
    "duration": 77,
    "start_time": "2022-09-07T19:30:13.085Z"
   },
   {
    "duration": 3,
    "start_time": "2022-09-07T19:30:30.291Z"
   },
   {
    "duration": 3,
    "start_time": "2022-09-07T19:30:46.884Z"
   },
   {
    "duration": 4,
    "start_time": "2022-09-07T19:31:05.997Z"
   },
   {
    "duration": 5528,
    "start_time": "2022-09-07T20:09:53.389Z"
   },
   {
    "duration": 48,
    "start_time": "2022-09-07T20:11:37.584Z"
   },
   {
    "duration": 1017,
    "start_time": "2022-09-07T20:11:50.620Z"
   },
   {
    "duration": 752,
    "start_time": "2022-09-07T20:11:51.638Z"
   },
   {
    "duration": 10,
    "start_time": "2022-09-07T20:11:52.392Z"
   },
   {
    "duration": 20,
    "start_time": "2022-09-07T20:11:52.404Z"
   },
   {
    "duration": 18,
    "start_time": "2022-09-07T20:11:52.425Z"
   },
   {
    "duration": 28,
    "start_time": "2022-09-07T20:11:52.444Z"
   },
   {
    "duration": 31,
    "start_time": "2022-09-07T20:11:52.473Z"
   },
   {
    "duration": 21,
    "start_time": "2022-09-07T20:11:52.506Z"
   },
   {
    "duration": 34,
    "start_time": "2022-09-07T20:11:52.528Z"
   },
   {
    "duration": 41,
    "start_time": "2022-09-07T20:12:23.543Z"
   },
   {
    "duration": 1012,
    "start_time": "2022-09-07T20:12:31.416Z"
   },
   {
    "duration": 743,
    "start_time": "2022-09-07T20:12:32.429Z"
   },
   {
    "duration": 13,
    "start_time": "2022-09-07T20:12:33.173Z"
   },
   {
    "duration": 13,
    "start_time": "2022-09-07T20:12:33.188Z"
   },
   {
    "duration": 7,
    "start_time": "2022-09-07T20:12:33.204Z"
   },
   {
    "duration": 10,
    "start_time": "2022-09-07T20:12:33.213Z"
   },
   {
    "duration": 9,
    "start_time": "2022-09-07T20:12:33.225Z"
   },
   {
    "duration": 5,
    "start_time": "2022-09-07T20:12:33.236Z"
   },
   {
    "duration": 20,
    "start_time": "2022-09-07T20:12:33.243Z"
   },
   {
    "duration": 1011,
    "start_time": "2022-09-07T20:13:34.513Z"
   },
   {
    "duration": 762,
    "start_time": "2022-09-07T20:13:35.526Z"
   },
   {
    "duration": 11,
    "start_time": "2022-09-07T20:13:36.290Z"
   },
   {
    "duration": 9,
    "start_time": "2022-09-07T20:13:36.303Z"
   },
   {
    "duration": 14,
    "start_time": "2022-09-07T20:13:36.314Z"
   },
   {
    "duration": 11,
    "start_time": "2022-09-07T20:13:36.330Z"
   },
   {
    "duration": 11,
    "start_time": "2022-09-07T20:13:36.343Z"
   },
   {
    "duration": 6,
    "start_time": "2022-09-07T20:13:36.356Z"
   },
   {
    "duration": 9,
    "start_time": "2022-09-07T20:13:36.364Z"
   },
   {
    "duration": 57,
    "start_time": "2022-09-07T20:14:56.020Z"
   },
   {
    "duration": 977,
    "start_time": "2022-09-07T20:15:01.252Z"
   },
   {
    "duration": 730,
    "start_time": "2022-09-07T20:15:02.230Z"
   },
   {
    "duration": 11,
    "start_time": "2022-09-07T20:15:02.962Z"
   },
   {
    "duration": 7,
    "start_time": "2022-09-07T20:15:02.974Z"
   },
   {
    "duration": 10,
    "start_time": "2022-09-07T20:15:02.982Z"
   },
   {
    "duration": 9,
    "start_time": "2022-09-07T20:15:02.993Z"
   },
   {
    "duration": 10,
    "start_time": "2022-09-07T20:15:03.003Z"
   },
   {
    "duration": 8,
    "start_time": "2022-09-07T20:15:03.014Z"
   },
   {
    "duration": 7,
    "start_time": "2022-09-07T20:15:03.023Z"
   },
   {
    "duration": 54,
    "start_time": "2022-09-07T20:15:03.032Z"
   },
   {
    "duration": 10,
    "start_time": "2022-09-07T20:15:06.426Z"
   },
   {
    "duration": 11,
    "start_time": "2022-09-07T20:16:16.064Z"
   },
   {
    "duration": 10,
    "start_time": "2022-09-07T20:18:15.172Z"
   },
   {
    "duration": 42,
    "start_time": "2022-09-07T20:18:43.836Z"
   },
   {
    "duration": 1032,
    "start_time": "2022-09-07T20:19:20.479Z"
   },
   {
    "duration": 734,
    "start_time": "2022-09-07T20:19:21.512Z"
   },
   {
    "duration": 10,
    "start_time": "2022-09-07T20:19:22.248Z"
   },
   {
    "duration": 10,
    "start_time": "2022-09-07T20:19:22.260Z"
   },
   {
    "duration": 9,
    "start_time": "2022-09-07T20:19:22.271Z"
   },
   {
    "duration": 16,
    "start_time": "2022-09-07T20:19:22.281Z"
   },
   {
    "duration": 19,
    "start_time": "2022-09-07T20:19:22.298Z"
   },
   {
    "duration": 16,
    "start_time": "2022-09-07T20:19:22.318Z"
   },
   {
    "duration": 23,
    "start_time": "2022-09-07T20:19:22.336Z"
   },
   {
    "duration": 45,
    "start_time": "2022-09-07T20:19:39.135Z"
   },
   {
    "duration": 1085,
    "start_time": "2022-09-07T20:19:45.176Z"
   },
   {
    "duration": 729,
    "start_time": "2022-09-07T20:19:46.263Z"
   },
   {
    "duration": 11,
    "start_time": "2022-09-07T20:19:46.994Z"
   },
   {
    "duration": 7,
    "start_time": "2022-09-07T20:19:47.006Z"
   },
   {
    "duration": 8,
    "start_time": "2022-09-07T20:19:47.015Z"
   },
   {
    "duration": 10,
    "start_time": "2022-09-07T20:19:47.024Z"
   },
   {
    "duration": 10,
    "start_time": "2022-09-07T20:19:47.035Z"
   },
   {
    "duration": 15,
    "start_time": "2022-09-07T20:19:47.046Z"
   },
   {
    "duration": 12,
    "start_time": "2022-09-07T20:19:47.062Z"
   },
   {
    "duration": 40,
    "start_time": "2022-09-07T20:20:14.966Z"
   },
   {
    "duration": 1062,
    "start_time": "2022-09-07T20:20:21.159Z"
   },
   {
    "duration": 716,
    "start_time": "2022-09-07T20:20:22.223Z"
   },
   {
    "duration": 10,
    "start_time": "2022-09-07T20:20:22.941Z"
   },
   {
    "duration": 6,
    "start_time": "2022-09-07T20:20:22.953Z"
   },
   {
    "duration": 10,
    "start_time": "2022-09-07T20:20:22.960Z"
   },
   {
    "duration": 10,
    "start_time": "2022-09-07T20:20:22.971Z"
   },
   {
    "duration": 10,
    "start_time": "2022-09-07T20:20:22.982Z"
   },
   {
    "duration": 6,
    "start_time": "2022-09-07T20:20:22.993Z"
   },
   {
    "duration": 7,
    "start_time": "2022-09-07T20:20:23.000Z"
   },
   {
    "duration": 53,
    "start_time": "2022-09-07T20:20:23.009Z"
   },
   {
    "duration": 8,
    "start_time": "2022-09-07T20:21:34.373Z"
   },
   {
    "duration": 971,
    "start_time": "2022-09-07T20:22:01.857Z"
   },
   {
    "duration": 736,
    "start_time": "2022-09-07T20:22:02.829Z"
   },
   {
    "duration": 11,
    "start_time": "2022-09-07T20:22:03.566Z"
   },
   {
    "duration": 7,
    "start_time": "2022-09-07T20:22:03.578Z"
   },
   {
    "duration": 8,
    "start_time": "2022-09-07T20:22:03.586Z"
   },
   {
    "duration": 9,
    "start_time": "2022-09-07T20:22:03.595Z"
   },
   {
    "duration": 14,
    "start_time": "2022-09-07T20:22:03.606Z"
   },
   {
    "duration": 5,
    "start_time": "2022-09-07T20:22:03.622Z"
   },
   {
    "duration": 6,
    "start_time": "2022-09-07T20:22:03.628Z"
   },
   {
    "duration": 50,
    "start_time": "2022-09-07T20:22:38.766Z"
   },
   {
    "duration": 991,
    "start_time": "2022-09-07T20:22:44.930Z"
   },
   {
    "duration": 764,
    "start_time": "2022-09-07T20:22:45.923Z"
   },
   {
    "duration": 11,
    "start_time": "2022-09-07T20:22:46.688Z"
   },
   {
    "duration": 18,
    "start_time": "2022-09-07T20:22:46.700Z"
   },
   {
    "duration": 25,
    "start_time": "2022-09-07T20:22:46.719Z"
   },
   {
    "duration": 25,
    "start_time": "2022-09-07T20:22:46.745Z"
   },
   {
    "duration": 15,
    "start_time": "2022-09-07T20:22:46.772Z"
   },
   {
    "duration": 18,
    "start_time": "2022-09-07T20:22:46.788Z"
   },
   {
    "duration": 24,
    "start_time": "2022-09-07T20:22:46.808Z"
   },
   {
    "duration": 1033,
    "start_time": "2022-09-07T20:23:17.696Z"
   },
   {
    "duration": 740,
    "start_time": "2022-09-07T20:23:18.730Z"
   },
   {
    "duration": 12,
    "start_time": "2022-09-07T20:23:19.471Z"
   },
   {
    "duration": 8,
    "start_time": "2022-09-07T20:23:19.485Z"
   },
   {
    "duration": 7,
    "start_time": "2022-09-07T20:23:19.495Z"
   },
   {
    "duration": 9,
    "start_time": "2022-09-07T20:23:19.504Z"
   },
   {
    "duration": 15,
    "start_time": "2022-09-07T20:23:19.514Z"
   },
   {
    "duration": 7,
    "start_time": "2022-09-07T20:23:19.530Z"
   },
   {
    "duration": 5,
    "start_time": "2022-09-07T20:23:19.539Z"
   },
   {
    "duration": 43,
    "start_time": "2022-09-07T20:23:41.991Z"
   },
   {
    "duration": 984,
    "start_time": "2022-09-07T20:23:51.341Z"
   },
   {
    "duration": 723,
    "start_time": "2022-09-07T20:23:52.326Z"
   },
   {
    "duration": 10,
    "start_time": "2022-09-07T20:23:53.050Z"
   },
   {
    "duration": 14,
    "start_time": "2022-09-07T20:23:53.062Z"
   },
   {
    "duration": 21,
    "start_time": "2022-09-07T20:23:53.078Z"
   },
   {
    "duration": 23,
    "start_time": "2022-09-07T20:23:53.101Z"
   },
   {
    "duration": 18,
    "start_time": "2022-09-07T20:23:53.125Z"
   },
   {
    "duration": 19,
    "start_time": "2022-09-07T20:23:53.144Z"
   },
   {
    "duration": 15,
    "start_time": "2022-09-07T20:23:53.165Z"
   },
   {
    "duration": 5575,
    "start_time": "2022-09-07T20:23:53.181Z"
   },
   {
    "duration": 61,
    "start_time": "2022-09-07T20:25:11.281Z"
   },
   {
    "duration": 1491,
    "start_time": "2022-09-07T20:25:20.122Z"
   },
   {
    "duration": 724,
    "start_time": "2022-09-07T20:25:21.615Z"
   },
   {
    "duration": 10,
    "start_time": "2022-09-07T20:25:22.341Z"
   },
   {
    "duration": 7,
    "start_time": "2022-09-07T20:25:22.352Z"
   },
   {
    "duration": 8,
    "start_time": "2022-09-07T20:25:22.361Z"
   },
   {
    "duration": 10,
    "start_time": "2022-09-07T20:25:22.370Z"
   },
   {
    "duration": 11,
    "start_time": "2022-09-07T20:25:22.381Z"
   },
   {
    "duration": 5,
    "start_time": "2022-09-07T20:25:22.393Z"
   },
   {
    "duration": 5,
    "start_time": "2022-09-07T20:25:22.399Z"
   },
   {
    "duration": 5579,
    "start_time": "2022-09-07T20:25:22.405Z"
   },
   {
    "duration": 40,
    "start_time": "2022-09-07T20:26:20.239Z"
   },
   {
    "duration": 952,
    "start_time": "2022-09-07T20:26:26.468Z"
   },
   {
    "duration": 716,
    "start_time": "2022-09-07T20:26:27.421Z"
   },
   {
    "duration": 11,
    "start_time": "2022-09-07T20:26:28.138Z"
   },
   {
    "duration": 7,
    "start_time": "2022-09-07T20:26:28.150Z"
   },
   {
    "duration": 8,
    "start_time": "2022-09-07T20:26:28.158Z"
   },
   {
    "duration": 13,
    "start_time": "2022-09-07T20:26:28.167Z"
   },
   {
    "duration": 11,
    "start_time": "2022-09-07T20:26:28.181Z"
   },
   {
    "duration": 8,
    "start_time": "2022-09-07T20:26:28.194Z"
   },
   {
    "duration": 9,
    "start_time": "2022-09-07T20:26:28.203Z"
   },
   {
    "duration": 995,
    "start_time": "2022-09-07T20:27:04.645Z"
   },
   {
    "duration": 771,
    "start_time": "2022-09-07T20:27:05.642Z"
   },
   {
    "duration": 11,
    "start_time": "2022-09-07T20:27:06.415Z"
   },
   {
    "duration": 7,
    "start_time": "2022-09-07T20:27:06.428Z"
   },
   {
    "duration": 10,
    "start_time": "2022-09-07T20:27:06.437Z"
   },
   {
    "duration": 9,
    "start_time": "2022-09-07T20:27:06.449Z"
   },
   {
    "duration": 14,
    "start_time": "2022-09-07T20:27:06.460Z"
   },
   {
    "duration": 6,
    "start_time": "2022-09-07T20:27:06.476Z"
   },
   {
    "duration": 24,
    "start_time": "2022-09-07T20:27:06.484Z"
   },
   {
    "duration": 1080,
    "start_time": "2022-09-07T20:28:05.424Z"
   },
   {
    "duration": 726,
    "start_time": "2022-09-07T20:28:06.506Z"
   },
   {
    "duration": 10,
    "start_time": "2022-09-07T20:28:07.234Z"
   },
   {
    "duration": 7,
    "start_time": "2022-09-07T20:28:07.246Z"
   },
   {
    "duration": 9,
    "start_time": "2022-09-07T20:28:07.254Z"
   },
   {
    "duration": 12,
    "start_time": "2022-09-07T20:28:07.264Z"
   },
   {
    "duration": 10,
    "start_time": "2022-09-07T20:28:07.278Z"
   },
   {
    "duration": 7,
    "start_time": "2022-09-07T20:28:07.289Z"
   },
   {
    "duration": 6,
    "start_time": "2022-09-07T20:28:07.297Z"
   },
   {
    "duration": 43,
    "start_time": "2022-09-07T21:48:30.837Z"
   },
   {
    "duration": 989,
    "start_time": "2022-09-07T21:48:41.142Z"
   },
   {
    "duration": 728,
    "start_time": "2022-09-07T21:48:42.133Z"
   },
   {
    "duration": 10,
    "start_time": "2022-09-07T21:48:42.863Z"
   },
   {
    "duration": 7,
    "start_time": "2022-09-07T21:48:42.875Z"
   },
   {
    "duration": 7,
    "start_time": "2022-09-07T21:48:42.884Z"
   },
   {
    "duration": 9,
    "start_time": "2022-09-07T21:48:42.893Z"
   },
   {
    "duration": 9,
    "start_time": "2022-09-07T21:48:42.903Z"
   },
   {
    "duration": 5,
    "start_time": "2022-09-07T21:48:42.913Z"
   },
   {
    "duration": 7,
    "start_time": "2022-09-07T21:48:42.920Z"
   },
   {
    "duration": 57,
    "start_time": "2022-09-07T21:48:42.928Z"
   },
   {
    "duration": 0,
    "start_time": "2022-09-07T21:48:42.987Z"
   },
   {
    "duration": 25,
    "start_time": "2022-09-07T21:50:54.232Z"
   },
   {
    "duration": 89,
    "start_time": "2022-09-07T21:58:57.384Z"
   },
   {
    "duration": 120,
    "start_time": "2022-09-07T21:59:05.090Z"
   },
   {
    "duration": 38,
    "start_time": "2022-09-07T21:59:21.610Z"
   },
   {
    "duration": 973,
    "start_time": "2022-09-07T21:59:31.737Z"
   },
   {
    "duration": 741,
    "start_time": "2022-09-07T21:59:32.711Z"
   },
   {
    "duration": 10,
    "start_time": "2022-09-07T21:59:33.454Z"
   },
   {
    "duration": 11,
    "start_time": "2022-09-07T21:59:33.465Z"
   },
   {
    "duration": 10,
    "start_time": "2022-09-07T21:59:33.478Z"
   },
   {
    "duration": 10,
    "start_time": "2022-09-07T21:59:33.489Z"
   },
   {
    "duration": 11,
    "start_time": "2022-09-07T21:59:33.500Z"
   },
   {
    "duration": 7,
    "start_time": "2022-09-07T21:59:33.512Z"
   },
   {
    "duration": 20,
    "start_time": "2022-09-07T21:59:33.521Z"
   },
   {
    "duration": 55,
    "start_time": "2022-09-07T21:59:33.543Z"
   },
   {
    "duration": 10,
    "start_time": "2022-09-07T22:00:45.179Z"
   },
   {
    "duration": 10,
    "start_time": "2022-09-07T22:47:31.416Z"
   },
   {
    "duration": 31,
    "start_time": "2022-09-07T22:48:10.480Z"
   },
   {
    "duration": 2,
    "start_time": "2022-09-07T22:48:34.287Z"
   },
   {
    "duration": 274,
    "start_time": "2022-09-07T22:48:34.291Z"
   },
   {
    "duration": 6,
    "start_time": "2022-09-07T22:48:34.567Z"
   },
   {
    "duration": 10,
    "start_time": "2022-09-07T22:48:34.574Z"
   },
   {
    "duration": 8,
    "start_time": "2022-09-07T22:48:34.585Z"
   },
   {
    "duration": 8,
    "start_time": "2022-09-07T22:48:34.594Z"
   },
   {
    "duration": 10,
    "start_time": "2022-09-07T22:48:34.603Z"
   },
   {
    "duration": 4,
    "start_time": "2022-09-07T22:48:34.615Z"
   },
   {
    "duration": 5,
    "start_time": "2022-09-07T22:48:34.620Z"
   },
   {
    "duration": 31,
    "start_time": "2022-09-07T22:48:34.626Z"
   },
   {
    "duration": 48,
    "start_time": "2022-09-07T22:48:34.658Z"
   },
   {
    "duration": 15,
    "start_time": "2022-09-07T22:50:06.911Z"
   },
   {
    "duration": 12,
    "start_time": "2022-09-07T22:51:42.832Z"
   },
   {
    "duration": 9,
    "start_time": "2022-09-07T22:52:16.507Z"
   },
   {
    "duration": 5466,
    "start_time": "2022-09-07T22:53:43.594Z"
   },
   {
    "duration": 40,
    "start_time": "2022-09-07T22:54:03.425Z"
   },
   {
    "duration": 997,
    "start_time": "2022-09-07T22:54:09.946Z"
   },
   {
    "duration": 799,
    "start_time": "2022-09-07T22:54:10.945Z"
   },
   {
    "duration": 11,
    "start_time": "2022-09-07T22:54:11.745Z"
   },
   {
    "duration": 7,
    "start_time": "2022-09-07T22:54:11.758Z"
   },
   {
    "duration": 16,
    "start_time": "2022-09-07T22:54:11.767Z"
   },
   {
    "duration": 8,
    "start_time": "2022-09-07T22:54:11.785Z"
   },
   {
    "duration": 13,
    "start_time": "2022-09-07T22:54:11.795Z"
   },
   {
    "duration": 9,
    "start_time": "2022-09-07T22:54:11.810Z"
   },
   {
    "duration": 5,
    "start_time": "2022-09-07T22:54:11.820Z"
   },
   {
    "duration": 41,
    "start_time": "2022-09-07T22:54:21.705Z"
   },
   {
    "duration": 42,
    "start_time": "2022-09-07T22:54:44.883Z"
   },
   {
    "duration": 977,
    "start_time": "2022-09-07T22:54:51.931Z"
   },
   {
    "duration": 749,
    "start_time": "2022-09-07T22:54:52.910Z"
   },
   {
    "duration": 10,
    "start_time": "2022-09-07T22:54:53.660Z"
   },
   {
    "duration": 9,
    "start_time": "2022-09-07T22:54:53.671Z"
   },
   {
    "duration": 17,
    "start_time": "2022-09-07T22:54:53.682Z"
   },
   {
    "duration": 11,
    "start_time": "2022-09-07T22:54:53.700Z"
   },
   {
    "duration": 10,
    "start_time": "2022-09-07T22:54:53.713Z"
   },
   {
    "duration": 6,
    "start_time": "2022-09-07T22:54:53.724Z"
   },
   {
    "duration": 5,
    "start_time": "2022-09-07T22:54:53.732Z"
   },
   {
    "duration": 5668,
    "start_time": "2022-09-07T22:54:53.739Z"
   },
   {
    "duration": 39,
    "start_time": "2022-09-07T22:55:14.651Z"
   },
   {
    "duration": 954,
    "start_time": "2022-09-07T22:55:20.954Z"
   },
   {
    "duration": 714,
    "start_time": "2022-09-07T22:55:21.910Z"
   },
   {
    "duration": 12,
    "start_time": "2022-09-07T22:55:22.625Z"
   },
   {
    "duration": 7,
    "start_time": "2022-09-07T22:55:22.639Z"
   },
   {
    "duration": 7,
    "start_time": "2022-09-07T22:55:23.617Z"
   },
   {
    "duration": 8,
    "start_time": "2022-09-07T22:55:24.201Z"
   },
   {
    "duration": 9,
    "start_time": "2022-09-07T22:55:24.705Z"
   },
   {
    "duration": 4,
    "start_time": "2022-09-07T22:55:28.338Z"
   },
   {
    "duration": 3,
    "start_time": "2022-09-07T22:55:30.595Z"
   },
   {
    "duration": 5580,
    "start_time": "2022-09-07T22:55:33.826Z"
   },
   {
    "duration": 40,
    "start_time": "2022-09-07T22:55:51.946Z"
   },
   {
    "duration": 995,
    "start_time": "2022-09-07T22:55:58.054Z"
   },
   {
    "duration": 734,
    "start_time": "2022-09-07T22:55:59.051Z"
   },
   {
    "duration": 11,
    "start_time": "2022-09-07T22:55:59.786Z"
   },
   {
    "duration": 14,
    "start_time": "2022-09-07T22:55:59.798Z"
   },
   {
    "duration": 27,
    "start_time": "2022-09-07T22:55:59.813Z"
   },
   {
    "duration": 17,
    "start_time": "2022-09-07T22:55:59.841Z"
   },
   {
    "duration": 21,
    "start_time": "2022-09-07T22:55:59.859Z"
   },
   {
    "duration": 18,
    "start_time": "2022-09-07T22:55:59.882Z"
   },
   {
    "duration": 23,
    "start_time": "2022-09-07T22:55:59.901Z"
   },
   {
    "duration": 5538,
    "start_time": "2022-09-07T22:55:59.925Z"
   },
   {
    "duration": 41,
    "start_time": "2022-09-07T22:56:44.044Z"
   },
   {
    "duration": 70,
    "start_time": "2022-09-07T22:58:05.875Z"
   },
   {
    "duration": 6,
    "start_time": "2022-09-07T22:58:12.931Z"
   },
   {
    "duration": 1011,
    "start_time": "2022-09-07T22:58:28.012Z"
   },
   {
    "duration": 728,
    "start_time": "2022-09-07T22:58:29.025Z"
   },
   {
    "duration": 12,
    "start_time": "2022-09-07T22:58:29.755Z"
   },
   {
    "duration": 9,
    "start_time": "2022-09-07T22:58:29.769Z"
   },
   {
    "duration": 7,
    "start_time": "2022-09-07T22:58:29.780Z"
   },
   {
    "duration": 8,
    "start_time": "2022-09-07T22:58:29.788Z"
   },
   {
    "duration": 10,
    "start_time": "2022-09-07T22:58:29.797Z"
   },
   {
    "duration": 6,
    "start_time": "2022-09-07T22:58:29.808Z"
   },
   {
    "duration": 6,
    "start_time": "2022-09-07T22:58:29.815Z"
   },
   {
    "duration": 61,
    "start_time": "2022-09-07T22:58:29.822Z"
   },
   {
    "duration": 23,
    "start_time": "2022-09-07T23:00:35.950Z"
   },
   {
    "duration": 39,
    "start_time": "2022-09-07T23:00:43.836Z"
   },
   {
    "duration": 21,
    "start_time": "2022-09-07T23:01:52.982Z"
   },
   {
    "duration": 47,
    "start_time": "2022-09-07T23:01:58.669Z"
   },
   {
    "duration": 1124,
    "start_time": "2022-09-08T09:11:13.403Z"
   },
   {
    "duration": 704,
    "start_time": "2022-09-08T09:11:14.529Z"
   },
   {
    "duration": 10,
    "start_time": "2022-09-08T09:11:15.235Z"
   },
   {
    "duration": 11,
    "start_time": "2022-09-08T09:11:15.246Z"
   },
   {
    "duration": 8,
    "start_time": "2022-09-08T09:11:15.259Z"
   },
   {
    "duration": 10,
    "start_time": "2022-09-08T09:11:15.268Z"
   },
   {
    "duration": 11,
    "start_time": "2022-09-08T09:11:15.280Z"
   },
   {
    "duration": 6,
    "start_time": "2022-09-08T09:11:15.292Z"
   },
   {
    "duration": 8,
    "start_time": "2022-09-08T09:11:15.299Z"
   },
   {
    "duration": 19,
    "start_time": "2022-09-08T09:11:58.581Z"
   },
   {
    "duration": 3,
    "start_time": "2022-09-08T09:13:44.110Z"
   },
   {
    "duration": 85,
    "start_time": "2022-09-08T09:14:48.143Z"
   },
   {
    "duration": 78,
    "start_time": "2022-09-08T09:15:30.336Z"
   },
   {
    "duration": 14,
    "start_time": "2022-09-08T09:15:35.570Z"
   },
   {
    "duration": 3090,
    "start_time": "2022-09-08T09:19:05.003Z"
   },
   {
    "duration": 4550,
    "start_time": "2022-09-08T09:19:08.095Z"
   },
   {
    "duration": 13438,
    "start_time": "2022-09-08T09:26:04.817Z"
   },
   {
    "duration": 9,
    "start_time": "2022-09-08T09:26:22.314Z"
   },
   {
    "duration": 3,
    "start_time": "2022-09-08T09:27:21.319Z"
   },
   {
    "duration": 271,
    "start_time": "2022-09-08T09:27:21.325Z"
   },
   {
    "duration": 7,
    "start_time": "2022-09-08T09:27:21.598Z"
   },
   {
    "duration": 11,
    "start_time": "2022-09-08T09:27:21.606Z"
   },
   {
    "duration": 10,
    "start_time": "2022-09-08T09:27:21.619Z"
   },
   {
    "duration": 12,
    "start_time": "2022-09-08T09:27:21.631Z"
   },
   {
    "duration": 11,
    "start_time": "2022-09-08T09:27:21.644Z"
   },
   {
    "duration": 5,
    "start_time": "2022-09-08T09:27:21.656Z"
   },
   {
    "duration": 7,
    "start_time": "2022-09-08T09:27:21.663Z"
   },
   {
    "duration": 3234,
    "start_time": "2022-09-08T09:27:21.671Z"
   },
   {
    "duration": 4542,
    "start_time": "2022-09-08T09:27:24.908Z"
   },
   {
    "duration": 1087,
    "start_time": "2022-09-08T09:31:36.567Z"
   },
   {
    "duration": 732,
    "start_time": "2022-09-08T09:31:37.656Z"
   },
   {
    "duration": 12,
    "start_time": "2022-09-08T09:31:38.389Z"
   },
   {
    "duration": 18,
    "start_time": "2022-09-08T09:31:38.402Z"
   },
   {
    "duration": 42,
    "start_time": "2022-09-08T09:31:38.423Z"
   },
   {
    "duration": 22,
    "start_time": "2022-09-08T09:31:38.467Z"
   },
   {
    "duration": 23,
    "start_time": "2022-09-08T09:31:38.491Z"
   },
   {
    "duration": 27,
    "start_time": "2022-09-08T09:31:38.515Z"
   },
   {
    "duration": 17,
    "start_time": "2022-09-08T09:31:38.544Z"
   },
   {
    "duration": 3476,
    "start_time": "2022-09-08T09:31:38.562Z"
   },
   {
    "duration": 4886,
    "start_time": "2022-09-08T09:31:42.041Z"
   },
   {
    "duration": 41,
    "start_time": "2022-09-08T09:32:36.361Z"
   },
   {
    "duration": 1122,
    "start_time": "2022-09-08T09:32:45.415Z"
   },
   {
    "duration": 717,
    "start_time": "2022-09-08T09:32:46.540Z"
   },
   {
    "duration": 11,
    "start_time": "2022-09-08T09:32:47.258Z"
   },
   {
    "duration": 17,
    "start_time": "2022-09-08T09:32:47.270Z"
   },
   {
    "duration": 43,
    "start_time": "2022-09-08T09:32:47.288Z"
   },
   {
    "duration": 22,
    "start_time": "2022-09-08T09:32:47.332Z"
   },
   {
    "duration": 30,
    "start_time": "2022-09-08T09:32:47.355Z"
   },
   {
    "duration": 15,
    "start_time": "2022-09-08T09:32:47.386Z"
   },
   {
    "duration": 21,
    "start_time": "2022-09-08T09:32:47.402Z"
   },
   {
    "duration": 3097,
    "start_time": "2022-09-08T09:32:47.425Z"
   },
   {
    "duration": 4220,
    "start_time": "2022-09-08T09:32:50.524Z"
   },
   {
    "duration": 1199,
    "start_time": "2022-09-08T15:43:28.639Z"
   },
   {
    "duration": 1396,
    "start_time": "2022-09-08T15:43:29.840Z"
   },
   {
    "duration": 13,
    "start_time": "2022-09-08T15:43:31.237Z"
   },
   {
    "duration": 49,
    "start_time": "2022-09-08T15:43:31.252Z"
   },
   {
    "duration": 21,
    "start_time": "2022-09-08T15:43:31.303Z"
   },
   {
    "duration": 35,
    "start_time": "2022-09-08T15:43:31.325Z"
   },
   {
    "duration": 19,
    "start_time": "2022-09-08T15:43:31.361Z"
   },
   {
    "duration": 33,
    "start_time": "2022-09-08T15:43:31.382Z"
   },
   {
    "duration": 24,
    "start_time": "2022-09-08T15:43:31.417Z"
   },
   {
    "duration": 1175,
    "start_time": "2022-09-08T15:45:54.553Z"
   },
   {
    "duration": 896,
    "start_time": "2022-09-08T15:45:55.730Z"
   },
   {
    "duration": 12,
    "start_time": "2022-09-08T15:45:56.627Z"
   },
   {
    "duration": 9,
    "start_time": "2022-09-08T15:45:56.996Z"
   },
   {
    "duration": 8,
    "start_time": "2022-09-08T15:45:57.683Z"
   },
   {
    "duration": 11,
    "start_time": "2022-09-08T15:45:58.562Z"
   },
   {
    "duration": 15,
    "start_time": "2022-09-08T15:45:59.194Z"
   },
   {
    "duration": 5,
    "start_time": "2022-09-08T15:46:02.825Z"
   },
   {
    "duration": 4,
    "start_time": "2022-09-08T15:46:04.991Z"
   },
   {
    "duration": 3430,
    "start_time": "2022-09-08T15:46:22.106Z"
   },
   {
    "duration": 5072,
    "start_time": "2022-09-08T15:46:38.383Z"
   },
   {
    "duration": 99,
    "start_time": "2022-09-08T15:49:51.583Z"
   },
   {
    "duration": 13,
    "start_time": "2022-09-08T15:51:02.021Z"
   },
   {
    "duration": 60,
    "start_time": "2022-09-08T15:52:41.920Z"
   },
   {
    "duration": 12,
    "start_time": "2022-09-08T15:53:04.065Z"
   },
   {
    "duration": 12,
    "start_time": "2022-09-08T15:55:20.754Z"
   },
   {
    "duration": 10,
    "start_time": "2022-09-08T15:55:51.812Z"
   },
   {
    "duration": 13,
    "start_time": "2022-09-08T15:56:10.881Z"
   },
   {
    "duration": 14,
    "start_time": "2022-09-08T16:07:58.549Z"
   },
   {
    "duration": 11,
    "start_time": "2022-09-08T16:08:12.643Z"
   },
   {
    "duration": 47,
    "start_time": "2022-09-08T19:03:50.240Z"
   },
   {
    "duration": 1269,
    "start_time": "2022-09-08T19:04:00.588Z"
   },
   {
    "duration": 776,
    "start_time": "2022-09-08T19:04:01.859Z"
   },
   {
    "duration": 13,
    "start_time": "2022-09-08T19:04:02.637Z"
   },
   {
    "duration": 17,
    "start_time": "2022-09-08T19:04:02.651Z"
   },
   {
    "duration": 12,
    "start_time": "2022-09-08T19:04:02.670Z"
   },
   {
    "duration": 15,
    "start_time": "2022-09-08T19:04:02.684Z"
   },
   {
    "duration": 18,
    "start_time": "2022-09-08T19:04:02.701Z"
   },
   {
    "duration": 10,
    "start_time": "2022-09-08T19:04:02.720Z"
   },
   {
    "duration": 9,
    "start_time": "2022-09-08T19:04:02.732Z"
   },
   {
    "duration": 69,
    "start_time": "2022-09-08T19:05:01.809Z"
   },
   {
    "duration": 186,
    "start_time": "2022-09-08T19:05:53.453Z"
   },
   {
    "duration": 17,
    "start_time": "2022-09-08T19:05:57.910Z"
   },
   {
    "duration": 194,
    "start_time": "2022-09-08T19:07:32.518Z"
   },
   {
    "duration": 16,
    "start_time": "2022-09-08T19:07:33.594Z"
   },
   {
    "duration": 178,
    "start_time": "2022-09-08T19:08:26.283Z"
   },
   {
    "duration": 19,
    "start_time": "2022-09-08T19:08:27.236Z"
   },
   {
    "duration": 193,
    "start_time": "2022-09-08T19:09:34.355Z"
   },
   {
    "duration": 18,
    "start_time": "2022-09-08T19:09:34.997Z"
   },
   {
    "duration": 204,
    "start_time": "2022-09-08T19:10:10.401Z"
   },
   {
    "duration": 17,
    "start_time": "2022-09-08T19:11:24.458Z"
   },
   {
    "duration": 64,
    "start_time": "2022-09-08T19:11:32.051Z"
   },
   {
    "duration": 15,
    "start_time": "2022-09-08T19:11:33.575Z"
   },
   {
    "duration": 21,
    "start_time": "2022-09-08T19:12:29.054Z"
   },
   {
    "duration": 178,
    "start_time": "2022-09-08T19:14:53.004Z"
   },
   {
    "duration": 19,
    "start_time": "2022-09-08T19:14:53.729Z"
   },
   {
    "duration": 154,
    "start_time": "2022-09-08T19:17:56.762Z"
   },
   {
    "duration": 21,
    "start_time": "2022-09-08T19:17:57.518Z"
   },
   {
    "duration": 20,
    "start_time": "2022-09-08T19:18:15.860Z"
   },
   {
    "duration": 217,
    "start_time": "2022-09-08T19:19:37.097Z"
   },
   {
    "duration": 24,
    "start_time": "2022-09-08T19:20:51.396Z"
   },
   {
    "duration": 3,
    "start_time": "2022-09-08T20:10:40.205Z"
   },
   {
    "duration": 324,
    "start_time": "2022-09-08T20:11:11.796Z"
   },
   {
    "duration": 3,
    "start_time": "2022-09-08T20:11:25.148Z"
   },
   {
    "duration": 328,
    "start_time": "2022-09-08T20:11:27.792Z"
   },
   {
    "duration": 8,
    "start_time": "2022-09-08T20:11:29.451Z"
   },
   {
    "duration": 3,
    "start_time": "2022-09-08T20:12:27.044Z"
   },
   {
    "duration": 320,
    "start_time": "2022-09-08T20:12:27.054Z"
   },
   {
    "duration": 8,
    "start_time": "2022-09-08T20:12:27.376Z"
   },
   {
    "duration": 15,
    "start_time": "2022-09-08T20:12:27.386Z"
   },
   {
    "duration": 9,
    "start_time": "2022-09-08T20:12:27.403Z"
   },
   {
    "duration": 10,
    "start_time": "2022-09-08T20:12:27.414Z"
   },
   {
    "duration": 15,
    "start_time": "2022-09-08T20:12:27.426Z"
   },
   {
    "duration": 5,
    "start_time": "2022-09-08T20:12:27.442Z"
   },
   {
    "duration": 21,
    "start_time": "2022-09-08T20:12:27.448Z"
   },
   {
    "duration": 158,
    "start_time": "2022-09-08T20:12:27.470Z"
   },
   {
    "duration": 16,
    "start_time": "2022-09-08T20:12:27.630Z"
   },
   {
    "duration": 67,
    "start_time": "2022-09-08T20:12:27.648Z"
   },
   {
    "duration": 15,
    "start_time": "2022-09-08T20:12:27.717Z"
   },
   {
    "duration": 212,
    "start_time": "2022-09-08T20:12:27.734Z"
   },
   {
    "duration": 12,
    "start_time": "2022-09-08T20:28:05.034Z"
   },
   {
    "duration": 29,
    "start_time": "2022-09-08T20:28:22.051Z"
   },
   {
    "duration": 17,
    "start_time": "2022-09-08T20:51:11.447Z"
   },
   {
    "duration": 23,
    "start_time": "2022-09-08T20:51:41.103Z"
   },
   {
    "duration": 26,
    "start_time": "2022-09-08T20:55:14.676Z"
   },
   {
    "duration": 25,
    "start_time": "2022-09-08T20:56:34.771Z"
   },
   {
    "duration": 21,
    "start_time": "2022-09-08T20:56:35.693Z"
   },
   {
    "duration": 24,
    "start_time": "2022-09-08T20:56:36.407Z"
   },
   {
    "duration": 9,
    "start_time": "2022-09-08T20:56:37.325Z"
   },
   {
    "duration": 9,
    "start_time": "2022-09-08T20:56:37.868Z"
   },
   {
    "duration": 3,
    "start_time": "2022-09-08T22:44:34.550Z"
   },
   {
    "duration": 4,
    "start_time": "2022-09-08T22:45:05.153Z"
   },
   {
    "duration": 3,
    "start_time": "2022-09-08T22:45:57.222Z"
   },
   {
    "duration": 4,
    "start_time": "2022-09-08T22:45:57.817Z"
   },
   {
    "duration": 3,
    "start_time": "2022-09-08T22:46:15.651Z"
   },
   {
    "duration": 326,
    "start_time": "2022-09-08T22:46:15.656Z"
   },
   {
    "duration": 26,
    "start_time": "2022-09-08T22:46:15.986Z"
   },
   {
    "duration": 19,
    "start_time": "2022-09-08T22:46:16.014Z"
   },
   {
    "duration": 40,
    "start_time": "2022-09-08T22:46:16.035Z"
   },
   {
    "duration": 10,
    "start_time": "2022-09-08T22:46:16.081Z"
   },
   {
    "duration": 12,
    "start_time": "2022-09-08T22:46:16.092Z"
   },
   {
    "duration": 5,
    "start_time": "2022-09-08T22:46:16.106Z"
   },
   {
    "duration": 5,
    "start_time": "2022-09-08T22:46:16.113Z"
   },
   {
    "duration": 187,
    "start_time": "2022-09-08T22:46:16.120Z"
   },
   {
    "duration": 18,
    "start_time": "2022-09-08T22:46:16.309Z"
   },
   {
    "duration": 19,
    "start_time": "2022-09-08T22:46:18.729Z"
   },
   {
    "duration": 55,
    "start_time": "2022-09-08T22:46:19.336Z"
   },
   {
    "duration": 14,
    "start_time": "2022-09-08T22:46:19.879Z"
   },
   {
    "duration": 192,
    "start_time": "2022-09-08T22:46:21.103Z"
   },
   {
    "duration": 21,
    "start_time": "2022-09-08T22:46:21.408Z"
   },
   {
    "duration": 32,
    "start_time": "2022-09-08T22:46:22.464Z"
   },
   {
    "duration": 5,
    "start_time": "2022-09-08T22:46:26.529Z"
   },
   {
    "duration": 5,
    "start_time": "2022-09-08T22:46:28.566Z"
   },
   {
    "duration": 79,
    "start_time": "2022-09-08T22:51:49.199Z"
   },
   {
    "duration": 50,
    "start_time": "2022-09-08T23:02:34.634Z"
   },
   {
    "duration": 46,
    "start_time": "2022-09-08T23:23:32.184Z"
   },
   {
    "duration": 9,
    "start_time": "2022-09-08T23:26:02.805Z"
   },
   {
    "duration": 9,
    "start_time": "2022-09-08T23:26:26.432Z"
   },
   {
    "duration": 9,
    "start_time": "2022-09-08T23:26:43.232Z"
   },
   {
    "duration": 130,
    "start_time": "2022-09-08T23:27:26.065Z"
   },
   {
    "duration": 10,
    "start_time": "2022-09-08T23:27:39.353Z"
   },
   {
    "duration": 10924,
    "start_time": "2022-09-08T23:28:41.914Z"
   },
   {
    "duration": 2706,
    "start_time": "2022-09-08T23:31:18.355Z"
   },
   {
    "duration": 576,
    "start_time": "2022-09-08T23:32:21.621Z"
   },
   {
    "duration": 4,
    "start_time": "2022-09-08T23:33:32.098Z"
   },
   {
    "duration": 51,
    "start_time": "2022-09-08T23:33:58.085Z"
   },
   {
    "duration": 53,
    "start_time": "2022-09-08T23:37:45.298Z"
   },
   {
    "duration": 47,
    "start_time": "2022-09-08T23:38:44.255Z"
   },
   {
    "duration": 30,
    "start_time": "2022-09-08T23:41:18.452Z"
   },
   {
    "duration": 46,
    "start_time": "2022-09-08T23:42:07.262Z"
   },
   {
    "duration": 3,
    "start_time": "2022-09-08T23:42:21.600Z"
   },
   {
    "duration": 336,
    "start_time": "2022-09-08T23:42:21.605Z"
   },
   {
    "duration": 25,
    "start_time": "2022-09-08T23:42:21.943Z"
   },
   {
    "duration": 25,
    "start_time": "2022-09-08T23:42:21.973Z"
   },
   {
    "duration": 23,
    "start_time": "2022-09-08T23:42:22.000Z"
   },
   {
    "duration": 9,
    "start_time": "2022-09-08T23:42:22.024Z"
   },
   {
    "duration": 14,
    "start_time": "2022-09-08T23:42:22.034Z"
   },
   {
    "duration": 15,
    "start_time": "2022-09-08T23:42:22.067Z"
   },
   {
    "duration": 6,
    "start_time": "2022-09-08T23:42:22.084Z"
   },
   {
    "duration": 160,
    "start_time": "2022-09-08T23:42:22.092Z"
   },
   {
    "duration": 27,
    "start_time": "2022-09-08T23:42:22.255Z"
   },
   {
    "duration": 48,
    "start_time": "2022-09-08T23:42:22.284Z"
   },
   {
    "duration": 14,
    "start_time": "2022-09-08T23:42:22.334Z"
   },
   {
    "duration": 206,
    "start_time": "2022-09-08T23:42:22.376Z"
   },
   {
    "duration": 21,
    "start_time": "2022-09-08T23:42:22.584Z"
   },
   {
    "duration": 27,
    "start_time": "2022-09-08T23:42:22.606Z"
   },
   {
    "duration": 4,
    "start_time": "2022-09-08T23:42:22.634Z"
   },
   {
    "duration": 8,
    "start_time": "2022-09-08T23:42:22.640Z"
   },
   {
    "duration": 80,
    "start_time": "2022-09-08T23:42:22.672Z"
   },
   {
    "duration": 28,
    "start_time": "2022-09-08T23:42:22.754Z"
   },
   {
    "duration": 10,
    "start_time": "2022-09-08T23:42:32.777Z"
   },
   {
    "duration": 658,
    "start_time": "2022-09-08T23:42:33.495Z"
   },
   {
    "duration": 31,
    "start_time": "2022-09-08T23:44:34.361Z"
   },
   {
    "duration": 5,
    "start_time": "2022-09-08T23:56:47.186Z"
   },
   {
    "duration": 51,
    "start_time": "2022-09-08T23:57:02.228Z"
   },
   {
    "duration": 25,
    "start_time": "2022-09-08T23:57:04.325Z"
   },
   {
    "duration": 2832,
    "start_time": "2022-09-08T23:59:30.518Z"
   },
   {
    "duration": 1231,
    "start_time": "2022-09-09T05:57:19.756Z"
   },
   {
    "duration": 822,
    "start_time": "2022-09-09T05:57:20.989Z"
   },
   {
    "duration": 36,
    "start_time": "2022-09-09T05:57:21.813Z"
   },
   {
    "duration": 23,
    "start_time": "2022-09-09T05:57:21.851Z"
   },
   {
    "duration": 23,
    "start_time": "2022-09-09T05:57:21.876Z"
   },
   {
    "duration": 28,
    "start_time": "2022-09-09T05:57:21.900Z"
   },
   {
    "duration": 16,
    "start_time": "2022-09-09T05:57:21.930Z"
   },
   {
    "duration": 13,
    "start_time": "2022-09-09T05:57:21.947Z"
   },
   {
    "duration": 35,
    "start_time": "2022-09-09T05:57:21.962Z"
   },
   {
    "duration": 186,
    "start_time": "2022-09-09T05:57:21.998Z"
   },
   {
    "duration": 18,
    "start_time": "2022-09-09T05:57:22.185Z"
   },
   {
    "duration": 105,
    "start_time": "2022-09-09T05:57:22.205Z"
   },
   {
    "duration": 0,
    "start_time": "2022-09-09T05:57:22.312Z"
   },
   {
    "duration": 0,
    "start_time": "2022-09-09T05:57:22.320Z"
   },
   {
    "duration": 3,
    "start_time": "2022-09-09T05:58:13.427Z"
   },
   {
    "duration": 306,
    "start_time": "2022-09-09T05:58:13.432Z"
   },
   {
    "duration": 25,
    "start_time": "2022-09-09T05:58:13.739Z"
   },
   {
    "duration": 19,
    "start_time": "2022-09-09T05:58:13.766Z"
   },
   {
    "duration": 33,
    "start_time": "2022-09-09T05:58:13.787Z"
   },
   {
    "duration": 10,
    "start_time": "2022-09-09T05:58:13.822Z"
   },
   {
    "duration": 18,
    "start_time": "2022-09-09T05:58:13.834Z"
   },
   {
    "duration": 7,
    "start_time": "2022-09-09T05:58:13.854Z"
   },
   {
    "duration": 13,
    "start_time": "2022-09-09T05:58:13.864Z"
   },
   {
    "duration": 189,
    "start_time": "2022-09-09T05:58:13.878Z"
   },
   {
    "duration": 20,
    "start_time": "2022-09-09T05:58:14.069Z"
   },
   {
    "duration": 9,
    "start_time": "2022-09-09T05:58:14.091Z"
   },
   {
    "duration": 0,
    "start_time": "2022-09-09T05:58:14.102Z"
   },
   {
    "duration": 0,
    "start_time": "2022-09-09T05:58:14.121Z"
   },
   {
    "duration": 3,
    "start_time": "2022-09-09T05:58:27.715Z"
   },
   {
    "duration": 343,
    "start_time": "2022-09-09T05:58:27.720Z"
   },
   {
    "duration": 25,
    "start_time": "2022-09-09T05:58:28.065Z"
   },
   {
    "duration": 19,
    "start_time": "2022-09-09T05:58:28.092Z"
   },
   {
    "duration": 23,
    "start_time": "2022-09-09T05:58:28.113Z"
   },
   {
    "duration": 9,
    "start_time": "2022-09-09T05:58:28.137Z"
   },
   {
    "duration": 11,
    "start_time": "2022-09-09T05:58:28.148Z"
   },
   {
    "duration": 7,
    "start_time": "2022-09-09T05:58:28.161Z"
   },
   {
    "duration": 12,
    "start_time": "2022-09-09T05:58:28.170Z"
   },
   {
    "duration": 189,
    "start_time": "2022-09-09T05:58:28.184Z"
   },
   {
    "duration": 18,
    "start_time": "2022-09-09T05:58:28.375Z"
   },
   {
    "duration": 19,
    "start_time": "2022-09-09T05:58:32.567Z"
   },
   {
    "duration": 9,
    "start_time": "2022-09-09T05:58:34.347Z"
   },
   {
    "duration": 10,
    "start_time": "2022-09-09T05:58:34.854Z"
   },
   {
    "duration": 62,
    "start_time": "2022-09-09T05:58:58.827Z"
   },
   {
    "duration": 8,
    "start_time": "2022-09-09T05:59:14.677Z"
   },
   {
    "duration": 3,
    "start_time": "2022-09-09T05:59:29.385Z"
   },
   {
    "duration": 331,
    "start_time": "2022-09-09T05:59:29.390Z"
   },
   {
    "duration": 23,
    "start_time": "2022-09-09T05:59:29.723Z"
   },
   {
    "duration": 36,
    "start_time": "2022-09-09T05:59:29.749Z"
   },
   {
    "duration": 44,
    "start_time": "2022-09-09T05:59:29.788Z"
   },
   {
    "duration": 10,
    "start_time": "2022-09-09T05:59:29.834Z"
   },
   {
    "duration": 35,
    "start_time": "2022-09-09T05:59:29.846Z"
   },
   {
    "duration": 11,
    "start_time": "2022-09-09T05:59:29.882Z"
   },
   {
    "duration": 41,
    "start_time": "2022-09-09T05:59:29.895Z"
   },
   {
    "duration": 180,
    "start_time": "2022-09-09T05:59:29.938Z"
   },
   {
    "duration": 18,
    "start_time": "2022-09-09T05:59:30.120Z"
   },
   {
    "duration": 82,
    "start_time": "2022-09-09T05:59:30.139Z"
   },
   {
    "duration": 55,
    "start_time": "2022-09-09T05:59:34.926Z"
   },
   {
    "duration": 8,
    "start_time": "2022-09-09T05:59:36.665Z"
   },
   {
    "duration": 15,
    "start_time": "2022-09-09T05:59:45.338Z"
   },
   {
    "duration": 240,
    "start_time": "2022-09-09T05:59:47.247Z"
   },
   {
    "duration": 23,
    "start_time": "2022-09-09T05:59:47.837Z"
   },
   {
    "duration": 27,
    "start_time": "2022-09-09T06:02:33.888Z"
   },
   {
    "duration": 4,
    "start_time": "2022-09-09T06:02:49.709Z"
   },
   {
    "duration": 4,
    "start_time": "2022-09-09T06:02:50.217Z"
   },
   {
    "duration": 87,
    "start_time": "2022-09-09T06:02:57.297Z"
   },
   {
    "duration": 8,
    "start_time": "2022-09-09T06:03:14.967Z"
   },
   {
    "duration": 580,
    "start_time": "2022-09-09T06:03:29.925Z"
   },
   {
    "duration": 37,
    "start_time": "2022-09-09T06:03:37.807Z"
   },
   {
    "duration": 4,
    "start_time": "2022-09-09T06:03:47.147Z"
   },
   {
    "duration": 2292,
    "start_time": "2022-09-09T06:03:50.697Z"
   },
   {
    "duration": 3,
    "start_time": "2022-09-09T07:15:41.371Z"
   },
   {
    "duration": 343,
    "start_time": "2022-09-09T07:15:41.376Z"
   },
   {
    "duration": 31,
    "start_time": "2022-09-09T07:15:41.727Z"
   },
   {
    "duration": 22,
    "start_time": "2022-09-09T07:15:41.760Z"
   },
   {
    "duration": 62,
    "start_time": "2022-09-09T07:15:41.785Z"
   },
   {
    "duration": 12,
    "start_time": "2022-09-09T07:15:41.850Z"
   },
   {
    "duration": 23,
    "start_time": "2022-09-09T07:15:41.864Z"
   },
   {
    "duration": 14,
    "start_time": "2022-09-09T07:15:41.889Z"
   },
   {
    "duration": 8,
    "start_time": "2022-09-09T07:15:41.905Z"
   },
   {
    "duration": 179,
    "start_time": "2022-09-09T07:15:41.915Z"
   },
   {
    "duration": 37,
    "start_time": "2022-09-09T07:15:42.097Z"
   },
   {
    "duration": 53,
    "start_time": "2022-09-09T07:15:42.136Z"
   },
   {
    "duration": 16,
    "start_time": "2022-09-09T07:15:42.191Z"
   },
   {
    "duration": 248,
    "start_time": "2022-09-09T07:15:42.208Z"
   },
   {
    "duration": 21,
    "start_time": "2022-09-09T07:15:42.458Z"
   },
   {
    "duration": 43,
    "start_time": "2022-09-09T07:15:42.481Z"
   },
   {
    "duration": 12,
    "start_time": "2022-09-09T07:15:42.525Z"
   },
   {
    "duration": 17,
    "start_time": "2022-09-09T07:15:42.540Z"
   },
   {
    "duration": 179,
    "start_time": "2022-09-09T07:15:42.559Z"
   },
   {
    "duration": 13,
    "start_time": "2022-09-09T07:15:47.792Z"
   },
   {
    "duration": 743,
    "start_time": "2022-09-09T07:15:49.191Z"
   },
   {
    "duration": 27,
    "start_time": "2022-09-09T07:16:10.539Z"
   },
   {
    "duration": 4,
    "start_time": "2022-09-09T07:16:16.489Z"
   },
   {
    "duration": 2651,
    "start_time": "2022-09-09T07:16:18.199Z"
   },
   {
    "duration": 4,
    "start_time": "2022-09-09T07:24:15.411Z"
   },
   {
    "duration": 361,
    "start_time": "2022-09-09T07:24:15.417Z"
   },
   {
    "duration": 25,
    "start_time": "2022-09-09T07:24:15.780Z"
   },
   {
    "duration": 25,
    "start_time": "2022-09-09T07:24:15.807Z"
   },
   {
    "duration": 53,
    "start_time": "2022-09-09T07:24:15.834Z"
   },
   {
    "duration": 10,
    "start_time": "2022-09-09T07:24:15.889Z"
   },
   {
    "duration": 36,
    "start_time": "2022-09-09T07:24:15.901Z"
   },
   {
    "duration": 30,
    "start_time": "2022-09-09T07:24:15.941Z"
   },
   {
    "duration": 20,
    "start_time": "2022-09-09T07:24:15.973Z"
   },
   {
    "duration": 274,
    "start_time": "2022-09-09T07:24:15.996Z"
   },
   {
    "duration": 21,
    "start_time": "2022-09-09T07:24:16.273Z"
   },
   {
    "duration": 99,
    "start_time": "2022-09-09T07:24:16.296Z"
   },
   {
    "duration": 43,
    "start_time": "2022-09-09T07:24:16.398Z"
   },
   {
    "duration": 297,
    "start_time": "2022-09-09T07:24:16.443Z"
   },
   {
    "duration": 37,
    "start_time": "2022-09-09T07:24:16.742Z"
   },
   {
    "duration": 61,
    "start_time": "2022-09-09T07:24:16.781Z"
   },
   {
    "duration": 6,
    "start_time": "2022-09-09T07:24:16.845Z"
   },
   {
    "duration": 12,
    "start_time": "2022-09-09T07:24:16.853Z"
   },
   {
    "duration": 109,
    "start_time": "2022-09-09T07:24:16.867Z"
   },
   {
    "duration": 14,
    "start_time": "2022-09-09T07:24:16.979Z"
   },
   {
    "duration": 4,
    "start_time": "2022-09-09T07:25:53.936Z"
   },
   {
    "duration": 370,
    "start_time": "2022-09-09T07:25:53.942Z"
   },
   {
    "duration": 39,
    "start_time": "2022-09-09T07:25:54.314Z"
   },
   {
    "duration": 29,
    "start_time": "2022-09-09T07:25:54.356Z"
   },
   {
    "duration": 53,
    "start_time": "2022-09-09T07:25:54.388Z"
   },
   {
    "duration": 10,
    "start_time": "2022-09-09T07:25:54.443Z"
   },
   {
    "duration": 13,
    "start_time": "2022-09-09T07:25:54.454Z"
   },
   {
    "duration": 7,
    "start_time": "2022-09-09T07:25:54.469Z"
   },
   {
    "duration": 10,
    "start_time": "2022-09-09T07:25:54.479Z"
   },
   {
    "duration": 198,
    "start_time": "2022-09-09T07:25:54.491Z"
   },
   {
    "duration": 19,
    "start_time": "2022-09-09T07:25:54.691Z"
   },
   {
    "duration": 67,
    "start_time": "2022-09-09T07:25:54.712Z"
   },
   {
    "duration": 15,
    "start_time": "2022-09-09T07:25:54.781Z"
   },
   {
    "duration": 237,
    "start_time": "2022-09-09T07:25:54.798Z"
   },
   {
    "duration": 27,
    "start_time": "2022-09-09T07:25:55.037Z"
   },
   {
    "duration": 29,
    "start_time": "2022-09-09T07:25:55.066Z"
   },
   {
    "duration": 26,
    "start_time": "2022-09-09T07:25:55.097Z"
   },
   {
    "duration": 5,
    "start_time": "2022-09-09T07:25:55.132Z"
   },
   {
    "duration": 91,
    "start_time": "2022-09-09T07:25:55.139Z"
   },
   {
    "duration": 51,
    "start_time": "2022-09-09T07:26:04.961Z"
   },
   {
    "duration": 9,
    "start_time": "2022-09-09T07:26:12.938Z"
   },
   {
    "duration": 30,
    "start_time": "2022-09-09T07:26:17.554Z"
   },
   {
    "duration": 37,
    "start_time": "2022-09-09T07:26:53.730Z"
   },
   {
    "duration": 32,
    "start_time": "2022-09-09T07:27:46.062Z"
   },
   {
    "duration": 29,
    "start_time": "2022-09-09T07:28:43.675Z"
   },
   {
    "duration": 27,
    "start_time": "2022-09-09T07:29:35.729Z"
   },
   {
    "duration": 27,
    "start_time": "2022-09-09T07:30:28.136Z"
   },
   {
    "duration": 37,
    "start_time": "2022-09-09T07:30:47.803Z"
   },
   {
    "duration": 21,
    "start_time": "2022-09-09T07:35:27.537Z"
   },
   {
    "duration": 4,
    "start_time": "2022-09-09T07:39:07.537Z"
   },
   {
    "duration": 353,
    "start_time": "2022-09-09T07:39:07.543Z"
   },
   {
    "duration": 36,
    "start_time": "2022-09-09T07:39:07.898Z"
   },
   {
    "duration": 29,
    "start_time": "2022-09-09T07:39:07.938Z"
   },
   {
    "duration": 30,
    "start_time": "2022-09-09T07:39:07.969Z"
   },
   {
    "duration": 25,
    "start_time": "2022-09-09T07:39:08.001Z"
   },
   {
    "duration": 28,
    "start_time": "2022-09-09T07:39:08.028Z"
   },
   {
    "duration": 18,
    "start_time": "2022-09-09T07:39:08.058Z"
   },
   {
    "duration": 25,
    "start_time": "2022-09-09T07:39:08.078Z"
   },
   {
    "duration": 217,
    "start_time": "2022-09-09T07:39:08.104Z"
   },
   {
    "duration": 23,
    "start_time": "2022-09-09T07:39:08.324Z"
   },
   {
    "duration": 94,
    "start_time": "2022-09-09T07:39:08.349Z"
   },
   {
    "duration": 21,
    "start_time": "2022-09-09T07:39:08.445Z"
   },
   {
    "duration": 258,
    "start_time": "2022-09-09T07:39:08.469Z"
   },
   {
    "duration": 28,
    "start_time": "2022-09-09T07:39:08.733Z"
   },
   {
    "duration": 34,
    "start_time": "2022-09-09T07:39:08.763Z"
   },
   {
    "duration": 12,
    "start_time": "2022-09-09T07:39:08.799Z"
   },
   {
    "duration": 59,
    "start_time": "2022-09-09T07:39:08.813Z"
   },
   {
    "duration": 172,
    "start_time": "2022-09-09T07:39:08.875Z"
   },
   {
    "duration": 15,
    "start_time": "2022-09-09T07:39:09.049Z"
   },
   {
    "duration": 10,
    "start_time": "2022-09-09T07:39:12.694Z"
   },
   {
    "duration": 28,
    "start_time": "2022-09-09T07:39:13.496Z"
   },
   {
    "duration": 18,
    "start_time": "2022-09-09T07:39:25.565Z"
   },
   {
    "duration": 5,
    "start_time": "2022-09-09T07:39:48.265Z"
   },
   {
    "duration": 3,
    "start_time": "2022-09-09T09:34:27.450Z"
   },
   {
    "duration": 314,
    "start_time": "2022-09-09T09:34:27.455Z"
   },
   {
    "duration": 26,
    "start_time": "2022-09-09T09:34:27.771Z"
   },
   {
    "duration": 22,
    "start_time": "2022-09-09T09:34:27.800Z"
   },
   {
    "duration": 25,
    "start_time": "2022-09-09T09:34:27.825Z"
   },
   {
    "duration": 13,
    "start_time": "2022-09-09T09:34:27.852Z"
   },
   {
    "duration": 16,
    "start_time": "2022-09-09T09:34:27.867Z"
   },
   {
    "duration": 1087,
    "start_time": "2022-09-09T09:34:31.695Z"
   },
   {
    "duration": 81,
    "start_time": "2022-09-09T09:35:37.018Z"
   },
   {
    "duration": 90,
    "start_time": "2022-09-09T09:49:53.382Z"
   },
   {
    "duration": 55,
    "start_time": "2022-09-09T09:52:05.982Z"
   },
   {
    "duration": 2831,
    "start_time": "2022-09-09T09:52:18.892Z"
   },
   {
    "duration": 64,
    "start_time": "2022-09-09T09:56:34.731Z"
   },
   {
    "duration": 66,
    "start_time": "2022-09-09T09:57:22.381Z"
   },
   {
    "duration": 63,
    "start_time": "2022-09-09T09:57:33.196Z"
   },
   {
    "duration": 62,
    "start_time": "2022-09-09T09:58:05.412Z"
   },
   {
    "duration": 42,
    "start_time": "2022-09-09T10:17:31.175Z"
   },
   {
    "duration": 65,
    "start_time": "2022-09-09T10:18:00.415Z"
   },
   {
    "duration": 38,
    "start_time": "2022-09-09T10:19:10.474Z"
   },
   {
    "duration": 51,
    "start_time": "2022-09-09T10:19:15.895Z"
   },
   {
    "duration": 59,
    "start_time": "2022-09-09T10:23:41.775Z"
   },
   {
    "duration": 13,
    "start_time": "2022-09-09T10:24:32.674Z"
   },
   {
    "duration": 12,
    "start_time": "2022-09-09T10:26:41.874Z"
   },
   {
    "duration": 19,
    "start_time": "2022-09-09T10:27:40.025Z"
   },
   {
    "duration": 17,
    "start_time": "2022-09-09T10:28:32.712Z"
   },
   {
    "duration": 15,
    "start_time": "2022-09-09T10:28:40.703Z"
   },
   {
    "duration": 43,
    "start_time": "2022-09-09T10:30:21.174Z"
   },
   {
    "duration": 49,
    "start_time": "2022-09-09T10:30:35.162Z"
   },
   {
    "duration": 3,
    "start_time": "2022-09-09T10:31:07.894Z"
   },
   {
    "duration": 6,
    "start_time": "2022-09-09T10:31:07.899Z"
   },
   {
    "duration": 323,
    "start_time": "2022-09-09T10:31:07.906Z"
   },
   {
    "duration": 28,
    "start_time": "2022-09-09T10:31:08.231Z"
   },
   {
    "duration": 21,
    "start_time": "2022-09-09T10:31:08.260Z"
   },
   {
    "duration": 45,
    "start_time": "2022-09-09T10:31:08.283Z"
   },
   {
    "duration": 11,
    "start_time": "2022-09-09T10:31:08.330Z"
   },
   {
    "duration": 17,
    "start_time": "2022-09-09T10:31:08.343Z"
   },
   {
    "duration": 93,
    "start_time": "2022-09-09T10:31:08.363Z"
   },
   {
    "duration": 73,
    "start_time": "2022-09-09T10:32:23.294Z"
   },
   {
    "duration": 10,
    "start_time": "2022-09-09T10:33:33.232Z"
   },
   {
    "duration": 3,
    "start_time": "2022-09-09T10:33:57.294Z"
   },
   {
    "duration": 5,
    "start_time": "2022-09-09T10:33:57.352Z"
   },
   {
    "duration": 316,
    "start_time": "2022-09-09T10:33:57.358Z"
   },
   {
    "duration": 25,
    "start_time": "2022-09-09T10:33:57.676Z"
   },
   {
    "duration": 26,
    "start_time": "2022-09-09T10:33:57.703Z"
   },
   {
    "duration": 24,
    "start_time": "2022-09-09T10:33:57.731Z"
   },
   {
    "duration": 12,
    "start_time": "2022-09-09T10:33:57.757Z"
   },
   {
    "duration": 15,
    "start_time": "2022-09-09T10:33:57.771Z"
   },
   {
    "duration": 105,
    "start_time": "2022-09-09T10:33:57.788Z"
   },
   {
    "duration": 78,
    "start_time": "2022-09-09T10:34:09.788Z"
   },
   {
    "duration": 3,
    "start_time": "2022-09-09T10:34:37.533Z"
   },
   {
    "duration": 10,
    "start_time": "2022-09-09T10:34:37.538Z"
   },
   {
    "duration": 321,
    "start_time": "2022-09-09T10:34:37.550Z"
   },
   {
    "duration": 25,
    "start_time": "2022-09-09T10:34:37.874Z"
   },
   {
    "duration": 20,
    "start_time": "2022-09-09T10:34:37.901Z"
   },
   {
    "duration": 23,
    "start_time": "2022-09-09T10:34:37.922Z"
   },
   {
    "duration": 10,
    "start_time": "2022-09-09T10:34:37.946Z"
   },
   {
    "duration": 15,
    "start_time": "2022-09-09T10:34:37.958Z"
   },
   {
    "duration": 107,
    "start_time": "2022-09-09T10:34:37.975Z"
   },
   {
    "duration": 39,
    "start_time": "2022-09-09T10:34:42.269Z"
   },
   {
    "duration": 63,
    "start_time": "2022-09-09T10:35:00.136Z"
   },
   {
    "duration": 5,
    "start_time": "2022-09-09T10:35:44.851Z"
   },
   {
    "duration": 41,
    "start_time": "2022-09-09T10:35:49.742Z"
   },
   {
    "duration": 43,
    "start_time": "2022-09-09T10:36:17.140Z"
   },
   {
    "duration": 15,
    "start_time": "2022-09-09T10:36:20.233Z"
   },
   {
    "duration": 16,
    "start_time": "2022-09-09T10:41:09.423Z"
   },
   {
    "duration": 3,
    "start_time": "2022-09-09T10:44:58.026Z"
   },
   {
    "duration": 8,
    "start_time": "2022-09-09T10:44:58.031Z"
   },
   {
    "duration": 321,
    "start_time": "2022-09-09T10:44:58.041Z"
   },
   {
    "duration": 25,
    "start_time": "2022-09-09T10:44:58.364Z"
   },
   {
    "duration": 19,
    "start_time": "2022-09-09T10:44:58.391Z"
   },
   {
    "duration": 26,
    "start_time": "2022-09-09T10:44:58.412Z"
   },
   {
    "duration": 9,
    "start_time": "2022-09-09T10:44:58.440Z"
   },
   {
    "duration": 16,
    "start_time": "2022-09-09T10:44:58.450Z"
   },
   {
    "duration": 106,
    "start_time": "2022-09-09T10:44:58.468Z"
   },
   {
    "duration": 14,
    "start_time": "2022-09-09T10:44:58.577Z"
   },
   {
    "duration": 0,
    "start_time": "2022-09-09T10:44:58.593Z"
   },
   {
    "duration": 0,
    "start_time": "2022-09-09T10:44:58.594Z"
   },
   {
    "duration": 3,
    "start_time": "2022-09-09T10:45:31.643Z"
   },
   {
    "duration": 21,
    "start_time": "2022-09-09T10:45:31.648Z"
   },
   {
    "duration": 347,
    "start_time": "2022-09-09T10:45:31.670Z"
   },
   {
    "duration": 26,
    "start_time": "2022-09-09T10:45:32.019Z"
   },
   {
    "duration": 19,
    "start_time": "2022-09-09T10:45:32.047Z"
   },
   {
    "duration": 23,
    "start_time": "2022-09-09T10:45:32.068Z"
   },
   {
    "duration": 10,
    "start_time": "2022-09-09T10:45:32.120Z"
   },
   {
    "duration": 49,
    "start_time": "2022-09-09T10:45:32.132Z"
   },
   {
    "duration": 93,
    "start_time": "2022-09-09T10:45:32.183Z"
   },
   {
    "duration": 3,
    "start_time": "2022-09-09T10:46:34.082Z"
   },
   {
    "duration": 4,
    "start_time": "2022-09-09T10:46:34.107Z"
   },
   {
    "duration": 306,
    "start_time": "2022-09-09T10:46:34.114Z"
   },
   {
    "duration": 26,
    "start_time": "2022-09-09T10:46:34.422Z"
   },
   {
    "duration": 22,
    "start_time": "2022-09-09T10:46:34.450Z"
   },
   {
    "duration": 51,
    "start_time": "2022-09-09T10:46:34.475Z"
   },
   {
    "duration": 10,
    "start_time": "2022-09-09T10:46:34.528Z"
   },
   {
    "duration": 12,
    "start_time": "2022-09-09T10:46:34.540Z"
   },
   {
    "duration": 119,
    "start_time": "2022-09-09T10:46:34.554Z"
   },
   {
    "duration": 85,
    "start_time": "2022-09-09T10:47:34.444Z"
   },
   {
    "duration": 3,
    "start_time": "2022-09-09T10:48:14.683Z"
   },
   {
    "duration": 11,
    "start_time": "2022-09-09T10:48:14.688Z"
   },
   {
    "duration": 308,
    "start_time": "2022-09-09T10:48:14.700Z"
   },
   {
    "duration": 25,
    "start_time": "2022-09-09T10:48:15.010Z"
   },
   {
    "duration": 19,
    "start_time": "2022-09-09T10:48:15.038Z"
   },
   {
    "duration": 19,
    "start_time": "2022-09-09T10:48:21.684Z"
   },
   {
    "duration": 24,
    "start_time": "2022-09-09T10:48:23.303Z"
   },
   {
    "duration": 10,
    "start_time": "2022-09-09T10:48:47.004Z"
   },
   {
    "duration": 10,
    "start_time": "2022-09-09T10:48:48.443Z"
   },
   {
    "duration": 81,
    "start_time": "2022-09-09T10:50:02.241Z"
   },
   {
    "duration": 39,
    "start_time": "2022-09-09T10:50:24.543Z"
   },
   {
    "duration": 47,
    "start_time": "2022-09-09T10:50:40.785Z"
   },
   {
    "duration": 17,
    "start_time": "2022-09-09T10:51:56.428Z"
   },
   {
    "duration": 17,
    "start_time": "2022-09-09T10:52:05.863Z"
   },
   {
    "duration": 4,
    "start_time": "2022-09-09T11:17:52.021Z"
   },
   {
    "duration": 8,
    "start_time": "2022-09-09T11:17:52.030Z"
   },
   {
    "duration": 315,
    "start_time": "2022-09-09T11:17:52.040Z"
   },
   {
    "duration": 28,
    "start_time": "2022-09-09T11:17:52.356Z"
   },
   {
    "duration": 21,
    "start_time": "2022-09-09T11:17:52.386Z"
   },
   {
    "duration": 24,
    "start_time": "2022-09-09T11:17:52.409Z"
   },
   {
    "duration": 18,
    "start_time": "2022-09-09T11:17:52.435Z"
   },
   {
    "duration": 20,
    "start_time": "2022-09-09T11:17:56.922Z"
   },
   {
    "duration": 20,
    "start_time": "2022-09-09T11:18:05.440Z"
   },
   {
    "duration": 47,
    "start_time": "2022-09-09T13:32:54.589Z"
   },
   {
    "duration": 1309,
    "start_time": "2022-09-09T13:33:02.379Z"
   },
   {
    "duration": 5,
    "start_time": "2022-09-09T13:33:03.690Z"
   },
   {
    "duration": 1065,
    "start_time": "2022-09-09T13:33:03.697Z"
   },
   {
    "duration": 38,
    "start_time": "2022-09-09T13:33:04.769Z"
   },
   {
    "duration": 19,
    "start_time": "2022-09-09T13:33:04.808Z"
   },
   {
    "duration": 27,
    "start_time": "2022-09-09T13:33:04.829Z"
   },
   {
    "duration": 29,
    "start_time": "2022-09-09T13:33:04.859Z"
   },
   {
    "duration": 17,
    "start_time": "2022-09-09T13:33:04.889Z"
   },
   {
    "duration": 116,
    "start_time": "2022-09-09T13:33:04.907Z"
   },
   {
    "duration": 54,
    "start_time": "2022-09-09T13:33:05.026Z"
   },
   {
    "duration": 65,
    "start_time": "2022-09-09T13:33:05.082Z"
   },
   {
    "duration": 18,
    "start_time": "2022-09-09T13:33:05.149Z"
   },
   {
    "duration": 38,
    "start_time": "2022-09-09T13:33:05.169Z"
   },
   {
    "duration": 6,
    "start_time": "2022-09-09T13:33:05.208Z"
   },
   {
    "duration": 14,
    "start_time": "2022-09-09T13:33:28.574Z"
   },
   {
    "duration": 92,
    "start_time": "2022-09-09T13:41:31.693Z"
   },
   {
    "duration": 28,
    "start_time": "2022-09-09T13:41:39.939Z"
   },
   {
    "duration": 11,
    "start_time": "2022-09-09T13:42:27.331Z"
   },
   {
    "duration": 4,
    "start_time": "2022-09-09T13:43:06.117Z"
   },
   {
    "duration": 9,
    "start_time": "2022-09-09T13:43:06.123Z"
   },
   {
    "duration": 380,
    "start_time": "2022-09-09T13:43:06.133Z"
   },
   {
    "duration": 32,
    "start_time": "2022-09-09T13:43:06.515Z"
   },
   {
    "duration": 53,
    "start_time": "2022-09-09T13:43:06.549Z"
   },
   {
    "duration": 27,
    "start_time": "2022-09-09T13:43:06.603Z"
   },
   {
    "duration": 25,
    "start_time": "2022-09-09T13:43:06.632Z"
   },
   {
    "duration": 46,
    "start_time": "2022-09-09T13:43:06.664Z"
   },
   {
    "duration": 100,
    "start_time": "2022-09-09T13:43:06.712Z"
   },
   {
    "duration": 54,
    "start_time": "2022-09-09T13:43:06.813Z"
   },
   {
    "duration": 55,
    "start_time": "2022-09-09T13:43:06.870Z"
   },
   {
    "duration": 32,
    "start_time": "2022-09-09T13:43:06.926Z"
   },
   {
    "duration": 18,
    "start_time": "2022-09-09T13:43:06.962Z"
   },
   {
    "duration": 13,
    "start_time": "2022-09-09T13:43:06.981Z"
   },
   {
    "duration": 22,
    "start_time": "2022-09-09T13:43:06.996Z"
   },
   {
    "duration": 8,
    "start_time": "2022-09-09T14:06:21.376Z"
   },
   {
    "duration": 4,
    "start_time": "2022-09-09T14:06:26.738Z"
   },
   {
    "duration": 49,
    "start_time": "2022-09-09T14:40:45.119Z"
   },
   {
    "duration": 3,
    "start_time": "2022-09-09T15:56:15.764Z"
   },
   {
    "duration": 18,
    "start_time": "2022-09-09T15:56:15.769Z"
   },
   {
    "duration": 325,
    "start_time": "2022-09-09T15:56:15.789Z"
   },
   {
    "duration": 24,
    "start_time": "2022-09-09T15:56:16.116Z"
   },
   {
    "duration": 40,
    "start_time": "2022-09-09T15:56:16.141Z"
   },
   {
    "duration": 50,
    "start_time": "2022-09-09T15:56:16.183Z"
   },
   {
    "duration": 31,
    "start_time": "2022-09-09T15:56:16.236Z"
   },
   {
    "duration": 25,
    "start_time": "2022-09-09T15:56:16.269Z"
   },
   {
    "duration": 118,
    "start_time": "2022-09-09T15:56:16.298Z"
   },
   {
    "duration": 49,
    "start_time": "2022-09-09T15:56:16.418Z"
   },
   {
    "duration": 66,
    "start_time": "2022-09-09T15:56:16.469Z"
   },
   {
    "duration": 21,
    "start_time": "2022-09-09T15:56:16.536Z"
   },
   {
    "duration": 33,
    "start_time": "2022-09-09T15:56:16.558Z"
   },
   {
    "duration": 27,
    "start_time": "2022-09-09T15:56:16.594Z"
   },
   {
    "duration": 19,
    "start_time": "2022-09-09T15:56:24.490Z"
   },
   {
    "duration": 4,
    "start_time": "2022-09-09T15:56:33.138Z"
   },
   {
    "duration": 8,
    "start_time": "2022-09-09T15:56:35.898Z"
   },
   {
    "duration": 3,
    "start_time": "2022-09-09T16:09:19.760Z"
   },
   {
    "duration": 10,
    "start_time": "2022-09-09T16:09:19.765Z"
   },
   {
    "duration": 310,
    "start_time": "2022-09-09T16:09:19.777Z"
   },
   {
    "duration": 25,
    "start_time": "2022-09-09T16:09:20.088Z"
   },
   {
    "duration": 19,
    "start_time": "2022-09-09T16:09:20.116Z"
   },
   {
    "duration": 33,
    "start_time": "2022-09-09T16:09:20.137Z"
   },
   {
    "duration": 15,
    "start_time": "2022-09-09T16:09:20.172Z"
   },
   {
    "duration": 19,
    "start_time": "2022-09-09T16:09:20.189Z"
   },
   {
    "duration": 103,
    "start_time": "2022-09-09T16:09:20.209Z"
   },
   {
    "duration": 49,
    "start_time": "2022-09-09T16:09:20.314Z"
   },
   {
    "duration": 47,
    "start_time": "2022-09-09T16:09:20.365Z"
   },
   {
    "duration": 13,
    "start_time": "2022-09-09T16:09:20.414Z"
   },
   {
    "duration": 34,
    "start_time": "2022-09-09T16:09:20.429Z"
   },
   {
    "duration": 13,
    "start_time": "2022-09-09T16:09:20.465Z"
   },
   {
    "duration": 21,
    "start_time": "2022-09-09T16:09:20.479Z"
   },
   {
    "duration": 5,
    "start_time": "2022-09-09T16:09:20.502Z"
   },
   {
    "duration": 15,
    "start_time": "2022-09-09T16:09:20.508Z"
   },
   {
    "duration": 8,
    "start_time": "2022-09-09T16:09:23.487Z"
   },
   {
    "duration": 15,
    "start_time": "2022-09-09T16:09:24.039Z"
   },
   {
    "duration": 12,
    "start_time": "2022-09-09T16:11:22.481Z"
   },
   {
    "duration": 22,
    "start_time": "2022-09-09T16:12:03.435Z"
   },
   {
    "duration": 8,
    "start_time": "2022-09-09T16:12:21.529Z"
   },
   {
    "duration": 14,
    "start_time": "2022-09-09T16:18:26.116Z"
   },
   {
    "duration": 60,
    "start_time": "2022-09-09T16:18:51.948Z"
   },
   {
    "duration": 49,
    "start_time": "2022-09-09T16:19:00.091Z"
   },
   {
    "duration": 13,
    "start_time": "2022-09-09T16:19:05.549Z"
   },
   {
    "duration": 8,
    "start_time": "2022-09-09T16:22:22.015Z"
   },
   {
    "duration": 13,
    "start_time": "2022-09-09T16:22:23.059Z"
   },
   {
    "duration": 18,
    "start_time": "2022-09-09T16:25:47.299Z"
   },
   {
    "duration": 18,
    "start_time": "2022-09-09T20:17:59.078Z"
   },
   {
    "duration": 22,
    "start_time": "2022-09-09T20:20:08.249Z"
   },
   {
    "duration": 3,
    "start_time": "2022-09-09T20:21:16.044Z"
   },
   {
    "duration": 6,
    "start_time": "2022-09-09T20:21:16.049Z"
   },
   {
    "duration": 326,
    "start_time": "2022-09-09T20:21:16.057Z"
   },
   {
    "duration": 35,
    "start_time": "2022-09-09T20:21:16.385Z"
   },
   {
    "duration": 23,
    "start_time": "2022-09-09T20:21:16.423Z"
   },
   {
    "duration": 29,
    "start_time": "2022-09-09T20:21:16.448Z"
   },
   {
    "duration": 19,
    "start_time": "2022-09-09T20:21:16.480Z"
   },
   {
    "duration": 49,
    "start_time": "2022-09-09T20:21:16.501Z"
   },
   {
    "duration": 103,
    "start_time": "2022-09-09T20:21:16.552Z"
   },
   {
    "duration": 36,
    "start_time": "2022-09-09T20:21:16.657Z"
   },
   {
    "duration": 61,
    "start_time": "2022-09-09T20:21:16.695Z"
   },
   {
    "duration": 15,
    "start_time": "2022-09-09T20:21:16.758Z"
   },
   {
    "duration": 16,
    "start_time": "2022-09-09T20:21:16.776Z"
   },
   {
    "duration": 13,
    "start_time": "2022-09-09T20:21:16.794Z"
   },
   {
    "duration": 55,
    "start_time": "2022-09-09T20:21:16.809Z"
   },
   {
    "duration": 4,
    "start_time": "2022-09-09T20:21:16.866Z"
   },
   {
    "duration": 11,
    "start_time": "2022-09-09T20:21:16.871Z"
   },
   {
    "duration": 8,
    "start_time": "2022-09-09T20:21:20.257Z"
   },
   {
    "duration": 16,
    "start_time": "2022-09-09T20:21:27.882Z"
   },
   {
    "duration": 468,
    "start_time": "2022-09-09T20:26:40.130Z"
   },
   {
    "duration": 59,
    "start_time": "2022-09-09T20:28:48.475Z"
   },
   {
    "duration": 68,
    "start_time": "2022-09-09T20:33:00.092Z"
   },
   {
    "duration": 8,
    "start_time": "2022-09-09T20:34:37.973Z"
   },
   {
    "duration": 17,
    "start_time": "2022-09-09T20:34:40.729Z"
   },
   {
    "duration": 31,
    "start_time": "2022-09-09T20:36:47.375Z"
   },
   {
    "duration": 49,
    "start_time": "2022-09-09T20:37:38.416Z"
   },
   {
    "duration": 33,
    "start_time": "2022-09-09T20:38:25.969Z"
   },
   {
    "duration": 28,
    "start_time": "2022-09-09T20:40:05.287Z"
   },
   {
    "duration": 34,
    "start_time": "2022-09-09T20:40:14.145Z"
   },
   {
    "duration": 30,
    "start_time": "2022-09-09T20:40:23.337Z"
   },
   {
    "duration": 10,
    "start_time": "2022-09-09T20:42:33.291Z"
   },
   {
    "duration": 57,
    "start_time": "2022-09-09T20:44:29.213Z"
   },
   {
    "duration": 17,
    "start_time": "2022-09-09T20:44:51.388Z"
   },
   {
    "duration": 7,
    "start_time": "2022-09-09T20:46:20.548Z"
   },
   {
    "duration": 18,
    "start_time": "2022-09-09T20:46:27.138Z"
   },
   {
    "duration": 52,
    "start_time": "2022-09-09T20:53:44.616Z"
   },
   {
    "duration": 79,
    "start_time": "2022-09-09T20:57:52.881Z"
   },
   {
    "duration": 17,
    "start_time": "2022-09-09T20:57:55.065Z"
   },
   {
    "duration": 7,
    "start_time": "2022-09-09T21:04:27.637Z"
   },
   {
    "duration": 17,
    "start_time": "2022-09-09T21:04:29.843Z"
   },
   {
    "duration": 7,
    "start_time": "2022-09-09T21:11:10.933Z"
   },
   {
    "duration": 14,
    "start_time": "2022-09-09T21:11:11.407Z"
   },
   {
    "duration": 8,
    "start_time": "2022-09-09T21:11:51.544Z"
   },
   {
    "duration": 16,
    "start_time": "2022-09-09T21:12:05.071Z"
   },
   {
    "duration": 9,
    "start_time": "2022-09-09T21:13:10.639Z"
   },
   {
    "duration": 12,
    "start_time": "2022-09-09T21:13:23.325Z"
   },
   {
    "duration": 13,
    "start_time": "2022-09-09T21:14:29.816Z"
   },
   {
    "duration": 7,
    "start_time": "2022-09-09T21:14:30.097Z"
   },
   {
    "duration": 57,
    "start_time": "2022-09-09T21:16:15.985Z"
   },
   {
    "duration": 13,
    "start_time": "2022-09-09T21:16:23.824Z"
   },
   {
    "duration": 7,
    "start_time": "2022-09-09T21:17:26.250Z"
   },
   {
    "duration": 5,
    "start_time": "2022-09-09T21:18:28.682Z"
   },
   {
    "duration": 5,
    "start_time": "2022-09-09T21:19:21.034Z"
   },
   {
    "duration": 8,
    "start_time": "2022-09-09T21:21:33.860Z"
   },
   {
    "duration": 19,
    "start_time": "2022-09-09T21:21:35.181Z"
   },
   {
    "duration": 7,
    "start_time": "2022-09-09T21:31:05.607Z"
   },
   {
    "duration": 15,
    "start_time": "2022-09-09T21:31:07.152Z"
   },
   {
    "duration": 10,
    "start_time": "2022-09-09T21:39:01.391Z"
   },
   {
    "duration": 14,
    "start_time": "2022-09-09T21:39:02.555Z"
   },
   {
    "duration": 9,
    "start_time": "2022-09-09T21:42:51.941Z"
   },
   {
    "duration": 14,
    "start_time": "2022-09-09T21:42:52.700Z"
   },
   {
    "duration": 7,
    "start_time": "2022-09-09T21:45:20.757Z"
   },
   {
    "duration": 12,
    "start_time": "2022-09-09T21:45:24.852Z"
   },
   {
    "duration": 2724,
    "start_time": "2022-09-09T21:47:10.333Z"
   },
   {
    "duration": 13,
    "start_time": "2022-09-09T21:52:42.454Z"
   },
   {
    "duration": 22,
    "start_time": "2022-09-09T21:53:08.918Z"
   },
   {
    "duration": 15,
    "start_time": "2022-09-09T22:48:11.085Z"
   },
   {
    "duration": 5,
    "start_time": "2022-09-09T22:48:32.510Z"
   },
   {
    "duration": 8,
    "start_time": "2022-09-09T23:00:16.183Z"
   },
   {
    "duration": 8,
    "start_time": "2022-09-09T23:01:07.459Z"
   },
   {
    "duration": 19,
    "start_time": "2022-09-09T23:03:59.126Z"
   },
   {
    "duration": 8,
    "start_time": "2022-09-09T23:19:09.692Z"
   },
   {
    "duration": 11,
    "start_time": "2022-09-09T23:19:41.869Z"
   },
   {
    "duration": 9,
    "start_time": "2022-09-09T23:20:13.336Z"
   },
   {
    "duration": 8,
    "start_time": "2022-09-09T23:20:31.685Z"
   },
   {
    "duration": 8,
    "start_time": "2022-09-09T23:20:46.867Z"
   },
   {
    "duration": 2,
    "start_time": "2022-09-09T23:21:06.095Z"
   },
   {
    "duration": 7,
    "start_time": "2022-09-09T23:21:06.099Z"
   },
   {
    "duration": 338,
    "start_time": "2022-09-09T23:21:06.107Z"
   },
   {
    "duration": 24,
    "start_time": "2022-09-09T23:21:06.447Z"
   },
   {
    "duration": 19,
    "start_time": "2022-09-09T23:21:06.474Z"
   },
   {
    "duration": 54,
    "start_time": "2022-09-09T23:21:06.494Z"
   },
   {
    "duration": 17,
    "start_time": "2022-09-09T23:21:06.550Z"
   },
   {
    "duration": 19,
    "start_time": "2022-09-09T23:21:06.568Z"
   },
   {
    "duration": 114,
    "start_time": "2022-09-09T23:21:06.589Z"
   },
   {
    "duration": 53,
    "start_time": "2022-09-09T23:21:06.705Z"
   },
   {
    "duration": 49,
    "start_time": "2022-09-09T23:21:06.760Z"
   },
   {
    "duration": 37,
    "start_time": "2022-09-09T23:21:06.811Z"
   },
   {
    "duration": 16,
    "start_time": "2022-09-09T23:21:06.849Z"
   },
   {
    "duration": 13,
    "start_time": "2022-09-09T23:21:06.867Z"
   },
   {
    "duration": 37,
    "start_time": "2022-09-09T23:21:06.882Z"
   },
   {
    "duration": 137,
    "start_time": "2022-09-09T23:21:06.921Z"
   },
   {
    "duration": 23,
    "start_time": "2022-09-09T23:21:07.060Z"
   },
   {
    "duration": 20,
    "start_time": "2022-09-09T23:21:07.085Z"
   },
   {
    "duration": 13,
    "start_time": "2022-09-09T23:21:11.540Z"
   },
   {
    "duration": 3,
    "start_time": "2022-09-09T23:23:05.496Z"
   },
   {
    "duration": 6,
    "start_time": "2022-09-09T23:23:05.501Z"
   },
   {
    "duration": 299,
    "start_time": "2022-09-09T23:23:05.509Z"
   },
   {
    "duration": 25,
    "start_time": "2022-09-09T23:23:05.810Z"
   },
   {
    "duration": 18,
    "start_time": "2022-09-09T23:23:05.838Z"
   },
   {
    "duration": 21,
    "start_time": "2022-09-09T23:23:05.858Z"
   },
   {
    "duration": 14,
    "start_time": "2022-09-09T23:23:05.880Z"
   },
   {
    "duration": 20,
    "start_time": "2022-09-09T23:23:05.896Z"
   },
   {
    "duration": 104,
    "start_time": "2022-09-09T23:23:05.917Z"
   },
   {
    "duration": 48,
    "start_time": "2022-09-09T23:23:06.022Z"
   },
   {
    "duration": 46,
    "start_time": "2022-09-09T23:23:06.072Z"
   },
   {
    "duration": 36,
    "start_time": "2022-09-09T23:23:06.120Z"
   },
   {
    "duration": 14,
    "start_time": "2022-09-09T23:23:06.158Z"
   },
   {
    "duration": 15,
    "start_time": "2022-09-09T23:23:06.175Z"
   },
   {
    "duration": 73,
    "start_time": "2022-09-09T23:23:06.192Z"
   },
   {
    "duration": 24,
    "start_time": "2022-09-09T23:23:06.267Z"
   },
   {
    "duration": 20,
    "start_time": "2022-09-09T23:23:06.293Z"
   },
   {
    "duration": 14,
    "start_time": "2022-09-09T23:23:12.597Z"
   },
   {
    "duration": 4,
    "start_time": "2022-09-09T23:23:25.732Z"
   },
   {
    "duration": 4,
    "start_time": "2022-09-09T23:23:28.405Z"
   },
   {
    "duration": 7,
    "start_time": "2022-09-09T23:23:29.430Z"
   },
   {
    "duration": 11,
    "start_time": "2022-09-09T23:23:34.366Z"
   },
   {
    "duration": 2701,
    "start_time": "2022-09-09T23:23:36.078Z"
   },
   {
    "duration": 19,
    "start_time": "2022-09-09T23:23:59.733Z"
   },
   {
    "duration": 19,
    "start_time": "2022-09-09T23:24:34.014Z"
   },
   {
    "duration": 3,
    "start_time": "2022-09-09T23:31:40.473Z"
   },
   {
    "duration": 20,
    "start_time": "2022-09-09T23:31:40.478Z"
   },
   {
    "duration": 306,
    "start_time": "2022-09-09T23:31:40.500Z"
   },
   {
    "duration": 26,
    "start_time": "2022-09-09T23:31:40.807Z"
   },
   {
    "duration": 18,
    "start_time": "2022-09-09T23:31:40.835Z"
   },
   {
    "duration": 23,
    "start_time": "2022-09-09T23:31:40.855Z"
   },
   {
    "duration": 16,
    "start_time": "2022-09-09T23:31:40.880Z"
   },
   {
    "duration": 17,
    "start_time": "2022-09-09T23:31:40.898Z"
   },
   {
    "duration": 103,
    "start_time": "2022-09-09T23:31:40.917Z"
   },
   {
    "duration": 47,
    "start_time": "2022-09-09T23:31:41.022Z"
   },
   {
    "duration": 40,
    "start_time": "2022-09-09T23:31:41.071Z"
   },
   {
    "duration": 36,
    "start_time": "2022-09-09T23:31:41.112Z"
   },
   {
    "duration": 15,
    "start_time": "2022-09-09T23:31:41.150Z"
   },
   {
    "duration": 13,
    "start_time": "2022-09-09T23:31:41.166Z"
   },
   {
    "duration": 31,
    "start_time": "2022-09-09T23:31:41.181Z"
   },
   {
    "duration": 21,
    "start_time": "2022-09-09T23:31:41.247Z"
   },
   {
    "duration": 20,
    "start_time": "2022-09-09T23:31:41.270Z"
   },
   {
    "duration": 19,
    "start_time": "2022-09-09T23:31:41.291Z"
   },
   {
    "duration": 38,
    "start_time": "2022-09-09T23:31:41.312Z"
   },
   {
    "duration": 8,
    "start_time": "2022-09-09T23:31:41.352Z"
   },
   {
    "duration": 15,
    "start_time": "2022-09-09T23:31:41.362Z"
   },
   {
    "duration": 17,
    "start_time": "2022-09-09T23:31:41.379Z"
   },
   {
    "duration": 11,
    "start_time": "2022-09-09T23:31:47.855Z"
   },
   {
    "duration": 2784,
    "start_time": "2022-09-09T23:33:08.721Z"
   },
   {
    "duration": 7,
    "start_time": "2022-09-09T23:37:50.780Z"
   },
   {
    "duration": 12,
    "start_time": "2022-09-09T23:37:51.577Z"
   },
   {
    "duration": 2584,
    "start_time": "2022-09-09T23:37:59.180Z"
   },
   {
    "duration": 2649,
    "start_time": "2022-09-09T23:38:42.653Z"
   },
   {
    "duration": 2677,
    "start_time": "2022-09-09T23:39:46.854Z"
   },
   {
    "duration": 19,
    "start_time": "2022-09-09T23:39:52.924Z"
   },
   {
    "duration": 20,
    "start_time": "2022-09-09T23:43:09.661Z"
   },
   {
    "duration": 7,
    "start_time": "2022-09-09T23:46:10.480Z"
   },
   {
    "duration": 12,
    "start_time": "2022-09-09T23:46:12.102Z"
   },
   {
    "duration": 3,
    "start_time": "2022-09-09T23:50:00.458Z"
   },
   {
    "duration": 26,
    "start_time": "2022-09-09T23:50:00.463Z"
   },
   {
    "duration": 318,
    "start_time": "2022-09-09T23:50:00.491Z"
   },
   {
    "duration": 24,
    "start_time": "2022-09-09T23:50:00.810Z"
   },
   {
    "duration": 17,
    "start_time": "2022-09-09T23:50:00.837Z"
   },
   {
    "duration": 46,
    "start_time": "2022-09-09T23:50:00.855Z"
   },
   {
    "duration": 16,
    "start_time": "2022-09-09T23:50:00.902Z"
   },
   {
    "duration": 64,
    "start_time": "2022-09-09T23:50:00.920Z"
   },
   {
    "duration": 86,
    "start_time": "2022-09-09T23:50:00.986Z"
   },
   {
    "duration": 36,
    "start_time": "2022-09-09T23:50:01.073Z"
   },
   {
    "duration": 60,
    "start_time": "2022-09-09T23:50:01.111Z"
   },
   {
    "duration": 14,
    "start_time": "2022-09-09T23:50:01.172Z"
   },
   {
    "duration": 49,
    "start_time": "2022-09-09T23:50:01.188Z"
   },
   {
    "duration": 18,
    "start_time": "2022-09-09T23:50:01.239Z"
   },
   {
    "duration": 36,
    "start_time": "2022-09-09T23:50:01.258Z"
   },
   {
    "duration": 18,
    "start_time": "2022-09-09T23:50:01.296Z"
   },
   {
    "duration": 42,
    "start_time": "2022-09-09T23:50:01.316Z"
   },
   {
    "duration": 15,
    "start_time": "2022-09-09T23:50:01.360Z"
   },
   {
    "duration": 15,
    "start_time": "2022-09-09T23:50:01.377Z"
   },
   {
    "duration": 35,
    "start_time": "2022-09-09T23:50:01.394Z"
   },
   {
    "duration": 29,
    "start_time": "2022-09-09T23:50:01.431Z"
   },
   {
    "duration": 26,
    "start_time": "2022-09-09T23:50:01.462Z"
   },
   {
    "duration": 12,
    "start_time": "2022-09-09T23:50:05.536Z"
   },
   {
    "duration": 2783,
    "start_time": "2022-09-09T23:50:11.424Z"
   },
   {
    "duration": 2677,
    "start_time": "2022-09-09T23:52:26.416Z"
   },
   {
    "duration": 23,
    "start_time": "2022-09-09T23:52:40.723Z"
   },
   {
    "duration": 3,
    "start_time": "2022-09-09T23:54:03.042Z"
   },
   {
    "duration": 11,
    "start_time": "2022-09-09T23:54:03.046Z"
   },
   {
    "duration": 321,
    "start_time": "2022-09-09T23:54:03.058Z"
   },
   {
    "duration": 29,
    "start_time": "2022-09-09T23:54:03.381Z"
   },
   {
    "duration": 19,
    "start_time": "2022-09-09T23:54:03.412Z"
   },
   {
    "duration": 23,
    "start_time": "2022-09-09T23:54:03.432Z"
   },
   {
    "duration": 18,
    "start_time": "2022-09-09T23:54:03.457Z"
   },
   {
    "duration": 17,
    "start_time": "2022-09-09T23:54:03.476Z"
   },
   {
    "duration": 110,
    "start_time": "2022-09-09T23:54:03.496Z"
   },
   {
    "duration": 48,
    "start_time": "2022-09-09T23:54:03.607Z"
   },
   {
    "duration": 49,
    "start_time": "2022-09-09T23:54:03.657Z"
   },
   {
    "duration": 15,
    "start_time": "2022-09-09T23:54:03.708Z"
   },
   {
    "duration": 17,
    "start_time": "2022-09-09T23:54:03.746Z"
   },
   {
    "duration": 13,
    "start_time": "2022-09-09T23:54:03.765Z"
   },
   {
    "duration": 34,
    "start_time": "2022-09-09T23:54:03.780Z"
   },
   {
    "duration": 51,
    "start_time": "2022-09-09T23:54:03.815Z"
   },
   {
    "duration": 19,
    "start_time": "2022-09-09T23:54:03.868Z"
   },
   {
    "duration": 14,
    "start_time": "2022-09-09T23:54:03.889Z"
   },
   {
    "duration": 3,
    "start_time": "2022-09-09T23:54:03.905Z"
   },
   {
    "duration": 4,
    "start_time": "2022-09-09T23:54:03.947Z"
   },
   {
    "duration": 7,
    "start_time": "2022-09-09T23:54:03.953Z"
   },
   {
    "duration": 16,
    "start_time": "2022-09-09T23:54:03.961Z"
   },
   {
    "duration": 12,
    "start_time": "2022-09-09T23:54:06.762Z"
   },
   {
    "duration": 2900,
    "start_time": "2022-09-09T23:55:05.468Z"
   },
   {
    "duration": 2662,
    "start_time": "2022-09-10T00:10:33.914Z"
   },
   {
    "duration": 12,
    "start_time": "2022-09-10T00:13:41.729Z"
   },
   {
    "duration": 3,
    "start_time": "2022-09-10T00:13:54.235Z"
   },
   {
    "duration": 7,
    "start_time": "2022-09-10T00:13:54.240Z"
   },
   {
    "duration": 321,
    "start_time": "2022-09-10T00:13:54.248Z"
   },
   {
    "duration": 24,
    "start_time": "2022-09-10T00:13:54.571Z"
   },
   {
    "duration": 21,
    "start_time": "2022-09-10T00:13:54.596Z"
   },
   {
    "duration": 45,
    "start_time": "2022-09-10T00:13:54.618Z"
   },
   {
    "duration": 15,
    "start_time": "2022-09-10T00:13:54.664Z"
   },
   {
    "duration": 69,
    "start_time": "2022-09-10T00:13:54.681Z"
   },
   {
    "duration": 98,
    "start_time": "2022-09-10T00:13:54.752Z"
   },
   {
    "duration": 36,
    "start_time": "2022-09-10T00:13:54.851Z"
   },
   {
    "duration": 59,
    "start_time": "2022-09-10T00:13:54.889Z"
   },
   {
    "duration": 15,
    "start_time": "2022-09-10T00:13:54.950Z"
   },
   {
    "duration": 33,
    "start_time": "2022-09-10T00:13:54.966Z"
   },
   {
    "duration": 19,
    "start_time": "2022-09-10T00:13:55.001Z"
   },
   {
    "duration": 49,
    "start_time": "2022-09-10T00:13:55.021Z"
   },
   {
    "duration": 21,
    "start_time": "2022-09-10T00:13:55.072Z"
   },
   {
    "duration": 42,
    "start_time": "2022-09-10T00:13:55.094Z"
   },
   {
    "duration": 12,
    "start_time": "2022-09-10T00:14:00.818Z"
   },
   {
    "duration": 13,
    "start_time": "2022-09-10T00:14:19.443Z"
   },
   {
    "duration": 25,
    "start_time": "2022-09-10T00:14:38.068Z"
   },
   {
    "duration": 23,
    "start_time": "2022-09-10T00:14:49.810Z"
   },
   {
    "duration": 4,
    "start_time": "2022-09-10T00:15:06.291Z"
   },
   {
    "duration": 4,
    "start_time": "2022-09-10T00:15:07.980Z"
   },
   {
    "duration": 7,
    "start_time": "2022-09-10T00:15:08.708Z"
   },
   {
    "duration": 12,
    "start_time": "2022-09-10T00:15:09.749Z"
   },
   {
    "duration": 2714,
    "start_time": "2022-09-10T00:15:10.596Z"
   },
   {
    "duration": 2705,
    "start_time": "2022-09-10T00:16:14.670Z"
   },
   {
    "duration": 19,
    "start_time": "2022-09-10T00:16:21.214Z"
   },
   {
    "duration": 14,
    "start_time": "2022-09-10T00:17:53.156Z"
   },
   {
    "duration": 2782,
    "start_time": "2022-09-10T00:17:54.914Z"
   },
   {
    "duration": 20,
    "start_time": "2022-09-10T00:18:01.143Z"
   },
   {
    "duration": 2983,
    "start_time": "2022-09-10T00:19:53.294Z"
   },
   {
    "duration": 0,
    "start_time": "2022-09-10T00:19:56.280Z"
   },
   {
    "duration": 2735,
    "start_time": "2022-09-10T00:21:54.895Z"
   },
   {
    "duration": 2,
    "start_time": "2022-09-10T00:22:14.138Z"
   },
   {
    "duration": 6,
    "start_time": "2022-09-10T00:22:14.142Z"
   },
   {
    "duration": 318,
    "start_time": "2022-09-10T00:22:14.149Z"
   },
   {
    "duration": 27,
    "start_time": "2022-09-10T00:22:14.468Z"
   },
   {
    "duration": 20,
    "start_time": "2022-09-10T00:22:14.497Z"
   },
   {
    "duration": 36,
    "start_time": "2022-09-10T00:22:14.518Z"
   },
   {
    "duration": 15,
    "start_time": "2022-09-10T00:22:14.556Z"
   },
   {
    "duration": 21,
    "start_time": "2022-09-10T00:22:14.573Z"
   },
   {
    "duration": 104,
    "start_time": "2022-09-10T00:22:14.596Z"
   },
   {
    "duration": 49,
    "start_time": "2022-09-10T00:22:14.701Z"
   },
   {
    "duration": 42,
    "start_time": "2022-09-10T00:22:14.752Z"
   },
   {
    "duration": 14,
    "start_time": "2022-09-10T00:22:14.796Z"
   },
   {
    "duration": 37,
    "start_time": "2022-09-10T00:22:14.811Z"
   },
   {
    "duration": 13,
    "start_time": "2022-09-10T00:22:14.850Z"
   },
   {
    "duration": 37,
    "start_time": "2022-09-10T00:22:14.864Z"
   },
   {
    "duration": 19,
    "start_time": "2022-09-10T00:22:14.903Z"
   },
   {
    "duration": 41,
    "start_time": "2022-09-10T00:22:14.924Z"
   },
   {
    "duration": 47,
    "start_time": "2022-09-10T00:22:14.966Z"
   },
   {
    "duration": 5,
    "start_time": "2022-09-10T00:22:15.015Z"
   },
   {
    "duration": 22,
    "start_time": "2022-09-10T00:22:15.021Z"
   },
   {
    "duration": 12,
    "start_time": "2022-09-10T00:22:15.044Z"
   },
   {
    "duration": 19,
    "start_time": "2022-09-10T00:22:15.058Z"
   },
   {
    "duration": 13,
    "start_time": "2022-09-10T00:22:19.719Z"
   },
   {
    "duration": 2756,
    "start_time": "2022-09-10T00:22:24.888Z"
   },
   {
    "duration": 3,
    "start_time": "2022-09-10T00:28:08.692Z"
   },
   {
    "duration": 6,
    "start_time": "2022-09-10T00:28:08.698Z"
   },
   {
    "duration": 327,
    "start_time": "2022-09-10T00:28:08.706Z"
   },
   {
    "duration": 26,
    "start_time": "2022-09-10T00:28:09.037Z"
   },
   {
    "duration": 21,
    "start_time": "2022-09-10T00:28:09.065Z"
   },
   {
    "duration": 25,
    "start_time": "2022-09-10T00:28:09.087Z"
   },
   {
    "duration": 45,
    "start_time": "2022-09-10T00:28:09.113Z"
   },
   {
    "duration": 18,
    "start_time": "2022-09-10T00:28:09.160Z"
   },
   {
    "duration": 95,
    "start_time": "2022-09-10T00:28:09.180Z"
   },
   {
    "duration": 35,
    "start_time": "2022-09-10T00:28:09.277Z"
   },
   {
    "duration": 64,
    "start_time": "2022-09-10T00:28:09.314Z"
   },
   {
    "duration": 16,
    "start_time": "2022-09-10T00:28:09.380Z"
   },
   {
    "duration": 16,
    "start_time": "2022-09-10T00:28:09.399Z"
   },
   {
    "duration": 12,
    "start_time": "2022-09-10T00:28:09.448Z"
   },
   {
    "duration": 42,
    "start_time": "2022-09-10T00:28:09.462Z"
   },
   {
    "duration": 18,
    "start_time": "2022-09-10T00:28:09.506Z"
   },
   {
    "duration": 37,
    "start_time": "2022-09-10T00:28:09.526Z"
   },
   {
    "duration": 25,
    "start_time": "2022-09-10T00:28:09.565Z"
   },
   {
    "duration": 4,
    "start_time": "2022-09-10T00:28:09.593Z"
   },
   {
    "duration": 8,
    "start_time": "2022-09-10T00:28:09.599Z"
   },
   {
    "duration": 3,
    "start_time": "2022-09-10T00:28:25.059Z"
   },
   {
    "duration": 12,
    "start_time": "2022-09-10T00:28:25.064Z"
   },
   {
    "duration": 315,
    "start_time": "2022-09-10T00:28:25.077Z"
   },
   {
    "duration": 24,
    "start_time": "2022-09-10T00:28:25.394Z"
   },
   {
    "duration": 18,
    "start_time": "2022-09-10T00:28:25.420Z"
   },
   {
    "duration": 21,
    "start_time": "2022-09-10T00:28:25.439Z"
   },
   {
    "duration": 16,
    "start_time": "2022-09-10T00:28:25.462Z"
   },
   {
    "duration": 22,
    "start_time": "2022-09-10T00:28:25.479Z"
   },
   {
    "duration": 102,
    "start_time": "2022-09-10T00:28:25.503Z"
   },
   {
    "duration": 44,
    "start_time": "2022-09-10T00:28:25.606Z"
   },
   {
    "duration": 43,
    "start_time": "2022-09-10T00:28:25.652Z"
   },
   {
    "duration": 14,
    "start_time": "2022-09-10T00:28:25.697Z"
   },
   {
    "duration": 42,
    "start_time": "2022-09-10T00:28:25.712Z"
   },
   {
    "duration": 13,
    "start_time": "2022-09-10T00:28:25.757Z"
   },
   {
    "duration": 38,
    "start_time": "2022-09-10T00:28:25.772Z"
   },
   {
    "duration": 37,
    "start_time": "2022-09-10T00:28:25.812Z"
   },
   {
    "duration": 19,
    "start_time": "2022-09-10T00:28:25.851Z"
   },
   {
    "duration": 22,
    "start_time": "2022-09-10T00:28:25.872Z"
   },
   {
    "duration": 5,
    "start_time": "2022-09-10T00:28:25.896Z"
   },
   {
    "duration": 44,
    "start_time": "2022-09-10T00:28:25.903Z"
   },
   {
    "duration": 5,
    "start_time": "2022-09-10T00:28:30.321Z"
   },
   {
    "duration": 8,
    "start_time": "2022-09-10T00:28:32.233Z"
   },
   {
    "duration": 15,
    "start_time": "2022-09-10T00:28:39.073Z"
   },
   {
    "duration": 3211,
    "start_time": "2022-09-10T00:28:58.290Z"
   },
   {
    "duration": 3,
    "start_time": "2022-09-10T00:29:32.004Z"
   },
   {
    "duration": 15,
    "start_time": "2022-09-10T00:29:32.009Z"
   },
   {
    "duration": 325,
    "start_time": "2022-09-10T00:29:32.025Z"
   },
   {
    "duration": 25,
    "start_time": "2022-09-10T00:29:32.352Z"
   },
   {
    "duration": 36,
    "start_time": "2022-09-10T00:29:32.380Z"
   },
   {
    "duration": 35,
    "start_time": "2022-09-10T00:29:32.418Z"
   },
   {
    "duration": 18,
    "start_time": "2022-09-10T00:29:32.454Z"
   },
   {
    "duration": 26,
    "start_time": "2022-09-10T00:29:32.475Z"
   },
   {
    "duration": 107,
    "start_time": "2022-09-10T00:29:32.503Z"
   },
   {
    "duration": 52,
    "start_time": "2022-09-10T00:29:32.612Z"
   },
   {
    "duration": 44,
    "start_time": "2022-09-10T00:29:32.666Z"
   },
   {
    "duration": 35,
    "start_time": "2022-09-10T00:29:32.712Z"
   },
   {
    "duration": 17,
    "start_time": "2022-09-10T00:29:32.749Z"
   },
   {
    "duration": 16,
    "start_time": "2022-09-10T00:29:32.770Z"
   },
   {
    "duration": 60,
    "start_time": "2022-09-10T00:29:32.788Z"
   },
   {
    "duration": 21,
    "start_time": "2022-09-10T00:29:32.850Z"
   },
   {
    "duration": 22,
    "start_time": "2022-09-10T00:29:32.873Z"
   },
   {
    "duration": 50,
    "start_time": "2022-09-10T00:29:32.897Z"
   },
   {
    "duration": 4,
    "start_time": "2022-09-10T00:29:32.949Z"
   },
   {
    "duration": 31,
    "start_time": "2022-09-10T00:29:32.955Z"
   },
   {
    "duration": 4,
    "start_time": "2022-09-10T00:29:37.194Z"
   },
   {
    "duration": 7,
    "start_time": "2022-09-10T00:29:37.826Z"
   },
   {
    "duration": 13,
    "start_time": "2022-09-10T00:29:38.689Z"
   },
   {
    "duration": 2749,
    "start_time": "2022-09-10T00:29:41.050Z"
   },
   {
    "duration": 2909,
    "start_time": "2022-09-10T00:36:05.934Z"
   },
   {
    "duration": 2,
    "start_time": "2022-09-10T00:36:25.863Z"
   },
   {
    "duration": 7,
    "start_time": "2022-09-10T00:36:25.867Z"
   },
   {
    "duration": 309,
    "start_time": "2022-09-10T00:36:25.876Z"
   },
   {
    "duration": 27,
    "start_time": "2022-09-10T00:36:26.186Z"
   },
   {
    "duration": 23,
    "start_time": "2022-09-10T00:36:26.216Z"
   },
   {
    "duration": 30,
    "start_time": "2022-09-10T00:36:26.241Z"
   },
   {
    "duration": 22,
    "start_time": "2022-09-10T00:36:26.273Z"
   },
   {
    "duration": 25,
    "start_time": "2022-09-10T00:36:26.297Z"
   },
   {
    "duration": 106,
    "start_time": "2022-09-10T00:36:26.324Z"
   },
   {
    "duration": 49,
    "start_time": "2022-09-10T00:36:26.432Z"
   },
   {
    "duration": 66,
    "start_time": "2022-09-10T00:36:26.483Z"
   },
   {
    "duration": 14,
    "start_time": "2022-09-10T00:36:26.551Z"
   },
   {
    "duration": 15,
    "start_time": "2022-09-10T00:36:26.566Z"
   },
   {
    "duration": 14,
    "start_time": "2022-09-10T00:36:26.584Z"
   },
   {
    "duration": 75,
    "start_time": "2022-09-10T00:36:26.600Z"
   },
   {
    "duration": 19,
    "start_time": "2022-09-10T00:36:26.676Z"
   },
   {
    "duration": 24,
    "start_time": "2022-09-10T00:36:26.697Z"
   },
   {
    "duration": 25,
    "start_time": "2022-09-10T00:36:26.747Z"
   },
   {
    "duration": 5,
    "start_time": "2022-09-10T00:36:26.773Z"
   },
   {
    "duration": 7,
    "start_time": "2022-09-10T00:36:26.779Z"
   },
   {
    "duration": 7,
    "start_time": "2022-09-10T00:36:26.787Z"
   },
   {
    "duration": 7,
    "start_time": "2022-09-10T00:36:29.484Z"
   },
   {
    "duration": 12,
    "start_time": "2022-09-10T00:36:29.940Z"
   },
   {
    "duration": 569,
    "start_time": "2022-09-10T00:36:45.523Z"
   },
   {
    "duration": 572,
    "start_time": "2022-09-10T00:37:41.707Z"
   },
   {
    "duration": 3,
    "start_time": "2022-09-10T00:38:22.400Z"
   },
   {
    "duration": 8,
    "start_time": "2022-09-10T00:38:22.405Z"
   },
   {
    "duration": 320,
    "start_time": "2022-09-10T00:38:22.415Z"
   },
   {
    "duration": 25,
    "start_time": "2022-09-10T00:38:22.737Z"
   },
   {
    "duration": 22,
    "start_time": "2022-09-10T00:38:22.764Z"
   },
   {
    "duration": 23,
    "start_time": "2022-09-10T00:38:22.787Z"
   },
   {
    "duration": 47,
    "start_time": "2022-09-10T00:38:22.811Z"
   },
   {
    "duration": 19,
    "start_time": "2022-09-10T00:38:22.860Z"
   },
   {
    "duration": 95,
    "start_time": "2022-09-10T00:38:22.881Z"
   },
   {
    "duration": 35,
    "start_time": "2022-09-10T00:38:22.978Z"
   },
   {
    "duration": 66,
    "start_time": "2022-09-10T00:38:23.014Z"
   },
   {
    "duration": 14,
    "start_time": "2022-09-10T00:38:23.081Z"
   },
   {
    "duration": 15,
    "start_time": "2022-09-10T00:38:23.097Z"
   },
   {
    "duration": 36,
    "start_time": "2022-09-10T00:38:23.115Z"
   },
   {
    "duration": 39,
    "start_time": "2022-09-10T00:38:23.152Z"
   },
   {
    "duration": 19,
    "start_time": "2022-09-10T00:38:23.193Z"
   },
   {
    "duration": 45,
    "start_time": "2022-09-10T00:38:23.213Z"
   },
   {
    "duration": 24,
    "start_time": "2022-09-10T00:38:23.259Z"
   },
   {
    "duration": 3,
    "start_time": "2022-09-10T00:38:23.284Z"
   },
   {
    "duration": 10,
    "start_time": "2022-09-10T00:38:23.289Z"
   },
   {
    "duration": 8,
    "start_time": "2022-09-10T00:38:23.301Z"
   },
   {
    "duration": 45,
    "start_time": "2022-09-10T00:38:23.310Z"
   },
   {
    "duration": 540,
    "start_time": "2022-09-10T00:38:23.357Z"
   },
   {
    "duration": 14,
    "start_time": "2022-09-10T00:39:04.070Z"
   },
   {
    "duration": 2802,
    "start_time": "2022-09-10T00:39:19.212Z"
   },
   {
    "duration": 3,
    "start_time": "2022-09-10T00:41:24.319Z"
   },
   {
    "duration": 10,
    "start_time": "2022-09-10T00:41:24.325Z"
   },
   {
    "duration": 325,
    "start_time": "2022-09-10T00:41:24.337Z"
   },
   {
    "duration": 26,
    "start_time": "2022-09-10T00:41:24.664Z"
   },
   {
    "duration": 21,
    "start_time": "2022-09-10T00:41:24.693Z"
   },
   {
    "duration": 44,
    "start_time": "2022-09-10T00:41:24.716Z"
   },
   {
    "duration": 16,
    "start_time": "2022-09-10T00:41:24.763Z"
   },
   {
    "duration": 24,
    "start_time": "2022-09-10T00:41:24.780Z"
   },
   {
    "duration": 102,
    "start_time": "2022-09-10T00:41:24.805Z"
   },
   {
    "duration": 53,
    "start_time": "2022-09-10T00:41:24.908Z"
   },
   {
    "duration": 42,
    "start_time": "2022-09-10T00:41:24.962Z"
   },
   {
    "duration": 15,
    "start_time": "2022-09-10T00:41:25.005Z"
   },
   {
    "duration": 16,
    "start_time": "2022-09-10T00:41:25.046Z"
   },
   {
    "duration": 12,
    "start_time": "2022-09-10T00:41:25.064Z"
   },
   {
    "duration": 32,
    "start_time": "2022-09-10T00:41:25.078Z"
   },
   {
    "duration": 51,
    "start_time": "2022-09-10T00:41:25.111Z"
   },
   {
    "duration": 19,
    "start_time": "2022-09-10T00:41:25.164Z"
   },
   {
    "duration": 26,
    "start_time": "2022-09-10T00:41:25.185Z"
   },
   {
    "duration": 3,
    "start_time": "2022-09-10T00:41:25.213Z"
   },
   {
    "duration": 5,
    "start_time": "2022-09-10T00:41:25.247Z"
   },
   {
    "duration": 5,
    "start_time": "2022-09-10T00:41:32.822Z"
   },
   {
    "duration": 7,
    "start_time": "2022-09-10T00:41:38.071Z"
   },
   {
    "duration": 12,
    "start_time": "2022-09-10T00:41:41.454Z"
   },
   {
    "duration": 2790,
    "start_time": "2022-09-10T00:41:50.141Z"
   },
   {
    "duration": 2670,
    "start_time": "2022-09-10T00:43:25.158Z"
   },
   {
    "duration": 2787,
    "start_time": "2022-09-10T00:44:13.191Z"
   },
   {
    "duration": 3,
    "start_time": "2022-09-10T00:45:14.044Z"
   },
   {
    "duration": 8,
    "start_time": "2022-09-10T00:45:14.049Z"
   },
   {
    "duration": 323,
    "start_time": "2022-09-10T00:45:14.059Z"
   },
   {
    "duration": 26,
    "start_time": "2022-09-10T00:45:14.384Z"
   },
   {
    "duration": 21,
    "start_time": "2022-09-10T00:45:14.412Z"
   },
   {
    "duration": 25,
    "start_time": "2022-09-10T00:45:14.436Z"
   },
   {
    "duration": 17,
    "start_time": "2022-09-10T00:45:14.463Z"
   },
   {
    "duration": 22,
    "start_time": "2022-09-10T00:45:14.482Z"
   },
   {
    "duration": 110,
    "start_time": "2022-09-10T00:45:14.507Z"
   },
   {
    "duration": 49,
    "start_time": "2022-09-10T00:45:14.619Z"
   },
   {
    "duration": 49,
    "start_time": "2022-09-10T00:45:14.670Z"
   },
   {
    "duration": 28,
    "start_time": "2022-09-10T00:45:14.721Z"
   },
   {
    "duration": 16,
    "start_time": "2022-09-10T00:45:14.750Z"
   },
   {
    "duration": 13,
    "start_time": "2022-09-10T00:45:14.768Z"
   },
   {
    "duration": 34,
    "start_time": "2022-09-10T00:45:14.783Z"
   },
   {
    "duration": 45,
    "start_time": "2022-09-10T00:45:14.819Z"
   },
   {
    "duration": 20,
    "start_time": "2022-09-10T00:45:14.866Z"
   },
   {
    "duration": 65,
    "start_time": "2022-09-10T00:45:14.888Z"
   },
   {
    "duration": 4,
    "start_time": "2022-09-10T00:45:14.955Z"
   },
   {
    "duration": 7,
    "start_time": "2022-09-10T00:45:14.961Z"
   },
   {
    "duration": 10,
    "start_time": "2022-09-10T00:45:14.970Z"
   },
   {
    "duration": 2656,
    "start_time": "2022-09-10T00:46:59.904Z"
   },
   {
    "duration": 2747,
    "start_time": "2022-09-10T00:52:10.068Z"
   },
   {
    "duration": 2661,
    "start_time": "2022-09-10T00:53:40.938Z"
   },
   {
    "duration": 3890,
    "start_time": "2022-09-10T00:54:59.212Z"
   },
   {
    "duration": 2717,
    "start_time": "2022-09-10T00:59:42.375Z"
   },
   {
    "duration": 28,
    "start_time": "2022-09-10T00:59:59.358Z"
   },
   {
    "duration": 2677,
    "start_time": "2022-09-10T01:00:46.744Z"
   },
   {
    "duration": 3,
    "start_time": "2022-09-10T01:01:42.210Z"
   },
   {
    "duration": 7,
    "start_time": "2022-09-10T01:01:42.215Z"
   },
   {
    "duration": 330,
    "start_time": "2022-09-10T01:01:42.223Z"
   },
   {
    "duration": 24,
    "start_time": "2022-09-10T01:01:42.555Z"
   },
   {
    "duration": 18,
    "start_time": "2022-09-10T01:01:42.581Z"
   },
   {
    "duration": 47,
    "start_time": "2022-09-10T01:01:42.601Z"
   },
   {
    "duration": 17,
    "start_time": "2022-09-10T01:01:42.650Z"
   },
   {
    "duration": 20,
    "start_time": "2022-09-10T01:01:42.669Z"
   },
   {
    "duration": 113,
    "start_time": "2022-09-10T01:01:42.691Z"
   },
   {
    "duration": 52,
    "start_time": "2022-09-10T01:01:42.806Z"
   },
   {
    "duration": 47,
    "start_time": "2022-09-10T01:01:42.859Z"
   },
   {
    "duration": 13,
    "start_time": "2022-09-10T01:01:42.908Z"
   },
   {
    "duration": 37,
    "start_time": "2022-09-10T01:01:42.922Z"
   },
   {
    "duration": 13,
    "start_time": "2022-09-10T01:01:42.961Z"
   },
   {
    "duration": 30,
    "start_time": "2022-09-10T01:01:42.976Z"
   },
   {
    "duration": 48,
    "start_time": "2022-09-10T01:01:43.008Z"
   },
   {
    "duration": 19,
    "start_time": "2022-09-10T01:01:43.058Z"
   },
   {
    "duration": 24,
    "start_time": "2022-09-10T01:01:43.078Z"
   },
   {
    "duration": 4,
    "start_time": "2022-09-10T01:01:43.103Z"
   },
   {
    "duration": 41,
    "start_time": "2022-09-10T01:01:43.109Z"
   },
   {
    "duration": 17,
    "start_time": "2022-09-10T01:01:43.151Z"
   },
   {
    "duration": 2909,
    "start_time": "2022-09-10T01:01:56.768Z"
   },
   {
    "duration": 3,
    "start_time": "2022-09-10T01:02:38.635Z"
   },
   {
    "duration": 16,
    "start_time": "2022-09-10T01:02:38.640Z"
   },
   {
    "duration": 321,
    "start_time": "2022-09-10T01:02:38.658Z"
   },
   {
    "duration": 27,
    "start_time": "2022-09-10T01:02:38.981Z"
   },
   {
    "duration": 21,
    "start_time": "2022-09-10T01:02:39.011Z"
   },
   {
    "duration": 25,
    "start_time": "2022-09-10T01:02:39.034Z"
   },
   {
    "duration": 16,
    "start_time": "2022-09-10T01:02:39.060Z"
   },
   {
    "duration": 24,
    "start_time": "2022-09-10T01:02:39.078Z"
   },
   {
    "duration": 101,
    "start_time": "2022-09-10T01:02:39.103Z"
   },
   {
    "duration": 47,
    "start_time": "2022-09-10T01:02:39.206Z"
   },
   {
    "duration": 46,
    "start_time": "2022-09-10T01:02:39.254Z"
   },
   {
    "duration": 16,
    "start_time": "2022-09-10T01:02:39.302Z"
   },
   {
    "duration": 18,
    "start_time": "2022-09-10T01:02:39.346Z"
   },
   {
    "duration": 14,
    "start_time": "2022-09-10T01:02:39.366Z"
   },
   {
    "duration": 38,
    "start_time": "2022-09-10T01:02:39.381Z"
   },
   {
    "duration": 45,
    "start_time": "2022-09-10T01:02:39.420Z"
   },
   {
    "duration": 17,
    "start_time": "2022-09-10T01:02:39.468Z"
   },
   {
    "duration": 26,
    "start_time": "2022-09-10T01:02:39.487Z"
   },
   {
    "duration": 34,
    "start_time": "2022-09-10T01:02:39.514Z"
   },
   {
    "duration": 8,
    "start_time": "2022-09-10T01:02:39.550Z"
   },
   {
    "duration": 7,
    "start_time": "2022-09-10T01:03:18.521Z"
   },
   {
    "duration": 12,
    "start_time": "2022-09-10T01:03:20.242Z"
   },
   {
    "duration": 3,
    "start_time": "2022-09-10T01:03:56.393Z"
   },
   {
    "duration": 5,
    "start_time": "2022-09-10T01:03:56.398Z"
   },
   {
    "duration": 314,
    "start_time": "2022-09-10T01:03:56.405Z"
   },
   {
    "duration": 24,
    "start_time": "2022-09-10T01:03:56.720Z"
   },
   {
    "duration": 18,
    "start_time": "2022-09-10T01:03:56.746Z"
   },
   {
    "duration": 23,
    "start_time": "2022-09-10T01:03:56.766Z"
   },
   {
    "duration": 16,
    "start_time": "2022-09-10T01:03:56.791Z"
   },
   {
    "duration": 49,
    "start_time": "2022-09-10T01:03:56.808Z"
   },
   {
    "duration": 90,
    "start_time": "2022-09-10T01:03:56.858Z"
   },
   {
    "duration": 35,
    "start_time": "2022-09-10T01:03:56.949Z"
   },
   {
    "duration": 67,
    "start_time": "2022-09-10T01:03:56.985Z"
   },
   {
    "duration": 13,
    "start_time": "2022-09-10T01:03:57.054Z"
   },
   {
    "duration": 28,
    "start_time": "2022-09-10T01:03:57.069Z"
   },
   {
    "duration": 18,
    "start_time": "2022-09-10T01:03:57.099Z"
   },
   {
    "duration": 44,
    "start_time": "2022-09-10T01:03:57.119Z"
   },
   {
    "duration": 18,
    "start_time": "2022-09-10T01:03:57.164Z"
   },
   {
    "duration": 17,
    "start_time": "2022-09-10T01:03:57.184Z"
   },
   {
    "duration": 54,
    "start_time": "2022-09-10T01:03:57.203Z"
   },
   {
    "duration": 4,
    "start_time": "2022-09-10T01:03:57.258Z"
   },
   {
    "duration": 7,
    "start_time": "2022-09-10T01:04:03.561Z"
   },
   {
    "duration": 15,
    "start_time": "2022-09-10T01:04:05.985Z"
   },
   {
    "duration": 3,
    "start_time": "2022-09-10T01:04:24.899Z"
   },
   {
    "duration": 10,
    "start_time": "2022-09-10T01:04:24.904Z"
   },
   {
    "duration": 308,
    "start_time": "2022-09-10T01:04:24.915Z"
   },
   {
    "duration": 26,
    "start_time": "2022-09-10T01:04:25.224Z"
   },
   {
    "duration": 18,
    "start_time": "2022-09-10T01:04:25.252Z"
   },
   {
    "duration": 24,
    "start_time": "2022-09-10T01:04:25.272Z"
   },
   {
    "duration": 16,
    "start_time": "2022-09-10T01:04:25.298Z"
   },
   {
    "duration": 19,
    "start_time": "2022-09-10T01:04:25.347Z"
   },
   {
    "duration": 114,
    "start_time": "2022-09-10T01:04:25.368Z"
   },
   {
    "duration": 36,
    "start_time": "2022-09-10T01:04:25.484Z"
   },
   {
    "duration": 61,
    "start_time": "2022-09-10T01:04:25.522Z"
   },
   {
    "duration": 15,
    "start_time": "2022-09-10T01:04:25.584Z"
   },
   {
    "duration": 15,
    "start_time": "2022-09-10T01:04:25.600Z"
   },
   {
    "duration": 41,
    "start_time": "2022-09-10T01:04:25.617Z"
   },
   {
    "duration": 38,
    "start_time": "2022-09-10T01:04:25.659Z"
   },
   {
    "duration": 20,
    "start_time": "2022-09-10T01:04:25.698Z"
   },
   {
    "duration": 41,
    "start_time": "2022-09-10T01:04:25.719Z"
   },
   {
    "duration": 24,
    "start_time": "2022-09-10T01:04:25.761Z"
   },
   {
    "duration": 4,
    "start_time": "2022-09-10T01:04:25.787Z"
   },
   {
    "duration": 8,
    "start_time": "2022-09-10T01:04:31.345Z"
   },
   {
    "duration": 16,
    "start_time": "2022-09-10T01:04:32.265Z"
   },
   {
    "duration": 8,
    "start_time": "2022-09-10T01:04:58.362Z"
   },
   {
    "duration": 16,
    "start_time": "2022-09-10T01:04:59.137Z"
   },
   {
    "duration": 3405,
    "start_time": "2022-09-10T01:05:04.503Z"
   },
   {
    "duration": 17,
    "start_time": "2022-09-10T01:05:07.910Z"
   },
   {
    "duration": 3,
    "start_time": "2022-09-10T01:06:28.932Z"
   },
   {
    "duration": 6,
    "start_time": "2022-09-10T01:06:28.937Z"
   },
   {
    "duration": 316,
    "start_time": "2022-09-10T01:06:28.944Z"
   },
   {
    "duration": 26,
    "start_time": "2022-09-10T01:06:29.261Z"
   },
   {
    "duration": 18,
    "start_time": "2022-09-10T01:06:29.289Z"
   },
   {
    "duration": 45,
    "start_time": "2022-09-10T01:06:29.309Z"
   },
   {
    "duration": 18,
    "start_time": "2022-09-10T01:06:29.355Z"
   },
   {
    "duration": 20,
    "start_time": "2022-09-10T01:06:29.374Z"
   },
   {
    "duration": 105,
    "start_time": "2022-09-10T01:06:29.395Z"
   },
   {
    "duration": 50,
    "start_time": "2022-09-10T01:06:29.502Z"
   },
   {
    "duration": 49,
    "start_time": "2022-09-10T01:06:29.553Z"
   },
   {
    "duration": 14,
    "start_time": "2022-09-10T01:06:29.604Z"
   },
   {
    "duration": 41,
    "start_time": "2022-09-10T01:06:29.620Z"
   },
   {
    "duration": 13,
    "start_time": "2022-09-10T01:06:29.664Z"
   },
   {
    "duration": 32,
    "start_time": "2022-09-10T01:06:29.678Z"
   },
   {
    "duration": 51,
    "start_time": "2022-09-10T01:06:29.711Z"
   },
   {
    "duration": 19,
    "start_time": "2022-09-10T01:06:29.764Z"
   },
   {
    "duration": 41,
    "start_time": "2022-09-10T01:06:29.784Z"
   },
   {
    "duration": 5,
    "start_time": "2022-09-10T01:06:29.827Z"
   },
   {
    "duration": 8,
    "start_time": "2022-09-10T01:06:36.003Z"
   },
   {
    "duration": 12,
    "start_time": "2022-09-10T01:06:36.794Z"
   },
   {
    "duration": 2751,
    "start_time": "2022-09-10T01:06:46.319Z"
   },
   {
    "duration": 645,
    "start_time": "2022-09-10T01:07:18.420Z"
   },
   {
    "duration": 2665,
    "start_time": "2022-09-10T01:07:51.124Z"
   },
   {
    "duration": 7,
    "start_time": "2022-09-10T01:09:31.036Z"
   },
   {
    "duration": 14,
    "start_time": "2022-09-10T01:09:32.332Z"
   },
   {
    "duration": 2782,
    "start_time": "2022-09-10T01:09:36.227Z"
   },
   {
    "duration": 2873,
    "start_time": "2022-09-10T01:09:55.346Z"
   },
   {
    "duration": 2818,
    "start_time": "2022-09-10T01:10:37.076Z"
   },
   {
    "duration": 3,
    "start_time": "2022-09-10T02:02:37.635Z"
   },
   {
    "duration": 6,
    "start_time": "2022-09-10T02:02:37.640Z"
   },
   {
    "duration": 304,
    "start_time": "2022-09-10T02:02:37.647Z"
   },
   {
    "duration": 25,
    "start_time": "2022-09-10T02:02:37.953Z"
   },
   {
    "duration": 23,
    "start_time": "2022-09-10T02:02:37.980Z"
   },
   {
    "duration": 55,
    "start_time": "2022-09-10T02:02:38.005Z"
   },
   {
    "duration": 15,
    "start_time": "2022-09-10T02:02:38.061Z"
   },
   {
    "duration": 17,
    "start_time": "2022-09-10T02:02:38.078Z"
   },
   {
    "duration": 109,
    "start_time": "2022-09-10T02:02:38.097Z"
   },
   {
    "duration": 44,
    "start_time": "2022-09-10T02:02:38.208Z"
   },
   {
    "duration": 45,
    "start_time": "2022-09-10T02:02:38.254Z"
   },
   {
    "duration": 14,
    "start_time": "2022-09-10T02:02:38.301Z"
   },
   {
    "duration": 37,
    "start_time": "2022-09-10T02:02:38.316Z"
   },
   {
    "duration": 13,
    "start_time": "2022-09-10T02:02:38.354Z"
   },
   {
    "duration": 35,
    "start_time": "2022-09-10T02:02:38.369Z"
   },
   {
    "duration": 48,
    "start_time": "2022-09-10T02:02:38.406Z"
   },
   {
    "duration": 18,
    "start_time": "2022-09-10T02:02:38.456Z"
   },
   {
    "duration": 22,
    "start_time": "2022-09-10T02:02:38.476Z"
   },
   {
    "duration": 3,
    "start_time": "2022-09-10T02:02:38.499Z"
   },
   {
    "duration": 9,
    "start_time": "2022-09-10T02:02:38.504Z"
   },
   {
    "duration": 10,
    "start_time": "2022-09-10T02:03:09.534Z"
   },
   {
    "duration": 2,
    "start_time": "2022-09-10T02:03:10.681Z"
   },
   {
    "duration": 5299,
    "start_time": "2022-09-10T02:03:11.666Z"
   },
   {
    "duration": 11,
    "start_time": "2022-09-10T02:05:02.025Z"
   },
   {
    "duration": 3,
    "start_time": "2022-09-10T02:05:04.938Z"
   },
   {
    "duration": 5252,
    "start_time": "2022-09-10T02:05:06.181Z"
   },
   {
    "duration": 10,
    "start_time": "2022-09-10T02:06:54.819Z"
   },
   {
    "duration": 3,
    "start_time": "2022-09-10T02:06:55.294Z"
   },
   {
    "duration": 5150,
    "start_time": "2022-09-10T02:06:55.837Z"
   },
   {
    "duration": 11,
    "start_time": "2022-09-10T02:11:10.721Z"
   },
   {
    "duration": 2,
    "start_time": "2022-09-10T02:11:11.989Z"
   },
   {
    "duration": 5231,
    "start_time": "2022-09-10T02:11:12.781Z"
   },
   {
    "duration": 10,
    "start_time": "2022-09-10T02:16:24.186Z"
   },
   {
    "duration": 2,
    "start_time": "2022-09-10T02:16:24.912Z"
   },
   {
    "duration": 5183,
    "start_time": "2022-09-10T02:16:25.545Z"
   },
   {
    "duration": 9,
    "start_time": "2022-09-10T02:18:22.161Z"
   },
   {
    "duration": 2,
    "start_time": "2022-09-10T02:18:22.647Z"
   },
   {
    "duration": 5102,
    "start_time": "2022-09-10T02:18:23.209Z"
   },
   {
    "duration": 0,
    "start_time": "2022-09-10T02:18:28.312Z"
   },
   {
    "duration": 5341,
    "start_time": "2022-09-10T02:18:43.425Z"
   },
   {
    "duration": 10,
    "start_time": "2022-09-10T02:21:19.755Z"
   },
   {
    "duration": 3,
    "start_time": "2022-09-10T02:21:21.371Z"
   },
   {
    "duration": 5077,
    "start_time": "2022-09-10T02:21:22.804Z"
   },
   {
    "duration": 10,
    "start_time": "2022-09-10T02:23:54.786Z"
   },
   {
    "duration": 2,
    "start_time": "2022-09-10T02:23:56.826Z"
   },
   {
    "duration": 5089,
    "start_time": "2022-09-10T02:23:57.483Z"
   },
   {
    "duration": 10,
    "start_time": "2022-09-10T02:25:35.524Z"
   },
   {
    "duration": 2,
    "start_time": "2022-09-10T02:25:36.414Z"
   },
   {
    "duration": 5087,
    "start_time": "2022-09-10T02:25:36.678Z"
   },
   {
    "duration": 11,
    "start_time": "2022-09-10T02:29:42.421Z"
   },
   {
    "duration": 2,
    "start_time": "2022-09-10T02:29:43.144Z"
   },
   {
    "duration": 5257,
    "start_time": "2022-09-10T02:29:44.837Z"
   },
   {
    "duration": 10,
    "start_time": "2022-09-10T02:30:41.607Z"
   },
   {
    "duration": 3,
    "start_time": "2022-09-10T02:30:41.885Z"
   },
   {
    "duration": 5064,
    "start_time": "2022-09-10T02:30:42.294Z"
   },
   {
    "duration": 11,
    "start_time": "2022-09-10T02:31:55.542Z"
   },
   {
    "duration": 2,
    "start_time": "2022-09-10T02:31:56.094Z"
   },
   {
    "duration": 5069,
    "start_time": "2022-09-10T02:31:56.784Z"
   },
   {
    "duration": 11,
    "start_time": "2022-09-10T02:34:15.985Z"
   },
   {
    "duration": 3,
    "start_time": "2022-09-10T02:34:17.342Z"
   },
   {
    "duration": 5061,
    "start_time": "2022-09-10T02:34:18.103Z"
   },
   {
    "duration": 10,
    "start_time": "2022-09-10T02:34:55.944Z"
   },
   {
    "duration": 3,
    "start_time": "2022-09-10T02:34:57.359Z"
   },
   {
    "duration": 5124,
    "start_time": "2022-09-10T02:35:01.339Z"
   },
   {
    "duration": 10,
    "start_time": "2022-09-10T02:36:12.640Z"
   },
   {
    "duration": 2,
    "start_time": "2022-09-10T02:36:13.360Z"
   },
   {
    "duration": 5436,
    "start_time": "2022-09-10T02:36:13.864Z"
   },
   {
    "duration": 11,
    "start_time": "2022-09-10T02:45:11.892Z"
   },
   {
    "duration": 2,
    "start_time": "2022-09-10T02:45:13.851Z"
   },
   {
    "duration": 5382,
    "start_time": "2022-09-10T02:45:14.323Z"
   },
   {
    "duration": 3,
    "start_time": "2022-09-10T02:46:09.541Z"
   },
   {
    "duration": 6,
    "start_time": "2022-09-10T02:46:09.546Z"
   },
   {
    "duration": 309,
    "start_time": "2022-09-10T02:46:09.554Z"
   },
   {
    "duration": 26,
    "start_time": "2022-09-10T02:46:09.865Z"
   },
   {
    "duration": 21,
    "start_time": "2022-09-10T02:46:09.893Z"
   },
   {
    "duration": 31,
    "start_time": "2022-09-10T02:46:09.916Z"
   },
   {
    "duration": 16,
    "start_time": "2022-09-10T02:46:09.949Z"
   },
   {
    "duration": 20,
    "start_time": "2022-09-10T02:46:09.967Z"
   },
   {
    "duration": 98,
    "start_time": "2022-09-10T02:46:09.989Z"
   },
   {
    "duration": 36,
    "start_time": "2022-09-10T02:46:10.089Z"
   },
   {
    "duration": 62,
    "start_time": "2022-09-10T02:46:10.127Z"
   },
   {
    "duration": 13,
    "start_time": "2022-09-10T02:46:10.191Z"
   },
   {
    "duration": 36,
    "start_time": "2022-09-10T02:46:10.205Z"
   },
   {
    "duration": 15,
    "start_time": "2022-09-10T02:46:10.243Z"
   },
   {
    "duration": 39,
    "start_time": "2022-09-10T02:46:10.260Z"
   },
   {
    "duration": 20,
    "start_time": "2022-09-10T02:46:10.301Z"
   },
   {
    "duration": 39,
    "start_time": "2022-09-10T02:46:10.322Z"
   },
   {
    "duration": 24,
    "start_time": "2022-09-10T02:46:10.363Z"
   },
   {
    "duration": 3,
    "start_time": "2022-09-10T02:46:10.389Z"
   },
   {
    "duration": 7,
    "start_time": "2022-09-10T02:46:10.394Z"
   },
   {
    "duration": 10,
    "start_time": "2022-09-10T02:46:10.403Z"
   },
   {
    "duration": 9,
    "start_time": "2022-09-10T02:46:10.415Z"
   },
   {
    "duration": 2,
    "start_time": "2022-09-10T02:46:15.045Z"
   },
   {
    "duration": 6328,
    "start_time": "2022-09-10T02:46:16.510Z"
   },
   {
    "duration": 3,
    "start_time": "2022-09-10T02:49:40.958Z"
   },
   {
    "duration": 5,
    "start_time": "2022-09-10T02:49:40.963Z"
   },
   {
    "duration": 313,
    "start_time": "2022-09-10T02:49:40.969Z"
   },
   {
    "duration": 26,
    "start_time": "2022-09-10T02:49:41.284Z"
   },
   {
    "duration": 19,
    "start_time": "2022-09-10T02:49:41.312Z"
   },
   {
    "duration": 23,
    "start_time": "2022-09-10T02:49:41.333Z"
   },
   {
    "duration": 16,
    "start_time": "2022-09-10T02:49:41.358Z"
   },
   {
    "duration": 26,
    "start_time": "2022-09-10T02:49:41.376Z"
   },
   {
    "duration": 87,
    "start_time": "2022-09-10T02:49:41.404Z"
   },
   {
    "duration": 34,
    "start_time": "2022-09-10T02:49:41.493Z"
   },
   {
    "duration": 48,
    "start_time": "2022-09-10T02:49:41.528Z"
   },
   {
    "duration": 13,
    "start_time": "2022-09-10T02:49:41.578Z"
   },
   {
    "duration": 18,
    "start_time": "2022-09-10T02:49:41.593Z"
   },
   {
    "duration": 13,
    "start_time": "2022-09-10T02:49:41.612Z"
   },
   {
    "duration": 48,
    "start_time": "2022-09-10T02:49:41.626Z"
   },
   {
    "duration": 20,
    "start_time": "2022-09-10T02:49:41.676Z"
   },
   {
    "duration": 19,
    "start_time": "2022-09-10T02:49:41.698Z"
   },
   {
    "duration": 52,
    "start_time": "2022-09-10T02:49:41.718Z"
   },
   {
    "duration": 4,
    "start_time": "2022-09-10T02:49:41.771Z"
   },
   {
    "duration": 8,
    "start_time": "2022-09-10T02:49:41.777Z"
   },
   {
    "duration": 16,
    "start_time": "2022-09-10T02:49:41.787Z"
   },
   {
    "duration": 8,
    "start_time": "2022-09-10T02:49:41.805Z"
   },
   {
    "duration": 2,
    "start_time": "2022-09-10T02:49:45.020Z"
   },
   {
    "duration": 5431,
    "start_time": "2022-09-10T02:49:51.789Z"
   },
   {
    "duration": 16,
    "start_time": "2022-09-10T02:50:00.717Z"
   },
   {
    "duration": 12,
    "start_time": "2022-09-10T02:52:09.134Z"
   },
   {
    "duration": 2,
    "start_time": "2022-09-10T02:52:25.445Z"
   },
   {
    "duration": 2834,
    "start_time": "2022-09-10T02:52:25.973Z"
   },
   {
    "duration": 10,
    "start_time": "2022-09-10T02:56:12.786Z"
   },
   {
    "duration": 3,
    "start_time": "2022-09-10T02:56:13.521Z"
   },
   {
    "duration": 2104,
    "start_time": "2022-09-10T02:56:14.072Z"
   },
   {
    "duration": 10,
    "start_time": "2022-09-10T02:59:01.824Z"
   },
   {
    "duration": 2,
    "start_time": "2022-09-10T02:59:02.026Z"
   },
   {
    "duration": 3398,
    "start_time": "2022-09-10T02:59:02.184Z"
   },
   {
    "duration": 19,
    "start_time": "2022-09-10T02:59:05.584Z"
   },
   {
    "duration": 6,
    "start_time": "2022-09-10T09:02:41.185Z"
   },
   {
    "duration": 30,
    "start_time": "2022-09-10T09:03:32.220Z"
   },
   {
    "duration": 4,
    "start_time": "2022-09-10T09:04:44.423Z"
   },
   {
    "duration": 22,
    "start_time": "2022-09-10T09:05:08.150Z"
   },
   {
    "duration": 8,
    "start_time": "2022-09-10T09:12:04.971Z"
   },
   {
    "duration": 4,
    "start_time": "2022-09-10T09:12:17.629Z"
   },
   {
    "duration": 16,
    "start_time": "2022-09-10T09:12:17.635Z"
   },
   {
    "duration": 344,
    "start_time": "2022-09-10T09:12:17.653Z"
   },
   {
    "duration": 44,
    "start_time": "2022-09-10T09:12:17.999Z"
   },
   {
    "duration": 35,
    "start_time": "2022-09-10T09:12:18.046Z"
   },
   {
    "duration": 32,
    "start_time": "2022-09-10T09:12:18.083Z"
   },
   {
    "duration": 41,
    "start_time": "2022-09-10T09:12:18.117Z"
   },
   {
    "duration": 19,
    "start_time": "2022-09-10T09:12:18.160Z"
   },
   {
    "duration": 104,
    "start_time": "2022-09-10T09:12:18.181Z"
   },
   {
    "duration": 42,
    "start_time": "2022-09-10T09:12:18.287Z"
   },
   {
    "duration": 81,
    "start_time": "2022-09-10T09:12:18.331Z"
   },
   {
    "duration": 15,
    "start_time": "2022-09-10T09:12:18.414Z"
   },
   {
    "duration": 34,
    "start_time": "2022-09-10T09:12:18.431Z"
   },
   {
    "duration": 13,
    "start_time": "2022-09-10T09:12:18.467Z"
   },
   {
    "duration": 36,
    "start_time": "2022-09-10T09:12:18.482Z"
   },
   {
    "duration": 50,
    "start_time": "2022-09-10T09:12:18.520Z"
   },
   {
    "duration": 31,
    "start_time": "2022-09-10T09:12:18.573Z"
   },
   {
    "duration": 60,
    "start_time": "2022-09-10T09:12:18.606Z"
   },
   {
    "duration": 5,
    "start_time": "2022-09-10T09:12:18.668Z"
   },
   {
    "duration": 17,
    "start_time": "2022-09-10T09:12:18.675Z"
   },
   {
    "duration": 9,
    "start_time": "2022-09-10T09:12:18.694Z"
   },
   {
    "duration": 3916,
    "start_time": "2022-09-10T09:12:18.705Z"
   },
   {
    "duration": 26,
    "start_time": "2022-09-10T09:12:22.622Z"
   },
   {
    "duration": 31,
    "start_time": "2022-09-10T09:12:22.650Z"
   },
   {
    "duration": 7,
    "start_time": "2022-09-10T09:12:27.570Z"
   },
   {
    "duration": 26,
    "start_time": "2022-09-10T09:12:28.914Z"
   },
   {
    "duration": 26,
    "start_time": "2022-09-10T09:13:40.742Z"
   },
   {
    "duration": 11,
    "start_time": "2022-09-10T09:36:21.758Z"
   },
   {
    "duration": 61,
    "start_time": "2022-09-10T09:42:35.914Z"
   },
   {
    "duration": 55,
    "start_time": "2022-09-10T09:42:48.809Z"
   },
   {
    "duration": 5,
    "start_time": "2022-09-10T09:42:48.866Z"
   },
   {
    "duration": 314,
    "start_time": "2022-09-10T09:42:48.872Z"
   },
   {
    "duration": 30,
    "start_time": "2022-09-10T09:42:49.188Z"
   },
   {
    "duration": 20,
    "start_time": "2022-09-10T09:42:49.219Z"
   },
   {
    "duration": 23,
    "start_time": "2022-09-10T09:42:49.241Z"
   },
   {
    "duration": 16,
    "start_time": "2022-09-10T09:42:49.265Z"
   },
   {
    "duration": 16,
    "start_time": "2022-09-10T09:42:49.283Z"
   },
   {
    "duration": 103,
    "start_time": "2022-09-10T09:42:49.301Z"
   },
   {
    "duration": 45,
    "start_time": "2022-09-10T09:42:49.406Z"
   },
   {
    "duration": 41,
    "start_time": "2022-09-10T09:42:49.453Z"
   },
   {
    "duration": 14,
    "start_time": "2022-09-10T09:42:49.496Z"
   },
   {
    "duration": 37,
    "start_time": "2022-09-10T09:42:49.511Z"
   },
   {
    "duration": 14,
    "start_time": "2022-09-10T09:42:49.550Z"
   },
   {
    "duration": 34,
    "start_time": "2022-09-10T09:42:49.566Z"
   },
   {
    "duration": 20,
    "start_time": "2022-09-10T09:42:49.601Z"
   },
   {
    "duration": 42,
    "start_time": "2022-09-10T09:42:49.622Z"
   },
   {
    "duration": 26,
    "start_time": "2022-09-10T09:42:49.665Z"
   },
   {
    "duration": 4,
    "start_time": "2022-09-10T09:42:49.692Z"
   },
   {
    "duration": 12,
    "start_time": "2022-09-10T09:42:49.698Z"
   },
   {
    "duration": 35,
    "start_time": "2022-09-10T09:42:49.712Z"
   },
   {
    "duration": 3523,
    "start_time": "2022-09-10T09:42:49.749Z"
   },
   {
    "duration": 20,
    "start_time": "2022-09-10T09:42:53.274Z"
   },
   {
    "duration": 5,
    "start_time": "2022-09-10T09:42:53.296Z"
   },
   {
    "duration": 17,
    "start_time": "2022-09-10T09:42:53.303Z"
   },
   {
    "duration": 70,
    "start_time": "2022-09-10T09:43:04.176Z"
   },
   {
    "duration": 88,
    "start_time": "2022-09-10T09:43:44.192Z"
   },
   {
    "duration": 164,
    "start_time": "2022-09-10T10:12:12.026Z"
   },
   {
    "duration": 45,
    "start_time": "2022-09-10T10:13:14.330Z"
   },
   {
    "duration": 1122,
    "start_time": "2022-09-10T10:13:27.513Z"
   },
   {
    "duration": 5,
    "start_time": "2022-09-10T10:13:28.637Z"
   },
   {
    "duration": 334,
    "start_time": "2022-09-10T10:13:28.643Z"
   },
   {
    "duration": 31,
    "start_time": "2022-09-10T10:13:28.979Z"
   },
   {
    "duration": 21,
    "start_time": "2022-09-10T10:13:29.012Z"
   },
   {
    "duration": 24,
    "start_time": "2022-09-10T10:13:29.034Z"
   },
   {
    "duration": 20,
    "start_time": "2022-09-10T10:13:29.060Z"
   },
   {
    "duration": 28,
    "start_time": "2022-09-10T10:13:29.082Z"
   },
   {
    "duration": 105,
    "start_time": "2022-09-10T10:13:29.112Z"
   },
   {
    "duration": 49,
    "start_time": "2022-09-10T10:13:29.220Z"
   },
   {
    "duration": 48,
    "start_time": "2022-09-10T10:13:29.271Z"
   },
   {
    "duration": 31,
    "start_time": "2022-09-10T10:13:29.321Z"
   },
   {
    "duration": 15,
    "start_time": "2022-09-10T10:13:29.353Z"
   },
   {
    "duration": 14,
    "start_time": "2022-09-10T10:13:29.370Z"
   },
   {
    "duration": 34,
    "start_time": "2022-09-10T10:13:29.386Z"
   },
   {
    "duration": 43,
    "start_time": "2022-09-10T10:13:29.421Z"
   },
   {
    "duration": 19,
    "start_time": "2022-09-10T10:13:29.466Z"
   },
   {
    "duration": 31,
    "start_time": "2022-09-10T10:13:29.487Z"
   },
   {
    "duration": 4,
    "start_time": "2022-09-10T10:13:29.520Z"
   },
   {
    "duration": 38,
    "start_time": "2022-09-10T10:13:29.525Z"
   },
   {
    "duration": 13,
    "start_time": "2022-09-10T10:13:29.564Z"
   },
   {
    "duration": 3332,
    "start_time": "2022-09-10T10:13:29.578Z"
   },
   {
    "duration": 20,
    "start_time": "2022-09-10T10:13:32.912Z"
   },
   {
    "duration": 6,
    "start_time": "2022-09-10T10:13:32.946Z"
   },
   {
    "duration": 15,
    "start_time": "2022-09-10T10:13:32.954Z"
   },
   {
    "duration": 105,
    "start_time": "2022-09-10T10:13:32.971Z"
   },
   {
    "duration": 70,
    "start_time": "2022-09-10T10:13:43.345Z"
   },
   {
    "duration": 11,
    "start_time": "2022-09-10T10:14:03.674Z"
   },
   {
    "duration": 213,
    "start_time": "2022-09-10T10:14:07.177Z"
   },
   {
    "duration": 231,
    "start_time": "2022-09-10T10:15:03.201Z"
   },
   {
    "duration": 276,
    "start_time": "2022-09-10T10:15:32.218Z"
   },
   {
    "duration": 3,
    "start_time": "2022-09-10T10:19:39.315Z"
   },
   {
    "duration": 7058,
    "start_time": "2022-09-10T10:19:41.674Z"
   },
   {
    "duration": 12,
    "start_time": "2022-09-10T10:21:02.782Z"
   },
   {
    "duration": 132,
    "start_time": "2022-09-10T10:21:04.366Z"
   },
   {
    "duration": 141,
    "start_time": "2022-09-10T10:21:25.029Z"
   },
   {
    "duration": 166,
    "start_time": "2022-09-10T10:21:26.747Z"
   },
   {
    "duration": 12,
    "start_time": "2022-09-10T10:33:23.504Z"
   },
   {
    "duration": 371,
    "start_time": "2022-09-10T10:33:24.199Z"
   },
   {
    "duration": 147,
    "start_time": "2022-09-10T10:33:27.261Z"
   },
   {
    "duration": 136,
    "start_time": "2022-09-10T10:33:28.973Z"
   },
   {
    "duration": 60,
    "start_time": "2022-09-10T10:41:13.423Z"
   },
   {
    "duration": 129,
    "start_time": "2022-09-10T10:49:02.847Z"
   },
   {
    "duration": 134,
    "start_time": "2022-09-10T10:50:31.546Z"
   },
   {
    "duration": 124,
    "start_time": "2022-09-10T10:50:39.819Z"
   },
   {
    "duration": 170,
    "start_time": "2022-09-10T10:51:45.165Z"
   },
   {
    "duration": 155,
    "start_time": "2022-09-10T10:52:35.236Z"
   },
   {
    "duration": 182,
    "start_time": "2022-09-10T10:53:04.356Z"
   },
   {
    "duration": 160,
    "start_time": "2022-09-10T10:53:11.275Z"
   },
   {
    "duration": 52,
    "start_time": "2022-09-10T10:55:29.311Z"
   },
   {
    "duration": 65,
    "start_time": "2022-09-10T10:57:23.261Z"
   },
   {
    "duration": 13,
    "start_time": "2022-09-10T10:57:24.918Z"
   },
   {
    "duration": 168,
    "start_time": "2022-09-10T10:58:09.943Z"
   },
   {
    "duration": 157,
    "start_time": "2022-09-10T10:58:18.540Z"
   },
   {
    "duration": 169,
    "start_time": "2022-09-10T10:58:29.349Z"
   },
   {
    "duration": 131,
    "start_time": "2022-09-10T10:58:35.750Z"
   },
   {
    "duration": 63,
    "start_time": "2022-09-10T10:58:56.982Z"
   },
   {
    "duration": 145,
    "start_time": "2022-09-10T10:59:35.319Z"
   },
   {
    "duration": 57,
    "start_time": "2022-09-10T11:00:55.767Z"
   },
   {
    "duration": 14,
    "start_time": "2022-09-10T11:29:43.632Z"
   },
   {
    "duration": 13,
    "start_time": "2022-09-10T11:33:23.537Z"
   },
   {
    "duration": 19,
    "start_time": "2022-09-10T11:34:46.290Z"
   },
   {
    "duration": 71,
    "start_time": "2022-09-10T11:35:09.954Z"
   },
   {
    "duration": 66,
    "start_time": "2022-09-10T11:36:50.260Z"
   },
   {
    "duration": 670,
    "start_time": "2022-09-10T12:40:28.265Z"
   },
   {
    "duration": 0,
    "start_time": "2022-09-10T12:45:56.355Z"
   },
   {
    "duration": 3,
    "start_time": "2022-09-10T12:46:21.278Z"
   },
   {
    "duration": 18,
    "start_time": "2022-09-10T12:46:21.284Z"
   },
   {
    "duration": 335,
    "start_time": "2022-09-10T12:46:21.305Z"
   },
   {
    "duration": 35,
    "start_time": "2022-09-10T12:46:21.642Z"
   },
   {
    "duration": 19,
    "start_time": "2022-09-10T12:46:21.679Z"
   },
   {
    "duration": 23,
    "start_time": "2022-09-10T12:46:21.699Z"
   },
   {
    "duration": 45,
    "start_time": "2022-09-10T12:46:21.724Z"
   },
   {
    "duration": 35,
    "start_time": "2022-09-10T12:46:21.771Z"
   },
   {
    "duration": 92,
    "start_time": "2022-09-10T12:46:21.808Z"
   },
   {
    "duration": 55,
    "start_time": "2022-09-10T12:46:21.902Z"
   },
   {
    "duration": 52,
    "start_time": "2022-09-10T12:46:21.960Z"
   },
   {
    "duration": 14,
    "start_time": "2022-09-10T12:46:22.013Z"
   },
   {
    "duration": 29,
    "start_time": "2022-09-10T12:46:22.028Z"
   },
   {
    "duration": 14,
    "start_time": "2022-09-10T12:46:22.058Z"
   },
   {
    "duration": 29,
    "start_time": "2022-09-10T12:46:22.074Z"
   },
   {
    "duration": 19,
    "start_time": "2022-09-10T12:46:22.104Z"
   },
   {
    "duration": 42,
    "start_time": "2022-09-10T12:46:22.124Z"
   },
   {
    "duration": 28,
    "start_time": "2022-09-10T12:46:22.167Z"
   },
   {
    "duration": 4,
    "start_time": "2022-09-10T12:46:22.196Z"
   },
   {
    "duration": 16,
    "start_time": "2022-09-10T12:46:22.201Z"
   },
   {
    "duration": 7,
    "start_time": "2022-09-10T12:46:22.219Z"
   },
   {
    "duration": 3511,
    "start_time": "2022-09-10T12:46:22.228Z"
   },
   {
    "duration": 25,
    "start_time": "2022-09-10T12:46:25.741Z"
   },
   {
    "duration": 12,
    "start_time": "2022-09-10T12:46:25.767Z"
   },
   {
    "duration": 23,
    "start_time": "2022-09-10T12:46:25.781Z"
   },
   {
    "duration": 96,
    "start_time": "2022-09-10T12:46:25.807Z"
   },
   {
    "duration": 81,
    "start_time": "2022-09-10T12:46:25.905Z"
   },
   {
    "duration": 280,
    "start_time": "2022-09-10T12:46:25.988Z"
   },
   {
    "duration": 319,
    "start_time": "2022-09-10T12:46:26.272Z"
   },
   {
    "duration": 236,
    "start_time": "2022-09-10T12:46:26.592Z"
   },
   {
    "duration": 73,
    "start_time": "2022-09-10T12:46:26.830Z"
   },
   {
    "duration": 67,
    "start_time": "2022-09-10T12:46:30.368Z"
   },
   {
    "duration": 466,
    "start_time": "2022-09-10T12:48:25.694Z"
   },
   {
    "duration": 138,
    "start_time": "2022-09-10T12:49:22.681Z"
   },
   {
    "duration": 160,
    "start_time": "2022-09-10T12:50:02.242Z"
   },
   {
    "duration": 189,
    "start_time": "2022-09-10T12:51:04.466Z"
   },
   {
    "duration": 201,
    "start_time": "2022-09-10T12:51:38.146Z"
   },
   {
    "duration": 182,
    "start_time": "2022-09-10T12:52:07.699Z"
   },
   {
    "duration": 143,
    "start_time": "2022-09-10T12:53:05.209Z"
   },
   {
    "duration": 143,
    "start_time": "2022-09-10T12:53:08.809Z"
   },
   {
    "duration": 172,
    "start_time": "2022-09-10T12:53:09.315Z"
   },
   {
    "duration": 147,
    "start_time": "2022-09-10T12:53:13.474Z"
   },
   {
    "duration": 69,
    "start_time": "2022-09-10T12:56:04.950Z"
   },
   {
    "duration": 149,
    "start_time": "2022-09-10T12:56:05.526Z"
   },
   {
    "duration": 147,
    "start_time": "2022-09-10T12:56:18.075Z"
   },
   {
    "duration": 142,
    "start_time": "2022-09-10T12:56:19.524Z"
   },
   {
    "duration": 76,
    "start_time": "2022-09-10T12:58:07.629Z"
   },
   {
    "duration": 148,
    "start_time": "2022-09-10T12:58:24.047Z"
   },
   {
    "duration": 50,
    "start_time": "2022-09-10T12:58:41.997Z"
   },
   {
    "duration": 117,
    "start_time": "2022-09-10T12:58:44.632Z"
   },
   {
    "duration": 132,
    "start_time": "2022-09-10T12:58:50.671Z"
   },
   {
    "duration": 188,
    "start_time": "2022-09-10T12:58:52.191Z"
   },
   {
    "duration": 11,
    "start_time": "2022-09-10T13:05:49.022Z"
   },
   {
    "duration": 10,
    "start_time": "2022-09-10T13:06:01.536Z"
   },
   {
    "duration": 12,
    "start_time": "2022-09-10T13:06:12.036Z"
   },
   {
    "duration": 3,
    "start_time": "2022-09-10T13:06:25.627Z"
   },
   {
    "duration": 4,
    "start_time": "2022-09-10T13:06:41.265Z"
   },
   {
    "duration": 85,
    "start_time": "2022-09-10T13:14:17.959Z"
   },
   {
    "duration": 9,
    "start_time": "2022-09-10T13:15:16.350Z"
   },
   {
    "duration": 23,
    "start_time": "2022-09-10T13:20:02.680Z"
   },
   {
    "duration": 6,
    "start_time": "2022-09-10T13:37:09.217Z"
   },
   {
    "duration": 6,
    "start_time": "2022-09-10T13:43:02.830Z"
   },
   {
    "duration": 23,
    "start_time": "2022-09-10T13:43:03.827Z"
   },
   {
    "duration": 127,
    "start_time": "2022-09-10T13:43:05.821Z"
   },
   {
    "duration": 143,
    "start_time": "2022-09-10T13:43:06.683Z"
   },
   {
    "duration": 778,
    "start_time": "2022-09-10T13:43:07.159Z"
   },
   {
    "duration": 3,
    "start_time": "2022-09-10T13:44:53.985Z"
   },
   {
    "duration": 7,
    "start_time": "2022-09-10T13:44:53.991Z"
   },
   {
    "duration": 319,
    "start_time": "2022-09-10T13:44:54.000Z"
   },
   {
    "duration": 28,
    "start_time": "2022-09-10T13:44:54.321Z"
   },
   {
    "duration": 19,
    "start_time": "2022-09-10T13:44:54.351Z"
   },
   {
    "duration": 27,
    "start_time": "2022-09-10T13:44:54.372Z"
   },
   {
    "duration": 16,
    "start_time": "2022-09-10T13:44:54.401Z"
   },
   {
    "duration": 38,
    "start_time": "2022-09-10T13:44:54.419Z"
   },
   {
    "duration": 75,
    "start_time": "2022-09-10T13:44:54.459Z"
   },
   {
    "duration": 35,
    "start_time": "2022-09-10T13:44:54.548Z"
   },
   {
    "duration": 68,
    "start_time": "2022-09-10T13:44:54.585Z"
   },
   {
    "duration": 15,
    "start_time": "2022-09-10T13:44:54.655Z"
   },
   {
    "duration": 14,
    "start_time": "2022-09-10T13:44:54.671Z"
   },
   {
    "duration": 17,
    "start_time": "2022-09-10T13:44:54.687Z"
   },
   {
    "duration": 53,
    "start_time": "2022-09-10T13:44:54.706Z"
   },
   {
    "duration": 23,
    "start_time": "2022-09-10T13:44:54.761Z"
   },
   {
    "duration": 18,
    "start_time": "2022-09-10T13:44:54.785Z"
   },
   {
    "duration": 22,
    "start_time": "2022-09-10T13:44:54.805Z"
   },
   {
    "duration": 4,
    "start_time": "2022-09-10T13:44:54.846Z"
   },
   {
    "duration": 12,
    "start_time": "2022-09-10T13:44:54.853Z"
   },
   {
    "duration": 11,
    "start_time": "2022-09-10T13:44:54.867Z"
   },
   {
    "duration": 3436,
    "start_time": "2022-09-10T13:44:54.879Z"
   },
   {
    "duration": 21,
    "start_time": "2022-09-10T13:44:58.317Z"
   },
   {
    "duration": 6,
    "start_time": "2022-09-10T13:44:58.346Z"
   },
   {
    "duration": 15,
    "start_time": "2022-09-10T13:44:58.354Z"
   },
   {
    "duration": 103,
    "start_time": "2022-09-10T13:44:58.370Z"
   },
   {
    "duration": 60,
    "start_time": "2022-09-10T13:44:58.474Z"
   },
   {
    "duration": 147,
    "start_time": "2022-09-10T13:44:58.535Z"
   },
   {
    "duration": 142,
    "start_time": "2022-09-10T13:44:58.684Z"
   },
   {
    "duration": 151,
    "start_time": "2022-09-10T13:44:58.828Z"
   },
   {
    "duration": 8,
    "start_time": "2022-09-10T13:44:58.981Z"
   },
   {
    "duration": 27,
    "start_time": "2022-09-10T13:44:58.991Z"
   },
   {
    "duration": 136,
    "start_time": "2022-09-10T13:44:59.020Z"
   },
   {
    "duration": 146,
    "start_time": "2022-09-10T13:44:59.158Z"
   },
   {
    "duration": 140,
    "start_time": "2022-09-10T13:44:59.307Z"
   },
   {
    "duration": 6,
    "start_time": "2022-09-10T13:45:13.979Z"
   },
   {
    "duration": 24,
    "start_time": "2022-09-10T13:45:15.457Z"
   },
   {
    "duration": 131,
    "start_time": "2022-09-10T13:45:32.352Z"
   },
   {
    "duration": 146,
    "start_time": "2022-09-10T13:45:40.123Z"
   },
   {
    "duration": 767,
    "start_time": "2022-09-10T13:45:43.201Z"
   },
   {
    "duration": 130,
    "start_time": "2022-09-10T13:45:53.043Z"
   },
   {
    "duration": 308,
    "start_time": "2022-09-10T14:33:01.105Z"
   },
   {
    "duration": 264,
    "start_time": "2022-09-10T14:36:41.360Z"
   },
   {
    "duration": 12,
    "start_time": "2022-09-10T15:14:15.188Z"
   },
   {
    "duration": 5,
    "start_time": "2022-09-10T15:25:35.662Z"
   },
   {
    "duration": 4,
    "start_time": "2022-09-10T15:26:29.279Z"
   },
   {
    "duration": 7,
    "start_time": "2022-09-10T15:27:25.858Z"
   },
   {
    "duration": 9,
    "start_time": "2022-09-10T15:32:16.634Z"
   },
   {
    "duration": 136,
    "start_time": "2022-09-10T15:58:34.007Z"
   },
   {
    "duration": 143,
    "start_time": "2022-09-10T15:59:13.140Z"
   },
   {
    "duration": 146,
    "start_time": "2022-09-10T15:59:36.264Z"
   },
   {
    "duration": 131,
    "start_time": "2022-09-10T16:01:27.547Z"
   },
   {
    "duration": 144,
    "start_time": "2022-09-10T16:01:52.603Z"
   },
   {
    "duration": 132,
    "start_time": "2022-09-10T16:03:18.147Z"
   },
   {
    "duration": 123,
    "start_time": "2022-09-10T16:03:46.012Z"
   },
   {
    "duration": 10622,
    "start_time": "2022-09-10T16:05:48.147Z"
   },
   {
    "duration": 108,
    "start_time": "2022-09-10T16:06:28.372Z"
   },
   {
    "duration": 117,
    "start_time": "2022-09-10T16:06:47.868Z"
   },
   {
    "duration": 4,
    "start_time": "2022-09-10T16:15:15.722Z"
   },
   {
    "duration": 121,
    "start_time": "2022-09-10T16:15:35.093Z"
   },
   {
    "duration": 50,
    "start_time": "2022-09-10T16:17:51.077Z"
   },
   {
    "duration": 157,
    "start_time": "2022-09-10T16:18:03.252Z"
   },
   {
    "duration": 127,
    "start_time": "2022-09-10T16:29:14.104Z"
   },
   {
    "duration": 142,
    "start_time": "2022-09-10T16:30:52.224Z"
   },
   {
    "duration": 76,
    "start_time": "2022-09-10T16:31:23.376Z"
   },
   {
    "duration": 136,
    "start_time": "2022-09-10T16:32:17.064Z"
   },
   {
    "duration": 150,
    "start_time": "2022-09-10T16:32:33.891Z"
   },
   {
    "duration": 139,
    "start_time": "2022-09-10T16:32:46.498Z"
   },
   {
    "duration": 94,
    "start_time": "2022-09-10T16:34:52.361Z"
   },
   {
    "duration": 101,
    "start_time": "2022-09-10T16:35:40.883Z"
   },
   {
    "duration": 9,
    "start_time": "2022-09-10T16:36:12.346Z"
   },
   {
    "duration": 97,
    "start_time": "2022-09-10T16:36:19.219Z"
   },
   {
    "duration": 4,
    "start_time": "2022-09-10T16:54:09.860Z"
   },
   {
    "duration": 5,
    "start_time": "2022-09-10T17:12:29.983Z"
   },
   {
    "duration": 3,
    "start_time": "2022-09-10T17:12:52.645Z"
   },
   {
    "duration": 3,
    "start_time": "2022-09-10T17:12:58.510Z"
   },
   {
    "duration": 3,
    "start_time": "2022-09-10T17:13:14.324Z"
   },
   {
    "duration": 4,
    "start_time": "2022-09-10T17:13:29.224Z"
   },
   {
    "duration": 4,
    "start_time": "2022-09-10T17:13:41.991Z"
   },
   {
    "duration": 4,
    "start_time": "2022-09-10T17:13:50.421Z"
   },
   {
    "duration": 3,
    "start_time": "2022-09-10T17:13:53.920Z"
   },
   {
    "duration": 3,
    "start_time": "2022-09-10T17:15:04.175Z"
   },
   {
    "duration": 3,
    "start_time": "2022-09-10T17:15:13.120Z"
   },
   {
    "duration": 4,
    "start_time": "2022-09-10T17:15:18.039Z"
   },
   {
    "duration": 3,
    "start_time": "2022-09-10T17:15:24.401Z"
   },
   {
    "duration": 4,
    "start_time": "2022-09-10T17:15:31.070Z"
   },
   {
    "duration": 4,
    "start_time": "2022-09-10T17:16:10.211Z"
   },
   {
    "duration": 4,
    "start_time": "2022-09-10T17:16:57.760Z"
   },
   {
    "duration": 38,
    "start_time": "2022-09-10T17:17:36.848Z"
   },
   {
    "duration": 40,
    "start_time": "2022-09-10T17:18:07.362Z"
   },
   {
    "duration": 57,
    "start_time": "2022-09-10T17:21:58.769Z"
   },
   {
    "duration": 5,
    "start_time": "2022-09-10T17:22:05.364Z"
   },
   {
    "duration": 19,
    "start_time": "2022-09-10T17:22:15.636Z"
   },
   {
    "duration": 43,
    "start_time": "2022-09-10T17:27:36.567Z"
   },
   {
    "duration": 13,
    "start_time": "2022-09-10T17:27:56.839Z"
   },
   {
    "duration": 13,
    "start_time": "2022-09-10T17:28:13.548Z"
   },
   {
    "duration": 13,
    "start_time": "2022-09-10T17:28:27.822Z"
   },
   {
    "duration": 14,
    "start_time": "2022-09-10T17:29:01.351Z"
   },
   {
    "duration": 11,
    "start_time": "2022-09-10T17:30:29.408Z"
   },
   {
    "duration": 8,
    "start_time": "2022-09-10T17:31:00.139Z"
   },
   {
    "duration": 6,
    "start_time": "2022-09-10T17:31:37.074Z"
   },
   {
    "duration": 19,
    "start_time": "2022-09-10T17:31:37.745Z"
   },
   {
    "duration": 19,
    "start_time": "2022-09-10T17:31:58.065Z"
   },
   {
    "duration": 56,
    "start_time": "2022-09-10T17:36:04.155Z"
   },
   {
    "duration": 9,
    "start_time": "2022-09-10T17:36:39.235Z"
   },
   {
    "duration": 53,
    "start_time": "2022-09-10T17:36:54.113Z"
   },
   {
    "duration": 17,
    "start_time": "2022-09-10T17:37:51.844Z"
   },
   {
    "duration": 8,
    "start_time": "2022-09-10T17:38:19.715Z"
   },
   {
    "duration": 27,
    "start_time": "2022-09-10T17:38:20.397Z"
   },
   {
    "duration": 19,
    "start_time": "2022-09-10T17:38:35.026Z"
   },
   {
    "duration": 20,
    "start_time": "2022-09-10T17:38:37.579Z"
   },
   {
    "duration": 5,
    "start_time": "2022-09-10T17:39:15.042Z"
   },
   {
    "duration": 5,
    "start_time": "2022-09-10T17:39:23.867Z"
   },
   {
    "duration": 9,
    "start_time": "2022-09-10T17:39:31.859Z"
   },
   {
    "duration": 9,
    "start_time": "2022-09-10T17:39:53.059Z"
   },
   {
    "duration": 9,
    "start_time": "2022-09-10T17:40:13.927Z"
   },
   {
    "duration": 10,
    "start_time": "2022-09-10T17:40:51.235Z"
   },
   {
    "duration": 9,
    "start_time": "2022-09-10T17:40:58.670Z"
   },
   {
    "duration": 5,
    "start_time": "2022-09-10T17:41:06.135Z"
   },
   {
    "duration": 7,
    "start_time": "2022-09-10T17:41:24.709Z"
   },
   {
    "duration": 272,
    "start_time": "2022-09-10T17:43:31.914Z"
   },
   {
    "duration": 704,
    "start_time": "2022-09-10T17:45:38.266Z"
   },
   {
    "duration": 577,
    "start_time": "2022-09-10T17:48:11.496Z"
   },
   {
    "duration": 86,
    "start_time": "2022-09-10T17:49:05.072Z"
   },
   {
    "duration": 781,
    "start_time": "2022-09-10T17:49:13.431Z"
   },
   {
    "duration": 592,
    "start_time": "2022-09-10T17:51:55.508Z"
   },
   {
    "duration": 709,
    "start_time": "2022-09-10T17:52:15.080Z"
   },
   {
    "duration": 537,
    "start_time": "2022-09-10T17:53:23.012Z"
   },
   {
    "duration": 3,
    "start_time": "2022-09-10T18:04:36.659Z"
   },
   {
    "duration": 25,
    "start_time": "2022-09-10T18:04:36.663Z"
   },
   {
    "duration": 21,
    "start_time": "2022-09-10T18:04:36.690Z"
   },
   {
    "duration": 353,
    "start_time": "2022-09-10T18:04:36.712Z"
   },
   {
    "duration": 28,
    "start_time": "2022-09-10T18:04:37.067Z"
   },
   {
    "duration": 33,
    "start_time": "2022-09-10T18:04:37.096Z"
   },
   {
    "duration": 29,
    "start_time": "2022-09-10T18:04:37.131Z"
   },
   {
    "duration": 25,
    "start_time": "2022-09-10T18:04:37.162Z"
   },
   {
    "duration": 41,
    "start_time": "2022-09-10T18:04:37.188Z"
   },
   {
    "duration": 94,
    "start_time": "2022-09-10T18:04:37.231Z"
   },
   {
    "duration": 43,
    "start_time": "2022-09-10T18:04:37.328Z"
   },
   {
    "duration": 46,
    "start_time": "2022-09-10T18:04:37.374Z"
   },
   {
    "duration": 28,
    "start_time": "2022-09-10T18:04:37.422Z"
   },
   {
    "duration": 18,
    "start_time": "2022-09-10T18:04:37.451Z"
   },
   {
    "duration": 26,
    "start_time": "2022-09-10T18:04:37.470Z"
   },
   {
    "duration": 41,
    "start_time": "2022-09-10T18:04:37.498Z"
   },
   {
    "duration": 17,
    "start_time": "2022-09-10T18:04:37.541Z"
   },
   {
    "duration": 25,
    "start_time": "2022-09-10T18:04:37.559Z"
   },
   {
    "duration": 35,
    "start_time": "2022-09-10T18:04:37.586Z"
   },
   {
    "duration": 22,
    "start_time": "2022-09-10T18:04:37.623Z"
   },
   {
    "duration": 22,
    "start_time": "2022-09-10T18:04:37.646Z"
   },
   {
    "duration": 21,
    "start_time": "2022-09-10T18:04:37.670Z"
   },
   {
    "duration": 3290,
    "start_time": "2022-09-10T18:04:37.693Z"
   },
   {
    "duration": 18,
    "start_time": "2022-09-10T18:04:40.984Z"
   },
   {
    "duration": 5,
    "start_time": "2022-09-10T18:04:41.004Z"
   },
   {
    "duration": 16,
    "start_time": "2022-09-10T18:04:41.010Z"
   },
   {
    "duration": 107,
    "start_time": "2022-09-10T18:04:41.027Z"
   },
   {
    "duration": 72,
    "start_time": "2022-09-10T18:04:41.136Z"
   },
   {
    "duration": 208,
    "start_time": "2022-09-10T18:04:41.213Z"
   },
   {
    "duration": 187,
    "start_time": "2022-09-10T18:04:41.422Z"
   },
   {
    "duration": 155,
    "start_time": "2022-09-10T18:04:41.610Z"
   },
   {
    "duration": 6,
    "start_time": "2022-09-10T18:04:41.767Z"
   },
   {
    "duration": 26,
    "start_time": "2022-09-10T18:04:41.775Z"
   },
   {
    "duration": 154,
    "start_time": "2022-09-10T18:04:41.803Z"
   },
   {
    "duration": 174,
    "start_time": "2022-09-10T18:04:41.959Z"
   },
   {
    "duration": 156,
    "start_time": "2022-09-10T18:04:42.135Z"
   },
   {
    "duration": 6,
    "start_time": "2022-09-10T18:04:42.293Z"
   },
   {
    "duration": 27,
    "start_time": "2022-09-10T18:04:42.300Z"
   },
   {
    "duration": 157,
    "start_time": "2022-09-10T18:04:42.328Z"
   },
   {
    "duration": 161,
    "start_time": "2022-09-10T18:04:42.487Z"
   },
   {
    "duration": 146,
    "start_time": "2022-09-10T18:04:42.650Z"
   },
   {
    "duration": 297,
    "start_time": "2022-09-10T18:04:42.798Z"
   },
   {
    "duration": 309,
    "start_time": "2022-09-10T18:04:43.096Z"
   },
   {
    "duration": 5,
    "start_time": "2022-09-10T18:04:43.407Z"
   },
   {
    "duration": 7,
    "start_time": "2022-09-10T18:04:43.414Z"
   },
   {
    "duration": 6,
    "start_time": "2022-09-10T18:04:43.422Z"
   },
   {
    "duration": 22,
    "start_time": "2022-09-10T18:04:43.429Z"
   },
   {
    "duration": 137,
    "start_time": "2022-09-10T18:04:43.453Z"
   },
   {
    "duration": 39,
    "start_time": "2022-09-10T18:04:49.376Z"
   },
   {
    "duration": 7,
    "start_time": "2022-09-10T18:06:07.880Z"
   },
   {
    "duration": 13,
    "start_time": "2022-09-10T18:06:12.712Z"
   },
   {
    "duration": 9,
    "start_time": "2022-09-10T18:06:43.233Z"
   },
   {
    "duration": 6,
    "start_time": "2022-09-10T18:06:52.402Z"
   },
   {
    "duration": 20,
    "start_time": "2022-09-10T18:06:54.551Z"
   },
   {
    "duration": 20,
    "start_time": "2022-09-10T18:07:13.264Z"
   },
   {
    "duration": 4,
    "start_time": "2022-09-10T18:07:35.469Z"
   },
   {
    "duration": 15,
    "start_time": "2022-09-10T18:07:35.475Z"
   },
   {
    "duration": 7,
    "start_time": "2022-09-10T18:07:35.491Z"
   },
   {
    "duration": 314,
    "start_time": "2022-09-10T18:07:35.500Z"
   },
   {
    "duration": 26,
    "start_time": "2022-09-10T18:07:35.815Z"
   },
   {
    "duration": 19,
    "start_time": "2022-09-10T18:07:35.842Z"
   },
   {
    "duration": 21,
    "start_time": "2022-09-10T18:07:35.863Z"
   },
   {
    "duration": 14,
    "start_time": "2022-09-10T18:07:35.886Z"
   },
   {
    "duration": 15,
    "start_time": "2022-09-10T18:07:35.903Z"
   },
   {
    "duration": 111,
    "start_time": "2022-09-10T18:07:35.920Z"
   },
   {
    "duration": 48,
    "start_time": "2022-09-10T18:07:36.032Z"
   },
   {
    "duration": 45,
    "start_time": "2022-09-10T18:07:36.082Z"
   },
   {
    "duration": 29,
    "start_time": "2022-09-10T18:07:36.129Z"
   },
   {
    "duration": 14,
    "start_time": "2022-09-10T18:07:36.160Z"
   },
   {
    "duration": 22,
    "start_time": "2022-09-10T18:07:36.175Z"
   },
   {
    "duration": 63,
    "start_time": "2022-09-10T18:07:36.199Z"
   },
   {
    "duration": 28,
    "start_time": "2022-09-10T18:07:36.264Z"
   },
   {
    "duration": 23,
    "start_time": "2022-09-10T18:07:36.294Z"
   },
   {
    "duration": 52,
    "start_time": "2022-09-10T18:07:36.319Z"
   },
   {
    "duration": 5,
    "start_time": "2022-09-10T18:07:36.373Z"
   },
   {
    "duration": 13,
    "start_time": "2022-09-10T18:07:36.379Z"
   },
   {
    "duration": 10,
    "start_time": "2022-09-10T18:07:36.394Z"
   },
   {
    "duration": 3296,
    "start_time": "2022-09-10T18:07:36.406Z"
   },
   {
    "duration": 18,
    "start_time": "2022-09-10T18:07:39.706Z"
   },
   {
    "duration": 20,
    "start_time": "2022-09-10T18:07:39.725Z"
   },
   {
    "duration": 41,
    "start_time": "2022-09-10T18:07:39.747Z"
   },
   {
    "duration": 97,
    "start_time": "2022-09-10T18:07:39.790Z"
   },
   {
    "duration": 72,
    "start_time": "2022-09-10T18:07:39.888Z"
   },
   {
    "duration": 160,
    "start_time": "2022-09-10T18:07:39.962Z"
   },
   {
    "duration": 182,
    "start_time": "2022-09-10T18:07:40.123Z"
   },
   {
    "duration": 177,
    "start_time": "2022-09-10T18:07:40.307Z"
   },
   {
    "duration": 6,
    "start_time": "2022-09-10T18:07:40.486Z"
   },
   {
    "duration": 29,
    "start_time": "2022-09-10T18:07:40.494Z"
   },
   {
    "duration": 183,
    "start_time": "2022-09-10T18:07:40.526Z"
   },
   {
    "duration": 173,
    "start_time": "2022-09-10T18:07:40.711Z"
   },
   {
    "duration": 177,
    "start_time": "2022-09-10T18:07:40.886Z"
   },
   {
    "duration": 7,
    "start_time": "2022-09-10T18:07:41.065Z"
   },
   {
    "duration": 30,
    "start_time": "2022-09-10T18:07:41.075Z"
   },
   {
    "duration": 187,
    "start_time": "2022-09-10T18:07:41.107Z"
   },
   {
    "duration": 209,
    "start_time": "2022-09-10T18:07:41.298Z"
   },
   {
    "duration": 177,
    "start_time": "2022-09-10T18:07:41.510Z"
   },
   {
    "duration": 316,
    "start_time": "2022-09-10T18:07:41.689Z"
   },
   {
    "duration": 319,
    "start_time": "2022-09-10T18:07:42.006Z"
   },
   {
    "duration": 5,
    "start_time": "2022-09-10T18:07:42.327Z"
   },
   {
    "duration": 5,
    "start_time": "2022-09-10T18:07:42.347Z"
   },
   {
    "duration": 21,
    "start_time": "2022-09-10T18:07:42.354Z"
   },
   {
    "duration": 16,
    "start_time": "2022-09-10T18:07:42.376Z"
   },
   {
    "duration": 155,
    "start_time": "2022-09-10T18:07:42.393Z"
   },
   {
    "duration": 44,
    "start_time": "2022-09-10T18:07:42.550Z"
   },
   {
    "duration": 25,
    "start_time": "2022-09-10T18:07:42.596Z"
   },
   {
    "duration": 32,
    "start_time": "2022-09-10T18:07:42.623Z"
   },
   {
    "duration": 46,
    "start_time": "2022-09-10T18:07:42.659Z"
   },
   {
    "duration": 17,
    "start_time": "2022-09-10T18:08:09.384Z"
   },
   {
    "duration": 3,
    "start_time": "2022-09-10T18:09:09.696Z"
   },
   {
    "duration": 10,
    "start_time": "2022-09-10T18:09:09.702Z"
   },
   {
    "duration": 8,
    "start_time": "2022-09-10T18:09:09.713Z"
   },
   {
    "duration": 318,
    "start_time": "2022-09-10T18:09:09.723Z"
   },
   {
    "duration": 26,
    "start_time": "2022-09-10T18:09:10.043Z"
   },
   {
    "duration": 20,
    "start_time": "2022-09-10T18:09:10.071Z"
   },
   {
    "duration": 23,
    "start_time": "2022-09-10T18:09:10.093Z"
   },
   {
    "duration": 39,
    "start_time": "2022-09-10T18:09:10.118Z"
   },
   {
    "duration": 23,
    "start_time": "2022-09-10T18:09:10.159Z"
   },
   {
    "duration": 107,
    "start_time": "2022-09-10T18:09:10.184Z"
   },
   {
    "duration": 40,
    "start_time": "2022-09-10T18:09:10.293Z"
   },
   {
    "duration": 48,
    "start_time": "2022-09-10T18:09:10.346Z"
   },
   {
    "duration": 16,
    "start_time": "2022-09-10T18:09:10.398Z"
   },
   {
    "duration": 39,
    "start_time": "2022-09-10T18:09:10.416Z"
   },
   {
    "duration": 14,
    "start_time": "2022-09-10T18:09:10.457Z"
   },
   {
    "duration": 32,
    "start_time": "2022-09-10T18:09:10.473Z"
   },
   {
    "duration": 51,
    "start_time": "2022-09-10T18:09:10.507Z"
   },
   {
    "duration": 20,
    "start_time": "2022-09-10T18:09:10.560Z"
   },
   {
    "duration": 23,
    "start_time": "2022-09-10T18:09:10.581Z"
   },
   {
    "duration": 4,
    "start_time": "2022-09-10T18:09:10.606Z"
   },
   {
    "duration": 41,
    "start_time": "2022-09-10T18:09:10.612Z"
   },
   {
    "duration": 17,
    "start_time": "2022-09-10T18:09:10.655Z"
   },
   {
    "duration": 3543,
    "start_time": "2022-09-10T18:09:10.673Z"
   },
   {
    "duration": 20,
    "start_time": "2022-09-10T18:09:14.218Z"
   },
   {
    "duration": 7,
    "start_time": "2022-09-10T18:09:14.247Z"
   },
   {
    "duration": 22,
    "start_time": "2022-09-10T18:09:14.255Z"
   },
   {
    "duration": 110,
    "start_time": "2022-09-10T18:09:14.279Z"
   },
   {
    "duration": 75,
    "start_time": "2022-09-10T18:09:14.391Z"
   },
   {
    "duration": 179,
    "start_time": "2022-09-10T18:09:14.468Z"
   },
   {
    "duration": 183,
    "start_time": "2022-09-10T18:09:14.648Z"
   },
   {
    "duration": 162,
    "start_time": "2022-09-10T18:09:14.833Z"
   },
   {
    "duration": 6,
    "start_time": "2022-09-10T18:09:14.997Z"
   },
   {
    "duration": 46,
    "start_time": "2022-09-10T18:09:15.004Z"
   },
   {
    "duration": 153,
    "start_time": "2022-09-10T18:09:15.052Z"
   },
   {
    "duration": 196,
    "start_time": "2022-09-10T18:09:15.206Z"
   },
   {
    "duration": 191,
    "start_time": "2022-09-10T18:09:15.404Z"
   },
   {
    "duration": 7,
    "start_time": "2022-09-10T18:09:15.599Z"
   },
   {
    "duration": 50,
    "start_time": "2022-09-10T18:09:15.607Z"
   },
   {
    "duration": 168,
    "start_time": "2022-09-10T18:09:15.659Z"
   },
   {
    "duration": 344,
    "start_time": "2022-09-10T18:09:15.829Z"
   },
   {
    "duration": 290,
    "start_time": "2022-09-10T18:09:16.175Z"
   },
   {
    "duration": 339,
    "start_time": "2022-09-10T18:09:16.467Z"
   },
   {
    "duration": 314,
    "start_time": "2022-09-10T18:09:16.808Z"
   },
   {
    "duration": 5,
    "start_time": "2022-09-10T18:09:17.124Z"
   },
   {
    "duration": 18,
    "start_time": "2022-09-10T18:09:17.130Z"
   },
   {
    "duration": 4,
    "start_time": "2022-09-10T18:09:17.149Z"
   },
   {
    "duration": 12,
    "start_time": "2022-09-10T18:09:17.154Z"
   },
   {
    "duration": 157,
    "start_time": "2022-09-10T18:09:17.167Z"
   },
   {
    "duration": 35,
    "start_time": "2022-09-10T18:09:22.761Z"
   },
   {
    "duration": 7,
    "start_time": "2022-09-10T18:09:23.714Z"
   },
   {
    "duration": 29,
    "start_time": "2022-09-10T18:09:24.625Z"
   },
   {
    "duration": 19,
    "start_time": "2022-09-10T18:09:25.888Z"
   },
   {
    "duration": 15,
    "start_time": "2022-09-10T18:09:50.681Z"
   },
   {
    "duration": 17,
    "start_time": "2022-09-10T18:09:51.092Z"
   },
   {
    "duration": 19,
    "start_time": "2022-09-10T18:11:06.918Z"
   },
   {
    "duration": 20,
    "start_time": "2022-09-10T18:11:17.011Z"
   },
   {
    "duration": 312,
    "start_time": "2022-09-10T18:12:29.014Z"
   },
   {
    "duration": 130,
    "start_time": "2022-09-10T18:13:42.613Z"
   },
   {
    "duration": 50,
    "start_time": "2022-09-10T18:15:25.734Z"
   },
   {
    "duration": 197,
    "start_time": "2022-09-10T18:16:05.327Z"
   },
   {
    "duration": 205,
    "start_time": "2022-09-10T18:16:57.268Z"
   },
   {
    "duration": 189,
    "start_time": "2022-09-10T18:17:29.276Z"
   },
   {
    "duration": 136,
    "start_time": "2022-09-10T18:17:46.095Z"
   },
   {
    "duration": 118,
    "start_time": "2022-09-10T18:18:08.479Z"
   },
   {
    "duration": 8228,
    "start_time": "2022-09-10T18:18:37.382Z"
   },
   {
    "duration": 331,
    "start_time": "2022-09-10T18:19:04.173Z"
   },
   {
    "duration": 14,
    "start_time": "2022-09-10T18:24:11.650Z"
   },
   {
    "duration": 10,
    "start_time": "2022-09-10T18:24:23.050Z"
   },
   {
    "duration": 9,
    "start_time": "2022-09-10T19:36:04.171Z"
   },
   {
    "duration": 8,
    "start_time": "2022-09-10T19:36:22.683Z"
   },
   {
    "duration": 8,
    "start_time": "2022-09-10T19:36:28.513Z"
   },
   {
    "duration": 3,
    "start_time": "2022-09-10T19:36:39.416Z"
   },
   {
    "duration": 9,
    "start_time": "2022-09-10T19:36:39.421Z"
   },
   {
    "duration": 7,
    "start_time": "2022-09-10T19:36:39.432Z"
   },
   {
    "duration": 322,
    "start_time": "2022-09-10T19:36:39.443Z"
   },
   {
    "duration": 27,
    "start_time": "2022-09-10T19:36:39.767Z"
   },
   {
    "duration": 19,
    "start_time": "2022-09-10T19:36:39.796Z"
   },
   {
    "duration": 31,
    "start_time": "2022-09-10T19:36:39.817Z"
   },
   {
    "duration": 16,
    "start_time": "2022-09-10T19:36:39.850Z"
   },
   {
    "duration": 20,
    "start_time": "2022-09-10T19:36:39.868Z"
   },
   {
    "duration": 95,
    "start_time": "2022-09-10T19:36:39.889Z"
   },
   {
    "duration": 35,
    "start_time": "2022-09-10T19:36:39.986Z"
   },
   {
    "duration": 54,
    "start_time": "2022-09-10T19:36:40.022Z"
   },
   {
    "duration": 14,
    "start_time": "2022-09-10T19:36:40.078Z"
   },
   {
    "duration": 21,
    "start_time": "2022-09-10T19:36:40.093Z"
   },
   {
    "duration": 12,
    "start_time": "2022-09-10T19:36:40.116Z"
   },
   {
    "duration": 33,
    "start_time": "2022-09-10T19:36:40.147Z"
   },
   {
    "duration": 18,
    "start_time": "2022-09-10T19:36:40.183Z"
   },
   {
    "duration": 20,
    "start_time": "2022-09-10T19:36:40.203Z"
   },
   {
    "duration": 24,
    "start_time": "2022-09-10T19:36:40.247Z"
   },
   {
    "duration": 4,
    "start_time": "2022-09-10T19:36:40.273Z"
   },
   {
    "duration": 12,
    "start_time": "2022-09-10T19:36:40.279Z"
   },
   {
    "duration": 10,
    "start_time": "2022-09-10T19:36:40.293Z"
   },
   {
    "duration": 3329,
    "start_time": "2022-09-10T19:36:40.304Z"
   },
   {
    "duration": 29,
    "start_time": "2022-09-10T19:36:43.635Z"
   },
   {
    "duration": 6,
    "start_time": "2022-09-10T19:36:43.666Z"
   },
   {
    "duration": 14,
    "start_time": "2022-09-10T19:36:43.673Z"
   },
   {
    "duration": 104,
    "start_time": "2022-09-10T19:36:43.689Z"
   },
   {
    "duration": 75,
    "start_time": "2022-09-10T19:36:43.794Z"
   },
   {
    "duration": 163,
    "start_time": "2022-09-10T19:36:43.871Z"
   },
   {
    "duration": 173,
    "start_time": "2022-09-10T19:36:44.036Z"
   },
   {
    "duration": 163,
    "start_time": "2022-09-10T19:36:44.211Z"
   },
   {
    "duration": 6,
    "start_time": "2022-09-10T19:36:44.376Z"
   },
   {
    "duration": 36,
    "start_time": "2022-09-10T19:36:44.383Z"
   },
   {
    "duration": 159,
    "start_time": "2022-09-10T19:36:44.421Z"
   },
   {
    "duration": 170,
    "start_time": "2022-09-10T19:36:44.582Z"
   },
   {
    "duration": 156,
    "start_time": "2022-09-10T19:36:44.753Z"
   },
   {
    "duration": 6,
    "start_time": "2022-09-10T19:36:44.911Z"
   },
   {
    "duration": 39,
    "start_time": "2022-09-10T19:36:44.918Z"
   },
   {
    "duration": 147,
    "start_time": "2022-09-10T19:36:44.959Z"
   },
   {
    "duration": 174,
    "start_time": "2022-09-10T19:36:45.107Z"
   },
   {
    "duration": 165,
    "start_time": "2022-09-10T19:36:45.283Z"
   },
   {
    "duration": 313,
    "start_time": "2022-09-10T19:36:45.450Z"
   },
   {
    "duration": 302,
    "start_time": "2022-09-10T19:36:45.764Z"
   },
   {
    "duration": 4,
    "start_time": "2022-09-10T19:36:46.070Z"
   },
   {
    "duration": 16,
    "start_time": "2022-09-10T19:36:46.076Z"
   },
   {
    "duration": 14,
    "start_time": "2022-09-10T19:36:46.094Z"
   },
   {
    "duration": 9,
    "start_time": "2022-09-10T19:36:46.109Z"
   },
   {
    "duration": 134,
    "start_time": "2022-09-10T19:36:46.120Z"
   },
   {
    "duration": 53,
    "start_time": "2022-09-10T19:36:46.255Z"
   },
   {
    "duration": 38,
    "start_time": "2022-09-10T19:36:46.310Z"
   },
   {
    "duration": 358,
    "start_time": "2022-09-10T19:36:46.350Z"
   },
   {
    "duration": 191,
    "start_time": "2022-09-10T19:36:46.710Z"
   },
   {
    "duration": 11,
    "start_time": "2022-09-10T19:36:46.902Z"
   },
   {
    "duration": 9,
    "start_time": "2022-09-10T19:36:55.075Z"
   },
   {
    "duration": 8,
    "start_time": "2022-09-10T19:37:06.928Z"
   },
   {
    "duration": 12,
    "start_time": "2022-09-10T19:37:18.499Z"
   },
   {
    "duration": 9,
    "start_time": "2022-09-10T19:37:39.093Z"
   },
   {
    "duration": 5,
    "start_time": "2022-09-10T19:38:43.957Z"
   },
   {
    "duration": 4,
    "start_time": "2022-09-10T19:40:47.646Z"
   },
   {
    "duration": 299,
    "start_time": "2022-09-10T19:44:44.714Z"
   },
   {
    "duration": 5,
    "start_time": "2022-09-10T19:54:16.813Z"
   },
   {
    "duration": 5,
    "start_time": "2022-09-10T19:57:10.702Z"
   },
   {
    "duration": 49,
    "start_time": "2022-09-10T19:57:43.403Z"
   },
   {
    "duration": 8,
    "start_time": "2022-09-10T19:57:56.166Z"
   },
   {
    "duration": 2,
    "start_time": "2022-09-10T19:58:27.045Z"
   },
   {
    "duration": 4,
    "start_time": "2022-09-10T19:59:07.951Z"
   },
   {
    "duration": 3,
    "start_time": "2022-09-10T20:07:02.226Z"
   },
   {
    "duration": 3,
    "start_time": "2022-09-10T20:07:35.269Z"
   },
   {
    "duration": 8,
    "start_time": "2022-09-10T20:19:03.679Z"
   },
   {
    "duration": 4,
    "start_time": "2022-09-10T20:20:56.148Z"
   },
   {
    "duration": 6,
    "start_time": "2022-09-10T20:20:56.154Z"
   },
   {
    "duration": 8,
    "start_time": "2022-09-10T20:20:56.162Z"
   },
   {
    "duration": 345,
    "start_time": "2022-09-10T20:20:56.172Z"
   },
   {
    "duration": 25,
    "start_time": "2022-09-10T20:20:56.519Z"
   },
   {
    "duration": 19,
    "start_time": "2022-09-10T20:20:56.546Z"
   },
   {
    "duration": 23,
    "start_time": "2022-09-10T20:20:56.567Z"
   },
   {
    "duration": 18,
    "start_time": "2022-09-10T20:20:56.591Z"
   },
   {
    "duration": 45,
    "start_time": "2022-09-10T20:20:56.611Z"
   },
   {
    "duration": 88,
    "start_time": "2022-09-10T20:20:56.658Z"
   },
   {
    "duration": 35,
    "start_time": "2022-09-10T20:20:56.748Z"
   },
   {
    "duration": 40,
    "start_time": "2022-09-10T20:20:56.785Z"
   },
   {
    "duration": 33,
    "start_time": "2022-09-10T20:20:56.826Z"
   },
   {
    "duration": 14,
    "start_time": "2022-09-10T20:20:56.861Z"
   },
   {
    "duration": 13,
    "start_time": "2022-09-10T20:20:56.876Z"
   },
   {
    "duration": 33,
    "start_time": "2022-09-10T20:20:56.891Z"
   },
   {
    "duration": 18,
    "start_time": "2022-09-10T20:20:56.947Z"
   },
   {
    "duration": 21,
    "start_time": "2022-09-10T20:20:56.967Z"
   },
   {
    "duration": 21,
    "start_time": "2022-09-10T20:20:56.990Z"
   },
   {
    "duration": 3,
    "start_time": "2022-09-10T20:20:57.013Z"
   },
   {
    "duration": 37,
    "start_time": "2022-09-10T20:20:57.017Z"
   },
   {
    "duration": 10,
    "start_time": "2022-09-10T20:20:57.056Z"
   },
   {
    "duration": 3268,
    "start_time": "2022-09-10T20:20:57.067Z"
   },
   {
    "duration": 24,
    "start_time": "2022-09-10T20:21:00.338Z"
   },
   {
    "duration": 29,
    "start_time": "2022-09-10T20:21:00.364Z"
   },
   {
    "duration": 28,
    "start_time": "2022-09-10T20:21:00.394Z"
   },
   {
    "duration": 113,
    "start_time": "2022-09-10T20:21:00.423Z"
   },
   {
    "duration": 67,
    "start_time": "2022-09-10T20:21:00.546Z"
   },
   {
    "duration": 176,
    "start_time": "2022-09-10T20:21:00.614Z"
   },
   {
    "duration": 183,
    "start_time": "2022-09-10T20:21:00.791Z"
   },
   {
    "duration": 167,
    "start_time": "2022-09-10T20:21:00.976Z"
   },
   {
    "duration": 6,
    "start_time": "2022-09-10T20:21:01.146Z"
   },
   {
    "duration": 64,
    "start_time": "2022-09-10T20:21:01.154Z"
   },
   {
    "duration": 160,
    "start_time": "2022-09-10T20:21:01.220Z"
   },
   {
    "duration": 186,
    "start_time": "2022-09-10T20:21:01.382Z"
   },
   {
    "duration": 182,
    "start_time": "2022-09-10T20:21:01.570Z"
   },
   {
    "duration": 7,
    "start_time": "2022-09-10T20:21:01.755Z"
   },
   {
    "duration": 49,
    "start_time": "2022-09-10T20:21:01.764Z"
   },
   {
    "duration": 165,
    "start_time": "2022-09-10T20:21:01.814Z"
   },
   {
    "duration": 177,
    "start_time": "2022-09-10T20:21:01.981Z"
   },
   {
    "duration": 169,
    "start_time": "2022-09-10T20:21:02.160Z"
   },
   {
    "duration": 322,
    "start_time": "2022-09-10T20:21:02.331Z"
   },
   {
    "duration": 314,
    "start_time": "2022-09-10T20:21:02.655Z"
   },
   {
    "duration": 4,
    "start_time": "2022-09-10T20:21:02.971Z"
   },
   {
    "duration": 15,
    "start_time": "2022-09-10T20:21:02.976Z"
   },
   {
    "duration": 7,
    "start_time": "2022-09-10T20:21:02.992Z"
   },
   {
    "duration": 12,
    "start_time": "2022-09-10T20:21:03.000Z"
   },
   {
    "duration": 142,
    "start_time": "2022-09-10T20:21:03.014Z"
   },
   {
    "duration": 33,
    "start_time": "2022-09-10T20:21:03.158Z"
   },
   {
    "duration": 20,
    "start_time": "2022-09-10T20:21:03.193Z"
   },
   {
    "duration": 340,
    "start_time": "2022-09-10T20:21:03.215Z"
   },
   {
    "duration": 195,
    "start_time": "2022-09-10T20:21:03.556Z"
   },
   {
    "duration": 10,
    "start_time": "2022-09-10T20:21:03.753Z"
   },
   {
    "duration": 4,
    "start_time": "2022-09-10T20:21:03.765Z"
   },
   {
    "duration": 338,
    "start_time": "2022-09-10T20:21:03.770Z"
   },
   {
    "duration": 5,
    "start_time": "2022-09-10T20:21:04.110Z"
   },
   {
    "duration": 7,
    "start_time": "2022-09-10T20:21:04.116Z"
   },
   {
    "duration": 5,
    "start_time": "2022-09-10T20:21:04.125Z"
   },
   {
    "duration": 16,
    "start_time": "2022-09-10T20:21:04.132Z"
   },
   {
    "duration": 15,
    "start_time": "2022-09-10T20:21:15.381Z"
   },
   {
    "duration": 5,
    "start_time": "2022-09-10T20:21:53.023Z"
   },
   {
    "duration": 5,
    "start_time": "2022-09-10T20:32:07.296Z"
   },
   {
    "duration": 10,
    "start_time": "2022-09-10T20:46:12.588Z"
   },
   {
    "duration": 5,
    "start_time": "2022-09-10T20:46:37.980Z"
   },
   {
    "duration": 4,
    "start_time": "2022-09-10T20:50:48.293Z"
   },
   {
    "duration": 339,
    "start_time": "2022-09-10T20:51:17.829Z"
   },
   {
    "duration": 4,
    "start_time": "2022-09-10T20:52:13.594Z"
   },
   {
    "duration": 309,
    "start_time": "2022-09-10T20:52:15.130Z"
   },
   {
    "duration": 6,
    "start_time": "2022-09-10T20:52:30.013Z"
   },
   {
    "duration": 5,
    "start_time": "2022-09-10T20:52:36.311Z"
   },
   {
    "duration": 3,
    "start_time": "2022-09-10T20:52:39.100Z"
   },
   {
    "duration": 3,
    "start_time": "2022-09-10T20:52:52.021Z"
   },
   {
    "duration": 3,
    "start_time": "2022-09-10T20:58:20.051Z"
   },
   {
    "duration": 8,
    "start_time": "2022-09-10T20:58:20.056Z"
   },
   {
    "duration": 10,
    "start_time": "2022-09-10T20:58:20.066Z"
   },
   {
    "duration": 312,
    "start_time": "2022-09-10T20:58:20.078Z"
   },
   {
    "duration": 23,
    "start_time": "2022-09-10T20:58:20.392Z"
   },
   {
    "duration": 21,
    "start_time": "2022-09-10T20:58:20.416Z"
   },
   {
    "duration": 28,
    "start_time": "2022-09-10T20:58:20.439Z"
   },
   {
    "duration": 15,
    "start_time": "2022-09-10T20:58:20.470Z"
   },
   {
    "duration": 26,
    "start_time": "2022-09-10T20:58:20.487Z"
   },
   {
    "duration": 89,
    "start_time": "2022-09-10T20:58:20.515Z"
   },
   {
    "duration": 43,
    "start_time": "2022-09-10T20:58:20.606Z"
   },
   {
    "duration": 44,
    "start_time": "2022-09-10T20:58:20.651Z"
   },
   {
    "duration": 16,
    "start_time": "2022-09-10T20:58:20.698Z"
   },
   {
    "duration": 44,
    "start_time": "2022-09-10T20:58:20.716Z"
   },
   {
    "duration": 17,
    "start_time": "2022-09-10T20:58:20.762Z"
   },
   {
    "duration": 43,
    "start_time": "2022-09-10T20:58:20.781Z"
   },
   {
    "duration": 23,
    "start_time": "2022-09-10T20:58:20.846Z"
   },
   {
    "duration": 28,
    "start_time": "2022-09-10T20:58:20.871Z"
   },
   {
    "duration": 24,
    "start_time": "2022-09-10T20:58:20.900Z"
   },
   {
    "duration": 4,
    "start_time": "2022-09-10T20:58:20.946Z"
   },
   {
    "duration": 12,
    "start_time": "2022-09-10T20:58:20.952Z"
   },
   {
    "duration": 8,
    "start_time": "2022-09-10T20:58:20.965Z"
   },
   {
    "duration": 3368,
    "start_time": "2022-09-10T20:58:20.974Z"
   },
   {
    "duration": 20,
    "start_time": "2022-09-10T20:58:24.344Z"
   },
   {
    "duration": 11,
    "start_time": "2022-09-10T20:58:24.366Z"
   },
   {
    "duration": 16,
    "start_time": "2022-09-10T20:58:24.378Z"
   },
   {
    "duration": 102,
    "start_time": "2022-09-10T20:58:24.396Z"
   },
   {
    "duration": 71,
    "start_time": "2022-09-10T20:58:24.500Z"
   },
   {
    "duration": 168,
    "start_time": "2022-09-10T20:58:24.572Z"
   },
   {
    "duration": 168,
    "start_time": "2022-09-10T20:58:24.747Z"
   },
   {
    "duration": 157,
    "start_time": "2022-09-10T20:58:24.917Z"
   },
   {
    "duration": 5,
    "start_time": "2022-09-10T20:58:25.076Z"
   },
   {
    "duration": 24,
    "start_time": "2022-09-10T20:58:25.083Z"
   },
   {
    "duration": 151,
    "start_time": "2022-09-10T20:58:25.108Z"
   },
   {
    "duration": 163,
    "start_time": "2022-09-10T20:58:25.261Z"
   },
   {
    "duration": 158,
    "start_time": "2022-09-10T20:58:25.426Z"
   },
   {
    "duration": 6,
    "start_time": "2022-09-10T20:58:25.585Z"
   },
   {
    "duration": 30,
    "start_time": "2022-09-10T20:58:25.592Z"
   },
   {
    "duration": 158,
    "start_time": "2022-09-10T20:58:25.623Z"
   },
   {
    "duration": 174,
    "start_time": "2022-09-10T20:58:25.783Z"
   },
   {
    "duration": 160,
    "start_time": "2022-09-10T20:58:25.959Z"
   },
   {
    "duration": 350,
    "start_time": "2022-09-10T20:58:26.120Z"
   },
   {
    "duration": 296,
    "start_time": "2022-09-10T20:58:26.472Z"
   },
   {
    "duration": 5,
    "start_time": "2022-09-10T20:58:26.769Z"
   },
   {
    "duration": 14,
    "start_time": "2022-09-10T20:58:26.775Z"
   },
   {
    "duration": 18,
    "start_time": "2022-09-10T20:58:26.790Z"
   },
   {
    "duration": 17,
    "start_time": "2022-09-10T20:58:26.810Z"
   },
   {
    "duration": 136,
    "start_time": "2022-09-10T20:58:26.829Z"
   },
   {
    "duration": 33,
    "start_time": "2022-09-10T20:58:26.966Z"
   },
   {
    "duration": 21,
    "start_time": "2022-09-10T20:58:27.001Z"
   },
   {
    "duration": 309,
    "start_time": "2022-09-10T20:58:27.023Z"
   },
   {
    "duration": 205,
    "start_time": "2022-09-10T20:58:27.334Z"
   },
   {
    "duration": 14,
    "start_time": "2022-09-10T20:58:27.540Z"
   },
   {
    "duration": 4,
    "start_time": "2022-09-10T20:58:27.555Z"
   },
   {
    "duration": 310,
    "start_time": "2022-09-10T20:58:27.561Z"
   },
   {
    "duration": 6,
    "start_time": "2022-09-10T20:58:27.875Z"
   },
   {
    "duration": 5,
    "start_time": "2022-09-10T20:58:27.883Z"
   },
   {
    "duration": 5,
    "start_time": "2022-09-10T20:58:27.890Z"
   },
   {
    "duration": 6,
    "start_time": "2022-09-10T20:58:27.897Z"
   },
   {
    "duration": 5,
    "start_time": "2022-09-10T20:59:49.103Z"
   },
   {
    "duration": 4,
    "start_time": "2022-09-10T21:02:12.196Z"
   },
   {
    "duration": 5,
    "start_time": "2022-09-10T21:08:46.899Z"
   },
   {
    "duration": 4,
    "start_time": "2022-09-10T21:17:20.969Z"
   },
   {
    "duration": 4,
    "start_time": "2022-09-10T21:17:21.419Z"
   },
   {
    "duration": 9,
    "start_time": "2022-09-10T21:17:22.792Z"
   },
   {
    "duration": 214,
    "start_time": "2022-09-10T21:17:44.971Z"
   },
   {
    "duration": 800,
    "start_time": "2022-09-10T21:18:56.475Z"
   },
   {
    "duration": 4,
    "start_time": "2022-09-10T21:19:52.448Z"
   },
   {
    "duration": 5,
    "start_time": "2022-09-10T21:20:00.204Z"
   },
   {
    "duration": 7,
    "start_time": "2022-09-10T21:23:08.618Z"
   },
   {
    "duration": 4,
    "start_time": "2022-09-10T21:24:00.231Z"
   },
   {
    "duration": 4,
    "start_time": "2022-09-10T21:24:00.723Z"
   },
   {
    "duration": 24,
    "start_time": "2022-09-10T21:24:15.675Z"
   },
   {
    "duration": 32,
    "start_time": "2022-09-10T21:25:20.859Z"
   },
   {
    "duration": 17,
    "start_time": "2022-09-10T21:28:19.734Z"
   },
   {
    "duration": 9,
    "start_time": "2022-09-10T21:45:56.238Z"
   },
   {
    "duration": 8,
    "start_time": "2022-09-10T21:46:05.179Z"
   },
   {
    "duration": 4,
    "start_time": "2022-09-10T22:04:42.898Z"
   },
   {
    "duration": 10,
    "start_time": "2022-09-10T22:04:42.903Z"
   },
   {
    "duration": 6,
    "start_time": "2022-09-10T22:04:42.915Z"
   },
   {
    "duration": 311,
    "start_time": "2022-09-10T22:04:42.923Z"
   },
   {
    "duration": 26,
    "start_time": "2022-09-10T22:04:43.236Z"
   },
   {
    "duration": 18,
    "start_time": "2022-09-10T22:04:43.264Z"
   },
   {
    "duration": 21,
    "start_time": "2022-09-10T22:04:43.284Z"
   },
   {
    "duration": 40,
    "start_time": "2022-09-10T22:04:43.307Z"
   },
   {
    "duration": 16,
    "start_time": "2022-09-10T22:04:43.350Z"
   },
   {
    "duration": 100,
    "start_time": "2022-09-10T22:04:43.367Z"
   },
   {
    "duration": 38,
    "start_time": "2022-09-10T22:04:43.473Z"
   },
   {
    "duration": 49,
    "start_time": "2022-09-10T22:04:43.512Z"
   },
   {
    "duration": 15,
    "start_time": "2022-09-10T22:04:43.562Z"
   },
   {
    "duration": 14,
    "start_time": "2022-09-10T22:04:43.578Z"
   },
   {
    "duration": 13,
    "start_time": "2022-09-10T22:04:43.594Z"
   },
   {
    "duration": 58,
    "start_time": "2022-09-10T22:04:43.608Z"
   },
   {
    "duration": 18,
    "start_time": "2022-09-10T22:04:43.668Z"
   },
   {
    "duration": 19,
    "start_time": "2022-09-10T22:04:43.687Z"
   },
   {
    "duration": 45,
    "start_time": "2022-09-10T22:04:43.707Z"
   },
   {
    "duration": 4,
    "start_time": "2022-09-10T22:04:43.755Z"
   },
   {
    "duration": 14,
    "start_time": "2022-09-10T22:04:43.760Z"
   },
   {
    "duration": 8,
    "start_time": "2022-09-10T22:04:43.775Z"
   },
   {
    "duration": 3332,
    "start_time": "2022-09-10T22:04:43.784Z"
   },
   {
    "duration": 26,
    "start_time": "2022-09-10T22:04:47.121Z"
   },
   {
    "duration": 7,
    "start_time": "2022-09-10T22:04:47.149Z"
   },
   {
    "duration": 16,
    "start_time": "2022-09-10T22:04:47.157Z"
   },
   {
    "duration": 106,
    "start_time": "2022-09-10T22:04:47.175Z"
   },
   {
    "duration": 71,
    "start_time": "2022-09-10T22:04:47.283Z"
   },
   {
    "duration": 165,
    "start_time": "2022-09-10T22:04:47.355Z"
   },
   {
    "duration": 168,
    "start_time": "2022-09-10T22:04:47.522Z"
   },
   {
    "duration": 150,
    "start_time": "2022-09-10T22:04:47.691Z"
   },
   {
    "duration": 7,
    "start_time": "2022-09-10T22:04:47.846Z"
   },
   {
    "duration": 32,
    "start_time": "2022-09-10T22:04:47.854Z"
   },
   {
    "duration": 169,
    "start_time": "2022-09-10T22:04:47.887Z"
   },
   {
    "duration": 177,
    "start_time": "2022-09-10T22:04:48.057Z"
   },
   {
    "duration": 156,
    "start_time": "2022-09-10T22:04:48.236Z"
   },
   {
    "duration": 7,
    "start_time": "2022-09-10T22:04:48.394Z"
   },
   {
    "duration": 32,
    "start_time": "2022-09-10T22:04:48.402Z"
   },
   {
    "duration": 157,
    "start_time": "2022-09-10T22:04:48.436Z"
   },
   {
    "duration": 175,
    "start_time": "2022-09-10T22:04:48.595Z"
   },
   {
    "duration": 157,
    "start_time": "2022-09-10T22:04:48.771Z"
   },
   {
    "duration": 311,
    "start_time": "2022-09-10T22:04:48.930Z"
   },
   {
    "duration": 293,
    "start_time": "2022-09-10T22:04:49.242Z"
   },
   {
    "duration": 5,
    "start_time": "2022-09-10T22:04:49.536Z"
   },
   {
    "duration": 4,
    "start_time": "2022-09-10T22:04:49.547Z"
   },
   {
    "duration": 8,
    "start_time": "2022-09-10T22:04:49.552Z"
   },
   {
    "duration": 9,
    "start_time": "2022-09-10T22:04:49.561Z"
   },
   {
    "duration": 144,
    "start_time": "2022-09-10T22:04:49.571Z"
   },
   {
    "duration": 38,
    "start_time": "2022-09-10T22:04:49.717Z"
   },
   {
    "duration": 17,
    "start_time": "2022-09-10T22:04:49.756Z"
   },
   {
    "duration": 311,
    "start_time": "2022-09-10T22:04:49.775Z"
   },
   {
    "duration": 183,
    "start_time": "2022-09-10T22:04:50.088Z"
   },
   {
    "duration": 10,
    "start_time": "2022-09-10T22:04:50.273Z"
   },
   {
    "duration": 5,
    "start_time": "2022-09-10T22:04:50.284Z"
   },
   {
    "duration": 310,
    "start_time": "2022-09-10T22:04:50.290Z"
   },
   {
    "duration": 5,
    "start_time": "2022-09-10T22:04:50.602Z"
   },
   {
    "duration": 9,
    "start_time": "2022-09-10T22:04:50.609Z"
   },
   {
    "duration": 8,
    "start_time": "2022-09-10T22:04:50.620Z"
   },
   {
    "duration": 7,
    "start_time": "2022-09-10T22:04:50.630Z"
   },
   {
    "duration": 4,
    "start_time": "2022-09-10T22:04:50.647Z"
   },
   {
    "duration": 9,
    "start_time": "2022-09-10T22:04:50.652Z"
   },
   {
    "duration": 8,
    "start_time": "2022-09-10T22:04:50.663Z"
   },
   {
    "duration": 8,
    "start_time": "2022-09-10T22:04:50.672Z"
   },
   {
    "duration": 5,
    "start_time": "2022-09-10T22:04:50.681Z"
   },
   {
    "duration": 7,
    "start_time": "2022-09-10T22:04:50.688Z"
   },
   {
    "duration": 28,
    "start_time": "2022-09-10T22:04:50.696Z"
   }
  ],
  "kernelspec": {
   "display_name": "Python 3 (ipykernel)",
   "language": "python",
   "name": "python3"
  },
  "language_info": {
   "codemirror_mode": {
    "name": "ipython",
    "version": 3
   },
   "file_extension": ".py",
   "mimetype": "text/x-python",
   "name": "python",
   "nbconvert_exporter": "python",
   "pygments_lexer": "ipython3",
   "version": "3.9.12"
  },
  "toc": {
   "base_numbering": 1,
   "nav_menu": {},
   "number_sections": true,
   "sideBar": true,
   "skip_h1_title": true,
   "title_cell": "Table of Contents",
   "title_sidebar": "Contents",
   "toc_cell": false,
   "toc_position": {
    "height": "calc(100% - 180px)",
    "left": "10px",
    "top": "150px",
    "width": "317.006px"
   },
   "toc_section_display": true,
   "toc_window_display": true
  }
 },
 "nbformat": 4,
 "nbformat_minor": 2
}
