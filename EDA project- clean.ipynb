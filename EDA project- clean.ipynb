{
 "cells": [
  {
   "cell_type": "markdown",
   "metadata": {},
   "source": [
    "# What sells a car?\n",
    "\n",
    "**The purpose of this report , I to try to determin what factor/factors influance more on the price of a car.This is based on the data from a car saling advertisment across a few years period.** \n",
    "Let us study the data we have inorder to get more general idea on the data that is in our hands."
   ]
  },
  {
   "cell_type": "markdown",
   "metadata": {},
   "source": [
    "## Initialization"
   ]
  },
  {
   "cell_type": "code",
   "execution_count": 1,
   "metadata": {},
   "outputs": [],
   "source": [
    "# Loading all the libraries\n",
    "import pandas as pd\n",
    "import numpy as np\n",
    "import matplotlib.pyplot as plt\n",
    "import matplotlib\n",
    "import seaborn as sns\n"
   ]
  },
  {
   "cell_type": "markdown",
   "metadata": {},
   "source": [
    "### Load data"
   ]
  },
  {
   "cell_type": "code",
   "execution_count": 2,
   "metadata": {},
   "outputs": [
    {
     "data": {
      "text/html": [
       "<div>\n",
       "<style scoped>\n",
       "    .dataframe tbody tr th:only-of-type {\n",
       "        vertical-align: middle;\n",
       "    }\n",
       "\n",
       "    .dataframe tbody tr th {\n",
       "        vertical-align: top;\n",
       "    }\n",
       "\n",
       "    .dataframe thead th {\n",
       "        text-align: right;\n",
       "    }\n",
       "</style>\n",
       "<table border=\"1\" class=\"dataframe\">\n",
       "  <thead>\n",
       "    <tr style=\"text-align: right;\">\n",
       "      <th></th>\n",
       "      <th>price</th>\n",
       "      <th>model_year</th>\n",
       "      <th>model</th>\n",
       "      <th>condition</th>\n",
       "      <th>cylinders</th>\n",
       "      <th>fuel</th>\n",
       "      <th>odometer</th>\n",
       "      <th>transmission</th>\n",
       "      <th>type</th>\n",
       "      <th>paint_color</th>\n",
       "      <th>is_4wd</th>\n",
       "      <th>date_posted</th>\n",
       "      <th>days_listed</th>\n",
       "    </tr>\n",
       "  </thead>\n",
       "  <tbody>\n",
       "    <tr>\n",
       "      <th>0</th>\n",
       "      <td>9400</td>\n",
       "      <td>2011.0</td>\n",
       "      <td>bmw x5</td>\n",
       "      <td>good</td>\n",
       "      <td>6.0</td>\n",
       "      <td>gas</td>\n",
       "      <td>145000.0</td>\n",
       "      <td>automatic</td>\n",
       "      <td>SUV</td>\n",
       "      <td>NaN</td>\n",
       "      <td>1.0</td>\n",
       "      <td>2018-06-23</td>\n",
       "      <td>19</td>\n",
       "    </tr>\n",
       "    <tr>\n",
       "      <th>1</th>\n",
       "      <td>25500</td>\n",
       "      <td>NaN</td>\n",
       "      <td>ford f-150</td>\n",
       "      <td>good</td>\n",
       "      <td>6.0</td>\n",
       "      <td>gas</td>\n",
       "      <td>88705.0</td>\n",
       "      <td>automatic</td>\n",
       "      <td>pickup</td>\n",
       "      <td>white</td>\n",
       "      <td>1.0</td>\n",
       "      <td>2018-10-19</td>\n",
       "      <td>50</td>\n",
       "    </tr>\n",
       "    <tr>\n",
       "      <th>2</th>\n",
       "      <td>5500</td>\n",
       "      <td>2013.0</td>\n",
       "      <td>hyundai sonata</td>\n",
       "      <td>like new</td>\n",
       "      <td>4.0</td>\n",
       "      <td>gas</td>\n",
       "      <td>110000.0</td>\n",
       "      <td>automatic</td>\n",
       "      <td>sedan</td>\n",
       "      <td>red</td>\n",
       "      <td>NaN</td>\n",
       "      <td>2019-02-07</td>\n",
       "      <td>79</td>\n",
       "    </tr>\n",
       "    <tr>\n",
       "      <th>3</th>\n",
       "      <td>1500</td>\n",
       "      <td>2003.0</td>\n",
       "      <td>ford f-150</td>\n",
       "      <td>fair</td>\n",
       "      <td>8.0</td>\n",
       "      <td>gas</td>\n",
       "      <td>NaN</td>\n",
       "      <td>automatic</td>\n",
       "      <td>pickup</td>\n",
       "      <td>NaN</td>\n",
       "      <td>NaN</td>\n",
       "      <td>2019-03-22</td>\n",
       "      <td>9</td>\n",
       "    </tr>\n",
       "    <tr>\n",
       "      <th>4</th>\n",
       "      <td>14900</td>\n",
       "      <td>2017.0</td>\n",
       "      <td>chrysler 200</td>\n",
       "      <td>excellent</td>\n",
       "      <td>4.0</td>\n",
       "      <td>gas</td>\n",
       "      <td>80903.0</td>\n",
       "      <td>automatic</td>\n",
       "      <td>sedan</td>\n",
       "      <td>black</td>\n",
       "      <td>NaN</td>\n",
       "      <td>2019-04-02</td>\n",
       "      <td>28</td>\n",
       "    </tr>\n",
       "    <tr>\n",
       "      <th>5</th>\n",
       "      <td>14990</td>\n",
       "      <td>2014.0</td>\n",
       "      <td>chrysler 300</td>\n",
       "      <td>excellent</td>\n",
       "      <td>6.0</td>\n",
       "      <td>gas</td>\n",
       "      <td>57954.0</td>\n",
       "      <td>automatic</td>\n",
       "      <td>sedan</td>\n",
       "      <td>black</td>\n",
       "      <td>1.0</td>\n",
       "      <td>2018-06-20</td>\n",
       "      <td>15</td>\n",
       "    </tr>\n",
       "    <tr>\n",
       "      <th>6</th>\n",
       "      <td>12990</td>\n",
       "      <td>2015.0</td>\n",
       "      <td>toyota camry</td>\n",
       "      <td>excellent</td>\n",
       "      <td>4.0</td>\n",
       "      <td>gas</td>\n",
       "      <td>79212.0</td>\n",
       "      <td>automatic</td>\n",
       "      <td>sedan</td>\n",
       "      <td>white</td>\n",
       "      <td>NaN</td>\n",
       "      <td>2018-12-27</td>\n",
       "      <td>73</td>\n",
       "    </tr>\n",
       "    <tr>\n",
       "      <th>7</th>\n",
       "      <td>15990</td>\n",
       "      <td>2013.0</td>\n",
       "      <td>honda pilot</td>\n",
       "      <td>excellent</td>\n",
       "      <td>6.0</td>\n",
       "      <td>gas</td>\n",
       "      <td>109473.0</td>\n",
       "      <td>automatic</td>\n",
       "      <td>SUV</td>\n",
       "      <td>black</td>\n",
       "      <td>1.0</td>\n",
       "      <td>2019-01-07</td>\n",
       "      <td>68</td>\n",
       "    </tr>\n",
       "    <tr>\n",
       "      <th>8</th>\n",
       "      <td>11500</td>\n",
       "      <td>2012.0</td>\n",
       "      <td>kia sorento</td>\n",
       "      <td>excellent</td>\n",
       "      <td>4.0</td>\n",
       "      <td>gas</td>\n",
       "      <td>104174.0</td>\n",
       "      <td>automatic</td>\n",
       "      <td>SUV</td>\n",
       "      <td>NaN</td>\n",
       "      <td>1.0</td>\n",
       "      <td>2018-07-16</td>\n",
       "      <td>19</td>\n",
       "    </tr>\n",
       "    <tr>\n",
       "      <th>9</th>\n",
       "      <td>9200</td>\n",
       "      <td>2008.0</td>\n",
       "      <td>honda pilot</td>\n",
       "      <td>excellent</td>\n",
       "      <td>NaN</td>\n",
       "      <td>gas</td>\n",
       "      <td>147191.0</td>\n",
       "      <td>automatic</td>\n",
       "      <td>SUV</td>\n",
       "      <td>blue</td>\n",
       "      <td>1.0</td>\n",
       "      <td>2019-02-15</td>\n",
       "      <td>17</td>\n",
       "    </tr>\n",
       "    <tr>\n",
       "      <th>10</th>\n",
       "      <td>19500</td>\n",
       "      <td>2011.0</td>\n",
       "      <td>chevrolet silverado 1500</td>\n",
       "      <td>excellent</td>\n",
       "      <td>8.0</td>\n",
       "      <td>gas</td>\n",
       "      <td>128413.0</td>\n",
       "      <td>automatic</td>\n",
       "      <td>pickup</td>\n",
       "      <td>black</td>\n",
       "      <td>1.0</td>\n",
       "      <td>2018-09-17</td>\n",
       "      <td>38</td>\n",
       "    </tr>\n",
       "    <tr>\n",
       "      <th>11</th>\n",
       "      <td>8990</td>\n",
       "      <td>2012.0</td>\n",
       "      <td>honda accord</td>\n",
       "      <td>excellent</td>\n",
       "      <td>4.0</td>\n",
       "      <td>gas</td>\n",
       "      <td>111142.0</td>\n",
       "      <td>automatic</td>\n",
       "      <td>sedan</td>\n",
       "      <td>grey</td>\n",
       "      <td>NaN</td>\n",
       "      <td>2019-03-28</td>\n",
       "      <td>29</td>\n",
       "    </tr>\n",
       "    <tr>\n",
       "      <th>12</th>\n",
       "      <td>18990</td>\n",
       "      <td>2012.0</td>\n",
       "      <td>ram 1500</td>\n",
       "      <td>excellent</td>\n",
       "      <td>8.0</td>\n",
       "      <td>gas</td>\n",
       "      <td>140742.0</td>\n",
       "      <td>automatic</td>\n",
       "      <td>pickup</td>\n",
       "      <td>NaN</td>\n",
       "      <td>1.0</td>\n",
       "      <td>2019-04-02</td>\n",
       "      <td>37</td>\n",
       "    </tr>\n",
       "    <tr>\n",
       "      <th>13</th>\n",
       "      <td>16500</td>\n",
       "      <td>2018.0</td>\n",
       "      <td>hyundai sonata</td>\n",
       "      <td>excellent</td>\n",
       "      <td>4.0</td>\n",
       "      <td>gas</td>\n",
       "      <td>22104.0</td>\n",
       "      <td>automatic</td>\n",
       "      <td>sedan</td>\n",
       "      <td>silver</td>\n",
       "      <td>NaN</td>\n",
       "      <td>2019-01-14</td>\n",
       "      <td>29</td>\n",
       "    </tr>\n",
       "    <tr>\n",
       "      <th>14</th>\n",
       "      <td>12990</td>\n",
       "      <td>2009.0</td>\n",
       "      <td>gmc yukon</td>\n",
       "      <td>excellent</td>\n",
       "      <td>8.0</td>\n",
       "      <td>gas</td>\n",
       "      <td>132285.0</td>\n",
       "      <td>automatic</td>\n",
       "      <td>SUV</td>\n",
       "      <td>black</td>\n",
       "      <td>1.0</td>\n",
       "      <td>2019-01-31</td>\n",
       "      <td>24</td>\n",
       "    </tr>\n",
       "    <tr>\n",
       "      <th>15</th>\n",
       "      <td>17990</td>\n",
       "      <td>2013.0</td>\n",
       "      <td>ram 1500</td>\n",
       "      <td>excellent</td>\n",
       "      <td>8.0</td>\n",
       "      <td>gas</td>\n",
       "      <td>NaN</td>\n",
       "      <td>automatic</td>\n",
       "      <td>pickup</td>\n",
       "      <td>red</td>\n",
       "      <td>1.0</td>\n",
       "      <td>2018-05-15</td>\n",
       "      <td>111</td>\n",
       "    </tr>\n",
       "    <tr>\n",
       "      <th>16</th>\n",
       "      <td>14990</td>\n",
       "      <td>2010.0</td>\n",
       "      <td>ram 1500</td>\n",
       "      <td>excellent</td>\n",
       "      <td>8.0</td>\n",
       "      <td>gas</td>\n",
       "      <td>130725.0</td>\n",
       "      <td>automatic</td>\n",
       "      <td>pickup</td>\n",
       "      <td>red</td>\n",
       "      <td>1.0</td>\n",
       "      <td>2018-12-30</td>\n",
       "      <td>13</td>\n",
       "    </tr>\n",
       "    <tr>\n",
       "      <th>17</th>\n",
       "      <td>13990</td>\n",
       "      <td>2014.0</td>\n",
       "      <td>jeep cherokee</td>\n",
       "      <td>excellent</td>\n",
       "      <td>6.0</td>\n",
       "      <td>gas</td>\n",
       "      <td>100669.0</td>\n",
       "      <td>automatic</td>\n",
       "      <td>SUV</td>\n",
       "      <td>red</td>\n",
       "      <td>1.0</td>\n",
       "      <td>2018-08-16</td>\n",
       "      <td>25</td>\n",
       "    </tr>\n",
       "    <tr>\n",
       "      <th>18</th>\n",
       "      <td>12500</td>\n",
       "      <td>2013.0</td>\n",
       "      <td>chevrolet traverse</td>\n",
       "      <td>excellent</td>\n",
       "      <td>6.0</td>\n",
       "      <td>gas</td>\n",
       "      <td>128325.0</td>\n",
       "      <td>automatic</td>\n",
       "      <td>SUV</td>\n",
       "      <td>white</td>\n",
       "      <td>1.0</td>\n",
       "      <td>2019-04-09</td>\n",
       "      <td>13</td>\n",
       "    </tr>\n",
       "    <tr>\n",
       "      <th>19</th>\n",
       "      <td>13990</td>\n",
       "      <td>2018.0</td>\n",
       "      <td>hyundai elantra</td>\n",
       "      <td>excellent</td>\n",
       "      <td>4.0</td>\n",
       "      <td>gas</td>\n",
       "      <td>31932.0</td>\n",
       "      <td>automatic</td>\n",
       "      <td>sedan</td>\n",
       "      <td>red</td>\n",
       "      <td>NaN</td>\n",
       "      <td>2018-08-25</td>\n",
       "      <td>27</td>\n",
       "    </tr>\n",
       "  </tbody>\n",
       "</table>\n",
       "</div>"
      ],
      "text/plain": [
       "    price  model_year                     model  condition  cylinders fuel  \\\n",
       "0    9400      2011.0                    bmw x5       good        6.0  gas   \n",
       "1   25500         NaN                ford f-150       good        6.0  gas   \n",
       "2    5500      2013.0            hyundai sonata   like new        4.0  gas   \n",
       "3    1500      2003.0                ford f-150       fair        8.0  gas   \n",
       "4   14900      2017.0              chrysler 200  excellent        4.0  gas   \n",
       "5   14990      2014.0              chrysler 300  excellent        6.0  gas   \n",
       "6   12990      2015.0              toyota camry  excellent        4.0  gas   \n",
       "7   15990      2013.0               honda pilot  excellent        6.0  gas   \n",
       "8   11500      2012.0               kia sorento  excellent        4.0  gas   \n",
       "9    9200      2008.0               honda pilot  excellent        NaN  gas   \n",
       "10  19500      2011.0  chevrolet silverado 1500  excellent        8.0  gas   \n",
       "11   8990      2012.0              honda accord  excellent        4.0  gas   \n",
       "12  18990      2012.0                  ram 1500  excellent        8.0  gas   \n",
       "13  16500      2018.0            hyundai sonata  excellent        4.0  gas   \n",
       "14  12990      2009.0                 gmc yukon  excellent        8.0  gas   \n",
       "15  17990      2013.0                  ram 1500  excellent        8.0  gas   \n",
       "16  14990      2010.0                  ram 1500  excellent        8.0  gas   \n",
       "17  13990      2014.0             jeep cherokee  excellent        6.0  gas   \n",
       "18  12500      2013.0        chevrolet traverse  excellent        6.0  gas   \n",
       "19  13990      2018.0           hyundai elantra  excellent        4.0  gas   \n",
       "\n",
       "    odometer transmission    type paint_color  is_4wd date_posted  days_listed  \n",
       "0   145000.0    automatic     SUV         NaN     1.0  2018-06-23           19  \n",
       "1    88705.0    automatic  pickup       white     1.0  2018-10-19           50  \n",
       "2   110000.0    automatic   sedan         red     NaN  2019-02-07           79  \n",
       "3        NaN    automatic  pickup         NaN     NaN  2019-03-22            9  \n",
       "4    80903.0    automatic   sedan       black     NaN  2019-04-02           28  \n",
       "5    57954.0    automatic   sedan       black     1.0  2018-06-20           15  \n",
       "6    79212.0    automatic   sedan       white     NaN  2018-12-27           73  \n",
       "7   109473.0    automatic     SUV       black     1.0  2019-01-07           68  \n",
       "8   104174.0    automatic     SUV         NaN     1.0  2018-07-16           19  \n",
       "9   147191.0    automatic     SUV        blue     1.0  2019-02-15           17  \n",
       "10  128413.0    automatic  pickup       black     1.0  2018-09-17           38  \n",
       "11  111142.0    automatic   sedan        grey     NaN  2019-03-28           29  \n",
       "12  140742.0    automatic  pickup         NaN     1.0  2019-04-02           37  \n",
       "13   22104.0    automatic   sedan      silver     NaN  2019-01-14           29  \n",
       "14  132285.0    automatic     SUV       black     1.0  2019-01-31           24  \n",
       "15       NaN    automatic  pickup         red     1.0  2018-05-15          111  \n",
       "16  130725.0    automatic  pickup         red     1.0  2018-12-30           13  \n",
       "17  100669.0    automatic     SUV         red     1.0  2018-08-16           25  \n",
       "18  128325.0    automatic     SUV       white     1.0  2019-04-09           13  \n",
       "19   31932.0    automatic   sedan         red     NaN  2018-08-25           27  "
      ]
     },
     "execution_count": 2,
     "metadata": {},
     "output_type": "execute_result"
    }
   ],
   "source": [
    "# Load the data file into a DataFrame \n",
    "car_data_gen = pd.read_csv('/datasets/vehicles_us.csv')\n",
    "#check that the dta was loaded properly\n",
    "car_data_gen.head(20)"
   ]
  },
  {
   "cell_type": "markdown",
   "metadata": {},
   "source": [
    "### Explore initial data"
   ]
  },
  {
   "cell_type": "markdown",
   "metadata": {},
   "source": [
    "The dataset contains the following fields:\n",
    "- `price`- The price of a car in the advertisment\n",
    "- `model_year` - The car year model\n",
    "- `model` - The model of the car\n",
    "- `condition` - The conditin of the car (these are second hand cars)\n",
    "- `cylinders` - The  car engine nomber of cylinders\n",
    "- `fuel` — On wht fuel the car runs on (e.g: gas, diesel, etc.)\n",
    "- `odometer` — The vehicle's mileage when the ad was published\n",
    "- `transmission`- The car transmition box(e.g : automatic , manual , etc.)\n",
    "- `paint_color` - The color of the car.\n",
    "- `is_4wd` — Whether the vehicle has 4-wheel drive (Boolean type)\n",
    "- `date_posted` — the date the ad was published\n",
    "- `days_listed` — from publication to removal\n"
   ]
  },
  {
   "cell_type": "code",
   "execution_count": 3,
   "metadata": {},
   "outputs": [
    {
     "name": "stdout",
     "output_type": "stream",
     "text": [
      "(51525, 13)\n",
      "\n",
      "<class 'pandas.core.frame.DataFrame'>\n",
      "RangeIndex: 51525 entries, 0 to 51524\n",
      "Data columns (total 13 columns):\n",
      " #   Column        Non-Null Count  Dtype  \n",
      "---  ------        --------------  -----  \n",
      " 0   price         51525 non-null  int64  \n",
      " 1   model_year    47906 non-null  float64\n",
      " 2   model         51525 non-null  object \n",
      " 3   condition     51525 non-null  object \n",
      " 4   cylinders     46265 non-null  float64\n",
      " 5   fuel          51525 non-null  object \n",
      " 6   odometer      43633 non-null  float64\n",
      " 7   transmission  51525 non-null  object \n",
      " 8   type          51525 non-null  object \n",
      " 9   paint_color   42258 non-null  object \n",
      " 10  is_4wd        25572 non-null  float64\n",
      " 11  date_posted   51525 non-null  object \n",
      " 12  days_listed   51525 non-null  int64  \n",
      "dtypes: float64(4), int64(2), object(7)\n",
      "memory usage: 5.1+ MB\n"
     ]
    }
   ],
   "source": [
    "# print the general/summary information about the DataFrame\n",
    "#print data no. of rows and columns\n",
    "print(car_data_gen.shape)\n",
    "print()\n",
    "#print the columns general data and look for abnormalities\n",
    "car_data_gen.info()\n"
   ]
  },
  {
   "cell_type": "code",
   "execution_count": 4,
   "metadata": {},
   "outputs": [
    {
     "data": {
      "text/html": [
       "<div>\n",
       "<style scoped>\n",
       "    .dataframe tbody tr th:only-of-type {\n",
       "        vertical-align: middle;\n",
       "    }\n",
       "\n",
       "    .dataframe tbody tr th {\n",
       "        vertical-align: top;\n",
       "    }\n",
       "\n",
       "    .dataframe thead th {\n",
       "        text-align: right;\n",
       "    }\n",
       "</style>\n",
       "<table border=\"1\" class=\"dataframe\">\n",
       "  <thead>\n",
       "    <tr style=\"text-align: right;\">\n",
       "      <th></th>\n",
       "      <th>price</th>\n",
       "      <th>model_year</th>\n",
       "      <th>model</th>\n",
       "      <th>condition</th>\n",
       "      <th>cylinders</th>\n",
       "      <th>fuel</th>\n",
       "      <th>odometer</th>\n",
       "      <th>transmission</th>\n",
       "      <th>type</th>\n",
       "      <th>paint_color</th>\n",
       "      <th>is_4wd</th>\n",
       "      <th>date_posted</th>\n",
       "      <th>days_listed</th>\n",
       "    </tr>\n",
       "  </thead>\n",
       "  <tbody>\n",
       "    <tr>\n",
       "      <th>36800</th>\n",
       "      <td>2499</td>\n",
       "      <td>2007.0</td>\n",
       "      <td>ford focus</td>\n",
       "      <td>good</td>\n",
       "      <td>4.0</td>\n",
       "      <td>gas</td>\n",
       "      <td>156853.0</td>\n",
       "      <td>automatic</td>\n",
       "      <td>sedan</td>\n",
       "      <td>purple</td>\n",
       "      <td>NaN</td>\n",
       "      <td>2019-02-10</td>\n",
       "      <td>27</td>\n",
       "    </tr>\n",
       "    <tr>\n",
       "      <th>38027</th>\n",
       "      <td>30995</td>\n",
       "      <td>2012.0</td>\n",
       "      <td>ram 2500</td>\n",
       "      <td>excellent</td>\n",
       "      <td>6.0</td>\n",
       "      <td>diesel</td>\n",
       "      <td>58584.0</td>\n",
       "      <td>automatic</td>\n",
       "      <td>truck</td>\n",
       "      <td>silver</td>\n",
       "      <td>1.0</td>\n",
       "      <td>2019-02-06</td>\n",
       "      <td>32</td>\n",
       "    </tr>\n",
       "    <tr>\n",
       "      <th>22294</th>\n",
       "      <td>8900</td>\n",
       "      <td>2011.0</td>\n",
       "      <td>honda cr-v</td>\n",
       "      <td>excellent</td>\n",
       "      <td>4.0</td>\n",
       "      <td>gas</td>\n",
       "      <td>123200.0</td>\n",
       "      <td>automatic</td>\n",
       "      <td>SUV</td>\n",
       "      <td>blue</td>\n",
       "      <td>1.0</td>\n",
       "      <td>2018-12-17</td>\n",
       "      <td>18</td>\n",
       "    </tr>\n",
       "    <tr>\n",
       "      <th>20596</th>\n",
       "      <td>13690</td>\n",
       "      <td>2011.0</td>\n",
       "      <td>gmc sierra 1500</td>\n",
       "      <td>excellent</td>\n",
       "      <td>8.0</td>\n",
       "      <td>gas</td>\n",
       "      <td>NaN</td>\n",
       "      <td>automatic</td>\n",
       "      <td>pickup</td>\n",
       "      <td>white</td>\n",
       "      <td>1.0</td>\n",
       "      <td>2019-01-09</td>\n",
       "      <td>99</td>\n",
       "    </tr>\n",
       "    <tr>\n",
       "      <th>21467</th>\n",
       "      <td>6800</td>\n",
       "      <td>2007.0</td>\n",
       "      <td>toyota tundra</td>\n",
       "      <td>good</td>\n",
       "      <td>8.0</td>\n",
       "      <td>gas</td>\n",
       "      <td>218000.0</td>\n",
       "      <td>automatic</td>\n",
       "      <td>truck</td>\n",
       "      <td>red</td>\n",
       "      <td>NaN</td>\n",
       "      <td>2018-10-13</td>\n",
       "      <td>29</td>\n",
       "    </tr>\n",
       "    <tr>\n",
       "      <th>38240</th>\n",
       "      <td>5000</td>\n",
       "      <td>NaN</td>\n",
       "      <td>ram 2500</td>\n",
       "      <td>good</td>\n",
       "      <td>6.0</td>\n",
       "      <td>diesel</td>\n",
       "      <td>339000.0</td>\n",
       "      <td>manual</td>\n",
       "      <td>pickup</td>\n",
       "      <td>white</td>\n",
       "      <td>NaN</td>\n",
       "      <td>2019-01-07</td>\n",
       "      <td>69</td>\n",
       "    </tr>\n",
       "    <tr>\n",
       "      <th>6756</th>\n",
       "      <td>7300</td>\n",
       "      <td>2008.0</td>\n",
       "      <td>ford ranger</td>\n",
       "      <td>excellent</td>\n",
       "      <td>6.0</td>\n",
       "      <td>gas</td>\n",
       "      <td>92000.0</td>\n",
       "      <td>automatic</td>\n",
       "      <td>pickup</td>\n",
       "      <td>black</td>\n",
       "      <td>1.0</td>\n",
       "      <td>2018-11-14</td>\n",
       "      <td>8</td>\n",
       "    </tr>\n",
       "    <tr>\n",
       "      <th>4932</th>\n",
       "      <td>22900</td>\n",
       "      <td>2015.0</td>\n",
       "      <td>ford f-150</td>\n",
       "      <td>like new</td>\n",
       "      <td>NaN</td>\n",
       "      <td>gas</td>\n",
       "      <td>101729.0</td>\n",
       "      <td>automatic</td>\n",
       "      <td>truck</td>\n",
       "      <td>silver</td>\n",
       "      <td>1.0</td>\n",
       "      <td>2018-06-07</td>\n",
       "      <td>35</td>\n",
       "    </tr>\n",
       "    <tr>\n",
       "      <th>50732</th>\n",
       "      <td>16998</td>\n",
       "      <td>2011.0</td>\n",
       "      <td>chevrolet silverado 1500</td>\n",
       "      <td>excellent</td>\n",
       "      <td>8.0</td>\n",
       "      <td>gas</td>\n",
       "      <td>93000.0</td>\n",
       "      <td>automatic</td>\n",
       "      <td>truck</td>\n",
       "      <td>white</td>\n",
       "      <td>1.0</td>\n",
       "      <td>2019-04-10</td>\n",
       "      <td>12</td>\n",
       "    </tr>\n",
       "    <tr>\n",
       "      <th>32400</th>\n",
       "      <td>15499</td>\n",
       "      <td>2016.0</td>\n",
       "      <td>buick enclave</td>\n",
       "      <td>like new</td>\n",
       "      <td>6.0</td>\n",
       "      <td>gas</td>\n",
       "      <td>52000.0</td>\n",
       "      <td>automatic</td>\n",
       "      <td>truck</td>\n",
       "      <td>NaN</td>\n",
       "      <td>1.0</td>\n",
       "      <td>2018-11-12</td>\n",
       "      <td>56</td>\n",
       "    </tr>\n",
       "    <tr>\n",
       "      <th>3983</th>\n",
       "      <td>14899</td>\n",
       "      <td>2012.0</td>\n",
       "      <td>gmc sierra 1500</td>\n",
       "      <td>excellent</td>\n",
       "      <td>NaN</td>\n",
       "      <td>gas</td>\n",
       "      <td>102577.0</td>\n",
       "      <td>automatic</td>\n",
       "      <td>truck</td>\n",
       "      <td>black</td>\n",
       "      <td>NaN</td>\n",
       "      <td>2018-05-03</td>\n",
       "      <td>77</td>\n",
       "    </tr>\n",
       "    <tr>\n",
       "      <th>7597</th>\n",
       "      <td>17900</td>\n",
       "      <td>2013.0</td>\n",
       "      <td>ford f150</td>\n",
       "      <td>like new</td>\n",
       "      <td>8.0</td>\n",
       "      <td>gas</td>\n",
       "      <td>42244.0</td>\n",
       "      <td>automatic</td>\n",
       "      <td>pickup</td>\n",
       "      <td>brown</td>\n",
       "      <td>NaN</td>\n",
       "      <td>2018-10-16</td>\n",
       "      <td>26</td>\n",
       "    </tr>\n",
       "    <tr>\n",
       "      <th>20098</th>\n",
       "      <td>11995</td>\n",
       "      <td>2008.0</td>\n",
       "      <td>jeep wrangler</td>\n",
       "      <td>good</td>\n",
       "      <td>8.0</td>\n",
       "      <td>gas</td>\n",
       "      <td>102100.0</td>\n",
       "      <td>automatic</td>\n",
       "      <td>SUV</td>\n",
       "      <td>red</td>\n",
       "      <td>1.0</td>\n",
       "      <td>2018-10-31</td>\n",
       "      <td>26</td>\n",
       "    </tr>\n",
       "    <tr>\n",
       "      <th>22993</th>\n",
       "      <td>4795</td>\n",
       "      <td>2012.0</td>\n",
       "      <td>nissan versa</td>\n",
       "      <td>excellent</td>\n",
       "      <td>4.0</td>\n",
       "      <td>gas</td>\n",
       "      <td>86028.0</td>\n",
       "      <td>automatic</td>\n",
       "      <td>hatchback</td>\n",
       "      <td>NaN</td>\n",
       "      <td>NaN</td>\n",
       "      <td>2018-07-10</td>\n",
       "      <td>55</td>\n",
       "    </tr>\n",
       "    <tr>\n",
       "      <th>41620</th>\n",
       "      <td>6699</td>\n",
       "      <td>2012.0</td>\n",
       "      <td>honda accord</td>\n",
       "      <td>like new</td>\n",
       "      <td>4.0</td>\n",
       "      <td>gas</td>\n",
       "      <td>NaN</td>\n",
       "      <td>automatic</td>\n",
       "      <td>sedan</td>\n",
       "      <td>grey</td>\n",
       "      <td>NaN</td>\n",
       "      <td>2018-10-08</td>\n",
       "      <td>20</td>\n",
       "    </tr>\n",
       "    <tr>\n",
       "      <th>33567</th>\n",
       "      <td>10695</td>\n",
       "      <td>NaN</td>\n",
       "      <td>chrysler 200</td>\n",
       "      <td>like new</td>\n",
       "      <td>4.0</td>\n",
       "      <td>gas</td>\n",
       "      <td>78026.0</td>\n",
       "      <td>automatic</td>\n",
       "      <td>sedan</td>\n",
       "      <td>grey</td>\n",
       "      <td>NaN</td>\n",
       "      <td>2018-05-08</td>\n",
       "      <td>134</td>\n",
       "    </tr>\n",
       "    <tr>\n",
       "      <th>19515</th>\n",
       "      <td>12500</td>\n",
       "      <td>2015.0</td>\n",
       "      <td>nissan frontier</td>\n",
       "      <td>good</td>\n",
       "      <td>NaN</td>\n",
       "      <td>gas</td>\n",
       "      <td>158000.0</td>\n",
       "      <td>automatic</td>\n",
       "      <td>truck</td>\n",
       "      <td>white</td>\n",
       "      <td>1.0</td>\n",
       "      <td>2019-03-18</td>\n",
       "      <td>26</td>\n",
       "    </tr>\n",
       "    <tr>\n",
       "      <th>20348</th>\n",
       "      <td>2500</td>\n",
       "      <td>2008.0</td>\n",
       "      <td>chevrolet trailblazer</td>\n",
       "      <td>good</td>\n",
       "      <td>6.0</td>\n",
       "      <td>gas</td>\n",
       "      <td>215000.0</td>\n",
       "      <td>automatic</td>\n",
       "      <td>SUV</td>\n",
       "      <td>NaN</td>\n",
       "      <td>1.0</td>\n",
       "      <td>2019-02-22</td>\n",
       "      <td>64</td>\n",
       "    </tr>\n",
       "    <tr>\n",
       "      <th>31492</th>\n",
       "      <td>5995</td>\n",
       "      <td>2008.0</td>\n",
       "      <td>ford escape</td>\n",
       "      <td>excellent</td>\n",
       "      <td>6.0</td>\n",
       "      <td>gas</td>\n",
       "      <td>101170.0</td>\n",
       "      <td>automatic</td>\n",
       "      <td>wagon</td>\n",
       "      <td>silver</td>\n",
       "      <td>1.0</td>\n",
       "      <td>2018-06-23</td>\n",
       "      <td>28</td>\n",
       "    </tr>\n",
       "    <tr>\n",
       "      <th>15360</th>\n",
       "      <td>4295</td>\n",
       "      <td>2006.0</td>\n",
       "      <td>acura tl</td>\n",
       "      <td>good</td>\n",
       "      <td>NaN</td>\n",
       "      <td>gas</td>\n",
       "      <td>NaN</td>\n",
       "      <td>automatic</td>\n",
       "      <td>sedan</td>\n",
       "      <td>silver</td>\n",
       "      <td>NaN</td>\n",
       "      <td>2018-08-03</td>\n",
       "      <td>75</td>\n",
       "    </tr>\n",
       "  </tbody>\n",
       "</table>\n",
       "</div>"
      ],
      "text/plain": [
       "       price  model_year                     model  condition  cylinders  \\\n",
       "36800   2499      2007.0                ford focus       good        4.0   \n",
       "38027  30995      2012.0                  ram 2500  excellent        6.0   \n",
       "22294   8900      2011.0                honda cr-v  excellent        4.0   \n",
       "20596  13690      2011.0           gmc sierra 1500  excellent        8.0   \n",
       "21467   6800      2007.0             toyota tundra       good        8.0   \n",
       "38240   5000         NaN                  ram 2500       good        6.0   \n",
       "6756    7300      2008.0               ford ranger  excellent        6.0   \n",
       "4932   22900      2015.0                ford f-150   like new        NaN   \n",
       "50732  16998      2011.0  chevrolet silverado 1500  excellent        8.0   \n",
       "32400  15499      2016.0             buick enclave   like new        6.0   \n",
       "3983   14899      2012.0           gmc sierra 1500  excellent        NaN   \n",
       "7597   17900      2013.0                 ford f150   like new        8.0   \n",
       "20098  11995      2008.0             jeep wrangler       good        8.0   \n",
       "22993   4795      2012.0              nissan versa  excellent        4.0   \n",
       "41620   6699      2012.0              honda accord   like new        4.0   \n",
       "33567  10695         NaN              chrysler 200   like new        4.0   \n",
       "19515  12500      2015.0           nissan frontier       good        NaN   \n",
       "20348   2500      2008.0     chevrolet trailblazer       good        6.0   \n",
       "31492   5995      2008.0               ford escape  excellent        6.0   \n",
       "15360   4295      2006.0                  acura tl       good        NaN   \n",
       "\n",
       "         fuel  odometer transmission       type paint_color  is_4wd  \\\n",
       "36800     gas  156853.0    automatic      sedan      purple     NaN   \n",
       "38027  diesel   58584.0    automatic      truck      silver     1.0   \n",
       "22294     gas  123200.0    automatic        SUV        blue     1.0   \n",
       "20596     gas       NaN    automatic     pickup       white     1.0   \n",
       "21467     gas  218000.0    automatic      truck         red     NaN   \n",
       "38240  diesel  339000.0       manual     pickup       white     NaN   \n",
       "6756      gas   92000.0    automatic     pickup       black     1.0   \n",
       "4932      gas  101729.0    automatic      truck      silver     1.0   \n",
       "50732     gas   93000.0    automatic      truck       white     1.0   \n",
       "32400     gas   52000.0    automatic      truck         NaN     1.0   \n",
       "3983      gas  102577.0    automatic      truck       black     NaN   \n",
       "7597      gas   42244.0    automatic     pickup       brown     NaN   \n",
       "20098     gas  102100.0    automatic        SUV         red     1.0   \n",
       "22993     gas   86028.0    automatic  hatchback         NaN     NaN   \n",
       "41620     gas       NaN    automatic      sedan        grey     NaN   \n",
       "33567     gas   78026.0    automatic      sedan        grey     NaN   \n",
       "19515     gas  158000.0    automatic      truck       white     1.0   \n",
       "20348     gas  215000.0    automatic        SUV         NaN     1.0   \n",
       "31492     gas  101170.0    automatic      wagon      silver     1.0   \n",
       "15360     gas       NaN    automatic      sedan      silver     NaN   \n",
       "\n",
       "      date_posted  days_listed  \n",
       "36800  2019-02-10           27  \n",
       "38027  2019-02-06           32  \n",
       "22294  2018-12-17           18  \n",
       "20596  2019-01-09           99  \n",
       "21467  2018-10-13           29  \n",
       "38240  2019-01-07           69  \n",
       "6756   2018-11-14            8  \n",
       "4932   2018-06-07           35  \n",
       "50732  2019-04-10           12  \n",
       "32400  2018-11-12           56  \n",
       "3983   2018-05-03           77  \n",
       "7597   2018-10-16           26  \n",
       "20098  2018-10-31           26  \n",
       "22993  2018-07-10           55  \n",
       "41620  2018-10-08           20  \n",
       "33567  2018-05-08          134  \n",
       "19515  2019-03-18           26  \n",
       "20348  2019-02-22           64  \n",
       "31492  2018-06-23           28  \n",
       "15360  2018-08-03           75  "
      ]
     },
     "execution_count": 4,
     "metadata": {},
     "output_type": "execute_result"
    }
   ],
   "source": [
    "# print a sample of data\n",
    "\n",
    "car_data_gen.sample(20)"
   ]
  },
  {
   "cell_type": "markdown",
   "metadata": {},
   "source": [
    "**Here are a few insights looking at a glance at the data:**\n",
    "\n",
    "1 - There are missing data in the following columns: model_year , cylinders, odometer , paint_color ,is_4wd , the most number of missing values is in the 'is_4wd' column , probably because that there are not much 4WD cars.\n",
    "\n",
    "2 - Some type of data in columns is not as it should be (i.e object type instead of date_time or int or float etc.)\n",
    "\n",
    "3 - column names that are not so coherent , like odometers.\n"
   ]
  },
  {
   "cell_type": "code",
   "execution_count": 5,
   "metadata": {},
   "outputs": [
    {
     "data": {
      "text/plain": [
       "Index(['price', 'model_year', 'model', 'condition', 'cylinders', 'fuel',\n",
       "       'odometer', 'transmission', 'type', 'paint_color', 'is_4wd',\n",
       "       'date_posted', 'days_listed'],\n",
       "      dtype='object')"
      ]
     },
     "execution_count": 5,
     "metadata": {},
     "output_type": "execute_result"
    }
   ],
   "source": [
    "#checking the names of the columns, to look for hidden gaps or misspeled names etc.\n",
    "car_data_gen.columns"
   ]
  },
  {
   "cell_type": "markdown",
   "metadata": {},
   "source": [
    "The column names look ok , but still the name 'odometer' can be changed for more understandable name.\n",
    "\n",
    "[Are there columns with inappropriate data types?]"
   ]
  },
  {
   "cell_type": "markdown",
   "metadata": {},
   "source": [
    "### Conclusions and further steps\n",
    "\n",
    "The dataset has some issue that  we will need to address:\n",
    "\n",
    "1 - A lot of missing values and decide if we will fill them or not.\n",
    "\n",
    "2 - categotize the paint_color column with pain_category\n",
    "\n",
    "2 - Transfor a name of a column or two.\n",
    "\n",
    "We will need to check the data and prepare(\"clean the data\" )it for categorization, before wqe can use it, in our investigation.\n"
   ]
  },
  {
   "cell_type": "markdown",
   "metadata": {},
   "source": [
    "## Treat missing values (if any)"
   ]
  },
  {
   "cell_type": "markdown",
   "metadata": {},
   "source": [
    "I could see in the data sample some missing values. I  need to see theire category and and theire share in the dataset in order to know my next steps.As how to approche each one.\n",
    "Since there are missing values in diffrent categories I want to  see the way they are spread in the dataset.So for that  will extract them to a new data set that wil contain all the raws with the missing values.\n"
   ]
  },
  {
   "cell_type": "code",
   "execution_count": 6,
   "metadata": {},
   "outputs": [
    {
     "data": {
      "text/html": [
       "<div>\n",
       "<style scoped>\n",
       "    .dataframe tbody tr th:only-of-type {\n",
       "        vertical-align: middle;\n",
       "    }\n",
       "\n",
       "    .dataframe tbody tr th {\n",
       "        vertical-align: top;\n",
       "    }\n",
       "\n",
       "    .dataframe thead th {\n",
       "        text-align: right;\n",
       "    }\n",
       "</style>\n",
       "<table border=\"1\" class=\"dataframe\">\n",
       "  <thead>\n",
       "    <tr style=\"text-align: right;\">\n",
       "      <th></th>\n",
       "      <th>price</th>\n",
       "      <th>model_year</th>\n",
       "      <th>model</th>\n",
       "      <th>condition</th>\n",
       "      <th>cylinders</th>\n",
       "      <th>fuel</th>\n",
       "      <th>odometer</th>\n",
       "      <th>transmission</th>\n",
       "      <th>type</th>\n",
       "      <th>paint_color</th>\n",
       "      <th>is_4wd</th>\n",
       "      <th>date_posted</th>\n",
       "      <th>days_listed</th>\n",
       "    </tr>\n",
       "  </thead>\n",
       "  <tbody>\n",
       "    <tr>\n",
       "      <th>0</th>\n",
       "      <td>9400</td>\n",
       "      <td>2011.0</td>\n",
       "      <td>bmw x5</td>\n",
       "      <td>good</td>\n",
       "      <td>6.0</td>\n",
       "      <td>gas</td>\n",
       "      <td>145000.0</td>\n",
       "      <td>automatic</td>\n",
       "      <td>SUV</td>\n",
       "      <td>NaN</td>\n",
       "      <td>1.0</td>\n",
       "      <td>2018-06-23</td>\n",
       "      <td>19</td>\n",
       "    </tr>\n",
       "    <tr>\n",
       "      <th>1</th>\n",
       "      <td>25500</td>\n",
       "      <td>NaN</td>\n",
       "      <td>ford f-150</td>\n",
       "      <td>good</td>\n",
       "      <td>6.0</td>\n",
       "      <td>gas</td>\n",
       "      <td>88705.0</td>\n",
       "      <td>automatic</td>\n",
       "      <td>pickup</td>\n",
       "      <td>white</td>\n",
       "      <td>1.0</td>\n",
       "      <td>2018-10-19</td>\n",
       "      <td>50</td>\n",
       "    </tr>\n",
       "    <tr>\n",
       "      <th>2</th>\n",
       "      <td>5500</td>\n",
       "      <td>2013.0</td>\n",
       "      <td>hyundai sonata</td>\n",
       "      <td>like new</td>\n",
       "      <td>4.0</td>\n",
       "      <td>gas</td>\n",
       "      <td>110000.0</td>\n",
       "      <td>automatic</td>\n",
       "      <td>sedan</td>\n",
       "      <td>red</td>\n",
       "      <td>NaN</td>\n",
       "      <td>2019-02-07</td>\n",
       "      <td>79</td>\n",
       "    </tr>\n",
       "    <tr>\n",
       "      <th>3</th>\n",
       "      <td>1500</td>\n",
       "      <td>2003.0</td>\n",
       "      <td>ford f-150</td>\n",
       "      <td>fair</td>\n",
       "      <td>8.0</td>\n",
       "      <td>gas</td>\n",
       "      <td>NaN</td>\n",
       "      <td>automatic</td>\n",
       "      <td>pickup</td>\n",
       "      <td>NaN</td>\n",
       "      <td>NaN</td>\n",
       "      <td>2019-03-22</td>\n",
       "      <td>9</td>\n",
       "    </tr>\n",
       "    <tr>\n",
       "      <th>4</th>\n",
       "      <td>14900</td>\n",
       "      <td>2017.0</td>\n",
       "      <td>chrysler 200</td>\n",
       "      <td>excellent</td>\n",
       "      <td>4.0</td>\n",
       "      <td>gas</td>\n",
       "      <td>80903.0</td>\n",
       "      <td>automatic</td>\n",
       "      <td>sedan</td>\n",
       "      <td>black</td>\n",
       "      <td>NaN</td>\n",
       "      <td>2019-04-02</td>\n",
       "      <td>28</td>\n",
       "    </tr>\n",
       "    <tr>\n",
       "      <th>5</th>\n",
       "      <td>12990</td>\n",
       "      <td>2015.0</td>\n",
       "      <td>toyota camry</td>\n",
       "      <td>excellent</td>\n",
       "      <td>4.0</td>\n",
       "      <td>gas</td>\n",
       "      <td>79212.0</td>\n",
       "      <td>automatic</td>\n",
       "      <td>sedan</td>\n",
       "      <td>white</td>\n",
       "      <td>NaN</td>\n",
       "      <td>2018-12-27</td>\n",
       "      <td>73</td>\n",
       "    </tr>\n",
       "    <tr>\n",
       "      <th>6</th>\n",
       "      <td>11500</td>\n",
       "      <td>2012.0</td>\n",
       "      <td>kia sorento</td>\n",
       "      <td>excellent</td>\n",
       "      <td>4.0</td>\n",
       "      <td>gas</td>\n",
       "      <td>104174.0</td>\n",
       "      <td>automatic</td>\n",
       "      <td>SUV</td>\n",
       "      <td>NaN</td>\n",
       "      <td>1.0</td>\n",
       "      <td>2018-07-16</td>\n",
       "      <td>19</td>\n",
       "    </tr>\n",
       "    <tr>\n",
       "      <th>7</th>\n",
       "      <td>9200</td>\n",
       "      <td>2008.0</td>\n",
       "      <td>honda pilot</td>\n",
       "      <td>excellent</td>\n",
       "      <td>NaN</td>\n",
       "      <td>gas</td>\n",
       "      <td>147191.0</td>\n",
       "      <td>automatic</td>\n",
       "      <td>SUV</td>\n",
       "      <td>blue</td>\n",
       "      <td>1.0</td>\n",
       "      <td>2019-02-15</td>\n",
       "      <td>17</td>\n",
       "    </tr>\n",
       "    <tr>\n",
       "      <th>8</th>\n",
       "      <td>8990</td>\n",
       "      <td>2012.0</td>\n",
       "      <td>honda accord</td>\n",
       "      <td>excellent</td>\n",
       "      <td>4.0</td>\n",
       "      <td>gas</td>\n",
       "      <td>111142.0</td>\n",
       "      <td>automatic</td>\n",
       "      <td>sedan</td>\n",
       "      <td>grey</td>\n",
       "      <td>NaN</td>\n",
       "      <td>2019-03-28</td>\n",
       "      <td>29</td>\n",
       "    </tr>\n",
       "    <tr>\n",
       "      <th>9</th>\n",
       "      <td>18990</td>\n",
       "      <td>2012.0</td>\n",
       "      <td>ram 1500</td>\n",
       "      <td>excellent</td>\n",
       "      <td>8.0</td>\n",
       "      <td>gas</td>\n",
       "      <td>140742.0</td>\n",
       "      <td>automatic</td>\n",
       "      <td>pickup</td>\n",
       "      <td>NaN</td>\n",
       "      <td>1.0</td>\n",
       "      <td>2019-04-02</td>\n",
       "      <td>37</td>\n",
       "    </tr>\n",
       "  </tbody>\n",
       "</table>\n",
       "</div>"
      ],
      "text/plain": [
       "   price  model_year           model  condition  cylinders fuel  odometer  \\\n",
       "0   9400      2011.0          bmw x5       good        6.0  gas  145000.0   \n",
       "1  25500         NaN      ford f-150       good        6.0  gas   88705.0   \n",
       "2   5500      2013.0  hyundai sonata   like new        4.0  gas  110000.0   \n",
       "3   1500      2003.0      ford f-150       fair        8.0  gas       NaN   \n",
       "4  14900      2017.0    chrysler 200  excellent        4.0  gas   80903.0   \n",
       "5  12990      2015.0    toyota camry  excellent        4.0  gas   79212.0   \n",
       "6  11500      2012.0     kia sorento  excellent        4.0  gas  104174.0   \n",
       "7   9200      2008.0     honda pilot  excellent        NaN  gas  147191.0   \n",
       "8   8990      2012.0    honda accord  excellent        4.0  gas  111142.0   \n",
       "9  18990      2012.0        ram 1500  excellent        8.0  gas  140742.0   \n",
       "\n",
       "  transmission    type paint_color  is_4wd date_posted  days_listed  \n",
       "0    automatic     SUV         NaN     1.0  2018-06-23           19  \n",
       "1    automatic  pickup       white     1.0  2018-10-19           50  \n",
       "2    automatic   sedan         red     NaN  2019-02-07           79  \n",
       "3    automatic  pickup         NaN     NaN  2019-03-22            9  \n",
       "4    automatic   sedan       black     NaN  2019-04-02           28  \n",
       "5    automatic   sedan       white     NaN  2018-12-27           73  \n",
       "6    automatic     SUV         NaN     1.0  2018-07-16           19  \n",
       "7    automatic     SUV        blue     1.0  2019-02-15           17  \n",
       "8    automatic   sedan        grey     NaN  2019-03-28           29  \n",
       "9    automatic  pickup         NaN     1.0  2019-04-02           37  "
      ]
     },
     "execution_count": 6,
     "metadata": {},
     "output_type": "execute_result"
    }
   ],
   "source": [
    "#Using .isna methos to extract the missing values share,to a new database\n",
    "car_data_gen_missing_vals = car_data_gen[car_data_gen.isna().any(axis = 1)].reset_index(0,drop=True)\n",
    "\n",
    "#print the firs 10 rows of the new dataset\n",
    "car_data_gen_missing_vals.head(10)"
   ]
  },
  {
   "cell_type": "code",
   "execution_count": 7,
   "metadata": {},
   "outputs": [
    {
     "data": {
      "text/plain": [
       "36673"
      ]
     },
     "execution_count": 7,
     "metadata": {},
     "output_type": "execute_result"
    }
   ],
   "source": [
    "#print the number of records it contains\n",
    "len(car_data_gen_missing_vals)"
   ]
  },
  {
   "cell_type": "markdown",
   "metadata": {},
   "source": [
    "***The Missing values are spread and are not symetrical there for we will have to fill in the missing data with valid information*** "
   ]
  },
  {
   "cell_type": "markdown",
   "metadata": {},
   "source": [
    "**To see what values we have where data is missing, we will check each column that has missing values , the list of uniqe values it has.The columns we will explore are :model_year , cylinders , odometer , paint_color, is_4wd**"
   ]
  },
  {
   "cell_type": "code",
   "execution_count": 8,
   "metadata": {},
   "outputs": [
    {
     "name": "stdout",
     "output_type": "stream",
     "text": [
      "unique values for model_year column: \n",
      "\n",
      "[1908. 1929. 1936. 1948. 1949. 1954. 1955. 1958. 1960. 1961. 1962. 1963.\n",
      " 1964. 1965. 1966. 1967. 1968. 1969. 1970. 1971. 1972. 1973. 1974. 1975.\n",
      " 1976. 1977. 1978. 1979. 1980. 1981. 1982. 1983. 1984. 1985. 1986. 1987.\n",
      " 1988. 1989. 1990. 1991. 1992. 1993. 1994. 1995. 1996. 1997. 1998. 1999.\n",
      " 2000. 2001. 2002. 2003. 2004. 2005. 2006. 2007. 2008. 2009. 2010. 2011.\n",
      " 2012. 2013. 2014. 2015. 2016. 2017. 2018. 2019.   nan]\n",
      "\n",
      "unique values for cylinders column: \n",
      "\n",
      "[ 3.  4.  5.  6.  8. 10. 12. nan]\n",
      "\n",
      "unique values for odometer column: \n",
      "\n",
      "[0.0e+00 1.0e+00 2.0e+00 ... 9.8e+05 9.9e+05     nan]\n",
      "\n",
      "unique values for paint_color column: \n",
      "\n",
      "['black' 'blue' 'brown' 'custom' 'green' 'grey' 'orange' 'purple' 'red'\n",
      " 'silver' 'white' 'yellow' nan]\n",
      "\n",
      "unique values for is_4wd column: \n",
      "\n",
      "[ 1. nan]\n",
      "\n"
     ]
    }
   ],
   "source": [
    "#list of the columns we want to check he unique values\n",
    "chk_lst = ['model_year' , 'cylinders' , 'odometer' , 'paint_color', 'is_4wd']\n",
    "\n",
    "#loop to print each column unique values\n",
    "for col in chk_lst:\n",
    "    print('unique values for {} column: \\n'.format(col))\n",
    "    print(car_data_gen[col].sort_values().unique())\n",
    "    print()"
   ]
  },
  {
   "cell_type": "markdown",
   "metadata": {},
   "source": [
    "*Checking all other columns unique values just to make sure there are no issue to address there"
   ]
  },
  {
   "cell_type": "code",
   "execution_count": 9,
   "metadata": {},
   "outputs": [
    {
     "name": "stdout",
     "output_type": "stream",
     "text": [
      "unique values for price column: \n",
      "\n",
      "[     1      3      5 ... 189000 300000 375000]\n",
      "\n",
      "unique values for model column: \n",
      "\n",
      "['acura tl' 'bmw x5' 'buick enclave' 'cadillac escalade'\n",
      " 'chevrolet camaro' 'chevrolet camaro lt coupe 2d' 'chevrolet colorado'\n",
      " 'chevrolet corvette' 'chevrolet cruze' 'chevrolet equinox'\n",
      " 'chevrolet impala' 'chevrolet malibu' 'chevrolet silverado'\n",
      " 'chevrolet silverado 1500' 'chevrolet silverado 1500 crew'\n",
      " 'chevrolet silverado 2500hd' 'chevrolet silverado 3500hd'\n",
      " 'chevrolet suburban' 'chevrolet tahoe' 'chevrolet trailblazer'\n",
      " 'chevrolet traverse' 'chrysler 200' 'chrysler 300'\n",
      " 'chrysler town & country' 'dodge charger' 'dodge dakota'\n",
      " 'dodge grand caravan' 'ford econoline' 'ford edge' 'ford escape'\n",
      " 'ford expedition' 'ford explorer' 'ford f-150' 'ford f-250'\n",
      " 'ford f-250 sd' 'ford f-250 super duty' 'ford f-350 sd' 'ford f150'\n",
      " 'ford f150 supercrew cab xlt' 'ford f250' 'ford f250 super duty'\n",
      " 'ford f350' 'ford f350 super duty' 'ford focus' 'ford focus se'\n",
      " 'ford fusion' 'ford fusion se' 'ford mustang' 'ford mustang gt coupe 2d'\n",
      " 'ford ranger' 'ford taurus' 'gmc acadia' 'gmc sierra' 'gmc sierra 1500'\n",
      " 'gmc sierra 2500hd' 'gmc yukon' 'honda accord' 'honda civic'\n",
      " 'honda civic lx' 'honda cr-v' 'honda odyssey' 'honda pilot'\n",
      " 'hyundai elantra' 'hyundai santa fe' 'hyundai sonata' 'jeep cherokee'\n",
      " 'jeep grand cherokee' 'jeep grand cherokee laredo' 'jeep liberty'\n",
      " 'jeep wrangler' 'jeep wrangler unlimited' 'kia sorento' 'kia soul'\n",
      " 'mercedes-benz benze sprinter 2500' 'nissan altima' 'nissan frontier'\n",
      " 'nissan frontier crew cab sv' 'nissan maxima' 'nissan murano'\n",
      " 'nissan rogue' 'nissan sentra' 'nissan versa' 'ram 1500' 'ram 2500'\n",
      " 'ram 3500' 'subaru forester' 'subaru impreza' 'subaru outback'\n",
      " 'toyota 4runner' 'toyota camry' 'toyota camry le' 'toyota corolla'\n",
      " 'toyota highlander' 'toyota prius' 'toyota rav4' 'toyota sienna'\n",
      " 'toyota tacoma' 'toyota tundra' 'volkswagen jetta' 'volkswagen passat']\n",
      "\n",
      "unique values for condition column: \n",
      "\n",
      "['excellent' 'fair' 'good' 'like new' 'new' 'salvage']\n",
      "\n",
      "unique values for fuel column: \n",
      "\n",
      "['diesel' 'electric' 'gas' 'hybrid' 'other']\n",
      "\n",
      "unique values for transmission column: \n",
      "\n",
      "['automatic' 'manual' 'other']\n",
      "\n",
      "unique values for type column: \n",
      "\n",
      "['SUV' 'bus' 'convertible' 'coupe' 'hatchback' 'mini-van' 'offroad'\n",
      " 'other' 'pickup' 'sedan' 'truck' 'van' 'wagon']\n",
      "\n",
      "unique values for date_posted column: \n",
      "\n",
      "['2018-05-01' '2018-05-02' '2018-05-03' '2018-05-04' '2018-05-05'\n",
      " '2018-05-06' '2018-05-07' '2018-05-08' '2018-05-09' '2018-05-10'\n",
      " '2018-05-11' '2018-05-12' '2018-05-13' '2018-05-14' '2018-05-15'\n",
      " '2018-05-16' '2018-05-17' '2018-05-18' '2018-05-19' '2018-05-20'\n",
      " '2018-05-21' '2018-05-22' '2018-05-23' '2018-05-24' '2018-05-25'\n",
      " '2018-05-26' '2018-05-27' '2018-05-28' '2018-05-29' '2018-05-30'\n",
      " '2018-05-31' '2018-06-01' '2018-06-02' '2018-06-03' '2018-06-04'\n",
      " '2018-06-05' '2018-06-06' '2018-06-07' '2018-06-08' '2018-06-09'\n",
      " '2018-06-10' '2018-06-11' '2018-06-12' '2018-06-13' '2018-06-14'\n",
      " '2018-06-15' '2018-06-16' '2018-06-17' '2018-06-18' '2018-06-19'\n",
      " '2018-06-20' '2018-06-21' '2018-06-22' '2018-06-23' '2018-06-24'\n",
      " '2018-06-25' '2018-06-26' '2018-06-27' '2018-06-28' '2018-06-29'\n",
      " '2018-06-30' '2018-07-01' '2018-07-02' '2018-07-03' '2018-07-04'\n",
      " '2018-07-05' '2018-07-06' '2018-07-07' '2018-07-08' '2018-07-09'\n",
      " '2018-07-10' '2018-07-11' '2018-07-12' '2018-07-13' '2018-07-14'\n",
      " '2018-07-15' '2018-07-16' '2018-07-17' '2018-07-18' '2018-07-19'\n",
      " '2018-07-20' '2018-07-21' '2018-07-22' '2018-07-23' '2018-07-24'\n",
      " '2018-07-25' '2018-07-26' '2018-07-27' '2018-07-28' '2018-07-29'\n",
      " '2018-07-30' '2018-07-31' '2018-08-01' '2018-08-02' '2018-08-03'\n",
      " '2018-08-04' '2018-08-05' '2018-08-06' '2018-08-07' '2018-08-08'\n",
      " '2018-08-09' '2018-08-10' '2018-08-11' '2018-08-12' '2018-08-13'\n",
      " '2018-08-14' '2018-08-15' '2018-08-16' '2018-08-17' '2018-08-18'\n",
      " '2018-08-19' '2018-08-20' '2018-08-21' '2018-08-22' '2018-08-23'\n",
      " '2018-08-24' '2018-08-25' '2018-08-26' '2018-08-27' '2018-08-28'\n",
      " '2018-08-29' '2018-08-30' '2018-08-31' '2018-09-01' '2018-09-02'\n",
      " '2018-09-03' '2018-09-04' '2018-09-05' '2018-09-06' '2018-09-07'\n",
      " '2018-09-08' '2018-09-09' '2018-09-10' '2018-09-11' '2018-09-12'\n",
      " '2018-09-13' '2018-09-14' '2018-09-15' '2018-09-16' '2018-09-17'\n",
      " '2018-09-18' '2018-09-19' '2018-09-20' '2018-09-21' '2018-09-22'\n",
      " '2018-09-23' '2018-09-24' '2018-09-25' '2018-09-26' '2018-09-27'\n",
      " '2018-09-28' '2018-09-29' '2018-09-30' '2018-10-01' '2018-10-02'\n",
      " '2018-10-03' '2018-10-04' '2018-10-05' '2018-10-06' '2018-10-07'\n",
      " '2018-10-08' '2018-10-09' '2018-10-10' '2018-10-11' '2018-10-12'\n",
      " '2018-10-13' '2018-10-14' '2018-10-15' '2018-10-16' '2018-10-17'\n",
      " '2018-10-18' '2018-10-19' '2018-10-20' '2018-10-21' '2018-10-22'\n",
      " '2018-10-23' '2018-10-24' '2018-10-25' '2018-10-26' '2018-10-27'\n",
      " '2018-10-28' '2018-10-29' '2018-10-30' '2018-10-31' '2018-11-01'\n",
      " '2018-11-02' '2018-11-03' '2018-11-04' '2018-11-05' '2018-11-06'\n",
      " '2018-11-07' '2018-11-08' '2018-11-09' '2018-11-10' '2018-11-11'\n",
      " '2018-11-12' '2018-11-13' '2018-11-14' '2018-11-15' '2018-11-16'\n",
      " '2018-11-17' '2018-11-18' '2018-11-19' '2018-11-20' '2018-11-21'\n",
      " '2018-11-22' '2018-11-23' '2018-11-24' '2018-11-25' '2018-11-26'\n",
      " '2018-11-27' '2018-11-28' '2018-11-29' '2018-11-30' '2018-12-01'\n",
      " '2018-12-02' '2018-12-03' '2018-12-04' '2018-12-05' '2018-12-06'\n",
      " '2018-12-07' '2018-12-08' '2018-12-09' '2018-12-10' '2018-12-11'\n",
      " '2018-12-12' '2018-12-13' '2018-12-14' '2018-12-15' '2018-12-16'\n",
      " '2018-12-17' '2018-12-18' '2018-12-19' '2018-12-20' '2018-12-21'\n",
      " '2018-12-22' '2018-12-23' '2018-12-24' '2018-12-25' '2018-12-26'\n",
      " '2018-12-27' '2018-12-28' '2018-12-29' '2018-12-30' '2018-12-31'\n",
      " '2019-01-01' '2019-01-02' '2019-01-03' '2019-01-04' '2019-01-05'\n",
      " '2019-01-06' '2019-01-07' '2019-01-08' '2019-01-09' '2019-01-10'\n",
      " '2019-01-11' '2019-01-12' '2019-01-13' '2019-01-14' '2019-01-15'\n",
      " '2019-01-16' '2019-01-17' '2019-01-18' '2019-01-19' '2019-01-20'\n",
      " '2019-01-21' '2019-01-22' '2019-01-23' '2019-01-24' '2019-01-25'\n",
      " '2019-01-26' '2019-01-27' '2019-01-28' '2019-01-29' '2019-01-30'\n",
      " '2019-01-31' '2019-02-01' '2019-02-02' '2019-02-03' '2019-02-04'\n",
      " '2019-02-05' '2019-02-06' '2019-02-07' '2019-02-08' '2019-02-09'\n",
      " '2019-02-10' '2019-02-11' '2019-02-12' '2019-02-13' '2019-02-14'\n",
      " '2019-02-15' '2019-02-16' '2019-02-17' '2019-02-18' '2019-02-19'\n",
      " '2019-02-20' '2019-02-21' '2019-02-22' '2019-02-23' '2019-02-24'\n",
      " '2019-02-25' '2019-02-26' '2019-02-27' '2019-02-28' '2019-03-01'\n",
      " '2019-03-02' '2019-03-03' '2019-03-04' '2019-03-05' '2019-03-06'\n",
      " '2019-03-07' '2019-03-08' '2019-03-09' '2019-03-10' '2019-03-11'\n",
      " '2019-03-12' '2019-03-13' '2019-03-14' '2019-03-15' '2019-03-16'\n",
      " '2019-03-17' '2019-03-18' '2019-03-19' '2019-03-20' '2019-03-21'\n",
      " '2019-03-22' '2019-03-23' '2019-03-24' '2019-03-25' '2019-03-26'\n",
      " '2019-03-27' '2019-03-28' '2019-03-29' '2019-03-30' '2019-03-31'\n",
      " '2019-04-01' '2019-04-02' '2019-04-03' '2019-04-04' '2019-04-05'\n",
      " '2019-04-06' '2019-04-07' '2019-04-08' '2019-04-09' '2019-04-10'\n",
      " '2019-04-11' '2019-04-12' '2019-04-13' '2019-04-14' '2019-04-15'\n",
      " '2019-04-16' '2019-04-17' '2019-04-18' '2019-04-19']\n",
      "\n",
      "unique values for days_listed column: \n",
      "\n",
      "[  0   1   2   3   4   5   6   7   8   9  10  11  12  13  14  15  16  17\n",
      "  18  19  20  21  22  23  24  25  26  27  28  29  30  31  32  33  34  35\n",
      "  36  37  38  39  40  41  42  43  44  45  46  47  48  49  50  51  52  53\n",
      "  54  55  56  57  58  59  60  61  62  63  64  65  66  67  68  69  70  71\n",
      "  72  73  74  75  76  77  78  79  80  81  82  83  84  85  86  87  88  89\n",
      "  90  91  92  93  94  95  96  97  98  99 100 101 102 103 104 105 106 107\n",
      " 108 109 110 111 112 113 114 115 116 117 118 119 120 121 122 123 124 125\n",
      " 126 127 128 129 130 131 132 133 134 135 136 137 138 139 140 141 142 143\n",
      " 144 145 146 147 148 149 150 151 152 153 154 155 156 157 158 159 160 161\n",
      " 162 163 164 165 166 167 168 169 170 171 172 173 174 175 176 177 178 179\n",
      " 180 181 182 183 184 185 186 187 188 189 190 191 192 193 194 195 197 199\n",
      " 200 201 202 203 204 205 206 207 208 209 210 213 217 221 223 225 226 228\n",
      " 233 236 240 243 244 252 256 261 263 267 271]\n",
      "\n"
     ]
    }
   ],
   "source": [
    "#making the list for all other columns\n",
    "chk_lst_all = []\n",
    "\n",
    "for item in list(car_data_gen.columns):\n",
    "    if item in chk_lst :\n",
    "        pass\n",
    "    else:\n",
    "        chk_lst_all.append(item)\n",
    "        \n",
    "#loop to print each column unique values\n",
    "for col in chk_lst_all:\n",
    "    print('unique values for {} column: \\n'.format(col))\n",
    "    print(car_data_gen[col].sort_values().unique())\n",
    "    print()"
   ]
  },
  {
   "cell_type": "markdown",
   "metadata": {},
   "source": [
    "No issues there."
   ]
  },
  {
   "cell_type": "code",
   "execution_count": 10,
   "metadata": {},
   "outputs": [
    {
     "data": {
      "text/html": [
       "<div>\n",
       "<style scoped>\n",
       "    .dataframe tbody tr th:only-of-type {\n",
       "        vertical-align: middle;\n",
       "    }\n",
       "\n",
       "    .dataframe tbody tr th {\n",
       "        vertical-align: top;\n",
       "    }\n",
       "\n",
       "    .dataframe thead th {\n",
       "        text-align: right;\n",
       "    }\n",
       "</style>\n",
       "<table border=\"1\" class=\"dataframe\">\n",
       "  <thead>\n",
       "    <tr style=\"text-align: right;\">\n",
       "      <th></th>\n",
       "      <th>miss_val_col_check</th>\n",
       "      <th>%</th>\n",
       "    </tr>\n",
       "  </thead>\n",
       "  <tbody>\n",
       "    <tr>\n",
       "      <th>is_4wd</th>\n",
       "      <td>25953</td>\n",
       "      <td>50.370</td>\n",
       "    </tr>\n",
       "    <tr>\n",
       "      <th>paint_color</th>\n",
       "      <td>9267</td>\n",
       "      <td>17.985</td>\n",
       "    </tr>\n",
       "    <tr>\n",
       "      <th>odometer</th>\n",
       "      <td>7892</td>\n",
       "      <td>15.317</td>\n",
       "    </tr>\n",
       "    <tr>\n",
       "      <th>cylinders</th>\n",
       "      <td>5260</td>\n",
       "      <td>10.209</td>\n",
       "    </tr>\n",
       "    <tr>\n",
       "      <th>model_year</th>\n",
       "      <td>3619</td>\n",
       "      <td>7.024</td>\n",
       "    </tr>\n",
       "    <tr>\n",
       "      <th>price</th>\n",
       "      <td>0</td>\n",
       "      <td>0.000</td>\n",
       "    </tr>\n",
       "    <tr>\n",
       "      <th>model</th>\n",
       "      <td>0</td>\n",
       "      <td>0.000</td>\n",
       "    </tr>\n",
       "    <tr>\n",
       "      <th>condition</th>\n",
       "      <td>0</td>\n",
       "      <td>0.000</td>\n",
       "    </tr>\n",
       "    <tr>\n",
       "      <th>fuel</th>\n",
       "      <td>0</td>\n",
       "      <td>0.000</td>\n",
       "    </tr>\n",
       "    <tr>\n",
       "      <th>transmission</th>\n",
       "      <td>0</td>\n",
       "      <td>0.000</td>\n",
       "    </tr>\n",
       "    <tr>\n",
       "      <th>type</th>\n",
       "      <td>0</td>\n",
       "      <td>0.000</td>\n",
       "    </tr>\n",
       "    <tr>\n",
       "      <th>date_posted</th>\n",
       "      <td>0</td>\n",
       "      <td>0.000</td>\n",
       "    </tr>\n",
       "    <tr>\n",
       "      <th>days_listed</th>\n",
       "      <td>0</td>\n",
       "      <td>0.000</td>\n",
       "    </tr>\n",
       "  </tbody>\n",
       "</table>\n",
       "</div>"
      ],
      "text/plain": [
       "              miss_val_col_check       %\n",
       "is_4wd                     25953  50.370\n",
       "paint_color                 9267  17.985\n",
       "odometer                    7892  15.317\n",
       "cylinders                   5260  10.209\n",
       "model_year                  3619   7.024\n",
       "price                          0   0.000\n",
       "model                          0   0.000\n",
       "condition                      0   0.000\n",
       "fuel                           0   0.000\n",
       "transmission                   0   0.000\n",
       "type                           0   0.000\n",
       "date_posted                    0   0.000\n",
       "days_listed                    0   0.000"
      ]
     },
     "execution_count": 10,
     "metadata": {},
     "output_type": "execute_result"
    }
   ],
   "source": [
    "#checking each column for the percentage of missing values\n",
    "miss_val_col_check = car_data_gen.isnull().sum().to_frame('miss_val_col_check')\n",
    "miss_val_col_check['%'] = round(car_data_gen.isnull().sum()/len(car_data_gen)*100,3)\n",
    "miss_val_col_check.sort_values(by='%', ascending=False)"
   ]
  },
  {
   "cell_type": "markdown",
   "metadata": {},
   "source": [
    "**Looking at the unique values, and the percentage of them froom the general data, we come to a conclusion that, we will need to fill each column with a diffrent value that will agree with that type of information. we can not delete the rows with the missing values, because that will cut off mor then 50% of the data, and we can not know if the data we lost was essential or not for our query.**\n",
    "\n",
    "So let us start filling the missing values one by one."
   ]
  },
  {
   "cell_type": "markdown",
   "metadata": {},
   "source": [
    "*Get a value for the model_year column missing values*\n",
    "\n",
    "This column contain a crucial information that surly have ,an impact on the price of a car.there are 7% missing data from this column.we need a method to get an aproximate model of a car.\n",
    "for that we will use a new dataframe that will have year_model and and model(that has no missing data at all).\n",
    "from this new data frame i will aggragate the modeles by 'model' and te column will be the model_year. And when I will find a Model_year missing a value , I can esstimate by model name its model_year."
   ]
  },
  {
   "cell_type": "code",
   "execution_count": 11,
   "metadata": {},
   "outputs": [
    {
     "name": "stdout",
     "output_type": "stream",
     "text": [
      "51525\n",
      "47906\n",
      "\n",
      " 2012\n",
      "\n",
      " 2007\n"
     ]
    },
    {
     "data": {
      "text/plain": [
       "Mean    2009\n",
       "Name: ford f-150, dtype: int64"
      ]
     },
     "execution_count": 11,
     "metadata": {},
     "output_type": "execute_result"
    }
   ],
   "source": [
    "#making a new dataframe with the two colmns model, and year_model\n",
    "model_year_agg = car_data_gen[['model','model_year']]\n",
    "print(len(model_year_agg))\n",
    "#delete all raws where ther are missing values in model_year column\n",
    "model_year_agg = model_year_agg.dropna()\n",
    "#checking that the data was deleted form the new dataframe\n",
    "print(len(model_year_agg))\n",
    "\n",
    "#group all the data by model and aggragate it by year mean, making a dictionary for the year missing values\n",
    "model_year_agg_mean = model_year_agg.groupby('model')['model_year'].agg(Mean='mean')\n",
    "#rounding all the mean to one integer value\n",
    "model_year_agg_mean['Mean'] = model_year_agg_mean['Mean'].astype('int64')\n",
    "print('\\n' , model_year_agg_mean.loc['buick enclave','Mean'])\n",
    "print('\\n' , model_year_agg_mean.loc[(car_data_gen['model'].loc[30]),'Mean'])\n",
    "\n",
    "model_year_agg_mean.loc['ford f-150']"
   ]
  },
  {
   "cell_type": "markdown",
   "metadata": {},
   "source": [
    "We now have a 100 lines of data to fill in all the missing data of model_year by model.\n",
    "*let us apply it to the general dataframe*"
   ]
  },
  {
   "cell_type": "code",
   "execution_count": 12,
   "metadata": {},
   "outputs": [
    {
     "name": "stdout",
     "output_type": "stream",
     "text": [
      "\n",
      "Row values: \n",
      " price                25500\n",
      "model_year             NaN\n",
      "model           ford f-150\n",
      "condition             good\n",
      "cylinders              6.0\n",
      "fuel                   gas\n",
      "odometer           88705.0\n",
      "transmission     automatic\n",
      "type                pickup\n",
      "paint_color          white\n",
      "is_4wd                 1.0\n",
      "date_posted     2018-10-19\n",
      "days_listed             50\n",
      "Name: 1, dtype: object\n",
      "\n",
      "Function return values: \n",
      " 2009\n",
      "\n",
      " model_year_agg_mean mean of ford f-150 value: Mean    2009\n",
      "Name: ford f-150, dtype: int64\n",
      "\n",
      "\n",
      "Row values: \n",
      " price                    2800\n",
      "model_year             2006.0\n",
      "model           nissan altima\n",
      "condition                good\n",
      "cylinders                 4.0\n",
      "fuel                      gas\n",
      "odometer             145000.0\n",
      "transmission        automatic\n",
      "type                    sedan\n",
      "paint_color            silver\n",
      "is_4wd                    NaN\n",
      "date_posted        2019-01-06\n",
      "days_listed                39\n",
      "Name: 700, dtype: object\n",
      "\n",
      "Function return values: \n",
      " 2006.0\n",
      "\n",
      " model_year_agg_mean mean of nissan altima value: Mean    2011\n",
      "Name: nissan altima, dtype: int64\n",
      "\n",
      "\n",
      "Row values: \n",
      " price                                41800\n",
      "model_year                          2018.0\n",
      "model           chevrolet silverado 3500hd\n",
      "condition                             good\n",
      "cylinders                              8.0\n",
      "fuel                                   gas\n",
      "odometer                          148459.0\n",
      "transmission                     automatic\n",
      "type                                 truck\n",
      "paint_color                            NaN\n",
      "is_4wd                                 1.0\n",
      "date_posted                     2019-03-19\n",
      "days_listed                             11\n",
      "Name: 150, dtype: object\n",
      "\n",
      "Function return values: \n",
      " 2018.0\n",
      "\n",
      " model_year_agg_mean mean of chevrolet silverado 3500hd value: Mean    2011\n",
      "Name: chevrolet silverado 3500hd, dtype: int64\n",
      "\n"
     ]
    }
   ],
   "source": [
    "def get_pos_val(row):   \n",
    "    pos = row['model_year']\n",
    "    return(str(pos))\n",
    "\n",
    "#a function that will apply the right value based on the model \n",
    "def find_year_model(row):\n",
    "    \n",
    "    if str(get_pos_val(row)).lower() == 'nan' or str(get_pos_val(row)).lower() == 'none':\n",
    "        try: \n",
    "            #if there will be a model in model_year_agg_mean table\n",
    "            model_year = model_year_agg_mean.loc[(row['model']),'Mean']\n",
    "            return(model_year)\n",
    "        except: \n",
    "            #if there will be no! model in model_year_agg_mean table \n",
    "            return (row['model_year'])\n",
    "    \n",
    "    else:\n",
    "        return (row['model_year'])\n",
    "\n",
    "#check if it works using car_data_gen_missing_vals\n",
    "print('\\nRow values: \\n', car_data_gen_missing_vals.iloc[1])\n",
    "print('\\nFunction return values: \\n', find_year_model(car_data_gen_missing_vals.iloc[1]))\n",
    "print('\\n model_year_agg_mean mean of {} value: {}\\n'.format(car_data_gen_missing_vals.loc[1,'model'] , model_year_agg_mean.loc[(car_data_gen_missing_vals.loc[1,'model'])]))\n",
    "\n",
    "print('\\nRow values: \\n', car_data_gen_missing_vals.iloc[700])\n",
    "print('\\nFunction return values: \\n', find_year_model(car_data_gen_missing_vals.iloc[700]))\n",
    "print('\\n model_year_agg_mean mean of {} value: {}\\n'.format(car_data_gen_missing_vals.loc[700,'model'] , model_year_agg_mean.loc[(car_data_gen_missing_vals.loc[700,'model'])]))\n",
    "\n",
    "print('\\nRow values: \\n', car_data_gen_missing_vals.iloc[150])\n",
    "print('\\nFunction return values: \\n', find_year_model(car_data_gen_missing_vals.iloc[150]))\n",
    "print('\\n model_year_agg_mean mean of {} value: {}\\n'.format(car_data_gen_missing_vals.loc[150,'model'] , model_year_agg_mean.loc[(car_data_gen_missing_vals.loc[150,'model'])]))\n",
    "\n"
   ]
  },
  {
   "cell_type": "code",
   "execution_count": 13,
   "metadata": {},
   "outputs": [
    {
     "data": {
      "text/html": [
       "<div>\n",
       "<style scoped>\n",
       "    .dataframe tbody tr th:only-of-type {\n",
       "        vertical-align: middle;\n",
       "    }\n",
       "\n",
       "    .dataframe tbody tr th {\n",
       "        vertical-align: top;\n",
       "    }\n",
       "\n",
       "    .dataframe thead th {\n",
       "        text-align: right;\n",
       "    }\n",
       "</style>\n",
       "<table border=\"1\" class=\"dataframe\">\n",
       "  <thead>\n",
       "    <tr style=\"text-align: right;\">\n",
       "      <th></th>\n",
       "      <th>price</th>\n",
       "      <th>model_year</th>\n",
       "      <th>model</th>\n",
       "      <th>condition</th>\n",
       "      <th>cylinders</th>\n",
       "      <th>fuel</th>\n",
       "      <th>odometer</th>\n",
       "      <th>transmission</th>\n",
       "      <th>type</th>\n",
       "      <th>paint_color</th>\n",
       "      <th>is_4wd</th>\n",
       "      <th>date_posted</th>\n",
       "      <th>days_listed</th>\n",
       "    </tr>\n",
       "  </thead>\n",
       "  <tbody>\n",
       "    <tr>\n",
       "      <th>0</th>\n",
       "      <td>9400</td>\n",
       "      <td>2011.0</td>\n",
       "      <td>bmw x5</td>\n",
       "      <td>good</td>\n",
       "      <td>6.0</td>\n",
       "      <td>gas</td>\n",
       "      <td>145000.0</td>\n",
       "      <td>automatic</td>\n",
       "      <td>SUV</td>\n",
       "      <td>NaN</td>\n",
       "      <td>1.0</td>\n",
       "      <td>2018-06-23</td>\n",
       "      <td>19</td>\n",
       "    </tr>\n",
       "    <tr>\n",
       "      <th>1</th>\n",
       "      <td>25500</td>\n",
       "      <td>2009.0</td>\n",
       "      <td>ford f-150</td>\n",
       "      <td>good</td>\n",
       "      <td>6.0</td>\n",
       "      <td>gas</td>\n",
       "      <td>88705.0</td>\n",
       "      <td>automatic</td>\n",
       "      <td>pickup</td>\n",
       "      <td>white</td>\n",
       "      <td>1.0</td>\n",
       "      <td>2018-10-19</td>\n",
       "      <td>50</td>\n",
       "    </tr>\n",
       "    <tr>\n",
       "      <th>2</th>\n",
       "      <td>5500</td>\n",
       "      <td>2013.0</td>\n",
       "      <td>hyundai sonata</td>\n",
       "      <td>like new</td>\n",
       "      <td>4.0</td>\n",
       "      <td>gas</td>\n",
       "      <td>110000.0</td>\n",
       "      <td>automatic</td>\n",
       "      <td>sedan</td>\n",
       "      <td>red</td>\n",
       "      <td>NaN</td>\n",
       "      <td>2019-02-07</td>\n",
       "      <td>79</td>\n",
       "    </tr>\n",
       "    <tr>\n",
       "      <th>3</th>\n",
       "      <td>1500</td>\n",
       "      <td>2003.0</td>\n",
       "      <td>ford f-150</td>\n",
       "      <td>fair</td>\n",
       "      <td>8.0</td>\n",
       "      <td>gas</td>\n",
       "      <td>NaN</td>\n",
       "      <td>automatic</td>\n",
       "      <td>pickup</td>\n",
       "      <td>NaN</td>\n",
       "      <td>NaN</td>\n",
       "      <td>2019-03-22</td>\n",
       "      <td>9</td>\n",
       "    </tr>\n",
       "    <tr>\n",
       "      <th>4</th>\n",
       "      <td>14900</td>\n",
       "      <td>2017.0</td>\n",
       "      <td>chrysler 200</td>\n",
       "      <td>excellent</td>\n",
       "      <td>4.0</td>\n",
       "      <td>gas</td>\n",
       "      <td>80903.0</td>\n",
       "      <td>automatic</td>\n",
       "      <td>sedan</td>\n",
       "      <td>black</td>\n",
       "      <td>NaN</td>\n",
       "      <td>2019-04-02</td>\n",
       "      <td>28</td>\n",
       "    </tr>\n",
       "    <tr>\n",
       "      <th>5</th>\n",
       "      <td>14990</td>\n",
       "      <td>2014.0</td>\n",
       "      <td>chrysler 300</td>\n",
       "      <td>excellent</td>\n",
       "      <td>6.0</td>\n",
       "      <td>gas</td>\n",
       "      <td>57954.0</td>\n",
       "      <td>automatic</td>\n",
       "      <td>sedan</td>\n",
       "      <td>black</td>\n",
       "      <td>1.0</td>\n",
       "      <td>2018-06-20</td>\n",
       "      <td>15</td>\n",
       "    </tr>\n",
       "    <tr>\n",
       "      <th>6</th>\n",
       "      <td>12990</td>\n",
       "      <td>2015.0</td>\n",
       "      <td>toyota camry</td>\n",
       "      <td>excellent</td>\n",
       "      <td>4.0</td>\n",
       "      <td>gas</td>\n",
       "      <td>79212.0</td>\n",
       "      <td>automatic</td>\n",
       "      <td>sedan</td>\n",
       "      <td>white</td>\n",
       "      <td>NaN</td>\n",
       "      <td>2018-12-27</td>\n",
       "      <td>73</td>\n",
       "    </tr>\n",
       "    <tr>\n",
       "      <th>7</th>\n",
       "      <td>15990</td>\n",
       "      <td>2013.0</td>\n",
       "      <td>honda pilot</td>\n",
       "      <td>excellent</td>\n",
       "      <td>6.0</td>\n",
       "      <td>gas</td>\n",
       "      <td>109473.0</td>\n",
       "      <td>automatic</td>\n",
       "      <td>SUV</td>\n",
       "      <td>black</td>\n",
       "      <td>1.0</td>\n",
       "      <td>2019-01-07</td>\n",
       "      <td>68</td>\n",
       "    </tr>\n",
       "    <tr>\n",
       "      <th>8</th>\n",
       "      <td>11500</td>\n",
       "      <td>2012.0</td>\n",
       "      <td>kia sorento</td>\n",
       "      <td>excellent</td>\n",
       "      <td>4.0</td>\n",
       "      <td>gas</td>\n",
       "      <td>104174.0</td>\n",
       "      <td>automatic</td>\n",
       "      <td>SUV</td>\n",
       "      <td>NaN</td>\n",
       "      <td>1.0</td>\n",
       "      <td>2018-07-16</td>\n",
       "      <td>19</td>\n",
       "    </tr>\n",
       "    <tr>\n",
       "      <th>9</th>\n",
       "      <td>9200</td>\n",
       "      <td>2008.0</td>\n",
       "      <td>honda pilot</td>\n",
       "      <td>excellent</td>\n",
       "      <td>NaN</td>\n",
       "      <td>gas</td>\n",
       "      <td>147191.0</td>\n",
       "      <td>automatic</td>\n",
       "      <td>SUV</td>\n",
       "      <td>blue</td>\n",
       "      <td>1.0</td>\n",
       "      <td>2019-02-15</td>\n",
       "      <td>17</td>\n",
       "    </tr>\n",
       "    <tr>\n",
       "      <th>10</th>\n",
       "      <td>19500</td>\n",
       "      <td>2011.0</td>\n",
       "      <td>chevrolet silverado 1500</td>\n",
       "      <td>excellent</td>\n",
       "      <td>8.0</td>\n",
       "      <td>gas</td>\n",
       "      <td>128413.0</td>\n",
       "      <td>automatic</td>\n",
       "      <td>pickup</td>\n",
       "      <td>black</td>\n",
       "      <td>1.0</td>\n",
       "      <td>2018-09-17</td>\n",
       "      <td>38</td>\n",
       "    </tr>\n",
       "    <tr>\n",
       "      <th>11</th>\n",
       "      <td>8990</td>\n",
       "      <td>2012.0</td>\n",
       "      <td>honda accord</td>\n",
       "      <td>excellent</td>\n",
       "      <td>4.0</td>\n",
       "      <td>gas</td>\n",
       "      <td>111142.0</td>\n",
       "      <td>automatic</td>\n",
       "      <td>sedan</td>\n",
       "      <td>grey</td>\n",
       "      <td>NaN</td>\n",
       "      <td>2019-03-28</td>\n",
       "      <td>29</td>\n",
       "    </tr>\n",
       "    <tr>\n",
       "      <th>12</th>\n",
       "      <td>18990</td>\n",
       "      <td>2012.0</td>\n",
       "      <td>ram 1500</td>\n",
       "      <td>excellent</td>\n",
       "      <td>8.0</td>\n",
       "      <td>gas</td>\n",
       "      <td>140742.0</td>\n",
       "      <td>automatic</td>\n",
       "      <td>pickup</td>\n",
       "      <td>NaN</td>\n",
       "      <td>1.0</td>\n",
       "      <td>2019-04-02</td>\n",
       "      <td>37</td>\n",
       "    </tr>\n",
       "    <tr>\n",
       "      <th>13</th>\n",
       "      <td>16500</td>\n",
       "      <td>2018.0</td>\n",
       "      <td>hyundai sonata</td>\n",
       "      <td>excellent</td>\n",
       "      <td>4.0</td>\n",
       "      <td>gas</td>\n",
       "      <td>22104.0</td>\n",
       "      <td>automatic</td>\n",
       "      <td>sedan</td>\n",
       "      <td>silver</td>\n",
       "      <td>NaN</td>\n",
       "      <td>2019-01-14</td>\n",
       "      <td>29</td>\n",
       "    </tr>\n",
       "    <tr>\n",
       "      <th>14</th>\n",
       "      <td>12990</td>\n",
       "      <td>2009.0</td>\n",
       "      <td>gmc yukon</td>\n",
       "      <td>excellent</td>\n",
       "      <td>8.0</td>\n",
       "      <td>gas</td>\n",
       "      <td>132285.0</td>\n",
       "      <td>automatic</td>\n",
       "      <td>SUV</td>\n",
       "      <td>black</td>\n",
       "      <td>1.0</td>\n",
       "      <td>2019-01-31</td>\n",
       "      <td>24</td>\n",
       "    </tr>\n",
       "    <tr>\n",
       "      <th>15</th>\n",
       "      <td>17990</td>\n",
       "      <td>2013.0</td>\n",
       "      <td>ram 1500</td>\n",
       "      <td>excellent</td>\n",
       "      <td>8.0</td>\n",
       "      <td>gas</td>\n",
       "      <td>NaN</td>\n",
       "      <td>automatic</td>\n",
       "      <td>pickup</td>\n",
       "      <td>red</td>\n",
       "      <td>1.0</td>\n",
       "      <td>2018-05-15</td>\n",
       "      <td>111</td>\n",
       "    </tr>\n",
       "    <tr>\n",
       "      <th>16</th>\n",
       "      <td>14990</td>\n",
       "      <td>2010.0</td>\n",
       "      <td>ram 1500</td>\n",
       "      <td>excellent</td>\n",
       "      <td>8.0</td>\n",
       "      <td>gas</td>\n",
       "      <td>130725.0</td>\n",
       "      <td>automatic</td>\n",
       "      <td>pickup</td>\n",
       "      <td>red</td>\n",
       "      <td>1.0</td>\n",
       "      <td>2018-12-30</td>\n",
       "      <td>13</td>\n",
       "    </tr>\n",
       "    <tr>\n",
       "      <th>17</th>\n",
       "      <td>13990</td>\n",
       "      <td>2014.0</td>\n",
       "      <td>jeep cherokee</td>\n",
       "      <td>excellent</td>\n",
       "      <td>6.0</td>\n",
       "      <td>gas</td>\n",
       "      <td>100669.0</td>\n",
       "      <td>automatic</td>\n",
       "      <td>SUV</td>\n",
       "      <td>red</td>\n",
       "      <td>1.0</td>\n",
       "      <td>2018-08-16</td>\n",
       "      <td>25</td>\n",
       "    </tr>\n",
       "    <tr>\n",
       "      <th>18</th>\n",
       "      <td>12500</td>\n",
       "      <td>2013.0</td>\n",
       "      <td>chevrolet traverse</td>\n",
       "      <td>excellent</td>\n",
       "      <td>6.0</td>\n",
       "      <td>gas</td>\n",
       "      <td>128325.0</td>\n",
       "      <td>automatic</td>\n",
       "      <td>SUV</td>\n",
       "      <td>white</td>\n",
       "      <td>1.0</td>\n",
       "      <td>2019-04-09</td>\n",
       "      <td>13</td>\n",
       "    </tr>\n",
       "    <tr>\n",
       "      <th>19</th>\n",
       "      <td>13990</td>\n",
       "      <td>2018.0</td>\n",
       "      <td>hyundai elantra</td>\n",
       "      <td>excellent</td>\n",
       "      <td>4.0</td>\n",
       "      <td>gas</td>\n",
       "      <td>31932.0</td>\n",
       "      <td>automatic</td>\n",
       "      <td>sedan</td>\n",
       "      <td>red</td>\n",
       "      <td>NaN</td>\n",
       "      <td>2018-08-25</td>\n",
       "      <td>27</td>\n",
       "    </tr>\n",
       "  </tbody>\n",
       "</table>\n",
       "</div>"
      ],
      "text/plain": [
       "    price  model_year                     model  condition  cylinders fuel  \\\n",
       "0    9400      2011.0                    bmw x5       good        6.0  gas   \n",
       "1   25500      2009.0                ford f-150       good        6.0  gas   \n",
       "2    5500      2013.0            hyundai sonata   like new        4.0  gas   \n",
       "3    1500      2003.0                ford f-150       fair        8.0  gas   \n",
       "4   14900      2017.0              chrysler 200  excellent        4.0  gas   \n",
       "5   14990      2014.0              chrysler 300  excellent        6.0  gas   \n",
       "6   12990      2015.0              toyota camry  excellent        4.0  gas   \n",
       "7   15990      2013.0               honda pilot  excellent        6.0  gas   \n",
       "8   11500      2012.0               kia sorento  excellent        4.0  gas   \n",
       "9    9200      2008.0               honda pilot  excellent        NaN  gas   \n",
       "10  19500      2011.0  chevrolet silverado 1500  excellent        8.0  gas   \n",
       "11   8990      2012.0              honda accord  excellent        4.0  gas   \n",
       "12  18990      2012.0                  ram 1500  excellent        8.0  gas   \n",
       "13  16500      2018.0            hyundai sonata  excellent        4.0  gas   \n",
       "14  12990      2009.0                 gmc yukon  excellent        8.0  gas   \n",
       "15  17990      2013.0                  ram 1500  excellent        8.0  gas   \n",
       "16  14990      2010.0                  ram 1500  excellent        8.0  gas   \n",
       "17  13990      2014.0             jeep cherokee  excellent        6.0  gas   \n",
       "18  12500      2013.0        chevrolet traverse  excellent        6.0  gas   \n",
       "19  13990      2018.0           hyundai elantra  excellent        4.0  gas   \n",
       "\n",
       "    odometer transmission    type paint_color  is_4wd date_posted  days_listed  \n",
       "0   145000.0    automatic     SUV         NaN     1.0  2018-06-23           19  \n",
       "1    88705.0    automatic  pickup       white     1.0  2018-10-19           50  \n",
       "2   110000.0    automatic   sedan         red     NaN  2019-02-07           79  \n",
       "3        NaN    automatic  pickup         NaN     NaN  2019-03-22            9  \n",
       "4    80903.0    automatic   sedan       black     NaN  2019-04-02           28  \n",
       "5    57954.0    automatic   sedan       black     1.0  2018-06-20           15  \n",
       "6    79212.0    automatic   sedan       white     NaN  2018-12-27           73  \n",
       "7   109473.0    automatic     SUV       black     1.0  2019-01-07           68  \n",
       "8   104174.0    automatic     SUV         NaN     1.0  2018-07-16           19  \n",
       "9   147191.0    automatic     SUV        blue     1.0  2019-02-15           17  \n",
       "10  128413.0    automatic  pickup       black     1.0  2018-09-17           38  \n",
       "11  111142.0    automatic   sedan        grey     NaN  2019-03-28           29  \n",
       "12  140742.0    automatic  pickup         NaN     1.0  2019-04-02           37  \n",
       "13   22104.0    automatic   sedan      silver     NaN  2019-01-14           29  \n",
       "14  132285.0    automatic     SUV       black     1.0  2019-01-31           24  \n",
       "15       NaN    automatic  pickup         red     1.0  2018-05-15          111  \n",
       "16  130725.0    automatic  pickup         red     1.0  2018-12-30           13  \n",
       "17  100669.0    automatic     SUV         red     1.0  2018-08-16           25  \n",
       "18  128325.0    automatic     SUV       white     1.0  2019-04-09           13  \n",
       "19   31932.0    automatic   sedan         red     NaN  2018-08-25           27  "
      ]
     },
     "execution_count": 13,
     "metadata": {},
     "output_type": "execute_result"
    }
   ],
   "source": [
    "#apply the function on the missing values in 'model_year' column\n",
    "car_data_gen['model_year'] = car_data_gen.apply(find_year_model , axis = 1)\n",
    "\n",
    "#apply the function on the missing values in 'model_year' column of car_data_gen_missing_vals also\n",
    "car_data_gen_missing_vals['model_year'] = car_data_gen_missing_vals.apply(find_year_model , axis = 1)\n",
    "\n",
    "car_data_gen.head(20)"
   ]
  },
  {
   "cell_type": "code",
   "execution_count": 14,
   "metadata": {},
   "outputs": [
    {
     "name": "stdout",
     "output_type": "stream",
     "text": [
      "0\n"
     ]
    }
   ],
   "source": [
    "#check rhat there are no missing values in the model_year column\n",
    "print(len(car_data_gen['model_year'].loc[car_data_gen['model_year'].isnull()]))"
   ]
  },
  {
   "cell_type": "markdown",
   "metadata": {},
   "source": [
    "**We have filled all missing values in the model_year column.\n",
    "Let us do the same to all other columns that we will need in our investigation.\n",
    "Let us check which columns have missing values**"
   ]
  },
  {
   "cell_type": "code",
   "execution_count": 15,
   "metadata": {},
   "outputs": [
    {
     "name": "stdout",
     "output_type": "stream",
     "text": [
      "missing values for price column is: 0\n",
      "Percentage of he general data : 0%\n",
      "\n",
      "missing values for model_year column is: 0\n",
      "Percentage of he general data : 0%\n",
      "\n",
      "missing values for model column is: 0\n",
      "Percentage of he general data : 0%\n",
      "\n",
      "missing values for condition column is: 0\n",
      "Percentage of he general data : 0%\n",
      "\n",
      "missing values for cylinders column is: 5260\n",
      "Percentage of he general data : 10%\n",
      "\n",
      "missing values for fuel column is: 0\n",
      "Percentage of he general data : 0%\n",
      "\n",
      "missing values for odometer column is: 7892\n",
      "Percentage of he general data : 15%\n",
      "\n",
      "missing values for transmission column is: 0\n",
      "Percentage of he general data : 0%\n",
      "\n",
      "missing values for type column is: 0\n",
      "Percentage of he general data : 0%\n",
      "\n",
      "missing values for paint_color column is: 9267\n",
      "Percentage of he general data : 18%\n",
      "\n",
      "missing values for is_4wd column is: 25953\n",
      "Percentage of he general data : 50%\n",
      "\n",
      "missing values for date_posted column is: 0\n",
      "Percentage of he general data : 0%\n",
      "\n",
      "missing values for days_listed column is: 0\n",
      "Percentage of he general data : 0%\n",
      "\n"
     ]
    }
   ],
   "source": [
    "#making the list for all columns\n",
    "chk_lst_all = list(car_data_gen.columns)\n",
    "\n",
    "        \n",
    "#loop to print each column number of missing values for a reminder\n",
    "for col in chk_lst_all:\n",
    "    print('missing values for {} column is: {}'.format(col ,len(car_data_gen[col].loc[car_data_gen[col].isnull()])))\n",
    "    print('Percentage of he general data : {:.0%}\\n'.format(len(car_data_gen[col].loc[car_data_gen[col].isnull()])/len(car_data_gen)))\n",
    "    \n",
    "    "
   ]
  },
  {
   "cell_type": "markdown",
   "metadata": {},
   "source": [
    "**We have four columns with Missing values.\n",
    "Studing the columns values , 'paint_color', there is no way we can get the right car color for all 10,000 cars.\n",
    "there for all of its missing values will be filled with 'other'.\n",
    "\n",
    "The other two parameters, are essential for our investigation so we must fill their missing values : \n",
    "\n",
    "*odometer*  -  we need to fine a way to give an estimate of a cars mileage. It can effects a cars' price due to tare factor.\n",
    "\n",
    "*is_4wd*  -  This factor can have an effect on a price , due to the extra power it can genarate in though conditions.Because it is a 'have 4wd'- yes\\no situation, we can change all the data in it to boolean(like where 1 is has and 0 does not have)\n",
    "\n",
    "The forth parameter 'cylinder' is derived from the car model and the year , so we can guess by combining these two parameters the number of cylinders that is missing\n",
    "\n"
   ]
  },
  {
   "cell_type": "markdown",
   "metadata": {},
   "source": [
    "**Let us start with the odometer column - \n",
    "\n",
    "This column contains mileage of the car we can change its name to mileage, and find tha same as we did in model_year column , to find the mean and apply it to the odometer column. I choose the mean due to is nature. since we have many cars and all are from diffrent areas and different drivers, there is a general value that will combine all theire mileage , and it is the mean. This will reflact the average miles a car from a year_model have done.\n",
    "Also, the data missing contains 15% of the data so the general effect using the mean will not be great since we will group all by year factor.\n"
   ]
  },
  {
   "cell_type": "code",
   "execution_count": 16,
   "metadata": {},
   "outputs": [
    {
     "name": "stdout",
     "output_type": "stream",
     "text": [
      "51525\n",
      "43633\n",
      "\n",
      " 25231\n",
      "\n",
      " 131150\n"
     ]
    },
    {
     "data": {
      "text/html": [
       "<div>\n",
       "<style scoped>\n",
       "    .dataframe tbody tr th:only-of-type {\n",
       "        vertical-align: middle;\n",
       "    }\n",
       "\n",
       "    .dataframe tbody tr th {\n",
       "        vertical-align: top;\n",
       "    }\n",
       "\n",
       "    .dataframe thead th {\n",
       "        text-align: right;\n",
       "    }\n",
       "</style>\n",
       "<table border=\"1\" class=\"dataframe\">\n",
       "  <thead>\n",
       "    <tr style=\"text-align: right;\">\n",
       "      <th></th>\n",
       "      <th>Mean</th>\n",
       "    </tr>\n",
       "    <tr>\n",
       "      <th>model_year</th>\n",
       "      <th></th>\n",
       "    </tr>\n",
       "  </thead>\n",
       "  <tbody>\n",
       "    <tr>\n",
       "      <th>1908.0</th>\n",
       "      <td>169328</td>\n",
       "    </tr>\n",
       "    <tr>\n",
       "      <th>1936.0</th>\n",
       "      <td>30000</td>\n",
       "    </tr>\n",
       "    <tr>\n",
       "      <th>1948.0</th>\n",
       "      <td>4000</td>\n",
       "    </tr>\n",
       "    <tr>\n",
       "      <th>1949.0</th>\n",
       "      <td>1800</td>\n",
       "    </tr>\n",
       "    <tr>\n",
       "      <th>1954.0</th>\n",
       "      <td>3565</td>\n",
       "    </tr>\n",
       "    <tr>\n",
       "      <th>...</th>\n",
       "      <td>...</td>\n",
       "    </tr>\n",
       "    <tr>\n",
       "      <th>2015.0</th>\n",
       "      <td>81739</td>\n",
       "    </tr>\n",
       "    <tr>\n",
       "      <th>2016.0</th>\n",
       "      <td>61455</td>\n",
       "    </tr>\n",
       "    <tr>\n",
       "      <th>2017.0</th>\n",
       "      <td>47369</td>\n",
       "    </tr>\n",
       "    <tr>\n",
       "      <th>2018.0</th>\n",
       "      <td>25231</td>\n",
       "    </tr>\n",
       "    <tr>\n",
       "      <th>2019.0</th>\n",
       "      <td>17076</td>\n",
       "    </tr>\n",
       "  </tbody>\n",
       "</table>\n",
       "<p>67 rows × 1 columns</p>\n",
       "</div>"
      ],
      "text/plain": [
       "              Mean\n",
       "model_year        \n",
       "1908.0      169328\n",
       "1936.0       30000\n",
       "1948.0        4000\n",
       "1949.0        1800\n",
       "1954.0        3565\n",
       "...            ...\n",
       "2015.0       81739\n",
       "2016.0       61455\n",
       "2017.0       47369\n",
       "2018.0       25231\n",
       "2019.0       17076\n",
       "\n",
       "[67 rows x 1 columns]"
      ]
     },
     "execution_count": 16,
     "metadata": {},
     "output_type": "execute_result"
    }
   ],
   "source": [
    "#making a new dataframe with the two colmns model, and year_model\n",
    "year_mileage_agg = car_data_gen[['model_year','odometer']]\n",
    "print(len(year_mileage_agg))\n",
    "\n",
    "#delete all raws where ther are missing values in odometer column\n",
    "year_mileage_agg = year_mileage_agg.dropna()\n",
    "#checking that the data was deleted form the new dataframe\n",
    "print(len(year_mileage_agg))\n",
    "\n",
    "#group all the data by model and aggragate it by year mean, making a dictionary for the year missing values\n",
    "year_mileage_agg_mean = year_mileage_agg.groupby('model_year')['odometer'].agg(Mean='mean')\n",
    "#rounding all the mean to one integer value\n",
    "year_mileage_agg_mean['Mean'] = year_mileage_agg_mean['Mean'].astype('int64')\n",
    "\n",
    "print('\\n' , year_mileage_agg_mean.loc[2018.0,'Mean'])\n",
    "print('\\n' , year_mileage_agg_mean.loc[(car_data_gen['model_year'].loc[30]),'Mean'])\n",
    "\n",
    "year_mileage_agg_mean.loc[2006.0]\n",
    "year_mileage_agg_mean"
   ]
  },
  {
   "cell_type": "markdown",
   "metadata": {},
   "source": [
    "**Tending the mileage column"
   ]
  },
  {
   "cell_type": "code",
   "execution_count": 17,
   "metadata": {},
   "outputs": [
    {
     "name": "stdout",
     "output_type": "stream",
     "text": [
      "\n",
      "Row values: \n",
      " price                25500\n",
      "model_year          2009.0\n",
      "model           ford f-150\n",
      "condition             good\n",
      "cylinders              6.0\n",
      "fuel                   gas\n",
      "odometer           88705.0\n",
      "transmission     automatic\n",
      "type                pickup\n",
      "paint_color          white\n",
      "is_4wd                 1.0\n",
      "date_posted     2018-10-19\n",
      "days_listed             50\n",
      "Name: 1, dtype: object\n",
      "\n",
      "Function return values: \n",
      " 88705.0\n",
      "\n",
      " model_year_agg_mean mean of 2009.0 value: Mean    131150\n",
      "Name: 2009.0, dtype: int64\n",
      "\n",
      "\n",
      "Row values: \n",
      " price                    2800\n",
      "model_year             2006.0\n",
      "model           nissan altima\n",
      "condition                good\n",
      "cylinders                 4.0\n",
      "fuel                      gas\n",
      "odometer             145000.0\n",
      "transmission        automatic\n",
      "type                    sedan\n",
      "paint_color            silver\n",
      "is_4wd                    NaN\n",
      "date_posted        2019-01-06\n",
      "days_listed                39\n",
      "Name: 700, dtype: object\n",
      "\n",
      "Function return values: \n",
      " 145000.0\n",
      "\n",
      " model_year_agg_mean mean of 2006.0 value: Mean    151583\n",
      "Name: 2006.0, dtype: int64\n",
      "\n",
      "\n",
      "Row values: \n",
      " price                                41800\n",
      "model_year                          2018.0\n",
      "model           chevrolet silverado 3500hd\n",
      "condition                             good\n",
      "cylinders                              8.0\n",
      "fuel                                   gas\n",
      "odometer                          148459.0\n",
      "transmission                     automatic\n",
      "type                                 truck\n",
      "paint_color                            NaN\n",
      "is_4wd                                 1.0\n",
      "date_posted                     2019-03-19\n",
      "days_listed                             11\n",
      "Name: 150, dtype: object\n",
      "\n",
      "Function return values: \n",
      " 148459.0\n",
      "\n",
      " model_year_agg_mean mean of 2018.0 value: Mean    25231\n",
      "Name: 2018.0, dtype: int64\n",
      "\n"
     ]
    }
   ],
   "source": [
    "\n",
    "def get_pos_mileage_val(row):   \n",
    "    pos = row['odometer']\n",
    "    return(str(pos))\n",
    "\n",
    "#a function that will apply the right value based on the model \n",
    "def find_milage_year(row):\n",
    "    \n",
    "    if str(get_pos_mileage_val(row)).lower() == 'nan' or str(get_pos_mileage_val(row)).lower() == 'none':\n",
    "        try: \n",
    "            #if there will be a model_year in year_mileage_agg_mean table\n",
    "            mileage_year = year_mileage_agg_mean.loc[(row['model_year']),'Mean']\n",
    "            return(mileage_year)\n",
    "        except: \n",
    "            #if there will be no! model_year in year_mileage_agg_mean table \n",
    "            return (row['odometer'])\n",
    "    \n",
    "    else:\n",
    "        return (row['odometer'])\n",
    "\n",
    "#check if it works using car_data_gen_missing_vals\n",
    "print('\\nRow values: \\n', car_data_gen_missing_vals.iloc[1])\n",
    "print('\\nFunction return values: \\n', find_milage_year(car_data_gen_missing_vals.iloc[1]))\n",
    "print('\\n model_year_agg_mean mean of {} value: {}\\n'.format(car_data_gen_missing_vals.loc[1,'model_year'] , year_mileage_agg_mean.loc[(car_data_gen_missing_vals.loc[1,'model_year'])]))\n",
    "\n",
    "print('\\nRow values: \\n', car_data_gen_missing_vals.iloc[700])\n",
    "print('\\nFunction return values: \\n', find_milage_year(car_data_gen_missing_vals.iloc[700]))\n",
    "print('\\n model_year_agg_mean mean of {} value: {}\\n'.format(car_data_gen_missing_vals.loc[700,'model_year'] , year_mileage_agg_mean.loc[(car_data_gen_missing_vals.loc[700,'model_year'])]))\n",
    "\n",
    "print('\\nRow values: \\n', car_data_gen_missing_vals.iloc[150])\n",
    "print('\\nFunction return values: \\n', find_milage_year(car_data_gen_missing_vals.iloc[150]))\n",
    "print('\\n model_year_agg_mean mean of {} value: {}\\n'.format(car_data_gen_missing_vals.loc[150,'model_year'] , year_mileage_agg_mean.loc[(car_data_gen_missing_vals.loc[150,'model_year'])]))\n",
    "\n"
   ]
  },
  {
   "cell_type": "code",
   "execution_count": 18,
   "metadata": {},
   "outputs": [
    {
     "name": "stdout",
     "output_type": "stream",
     "text": [
      "1\n",
      "1\n"
     ]
    }
   ],
   "source": [
    "#apply the function on the missing values in 'odometer' column\n",
    "car_data_gen['odometer'] = car_data_gen.apply(find_milage_year , axis = 1)\n",
    "#apply the function on the missing values in 'odometer' column on car_data_gen_missing_vals\n",
    "car_data_gen_missing_vals['odometer'] = car_data_gen_missing_vals.apply(find_milage_year , axis = 1)\n",
    "\n",
    "\n",
    "#check that there are no missing values in the odometer column\n",
    "print(len(car_data_gen['odometer'].loc[car_data_gen['odometer'].isnull()]))\n",
    "print(len(car_data_gen_missing_vals['odometer'].loc[car_data_gen_missing_vals['odometer'].isnull()]))\n"
   ]
  },
  {
   "cell_type": "code",
   "execution_count": 19,
   "metadata": {},
   "outputs": [
    {
     "name": "stdout",
     "output_type": "stream",
     "text": [
      "       price  model_year       model condition  cylinders fuel  odometer  \\\n",
      "45694  18000      1929.0  ford f-150      good        8.0  gas       NaN   \n",
      "\n",
      "      transmission   type paint_color  is_4wd date_posted  days_listed  \n",
      "45694       manual  other      silver     NaN  2018-11-18           59  \n",
      "       price  model_year       model condition  cylinders fuel  odometer  \\\n",
      "32506  18000      1929.0  ford f-150      good        8.0  gas       NaN   \n",
      "\n",
      "      transmission   type paint_color  is_4wd date_posted  days_listed  \n",
      "32506       manual  other      silver     NaN  2018-11-18           59  \n"
     ]
    }
   ],
   "source": [
    "#check the row with missing values in the odometer column that the function di not manage to change\n",
    "print(car_data_gen.loc[car_data_gen['odometer'].isnull()])\n",
    "print(car_data_gen_missing_vals.loc[car_data_gen_missing_vals['odometer'].isnull()])"
   ]
  },
  {
   "cell_type": "code",
   "execution_count": 20,
   "metadata": {},
   "outputs": [
    {
     "name": "stdout",
     "output_type": "stream",
     "text": [
      "0\n",
      "0\n"
     ]
    }
   ],
   "source": [
    "#since it only one record we can delete it from bothe datasets.\n",
    "car_data_gen.dropna(subset=['odometer'],inplace=True)\n",
    "car_data_gen_missing_vals.dropna(subset=['odometer'],inplace=True)\n",
    "\n",
    "\n",
    "#check that there are no missing values in the odometer column\n",
    "print(len(car_data_gen['odometer'].loc[car_data_gen['odometer'].isnull()]))\n",
    "print(len(car_data_gen_missing_vals['odometer'].loc[car_data_gen_missing_vals['odometer'].isnull()]))\n"
   ]
  },
  {
   "cell_type": "markdown",
   "metadata": {},
   "source": [
    "**After we made the changes in the 'odometer' column, we will moove to 'is_4wd' column. and replace all Nan values to 0. Thus making this column categorized as:**\n",
    "\n",
    "**1 - with 4wd**\n",
    "\n",
    "**0- without 4wd**"
   ]
  },
  {
   "cell_type": "code",
   "execution_count": 21,
   "metadata": {},
   "outputs": [
    {
     "name": "stdout",
     "output_type": "stream",
     "text": [
      "0\n",
      "0\n"
     ]
    }
   ],
   "source": [
    "#using fillna() to replace the missing values with 0\n",
    "car_data_gen['is_4wd'].fillna(value= 0 , inplace=True )\n",
    "car_data_gen_missing_vals['is_4wd'].fillna(value= 0 , inplace=True )\n",
    "\n",
    "#check that there are no missing values in the is_4wd column\n",
    "print(len(car_data_gen['is_4wd'].loc[car_data_gen['is_4wd'].isnull()]))\n",
    "print(len(car_data_gen_missing_vals['is_4wd'].loc[car_data_gen_missing_vals['is_4wd'].isnull()]))\n"
   ]
  },
  {
   "cell_type": "markdown",
   "metadata": {},
   "source": [
    "**Now we will address the 'cylinders' column missing values**"
   ]
  },
  {
   "cell_type": "code",
   "execution_count": 22,
   "metadata": {},
   "outputs": [
    {
     "name": "stdout",
     "output_type": "stream",
     "text": [
      "51524\n",
      "46264\n",
      "\n",
      " 8\n"
     ]
    },
    {
     "data": {
      "text/html": [
       "<div>\n",
       "<style scoped>\n",
       "    .dataframe tbody tr th:only-of-type {\n",
       "        vertical-align: middle;\n",
       "    }\n",
       "\n",
       "    .dataframe tbody tr th {\n",
       "        vertical-align: top;\n",
       "    }\n",
       "\n",
       "    .dataframe thead th {\n",
       "        text-align: right;\n",
       "    }\n",
       "</style>\n",
       "<table border=\"1\" class=\"dataframe\">\n",
       "  <thead>\n",
       "    <tr style=\"text-align: right;\">\n",
       "      <th></th>\n",
       "      <th></th>\n",
       "      <th>Mean</th>\n",
       "    </tr>\n",
       "    <tr>\n",
       "      <th>model</th>\n",
       "      <th>model_year</th>\n",
       "      <th></th>\n",
       "    </tr>\n",
       "  </thead>\n",
       "  <tbody>\n",
       "    <tr>\n",
       "      <th rowspan=\"5\" valign=\"top\">acura tl</th>\n",
       "      <th>1999.0</th>\n",
       "      <td>6</td>\n",
       "    </tr>\n",
       "    <tr>\n",
       "      <th>2001.0</th>\n",
       "      <td>6</td>\n",
       "    </tr>\n",
       "    <tr>\n",
       "      <th>2002.0</th>\n",
       "      <td>6</td>\n",
       "    </tr>\n",
       "    <tr>\n",
       "      <th>2003.0</th>\n",
       "      <td>6</td>\n",
       "    </tr>\n",
       "    <tr>\n",
       "      <th>2004.0</th>\n",
       "      <td>5</td>\n",
       "    </tr>\n",
       "    <tr>\n",
       "      <th>...</th>\n",
       "      <th>...</th>\n",
       "      <td>...</td>\n",
       "    </tr>\n",
       "    <tr>\n",
       "      <th rowspan=\"5\" valign=\"top\">volkswagen passat</th>\n",
       "      <th>2014.0</th>\n",
       "      <td>4</td>\n",
       "    </tr>\n",
       "    <tr>\n",
       "      <th>2015.0</th>\n",
       "      <td>4</td>\n",
       "    </tr>\n",
       "    <tr>\n",
       "      <th>2016.0</th>\n",
       "      <td>4</td>\n",
       "    </tr>\n",
       "    <tr>\n",
       "      <th>2017.0</th>\n",
       "      <td>4</td>\n",
       "    </tr>\n",
       "    <tr>\n",
       "      <th>2018.0</th>\n",
       "      <td>4</td>\n",
       "    </tr>\n",
       "  </tbody>\n",
       "</table>\n",
       "<p>2204 rows × 1 columns</p>\n",
       "</div>"
      ],
      "text/plain": [
       "                              Mean\n",
       "model             model_year      \n",
       "acura tl          1999.0         6\n",
       "                  2001.0         6\n",
       "                  2002.0         6\n",
       "                  2003.0         6\n",
       "                  2004.0         5\n",
       "...                            ...\n",
       "volkswagen passat 2014.0         4\n",
       "                  2015.0         4\n",
       "                  2016.0         4\n",
       "                  2017.0         4\n",
       "                  2018.0         4\n",
       "\n",
       "[2204 rows x 1 columns]"
      ]
     },
     "execution_count": 22,
     "metadata": {},
     "output_type": "execute_result"
    }
   ],
   "source": [
    "#making a new dataframe with the two colmns model, and year_model\n",
    "cylinder_year_model_agg = car_data_gen[['model_year','model','cylinders']]\n",
    "print(len(cylinder_year_model_agg))\n",
    "\n",
    "#delete all raws where ther are missing values in odometer column\n",
    "cylinder_year_model_agg = cylinder_year_model_agg.dropna()\n",
    "#checking that the data was deleted form the new dataframe\n",
    "print(len(cylinder_year_model_agg))\n",
    "\n",
    "#group all the data by model and aggragate it by year mean, making a dictionary for the year missing values\n",
    "cylinder_year_model_agg_mean = cylinder_year_model_agg.groupby(['model','model_year'])['cylinders'].agg(Mean='mean')\n",
    "#rounding all the mean to one integer value\n",
    "cylinder_year_model_agg_mean['Mean'] = cylinder_year_model_agg_mean['Mean'].astype('int64')\n",
    "\n",
    "print('\\n' , cylinder_year_model_agg_mean.loc[('chevrolet silverado 3500hd',2018.0),'Mean'])\n",
    "#print('\\n' , cylinder_year_model_agg_mean.loc[(car_data_gen['model_year'].loc[30]),'Mean'])\n",
    "\n",
    "cylinder_year_model_agg_mean.loc['chevrolet silverado 3500hd',2006.0]\n",
    "cylinder_year_model_agg_mean"
   ]
  },
  {
   "cell_type": "code",
   "execution_count": 23,
   "metadata": {},
   "outputs": [
    {
     "name": "stdout",
     "output_type": "stream",
     "text": [
      "\n",
      "Row values: \n",
      " price                25500\n",
      "model_year          2009.0\n",
      "model           ford f-150\n",
      "condition             good\n",
      "cylinders              6.0\n",
      "fuel                   gas\n",
      "odometer           88705.0\n",
      "transmission     automatic\n",
      "type                pickup\n",
      "paint_color          white\n",
      "is_4wd                 1.0\n",
      "date_posted     2018-10-19\n",
      "days_listed             50\n",
      "Name: 1, dtype: object\n",
      "\n",
      "Function return values: \n",
      " 6.0\n",
      "\n",
      " cylinder_year_model_agg_mean mean of ford f-150 year 2009.0 value: Mean    131150\n",
      "Name: 2009.0, dtype: int64\n",
      "\n",
      "\n",
      "Row values: \n",
      " price                    2800\n",
      "model_year             2006.0\n",
      "model           nissan altima\n",
      "condition                good\n",
      "cylinders                 4.0\n",
      "fuel                      gas\n",
      "odometer             145000.0\n",
      "transmission        automatic\n",
      "type                    sedan\n",
      "paint_color            silver\n",
      "is_4wd                    0.0\n",
      "date_posted        2019-01-06\n",
      "days_listed                39\n",
      "Name: 700, dtype: object\n",
      "\n",
      "Function return values: \n",
      " 4.0\n",
      "\n",
      " model_year_agg_mean mean of nissan altima year 2006.0 value: Mean    151583\n",
      "Name: 2006.0, dtype: int64\n",
      "\n",
      "\n",
      "Row values: \n",
      " price                                41800\n",
      "model_year                          2018.0\n",
      "model           chevrolet silverado 3500hd\n",
      "condition                             good\n",
      "cylinders                              8.0\n",
      "fuel                                   gas\n",
      "odometer                          148459.0\n",
      "transmission                     automatic\n",
      "type                                 truck\n",
      "paint_color                            NaN\n",
      "is_4wd                                 1.0\n",
      "date_posted                     2019-03-19\n",
      "days_listed                             11\n",
      "Name: 150, dtype: object\n",
      "\n",
      "Function return values: \n",
      " 8.0\n",
      "\n",
      " model_year_agg_mean mean ofchevrolet silverado 3500hd year 2018.0 value: Mean    25231\n",
      "Name: 2018.0, dtype: int64\n",
      "\n"
     ]
    }
   ],
   "source": [
    "def get_pos_mileage_val(row):   \n",
    "    pos = row['cylinders']\n",
    "    return(str(pos))\n",
    "\n",
    "#a function that will apply the right value based on the model and year\n",
    "def find_cylinders_model_year(row):\n",
    "    \n",
    "    if str(get_pos_mileage_val(row)).lower() == 'nan' or str(get_pos_mileage_val(row)).lower() == 'none':\n",
    "        try: \n",
    "            #if there will be a model_year in cylinder_year_model_agg_mean table\n",
    "            cylinders = cylinder_year_model_agg_mean.loc[(row['model'],row['model_year']),'Mean']\n",
    "            return(cylinders)\n",
    "        except: \n",
    "            #if there will be no! model_year in cylinder_year_model_agg_mean table \n",
    "            return (row['cylinders'])\n",
    "    \n",
    "    else:\n",
    "        return (row['cylinders'])\n",
    "\n",
    "#check if it works using car_data_gen_missing_vals\n",
    "print('\\nRow values: \\n', car_data_gen_missing_vals.iloc[1])\n",
    "print('\\nFunction return values: \\n', find_cylinders_model_year(car_data_gen_missing_vals.iloc[1]))\n",
    "print('\\n cylinder_year_model_agg_mean mean of {} year {} value: {}\\n'.format(car_data_gen_missing_vals.loc[1,'model'] , car_data_gen_missing_vals.loc[1,'model_year'] , year_mileage_agg_mean.loc[(car_data_gen_missing_vals.loc[1,'model_year'])]))\n",
    "\n",
    "print('\\nRow values: \\n', car_data_gen_missing_vals.iloc[700])\n",
    "print('\\nFunction return values: \\n', find_cylinders_model_year(car_data_gen_missing_vals.iloc[700]))\n",
    "print('\\n model_year_agg_mean mean of {} year {} value: {}\\n'.format(car_data_gen_missing_vals.loc[700,'model'],car_data_gen_missing_vals.loc[700,'model_year'] , year_mileage_agg_mean.loc[(car_data_gen_missing_vals.loc[700,'model_year'])]))\n",
    "\n",
    "print('\\nRow values: \\n', car_data_gen_missing_vals.iloc[150])\n",
    "print('\\nFunction return values: \\n', find_cylinders_model_year(car_data_gen_missing_vals.iloc[150]))\n",
    "print('\\n model_year_agg_mean mean of{} year {} value: {}\\n'.format(car_data_gen_missing_vals.loc[150,'model'],car_data_gen_missing_vals.loc[150,'model_year'] , year_mileage_agg_mean.loc[(car_data_gen_missing_vals.loc[150,'model_year'])]))\n"
   ]
  },
  {
   "cell_type": "code",
   "execution_count": 24,
   "metadata": {},
   "outputs": [
    {
     "name": "stdout",
     "output_type": "stream",
     "text": [
      "26\n",
      "26\n"
     ]
    }
   ],
   "source": [
    "#apply the function on the missing values in 'cylinders' column\n",
    "car_data_gen['cylinders'] = car_data_gen.apply(find_cylinders_model_year , axis = 1)\n",
    "#apply the function on the missing values in 'cylinders' column on car_data_gen_missing_vals\n",
    "car_data_gen_missing_vals['cylinders'] = car_data_gen_missing_vals.apply(find_cylinders_model_year , axis = 1)\n",
    "\n",
    "\n",
    "#check that there are no missing values in the odometer column\n",
    "print(len(car_data_gen['cylinders'].loc[car_data_gen['cylinders'].isnull()]))\n",
    "print(len(car_data_gen_missing_vals['cylinders'].loc[car_data_gen_missing_vals['cylinders'].isnull()]))\n"
   ]
  },
  {
   "cell_type": "code",
   "execution_count": 25,
   "metadata": {
    "scrolled": true
   },
   "outputs": [
    {
     "name": "stdout",
     "output_type": "stream",
     "text": [
      "3.0\n"
     ]
    },
    {
     "data": {
      "text/plain": [
       "12.0"
      ]
     },
     "execution_count": 25,
     "metadata": {},
     "output_type": "execute_result"
    }
   ],
   "source": [
    "print (car_data_gen['cylinders'].min())\n",
    "car_data_gen['cylinders'].max()\n"
   ]
  },
  {
   "cell_type": "markdown",
   "metadata": {},
   "source": [
    "**since we have been left with 26 rows where cylinders were not found a match we will replace it with : \n",
    "6 (the middle of max numbers of cylinders - an arbituary number to fill 26 missing values that will \n",
    "not have profound effect becaus they are only 0.5% of the data.**"
   ]
  },
  {
   "cell_type": "code",
   "execution_count": 26,
   "metadata": {},
   "outputs": [
    {
     "name": "stdout",
     "output_type": "stream",
     "text": [
      "0\n"
     ]
    }
   ],
   "source": [
    "#filling the missing value\n",
    "car_data_gen['cylinders'].fillna(value = 6 , inplace = True)\n",
    "print(len(car_data_gen['cylinders'].loc[car_data_gen['cylinders'].isnull()]))"
   ]
  },
  {
   "cell_type": "markdown",
   "metadata": {},
   "source": [
    "**Now we can fill the 'paint_color' column, as it has too much missing values that we can not know what paint is each of the missing value(almost 10,000 ecords that are missing) we will fill it with 'other' as category of unknown paint**"
   ]
  },
  {
   "cell_type": "code",
   "execution_count": 27,
   "metadata": {},
   "outputs": [
    {
     "name": "stdout",
     "output_type": "stream",
     "text": [
      "Index(['price', 'model_year', 'model', 'condition', 'cylinders', 'fuel',\n",
      "       'odometer', 'transmission', 'type', 'paint_color', 'is_4wd',\n",
      "       'date_posted', 'days_listed'],\n",
      "      dtype='object')\n",
      "Index(['price', 'model_year', 'model', 'condition', 'cylinders', 'fuel',\n",
      "       'odometer', 'transmission', 'type', 'paint_color', 'is_4wd',\n",
      "       'date_posted', 'days_listed'],\n",
      "      dtype='object')\n"
     ]
    }
   ],
   "source": [
    "car_data_gen['paint_color'].fillna(value='other', inplace = True)\n",
    "car_data_gen_missing_vals['paint_color'].fillna(value='other', inplace = True)\n",
    "\n",
    "print(car_data_gen.columns)\n",
    "print(car_data_gen_missing_vals.columns)\n",
    "\n"
   ]
  },
  {
   "cell_type": "code",
   "execution_count": 28,
   "metadata": {
    "scrolled": true
   },
   "outputs": [
    {
     "data": {
      "text/html": [
       "<div>\n",
       "<style scoped>\n",
       "    .dataframe tbody tr th:only-of-type {\n",
       "        vertical-align: middle;\n",
       "    }\n",
       "\n",
       "    .dataframe tbody tr th {\n",
       "        vertical-align: top;\n",
       "    }\n",
       "\n",
       "    .dataframe thead th {\n",
       "        text-align: right;\n",
       "    }\n",
       "</style>\n",
       "<table border=\"1\" class=\"dataframe\">\n",
       "  <thead>\n",
       "    <tr style=\"text-align: right;\">\n",
       "      <th></th>\n",
       "      <th>price</th>\n",
       "      <th>model_year</th>\n",
       "      <th>model</th>\n",
       "      <th>condition</th>\n",
       "      <th>cylinders</th>\n",
       "      <th>fuel</th>\n",
       "      <th>odometer</th>\n",
       "      <th>transmission</th>\n",
       "      <th>type</th>\n",
       "      <th>paint_color</th>\n",
       "      <th>is_4wd</th>\n",
       "      <th>date_posted</th>\n",
       "      <th>days_listed</th>\n",
       "    </tr>\n",
       "  </thead>\n",
       "  <tbody>\n",
       "    <tr>\n",
       "      <th>0</th>\n",
       "      <td>9400</td>\n",
       "      <td>2011.0</td>\n",
       "      <td>bmw x5</td>\n",
       "      <td>good</td>\n",
       "      <td>6.0</td>\n",
       "      <td>gas</td>\n",
       "      <td>145000.0</td>\n",
       "      <td>automatic</td>\n",
       "      <td>SUV</td>\n",
       "      <td>other</td>\n",
       "      <td>1.0</td>\n",
       "      <td>2018-06-23</td>\n",
       "      <td>19</td>\n",
       "    </tr>\n",
       "    <tr>\n",
       "      <th>1</th>\n",
       "      <td>25500</td>\n",
       "      <td>2009.0</td>\n",
       "      <td>ford f-150</td>\n",
       "      <td>good</td>\n",
       "      <td>6.0</td>\n",
       "      <td>gas</td>\n",
       "      <td>88705.0</td>\n",
       "      <td>automatic</td>\n",
       "      <td>pickup</td>\n",
       "      <td>white</td>\n",
       "      <td>1.0</td>\n",
       "      <td>2018-10-19</td>\n",
       "      <td>50</td>\n",
       "    </tr>\n",
       "    <tr>\n",
       "      <th>2</th>\n",
       "      <td>5500</td>\n",
       "      <td>2013.0</td>\n",
       "      <td>hyundai sonata</td>\n",
       "      <td>like new</td>\n",
       "      <td>4.0</td>\n",
       "      <td>gas</td>\n",
       "      <td>110000.0</td>\n",
       "      <td>automatic</td>\n",
       "      <td>sedan</td>\n",
       "      <td>red</td>\n",
       "      <td>0.0</td>\n",
       "      <td>2019-02-07</td>\n",
       "      <td>79</td>\n",
       "    </tr>\n",
       "    <tr>\n",
       "      <th>3</th>\n",
       "      <td>1500</td>\n",
       "      <td>2003.0</td>\n",
       "      <td>ford f-150</td>\n",
       "      <td>fair</td>\n",
       "      <td>8.0</td>\n",
       "      <td>gas</td>\n",
       "      <td>162072.0</td>\n",
       "      <td>automatic</td>\n",
       "      <td>pickup</td>\n",
       "      <td>other</td>\n",
       "      <td>0.0</td>\n",
       "      <td>2019-03-22</td>\n",
       "      <td>9</td>\n",
       "    </tr>\n",
       "    <tr>\n",
       "      <th>4</th>\n",
       "      <td>14900</td>\n",
       "      <td>2017.0</td>\n",
       "      <td>chrysler 200</td>\n",
       "      <td>excellent</td>\n",
       "      <td>4.0</td>\n",
       "      <td>gas</td>\n",
       "      <td>80903.0</td>\n",
       "      <td>automatic</td>\n",
       "      <td>sedan</td>\n",
       "      <td>black</td>\n",
       "      <td>0.0</td>\n",
       "      <td>2019-04-02</td>\n",
       "      <td>28</td>\n",
       "    </tr>\n",
       "  </tbody>\n",
       "</table>\n",
       "</div>"
      ],
      "text/plain": [
       "   price  model_year           model  condition  cylinders fuel  odometer  \\\n",
       "0   9400      2011.0          bmw x5       good        6.0  gas  145000.0   \n",
       "1  25500      2009.0      ford f-150       good        6.0  gas   88705.0   \n",
       "2   5500      2013.0  hyundai sonata   like new        4.0  gas  110000.0   \n",
       "3   1500      2003.0      ford f-150       fair        8.0  gas  162072.0   \n",
       "4  14900      2017.0    chrysler 200  excellent        4.0  gas   80903.0   \n",
       "\n",
       "  transmission    type paint_color  is_4wd date_posted  days_listed  \n",
       "0    automatic     SUV       other     1.0  2018-06-23           19  \n",
       "1    automatic  pickup       white     1.0  2018-10-19           50  \n",
       "2    automatic   sedan         red     0.0  2019-02-07           79  \n",
       "3    automatic  pickup       other     0.0  2019-03-22            9  \n",
       "4    automatic   sedan       black     0.0  2019-04-02           28  "
      ]
     },
     "execution_count": 28,
     "metadata": {},
     "output_type": "execute_result"
    }
   ],
   "source": [
    "car_data_gen.head()"
   ]
  },
  {
   "cell_type": "code",
   "execution_count": 29,
   "metadata": {
    "scrolled": true
   },
   "outputs": [
    {
     "data": {
      "text/html": [
       "<div>\n",
       "<style scoped>\n",
       "    .dataframe tbody tr th:only-of-type {\n",
       "        vertical-align: middle;\n",
       "    }\n",
       "\n",
       "    .dataframe tbody tr th {\n",
       "        vertical-align: top;\n",
       "    }\n",
       "\n",
       "    .dataframe thead th {\n",
       "        text-align: right;\n",
       "    }\n",
       "</style>\n",
       "<table border=\"1\" class=\"dataframe\">\n",
       "  <thead>\n",
       "    <tr style=\"text-align: right;\">\n",
       "      <th></th>\n",
       "      <th>miss_val_col_check</th>\n",
       "      <th>%</th>\n",
       "    </tr>\n",
       "  </thead>\n",
       "  <tbody>\n",
       "    <tr>\n",
       "      <th>price</th>\n",
       "      <td>0</td>\n",
       "      <td>0.0</td>\n",
       "    </tr>\n",
       "    <tr>\n",
       "      <th>model_year</th>\n",
       "      <td>0</td>\n",
       "      <td>0.0</td>\n",
       "    </tr>\n",
       "    <tr>\n",
       "      <th>model</th>\n",
       "      <td>0</td>\n",
       "      <td>0.0</td>\n",
       "    </tr>\n",
       "    <tr>\n",
       "      <th>condition</th>\n",
       "      <td>0</td>\n",
       "      <td>0.0</td>\n",
       "    </tr>\n",
       "    <tr>\n",
       "      <th>cylinders</th>\n",
       "      <td>0</td>\n",
       "      <td>0.0</td>\n",
       "    </tr>\n",
       "    <tr>\n",
       "      <th>fuel</th>\n",
       "      <td>0</td>\n",
       "      <td>0.0</td>\n",
       "    </tr>\n",
       "    <tr>\n",
       "      <th>odometer</th>\n",
       "      <td>0</td>\n",
       "      <td>0.0</td>\n",
       "    </tr>\n",
       "    <tr>\n",
       "      <th>transmission</th>\n",
       "      <td>0</td>\n",
       "      <td>0.0</td>\n",
       "    </tr>\n",
       "    <tr>\n",
       "      <th>type</th>\n",
       "      <td>0</td>\n",
       "      <td>0.0</td>\n",
       "    </tr>\n",
       "    <tr>\n",
       "      <th>paint_color</th>\n",
       "      <td>0</td>\n",
       "      <td>0.0</td>\n",
       "    </tr>\n",
       "    <tr>\n",
       "      <th>is_4wd</th>\n",
       "      <td>0</td>\n",
       "      <td>0.0</td>\n",
       "    </tr>\n",
       "    <tr>\n",
       "      <th>date_posted</th>\n",
       "      <td>0</td>\n",
       "      <td>0.0</td>\n",
       "    </tr>\n",
       "    <tr>\n",
       "      <th>days_listed</th>\n",
       "      <td>0</td>\n",
       "      <td>0.0</td>\n",
       "    </tr>\n",
       "  </tbody>\n",
       "</table>\n",
       "</div>"
      ],
      "text/plain": [
       "              miss_val_col_check    %\n",
       "price                          0  0.0\n",
       "model_year                     0  0.0\n",
       "model                          0  0.0\n",
       "condition                      0  0.0\n",
       "cylinders                      0  0.0\n",
       "fuel                           0  0.0\n",
       "odometer                       0  0.0\n",
       "transmission                   0  0.0\n",
       "type                           0  0.0\n",
       "paint_color                    0  0.0\n",
       "is_4wd                         0  0.0\n",
       "date_posted                    0  0.0\n",
       "days_listed                    0  0.0"
      ]
     },
     "execution_count": 29,
     "metadata": {},
     "output_type": "execute_result"
    }
   ],
   "source": [
    "#checking to see if any Nan values remaind in car_data_gen\n",
    "#checking each column for the percentage of missing values\n",
    "miss_val_col_check = car_data_gen.isnull().sum().to_frame('miss_val_col_check')\n",
    "miss_val_col_check['%'] = round(car_data_gen.isnull().sum()/len(car_data_gen)*100,3)\n",
    "miss_val_col_check.sort_values(by='%', ascending=False)"
   ]
  },
  {
   "cell_type": "markdown",
   "metadata": {},
   "source": [
    "*No more missing values**"
   ]
  },
  {
   "cell_type": "markdown",
   "metadata": {},
   "source": [
    "## Categorizing"
   ]
  },
  {
   "cell_type": "markdown",
   "metadata": {},
   "source": [
    "**Above we saw that we neadto categorize the 'paint_color' column - since it it categoricl values and for our investigation we will need to investigate with some numerical values.**"
   ]
  },
  {
   "cell_type": "code",
   "execution_count": 30,
   "metadata": {},
   "outputs": [
    {
     "data": {
      "text/plain": [
       "{'other': 1,\n",
       " 'white': 2,\n",
       " 'red': 3,\n",
       " 'black': 4,\n",
       " 'blue': 5,\n",
       " 'grey': 6,\n",
       " 'silver': 7,\n",
       " 'custom': 8,\n",
       " 'orange': 9,\n",
       " 'yellow': 10,\n",
       " 'brown': 11,\n",
       " 'green': 12,\n",
       " 'purple': 13}"
      ]
     },
     "execution_count": 30,
     "metadata": {},
     "output_type": "execute_result"
    }
   ],
   "source": [
    "#prepare a dictionary for the paint category\n",
    "paint_dict={}\n",
    "paint_lst = list(car_data_gen['paint_color'].unique())\n",
    "\n",
    "category_num = 1\n",
    "\n",
    "#genarating the dictinary\n",
    "for pnt in paint_lst:\n",
    "    paint_dict[pnt]=category_num\n",
    "    category_num += 1\n",
    "#printing the dictionary\n",
    "paint_dict"
   ]
  },
  {
   "cell_type": "code",
   "execution_count": 31,
   "metadata": {
    "scrolled": true
   },
   "outputs": [],
   "source": [
    "#generating the paint_category column based on paint_dict\n",
    "def return_paint(row):\n",
    "    \n",
    "    pnt = row['paint_color']\n",
    "    return(str(pnt))\n",
    "    \n",
    "    \n",
    "def paint_cat(row):\n",
    "        \n",
    "    return(int(paint_dict[return_paint(row)]))\n",
    "\n",
    "#car_data_gen['paint_category'] = car_data_gen.apply(paint_cat)\n",
    "\n",
    "#car_data_gen"
   ]
  },
  {
   "cell_type": "code",
   "execution_count": 32,
   "metadata": {},
   "outputs": [
    {
     "name": "stdout",
     "output_type": "stream",
     "text": [
      "7\n",
      "10\n",
      "10\n",
      "2\n"
     ]
    }
   ],
   "source": [
    "#check if it works\n",
    "# Check if it works\n",
    "print(paint_cat(car_data_gen.iloc[20]))\n",
    "print(paint_cat(car_data_gen.iloc[45]))\n",
    "print(paint_cat(car_data_gen.iloc[88]))\n",
    "print(paint_cat(car_data_gen.iloc[65]))"
   ]
  },
  {
   "cell_type": "code",
   "execution_count": 33,
   "metadata": {
    "scrolled": true
   },
   "outputs": [
    {
     "data": {
      "text/html": [
       "<div>\n",
       "<style scoped>\n",
       "    .dataframe tbody tr th:only-of-type {\n",
       "        vertical-align: middle;\n",
       "    }\n",
       "\n",
       "    .dataframe tbody tr th {\n",
       "        vertical-align: top;\n",
       "    }\n",
       "\n",
       "    .dataframe thead th {\n",
       "        text-align: right;\n",
       "    }\n",
       "</style>\n",
       "<table border=\"1\" class=\"dataframe\">\n",
       "  <thead>\n",
       "    <tr style=\"text-align: right;\">\n",
       "      <th></th>\n",
       "      <th>price</th>\n",
       "      <th>model_year</th>\n",
       "      <th>model</th>\n",
       "      <th>condition</th>\n",
       "      <th>cylinders</th>\n",
       "      <th>fuel</th>\n",
       "      <th>odometer</th>\n",
       "      <th>transmission</th>\n",
       "      <th>type</th>\n",
       "      <th>paint_color</th>\n",
       "      <th>is_4wd</th>\n",
       "      <th>date_posted</th>\n",
       "      <th>days_listed</th>\n",
       "      <th>paint_category</th>\n",
       "    </tr>\n",
       "  </thead>\n",
       "  <tbody>\n",
       "    <tr>\n",
       "      <th>0</th>\n",
       "      <td>9400</td>\n",
       "      <td>2011.0</td>\n",
       "      <td>bmw x5</td>\n",
       "      <td>good</td>\n",
       "      <td>6.0</td>\n",
       "      <td>gas</td>\n",
       "      <td>145000.0</td>\n",
       "      <td>automatic</td>\n",
       "      <td>SUV</td>\n",
       "      <td>other</td>\n",
       "      <td>1.0</td>\n",
       "      <td>2018-06-23</td>\n",
       "      <td>19</td>\n",
       "      <td>1</td>\n",
       "    </tr>\n",
       "    <tr>\n",
       "      <th>1</th>\n",
       "      <td>25500</td>\n",
       "      <td>2009.0</td>\n",
       "      <td>ford f-150</td>\n",
       "      <td>good</td>\n",
       "      <td>6.0</td>\n",
       "      <td>gas</td>\n",
       "      <td>88705.0</td>\n",
       "      <td>automatic</td>\n",
       "      <td>pickup</td>\n",
       "      <td>white</td>\n",
       "      <td>1.0</td>\n",
       "      <td>2018-10-19</td>\n",
       "      <td>50</td>\n",
       "      <td>2</td>\n",
       "    </tr>\n",
       "    <tr>\n",
       "      <th>2</th>\n",
       "      <td>5500</td>\n",
       "      <td>2013.0</td>\n",
       "      <td>hyundai sonata</td>\n",
       "      <td>like new</td>\n",
       "      <td>4.0</td>\n",
       "      <td>gas</td>\n",
       "      <td>110000.0</td>\n",
       "      <td>automatic</td>\n",
       "      <td>sedan</td>\n",
       "      <td>red</td>\n",
       "      <td>0.0</td>\n",
       "      <td>2019-02-07</td>\n",
       "      <td>79</td>\n",
       "      <td>3</td>\n",
       "    </tr>\n",
       "    <tr>\n",
       "      <th>3</th>\n",
       "      <td>1500</td>\n",
       "      <td>2003.0</td>\n",
       "      <td>ford f-150</td>\n",
       "      <td>fair</td>\n",
       "      <td>8.0</td>\n",
       "      <td>gas</td>\n",
       "      <td>162072.0</td>\n",
       "      <td>automatic</td>\n",
       "      <td>pickup</td>\n",
       "      <td>other</td>\n",
       "      <td>0.0</td>\n",
       "      <td>2019-03-22</td>\n",
       "      <td>9</td>\n",
       "      <td>1</td>\n",
       "    </tr>\n",
       "    <tr>\n",
       "      <th>4</th>\n",
       "      <td>14900</td>\n",
       "      <td>2017.0</td>\n",
       "      <td>chrysler 200</td>\n",
       "      <td>excellent</td>\n",
       "      <td>4.0</td>\n",
       "      <td>gas</td>\n",
       "      <td>80903.0</td>\n",
       "      <td>automatic</td>\n",
       "      <td>sedan</td>\n",
       "      <td>black</td>\n",
       "      <td>0.0</td>\n",
       "      <td>2019-04-02</td>\n",
       "      <td>28</td>\n",
       "      <td>4</td>\n",
       "    </tr>\n",
       "    <tr>\n",
       "      <th>...</th>\n",
       "      <td>...</td>\n",
       "      <td>...</td>\n",
       "      <td>...</td>\n",
       "      <td>...</td>\n",
       "      <td>...</td>\n",
       "      <td>...</td>\n",
       "      <td>...</td>\n",
       "      <td>...</td>\n",
       "      <td>...</td>\n",
       "      <td>...</td>\n",
       "      <td>...</td>\n",
       "      <td>...</td>\n",
       "      <td>...</td>\n",
       "      <td>...</td>\n",
       "    </tr>\n",
       "    <tr>\n",
       "      <th>51520</th>\n",
       "      <td>9249</td>\n",
       "      <td>2013.0</td>\n",
       "      <td>nissan maxima</td>\n",
       "      <td>like new</td>\n",
       "      <td>6.0</td>\n",
       "      <td>gas</td>\n",
       "      <td>88136.0</td>\n",
       "      <td>automatic</td>\n",
       "      <td>sedan</td>\n",
       "      <td>black</td>\n",
       "      <td>0.0</td>\n",
       "      <td>2018-10-03</td>\n",
       "      <td>37</td>\n",
       "      <td>4</td>\n",
       "    </tr>\n",
       "    <tr>\n",
       "      <th>51521</th>\n",
       "      <td>2700</td>\n",
       "      <td>2002.0</td>\n",
       "      <td>honda civic</td>\n",
       "      <td>salvage</td>\n",
       "      <td>4.0</td>\n",
       "      <td>gas</td>\n",
       "      <td>181500.0</td>\n",
       "      <td>automatic</td>\n",
       "      <td>sedan</td>\n",
       "      <td>white</td>\n",
       "      <td>0.0</td>\n",
       "      <td>2018-11-14</td>\n",
       "      <td>22</td>\n",
       "      <td>2</td>\n",
       "    </tr>\n",
       "    <tr>\n",
       "      <th>51522</th>\n",
       "      <td>3950</td>\n",
       "      <td>2009.0</td>\n",
       "      <td>hyundai sonata</td>\n",
       "      <td>excellent</td>\n",
       "      <td>4.0</td>\n",
       "      <td>gas</td>\n",
       "      <td>128000.0</td>\n",
       "      <td>automatic</td>\n",
       "      <td>sedan</td>\n",
       "      <td>blue</td>\n",
       "      <td>0.0</td>\n",
       "      <td>2018-11-15</td>\n",
       "      <td>32</td>\n",
       "      <td>5</td>\n",
       "    </tr>\n",
       "    <tr>\n",
       "      <th>51523</th>\n",
       "      <td>7455</td>\n",
       "      <td>2013.0</td>\n",
       "      <td>toyota corolla</td>\n",
       "      <td>good</td>\n",
       "      <td>4.0</td>\n",
       "      <td>gas</td>\n",
       "      <td>139573.0</td>\n",
       "      <td>automatic</td>\n",
       "      <td>sedan</td>\n",
       "      <td>black</td>\n",
       "      <td>0.0</td>\n",
       "      <td>2018-07-02</td>\n",
       "      <td>71</td>\n",
       "      <td>4</td>\n",
       "    </tr>\n",
       "    <tr>\n",
       "      <th>51524</th>\n",
       "      <td>6300</td>\n",
       "      <td>2014.0</td>\n",
       "      <td>nissan altima</td>\n",
       "      <td>good</td>\n",
       "      <td>4.0</td>\n",
       "      <td>gas</td>\n",
       "      <td>93367.0</td>\n",
       "      <td>automatic</td>\n",
       "      <td>sedan</td>\n",
       "      <td>other</td>\n",
       "      <td>0.0</td>\n",
       "      <td>2018-06-05</td>\n",
       "      <td>10</td>\n",
       "      <td>1</td>\n",
       "    </tr>\n",
       "  </tbody>\n",
       "</table>\n",
       "<p>51524 rows × 14 columns</p>\n",
       "</div>"
      ],
      "text/plain": [
       "       price  model_year           model  condition  cylinders fuel  odometer  \\\n",
       "0       9400      2011.0          bmw x5       good        6.0  gas  145000.0   \n",
       "1      25500      2009.0      ford f-150       good        6.0  gas   88705.0   \n",
       "2       5500      2013.0  hyundai sonata   like new        4.0  gas  110000.0   \n",
       "3       1500      2003.0      ford f-150       fair        8.0  gas  162072.0   \n",
       "4      14900      2017.0    chrysler 200  excellent        4.0  gas   80903.0   \n",
       "...      ...         ...             ...        ...        ...  ...       ...   \n",
       "51520   9249      2013.0   nissan maxima   like new        6.0  gas   88136.0   \n",
       "51521   2700      2002.0     honda civic    salvage        4.0  gas  181500.0   \n",
       "51522   3950      2009.0  hyundai sonata  excellent        4.0  gas  128000.0   \n",
       "51523   7455      2013.0  toyota corolla       good        4.0  gas  139573.0   \n",
       "51524   6300      2014.0   nissan altima       good        4.0  gas   93367.0   \n",
       "\n",
       "      transmission    type paint_color  is_4wd date_posted  days_listed  \\\n",
       "0        automatic     SUV       other     1.0  2018-06-23           19   \n",
       "1        automatic  pickup       white     1.0  2018-10-19           50   \n",
       "2        automatic   sedan         red     0.0  2019-02-07           79   \n",
       "3        automatic  pickup       other     0.0  2019-03-22            9   \n",
       "4        automatic   sedan       black     0.0  2019-04-02           28   \n",
       "...            ...     ...         ...     ...         ...          ...   \n",
       "51520    automatic   sedan       black     0.0  2018-10-03           37   \n",
       "51521    automatic   sedan       white     0.0  2018-11-14           22   \n",
       "51522    automatic   sedan        blue     0.0  2018-11-15           32   \n",
       "51523    automatic   sedan       black     0.0  2018-07-02           71   \n",
       "51524    automatic   sedan       other     0.0  2018-06-05           10   \n",
       "\n",
       "       paint_category  \n",
       "0                   1  \n",
       "1                   2  \n",
       "2                   3  \n",
       "3                   1  \n",
       "4                   4  \n",
       "...               ...  \n",
       "51520               4  \n",
       "51521               2  \n",
       "51522               5  \n",
       "51523               4  \n",
       "51524               1  \n",
       "\n",
       "[51524 rows x 14 columns]"
      ]
     },
     "execution_count": 33,
     "metadata": {},
     "output_type": "execute_result"
    }
   ],
   "source": [
    "car_data_gen['paint_category'] = car_data_gen.apply(paint_cat,axis=1)\n",
    "\n",
    "car_data_gen"
   ]
  },
  {
   "cell_type": "markdown",
   "metadata": {},
   "source": [
    "## Fix data types"
   ]
  },
  {
   "cell_type": "markdown",
   "metadata": {},
   "source": [
    "**The data now has no missing values. But the data types of som of the columns is wrong. We will change it now.**"
   ]
  },
  {
   "cell_type": "code",
   "execution_count": 34,
   "metadata": {},
   "outputs": [
    {
     "name": "stdout",
     "output_type": "stream",
     "text": [
      "<class 'pandas.core.frame.DataFrame'>\n",
      "Int64Index: 51524 entries, 0 to 51524\n",
      "Data columns (total 14 columns):\n",
      " #   Column          Non-Null Count  Dtype  \n",
      "---  ------          --------------  -----  \n",
      " 0   price           51524 non-null  int64  \n",
      " 1   model_year      51524 non-null  float64\n",
      " 2   model           51524 non-null  object \n",
      " 3   condition       51524 non-null  object \n",
      " 4   cylinders       51524 non-null  float64\n",
      " 5   fuel            51524 non-null  object \n",
      " 6   odometer        51524 non-null  float64\n",
      " 7   transmission    51524 non-null  object \n",
      " 8   type            51524 non-null  object \n",
      " 9   paint_color     51524 non-null  object \n",
      " 10  is_4wd          51524 non-null  float64\n",
      " 11  date_posted     51524 non-null  object \n",
      " 12  days_listed     51524 non-null  int64  \n",
      " 13  paint_category  51524 non-null  int64  \n",
      "dtypes: float64(4), int64(3), object(7)\n",
      "memory usage: 5.9+ MB\n"
     ]
    }
   ],
   "source": [
    "car_data_gen.info()"
   ]
  },
  {
   "cell_type": "code",
   "execution_count": 35,
   "metadata": {},
   "outputs": [
    {
     "name": "stdout",
     "output_type": "stream",
     "text": [
      "<class 'pandas.core.frame.DataFrame'>\n",
      "Int64Index: 51524 entries, 0 to 51524\n",
      "Data columns (total 14 columns):\n",
      " #   Column          Non-Null Count  Dtype         \n",
      "---  ------          --------------  -----         \n",
      " 0   price           51524 non-null  int64         \n",
      " 1   model_year      51524 non-null  int64         \n",
      " 2   model           51524 non-null  object        \n",
      " 3   condition       51524 non-null  object        \n",
      " 4   cylinders       51524 non-null  int64         \n",
      " 5   fuel            51524 non-null  object        \n",
      " 6   odometer        51524 non-null  int64         \n",
      " 7   transmission    51524 non-null  object        \n",
      " 8   type            51524 non-null  object        \n",
      " 9   paint_color     51524 non-null  object        \n",
      " 10  is_4wd          51524 non-null  int64         \n",
      " 11  date_posted     51524 non-null  datetime64[ns]\n",
      " 12  days_listed     51524 non-null  int64         \n",
      " 13  paint_category  51524 non-null  int64         \n",
      "dtypes: datetime64[ns](1), int64(7), object(6)\n",
      "memory usage: 5.9+ MB\n"
     ]
    }
   ],
   "source": [
    "#all those who have decimal point that is not neccecary, to to being float and not int\n",
    "car_data_gen['model_year'] = car_data_gen['model_year'].astype('int64')\n",
    "car_data_gen['cylinders'] = car_data_gen['cylinders'].astype('int64')\n",
    "car_data_gen['odometer'] = car_data_gen['odometer'].astype('int64')\n",
    "car_data_gen['is_4wd'] = car_data_gen['is_4wd'].astype('int64')\n",
    "\n",
    "#This column should be date_time and not an object\n",
    "car_data_gen['date_posted'] = pd.to_datetime(car_data_gen['date_posted'],dayfirst=True)\n",
    "\n",
    "car_data_gen.info()"
   ]
  },
  {
   "cell_type": "code",
   "execution_count": 36,
   "metadata": {},
   "outputs": [
    {
     "data": {
      "text/html": [
       "<div>\n",
       "<style scoped>\n",
       "    .dataframe tbody tr th:only-of-type {\n",
       "        vertical-align: middle;\n",
       "    }\n",
       "\n",
       "    .dataframe tbody tr th {\n",
       "        vertical-align: top;\n",
       "    }\n",
       "\n",
       "    .dataframe thead th {\n",
       "        text-align: right;\n",
       "    }\n",
       "</style>\n",
       "<table border=\"1\" class=\"dataframe\">\n",
       "  <thead>\n",
       "    <tr style=\"text-align: right;\">\n",
       "      <th></th>\n",
       "      <th>price</th>\n",
       "      <th>model_year</th>\n",
       "      <th>model</th>\n",
       "      <th>condition</th>\n",
       "      <th>cylinders</th>\n",
       "      <th>fuel</th>\n",
       "      <th>odometer</th>\n",
       "      <th>transmission</th>\n",
       "      <th>type</th>\n",
       "      <th>paint_color</th>\n",
       "      <th>is_4wd</th>\n",
       "      <th>date_posted</th>\n",
       "      <th>days_listed</th>\n",
       "      <th>paint_category</th>\n",
       "    </tr>\n",
       "  </thead>\n",
       "  <tbody>\n",
       "    <tr>\n",
       "      <th>0</th>\n",
       "      <td>9400</td>\n",
       "      <td>2011</td>\n",
       "      <td>bmw x5</td>\n",
       "      <td>good</td>\n",
       "      <td>6</td>\n",
       "      <td>gas</td>\n",
       "      <td>145000</td>\n",
       "      <td>automatic</td>\n",
       "      <td>SUV</td>\n",
       "      <td>other</td>\n",
       "      <td>1</td>\n",
       "      <td>2018-06-23</td>\n",
       "      <td>19</td>\n",
       "      <td>1</td>\n",
       "    </tr>\n",
       "    <tr>\n",
       "      <th>1</th>\n",
       "      <td>25500</td>\n",
       "      <td>2009</td>\n",
       "      <td>ford f-150</td>\n",
       "      <td>good</td>\n",
       "      <td>6</td>\n",
       "      <td>gas</td>\n",
       "      <td>88705</td>\n",
       "      <td>automatic</td>\n",
       "      <td>pickup</td>\n",
       "      <td>white</td>\n",
       "      <td>1</td>\n",
       "      <td>2018-10-19</td>\n",
       "      <td>50</td>\n",
       "      <td>2</td>\n",
       "    </tr>\n",
       "    <tr>\n",
       "      <th>2</th>\n",
       "      <td>5500</td>\n",
       "      <td>2013</td>\n",
       "      <td>hyundai sonata</td>\n",
       "      <td>like new</td>\n",
       "      <td>4</td>\n",
       "      <td>gas</td>\n",
       "      <td>110000</td>\n",
       "      <td>automatic</td>\n",
       "      <td>sedan</td>\n",
       "      <td>red</td>\n",
       "      <td>0</td>\n",
       "      <td>2019-02-07</td>\n",
       "      <td>79</td>\n",
       "      <td>3</td>\n",
       "    </tr>\n",
       "    <tr>\n",
       "      <th>3</th>\n",
       "      <td>1500</td>\n",
       "      <td>2003</td>\n",
       "      <td>ford f-150</td>\n",
       "      <td>fair</td>\n",
       "      <td>8</td>\n",
       "      <td>gas</td>\n",
       "      <td>162072</td>\n",
       "      <td>automatic</td>\n",
       "      <td>pickup</td>\n",
       "      <td>other</td>\n",
       "      <td>0</td>\n",
       "      <td>2019-03-22</td>\n",
       "      <td>9</td>\n",
       "      <td>1</td>\n",
       "    </tr>\n",
       "    <tr>\n",
       "      <th>4</th>\n",
       "      <td>14900</td>\n",
       "      <td>2017</td>\n",
       "      <td>chrysler 200</td>\n",
       "      <td>excellent</td>\n",
       "      <td>4</td>\n",
       "      <td>gas</td>\n",
       "      <td>80903</td>\n",
       "      <td>automatic</td>\n",
       "      <td>sedan</td>\n",
       "      <td>black</td>\n",
       "      <td>0</td>\n",
       "      <td>2019-04-02</td>\n",
       "      <td>28</td>\n",
       "      <td>4</td>\n",
       "    </tr>\n",
       "  </tbody>\n",
       "</table>\n",
       "</div>"
      ],
      "text/plain": [
       "   price  model_year           model  condition  cylinders fuel  odometer  \\\n",
       "0   9400        2011          bmw x5       good          6  gas    145000   \n",
       "1  25500        2009      ford f-150       good          6  gas     88705   \n",
       "2   5500        2013  hyundai sonata   like new          4  gas    110000   \n",
       "3   1500        2003      ford f-150       fair          8  gas    162072   \n",
       "4  14900        2017    chrysler 200  excellent          4  gas     80903   \n",
       "\n",
       "  transmission    type paint_color  is_4wd date_posted  days_listed  \\\n",
       "0    automatic     SUV       other       1  2018-06-23           19   \n",
       "1    automatic  pickup       white       1  2018-10-19           50   \n",
       "2    automatic   sedan         red       0  2019-02-07           79   \n",
       "3    automatic  pickup       other       0  2019-03-22            9   \n",
       "4    automatic   sedan       black       0  2019-04-02           28   \n",
       "\n",
       "   paint_category  \n",
       "0               1  \n",
       "1               2  \n",
       "2               3  \n",
       "3               1  \n",
       "4               4  "
      ]
     },
     "execution_count": 36,
     "metadata": {},
     "output_type": "execute_result"
    }
   ],
   "source": [
    "#check the changes\n",
    "car_data_gen.head()"
   ]
  },
  {
   "cell_type": "markdown",
   "metadata": {},
   "source": [
    "## Enrich data"
   ]
  },
  {
   "cell_type": "markdown",
   "metadata": {},
   "source": [
    "[Add additional factors to the data to make the analysis easier.]"
   ]
  },
  {
   "cell_type": "code",
   "execution_count": 37,
   "metadata": {},
   "outputs": [
    {
     "data": {
      "text/html": [
       "<div>\n",
       "<style scoped>\n",
       "    .dataframe tbody tr th:only-of-type {\n",
       "        vertical-align: middle;\n",
       "    }\n",
       "\n",
       "    .dataframe tbody tr th {\n",
       "        vertical-align: top;\n",
       "    }\n",
       "\n",
       "    .dataframe thead th {\n",
       "        text-align: right;\n",
       "    }\n",
       "</style>\n",
       "<table border=\"1\" class=\"dataframe\">\n",
       "  <thead>\n",
       "    <tr style=\"text-align: right;\">\n",
       "      <th></th>\n",
       "      <th>price</th>\n",
       "      <th>model_year</th>\n",
       "      <th>model</th>\n",
       "      <th>condition</th>\n",
       "      <th>cylinders</th>\n",
       "      <th>fuel</th>\n",
       "      <th>odometer</th>\n",
       "      <th>transmission</th>\n",
       "      <th>type</th>\n",
       "      <th>paint_color</th>\n",
       "      <th>is_4wd</th>\n",
       "      <th>date_posted</th>\n",
       "      <th>days_listed</th>\n",
       "      <th>paint_category</th>\n",
       "      <th>day_of_week</th>\n",
       "    </tr>\n",
       "  </thead>\n",
       "  <tbody>\n",
       "    <tr>\n",
       "      <th>0</th>\n",
       "      <td>9400</td>\n",
       "      <td>2011</td>\n",
       "      <td>bmw x5</td>\n",
       "      <td>good</td>\n",
       "      <td>6</td>\n",
       "      <td>gas</td>\n",
       "      <td>145000</td>\n",
       "      <td>automatic</td>\n",
       "      <td>SUV</td>\n",
       "      <td>other</td>\n",
       "      <td>1</td>\n",
       "      <td>2018-06-23</td>\n",
       "      <td>19</td>\n",
       "      <td>1</td>\n",
       "      <td>5</td>\n",
       "    </tr>\n",
       "    <tr>\n",
       "      <th>1</th>\n",
       "      <td>25500</td>\n",
       "      <td>2009</td>\n",
       "      <td>ford f-150</td>\n",
       "      <td>good</td>\n",
       "      <td>6</td>\n",
       "      <td>gas</td>\n",
       "      <td>88705</td>\n",
       "      <td>automatic</td>\n",
       "      <td>pickup</td>\n",
       "      <td>white</td>\n",
       "      <td>1</td>\n",
       "      <td>2018-10-19</td>\n",
       "      <td>50</td>\n",
       "      <td>2</td>\n",
       "      <td>4</td>\n",
       "    </tr>\n",
       "    <tr>\n",
       "      <th>2</th>\n",
       "      <td>5500</td>\n",
       "      <td>2013</td>\n",
       "      <td>hyundai sonata</td>\n",
       "      <td>like new</td>\n",
       "      <td>4</td>\n",
       "      <td>gas</td>\n",
       "      <td>110000</td>\n",
       "      <td>automatic</td>\n",
       "      <td>sedan</td>\n",
       "      <td>red</td>\n",
       "      <td>0</td>\n",
       "      <td>2019-02-07</td>\n",
       "      <td>79</td>\n",
       "      <td>3</td>\n",
       "      <td>3</td>\n",
       "    </tr>\n",
       "    <tr>\n",
       "      <th>3</th>\n",
       "      <td>1500</td>\n",
       "      <td>2003</td>\n",
       "      <td>ford f-150</td>\n",
       "      <td>fair</td>\n",
       "      <td>8</td>\n",
       "      <td>gas</td>\n",
       "      <td>162072</td>\n",
       "      <td>automatic</td>\n",
       "      <td>pickup</td>\n",
       "      <td>other</td>\n",
       "      <td>0</td>\n",
       "      <td>2019-03-22</td>\n",
       "      <td>9</td>\n",
       "      <td>1</td>\n",
       "      <td>4</td>\n",
       "    </tr>\n",
       "    <tr>\n",
       "      <th>4</th>\n",
       "      <td>14900</td>\n",
       "      <td>2017</td>\n",
       "      <td>chrysler 200</td>\n",
       "      <td>excellent</td>\n",
       "      <td>4</td>\n",
       "      <td>gas</td>\n",
       "      <td>80903</td>\n",
       "      <td>automatic</td>\n",
       "      <td>sedan</td>\n",
       "      <td>black</td>\n",
       "      <td>0</td>\n",
       "      <td>2019-04-02</td>\n",
       "      <td>28</td>\n",
       "      <td>4</td>\n",
       "      <td>1</td>\n",
       "    </tr>\n",
       "  </tbody>\n",
       "</table>\n",
       "</div>"
      ],
      "text/plain": [
       "   price  model_year           model  condition  cylinders fuel  odometer  \\\n",
       "0   9400        2011          bmw x5       good          6  gas    145000   \n",
       "1  25500        2009      ford f-150       good          6  gas     88705   \n",
       "2   5500        2013  hyundai sonata   like new          4  gas    110000   \n",
       "3   1500        2003      ford f-150       fair          8  gas    162072   \n",
       "4  14900        2017    chrysler 200  excellent          4  gas     80903   \n",
       "\n",
       "  transmission    type paint_color  is_4wd date_posted  days_listed  \\\n",
       "0    automatic     SUV       other       1  2018-06-23           19   \n",
       "1    automatic  pickup       white       1  2018-10-19           50   \n",
       "2    automatic   sedan         red       0  2019-02-07           79   \n",
       "3    automatic  pickup       other       0  2019-03-22            9   \n",
       "4    automatic   sedan       black       0  2019-04-02           28   \n",
       "\n",
       "   paint_category  day_of_week  \n",
       "0               1            5  \n",
       "1               2            4  \n",
       "2               3            3  \n",
       "3               1            4  \n",
       "4               4            1  "
      ]
     },
     "execution_count": 37,
     "metadata": {},
     "output_type": "execute_result"
    }
   ],
   "source": [
    "# Add datetime values for when the ad was placed\n",
    "#using lambda expression to add the new 'day_of_week' to tha table\n",
    "\n",
    "car_data_gen['day_of_week'] = car_data_gen['date_posted'].dt.dayofweek\n",
    "\n",
    "car_data_gen.head()\n"
   ]
  },
  {
   "cell_type": "code",
   "execution_count": 38,
   "metadata": {},
   "outputs": [
    {
     "data": {
      "text/html": [
       "<div>\n",
       "<style scoped>\n",
       "    .dataframe tbody tr th:only-of-type {\n",
       "        vertical-align: middle;\n",
       "    }\n",
       "\n",
       "    .dataframe tbody tr th {\n",
       "        vertical-align: top;\n",
       "    }\n",
       "\n",
       "    .dataframe thead th {\n",
       "        text-align: right;\n",
       "    }\n",
       "</style>\n",
       "<table border=\"1\" class=\"dataframe\">\n",
       "  <thead>\n",
       "    <tr style=\"text-align: right;\">\n",
       "      <th></th>\n",
       "      <th>price</th>\n",
       "      <th>model_year</th>\n",
       "      <th>model</th>\n",
       "      <th>condition</th>\n",
       "      <th>cylinders</th>\n",
       "      <th>fuel</th>\n",
       "      <th>odometer</th>\n",
       "      <th>transmission</th>\n",
       "      <th>type</th>\n",
       "      <th>paint_color</th>\n",
       "      <th>is_4wd</th>\n",
       "      <th>date_posted</th>\n",
       "      <th>days_listed</th>\n",
       "      <th>paint_category</th>\n",
       "      <th>day_of_week</th>\n",
       "      <th>car_age</th>\n",
       "    </tr>\n",
       "  </thead>\n",
       "  <tbody>\n",
       "    <tr>\n",
       "      <th>0</th>\n",
       "      <td>9400</td>\n",
       "      <td>2011</td>\n",
       "      <td>bmw x5</td>\n",
       "      <td>good</td>\n",
       "      <td>6</td>\n",
       "      <td>gas</td>\n",
       "      <td>145000</td>\n",
       "      <td>automatic</td>\n",
       "      <td>SUV</td>\n",
       "      <td>other</td>\n",
       "      <td>1</td>\n",
       "      <td>2018-06-23</td>\n",
       "      <td>19</td>\n",
       "      <td>1</td>\n",
       "      <td>5</td>\n",
       "      <td>7</td>\n",
       "    </tr>\n",
       "    <tr>\n",
       "      <th>1</th>\n",
       "      <td>25500</td>\n",
       "      <td>2009</td>\n",
       "      <td>ford f-150</td>\n",
       "      <td>good</td>\n",
       "      <td>6</td>\n",
       "      <td>gas</td>\n",
       "      <td>88705</td>\n",
       "      <td>automatic</td>\n",
       "      <td>pickup</td>\n",
       "      <td>white</td>\n",
       "      <td>1</td>\n",
       "      <td>2018-10-19</td>\n",
       "      <td>50</td>\n",
       "      <td>2</td>\n",
       "      <td>4</td>\n",
       "      <td>9</td>\n",
       "    </tr>\n",
       "    <tr>\n",
       "      <th>2</th>\n",
       "      <td>5500</td>\n",
       "      <td>2013</td>\n",
       "      <td>hyundai sonata</td>\n",
       "      <td>like new</td>\n",
       "      <td>4</td>\n",
       "      <td>gas</td>\n",
       "      <td>110000</td>\n",
       "      <td>automatic</td>\n",
       "      <td>sedan</td>\n",
       "      <td>red</td>\n",
       "      <td>0</td>\n",
       "      <td>2019-02-07</td>\n",
       "      <td>79</td>\n",
       "      <td>3</td>\n",
       "      <td>3</td>\n",
       "      <td>6</td>\n",
       "    </tr>\n",
       "    <tr>\n",
       "      <th>3</th>\n",
       "      <td>1500</td>\n",
       "      <td>2003</td>\n",
       "      <td>ford f-150</td>\n",
       "      <td>fair</td>\n",
       "      <td>8</td>\n",
       "      <td>gas</td>\n",
       "      <td>162072</td>\n",
       "      <td>automatic</td>\n",
       "      <td>pickup</td>\n",
       "      <td>other</td>\n",
       "      <td>0</td>\n",
       "      <td>2019-03-22</td>\n",
       "      <td>9</td>\n",
       "      <td>1</td>\n",
       "      <td>4</td>\n",
       "      <td>16</td>\n",
       "    </tr>\n",
       "    <tr>\n",
       "      <th>4</th>\n",
       "      <td>14900</td>\n",
       "      <td>2017</td>\n",
       "      <td>chrysler 200</td>\n",
       "      <td>excellent</td>\n",
       "      <td>4</td>\n",
       "      <td>gas</td>\n",
       "      <td>80903</td>\n",
       "      <td>automatic</td>\n",
       "      <td>sedan</td>\n",
       "      <td>black</td>\n",
       "      <td>0</td>\n",
       "      <td>2019-04-02</td>\n",
       "      <td>28</td>\n",
       "      <td>4</td>\n",
       "      <td>1</td>\n",
       "      <td>2</td>\n",
       "    </tr>\n",
       "  </tbody>\n",
       "</table>\n",
       "</div>"
      ],
      "text/plain": [
       "   price  model_year           model  condition  cylinders fuel  odometer  \\\n",
       "0   9400        2011          bmw x5       good          6  gas    145000   \n",
       "1  25500        2009      ford f-150       good          6  gas     88705   \n",
       "2   5500        2013  hyundai sonata   like new          4  gas    110000   \n",
       "3   1500        2003      ford f-150       fair          8  gas    162072   \n",
       "4  14900        2017    chrysler 200  excellent          4  gas     80903   \n",
       "\n",
       "  transmission    type paint_color  is_4wd date_posted  days_listed  \\\n",
       "0    automatic     SUV       other       1  2018-06-23           19   \n",
       "1    automatic  pickup       white       1  2018-10-19           50   \n",
       "2    automatic   sedan         red       0  2019-02-07           79   \n",
       "3    automatic  pickup       other       0  2019-03-22            9   \n",
       "4    automatic   sedan       black       0  2019-04-02           28   \n",
       "\n",
       "   paint_category  day_of_week  car_age  \n",
       "0               1            5        7  \n",
       "1               2            4        9  \n",
       "2               3            3        6  \n",
       "3               1            4       16  \n",
       "4               4            1        2  "
      ]
     },
     "execution_count": 38,
     "metadata": {},
     "output_type": "execute_result"
    }
   ],
   "source": [
    "# Add the vehicle's age when the ad was placed\n",
    "\n",
    "car_data_gen['car_age'] = (car_data_gen['date_posted'].dt.year - car_data_gen['model_year']).astype('int64')\n",
    "car_data_gen.head()"
   ]
  },
  {
   "cell_type": "code",
   "execution_count": 39,
   "metadata": {},
   "outputs": [
    {
     "data": {
      "text/html": [
       "<div>\n",
       "<style scoped>\n",
       "    .dataframe tbody tr th:only-of-type {\n",
       "        vertical-align: middle;\n",
       "    }\n",
       "\n",
       "    .dataframe tbody tr th {\n",
       "        vertical-align: top;\n",
       "    }\n",
       "\n",
       "    .dataframe thead th {\n",
       "        text-align: right;\n",
       "    }\n",
       "</style>\n",
       "<table border=\"1\" class=\"dataframe\">\n",
       "  <thead>\n",
       "    <tr style=\"text-align: right;\">\n",
       "      <th></th>\n",
       "      <th>price</th>\n",
       "      <th>model_year</th>\n",
       "      <th>model</th>\n",
       "      <th>condition</th>\n",
       "      <th>cylinders</th>\n",
       "      <th>fuel</th>\n",
       "      <th>odometer</th>\n",
       "      <th>transmission</th>\n",
       "      <th>type</th>\n",
       "      <th>paint_color</th>\n",
       "      <th>is_4wd</th>\n",
       "      <th>date_posted</th>\n",
       "      <th>days_listed</th>\n",
       "      <th>paint_category</th>\n",
       "      <th>day_of_week</th>\n",
       "      <th>car_age</th>\n",
       "      <th>avg_mileage</th>\n",
       "    </tr>\n",
       "  </thead>\n",
       "  <tbody>\n",
       "    <tr>\n",
       "      <th>0</th>\n",
       "      <td>9400</td>\n",
       "      <td>2011</td>\n",
       "      <td>bmw x5</td>\n",
       "      <td>good</td>\n",
       "      <td>6</td>\n",
       "      <td>gas</td>\n",
       "      <td>145000</td>\n",
       "      <td>automatic</td>\n",
       "      <td>SUV</td>\n",
       "      <td>other</td>\n",
       "      <td>1</td>\n",
       "      <td>2018-06-23</td>\n",
       "      <td>19</td>\n",
       "      <td>1</td>\n",
       "      <td>5</td>\n",
       "      <td>7</td>\n",
       "      <td>20714.0</td>\n",
       "    </tr>\n",
       "    <tr>\n",
       "      <th>1</th>\n",
       "      <td>25500</td>\n",
       "      <td>2009</td>\n",
       "      <td>ford f-150</td>\n",
       "      <td>good</td>\n",
       "      <td>6</td>\n",
       "      <td>gas</td>\n",
       "      <td>88705</td>\n",
       "      <td>automatic</td>\n",
       "      <td>pickup</td>\n",
       "      <td>white</td>\n",
       "      <td>1</td>\n",
       "      <td>2018-10-19</td>\n",
       "      <td>50</td>\n",
       "      <td>2</td>\n",
       "      <td>4</td>\n",
       "      <td>9</td>\n",
       "      <td>9856.0</td>\n",
       "    </tr>\n",
       "    <tr>\n",
       "      <th>2</th>\n",
       "      <td>5500</td>\n",
       "      <td>2013</td>\n",
       "      <td>hyundai sonata</td>\n",
       "      <td>like new</td>\n",
       "      <td>4</td>\n",
       "      <td>gas</td>\n",
       "      <td>110000</td>\n",
       "      <td>automatic</td>\n",
       "      <td>sedan</td>\n",
       "      <td>red</td>\n",
       "      <td>0</td>\n",
       "      <td>2019-02-07</td>\n",
       "      <td>79</td>\n",
       "      <td>3</td>\n",
       "      <td>3</td>\n",
       "      <td>6</td>\n",
       "      <td>18333.0</td>\n",
       "    </tr>\n",
       "    <tr>\n",
       "      <th>3</th>\n",
       "      <td>1500</td>\n",
       "      <td>2003</td>\n",
       "      <td>ford f-150</td>\n",
       "      <td>fair</td>\n",
       "      <td>8</td>\n",
       "      <td>gas</td>\n",
       "      <td>162072</td>\n",
       "      <td>automatic</td>\n",
       "      <td>pickup</td>\n",
       "      <td>other</td>\n",
       "      <td>0</td>\n",
       "      <td>2019-03-22</td>\n",
       "      <td>9</td>\n",
       "      <td>1</td>\n",
       "      <td>4</td>\n",
       "      <td>16</td>\n",
       "      <td>10130.0</td>\n",
       "    </tr>\n",
       "    <tr>\n",
       "      <th>4</th>\n",
       "      <td>14900</td>\n",
       "      <td>2017</td>\n",
       "      <td>chrysler 200</td>\n",
       "      <td>excellent</td>\n",
       "      <td>4</td>\n",
       "      <td>gas</td>\n",
       "      <td>80903</td>\n",
       "      <td>automatic</td>\n",
       "      <td>sedan</td>\n",
       "      <td>black</td>\n",
       "      <td>0</td>\n",
       "      <td>2019-04-02</td>\n",
       "      <td>28</td>\n",
       "      <td>4</td>\n",
       "      <td>1</td>\n",
       "      <td>2</td>\n",
       "      <td>40452.0</td>\n",
       "    </tr>\n",
       "  </tbody>\n",
       "</table>\n",
       "</div>"
      ],
      "text/plain": [
       "   price  model_year           model  condition  cylinders fuel  odometer  \\\n",
       "0   9400        2011          bmw x5       good          6  gas    145000   \n",
       "1  25500        2009      ford f-150       good          6  gas     88705   \n",
       "2   5500        2013  hyundai sonata   like new          4  gas    110000   \n",
       "3   1500        2003      ford f-150       fair          8  gas    162072   \n",
       "4  14900        2017    chrysler 200  excellent          4  gas     80903   \n",
       "\n",
       "  transmission    type paint_color  is_4wd date_posted  days_listed  \\\n",
       "0    automatic     SUV       other       1  2018-06-23           19   \n",
       "1    automatic  pickup       white       1  2018-10-19           50   \n",
       "2    automatic   sedan         red       0  2019-02-07           79   \n",
       "3    automatic  pickup       other       0  2019-03-22            9   \n",
       "4    automatic   sedan       black       0  2019-04-02           28   \n",
       "\n",
       "   paint_category  day_of_week  car_age  avg_mileage  \n",
       "0               1            5        7      20714.0  \n",
       "1               2            4        9       9856.0  \n",
       "2               3            3        6      18333.0  \n",
       "3               1            4       16      10130.0  \n",
       "4               4            1        2      40452.0  "
      ]
     },
     "execution_count": 39,
     "metadata": {},
     "output_type": "execute_result"
    }
   ],
   "source": [
    "# Add the vehicle's average mileage per year\n",
    "car_data_gen['avg_mileage'] = round((car_data_gen['odometer'] / car_data_gen['car_age'])).astype('float64')\n",
    "car_data_gen.head()"
   ]
  },
  {
   "cell_type": "code",
   "execution_count": 40,
   "metadata": {},
   "outputs": [
    {
     "data": {
      "text/plain": [
       "array(['good', 'like new', 'fair', 'excellent', 'salvage', 'new'],\n",
       "      dtype=object)"
      ]
     },
     "execution_count": 40,
     "metadata": {},
     "output_type": "execute_result"
    }
   ],
   "source": [
    "#checking to see if category will make it easier on condition manipulation \n",
    "car_data_gen['condition'].unique() "
   ]
  },
  {
   "cell_type": "code",
   "execution_count": 41,
   "metadata": {},
   "outputs": [
    {
     "data": {
      "text/html": [
       "<div>\n",
       "<style scoped>\n",
       "    .dataframe tbody tr th:only-of-type {\n",
       "        vertical-align: middle;\n",
       "    }\n",
       "\n",
       "    .dataframe tbody tr th {\n",
       "        vertical-align: top;\n",
       "    }\n",
       "\n",
       "    .dataframe thead th {\n",
       "        text-align: right;\n",
       "    }\n",
       "</style>\n",
       "<table border=\"1\" class=\"dataframe\">\n",
       "  <thead>\n",
       "    <tr style=\"text-align: right;\">\n",
       "      <th></th>\n",
       "      <th>price</th>\n",
       "      <th>model_year</th>\n",
       "      <th>model</th>\n",
       "      <th>condition</th>\n",
       "      <th>cylinders</th>\n",
       "      <th>fuel</th>\n",
       "      <th>odometer</th>\n",
       "      <th>transmission</th>\n",
       "      <th>type</th>\n",
       "      <th>paint_color</th>\n",
       "      <th>is_4wd</th>\n",
       "      <th>date_posted</th>\n",
       "      <th>days_listed</th>\n",
       "      <th>paint_category</th>\n",
       "      <th>day_of_week</th>\n",
       "      <th>car_age</th>\n",
       "      <th>avg_mileage</th>\n",
       "    </tr>\n",
       "  </thead>\n",
       "  <tbody>\n",
       "    <tr>\n",
       "      <th>0</th>\n",
       "      <td>9400</td>\n",
       "      <td>2011</td>\n",
       "      <td>bmw x5</td>\n",
       "      <td>2</td>\n",
       "      <td>6</td>\n",
       "      <td>gas</td>\n",
       "      <td>145000</td>\n",
       "      <td>automatic</td>\n",
       "      <td>SUV</td>\n",
       "      <td>other</td>\n",
       "      <td>1</td>\n",
       "      <td>2018-06-23</td>\n",
       "      <td>19</td>\n",
       "      <td>1</td>\n",
       "      <td>5</td>\n",
       "      <td>7</td>\n",
       "      <td>20714.0</td>\n",
       "    </tr>\n",
       "    <tr>\n",
       "      <th>1</th>\n",
       "      <td>25500</td>\n",
       "      <td>2009</td>\n",
       "      <td>ford f-150</td>\n",
       "      <td>2</td>\n",
       "      <td>6</td>\n",
       "      <td>gas</td>\n",
       "      <td>88705</td>\n",
       "      <td>automatic</td>\n",
       "      <td>pickup</td>\n",
       "      <td>white</td>\n",
       "      <td>1</td>\n",
       "      <td>2018-10-19</td>\n",
       "      <td>50</td>\n",
       "      <td>2</td>\n",
       "      <td>4</td>\n",
       "      <td>9</td>\n",
       "      <td>9856.0</td>\n",
       "    </tr>\n",
       "    <tr>\n",
       "      <th>2</th>\n",
       "      <td>5500</td>\n",
       "      <td>2013</td>\n",
       "      <td>hyundai sonata</td>\n",
       "      <td>4</td>\n",
       "      <td>4</td>\n",
       "      <td>gas</td>\n",
       "      <td>110000</td>\n",
       "      <td>automatic</td>\n",
       "      <td>sedan</td>\n",
       "      <td>red</td>\n",
       "      <td>0</td>\n",
       "      <td>2019-02-07</td>\n",
       "      <td>79</td>\n",
       "      <td>3</td>\n",
       "      <td>3</td>\n",
       "      <td>6</td>\n",
       "      <td>18333.0</td>\n",
       "    </tr>\n",
       "    <tr>\n",
       "      <th>3</th>\n",
       "      <td>1500</td>\n",
       "      <td>2003</td>\n",
       "      <td>ford f-150</td>\n",
       "      <td>1</td>\n",
       "      <td>8</td>\n",
       "      <td>gas</td>\n",
       "      <td>162072</td>\n",
       "      <td>automatic</td>\n",
       "      <td>pickup</td>\n",
       "      <td>other</td>\n",
       "      <td>0</td>\n",
       "      <td>2019-03-22</td>\n",
       "      <td>9</td>\n",
       "      <td>1</td>\n",
       "      <td>4</td>\n",
       "      <td>16</td>\n",
       "      <td>10130.0</td>\n",
       "    </tr>\n",
       "    <tr>\n",
       "      <th>4</th>\n",
       "      <td>14900</td>\n",
       "      <td>2017</td>\n",
       "      <td>chrysler 200</td>\n",
       "      <td>3</td>\n",
       "      <td>4</td>\n",
       "      <td>gas</td>\n",
       "      <td>80903</td>\n",
       "      <td>automatic</td>\n",
       "      <td>sedan</td>\n",
       "      <td>black</td>\n",
       "      <td>0</td>\n",
       "      <td>2019-04-02</td>\n",
       "      <td>28</td>\n",
       "      <td>4</td>\n",
       "      <td>1</td>\n",
       "      <td>2</td>\n",
       "      <td>40452.0</td>\n",
       "    </tr>\n",
       "  </tbody>\n",
       "</table>\n",
       "</div>"
      ],
      "text/plain": [
       "   price  model_year           model  condition  cylinders fuel  odometer  \\\n",
       "0   9400        2011          bmw x5          2          6  gas    145000   \n",
       "1  25500        2009      ford f-150          2          6  gas     88705   \n",
       "2   5500        2013  hyundai sonata          4          4  gas    110000   \n",
       "3   1500        2003      ford f-150          1          8  gas    162072   \n",
       "4  14900        2017    chrysler 200          3          4  gas     80903   \n",
       "\n",
       "  transmission    type paint_color  is_4wd date_posted  days_listed  \\\n",
       "0    automatic     SUV       other       1  2018-06-23           19   \n",
       "1    automatic  pickup       white       1  2018-10-19           50   \n",
       "2    automatic   sedan         red       0  2019-02-07           79   \n",
       "3    automatic  pickup       other       0  2019-03-22            9   \n",
       "4    automatic   sedan       black       0  2019-04-02           28   \n",
       "\n",
       "   paint_category  day_of_week  car_age  avg_mileage  \n",
       "0               1            5        7      20714.0  \n",
       "1               2            4        9       9856.0  \n",
       "2               3            3        6      18333.0  \n",
       "3               1            4       16      10130.0  \n",
       "4               4            1        2      40452.0  "
      ]
     },
     "execution_count": 41,
     "metadata": {},
     "output_type": "execute_result"
    }
   ],
   "source": [
    "#replacing 'condition' values with category numeric values (5-new to 0-salvage), something that can be manipulated more easily\n",
    "def condition_category(row):\n",
    "    if row['condition'].lower() == 'new':\n",
    "        return (5)\n",
    "    elif row['condition'].lower() == 'like new':\n",
    "        return (4)\n",
    "    elif row['condition'].lower() == 'excellent':\n",
    "        return (3)\n",
    "    elif row['condition'].lower() == 'good':\n",
    "        return (2)\n",
    "    elif row['condition'].lower() == 'fair':\n",
    "        return (1)\n",
    "    elif row['condition'].lower() == 'salvage':\n",
    "        return (0)\n",
    "\n",
    "car_data_gen['condition'] = car_data_gen.apply(condition_category , axis=1)\n",
    "\n",
    "car_data_gen.head()\n",
    "\n"
   ]
  },
  {
   "cell_type": "markdown",
   "metadata": {},
   "source": [
    "## Checking for duplicates\n",
    "After filling the missing data we now will check for any duplicated data."
   ]
  },
  {
   "cell_type": "code",
   "execution_count": 42,
   "metadata": {},
   "outputs": [
    {
     "name": "stdout",
     "output_type": "stream",
     "text": [
      "0\n"
     ]
    }
   ],
   "source": [
    "print(len(car_data_gen.loc[(car_data_gen.duplicated())]))"
   ]
  },
  {
   "cell_type": "markdown",
   "metadata": {},
   "source": [
    "**There are no duplicated data** \n",
    "\n",
    "We moove to the data analyses.\n"
   ]
  },
  {
   "cell_type": "markdown",
   "metadata": {},
   "source": [
    "## Rename columns\n",
    "\n",
    "We have columns with not so understanable names : 'odometer', 'is_4wd' , 'day_of_week'\n",
    "need to be : 'mileage' and 'has_4wd', 'weekday_posted_on'"
   ]
  },
  {
   "cell_type": "code",
   "execution_count": 43,
   "metadata": {},
   "outputs": [
    {
     "data": {
      "text/html": [
       "<div>\n",
       "<style scoped>\n",
       "    .dataframe tbody tr th:only-of-type {\n",
       "        vertical-align: middle;\n",
       "    }\n",
       "\n",
       "    .dataframe tbody tr th {\n",
       "        vertical-align: top;\n",
       "    }\n",
       "\n",
       "    .dataframe thead th {\n",
       "        text-align: right;\n",
       "    }\n",
       "</style>\n",
       "<table border=\"1\" class=\"dataframe\">\n",
       "  <thead>\n",
       "    <tr style=\"text-align: right;\">\n",
       "      <th></th>\n",
       "      <th>price</th>\n",
       "      <th>model_year</th>\n",
       "      <th>model</th>\n",
       "      <th>condition</th>\n",
       "      <th>cylinders</th>\n",
       "      <th>fuel</th>\n",
       "      <th>mileage</th>\n",
       "      <th>transmission</th>\n",
       "      <th>type</th>\n",
       "      <th>paint_color</th>\n",
       "      <th>has_4wd</th>\n",
       "      <th>date_posted</th>\n",
       "      <th>days_listed</th>\n",
       "      <th>paint_category</th>\n",
       "      <th>weekday_posted_on</th>\n",
       "      <th>car_age</th>\n",
       "      <th>avg_mileage</th>\n",
       "    </tr>\n",
       "  </thead>\n",
       "  <tbody>\n",
       "    <tr>\n",
       "      <th>0</th>\n",
       "      <td>9400</td>\n",
       "      <td>2011</td>\n",
       "      <td>bmw x5</td>\n",
       "      <td>2</td>\n",
       "      <td>6</td>\n",
       "      <td>gas</td>\n",
       "      <td>145000</td>\n",
       "      <td>automatic</td>\n",
       "      <td>SUV</td>\n",
       "      <td>other</td>\n",
       "      <td>1</td>\n",
       "      <td>2018-06-23</td>\n",
       "      <td>19</td>\n",
       "      <td>1</td>\n",
       "      <td>5</td>\n",
       "      <td>7</td>\n",
       "      <td>20714.0</td>\n",
       "    </tr>\n",
       "    <tr>\n",
       "      <th>1</th>\n",
       "      <td>25500</td>\n",
       "      <td>2009</td>\n",
       "      <td>ford f-150</td>\n",
       "      <td>2</td>\n",
       "      <td>6</td>\n",
       "      <td>gas</td>\n",
       "      <td>88705</td>\n",
       "      <td>automatic</td>\n",
       "      <td>pickup</td>\n",
       "      <td>white</td>\n",
       "      <td>1</td>\n",
       "      <td>2018-10-19</td>\n",
       "      <td>50</td>\n",
       "      <td>2</td>\n",
       "      <td>4</td>\n",
       "      <td>9</td>\n",
       "      <td>9856.0</td>\n",
       "    </tr>\n",
       "    <tr>\n",
       "      <th>2</th>\n",
       "      <td>5500</td>\n",
       "      <td>2013</td>\n",
       "      <td>hyundai sonata</td>\n",
       "      <td>4</td>\n",
       "      <td>4</td>\n",
       "      <td>gas</td>\n",
       "      <td>110000</td>\n",
       "      <td>automatic</td>\n",
       "      <td>sedan</td>\n",
       "      <td>red</td>\n",
       "      <td>0</td>\n",
       "      <td>2019-02-07</td>\n",
       "      <td>79</td>\n",
       "      <td>3</td>\n",
       "      <td>3</td>\n",
       "      <td>6</td>\n",
       "      <td>18333.0</td>\n",
       "    </tr>\n",
       "    <tr>\n",
       "      <th>3</th>\n",
       "      <td>1500</td>\n",
       "      <td>2003</td>\n",
       "      <td>ford f-150</td>\n",
       "      <td>1</td>\n",
       "      <td>8</td>\n",
       "      <td>gas</td>\n",
       "      <td>162072</td>\n",
       "      <td>automatic</td>\n",
       "      <td>pickup</td>\n",
       "      <td>other</td>\n",
       "      <td>0</td>\n",
       "      <td>2019-03-22</td>\n",
       "      <td>9</td>\n",
       "      <td>1</td>\n",
       "      <td>4</td>\n",
       "      <td>16</td>\n",
       "      <td>10130.0</td>\n",
       "    </tr>\n",
       "    <tr>\n",
       "      <th>4</th>\n",
       "      <td>14900</td>\n",
       "      <td>2017</td>\n",
       "      <td>chrysler 200</td>\n",
       "      <td>3</td>\n",
       "      <td>4</td>\n",
       "      <td>gas</td>\n",
       "      <td>80903</td>\n",
       "      <td>automatic</td>\n",
       "      <td>sedan</td>\n",
       "      <td>black</td>\n",
       "      <td>0</td>\n",
       "      <td>2019-04-02</td>\n",
       "      <td>28</td>\n",
       "      <td>4</td>\n",
       "      <td>1</td>\n",
       "      <td>2</td>\n",
       "      <td>40452.0</td>\n",
       "    </tr>\n",
       "  </tbody>\n",
       "</table>\n",
       "</div>"
      ],
      "text/plain": [
       "   price  model_year           model  condition  cylinders fuel  mileage  \\\n",
       "0   9400        2011          bmw x5          2          6  gas   145000   \n",
       "1  25500        2009      ford f-150          2          6  gas    88705   \n",
       "2   5500        2013  hyundai sonata          4          4  gas   110000   \n",
       "3   1500        2003      ford f-150          1          8  gas   162072   \n",
       "4  14900        2017    chrysler 200          3          4  gas    80903   \n",
       "\n",
       "  transmission    type paint_color  has_4wd date_posted  days_listed  \\\n",
       "0    automatic     SUV       other        1  2018-06-23           19   \n",
       "1    automatic  pickup       white        1  2018-10-19           50   \n",
       "2    automatic   sedan         red        0  2019-02-07           79   \n",
       "3    automatic  pickup       other        0  2019-03-22            9   \n",
       "4    automatic   sedan       black        0  2019-04-02           28   \n",
       "\n",
       "   paint_category  weekday_posted_on  car_age  avg_mileage  \n",
       "0               1                  5        7      20714.0  \n",
       "1               2                  4        9       9856.0  \n",
       "2               3                  3        6      18333.0  \n",
       "3               1                  4       16      10130.0  \n",
       "4               4                  1        2      40452.0  "
      ]
     },
     "execution_count": 43,
     "metadata": {},
     "output_type": "execute_result"
    }
   ],
   "source": [
    "car_data_gen.rename(columns={'odometer':'mileage' , 'is_4wd':'has_4wd', 'day_of_week':'weekday_posted_on'},inplace=True)\n",
    "car_data_gen.head()"
   ]
  },
  {
   "cell_type": "markdown",
   "metadata": {},
   "source": [
    "## Check clean data"
   ]
  },
  {
   "cell_type": "code",
   "execution_count": 44,
   "metadata": {},
   "outputs": [
    {
     "name": "stdout",
     "output_type": "stream",
     "text": [
      "<class 'pandas.core.frame.DataFrame'>\n",
      "Int64Index: 51524 entries, 0 to 51524\n",
      "Data columns (total 17 columns):\n",
      " #   Column             Non-Null Count  Dtype         \n",
      "---  ------             --------------  -----         \n",
      " 0   price              51524 non-null  int64         \n",
      " 1   model_year         51524 non-null  int64         \n",
      " 2   model              51524 non-null  object        \n",
      " 3   condition          51524 non-null  int64         \n",
      " 4   cylinders          51524 non-null  int64         \n",
      " 5   fuel               51524 non-null  object        \n",
      " 6   mileage            51524 non-null  int64         \n",
      " 7   transmission       51524 non-null  object        \n",
      " 8   type               51524 non-null  object        \n",
      " 9   paint_color        51524 non-null  object        \n",
      " 10  has_4wd            51524 non-null  int64         \n",
      " 11  date_posted        51524 non-null  datetime64[ns]\n",
      " 12  days_listed        51524 non-null  int64         \n",
      " 13  paint_category     51524 non-null  int64         \n",
      " 14  weekday_posted_on  51524 non-null  int64         \n",
      " 15  car_age            51524 non-null  int64         \n",
      " 16  avg_mileage        51522 non-null  float64       \n",
      "dtypes: datetime64[ns](1), float64(1), int64(10), object(5)\n",
      "memory usage: 7.1+ MB\n"
     ]
    }
   ],
   "source": [
    "#General info on the data we cleaned and made ready for analises\n",
    "car_data_gen.info()"
   ]
  },
  {
   "cell_type": "code",
   "execution_count": 45,
   "metadata": {
    "scrolled": true
   },
   "outputs": [
    {
     "data": {
      "text/html": [
       "<div>\n",
       "<style scoped>\n",
       "    .dataframe tbody tr th:only-of-type {\n",
       "        vertical-align: middle;\n",
       "    }\n",
       "\n",
       "    .dataframe tbody tr th {\n",
       "        vertical-align: top;\n",
       "    }\n",
       "\n",
       "    .dataframe thead th {\n",
       "        text-align: right;\n",
       "    }\n",
       "</style>\n",
       "<table border=\"1\" class=\"dataframe\">\n",
       "  <thead>\n",
       "    <tr style=\"text-align: right;\">\n",
       "      <th></th>\n",
       "      <th>price</th>\n",
       "      <th>model_year</th>\n",
       "      <th>model</th>\n",
       "      <th>condition</th>\n",
       "      <th>cylinders</th>\n",
       "      <th>fuel</th>\n",
       "      <th>mileage</th>\n",
       "      <th>transmission</th>\n",
       "      <th>type</th>\n",
       "      <th>paint_color</th>\n",
       "      <th>has_4wd</th>\n",
       "      <th>date_posted</th>\n",
       "      <th>days_listed</th>\n",
       "      <th>paint_category</th>\n",
       "      <th>weekday_posted_on</th>\n",
       "      <th>car_age</th>\n",
       "      <th>avg_mileage</th>\n",
       "    </tr>\n",
       "  </thead>\n",
       "  <tbody>\n",
       "    <tr>\n",
       "      <th>45978</th>\n",
       "      <td>28990</td>\n",
       "      <td>2011</td>\n",
       "      <td>ford econoline</td>\n",
       "      <td>2</td>\n",
       "      <td>10</td>\n",
       "      <td>gas</td>\n",
       "      <td>123967</td>\n",
       "      <td>automatic</td>\n",
       "      <td>bus</td>\n",
       "      <td>white</td>\n",
       "      <td>0</td>\n",
       "      <td>2019-01-18</td>\n",
       "      <td>8</td>\n",
       "      <td>2</td>\n",
       "      <td>4</td>\n",
       "      <td>8</td>\n",
       "      <td>15496.0</td>\n",
       "    </tr>\n",
       "    <tr>\n",
       "      <th>26772</th>\n",
       "      <td>2999</td>\n",
       "      <td>2005</td>\n",
       "      <td>jeep liberty</td>\n",
       "      <td>3</td>\n",
       "      <td>6</td>\n",
       "      <td>gas</td>\n",
       "      <td>119406</td>\n",
       "      <td>automatic</td>\n",
       "      <td>SUV</td>\n",
       "      <td>white</td>\n",
       "      <td>0</td>\n",
       "      <td>2018-12-21</td>\n",
       "      <td>60</td>\n",
       "      <td>2</td>\n",
       "      <td>4</td>\n",
       "      <td>13</td>\n",
       "      <td>9185.0</td>\n",
       "    </tr>\n",
       "    <tr>\n",
       "      <th>1769</th>\n",
       "      <td>6995</td>\n",
       "      <td>2006</td>\n",
       "      <td>chevrolet silverado 1500</td>\n",
       "      <td>2</td>\n",
       "      <td>8</td>\n",
       "      <td>gas</td>\n",
       "      <td>190000</td>\n",
       "      <td>automatic</td>\n",
       "      <td>pickup</td>\n",
       "      <td>black</td>\n",
       "      <td>0</td>\n",
       "      <td>2018-12-06</td>\n",
       "      <td>13</td>\n",
       "      <td>4</td>\n",
       "      <td>3</td>\n",
       "      <td>12</td>\n",
       "      <td>15833.0</td>\n",
       "    </tr>\n",
       "    <tr>\n",
       "      <th>3673</th>\n",
       "      <td>17995</td>\n",
       "      <td>2011</td>\n",
       "      <td>ford f150</td>\n",
       "      <td>4</td>\n",
       "      <td>6</td>\n",
       "      <td>gas</td>\n",
       "      <td>117186</td>\n",
       "      <td>automatic</td>\n",
       "      <td>truck</td>\n",
       "      <td>grey</td>\n",
       "      <td>1</td>\n",
       "      <td>2019-04-08</td>\n",
       "      <td>35</td>\n",
       "      <td>6</td>\n",
       "      <td>0</td>\n",
       "      <td>8</td>\n",
       "      <td>14648.0</td>\n",
       "    </tr>\n",
       "    <tr>\n",
       "      <th>44834</th>\n",
       "      <td>5200</td>\n",
       "      <td>2007</td>\n",
       "      <td>honda accord</td>\n",
       "      <td>3</td>\n",
       "      <td>6</td>\n",
       "      <td>gas</td>\n",
       "      <td>142520</td>\n",
       "      <td>automatic</td>\n",
       "      <td>sedan</td>\n",
       "      <td>blue</td>\n",
       "      <td>0</td>\n",
       "      <td>2018-08-18</td>\n",
       "      <td>35</td>\n",
       "      <td>5</td>\n",
       "      <td>5</td>\n",
       "      <td>11</td>\n",
       "      <td>12956.0</td>\n",
       "    </tr>\n",
       "    <tr>\n",
       "      <th>22513</th>\n",
       "      <td>8490</td>\n",
       "      <td>2011</td>\n",
       "      <td>toyota rav4</td>\n",
       "      <td>3</td>\n",
       "      <td>4</td>\n",
       "      <td>gas</td>\n",
       "      <td>152500</td>\n",
       "      <td>automatic</td>\n",
       "      <td>SUV</td>\n",
       "      <td>grey</td>\n",
       "      <td>1</td>\n",
       "      <td>2018-10-18</td>\n",
       "      <td>14</td>\n",
       "      <td>6</td>\n",
       "      <td>3</td>\n",
       "      <td>7</td>\n",
       "      <td>21786.0</td>\n",
       "    </tr>\n",
       "    <tr>\n",
       "      <th>49311</th>\n",
       "      <td>15988</td>\n",
       "      <td>2017</td>\n",
       "      <td>subaru impreza</td>\n",
       "      <td>2</td>\n",
       "      <td>4</td>\n",
       "      <td>gas</td>\n",
       "      <td>35100</td>\n",
       "      <td>automatic</td>\n",
       "      <td>wagon</td>\n",
       "      <td>other</td>\n",
       "      <td>1</td>\n",
       "      <td>2019-02-17</td>\n",
       "      <td>71</td>\n",
       "      <td>1</td>\n",
       "      <td>6</td>\n",
       "      <td>2</td>\n",
       "      <td>17550.0</td>\n",
       "    </tr>\n",
       "    <tr>\n",
       "      <th>38552</th>\n",
       "      <td>56500</td>\n",
       "      <td>2017</td>\n",
       "      <td>ford f-250</td>\n",
       "      <td>3</td>\n",
       "      <td>8</td>\n",
       "      <td>diesel</td>\n",
       "      <td>49800</td>\n",
       "      <td>automatic</td>\n",
       "      <td>truck</td>\n",
       "      <td>black</td>\n",
       "      <td>1</td>\n",
       "      <td>2018-11-14</td>\n",
       "      <td>74</td>\n",
       "      <td>4</td>\n",
       "      <td>2</td>\n",
       "      <td>1</td>\n",
       "      <td>49800.0</td>\n",
       "    </tr>\n",
       "    <tr>\n",
       "      <th>46470</th>\n",
       "      <td>2300</td>\n",
       "      <td>1999</td>\n",
       "      <td>volkswagen jetta</td>\n",
       "      <td>2</td>\n",
       "      <td>4</td>\n",
       "      <td>gas</td>\n",
       "      <td>154000</td>\n",
       "      <td>manual</td>\n",
       "      <td>sedan</td>\n",
       "      <td>red</td>\n",
       "      <td>0</td>\n",
       "      <td>2018-06-03</td>\n",
       "      <td>38</td>\n",
       "      <td>3</td>\n",
       "      <td>6</td>\n",
       "      <td>19</td>\n",
       "      <td>8105.0</td>\n",
       "    </tr>\n",
       "    <tr>\n",
       "      <th>32123</th>\n",
       "      <td>3850</td>\n",
       "      <td>2007</td>\n",
       "      <td>honda odyssey</td>\n",
       "      <td>2</td>\n",
       "      <td>6</td>\n",
       "      <td>gas</td>\n",
       "      <td>142520</td>\n",
       "      <td>automatic</td>\n",
       "      <td>mini-van</td>\n",
       "      <td>blue</td>\n",
       "      <td>0</td>\n",
       "      <td>2018-05-13</td>\n",
       "      <td>3</td>\n",
       "      <td>5</td>\n",
       "      <td>6</td>\n",
       "      <td>11</td>\n",
       "      <td>12956.0</td>\n",
       "    </tr>\n",
       "    <tr>\n",
       "      <th>15609</th>\n",
       "      <td>13700</td>\n",
       "      <td>2018</td>\n",
       "      <td>honda civic</td>\n",
       "      <td>3</td>\n",
       "      <td>4</td>\n",
       "      <td>gas</td>\n",
       "      <td>10900</td>\n",
       "      <td>automatic</td>\n",
       "      <td>sedan</td>\n",
       "      <td>black</td>\n",
       "      <td>0</td>\n",
       "      <td>2018-12-05</td>\n",
       "      <td>39</td>\n",
       "      <td>4</td>\n",
       "      <td>2</td>\n",
       "      <td>0</td>\n",
       "      <td>inf</td>\n",
       "    </tr>\n",
       "    <tr>\n",
       "      <th>7099</th>\n",
       "      <td>6995</td>\n",
       "      <td>2008</td>\n",
       "      <td>toyota highlander</td>\n",
       "      <td>3</td>\n",
       "      <td>6</td>\n",
       "      <td>gas</td>\n",
       "      <td>144427</td>\n",
       "      <td>automatic</td>\n",
       "      <td>SUV</td>\n",
       "      <td>other</td>\n",
       "      <td>1</td>\n",
       "      <td>2019-04-02</td>\n",
       "      <td>30</td>\n",
       "      <td>1</td>\n",
       "      <td>1</td>\n",
       "      <td>11</td>\n",
       "      <td>13130.0</td>\n",
       "    </tr>\n",
       "    <tr>\n",
       "      <th>50988</th>\n",
       "      <td>22495</td>\n",
       "      <td>2017</td>\n",
       "      <td>toyota tacoma</td>\n",
       "      <td>4</td>\n",
       "      <td>4</td>\n",
       "      <td>gas</td>\n",
       "      <td>17776</td>\n",
       "      <td>automatic</td>\n",
       "      <td>truck</td>\n",
       "      <td>black</td>\n",
       "      <td>0</td>\n",
       "      <td>2019-02-07</td>\n",
       "      <td>26</td>\n",
       "      <td>4</td>\n",
       "      <td>3</td>\n",
       "      <td>2</td>\n",
       "      <td>8888.0</td>\n",
       "    </tr>\n",
       "    <tr>\n",
       "      <th>27684</th>\n",
       "      <td>7900</td>\n",
       "      <td>2010</td>\n",
       "      <td>chevrolet silverado 1500</td>\n",
       "      <td>2</td>\n",
       "      <td>8</td>\n",
       "      <td>gas</td>\n",
       "      <td>125849</td>\n",
       "      <td>automatic</td>\n",
       "      <td>truck</td>\n",
       "      <td>white</td>\n",
       "      <td>1</td>\n",
       "      <td>2018-06-11</td>\n",
       "      <td>18</td>\n",
       "      <td>2</td>\n",
       "      <td>0</td>\n",
       "      <td>8</td>\n",
       "      <td>15731.0</td>\n",
       "    </tr>\n",
       "    <tr>\n",
       "      <th>40016</th>\n",
       "      <td>3950</td>\n",
       "      <td>2010</td>\n",
       "      <td>ford explorer</td>\n",
       "      <td>3</td>\n",
       "      <td>6</td>\n",
       "      <td>gas</td>\n",
       "      <td>235689</td>\n",
       "      <td>automatic</td>\n",
       "      <td>wagon</td>\n",
       "      <td>grey</td>\n",
       "      <td>1</td>\n",
       "      <td>2018-11-18</td>\n",
       "      <td>16</td>\n",
       "      <td>6</td>\n",
       "      <td>6</td>\n",
       "      <td>8</td>\n",
       "      <td>29461.0</td>\n",
       "    </tr>\n",
       "    <tr>\n",
       "      <th>39255</th>\n",
       "      <td>22995</td>\n",
       "      <td>2013</td>\n",
       "      <td>ford f-150</td>\n",
       "      <td>3</td>\n",
       "      <td>6</td>\n",
       "      <td>gas</td>\n",
       "      <td>102938</td>\n",
       "      <td>automatic</td>\n",
       "      <td>pickup</td>\n",
       "      <td>other</td>\n",
       "      <td>1</td>\n",
       "      <td>2018-06-28</td>\n",
       "      <td>37</td>\n",
       "      <td>1</td>\n",
       "      <td>3</td>\n",
       "      <td>5</td>\n",
       "      <td>20588.0</td>\n",
       "    </tr>\n",
       "    <tr>\n",
       "      <th>51051</th>\n",
       "      <td>3799</td>\n",
       "      <td>2007</td>\n",
       "      <td>nissan versa</td>\n",
       "      <td>2</td>\n",
       "      <td>4</td>\n",
       "      <td>gas</td>\n",
       "      <td>142520</td>\n",
       "      <td>manual</td>\n",
       "      <td>hatchback</td>\n",
       "      <td>black</td>\n",
       "      <td>0</td>\n",
       "      <td>2018-08-30</td>\n",
       "      <td>53</td>\n",
       "      <td>4</td>\n",
       "      <td>3</td>\n",
       "      <td>11</td>\n",
       "      <td>12956.0</td>\n",
       "    </tr>\n",
       "    <tr>\n",
       "      <th>8442</th>\n",
       "      <td>11250</td>\n",
       "      <td>2004</td>\n",
       "      <td>jeep wrangler</td>\n",
       "      <td>2</td>\n",
       "      <td>6</td>\n",
       "      <td>gas</td>\n",
       "      <td>117465</td>\n",
       "      <td>automatic</td>\n",
       "      <td>SUV</td>\n",
       "      <td>white</td>\n",
       "      <td>1</td>\n",
       "      <td>2018-05-25</td>\n",
       "      <td>55</td>\n",
       "      <td>2</td>\n",
       "      <td>4</td>\n",
       "      <td>14</td>\n",
       "      <td>8390.0</td>\n",
       "    </tr>\n",
       "    <tr>\n",
       "      <th>22940</th>\n",
       "      <td>4850</td>\n",
       "      <td>2009</td>\n",
       "      <td>chevrolet colorado</td>\n",
       "      <td>3</td>\n",
       "      <td>4</td>\n",
       "      <td>gas</td>\n",
       "      <td>109223</td>\n",
       "      <td>manual</td>\n",
       "      <td>truck</td>\n",
       "      <td>red</td>\n",
       "      <td>0</td>\n",
       "      <td>2019-01-09</td>\n",
       "      <td>4</td>\n",
       "      <td>3</td>\n",
       "      <td>2</td>\n",
       "      <td>10</td>\n",
       "      <td>10922.0</td>\n",
       "    </tr>\n",
       "    <tr>\n",
       "      <th>39675</th>\n",
       "      <td>11999</td>\n",
       "      <td>2009</td>\n",
       "      <td>ford f-150</td>\n",
       "      <td>3</td>\n",
       "      <td>8</td>\n",
       "      <td>gas</td>\n",
       "      <td>40067</td>\n",
       "      <td>automatic</td>\n",
       "      <td>pickup</td>\n",
       "      <td>green</td>\n",
       "      <td>0</td>\n",
       "      <td>2019-01-08</td>\n",
       "      <td>9</td>\n",
       "      <td>12</td>\n",
       "      <td>1</td>\n",
       "      <td>10</td>\n",
       "      <td>4007.0</td>\n",
       "    </tr>\n",
       "  </tbody>\n",
       "</table>\n",
       "</div>"
      ],
      "text/plain": [
       "       price  model_year                     model  condition  cylinders  \\\n",
       "45978  28990        2011            ford econoline          2         10   \n",
       "26772   2999        2005              jeep liberty          3          6   \n",
       "1769    6995        2006  chevrolet silverado 1500          2          8   \n",
       "3673   17995        2011                 ford f150          4          6   \n",
       "44834   5200        2007              honda accord          3          6   \n",
       "22513   8490        2011               toyota rav4          3          4   \n",
       "49311  15988        2017            subaru impreza          2          4   \n",
       "38552  56500        2017                ford f-250          3          8   \n",
       "46470   2300        1999          volkswagen jetta          2          4   \n",
       "32123   3850        2007             honda odyssey          2          6   \n",
       "15609  13700        2018               honda civic          3          4   \n",
       "7099    6995        2008         toyota highlander          3          6   \n",
       "50988  22495        2017             toyota tacoma          4          4   \n",
       "27684   7900        2010  chevrolet silverado 1500          2          8   \n",
       "40016   3950        2010             ford explorer          3          6   \n",
       "39255  22995        2013                ford f-150          3          6   \n",
       "51051   3799        2007              nissan versa          2          4   \n",
       "8442   11250        2004             jeep wrangler          2          6   \n",
       "22940   4850        2009        chevrolet colorado          3          4   \n",
       "39675  11999        2009                ford f-150          3          8   \n",
       "\n",
       "         fuel  mileage transmission       type paint_color  has_4wd  \\\n",
       "45978     gas   123967    automatic        bus       white        0   \n",
       "26772     gas   119406    automatic        SUV       white        0   \n",
       "1769      gas   190000    automatic     pickup       black        0   \n",
       "3673      gas   117186    automatic      truck        grey        1   \n",
       "44834     gas   142520    automatic      sedan        blue        0   \n",
       "22513     gas   152500    automatic        SUV        grey        1   \n",
       "49311     gas    35100    automatic      wagon       other        1   \n",
       "38552  diesel    49800    automatic      truck       black        1   \n",
       "46470     gas   154000       manual      sedan         red        0   \n",
       "32123     gas   142520    automatic   mini-van        blue        0   \n",
       "15609     gas    10900    automatic      sedan       black        0   \n",
       "7099      gas   144427    automatic        SUV       other        1   \n",
       "50988     gas    17776    automatic      truck       black        0   \n",
       "27684     gas   125849    automatic      truck       white        1   \n",
       "40016     gas   235689    automatic      wagon        grey        1   \n",
       "39255     gas   102938    automatic     pickup       other        1   \n",
       "51051     gas   142520       manual  hatchback       black        0   \n",
       "8442      gas   117465    automatic        SUV       white        1   \n",
       "22940     gas   109223       manual      truck         red        0   \n",
       "39675     gas    40067    automatic     pickup       green        0   \n",
       "\n",
       "      date_posted  days_listed  paint_category  weekday_posted_on  car_age  \\\n",
       "45978  2019-01-18            8               2                  4        8   \n",
       "26772  2018-12-21           60               2                  4       13   \n",
       "1769   2018-12-06           13               4                  3       12   \n",
       "3673   2019-04-08           35               6                  0        8   \n",
       "44834  2018-08-18           35               5                  5       11   \n",
       "22513  2018-10-18           14               6                  3        7   \n",
       "49311  2019-02-17           71               1                  6        2   \n",
       "38552  2018-11-14           74               4                  2        1   \n",
       "46470  2018-06-03           38               3                  6       19   \n",
       "32123  2018-05-13            3               5                  6       11   \n",
       "15609  2018-12-05           39               4                  2        0   \n",
       "7099   2019-04-02           30               1                  1       11   \n",
       "50988  2019-02-07           26               4                  3        2   \n",
       "27684  2018-06-11           18               2                  0        8   \n",
       "40016  2018-11-18           16               6                  6        8   \n",
       "39255  2018-06-28           37               1                  3        5   \n",
       "51051  2018-08-30           53               4                  3       11   \n",
       "8442   2018-05-25           55               2                  4       14   \n",
       "22940  2019-01-09            4               3                  2       10   \n",
       "39675  2019-01-08            9              12                  1       10   \n",
       "\n",
       "       avg_mileage  \n",
       "45978      15496.0  \n",
       "26772       9185.0  \n",
       "1769       15833.0  \n",
       "3673       14648.0  \n",
       "44834      12956.0  \n",
       "22513      21786.0  \n",
       "49311      17550.0  \n",
       "38552      49800.0  \n",
       "46470       8105.0  \n",
       "32123      12956.0  \n",
       "15609          inf  \n",
       "7099       13130.0  \n",
       "50988       8888.0  \n",
       "27684      15731.0  \n",
       "40016      29461.0  \n",
       "39255      20588.0  \n",
       "51051      12956.0  \n",
       "8442        8390.0  \n",
       "22940      10922.0  \n",
       "39675       4007.0  "
      ]
     },
     "execution_count": 45,
     "metadata": {},
     "output_type": "execute_result"
    }
   ],
   "source": [
    "# print a sample of 20 rows of the data\n",
    "car_data_gen.sample(20)\n"
   ]
  },
  {
   "cell_type": "markdown",
   "metadata": {},
   "source": [
    "## Study core parameters\n",
    "\n",
    "[Choose an appropriate approach to study the parameters listed below, pay special attention to how outliers affect the form and readability of the histograms.]\n",
    "\n",
    "The parameters are\n",
    "- Price\n",
    "- The vehicle's age when the ad was placed\n",
    "- Mileage\n",
    "- Number of cylinders\n",
    "- ConditioN\n",
    "- Color"
   ]
  },
  {
   "cell_type": "markdown",
   "metadata": {},
   "source": [
    "**We will plot a histogram for all the main parameters:Price, vehicle's age , Mileage , cylinders , Condition . and check the districbution of the data.**"
   ]
  },
  {
   "cell_type": "code",
   "execution_count": 46,
   "metadata": {},
   "outputs": [
    {
     "name": "stdout",
     "output_type": "stream",
     "text": [
      "\n",
      "Parameter Ploted : price\n",
      "\n",
      "Main statistics:\n",
      " count     51524.00000\n",
      "mean      12132.35104\n",
      "std       10040.86718\n",
      "min           1.00000\n",
      "25%        5000.00000\n",
      "50%        9000.00000\n",
      "75%       16836.00000\n",
      "max      375000.00000\n",
      "Name: price, dtype: float64\n",
      "\n"
     ]
    },
    {
     "data": {
      "image/png": "[encoded data removed]",
      "text/plain": [
       "<Figure size 576x288 with 1 Axes>"
      ]
     },
     "metadata": {
      "needs_background": "light"
     },
     "output_type": "display_data"
    },
    {
     "name": "stdout",
     "output_type": "stream",
     "text": [
      "\n",
      "Parameter Ploted : car_age\n",
      "\n",
      "Main statistics:\n",
      " count    51524.000000\n",
      "mean         8.594985\n",
      "std          6.103437\n",
      "min          0.000000\n",
      "25%          4.000000\n",
      "50%          8.000000\n",
      "75%         12.000000\n",
      "max        110.000000\n",
      "Name: car_age, dtype: float64\n",
      "\n"
     ]
    },
    {
     "data": {
      "image/png": "[encoded data removed]",
      "text/plain": [
       "<Figure size 576x288 with 1 Axes>"
      ]
     },
     "metadata": {
      "needs_background": "light"
     },
     "output_type": "display_data"
    },
    {
     "name": "stdout",
     "output_type": "stream",
     "text": [
      "\n",
      "Parameter Ploted : mileage\n",
      "\n",
      "Main statistics:\n",
      " count     51524.000000\n",
      "mean     115537.871400\n",
      "std       61860.005467\n",
      "min           0.000000\n",
      "25%       73574.000000\n",
      "50%      114565.000000\n",
      "75%      151960.000000\n",
      "max      990000.000000\n",
      "Name: mileage, dtype: float64\n",
      "\n"
     ]
    },
    {
     "data": {
      "image/png": "[encoded data removed]",
      "text/plain": [
       "<Figure size 576x288 with 1 Axes>"
      ]
     },
     "metadata": {
      "needs_background": "light"
     },
     "output_type": "display_data"
    },
    {
     "name": "stdout",
     "output_type": "stream",
     "text": [
      "\n",
      "Parameter Ploted : cylinders\n",
      "\n",
      "Main statistics:\n",
      " count    51524.000000\n",
      "mean         6.089298\n",
      "std          1.644632\n",
      "min          3.000000\n",
      "25%          4.000000\n",
      "50%          6.000000\n",
      "75%          8.000000\n",
      "max         12.000000\n",
      "Name: cylinders, dtype: float64\n",
      "\n"
     ]
    },
    {
     "data": {
      "image/png": "[encoded data removed]",
      "text/plain": [
       "<Figure size 576x288 with 1 Axes>"
      ]
     },
     "metadata": {
      "needs_background": "light"
     },
     "output_type": "display_data"
    },
    {
     "name": "stdout",
     "output_type": "stream",
     "text": [
      "\n",
      "Parameter Ploted : condition\n",
      "\n",
      "Main statistics:\n",
      " count    51524.000000\n",
      "mean         2.637548\n",
      "std          0.712449\n",
      "min          0.000000\n",
      "25%          2.000000\n",
      "50%          3.000000\n",
      "75%          3.000000\n",
      "max          5.000000\n",
      "Name: condition, dtype: float64\n",
      "\n"
     ]
    },
    {
     "data": {
      "image/png": "[encoded data removed]",
      "text/plain": [
       "<Figure size 576x288 with 1 Axes>"
      ]
     },
     "metadata": {
      "needs_background": "light"
     },
     "output_type": "display_data"
    },
    {
     "name": "stdout",
     "output_type": "stream",
     "text": [
      "\n",
      "Parameter Ploted : paint_color\n",
      "\n",
      "Main statistics:\n",
      " count     51524\n",
      "unique       13\n",
      "top       white\n",
      "freq      10029\n",
      "Name: paint_color, dtype: object\n",
      "\n"
     ]
    },
    {
     "data": {
      "image/png": "[encoded data removed]",
      "text/plain": [
       "<Figure size 576x288 with 1 Axes>"
      ]
     },
     "metadata": {
      "needs_background": "light"
     },
     "output_type": "display_data"
    }
   ],
   "source": [
    "#define a list of parameters to check\n",
    "parm_lst = ['price','car_age','mileage','cylinders','condition','paint_color']\n",
    "#Define a function that will plot the histogram for each parameter\n",
    "def hist_plot(df , param):\n",
    "    \n",
    "    print('\\nParameter Ploted : {}\\n'.format(param))\n",
    "    print('Main statistics:\\n',df[param].describe())\n",
    "    print()\n",
    "    plt.figure(figsize=(8,4))\n",
    "    df[param].hist(bins=100 , range=(df[param].min() , df[param].max()))\n",
    "    plt.show()\n",
    "    #plt.boxplot(df[param] , showfliers=False) \n",
    "    #plt.show()\n",
    "    \n",
    "for prm in parm_lst:\n",
    "    \n",
    "    hist_plot(car_data_gen,prm)\n"
   ]
  },
  {
   "cell_type": "markdown",
   "metadata": {},
   "source": [
    "**What do we see in every histogram and boxplot**\n",
    "\n",
    "***price parameter:***\n",
    "The data distribution is skewd to the right, and there sims to be outliers that are in the area of 30,000 and above.Values that effect the mean by pulling its value up. Ans also outliere (a lot of them) that pushing down the mean twards very low values like 1, which is the min value.\n",
    "Due to the effect on the mean by outliers, the caenter of the data is the median value , that is not effected by outlier.\n",
    "The shape of the data suggests that we should change the data ends on bothe side(the lower and the upper), becaus the distribution and the variance are very effected and we eill get wrong values because of that.\n",
    "To eliminate the outliers effect, we should try using the quatilion of about 3%-5% as the min value. and the highst value should be at around 20,000(an esstimate based on the histogram data).\n",
    "\n",
    "***mileage parameter:***\n",
    "The data distribution is skewd to the right,(though much less then the price parameter.Ther sims to be outliers that are in the area of 200,000 and above.Values that effect the mean by pulling its value up. And also outliere that pushing down the mean twards very low values like 0, which is the min value.\n",
    "Due to the effect on the mean by outliers, the caenter of the data is the median value , that is not effected by outlier.\n",
    "The shape of the data suggests that we should change the data ends on bothe side(the lower and the upper), becaus the distribution and the variance are efected by these extram values.\n",
    "To eliminate the outliers effect, we should try using the quatilion of about 5% as the min value where thedata is closer to 0 there. and the highst value should be at around 250,000(an esstimate based on the histogram data).\n",
    "\n",
    "***car_age parameter:***\n",
    "The data distribution is skewd to the right. Ther sims to be outliers that are in the area of 25 and above.Values that effect the mean by pulling its value up. And also outliere that pushing down the mean towards very low values like 0, which is the min value These are probably new cars and have no influance on their current manufacture price. We have about 5% of the data that has low values,and it shows very clearly on the histogram.\n",
    "Due to the effect on the mean by outliers, the caenter of the data is the median value , that is not effected by outlier.\n",
    "The shape of the data suggests that we should change the data ends on bothe side(the lower and the upper), becaus the distribution and the variance are efected by these values.\n",
    "To eliminate the outliers effect, we should try using the quatilion of about 5% as the min value where the data is closer to 0 there. And the highst value should be at around 20 based on the histogram data.\n",
    "\n",
    "\n",
    "***condition parameter:***\n",
    "The data distribution has a symetrical shape .There are no distinctive outliers.Due to that the mean will be the most a value that will describes the center of the data, since there are no outlier effects here. The shape of the data suggests that we shold not change the range of the data we look at.This is a normal distribution.Most cars are in a good - excelent condition(about 45,000 cars). The rest are distributed between the new-like new conditions and fair and salvage conditions.\n",
    "\n",
    "***cylinders parameter:***\n",
    "The data distribution thow it does not look like in first impression is very symetrical, Where some bars have peaks very high comper to others but if we arrange the columns we will see a standard distribution That has a symertrical shape. The data does not seem to have distinctive outliers. With a mean and median have the same value, There for  mean will value that describes the center. The shape of the data suggests that we shold not do here any change of the range of the data.\n",
    "\n"
   ]
  },
  {
   "cell_type": "markdown",
   "metadata": {},
   "source": [
    "**We now can moove to the next step an remove the outliers of the data we saw that have them**"
   ]
  },
  {
   "cell_type": "markdown",
   "metadata": {},
   "source": [
    "## Study and treat outliers\n"
   ]
  },
  {
   "cell_type": "code",
   "execution_count": 47,
   "metadata": {},
   "outputs": [
    {
     "name": "stdout",
     "output_type": "stream",
     "text": [
      "Median:  9000.0\n",
      "The new range is:  1000.0 , 20000\n"
     ]
    }
   ],
   "source": [
    "# Determine the lower limits for outliers for the price parameter\n",
    "#based on our conclusion in the previous section we will base the new range on\n",
    "\n",
    "lower_val_price = car_data_gen['price'].quantile(q=0.03)\n",
    "upper_val_price = 20000\n",
    "\n",
    "print('Median: ' , car_data_gen['price'].median() )\n",
    "print('The new range is: ',lower_val_price,',',upper_val_price)\n"
   ]
  },
  {
   "cell_type": "code",
   "execution_count": 48,
   "metadata": {},
   "outputs": [
    {
     "name": "stdout",
     "output_type": "stream",
     "text": [
      "Median:  8.0\n",
      "The new range is:  1.0 , 20\n"
     ]
    }
   ],
   "source": [
    "# Determine the lower limits for outliers for the car_age parameter\n",
    "#based on our conclusion in the previous section we will base the new range based on.\n",
    "\n",
    "lower_val_car_age = car_data_gen['car_age'].quantile(q=0.05)\n",
    "upper_val_car_age = 20\n",
    "\n",
    "print('Median: ' , car_data_gen['car_age'].median() )\n",
    "print('The new range is: ',lower_val_car_age,',',upper_val_car_age)\n"
   ]
  },
  {
   "cell_type": "code",
   "execution_count": 49,
   "metadata": {},
   "outputs": [
    {
     "name": "stdout",
     "output_type": "stream",
     "text": [
      "Median:  114565.0\n",
      "The new range is:  18500.0 , 250000\n"
     ]
    }
   ],
   "source": [
    "# Determine the lower limits for outliers for the mileage parameter\n",
    "#based on our conclusion in the previous section we will base the new range on the IRQ and with that calculate the upper and lower\n",
    "#borders of the data without outliers\n",
    "\n",
    "lower_val_mileage = car_data_gen['mileage'].quantile(q=0.05)\n",
    "upper_val_mileage = 250000\n",
    "\n",
    "print('Median: ' , car_data_gen['mileage'].median() )\n",
    "print('The new range is: ',lower_val_mileage,',',upper_val_mileage)\n"
   ]
  },
  {
   "cell_type": "code",
   "execution_count": 50,
   "metadata": {},
   "outputs": [
    {
     "name": "stdout",
     "output_type": "stream",
     "text": [
      "41385\n",
      "47736\n",
      "47904\n"
     ]
    }
   ],
   "source": [
    "# Store data without outliers in a separate DataFrame\n",
    "price_filtered = car_data_gen.loc[(car_data_gen['price'] >= lower_val_price)&(car_data_gen['price'] <= upper_val_price)]  \n",
    "car_age_filtered = car_data_gen.loc[(car_data_gen['car_age'] >= lower_val_car_age)&(car_data_gen['car_age'] <= upper_val_car_age)]\n",
    "mileage_filtered = car_data_gen.loc[(car_data_gen['mileage'] >= lower_val_mileage)&(car_data_gen['mileage'] <= upper_val_mileage)]\n",
    "print(len(price_filtered))\n",
    "print(len(car_age_filtered))\n",
    "print(len(mileage_filtered))\n"
   ]
  },
  {
   "cell_type": "markdown",
   "metadata": {},
   "source": [
    "**With these new ranges we did not loos much data and avided the outliers where we saw ones.**"
   ]
  },
  {
   "cell_type": "markdown",
   "metadata": {},
   "source": [
    "## Study core parameters without outliers"
   ]
  },
  {
   "cell_type": "markdown",
   "metadata": {},
   "source": [
    "\n",
    "The new data must have a new distrebution compare to the former one. Let us check the filtered data compare to the complete data"
   ]
  },
  {
   "cell_type": "code",
   "execution_count": 51,
   "metadata": {},
   "outputs": [
    {
     "name": "stdout",
     "output_type": "stream",
     "text": [
      "\n",
      "Parameter Ploted : price\n",
      "\n",
      "Main statistics full data:\n",
      " count     51524.00000\n",
      "mean      12132.35104\n",
      "std       10040.86718\n",
      "min           1.00000\n",
      "25%        5000.00000\n",
      "50%        9000.00000\n",
      "75%       16836.00000\n",
      "max      375000.00000\n",
      "Name: price, dtype: float64\n",
      "\n",
      "Main statistics filterd data:\n",
      " count    41385.000000\n",
      "mean      8928.263284\n",
      "std       4991.366906\n",
      "min       1000.000000\n",
      "25%       4900.000000\n",
      "50%       7990.000000\n",
      "75%      12800.000000\n",
      "max      20000.000000\n",
      "Name: price, dtype: float64\n",
      "\n"
     ]
    },
    {
     "data": {
      "image/png": "[encoded data removed]",
      "text/plain": [
       "<Figure size 432x288 with 1 Axes>"
      ]
     },
     "metadata": {
      "needs_background": "light"
     },
     "output_type": "display_data"
    },
    {
     "name": "stdout",
     "output_type": "stream",
     "text": [
      "\n",
      "Parameter Ploted : car_age\n",
      "\n",
      "Main statistics full data:\n",
      " count    51524.000000\n",
      "mean         8.594985\n",
      "std          6.103437\n",
      "min          0.000000\n",
      "25%          4.000000\n",
      "50%          8.000000\n",
      "75%         12.000000\n",
      "max        110.000000\n",
      "Name: car_age, dtype: float64\n",
      "\n",
      "Main statistics filterd data:\n",
      " count    47736.000000\n",
      "mean         8.323006\n",
      "std          4.650889\n",
      "min          1.000000\n",
      "25%          5.000000\n",
      "50%          8.000000\n",
      "75%         12.000000\n",
      "max         20.000000\n",
      "Name: car_age, dtype: float64\n",
      "\n"
     ]
    },
    {
     "data": {
      "image/png": "[encoded data removed]",
      "text/plain": [
       "<Figure size 432x288 with 1 Axes>"
      ]
     },
     "metadata": {
      "needs_background": "light"
     },
     "output_type": "display_data"
    },
    {
     "name": "stdout",
     "output_type": "stream",
     "text": [
      "\n",
      "Parameter Ploted : mileage\n",
      "\n",
      "Main statistics full data:\n",
      " count     51524.000000\n",
      "mean     115537.871400\n",
      "std       61860.005467\n",
      "min           0.000000\n",
      "25%       73574.000000\n",
      "50%      114565.000000\n",
      "75%      151960.000000\n",
      "max      990000.000000\n",
      "Name: mileage, dtype: float64\n",
      "\n",
      "Main statistics filterd data:\n",
      " count     47904.000000\n",
      "mean     117286.677083\n",
      "std       50934.415897\n",
      "min       18500.000000\n",
      "25%       81137.000000\n",
      "50%      117701.000000\n",
      "75%      151960.000000\n",
      "max      250000.000000\n",
      "Name: mileage, dtype: float64\n",
      "\n"
     ]
    },
    {
     "data": {
      "image/png": "[encoded data removed]",
      "text/plain": [
       "<Figure size 432x288 with 1 Axes>"
      ]
     },
     "metadata": {
      "needs_background": "light"
     },
     "output_type": "display_data"
    }
   ],
   "source": [
    "#define a list of parameters to check\n",
    "parm_lst = ['price','car_age','mileage']\n",
    "#define a dictionary of filtered tables \n",
    "range_dict = {'price':[lower_val_price , upper_val_price] ,'car_age':[lower_val_car_age , upper_val_car_age],'mileage':[lower_val_mileage , upper_val_mileage] }\n",
    "#define a dictionary of filtered tables \n",
    "parm_dict = {'price':price_filtered ,'car_age':car_age_filtered,'mileage':mileage_filtered }\n",
    "\n",
    "#Define a function that will plot the histogram for each parameter\n",
    "def hist_plot(df, df_fl , new_rng , param):\n",
    "    \n",
    "    print('\\nParameter Ploted : {}\\n'.format(param))\n",
    "    print('Main statistics full data:\\n',df[param].describe())\n",
    "    print()\n",
    "    print('Main statistics filterd data:\\n',df_fl[param].describe())\n",
    "    print()\n",
    "   \n",
    "    plt.title('filtered Vs Complete {} parameter'.format(param))\n",
    " \n",
    "    plt.hist([df[param], df_fl[param]],bins=30,color=['blue','yellow'] ,range=(0,df[param].quantile(q=0.97)),alpha=0.5, label=['complete', 'filtered'])\n",
    "    plt.legend(loc='upper right')\n",
    "     \n",
    "    plt.show()\n",
    "\n",
    "for prm in parm_lst:\n",
    "    \n",
    "    hist_plot(car_data_gen,parm_dict[prm],range_dict[prm],prm)\n",
    "    "
   ]
  },
  {
   "cell_type": "markdown",
   "metadata": {},
   "source": [
    "**Conclusion**\n",
    "\n",
    "The Filtered data looks more in the direction of a standard distribution and most outliers seems to be eliminated.\n"
   ]
  },
  {
   "cell_type": "markdown",
   "metadata": {},
   "source": [
    "## Ads lifetime\n"
   ]
  },
  {
   "cell_type": "code",
   "execution_count": 52,
   "metadata": {},
   "outputs": [
    {
     "data": {
      "text/plain": [
       "count    51524.000000\n",
       "mean        39.554382\n",
       "std         28.204413\n",
       "min          0.000000\n",
       "25%         19.000000\n",
       "50%         33.000000\n",
       "75%         53.000000\n",
       "max        271.000000\n",
       "Name: days_listed, dtype: float64"
      ]
     },
     "execution_count": 52,
     "metadata": {},
     "output_type": "execute_result"
    }
   ],
   "source": [
    "#General statistical data on 'days_listed' parameter\n",
    "\n",
    "car_data_gen['days_listed'].describe()"
   ]
  },
  {
   "cell_type": "code",
   "execution_count": 53,
   "metadata": {},
   "outputs": [
    {
     "data": {
      "text/plain": [
       "<AxesSubplot:>"
      ]
     },
     "execution_count": 53,
     "metadata": {},
     "output_type": "execute_result"
    },
    {
     "data": {
      "image/png": "[encoded data removed]",
      "text/plain": [
       "<Figure size 432x288 with 1 Axes>"
      ]
     },
     "metadata": {
      "needs_background": "light"
     },
     "output_type": "display_data"
    }
   ],
   "source": [
    "car_data_gen['days_listed'].hist(bins=500)"
   ]
  },
  {
   "cell_type": "markdown",
   "metadata": {},
   "source": [
    "**The histogram shows that most of the add are distributed between 15-60 days. we can see that there is  skewd to right, and we can also see that without these positive outliers the histogram is almost symetrical. There is the issue of 0 values(no more then value of 1) that look that they have aprox , 250  counts. The outliers are distributed between 125 days to 271(max) days.**\n",
    "let us see how meny of each of those smaller then 1 days and over 125 days, are."
   ]
  },
  {
   "cell_type": "code",
   "execution_count": 54,
   "metadata": {},
   "outputs": [
    {
     "name": "stdout",
     "output_type": "stream",
     "text": [
      "ads listed no more then 1 days: 227\n",
      "ads listed more then 125 days: 703\n",
      "ads listed normal span: 32761\n"
     ]
    }
   ],
   "source": [
    "print('ads listed no more then 1 days:', len(car_data_gen[car_data_gen['days_listed']<=1]))\n",
    "print('ads listed more then 125 days:', len(car_data_gen[car_data_gen['days_listed']>=125]))\n",
    "print('ads listed normal span:', len(car_data_gen[(car_data_gen['days_listed']>=15)&(car_data_gen['days_listed']<=60)]))"
   ]
  },
  {
   "cell_type": "code",
   "execution_count": 55,
   "metadata": {},
   "outputs": [
    {
     "data": {
      "text/html": [
       "<div>\n",
       "<style scoped>\n",
       "    .dataframe tbody tr th:only-of-type {\n",
       "        vertical-align: middle;\n",
       "    }\n",
       "\n",
       "    .dataframe tbody tr th {\n",
       "        vertical-align: top;\n",
       "    }\n",
       "\n",
       "    .dataframe thead th {\n",
       "        text-align: right;\n",
       "    }\n",
       "</style>\n",
       "<table border=\"1\" class=\"dataframe\">\n",
       "  <thead>\n",
       "    <tr style=\"text-align: right;\">\n",
       "      <th></th>\n",
       "      <th>price</th>\n",
       "      <th>model_year</th>\n",
       "      <th>model</th>\n",
       "      <th>condition</th>\n",
       "      <th>cylinders</th>\n",
       "      <th>fuel</th>\n",
       "      <th>mileage</th>\n",
       "      <th>transmission</th>\n",
       "      <th>type</th>\n",
       "      <th>paint_color</th>\n",
       "      <th>has_4wd</th>\n",
       "      <th>date_posted</th>\n",
       "      <th>days_listed</th>\n",
       "      <th>paint_category</th>\n",
       "      <th>weekday_posted_on</th>\n",
       "      <th>car_age</th>\n",
       "      <th>avg_mileage</th>\n",
       "    </tr>\n",
       "  </thead>\n",
       "  <tbody>\n",
       "    <tr>\n",
       "      <th>39</th>\n",
       "      <td>8000</td>\n",
       "      <td>2009</td>\n",
       "      <td>ford f-150</td>\n",
       "      <td>2</td>\n",
       "      <td>8</td>\n",
       "      <td>gas</td>\n",
       "      <td>234000</td>\n",
       "      <td>automatic</td>\n",
       "      <td>truck</td>\n",
       "      <td>black</td>\n",
       "      <td>1</td>\n",
       "      <td>2019-03-31</td>\n",
       "      <td>1</td>\n",
       "      <td>4</td>\n",
       "      <td>6</td>\n",
       "      <td>10</td>\n",
       "      <td>23400.0</td>\n",
       "    </tr>\n",
       "    <tr>\n",
       "      <th>84</th>\n",
       "      <td>4995</td>\n",
       "      <td>2012</td>\n",
       "      <td>hyundai elantra</td>\n",
       "      <td>4</td>\n",
       "      <td>4</td>\n",
       "      <td>gas</td>\n",
       "      <td>151223</td>\n",
       "      <td>automatic</td>\n",
       "      <td>sedan</td>\n",
       "      <td>custom</td>\n",
       "      <td>0</td>\n",
       "      <td>2018-09-15</td>\n",
       "      <td>1</td>\n",
       "      <td>8</td>\n",
       "      <td>5</td>\n",
       "      <td>6</td>\n",
       "      <td>25204.0</td>\n",
       "    </tr>\n",
       "    <tr>\n",
       "      <th>173</th>\n",
       "      <td>21100</td>\n",
       "      <td>2017</td>\n",
       "      <td>chevrolet camaro lt coupe 2d</td>\n",
       "      <td>2</td>\n",
       "      <td>6</td>\n",
       "      <td>gas</td>\n",
       "      <td>24510</td>\n",
       "      <td>other</td>\n",
       "      <td>coupe</td>\n",
       "      <td>red</td>\n",
       "      <td>0</td>\n",
       "      <td>2019-03-29</td>\n",
       "      <td>1</td>\n",
       "      <td>3</td>\n",
       "      <td>4</td>\n",
       "      <td>2</td>\n",
       "      <td>12255.0</td>\n",
       "    </tr>\n",
       "    <tr>\n",
       "      <th>460</th>\n",
       "      <td>8990</td>\n",
       "      <td>2016</td>\n",
       "      <td>nissan rogue</td>\n",
       "      <td>3</td>\n",
       "      <td>4</td>\n",
       "      <td>gas</td>\n",
       "      <td>121635</td>\n",
       "      <td>automatic</td>\n",
       "      <td>SUV</td>\n",
       "      <td>grey</td>\n",
       "      <td>0</td>\n",
       "      <td>2018-12-14</td>\n",
       "      <td>1</td>\n",
       "      <td>6</td>\n",
       "      <td>4</td>\n",
       "      <td>2</td>\n",
       "      <td>60818.0</td>\n",
       "    </tr>\n",
       "    <tr>\n",
       "      <th>810</th>\n",
       "      <td>21900</td>\n",
       "      <td>2016</td>\n",
       "      <td>nissan frontier crew cab sv</td>\n",
       "      <td>2</td>\n",
       "      <td>6</td>\n",
       "      <td>gas</td>\n",
       "      <td>4998</td>\n",
       "      <td>other</td>\n",
       "      <td>pickup</td>\n",
       "      <td>other</td>\n",
       "      <td>0</td>\n",
       "      <td>2018-05-24</td>\n",
       "      <td>1</td>\n",
       "      <td>1</td>\n",
       "      <td>3</td>\n",
       "      <td>2</td>\n",
       "      <td>2499.0</td>\n",
       "    </tr>\n",
       "    <tr>\n",
       "      <th>910</th>\n",
       "      <td>6995</td>\n",
       "      <td>2005</td>\n",
       "      <td>subaru outback</td>\n",
       "      <td>3</td>\n",
       "      <td>4</td>\n",
       "      <td>gas</td>\n",
       "      <td>113000</td>\n",
       "      <td>automatic</td>\n",
       "      <td>wagon</td>\n",
       "      <td>green</td>\n",
       "      <td>1</td>\n",
       "      <td>2018-06-05</td>\n",
       "      <td>1</td>\n",
       "      <td>12</td>\n",
       "      <td>1</td>\n",
       "      <td>13</td>\n",
       "      <td>8692.0</td>\n",
       "    </tr>\n",
       "    <tr>\n",
       "      <th>1023</th>\n",
       "      <td>5000</td>\n",
       "      <td>1996</td>\n",
       "      <td>toyota 4runner</td>\n",
       "      <td>2</td>\n",
       "      <td>6</td>\n",
       "      <td>gas</td>\n",
       "      <td>403000</td>\n",
       "      <td>automatic</td>\n",
       "      <td>SUV</td>\n",
       "      <td>black</td>\n",
       "      <td>1</td>\n",
       "      <td>2019-02-08</td>\n",
       "      <td>1</td>\n",
       "      <td>4</td>\n",
       "      <td>4</td>\n",
       "      <td>23</td>\n",
       "      <td>17522.0</td>\n",
       "    </tr>\n",
       "    <tr>\n",
       "      <th>1247</th>\n",
       "      <td>14995</td>\n",
       "      <td>2008</td>\n",
       "      <td>chevrolet silverado 1500</td>\n",
       "      <td>3</td>\n",
       "      <td>8</td>\n",
       "      <td>gas</td>\n",
       "      <td>93300</td>\n",
       "      <td>automatic</td>\n",
       "      <td>truck</td>\n",
       "      <td>grey</td>\n",
       "      <td>1</td>\n",
       "      <td>2018-05-15</td>\n",
       "      <td>0</td>\n",
       "      <td>6</td>\n",
       "      <td>1</td>\n",
       "      <td>10</td>\n",
       "      <td>9330.0</td>\n",
       "    </tr>\n",
       "    <tr>\n",
       "      <th>1256</th>\n",
       "      <td>15990</td>\n",
       "      <td>2009</td>\n",
       "      <td>chevrolet tahoe</td>\n",
       "      <td>3</td>\n",
       "      <td>8</td>\n",
       "      <td>gas</td>\n",
       "      <td>95747</td>\n",
       "      <td>automatic</td>\n",
       "      <td>SUV</td>\n",
       "      <td>red</td>\n",
       "      <td>0</td>\n",
       "      <td>2018-12-13</td>\n",
       "      <td>1</td>\n",
       "      <td>3</td>\n",
       "      <td>3</td>\n",
       "      <td>9</td>\n",
       "      <td>10639.0</td>\n",
       "    </tr>\n",
       "    <tr>\n",
       "      <th>1320</th>\n",
       "      <td>21400</td>\n",
       "      <td>2015</td>\n",
       "      <td>toyota tacoma</td>\n",
       "      <td>3</td>\n",
       "      <td>6</td>\n",
       "      <td>gas</td>\n",
       "      <td>95750</td>\n",
       "      <td>manual</td>\n",
       "      <td>offroad</td>\n",
       "      <td>grey</td>\n",
       "      <td>1</td>\n",
       "      <td>2018-12-23</td>\n",
       "      <td>1</td>\n",
       "      <td>6</td>\n",
       "      <td>6</td>\n",
       "      <td>3</td>\n",
       "      <td>31917.0</td>\n",
       "    </tr>\n",
       "    <tr>\n",
       "      <th>1634</th>\n",
       "      <td>4500</td>\n",
       "      <td>2010</td>\n",
       "      <td>jeep liberty</td>\n",
       "      <td>2</td>\n",
       "      <td>6</td>\n",
       "      <td>gas</td>\n",
       "      <td>150</td>\n",
       "      <td>automatic</td>\n",
       "      <td>SUV</td>\n",
       "      <td>green</td>\n",
       "      <td>1</td>\n",
       "      <td>2018-12-17</td>\n",
       "      <td>1</td>\n",
       "      <td>12</td>\n",
       "      <td>0</td>\n",
       "      <td>8</td>\n",
       "      <td>19.0</td>\n",
       "    </tr>\n",
       "    <tr>\n",
       "      <th>1711</th>\n",
       "      <td>59589</td>\n",
       "      <td>2019</td>\n",
       "      <td>chevrolet silverado 2500hd</td>\n",
       "      <td>3</td>\n",
       "      <td>8</td>\n",
       "      <td>diesel</td>\n",
       "      <td>17076</td>\n",
       "      <td>automatic</td>\n",
       "      <td>truck</td>\n",
       "      <td>white</td>\n",
       "      <td>1</td>\n",
       "      <td>2019-01-13</td>\n",
       "      <td>0</td>\n",
       "      <td>2</td>\n",
       "      <td>6</td>\n",
       "      <td>0</td>\n",
       "      <td>inf</td>\n",
       "    </tr>\n",
       "    <tr>\n",
       "      <th>1763</th>\n",
       "      <td>29702</td>\n",
       "      <td>2015</td>\n",
       "      <td>chevrolet silverado 1500</td>\n",
       "      <td>3</td>\n",
       "      <td>8</td>\n",
       "      <td>gas</td>\n",
       "      <td>78109</td>\n",
       "      <td>automatic</td>\n",
       "      <td>truck</td>\n",
       "      <td>other</td>\n",
       "      <td>1</td>\n",
       "      <td>2018-09-12</td>\n",
       "      <td>1</td>\n",
       "      <td>1</td>\n",
       "      <td>2</td>\n",
       "      <td>3</td>\n",
       "      <td>26036.0</td>\n",
       "    </tr>\n",
       "    <tr>\n",
       "      <th>1983</th>\n",
       "      <td>14000</td>\n",
       "      <td>1999</td>\n",
       "      <td>ford f250</td>\n",
       "      <td>3</td>\n",
       "      <td>8</td>\n",
       "      <td>diesel</td>\n",
       "      <td>137500</td>\n",
       "      <td>automatic</td>\n",
       "      <td>truck</td>\n",
       "      <td>red</td>\n",
       "      <td>1</td>\n",
       "      <td>2018-09-27</td>\n",
       "      <td>0</td>\n",
       "      <td>3</td>\n",
       "      <td>3</td>\n",
       "      <td>19</td>\n",
       "      <td>7237.0</td>\n",
       "    </tr>\n",
       "    <tr>\n",
       "      <th>2014</th>\n",
       "      <td>9000</td>\n",
       "      <td>2015</td>\n",
       "      <td>hyundai elantra</td>\n",
       "      <td>4</td>\n",
       "      <td>4</td>\n",
       "      <td>gas</td>\n",
       "      <td>89000</td>\n",
       "      <td>automatic</td>\n",
       "      <td>sedan</td>\n",
       "      <td>blue</td>\n",
       "      <td>0</td>\n",
       "      <td>2018-05-28</td>\n",
       "      <td>1</td>\n",
       "      <td>5</td>\n",
       "      <td>0</td>\n",
       "      <td>3</td>\n",
       "      <td>29667.0</td>\n",
       "    </tr>\n",
       "    <tr>\n",
       "      <th>2064</th>\n",
       "      <td>7915</td>\n",
       "      <td>2011</td>\n",
       "      <td>toyota prius</td>\n",
       "      <td>3</td>\n",
       "      <td>4</td>\n",
       "      <td>hybrid</td>\n",
       "      <td>96450</td>\n",
       "      <td>automatic</td>\n",
       "      <td>hatchback</td>\n",
       "      <td>white</td>\n",
       "      <td>0</td>\n",
       "      <td>2019-02-24</td>\n",
       "      <td>1</td>\n",
       "      <td>2</td>\n",
       "      <td>6</td>\n",
       "      <td>8</td>\n",
       "      <td>12056.0</td>\n",
       "    </tr>\n",
       "    <tr>\n",
       "      <th>2341</th>\n",
       "      <td>3999</td>\n",
       "      <td>2001</td>\n",
       "      <td>ford f-250 super duty</td>\n",
       "      <td>2</td>\n",
       "      <td>10</td>\n",
       "      <td>gas</td>\n",
       "      <td>176735</td>\n",
       "      <td>automatic</td>\n",
       "      <td>truck</td>\n",
       "      <td>other</td>\n",
       "      <td>1</td>\n",
       "      <td>2019-02-24</td>\n",
       "      <td>1</td>\n",
       "      <td>1</td>\n",
       "      <td>6</td>\n",
       "      <td>18</td>\n",
       "      <td>9819.0</td>\n",
       "    </tr>\n",
       "    <tr>\n",
       "      <th>2492</th>\n",
       "      <td>43000</td>\n",
       "      <td>2015</td>\n",
       "      <td>gmc sierra 2500hd</td>\n",
       "      <td>2</td>\n",
       "      <td>8</td>\n",
       "      <td>diesel</td>\n",
       "      <td>159853</td>\n",
       "      <td>automatic</td>\n",
       "      <td>truck</td>\n",
       "      <td>white</td>\n",
       "      <td>1</td>\n",
       "      <td>2018-09-07</td>\n",
       "      <td>1</td>\n",
       "      <td>2</td>\n",
       "      <td>4</td>\n",
       "      <td>3</td>\n",
       "      <td>53284.0</td>\n",
       "    </tr>\n",
       "    <tr>\n",
       "      <th>2883</th>\n",
       "      <td>4000</td>\n",
       "      <td>2004</td>\n",
       "      <td>ram 1500</td>\n",
       "      <td>3</td>\n",
       "      <td>8</td>\n",
       "      <td>gas</td>\n",
       "      <td>250000</td>\n",
       "      <td>automatic</td>\n",
       "      <td>truck</td>\n",
       "      <td>brown</td>\n",
       "      <td>1</td>\n",
       "      <td>2018-08-13</td>\n",
       "      <td>0</td>\n",
       "      <td>11</td>\n",
       "      <td>0</td>\n",
       "      <td>14</td>\n",
       "      <td>17857.0</td>\n",
       "    </tr>\n",
       "    <tr>\n",
       "      <th>3140</th>\n",
       "      <td>13488</td>\n",
       "      <td>2009</td>\n",
       "      <td>jeep wrangler unlimited</td>\n",
       "      <td>3</td>\n",
       "      <td>6</td>\n",
       "      <td>gas</td>\n",
       "      <td>135678</td>\n",
       "      <td>automatic</td>\n",
       "      <td>SUV</td>\n",
       "      <td>yellow</td>\n",
       "      <td>1</td>\n",
       "      <td>2018-07-13</td>\n",
       "      <td>1</td>\n",
       "      <td>10</td>\n",
       "      <td>4</td>\n",
       "      <td>9</td>\n",
       "      <td>15075.0</td>\n",
       "    </tr>\n",
       "  </tbody>\n",
       "</table>\n",
       "</div>"
      ],
      "text/plain": [
       "      price  model_year                         model  condition  cylinders  \\\n",
       "39     8000        2009                    ford f-150          2          8   \n",
       "84     4995        2012               hyundai elantra          4          4   \n",
       "173   21100        2017  chevrolet camaro lt coupe 2d          2          6   \n",
       "460    8990        2016                  nissan rogue          3          4   \n",
       "810   21900        2016   nissan frontier crew cab sv          2          6   \n",
       "910    6995        2005                subaru outback          3          4   \n",
       "1023   5000        1996                toyota 4runner          2          6   \n",
       "1247  14995        2008      chevrolet silverado 1500          3          8   \n",
       "1256  15990        2009               chevrolet tahoe          3          8   \n",
       "1320  21400        2015                 toyota tacoma          3          6   \n",
       "1634   4500        2010                  jeep liberty          2          6   \n",
       "1711  59589        2019    chevrolet silverado 2500hd          3          8   \n",
       "1763  29702        2015      chevrolet silverado 1500          3          8   \n",
       "1983  14000        1999                     ford f250          3          8   \n",
       "2014   9000        2015               hyundai elantra          4          4   \n",
       "2064   7915        2011                  toyota prius          3          4   \n",
       "2341   3999        2001         ford f-250 super duty          2         10   \n",
       "2492  43000        2015             gmc sierra 2500hd          2          8   \n",
       "2883   4000        2004                      ram 1500          3          8   \n",
       "3140  13488        2009       jeep wrangler unlimited          3          6   \n",
       "\n",
       "        fuel  mileage transmission       type paint_color  has_4wd  \\\n",
       "39       gas   234000    automatic      truck       black        1   \n",
       "84       gas   151223    automatic      sedan      custom        0   \n",
       "173      gas    24510        other      coupe         red        0   \n",
       "460      gas   121635    automatic        SUV        grey        0   \n",
       "810      gas     4998        other     pickup       other        0   \n",
       "910      gas   113000    automatic      wagon       green        1   \n",
       "1023     gas   403000    automatic        SUV       black        1   \n",
       "1247     gas    93300    automatic      truck        grey        1   \n",
       "1256     gas    95747    automatic        SUV         red        0   \n",
       "1320     gas    95750       manual    offroad        grey        1   \n",
       "1634     gas      150    automatic        SUV       green        1   \n",
       "1711  diesel    17076    automatic      truck       white        1   \n",
       "1763     gas    78109    automatic      truck       other        1   \n",
       "1983  diesel   137500    automatic      truck         red        1   \n",
       "2014     gas    89000    automatic      sedan        blue        0   \n",
       "2064  hybrid    96450    automatic  hatchback       white        0   \n",
       "2341     gas   176735    automatic      truck       other        1   \n",
       "2492  diesel   159853    automatic      truck       white        1   \n",
       "2883     gas   250000    automatic      truck       brown        1   \n",
       "3140     gas   135678    automatic        SUV      yellow        1   \n",
       "\n",
       "     date_posted  days_listed  paint_category  weekday_posted_on  car_age  \\\n",
       "39    2019-03-31            1               4                  6       10   \n",
       "84    2018-09-15            1               8                  5        6   \n",
       "173   2019-03-29            1               3                  4        2   \n",
       "460   2018-12-14            1               6                  4        2   \n",
       "810   2018-05-24            1               1                  3        2   \n",
       "910   2018-06-05            1              12                  1       13   \n",
       "1023  2019-02-08            1               4                  4       23   \n",
       "1247  2018-05-15            0               6                  1       10   \n",
       "1256  2018-12-13            1               3                  3        9   \n",
       "1320  2018-12-23            1               6                  6        3   \n",
       "1634  2018-12-17            1              12                  0        8   \n",
       "1711  2019-01-13            0               2                  6        0   \n",
       "1763  2018-09-12            1               1                  2        3   \n",
       "1983  2018-09-27            0               3                  3       19   \n",
       "2014  2018-05-28            1               5                  0        3   \n",
       "2064  2019-02-24            1               2                  6        8   \n",
       "2341  2019-02-24            1               1                  6       18   \n",
       "2492  2018-09-07            1               2                  4        3   \n",
       "2883  2018-08-13            0              11                  0       14   \n",
       "3140  2018-07-13            1              10                  4        9   \n",
       "\n",
       "      avg_mileage  \n",
       "39        23400.0  \n",
       "84        25204.0  \n",
       "173       12255.0  \n",
       "460       60818.0  \n",
       "810        2499.0  \n",
       "910        8692.0  \n",
       "1023      17522.0  \n",
       "1247       9330.0  \n",
       "1256      10639.0  \n",
       "1320      31917.0  \n",
       "1634         19.0  \n",
       "1711          inf  \n",
       "1763      26036.0  \n",
       "1983       7237.0  \n",
       "2014      29667.0  \n",
       "2064      12056.0  \n",
       "2341       9819.0  \n",
       "2492      53284.0  \n",
       "2883      17857.0  \n",
       "3140      15075.0  "
      ]
     },
     "execution_count": 55,
     "metadata": {},
     "output_type": "execute_result"
    }
   ],
   "source": [
    "#generate dataset of the 1 day or less records\n",
    "listed_days_min = car_data_gen[car_data_gen['days_listed']<=1]\n",
    "#generate dataset of the 125 day or more records\n",
    "listed_days_max = car_data_gen[car_data_gen['days_listed']>=125]\n",
    "#generate a dataset of ads listed between 15 and 60 days whish make the most of the data\n",
    "listed_days_normal = car_data_gen[(car_data_gen['days_listed']>=15)&(car_data_gen['days_listed']<=60)]\n",
    "\n",
    "listed_days_min.head(20)\n"
   ]
  },
  {
   "cell_type": "code",
   "execution_count": 56,
   "metadata": {},
   "outputs": [
    {
     "data": {
      "text/html": [
       "<div>\n",
       "<style scoped>\n",
       "    .dataframe tbody tr th:only-of-type {\n",
       "        vertical-align: middle;\n",
       "    }\n",
       "\n",
       "    .dataframe tbody tr th {\n",
       "        vertical-align: top;\n",
       "    }\n",
       "\n",
       "    .dataframe thead th {\n",
       "        text-align: right;\n",
       "    }\n",
       "</style>\n",
       "<table border=\"1\" class=\"dataframe\">\n",
       "  <thead>\n",
       "    <tr style=\"text-align: right;\">\n",
       "      <th></th>\n",
       "      <th>price</th>\n",
       "      <th>model_year</th>\n",
       "      <th>model</th>\n",
       "      <th>condition</th>\n",
       "      <th>cylinders</th>\n",
       "      <th>fuel</th>\n",
       "      <th>mileage</th>\n",
       "      <th>transmission</th>\n",
       "      <th>type</th>\n",
       "      <th>paint_color</th>\n",
       "      <th>has_4wd</th>\n",
       "      <th>date_posted</th>\n",
       "      <th>days_listed</th>\n",
       "      <th>paint_category</th>\n",
       "      <th>weekday_posted_on</th>\n",
       "      <th>car_age</th>\n",
       "      <th>avg_mileage</th>\n",
       "    </tr>\n",
       "  </thead>\n",
       "  <tbody>\n",
       "    <tr>\n",
       "      <th>51</th>\n",
       "      <td>3800</td>\n",
       "      <td>2012</td>\n",
       "      <td>ford focus</td>\n",
       "      <td>2</td>\n",
       "      <td>4</td>\n",
       "      <td>gas</td>\n",
       "      <td>130323</td>\n",
       "      <td>automatic</td>\n",
       "      <td>sedan</td>\n",
       "      <td>black</td>\n",
       "      <td>0</td>\n",
       "      <td>2018-11-29</td>\n",
       "      <td>261</td>\n",
       "      <td>4</td>\n",
       "      <td>3</td>\n",
       "      <td>6</td>\n",
       "      <td>21720.0</td>\n",
       "    </tr>\n",
       "    <tr>\n",
       "      <th>89</th>\n",
       "      <td>18800</td>\n",
       "      <td>2015</td>\n",
       "      <td>chevrolet camaro lt coupe 2d</td>\n",
       "      <td>2</td>\n",
       "      <td>6</td>\n",
       "      <td>gas</td>\n",
       "      <td>33926</td>\n",
       "      <td>other</td>\n",
       "      <td>coupe</td>\n",
       "      <td>grey</td>\n",
       "      <td>0</td>\n",
       "      <td>2019-01-16</td>\n",
       "      <td>152</td>\n",
       "      <td>6</td>\n",
       "      <td>2</td>\n",
       "      <td>4</td>\n",
       "      <td>8482.0</td>\n",
       "    </tr>\n",
       "    <tr>\n",
       "      <th>104</th>\n",
       "      <td>22900</td>\n",
       "      <td>2014</td>\n",
       "      <td>ford f150 supercrew cab xlt</td>\n",
       "      <td>2</td>\n",
       "      <td>6</td>\n",
       "      <td>gas</td>\n",
       "      <td>73711</td>\n",
       "      <td>automatic</td>\n",
       "      <td>pickup</td>\n",
       "      <td>white</td>\n",
       "      <td>1</td>\n",
       "      <td>2019-02-27</td>\n",
       "      <td>141</td>\n",
       "      <td>2</td>\n",
       "      <td>2</td>\n",
       "      <td>5</td>\n",
       "      <td>14742.0</td>\n",
       "    </tr>\n",
       "    <tr>\n",
       "      <th>193</th>\n",
       "      <td>6995</td>\n",
       "      <td>2009</td>\n",
       "      <td>ford ranger</td>\n",
       "      <td>2</td>\n",
       "      <td>4</td>\n",
       "      <td>gas</td>\n",
       "      <td>131150</td>\n",
       "      <td>automatic</td>\n",
       "      <td>pickup</td>\n",
       "      <td>white</td>\n",
       "      <td>0</td>\n",
       "      <td>2019-03-31</td>\n",
       "      <td>130</td>\n",
       "      <td>2</td>\n",
       "      <td>6</td>\n",
       "      <td>10</td>\n",
       "      <td>13115.0</td>\n",
       "    </tr>\n",
       "    <tr>\n",
       "      <th>228</th>\n",
       "      <td>8795</td>\n",
       "      <td>2014</td>\n",
       "      <td>honda civic</td>\n",
       "      <td>3</td>\n",
       "      <td>4</td>\n",
       "      <td>gas</td>\n",
       "      <td>85452</td>\n",
       "      <td>automatic</td>\n",
       "      <td>sedan</td>\n",
       "      <td>grey</td>\n",
       "      <td>0</td>\n",
       "      <td>2018-09-11</td>\n",
       "      <td>164</td>\n",
       "      <td>6</td>\n",
       "      <td>1</td>\n",
       "      <td>4</td>\n",
       "      <td>21363.0</td>\n",
       "    </tr>\n",
       "    <tr>\n",
       "      <th>334</th>\n",
       "      <td>13000</td>\n",
       "      <td>2004</td>\n",
       "      <td>chevrolet corvette</td>\n",
       "      <td>2</td>\n",
       "      <td>8</td>\n",
       "      <td>gas</td>\n",
       "      <td>85104</td>\n",
       "      <td>automatic</td>\n",
       "      <td>convertible</td>\n",
       "      <td>blue</td>\n",
       "      <td>0</td>\n",
       "      <td>2018-10-12</td>\n",
       "      <td>127</td>\n",
       "      <td>5</td>\n",
       "      <td>4</td>\n",
       "      <td>14</td>\n",
       "      <td>6079.0</td>\n",
       "    </tr>\n",
       "    <tr>\n",
       "      <th>414</th>\n",
       "      <td>7995</td>\n",
       "      <td>2008</td>\n",
       "      <td>chevrolet silverado</td>\n",
       "      <td>2</td>\n",
       "      <td>6</td>\n",
       "      <td>gas</td>\n",
       "      <td>146000</td>\n",
       "      <td>automatic</td>\n",
       "      <td>pickup</td>\n",
       "      <td>white</td>\n",
       "      <td>0</td>\n",
       "      <td>2019-02-26</td>\n",
       "      <td>140</td>\n",
       "      <td>2</td>\n",
       "      <td>1</td>\n",
       "      <td>11</td>\n",
       "      <td>13273.0</td>\n",
       "    </tr>\n",
       "    <tr>\n",
       "      <th>569</th>\n",
       "      <td>7900</td>\n",
       "      <td>2001</td>\n",
       "      <td>jeep wrangler</td>\n",
       "      <td>3</td>\n",
       "      <td>4</td>\n",
       "      <td>gas</td>\n",
       "      <td>231089</td>\n",
       "      <td>manual</td>\n",
       "      <td>SUV</td>\n",
       "      <td>yellow</td>\n",
       "      <td>1</td>\n",
       "      <td>2018-11-28</td>\n",
       "      <td>128</td>\n",
       "      <td>10</td>\n",
       "      <td>2</td>\n",
       "      <td>17</td>\n",
       "      <td>13593.0</td>\n",
       "    </tr>\n",
       "    <tr>\n",
       "      <th>594</th>\n",
       "      <td>7900</td>\n",
       "      <td>2008</td>\n",
       "      <td>toyota highlander</td>\n",
       "      <td>3</td>\n",
       "      <td>6</td>\n",
       "      <td>gas</td>\n",
       "      <td>114720</td>\n",
       "      <td>automatic</td>\n",
       "      <td>SUV</td>\n",
       "      <td>silver</td>\n",
       "      <td>0</td>\n",
       "      <td>2018-09-21</td>\n",
       "      <td>129</td>\n",
       "      <td>7</td>\n",
       "      <td>4</td>\n",
       "      <td>10</td>\n",
       "      <td>11472.0</td>\n",
       "    </tr>\n",
       "    <tr>\n",
       "      <th>688</th>\n",
       "      <td>26995</td>\n",
       "      <td>2016</td>\n",
       "      <td>chevrolet silverado</td>\n",
       "      <td>4</td>\n",
       "      <td>8</td>\n",
       "      <td>gas</td>\n",
       "      <td>36645</td>\n",
       "      <td>automatic</td>\n",
       "      <td>pickup</td>\n",
       "      <td>white</td>\n",
       "      <td>1</td>\n",
       "      <td>2018-09-01</td>\n",
       "      <td>152</td>\n",
       "      <td>2</td>\n",
       "      <td>5</td>\n",
       "      <td>2</td>\n",
       "      <td>18322.0</td>\n",
       "    </tr>\n",
       "    <tr>\n",
       "      <th>850</th>\n",
       "      <td>8595</td>\n",
       "      <td>2014</td>\n",
       "      <td>dodge charger</td>\n",
       "      <td>4</td>\n",
       "      <td>6</td>\n",
       "      <td>gas</td>\n",
       "      <td>100004</td>\n",
       "      <td>automatic</td>\n",
       "      <td>sedan</td>\n",
       "      <td>blue</td>\n",
       "      <td>0</td>\n",
       "      <td>2018-10-14</td>\n",
       "      <td>154</td>\n",
       "      <td>5</td>\n",
       "      <td>6</td>\n",
       "      <td>4</td>\n",
       "      <td>25001.0</td>\n",
       "    </tr>\n",
       "    <tr>\n",
       "      <th>878</th>\n",
       "      <td>13250</td>\n",
       "      <td>2008</td>\n",
       "      <td>toyota 4runner</td>\n",
       "      <td>3</td>\n",
       "      <td>6</td>\n",
       "      <td>gas</td>\n",
       "      <td>151668</td>\n",
       "      <td>automatic</td>\n",
       "      <td>SUV</td>\n",
       "      <td>black</td>\n",
       "      <td>1</td>\n",
       "      <td>2018-06-19</td>\n",
       "      <td>151</td>\n",
       "      <td>4</td>\n",
       "      <td>1</td>\n",
       "      <td>10</td>\n",
       "      <td>15167.0</td>\n",
       "    </tr>\n",
       "    <tr>\n",
       "      <th>931</th>\n",
       "      <td>25995</td>\n",
       "      <td>2011</td>\n",
       "      <td>ram 2500</td>\n",
       "      <td>2</td>\n",
       "      <td>6</td>\n",
       "      <td>diesel</td>\n",
       "      <td>150597</td>\n",
       "      <td>manual</td>\n",
       "      <td>truck</td>\n",
       "      <td>white</td>\n",
       "      <td>1</td>\n",
       "      <td>2018-11-16</td>\n",
       "      <td>147</td>\n",
       "      <td>2</td>\n",
       "      <td>4</td>\n",
       "      <td>7</td>\n",
       "      <td>21514.0</td>\n",
       "    </tr>\n",
       "    <tr>\n",
       "      <th>1024</th>\n",
       "      <td>9995</td>\n",
       "      <td>2008</td>\n",
       "      <td>chevrolet silverado</td>\n",
       "      <td>2</td>\n",
       "      <td>8</td>\n",
       "      <td>gas</td>\n",
       "      <td>251000</td>\n",
       "      <td>automatic</td>\n",
       "      <td>truck</td>\n",
       "      <td>black</td>\n",
       "      <td>1</td>\n",
       "      <td>2018-06-12</td>\n",
       "      <td>143</td>\n",
       "      <td>4</td>\n",
       "      <td>1</td>\n",
       "      <td>10</td>\n",
       "      <td>25100.0</td>\n",
       "    </tr>\n",
       "    <tr>\n",
       "      <th>1180</th>\n",
       "      <td>11950</td>\n",
       "      <td>2013</td>\n",
       "      <td>ford f-150</td>\n",
       "      <td>2</td>\n",
       "      <td>6</td>\n",
       "      <td>gas</td>\n",
       "      <td>102938</td>\n",
       "      <td>automatic</td>\n",
       "      <td>truck</td>\n",
       "      <td>other</td>\n",
       "      <td>1</td>\n",
       "      <td>2018-09-13</td>\n",
       "      <td>132</td>\n",
       "      <td>1</td>\n",
       "      <td>3</td>\n",
       "      <td>5</td>\n",
       "      <td>20588.0</td>\n",
       "    </tr>\n",
       "    <tr>\n",
       "      <th>1201</th>\n",
       "      <td>5750</td>\n",
       "      <td>2006</td>\n",
       "      <td>jeep grand cherokee</td>\n",
       "      <td>2</td>\n",
       "      <td>8</td>\n",
       "      <td>gas</td>\n",
       "      <td>151574</td>\n",
       "      <td>automatic</td>\n",
       "      <td>SUV</td>\n",
       "      <td>other</td>\n",
       "      <td>1</td>\n",
       "      <td>2018-06-21</td>\n",
       "      <td>141</td>\n",
       "      <td>1</td>\n",
       "      <td>3</td>\n",
       "      <td>12</td>\n",
       "      <td>12631.0</td>\n",
       "    </tr>\n",
       "    <tr>\n",
       "      <th>1401</th>\n",
       "      <td>8000</td>\n",
       "      <td>2007</td>\n",
       "      <td>chevrolet suburban</td>\n",
       "      <td>2</td>\n",
       "      <td>8</td>\n",
       "      <td>gas</td>\n",
       "      <td>177000</td>\n",
       "      <td>automatic</td>\n",
       "      <td>SUV</td>\n",
       "      <td>black</td>\n",
       "      <td>1</td>\n",
       "      <td>2018-07-17</td>\n",
       "      <td>128</td>\n",
       "      <td>4</td>\n",
       "      <td>1</td>\n",
       "      <td>11</td>\n",
       "      <td>16091.0</td>\n",
       "    </tr>\n",
       "    <tr>\n",
       "      <th>1523</th>\n",
       "      <td>50948</td>\n",
       "      <td>2017</td>\n",
       "      <td>chevrolet silverado 2500hd</td>\n",
       "      <td>3</td>\n",
       "      <td>8</td>\n",
       "      <td>diesel</td>\n",
       "      <td>43076</td>\n",
       "      <td>automatic</td>\n",
       "      <td>pickup</td>\n",
       "      <td>black</td>\n",
       "      <td>1</td>\n",
       "      <td>2018-11-17</td>\n",
       "      <td>155</td>\n",
       "      <td>4</td>\n",
       "      <td>5</td>\n",
       "      <td>1</td>\n",
       "      <td>43076.0</td>\n",
       "    </tr>\n",
       "    <tr>\n",
       "      <th>1630</th>\n",
       "      <td>21000</td>\n",
       "      <td>2018</td>\n",
       "      <td>nissan frontier crew cab sv</td>\n",
       "      <td>2</td>\n",
       "      <td>6</td>\n",
       "      <td>gas</td>\n",
       "      <td>25231</td>\n",
       "      <td>other</td>\n",
       "      <td>pickup</td>\n",
       "      <td>silver</td>\n",
       "      <td>1</td>\n",
       "      <td>2018-05-05</td>\n",
       "      <td>149</td>\n",
       "      <td>7</td>\n",
       "      <td>5</td>\n",
       "      <td>0</td>\n",
       "      <td>inf</td>\n",
       "    </tr>\n",
       "    <tr>\n",
       "      <th>1793</th>\n",
       "      <td>2300</td>\n",
       "      <td>2005</td>\n",
       "      <td>volkswagen jetta</td>\n",
       "      <td>2</td>\n",
       "      <td>4</td>\n",
       "      <td>gas</td>\n",
       "      <td>151960</td>\n",
       "      <td>automatic</td>\n",
       "      <td>sedan</td>\n",
       "      <td>black</td>\n",
       "      <td>0</td>\n",
       "      <td>2018-11-08</td>\n",
       "      <td>144</td>\n",
       "      <td>4</td>\n",
       "      <td>3</td>\n",
       "      <td>13</td>\n",
       "      <td>11689.0</td>\n",
       "    </tr>\n",
       "  </tbody>\n",
       "</table>\n",
       "</div>"
      ],
      "text/plain": [
       "      price  model_year                         model  condition  cylinders  \\\n",
       "51     3800        2012                    ford focus          2          4   \n",
       "89    18800        2015  chevrolet camaro lt coupe 2d          2          6   \n",
       "104   22900        2014   ford f150 supercrew cab xlt          2          6   \n",
       "193    6995        2009                   ford ranger          2          4   \n",
       "228    8795        2014                   honda civic          3          4   \n",
       "334   13000        2004            chevrolet corvette          2          8   \n",
       "414    7995        2008           chevrolet silverado          2          6   \n",
       "569    7900        2001                 jeep wrangler          3          4   \n",
       "594    7900        2008             toyota highlander          3          6   \n",
       "688   26995        2016           chevrolet silverado          4          8   \n",
       "850    8595        2014                 dodge charger          4          6   \n",
       "878   13250        2008                toyota 4runner          3          6   \n",
       "931   25995        2011                      ram 2500          2          6   \n",
       "1024   9995        2008           chevrolet silverado          2          8   \n",
       "1180  11950        2013                    ford f-150          2          6   \n",
       "1201   5750        2006           jeep grand cherokee          2          8   \n",
       "1401   8000        2007            chevrolet suburban          2          8   \n",
       "1523  50948        2017    chevrolet silverado 2500hd          3          8   \n",
       "1630  21000        2018   nissan frontier crew cab sv          2          6   \n",
       "1793   2300        2005              volkswagen jetta          2          4   \n",
       "\n",
       "        fuel  mileage transmission         type paint_color  has_4wd  \\\n",
       "51       gas   130323    automatic        sedan       black        0   \n",
       "89       gas    33926        other        coupe        grey        0   \n",
       "104      gas    73711    automatic       pickup       white        1   \n",
       "193      gas   131150    automatic       pickup       white        0   \n",
       "228      gas    85452    automatic        sedan        grey        0   \n",
       "334      gas    85104    automatic  convertible        blue        0   \n",
       "414      gas   146000    automatic       pickup       white        0   \n",
       "569      gas   231089       manual          SUV      yellow        1   \n",
       "594      gas   114720    automatic          SUV      silver        0   \n",
       "688      gas    36645    automatic       pickup       white        1   \n",
       "850      gas   100004    automatic        sedan        blue        0   \n",
       "878      gas   151668    automatic          SUV       black        1   \n",
       "931   diesel   150597       manual        truck       white        1   \n",
       "1024     gas   251000    automatic        truck       black        1   \n",
       "1180     gas   102938    automatic        truck       other        1   \n",
       "1201     gas   151574    automatic          SUV       other        1   \n",
       "1401     gas   177000    automatic          SUV       black        1   \n",
       "1523  diesel    43076    automatic       pickup       black        1   \n",
       "1630     gas    25231        other       pickup      silver        1   \n",
       "1793     gas   151960    automatic        sedan       black        0   \n",
       "\n",
       "     date_posted  days_listed  paint_category  weekday_posted_on  car_age  \\\n",
       "51    2018-11-29          261               4                  3        6   \n",
       "89    2019-01-16          152               6                  2        4   \n",
       "104   2019-02-27          141               2                  2        5   \n",
       "193   2019-03-31          130               2                  6       10   \n",
       "228   2018-09-11          164               6                  1        4   \n",
       "334   2018-10-12          127               5                  4       14   \n",
       "414   2019-02-26          140               2                  1       11   \n",
       "569   2018-11-28          128              10                  2       17   \n",
       "594   2018-09-21          129               7                  4       10   \n",
       "688   2018-09-01          152               2                  5        2   \n",
       "850   2018-10-14          154               5                  6        4   \n",
       "878   2018-06-19          151               4                  1       10   \n",
       "931   2018-11-16          147               2                  4        7   \n",
       "1024  2018-06-12          143               4                  1       10   \n",
       "1180  2018-09-13          132               1                  3        5   \n",
       "1201  2018-06-21          141               1                  3       12   \n",
       "1401  2018-07-17          128               4                  1       11   \n",
       "1523  2018-11-17          155               4                  5        1   \n",
       "1630  2018-05-05          149               7                  5        0   \n",
       "1793  2018-11-08          144               4                  3       13   \n",
       "\n",
       "      avg_mileage  \n",
       "51        21720.0  \n",
       "89         8482.0  \n",
       "104       14742.0  \n",
       "193       13115.0  \n",
       "228       21363.0  \n",
       "334        6079.0  \n",
       "414       13273.0  \n",
       "569       13593.0  \n",
       "594       11472.0  \n",
       "688       18322.0  \n",
       "850       25001.0  \n",
       "878       15167.0  \n",
       "931       21514.0  \n",
       "1024      25100.0  \n",
       "1180      20588.0  \n",
       "1201      12631.0  \n",
       "1401      16091.0  \n",
       "1523      43076.0  \n",
       "1630          inf  \n",
       "1793      11689.0  "
      ]
     },
     "execution_count": 56,
     "metadata": {},
     "output_type": "execute_result"
    }
   ],
   "source": [
    "listed_days_max.head(20)"
   ]
  },
  {
   "cell_type": "code",
   "execution_count": 57,
   "metadata": {},
   "outputs": [
    {
     "data": {
      "text/html": [
       "<div>\n",
       "<style scoped>\n",
       "    .dataframe tbody tr th:only-of-type {\n",
       "        vertical-align: middle;\n",
       "    }\n",
       "\n",
       "    .dataframe tbody tr th {\n",
       "        vertical-align: top;\n",
       "    }\n",
       "\n",
       "    .dataframe thead th {\n",
       "        text-align: right;\n",
       "    }\n",
       "</style>\n",
       "<table border=\"1\" class=\"dataframe\">\n",
       "  <thead>\n",
       "    <tr style=\"text-align: right;\">\n",
       "      <th></th>\n",
       "      <th>price</th>\n",
       "      <th>model_year</th>\n",
       "      <th>model</th>\n",
       "      <th>condition</th>\n",
       "      <th>cylinders</th>\n",
       "      <th>fuel</th>\n",
       "      <th>mileage</th>\n",
       "      <th>transmission</th>\n",
       "      <th>type</th>\n",
       "      <th>paint_color</th>\n",
       "      <th>has_4wd</th>\n",
       "      <th>date_posted</th>\n",
       "      <th>days_listed</th>\n",
       "      <th>paint_category</th>\n",
       "      <th>weekday_posted_on</th>\n",
       "      <th>car_age</th>\n",
       "      <th>avg_mileage</th>\n",
       "    </tr>\n",
       "  </thead>\n",
       "  <tbody>\n",
       "    <tr>\n",
       "      <th>0</th>\n",
       "      <td>9400</td>\n",
       "      <td>2011</td>\n",
       "      <td>bmw x5</td>\n",
       "      <td>2</td>\n",
       "      <td>6</td>\n",
       "      <td>gas</td>\n",
       "      <td>145000</td>\n",
       "      <td>automatic</td>\n",
       "      <td>SUV</td>\n",
       "      <td>other</td>\n",
       "      <td>1</td>\n",
       "      <td>2018-06-23</td>\n",
       "      <td>19</td>\n",
       "      <td>1</td>\n",
       "      <td>5</td>\n",
       "      <td>7</td>\n",
       "      <td>20714.0</td>\n",
       "    </tr>\n",
       "    <tr>\n",
       "      <th>1</th>\n",
       "      <td>25500</td>\n",
       "      <td>2009</td>\n",
       "      <td>ford f-150</td>\n",
       "      <td>2</td>\n",
       "      <td>6</td>\n",
       "      <td>gas</td>\n",
       "      <td>88705</td>\n",
       "      <td>automatic</td>\n",
       "      <td>pickup</td>\n",
       "      <td>white</td>\n",
       "      <td>1</td>\n",
       "      <td>2018-10-19</td>\n",
       "      <td>50</td>\n",
       "      <td>2</td>\n",
       "      <td>4</td>\n",
       "      <td>9</td>\n",
       "      <td>9856.0</td>\n",
       "    </tr>\n",
       "    <tr>\n",
       "      <th>4</th>\n",
       "      <td>14900</td>\n",
       "      <td>2017</td>\n",
       "      <td>chrysler 200</td>\n",
       "      <td>3</td>\n",
       "      <td>4</td>\n",
       "      <td>gas</td>\n",
       "      <td>80903</td>\n",
       "      <td>automatic</td>\n",
       "      <td>sedan</td>\n",
       "      <td>black</td>\n",
       "      <td>0</td>\n",
       "      <td>2019-04-02</td>\n",
       "      <td>28</td>\n",
       "      <td>4</td>\n",
       "      <td>1</td>\n",
       "      <td>2</td>\n",
       "      <td>40452.0</td>\n",
       "    </tr>\n",
       "    <tr>\n",
       "      <th>5</th>\n",
       "      <td>14990</td>\n",
       "      <td>2014</td>\n",
       "      <td>chrysler 300</td>\n",
       "      <td>3</td>\n",
       "      <td>6</td>\n",
       "      <td>gas</td>\n",
       "      <td>57954</td>\n",
       "      <td>automatic</td>\n",
       "      <td>sedan</td>\n",
       "      <td>black</td>\n",
       "      <td>1</td>\n",
       "      <td>2018-06-20</td>\n",
       "      <td>15</td>\n",
       "      <td>4</td>\n",
       "      <td>2</td>\n",
       "      <td>4</td>\n",
       "      <td>14488.0</td>\n",
       "    </tr>\n",
       "    <tr>\n",
       "      <th>8</th>\n",
       "      <td>11500</td>\n",
       "      <td>2012</td>\n",
       "      <td>kia sorento</td>\n",
       "      <td>3</td>\n",
       "      <td>4</td>\n",
       "      <td>gas</td>\n",
       "      <td>104174</td>\n",
       "      <td>automatic</td>\n",
       "      <td>SUV</td>\n",
       "      <td>other</td>\n",
       "      <td>1</td>\n",
       "      <td>2018-07-16</td>\n",
       "      <td>19</td>\n",
       "      <td>1</td>\n",
       "      <td>0</td>\n",
       "      <td>6</td>\n",
       "      <td>17362.0</td>\n",
       "    </tr>\n",
       "    <tr>\n",
       "      <th>9</th>\n",
       "      <td>9200</td>\n",
       "      <td>2008</td>\n",
       "      <td>honda pilot</td>\n",
       "      <td>3</td>\n",
       "      <td>6</td>\n",
       "      <td>gas</td>\n",
       "      <td>147191</td>\n",
       "      <td>automatic</td>\n",
       "      <td>SUV</td>\n",
       "      <td>blue</td>\n",
       "      <td>1</td>\n",
       "      <td>2019-02-15</td>\n",
       "      <td>17</td>\n",
       "      <td>5</td>\n",
       "      <td>4</td>\n",
       "      <td>11</td>\n",
       "      <td>13381.0</td>\n",
       "    </tr>\n",
       "    <tr>\n",
       "      <th>10</th>\n",
       "      <td>19500</td>\n",
       "      <td>2011</td>\n",
       "      <td>chevrolet silverado 1500</td>\n",
       "      <td>3</td>\n",
       "      <td>8</td>\n",
       "      <td>gas</td>\n",
       "      <td>128413</td>\n",
       "      <td>automatic</td>\n",
       "      <td>pickup</td>\n",
       "      <td>black</td>\n",
       "      <td>1</td>\n",
       "      <td>2018-09-17</td>\n",
       "      <td>38</td>\n",
       "      <td>4</td>\n",
       "      <td>0</td>\n",
       "      <td>7</td>\n",
       "      <td>18345.0</td>\n",
       "    </tr>\n",
       "    <tr>\n",
       "      <th>11</th>\n",
       "      <td>8990</td>\n",
       "      <td>2012</td>\n",
       "      <td>honda accord</td>\n",
       "      <td>3</td>\n",
       "      <td>4</td>\n",
       "      <td>gas</td>\n",
       "      <td>111142</td>\n",
       "      <td>automatic</td>\n",
       "      <td>sedan</td>\n",
       "      <td>grey</td>\n",
       "      <td>0</td>\n",
       "      <td>2019-03-28</td>\n",
       "      <td>29</td>\n",
       "      <td>6</td>\n",
       "      <td>3</td>\n",
       "      <td>7</td>\n",
       "      <td>15877.0</td>\n",
       "    </tr>\n",
       "    <tr>\n",
       "      <th>12</th>\n",
       "      <td>18990</td>\n",
       "      <td>2012</td>\n",
       "      <td>ram 1500</td>\n",
       "      <td>3</td>\n",
       "      <td>8</td>\n",
       "      <td>gas</td>\n",
       "      <td>140742</td>\n",
       "      <td>automatic</td>\n",
       "      <td>pickup</td>\n",
       "      <td>other</td>\n",
       "      <td>1</td>\n",
       "      <td>2019-04-02</td>\n",
       "      <td>37</td>\n",
       "      <td>1</td>\n",
       "      <td>1</td>\n",
       "      <td>7</td>\n",
       "      <td>20106.0</td>\n",
       "    </tr>\n",
       "    <tr>\n",
       "      <th>13</th>\n",
       "      <td>16500</td>\n",
       "      <td>2018</td>\n",
       "      <td>hyundai sonata</td>\n",
       "      <td>3</td>\n",
       "      <td>4</td>\n",
       "      <td>gas</td>\n",
       "      <td>22104</td>\n",
       "      <td>automatic</td>\n",
       "      <td>sedan</td>\n",
       "      <td>silver</td>\n",
       "      <td>0</td>\n",
       "      <td>2019-01-14</td>\n",
       "      <td>29</td>\n",
       "      <td>7</td>\n",
       "      <td>0</td>\n",
       "      <td>1</td>\n",
       "      <td>22104.0</td>\n",
       "    </tr>\n",
       "    <tr>\n",
       "      <th>14</th>\n",
       "      <td>12990</td>\n",
       "      <td>2009</td>\n",
       "      <td>gmc yukon</td>\n",
       "      <td>3</td>\n",
       "      <td>8</td>\n",
       "      <td>gas</td>\n",
       "      <td>132285</td>\n",
       "      <td>automatic</td>\n",
       "      <td>SUV</td>\n",
       "      <td>black</td>\n",
       "      <td>1</td>\n",
       "      <td>2019-01-31</td>\n",
       "      <td>24</td>\n",
       "      <td>4</td>\n",
       "      <td>3</td>\n",
       "      <td>10</td>\n",
       "      <td>13228.0</td>\n",
       "    </tr>\n",
       "    <tr>\n",
       "      <th>17</th>\n",
       "      <td>13990</td>\n",
       "      <td>2014</td>\n",
       "      <td>jeep cherokee</td>\n",
       "      <td>3</td>\n",
       "      <td>6</td>\n",
       "      <td>gas</td>\n",
       "      <td>100669</td>\n",
       "      <td>automatic</td>\n",
       "      <td>SUV</td>\n",
       "      <td>red</td>\n",
       "      <td>1</td>\n",
       "      <td>2018-08-16</td>\n",
       "      <td>25</td>\n",
       "      <td>3</td>\n",
       "      <td>3</td>\n",
       "      <td>4</td>\n",
       "      <td>25167.0</td>\n",
       "    </tr>\n",
       "    <tr>\n",
       "      <th>19</th>\n",
       "      <td>13990</td>\n",
       "      <td>2018</td>\n",
       "      <td>hyundai elantra</td>\n",
       "      <td>3</td>\n",
       "      <td>4</td>\n",
       "      <td>gas</td>\n",
       "      <td>31932</td>\n",
       "      <td>automatic</td>\n",
       "      <td>sedan</td>\n",
       "      <td>red</td>\n",
       "      <td>0</td>\n",
       "      <td>2018-08-25</td>\n",
       "      <td>27</td>\n",
       "      <td>3</td>\n",
       "      <td>5</td>\n",
       "      <td>0</td>\n",
       "      <td>inf</td>\n",
       "    </tr>\n",
       "    <tr>\n",
       "      <th>20</th>\n",
       "      <td>6990</td>\n",
       "      <td>2008</td>\n",
       "      <td>chevrolet tahoe</td>\n",
       "      <td>3</td>\n",
       "      <td>8</td>\n",
       "      <td>gas</td>\n",
       "      <td>147485</td>\n",
       "      <td>automatic</td>\n",
       "      <td>SUV</td>\n",
       "      <td>silver</td>\n",
       "      <td>1</td>\n",
       "      <td>2018-08-05</td>\n",
       "      <td>28</td>\n",
       "      <td>7</td>\n",
       "      <td>6</td>\n",
       "      <td>10</td>\n",
       "      <td>14748.0</td>\n",
       "    </tr>\n",
       "    <tr>\n",
       "      <th>23</th>\n",
       "      <td>7500</td>\n",
       "      <td>2004</td>\n",
       "      <td>jeep wrangler</td>\n",
       "      <td>2</td>\n",
       "      <td>6</td>\n",
       "      <td>gas</td>\n",
       "      <td>156834</td>\n",
       "      <td>automatic</td>\n",
       "      <td>SUV</td>\n",
       "      <td>red</td>\n",
       "      <td>1</td>\n",
       "      <td>2018-05-17</td>\n",
       "      <td>39</td>\n",
       "      <td>3</td>\n",
       "      <td>3</td>\n",
       "      <td>14</td>\n",
       "      <td>11202.0</td>\n",
       "    </tr>\n",
       "    <tr>\n",
       "      <th>24</th>\n",
       "      <td>3950</td>\n",
       "      <td>2009</td>\n",
       "      <td>chrysler 200</td>\n",
       "      <td>3</td>\n",
       "      <td>4</td>\n",
       "      <td>gas</td>\n",
       "      <td>131150</td>\n",
       "      <td>automatic</td>\n",
       "      <td>sedan</td>\n",
       "      <td>red</td>\n",
       "      <td>0</td>\n",
       "      <td>2018-06-11</td>\n",
       "      <td>40</td>\n",
       "      <td>3</td>\n",
       "      <td>0</td>\n",
       "      <td>9</td>\n",
       "      <td>14572.0</td>\n",
       "    </tr>\n",
       "    <tr>\n",
       "      <th>25</th>\n",
       "      <td>11499</td>\n",
       "      <td>2017</td>\n",
       "      <td>chevrolet malibu</td>\n",
       "      <td>4</td>\n",
       "      <td>4</td>\n",
       "      <td>gas</td>\n",
       "      <td>47369</td>\n",
       "      <td>automatic</td>\n",
       "      <td>sedan</td>\n",
       "      <td>other</td>\n",
       "      <td>0</td>\n",
       "      <td>2018-07-26</td>\n",
       "      <td>43</td>\n",
       "      <td>1</td>\n",
       "      <td>3</td>\n",
       "      <td>1</td>\n",
       "      <td>47369.0</td>\n",
       "    </tr>\n",
       "    <tr>\n",
       "      <th>26</th>\n",
       "      <td>8499</td>\n",
       "      <td>2014</td>\n",
       "      <td>ford fusion se</td>\n",
       "      <td>4</td>\n",
       "      <td>4</td>\n",
       "      <td>gas</td>\n",
       "      <td>79523</td>\n",
       "      <td>automatic</td>\n",
       "      <td>sedan</td>\n",
       "      <td>red</td>\n",
       "      <td>0</td>\n",
       "      <td>2018-10-25</td>\n",
       "      <td>23</td>\n",
       "      <td>3</td>\n",
       "      <td>3</td>\n",
       "      <td>4</td>\n",
       "      <td>19881.0</td>\n",
       "    </tr>\n",
       "    <tr>\n",
       "      <th>27</th>\n",
       "      <td>12999</td>\n",
       "      <td>2015</td>\n",
       "      <td>chevrolet impala</td>\n",
       "      <td>4</td>\n",
       "      <td>6</td>\n",
       "      <td>gas</td>\n",
       "      <td>39368</td>\n",
       "      <td>automatic</td>\n",
       "      <td>sedan</td>\n",
       "      <td>custom</td>\n",
       "      <td>0</td>\n",
       "      <td>2018-05-19</td>\n",
       "      <td>42</td>\n",
       "      <td>8</td>\n",
       "      <td>5</td>\n",
       "      <td>3</td>\n",
       "      <td>13123.0</td>\n",
       "    </tr>\n",
       "    <tr>\n",
       "      <th>29</th>\n",
       "      <td>5495</td>\n",
       "      <td>2010</td>\n",
       "      <td>chevrolet impala</td>\n",
       "      <td>3</td>\n",
       "      <td>6</td>\n",
       "      <td>gas</td>\n",
       "      <td>125849</td>\n",
       "      <td>automatic</td>\n",
       "      <td>sedan</td>\n",
       "      <td>white</td>\n",
       "      <td>0</td>\n",
       "      <td>2019-02-18</td>\n",
       "      <td>20</td>\n",
       "      <td>2</td>\n",
       "      <td>0</td>\n",
       "      <td>9</td>\n",
       "      <td>13983.0</td>\n",
       "    </tr>\n",
       "  </tbody>\n",
       "</table>\n",
       "</div>"
      ],
      "text/plain": [
       "    price  model_year                     model  condition  cylinders fuel  \\\n",
       "0    9400        2011                    bmw x5          2          6  gas   \n",
       "1   25500        2009                ford f-150          2          6  gas   \n",
       "4   14900        2017              chrysler 200          3          4  gas   \n",
       "5   14990        2014              chrysler 300          3          6  gas   \n",
       "8   11500        2012               kia sorento          3          4  gas   \n",
       "9    9200        2008               honda pilot          3          6  gas   \n",
       "10  19500        2011  chevrolet silverado 1500          3          8  gas   \n",
       "11   8990        2012              honda accord          3          4  gas   \n",
       "12  18990        2012                  ram 1500          3          8  gas   \n",
       "13  16500        2018            hyundai sonata          3          4  gas   \n",
       "14  12990        2009                 gmc yukon          3          8  gas   \n",
       "17  13990        2014             jeep cherokee          3          6  gas   \n",
       "19  13990        2018           hyundai elantra          3          4  gas   \n",
       "20   6990        2008           chevrolet tahoe          3          8  gas   \n",
       "23   7500        2004             jeep wrangler          2          6  gas   \n",
       "24   3950        2009              chrysler 200          3          4  gas   \n",
       "25  11499        2017          chevrolet malibu          4          4  gas   \n",
       "26   8499        2014            ford fusion se          4          4  gas   \n",
       "27  12999        2015          chevrolet impala          4          6  gas   \n",
       "29   5495        2010          chevrolet impala          3          6  gas   \n",
       "\n",
       "    mileage transmission    type paint_color  has_4wd date_posted  \\\n",
       "0    145000    automatic     SUV       other        1  2018-06-23   \n",
       "1     88705    automatic  pickup       white        1  2018-10-19   \n",
       "4     80903    automatic   sedan       black        0  2019-04-02   \n",
       "5     57954    automatic   sedan       black        1  2018-06-20   \n",
       "8    104174    automatic     SUV       other        1  2018-07-16   \n",
       "9    147191    automatic     SUV        blue        1  2019-02-15   \n",
       "10   128413    automatic  pickup       black        1  2018-09-17   \n",
       "11   111142    automatic   sedan        grey        0  2019-03-28   \n",
       "12   140742    automatic  pickup       other        1  2019-04-02   \n",
       "13    22104    automatic   sedan      silver        0  2019-01-14   \n",
       "14   132285    automatic     SUV       black        1  2019-01-31   \n",
       "17   100669    automatic     SUV         red        1  2018-08-16   \n",
       "19    31932    automatic   sedan         red        0  2018-08-25   \n",
       "20   147485    automatic     SUV      silver        1  2018-08-05   \n",
       "23   156834    automatic     SUV         red        1  2018-05-17   \n",
       "24   131150    automatic   sedan         red        0  2018-06-11   \n",
       "25    47369    automatic   sedan       other        0  2018-07-26   \n",
       "26    79523    automatic   sedan         red        0  2018-10-25   \n",
       "27    39368    automatic   sedan      custom        0  2018-05-19   \n",
       "29   125849    automatic   sedan       white        0  2019-02-18   \n",
       "\n",
       "    days_listed  paint_category  weekday_posted_on  car_age  avg_mileage  \n",
       "0            19               1                  5        7      20714.0  \n",
       "1            50               2                  4        9       9856.0  \n",
       "4            28               4                  1        2      40452.0  \n",
       "5            15               4                  2        4      14488.0  \n",
       "8            19               1                  0        6      17362.0  \n",
       "9            17               5                  4       11      13381.0  \n",
       "10           38               4                  0        7      18345.0  \n",
       "11           29               6                  3        7      15877.0  \n",
       "12           37               1                  1        7      20106.0  \n",
       "13           29               7                  0        1      22104.0  \n",
       "14           24               4                  3       10      13228.0  \n",
       "17           25               3                  3        4      25167.0  \n",
       "19           27               3                  5        0          inf  \n",
       "20           28               7                  6       10      14748.0  \n",
       "23           39               3                  3       14      11202.0  \n",
       "24           40               3                  0        9      14572.0  \n",
       "25           43               1                  3        1      47369.0  \n",
       "26           23               3                  3        4      19881.0  \n",
       "27           42               8                  5        3      13123.0  \n",
       "29           20               2                  0        9      13983.0  "
      ]
     },
     "execution_count": 57,
     "metadata": {},
     "output_type": "execute_result"
    }
   ],
   "source": [
    "listed_days_normal.head(20)"
   ]
  },
  {
   "cell_type": "markdown",
   "metadata": {},
   "source": [
    "**Ads are mostly listed between 15 to 60 days. Where most will be listed at about 33 days.  with avarage lifespan of almost 40 days.**"
   ]
  },
  {
   "cell_type": "markdown",
   "metadata": {},
   "source": [
    "## Average price per each type of vehicle"
   ]
  },
  {
   "cell_type": "markdown",
   "metadata": {},
   "source": [
    "\n",
    "**We should plot a bar chart and see what cars are the most popular and take them as sample to look for the variances in price, and see which parameters effect the price more then the others by looking on the avrage price by type of car.** "
   ]
  },
  {
   "cell_type": "code",
   "execution_count": 58,
   "metadata": {},
   "outputs": [
    {
     "data": {
      "text/html": [
       "<div>\n",
       "<style scoped>\n",
       "    .dataframe tbody tr th:only-of-type {\n",
       "        vertical-align: middle;\n",
       "    }\n",
       "\n",
       "    .dataframe tbody tr th {\n",
       "        vertical-align: top;\n",
       "    }\n",
       "\n",
       "    .dataframe thead th {\n",
       "        text-align: right;\n",
       "    }\n",
       "</style>\n",
       "<table border=\"1\" class=\"dataframe\">\n",
       "  <thead>\n",
       "    <tr style=\"text-align: right;\">\n",
       "      <th></th>\n",
       "      <th>type</th>\n",
       "      <th>car_age</th>\n",
       "      <th>mileage</th>\n",
       "      <th>transmission</th>\n",
       "      <th>cylinders</th>\n",
       "      <th>condition</th>\n",
       "      <th>paint_color</th>\n",
       "      <th>paint_category</th>\n",
       "      <th>Count</th>\n",
       "      <th>Mean</th>\n",
       "    </tr>\n",
       "  </thead>\n",
       "  <tbody>\n",
       "    <tr>\n",
       "      <th>0</th>\n",
       "      <td>SUV</td>\n",
       "      <td>0</td>\n",
       "      <td>10</td>\n",
       "      <td>automatic</td>\n",
       "      <td>4</td>\n",
       "      <td>5</td>\n",
       "      <td>white</td>\n",
       "      <td>2</td>\n",
       "      <td>1</td>\n",
       "      <td>30740.0</td>\n",
       "    </tr>\n",
       "    <tr>\n",
       "      <th>1</th>\n",
       "      <td>SUV</td>\n",
       "      <td>0</td>\n",
       "      <td>10</td>\n",
       "      <td>automatic</td>\n",
       "      <td>6</td>\n",
       "      <td>4</td>\n",
       "      <td>other</td>\n",
       "      <td>1</td>\n",
       "      <td>1</td>\n",
       "      <td>475.0</td>\n",
       "    </tr>\n",
       "    <tr>\n",
       "      <th>2</th>\n",
       "      <td>SUV</td>\n",
       "      <td>0</td>\n",
       "      <td>14</td>\n",
       "      <td>automatic</td>\n",
       "      <td>4</td>\n",
       "      <td>4</td>\n",
       "      <td>white</td>\n",
       "      <td>2</td>\n",
       "      <td>2</td>\n",
       "      <td>326.0</td>\n",
       "    </tr>\n",
       "    <tr>\n",
       "      <th>3</th>\n",
       "      <td>SUV</td>\n",
       "      <td>0</td>\n",
       "      <td>59</td>\n",
       "      <td>automatic</td>\n",
       "      <td>6</td>\n",
       "      <td>3</td>\n",
       "      <td>other</td>\n",
       "      <td>1</td>\n",
       "      <td>1</td>\n",
       "      <td>49995.0</td>\n",
       "    </tr>\n",
       "    <tr>\n",
       "      <th>4</th>\n",
       "      <td>SUV</td>\n",
       "      <td>0</td>\n",
       "      <td>1003</td>\n",
       "      <td>automatic</td>\n",
       "      <td>8</td>\n",
       "      <td>3</td>\n",
       "      <td>black</td>\n",
       "      <td>4</td>\n",
       "      <td>4</td>\n",
       "      <td>1.0</td>\n",
       "    </tr>\n",
       "    <tr>\n",
       "      <th>...</th>\n",
       "      <td>...</td>\n",
       "      <td>...</td>\n",
       "      <td>...</td>\n",
       "      <td>...</td>\n",
       "      <td>...</td>\n",
       "      <td>...</td>\n",
       "      <td>...</td>\n",
       "      <td>...</td>\n",
       "      <td>...</td>\n",
       "      <td>...</td>\n",
       "    </tr>\n",
       "    <tr>\n",
       "      <th>28322</th>\n",
       "      <td>wagon</td>\n",
       "      <td>21</td>\n",
       "      <td>157100</td>\n",
       "      <td>automatic</td>\n",
       "      <td>4</td>\n",
       "      <td>3</td>\n",
       "      <td>black</td>\n",
       "      <td>4</td>\n",
       "      <td>1</td>\n",
       "      <td>1850.0</td>\n",
       "    </tr>\n",
       "    <tr>\n",
       "      <th>28323</th>\n",
       "      <td>wagon</td>\n",
       "      <td>21</td>\n",
       "      <td>178223</td>\n",
       "      <td>automatic</td>\n",
       "      <td>4</td>\n",
       "      <td>3</td>\n",
       "      <td>red</td>\n",
       "      <td>3</td>\n",
       "      <td>1</td>\n",
       "      <td>1800.0</td>\n",
       "    </tr>\n",
       "    <tr>\n",
       "      <th>28324</th>\n",
       "      <td>wagon</td>\n",
       "      <td>21</td>\n",
       "      <td>240000</td>\n",
       "      <td>automatic</td>\n",
       "      <td>4</td>\n",
       "      <td>2</td>\n",
       "      <td>other</td>\n",
       "      <td>1</td>\n",
       "      <td>1</td>\n",
       "      <td>1500.0</td>\n",
       "    </tr>\n",
       "    <tr>\n",
       "      <th>28325</th>\n",
       "      <td>wagon</td>\n",
       "      <td>22</td>\n",
       "      <td>250000</td>\n",
       "      <td>automatic</td>\n",
       "      <td>6</td>\n",
       "      <td>1</td>\n",
       "      <td>black</td>\n",
       "      <td>4</td>\n",
       "      <td>1</td>\n",
       "      <td>900.0</td>\n",
       "    </tr>\n",
       "    <tr>\n",
       "      <th>28326</th>\n",
       "      <td>wagon</td>\n",
       "      <td>22</td>\n",
       "      <td>300000</td>\n",
       "      <td>automatic</td>\n",
       "      <td>6</td>\n",
       "      <td>1</td>\n",
       "      <td>other</td>\n",
       "      <td>1</td>\n",
       "      <td>1</td>\n",
       "      <td>500.0</td>\n",
       "    </tr>\n",
       "  </tbody>\n",
       "</table>\n",
       "<p>28327 rows × 10 columns</p>\n",
       "</div>"
      ],
      "text/plain": [
       "        type  car_age  mileage transmission  cylinders  condition paint_color  \\\n",
       "0        SUV        0       10    automatic          4          5       white   \n",
       "1        SUV        0       10    automatic          6          4       other   \n",
       "2        SUV        0       14    automatic          4          4       white   \n",
       "3        SUV        0       59    automatic          6          3       other   \n",
       "4        SUV        0     1003    automatic          8          3       black   \n",
       "...      ...      ...      ...          ...        ...        ...         ...   \n",
       "28322  wagon       21   157100    automatic          4          3       black   \n",
       "28323  wagon       21   178223    automatic          4          3         red   \n",
       "28324  wagon       21   240000    automatic          4          2       other   \n",
       "28325  wagon       22   250000    automatic          6          1       black   \n",
       "28326  wagon       22   300000    automatic          6          1       other   \n",
       "\n",
       "       paint_category  Count     Mean  \n",
       "0                   2      1  30740.0  \n",
       "1                   1      1    475.0  \n",
       "2                   2      2    326.0  \n",
       "3                   1      1  49995.0  \n",
       "4                   4      4      1.0  \n",
       "...               ...    ...      ...  \n",
       "28322               4      1   1850.0  \n",
       "28323               3      1   1800.0  \n",
       "28324               1      1   1500.0  \n",
       "28325               4      1    900.0  \n",
       "28326               1      1    500.0  \n",
       "\n",
       "[28327 rows x 10 columns]"
      ]
     },
     "execution_count": 58,
     "metadata": {},
     "output_type": "execute_result"
    }
   ],
   "source": [
    "#pivot table of price vs type\n",
    "\n",
    "car_data_gen_price_all = listed_days_normal.groupby(['type','car_age','mileage','transmission','cylinders','condition','paint_color','paint_category'])['price'].agg(Count='count',Mean='mean').reset_index()\n",
    "car_data_gen_type_price = pd.pivot_table(listed_days_normal , index='type', values='price' , aggfunc=['mean','count']).reset_index()#.sort_values(by='mean',ascending=False)\n",
    "car_data_gen_type_price.sort_values(by=('count','price'),inplace=True)\n",
    "car_data_gen_type_price.reset_index(drop=True , inplace=True)\n",
    "car_data_gen_type_price = car_data_gen_type_price.loc[(car_data_gen_type_price['type'] != 'bus')]\n",
    "car_data_gen_type_price.reset_index(drop=True , inplace=True)\n",
    "\n",
    "car_data_gen_price_all"
   ]
  },
  {
   "cell_type": "markdown",
   "metadata": {},
   "source": [
    "There are 4 popular categories that we can take as thos who represent the majority of the car ads.: SUV ,truck,sedan,pickup. \n",
    "\n",
    "They cosist more then 42,000 of the ads. which is about 80% of the data.\n",
    "\n",
    "**we will check SUV and Truck types  to see the price changes to see if we identify any category that influances more then other.**"
   ]
  },
  {
   "cell_type": "markdown",
   "metadata": {},
   "source": [
    "## Price factors"
   ]
  },
  {
   "cell_type": "markdown",
   "metadata": {},
   "source": [
    "\n",
    "we will check SUV and Truck types to see the price correlation between ."
   ]
  },
  {
   "cell_type": "code",
   "execution_count": 59,
   "metadata": {
    "scrolled": true
   },
   "outputs": [
    {
     "data": {
      "text/html": [
       "<div>\n",
       "<style scoped>\n",
       "    .dataframe tbody tr th:only-of-type {\n",
       "        vertical-align: middle;\n",
       "    }\n",
       "\n",
       "    .dataframe tbody tr th {\n",
       "        vertical-align: top;\n",
       "    }\n",
       "\n",
       "    .dataframe thead th {\n",
       "        text-align: right;\n",
       "    }\n",
       "</style>\n",
       "<table border=\"1\" class=\"dataframe\">\n",
       "  <thead>\n",
       "    <tr style=\"text-align: right;\">\n",
       "      <th></th>\n",
       "      <th>car_age</th>\n",
       "      <th>mileage</th>\n",
       "      <th>cylinders</th>\n",
       "      <th>condition</th>\n",
       "      <th>paint_category</th>\n",
       "      <th>Count</th>\n",
       "      <th>Mean</th>\n",
       "    </tr>\n",
       "  </thead>\n",
       "  <tbody>\n",
       "    <tr>\n",
       "      <th>car_age</th>\n",
       "      <td>1.000000</td>\n",
       "      <td>0.470200</td>\n",
       "      <td>0.172462</td>\n",
       "      <td>-0.293730</td>\n",
       "      <td>0.088846</td>\n",
       "      <td>-0.101199</td>\n",
       "      <td>-0.405828</td>\n",
       "    </tr>\n",
       "    <tr>\n",
       "      <th>mileage</th>\n",
       "      <td>0.470200</td>\n",
       "      <td>1.000000</td>\n",
       "      <td>0.108083</td>\n",
       "      <td>-0.319962</td>\n",
       "      <td>0.043432</td>\n",
       "      <td>-0.070434</td>\n",
       "      <td>-0.420714</td>\n",
       "    </tr>\n",
       "    <tr>\n",
       "      <th>cylinders</th>\n",
       "      <td>0.172462</td>\n",
       "      <td>0.108083</td>\n",
       "      <td>1.000000</td>\n",
       "      <td>-0.059724</td>\n",
       "      <td>-0.082925</td>\n",
       "      <td>0.045301</td>\n",
       "      <td>0.287264</td>\n",
       "    </tr>\n",
       "    <tr>\n",
       "      <th>condition</th>\n",
       "      <td>-0.293730</td>\n",
       "      <td>-0.319962</td>\n",
       "      <td>-0.059724</td>\n",
       "      <td>1.000000</td>\n",
       "      <td>-0.027846</td>\n",
       "      <td>-0.011822</td>\n",
       "      <td>0.250033</td>\n",
       "    </tr>\n",
       "    <tr>\n",
       "      <th>paint_category</th>\n",
       "      <td>0.088846</td>\n",
       "      <td>0.043432</td>\n",
       "      <td>-0.082925</td>\n",
       "      <td>-0.027846</td>\n",
       "      <td>1.000000</td>\n",
       "      <td>-0.010599</td>\n",
       "      <td>-0.093634</td>\n",
       "    </tr>\n",
       "    <tr>\n",
       "      <th>Count</th>\n",
       "      <td>-0.101199</td>\n",
       "      <td>-0.070434</td>\n",
       "      <td>0.045301</td>\n",
       "      <td>-0.011822</td>\n",
       "      <td>-0.010599</td>\n",
       "      <td>1.000000</td>\n",
       "      <td>0.069966</td>\n",
       "    </tr>\n",
       "    <tr>\n",
       "      <th>Mean</th>\n",
       "      <td>-0.405828</td>\n",
       "      <td>-0.420714</td>\n",
       "      <td>0.287264</td>\n",
       "      <td>0.250033</td>\n",
       "      <td>-0.093634</td>\n",
       "      <td>0.069966</td>\n",
       "      <td>1.000000</td>\n",
       "    </tr>\n",
       "  </tbody>\n",
       "</table>\n",
       "</div>"
      ],
      "text/plain": [
       "                 car_age   mileage  cylinders  condition  paint_category  \\\n",
       "car_age         1.000000  0.470200   0.172462  -0.293730        0.088846   \n",
       "mileage         0.470200  1.000000   0.108083  -0.319962        0.043432   \n",
       "cylinders       0.172462  0.108083   1.000000  -0.059724       -0.082925   \n",
       "condition      -0.293730 -0.319962  -0.059724   1.000000       -0.027846   \n",
       "paint_category  0.088846  0.043432  -0.082925  -0.027846        1.000000   \n",
       "Count          -0.101199 -0.070434   0.045301  -0.011822       -0.010599   \n",
       "Mean           -0.405828 -0.420714   0.287264   0.250033       -0.093634   \n",
       "\n",
       "                   Count      Mean  \n",
       "car_age        -0.101199 -0.405828  \n",
       "mileage        -0.070434 -0.420714  \n",
       "cylinders       0.045301  0.287264  \n",
       "condition      -0.011822  0.250033  \n",
       "paint_category -0.010599 -0.093634  \n",
       "Count           1.000000  0.069966  \n",
       "Mean            0.069966  1.000000  "
      ]
     },
     "execution_count": 59,
     "metadata": {},
     "output_type": "execute_result"
    }
   ],
   "source": [
    "car_data_gen_price_all.corr()"
   ]
  },
  {
   "cell_type": "code",
   "execution_count": 60,
   "metadata": {
    "scrolled": true
   },
   "outputs": [
    {
     "data": {
      "image/png": "[encoded data removed]",
      "text/plain": [
       "<Figure size 432x288 with 1 Axes>"
      ]
     },
     "metadata": {
      "needs_background": "light"
     },
     "output_type": "display_data"
    },
    {
     "data": {
      "image/png": "[encoded data removed]",
      "text/plain": [
       "<Figure size 648x648 with 49 Axes>"
      ]
     },
     "metadata": {
      "needs_background": "light"
     },
     "output_type": "display_data"
    }
   ],
   "source": [
    "#plot the type of car and price\n",
    "plt.scatter( x= car_data_gen_type_price['type'] ,y=car_data_gen_type_price['mean','price'] ,s=(car_data_gen_type_price['mean','price']*2/10), alpha=0.5 )\n",
    "pd.plotting.scatter_matrix(car_data_gen_price_all.corr(), figsize=(9, 9)) \n",
    "plt.show()\n"
   ]
  },
  {
   "cell_type": "markdown",
   "metadata": {},
   "source": [
    "\n",
    "**Let us extract only SUV and truck types that we have choshen from the most popular in the data set, and see the corralation there.**"
   ]
  },
  {
   "cell_type": "code",
   "execution_count": 61,
   "metadata": {},
   "outputs": [
    {
     "data": {
      "text/html": [
       "<div>\n",
       "<style scoped>\n",
       "    .dataframe tbody tr th:only-of-type {\n",
       "        vertical-align: middle;\n",
       "    }\n",
       "\n",
       "    .dataframe tbody tr th {\n",
       "        vertical-align: top;\n",
       "    }\n",
       "\n",
       "    .dataframe thead th {\n",
       "        text-align: right;\n",
       "    }\n",
       "</style>\n",
       "<table border=\"1\" class=\"dataframe\">\n",
       "  <thead>\n",
       "    <tr style=\"text-align: right;\">\n",
       "      <th></th>\n",
       "      <th>car_age</th>\n",
       "      <th>mileage</th>\n",
       "      <th>cylinders</th>\n",
       "      <th>condition</th>\n",
       "      <th>paint_category</th>\n",
       "      <th>Count</th>\n",
       "      <th>Mean</th>\n",
       "    </tr>\n",
       "  </thead>\n",
       "  <tbody>\n",
       "    <tr>\n",
       "      <th>car_age</th>\n",
       "      <td>1.000000</td>\n",
       "      <td>0.550972</td>\n",
       "      <td>0.140457</td>\n",
       "      <td>-0.347764</td>\n",
       "      <td>0.102591</td>\n",
       "      <td>-0.087343</td>\n",
       "      <td>-0.530409</td>\n",
       "    </tr>\n",
       "    <tr>\n",
       "      <th>mileage</th>\n",
       "      <td>0.550972</td>\n",
       "      <td>1.000000</td>\n",
       "      <td>0.132241</td>\n",
       "      <td>-0.336758</td>\n",
       "      <td>0.043276</td>\n",
       "      <td>-0.060281</td>\n",
       "      <td>-0.469156</td>\n",
       "    </tr>\n",
       "    <tr>\n",
       "      <th>cylinders</th>\n",
       "      <td>0.140457</td>\n",
       "      <td>0.132241</td>\n",
       "      <td>1.000000</td>\n",
       "      <td>-0.085752</td>\n",
       "      <td>-0.085283</td>\n",
       "      <td>0.080530</td>\n",
       "      <td>0.155561</td>\n",
       "    </tr>\n",
       "    <tr>\n",
       "      <th>condition</th>\n",
       "      <td>-0.347764</td>\n",
       "      <td>-0.336758</td>\n",
       "      <td>-0.085752</td>\n",
       "      <td>1.000000</td>\n",
       "      <td>-0.035193</td>\n",
       "      <td>0.005918</td>\n",
       "      <td>0.274055</td>\n",
       "    </tr>\n",
       "    <tr>\n",
       "      <th>paint_category</th>\n",
       "      <td>0.102591</td>\n",
       "      <td>0.043276</td>\n",
       "      <td>-0.085283</td>\n",
       "      <td>-0.035193</td>\n",
       "      <td>1.000000</td>\n",
       "      <td>-0.022604</td>\n",
       "      <td>-0.099035</td>\n",
       "    </tr>\n",
       "    <tr>\n",
       "      <th>Count</th>\n",
       "      <td>-0.087343</td>\n",
       "      <td>-0.060281</td>\n",
       "      <td>0.080530</td>\n",
       "      <td>0.005918</td>\n",
       "      <td>-0.022604</td>\n",
       "      <td>1.000000</td>\n",
       "      <td>0.047558</td>\n",
       "    </tr>\n",
       "    <tr>\n",
       "      <th>Mean</th>\n",
       "      <td>-0.530409</td>\n",
       "      <td>-0.469156</td>\n",
       "      <td>0.155561</td>\n",
       "      <td>0.274055</td>\n",
       "      <td>-0.099035</td>\n",
       "      <td>0.047558</td>\n",
       "      <td>1.000000</td>\n",
       "    </tr>\n",
       "  </tbody>\n",
       "</table>\n",
       "</div>"
      ],
      "text/plain": [
       "                 car_age   mileage  cylinders  condition  paint_category  \\\n",
       "car_age         1.000000  0.550972   0.140457  -0.347764        0.102591   \n",
       "mileage         0.550972  1.000000   0.132241  -0.336758        0.043276   \n",
       "cylinders       0.140457  0.132241   1.000000  -0.085752       -0.085283   \n",
       "condition      -0.347764 -0.336758  -0.085752   1.000000       -0.035193   \n",
       "paint_category  0.102591  0.043276  -0.085283  -0.035193        1.000000   \n",
       "Count          -0.087343 -0.060281   0.080530   0.005918       -0.022604   \n",
       "Mean           -0.530409 -0.469156   0.155561   0.274055       -0.099035   \n",
       "\n",
       "                   Count      Mean  \n",
       "car_age        -0.087343 -0.530409  \n",
       "mileage        -0.060281 -0.469156  \n",
       "cylinders       0.080530  0.155561  \n",
       "condition       0.005918  0.274055  \n",
       "paint_category -0.022604 -0.099035  \n",
       "Count           1.000000  0.047558  \n",
       "Mean            0.047558  1.000000  "
      ]
     },
     "execution_count": 61,
     "metadata": {},
     "output_type": "execute_result"
    }
   ],
   "source": [
    "#extract the data that is related to SUV and truck types\n",
    "#car_data_gen_price_all\n",
    "car_data_type_suv_truck = car_data_gen_price_all.loc[\n",
    "        (car_data_gen_price_all['type']=='SUV')|(car_data_gen_price_all['type']=='truck')]\n",
    "#coralation tble for those two types\n",
    "car_data_type_suv_truck.corr()\n"
   ]
  },
  {
   "cell_type": "markdown",
   "metadata": {},
   "source": [
    "*The new table has more then 13000 records, so it is a good sample to see the correlationd between all parameter.*\n",
    "\n",
    "Now lets make a scatter matrix of this new sample data."
   ]
  },
  {
   "cell_type": "code",
   "execution_count": 62,
   "metadata": {},
   "outputs": [
    {
     "data": {
      "image/png": "[encoded data removed]",
      "text/plain": [
       "<Figure size 720x720 with 49 Axes>"
      ]
     },
     "metadata": {
      "needs_background": "light"
     },
     "output_type": "display_data"
    }
   ],
   "source": [
    "#creating scatter matrix based on the new correlation table\n",
    "pd.plotting.scatter_matrix(car_data_type_suv_truck.corr(), figsize=(10, 10),c='red') \n",
    "plt.show()\n"
   ]
  },
  {
   "cell_type": "markdown",
   "metadata": {},
   "source": [
    "## General conclusion\n",
    "\n",
    "[List your important conclusions in this final section, make sure they include those that led you to the way you processed and analyzed the data. Cover the missing values, duplicates, outliers and possible reasons and solutions for problematic artifacts that you had to address. Don't forget to remove all bracketed comments before submitting your project.]"
   ]
  },
  {
   "cell_type": "markdown",
   "metadata": {},
   "source": [
    "**We now will conduct an investigatin of the median for each other category.\n",
    "eache category must have at least 50 adds so we should take that in account when getting the data for each of them**\n"
   ]
  },
  {
   "cell_type": "markdown",
   "metadata": {},
   "source": [
    "There are columns that will need to be categorized , since the plot will not be redable."
   ]
  },
  {
   "cell_type": "code",
   "execution_count": 63,
   "metadata": {},
   "outputs": [
    {
     "data": {
      "text/html": [
       "<div>\n",
       "<style scoped>\n",
       "    .dataframe tbody tr th:only-of-type {\n",
       "        vertical-align: middle;\n",
       "    }\n",
       "\n",
       "    .dataframe tbody tr th {\n",
       "        vertical-align: top;\n",
       "    }\n",
       "\n",
       "    .dataframe thead th {\n",
       "        text-align: right;\n",
       "    }\n",
       "</style>\n",
       "<table border=\"1\" class=\"dataframe\">\n",
       "  <thead>\n",
       "    <tr style=\"text-align: right;\">\n",
       "      <th></th>\n",
       "      <th>type</th>\n",
       "      <th>car_age</th>\n",
       "      <th>mileage</th>\n",
       "      <th>transmission</th>\n",
       "      <th>cylinders</th>\n",
       "      <th>condition</th>\n",
       "      <th>paint_color</th>\n",
       "      <th>paint_category</th>\n",
       "      <th>Count</th>\n",
       "      <th>Mean</th>\n",
       "      <th>mileage_cat</th>\n",
       "    </tr>\n",
       "  </thead>\n",
       "  <tbody>\n",
       "    <tr>\n",
       "      <th>0</th>\n",
       "      <td>SUV</td>\n",
       "      <td>0</td>\n",
       "      <td>10</td>\n",
       "      <td>automatic</td>\n",
       "      <td>4</td>\n",
       "      <td>5</td>\n",
       "      <td>white</td>\n",
       "      <td>2</td>\n",
       "      <td>1</td>\n",
       "      <td>30740.0</td>\n",
       "      <td>1000</td>\n",
       "    </tr>\n",
       "    <tr>\n",
       "      <th>1</th>\n",
       "      <td>SUV</td>\n",
       "      <td>0</td>\n",
       "      <td>10</td>\n",
       "      <td>automatic</td>\n",
       "      <td>6</td>\n",
       "      <td>4</td>\n",
       "      <td>other</td>\n",
       "      <td>1</td>\n",
       "      <td>1</td>\n",
       "      <td>475.0</td>\n",
       "      <td>1000</td>\n",
       "    </tr>\n",
       "    <tr>\n",
       "      <th>2</th>\n",
       "      <td>SUV</td>\n",
       "      <td>0</td>\n",
       "      <td>14</td>\n",
       "      <td>automatic</td>\n",
       "      <td>4</td>\n",
       "      <td>4</td>\n",
       "      <td>white</td>\n",
       "      <td>2</td>\n",
       "      <td>2</td>\n",
       "      <td>326.0</td>\n",
       "      <td>1000</td>\n",
       "    </tr>\n",
       "    <tr>\n",
       "      <th>3</th>\n",
       "      <td>SUV</td>\n",
       "      <td>0</td>\n",
       "      <td>59</td>\n",
       "      <td>automatic</td>\n",
       "      <td>6</td>\n",
       "      <td>3</td>\n",
       "      <td>other</td>\n",
       "      <td>1</td>\n",
       "      <td>1</td>\n",
       "      <td>49995.0</td>\n",
       "      <td>1000</td>\n",
       "    </tr>\n",
       "    <tr>\n",
       "      <th>4</th>\n",
       "      <td>SUV</td>\n",
       "      <td>0</td>\n",
       "      <td>1003</td>\n",
       "      <td>automatic</td>\n",
       "      <td>8</td>\n",
       "      <td>3</td>\n",
       "      <td>black</td>\n",
       "      <td>4</td>\n",
       "      <td>4</td>\n",
       "      <td>1.0</td>\n",
       "      <td>10000</td>\n",
       "    </tr>\n",
       "    <tr>\n",
       "      <th>...</th>\n",
       "      <td>...</td>\n",
       "      <td>...</td>\n",
       "      <td>...</td>\n",
       "      <td>...</td>\n",
       "      <td>...</td>\n",
       "      <td>...</td>\n",
       "      <td>...</td>\n",
       "      <td>...</td>\n",
       "      <td>...</td>\n",
       "      <td>...</td>\n",
       "      <td>...</td>\n",
       "    </tr>\n",
       "    <tr>\n",
       "      <th>28322</th>\n",
       "      <td>wagon</td>\n",
       "      <td>21</td>\n",
       "      <td>157100</td>\n",
       "      <td>automatic</td>\n",
       "      <td>4</td>\n",
       "      <td>3</td>\n",
       "      <td>black</td>\n",
       "      <td>4</td>\n",
       "      <td>1</td>\n",
       "      <td>1850.0</td>\n",
       "      <td>200000</td>\n",
       "    </tr>\n",
       "    <tr>\n",
       "      <th>28323</th>\n",
       "      <td>wagon</td>\n",
       "      <td>21</td>\n",
       "      <td>178223</td>\n",
       "      <td>automatic</td>\n",
       "      <td>4</td>\n",
       "      <td>3</td>\n",
       "      <td>red</td>\n",
       "      <td>3</td>\n",
       "      <td>1</td>\n",
       "      <td>1800.0</td>\n",
       "      <td>200000</td>\n",
       "    </tr>\n",
       "    <tr>\n",
       "      <th>28324</th>\n",
       "      <td>wagon</td>\n",
       "      <td>21</td>\n",
       "      <td>240000</td>\n",
       "      <td>automatic</td>\n",
       "      <td>4</td>\n",
       "      <td>2</td>\n",
       "      <td>other</td>\n",
       "      <td>1</td>\n",
       "      <td>1</td>\n",
       "      <td>1500.0</td>\n",
       "      <td>300000</td>\n",
       "    </tr>\n",
       "    <tr>\n",
       "      <th>28325</th>\n",
       "      <td>wagon</td>\n",
       "      <td>22</td>\n",
       "      <td>250000</td>\n",
       "      <td>automatic</td>\n",
       "      <td>6</td>\n",
       "      <td>1</td>\n",
       "      <td>black</td>\n",
       "      <td>4</td>\n",
       "      <td>1</td>\n",
       "      <td>900.0</td>\n",
       "      <td>300000</td>\n",
       "    </tr>\n",
       "    <tr>\n",
       "      <th>28326</th>\n",
       "      <td>wagon</td>\n",
       "      <td>22</td>\n",
       "      <td>300000</td>\n",
       "      <td>automatic</td>\n",
       "      <td>6</td>\n",
       "      <td>1</td>\n",
       "      <td>other</td>\n",
       "      <td>1</td>\n",
       "      <td>1</td>\n",
       "      <td>500.0</td>\n",
       "      <td>300000</td>\n",
       "    </tr>\n",
       "  </tbody>\n",
       "</table>\n",
       "<p>28327 rows × 11 columns</p>\n",
       "</div>"
      ],
      "text/plain": [
       "        type  car_age  mileage transmission  cylinders  condition paint_color  \\\n",
       "0        SUV        0       10    automatic          4          5       white   \n",
       "1        SUV        0       10    automatic          6          4       other   \n",
       "2        SUV        0       14    automatic          4          4       white   \n",
       "3        SUV        0       59    automatic          6          3       other   \n",
       "4        SUV        0     1003    automatic          8          3       black   \n",
       "...      ...      ...      ...          ...        ...        ...         ...   \n",
       "28322  wagon       21   157100    automatic          4          3       black   \n",
       "28323  wagon       21   178223    automatic          4          3         red   \n",
       "28324  wagon       21   240000    automatic          4          2       other   \n",
       "28325  wagon       22   250000    automatic          6          1       black   \n",
       "28326  wagon       22   300000    automatic          6          1       other   \n",
       "\n",
       "       paint_category  Count     Mean  mileage_cat  \n",
       "0                   2      1  30740.0         1000  \n",
       "1                   1      1    475.0         1000  \n",
       "2                   2      2    326.0         1000  \n",
       "3                   1      1  49995.0         1000  \n",
       "4                   4      4      1.0        10000  \n",
       "...               ...    ...      ...          ...  \n",
       "28322               4      1   1850.0       200000  \n",
       "28323               3      1   1800.0       200000  \n",
       "28324               1      1   1500.0       300000  \n",
       "28325               4      1    900.0       300000  \n",
       "28326               1      1    500.0       300000  \n",
       "\n",
       "[28327 rows x 11 columns]"
      ]
     },
     "execution_count": 63,
     "metadata": {},
     "output_type": "execute_result"
    }
   ],
   "source": [
    "\n",
    "#categotizing the data of the milage column to categories 0=0m , 1=1-1000m ,10000 = 1000-10000m ,50000 = 10001-50000 , \n",
    "            #100000 = 50001-100000 , 200000 = 100001-200000, 300000= 200001-300000m, 1000000 = all>300000\n",
    "def mileage_cat(row):\n",
    "    if row['mileage'] == 0:\n",
    "        return(0)\n",
    "    elif row['mileage'] > 0 and row['mileage'] <= 1000:\n",
    "        return(1000)\n",
    "    elif row['mileage'] > 1000 and row['mileage'] <= 10000:\n",
    "        return(10000)\n",
    "    elif row['mileage'] > 10000 and row['mileage'] <= 50000:\n",
    "        return(50000)\n",
    "    elif row['mileage'] > 50000 and row['mileage'] <= 100000:\n",
    "        return(100000)\n",
    "    elif row['mileage'] > 100000 and row['mileage'] <= 200000:\n",
    "        return(200000)\n",
    "    elif row['mileage'] > 200000 and row['mileage'] <= 300000:\n",
    "        return(300000)\n",
    "    elif row['mileage'] > 300000:\n",
    "        return(1000000)\n",
    "\n",
    "car_data_gen_price_all['mileage_cat'] = car_data_gen_price_all.apply(mileage_cat,axis=1)\n",
    "\n",
    "car_data_gen_price_all\n",
    "       "
   ]
  },
  {
   "cell_type": "code",
   "execution_count": 64,
   "metadata": {},
   "outputs": [
    {
     "data": {
      "text/html": [
       "<div>\n",
       "<style scoped>\n",
       "    .dataframe tbody tr th:only-of-type {\n",
       "        vertical-align: middle;\n",
       "    }\n",
       "\n",
       "    .dataframe tbody tr th {\n",
       "        vertical-align: top;\n",
       "    }\n",
       "\n",
       "    .dataframe thead th {\n",
       "        text-align: right;\n",
       "    }\n",
       "</style>\n",
       "<table border=\"1\" class=\"dataframe\">\n",
       "  <thead>\n",
       "    <tr style=\"text-align: right;\">\n",
       "      <th></th>\n",
       "      <th>type</th>\n",
       "      <th>car_age</th>\n",
       "      <th>mileage</th>\n",
       "      <th>transmission</th>\n",
       "      <th>cylinders</th>\n",
       "      <th>condition</th>\n",
       "      <th>paint_color</th>\n",
       "      <th>paint_category</th>\n",
       "      <th>Count</th>\n",
       "      <th>Mean</th>\n",
       "      <th>mileage_cat</th>\n",
       "      <th>car_age_cat</th>\n",
       "    </tr>\n",
       "  </thead>\n",
       "  <tbody>\n",
       "    <tr>\n",
       "      <th>0</th>\n",
       "      <td>SUV</td>\n",
       "      <td>0</td>\n",
       "      <td>10</td>\n",
       "      <td>automatic</td>\n",
       "      <td>4</td>\n",
       "      <td>5</td>\n",
       "      <td>white</td>\n",
       "      <td>2</td>\n",
       "      <td>1</td>\n",
       "      <td>30740.0</td>\n",
       "      <td>1000</td>\n",
       "      <td>0</td>\n",
       "    </tr>\n",
       "    <tr>\n",
       "      <th>1</th>\n",
       "      <td>SUV</td>\n",
       "      <td>0</td>\n",
       "      <td>10</td>\n",
       "      <td>automatic</td>\n",
       "      <td>6</td>\n",
       "      <td>4</td>\n",
       "      <td>other</td>\n",
       "      <td>1</td>\n",
       "      <td>1</td>\n",
       "      <td>475.0</td>\n",
       "      <td>1000</td>\n",
       "      <td>0</td>\n",
       "    </tr>\n",
       "    <tr>\n",
       "      <th>2</th>\n",
       "      <td>SUV</td>\n",
       "      <td>0</td>\n",
       "      <td>14</td>\n",
       "      <td>automatic</td>\n",
       "      <td>4</td>\n",
       "      <td>4</td>\n",
       "      <td>white</td>\n",
       "      <td>2</td>\n",
       "      <td>2</td>\n",
       "      <td>326.0</td>\n",
       "      <td>1000</td>\n",
       "      <td>0</td>\n",
       "    </tr>\n",
       "    <tr>\n",
       "      <th>3</th>\n",
       "      <td>SUV</td>\n",
       "      <td>0</td>\n",
       "      <td>59</td>\n",
       "      <td>automatic</td>\n",
       "      <td>6</td>\n",
       "      <td>3</td>\n",
       "      <td>other</td>\n",
       "      <td>1</td>\n",
       "      <td>1</td>\n",
       "      <td>49995.0</td>\n",
       "      <td>1000</td>\n",
       "      <td>0</td>\n",
       "    </tr>\n",
       "    <tr>\n",
       "      <th>4</th>\n",
       "      <td>SUV</td>\n",
       "      <td>0</td>\n",
       "      <td>1003</td>\n",
       "      <td>automatic</td>\n",
       "      <td>8</td>\n",
       "      <td>3</td>\n",
       "      <td>black</td>\n",
       "      <td>4</td>\n",
       "      <td>4</td>\n",
       "      <td>1.0</td>\n",
       "      <td>10000</td>\n",
       "      <td>0</td>\n",
       "    </tr>\n",
       "    <tr>\n",
       "      <th>...</th>\n",
       "      <td>...</td>\n",
       "      <td>...</td>\n",
       "      <td>...</td>\n",
       "      <td>...</td>\n",
       "      <td>...</td>\n",
       "      <td>...</td>\n",
       "      <td>...</td>\n",
       "      <td>...</td>\n",
       "      <td>...</td>\n",
       "      <td>...</td>\n",
       "      <td>...</td>\n",
       "      <td>...</td>\n",
       "    </tr>\n",
       "    <tr>\n",
       "      <th>28322</th>\n",
       "      <td>wagon</td>\n",
       "      <td>21</td>\n",
       "      <td>157100</td>\n",
       "      <td>automatic</td>\n",
       "      <td>4</td>\n",
       "      <td>3</td>\n",
       "      <td>black</td>\n",
       "      <td>4</td>\n",
       "      <td>1</td>\n",
       "      <td>1850.0</td>\n",
       "      <td>200000</td>\n",
       "      <td>30</td>\n",
       "    </tr>\n",
       "    <tr>\n",
       "      <th>28323</th>\n",
       "      <td>wagon</td>\n",
       "      <td>21</td>\n",
       "      <td>178223</td>\n",
       "      <td>automatic</td>\n",
       "      <td>4</td>\n",
       "      <td>3</td>\n",
       "      <td>red</td>\n",
       "      <td>3</td>\n",
       "      <td>1</td>\n",
       "      <td>1800.0</td>\n",
       "      <td>200000</td>\n",
       "      <td>30</td>\n",
       "    </tr>\n",
       "    <tr>\n",
       "      <th>28324</th>\n",
       "      <td>wagon</td>\n",
       "      <td>21</td>\n",
       "      <td>240000</td>\n",
       "      <td>automatic</td>\n",
       "      <td>4</td>\n",
       "      <td>2</td>\n",
       "      <td>other</td>\n",
       "      <td>1</td>\n",
       "      <td>1</td>\n",
       "      <td>1500.0</td>\n",
       "      <td>300000</td>\n",
       "      <td>30</td>\n",
       "    </tr>\n",
       "    <tr>\n",
       "      <th>28325</th>\n",
       "      <td>wagon</td>\n",
       "      <td>22</td>\n",
       "      <td>250000</td>\n",
       "      <td>automatic</td>\n",
       "      <td>6</td>\n",
       "      <td>1</td>\n",
       "      <td>black</td>\n",
       "      <td>4</td>\n",
       "      <td>1</td>\n",
       "      <td>900.0</td>\n",
       "      <td>300000</td>\n",
       "      <td>30</td>\n",
       "    </tr>\n",
       "    <tr>\n",
       "      <th>28326</th>\n",
       "      <td>wagon</td>\n",
       "      <td>22</td>\n",
       "      <td>300000</td>\n",
       "      <td>automatic</td>\n",
       "      <td>6</td>\n",
       "      <td>1</td>\n",
       "      <td>other</td>\n",
       "      <td>1</td>\n",
       "      <td>1</td>\n",
       "      <td>500.0</td>\n",
       "      <td>300000</td>\n",
       "      <td>30</td>\n",
       "    </tr>\n",
       "  </tbody>\n",
       "</table>\n",
       "<p>28327 rows × 12 columns</p>\n",
       "</div>"
      ],
      "text/plain": [
       "        type  car_age  mileage transmission  cylinders  condition paint_color  \\\n",
       "0        SUV        0       10    automatic          4          5       white   \n",
       "1        SUV        0       10    automatic          6          4       other   \n",
       "2        SUV        0       14    automatic          4          4       white   \n",
       "3        SUV        0       59    automatic          6          3       other   \n",
       "4        SUV        0     1003    automatic          8          3       black   \n",
       "...      ...      ...      ...          ...        ...        ...         ...   \n",
       "28322  wagon       21   157100    automatic          4          3       black   \n",
       "28323  wagon       21   178223    automatic          4          3         red   \n",
       "28324  wagon       21   240000    automatic          4          2       other   \n",
       "28325  wagon       22   250000    automatic          6          1       black   \n",
       "28326  wagon       22   300000    automatic          6          1       other   \n",
       "\n",
       "       paint_category  Count     Mean  mileage_cat  car_age_cat  \n",
       "0                   2      1  30740.0         1000            0  \n",
       "1                   1      1    475.0         1000            0  \n",
       "2                   2      2    326.0         1000            0  \n",
       "3                   1      1  49995.0         1000            0  \n",
       "4                   4      4      1.0        10000            0  \n",
       "...               ...    ...      ...          ...          ...  \n",
       "28322               4      1   1850.0       200000           30  \n",
       "28323               3      1   1800.0       200000           30  \n",
       "28324               1      1   1500.0       300000           30  \n",
       "28325               4      1    900.0       300000           30  \n",
       "28326               1      1    500.0       300000           30  \n",
       "\n",
       "[28327 rows x 12 columns]"
      ]
     },
     "execution_count": 64,
     "metadata": {},
     "output_type": "execute_result"
    }
   ],
   "source": [
    "#new ver 2\n",
    "#categorizing car age \n",
    "\n",
    "def car_age_cat(row):\n",
    "    if row['car_age'] == 0:\n",
    "        return(0)\n",
    "    elif row['car_age'] > 0 and row['car_age'] <= 3:\n",
    "        return(3)\n",
    "    elif row['car_age'] > 3 and row['car_age'] <= 5:\n",
    "        return(5)\n",
    "    elif row['car_age'] > 5 and row['car_age'] <= 8:\n",
    "        return(8)\n",
    "    elif row['car_age'] > 8 and row['car_age'] <= 10:\n",
    "        return(10)\n",
    "    elif row['car_age'] > 10 and row['car_age'] <= 15:\n",
    "        return(15)\n",
    "    elif row['car_age'] > 15 and row['car_age'] <= 20:\n",
    "        return(20)\n",
    "    elif row['car_age'] > 20 and row['car_age'] <= 30:\n",
    "        return(30)\n",
    "    elif row['car_age'] > 30:\n",
    "        return(30)\n",
    "\n",
    "car_data_gen_price_all['car_age_cat'] = car_data_gen_price_all.apply(car_age_cat,axis=1)\n",
    "\n",
    "car_data_gen_price_all"
   ]
  },
  {
   "cell_type": "code",
   "execution_count": 65,
   "metadata": {},
   "outputs": [
    {
     "data": {
      "image/png": "[encoded data removed]",
      "text/plain": [
       "<Figure size 864x864 with 1 Axes>"
      ]
     },
     "metadata": {
      "needs_background": "light"
     },
     "output_type": "display_data"
    },
    {
     "data": {
      "image/png": "[encoded data removed]",
      "text/plain": [
       "<Figure size 864x864 with 1 Axes>"
      ]
     },
     "metadata": {
      "needs_background": "light"
     },
     "output_type": "display_data"
    },
    {
     "data": {
      "image/png": "[encoded data removed]",
      "text/plain": [
       "<Figure size 864x864 with 1 Axes>"
      ]
     },
     "metadata": {
      "needs_background": "light"
     },
     "output_type": "display_data"
    },
    {
     "data": {
      "image/png": "[encoded data removed]",
      "text/plain": [
       "<Figure size 864x864 with 1 Axes>"
      ]
     },
     "metadata": {
      "needs_background": "light"
     },
     "output_type": "display_data"
    },
    {
     "data": {
      "image/png": "[encoded data removed]",
      "text/plain": [
       "<Figure size 864x864 with 1 Axes>"
      ]
     },
     "metadata": {
      "needs_background": "light"
     },
     "output_type": "display_data"
    },
    {
     "data": {
      "image/png": "[encoded data removed]",
      "text/plain": [
       "<Figure size 864x864 with 1 Axes>"
      ]
     },
     "metadata": {
      "needs_background": "light"
     },
     "output_type": "display_data"
    },
    {
     "data": {
      "image/png": "[encoded data removed]",
      "text/plain": [
       "<Figure size 864x864 with 1 Axes>"
      ]
     },
     "metadata": {
      "needs_background": "light"
     },
     "output_type": "display_data"
    }
   ],
   "source": [
    "#consracting a loop to boxplot all categories to see ther density and destribution around the Mean prices\n",
    "\n",
    "#extracting for each category the rows that this category have with at least 50 rows each.\n",
    "column_list = []\n",
    "column_list = (list(car_data_gen_price_all.columns))\n",
    "\n",
    "\n",
    "for cat in column_list:\n",
    "    \n",
    "    if cat not in ['Mean','car_age','mileage','paint_category','Count']:\n",
    "               car_data_gen_price_all.boxplot(column = 'Mean' , by = cat , rot=90 , figsize= (12,12),showfliers=False )\n",
    "              "
   ]
  },
  {
   "cell_type": "markdown",
   "metadata": {},
   "source": [
    "**After Navigating through each boxplot of every category , My connclusion are that the only correlation between a category and the price of a car , remains the car age , and car mileage (-Though it has less efecr up to 1000 miles) , and car condition that shows that as more as the car condition is closer to new the car will be worth more(this is a general statement an a logical on also - so there is nothing new about this statement, a new car will always worth more then a second had does.).all other categories has litel or no effect on the mean value of the vehiacle.**"
   ]
  },
  {
   "cell_type": "markdown",
   "metadata": {},
   "source": [
    "**We have started by asking ourselves: what parameter is the most important in establishing a cars value?**\n",
    "- the data we got was based on the prices of the car,was determine by that the people who has advertized the car.\n",
    "\n",
    "- since not all of those who advertised the cars, entered all the information, we had a lot of missing values.\n",
    "\n",
    "- Because, we needed to maintain all the categories for the comperisson of the parameters, all values had to be filled in .\n",
    "\n",
    "- We used a few technics in arder to fill the data, if it was to calculate an esstimate based on the data we have, or just to fill an arbituery value like 'other' , when ther was no way to know the value.\n",
    "\n",
    "- After fillin all the data we could fill , we have deleted 26 lines that the data was still missing. The data was not inflicted because it was less then 0.1% of the data.We still had a lot of records to base our investigation on.\n",
    "\n",
    "- Without missing values we now checked and saw there were no duplicates in the data.and we can move to analyze the parameters we had.\n",
    "\n",
    "- We wanted first to see if there are outliers in eache parameter that can effect the resaults\n",
    "\n",
    "- We have then eliminated the outliers where we found ons and ended with about 85% of the data.\n",
    "\n",
    "- Now we had the core data and we needed to analize what parameter are effecting the price(one or more), and is this a direct correlation? or is it just another parameter in the over all pricing.?\n",
    "\n",
    "- We studied the information and new that SUV and Truck types have a great part in the data. and after we examind the whole data for correlations , and fount that there is no apperent direct corelation between one single parameter and the price of the car, we Took the SUV and Truck data , as acore sample to see if we can detect any correlation between one of the parameter and the price that was addvertised."
   ]
  },
  {
   "cell_type": "markdown",
   "metadata": {},
   "source": [
    "\n",
    "- We found that the effect on a price has three correlating categories(car age, car condition , and mileage- that has no effect on the firsr 1000 m of a car), and the price is probably effected mostly by thoes parameter, and any other parameter make little to no diffrance in the pricing of a vehiacle.\n"
   ]
  },
  {
   "cell_type": "markdown",
   "metadata": {},
   "source": [
    "### Final Conclusion - \n",
    "\n",
    "-Though there are some correlations between some of the parameter (like mileage and the age of the car ), to the price, It is not a strong correlation.\n",
    "It lookes like there is no one parameter the values of, are scatered closely towards it or has a correlation value of over a 0.6.\n",
    "-The information is almost scatterd alon the parameter evenly and no direct effect can be shown by any of them.\n",
    "-The the age of the car, its condition and the mileage it has, are the only three parameter that we can see any effect on the values, and they are the only ones that we can say that have any correlation to the price.\n",
    "-Since there was no one parameter with disinctive effect on the car price , we can get to the conclusion , that there are at least three main parameters and many other with lower effect, which determine the price of a vhiacle.\n",
    "-The car age ,condition and the mileage are definatly a factor whan establishing a pricing but they do not stand by themselves , when a customer , establish the pricinge .other factore are also taken by consideration though there share is low or do not have any effect, like the color of a care or the number of cylinders.\n",
    "\n",
    "**In conclusion, There are three main factore that we identify as a high volume parameters,(age of a car,its condition and its mileage) but still , they could not be prooven to have on their own the reason for a price to be as it was advertised. So if we are looking for parameters that influance the price, those three are on the top. But we can not know based on the data we have that they are the only factors to be taken in concidaration by the seller , when a price of a car is determined. It lookes like eache car is priced as a combination of factors and not one or two factores only, and these combination are changing from vhiacle to vhiacle.**"
   ]
  }
 ],
 "metadata": {
  "ExecuteTimeLog": [
   {
    "duration": 828,
    "start_time": "2021-11-16T09:21:11.304Z"
   },
   {
    "duration": 893,
    "start_time": "2021-11-16T09:21:17.728Z"
   },
   {
    "duration": 1150,
    "start_time": "2021-11-16T09:21:29.568Z"
   },
   {
    "duration": 3,
    "start_time": "2021-11-16T09:24:14.495Z"
   },
   {
    "duration": 120,
    "start_time": "2021-11-16T09:24:46.630Z"
   },
   {
    "duration": 3,
    "start_time": "2021-11-16T09:28:27.882Z"
   },
   {
    "duration": 4,
    "start_time": "2021-11-16T09:29:54.281Z"
   },
   {
    "duration": 3,
    "start_time": "2021-11-16T09:30:45.936Z"
   },
   {
    "duration": 4,
    "start_time": "2021-11-16T09:31:06.300Z"
   },
   {
    "duration": 113,
    "start_time": "2021-11-16T09:31:37.208Z"
   },
   {
    "duration": 143,
    "start_time": "2021-11-16T09:31:48.656Z"
   },
   {
    "duration": 98,
    "start_time": "2021-11-16T09:31:55.678Z"
   },
   {
    "duration": 3,
    "start_time": "2021-11-16T09:32:08.535Z"
   },
   {
    "duration": 111,
    "start_time": "2021-11-16T09:32:10.120Z"
   },
   {
    "duration": 3,
    "start_time": "2021-11-16T09:32:15.732Z"
   },
   {
    "duration": 4,
    "start_time": "2021-11-16T09:32:29.423Z"
   },
   {
    "duration": 3,
    "start_time": "2021-11-16T10:03:03.074Z"
   },
   {
    "duration": 3,
    "start_time": "2021-11-16T10:10:01.288Z"
   },
   {
    "duration": 3,
    "start_time": "2021-11-16T10:10:46.923Z"
   },
   {
    "duration": 121,
    "start_time": "2021-11-16T10:37:46.494Z"
   },
   {
    "duration": 125,
    "start_time": "2021-11-16T10:38:20.632Z"
   },
   {
    "duration": 112,
    "start_time": "2021-11-16T10:46:53.001Z"
   },
   {
    "duration": 110,
    "start_time": "2021-11-16T10:48:25.775Z"
   },
   {
    "duration": 3,
    "start_time": "2021-11-16T10:50:18.720Z"
   },
   {
    "duration": 4,
    "start_time": "2021-11-16T10:50:37.649Z"
   },
   {
    "duration": 2,
    "start_time": "2021-11-16T10:50:51.884Z"
   },
   {
    "duration": 3,
    "start_time": "2021-11-16T10:51:56.237Z"
   },
   {
    "duration": 101,
    "start_time": "2021-11-16T10:53:13.791Z"
   },
   {
    "duration": 3,
    "start_time": "2021-11-16T10:55:59.186Z"
   },
   {
    "duration": 3,
    "start_time": "2021-11-16T10:56:10.751Z"
   },
   {
    "duration": 3,
    "start_time": "2021-11-16T10:56:49.038Z"
   },
   {
    "duration": 3,
    "start_time": "2021-11-16T10:56:49.174Z"
   },
   {
    "duration": 4,
    "start_time": "2021-11-16T10:56:49.414Z"
   },
   {
    "duration": 3,
    "start_time": "2021-11-16T10:56:49.680Z"
   },
   {
    "duration": 3,
    "start_time": "2021-11-16T10:56:50.370Z"
   },
   {
    "duration": 114,
    "start_time": "2021-11-16T10:59:34.518Z"
   },
   {
    "duration": 3,
    "start_time": "2021-11-16T11:01:41.201Z"
   },
   {
    "duration": 116,
    "start_time": "2021-11-16T11:01:48.754Z"
   },
   {
    "duration": 3,
    "start_time": "2021-11-16T11:02:16.685Z"
   },
   {
    "duration": 3,
    "start_time": "2021-11-16T11:02:19.479Z"
   },
   {
    "duration": 3,
    "start_time": "2021-11-16T11:02:47.067Z"
   },
   {
    "duration": 3,
    "start_time": "2021-11-16T11:02:49.353Z"
   },
   {
    "duration": 3,
    "start_time": "2021-11-16T11:03:07.835Z"
   },
   {
    "duration": 3,
    "start_time": "2021-11-16T11:03:07.953Z"
   },
   {
    "duration": 112,
    "start_time": "2021-11-16T11:07:52.072Z"
   },
   {
    "duration": 187,
    "start_time": "2021-11-16T11:09:23.468Z"
   },
   {
    "duration": 4,
    "start_time": "2021-11-16T11:10:01.455Z"
   },
   {
    "duration": 3,
    "start_time": "2021-11-16T11:10:05.069Z"
   },
   {
    "duration": 4,
    "start_time": "2021-11-16T11:10:13.376Z"
   },
   {
    "duration": 3,
    "start_time": "2021-11-16T11:10:14.434Z"
   },
   {
    "duration": 3,
    "start_time": "2021-11-16T11:10:22.853Z"
   },
   {
    "duration": 4,
    "start_time": "2021-11-16T11:27:29.279Z"
   },
   {
    "duration": 4,
    "start_time": "2021-11-16T11:29:08.919Z"
   },
   {
    "duration": 118,
    "start_time": "2021-11-16T11:29:46.703Z"
   },
   {
    "duration": 437,
    "start_time": "2021-11-16T11:36:02.181Z"
   },
   {
    "duration": 157,
    "start_time": "2021-11-16T11:36:14.388Z"
   },
   {
    "duration": 207,
    "start_time": "2021-11-16T11:47:15.898Z"
   },
   {
    "duration": 3,
    "start_time": "2021-11-16T11:53:52.092Z"
   },
   {
    "duration": 3,
    "start_time": "2021-11-16T11:53:52.236Z"
   },
   {
    "duration": 3,
    "start_time": "2021-11-16T11:59:12.005Z"
   },
   {
    "duration": 112,
    "start_time": "2021-11-16T12:00:33.446Z"
   },
   {
    "duration": 3,
    "start_time": "2021-11-16T12:02:14.453Z"
   },
   {
    "duration": 3,
    "start_time": "2021-11-16T12:02:39.512Z"
   },
   {
    "duration": 106,
    "start_time": "2021-11-16T12:03:03.460Z"
   },
   {
    "duration": 48,
    "start_time": "2022-08-24T20:28:36.868Z"
   },
   {
    "duration": 420,
    "start_time": "2022-08-24T20:28:48.146Z"
   },
   {
    "duration": 184,
    "start_time": "2022-08-24T20:28:50.360Z"
   },
   {
    "duration": 109,
    "start_time": "2022-08-24T20:29:14.354Z"
   },
   {
    "duration": 109,
    "start_time": "2022-08-24T20:30:25.521Z"
   },
   {
    "duration": 20,
    "start_time": "2022-08-24T20:37:11.174Z"
   },
   {
    "duration": 20,
    "start_time": "2022-08-24T20:37:48.190Z"
   },
   {
    "duration": 30,
    "start_time": "2022-08-24T20:39:03.036Z"
   },
   {
    "duration": 19,
    "start_time": "2022-08-24T20:39:37.628Z"
   },
   {
    "duration": 45,
    "start_time": "2022-08-24T20:47:10.170Z"
   },
   {
    "duration": 4,
    "start_time": "2022-08-24T20:47:14.879Z"
   },
   {
    "duration": 4,
    "start_time": "2022-08-24T20:48:17.010Z"
   },
   {
    "duration": 4,
    "start_time": "2022-08-24T20:53:37.837Z"
   },
   {
    "duration": 44,
    "start_time": "2022-08-25T15:46:06.506Z"
   },
   {
    "duration": 390,
    "start_time": "2022-08-25T15:46:18.664Z"
   },
   {
    "duration": 390,
    "start_time": "2022-08-25T15:46:19.057Z"
   },
   {
    "duration": 19,
    "start_time": "2022-08-25T15:46:19.448Z"
   },
   {
    "duration": 19,
    "start_time": "2022-08-25T15:46:19.469Z"
   },
   {
    "duration": 5,
    "start_time": "2022-08-25T15:46:19.490Z"
   },
   {
    "duration": 12,
    "start_time": "2022-08-25T15:46:41.085Z"
   },
   {
    "duration": 14,
    "start_time": "2022-08-25T15:46:50.687Z"
   },
   {
    "duration": 22,
    "start_time": "2022-08-25T15:47:17.733Z"
   },
   {
    "duration": 29,
    "start_time": "2022-08-25T15:47:36.085Z"
   },
   {
    "duration": 38,
    "start_time": "2022-08-25T15:48:00.744Z"
   },
   {
    "duration": 20,
    "start_time": "2022-08-25T15:48:54.875Z"
   },
   {
    "duration": 19,
    "start_time": "2022-08-25T15:49:28.081Z"
   },
   {
    "duration": 351,
    "start_time": "2022-08-25T15:49:58.488Z"
   },
   {
    "duration": 6,
    "start_time": "2022-08-25T15:54:06.830Z"
   },
   {
    "duration": 7,
    "start_time": "2022-08-25T15:54:43.441Z"
   },
   {
    "duration": 19,
    "start_time": "2022-08-25T15:55:05.573Z"
   },
   {
    "duration": 3,
    "start_time": "2022-08-25T15:55:18.768Z"
   },
   {
    "duration": 80,
    "start_time": "2022-08-25T15:55:24.731Z"
   },
   {
    "duration": 47,
    "start_time": "2022-08-25T16:43:00.218Z"
   },
   {
    "duration": 483,
    "start_time": "2022-08-25T16:43:08.386Z"
   },
   {
    "duration": 206,
    "start_time": "2022-08-25T16:43:08.871Z"
   },
   {
    "duration": 35,
    "start_time": "2022-08-25T16:43:09.079Z"
   },
   {
    "duration": 29,
    "start_time": "2022-08-25T16:43:09.116Z"
   },
   {
    "duration": 9,
    "start_time": "2022-08-25T16:43:09.147Z"
   },
   {
    "duration": 34,
    "start_time": "2022-08-25T16:43:15.367Z"
   },
   {
    "duration": 4,
    "start_time": "2022-08-25T16:43:30.837Z"
   },
   {
    "duration": 27,
    "start_time": "2022-08-25T17:07:52.259Z"
   },
   {
    "duration": 8,
    "start_time": "2022-08-25T17:08:11.546Z"
   },
   {
    "duration": 11,
    "start_time": "2022-08-25T17:08:50.914Z"
   },
   {
    "duration": 10,
    "start_time": "2022-08-25T17:09:05.225Z"
   },
   {
    "duration": 10,
    "start_time": "2022-08-25T17:09:09.987Z"
   },
   {
    "duration": 10,
    "start_time": "2022-08-25T17:09:24.395Z"
   },
   {
    "duration": 11,
    "start_time": "2022-08-25T17:09:40.346Z"
   },
   {
    "duration": 9,
    "start_time": "2022-08-25T17:10:01.099Z"
   },
   {
    "duration": 13,
    "start_time": "2022-08-25T17:10:25.826Z"
   },
   {
    "duration": 53,
    "start_time": "2022-08-25T17:10:56.854Z"
   },
   {
    "duration": 40,
    "start_time": "2022-08-25T18:54:58.022Z"
   },
   {
    "duration": 59,
    "start_time": "2022-08-25T18:55:37.989Z"
   },
   {
    "duration": 107,
    "start_time": "2022-08-25T19:12:15.816Z"
   },
   {
    "duration": 95,
    "start_time": "2022-08-25T19:17:41.266Z"
   },
   {
    "duration": 714,
    "start_time": "2022-08-25T19:18:05.389Z"
   },
   {
    "duration": 5,
    "start_time": "2022-08-25T19:18:53.028Z"
   },
   {
    "duration": 9,
    "start_time": "2022-08-25T19:19:10.735Z"
   },
   {
    "duration": 4,
    "start_time": "2022-08-25T19:19:34.792Z"
   },
   {
    "duration": 12,
    "start_time": "2022-08-25T19:20:06.928Z"
   },
   {
    "duration": 10,
    "start_time": "2022-08-25T19:23:22.044Z"
   },
   {
    "duration": 8,
    "start_time": "2022-08-25T19:24:37.555Z"
   },
   {
    "duration": 18,
    "start_time": "2022-08-25T19:31:55.439Z"
   },
   {
    "duration": 15,
    "start_time": "2022-08-25T19:32:28.824Z"
   },
   {
    "duration": 22,
    "start_time": "2022-08-25T19:33:01.064Z"
   },
   {
    "duration": 15,
    "start_time": "2022-08-25T19:33:30.499Z"
   },
   {
    "duration": 12,
    "start_time": "2022-08-25T19:33:48.694Z"
   },
   {
    "duration": 9,
    "start_time": "2022-08-25T19:34:52.695Z"
   },
   {
    "duration": 16,
    "start_time": "2022-08-25T19:35:30.890Z"
   },
   {
    "duration": 27,
    "start_time": "2022-08-25T19:35:59.696Z"
   },
   {
    "duration": 28,
    "start_time": "2022-08-25T19:36:54.712Z"
   },
   {
    "duration": 871,
    "start_time": "2022-08-25T19:39:01.282Z"
   },
   {
    "duration": 960,
    "start_time": "2022-08-25T19:39:47.429Z"
   },
   {
    "duration": 825,
    "start_time": "2022-08-25T19:39:59.086Z"
   },
   {
    "duration": 28,
    "start_time": "2022-08-25T19:41:01.899Z"
   },
   {
    "duration": 50,
    "start_time": "2022-08-25T19:42:10.900Z"
   },
   {
    "duration": 24,
    "start_time": "2022-08-25T19:45:33.773Z"
   },
   {
    "duration": 25,
    "start_time": "2022-08-25T19:45:48.774Z"
   },
   {
    "duration": 8,
    "start_time": "2022-08-25T19:57:42.214Z"
   },
   {
    "duration": 7,
    "start_time": "2022-08-25T19:57:52.794Z"
   },
   {
    "duration": 9,
    "start_time": "2022-08-25T20:01:55.847Z"
   },
   {
    "duration": 9,
    "start_time": "2022-08-25T20:03:20.272Z"
   },
   {
    "duration": 8,
    "start_time": "2022-08-25T20:04:00.761Z"
   },
   {
    "duration": 52,
    "start_time": "2022-08-25T20:25:33.506Z"
   },
   {
    "duration": 69,
    "start_time": "2022-08-25T20:25:51.263Z"
   },
   {
    "duration": 4,
    "start_time": "2022-08-25T20:26:06.836Z"
   },
   {
    "duration": 5,
    "start_time": "2022-08-25T20:27:06.421Z"
   },
   {
    "duration": 198,
    "start_time": "2022-08-25T20:28:26.809Z"
   },
   {
    "duration": 8,
    "start_time": "2022-08-25T20:40:44.545Z"
   },
   {
    "duration": 12,
    "start_time": "2022-08-25T20:41:26.170Z"
   },
   {
    "duration": 33,
    "start_time": "2022-08-25T20:47:44.405Z"
   },
   {
    "duration": 3,
    "start_time": "2022-08-25T20:48:09.298Z"
   },
   {
    "duration": 3,
    "start_time": "2022-08-25T20:48:25.119Z"
   },
   {
    "duration": 121,
    "start_time": "2022-08-25T20:48:25.124Z"
   },
   {
    "duration": 22,
    "start_time": "2022-08-25T20:48:25.246Z"
   },
   {
    "duration": 25,
    "start_time": "2022-08-25T20:48:25.271Z"
   },
   {
    "duration": 14,
    "start_time": "2022-08-25T20:48:25.297Z"
   },
   {
    "duration": 34,
    "start_time": "2022-08-25T20:48:25.312Z"
   },
   {
    "duration": 3,
    "start_time": "2022-08-25T20:48:25.347Z"
   },
   {
    "duration": 62,
    "start_time": "2022-08-25T20:48:25.352Z"
   },
   {
    "duration": 200,
    "start_time": "2022-08-25T20:48:25.416Z"
   },
   {
    "duration": 36,
    "start_time": "2022-08-25T20:48:25.618Z"
   },
   {
    "duration": 36,
    "start_time": "2022-08-25T20:48:25.656Z"
   },
   {
    "duration": 24,
    "start_time": "2022-08-25T20:48:32.786Z"
   },
   {
    "duration": 493,
    "start_time": "2022-08-25T20:48:35.941Z"
   },
   {
    "duration": 438,
    "start_time": "2022-08-25T20:49:37.544Z"
   },
   {
    "duration": 428,
    "start_time": "2022-08-25T20:49:54.222Z"
   },
   {
    "duration": 431,
    "start_time": "2022-08-25T20:53:36.769Z"
   },
   {
    "duration": 434,
    "start_time": "2022-08-25T20:53:55.634Z"
   },
   {
    "duration": 10,
    "start_time": "2022-08-25T20:54:49.037Z"
   },
   {
    "duration": 11,
    "start_time": "2022-08-25T20:59:27.990Z"
   },
   {
    "duration": 849,
    "start_time": "2022-08-25T20:59:47.710Z"
   },
   {
    "duration": 973,
    "start_time": "2022-08-25T21:00:16.232Z"
   },
   {
    "duration": 947,
    "start_time": "2022-08-25T21:00:42.855Z"
   },
   {
    "duration": 795,
    "start_time": "2022-08-25T21:15:36.924Z"
   },
   {
    "duration": 54,
    "start_time": "2022-08-26T07:31:17.543Z"
   },
   {
    "duration": 515,
    "start_time": "2022-08-26T07:31:28.596Z"
   },
   {
    "duration": 836,
    "start_time": "2022-08-26T07:31:29.113Z"
   },
   {
    "duration": 24,
    "start_time": "2022-08-26T07:31:29.951Z"
   },
   {
    "duration": 33,
    "start_time": "2022-08-26T07:31:29.976Z"
   },
   {
    "duration": 8,
    "start_time": "2022-08-26T07:31:30.011Z"
   },
   {
    "duration": 57,
    "start_time": "2022-08-26T07:31:30.021Z"
   },
   {
    "duration": 5,
    "start_time": "2022-08-26T07:31:30.081Z"
   },
   {
    "duration": 66,
    "start_time": "2022-08-26T07:31:30.088Z"
   },
   {
    "duration": 193,
    "start_time": "2022-08-26T07:31:30.156Z"
   },
   {
    "duration": 93,
    "start_time": "2022-08-26T07:31:30.351Z"
   },
   {
    "duration": 45,
    "start_time": "2022-08-26T07:31:30.446Z"
   },
   {
    "duration": 1874,
    "start_time": "2022-08-26T07:31:35.896Z"
   },
   {
    "duration": 1873,
    "start_time": "2022-08-26T07:32:14.993Z"
   },
   {
    "duration": 13,
    "start_time": "2022-08-26T07:33:12.475Z"
   },
   {
    "duration": 1248,
    "start_time": "2022-08-26T07:53:56.987Z"
   },
   {
    "duration": 21,
    "start_time": "2022-08-26T07:54:16.417Z"
   },
   {
    "duration": 25,
    "start_time": "2022-08-26T07:54:39.268Z"
   },
   {
    "duration": 27,
    "start_time": "2022-08-26T07:54:57.533Z"
   },
   {
    "duration": 22,
    "start_time": "2022-08-26T07:57:13.107Z"
   },
   {
    "duration": 28,
    "start_time": "2022-08-26T07:57:22.496Z"
   },
   {
    "duration": 39,
    "start_time": "2022-08-26T07:57:36.266Z"
   },
   {
    "duration": 28,
    "start_time": "2022-08-26T07:58:18.363Z"
   },
   {
    "duration": 25,
    "start_time": "2022-08-26T08:00:24.991Z"
   },
   {
    "duration": 21,
    "start_time": "2022-08-26T08:02:55.126Z"
   },
   {
    "duration": 27,
    "start_time": "2022-08-26T08:06:13.338Z"
   },
   {
    "duration": 28,
    "start_time": "2022-08-26T08:07:33.317Z"
   },
   {
    "duration": 1286,
    "start_time": "2022-08-26T08:08:58.228Z"
   },
   {
    "duration": 48,
    "start_time": "2022-08-26T08:09:21.082Z"
   },
   {
    "duration": 32,
    "start_time": "2022-08-26T08:11:07.507Z"
   },
   {
    "duration": 40,
    "start_time": "2022-08-26T08:11:16.813Z"
   },
   {
    "duration": 33,
    "start_time": "2022-08-26T08:13:24.192Z"
   },
   {
    "duration": 34,
    "start_time": "2022-08-26T08:14:56.299Z"
   },
   {
    "duration": 35,
    "start_time": "2022-08-26T08:17:54.315Z"
   },
   {
    "duration": 11,
    "start_time": "2022-08-26T08:19:51.125Z"
   },
   {
    "duration": 34,
    "start_time": "2022-08-26T08:20:34.693Z"
   },
   {
    "duration": 146,
    "start_time": "2022-08-26T08:22:34.993Z"
   },
   {
    "duration": 1915,
    "start_time": "2022-08-26T08:23:20.926Z"
   },
   {
    "duration": 25,
    "start_time": "2022-08-26T08:30:11.165Z"
   },
   {
    "duration": 13,
    "start_time": "2022-08-26T08:30:50.337Z"
   },
   {
    "duration": 31,
    "start_time": "2022-08-26T08:33:31.134Z"
   },
   {
    "duration": 15,
    "start_time": "2022-08-26T08:35:32.947Z"
   },
   {
    "duration": 17,
    "start_time": "2022-08-26T08:37:06.508Z"
   },
   {
    "duration": 23,
    "start_time": "2022-08-26T09:43:04.392Z"
   },
   {
    "duration": 18,
    "start_time": "2022-08-26T09:43:51.085Z"
   },
   {
    "duration": 16,
    "start_time": "2022-08-26T09:45:04.012Z"
   },
   {
    "duration": 77,
    "start_time": "2022-08-26T09:45:47.301Z"
   },
   {
    "duration": 15,
    "start_time": "2022-08-26T09:45:56.532Z"
   },
   {
    "duration": 13,
    "start_time": "2022-08-26T09:46:09.678Z"
   },
   {
    "duration": 12,
    "start_time": "2022-08-26T09:46:35.250Z"
   },
   {
    "duration": 13,
    "start_time": "2022-08-26T09:46:51.648Z"
   },
   {
    "duration": 16,
    "start_time": "2022-08-26T09:47:03.601Z"
   },
   {
    "duration": 1221,
    "start_time": "2022-08-26T09:47:15.879Z"
   },
   {
    "duration": 1212,
    "start_time": "2022-08-26T09:50:14.430Z"
   },
   {
    "duration": 14,
    "start_time": "2022-08-26T09:56:40.195Z"
   },
   {
    "duration": 12,
    "start_time": "2022-08-26T09:57:03.447Z"
   },
   {
    "duration": 42,
    "start_time": "2022-08-26T10:07:51.352Z"
   },
   {
    "duration": 3,
    "start_time": "2022-08-26T10:08:24.318Z"
   },
   {
    "duration": 272,
    "start_time": "2022-08-26T10:08:24.323Z"
   },
   {
    "duration": 30,
    "start_time": "2022-08-26T10:08:24.597Z"
   },
   {
    "duration": 22,
    "start_time": "2022-08-26T10:08:24.628Z"
   },
   {
    "duration": 5,
    "start_time": "2022-08-26T10:08:24.652Z"
   },
   {
    "duration": 55,
    "start_time": "2022-08-26T10:08:24.670Z"
   },
   {
    "duration": 4,
    "start_time": "2022-08-26T10:08:24.727Z"
   },
   {
    "duration": 94,
    "start_time": "2022-08-26T10:08:24.733Z"
   },
   {
    "duration": 206,
    "start_time": "2022-08-26T10:08:24.829Z"
   },
   {
    "duration": 59,
    "start_time": "2022-08-26T10:08:25.037Z"
   },
   {
    "duration": 35,
    "start_time": "2022-08-26T10:08:28.305Z"
   },
   {
    "duration": 36,
    "start_time": "2022-08-26T10:14:06.693Z"
   },
   {
    "duration": 35,
    "start_time": "2022-08-26T10:14:26.306Z"
   },
   {
    "duration": 467,
    "start_time": "2022-08-27T12:42:25.809Z"
   },
   {
    "duration": 203,
    "start_time": "2022-08-27T12:42:26.278Z"
   },
   {
    "duration": 22,
    "start_time": "2022-08-27T12:42:26.482Z"
   },
   {
    "duration": 21,
    "start_time": "2022-08-27T12:42:26.506Z"
   },
   {
    "duration": 9,
    "start_time": "2022-08-27T12:42:26.528Z"
   },
   {
    "duration": 42,
    "start_time": "2022-08-27T12:42:26.538Z"
   },
   {
    "duration": 3,
    "start_time": "2022-08-27T12:42:26.582Z"
   },
   {
    "duration": 62,
    "start_time": "2022-08-27T12:42:26.586Z"
   },
   {
    "duration": 178,
    "start_time": "2022-08-27T12:42:26.649Z"
   },
   {
    "duration": 32,
    "start_time": "2022-08-27T12:42:26.830Z"
   },
   {
    "duration": 67,
    "start_time": "2022-08-27T12:42:26.863Z"
   },
   {
    "duration": 2,
    "start_time": "2022-08-27T12:42:44.894Z"
   },
   {
    "duration": 122,
    "start_time": "2022-08-27T12:42:44.898Z"
   },
   {
    "duration": 20,
    "start_time": "2022-08-27T12:42:45.022Z"
   },
   {
    "duration": 20,
    "start_time": "2022-08-27T12:42:45.043Z"
   },
   {
    "duration": 8,
    "start_time": "2022-08-27T12:42:45.065Z"
   },
   {
    "duration": 42,
    "start_time": "2022-08-27T12:42:45.075Z"
   },
   {
    "duration": 3,
    "start_time": "2022-08-27T12:42:45.119Z"
   },
   {
    "duration": 45,
    "start_time": "2022-08-27T12:42:45.124Z"
   },
   {
    "duration": 186,
    "start_time": "2022-08-27T12:42:45.170Z"
   },
   {
    "duration": 32,
    "start_time": "2022-08-27T12:42:45.357Z"
   },
   {
    "duration": 40,
    "start_time": "2022-08-27T12:42:45.391Z"
   },
   {
    "duration": 24,
    "start_time": "2022-08-27T12:44:00.107Z"
   },
   {
    "duration": 70,
    "start_time": "2022-08-27T12:44:54.297Z"
   },
   {
    "duration": 11,
    "start_time": "2022-08-27T12:46:27.731Z"
   },
   {
    "duration": 44,
    "start_time": "2022-08-27T12:52:39.645Z"
   },
   {
    "duration": 10,
    "start_time": "2022-08-27T12:54:14.780Z"
   },
   {
    "duration": 13,
    "start_time": "2022-08-27T12:55:40.039Z"
   },
   {
    "duration": 768,
    "start_time": "2022-08-27T12:56:21.655Z"
   },
   {
    "duration": 12,
    "start_time": "2022-08-27T13:00:56.099Z"
   },
   {
    "duration": 705,
    "start_time": "2022-08-27T13:02:06.095Z"
   },
   {
    "duration": 1144,
    "start_time": "2022-08-27T13:03:29.345Z"
   },
   {
    "duration": 1262,
    "start_time": "2022-08-27T13:04:19.938Z"
   },
   {
    "duration": 836,
    "start_time": "2022-08-27T13:04:39.562Z"
   },
   {
    "duration": 1047,
    "start_time": "2022-08-27T13:05:55.092Z"
   },
   {
    "duration": 1088,
    "start_time": "2022-08-27T13:07:07.733Z"
   },
   {
    "duration": 829,
    "start_time": "2022-08-27T13:07:23.538Z"
   },
   {
    "duration": 7448,
    "start_time": "2022-08-27T13:09:03.431Z"
   },
   {
    "duration": 3,
    "start_time": "2022-08-27T13:09:17.999Z"
   },
   {
    "duration": 110,
    "start_time": "2022-08-27T13:09:18.003Z"
   },
   {
    "duration": 20,
    "start_time": "2022-08-27T13:09:18.115Z"
   },
   {
    "duration": 18,
    "start_time": "2022-08-27T13:09:18.137Z"
   },
   {
    "duration": 18,
    "start_time": "2022-08-27T13:09:18.157Z"
   },
   {
    "duration": 35,
    "start_time": "2022-08-27T13:09:18.176Z"
   },
   {
    "duration": 3,
    "start_time": "2022-08-27T13:09:18.212Z"
   },
   {
    "duration": 52,
    "start_time": "2022-08-27T13:09:18.217Z"
   },
   {
    "duration": 184,
    "start_time": "2022-08-27T13:09:18.271Z"
   },
   {
    "duration": 33,
    "start_time": "2022-08-27T13:09:18.456Z"
   },
   {
    "duration": 37,
    "start_time": "2022-08-27T13:09:18.491Z"
   },
   {
    "duration": 14,
    "start_time": "2022-08-27T13:09:31.256Z"
   },
   {
    "duration": 6393,
    "start_time": "2022-08-27T13:11:08.076Z"
   },
   {
    "duration": 802,
    "start_time": "2022-08-27T13:11:59.586Z"
   },
   {
    "duration": 24,
    "start_time": "2022-08-27T13:18:26.284Z"
   },
   {
    "duration": 23,
    "start_time": "2022-08-27T13:18:32.137Z"
   },
   {
    "duration": 31,
    "start_time": "2022-08-27T13:18:43.770Z"
   },
   {
    "duration": 28,
    "start_time": "2022-08-27T13:19:15.581Z"
   },
   {
    "duration": 30,
    "start_time": "2022-08-27T13:20:14.043Z"
   },
   {
    "duration": 34,
    "start_time": "2022-08-27T13:23:06.930Z"
   },
   {
    "duration": 27,
    "start_time": "2022-08-27T13:23:41.844Z"
   },
   {
    "duration": 12,
    "start_time": "2022-08-27T13:54:01.185Z"
   },
   {
    "duration": 2310,
    "start_time": "2022-08-27T13:59:11.387Z"
   },
   {
    "duration": 34,
    "start_time": "2022-08-27T13:59:59.897Z"
   },
   {
    "duration": 3,
    "start_time": "2022-08-27T14:00:10.527Z"
   },
   {
    "duration": 120,
    "start_time": "2022-08-27T14:00:10.532Z"
   },
   {
    "duration": 20,
    "start_time": "2022-08-27T14:00:10.653Z"
   },
   {
    "duration": 19,
    "start_time": "2022-08-27T14:00:10.675Z"
   },
   {
    "duration": 17,
    "start_time": "2022-08-27T14:00:10.695Z"
   },
   {
    "duration": 39,
    "start_time": "2022-08-27T14:00:10.714Z"
   },
   {
    "duration": 3,
    "start_time": "2022-08-27T14:00:10.755Z"
   },
   {
    "duration": 52,
    "start_time": "2022-08-27T14:00:10.759Z"
   },
   {
    "duration": 199,
    "start_time": "2022-08-27T14:00:10.813Z"
   },
   {
    "duration": 43,
    "start_time": "2022-08-27T14:00:11.013Z"
   },
   {
    "duration": 27,
    "start_time": "2022-08-27T14:00:11.058Z"
   },
   {
    "duration": 31,
    "start_time": "2022-08-27T14:00:14.749Z"
   },
   {
    "duration": 2,
    "start_time": "2022-08-27T14:02:47.569Z"
   },
   {
    "duration": 121,
    "start_time": "2022-08-27T14:02:47.573Z"
   },
   {
    "duration": 26,
    "start_time": "2022-08-27T14:02:47.695Z"
   },
   {
    "duration": 19,
    "start_time": "2022-08-27T14:02:47.725Z"
   },
   {
    "duration": 6,
    "start_time": "2022-08-27T14:02:47.745Z"
   },
   {
    "duration": 32,
    "start_time": "2022-08-27T14:02:47.752Z"
   },
   {
    "duration": 2,
    "start_time": "2022-08-27T14:02:47.785Z"
   },
   {
    "duration": 66,
    "start_time": "2022-08-27T14:02:47.789Z"
   },
   {
    "duration": 190,
    "start_time": "2022-08-27T14:02:47.857Z"
   },
   {
    "duration": 31,
    "start_time": "2022-08-27T14:02:48.049Z"
   },
   {
    "duration": 46,
    "start_time": "2022-08-27T14:02:48.082Z"
   },
   {
    "duration": 36,
    "start_time": "2022-08-27T14:03:09.404Z"
   },
   {
    "duration": 2122,
    "start_time": "2022-08-27T14:03:14.413Z"
   },
   {
    "duration": 786,
    "start_time": "2022-08-27T14:07:14.224Z"
   },
   {
    "duration": 8,
    "start_time": "2022-08-27T14:08:29.449Z"
   },
   {
    "duration": 8,
    "start_time": "2022-08-27T14:10:38.491Z"
   },
   {
    "duration": 10,
    "start_time": "2022-08-27T14:11:00.230Z"
   },
   {
    "duration": 18,
    "start_time": "2022-08-27T14:12:25.131Z"
   },
   {
    "duration": 3,
    "start_time": "2022-08-27T14:17:25.149Z"
   },
   {
    "duration": 120,
    "start_time": "2022-08-27T14:17:25.153Z"
   },
   {
    "duration": 19,
    "start_time": "2022-08-27T14:17:25.275Z"
   },
   {
    "duration": 34,
    "start_time": "2022-08-27T14:17:25.296Z"
   },
   {
    "duration": 4,
    "start_time": "2022-08-27T14:17:25.333Z"
   },
   {
    "duration": 31,
    "start_time": "2022-08-27T14:17:25.338Z"
   },
   {
    "duration": 3,
    "start_time": "2022-08-27T14:17:25.371Z"
   },
   {
    "duration": 80,
    "start_time": "2022-08-27T14:17:25.375Z"
   },
   {
    "duration": 181,
    "start_time": "2022-08-27T14:17:25.457Z"
   },
   {
    "duration": 32,
    "start_time": "2022-08-27T14:17:25.639Z"
   },
   {
    "duration": 24,
    "start_time": "2022-08-27T14:17:29.979Z"
   },
   {
    "duration": 36,
    "start_time": "2022-08-27T14:17:59.402Z"
   },
   {
    "duration": 15,
    "start_time": "2022-08-27T14:18:53.256Z"
   },
   {
    "duration": 15,
    "start_time": "2022-08-27T14:19:37.891Z"
   },
   {
    "duration": 21,
    "start_time": "2022-08-27T14:20:25.308Z"
   },
   {
    "duration": 18,
    "start_time": "2022-08-27T14:21:10.940Z"
   },
   {
    "duration": 16,
    "start_time": "2022-08-27T14:22:05.060Z"
   },
   {
    "duration": 17,
    "start_time": "2022-08-27T14:22:17.996Z"
   },
   {
    "duration": 10,
    "start_time": "2022-08-27T14:22:57.560Z"
   },
   {
    "duration": 24,
    "start_time": "2022-08-27T14:24:09.165Z"
   },
   {
    "duration": 30,
    "start_time": "2022-08-27T14:24:27.078Z"
   },
   {
    "duration": 29,
    "start_time": "2022-08-27T14:24:48.965Z"
   },
   {
    "duration": 42,
    "start_time": "2022-08-27T14:26:26.035Z"
   },
   {
    "duration": 28,
    "start_time": "2022-08-27T14:26:34.331Z"
   },
   {
    "duration": 3,
    "start_time": "2022-08-27T14:33:54.732Z"
   },
   {
    "duration": 139,
    "start_time": "2022-08-27T14:33:54.738Z"
   },
   {
    "duration": 22,
    "start_time": "2022-08-27T14:33:54.879Z"
   },
   {
    "duration": 55,
    "start_time": "2022-08-27T14:33:54.902Z"
   },
   {
    "duration": 14,
    "start_time": "2022-08-27T14:33:54.959Z"
   },
   {
    "duration": 46,
    "start_time": "2022-08-27T14:33:54.974Z"
   },
   {
    "duration": 19,
    "start_time": "2022-08-27T14:33:55.022Z"
   },
   {
    "duration": 56,
    "start_time": "2022-08-27T14:33:55.043Z"
   },
   {
    "duration": 217,
    "start_time": "2022-08-27T14:33:55.101Z"
   },
   {
    "duration": 50,
    "start_time": "2022-08-27T14:33:55.321Z"
   },
   {
    "duration": 32,
    "start_time": "2022-08-27T14:33:59.534Z"
   },
   {
    "duration": 28,
    "start_time": "2022-08-27T14:36:15.340Z"
   },
   {
    "duration": 29,
    "start_time": "2022-08-27T14:37:43.126Z"
   },
   {
    "duration": 39,
    "start_time": "2022-08-27T14:41:57.238Z"
   },
   {
    "duration": 605,
    "start_time": "2022-08-27T14:42:16.405Z"
   },
   {
    "duration": 34,
    "start_time": "2022-08-27T14:43:26.337Z"
   },
   {
    "duration": 32,
    "start_time": "2022-08-27T14:44:07.227Z"
   },
   {
    "duration": 777,
    "start_time": "2022-08-27T14:44:25.226Z"
   },
   {
    "duration": 34,
    "start_time": "2022-08-27T14:46:05.266Z"
   },
   {
    "duration": 33,
    "start_time": "2022-08-27T14:46:21.528Z"
   },
   {
    "duration": 31,
    "start_time": "2022-08-27T14:47:34.246Z"
   },
   {
    "duration": 797,
    "start_time": "2022-08-27T14:48:19.010Z"
   },
   {
    "duration": 937,
    "start_time": "2022-08-27T15:07:44.489Z"
   },
   {
    "duration": 58,
    "start_time": "2022-08-27T15:08:40.241Z"
   },
   {
    "duration": 796,
    "start_time": "2022-08-27T15:09:09.906Z"
   },
   {
    "duration": 880,
    "start_time": "2022-08-27T15:10:31.978Z"
   },
   {
    "duration": 838,
    "start_time": "2022-08-27T15:11:04.204Z"
   },
   {
    "duration": 42,
    "start_time": "2022-08-27T15:11:30.984Z"
   },
   {
    "duration": 35,
    "start_time": "2022-08-27T15:19:30.335Z"
   },
   {
    "duration": 48,
    "start_time": "2022-08-27T15:27:09.897Z"
   },
   {
    "duration": 5,
    "start_time": "2022-08-27T15:27:25.918Z"
   },
   {
    "duration": 29,
    "start_time": "2022-08-27T15:27:51.368Z"
   },
   {
    "duration": 29,
    "start_time": "2022-08-27T15:34:15.252Z"
   },
   {
    "duration": 26,
    "start_time": "2022-08-27T15:36:03.365Z"
   },
   {
    "duration": 6,
    "start_time": "2022-08-27T15:37:01.679Z"
   },
   {
    "duration": 22,
    "start_time": "2022-08-27T15:44:33.447Z"
   },
   {
    "duration": 7,
    "start_time": "2022-08-27T15:45:25.752Z"
   },
   {
    "duration": 35,
    "start_time": "2022-08-27T15:47:45.138Z"
   },
   {
    "duration": 724,
    "start_time": "2022-08-27T15:48:28.194Z"
   },
   {
    "duration": 20,
    "start_time": "2022-08-27T15:48:43.327Z"
   },
   {
    "duration": 7,
    "start_time": "2022-08-27T15:50:22.756Z"
   },
   {
    "duration": 7,
    "start_time": "2022-08-27T15:50:37.925Z"
   },
   {
    "duration": 50,
    "start_time": "2022-08-27T15:57:48.038Z"
   },
   {
    "duration": 7,
    "start_time": "2022-08-27T15:59:15.574Z"
   },
   {
    "duration": 14,
    "start_time": "2022-08-27T16:05:00.145Z"
   },
   {
    "duration": 5,
    "start_time": "2022-08-27T16:05:59.042Z"
   },
   {
    "duration": 18,
    "start_time": "2022-08-27T16:07:02.524Z"
   },
   {
    "duration": 1109,
    "start_time": "2022-08-27T16:07:42.095Z"
   },
   {
    "duration": 7,
    "start_time": "2022-08-27T16:08:39.757Z"
   },
   {
    "duration": 7,
    "start_time": "2022-08-27T16:11:24.195Z"
   },
   {
    "duration": 708,
    "start_time": "2022-08-27T16:22:56.250Z"
   },
   {
    "duration": 19,
    "start_time": "2022-08-27T16:30:35.549Z"
   },
   {
    "duration": 21,
    "start_time": "2022-08-27T16:30:49.607Z"
   },
   {
    "duration": 1446,
    "start_time": "2022-08-27T16:35:20.951Z"
   },
   {
    "duration": 847,
    "start_time": "2022-08-27T16:35:59.061Z"
   },
   {
    "duration": 2,
    "start_time": "2022-08-27T16:37:34.737Z"
   },
   {
    "duration": 114,
    "start_time": "2022-08-27T16:37:34.743Z"
   },
   {
    "duration": 19,
    "start_time": "2022-08-27T16:37:34.859Z"
   },
   {
    "duration": 19,
    "start_time": "2022-08-27T16:37:34.879Z"
   },
   {
    "duration": 4,
    "start_time": "2022-08-27T16:37:34.911Z"
   },
   {
    "duration": 32,
    "start_time": "2022-08-27T16:37:37.272Z"
   },
   {
    "duration": 33,
    "start_time": "2022-08-27T16:37:44.833Z"
   },
   {
    "duration": 4,
    "start_time": "2022-08-27T16:37:45.958Z"
   },
   {
    "duration": 44,
    "start_time": "2022-08-27T16:37:50.432Z"
   },
   {
    "duration": 164,
    "start_time": "2022-08-27T16:37:52.905Z"
   },
   {
    "duration": 33,
    "start_time": "2022-08-27T16:37:54.301Z"
   },
   {
    "duration": 20,
    "start_time": "2022-08-27T16:38:00.885Z"
   },
   {
    "duration": 13,
    "start_time": "2022-08-27T16:38:03.941Z"
   },
   {
    "duration": 13,
    "start_time": "2022-08-27T16:39:08.670Z"
   },
   {
    "duration": 13,
    "start_time": "2022-08-27T16:42:21.702Z"
   },
   {
    "duration": 737,
    "start_time": "2022-08-27T16:42:32.104Z"
   },
   {
    "duration": 3,
    "start_time": "2022-08-27T16:43:08.231Z"
   },
   {
    "duration": 114,
    "start_time": "2022-08-27T16:43:08.236Z"
   },
   {
    "duration": 20,
    "start_time": "2022-08-27T16:43:08.352Z"
   },
   {
    "duration": 19,
    "start_time": "2022-08-27T16:43:08.373Z"
   },
   {
    "duration": 4,
    "start_time": "2022-08-27T16:43:08.411Z"
   },
   {
    "duration": 35,
    "start_time": "2022-08-27T16:43:08.416Z"
   },
   {
    "duration": 4,
    "start_time": "2022-08-27T16:43:08.452Z"
   },
   {
    "duration": 62,
    "start_time": "2022-08-27T16:43:08.457Z"
   },
   {
    "duration": 177,
    "start_time": "2022-08-27T16:43:08.521Z"
   },
   {
    "duration": 53,
    "start_time": "2022-08-27T16:43:08.700Z"
   },
   {
    "duration": 20,
    "start_time": "2022-08-27T16:43:08.755Z"
   },
   {
    "duration": 34,
    "start_time": "2022-08-27T16:43:08.777Z"
   },
   {
    "duration": 17,
    "start_time": "2022-08-27T16:43:12.120Z"
   },
   {
    "duration": 657,
    "start_time": "2022-08-27T16:43:13.391Z"
   },
   {
    "duration": 3,
    "start_time": "2022-08-27T16:46:25.379Z"
   },
   {
    "duration": 6,
    "start_time": "2022-08-27T16:46:50.281Z"
   },
   {
    "duration": 4,
    "start_time": "2022-08-27T16:47:07.195Z"
   },
   {
    "duration": 20,
    "start_time": "2022-08-27T16:53:49.262Z"
   },
   {
    "duration": 43,
    "start_time": "2022-08-27T17:30:59.957Z"
   },
   {
    "duration": 66,
    "start_time": "2022-08-27T17:31:32.676Z"
   },
   {
    "duration": 793,
    "start_time": "2022-08-27T17:59:11.230Z"
   },
   {
    "duration": 843,
    "start_time": "2022-08-27T18:00:31.520Z"
   },
   {
    "duration": 918,
    "start_time": "2022-08-27T18:01:27.414Z"
   },
   {
    "duration": 16,
    "start_time": "2022-08-27T18:01:41.362Z"
   },
   {
    "duration": 2,
    "start_time": "2022-08-27T18:13:55.738Z"
   },
   {
    "duration": 130,
    "start_time": "2022-08-27T18:13:55.743Z"
   },
   {
    "duration": 21,
    "start_time": "2022-08-27T18:13:55.875Z"
   },
   {
    "duration": 25,
    "start_time": "2022-08-27T18:13:55.898Z"
   },
   {
    "duration": 4,
    "start_time": "2022-08-27T18:13:55.924Z"
   },
   {
    "duration": 32,
    "start_time": "2022-08-27T18:13:55.929Z"
   },
   {
    "duration": 3,
    "start_time": "2022-08-27T18:13:55.963Z"
   },
   {
    "duration": 77,
    "start_time": "2022-08-27T18:13:55.967Z"
   },
   {
    "duration": 179,
    "start_time": "2022-08-27T18:13:56.045Z"
   },
   {
    "duration": 33,
    "start_time": "2022-08-27T18:13:56.225Z"
   },
   {
    "duration": 20,
    "start_time": "2022-08-27T18:13:56.260Z"
   },
   {
    "duration": 15,
    "start_time": "2022-08-27T18:14:23.383Z"
   },
   {
    "duration": 665,
    "start_time": "2022-08-27T18:14:24.311Z"
   },
   {
    "duration": 4,
    "start_time": "2022-08-27T18:14:26.222Z"
   },
   {
    "duration": 35,
    "start_time": "2022-08-27T18:14:28.845Z"
   },
   {
    "duration": 51,
    "start_time": "2022-08-27T18:15:24.253Z"
   },
   {
    "duration": 16,
    "start_time": "2022-08-27T18:15:31.656Z"
   },
   {
    "duration": 17,
    "start_time": "2022-08-27T18:15:41.438Z"
   },
   {
    "duration": 1142,
    "start_time": "2022-08-27T18:17:50.722Z"
   },
   {
    "duration": 4,
    "start_time": "2022-08-27T18:18:00.401Z"
   },
   {
    "duration": 39,
    "start_time": "2022-08-27T18:18:01.854Z"
   },
   {
    "duration": 18,
    "start_time": "2022-08-27T18:18:04.815Z"
   },
   {
    "duration": 17,
    "start_time": "2022-08-27T18:18:07.536Z"
   },
   {
    "duration": 20,
    "start_time": "2022-08-27T18:19:14.343Z"
   },
   {
    "duration": 1266,
    "start_time": "2022-08-27T18:23:07.674Z"
   },
   {
    "duration": 4,
    "start_time": "2022-08-27T18:23:51.212Z"
   },
   {
    "duration": 5,
    "start_time": "2022-08-27T18:24:38.945Z"
   },
   {
    "duration": 7,
    "start_time": "2022-08-27T18:26:08.550Z"
   },
   {
    "duration": 8,
    "start_time": "2022-08-27T18:28:08.183Z"
   },
   {
    "duration": 1067,
    "start_time": "2022-08-27T18:31:27.647Z"
   },
   {
    "duration": 8,
    "start_time": "2022-08-27T18:31:36.231Z"
   },
   {
    "duration": 11,
    "start_time": "2022-08-27T18:32:15.032Z"
   },
   {
    "duration": 1046,
    "start_time": "2022-08-27T18:35:43.784Z"
   },
   {
    "duration": 12,
    "start_time": "2022-08-27T18:35:48.199Z"
   },
   {
    "duration": 10,
    "start_time": "2022-08-27T18:36:30.575Z"
   },
   {
    "duration": 8,
    "start_time": "2022-08-27T18:40:17.657Z"
   },
   {
    "duration": 3,
    "start_time": "2022-08-27T18:41:05.558Z"
   },
   {
    "duration": 121,
    "start_time": "2022-08-27T18:41:05.563Z"
   },
   {
    "duration": 30,
    "start_time": "2022-08-27T18:41:05.686Z"
   },
   {
    "duration": 19,
    "start_time": "2022-08-27T18:41:05.718Z"
   },
   {
    "duration": 6,
    "start_time": "2022-08-27T18:41:05.739Z"
   },
   {
    "duration": 33,
    "start_time": "2022-08-27T18:41:05.746Z"
   },
   {
    "duration": 3,
    "start_time": "2022-08-27T18:41:05.781Z"
   },
   {
    "duration": 70,
    "start_time": "2022-08-27T18:41:05.785Z"
   },
   {
    "duration": 226,
    "start_time": "2022-08-27T18:41:05.857Z"
   },
   {
    "duration": 47,
    "start_time": "2022-08-27T18:41:06.085Z"
   },
   {
    "duration": 26,
    "start_time": "2022-08-27T18:41:06.133Z"
   },
   {
    "duration": 15,
    "start_time": "2022-08-27T18:41:06.161Z"
   },
   {
    "duration": 1216,
    "start_time": "2022-08-27T18:41:06.178Z"
   },
   {
    "duration": 4,
    "start_time": "2022-08-27T18:41:07.396Z"
   },
   {
    "duration": 49,
    "start_time": "2022-08-27T18:41:07.410Z"
   },
   {
    "duration": 22,
    "start_time": "2022-08-27T18:41:07.460Z"
   },
   {
    "duration": 35,
    "start_time": "2022-08-27T18:41:07.484Z"
   },
   {
    "duration": 1187,
    "start_time": "2022-08-27T18:41:07.520Z"
   },
   {
    "duration": 11,
    "start_time": "2022-08-27T18:41:08.709Z"
   },
   {
    "duration": 18,
    "start_time": "2022-08-27T18:41:12.755Z"
   },
   {
    "duration": 8,
    "start_time": "2022-08-27T18:41:15.379Z"
   },
   {
    "duration": 1059,
    "start_time": "2022-08-27T18:43:51.397Z"
   },
   {
    "duration": 12,
    "start_time": "2022-08-27T18:43:57.617Z"
   },
   {
    "duration": 11,
    "start_time": "2022-08-27T18:45:19.976Z"
   },
   {
    "duration": 15,
    "start_time": "2022-08-27T18:45:42.358Z"
   },
   {
    "duration": 2,
    "start_time": "2022-08-27T18:46:01.225Z"
   },
   {
    "duration": 116,
    "start_time": "2022-08-27T18:46:01.229Z"
   },
   {
    "duration": 21,
    "start_time": "2022-08-27T18:46:01.347Z"
   },
   {
    "duration": 27,
    "start_time": "2022-08-27T18:46:01.370Z"
   },
   {
    "duration": 12,
    "start_time": "2022-08-27T18:46:01.399Z"
   },
   {
    "duration": 51,
    "start_time": "2022-08-27T18:46:01.412Z"
   },
   {
    "duration": 3,
    "start_time": "2022-08-27T18:46:01.464Z"
   },
   {
    "duration": 48,
    "start_time": "2022-08-27T18:46:01.468Z"
   },
   {
    "duration": 170,
    "start_time": "2022-08-27T18:46:01.518Z"
   },
   {
    "duration": 38,
    "start_time": "2022-08-27T18:46:01.690Z"
   },
   {
    "duration": 24,
    "start_time": "2022-08-27T18:46:01.730Z"
   },
   {
    "duration": 12,
    "start_time": "2022-08-27T18:46:01.756Z"
   },
   {
    "duration": 1205,
    "start_time": "2022-08-27T18:46:01.769Z"
   },
   {
    "duration": 3,
    "start_time": "2022-08-27T18:46:02.976Z"
   },
   {
    "duration": 44,
    "start_time": "2022-08-27T18:46:02.981Z"
   },
   {
    "duration": 20,
    "start_time": "2022-08-27T18:46:03.026Z"
   },
   {
    "duration": 14,
    "start_time": "2022-08-27T18:46:03.047Z"
   },
   {
    "duration": 1254,
    "start_time": "2022-08-27T18:46:03.062Z"
   },
   {
    "duration": 12,
    "start_time": "2022-08-27T18:46:04.318Z"
   },
   {
    "duration": 14,
    "start_time": "2022-08-27T18:46:09.460Z"
   },
   {
    "duration": 9,
    "start_time": "2022-08-27T18:46:44.779Z"
   },
   {
    "duration": 7,
    "start_time": "2022-08-27T18:46:59.353Z"
   },
   {
    "duration": 8,
    "start_time": "2022-08-27T18:48:21.924Z"
   },
   {
    "duration": 7,
    "start_time": "2022-08-27T18:54:22.249Z"
   },
   {
    "duration": 3,
    "start_time": "2022-08-27T18:57:10.310Z"
   },
   {
    "duration": 125,
    "start_time": "2022-08-27T18:57:10.315Z"
   },
   {
    "duration": 21,
    "start_time": "2022-08-27T18:57:10.442Z"
   },
   {
    "duration": 20,
    "start_time": "2022-08-27T18:57:10.464Z"
   },
   {
    "duration": 27,
    "start_time": "2022-08-27T18:57:10.486Z"
   },
   {
    "duration": 40,
    "start_time": "2022-08-27T18:57:10.514Z"
   },
   {
    "duration": 4,
    "start_time": "2022-08-27T18:57:10.556Z"
   },
   {
    "duration": 59,
    "start_time": "2022-08-27T18:57:10.561Z"
   },
   {
    "duration": 176,
    "start_time": "2022-08-27T18:57:10.621Z"
   },
   {
    "duration": 44,
    "start_time": "2022-08-27T18:57:10.799Z"
   },
   {
    "duration": 21,
    "start_time": "2022-08-27T18:57:10.846Z"
   },
   {
    "duration": 15,
    "start_time": "2022-08-27T18:57:10.868Z"
   },
   {
    "duration": 1140,
    "start_time": "2022-08-27T18:57:10.884Z"
   },
   {
    "duration": 4,
    "start_time": "2022-08-27T18:57:12.025Z"
   },
   {
    "duration": 48,
    "start_time": "2022-08-27T18:57:12.030Z"
   },
   {
    "duration": 32,
    "start_time": "2022-08-27T18:57:12.079Z"
   },
   {
    "duration": 14,
    "start_time": "2022-08-27T18:57:12.113Z"
   },
   {
    "duration": 1253,
    "start_time": "2022-08-27T18:57:12.129Z"
   },
   {
    "duration": 13,
    "start_time": "2022-08-27T18:57:13.384Z"
   },
   {
    "duration": 12,
    "start_time": "2022-08-27T18:57:18.674Z"
   },
   {
    "duration": 21,
    "start_time": "2022-08-27T18:57:51.138Z"
   },
   {
    "duration": 3,
    "start_time": "2022-08-27T18:58:09.517Z"
   },
   {
    "duration": 120,
    "start_time": "2022-08-27T18:58:09.522Z"
   },
   {
    "duration": 20,
    "start_time": "2022-08-27T18:58:09.644Z"
   },
   {
    "duration": 34,
    "start_time": "2022-08-27T18:58:09.665Z"
   },
   {
    "duration": 11,
    "start_time": "2022-08-27T18:58:09.701Z"
   },
   {
    "duration": 41,
    "start_time": "2022-08-27T18:58:09.713Z"
   },
   {
    "duration": 3,
    "start_time": "2022-08-27T18:58:09.755Z"
   },
   {
    "duration": 53,
    "start_time": "2022-08-27T18:58:09.759Z"
   },
   {
    "duration": 179,
    "start_time": "2022-08-27T18:58:09.814Z"
   },
   {
    "duration": 38,
    "start_time": "2022-08-27T18:58:09.994Z"
   },
   {
    "duration": 19,
    "start_time": "2022-08-27T18:58:10.034Z"
   },
   {
    "duration": 25,
    "start_time": "2022-08-27T18:58:10.054Z"
   },
   {
    "duration": 1177,
    "start_time": "2022-08-27T18:58:10.081Z"
   },
   {
    "duration": 4,
    "start_time": "2022-08-27T18:58:11.260Z"
   },
   {
    "duration": 57,
    "start_time": "2022-08-27T18:58:11.265Z"
   },
   {
    "duration": 17,
    "start_time": "2022-08-27T18:58:11.323Z"
   },
   {
    "duration": 22,
    "start_time": "2022-08-27T18:58:11.342Z"
   },
   {
    "duration": 1178,
    "start_time": "2022-08-27T18:58:11.365Z"
   },
   {
    "duration": 16,
    "start_time": "2022-08-27T18:58:12.545Z"
   },
   {
    "duration": 12,
    "start_time": "2022-08-27T18:58:15.210Z"
   },
   {
    "duration": 13,
    "start_time": "2022-08-27T18:58:15.899Z"
   },
   {
    "duration": 6,
    "start_time": "2022-08-27T19:07:47.714Z"
   },
   {
    "duration": 11,
    "start_time": "2022-08-27T19:51:41.929Z"
   },
   {
    "duration": 11,
    "start_time": "2022-08-27T19:52:09.327Z"
   },
   {
    "duration": 10,
    "start_time": "2022-08-27T19:54:08.505Z"
   },
   {
    "duration": 8,
    "start_time": "2022-08-27T19:55:55.768Z"
   },
   {
    "duration": 11,
    "start_time": "2022-08-27T19:56:40.071Z"
   },
   {
    "duration": 14,
    "start_time": "2022-08-27T19:57:05.336Z"
   },
   {
    "duration": 53,
    "start_time": "2022-08-27T20:00:32.672Z"
   },
   {
    "duration": 7,
    "start_time": "2022-08-27T20:00:50.335Z"
   },
   {
    "duration": 11,
    "start_time": "2022-08-27T20:01:21.379Z"
   },
   {
    "duration": 11,
    "start_time": "2022-08-27T20:02:01.852Z"
   },
   {
    "duration": 14,
    "start_time": "2022-08-27T20:02:40.796Z"
   },
   {
    "duration": 12,
    "start_time": "2022-08-27T20:04:14.491Z"
   },
   {
    "duration": 3,
    "start_time": "2022-08-27T20:05:07.367Z"
   },
   {
    "duration": 117,
    "start_time": "2022-08-27T20:05:07.371Z"
   },
   {
    "duration": 34,
    "start_time": "2022-08-27T20:05:07.489Z"
   },
   {
    "duration": 19,
    "start_time": "2022-08-27T20:05:07.526Z"
   },
   {
    "duration": 4,
    "start_time": "2022-08-27T20:05:07.546Z"
   },
   {
    "duration": 34,
    "start_time": "2022-08-27T20:05:07.552Z"
   },
   {
    "duration": 3,
    "start_time": "2022-08-27T20:05:07.610Z"
   },
   {
    "duration": 54,
    "start_time": "2022-08-27T20:05:07.615Z"
   },
   {
    "duration": 174,
    "start_time": "2022-08-27T20:05:07.672Z"
   },
   {
    "duration": 33,
    "start_time": "2022-08-27T20:05:07.848Z"
   },
   {
    "duration": 37,
    "start_time": "2022-08-27T20:05:07.882Z"
   },
   {
    "duration": 12,
    "start_time": "2022-08-27T20:05:07.920Z"
   },
   {
    "duration": 1118,
    "start_time": "2022-08-27T20:05:07.934Z"
   },
   {
    "duration": 4,
    "start_time": "2022-08-27T20:05:09.053Z"
   },
   {
    "duration": 45,
    "start_time": "2022-08-27T20:05:09.058Z"
   },
   {
    "duration": 22,
    "start_time": "2022-08-27T20:05:09.111Z"
   },
   {
    "duration": 13,
    "start_time": "2022-08-27T20:05:09.134Z"
   },
   {
    "duration": 1155,
    "start_time": "2022-08-27T20:05:09.149Z"
   },
   {
    "duration": 12,
    "start_time": "2022-08-27T20:05:10.310Z"
   },
   {
    "duration": 16,
    "start_time": "2022-08-27T20:05:10.323Z"
   },
   {
    "duration": 5,
    "start_time": "2022-08-27T20:05:15.173Z"
   },
   {
    "duration": 13,
    "start_time": "2022-08-27T20:05:22.787Z"
   },
   {
    "duration": 16,
    "start_time": "2022-08-27T20:05:36.333Z"
   },
   {
    "duration": 3,
    "start_time": "2022-08-27T20:06:01.656Z"
   },
   {
    "duration": 125,
    "start_time": "2022-08-27T20:06:01.661Z"
   },
   {
    "duration": 30,
    "start_time": "2022-08-27T20:06:01.787Z"
   },
   {
    "duration": 22,
    "start_time": "2022-08-27T20:06:01.819Z"
   },
   {
    "duration": 8,
    "start_time": "2022-08-27T20:06:01.842Z"
   },
   {
    "duration": 51,
    "start_time": "2022-08-27T20:06:01.852Z"
   },
   {
    "duration": 3,
    "start_time": "2022-08-27T20:06:01.904Z"
   },
   {
    "duration": 59,
    "start_time": "2022-08-27T20:06:01.908Z"
   },
   {
    "duration": 170,
    "start_time": "2022-08-27T20:06:01.969Z"
   },
   {
    "duration": 33,
    "start_time": "2022-08-27T20:06:02.141Z"
   },
   {
    "duration": 19,
    "start_time": "2022-08-27T20:06:02.175Z"
   },
   {
    "duration": 12,
    "start_time": "2022-08-27T20:06:02.211Z"
   },
   {
    "duration": 1183,
    "start_time": "2022-08-27T20:06:02.224Z"
   },
   {
    "duration": 4,
    "start_time": "2022-08-27T20:06:03.408Z"
   },
   {
    "duration": 47,
    "start_time": "2022-08-27T20:06:03.413Z"
   },
   {
    "duration": 21,
    "start_time": "2022-08-27T20:06:03.462Z"
   },
   {
    "duration": 34,
    "start_time": "2022-08-27T20:06:03.485Z"
   },
   {
    "duration": 1144,
    "start_time": "2022-08-27T20:06:03.521Z"
   },
   {
    "duration": 12,
    "start_time": "2022-08-27T20:06:04.666Z"
   },
   {
    "duration": 19,
    "start_time": "2022-08-27T20:06:04.680Z"
   },
   {
    "duration": 6,
    "start_time": "2022-08-27T20:06:04.710Z"
   },
   {
    "duration": 16,
    "start_time": "2022-08-27T20:06:14.643Z"
   },
   {
    "duration": 15,
    "start_time": "2022-08-27T20:07:02.268Z"
   },
   {
    "duration": 3,
    "start_time": "2022-08-27T20:07:07.783Z"
   },
   {
    "duration": 119,
    "start_time": "2022-08-27T20:07:07.787Z"
   },
   {
    "duration": 23,
    "start_time": "2022-08-27T20:07:07.908Z"
   },
   {
    "duration": 20,
    "start_time": "2022-08-27T20:07:07.932Z"
   },
   {
    "duration": 6,
    "start_time": "2022-08-27T20:07:07.954Z"
   },
   {
    "duration": 55,
    "start_time": "2022-08-27T20:07:07.962Z"
   },
   {
    "duration": 3,
    "start_time": "2022-08-27T20:07:08.019Z"
   },
   {
    "duration": 46,
    "start_time": "2022-08-27T20:07:08.023Z"
   },
   {
    "duration": 198,
    "start_time": "2022-08-27T20:07:08.071Z"
   },
   {
    "duration": 47,
    "start_time": "2022-08-27T20:07:08.271Z"
   },
   {
    "duration": 23,
    "start_time": "2022-08-27T20:07:08.320Z"
   },
   {
    "duration": 13,
    "start_time": "2022-08-27T20:07:08.344Z"
   },
   {
    "duration": 1205,
    "start_time": "2022-08-27T20:07:08.359Z"
   },
   {
    "duration": 4,
    "start_time": "2022-08-27T20:07:09.567Z"
   },
   {
    "duration": 53,
    "start_time": "2022-08-27T20:07:09.572Z"
   },
   {
    "duration": 20,
    "start_time": "2022-08-27T20:07:09.627Z"
   },
   {
    "duration": 15,
    "start_time": "2022-08-27T20:07:09.649Z"
   },
   {
    "duration": 1224,
    "start_time": "2022-08-27T20:07:09.665Z"
   },
   {
    "duration": 12,
    "start_time": "2022-08-27T20:07:10.891Z"
   },
   {
    "duration": 22,
    "start_time": "2022-08-27T20:07:10.911Z"
   },
   {
    "duration": 12,
    "start_time": "2022-08-27T20:07:10.935Z"
   },
   {
    "duration": 16,
    "start_time": "2022-08-27T20:07:15.300Z"
   },
   {
    "duration": 3,
    "start_time": "2022-08-27T20:07:43.640Z"
   },
   {
    "duration": 131,
    "start_time": "2022-08-27T20:07:43.645Z"
   },
   {
    "duration": 20,
    "start_time": "2022-08-27T20:07:43.778Z"
   },
   {
    "duration": 24,
    "start_time": "2022-08-27T20:07:43.799Z"
   },
   {
    "duration": 4,
    "start_time": "2022-08-27T20:07:43.825Z"
   },
   {
    "duration": 36,
    "start_time": "2022-08-27T20:07:43.830Z"
   },
   {
    "duration": 4,
    "start_time": "2022-08-27T20:07:43.868Z"
   },
   {
    "duration": 87,
    "start_time": "2022-08-27T20:07:43.874Z"
   },
   {
    "duration": 178,
    "start_time": "2022-08-27T20:07:43.963Z"
   },
   {
    "duration": 33,
    "start_time": "2022-08-27T20:07:44.142Z"
   },
   {
    "duration": 37,
    "start_time": "2022-08-27T20:07:44.177Z"
   },
   {
    "duration": 13,
    "start_time": "2022-08-27T20:07:44.215Z"
   },
   {
    "duration": 1139,
    "start_time": "2022-08-27T20:07:44.230Z"
   },
   {
    "duration": 4,
    "start_time": "2022-08-27T20:07:45.370Z"
   },
   {
    "duration": 46,
    "start_time": "2022-08-27T20:07:45.375Z"
   },
   {
    "duration": 20,
    "start_time": "2022-08-27T20:07:45.422Z"
   },
   {
    "duration": 18,
    "start_time": "2022-08-27T20:07:45.447Z"
   },
   {
    "duration": 1155,
    "start_time": "2022-08-27T20:07:45.467Z"
   },
   {
    "duration": 12,
    "start_time": "2022-08-27T20:07:46.624Z"
   },
   {
    "duration": 14,
    "start_time": "2022-08-27T20:07:46.637Z"
   },
   {
    "duration": 5,
    "start_time": "2022-08-27T20:07:46.653Z"
   },
   {
    "duration": 13,
    "start_time": "2022-08-27T20:08:36.047Z"
   },
   {
    "duration": 24,
    "start_time": "2022-08-27T20:09:39.100Z"
   },
   {
    "duration": 69,
    "start_time": "2022-08-27T20:09:49.086Z"
   },
   {
    "duration": 3,
    "start_time": "2022-08-27T20:11:02.889Z"
   },
   {
    "duration": 115,
    "start_time": "2022-08-27T20:11:02.894Z"
   },
   {
    "duration": 24,
    "start_time": "2022-08-27T20:11:03.011Z"
   },
   {
    "duration": 23,
    "start_time": "2022-08-27T20:11:03.037Z"
   },
   {
    "duration": 6,
    "start_time": "2022-08-27T20:11:03.062Z"
   },
   {
    "duration": 50,
    "start_time": "2022-08-27T20:11:03.069Z"
   },
   {
    "duration": 4,
    "start_time": "2022-08-27T20:11:03.121Z"
   },
   {
    "duration": 52,
    "start_time": "2022-08-27T20:11:03.127Z"
   },
   {
    "duration": 190,
    "start_time": "2022-08-27T20:11:03.182Z"
   },
   {
    "duration": 50,
    "start_time": "2022-08-27T20:11:03.374Z"
   },
   {
    "duration": 23,
    "start_time": "2022-08-27T20:11:03.425Z"
   },
   {
    "duration": 13,
    "start_time": "2022-08-27T20:11:03.449Z"
   },
   {
    "duration": 1237,
    "start_time": "2022-08-27T20:11:03.464Z"
   },
   {
    "duration": 9,
    "start_time": "2022-08-27T20:11:04.708Z"
   },
   {
    "duration": 42,
    "start_time": "2022-08-27T20:11:04.719Z"
   },
   {
    "duration": 19,
    "start_time": "2022-08-27T20:11:04.762Z"
   },
   {
    "duration": 13,
    "start_time": "2022-08-27T20:11:04.782Z"
   },
   {
    "duration": 1205,
    "start_time": "2022-08-27T20:11:04.797Z"
   },
   {
    "duration": 22,
    "start_time": "2022-08-27T20:11:06.004Z"
   },
   {
    "duration": 17,
    "start_time": "2022-08-27T20:11:06.028Z"
   },
   {
    "duration": 6,
    "start_time": "2022-08-27T20:11:06.047Z"
   },
   {
    "duration": 18,
    "start_time": "2022-08-27T20:11:16.175Z"
   },
   {
    "duration": 22,
    "start_time": "2022-08-27T20:11:38.855Z"
   },
   {
    "duration": 2,
    "start_time": "2022-08-27T20:11:38.909Z"
   },
   {
    "duration": 24,
    "start_time": "2022-08-27T20:11:38.912Z"
   },
   {
    "duration": 3,
    "start_time": "2022-08-27T20:11:38.938Z"
   },
   {
    "duration": 5,
    "start_time": "2022-08-27T20:11:38.943Z"
   },
   {
    "duration": 5,
    "start_time": "2022-08-27T20:11:38.949Z"
   },
   {
    "duration": 5,
    "start_time": "2022-08-27T20:11:38.955Z"
   },
   {
    "duration": 5,
    "start_time": "2022-08-27T20:11:38.961Z"
   },
   {
    "duration": 8,
    "start_time": "2022-08-27T20:11:38.967Z"
   },
   {
    "duration": 10,
    "start_time": "2022-08-27T20:11:38.977Z"
   },
   {
    "duration": 14,
    "start_time": "2022-08-27T20:11:38.989Z"
   },
   {
    "duration": 12,
    "start_time": "2022-08-27T20:11:39.005Z"
   },
   {
    "duration": 17,
    "start_time": "2022-08-27T20:11:39.018Z"
   },
   {
    "duration": 5,
    "start_time": "2022-08-27T20:11:39.037Z"
   },
   {
    "duration": 5,
    "start_time": "2022-08-27T20:11:39.044Z"
   },
   {
    "duration": 9,
    "start_time": "2022-08-27T20:11:39.051Z"
   },
   {
    "duration": 3,
    "start_time": "2022-08-27T20:14:29.836Z"
   },
   {
    "duration": 125,
    "start_time": "2022-08-27T20:14:29.841Z"
   },
   {
    "duration": 22,
    "start_time": "2022-08-27T20:14:29.968Z"
   },
   {
    "duration": 36,
    "start_time": "2022-08-27T20:14:29.992Z"
   },
   {
    "duration": 9,
    "start_time": "2022-08-27T20:14:30.029Z"
   },
   {
    "duration": 47,
    "start_time": "2022-08-27T20:14:30.040Z"
   },
   {
    "duration": 4,
    "start_time": "2022-08-27T20:14:30.089Z"
   },
   {
    "duration": 64,
    "start_time": "2022-08-27T20:14:30.094Z"
   },
   {
    "duration": 206,
    "start_time": "2022-08-27T20:14:30.161Z"
   },
   {
    "duration": 57,
    "start_time": "2022-08-27T20:14:30.369Z"
   },
   {
    "duration": 23,
    "start_time": "2022-08-27T20:14:30.428Z"
   },
   {
    "duration": 16,
    "start_time": "2022-08-27T20:14:30.452Z"
   },
   {
    "duration": 1309,
    "start_time": "2022-08-27T20:14:30.470Z"
   },
   {
    "duration": 4,
    "start_time": "2022-08-27T20:14:31.781Z"
   },
   {
    "duration": 67,
    "start_time": "2022-08-27T20:14:31.786Z"
   },
   {
    "duration": 20,
    "start_time": "2022-08-27T20:14:31.854Z"
   },
   {
    "duration": 13,
    "start_time": "2022-08-27T20:14:31.876Z"
   },
   {
    "duration": 1386,
    "start_time": "2022-08-27T20:14:31.914Z"
   },
   {
    "duration": 20,
    "start_time": "2022-08-27T20:14:33.301Z"
   },
   {
    "duration": 23,
    "start_time": "2022-08-27T20:14:33.323Z"
   },
   {
    "duration": 6,
    "start_time": "2022-08-27T20:14:33.347Z"
   },
   {
    "duration": 15,
    "start_time": "2022-08-27T20:14:40.660Z"
   },
   {
    "duration": 19,
    "start_time": "2022-08-27T20:15:19.124Z"
   },
   {
    "duration": 13,
    "start_time": "2022-08-27T20:15:49.089Z"
   },
   {
    "duration": 6,
    "start_time": "2022-08-27T20:18:18.733Z"
   },
   {
    "duration": 15,
    "start_time": "2022-08-27T20:18:35.478Z"
   },
   {
    "duration": 7,
    "start_time": "2022-08-27T20:19:06.977Z"
   },
   {
    "duration": 5,
    "start_time": "2022-08-27T20:19:12.543Z"
   },
   {
    "duration": 8,
    "start_time": "2022-08-27T20:19:55.696Z"
   },
   {
    "duration": 4,
    "start_time": "2022-08-27T20:20:03.348Z"
   },
   {
    "duration": 5,
    "start_time": "2022-08-27T20:20:15.768Z"
   },
   {
    "duration": 4,
    "start_time": "2022-08-27T20:20:57.024Z"
   },
   {
    "duration": 8,
    "start_time": "2022-08-27T20:21:05.332Z"
   },
   {
    "duration": 10,
    "start_time": "2022-08-27T20:21:27.155Z"
   },
   {
    "duration": 12,
    "start_time": "2022-08-27T20:22:47.364Z"
   },
   {
    "duration": 25,
    "start_time": "2022-08-27T20:22:59.498Z"
   },
   {
    "duration": 3,
    "start_time": "2022-08-27T20:23:17.896Z"
   },
   {
    "duration": 128,
    "start_time": "2022-08-27T20:23:17.901Z"
   },
   {
    "duration": 21,
    "start_time": "2022-08-27T20:23:18.031Z"
   },
   {
    "duration": 31,
    "start_time": "2022-08-27T20:23:18.053Z"
   },
   {
    "duration": 5,
    "start_time": "2022-08-27T20:23:18.086Z"
   },
   {
    "duration": 40,
    "start_time": "2022-08-27T20:23:18.117Z"
   },
   {
    "duration": 4,
    "start_time": "2022-08-27T20:23:18.158Z"
   },
   {
    "duration": 65,
    "start_time": "2022-08-27T20:23:18.163Z"
   },
   {
    "duration": 197,
    "start_time": "2022-08-27T20:23:18.231Z"
   },
   {
    "duration": 34,
    "start_time": "2022-08-27T20:23:18.429Z"
   },
   {
    "duration": 22,
    "start_time": "2022-08-27T20:23:18.465Z"
   },
   {
    "duration": 40,
    "start_time": "2022-08-27T20:23:18.489Z"
   },
   {
    "duration": 1182,
    "start_time": "2022-08-27T20:23:18.531Z"
   },
   {
    "duration": 6,
    "start_time": "2022-08-27T20:23:19.714Z"
   },
   {
    "duration": 45,
    "start_time": "2022-08-27T20:23:19.721Z"
   },
   {
    "duration": 19,
    "start_time": "2022-08-27T20:23:19.768Z"
   },
   {
    "duration": 42,
    "start_time": "2022-08-27T20:23:19.789Z"
   },
   {
    "duration": 1234,
    "start_time": "2022-08-27T20:23:19.833Z"
   },
   {
    "duration": 15,
    "start_time": "2022-08-27T20:23:21.069Z"
   },
   {
    "duration": 36,
    "start_time": "2022-08-27T20:23:21.086Z"
   },
   {
    "duration": 7,
    "start_time": "2022-08-27T20:23:21.125Z"
   },
   {
    "duration": 14,
    "start_time": "2022-08-27T20:23:24.139Z"
   },
   {
    "duration": 17,
    "start_time": "2022-08-27T20:23:48.252Z"
   },
   {
    "duration": 25,
    "start_time": "2022-08-27T20:26:48.824Z"
   },
   {
    "duration": 18,
    "start_time": "2022-08-27T20:27:23.980Z"
   },
   {
    "duration": 25,
    "start_time": "2022-08-27T20:27:59.356Z"
   },
   {
    "duration": 36,
    "start_time": "2022-08-27T20:28:08.291Z"
   },
   {
    "duration": 51,
    "start_time": "2022-08-27T20:30:51.724Z"
   },
   {
    "duration": 12,
    "start_time": "2022-08-27T20:34:26.288Z"
   },
   {
    "duration": 20,
    "start_time": "2022-08-27T20:34:36.679Z"
   },
   {
    "duration": 16,
    "start_time": "2022-08-27T20:37:02.841Z"
   },
   {
    "duration": 55,
    "start_time": "2022-08-27T20:43:09.443Z"
   },
   {
    "duration": 466,
    "start_time": "2022-08-27T20:43:21.580Z"
   },
   {
    "duration": 22,
    "start_time": "2022-08-27T20:46:45.124Z"
   },
   {
    "duration": 3,
    "start_time": "2022-08-27T20:48:30.865Z"
   },
   {
    "duration": 128,
    "start_time": "2022-08-27T20:48:30.870Z"
   },
   {
    "duration": 34,
    "start_time": "2022-08-27T20:48:31.011Z"
   },
   {
    "duration": 26,
    "start_time": "2022-08-27T20:48:31.047Z"
   },
   {
    "duration": 10,
    "start_time": "2022-08-27T20:48:31.076Z"
   },
   {
    "duration": 66,
    "start_time": "2022-08-27T20:48:31.088Z"
   },
   {
    "duration": 4,
    "start_time": "2022-08-27T20:48:31.155Z"
   },
   {
    "duration": 73,
    "start_time": "2022-08-27T20:48:31.160Z"
   },
   {
    "duration": 197,
    "start_time": "2022-08-27T20:48:31.235Z"
   },
   {
    "duration": 39,
    "start_time": "2022-08-27T20:48:31.434Z"
   },
   {
    "duration": 50,
    "start_time": "2022-08-27T20:48:31.475Z"
   },
   {
    "duration": 17,
    "start_time": "2022-08-27T20:48:31.527Z"
   },
   {
    "duration": 1263,
    "start_time": "2022-08-27T20:48:31.545Z"
   },
   {
    "duration": 16,
    "start_time": "2022-08-27T20:48:32.810Z"
   },
   {
    "duration": 96,
    "start_time": "2022-08-27T20:48:32.827Z"
   },
   {
    "duration": 24,
    "start_time": "2022-08-27T20:48:32.925Z"
   },
   {
    "duration": 15,
    "start_time": "2022-08-27T20:48:32.951Z"
   },
   {
    "duration": 1219,
    "start_time": "2022-08-27T20:48:32.967Z"
   },
   {
    "duration": 13,
    "start_time": "2022-08-27T20:48:34.188Z"
   },
   {
    "duration": 22,
    "start_time": "2022-08-27T20:48:34.203Z"
   },
   {
    "duration": 13,
    "start_time": "2022-08-27T20:48:34.226Z"
   },
   {
    "duration": 12,
    "start_time": "2022-08-27T20:48:34.241Z"
   },
   {
    "duration": 12,
    "start_time": "2022-08-27T20:48:34.255Z"
   },
   {
    "duration": 55,
    "start_time": "2022-08-27T20:48:34.268Z"
   },
   {
    "duration": 21,
    "start_time": "2022-08-27T20:48:34.324Z"
   },
   {
    "duration": 19,
    "start_time": "2022-08-27T20:48:39.238Z"
   },
   {
    "duration": 32,
    "start_time": "2022-08-27T20:48:45.189Z"
   },
   {
    "duration": 35,
    "start_time": "2022-08-27T20:48:54.591Z"
   },
   {
    "duration": 11,
    "start_time": "2022-08-27T20:49:44.063Z"
   },
   {
    "duration": 2,
    "start_time": "2022-08-27T21:03:49.941Z"
   },
   {
    "duration": 140,
    "start_time": "2022-08-27T21:03:49.945Z"
   },
   {
    "duration": 40,
    "start_time": "2022-08-27T21:03:50.087Z"
   },
   {
    "duration": 27,
    "start_time": "2022-08-27T21:03:50.129Z"
   },
   {
    "duration": 9,
    "start_time": "2022-08-27T21:03:50.159Z"
   },
   {
    "duration": 55,
    "start_time": "2022-08-27T21:03:50.169Z"
   },
   {
    "duration": 15,
    "start_time": "2022-08-27T21:03:50.226Z"
   },
   {
    "duration": 54,
    "start_time": "2022-08-27T21:03:50.243Z"
   },
   {
    "duration": 193,
    "start_time": "2022-08-27T21:03:50.298Z"
   },
   {
    "duration": 51,
    "start_time": "2022-08-27T21:03:50.493Z"
   },
   {
    "duration": 21,
    "start_time": "2022-08-27T21:03:50.547Z"
   },
   {
    "duration": 14,
    "start_time": "2022-08-27T21:03:50.570Z"
   },
   {
    "duration": 1212,
    "start_time": "2022-08-27T21:03:50.613Z"
   },
   {
    "duration": 4,
    "start_time": "2022-08-27T21:03:51.827Z"
   },
   {
    "duration": 41,
    "start_time": "2022-08-27T21:03:51.832Z"
   },
   {
    "duration": 19,
    "start_time": "2022-08-27T21:03:51.874Z"
   },
   {
    "duration": 16,
    "start_time": "2022-08-27T21:03:51.914Z"
   },
   {
    "duration": 1318,
    "start_time": "2022-08-27T21:03:51.931Z"
   },
   {
    "duration": 12,
    "start_time": "2022-08-27T21:03:53.251Z"
   },
   {
    "duration": 15,
    "start_time": "2022-08-27T21:03:53.264Z"
   },
   {
    "duration": 5,
    "start_time": "2022-08-27T21:03:53.280Z"
   },
   {
    "duration": 18,
    "start_time": "2022-08-27T21:12:55.674Z"
   },
   {
    "duration": 17,
    "start_time": "2022-08-27T21:15:28.068Z"
   },
   {
    "duration": 28,
    "start_time": "2022-08-27T21:16:18.745Z"
   },
   {
    "duration": 32,
    "start_time": "2022-08-27T21:17:06.366Z"
   },
   {
    "duration": 20,
    "start_time": "2022-08-27T21:26:24.395Z"
   },
   {
    "duration": 13,
    "start_time": "2022-08-27T21:28:57.606Z"
   },
   {
    "duration": 2811,
    "start_time": "2022-08-27T21:29:31.724Z"
   },
   {
    "duration": 3,
    "start_time": "2022-08-27T21:31:13.429Z"
   },
   {
    "duration": 149,
    "start_time": "2022-08-27T21:31:13.435Z"
   },
   {
    "duration": 25,
    "start_time": "2022-08-27T21:31:13.586Z"
   },
   {
    "duration": 21,
    "start_time": "2022-08-27T21:31:13.612Z"
   },
   {
    "duration": 4,
    "start_time": "2022-08-27T21:31:13.635Z"
   },
   {
    "duration": 32,
    "start_time": "2022-08-27T21:31:13.640Z"
   },
   {
    "duration": 4,
    "start_time": "2022-08-27T21:31:13.673Z"
   },
   {
    "duration": 74,
    "start_time": "2022-08-27T21:31:13.678Z"
   },
   {
    "duration": 187,
    "start_time": "2022-08-27T21:31:13.754Z"
   },
   {
    "duration": 32,
    "start_time": "2022-08-27T21:31:13.943Z"
   },
   {
    "duration": 36,
    "start_time": "2022-08-27T21:31:13.978Z"
   },
   {
    "duration": 13,
    "start_time": "2022-08-27T21:31:14.016Z"
   },
   {
    "duration": 1123,
    "start_time": "2022-08-27T21:31:14.030Z"
   },
   {
    "duration": 4,
    "start_time": "2022-08-27T21:31:15.154Z"
   },
   {
    "duration": 50,
    "start_time": "2022-08-27T21:31:15.160Z"
   },
   {
    "duration": 19,
    "start_time": "2022-08-27T21:31:15.212Z"
   },
   {
    "duration": 14,
    "start_time": "2022-08-27T21:31:15.232Z"
   },
   {
    "duration": 1182,
    "start_time": "2022-08-27T21:31:15.247Z"
   },
   {
    "duration": 12,
    "start_time": "2022-08-27T21:31:16.430Z"
   },
   {
    "duration": 16,
    "start_time": "2022-08-27T21:31:16.443Z"
   },
   {
    "duration": 5,
    "start_time": "2022-08-27T21:31:16.461Z"
   },
   {
    "duration": 58,
    "start_time": "2022-08-27T21:31:16.468Z"
   },
   {
    "duration": 31,
    "start_time": "2022-08-27T21:31:21.369Z"
   },
   {
    "duration": 14,
    "start_time": "2022-08-27T21:31:23.035Z"
   },
   {
    "duration": 2856,
    "start_time": "2022-08-27T21:31:31.884Z"
   },
   {
    "duration": 5,
    "start_time": "2022-08-27T21:36:04.409Z"
   },
   {
    "duration": 6,
    "start_time": "2022-08-27T21:36:42.724Z"
   },
   {
    "duration": 6,
    "start_time": "2022-08-27T21:38:21.167Z"
   },
   {
    "duration": 5,
    "start_time": "2022-08-27T21:43:40.682Z"
   },
   {
    "duration": 11,
    "start_time": "2022-08-27T21:44:20.320Z"
   },
   {
    "duration": 13,
    "start_time": "2022-08-27T21:44:21.617Z"
   },
   {
    "duration": 32,
    "start_time": "2022-08-27T21:44:27.824Z"
   },
   {
    "duration": 20,
    "start_time": "2022-08-27T21:44:37.992Z"
   },
   {
    "duration": 30,
    "start_time": "2022-08-27T21:45:32.282Z"
   },
   {
    "duration": 10,
    "start_time": "2022-08-27T21:45:42.179Z"
   },
   {
    "duration": 29,
    "start_time": "2022-08-27T21:50:48.205Z"
   },
   {
    "duration": 10,
    "start_time": "2022-08-27T21:50:51.485Z"
   },
   {
    "duration": 3,
    "start_time": "2022-08-27T21:51:07.716Z"
   },
   {
    "duration": 141,
    "start_time": "2022-08-27T21:51:07.722Z"
   },
   {
    "duration": 23,
    "start_time": "2022-08-27T21:51:07.865Z"
   },
   {
    "duration": 35,
    "start_time": "2022-08-27T21:51:07.890Z"
   },
   {
    "duration": 8,
    "start_time": "2022-08-27T21:51:07.927Z"
   },
   {
    "duration": 37,
    "start_time": "2022-08-27T21:51:07.936Z"
   },
   {
    "duration": 4,
    "start_time": "2022-08-27T21:51:07.975Z"
   },
   {
    "duration": 78,
    "start_time": "2022-08-27T21:51:07.981Z"
   },
   {
    "duration": 191,
    "start_time": "2022-08-27T21:51:08.061Z"
   },
   {
    "duration": 40,
    "start_time": "2022-08-27T21:51:08.253Z"
   },
   {
    "duration": 23,
    "start_time": "2022-08-27T21:51:08.311Z"
   },
   {
    "duration": 16,
    "start_time": "2022-08-27T21:51:08.335Z"
   },
   {
    "duration": 1285,
    "start_time": "2022-08-27T21:51:08.354Z"
   },
   {
    "duration": 4,
    "start_time": "2022-08-27T21:51:09.641Z"
   },
   {
    "duration": 47,
    "start_time": "2022-08-27T21:51:09.646Z"
   },
   {
    "duration": 33,
    "start_time": "2022-08-27T21:51:09.694Z"
   },
   {
    "duration": 14,
    "start_time": "2022-08-27T21:51:09.729Z"
   },
   {
    "duration": 1282,
    "start_time": "2022-08-27T21:51:09.744Z"
   },
   {
    "duration": 12,
    "start_time": "2022-08-27T21:51:11.028Z"
   },
   {
    "duration": 23,
    "start_time": "2022-08-27T21:51:11.042Z"
   },
   {
    "duration": 6,
    "start_time": "2022-08-27T21:51:11.067Z"
   },
   {
    "duration": 50,
    "start_time": "2022-08-27T21:51:11.075Z"
   },
   {
    "duration": 14,
    "start_time": "2022-08-27T21:51:11.127Z"
   },
   {
    "duration": 2971,
    "start_time": "2022-08-27T21:51:11.142Z"
   },
   {
    "duration": 5,
    "start_time": "2022-08-27T21:51:14.114Z"
   },
   {
    "duration": 27,
    "start_time": "2022-08-27T21:51:14.120Z"
   },
   {
    "duration": 14,
    "start_time": "2022-08-27T21:51:14.149Z"
   },
   {
    "duration": 18,
    "start_time": "2022-08-27T21:51:14.165Z"
   },
   {
    "duration": 41,
    "start_time": "2022-08-27T21:51:14.185Z"
   },
   {
    "duration": 23,
    "start_time": "2022-08-27T21:51:14.228Z"
   },
   {
    "duration": 19,
    "start_time": "2022-08-27T21:51:17.043Z"
   },
   {
    "duration": 31,
    "start_time": "2022-08-27T21:51:22.245Z"
   },
   {
    "duration": 11,
    "start_time": "2022-08-27T21:51:25.966Z"
   },
   {
    "duration": 14,
    "start_time": "2022-08-27T21:58:41.689Z"
   },
   {
    "duration": 10,
    "start_time": "2022-08-27T22:00:57.575Z"
   },
   {
    "duration": 16,
    "start_time": "2022-08-27T22:01:08.218Z"
   },
   {
    "duration": 13,
    "start_time": "2022-08-27T22:03:54.835Z"
   },
   {
    "duration": 6,
    "start_time": "2022-08-27T22:08:39.726Z"
   },
   {
    "duration": 14,
    "start_time": "2022-08-27T22:14:54.774Z"
   },
   {
    "duration": 15,
    "start_time": "2022-08-27T22:15:48.928Z"
   },
   {
    "duration": 12,
    "start_time": "2022-08-27T22:16:14.393Z"
   },
   {
    "duration": 3,
    "start_time": "2022-08-27T22:17:01.701Z"
   },
   {
    "duration": 141,
    "start_time": "2022-08-27T22:17:01.705Z"
   },
   {
    "duration": 22,
    "start_time": "2022-08-27T22:17:01.848Z"
   },
   {
    "duration": 39,
    "start_time": "2022-08-27T22:17:01.871Z"
   },
   {
    "duration": 3,
    "start_time": "2022-08-27T22:17:01.912Z"
   },
   {
    "duration": 45,
    "start_time": "2022-08-27T22:17:01.917Z"
   },
   {
    "duration": 4,
    "start_time": "2022-08-27T22:17:01.963Z"
   },
   {
    "duration": 55,
    "start_time": "2022-08-27T22:17:01.968Z"
   },
   {
    "duration": 196,
    "start_time": "2022-08-27T22:17:02.025Z"
   },
   {
    "duration": 41,
    "start_time": "2022-08-27T22:17:02.223Z"
   },
   {
    "duration": 20,
    "start_time": "2022-08-27T22:17:02.267Z"
   },
   {
    "duration": 30,
    "start_time": "2022-08-27T22:17:02.289Z"
   },
   {
    "duration": 1225,
    "start_time": "2022-08-27T22:17:02.320Z"
   },
   {
    "duration": 4,
    "start_time": "2022-08-27T22:17:03.547Z"
   },
   {
    "duration": 41,
    "start_time": "2022-08-27T22:17:03.552Z"
   },
   {
    "duration": 35,
    "start_time": "2022-08-27T22:17:03.595Z"
   },
   {
    "duration": 14,
    "start_time": "2022-08-27T22:17:03.631Z"
   },
   {
    "duration": 1157,
    "start_time": "2022-08-27T22:17:03.646Z"
   },
   {
    "duration": 16,
    "start_time": "2022-08-27T22:17:04.804Z"
   },
   {
    "duration": 14,
    "start_time": "2022-08-27T22:17:04.821Z"
   },
   {
    "duration": 6,
    "start_time": "2022-08-27T22:17:04.836Z"
   },
   {
    "duration": 39,
    "start_time": "2022-08-27T22:17:04.844Z"
   },
   {
    "duration": 21,
    "start_time": "2022-08-27T22:17:04.911Z"
   },
   {
    "duration": 2829,
    "start_time": "2022-08-27T22:17:04.933Z"
   },
   {
    "duration": 6,
    "start_time": "2022-08-27T22:17:07.763Z"
   },
   {
    "duration": 8,
    "start_time": "2022-08-27T22:17:07.771Z"
   },
   {
    "duration": 21,
    "start_time": "2022-08-27T22:17:07.780Z"
   },
   {
    "duration": 12,
    "start_time": "2022-08-27T22:17:07.810Z"
   },
   {
    "duration": 32,
    "start_time": "2022-08-27T22:17:07.827Z"
   },
   {
    "duration": 19,
    "start_time": "2022-08-27T22:17:07.861Z"
   },
   {
    "duration": 57,
    "start_time": "2022-08-27T22:17:07.882Z"
   },
   {
    "duration": 11,
    "start_time": "2022-08-27T22:17:07.940Z"
   },
   {
    "duration": 19,
    "start_time": "2022-08-27T22:17:07.952Z"
   },
   {
    "duration": 45,
    "start_time": "2022-08-27T22:17:07.973Z"
   },
   {
    "duration": 11,
    "start_time": "2022-08-27T22:17:57.880Z"
   },
   {
    "duration": 13,
    "start_time": "2022-08-27T22:23:46.828Z"
   },
   {
    "duration": 15,
    "start_time": "2022-08-27T22:24:11.407Z"
   },
   {
    "duration": 23,
    "start_time": "2022-08-27T22:24:45.860Z"
   },
   {
    "duration": 1847,
    "start_time": "2022-08-27T22:24:52.298Z"
   },
   {
    "duration": 178,
    "start_time": "2022-08-27T22:26:42.837Z"
   },
   {
    "duration": 9,
    "start_time": "2022-08-27T22:27:46.222Z"
   },
   {
    "duration": 8,
    "start_time": "2022-08-27T22:28:15.982Z"
   },
   {
    "duration": 8,
    "start_time": "2022-08-27T22:28:57.383Z"
   },
   {
    "duration": 14,
    "start_time": "2022-08-27T22:29:20.229Z"
   },
   {
    "duration": 14,
    "start_time": "2022-08-27T22:30:14.241Z"
   },
   {
    "duration": 12,
    "start_time": "2022-08-27T22:30:56.218Z"
   },
   {
    "duration": 14,
    "start_time": "2022-08-27T22:31:01.638Z"
   },
   {
    "duration": 13,
    "start_time": "2022-08-27T22:31:16.521Z"
   },
   {
    "duration": 14,
    "start_time": "2022-08-27T22:31:55.514Z"
   },
   {
    "duration": 824,
    "start_time": "2022-08-27T22:34:04.931Z"
   },
   {
    "duration": 37,
    "start_time": "2022-08-27T22:38:23.946Z"
   },
   {
    "duration": 34,
    "start_time": "2022-08-27T22:38:42.474Z"
   },
   {
    "duration": 45,
    "start_time": "2022-08-27T22:39:27.730Z"
   },
   {
    "duration": 35,
    "start_time": "2022-08-27T22:39:34.085Z"
   },
   {
    "duration": 3,
    "start_time": "2022-08-27T22:46:47.076Z"
   },
   {
    "duration": 120,
    "start_time": "2022-08-27T22:46:47.080Z"
   },
   {
    "duration": 27,
    "start_time": "2022-08-27T22:46:47.202Z"
   },
   {
    "duration": 18,
    "start_time": "2022-08-27T22:46:47.231Z"
   },
   {
    "duration": 4,
    "start_time": "2022-08-27T22:46:47.252Z"
   },
   {
    "duration": 56,
    "start_time": "2022-08-27T22:46:47.257Z"
   },
   {
    "duration": 4,
    "start_time": "2022-08-27T22:46:47.315Z"
   },
   {
    "duration": 46,
    "start_time": "2022-08-27T22:46:47.321Z"
   },
   {
    "duration": 198,
    "start_time": "2022-08-27T22:46:47.368Z"
   },
   {
    "duration": 47,
    "start_time": "2022-08-27T22:46:47.568Z"
   },
   {
    "duration": 22,
    "start_time": "2022-08-27T22:46:47.618Z"
   },
   {
    "duration": 14,
    "start_time": "2022-08-27T22:46:47.641Z"
   },
   {
    "duration": 1115,
    "start_time": "2022-08-27T22:46:47.657Z"
   },
   {
    "duration": 3,
    "start_time": "2022-08-27T22:46:48.774Z"
   },
   {
    "duration": 44,
    "start_time": "2022-08-27T22:46:48.779Z"
   },
   {
    "duration": 17,
    "start_time": "2022-08-27T22:46:48.825Z"
   },
   {
    "duration": 12,
    "start_time": "2022-08-27T22:46:48.843Z"
   },
   {
    "duration": 1143,
    "start_time": "2022-08-27T22:46:48.857Z"
   },
   {
    "duration": 16,
    "start_time": "2022-08-27T22:46:50.001Z"
   },
   {
    "duration": 17,
    "start_time": "2022-08-27T22:46:50.019Z"
   },
   {
    "duration": 6,
    "start_time": "2022-08-27T22:46:50.037Z"
   },
   {
    "duration": 33,
    "start_time": "2022-08-27T22:46:50.045Z"
   },
   {
    "duration": 34,
    "start_time": "2022-08-27T22:46:50.079Z"
   },
   {
    "duration": 2760,
    "start_time": "2022-08-27T22:46:50.115Z"
   },
   {
    "duration": 5,
    "start_time": "2022-08-27T22:46:52.876Z"
   },
   {
    "duration": 5,
    "start_time": "2022-08-27T22:46:52.882Z"
   },
   {
    "duration": 27,
    "start_time": "2022-08-27T22:46:52.888Z"
   },
   {
    "duration": 12,
    "start_time": "2022-08-27T22:46:52.916Z"
   },
   {
    "duration": 29,
    "start_time": "2022-08-27T22:46:52.931Z"
   },
   {
    "duration": 18,
    "start_time": "2022-08-27T22:46:52.962Z"
   },
   {
    "duration": 54,
    "start_time": "2022-08-27T22:46:52.981Z"
   },
   {
    "duration": 10,
    "start_time": "2022-08-27T22:46:53.037Z"
   },
   {
    "duration": 18,
    "start_time": "2022-08-27T22:46:53.048Z"
   },
   {
    "duration": 14,
    "start_time": "2022-08-27T22:46:53.067Z"
   },
   {
    "duration": 30,
    "start_time": "2022-08-27T22:46:53.082Z"
   },
   {
    "duration": 7,
    "start_time": "2022-08-27T22:46:53.113Z"
   },
   {
    "duration": 7,
    "start_time": "2022-08-27T22:47:10.278Z"
   },
   {
    "duration": 837,
    "start_time": "2022-08-27T22:47:22.168Z"
   },
   {
    "duration": 19,
    "start_time": "2022-08-27T22:54:53.693Z"
   },
   {
    "duration": 34,
    "start_time": "2022-08-27T23:01:30.468Z"
   },
   {
    "duration": 15,
    "start_time": "2022-08-27T23:04:20.584Z"
   },
   {
    "duration": 12,
    "start_time": "2022-08-27T23:06:17.770Z"
   },
   {
    "duration": 13,
    "start_time": "2022-08-27T23:06:34.799Z"
   },
   {
    "duration": 19,
    "start_time": "2022-08-27T23:06:38.630Z"
   },
   {
    "duration": 18,
    "start_time": "2022-08-27T23:07:47.608Z"
   },
   {
    "duration": 618,
    "start_time": "2022-08-27T23:22:05.136Z"
   },
   {
    "duration": 158,
    "start_time": "2022-08-27T23:23:49.327Z"
   },
   {
    "duration": 3,
    "start_time": "2022-08-27T23:24:45.972Z"
   },
   {
    "duration": 118,
    "start_time": "2022-08-27T23:24:45.977Z"
   },
   {
    "duration": 32,
    "start_time": "2022-08-27T23:24:46.097Z"
   },
   {
    "duration": 21,
    "start_time": "2022-08-27T23:24:46.131Z"
   },
   {
    "duration": 6,
    "start_time": "2022-08-27T23:24:46.154Z"
   },
   {
    "duration": 76,
    "start_time": "2022-08-27T23:24:46.162Z"
   },
   {
    "duration": 5,
    "start_time": "2022-08-27T23:24:46.240Z"
   },
   {
    "duration": 90,
    "start_time": "2022-08-27T23:24:46.247Z"
   },
   {
    "duration": 180,
    "start_time": "2022-08-27T23:24:46.339Z"
   },
   {
    "duration": 33,
    "start_time": "2022-08-27T23:24:46.520Z"
   },
   {
    "duration": 21,
    "start_time": "2022-08-27T23:24:46.555Z"
   },
   {
    "duration": 34,
    "start_time": "2022-08-27T23:24:46.578Z"
   },
   {
    "duration": 1140,
    "start_time": "2022-08-27T23:24:46.614Z"
   },
   {
    "duration": 3,
    "start_time": "2022-08-27T23:24:47.756Z"
   },
   {
    "duration": 53,
    "start_time": "2022-08-27T23:24:47.761Z"
   },
   {
    "duration": 20,
    "start_time": "2022-08-27T23:24:47.815Z"
   },
   {
    "duration": 13,
    "start_time": "2022-08-27T23:24:47.837Z"
   },
   {
    "duration": 1146,
    "start_time": "2022-08-27T23:24:47.851Z"
   },
   {
    "duration": 16,
    "start_time": "2022-08-27T23:24:48.999Z"
   },
   {
    "duration": 14,
    "start_time": "2022-08-27T23:24:49.017Z"
   },
   {
    "duration": 5,
    "start_time": "2022-08-27T23:24:49.032Z"
   },
   {
    "duration": 30,
    "start_time": "2022-08-27T23:24:49.039Z"
   },
   {
    "duration": 46,
    "start_time": "2022-08-27T23:24:49.071Z"
   },
   {
    "duration": 2731,
    "start_time": "2022-08-27T23:24:49.119Z"
   },
   {
    "duration": 5,
    "start_time": "2022-08-27T23:24:51.851Z"
   },
   {
    "duration": 4,
    "start_time": "2022-08-27T23:24:51.858Z"
   },
   {
    "duration": 14,
    "start_time": "2022-08-27T23:24:51.864Z"
   },
   {
    "duration": 42,
    "start_time": "2022-08-27T23:24:51.880Z"
   },
   {
    "duration": 32,
    "start_time": "2022-08-27T23:24:51.926Z"
   },
   {
    "duration": 20,
    "start_time": "2022-08-27T23:24:51.960Z"
   },
   {
    "duration": 52,
    "start_time": "2022-08-27T23:24:51.982Z"
   },
   {
    "duration": 12,
    "start_time": "2022-08-27T23:24:52.035Z"
   },
   {
    "duration": 15,
    "start_time": "2022-08-27T23:24:52.049Z"
   },
   {
    "duration": 15,
    "start_time": "2022-08-27T23:24:52.066Z"
   },
   {
    "duration": 40,
    "start_time": "2022-08-27T23:24:52.082Z"
   },
   {
    "duration": 6,
    "start_time": "2022-08-27T23:24:52.123Z"
   },
   {
    "duration": 906,
    "start_time": "2022-08-27T23:24:52.131Z"
   },
   {
    "duration": 32,
    "start_time": "2022-08-27T23:24:53.039Z"
   },
   {
    "duration": 12,
    "start_time": "2022-08-27T23:24:53.073Z"
   },
   {
    "duration": 40,
    "start_time": "2022-08-27T23:24:53.087Z"
   },
   {
    "duration": 18,
    "start_time": "2022-08-27T23:24:53.129Z"
   },
   {
    "duration": 674,
    "start_time": "2022-08-27T23:25:05.136Z"
   },
   {
    "duration": 726,
    "start_time": "2022-08-27T23:27:48.242Z"
   },
   {
    "duration": 785,
    "start_time": "2022-08-27T23:28:19.833Z"
   },
   {
    "duration": 1080,
    "start_time": "2022-08-27T23:28:37.011Z"
   },
   {
    "duration": 710,
    "start_time": "2022-08-27T23:28:49.608Z"
   },
   {
    "duration": 810,
    "start_time": "2022-08-27T23:29:01.105Z"
   },
   {
    "duration": 834,
    "start_time": "2022-08-28T15:11:21.894Z"
   },
   {
    "duration": 239,
    "start_time": "2022-08-28T15:11:22.730Z"
   },
   {
    "duration": 22,
    "start_time": "2022-08-28T15:11:22.970Z"
   },
   {
    "duration": 27,
    "start_time": "2022-08-28T15:11:22.994Z"
   },
   {
    "duration": 12,
    "start_time": "2022-08-28T15:11:23.025Z"
   },
   {
    "duration": 39,
    "start_time": "2022-08-28T15:11:23.038Z"
   },
   {
    "duration": 4,
    "start_time": "2022-08-28T15:11:23.078Z"
   },
   {
    "duration": 56,
    "start_time": "2022-08-28T15:11:23.083Z"
   },
   {
    "duration": 191,
    "start_time": "2022-08-28T15:11:23.140Z"
   },
   {
    "duration": 37,
    "start_time": "2022-08-28T15:11:23.334Z"
   },
   {
    "duration": 20,
    "start_time": "2022-08-28T15:11:23.373Z"
   },
   {
    "duration": 20,
    "start_time": "2022-08-28T15:11:23.413Z"
   },
   {
    "duration": 1191,
    "start_time": "2022-08-28T15:11:23.434Z"
   },
   {
    "duration": 3,
    "start_time": "2022-08-28T15:11:24.627Z"
   },
   {
    "duration": 39,
    "start_time": "2022-08-28T15:11:24.632Z"
   },
   {
    "duration": 17,
    "start_time": "2022-08-28T15:11:24.673Z"
   },
   {
    "duration": 17,
    "start_time": "2022-08-28T15:11:24.714Z"
   },
   {
    "duration": 1209,
    "start_time": "2022-08-28T15:11:24.733Z"
   },
   {
    "duration": 11,
    "start_time": "2022-08-28T15:11:25.943Z"
   },
   {
    "duration": 15,
    "start_time": "2022-08-28T15:11:25.955Z"
   },
   {
    "duration": 5,
    "start_time": "2022-08-28T15:11:25.972Z"
   },
   {
    "duration": 55,
    "start_time": "2022-08-28T15:11:25.978Z"
   },
   {
    "duration": 13,
    "start_time": "2022-08-28T15:11:26.034Z"
   },
   {
    "duration": 2889,
    "start_time": "2022-08-28T15:11:26.049Z"
   },
   {
    "duration": 5,
    "start_time": "2022-08-28T15:11:28.940Z"
   },
   {
    "duration": 7,
    "start_time": "2022-08-28T15:11:28.946Z"
   },
   {
    "duration": 21,
    "start_time": "2022-08-28T15:11:28.955Z"
   },
   {
    "duration": 18,
    "start_time": "2022-08-28T15:11:28.979Z"
   },
   {
    "duration": 45,
    "start_time": "2022-08-28T15:11:29.011Z"
   },
   {
    "duration": 17,
    "start_time": "2022-08-28T15:11:29.058Z"
   },
   {
    "duration": 28,
    "start_time": "2022-08-28T15:11:29.077Z"
   },
   {
    "duration": 17,
    "start_time": "2022-08-28T15:11:29.106Z"
   },
   {
    "duration": 22,
    "start_time": "2022-08-28T15:11:29.124Z"
   },
   {
    "duration": 15,
    "start_time": "2022-08-28T15:11:29.147Z"
   },
   {
    "duration": 13,
    "start_time": "2022-08-28T15:11:29.163Z"
   },
   {
    "duration": 6,
    "start_time": "2022-08-28T15:11:29.177Z"
   },
   {
    "duration": 904,
    "start_time": "2022-08-28T15:11:29.184Z"
   },
   {
    "duration": 49,
    "start_time": "2022-08-28T15:11:30.090Z"
   },
   {
    "duration": 13,
    "start_time": "2022-08-28T15:11:30.140Z"
   },
   {
    "duration": 28,
    "start_time": "2022-08-28T15:11:30.155Z"
   },
   {
    "duration": 39,
    "start_time": "2022-08-28T15:11:30.185Z"
   },
   {
    "duration": 3305,
    "start_time": "2022-08-28T15:20:38.543Z"
   },
   {
    "duration": 3286,
    "start_time": "2022-08-28T15:21:43.392Z"
   },
   {
    "duration": 611,
    "start_time": "2022-08-28T15:21:49.625Z"
   },
   {
    "duration": 1195,
    "start_time": "2022-08-28T15:22:03.005Z"
   },
   {
    "duration": 41,
    "start_time": "2022-08-28T15:54:21.458Z"
   },
   {
    "duration": 203,
    "start_time": "2022-08-28T15:55:30.062Z"
   },
   {
    "duration": 236,
    "start_time": "2022-08-28T15:55:49.322Z"
   },
   {
    "duration": 225,
    "start_time": "2022-08-28T15:56:15.512Z"
   },
   {
    "duration": 933,
    "start_time": "2022-08-28T15:58:16.687Z"
   },
   {
    "duration": 44,
    "start_time": "2022-08-28T17:15:24.099Z"
   },
   {
    "duration": 5,
    "start_time": "2022-08-28T17:17:04.405Z"
   },
   {
    "duration": 6,
    "start_time": "2022-08-28T17:17:28.312Z"
   },
   {
    "duration": 75,
    "start_time": "2022-08-28T17:20:29.783Z"
   },
   {
    "duration": 10,
    "start_time": "2022-08-28T17:21:39.073Z"
   },
   {
    "duration": 11,
    "start_time": "2022-08-28T17:22:34.638Z"
   },
   {
    "duration": 10,
    "start_time": "2022-08-28T17:23:50.874Z"
   },
   {
    "duration": 13,
    "start_time": "2022-08-28T17:24:38.753Z"
   },
   {
    "duration": 11,
    "start_time": "2022-08-28T17:27:26.683Z"
   },
   {
    "duration": 11,
    "start_time": "2022-08-28T17:41:13.968Z"
   },
   {
    "duration": 10,
    "start_time": "2022-08-28T17:42:24.137Z"
   },
   {
    "duration": 14,
    "start_time": "2022-08-28T17:42:45.424Z"
   },
   {
    "duration": 11,
    "start_time": "2022-08-28T17:44:45.706Z"
   },
   {
    "duration": 7,
    "start_time": "2022-08-28T17:54:51.190Z"
   },
   {
    "duration": 12,
    "start_time": "2022-08-28T17:54:54.207Z"
   },
   {
    "duration": 10,
    "start_time": "2022-08-28T17:54:55.069Z"
   },
   {
    "duration": 11,
    "start_time": "2022-08-28T17:54:56.164Z"
   },
   {
    "duration": 3,
    "start_time": "2022-08-28T17:54:56.749Z"
   },
   {
    "duration": 2,
    "start_time": "2022-08-28T18:15:39.673Z"
   },
   {
    "duration": 145,
    "start_time": "2022-08-28T18:15:39.678Z"
   },
   {
    "duration": 22,
    "start_time": "2022-08-28T18:15:39.825Z"
   },
   {
    "duration": 19,
    "start_time": "2022-08-28T18:15:39.848Z"
   },
   {
    "duration": 5,
    "start_time": "2022-08-28T18:15:39.869Z"
   },
   {
    "duration": 62,
    "start_time": "2022-08-28T18:15:39.875Z"
   },
   {
    "duration": 3,
    "start_time": "2022-08-28T18:15:39.939Z"
   },
   {
    "duration": 45,
    "start_time": "2022-08-28T18:15:39.944Z"
   },
   {
    "duration": 193,
    "start_time": "2022-08-28T18:15:39.990Z"
   },
   {
    "duration": 50,
    "start_time": "2022-08-28T18:15:40.184Z"
   },
   {
    "duration": 21,
    "start_time": "2022-08-28T18:15:40.236Z"
   },
   {
    "duration": 13,
    "start_time": "2022-08-28T18:15:40.258Z"
   },
   {
    "duration": 1202,
    "start_time": "2022-08-28T18:15:40.272Z"
   },
   {
    "duration": 4,
    "start_time": "2022-08-28T18:15:41.475Z"
   },
   {
    "duration": 63,
    "start_time": "2022-08-28T18:15:41.480Z"
   },
   {
    "duration": 17,
    "start_time": "2022-08-28T18:15:41.544Z"
   },
   {
    "duration": 12,
    "start_time": "2022-08-28T18:15:41.562Z"
   },
   {
    "duration": 1216,
    "start_time": "2022-08-28T18:15:41.576Z"
   },
   {
    "duration": 22,
    "start_time": "2022-08-28T18:15:42.795Z"
   },
   {
    "duration": 22,
    "start_time": "2022-08-28T18:15:42.822Z"
   },
   {
    "duration": 15,
    "start_time": "2022-08-28T18:15:42.846Z"
   },
   {
    "duration": 35,
    "start_time": "2022-08-28T18:15:42.863Z"
   },
   {
    "duration": 27,
    "start_time": "2022-08-28T18:15:42.900Z"
   },
   {
    "duration": 2795,
    "start_time": "2022-08-28T18:15:42.928Z"
   },
   {
    "duration": 6,
    "start_time": "2022-08-28T18:15:45.725Z"
   },
   {
    "duration": 3,
    "start_time": "2022-08-28T18:15:45.733Z"
   },
   {
    "duration": 14,
    "start_time": "2022-08-28T18:15:45.738Z"
   },
   {
    "duration": 13,
    "start_time": "2022-08-28T18:15:45.753Z"
   },
   {
    "duration": 59,
    "start_time": "2022-08-28T18:15:45.770Z"
   },
   {
    "duration": 19,
    "start_time": "2022-08-28T18:15:45.831Z"
   },
   {
    "duration": 30,
    "start_time": "2022-08-28T18:15:45.852Z"
   },
   {
    "duration": 40,
    "start_time": "2022-08-28T18:15:45.884Z"
   },
   {
    "duration": 21,
    "start_time": "2022-08-28T18:15:45.926Z"
   },
   {
    "duration": 15,
    "start_time": "2022-08-28T18:15:45.948Z"
   },
   {
    "duration": 13,
    "start_time": "2022-08-28T18:15:45.965Z"
   },
   {
    "duration": 5,
    "start_time": "2022-08-28T18:15:45.980Z"
   },
   {
    "duration": 820,
    "start_time": "2022-08-28T18:15:45.987Z"
   },
   {
    "duration": 38,
    "start_time": "2022-08-28T18:15:46.808Z"
   },
   {
    "duration": 13,
    "start_time": "2022-08-28T18:15:46.847Z"
   },
   {
    "duration": 19,
    "start_time": "2022-08-28T18:15:46.862Z"
   },
   {
    "duration": 41,
    "start_time": "2022-08-28T18:15:46.883Z"
   },
   {
    "duration": 855,
    "start_time": "2022-08-28T18:15:46.926Z"
   },
   {
    "duration": 242,
    "start_time": "2022-08-28T18:15:47.783Z"
   },
   {
    "duration": 10,
    "start_time": "2022-08-28T18:15:48.027Z"
   },
   {
    "duration": 9,
    "start_time": "2022-08-28T18:15:48.039Z"
   },
   {
    "duration": 10,
    "start_time": "2022-08-28T18:15:48.049Z"
   },
   {
    "duration": 16,
    "start_time": "2022-08-28T18:15:48.060Z"
   },
   {
    "duration": 185,
    "start_time": "2022-08-28T18:15:55.164Z"
   },
   {
    "duration": 192,
    "start_time": "2022-08-28T18:16:17.973Z"
   },
   {
    "duration": 240,
    "start_time": "2022-08-28T18:17:10.458Z"
   },
   {
    "duration": 742,
    "start_time": "2022-08-28T18:18:08.744Z"
   },
   {
    "duration": 703,
    "start_time": "2022-08-28T18:18:29.351Z"
   },
   {
    "duration": 9,
    "start_time": "2022-08-28T18:25:10.939Z"
   },
   {
    "duration": 787,
    "start_time": "2022-08-28T18:25:43.398Z"
   },
   {
    "duration": 704,
    "start_time": "2022-08-28T18:25:59.826Z"
   },
   {
    "duration": 737,
    "start_time": "2022-08-28T18:31:04.311Z"
   },
   {
    "duration": 757,
    "start_time": "2022-08-28T18:31:34.567Z"
   },
   {
    "duration": 711,
    "start_time": "2022-08-28T18:31:57.533Z"
   },
   {
    "duration": 872,
    "start_time": "2022-08-28T18:32:31.378Z"
   },
   {
    "duration": 1018,
    "start_time": "2022-08-28T18:33:12.273Z"
   },
   {
    "duration": 846,
    "start_time": "2022-08-28T18:33:44.295Z"
   },
   {
    "duration": 957,
    "start_time": "2022-08-28T18:33:56.168Z"
   },
   {
    "duration": 973,
    "start_time": "2022-08-28T18:34:07.066Z"
   },
   {
    "duration": 876,
    "start_time": "2022-08-28T18:34:25.649Z"
   },
   {
    "duration": 20,
    "start_time": "2022-08-28T19:07:39.495Z"
   },
   {
    "duration": 632,
    "start_time": "2022-08-28T19:09:48.528Z"
   },
   {
    "duration": 1215,
    "start_time": "2022-08-28T19:10:26.873Z"
   },
   {
    "duration": 988,
    "start_time": "2022-08-28T19:11:20.368Z"
   },
   {
    "duration": 8,
    "start_time": "2022-08-28T19:22:15.539Z"
   },
   {
    "duration": 131,
    "start_time": "2022-08-28T19:24:41.933Z"
   },
   {
    "duration": 132,
    "start_time": "2022-08-28T19:30:15.931Z"
   },
   {
    "duration": 159,
    "start_time": "2022-08-28T19:30:24.606Z"
   },
   {
    "duration": 234,
    "start_time": "2022-08-28T19:30:32.744Z"
   },
   {
    "duration": 223,
    "start_time": "2022-08-28T19:30:47.070Z"
   },
   {
    "duration": 286,
    "start_time": "2022-08-28T19:32:25.967Z"
   },
   {
    "duration": 723,
    "start_time": "2022-08-28T19:32:34.273Z"
   },
   {
    "duration": 8,
    "start_time": "2022-08-28T19:42:59.542Z"
   },
   {
    "duration": 18,
    "start_time": "2022-08-28T19:52:44.985Z"
   },
   {
    "duration": 17,
    "start_time": "2022-08-28T19:54:33.234Z"
   },
   {
    "duration": 23,
    "start_time": "2022-08-28T20:01:52.737Z"
   },
   {
    "duration": 21,
    "start_time": "2022-08-28T20:02:05.137Z"
   },
   {
    "duration": 15,
    "start_time": "2022-08-28T20:02:05.343Z"
   },
   {
    "duration": 10,
    "start_time": "2022-08-28T20:03:36.694Z"
   },
   {
    "duration": 22,
    "start_time": "2022-08-28T20:03:46.287Z"
   },
   {
    "duration": 23,
    "start_time": "2022-08-28T20:03:46.877Z"
   },
   {
    "duration": 19,
    "start_time": "2022-08-28T20:04:42.736Z"
   },
   {
    "duration": 17,
    "start_time": "2022-08-28T20:16:40.009Z"
   },
   {
    "duration": 13,
    "start_time": "2022-08-28T20:20:07.244Z"
   },
   {
    "duration": 14,
    "start_time": "2022-08-28T20:21:46.462Z"
   },
   {
    "duration": 15,
    "start_time": "2022-08-28T20:22:58.855Z"
   },
   {
    "duration": 1063,
    "start_time": "2022-08-28T20:40:37.367Z"
   },
   {
    "duration": 15,
    "start_time": "2022-08-28T20:41:02.143Z"
   },
   {
    "duration": 111,
    "start_time": "2022-08-28T20:41:23.974Z"
   },
   {
    "duration": 14,
    "start_time": "2022-08-28T20:43:06.462Z"
   },
   {
    "duration": 115,
    "start_time": "2022-08-28T20:43:17.664Z"
   },
   {
    "duration": 14,
    "start_time": "2022-08-28T20:43:43.295Z"
   },
   {
    "duration": 17,
    "start_time": "2022-08-28T20:44:05.870Z"
   },
   {
    "duration": 12,
    "start_time": "2022-08-28T20:51:09.770Z"
   },
   {
    "duration": 10,
    "start_time": "2022-08-28T20:52:02.376Z"
   },
   {
    "duration": 822,
    "start_time": "2022-08-29T19:19:24.961Z"
   },
   {
    "duration": 196,
    "start_time": "2022-08-29T19:19:25.785Z"
   },
   {
    "duration": 27,
    "start_time": "2022-08-29T19:19:25.982Z"
   },
   {
    "duration": 24,
    "start_time": "2022-08-29T19:19:26.011Z"
   },
   {
    "duration": 7,
    "start_time": "2022-08-29T19:19:26.037Z"
   },
   {
    "duration": 39,
    "start_time": "2022-08-29T19:19:26.046Z"
   },
   {
    "duration": 4,
    "start_time": "2022-08-29T19:19:26.102Z"
   },
   {
    "duration": 51,
    "start_time": "2022-08-29T19:19:26.108Z"
   },
   {
    "duration": 209,
    "start_time": "2022-08-29T19:19:26.161Z"
   },
   {
    "duration": 52,
    "start_time": "2022-08-29T19:19:26.373Z"
   },
   {
    "duration": 25,
    "start_time": "2022-08-29T19:19:26.427Z"
   },
   {
    "duration": 15,
    "start_time": "2022-08-29T19:19:26.455Z"
   },
   {
    "duration": 1259,
    "start_time": "2022-08-29T19:19:26.472Z"
   },
   {
    "duration": 5,
    "start_time": "2022-08-29T19:19:27.734Z"
   },
   {
    "duration": 70,
    "start_time": "2022-08-29T19:19:27.740Z"
   },
   {
    "duration": 23,
    "start_time": "2022-08-29T19:19:27.811Z"
   },
   {
    "duration": 15,
    "start_time": "2022-08-29T19:19:27.836Z"
   },
   {
    "duration": 1366,
    "start_time": "2022-08-29T19:19:27.853Z"
   },
   {
    "duration": 17,
    "start_time": "2022-08-29T19:19:29.221Z"
   },
   {
    "duration": 17,
    "start_time": "2022-08-29T19:19:29.241Z"
   },
   {
    "duration": 7,
    "start_time": "2022-08-29T19:19:29.260Z"
   },
   {
    "duration": 66,
    "start_time": "2022-08-29T19:19:29.269Z"
   },
   {
    "duration": 17,
    "start_time": "2022-08-29T19:19:29.338Z"
   },
   {
    "duration": 3686,
    "start_time": "2022-08-29T19:19:29.356Z"
   },
   {
    "duration": 6,
    "start_time": "2022-08-29T19:19:33.044Z"
   },
   {
    "duration": 14,
    "start_time": "2022-08-29T19:19:33.052Z"
   },
   {
    "duration": 15,
    "start_time": "2022-08-29T19:19:33.068Z"
   },
   {
    "duration": 19,
    "start_time": "2022-08-29T19:19:33.106Z"
   },
   {
    "duration": 37,
    "start_time": "2022-08-29T19:19:33.127Z"
   },
   {
    "duration": 40,
    "start_time": "2022-08-29T19:19:33.166Z"
   },
   {
    "duration": 35,
    "start_time": "2022-08-29T19:19:33.208Z"
   },
   {
    "duration": 12,
    "start_time": "2022-08-29T19:19:33.245Z"
   },
   {
    "duration": 44,
    "start_time": "2022-08-29T19:19:33.259Z"
   },
   {
    "duration": 20,
    "start_time": "2022-08-29T19:19:33.305Z"
   },
   {
    "duration": 19,
    "start_time": "2022-08-29T19:19:33.327Z"
   },
   {
    "duration": 8,
    "start_time": "2022-08-29T19:19:33.348Z"
   },
   {
    "duration": 906,
    "start_time": "2022-08-29T19:19:33.357Z"
   },
   {
    "duration": 49,
    "start_time": "2022-08-29T19:19:34.265Z"
   },
   {
    "duration": 17,
    "start_time": "2022-08-29T19:19:34.316Z"
   },
   {
    "duration": 47,
    "start_time": "2022-08-29T19:19:34.335Z"
   },
   {
    "duration": 26,
    "start_time": "2022-08-29T19:19:34.384Z"
   },
   {
    "duration": 1080,
    "start_time": "2022-08-29T19:19:42.808Z"
   },
   {
    "duration": 1405,
    "start_time": "2022-08-29T19:52:53.459Z"
   },
   {
    "duration": 8,
    "start_time": "2022-08-29T21:22:37.622Z"
   },
   {
    "duration": 8,
    "start_time": "2022-08-29T21:23:21.536Z"
   },
   {
    "duration": 8,
    "start_time": "2022-08-29T21:23:34.324Z"
   },
   {
    "duration": 8,
    "start_time": "2022-08-29T21:23:43.485Z"
   },
   {
    "duration": 7,
    "start_time": "2022-08-29T21:23:52.869Z"
   },
   {
    "duration": 8,
    "start_time": "2022-08-29T21:24:05.725Z"
   },
   {
    "duration": 7,
    "start_time": "2022-08-29T21:26:02.188Z"
   },
   {
    "duration": 8,
    "start_time": "2022-08-29T21:27:19.379Z"
   },
   {
    "duration": 24,
    "start_time": "2022-08-29T21:27:53.953Z"
   },
   {
    "duration": 85,
    "start_time": "2022-08-29T21:34:12.812Z"
   },
   {
    "duration": 452,
    "start_time": "2022-08-29T21:38:15.294Z"
   },
   {
    "duration": 1217,
    "start_time": "2022-08-29T21:38:42.143Z"
   },
   {
    "duration": 1197,
    "start_time": "2022-08-29T21:53:21.332Z"
   },
   {
    "duration": 8,
    "start_time": "2022-08-29T21:57:10.144Z"
   },
   {
    "duration": 7,
    "start_time": "2022-08-29T21:57:16.654Z"
   },
   {
    "duration": 8,
    "start_time": "2022-08-29T21:57:22.741Z"
   },
   {
    "duration": 25,
    "start_time": "2022-08-29T21:57:31.646Z"
   },
   {
    "duration": 1196,
    "start_time": "2022-08-29T21:58:03.727Z"
   },
   {
    "duration": 8350,
    "start_time": "2022-08-29T21:59:14.305Z"
   },
   {
    "duration": 1236,
    "start_time": "2022-08-29T22:00:16.410Z"
   },
   {
    "duration": 796,
    "start_time": "2022-08-29T22:00:47.270Z"
   },
   {
    "duration": 851,
    "start_time": "2022-08-29T22:01:37.712Z"
   },
   {
    "duration": 877,
    "start_time": "2022-08-29T22:14:22.476Z"
   },
   {
    "duration": 1191,
    "start_time": "2022-08-29T22:14:38.740Z"
   },
   {
    "duration": 7,
    "start_time": "2022-08-29T22:15:52.792Z"
   },
   {
    "duration": 7,
    "start_time": "2022-08-29T22:15:57.157Z"
   },
   {
    "duration": 24,
    "start_time": "2022-08-29T22:16:00.597Z"
   },
   {
    "duration": 1507,
    "start_time": "2022-08-29T22:17:10.769Z"
   },
   {
    "duration": 1684,
    "start_time": "2022-08-29T22:17:33.208Z"
   },
   {
    "duration": 1631,
    "start_time": "2022-08-29T22:18:52.185Z"
   },
   {
    "duration": 1765,
    "start_time": "2022-08-29T22:23:04.555Z"
   },
   {
    "duration": 8,
    "start_time": "2022-08-29T22:23:39.410Z"
   },
   {
    "duration": 1668,
    "start_time": "2022-08-29T22:24:44.476Z"
   },
   {
    "duration": 204,
    "start_time": "2022-08-29T22:25:27.682Z"
   },
   {
    "duration": 1638,
    "start_time": "2022-08-29T22:25:35.555Z"
   },
   {
    "duration": 1714,
    "start_time": "2022-08-29T22:25:51.785Z"
   },
   {
    "duration": 1769,
    "start_time": "2022-08-29T22:26:08.531Z"
   },
   {
    "duration": 1698,
    "start_time": "2022-08-29T22:26:44.940Z"
   },
   {
    "duration": 9427,
    "start_time": "2022-08-29T22:27:51.275Z"
   },
   {
    "duration": 63,
    "start_time": "2022-08-29T22:29:32.497Z"
   },
   {
    "duration": 144,
    "start_time": "2022-08-29T22:29:42.827Z"
   },
   {
    "duration": 2961,
    "start_time": "2022-08-29T22:29:59.684Z"
   },
   {
    "duration": 3139,
    "start_time": "2022-08-29T22:30:45.004Z"
   },
   {
    "duration": 10593,
    "start_time": "2022-08-29T22:30:59.676Z"
   },
   {
    "duration": 2066,
    "start_time": "2022-08-29T22:31:47.626Z"
   },
   {
    "duration": 1216,
    "start_time": "2022-08-29T22:31:58.923Z"
   },
   {
    "duration": 1407,
    "start_time": "2022-08-29T22:39:20.933Z"
   },
   {
    "duration": 1463,
    "start_time": "2022-08-29T22:41:38.399Z"
   },
   {
    "duration": 1278,
    "start_time": "2022-08-29T22:42:02.246Z"
   },
   {
    "duration": 1102,
    "start_time": "2022-08-29T22:42:25.182Z"
   },
   {
    "duration": 8,
    "start_time": "2022-08-29T22:43:21.839Z"
   },
   {
    "duration": 7,
    "start_time": "2022-08-29T22:43:23.022Z"
   },
   {
    "duration": 8,
    "start_time": "2022-08-29T22:43:23.493Z"
   },
   {
    "duration": 18,
    "start_time": "2022-08-29T22:43:24.382Z"
   },
   {
    "duration": 1333,
    "start_time": "2022-08-29T22:43:29.038Z"
   },
   {
    "duration": 7,
    "start_time": "2022-08-29T22:44:49.191Z"
   },
   {
    "duration": 8,
    "start_time": "2022-08-29T22:44:51.334Z"
   },
   {
    "duration": 8,
    "start_time": "2022-08-29T22:44:52.071Z"
   },
   {
    "duration": 24,
    "start_time": "2022-08-29T22:44:53.145Z"
   },
   {
    "duration": 1128,
    "start_time": "2022-08-29T22:44:56.523Z"
   },
   {
    "duration": 1266,
    "start_time": "2022-08-29T22:46:46.008Z"
   },
   {
    "duration": 7,
    "start_time": "2022-08-29T22:48:08.600Z"
   },
   {
    "duration": 8,
    "start_time": "2022-08-29T22:48:10.489Z"
   },
   {
    "duration": 17,
    "start_time": "2022-08-29T22:48:14.339Z"
   },
   {
    "duration": 1090,
    "start_time": "2022-08-29T22:48:17.432Z"
   },
   {
    "duration": 10,
    "start_time": "2022-08-29T22:49:39.288Z"
   },
   {
    "duration": 146,
    "start_time": "2022-08-29T22:49:40.491Z"
   },
   {
    "duration": 881,
    "start_time": "2022-08-29T22:49:43.048Z"
   },
   {
    "duration": 7,
    "start_time": "2022-08-29T22:50:23.578Z"
   },
   {
    "duration": 3,
    "start_time": "2022-08-29T22:50:35.135Z"
   },
   {
    "duration": 130,
    "start_time": "2022-08-29T22:50:35.140Z"
   },
   {
    "duration": 37,
    "start_time": "2022-08-29T22:50:35.272Z"
   },
   {
    "duration": 22,
    "start_time": "2022-08-29T22:50:35.311Z"
   },
   {
    "duration": 10,
    "start_time": "2022-08-29T22:50:35.335Z"
   },
   {
    "duration": 57,
    "start_time": "2022-08-29T22:50:35.348Z"
   },
   {
    "duration": 5,
    "start_time": "2022-08-29T22:50:35.407Z"
   },
   {
    "duration": 46,
    "start_time": "2022-08-29T22:50:35.413Z"
   },
   {
    "duration": 195,
    "start_time": "2022-08-29T22:50:35.460Z"
   },
   {
    "duration": 47,
    "start_time": "2022-08-29T22:50:35.657Z"
   },
   {
    "duration": 22,
    "start_time": "2022-08-29T22:50:35.706Z"
   },
   {
    "duration": 14,
    "start_time": "2022-08-29T22:50:35.730Z"
   },
   {
    "duration": 1184,
    "start_time": "2022-08-29T22:50:35.746Z"
   },
   {
    "duration": 4,
    "start_time": "2022-08-29T22:50:36.932Z"
   },
   {
    "duration": 46,
    "start_time": "2022-08-29T22:50:36.938Z"
   },
   {
    "duration": 20,
    "start_time": "2022-08-29T22:50:37.003Z"
   },
   {
    "duration": 14,
    "start_time": "2022-08-29T22:50:37.025Z"
   },
   {
    "duration": 1220,
    "start_time": "2022-08-29T22:50:37.041Z"
   },
   {
    "duration": 15,
    "start_time": "2022-08-29T22:50:38.263Z"
   },
   {
    "duration": 31,
    "start_time": "2022-08-29T22:50:38.280Z"
   },
   {
    "duration": 7,
    "start_time": "2022-08-29T22:50:38.312Z"
   },
   {
    "duration": 36,
    "start_time": "2022-08-29T22:50:38.320Z"
   },
   {
    "duration": 15,
    "start_time": "2022-08-29T22:50:38.358Z"
   },
   {
    "duration": 3487,
    "start_time": "2022-08-29T22:50:38.403Z"
   },
   {
    "duration": 13,
    "start_time": "2022-08-29T22:50:41.892Z"
   },
   {
    "duration": 4,
    "start_time": "2022-08-29T22:50:41.907Z"
   },
   {
    "duration": 21,
    "start_time": "2022-08-29T22:50:41.912Z"
   },
   {
    "duration": 16,
    "start_time": "2022-08-29T22:50:41.934Z"
   },
   {
    "duration": 57,
    "start_time": "2022-08-29T22:50:41.954Z"
   },
   {
    "duration": 20,
    "start_time": "2022-08-29T22:50:42.013Z"
   },
   {
    "duration": 32,
    "start_time": "2022-08-29T22:50:42.035Z"
   },
   {
    "duration": 12,
    "start_time": "2022-08-29T22:50:42.068Z"
   },
   {
    "duration": 19,
    "start_time": "2022-08-29T22:50:42.102Z"
   },
   {
    "duration": 19,
    "start_time": "2022-08-29T22:50:42.123Z"
   },
   {
    "duration": 15,
    "start_time": "2022-08-29T22:50:42.143Z"
   },
   {
    "duration": 7,
    "start_time": "2022-08-29T22:50:42.159Z"
   },
   {
    "duration": 846,
    "start_time": "2022-08-29T22:50:42.167Z"
   },
   {
    "duration": 41,
    "start_time": "2022-08-29T22:50:43.015Z"
   },
   {
    "duration": 13,
    "start_time": "2022-08-29T22:50:43.057Z"
   },
   {
    "duration": 38,
    "start_time": "2022-08-29T22:50:43.072Z"
   },
   {
    "duration": 19,
    "start_time": "2022-08-29T22:50:43.111Z"
   },
   {
    "duration": 1473,
    "start_time": "2022-08-29T22:50:43.131Z"
   },
   {
    "duration": 376,
    "start_time": "2022-08-29T22:50:44.606Z"
   },
   {
    "duration": 7,
    "start_time": "2022-08-29T22:50:44.984Z"
   },
   {
    "duration": 8,
    "start_time": "2022-08-29T22:50:45.004Z"
   },
   {
    "duration": 23,
    "start_time": "2022-08-29T22:50:45.014Z"
   },
   {
    "duration": 18,
    "start_time": "2022-08-29T22:50:45.039Z"
   },
   {
    "duration": 1072,
    "start_time": "2022-08-29T22:50:45.058Z"
   },
   {
    "duration": 10,
    "start_time": "2022-08-29T22:50:46.133Z"
   },
   {
    "duration": 163,
    "start_time": "2022-08-29T22:50:46.144Z"
   },
   {
    "duration": 800,
    "start_time": "2022-08-29T22:50:46.309Z"
   },
   {
    "duration": 12,
    "start_time": "2022-08-29T22:50:47.111Z"
   },
   {
    "duration": 23,
    "start_time": "2022-08-29T22:50:47.125Z"
   },
   {
    "duration": 16,
    "start_time": "2022-08-29T22:50:47.150Z"
   },
   {
    "duration": 17,
    "start_time": "2022-08-29T22:50:50.522Z"
   },
   {
    "duration": 18,
    "start_time": "2022-08-29T22:50:50.993Z"
   },
   {
    "duration": 10,
    "start_time": "2022-08-29T22:51:00.258Z"
   },
   {
    "duration": 789,
    "start_time": "2022-08-30T19:33:30.805Z"
   },
   {
    "duration": 170,
    "start_time": "2022-08-30T19:33:31.595Z"
   },
   {
    "duration": 22,
    "start_time": "2022-08-30T19:33:31.766Z"
   },
   {
    "duration": 34,
    "start_time": "2022-08-30T19:33:31.790Z"
   },
   {
    "duration": 3,
    "start_time": "2022-08-30T19:33:31.826Z"
   },
   {
    "duration": 36,
    "start_time": "2022-08-30T19:33:31.830Z"
   },
   {
    "duration": 3,
    "start_time": "2022-08-30T19:33:31.868Z"
   },
   {
    "duration": 59,
    "start_time": "2022-08-30T19:33:31.872Z"
   },
   {
    "duration": 173,
    "start_time": "2022-08-30T19:33:31.932Z"
   },
   {
    "duration": 34,
    "start_time": "2022-08-30T19:33:32.108Z"
   },
   {
    "duration": 21,
    "start_time": "2022-08-30T19:33:32.143Z"
   },
   {
    "duration": 34,
    "start_time": "2022-08-30T19:33:32.165Z"
   },
   {
    "duration": 1115,
    "start_time": "2022-08-30T19:33:32.200Z"
   },
   {
    "duration": 3,
    "start_time": "2022-08-30T19:33:33.317Z"
   },
   {
    "duration": 38,
    "start_time": "2022-08-30T19:33:33.321Z"
   },
   {
    "duration": 17,
    "start_time": "2022-08-30T19:33:33.361Z"
   },
   {
    "duration": 30,
    "start_time": "2022-08-30T19:33:33.379Z"
   },
   {
    "duration": 1192,
    "start_time": "2022-08-30T19:33:33.410Z"
   },
   {
    "duration": 11,
    "start_time": "2022-08-30T19:33:34.603Z"
   },
   {
    "duration": 14,
    "start_time": "2022-08-30T19:33:34.616Z"
   },
   {
    "duration": 5,
    "start_time": "2022-08-30T19:33:34.631Z"
   },
   {
    "duration": 29,
    "start_time": "2022-08-30T19:33:34.638Z"
   },
   {
    "duration": 13,
    "start_time": "2022-08-30T19:33:34.698Z"
   },
   {
    "duration": 2768,
    "start_time": "2022-08-30T19:33:34.713Z"
   },
   {
    "duration": 6,
    "start_time": "2022-08-30T19:33:37.482Z"
   },
   {
    "duration": 4,
    "start_time": "2022-08-30T19:33:37.498Z"
   },
   {
    "duration": 14,
    "start_time": "2022-08-30T19:33:37.503Z"
   },
   {
    "duration": 24,
    "start_time": "2022-08-30T19:33:37.522Z"
   },
   {
    "duration": 81,
    "start_time": "2022-08-30T19:33:37.547Z"
   },
   {
    "duration": 25,
    "start_time": "2022-08-30T19:33:37.629Z"
   },
   {
    "duration": 46,
    "start_time": "2022-08-30T19:33:37.656Z"
   },
   {
    "duration": 11,
    "start_time": "2022-08-30T19:33:37.704Z"
   },
   {
    "duration": 21,
    "start_time": "2022-08-30T19:33:37.717Z"
   },
   {
    "duration": 20,
    "start_time": "2022-08-30T19:33:37.740Z"
   },
   {
    "duration": 39,
    "start_time": "2022-08-30T19:33:37.762Z"
   },
   {
    "duration": 6,
    "start_time": "2022-08-30T19:33:37.802Z"
   },
   {
    "duration": 817,
    "start_time": "2022-08-30T19:33:37.809Z"
   },
   {
    "duration": 34,
    "start_time": "2022-08-30T19:33:38.628Z"
   },
   {
    "duration": 13,
    "start_time": "2022-08-30T19:33:38.664Z"
   },
   {
    "duration": 32,
    "start_time": "2022-08-30T19:33:38.679Z"
   },
   {
    "duration": 17,
    "start_time": "2022-08-30T19:33:38.713Z"
   },
   {
    "duration": 1129,
    "start_time": "2022-08-30T19:33:38.732Z"
   },
   {
    "duration": 227,
    "start_time": "2022-08-30T19:33:39.863Z"
   },
   {
    "duration": 10,
    "start_time": "2022-08-30T19:33:40.092Z"
   },
   {
    "duration": 12,
    "start_time": "2022-08-30T19:33:40.103Z"
   },
   {
    "duration": 12,
    "start_time": "2022-08-30T19:33:40.116Z"
   },
   {
    "duration": 27,
    "start_time": "2022-08-30T19:33:40.130Z"
   },
   {
    "duration": 1006,
    "start_time": "2022-08-30T19:33:40.158Z"
   },
   {
    "duration": 8,
    "start_time": "2022-08-30T19:33:41.165Z"
   },
   {
    "duration": 140,
    "start_time": "2022-08-30T19:33:41.174Z"
   },
   {
    "duration": 629,
    "start_time": "2022-08-30T19:33:41.315Z"
   },
   {
    "duration": 11,
    "start_time": "2022-08-30T19:33:41.946Z"
   },
   {
    "duration": 40,
    "start_time": "2022-08-30T19:33:41.959Z"
   },
   {
    "duration": 16,
    "start_time": "2022-08-30T19:33:42.001Z"
   },
   {
    "duration": 15,
    "start_time": "2022-08-30T19:33:42.018Z"
   },
   {
    "duration": 49,
    "start_time": "2022-08-30T20:19:42.357Z"
   },
   {
    "duration": 5,
    "start_time": "2022-08-30T20:29:56.979Z"
   },
   {
    "duration": 80,
    "start_time": "2022-08-30T20:30:26.011Z"
   },
   {
    "duration": 11,
    "start_time": "2022-08-30T20:35:30.045Z"
   },
   {
    "duration": 12,
    "start_time": "2022-08-30T20:38:38.047Z"
   },
   {
    "duration": 11,
    "start_time": "2022-08-30T20:55:41.380Z"
   },
   {
    "duration": 23,
    "start_time": "2022-08-30T20:56:54.696Z"
   },
   {
    "duration": 22,
    "start_time": "2022-08-30T20:57:50.127Z"
   },
   {
    "duration": 2,
    "start_time": "2022-08-30T20:59:04.972Z"
   },
   {
    "duration": 113,
    "start_time": "2022-08-30T20:59:04.976Z"
   },
   {
    "duration": 21,
    "start_time": "2022-08-30T20:59:05.099Z"
   },
   {
    "duration": 18,
    "start_time": "2022-08-30T20:59:05.122Z"
   },
   {
    "duration": 14,
    "start_time": "2022-08-30T20:59:05.142Z"
   },
   {
    "duration": 57,
    "start_time": "2022-08-30T20:59:05.158Z"
   },
   {
    "duration": 4,
    "start_time": "2022-08-30T20:59:05.217Z"
   },
   {
    "duration": 50,
    "start_time": "2022-08-30T20:59:05.222Z"
   },
   {
    "duration": 187,
    "start_time": "2022-08-30T20:59:05.273Z"
   },
   {
    "duration": 45,
    "start_time": "2022-08-30T20:59:05.461Z"
   },
   {
    "duration": 19,
    "start_time": "2022-08-30T20:59:05.509Z"
   },
   {
    "duration": 13,
    "start_time": "2022-08-30T20:59:05.529Z"
   },
   {
    "duration": 1116,
    "start_time": "2022-08-30T20:59:05.544Z"
   },
   {
    "duration": 4,
    "start_time": "2022-08-30T20:59:06.661Z"
   },
   {
    "duration": 43,
    "start_time": "2022-08-30T20:59:06.667Z"
   },
   {
    "duration": 18,
    "start_time": "2022-08-30T20:59:06.712Z"
   },
   {
    "duration": 11,
    "start_time": "2022-08-30T20:59:06.731Z"
   },
   {
    "duration": 1132,
    "start_time": "2022-08-30T20:59:06.744Z"
   },
   {
    "duration": 11,
    "start_time": "2022-08-30T20:59:07.877Z"
   },
   {
    "duration": 26,
    "start_time": "2022-08-30T20:59:07.897Z"
   },
   {
    "duration": 7,
    "start_time": "2022-08-30T20:59:07.925Z"
   },
   {
    "duration": 32,
    "start_time": "2022-08-30T20:59:07.933Z"
   },
   {
    "duration": 13,
    "start_time": "2022-08-30T20:59:07.967Z"
   },
   {
    "duration": 2726,
    "start_time": "2022-08-30T20:59:07.998Z"
   },
   {
    "duration": 5,
    "start_time": "2022-08-30T20:59:10.725Z"
   },
   {
    "duration": 5,
    "start_time": "2022-08-30T20:59:10.731Z"
   },
   {
    "duration": 12,
    "start_time": "2022-08-30T20:59:10.737Z"
   },
   {
    "duration": 18,
    "start_time": "2022-08-30T20:59:10.751Z"
   },
   {
    "duration": 50,
    "start_time": "2022-08-30T20:59:10.772Z"
   },
   {
    "duration": 19,
    "start_time": "2022-08-30T20:59:10.823Z"
   },
   {
    "duration": 29,
    "start_time": "2022-08-30T20:59:10.843Z"
   },
   {
    "duration": 25,
    "start_time": "2022-08-30T20:59:10.873Z"
   },
   {
    "duration": 13,
    "start_time": "2022-08-30T20:59:10.899Z"
   },
   {
    "duration": 14,
    "start_time": "2022-08-30T20:59:10.913Z"
   },
   {
    "duration": 13,
    "start_time": "2022-08-30T20:59:10.928Z"
   },
   {
    "duration": 5,
    "start_time": "2022-08-30T20:59:10.942Z"
   },
   {
    "duration": 833,
    "start_time": "2022-08-30T20:59:10.949Z"
   },
   {
    "duration": 35,
    "start_time": "2022-08-30T20:59:11.784Z"
   },
   {
    "duration": 13,
    "start_time": "2022-08-30T20:59:11.820Z"
   },
   {
    "duration": 19,
    "start_time": "2022-08-30T20:59:11.834Z"
   },
   {
    "duration": 18,
    "start_time": "2022-08-30T20:59:11.855Z"
   },
   {
    "duration": 1089,
    "start_time": "2022-08-30T20:59:11.874Z"
   },
   {
    "duration": 215,
    "start_time": "2022-08-30T20:59:12.965Z"
   },
   {
    "duration": 17,
    "start_time": "2022-08-30T20:59:13.181Z"
   },
   {
    "duration": 6,
    "start_time": "2022-08-30T20:59:13.199Z"
   },
   {
    "duration": 9,
    "start_time": "2022-08-30T20:59:13.206Z"
   },
   {
    "duration": 17,
    "start_time": "2022-08-30T20:59:13.216Z"
   },
   {
    "duration": 931,
    "start_time": "2022-08-30T20:59:13.234Z"
   },
   {
    "duration": 8,
    "start_time": "2022-08-30T20:59:14.166Z"
   },
   {
    "duration": 136,
    "start_time": "2022-08-30T20:59:14.176Z"
   },
   {
    "duration": 757,
    "start_time": "2022-08-30T20:59:14.314Z"
   },
   {
    "duration": 10,
    "start_time": "2022-08-30T20:59:15.072Z"
   },
   {
    "duration": 34,
    "start_time": "2022-08-30T20:59:15.083Z"
   },
   {
    "duration": 17,
    "start_time": "2022-08-30T20:59:15.119Z"
   },
   {
    "duration": 17,
    "start_time": "2022-08-30T20:59:15.137Z"
   },
   {
    "duration": 26,
    "start_time": "2022-08-30T20:59:24.387Z"
   },
   {
    "duration": 44,
    "start_time": "2022-08-30T21:17:18.862Z"
   },
   {
    "duration": 17,
    "start_time": "2022-08-30T21:18:30.329Z"
   },
   {
    "duration": 17,
    "start_time": "2022-08-30T21:19:01.167Z"
   },
   {
    "duration": 44,
    "start_time": "2022-08-30T21:27:19.034Z"
   },
   {
    "duration": 20,
    "start_time": "2022-08-30T21:28:45.362Z"
   },
   {
    "duration": 25,
    "start_time": "2022-08-30T21:29:15.945Z"
   },
   {
    "duration": 21,
    "start_time": "2022-08-30T21:30:12.694Z"
   },
   {
    "duration": 22,
    "start_time": "2022-08-30T21:30:57.811Z"
   },
   {
    "duration": 44,
    "start_time": "2022-08-30T21:31:21.668Z"
   },
   {
    "duration": 19,
    "start_time": "2022-08-30T21:31:54.501Z"
   },
   {
    "duration": 42,
    "start_time": "2022-08-30T21:32:13.660Z"
   },
   {
    "duration": 16,
    "start_time": "2022-08-30T21:33:09.510Z"
   },
   {
    "duration": 16,
    "start_time": "2022-08-30T21:34:19.022Z"
   },
   {
    "duration": 17,
    "start_time": "2022-08-30T21:34:39.045Z"
   },
   {
    "duration": 737,
    "start_time": "2022-08-30T21:38:31.127Z"
   },
   {
    "duration": 663,
    "start_time": "2022-08-30T21:39:19.735Z"
   },
   {
    "duration": 3,
    "start_time": "2022-08-30T21:39:40.091Z"
   },
   {
    "duration": 123,
    "start_time": "2022-08-30T21:39:40.097Z"
   },
   {
    "duration": 21,
    "start_time": "2022-08-30T21:39:40.222Z"
   },
   {
    "duration": 20,
    "start_time": "2022-08-30T21:39:40.245Z"
   },
   {
    "duration": 5,
    "start_time": "2022-08-30T21:39:40.267Z"
   },
   {
    "duration": 33,
    "start_time": "2022-08-30T21:39:40.298Z"
   },
   {
    "duration": 3,
    "start_time": "2022-08-30T21:39:40.333Z"
   },
   {
    "duration": 68,
    "start_time": "2022-08-30T21:39:40.338Z"
   },
   {
    "duration": 174,
    "start_time": "2022-08-30T21:39:40.407Z"
   },
   {
    "duration": 38,
    "start_time": "2022-08-30T21:39:40.582Z"
   },
   {
    "duration": 20,
    "start_time": "2022-08-30T21:39:40.622Z"
   },
   {
    "duration": 13,
    "start_time": "2022-08-30T21:39:40.643Z"
   },
   {
    "duration": 1155,
    "start_time": "2022-08-30T21:39:40.657Z"
   },
   {
    "duration": 4,
    "start_time": "2022-08-30T21:39:41.813Z"
   },
   {
    "duration": 42,
    "start_time": "2022-08-30T21:39:41.819Z"
   },
   {
    "duration": 37,
    "start_time": "2022-08-30T21:39:41.862Z"
   },
   {
    "duration": 13,
    "start_time": "2022-08-30T21:39:41.901Z"
   },
   {
    "duration": 1152,
    "start_time": "2022-08-30T21:39:41.916Z"
   },
   {
    "duration": 10,
    "start_time": "2022-08-30T21:39:43.070Z"
   },
   {
    "duration": 22,
    "start_time": "2022-08-30T21:39:43.081Z"
   },
   {
    "duration": 5,
    "start_time": "2022-08-30T21:39:43.104Z"
   },
   {
    "duration": 27,
    "start_time": "2022-08-30T21:39:43.111Z"
   },
   {
    "duration": 12,
    "start_time": "2022-08-30T21:39:43.140Z"
   },
   {
    "duration": 2805,
    "start_time": "2022-08-30T21:39:43.153Z"
   },
   {
    "duration": 6,
    "start_time": "2022-08-30T21:39:45.959Z"
   },
   {
    "duration": 15,
    "start_time": "2022-08-30T21:39:45.966Z"
   },
   {
    "duration": 24,
    "start_time": "2022-08-30T21:39:45.983Z"
   },
   {
    "duration": 14,
    "start_time": "2022-08-30T21:39:46.008Z"
   },
   {
    "duration": 40,
    "start_time": "2022-08-30T21:39:46.025Z"
   },
   {
    "duration": 19,
    "start_time": "2022-08-30T21:39:46.066Z"
   },
   {
    "duration": 38,
    "start_time": "2022-08-30T21:39:46.086Z"
   },
   {
    "duration": 11,
    "start_time": "2022-08-30T21:39:46.125Z"
   },
   {
    "duration": 15,
    "start_time": "2022-08-30T21:39:46.137Z"
   },
   {
    "duration": 14,
    "start_time": "2022-08-30T21:39:46.154Z"
   },
   {
    "duration": 38,
    "start_time": "2022-08-30T21:39:46.170Z"
   },
   {
    "duration": 6,
    "start_time": "2022-08-30T21:39:46.210Z"
   },
   {
    "duration": 841,
    "start_time": "2022-08-30T21:39:46.217Z"
   },
   {
    "duration": 31,
    "start_time": "2022-08-30T21:39:47.059Z"
   },
   {
    "duration": 12,
    "start_time": "2022-08-30T21:39:47.099Z"
   },
   {
    "duration": 22,
    "start_time": "2022-08-30T21:39:47.113Z"
   },
   {
    "duration": 17,
    "start_time": "2022-08-30T21:39:47.136Z"
   },
   {
    "duration": 1023,
    "start_time": "2022-08-30T21:39:47.155Z"
   },
   {
    "duration": 318,
    "start_time": "2022-08-30T21:39:48.180Z"
   },
   {
    "duration": 6,
    "start_time": "2022-08-30T21:39:48.500Z"
   },
   {
    "duration": 6,
    "start_time": "2022-08-30T21:39:48.508Z"
   },
   {
    "duration": 7,
    "start_time": "2022-08-30T21:39:48.516Z"
   },
   {
    "duration": 18,
    "start_time": "2022-08-30T21:39:48.524Z"
   },
   {
    "duration": 958,
    "start_time": "2022-08-30T21:39:48.543Z"
   },
   {
    "duration": 8,
    "start_time": "2022-08-30T21:39:49.503Z"
   },
   {
    "duration": 128,
    "start_time": "2022-08-30T21:39:49.512Z"
   },
   {
    "duration": 639,
    "start_time": "2022-08-30T21:39:49.642Z"
   },
   {
    "duration": 15,
    "start_time": "2022-08-30T21:39:50.283Z"
   },
   {
    "duration": 23,
    "start_time": "2022-08-30T21:39:50.300Z"
   },
   {
    "duration": 14,
    "start_time": "2022-08-30T21:39:50.325Z"
   },
   {
    "duration": 16,
    "start_time": "2022-08-30T21:39:50.341Z"
   },
   {
    "duration": 685,
    "start_time": "2022-08-30T21:40:52.478Z"
   },
   {
    "duration": 754,
    "start_time": "2022-08-30T21:41:24.178Z"
   },
   {
    "duration": 10,
    "start_time": "2022-08-30T21:41:49.280Z"
   },
   {
    "duration": 9,
    "start_time": "2022-08-30T21:42:40.863Z"
   },
   {
    "duration": 498,
    "start_time": "2022-08-30T21:45:21.609Z"
   },
   {
    "duration": 8,
    "start_time": "2022-08-30T21:46:18.217Z"
   },
   {
    "duration": 8,
    "start_time": "2022-08-30T21:49:25.475Z"
   },
   {
    "duration": 13,
    "start_time": "2022-08-30T21:51:20.485Z"
   },
   {
    "duration": 12,
    "start_time": "2022-08-30T21:51:58.551Z"
   },
   {
    "duration": 12,
    "start_time": "2022-08-30T21:52:16.512Z"
   },
   {
    "duration": 13,
    "start_time": "2022-08-30T21:52:37.628Z"
   },
   {
    "duration": 16,
    "start_time": "2022-08-30T21:53:12.468Z"
   },
   {
    "duration": 11,
    "start_time": "2022-08-30T21:55:33.316Z"
   },
   {
    "duration": 11,
    "start_time": "2022-08-30T21:56:51.649Z"
   },
   {
    "duration": 9,
    "start_time": "2022-08-30T21:57:35.617Z"
   },
   {
    "duration": 11,
    "start_time": "2022-08-30T21:57:51.295Z"
   },
   {
    "duration": 11,
    "start_time": "2022-08-30T21:59:08.291Z"
   },
   {
    "duration": 13,
    "start_time": "2022-08-30T21:59:45.671Z"
   },
   {
    "duration": 16,
    "start_time": "2022-08-30T22:00:07.227Z"
   },
   {
    "duration": 13,
    "start_time": "2022-08-30T22:00:37.730Z"
   },
   {
    "duration": 10,
    "start_time": "2022-08-30T22:02:09.649Z"
   },
   {
    "duration": 6,
    "start_time": "2022-08-30T22:04:05.210Z"
   },
   {
    "duration": 4,
    "start_time": "2022-08-30T22:04:20.610Z"
   },
   {
    "duration": 10,
    "start_time": "2022-08-30T22:04:54.332Z"
   },
   {
    "duration": 11,
    "start_time": "2022-08-30T22:05:51.156Z"
   },
   {
    "duration": 14,
    "start_time": "2022-08-30T22:06:16.075Z"
   },
   {
    "duration": 15,
    "start_time": "2022-08-30T22:07:19.638Z"
   },
   {
    "duration": 17,
    "start_time": "2022-08-30T22:07:35.495Z"
   },
   {
    "duration": 1044,
    "start_time": "2022-08-30T22:09:36.396Z"
   },
   {
    "duration": 715,
    "start_time": "2022-08-30T22:11:46.769Z"
   },
   {
    "duration": 15,
    "start_time": "2022-08-30T22:11:55.423Z"
   },
   {
    "duration": 16,
    "start_time": "2022-08-30T22:12:17.016Z"
   },
   {
    "duration": 1116,
    "start_time": "2022-08-30T22:12:59.600Z"
   },
   {
    "duration": 103,
    "start_time": "2022-08-30T22:13:40.553Z"
   },
   {
    "duration": 133,
    "start_time": "2022-08-30T22:16:13.347Z"
   },
   {
    "duration": 138,
    "start_time": "2022-08-30T22:17:11.130Z"
   },
   {
    "duration": 147,
    "start_time": "2022-08-30T22:19:31.338Z"
   },
   {
    "duration": 16,
    "start_time": "2022-08-30T22:20:40.283Z"
   },
   {
    "duration": 141,
    "start_time": "2022-08-30T22:21:20.674Z"
   },
   {
    "duration": 137,
    "start_time": "2022-08-30T22:22:31.355Z"
   },
   {
    "duration": 136,
    "start_time": "2022-08-30T22:22:44.090Z"
   },
   {
    "duration": 220,
    "start_time": "2022-08-30T22:23:08.997Z"
   },
   {
    "duration": 134,
    "start_time": "2022-08-30T22:23:46.715Z"
   },
   {
    "duration": 135,
    "start_time": "2022-08-30T22:25:51.316Z"
   },
   {
    "duration": 140,
    "start_time": "2022-08-30T22:25:59.893Z"
   },
   {
    "duration": 46,
    "start_time": "2022-08-31T13:25:56.953Z"
   },
   {
    "duration": 755,
    "start_time": "2022-08-31T13:26:31.647Z"
   },
   {
    "duration": 215,
    "start_time": "2022-08-31T13:26:32.404Z"
   },
   {
    "duration": 28,
    "start_time": "2022-08-31T13:26:32.621Z"
   },
   {
    "duration": 31,
    "start_time": "2022-08-31T13:26:32.652Z"
   },
   {
    "duration": 19,
    "start_time": "2022-08-31T13:26:32.685Z"
   },
   {
    "duration": 91,
    "start_time": "2022-08-31T13:26:32.715Z"
   },
   {
    "duration": 4,
    "start_time": "2022-08-31T13:26:32.809Z"
   },
   {
    "duration": 72,
    "start_time": "2022-08-31T13:26:32.815Z"
   },
   {
    "duration": 185,
    "start_time": "2022-08-31T13:26:32.888Z"
   },
   {
    "duration": 47,
    "start_time": "2022-08-31T13:26:33.076Z"
   },
   {
    "duration": 21,
    "start_time": "2022-08-31T13:26:33.125Z"
   },
   {
    "duration": 13,
    "start_time": "2022-08-31T13:26:33.147Z"
   },
   {
    "duration": 1172,
    "start_time": "2022-08-31T13:26:33.161Z"
   },
   {
    "duration": 3,
    "start_time": "2022-08-31T13:26:34.335Z"
   },
   {
    "duration": 39,
    "start_time": "2022-08-31T13:26:34.339Z"
   },
   {
    "duration": 32,
    "start_time": "2022-08-31T13:26:34.379Z"
   },
   {
    "duration": 11,
    "start_time": "2022-08-31T13:26:34.413Z"
   },
   {
    "duration": 1129,
    "start_time": "2022-08-31T13:26:34.426Z"
   },
   {
    "duration": 12,
    "start_time": "2022-08-31T13:26:35.557Z"
   },
   {
    "duration": 29,
    "start_time": "2022-08-31T13:26:35.571Z"
   },
   {
    "duration": 11,
    "start_time": "2022-08-31T13:26:35.602Z"
   },
   {
    "duration": 28,
    "start_time": "2022-08-31T13:26:35.615Z"
   },
   {
    "duration": 12,
    "start_time": "2022-08-31T13:26:35.645Z"
   },
   {
    "duration": 2662,
    "start_time": "2022-08-31T13:26:35.659Z"
   },
   {
    "duration": 5,
    "start_time": "2022-08-31T13:26:38.323Z"
   },
   {
    "duration": 6,
    "start_time": "2022-08-31T13:26:38.329Z"
   },
   {
    "duration": 14,
    "start_time": "2022-08-31T13:26:38.336Z"
   },
   {
    "duration": 12,
    "start_time": "2022-08-31T13:26:38.353Z"
   },
   {
    "duration": 53,
    "start_time": "2022-08-31T13:26:38.366Z"
   },
   {
    "duration": 19,
    "start_time": "2022-08-31T13:26:38.420Z"
   },
   {
    "duration": 28,
    "start_time": "2022-08-31T13:26:38.440Z"
   },
   {
    "duration": 9,
    "start_time": "2022-08-31T13:26:38.470Z"
   },
   {
    "duration": 38,
    "start_time": "2022-08-31T13:26:38.481Z"
   },
   {
    "duration": 14,
    "start_time": "2022-08-31T13:26:38.521Z"
   },
   {
    "duration": 13,
    "start_time": "2022-08-31T13:26:38.536Z"
   },
   {
    "duration": 6,
    "start_time": "2022-08-31T13:26:38.550Z"
   },
   {
    "duration": 838,
    "start_time": "2022-08-31T13:26:38.557Z"
   },
   {
    "duration": 54,
    "start_time": "2022-08-31T13:26:39.397Z"
   },
   {
    "duration": 16,
    "start_time": "2022-08-31T13:26:39.453Z"
   },
   {
    "duration": 22,
    "start_time": "2022-08-31T13:26:39.471Z"
   },
   {
    "duration": 29,
    "start_time": "2022-08-31T13:26:39.494Z"
   },
   {
    "duration": 1088,
    "start_time": "2022-08-31T13:26:39.524Z"
   },
   {
    "duration": 224,
    "start_time": "2022-08-31T13:26:40.613Z"
   },
   {
    "duration": 8,
    "start_time": "2022-08-31T13:26:40.838Z"
   },
   {
    "duration": 8,
    "start_time": "2022-08-31T13:26:40.848Z"
   },
   {
    "duration": 10,
    "start_time": "2022-08-31T13:26:40.857Z"
   },
   {
    "duration": 44,
    "start_time": "2022-08-31T13:26:40.868Z"
   },
   {
    "duration": 1052,
    "start_time": "2022-08-31T13:26:40.914Z"
   },
   {
    "duration": 8,
    "start_time": "2022-08-31T13:26:41.967Z"
   },
   {
    "duration": 129,
    "start_time": "2022-08-31T13:26:41.976Z"
   },
   {
    "duration": 688,
    "start_time": "2022-08-31T13:26:42.111Z"
   },
   {
    "duration": 17,
    "start_time": "2022-08-31T13:26:42.801Z"
   },
   {
    "duration": 25,
    "start_time": "2022-08-31T13:26:42.820Z"
   },
   {
    "duration": 16,
    "start_time": "2022-08-31T13:26:42.847Z"
   },
   {
    "duration": 18,
    "start_time": "2022-08-31T13:26:42.864Z"
   },
   {
    "duration": 39,
    "start_time": "2022-08-31T13:39:02.790Z"
   },
   {
    "duration": 153,
    "start_time": "2022-08-31T13:39:51.302Z"
   },
   {
    "duration": 233,
    "start_time": "2022-08-31T15:36:30.703Z"
   },
   {
    "duration": 1082,
    "start_time": "2022-08-31T15:37:00.155Z"
   },
   {
    "duration": 1124,
    "start_time": "2022-08-31T15:40:20.066Z"
   },
   {
    "duration": 1682,
    "start_time": "2022-08-31T15:41:00.172Z"
   },
   {
    "duration": 1181,
    "start_time": "2022-08-31T15:57:01.434Z"
   },
   {
    "duration": 1709,
    "start_time": "2022-08-31T15:57:55.452Z"
   },
   {
    "duration": 163,
    "start_time": "2022-08-31T18:05:18.579Z"
   },
   {
    "duration": 164,
    "start_time": "2022-08-31T18:05:59.527Z"
   },
   {
    "duration": 291,
    "start_time": "2022-08-31T18:13:29.995Z"
   },
   {
    "duration": 743,
    "start_time": "2022-08-31T18:54:26.916Z"
   },
   {
    "duration": 4,
    "start_time": "2022-08-31T18:55:07.351Z"
   },
   {
    "duration": 775,
    "start_time": "2022-08-31T18:55:23.079Z"
   },
   {
    "duration": 13,
    "start_time": "2022-08-31T18:55:51.135Z"
   },
   {
    "duration": 120,
    "start_time": "2022-08-31T18:56:29.124Z"
   },
   {
    "duration": 98,
    "start_time": "2022-08-31T18:56:43.127Z"
   },
   {
    "duration": 603,
    "start_time": "2022-08-31T18:59:15.524Z"
   },
   {
    "duration": 364,
    "start_time": "2022-08-31T19:03:48.123Z"
   },
   {
    "duration": 308,
    "start_time": "2022-08-31T19:05:33.164Z"
   },
   {
    "duration": 292,
    "start_time": "2022-08-31T19:06:16.933Z"
   },
   {
    "duration": 302,
    "start_time": "2022-08-31T19:06:59.270Z"
   },
   {
    "duration": 87,
    "start_time": "2022-08-31T19:11:02.642Z"
   },
   {
    "duration": 127,
    "start_time": "2022-08-31T19:11:11.732Z"
   },
   {
    "duration": 98,
    "start_time": "2022-08-31T19:14:35.351Z"
   },
   {
    "duration": 116,
    "start_time": "2022-08-31T19:14:50.265Z"
   },
   {
    "duration": 134,
    "start_time": "2022-08-31T19:15:43.379Z"
   },
   {
    "duration": 9,
    "start_time": "2022-08-31T19:18:38.192Z"
   },
   {
    "duration": 9,
    "start_time": "2022-08-31T19:19:31.709Z"
   },
   {
    "duration": 7,
    "start_time": "2022-08-31T19:20:10.718Z"
   },
   {
    "duration": 8,
    "start_time": "2022-08-31T19:21:03.125Z"
   },
   {
    "duration": 7,
    "start_time": "2022-08-31T19:21:33.133Z"
   },
   {
    "duration": 19,
    "start_time": "2022-08-31T19:21:47.312Z"
   },
   {
    "duration": 9,
    "start_time": "2022-08-31T19:22:29.419Z"
   },
   {
    "duration": 16,
    "start_time": "2022-08-31T19:22:48.043Z"
   },
   {
    "duration": 16,
    "start_time": "2022-08-31T19:23:49.595Z"
   },
   {
    "duration": 1173,
    "start_time": "2022-08-31T19:26:32.125Z"
   },
   {
    "duration": 18,
    "start_time": "2022-08-31T19:26:57.773Z"
   },
   {
    "duration": 9,
    "start_time": "2022-08-31T19:27:16.957Z"
   },
   {
    "duration": 11,
    "start_time": "2022-08-31T19:28:55.321Z"
   },
   {
    "duration": 188,
    "start_time": "2022-08-31T19:29:24.192Z"
   },
   {
    "duration": 230,
    "start_time": "2022-08-31T19:29:36.084Z"
   },
   {
    "duration": 7,
    "start_time": "2022-08-31T19:32:08.361Z"
   },
   {
    "duration": 970,
    "start_time": "2022-08-31T19:32:21.761Z"
   },
   {
    "duration": 16,
    "start_time": "2022-08-31T19:32:55.393Z"
   },
   {
    "duration": 22,
    "start_time": "2022-08-31T19:33:10.289Z"
   },
   {
    "duration": 22,
    "start_time": "2022-08-31T19:33:40.216Z"
   },
   {
    "duration": 121,
    "start_time": "2022-08-31T19:33:50.340Z"
   },
   {
    "duration": 134,
    "start_time": "2022-08-31T19:35:03.537Z"
   },
   {
    "duration": 131,
    "start_time": "2022-08-31T19:35:28.081Z"
   },
   {
    "duration": 101,
    "start_time": "2022-08-31T19:42:51.689Z"
   },
   {
    "duration": 115,
    "start_time": "2022-08-31T19:43:03.073Z"
   },
   {
    "duration": 102,
    "start_time": "2022-08-31T20:46:43.255Z"
   },
   {
    "duration": 216,
    "start_time": "2022-08-31T20:47:05.405Z"
   },
   {
    "duration": 497,
    "start_time": "2022-08-31T20:57:30.939Z"
   },
   {
    "duration": 113,
    "start_time": "2022-08-31T20:57:35.248Z"
   },
   {
    "duration": 21,
    "start_time": "2022-08-31T20:57:35.784Z"
   },
   {
    "duration": 20,
    "start_time": "2022-08-31T20:57:36.384Z"
   },
   {
    "duration": 3,
    "start_time": "2022-08-31T20:57:37.363Z"
   },
   {
    "duration": 31,
    "start_time": "2022-08-31T20:57:40.883Z"
   },
   {
    "duration": 4,
    "start_time": "2022-08-31T20:57:41.234Z"
   },
   {
    "duration": 42,
    "start_time": "2022-08-31T20:57:41.807Z"
   },
   {
    "duration": 166,
    "start_time": "2022-08-31T20:57:42.944Z"
   },
   {
    "duration": 33,
    "start_time": "2022-08-31T20:57:43.726Z"
   },
   {
    "duration": 21,
    "start_time": "2022-08-31T20:57:45.378Z"
   },
   {
    "duration": 13,
    "start_time": "2022-08-31T20:57:45.767Z"
   },
   {
    "duration": 1067,
    "start_time": "2022-08-31T20:57:45.931Z"
   },
   {
    "duration": 3,
    "start_time": "2022-08-31T20:57:47.000Z"
   },
   {
    "duration": 41,
    "start_time": "2022-08-31T20:57:47.005Z"
   },
   {
    "duration": 18,
    "start_time": "2022-08-31T20:57:47.483Z"
   },
   {
    "duration": 14,
    "start_time": "2022-08-31T20:57:47.674Z"
   },
   {
    "duration": 1138,
    "start_time": "2022-08-31T20:57:47.840Z"
   },
   {
    "duration": 11,
    "start_time": "2022-08-31T20:57:48.979Z"
   },
   {
    "duration": 23,
    "start_time": "2022-08-31T20:57:48.992Z"
   },
   {
    "duration": 6,
    "start_time": "2022-08-31T20:57:49.016Z"
   },
   {
    "duration": 28,
    "start_time": "2022-08-31T20:57:49.064Z"
   },
   {
    "duration": 14,
    "start_time": "2022-08-31T20:57:49.272Z"
   },
   {
    "duration": 2627,
    "start_time": "2022-08-31T20:57:49.881Z"
   },
   {
    "duration": 7,
    "start_time": "2022-08-31T20:57:52.510Z"
   },
   {
    "duration": 9,
    "start_time": "2022-08-31T20:57:52.519Z"
   },
   {
    "duration": 29,
    "start_time": "2022-08-31T20:57:52.530Z"
   },
   {
    "duration": 22,
    "start_time": "2022-08-31T20:57:52.560Z"
   },
   {
    "duration": 51,
    "start_time": "2022-08-31T20:57:52.583Z"
   },
   {
    "duration": 24,
    "start_time": "2022-08-31T20:57:52.672Z"
   },
   {
    "duration": 29,
    "start_time": "2022-08-31T20:57:53.809Z"
   },
   {
    "duration": 10,
    "start_time": "2022-08-31T20:57:54.442Z"
   },
   {
    "duration": 14,
    "start_time": "2022-08-31T20:57:55.368Z"
   },
   {
    "duration": 16,
    "start_time": "2022-08-31T20:57:55.695Z"
   },
   {
    "duration": 14,
    "start_time": "2022-08-31T20:57:55.921Z"
   },
   {
    "duration": 6,
    "start_time": "2022-08-31T20:57:56.111Z"
   },
   {
    "duration": 761,
    "start_time": "2022-08-31T20:57:56.322Z"
   },
   {
    "duration": 38,
    "start_time": "2022-08-31T20:57:57.087Z"
   },
   {
    "duration": 12,
    "start_time": "2022-08-31T20:57:57.647Z"
   },
   {
    "duration": 16,
    "start_time": "2022-08-31T20:58:16.271Z"
   },
   {
    "duration": 17,
    "start_time": "2022-08-31T20:58:16.683Z"
   },
   {
    "duration": 1623,
    "start_time": "2022-08-31T20:58:36.161Z"
   },
   {
    "duration": 355,
    "start_time": "2022-08-31T21:08:05.860Z"
   },
   {
    "duration": 215,
    "start_time": "2022-08-31T21:09:14.986Z"
   },
   {
    "duration": 219,
    "start_time": "2022-08-31T21:09:32.944Z"
   },
   {
    "duration": 236,
    "start_time": "2022-08-31T21:09:58.309Z"
   },
   {
    "duration": 3,
    "start_time": "2022-08-31T21:11:07.299Z"
   },
   {
    "duration": 123,
    "start_time": "2022-08-31T21:11:07.303Z"
   },
   {
    "duration": 23,
    "start_time": "2022-08-31T21:11:07.428Z"
   },
   {
    "duration": 26,
    "start_time": "2022-08-31T21:11:07.452Z"
   },
   {
    "duration": 6,
    "start_time": "2022-08-31T21:11:07.479Z"
   },
   {
    "duration": 53,
    "start_time": "2022-08-31T21:11:07.486Z"
   },
   {
    "duration": 4,
    "start_time": "2022-08-31T21:11:07.540Z"
   },
   {
    "duration": 51,
    "start_time": "2022-08-31T21:11:07.546Z"
   },
   {
    "duration": 176,
    "start_time": "2022-08-31T21:11:07.611Z"
   },
   {
    "duration": 42,
    "start_time": "2022-08-31T21:11:07.789Z"
   },
   {
    "duration": 20,
    "start_time": "2022-08-31T21:11:07.834Z"
   },
   {
    "duration": 14,
    "start_time": "2022-08-31T21:11:07.855Z"
   },
   {
    "duration": 1164,
    "start_time": "2022-08-31T21:11:07.871Z"
   },
   {
    "duration": 4,
    "start_time": "2022-08-31T21:11:09.036Z"
   },
   {
    "duration": 59,
    "start_time": "2022-08-31T21:11:09.041Z"
   },
   {
    "duration": 19,
    "start_time": "2022-08-31T21:11:09.102Z"
   },
   {
    "duration": 12,
    "start_time": "2022-08-31T21:11:09.123Z"
   },
   {
    "duration": 1156,
    "start_time": "2022-08-31T21:11:09.136Z"
   },
   {
    "duration": 17,
    "start_time": "2022-08-31T21:11:10.294Z"
   },
   {
    "duration": 17,
    "start_time": "2022-08-31T21:11:10.313Z"
   },
   {
    "duration": 6,
    "start_time": "2022-08-31T21:11:10.332Z"
   },
   {
    "duration": 34,
    "start_time": "2022-08-31T21:11:10.339Z"
   },
   {
    "duration": 38,
    "start_time": "2022-08-31T21:11:10.375Z"
   },
   {
    "duration": 2754,
    "start_time": "2022-08-31T21:11:10.415Z"
   },
   {
    "duration": 5,
    "start_time": "2022-08-31T21:11:13.171Z"
   },
   {
    "duration": 5,
    "start_time": "2022-08-31T21:11:13.177Z"
   },
   {
    "duration": 32,
    "start_time": "2022-08-31T21:11:13.183Z"
   },
   {
    "duration": 11,
    "start_time": "2022-08-31T21:11:13.217Z"
   },
   {
    "duration": 29,
    "start_time": "2022-08-31T21:11:13.232Z"
   },
   {
    "duration": 19,
    "start_time": "2022-08-31T21:11:13.262Z"
   },
   {
    "duration": 52,
    "start_time": "2022-08-31T21:11:13.282Z"
   },
   {
    "duration": 9,
    "start_time": "2022-08-31T21:11:13.336Z"
   },
   {
    "duration": 15,
    "start_time": "2022-08-31T21:11:13.347Z"
   },
   {
    "duration": 13,
    "start_time": "2022-08-31T21:11:13.364Z"
   },
   {
    "duration": 34,
    "start_time": "2022-08-31T21:11:13.378Z"
   },
   {
    "duration": 5,
    "start_time": "2022-08-31T21:11:13.413Z"
   },
   {
    "duration": 864,
    "start_time": "2022-08-31T21:11:13.420Z"
   },
   {
    "duration": 36,
    "start_time": "2022-08-31T21:11:14.285Z"
   },
   {
    "duration": 12,
    "start_time": "2022-08-31T21:11:14.322Z"
   },
   {
    "duration": 23,
    "start_time": "2022-08-31T21:11:14.335Z"
   },
   {
    "duration": 16,
    "start_time": "2022-08-31T21:11:14.359Z"
   },
   {
    "duration": 298,
    "start_time": "2022-08-31T21:11:22.399Z"
   },
   {
    "duration": 241,
    "start_time": "2022-08-31T21:12:35.560Z"
   },
   {
    "duration": 306,
    "start_time": "2022-08-31T21:12:57.860Z"
   },
   {
    "duration": 992,
    "start_time": "2022-08-31T21:13:26.083Z"
   },
   {
    "duration": 321,
    "start_time": "2022-08-31T21:14:50.073Z"
   },
   {
    "duration": 221,
    "start_time": "2022-08-31T21:15:13.210Z"
   },
   {
    "duration": 231,
    "start_time": "2022-08-31T21:15:40.192Z"
   },
   {
    "duration": 1027,
    "start_time": "2022-08-31T21:16:06.910Z"
   },
   {
    "duration": 1504,
    "start_time": "2022-08-31T21:16:35.836Z"
   },
   {
    "duration": 1572,
    "start_time": "2022-08-31T21:28:25.260Z"
   },
   {
    "duration": 1002,
    "start_time": "2022-08-31T21:33:34.662Z"
   },
   {
    "duration": 736,
    "start_time": "2022-08-31T21:34:22.114Z"
   },
   {
    "duration": 568,
    "start_time": "2022-08-31T21:34:44.644Z"
   },
   {
    "duration": 675,
    "start_time": "2022-08-31T21:35:57.309Z"
   },
   {
    "duration": 8,
    "start_time": "2022-08-31T21:36:03.025Z"
   },
   {
    "duration": 175,
    "start_time": "2022-08-31T21:42:18.762Z"
   },
   {
    "duration": 41,
    "start_time": "2022-08-31T21:50:42.827Z"
   },
   {
    "duration": 160,
    "start_time": "2022-08-31T21:50:55.035Z"
   },
   {
    "duration": 50,
    "start_time": "2022-08-31T21:51:50.487Z"
   },
   {
    "duration": 35,
    "start_time": "2022-08-31T21:55:37.968Z"
   },
   {
    "duration": 35,
    "start_time": "2022-08-31T21:57:26.105Z"
   },
   {
    "duration": 35,
    "start_time": "2022-08-31T21:57:39.181Z"
   },
   {
    "duration": 36,
    "start_time": "2022-08-31T21:58:09.600Z"
   },
   {
    "duration": 38,
    "start_time": "2022-08-31T21:58:21.942Z"
   },
   {
    "duration": 37,
    "start_time": "2022-08-31T22:00:22.762Z"
   },
   {
    "duration": 8,
    "start_time": "2022-08-31T22:07:39.892Z"
   },
   {
    "duration": 12,
    "start_time": "2022-08-31T22:08:30.937Z"
   },
   {
    "duration": 24,
    "start_time": "2022-08-31T22:11:13.164Z"
   },
   {
    "duration": 11,
    "start_time": "2022-08-31T22:25:12.371Z"
   },
   {
    "duration": 9,
    "start_time": "2022-08-31T22:26:11.983Z"
   },
   {
    "duration": 3,
    "start_time": "2022-08-31T22:26:24.021Z"
   },
   {
    "duration": 118,
    "start_time": "2022-08-31T22:26:24.028Z"
   },
   {
    "duration": 20,
    "start_time": "2022-08-31T22:26:24.147Z"
   },
   {
    "duration": 18,
    "start_time": "2022-08-31T22:26:24.169Z"
   },
   {
    "duration": 4,
    "start_time": "2022-08-31T22:26:24.188Z"
   },
   {
    "duration": 31,
    "start_time": "2022-08-31T22:26:24.210Z"
   },
   {
    "duration": 3,
    "start_time": "2022-08-31T22:26:24.243Z"
   },
   {
    "duration": 50,
    "start_time": "2022-08-31T22:26:24.248Z"
   },
   {
    "duration": 180,
    "start_time": "2022-08-31T22:26:24.299Z"
   },
   {
    "duration": 41,
    "start_time": "2022-08-31T22:26:24.481Z"
   },
   {
    "duration": 19,
    "start_time": "2022-08-31T22:26:24.524Z"
   },
   {
    "duration": 15,
    "start_time": "2022-08-31T22:26:24.545Z"
   },
   {
    "duration": 1108,
    "start_time": "2022-08-31T22:26:24.561Z"
   },
   {
    "duration": 3,
    "start_time": "2022-08-31T22:26:25.670Z"
   },
   {
    "duration": 49,
    "start_time": "2022-08-31T22:26:25.675Z"
   },
   {
    "duration": 19,
    "start_time": "2022-08-31T22:26:25.726Z"
   },
   {
    "duration": 13,
    "start_time": "2022-08-31T22:26:25.747Z"
   },
   {
    "duration": 1127,
    "start_time": "2022-08-31T22:26:25.762Z"
   },
   {
    "duration": 11,
    "start_time": "2022-08-31T22:26:26.891Z"
   },
   {
    "duration": 12,
    "start_time": "2022-08-31T22:26:26.910Z"
   },
   {
    "duration": 5,
    "start_time": "2022-08-31T22:26:26.924Z"
   },
   {
    "duration": 30,
    "start_time": "2022-08-31T22:26:26.930Z"
   },
   {
    "duration": 13,
    "start_time": "2022-08-31T22:26:26.962Z"
   },
   {
    "duration": 2663,
    "start_time": "2022-08-31T22:26:26.977Z"
   },
   {
    "duration": 5,
    "start_time": "2022-08-31T22:26:29.642Z"
   },
   {
    "duration": 16,
    "start_time": "2022-08-31T22:26:29.648Z"
   },
   {
    "duration": 9,
    "start_time": "2022-08-31T22:26:33.206Z"
   },
   {
    "duration": 10,
    "start_time": "2022-08-31T22:27:15.731Z"
   },
   {
    "duration": 8,
    "start_time": "2022-08-31T22:27:33.611Z"
   },
   {
    "duration": 8,
    "start_time": "2022-08-31T22:28:04.079Z"
   },
   {
    "duration": 13,
    "start_time": "2022-08-31T22:28:05.177Z"
   },
   {
    "duration": 33,
    "start_time": "2022-08-31T22:28:15.242Z"
   },
   {
    "duration": 11,
    "start_time": "2022-08-31T22:28:54.362Z"
   },
   {
    "duration": 291,
    "start_time": "2022-08-31T22:28:55.496Z"
   },
   {
    "duration": 24,
    "start_time": "2022-08-31T22:36:06.063Z"
   },
   {
    "duration": 22,
    "start_time": "2022-08-31T22:36:18.461Z"
   },
   {
    "duration": 8,
    "start_time": "2022-08-31T22:37:14.061Z"
   },
   {
    "duration": 24,
    "start_time": "2022-08-31T22:38:24.646Z"
   },
   {
    "duration": 26,
    "start_time": "2022-08-31T22:39:11.367Z"
   },
   {
    "duration": 29,
    "start_time": "2022-08-31T22:40:42.583Z"
   },
   {
    "duration": 26,
    "start_time": "2022-08-31T22:41:16.918Z"
   },
   {
    "duration": 35,
    "start_time": "2022-08-31T22:41:47.138Z"
   },
   {
    "duration": 27,
    "start_time": "2022-08-31T22:42:00.049Z"
   },
   {
    "duration": 26,
    "start_time": "2022-08-31T22:42:27.391Z"
   },
   {
    "duration": 42,
    "start_time": "2022-08-31T22:43:36.505Z"
   },
   {
    "duration": 34,
    "start_time": "2022-08-31T22:44:38.505Z"
   },
   {
    "duration": 12,
    "start_time": "2022-08-31T22:47:22.946Z"
   },
   {
    "duration": 9,
    "start_time": "2022-08-31T22:49:59.636Z"
   },
   {
    "duration": 25,
    "start_time": "2022-08-31T22:50:22.993Z"
   },
   {
    "duration": 27,
    "start_time": "2022-08-31T22:51:05.886Z"
   },
   {
    "duration": 49,
    "start_time": "2022-08-31T22:51:25.797Z"
   },
   {
    "duration": 27,
    "start_time": "2022-08-31T22:51:41.891Z"
   },
   {
    "duration": 52,
    "start_time": "2022-08-31T22:51:57.214Z"
   },
   {
    "duration": 24,
    "start_time": "2022-08-31T22:52:08.523Z"
   },
   {
    "duration": 36,
    "start_time": "2022-08-31T22:59:06.305Z"
   },
   {
    "duration": 57,
    "start_time": "2022-08-31T23:02:48.199Z"
   },
   {
    "duration": 1359,
    "start_time": "2022-08-31T23:03:17.643Z"
   },
   {
    "duration": 911,
    "start_time": "2022-08-31T23:04:05.171Z"
   },
   {
    "duration": 310,
    "start_time": "2022-08-31T23:05:07.551Z"
   },
   {
    "duration": 25,
    "start_time": "2022-08-31T23:05:40.427Z"
   },
   {
    "duration": 1806,
    "start_time": "2022-08-31T23:05:42.268Z"
   },
   {
    "duration": 302,
    "start_time": "2022-08-31T23:06:49.778Z"
   },
   {
    "duration": 9,
    "start_time": "2022-08-31T23:07:07.074Z"
   },
   {
    "duration": 9,
    "start_time": "2022-08-31T23:07:22.276Z"
   },
   {
    "duration": 24,
    "start_time": "2022-08-31T23:07:28.762Z"
   },
   {
    "duration": 294,
    "start_time": "2022-08-31T23:07:30.001Z"
   },
   {
    "duration": 9,
    "start_time": "2022-08-31T23:11:23.580Z"
   },
   {
    "duration": 25,
    "start_time": "2022-08-31T23:11:37.006Z"
   },
   {
    "duration": 411,
    "start_time": "2022-08-31T23:11:43.299Z"
   },
   {
    "duration": 9,
    "start_time": "2022-08-31T23:11:55.629Z"
   },
   {
    "duration": 24,
    "start_time": "2022-08-31T23:12:03.125Z"
   },
   {
    "duration": 11,
    "start_time": "2022-08-31T23:12:26.310Z"
   },
   {
    "duration": 9,
    "start_time": "2022-08-31T23:14:45.943Z"
   },
   {
    "duration": 9,
    "start_time": "2022-08-31T23:15:43.127Z"
   },
   {
    "duration": 25,
    "start_time": "2022-08-31T23:16:05.223Z"
   },
   {
    "duration": 26,
    "start_time": "2022-08-31T23:18:59.250Z"
   },
   {
    "duration": 20,
    "start_time": "2022-08-31T23:19:37.618Z"
   },
   {
    "duration": 20,
    "start_time": "2022-08-31T23:19:45.731Z"
   },
   {
    "duration": 19,
    "start_time": "2022-08-31T23:20:10.952Z"
   },
   {
    "duration": 24,
    "start_time": "2022-08-31T23:20:40.651Z"
   },
   {
    "duration": 19,
    "start_time": "2022-08-31T23:21:17.698Z"
   },
   {
    "duration": 845,
    "start_time": "2022-08-31T23:21:29.715Z"
   },
   {
    "duration": 106,
    "start_time": "2022-08-31T23:23:13.445Z"
   },
   {
    "duration": 21,
    "start_time": "2022-08-31T23:23:18.092Z"
   },
   {
    "duration": 20,
    "start_time": "2022-08-31T23:24:13.699Z"
   },
   {
    "duration": 20,
    "start_time": "2022-08-31T23:24:30.994Z"
   },
   {
    "duration": 25,
    "start_time": "2022-08-31T23:24:51.365Z"
   },
   {
    "duration": 24,
    "start_time": "2022-08-31T23:25:31.171Z"
   },
   {
    "duration": 25,
    "start_time": "2022-08-31T23:26:11.896Z"
   },
   {
    "duration": 25,
    "start_time": "2022-08-31T23:26:27.575Z"
   },
   {
    "duration": 24,
    "start_time": "2022-08-31T23:26:58.430Z"
   },
   {
    "duration": 24,
    "start_time": "2022-08-31T23:27:20.822Z"
   },
   {
    "duration": 25,
    "start_time": "2022-08-31T23:28:06.222Z"
   },
   {
    "duration": 27,
    "start_time": "2022-08-31T23:28:13.966Z"
   },
   {
    "duration": 24,
    "start_time": "2022-08-31T23:28:21.701Z"
   },
   {
    "duration": 24,
    "start_time": "2022-08-31T23:28:47.270Z"
   },
   {
    "duration": 24,
    "start_time": "2022-08-31T23:29:29.369Z"
   },
   {
    "duration": 24,
    "start_time": "2022-08-31T23:29:43.578Z"
   },
   {
    "duration": 25,
    "start_time": "2022-08-31T23:30:09.679Z"
   },
   {
    "duration": 29,
    "start_time": "2022-08-31T23:31:17.130Z"
   },
   {
    "duration": 24,
    "start_time": "2022-08-31T23:31:54.344Z"
   },
   {
    "duration": 25,
    "start_time": "2022-08-31T23:32:52.311Z"
   },
   {
    "duration": 19,
    "start_time": "2022-08-31T23:33:12.873Z"
   },
   {
    "duration": 20,
    "start_time": "2022-08-31T23:33:27.073Z"
   },
   {
    "duration": 19,
    "start_time": "2022-08-31T23:33:44.873Z"
   },
   {
    "duration": 19,
    "start_time": "2022-08-31T23:34:04.985Z"
   },
   {
    "duration": 25,
    "start_time": "2022-08-31T23:34:37.329Z"
   },
   {
    "duration": 25,
    "start_time": "2022-08-31T23:34:53.016Z"
   },
   {
    "duration": 25,
    "start_time": "2022-08-31T23:35:18.331Z"
   },
   {
    "duration": 28,
    "start_time": "2022-08-31T23:35:45.567Z"
   },
   {
    "duration": 28,
    "start_time": "2022-08-31T23:36:13.489Z"
   },
   {
    "duration": 29,
    "start_time": "2022-08-31T23:36:26.367Z"
   },
   {
    "duration": 28,
    "start_time": "2022-08-31T23:36:54.529Z"
   },
   {
    "duration": 27,
    "start_time": "2022-08-31T23:37:02.082Z"
   },
   {
    "duration": 29,
    "start_time": "2022-08-31T23:37:58.372Z"
   },
   {
    "duration": 42,
    "start_time": "2022-08-31T23:38:33.029Z"
   },
   {
    "duration": 48,
    "start_time": "2022-08-31T23:38:43.173Z"
   },
   {
    "duration": 28,
    "start_time": "2022-08-31T23:38:49.007Z"
   },
   {
    "duration": 27,
    "start_time": "2022-08-31T23:39:37.264Z"
   },
   {
    "duration": 29,
    "start_time": "2022-08-31T23:40:05.886Z"
   },
   {
    "duration": 23,
    "start_time": "2022-08-31T23:42:10.756Z"
   },
   {
    "duration": 28,
    "start_time": "2022-08-31T23:42:26.478Z"
   },
   {
    "duration": 28,
    "start_time": "2022-08-31T23:42:59.732Z"
   },
   {
    "duration": 9,
    "start_time": "2022-08-31T23:43:48.674Z"
   },
   {
    "duration": 43,
    "start_time": "2022-08-31T23:46:44.349Z"
   },
   {
    "duration": 210,
    "start_time": "2022-08-31T23:46:50.487Z"
   },
   {
    "duration": 99,
    "start_time": "2022-08-31T23:47:41.887Z"
   },
   {
    "duration": 233,
    "start_time": "2022-08-31T23:54:52.548Z"
   },
   {
    "duration": 108,
    "start_time": "2022-08-31T23:55:07.386Z"
   },
   {
    "duration": 102,
    "start_time": "2022-08-31T23:57:41.099Z"
   },
   {
    "duration": 10,
    "start_time": "2022-08-31T23:58:27.769Z"
   },
   {
    "duration": 10,
    "start_time": "2022-08-31T23:58:48.372Z"
   },
   {
    "duration": 10,
    "start_time": "2022-09-01T00:02:27.838Z"
   },
   {
    "duration": 10,
    "start_time": "2022-09-01T00:02:44.007Z"
   },
   {
    "duration": 10,
    "start_time": "2022-09-01T00:03:10.696Z"
   },
   {
    "duration": 10,
    "start_time": "2022-09-01T00:03:29.375Z"
   },
   {
    "duration": 15,
    "start_time": "2022-09-01T00:04:14.870Z"
   },
   {
    "duration": 298,
    "start_time": "2022-09-01T00:04:36.105Z"
   },
   {
    "duration": 103,
    "start_time": "2022-09-01T00:04:55.273Z"
   },
   {
    "duration": 115,
    "start_time": "2022-09-01T00:06:45.592Z"
   },
   {
    "duration": 88,
    "start_time": "2022-09-01T00:06:58.870Z"
   },
   {
    "duration": 116,
    "start_time": "2022-09-01T00:07:13.784Z"
   },
   {
    "duration": 46,
    "start_time": "2022-09-01T07:46:21.967Z"
   },
   {
    "duration": 1308,
    "start_time": "2022-09-01T07:46:29.932Z"
   },
   {
    "duration": 198,
    "start_time": "2022-09-01T07:46:31.241Z"
   },
   {
    "duration": 33,
    "start_time": "2022-09-01T07:46:31.441Z"
   },
   {
    "duration": 45,
    "start_time": "2022-09-01T07:46:31.476Z"
   },
   {
    "duration": 17,
    "start_time": "2022-09-01T07:46:31.523Z"
   },
   {
    "duration": 50,
    "start_time": "2022-09-01T07:46:31.542Z"
   },
   {
    "duration": 4,
    "start_time": "2022-09-01T07:46:31.595Z"
   },
   {
    "duration": 62,
    "start_time": "2022-09-01T07:46:31.601Z"
   },
   {
    "duration": 185,
    "start_time": "2022-09-01T07:46:31.665Z"
   },
   {
    "duration": 39,
    "start_time": "2022-09-01T07:46:31.852Z"
   },
   {
    "duration": 37,
    "start_time": "2022-09-01T07:46:31.892Z"
   },
   {
    "duration": 33,
    "start_time": "2022-09-01T07:46:31.930Z"
   },
   {
    "duration": 1119,
    "start_time": "2022-09-01T07:46:31.965Z"
   },
   {
    "duration": 4,
    "start_time": "2022-09-01T07:46:33.085Z"
   },
   {
    "duration": 135,
    "start_time": "2022-09-01T07:46:33.091Z"
   },
   {
    "duration": 20,
    "start_time": "2022-09-01T07:46:33.228Z"
   },
   {
    "duration": 30,
    "start_time": "2022-09-01T07:46:33.250Z"
   },
   {
    "duration": 1107,
    "start_time": "2022-09-01T07:46:33.281Z"
   },
   {
    "duration": 20,
    "start_time": "2022-09-01T07:46:34.389Z"
   },
   {
    "duration": 15,
    "start_time": "2022-09-01T07:46:34.410Z"
   },
   {
    "duration": 6,
    "start_time": "2022-09-01T07:46:34.426Z"
   },
   {
    "duration": 32,
    "start_time": "2022-09-01T07:46:34.434Z"
   },
   {
    "duration": 43,
    "start_time": "2022-09-01T07:46:34.468Z"
   },
   {
    "duration": 3181,
    "start_time": "2022-09-01T07:46:34.513Z"
   },
   {
    "duration": 6,
    "start_time": "2022-09-01T07:46:37.696Z"
   },
   {
    "duration": 8,
    "start_time": "2022-09-01T07:46:37.710Z"
   },
   {
    "duration": 18,
    "start_time": "2022-09-01T07:46:37.720Z"
   },
   {
    "duration": 27,
    "start_time": "2022-09-01T07:46:37.742Z"
   },
   {
    "duration": 43,
    "start_time": "2022-09-01T07:46:37.771Z"
   },
   {
    "duration": 20,
    "start_time": "2022-09-01T07:46:37.816Z"
   },
   {
    "duration": 34,
    "start_time": "2022-09-01T07:46:37.838Z"
   },
   {
    "duration": 11,
    "start_time": "2022-09-01T07:46:37.873Z"
   },
   {
    "duration": 17,
    "start_time": "2022-09-01T07:46:37.909Z"
   },
   {
    "duration": 16,
    "start_time": "2022-09-01T07:46:37.927Z"
   },
   {
    "duration": 12,
    "start_time": "2022-09-01T07:46:37.945Z"
   },
   {
    "duration": 5,
    "start_time": "2022-09-01T07:46:37.959Z"
   },
   {
    "duration": 744,
    "start_time": "2022-09-01T07:46:37.966Z"
   },
   {
    "duration": 35,
    "start_time": "2022-09-01T07:46:38.711Z"
   },
   {
    "duration": 13,
    "start_time": "2022-09-01T07:46:38.748Z"
   },
   {
    "duration": 25,
    "start_time": "2022-09-01T07:46:38.762Z"
   },
   {
    "duration": 34,
    "start_time": "2022-09-01T07:46:38.788Z"
   },
   {
    "duration": 1201,
    "start_time": "2022-09-01T07:46:38.824Z"
   },
   {
    "duration": 8,
    "start_time": "2022-09-01T07:46:40.027Z"
   },
   {
    "duration": 14,
    "start_time": "2022-09-01T07:46:40.036Z"
   },
   {
    "duration": 8,
    "start_time": "2022-09-01T07:46:40.052Z"
   },
   {
    "duration": 48,
    "start_time": "2022-09-01T07:46:40.062Z"
   },
   {
    "duration": 725,
    "start_time": "2022-09-01T07:46:40.112Z"
   },
   {
    "duration": 9,
    "start_time": "2022-09-01T07:46:40.838Z"
   },
   {
    "duration": 622,
    "start_time": "2022-09-01T07:46:40.848Z"
   },
   {
    "duration": 11,
    "start_time": "2022-09-01T07:46:41.472Z"
   },
   {
    "duration": 34,
    "start_time": "2022-09-01T07:46:41.484Z"
   },
   {
    "duration": 15,
    "start_time": "2022-09-01T07:46:41.519Z"
   },
   {
    "duration": 23,
    "start_time": "2022-09-01T07:46:41.536Z"
   },
   {
    "duration": 32,
    "start_time": "2022-09-01T07:46:41.560Z"
   },
   {
    "duration": 487,
    "start_time": "2022-09-01T07:46:47.523Z"
   },
   {
    "duration": 409,
    "start_time": "2022-09-01T07:48:02.654Z"
   },
   {
    "duration": 65,
    "start_time": "2022-09-01T07:52:11.050Z"
   },
   {
    "duration": 14,
    "start_time": "2022-09-01T07:58:51.597Z"
   },
   {
    "duration": 47,
    "start_time": "2022-09-01T07:59:47.383Z"
   },
   {
    "duration": 12,
    "start_time": "2022-09-01T08:01:52.252Z"
   },
   {
    "duration": 11,
    "start_time": "2022-09-01T08:02:49.902Z"
   },
   {
    "duration": 12,
    "start_time": "2022-09-01T08:03:30.292Z"
   },
   {
    "duration": 41,
    "start_time": "2022-09-01T08:14:59.448Z"
   },
   {
    "duration": 66,
    "start_time": "2022-09-01T08:16:02.691Z"
   },
   {
    "duration": 63,
    "start_time": "2022-09-01T08:18:07.155Z"
   },
   {
    "duration": 62,
    "start_time": "2022-09-01T08:19:41.651Z"
   },
   {
    "duration": 410,
    "start_time": "2022-09-01T08:20:24.699Z"
   },
   {
    "duration": 9,
    "start_time": "2022-09-01T08:21:09.539Z"
   },
   {
    "duration": 50,
    "start_time": "2022-09-01T08:26:22.033Z"
   },
   {
    "duration": 62,
    "start_time": "2022-09-01T08:26:34.781Z"
   },
   {
    "duration": 59,
    "start_time": "2022-09-01T08:27:06.854Z"
   },
   {
    "duration": 14,
    "start_time": "2022-09-01T08:27:10.374Z"
   },
   {
    "duration": 400,
    "start_time": "2022-09-01T08:27:35.014Z"
   },
   {
    "duration": 1601,
    "start_time": "2022-09-01T08:27:50.878Z"
   },
   {
    "duration": 834,
    "start_time": "2022-09-01T08:44:02.230Z"
   },
   {
    "duration": 757,
    "start_time": "2022-09-01T08:44:43.132Z"
   },
   {
    "duration": 3,
    "start_time": "2022-09-01T08:45:11.553Z"
   },
   {
    "duration": 151,
    "start_time": "2022-09-01T08:45:11.558Z"
   },
   {
    "duration": 27,
    "start_time": "2022-09-01T08:45:11.711Z"
   },
   {
    "duration": 24,
    "start_time": "2022-09-01T08:45:11.740Z"
   },
   {
    "duration": 11,
    "start_time": "2022-09-01T08:45:11.766Z"
   },
   {
    "duration": 58,
    "start_time": "2022-09-01T08:45:11.779Z"
   },
   {
    "duration": 4,
    "start_time": "2022-09-01T08:45:11.839Z"
   },
   {
    "duration": 47,
    "start_time": "2022-09-01T08:45:11.844Z"
   },
   {
    "duration": 201,
    "start_time": "2022-09-01T08:45:11.908Z"
   },
   {
    "duration": 42,
    "start_time": "2022-09-01T08:45:12.110Z"
   },
   {
    "duration": 23,
    "start_time": "2022-09-01T08:45:12.155Z"
   },
   {
    "duration": 38,
    "start_time": "2022-09-01T08:45:12.180Z"
   },
   {
    "duration": 1104,
    "start_time": "2022-09-01T08:45:12.220Z"
   },
   {
    "duration": 4,
    "start_time": "2022-09-01T08:45:13.326Z"
   },
   {
    "duration": 63,
    "start_time": "2022-09-01T08:45:13.331Z"
   },
   {
    "duration": 25,
    "start_time": "2022-09-01T08:45:13.396Z"
   },
   {
    "duration": 13,
    "start_time": "2022-09-01T08:45:13.423Z"
   },
   {
    "duration": 1172,
    "start_time": "2022-09-01T08:45:13.438Z"
   },
   {
    "duration": 13,
    "start_time": "2022-09-01T08:45:14.611Z"
   },
   {
    "duration": 15,
    "start_time": "2022-09-01T08:45:14.626Z"
   },
   {
    "duration": 6,
    "start_time": "2022-09-01T08:45:14.643Z"
   },
   {
    "duration": 35,
    "start_time": "2022-09-01T08:45:14.650Z"
   },
   {
    "duration": 15,
    "start_time": "2022-09-01T08:45:14.710Z"
   },
   {
    "duration": 3473,
    "start_time": "2022-09-01T08:45:14.726Z"
   },
   {
    "duration": 9,
    "start_time": "2022-09-01T08:45:18.201Z"
   },
   {
    "duration": 14,
    "start_time": "2022-09-01T08:45:18.212Z"
   },
   {
    "duration": 10,
    "start_time": "2022-09-01T08:45:22.060Z"
   },
   {
    "duration": 9,
    "start_time": "2022-09-01T08:46:00.246Z"
   },
   {
    "duration": 5,
    "start_time": "2022-09-01T08:54:25.633Z"
   },
   {
    "duration": 5,
    "start_time": "2022-09-01T08:57:06.810Z"
   },
   {
    "duration": 7,
    "start_time": "2022-09-01T08:57:26.251Z"
   },
   {
    "duration": 524,
    "start_time": "2022-09-01T09:04:14.848Z"
   },
   {
    "duration": 9,
    "start_time": "2022-09-01T09:04:50.057Z"
   },
   {
    "duration": 1830,
    "start_time": "2022-09-01T09:05:06.326Z"
   },
   {
    "duration": 2140,
    "start_time": "2022-09-01T09:05:31.975Z"
   },
   {
    "duration": 247,
    "start_time": "2022-09-01T09:07:16.478Z"
   },
   {
    "duration": 269,
    "start_time": "2022-09-01T09:08:04.001Z"
   },
   {
    "duration": 234,
    "start_time": "2022-09-01T09:09:06.138Z"
   },
   {
    "duration": 286,
    "start_time": "2022-09-01T09:09:43.762Z"
   },
   {
    "duration": 209,
    "start_time": "2022-09-01T09:13:51.325Z"
   },
   {
    "duration": 260,
    "start_time": "2022-09-01T09:14:25.553Z"
   },
   {
    "duration": 270,
    "start_time": "2022-09-01T09:15:16.666Z"
   },
   {
    "duration": 8,
    "start_time": "2022-09-01T09:15:58.666Z"
   },
   {
    "duration": 206,
    "start_time": "2022-09-01T09:16:01.922Z"
   },
   {
    "duration": 294,
    "start_time": "2022-09-01T09:17:06.989Z"
   },
   {
    "duration": 16,
    "start_time": "2022-09-01T09:20:19.230Z"
   },
   {
    "duration": 15,
    "start_time": "2022-09-01T09:21:43.917Z"
   },
   {
    "duration": 4,
    "start_time": "2022-09-01T09:24:21.918Z"
   },
   {
    "duration": 10,
    "start_time": "2022-09-01T09:26:55.176Z"
   },
   {
    "duration": 5,
    "start_time": "2022-09-01T09:27:29.480Z"
   },
   {
    "duration": 253,
    "start_time": "2022-09-01T09:29:06.503Z"
   },
   {
    "duration": 220,
    "start_time": "2022-09-01T09:31:44.778Z"
   },
   {
    "duration": 632,
    "start_time": "2022-09-01T09:33:25.075Z"
   },
   {
    "duration": 1016,
    "start_time": "2022-09-01T09:34:12.891Z"
   },
   {
    "duration": 3,
    "start_time": "2022-09-01T09:37:55.164Z"
   },
   {
    "duration": 5,
    "start_time": "2022-09-01T09:38:01.285Z"
   },
   {
    "duration": 318,
    "start_time": "2022-09-01T09:38:42.357Z"
   },
   {
    "duration": 352,
    "start_time": "2022-09-01T09:39:04.748Z"
   },
   {
    "duration": 25,
    "start_time": "2022-09-01T09:39:10.643Z"
   },
   {
    "duration": 3,
    "start_time": "2022-09-01T09:39:41.593Z"
   },
   {
    "duration": 146,
    "start_time": "2022-09-01T09:39:41.597Z"
   },
   {
    "duration": 24,
    "start_time": "2022-09-01T09:39:41.745Z"
   },
   {
    "duration": 45,
    "start_time": "2022-09-01T09:39:41.771Z"
   },
   {
    "duration": 6,
    "start_time": "2022-09-01T09:39:41.818Z"
   },
   {
    "duration": 39,
    "start_time": "2022-09-01T09:39:41.825Z"
   },
   {
    "duration": 4,
    "start_time": "2022-09-01T09:39:41.866Z"
   },
   {
    "duration": 71,
    "start_time": "2022-09-01T09:39:41.871Z"
   },
   {
    "duration": 204,
    "start_time": "2022-09-01T09:39:41.944Z"
   },
   {
    "duration": 39,
    "start_time": "2022-09-01T09:39:42.150Z"
   },
   {
    "duration": 34,
    "start_time": "2022-09-01T09:39:42.192Z"
   },
   {
    "duration": 13,
    "start_time": "2022-09-01T09:39:42.228Z"
   },
   {
    "duration": 1074,
    "start_time": "2022-09-01T09:39:42.242Z"
   },
   {
    "duration": 4,
    "start_time": "2022-09-01T09:39:43.318Z"
   },
   {
    "duration": 53,
    "start_time": "2022-09-01T09:39:43.324Z"
   },
   {
    "duration": 34,
    "start_time": "2022-09-01T09:39:43.378Z"
   },
   {
    "duration": 13,
    "start_time": "2022-09-01T09:39:43.414Z"
   },
   {
    "duration": 1143,
    "start_time": "2022-09-01T09:39:43.428Z"
   },
   {
    "duration": 13,
    "start_time": "2022-09-01T09:39:44.573Z"
   },
   {
    "duration": 27,
    "start_time": "2022-09-01T09:39:44.587Z"
   },
   {
    "duration": 7,
    "start_time": "2022-09-01T09:39:44.615Z"
   },
   {
    "duration": 40,
    "start_time": "2022-09-01T09:39:44.623Z"
   },
   {
    "duration": 16,
    "start_time": "2022-09-01T09:39:44.665Z"
   },
   {
    "duration": 3526,
    "start_time": "2022-09-01T09:39:44.682Z"
   },
   {
    "duration": 6,
    "start_time": "2022-09-01T09:39:48.209Z"
   },
   {
    "duration": 17,
    "start_time": "2022-09-01T09:39:48.217Z"
   },
   {
    "duration": 15,
    "start_time": "2022-09-01T09:39:48.235Z"
   },
   {
    "duration": 17,
    "start_time": "2022-09-01T09:39:48.251Z"
   },
   {
    "duration": 45,
    "start_time": "2022-09-01T09:39:48.272Z"
   },
   {
    "duration": 7,
    "start_time": "2022-09-01T09:39:48.319Z"
   },
   {
    "duration": 10,
    "start_time": "2022-09-01T09:39:48.327Z"
   },
   {
    "duration": 12,
    "start_time": "2022-09-01T09:39:48.338Z"
   },
   {
    "duration": 343,
    "start_time": "2022-09-01T09:39:48.352Z"
   },
   {
    "duration": 27,
    "start_time": "2022-09-01T09:39:48.696Z"
   },
   {
    "duration": 34,
    "start_time": "2022-09-01T09:39:48.725Z"
   },
   {
    "duration": 11,
    "start_time": "2022-09-01T09:39:48.761Z"
   },
   {
    "duration": 40,
    "start_time": "2022-09-01T09:39:48.774Z"
   },
   {
    "duration": 17,
    "start_time": "2022-09-01T09:39:48.816Z"
   },
   {
    "duration": 16,
    "start_time": "2022-09-01T09:39:48.834Z"
   },
   {
    "duration": 6,
    "start_time": "2022-09-01T09:39:48.852Z"
   },
   {
    "duration": 790,
    "start_time": "2022-09-01T09:39:48.859Z"
   },
   {
    "duration": 47,
    "start_time": "2022-09-01T09:39:49.651Z"
   },
   {
    "duration": 23,
    "start_time": "2022-09-01T09:39:49.699Z"
   },
   {
    "duration": 35,
    "start_time": "2022-09-01T09:39:49.724Z"
   },
   {
    "duration": 20,
    "start_time": "2022-09-01T09:39:49.761Z"
   },
   {
    "duration": 1743,
    "start_time": "2022-09-01T09:39:49.782Z"
   },
   {
    "duration": 8,
    "start_time": "2022-09-01T09:39:51.527Z"
   },
   {
    "duration": 7,
    "start_time": "2022-09-01T09:39:51.537Z"
   },
   {
    "duration": 12,
    "start_time": "2022-09-01T09:39:51.545Z"
   },
   {
    "duration": 46,
    "start_time": "2022-09-01T09:39:51.559Z"
   },
   {
    "duration": 803,
    "start_time": "2022-09-01T09:39:51.607Z"
   },
   {
    "duration": 9,
    "start_time": "2022-09-01T09:39:52.412Z"
   },
   {
    "duration": 702,
    "start_time": "2022-09-01T09:39:52.422Z"
   },
   {
    "duration": 11,
    "start_time": "2022-09-01T09:39:53.126Z"
   },
   {
    "duration": 25,
    "start_time": "2022-09-01T09:39:53.139Z"
   },
   {
    "duration": 17,
    "start_time": "2022-09-01T09:39:53.166Z"
   },
   {
    "duration": 40,
    "start_time": "2022-09-01T09:39:53.185Z"
   },
   {
    "duration": 81,
    "start_time": "2022-09-01T09:39:53.227Z"
   },
   {
    "duration": 15,
    "start_time": "2022-09-01T09:39:53.310Z"
   },
   {
    "duration": 66,
    "start_time": "2022-09-01T09:41:29.216Z"
   },
   {
    "duration": 63,
    "start_time": "2022-09-01T09:42:22.546Z"
   },
   {
    "duration": 16,
    "start_time": "2022-09-01T09:42:40.781Z"
   },
   {
    "duration": 18,
    "start_time": "2022-09-01T09:43:08.724Z"
   },
   {
    "duration": 1962,
    "start_time": "2022-09-01T09:43:12.273Z"
   },
   {
    "duration": 17,
    "start_time": "2022-09-01T09:45:47.171Z"
   },
   {
    "duration": 15,
    "start_time": "2022-09-01T09:45:57.079Z"
   },
   {
    "duration": 2164,
    "start_time": "2022-09-01T09:46:36.773Z"
   },
   {
    "duration": 1935,
    "start_time": "2022-09-01T09:46:47.552Z"
   },
   {
    "duration": 49,
    "start_time": "2022-09-01T11:41:56.192Z"
   },
   {
    "duration": 1276,
    "start_time": "2022-09-01T11:42:08.802Z"
   },
   {
    "duration": 186,
    "start_time": "2022-09-01T11:42:10.080Z"
   },
   {
    "duration": 27,
    "start_time": "2022-09-01T11:42:10.269Z"
   },
   {
    "duration": 21,
    "start_time": "2022-09-01T11:42:10.299Z"
   },
   {
    "duration": 17,
    "start_time": "2022-09-01T11:42:10.322Z"
   },
   {
    "duration": 37,
    "start_time": "2022-09-01T11:42:10.340Z"
   },
   {
    "duration": 4,
    "start_time": "2022-09-01T11:42:10.378Z"
   },
   {
    "duration": 71,
    "start_time": "2022-09-01T11:42:10.383Z"
   },
   {
    "duration": 194,
    "start_time": "2022-09-01T11:42:10.456Z"
   },
   {
    "duration": 40,
    "start_time": "2022-09-01T11:42:10.652Z"
   },
   {
    "duration": 45,
    "start_time": "2022-09-01T11:42:10.694Z"
   },
   {
    "duration": 15,
    "start_time": "2022-09-01T11:42:10.740Z"
   },
   {
    "duration": 1114,
    "start_time": "2022-09-01T11:42:10.756Z"
   },
   {
    "duration": 4,
    "start_time": "2022-09-01T11:42:11.871Z"
   },
   {
    "duration": 48,
    "start_time": "2022-09-01T11:42:11.877Z"
   },
   {
    "duration": 23,
    "start_time": "2022-09-01T11:42:11.939Z"
   },
   {
    "duration": 13,
    "start_time": "2022-09-01T11:42:11.963Z"
   },
   {
    "duration": 1139,
    "start_time": "2022-09-01T11:42:11.979Z"
   },
   {
    "duration": 19,
    "start_time": "2022-09-01T11:42:13.120Z"
   },
   {
    "duration": 18,
    "start_time": "2022-09-01T11:42:13.141Z"
   },
   {
    "duration": 6,
    "start_time": "2022-09-01T11:42:13.161Z"
   },
   {
    "duration": 32,
    "start_time": "2022-09-01T11:42:13.169Z"
   },
   {
    "duration": 43,
    "start_time": "2022-09-01T11:42:13.202Z"
   },
   {
    "duration": 3486,
    "start_time": "2022-09-01T11:42:13.247Z"
   },
   {
    "duration": 7,
    "start_time": "2022-09-01T11:42:16.737Z"
   },
   {
    "duration": 9,
    "start_time": "2022-09-01T11:42:16.746Z"
   },
   {
    "duration": 11,
    "start_time": "2022-09-01T11:42:16.756Z"
   },
   {
    "duration": 19,
    "start_time": "2022-09-01T11:42:16.770Z"
   },
   {
    "duration": 69,
    "start_time": "2022-09-01T11:42:16.791Z"
   },
   {
    "duration": 8,
    "start_time": "2022-09-01T11:42:16.862Z"
   },
   {
    "duration": 6,
    "start_time": "2022-09-01T11:42:16.872Z"
   },
   {
    "duration": 10,
    "start_time": "2022-09-01T11:42:16.880Z"
   },
   {
    "duration": 383,
    "start_time": "2022-09-01T11:42:16.891Z"
   },
   {
    "duration": 25,
    "start_time": "2022-09-01T11:42:17.275Z"
   },
   {
    "duration": 57,
    "start_time": "2022-09-01T11:42:17.302Z"
   },
   {
    "duration": 13,
    "start_time": "2022-09-01T11:42:17.360Z"
   },
   {
    "duration": 22,
    "start_time": "2022-09-01T11:42:17.375Z"
   },
   {
    "duration": 19,
    "start_time": "2022-09-01T11:42:17.398Z"
   },
   {
    "duration": 35,
    "start_time": "2022-09-01T11:42:17.418Z"
   },
   {
    "duration": 6,
    "start_time": "2022-09-01T11:42:17.454Z"
   },
   {
    "duration": 801,
    "start_time": "2022-09-01T11:42:17.461Z"
   },
   {
    "duration": 36,
    "start_time": "2022-09-01T11:42:18.264Z"
   },
   {
    "duration": 13,
    "start_time": "2022-09-01T11:42:18.301Z"
   },
   {
    "duration": 39,
    "start_time": "2022-09-01T11:42:18.316Z"
   },
   {
    "duration": 18,
    "start_time": "2022-09-01T11:42:18.356Z"
   },
   {
    "duration": 1855,
    "start_time": "2022-09-01T11:42:18.376Z"
   },
   {
    "duration": 11,
    "start_time": "2022-09-01T11:42:20.233Z"
   },
   {
    "duration": 32,
    "start_time": "2022-09-01T11:42:20.247Z"
   },
   {
    "duration": 27,
    "start_time": "2022-09-01T11:42:20.281Z"
   },
   {
    "duration": 29,
    "start_time": "2022-09-01T11:42:20.310Z"
   },
   {
    "duration": 749,
    "start_time": "2022-09-01T11:42:20.341Z"
   },
   {
    "duration": 8,
    "start_time": "2022-09-01T11:42:21.092Z"
   },
   {
    "duration": 779,
    "start_time": "2022-09-01T11:42:21.102Z"
   },
   {
    "duration": 13,
    "start_time": "2022-09-01T11:42:21.883Z"
   },
   {
    "duration": 34,
    "start_time": "2022-09-01T11:42:21.898Z"
   },
   {
    "duration": 18,
    "start_time": "2022-09-01T11:42:21.939Z"
   },
   {
    "duration": 42,
    "start_time": "2022-09-01T11:42:21.958Z"
   },
   {
    "duration": 84,
    "start_time": "2022-09-01T11:42:22.002Z"
   },
   {
    "duration": 25,
    "start_time": "2022-09-01T11:42:22.088Z"
   },
   {
    "duration": 2048,
    "start_time": "2022-09-01T11:42:22.116Z"
   },
   {
    "duration": 79,
    "start_time": "2022-09-01T11:42:34.614Z"
   },
   {
    "duration": 8,
    "start_time": "2022-09-01T11:44:33.447Z"
   },
   {
    "duration": 18,
    "start_time": "2022-09-01T11:45:30.001Z"
   },
   {
    "duration": 18,
    "start_time": "2022-09-01T11:46:39.719Z"
   },
   {
    "duration": 1063,
    "start_time": "2022-09-01T11:48:32.746Z"
   },
   {
    "duration": 2102,
    "start_time": "2022-09-01T11:49:04.516Z"
   },
   {
    "duration": 9,
    "start_time": "2022-09-01T11:49:38.748Z"
   },
   {
    "duration": 16,
    "start_time": "2022-09-01T11:50:22.882Z"
   },
   {
    "duration": 18,
    "start_time": "2022-09-01T11:51:04.352Z"
   },
   {
    "duration": 18,
    "start_time": "2022-09-01T11:51:57.464Z"
   },
   {
    "duration": 18,
    "start_time": "2022-09-01T11:52:20.312Z"
   },
   {
    "duration": 9,
    "start_time": "2022-09-01T11:52:48.520Z"
   },
   {
    "duration": 10,
    "start_time": "2022-09-01T11:53:03.462Z"
   },
   {
    "duration": 10,
    "start_time": "2022-09-01T11:53:09.442Z"
   },
   {
    "duration": 19,
    "start_time": "2022-09-01T11:53:39.038Z"
   },
   {
    "duration": 1986,
    "start_time": "2022-09-01T11:59:18.245Z"
   },
   {
    "duration": 1970,
    "start_time": "2022-09-01T11:59:51.467Z"
   },
   {
    "duration": 1853,
    "start_time": "2022-09-01T12:01:25.054Z"
   },
   {
    "duration": 1378,
    "start_time": "2022-09-02T16:57:05.372Z"
   },
   {
    "duration": 190,
    "start_time": "2022-09-02T16:57:06.752Z"
   },
   {
    "duration": 25,
    "start_time": "2022-09-02T16:57:06.944Z"
   },
   {
    "duration": 22,
    "start_time": "2022-09-02T16:57:06.971Z"
   },
   {
    "duration": 8,
    "start_time": "2022-09-02T16:57:06.995Z"
   },
   {
    "duration": 39,
    "start_time": "2022-09-02T16:57:07.005Z"
   },
   {
    "duration": 4,
    "start_time": "2022-09-02T16:57:07.045Z"
   },
   {
    "duration": 72,
    "start_time": "2022-09-02T16:57:07.050Z"
   },
   {
    "duration": 184,
    "start_time": "2022-09-02T16:57:07.124Z"
   },
   {
    "duration": 39,
    "start_time": "2022-09-02T16:57:07.312Z"
   },
   {
    "duration": 25,
    "start_time": "2022-09-02T16:57:07.353Z"
   },
   {
    "duration": 17,
    "start_time": "2022-09-02T16:57:07.403Z"
   },
   {
    "duration": 1252,
    "start_time": "2022-09-02T16:57:07.422Z"
   },
   {
    "duration": 4,
    "start_time": "2022-09-02T16:57:08.676Z"
   },
   {
    "duration": 55,
    "start_time": "2022-09-02T16:57:08.682Z"
   },
   {
    "duration": 22,
    "start_time": "2022-09-02T16:57:08.739Z"
   },
   {
    "duration": 14,
    "start_time": "2022-09-02T16:57:08.763Z"
   },
   {
    "duration": 1269,
    "start_time": "2022-09-02T16:57:08.804Z"
   },
   {
    "duration": 15,
    "start_time": "2022-09-02T16:57:10.075Z"
   },
   {
    "duration": 16,
    "start_time": "2022-09-02T16:57:10.102Z"
   },
   {
    "duration": 7,
    "start_time": "2022-09-02T16:57:10.120Z"
   },
   {
    "duration": 37,
    "start_time": "2022-09-02T16:57:10.128Z"
   },
   {
    "duration": 47,
    "start_time": "2022-09-02T16:57:10.167Z"
   },
   {
    "duration": 3664,
    "start_time": "2022-09-02T16:57:10.216Z"
   },
   {
    "duration": 5,
    "start_time": "2022-09-02T16:57:13.882Z"
   },
   {
    "duration": 30,
    "start_time": "2022-09-02T16:57:13.889Z"
   },
   {
    "duration": 10,
    "start_time": "2022-09-02T16:57:13.921Z"
   },
   {
    "duration": 27,
    "start_time": "2022-09-02T16:57:13.935Z"
   },
   {
    "duration": 44,
    "start_time": "2022-09-02T16:57:13.964Z"
   },
   {
    "duration": 8,
    "start_time": "2022-09-02T16:57:14.010Z"
   },
   {
    "duration": 8,
    "start_time": "2022-09-02T16:57:14.020Z"
   },
   {
    "duration": 12,
    "start_time": "2022-09-02T16:57:14.030Z"
   },
   {
    "duration": 382,
    "start_time": "2022-09-02T16:57:14.044Z"
   },
   {
    "duration": 24,
    "start_time": "2022-09-02T16:57:14.428Z"
   },
   {
    "duration": 57,
    "start_time": "2022-09-02T16:57:14.454Z"
   },
   {
    "duration": 13,
    "start_time": "2022-09-02T16:57:14.513Z"
   },
   {
    "duration": 26,
    "start_time": "2022-09-02T16:57:14.528Z"
   },
   {
    "duration": 19,
    "start_time": "2022-09-02T16:57:14.556Z"
   },
   {
    "duration": 35,
    "start_time": "2022-09-02T16:57:14.576Z"
   },
   {
    "duration": 7,
    "start_time": "2022-09-02T16:57:14.612Z"
   },
   {
    "duration": 807,
    "start_time": "2022-09-02T16:57:14.620Z"
   },
   {
    "duration": 43,
    "start_time": "2022-09-02T16:57:15.429Z"
   },
   {
    "duration": 31,
    "start_time": "2022-09-02T16:57:15.474Z"
   },
   {
    "duration": 24,
    "start_time": "2022-09-02T16:57:15.506Z"
   },
   {
    "duration": 19,
    "start_time": "2022-09-02T16:57:15.532Z"
   },
   {
    "duration": 1674,
    "start_time": "2022-09-02T16:57:15.553Z"
   },
   {
    "duration": 8,
    "start_time": "2022-09-02T16:57:17.230Z"
   },
   {
    "duration": 8,
    "start_time": "2022-09-02T16:57:17.240Z"
   },
   {
    "duration": 9,
    "start_time": "2022-09-02T16:57:17.250Z"
   },
   {
    "duration": 61,
    "start_time": "2022-09-02T16:57:17.261Z"
   },
   {
    "duration": 799,
    "start_time": "2022-09-02T16:57:17.324Z"
   },
   {
    "duration": 9,
    "start_time": "2022-09-02T16:57:18.125Z"
   },
   {
    "duration": 891,
    "start_time": "2022-09-02T16:57:18.136Z"
   },
   {
    "duration": 16,
    "start_time": "2022-09-02T16:57:19.029Z"
   },
   {
    "duration": 53,
    "start_time": "2022-09-02T16:57:19.047Z"
   },
   {
    "duration": 24,
    "start_time": "2022-09-02T16:57:19.104Z"
   },
   {
    "duration": 35,
    "start_time": "2022-09-02T16:57:19.130Z"
   },
   {
    "duration": 92,
    "start_time": "2022-09-02T16:57:19.167Z"
   },
   {
    "duration": 19,
    "start_time": "2022-09-02T16:57:19.261Z"
   },
   {
    "duration": 2172,
    "start_time": "2022-09-02T16:57:19.282Z"
   },
   {
    "duration": 22,
    "start_time": "2022-09-02T16:57:21.456Z"
   },
   {
    "duration": 2025,
    "start_time": "2022-09-02T16:57:21.480Z"
   },
   {
    "duration": 11,
    "start_time": "2022-09-02T17:40:02.938Z"
   },
   {
    "duration": 20,
    "start_time": "2022-09-02T17:40:11.642Z"
   },
   {
    "duration": 48,
    "start_time": "2022-09-04T15:34:18.059Z"
   },
   {
    "duration": 1220,
    "start_time": "2022-09-04T15:34:31.555Z"
   },
   {
    "duration": 173,
    "start_time": "2022-09-04T15:34:32.777Z"
   },
   {
    "duration": 22,
    "start_time": "2022-09-04T15:34:32.951Z"
   },
   {
    "duration": 20,
    "start_time": "2022-09-04T15:34:32.975Z"
   },
   {
    "duration": 6,
    "start_time": "2022-09-04T15:34:32.996Z"
   },
   {
    "duration": 40,
    "start_time": "2022-09-04T15:34:33.003Z"
   },
   {
    "duration": 4,
    "start_time": "2022-09-04T15:34:33.045Z"
   },
   {
    "duration": 60,
    "start_time": "2022-09-04T15:34:33.050Z"
   },
   {
    "duration": 172,
    "start_time": "2022-09-04T15:34:33.112Z"
   },
   {
    "duration": 42,
    "start_time": "2022-09-04T15:34:33.286Z"
   },
   {
    "duration": 20,
    "start_time": "2022-09-04T15:34:33.330Z"
   },
   {
    "duration": 14,
    "start_time": "2022-09-04T15:34:33.352Z"
   },
   {
    "duration": 1165,
    "start_time": "2022-09-04T15:34:33.367Z"
   },
   {
    "duration": 4,
    "start_time": "2022-09-04T15:34:34.534Z"
   },
   {
    "duration": 60,
    "start_time": "2022-09-04T15:34:34.539Z"
   },
   {
    "duration": 19,
    "start_time": "2022-09-04T15:34:34.601Z"
   },
   {
    "duration": 13,
    "start_time": "2022-09-04T15:34:34.621Z"
   },
   {
    "duration": 1184,
    "start_time": "2022-09-04T15:34:34.636Z"
   },
   {
    "duration": 12,
    "start_time": "2022-09-04T15:34:35.822Z"
   },
   {
    "duration": 14,
    "start_time": "2022-09-04T15:34:35.835Z"
   },
   {
    "duration": 6,
    "start_time": "2022-09-04T15:34:35.850Z"
   },
   {
    "duration": 61,
    "start_time": "2022-09-04T15:34:35.857Z"
   },
   {
    "duration": 14,
    "start_time": "2022-09-04T15:34:35.920Z"
   },
   {
    "duration": 2689,
    "start_time": "2022-09-04T15:34:35.935Z"
   },
   {
    "duration": 5,
    "start_time": "2022-09-04T15:34:38.625Z"
   },
   {
    "duration": 8,
    "start_time": "2022-09-04T15:34:38.631Z"
   },
   {
    "duration": 13,
    "start_time": "2022-09-04T15:34:38.641Z"
   },
   {
    "duration": 12,
    "start_time": "2022-09-04T15:34:38.657Z"
   },
   {
    "duration": 53,
    "start_time": "2022-09-04T15:34:38.670Z"
   },
   {
    "duration": 8,
    "start_time": "2022-09-04T15:34:38.725Z"
   },
   {
    "duration": 4,
    "start_time": "2022-09-04T15:34:38.735Z"
   },
   {
    "duration": 6,
    "start_time": "2022-09-04T15:34:38.740Z"
   },
   {
    "duration": 377,
    "start_time": "2022-09-04T15:34:38.748Z"
   },
   {
    "duration": 21,
    "start_time": "2022-09-04T15:34:39.127Z"
   },
   {
    "duration": 48,
    "start_time": "2022-09-04T15:34:39.150Z"
   },
   {
    "duration": 11,
    "start_time": "2022-09-04T15:34:39.200Z"
   },
   {
    "duration": 18,
    "start_time": "2022-09-04T15:34:39.212Z"
   },
   {
    "duration": 16,
    "start_time": "2022-09-04T15:34:39.231Z"
   },
   {
    "duration": 21,
    "start_time": "2022-09-04T15:34:39.249Z"
   },
   {
    "duration": 28,
    "start_time": "2022-09-04T15:34:39.272Z"
   },
   {
    "duration": 793,
    "start_time": "2022-09-04T15:34:39.301Z"
   },
   {
    "duration": 35,
    "start_time": "2022-09-04T15:34:40.097Z"
   },
   {
    "duration": 12,
    "start_time": "2022-09-04T15:34:40.134Z"
   },
   {
    "duration": 20,
    "start_time": "2022-09-04T15:34:40.148Z"
   },
   {
    "duration": 42,
    "start_time": "2022-09-04T15:34:40.169Z"
   },
   {
    "duration": 1351,
    "start_time": "2022-09-04T15:34:40.213Z"
   },
   {
    "duration": 7,
    "start_time": "2022-09-04T15:34:41.565Z"
   },
   {
    "duration": 6,
    "start_time": "2022-09-04T15:34:41.574Z"
   },
   {
    "duration": 21,
    "start_time": "2022-09-04T15:34:41.581Z"
   },
   {
    "duration": 22,
    "start_time": "2022-09-04T15:34:41.604Z"
   },
   {
    "duration": 646,
    "start_time": "2022-09-04T15:34:41.627Z"
   },
   {
    "duration": 8,
    "start_time": "2022-09-04T15:34:42.275Z"
   },
   {
    "duration": 641,
    "start_time": "2022-09-04T15:34:42.285Z"
   },
   {
    "duration": 11,
    "start_time": "2022-09-04T15:34:42.928Z"
   },
   {
    "duration": 22,
    "start_time": "2022-09-04T15:34:42.941Z"
   },
   {
    "duration": 34,
    "start_time": "2022-09-04T15:34:42.965Z"
   },
   {
    "duration": 16,
    "start_time": "2022-09-04T15:34:43.001Z"
   },
   {
    "duration": 79,
    "start_time": "2022-09-04T15:34:47.400Z"
   },
   {
    "duration": 16,
    "start_time": "2022-09-04T15:35:13.794Z"
   },
   {
    "duration": 15,
    "start_time": "2022-09-04T15:35:47.336Z"
   },
   {
    "duration": 81,
    "start_time": "2022-09-04T15:40:39.685Z"
   },
   {
    "duration": 17,
    "start_time": "2022-09-04T15:40:48.396Z"
   },
   {
    "duration": 88,
    "start_time": "2022-09-04T15:41:34.411Z"
   },
   {
    "duration": 18,
    "start_time": "2022-09-04T15:41:50.797Z"
   },
   {
    "duration": 1777,
    "start_time": "2022-09-04T15:43:19.946Z"
   },
   {
    "duration": 20,
    "start_time": "2022-09-04T15:43:32.003Z"
   },
   {
    "duration": 1701,
    "start_time": "2022-09-04T15:43:40.353Z"
   },
   {
    "duration": 65,
    "start_time": "2022-09-04T15:45:18.188Z"
   },
   {
    "duration": 8,
    "start_time": "2022-09-04T15:45:32.255Z"
   },
   {
    "duration": 8,
    "start_time": "2022-09-04T15:45:41.583Z"
   },
   {
    "duration": 4,
    "start_time": "2022-09-04T15:46:08.565Z"
   },
   {
    "duration": 56,
    "start_time": "2022-09-04T16:05:34.634Z"
   },
   {
    "duration": 12,
    "start_time": "2022-09-04T16:05:46.351Z"
   },
   {
    "duration": 133,
    "start_time": "2022-09-04T16:07:56.557Z"
   },
   {
    "duration": 135,
    "start_time": "2022-09-04T16:09:02.201Z"
   },
   {
    "duration": 244,
    "start_time": "2022-09-04T16:09:21.191Z"
   },
   {
    "duration": 32,
    "start_time": "2022-09-04T16:13:02.433Z"
   },
   {
    "duration": 121,
    "start_time": "2022-09-04T16:13:27.849Z"
   },
   {
    "duration": 221,
    "start_time": "2022-09-04T16:15:15.889Z"
   },
   {
    "duration": 218,
    "start_time": "2022-09-04T16:16:11.872Z"
   },
   {
    "duration": 209,
    "start_time": "2022-09-04T16:18:38.873Z"
   },
   {
    "duration": 219,
    "start_time": "2022-09-04T16:18:56.699Z"
   },
   {
    "duration": 221,
    "start_time": "2022-09-04T16:20:42.388Z"
   },
   {
    "duration": 44,
    "start_time": "2022-09-04T16:32:38.974Z"
   },
   {
    "duration": 10,
    "start_time": "2022-09-04T16:40:26.842Z"
   },
   {
    "duration": 133610,
    "start_time": "2022-09-04T16:43:06.516Z"
   },
   {
    "duration": 870,
    "start_time": "2022-09-04T16:46:18.309Z"
   },
   {
    "duration": 588,
    "start_time": "2022-09-04T16:47:00.573Z"
   },
   {
    "duration": 218524,
    "start_time": "2022-09-04T17:01:37.946Z"
   },
   {
    "duration": 22,
    "start_time": "2022-09-04T17:07:04.469Z"
   },
   {
    "duration": 213571,
    "start_time": "2022-09-04T17:07:08.952Z"
   },
   {
    "duration": 760,
    "start_time": "2022-09-04T17:17:35.681Z"
   },
   {
    "duration": 4,
    "start_time": "2022-09-04T17:18:07.191Z"
   },
   {
    "duration": 65,
    "start_time": "2022-09-04T17:30:29.981Z"
   },
   {
    "duration": 46,
    "start_time": "2022-09-04T17:30:34.184Z"
   },
   {
    "duration": 65,
    "start_time": "2022-09-04T17:37:00.698Z"
   },
   {
    "duration": 629,
    "start_time": "2022-09-04T17:37:33.189Z"
   },
   {
    "duration": 3,
    "start_time": "2022-09-04T17:39:25.957Z"
   },
   {
    "duration": 117,
    "start_time": "2022-09-04T17:39:25.962Z"
   },
   {
    "duration": 45,
    "start_time": "2022-09-04T17:39:26.080Z"
   },
   {
    "duration": 20,
    "start_time": "2022-09-04T17:39:26.127Z"
   },
   {
    "duration": 5,
    "start_time": "2022-09-04T17:39:26.149Z"
   },
   {
    "duration": 56,
    "start_time": "2022-09-04T17:39:26.155Z"
   },
   {
    "duration": 3,
    "start_time": "2022-09-04T17:39:26.213Z"
   },
   {
    "duration": 54,
    "start_time": "2022-09-04T17:39:26.217Z"
   },
   {
    "duration": 189,
    "start_time": "2022-09-04T17:39:26.273Z"
   },
   {
    "duration": 47,
    "start_time": "2022-09-04T17:39:26.463Z"
   },
   {
    "duration": 21,
    "start_time": "2022-09-04T17:39:26.513Z"
   },
   {
    "duration": 13,
    "start_time": "2022-09-04T17:39:26.535Z"
   },
   {
    "duration": 1184,
    "start_time": "2022-09-04T17:39:26.550Z"
   },
   {
    "duration": 3,
    "start_time": "2022-09-04T17:39:27.736Z"
   },
   {
    "duration": 39,
    "start_time": "2022-09-04T17:39:27.741Z"
   },
   {
    "duration": 30,
    "start_time": "2022-09-04T17:39:27.781Z"
   },
   {
    "duration": 14,
    "start_time": "2022-09-04T17:39:27.815Z"
   },
   {
    "duration": 1219,
    "start_time": "2022-09-04T17:39:27.830Z"
   },
   {
    "duration": 11,
    "start_time": "2022-09-04T17:39:29.051Z"
   },
   {
    "duration": 13,
    "start_time": "2022-09-04T17:39:29.063Z"
   },
   {
    "duration": 32,
    "start_time": "2022-09-04T17:39:29.077Z"
   },
   {
    "duration": 32,
    "start_time": "2022-09-04T17:39:29.110Z"
   },
   {
    "duration": 16,
    "start_time": "2022-09-04T17:39:29.143Z"
   },
   {
    "duration": 2952,
    "start_time": "2022-09-04T17:39:29.161Z"
   },
   {
    "duration": 7,
    "start_time": "2022-09-04T17:39:32.114Z"
   },
   {
    "duration": 6,
    "start_time": "2022-09-04T17:39:32.123Z"
   },
   {
    "duration": 11,
    "start_time": "2022-09-04T17:39:32.131Z"
   },
   {
    "duration": 22,
    "start_time": "2022-09-04T17:39:32.143Z"
   },
   {
    "duration": 52,
    "start_time": "2022-09-04T17:39:32.169Z"
   },
   {
    "duration": 7,
    "start_time": "2022-09-04T17:39:32.222Z"
   },
   {
    "duration": 3,
    "start_time": "2022-09-04T17:39:32.231Z"
   },
   {
    "duration": 12,
    "start_time": "2022-09-04T17:39:32.235Z"
   },
   {
    "duration": 394,
    "start_time": "2022-09-04T17:39:32.248Z"
   },
   {
    "duration": 20,
    "start_time": "2022-09-04T17:39:32.644Z"
   },
   {
    "duration": 55,
    "start_time": "2022-09-04T17:39:32.666Z"
   },
   {
    "duration": 11,
    "start_time": "2022-09-04T17:39:32.723Z"
   },
   {
    "duration": 19,
    "start_time": "2022-09-04T17:39:32.735Z"
   },
   {
    "duration": 15,
    "start_time": "2022-09-04T17:39:32.755Z"
   },
   {
    "duration": 41,
    "start_time": "2022-09-04T17:39:32.771Z"
   },
   {
    "duration": 6,
    "start_time": "2022-09-04T17:39:32.814Z"
   },
   {
    "duration": 800,
    "start_time": "2022-09-04T17:39:32.821Z"
   },
   {
    "duration": 34,
    "start_time": "2022-09-04T17:39:33.622Z"
   },
   {
    "duration": 12,
    "start_time": "2022-09-04T17:39:33.657Z"
   },
   {
    "duration": 50,
    "start_time": "2022-09-04T17:39:33.671Z"
   },
   {
    "duration": 19,
    "start_time": "2022-09-04T17:39:33.722Z"
   },
   {
    "duration": 1393,
    "start_time": "2022-09-04T17:39:33.742Z"
   },
   {
    "duration": 7,
    "start_time": "2022-09-04T17:39:35.137Z"
   },
   {
    "duration": 23,
    "start_time": "2022-09-04T17:39:35.146Z"
   },
   {
    "duration": 53,
    "start_time": "2022-09-04T17:39:35.171Z"
   },
   {
    "duration": 26,
    "start_time": "2022-09-04T17:39:35.225Z"
   },
   {
    "duration": 592,
    "start_time": "2022-09-04T17:39:35.253Z"
   },
   {
    "duration": 8,
    "start_time": "2022-09-04T17:39:35.847Z"
   },
   {
    "duration": 621,
    "start_time": "2022-09-04T17:39:35.857Z"
   },
   {
    "duration": 28,
    "start_time": "2022-09-04T17:39:36.480Z"
   },
   {
    "duration": 22,
    "start_time": "2022-09-04T17:39:36.510Z"
   },
   {
    "duration": 16,
    "start_time": "2022-09-04T17:39:36.534Z"
   },
   {
    "duration": 23,
    "start_time": "2022-09-04T17:39:36.552Z"
   },
   {
    "duration": 77,
    "start_time": "2022-09-04T17:39:36.576Z"
   },
   {
    "duration": 14,
    "start_time": "2022-09-04T17:39:36.655Z"
   },
   {
    "duration": 1757,
    "start_time": "2022-09-04T17:39:36.671Z"
   },
   {
    "duration": 18,
    "start_time": "2022-09-04T17:39:38.429Z"
   },
   {
    "duration": 1632,
    "start_time": "2022-09-04T17:39:38.448Z"
   },
   {
    "duration": 814,
    "start_time": "2022-09-04T17:40:19.469Z"
   },
   {
    "duration": 6,
    "start_time": "2022-09-04T17:42:16.957Z"
   },
   {
    "duration": 698,
    "start_time": "2022-09-04T17:47:44.000Z"
   },
   {
    "duration": 12,
    "start_time": "2022-09-04T18:08:44.211Z"
   },
   {
    "duration": 6688,
    "start_time": "2022-09-04T18:09:08.765Z"
   },
   {
    "duration": 2022,
    "start_time": "2022-09-04T18:10:25.656Z"
   },
   {
    "duration": 2263,
    "start_time": "2022-09-04T18:10:53.270Z"
   },
   {
    "duration": 2417,
    "start_time": "2022-09-04T18:11:30.511Z"
   },
   {
    "duration": 2212,
    "start_time": "2022-09-04T18:13:28.967Z"
   },
   {
    "duration": 1953,
    "start_time": "2022-09-04T18:16:40.689Z"
   },
   {
    "duration": 1744,
    "start_time": "2022-09-04T18:20:24.088Z"
   },
   {
    "duration": 3,
    "start_time": "2022-09-04T18:50:15.003Z"
   },
   {
    "duration": 146,
    "start_time": "2022-09-04T18:50:15.011Z"
   },
   {
    "duration": 25,
    "start_time": "2022-09-04T18:50:15.159Z"
   },
   {
    "duration": 44,
    "start_time": "2022-09-04T18:50:15.185Z"
   },
   {
    "duration": 8,
    "start_time": "2022-09-04T18:50:15.232Z"
   },
   {
    "duration": 46,
    "start_time": "2022-09-04T18:50:15.241Z"
   },
   {
    "duration": 15,
    "start_time": "2022-09-04T18:50:15.289Z"
   },
   {
    "duration": 84,
    "start_time": "2022-09-04T18:50:15.305Z"
   },
   {
    "duration": 178,
    "start_time": "2022-09-04T18:50:15.391Z"
   },
   {
    "duration": 48,
    "start_time": "2022-09-04T18:50:15.571Z"
   },
   {
    "duration": 19,
    "start_time": "2022-09-04T18:50:15.622Z"
   },
   {
    "duration": 13,
    "start_time": "2022-09-04T18:50:15.642Z"
   },
   {
    "duration": 1164,
    "start_time": "2022-09-04T18:50:15.656Z"
   },
   {
    "duration": 3,
    "start_time": "2022-09-04T18:50:16.822Z"
   },
   {
    "duration": 42,
    "start_time": "2022-09-04T18:50:16.827Z"
   },
   {
    "duration": 33,
    "start_time": "2022-09-04T18:50:16.871Z"
   },
   {
    "duration": 15,
    "start_time": "2022-09-04T18:50:16.905Z"
   },
   {
    "duration": 1170,
    "start_time": "2022-09-04T18:50:16.922Z"
   },
   {
    "duration": 17,
    "start_time": "2022-09-04T18:50:18.094Z"
   },
   {
    "duration": 14,
    "start_time": "2022-09-04T18:50:18.113Z"
   },
   {
    "duration": 5,
    "start_time": "2022-09-04T18:50:18.129Z"
   },
   {
    "duration": 30,
    "start_time": "2022-09-04T18:50:18.135Z"
   },
   {
    "duration": 43,
    "start_time": "2022-09-04T18:50:18.166Z"
   },
   {
    "duration": 2807,
    "start_time": "2022-09-04T18:50:18.210Z"
   },
   {
    "duration": 6,
    "start_time": "2022-09-04T18:50:21.019Z"
   },
   {
    "duration": 10,
    "start_time": "2022-09-04T18:50:21.026Z"
   },
   {
    "duration": 13,
    "start_time": "2022-09-04T18:50:21.037Z"
   },
   {
    "duration": 30,
    "start_time": "2022-09-04T18:50:21.051Z"
   },
   {
    "duration": 58,
    "start_time": "2022-09-04T18:50:21.084Z"
   },
   {
    "duration": 8,
    "start_time": "2022-09-04T18:50:21.144Z"
   },
   {
    "duration": 11,
    "start_time": "2022-09-04T18:50:21.153Z"
   },
   {
    "duration": 14,
    "start_time": "2022-09-04T18:50:21.166Z"
   },
   {
    "duration": 428,
    "start_time": "2022-09-04T18:50:21.182Z"
   },
   {
    "duration": 22,
    "start_time": "2022-09-04T18:50:21.612Z"
   },
   {
    "duration": 39,
    "start_time": "2022-09-04T18:50:21.635Z"
   },
   {
    "duration": 41,
    "start_time": "2022-09-04T18:50:21.676Z"
   },
   {
    "duration": 16,
    "start_time": "2022-09-04T18:50:21.718Z"
   },
   {
    "duration": 16,
    "start_time": "2022-09-04T18:50:21.736Z"
   },
   {
    "duration": 14,
    "start_time": "2022-09-04T18:50:21.754Z"
   },
   {
    "duration": 6,
    "start_time": "2022-09-04T18:50:21.770Z"
   },
   {
    "duration": 858,
    "start_time": "2022-09-04T18:50:21.777Z"
   },
   {
    "duration": 32,
    "start_time": "2022-09-04T18:50:22.636Z"
   },
   {
    "duration": 13,
    "start_time": "2022-09-04T18:50:22.670Z"
   },
   {
    "duration": 49,
    "start_time": "2022-09-04T18:50:22.685Z"
   },
   {
    "duration": 19,
    "start_time": "2022-09-04T18:50:22.735Z"
   },
   {
    "duration": 1310,
    "start_time": "2022-09-04T18:50:22.756Z"
   },
   {
    "duration": 7,
    "start_time": "2022-09-04T18:50:24.067Z"
   },
   {
    "duration": 6,
    "start_time": "2022-09-04T18:50:24.075Z"
   },
   {
    "duration": 28,
    "start_time": "2022-09-04T18:50:24.082Z"
   },
   {
    "duration": 26,
    "start_time": "2022-09-04T18:50:24.112Z"
   },
   {
    "duration": 651,
    "start_time": "2022-09-04T18:50:24.139Z"
   },
   {
    "duration": 20,
    "start_time": "2022-09-04T18:50:24.792Z"
   },
   {
    "duration": 5860,
    "start_time": "2022-09-04T18:50:24.814Z"
   },
   {
    "duration": 10,
    "start_time": "2022-09-04T18:50:30.675Z"
   },
   {
    "duration": 51,
    "start_time": "2022-09-04T18:50:30.687Z"
   },
   {
    "duration": 26,
    "start_time": "2022-09-04T18:50:30.739Z"
   },
   {
    "duration": 67,
    "start_time": "2022-09-04T18:50:30.767Z"
   },
   {
    "duration": 106,
    "start_time": "2022-09-04T18:50:30.836Z"
   },
   {
    "duration": 17,
    "start_time": "2022-09-04T18:50:30.943Z"
   },
   {
    "duration": 2105,
    "start_time": "2022-09-04T18:50:30.962Z"
   },
   {
    "duration": 19,
    "start_time": "2022-09-04T18:50:33.069Z"
   },
   {
    "duration": 1668,
    "start_time": "2022-09-04T18:50:33.089Z"
   },
   {
    "duration": 873,
    "start_time": "2022-09-04T18:50:34.759Z"
   },
   {
    "duration": 693,
    "start_time": "2022-09-04T18:50:35.634Z"
   },
   {
    "duration": 1883,
    "start_time": "2022-09-04T18:50:36.329Z"
   },
   {
    "duration": 1020,
    "start_time": "2022-09-05T12:59:20.534Z"
   },
   {
    "duration": 114,
    "start_time": "2022-09-05T12:59:21.555Z"
   },
   {
    "duration": 25,
    "start_time": "2022-09-05T12:59:21.670Z"
   },
   {
    "duration": 20,
    "start_time": "2022-09-05T12:59:21.696Z"
   },
   {
    "duration": 5,
    "start_time": "2022-09-05T12:59:21.717Z"
   },
   {
    "duration": 38,
    "start_time": "2022-09-05T12:59:21.723Z"
   },
   {
    "duration": 3,
    "start_time": "2022-09-05T12:59:21.762Z"
   },
   {
    "duration": 54,
    "start_time": "2022-09-05T12:59:21.766Z"
   },
   {
    "duration": 149,
    "start_time": "2022-09-05T12:59:21.821Z"
   },
   {
    "duration": 39,
    "start_time": "2022-09-05T12:59:21.973Z"
   },
   {
    "duration": 19,
    "start_time": "2022-09-05T12:59:22.013Z"
   },
   {
    "duration": 12,
    "start_time": "2022-09-05T12:59:22.033Z"
   },
   {
    "duration": 1042,
    "start_time": "2022-09-05T12:59:22.047Z"
   },
   {
    "duration": 4,
    "start_time": "2022-09-05T12:59:23.091Z"
   },
   {
    "duration": 38,
    "start_time": "2022-09-05T12:59:23.097Z"
   },
   {
    "duration": 17,
    "start_time": "2022-09-05T12:59:23.137Z"
   },
   {
    "duration": 33,
    "start_time": "2022-09-05T12:59:23.155Z"
   },
   {
    "duration": 1035,
    "start_time": "2022-09-05T12:59:23.189Z"
   },
   {
    "duration": 12,
    "start_time": "2022-09-05T12:59:24.226Z"
   },
   {
    "duration": 15,
    "start_time": "2022-09-05T12:59:24.240Z"
   },
   {
    "duration": 6,
    "start_time": "2022-09-05T12:59:24.257Z"
   },
   {
    "duration": 28,
    "start_time": "2022-09-05T12:59:24.285Z"
   },
   {
    "duration": 11,
    "start_time": "2022-09-05T12:59:24.315Z"
   },
   {
    "duration": 3078,
    "start_time": "2022-09-05T12:59:24.327Z"
   },
   {
    "duration": 6,
    "start_time": "2022-09-05T12:59:27.407Z"
   },
   {
    "duration": 4,
    "start_time": "2022-09-05T12:59:27.414Z"
   },
   {
    "duration": 11,
    "start_time": "2022-09-05T12:59:27.419Z"
   },
   {
    "duration": 14,
    "start_time": "2022-09-05T12:59:27.435Z"
   },
   {
    "duration": 60,
    "start_time": "2022-09-05T12:59:27.450Z"
   },
   {
    "duration": 7,
    "start_time": "2022-09-05T12:59:27.512Z"
   },
   {
    "duration": 6,
    "start_time": "2022-09-05T12:59:27.521Z"
   },
   {
    "duration": 7,
    "start_time": "2022-09-05T12:59:27.528Z"
   },
   {
    "duration": 333,
    "start_time": "2022-09-05T12:59:27.537Z"
   },
   {
    "duration": 26,
    "start_time": "2022-09-05T12:59:27.872Z"
   },
   {
    "duration": 31,
    "start_time": "2022-09-05T12:59:27.899Z"
   },
   {
    "duration": 10,
    "start_time": "2022-09-05T12:59:27.932Z"
   },
   {
    "duration": 18,
    "start_time": "2022-09-05T12:59:27.943Z"
   },
   {
    "duration": 34,
    "start_time": "2022-09-05T12:59:27.963Z"
   },
   {
    "duration": 14,
    "start_time": "2022-09-05T12:59:27.999Z"
   },
   {
    "duration": 9,
    "start_time": "2022-09-05T12:59:28.014Z"
   },
   {
    "duration": 705,
    "start_time": "2022-09-05T12:59:28.024Z"
   },
   {
    "duration": 38,
    "start_time": "2022-09-05T12:59:28.740Z"
   },
   {
    "duration": 16,
    "start_time": "2022-09-05T12:59:28.779Z"
   },
   {
    "duration": 19,
    "start_time": "2022-09-05T12:59:28.797Z"
   },
   {
    "duration": 17,
    "start_time": "2022-09-05T12:59:28.818Z"
   },
   {
    "duration": 1436,
    "start_time": "2022-09-05T12:59:28.837Z"
   },
   {
    "duration": 15,
    "start_time": "2022-09-05T12:59:30.274Z"
   },
   {
    "duration": 19,
    "start_time": "2022-09-05T12:59:30.291Z"
   },
   {
    "duration": 47,
    "start_time": "2022-09-05T12:59:30.311Z"
   },
   {
    "duration": 53,
    "start_time": "2022-09-05T12:59:30.359Z"
   },
   {
    "duration": 714,
    "start_time": "2022-09-05T12:59:30.413Z"
   },
   {
    "duration": 9,
    "start_time": "2022-09-05T12:59:31.128Z"
   },
   {
    "duration": 700,
    "start_time": "2022-09-05T12:59:31.138Z"
   },
   {
    "duration": 11,
    "start_time": "2022-09-05T12:59:31.840Z"
   },
   {
    "duration": 33,
    "start_time": "2022-09-05T12:59:31.853Z"
   },
   {
    "duration": 17,
    "start_time": "2022-09-05T12:59:31.888Z"
   },
   {
    "duration": 22,
    "start_time": "2022-09-05T12:59:31.907Z"
   },
   {
    "duration": 85,
    "start_time": "2022-09-05T12:59:31.931Z"
   },
   {
    "duration": 15,
    "start_time": "2022-09-05T12:59:32.017Z"
   },
   {
    "duration": 1786,
    "start_time": "2022-09-05T12:59:32.033Z"
   },
   {
    "duration": 17,
    "start_time": "2022-09-05T12:59:33.820Z"
   },
   {
    "duration": 1831,
    "start_time": "2022-09-05T12:59:33.839Z"
   },
   {
    "duration": 764,
    "start_time": "2022-09-05T12:59:35.672Z"
   },
   {
    "duration": 666,
    "start_time": "2022-09-05T12:59:36.437Z"
   },
   {
    "duration": 1632,
    "start_time": "2022-09-05T12:59:37.104Z"
   },
   {
    "duration": 1131,
    "start_time": "2022-09-05T14:44:09.929Z"
   },
   {
    "duration": 117,
    "start_time": "2022-09-05T14:44:11.061Z"
   },
   {
    "duration": 21,
    "start_time": "2022-09-05T14:44:11.180Z"
   },
   {
    "duration": 18,
    "start_time": "2022-09-05T14:44:11.203Z"
   },
   {
    "duration": 6,
    "start_time": "2022-09-05T14:44:11.223Z"
   },
   {
    "duration": 32,
    "start_time": "2022-09-05T14:44:11.230Z"
   },
   {
    "duration": 22,
    "start_time": "2022-09-05T14:44:11.264Z"
   },
   {
    "duration": 43,
    "start_time": "2022-09-05T14:44:11.287Z"
   },
   {
    "duration": 162,
    "start_time": "2022-09-05T14:44:11.332Z"
   },
   {
    "duration": 31,
    "start_time": "2022-09-05T14:44:11.497Z"
   },
   {
    "duration": 21,
    "start_time": "2022-09-05T14:44:11.529Z"
   },
   {
    "duration": 35,
    "start_time": "2022-09-05T14:44:11.551Z"
   },
   {
    "duration": 1113,
    "start_time": "2022-09-05T14:44:11.587Z"
   },
   {
    "duration": 3,
    "start_time": "2022-09-05T14:44:12.702Z"
   },
   {
    "duration": 45,
    "start_time": "2022-09-05T14:44:12.706Z"
   },
   {
    "duration": 36,
    "start_time": "2022-09-05T14:44:12.752Z"
   },
   {
    "duration": 16,
    "start_time": "2022-09-05T14:44:12.790Z"
   },
   {
    "duration": 1131,
    "start_time": "2022-09-05T14:44:12.808Z"
   },
   {
    "duration": 13,
    "start_time": "2022-09-05T14:44:13.940Z"
   },
   {
    "duration": 22,
    "start_time": "2022-09-05T14:44:13.954Z"
   },
   {
    "duration": 5,
    "start_time": "2022-09-05T14:44:13.984Z"
   },
   {
    "duration": 45,
    "start_time": "2022-09-05T14:44:13.991Z"
   },
   {
    "duration": 13,
    "start_time": "2022-09-05T14:44:14.037Z"
   },
   {
    "duration": 3376,
    "start_time": "2022-09-05T14:44:14.052Z"
   },
   {
    "duration": 5,
    "start_time": "2022-09-05T14:44:17.430Z"
   },
   {
    "duration": 10,
    "start_time": "2022-09-05T14:44:17.436Z"
   },
   {
    "duration": 17,
    "start_time": "2022-09-05T14:44:17.447Z"
   },
   {
    "duration": 20,
    "start_time": "2022-09-05T14:44:17.468Z"
   },
   {
    "duration": 38,
    "start_time": "2022-09-05T14:44:17.489Z"
   },
   {
    "duration": 9,
    "start_time": "2022-09-05T14:44:17.529Z"
   },
   {
    "duration": 7,
    "start_time": "2022-09-05T14:44:17.540Z"
   },
   {
    "duration": 30,
    "start_time": "2022-09-05T14:44:17.548Z"
   },
   {
    "duration": 353,
    "start_time": "2022-09-05T14:44:17.579Z"
   },
   {
    "duration": 18,
    "start_time": "2022-09-05T14:44:17.934Z"
   },
   {
    "duration": 40,
    "start_time": "2022-09-05T14:44:17.954Z"
   },
   {
    "duration": 11,
    "start_time": "2022-09-05T14:44:17.995Z"
   },
   {
    "duration": 19,
    "start_time": "2022-09-05T14:44:18.007Z"
   },
   {
    "duration": 16,
    "start_time": "2022-09-05T14:44:18.028Z"
   },
   {
    "duration": 14,
    "start_time": "2022-09-05T14:44:18.046Z"
   },
   {
    "duration": 7,
    "start_time": "2022-09-05T14:44:18.084Z"
   },
   {
    "duration": 765,
    "start_time": "2022-09-05T14:44:18.092Z"
   },
   {
    "duration": 39,
    "start_time": "2022-09-05T14:44:18.859Z"
   },
   {
    "duration": 13,
    "start_time": "2022-09-05T14:44:18.900Z"
   },
   {
    "duration": 18,
    "start_time": "2022-09-05T14:44:18.915Z"
   },
   {
    "duration": 17,
    "start_time": "2022-09-05T14:44:18.934Z"
   },
   {
    "duration": 1491,
    "start_time": "2022-09-05T14:44:18.953Z"
   },
   {
    "duration": 7,
    "start_time": "2022-09-05T14:44:20.445Z"
   },
   {
    "duration": 6,
    "start_time": "2022-09-05T14:44:20.454Z"
   },
   {
    "duration": 24,
    "start_time": "2022-09-05T14:44:20.462Z"
   },
   {
    "duration": 24,
    "start_time": "2022-09-05T14:44:20.488Z"
   },
   {
    "duration": 739,
    "start_time": "2022-09-05T14:44:20.513Z"
   },
   {
    "duration": 9,
    "start_time": "2022-09-05T14:44:21.253Z"
   },
   {
    "duration": 697,
    "start_time": "2022-09-05T14:44:21.263Z"
   },
   {
    "duration": 12,
    "start_time": "2022-09-05T14:44:21.962Z"
   },
   {
    "duration": 31,
    "start_time": "2022-09-05T14:44:21.975Z"
   },
   {
    "duration": 16,
    "start_time": "2022-09-05T14:44:22.007Z"
   },
   {
    "duration": 21,
    "start_time": "2022-09-05T14:44:22.025Z"
   },
   {
    "duration": 94,
    "start_time": "2022-09-05T14:44:22.047Z"
   },
   {
    "duration": 18,
    "start_time": "2022-09-05T14:44:22.142Z"
   },
   {
    "duration": 1909,
    "start_time": "2022-09-05T14:44:22.161Z"
   },
   {
    "duration": 24,
    "start_time": "2022-09-05T14:44:24.072Z"
   },
   {
    "duration": 1767,
    "start_time": "2022-09-05T14:44:24.097Z"
   },
   {
    "duration": 816,
    "start_time": "2022-09-05T14:44:25.866Z"
   },
   {
    "duration": 729,
    "start_time": "2022-09-05T14:44:26.684Z"
   },
   {
    "duration": 1622,
    "start_time": "2022-09-05T14:44:27.415Z"
   }
  ],
  "kernelspec": {
   "display_name": "Python 3 (ipykernel)",
   "language": "python",
   "name": "python3"
  },
  "language_info": {
   "codemirror_mode": {
    "name": "ipython",
    "version": 3
   },
   "file_extension": ".py",
   "mimetype": "text/x-python",
   "name": "python",
   "nbconvert_exporter": "python",
   "pygments_lexer": "ipython3",
   "version": "3.9.12"
  },
  "toc": {
   "base_numbering": 1,
   "nav_menu": {},
   "number_sections": true,
   "sideBar": true,
   "skip_h1_title": false,
   "title_cell": "Table of Contents",
   "title_sidebar": "Contents",
   "toc_cell": false,
   "toc_position": {
    "height": "calc(100% - 180px)",
    "left": "10px",
    "top": "150px",
    "width": "184px"
   },
   "toc_section_display": true,
   "toc_window_display": true
  }
 },
 "nbformat": 4,
 "nbformat_minor": 4
}
