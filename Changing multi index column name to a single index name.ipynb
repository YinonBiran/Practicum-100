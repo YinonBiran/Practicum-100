{
 "cells": [
  {
   "cell_type": "markdown",
   "id": "68f9ec00-7414-4b91-be48-7d7f32297af3",
   "metadata": {},
   "source": [
    "# A way to transform a multi index column names to a single index\n",
    "\n",
    "Whan pivot a table, the columns that are creaated are givven the neme of both of the columns from where the values and column index was taken(in the example below (taken from integrated project 1), the primary index is 'platform' and each value for the aggrageted function count(0) is being accessed by a multi-index(ie. the year_of_relese and the game_name).\n",
    "\n",
    "There for each column is given the multi-index name(a tuple with two column key).\n",
    "\n",
    "whent trying to access a value using only one key as a column referance - we will get an error, due to the fact that we do not have a single key column(ie. single-indexed column).Pandas is expecting to get a t least two keys in order to access the right column.\n",
    "\n",
    "There for we will need to transform the multi-index key to a single index key.\n",
    "\n",
    "This code was found in the stackoverflow website.(link below)\n",
    "\n",
    "https://stackoverflow.com/questions/14507794/how-to-flatten-a-hierarchical-index-in-columns/55757002#55757002\n",
    "\n"
   ]
  },
  {
   "cell_type": "markdown",
   "id": "624501db-83cc-4233-8b9e-1ab3ac2b6b0f",
   "metadata": {},
   "source": [
    "## first pivote the table you want"
   ]
  },
  {
   "cell_type": "raw",
   "id": "18c586aa-cb10-4d8c-b617-ff6a6c34091a",
   "metadata": {},
   "source": [
    "## using pivot table to calculate each platform total sale per-year\n",
    "#\n",
    "games_df_total_sales_platform_pivot = pd.pivot_table(games_df ,\n",
    "                                              values=['game_name'],\n",
    "                                                index=['platform'] ,\n",
    "                                              columns = ['year_of_release'],\n",
    "                                              aggfunc='count').fillna(0).reset_index(level='platform', col_level=1)\n"
   ]
  },
  {
   "cell_type": "markdown",
   "id": "936d4851-cd2b-4cf5-bd82-68c5c8774cb6",
   "metadata": {},
   "source": [
    "### the reset_index used in the pivot table -\n",
    "\n",
    "The order in this pivot creation - \n",
    "\n",
    "**.reset_index(level='platform', col_level=1)**\n",
    "\n",
    "Is here to *reset the main index column 'platform'* back to the level with all the other columns.\n",
    "If we will not do that , we will remain with a multi-index columns. that we do not want.\n"
   ]
  },
  {
   "cell_type": "markdown",
   "id": "f0ae2c46-ebde-44b9-bdcb-0f589eda069a",
   "metadata": {
    "jp-MarkdownHeadingCollapsed": true,
    "tags": []
   },
   "source": [
    "## The column names are now multi-index names:\n",
    "\n",
    "**games_df_total_sales_platform_pivot.columns**\n",
    "\n",
    "the resault is:\n",
    "\n",
    "MultiIndex([(         '', 'platform'),\n",
    "            ('game_name',       1980),\n",
    "            ('game_name',       1981),\n",
    "            ('game_name',       1982),\n",
    "            ('game_name',       1983),\n",
    "            ('game_name',       1984),\n",
    "            ('game_name',       1985),\n",
    "            ('game_name',       1986),\n",
    "            ('game_name',       1987),\n",
    "            ('game_name',       1988),\n",
    "            ('game_name',       1989),\n",
    "            ('game_name',       1990),\n",
    "            ('game_name',       1991),\n",
    "            ('game_name',       1992),\n",
    "            ('game_name',       1993),\n",
    "            ('game_name',       1994),\n",
    "            ('game_name',       1995),\n",
    "            ('game_name',       1996),\n",
    "            ('game_name',       1997),\n",
    "            ('game_name',       1998),\n",
    "            ('game_name',       1999),\n",
    "            ('game_name',       2000),\n",
    "            ('game_name',       2001),\n",
    "            ('game_name',       2002),\n",
    "            ('game_name',       2003),\n",
    "            ('game_name',       2004),\n",
    "            ('game_name',       2005),\n",
    "            ('game_name',       2006),\n",
    "            ('game_name',       2007),\n",
    "            ('game_name',       2008),\n",
    "            ('game_name',       2009),\n",
    "            ('game_name',       2010),\n",
    "            ('game_name',       2011),\n",
    "            ('game_name',       2012),\n",
    "            ('game_name',       2013),\n",
    "            ('game_name',       2014),\n",
    "            ('game_name',       2015),\n",
    "            ('game_name',       2016)],\n",
    "           names=[None, 'year_of_release'])\n",
    "           "
   ]
  },
  {
   "cell_type": "markdown",
   "id": "555e3e37-f93b-4312-81a1-438d1e95ab1d",
   "metadata": {},
   "source": [
    "## We nead to transform the column to a list of list\n",
    "\n",
    "We need to take all the list above - that is a multi index , and preparethe new names of all the columns, and save \n",
    "that list to another temp list.\n",
    "\n",
    "since we are using dataframe that is a pivot table we will want to transform the list above by **using the Pandas 'index' function to help us reseting the index names.**(and not the data frame 'games_df_total_sales_platform_pivot' reset_index attribute."
   ]
  },
  {
   "cell_type": "raw",
   "id": "202dd3ca-0c48-4b88-a453-a032bce2f69e",
   "metadata": {},
   "source": [
    "## retrieving the columns names to a veriable \n",
    "#\n",
    "col_lst = games_df_total_sales_platform_pivot.columns\n",
    "\n",
    "## using pd.index to create a new index list for the columns\n",
    "#\n",
    "col_lst_ind = pd.Index([e[1] for e in col_lst.tolist()])\n",
    "\n",
    "#The above code is - looping through the col_lst- the list of multi indexes that we have\n",
    "#and retrieve the name we wanted for the new column index from the multi-index we already have.\n",
    "# if e = ( '', 'platform') - then the new index returned to the col_lst_ind (the new index list) is 'platform'\n",
    "# if e = ('game_name', 1986) - then the new index returned to the col_lst_ind (the new index list) is '1986'\n",
    "# ans so on\n"
   ]
  },
  {
   "cell_type": "markdown",
   "id": "75d051a5-ca16-4a53-8faa-43ff4929ebdf",
   "metadata": {},
   "source": [
    "### the resault of the above code is a new index list\n",
    "\n",
    "Index(['platform',       1980,       1981,       1982,       1983,       1984,\n",
    "             1985,       1986,       1987,       1988,       1989,       1990,\n",
    "             1991,       1992,       1993,       1994,       1995,       1996,\n",
    "             1997,       1998,       1999,       2000,       2001,       2002,\n",
    "             2003,       2004,       2005,       2006,       2007,       2008,\n",
    "             2009,       2010,       2011,       2012,       2013,       2014,\n",
    "             2015,       2016],\n",
    "      dtype='object')\n"
   ]
  },
  {
   "cell_type": "markdown",
   "id": "0440d173-148f-4362-9772-fd5ae9325c9f",
   "metadata": {},
   "source": [
    "## Then we need to apply the new index list to the pivot table \n",
    "\n",
    "This is done by simply assigning it to the column attribute of the dataframe."
   ]
  },
  {
   "cell_type": "raw",
   "id": "1ba38cc2-271c-45fd-ae73-e87fe4d6a9de",
   "metadata": {},
   "source": [
    "## assign the new col_lst_ind idex list to the column attribute of the games_df_total_sales_platform_pivot dataframe\n",
    "#\n",
    "games_df_total_sales_platform_pivot.column = col_lst_ind\n"
   ]
  },
  {
   "cell_type": "markdown",
   "id": "46ff974e-92fb-40c2-9765-352b820caf10",
   "metadata": {},
   "source": [
    "## The final resault \n",
    "\n",
    "Now when we apply the code :\n",
    "\n",
    "**games_df_total_sales_platform_pivot.columns**\n",
    "\n",
    "we get :\n",
    "\n",
    "Index(['platform',       1980,       1981,       1982,       1983,       1984,\n",
    "             1985,       1986,       1987,       1988,       1989,       1990,\n",
    "             1991,       1992,       1993,       1994,       1995,       1996,\n",
    "             1997,       1998,       1999,       2000,       2001,       2002,\n",
    "             2003,       2004,       2005,       2006,       2007,       2008,\n",
    "             2009,       2010,       2011,       2012,       2013,       2014,\n",
    "             2015,       2016],\n",
    "      dtype='object')\n"
   ]
  }
 ],
 "metadata": {
  "kernelspec": {
   "display_name": "Python 3 (ipykernel)",
   "language": "python",
   "name": "python3"
  },
  "language_info": {
   "codemirror_mode": {
    "name": "ipython",
    "version": 3
   },
   "file_extension": ".py",
   "mimetype": "text/x-python",
   "name": "python",
   "nbconvert_exporter": "python",
   "pygments_lexer": "ipython3",
   "version": "3.9.12"
  }
 },
 "nbformat": 4,
 "nbformat_minor": 5
}
